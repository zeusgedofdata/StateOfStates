{
 "cells": [
  {
   "cell_type": "code",
   "execution_count": 28,
   "metadata": {},
   "outputs": [],
   "source": [
    "import pandas as pd\n",
    "from dash import Dash, html, dcc, callback, Output, Input\n",
    "import censusgeocode as cg\n",
    "import plotly.figure_factory as ff\n",
    "from urllib.request import urlopen\n",
    "import json\n",
    "import plotly.express as px\n",
    "import plotly.graph_objects as go\n",
    "import numpy as np\n",
    "from sklearn.linear_model import LinearRegression\n",
    "from Partisian import get_state_part_score\n",
    "from Life import get_age_life_fig, get_state_age_life_exp\n",
    "from sklearn.neighbors import KNeighborsClassifier\n",
    "from plotly.subplots import make_subplots\n",
    "import math\n",
    "from LifeData import LifeData\n",
    "import Partisian\n",
    "from sklearn.linear_model import LinearRegression"
   ]
  },
  {
   "cell_type": "code",
   "execution_count": 2,
   "metadata": {},
   "outputs": [],
   "source": [
    "import base64\n",
    "import gzip"
   ]
  },
  {
   "cell_type": "code",
   "execution_count": null,
   "metadata": {},
   "outputs": [],
   "source": [
    "response_document= \"H4sIANRaXmQAAwMAAAAAAAAAAAA=\\n\"\n",
    "gzip.decompress(base64.b64decode(response_document))"
   ]
  },
  {
   "cell_type": "code",
   "execution_count": null,
   "metadata": {},
   "outputs": [],
   "source": [
    "df = pd.read_csv(r'./data/Life/LifeExp/StateLifeExp2020CDC.csv')\n",
    "fig = go.Figure(data=go.Choropleth(\n",
    "    locations = df[\"STATE\"],\n",
    "    z = df[\"RATE\"],\n",
    "    locationmode = 'USA-states',\n",
    "    colorscale='Inferno',\n",
    "    colorbar_title=\"Life Expectancy\"    \n",
    "))\n",
    "fig.update_layout(\n",
    "    title_text =\"2020 Life Expectancy - State Wide\",\n",
    "    geo_scope='usa',\n",
    ")"
   ]
  },
  {
   "cell_type": "code",
   "execution_count": null,
   "metadata": {},
   "outputs": [],
   "source": [
    "df"
   ]
  },
  {
   "cell_type": "code",
   "execution_count": null,
   "metadata": {},
   "outputs": [],
   "source": []
  },
  {
   "cell_type": "code",
   "execution_count": null,
   "metadata": {},
   "outputs": [],
   "source": []
  },
  {
   "cell_type": "code",
   "execution_count": null,
   "metadata": {},
   "outputs": [],
   "source": []
  },
  {
   "cell_type": "code",
   "execution_count": null,
   "metadata": {},
   "outputs": [],
   "source": [
    "df = pd.read_csv(r'./data/Life/US_A.CSV')\n",
    "df[\"Tract ID\"] = df[\"Tract ID\"].astype(str)\n",
    "df[\"FIPS\"] = df[\"Tract ID\"].str[:-6].str.zfill(5)\n",
    "with urlopen('https://raw.githubusercontent.com/plotly/datasets/master/geojson-counties-fips.json') as response:\n",
    "    counties = json.load(response)"
   ]
  },
  {
   "cell_type": "code",
   "execution_count": null,
   "metadata": {},
   "outputs": [],
   "source": [
    "#fig = px.choropleth(df, geojson=counties, locations='FIPS', color='e(0)',\n",
    "#                           color_continuous_scale=\"Viridis\",\n",
    "#                           range_color=(0, 12),\n",
    "#                           scope=\"usa\",\n",
    "#                           labels={'e(0)':'Life Expectancy'}\n",
    "#                          )\n",
    "#fig.update_layout(margin={\"r\":0,\"t\":0,\"l\":0,\"b\":0})\n",
    "#fig.show()"
   ]
  },
  {
   "cell_type": "code",
   "execution_count": null,
   "metadata": {},
   "outputs": [],
   "source": [
    "income_life_exp = pd.read_csv(r\"data\\Life\\health_ineq_online_table_2.csv\")"
   ]
  },
  {
   "cell_type": "code",
   "execution_count": null,
   "metadata": {},
   "outputs": [],
   "source": [
    "income_life_exp"
   ]
  },
  {
   "cell_type": "code",
   "execution_count": null,
   "metadata": {},
   "outputs": [],
   "source": [
    "income_life_exp[(income_life_exp[\"gnd\"]==\"F\") & (income_life_exp[\"year\"]==2001)][\"pctile\"],"
   ]
  },
  {
   "cell_type": "code",
   "execution_count": null,
   "metadata": {},
   "outputs": [],
   "source": [
    "year = 2014\n",
    "df = income_life_exp[income_life_exp[\"year\"]==2014]\n",
    "fig = make_subplots(rows =2, cols =1)\n",
    "fig.add_trace(go.Scatter(x = df[(df[\"gnd\"]==\"M\")][\"pctile\"], y = df[(df[\"gnd\"]==\"M\")][\"le_agg\"] ),\n",
    "              row=1, col=1)\n",
    "fig.add_trace(go.Scatter(x = df[(df[\"gnd\"]==\"F\")][\"pctile\"], y = df[(df[\"gnd\"]==\"F\")][\"le_agg\"] ),\n",
    "              row=1, col=1)\n",
    "\n",
    "\n",
    "fig.add_trace(go.Bar(x=[\"Male Female Diff\"], y = [df[df.gnd==\"F\"][\"le_agg\"].mean() - df[df.gnd==\"M\"][\"le_agg\"].mean()]),\n",
    "              row=2, col=1)\n",
    "fig.add_trace(go.Bar(x=[\"Top Bottom\"], y = [df[df.pctile>90][\"le_agg\"].mean() - df[df.pctile<10][\"le_agg\"].mean()]),\n",
    "              row=2, col=1)\n",
    "\n",
    "\n",
    "\n",
    "\n",
    "\n",
    "\n",
    "fig.show()"
   ]
  },
  {
   "cell_type": "code",
   "execution_count": null,
   "metadata": {},
   "outputs": [],
   "source": [
    "income_life_exp[income_life_exp.year < 2014].groupby(by=[\"year\",\"gnd\"]).mean().reset_index()"
   ]
  },
  {
   "cell_type": "code",
   "execution_count": null,
   "metadata": {},
   "outputs": [],
   "source": [
    "fig = go.Figure()\n",
    "fig.add_trace(go.Histogram(x=df[\"e(0)\"]))"
   ]
  },
  {
   "cell_type": "code",
   "execution_count": null,
   "metadata": {},
   "outputs": [],
   "source": [
    "fig = px.histogram(df, x=\"e(0)\", color=\"STATE2KX\")\n",
    "fig.update_layout(barmode='overlay')\n",
    "fig.show()"
   ]
  },
  {
   "cell_type": "code",
   "execution_count": null,
   "metadata": {},
   "outputs": [],
   "source": [
    "#https://www.ncsl.org/about-state-legislatures/state-partisan-composition\n"
   ]
  },
  {
   "cell_type": "code",
   "execution_count": null,
   "metadata": {},
   "outputs": [],
   "source": [
    "state_score = get_state_part_score(2019)"
   ]
  },
  {
   "cell_type": "code",
   "execution_count": null,
   "metadata": {},
   "outputs": [],
   "source": [
    "df = pd.read_csv(r\"data\\Life\\StateLevel2018.csv\")\n",
    "df = df[df[\"YEAR\"] < 2019][[\"YEAR\",\"STATE\",\"RATE\"]]\n",
    "life_v_part = df.merge(state_score, left_on=\"STATE\", right_on=\"State\")\n",
    "life_v_part = life_v_part.drop(columns=[\"State\"])\n",
    "life_v_part = life_v_part.dropna()"
   ]
  },
  {
   "cell_type": "code",
   "execution_count": null,
   "metadata": {},
   "outputs": [],
   "source": [
    "fig = px.scatter(life_v_part, x=\"Part_Score\", y=\"RATE\", color=\"Part_Score\", color_continuous_scale=px.colors.sequential.Bluered, trendline=\"ols\")\n",
    "fig.show()"
   ]
  },
  {
   "cell_type": "code",
   "execution_count": null,
   "metadata": {},
   "outputs": [],
   "source": [
    "reg = LinearRegression().fit(life_v_part[\"Part_Score\"].values.reshape(-1, 1), life_v_part[\"RATE\"])\n",
    "X = np.linspace(-1,1)\n",
    "y = reg.predict(X.reshape(-1,1))\n"
   ]
  },
  {
   "cell_type": "code",
   "execution_count": null,
   "metadata": {},
   "outputs": [],
   "source": [
    "\n",
    "\n",
    "fig = go.Figure()\n",
    "fig.add_trace(go.Scatter(x=X, y=y, mode=\"lines\", marker=dict(color=\"orange\")))\n",
    "fig.add_trace(go.Scatter(x=life_v_part[\"Part_Score\"],\n",
    "    y=life_v_part[\"RATE\"],\n",
    "    mode=\"markers\",\n",
    "    marker=dict(\n",
    "        size=8,\n",
    "        color=life_v_part[\"Part_Score\"], #set color equal to a variable\n",
    "        colorscale=px.colors.sequential.Bluered, # one of plotly colorscales\n",
    "        showscale=True,),\n",
    "    text=life_v_part['STATE']          \n",
    "    ))\n",
    "fig.show()"
   ]
  },
  {
   "cell_type": "code",
   "execution_count": null,
   "metadata": {},
   "outputs": [],
   "source": [
    "fig = px.histogram(life_v_part, x=\"RATE\", color=\"category\")\n",
    "fig.update_layout(barmode='overlay')\n",
    "fig.show()"
   ]
  },
  {
   "cell_type": "code",
   "execution_count": null,
   "metadata": {},
   "outputs": [],
   "source": [
    "ca = pd.read_excel(r\"data\\Life\\State\\CA1.xlsx\", header=2,skipfooter=1)\n",
    "ca.rename(columns={ ca.columns[0]: \"age\" }, inplace = True)\n",
    "\n",
    "fl = pd.read_excel(r\"data\\Life\\State\\FL1.xlsx\", header=2,skipfooter=1)\n",
    "fl.rename(columns={ fl.columns[0]: \"age\" }, inplace = True)"
   ]
  },
  {
   "cell_type": "code",
   "execution_count": null,
   "metadata": {},
   "outputs": [],
   "source": [
    "\n",
    "def get_part_cat(score):\n",
    "    if score<-.2:\n",
    "        return \"Left\"\n",
    "    elif score<.3:\n",
    "        return \"Center\"\n",
    "    else:\n",
    "        return \"Right\"\n",
    "state_score = state_score.dropna()\n",
    "state_score[\"category\"] = state_score[\"Part_Score\"].apply(lambda x:get_part_cat(x))\n"
   ]
  },
  {
   "cell_type": "code",
   "execution_count": null,
   "metadata": {},
   "outputs": [],
   "source": [
    "df = pd.read_excel(r\"./data/Life/State/NY1.xlsx\", header=2,skipfooter=1)\n",
    "df.rename(columns={ df.columns[0]: \"age\" }, inplace = True)\n",
    "age_categories = list(df[\"age\"].values)\n",
    "\n",
    "all_states = []\n",
    "left = []\n",
    "center =[]\n",
    "right =[]\n",
    "\n",
    "for index, state in state_score.iterrows():\n",
    "    state_name = state[\"State\"]\n",
    "    df = pd.read_excel(r\"./data/Life/State/\"+state_name+\"1.xlsx\", header=2,skipfooter=1)\n",
    "    df.rename(columns={ df.columns[0]: \"age\" }, inplace = True)\n",
    "    df[\"age_1\"] = df[\"age\"].str.replace(\" \",\"–\").str.split(\"–\").str[0].astype(int)\n",
    "    df[\"state\"] = state_name\n",
    "    all_states.append(df)\n",
    "    if state[\"category\"] == \"Left\":\n",
    "        left.append(df)\n",
    "    if state[\"category\"] == \"Center\":\n",
    "        center.append(df)\n",
    "    if state[\"category\"] == \"Right\":\n",
    "        right.append(df)\n",
    "left = pd.concat(left)\n",
    "center = pd.concat(center)\n",
    "right = pd.concat(right)\n",
    "all_states = pd.concat(all_states)\n",
    "\n",
    "\n",
    "left = left.groupby(by=[\"age\"])[[\"qx\",\"lx\",\"dx\",\"Lx\",\"Tx\",\"ex\", \"age_1\"]].mean().reset_index()\n",
    "left[\"age\"] = pd.Categorical(left[\"age\"], categories=age_categories)\n",
    "left.sort_values(by=\"age\", inplace=True)\n",
    "\n",
    "center = center.groupby(by=[\"age\"])[[\"qx\",\"lx\",\"dx\",\"Lx\",\"Tx\",\"ex\", \"age_1\"]].mean().reset_index()\n",
    "center[\"age\"] = pd.Categorical(center[\"age\"], categories=age_categories)\n",
    "center.sort_values(by=\"age\", inplace=True)\n",
    "\n",
    "right = right.groupby(by=[\"age\"])[[\"qx\",\"lx\",\"dx\",\"Lx\",\"Tx\",\"ex\", \"age_1\"]].mean().reset_index()\n",
    "right[\"age\"] = pd.Categorical(right[\"age\"], categories=age_categories)\n",
    "right.sort_values(by=\"age\", inplace=True)\n",
    "\n",
    "\n",
    "all_states = state_score[[\"State\",\"Part_Score\"]].merge(all_states, left_on=\"State\", right_on=\"state\")\n",
    "\n",
    "\n",
    "population = pd.read_csv(\"./data/Population/us-state-populations.csv\").rename({\"pop_2014\":\"pop\"}, axis=1)\n",
    "all_states = all_states.merge(population, left_on=\"State\",right_on=\"code\")\n"
   ]
  },
  {
   "cell_type": "code",
   "execution_count": null,
   "metadata": {},
   "outputs": [],
   "source": [
    "\n",
    "center[\"left_right_diff\"] = left[\"lx\"] - right[\"lx\"]\n",
    "fig = go.Figure()\n",
    "fig.add_trace(go.Scatter(x=left[\"age\"], y=left[\"lx\"],  name=\"Left\"))\n",
    "fig.add_trace(go.Scatter(x=center[\"age\"], y=center[\"lx\"],  name=\"Center\"))\n",
    "fig.add_trace(go.Scatter(x=right[\"age\"], y=right[\"lx\"], name=\"Right\"))\n",
    "fig.add_trace(go.Scatter(x=center[\"age\"], y=center[\"left_right_diff\"],  name=\"Diff\"))\n",
    "#fig.update_yaxes(type=\"log\")\n",
    "fig.show()"
   ]
  },
  {
   "cell_type": "code",
   "execution_count": null,
   "metadata": {},
   "outputs": [],
   "source": [
    "all_states"
   ]
  },
  {
   "cell_type": "code",
   "execution_count": null,
   "metadata": {},
   "outputs": [],
   "source": [
    "fig = go.Figure(\n",
    "    data=[go.Bar(x=[\"Left\"], y=left[left[\"age_1\"] == 0.0][\"ex\"],name=\"Left\"),\n",
    "          go.Bar(x=[\"Center\"], y=center[center[\"age_1\"] == 0.0][\"ex\"],name=\"Center\"),\n",
    "          go.Bar(x=[\"Right\"], y=right[right[\"age_1\"] == 0.0][\"ex\"],name=\"Right\"),\n",
    "          go.Bar(x=[\"Diff\"],y=left[left[\"age_1\"] ==  0.0][\"ex\"] - right[right[\"age_1\"] ==  0.0][\"ex\"],name=\"Diff\"),\n",
    "          \n",
    "          \n",
    "          ],\n",
    "    layout=go.Layout(\n",
    "        xaxis={'title':f\"Age : {0}\",},\n",
    "        yaxis ={'range':[0,85], \"autorange\":False},\n",
    "        updatemenus=[dict(type=\"buttons\",\n",
    "                          buttons=[dict(label=\"Play\",\n",
    "                                        method=\"animate\",\n",
    "                                        args=[None])])]),\n",
    "    frames=[go.Frame(\n",
    "        data=[go.Bar(x=[\"Left\"],y=left[left[\"age_1\"] == float(k)][\"ex\"],name=\"Left\"),\n",
    "              go.Bar(x=[\"Center\"],y=center[center[\"age_1\"] == float(k)][\"ex\"],name=\"Center\"),\n",
    "              go.Bar(x=[\"Right\"],y=right[right[\"age_1\"] == float(k)][\"ex\"],name=\"Right\"),\n",
    "              go.Bar(x=[\"Diff\"],y=left[left[\"age_1\"] == float(k)][\"ex\"] - right[right[\"age_1\"] == float(k)][\"ex\"],name=\"Diff\"),\n",
    "              \n",
    "              ], \n",
    "        layout=go.Layout(\n",
    "              xaxis={'title':f\"Age : {k}\",},\n",
    "              yaxis ={'range':[0,85], \"autorange\":False}\n",
    "              ))\n",
    "\n",
    "        for k in range(101)]\n",
    ")\n",
    "\n",
    "fig.show()"
   ]
  },
  {
   "cell_type": "code",
   "execution_count": null,
   "metadata": {},
   "outputs": [],
   "source": []
  },
  {
   "cell_type": "code",
   "execution_count": null,
   "metadata": {},
   "outputs": [],
   "source": [
    "\n",
    "from Life import get_state_age_life_exp, get_age_categories\n",
    "\n",
    "all_states = get_state_age_life_exp()\n",
    "age_categories = get_age_categories()\n",
    "state_score = get_state_part_score(2019)\n",
    "population = pd.read_csv(\"./data/Population/us-state-populations.csv\").rename({\"pop_2014\":\"pop\"}, axis=1)\n",
    "\n",
    "frames = []\n",
    "coef = []\n",
    "for k in range(101):\n",
    "      age_df = all_states[all_states[\"age_1\"]==float(k)]\n",
    "      \n",
    "      reg = LinearRegression().fit(age_df[\"Part_Score\"].values.reshape(-1, 1), age_df[\"lx\"])\n",
    "      X = np.linspace(-1,1)\n",
    "      y = reg.predict(X.reshape(-1,1))\n",
    "      #coef.append({\"y\":reg.coef_, \"age\":k})\n",
    "      coef.append(float(reg.coef_))\n",
    "  \n",
    "      data = [go.Scatter(x=age_df[\"Part_Score\"], \n",
    "                         y=age_df[\"lx\"], \n",
    "                         mode=\"markers\", hovertext=age_df[\"State\"],\n",
    "                         marker=dict(color = age_df[\"Part_Score\"], size=age_df[\"pop\"]/500000, colorscale='bluered')),\n",
    "              go.Scatter(x=X, \n",
    "                         y=y, \n",
    "                         mode=\"lines\")\n",
    "              ]\n",
    "      \n",
    "      if k < 50:\n",
    "        highest = 100000\n",
    "        lowest = 0\n",
    "      else:\n",
    "        highest=100000\n",
    "        lowest=0\n",
    "      #highest = max(0, age_df[\"lx\"].max())\n",
    "      #lowest = max(0, age_df[\"lx\"].min())\n",
    "      \n",
    "      lowest = max(0, age_df[\"lx\"].max()-20000)\n",
    "      highest =max(age_df[\"lx\"].max() + 1000, 20000)\n",
    "      #print(f\"High: {highest} , Low : {lowest}, diff {highest-lowest}\")\n",
    "      layout=go.Layout(\n",
    "              xaxis={'title':f\"Age : {k}\",},\n",
    "              yaxis ={\"autorange\":False, \"range\":[lowest,highest+.0005] },\n",
    "              )\n",
    "      \n",
    "      frames.append(go.Frame(data=data, layout=layout))\n",
    "      \n",
    "      \n",
    "updatemenus = [\n",
    "    dict(\n",
    "        type='buttons',\n",
    "        buttons=[dict(label=\"Play\",\n",
    "                      method=\"animate\",\n",
    "                      args=[None,\n",
    "                        dict(frame=dict(duration=240, redraw=True),\n",
    "                              transition=dict(\n",
    "                                  duration=.5,\n",
    "                                  easing=\"linear\" # <<=====\n",
    "                              ),\n",
    "                              fromcurrent=True,\n",
    "                              mode=\"immediate\")])],\n",
    "        direction=\"left\",\n",
    "        pad=dict(r=10, t=85),\n",
    "        showactive=True, x=1.15, y=1, xanchor=\"right\", yanchor=\"top\")]\n",
    "\n",
    "\n",
    "fig = go.Figure(\n",
    "    data=frames[0].data,\n",
    "    \n",
    "    layout=frames[0].layout,\n",
    "    frames=frames\n",
    ")\n",
    "\n",
    "fig.update_layout(\n",
    "  updatemenus=updatemenus, \n",
    "  # sliders=sliders\n",
    ")\n",
    "\n",
    "fig.show()"
   ]
  },
  {
   "cell_type": "code",
   "execution_count": null,
   "metadata": {},
   "outputs": [],
   "source": [
    "all_states"
   ]
  },
  {
   "cell_type": "code",
   "execution_count": null,
   "metadata": {},
   "outputs": [],
   "source": [
    "coef\n",
    "fig = go.Figure()\n",
    "fig.add_trace(go.Scatter(x = [x for x in range(100)], y = coef))"
   ]
  },
  {
   "cell_type": "code",
   "execution_count": null,
   "metadata": {},
   "outputs": [],
   "source": [
    "coef"
   ]
  },
  {
   "cell_type": "code",
   "execution_count": null,
   "metadata": {},
   "outputs": [],
   "source": [
    "age_df = all_states[all_states[\"age_1\"]==float(k)]\n",
    "      \n",
    "reg = LinearRegression().fit(age_df[\"Part_Score\"].values.reshape(-1, 1), age_df[\"qx\"])\n",
    "X = np.linspace(-1,1)\n",
    "y = reg.predict(X.reshape(-1,1))"
   ]
  },
  {
   "cell_type": "code",
   "execution_count": null,
   "metadata": {},
   "outputs": [],
   "source": []
  },
  {
   "cell_type": "code",
   "execution_count": null,
   "metadata": {},
   "outputs": [],
   "source": [
    "reg.coef_"
   ]
  },
  {
   "cell_type": "code",
   "execution_count": null,
   "metadata": {},
   "outputs": [],
   "source": [
    "layout=go.Layout(\n",
    "        updatemenus=[dict(type=\"buttons\",\n",
    "                          buttons=[dict(label=\"Play\",\n",
    "                                        method=\"animate\",\n",
    "                                        args=[\n",
    "                        dict(frame=dict(duration=30, redraw=True),\n",
    "                              transition=dict(\n",
    "                                  duration=0,\n",
    "                                  easing=\"linear\" # <<=====\n",
    "                              ),\n",
    "                              #easing=\"linear\", # <<=====\n",
    "                              fromcurrent=True,\n",
    "                              mode=\"immediate\")])])])"
   ]
  },
  {
   "cell_type": "code",
   "execution_count": null,
   "metadata": {},
   "outputs": [],
   "source": [
    "[\n",
    "                        dict(frame=dict(duration=30, redraw=True),\n",
    "                              transition=dict(\n",
    "                                  duration=0,\n",
    "                                  easing=\"linear\" # <<=====\n",
    "                              ),\n",
    "                              #easing=\"linear\", # <<=====\n",
    "                              fromcurrent=True,\n",
    "                              mode=\"immediate\")]"
   ]
  },
  {
   "cell_type": "code",
   "execution_count": null,
   "metadata": {},
   "outputs": [],
   "source": [
    "layout"
   ]
  },
  {
   "cell_type": "code",
   "execution_count": null,
   "metadata": {},
   "outputs": [],
   "source": [
    "fig = px.scatter(all_states, x=\"Part_Score\",y=\"qx\", animation_frame=\"age_1\", color=\"Part_Score\", color_continuous_scale=px.colors.sequential.Bluered, trendline=\"ols\")\n",
    "fig.show()"
   ]
  },
  {
   "cell_type": "code",
   "execution_count": null,
   "metadata": {},
   "outputs": [],
   "source": [
    "https://ourworldindata.org/life-expectancy\n"
   ]
  },
  {
   "cell_type": "code",
   "execution_count": null,
   "metadata": {},
   "outputs": [],
   "source": [
    "\n",
    "df"
   ]
  },
  {
   "cell_type": "code",
   "execution_count": null,
   "metadata": {},
   "outputs": [],
   "source": [
    "df = get_state_age_life_exp()\n",
    "#df = df.groupby(by=[\"category\", \"age_1\"]).mean().reset_index()\n",
    "df[\"percent\"] = df[\"lx\"]/100000\n",
    "#df = df.sort_values(by=[\"category\", \"age_1\"])"
   ]
  },
  {
   "cell_type": "code",
   "execution_count": null,
   "metadata": {},
   "outputs": [],
   "source": [
    "fig = px.line(df, x = \"age_1\", y =\"percent\", color = \"category\")\n",
    "fig.show()"
   ]
  },
  {
   "cell_type": "code",
   "execution_count": null,
   "metadata": {},
   "outputs": [],
   "source": [
    "fig = px.line(df, x = \"age\", y =\"percent\", color = \"State\")\n",
    "fig.show()"
   ]
  },
  {
   "cell_type": "code",
   "execution_count": null,
   "metadata": {},
   "outputs": [],
   "source": [
    "df = pd.read_csv(\"./data/Life/health_ineq_online_table_3.csv\")\n",
    "df.columns\n",
    "df = df[['stateabbrv', 'le_agg_q1_F','le_agg_q2_F', 'le_agg_q3_F', 'le_agg_q4_F', 'le_agg_q1_M', 'le_agg_q2_M', 'le_agg_q3_M', 'le_agg_q4_M']]\n",
    "df.head(3)"
   ]
  },
  {
   "cell_type": "code",
   "execution_count": null,
   "metadata": {},
   "outputs": [],
   "source": [
    "df[df.le_agg_q4_F == df.le_agg_q4_F.min()]\n",
    "#df[df.le_agg_q4_F == df.le_agg_q4_F.max()]"
   ]
  },
  {
   "cell_type": "code",
   "execution_count": null,
   "metadata": {},
   "outputs": [],
   "source": [
    "selected_states = []\n",
    "\n",
    "for quartile in range(1,5):\n",
    "\n",
    "    selected_states.append(df[df[f\"le_agg_q{quartile}_F\"] == df[f\"le_agg_q{quartile}_F\"].min()][\"stateabbrv\"].values[0])\n",
    "    #selected_states.append(df[df[f\"le_agg_q{quartile}_M\"] == df[f\"le_agg_q{quartile}_M\"].min()][\"stateabbrv\"].values[0])\n",
    "    \n",
    "    selected_states.append(df[df[f\"le_agg_q{quartile}_F\"] == df[f\"le_agg_q{quartile}_F\"].max()][\"stateabbrv\"].values[0])\n",
    "    #selected_states.append(df[df[f\"le_agg_q{quartile}_M\"] == df[f\"le_agg_q{quartile}_M\"].max()][\"stateabbrv\"].values[0])\n",
    "    \n",
    "    \n",
    "selected_states = list(set(selected_states))\n",
    "#selected_states.remove(\"DC\")"
   ]
  },
  {
   "cell_type": "code",
   "execution_count": null,
   "metadata": {},
   "outputs": [],
   "source": [
    "selected_states"
   ]
  },
  {
   "cell_type": "code",
   "execution_count": null,
   "metadata": {},
   "outputs": [],
   "source": [
    "df[df[\"stateabbrv\"].isin(selected_states)]"
   ]
  },
  {
   "cell_type": "code",
   "execution_count": null,
   "metadata": {},
   "outputs": [],
   "source": [
    "fig =go.Figure()\n",
    "for state in selected_states:\n",
    "    state_df = df[df[\"stateabbrv\"] == state]\n",
    "    columns = [f\"le_agg_q{i}_F\" for i in range(1,5)]\n",
    "    fig.add_trace(go.Bar(\n",
    "        x = columns,\n",
    "        y = state_df[columns].values[0],\n",
    "        name = state\n",
    "        ))\n",
    "fig.update_layout(barmode='group')\n",
    "fig.update_yaxes(range=[70, 90])\n",
    "fig.show()"
   ]
  },
  {
   "cell_type": "code",
   "execution_count": null,
   "metadata": {},
   "outputs": [],
   "source": [
    "state_df = df[df[\"stateabbrv\"] == \"AL\"]\n",
    "state_df"
   ]
  },
  {
   "cell_type": "code",
   "execution_count": null,
   "metadata": {},
   "outputs": [],
   "source": [
    "columns = [f\"le_agg_q{i}_F\" for i in range(1,5)]\n",
    "state_df[columns].values[0]"
   ]
  },
  {
   "cell_type": "code",
   "execution_count": null,
   "metadata": {},
   "outputs": [],
   "source": [
    "from LifeData import LifeData\n",
    "life_data = LifeData()\n",
    "    \n",
    "df = life_data.get_single_indicator(\"Life Exp\")\n",
    "df = df.sort_values(by=[\"Rate\"], ascending=False).reset_index(drop=True)\n",
    "pivot_state =life_data.get_long_format()"
   ]
  },
  {
   "cell_type": "code",
   "execution_count": 29,
   "metadata": {},
   "outputs": [
    {
     "name": "stdout",
     "output_type": "stream",
     "text": [
      "Checking for NAs in 2020 ind ['Life Exp'] rate 0\n",
      "Checking for NAs in 2019 ind ['Life Exp'] rate 0\n",
      "Checking for NAs in 2018 ind ['Life Exp'] rate 0\n",
      "Checking for NAs in 2020 ind ['Infant Mortality'] rate 0\n",
      "Checking for NAs in 2019 ind ['Infant Mortality'] rate 0\n",
      "Checking for NAs in 2018 ind ['Infant Mortality'] rate 0\n",
      "Checking for NAs in 2017 ind ['Infant Mortality'] rate 0\n",
      "Checking for NAs in 2016 ind ['Infant Mortality'] rate 0\n",
      "Checking for NAs in 2015 ind ['Infant Mortality'] rate 0\n",
      "Checking for NAs in 2014 ind ['Infant Mortality'] rate 0\n",
      "Checking for NAs in 2005 ind ['Infant Mortality'] rate 0\n",
      "Checking for NAs in 2021 ind ['Fertility Rate'] rate 0\n",
      "Checking for NAs in 2020 ind ['Fertility Rate'] rate 0\n",
      "Checking for NAs in 2019 ind ['Fertility Rate'] rate 0\n",
      "Checking for NAs in 2018 ind ['Fertility Rate'] rate 0\n",
      "Checking for NAs in 2017 ind ['Fertility Rate'] rate 0\n",
      "Checking for NAs in 2016 ind ['Fertility Rate'] rate 0\n",
      "Checking for NAs in 2015 ind ['Fertility Rate'] rate 0\n",
      "Checking for NAs in 2014 ind ['Fertility Rate'] rate 0\n",
      "Checking for NAs in 2005 ind ['Fertility Rate'] rate 0\n",
      "Checking for NAs in 2021 ind ['Low Birth Weight'] rate 0\n",
      "Checking for NAs in 2020 ind ['Low Birth Weight'] rate 0\n",
      "Checking for NAs in 2019 ind ['Low Birth Weight'] rate 0\n",
      "Checking for NAs in 2018 ind ['Low Birth Weight'] rate 0\n",
      "Checking for NAs in 2017 ind ['Low Birth Weight'] rate 0\n",
      "Checking for NAs in 2016 ind ['Low Birth Weight'] rate 0\n",
      "Checking for NAs in 2015 ind ['Low Birth Weight'] rate 0\n",
      "Checking for NAs in 2014 ind ['Low Birth Weight'] rate 0\n",
      "Checking for NAs in 2005 ind ['Low Birth Weight'] rate 0\n",
      "Checking for NAs in 2021 ind ['Premature'] rate 0\n",
      "Checking for NAs in 2020 ind ['Premature'] rate 0\n",
      "Checking for NAs in 2019 ind ['Premature'] rate 0\n",
      "Checking for NAs in 2018 ind ['Premature'] rate 0\n",
      "Checking for NAs in 2017 ind ['Premature'] rate 0\n",
      "Checking for NAs in 2016 ind ['Premature'] rate 0\n",
      "Checking for NAs in 2015 ind ['Premature'] rate 0\n",
      "Checking for NAs in 2014 ind ['Premature'] rate 0\n",
      "Checking for NAs in 2005 ind ['Premature'] rate 0\n",
      "Checking for NAs in 2021 ind ['Teen Birth'] rate 0\n",
      "Checking for NAs in 2020 ind ['Teen Birth'] rate 0\n",
      "Checking for NAs in 2019 ind ['Teen Birth'] rate 0\n",
      "Checking for NAs in 2018 ind ['Teen Birth'] rate 0\n",
      "Checking for NAs in 2017 ind ['Teen Birth'] rate 0\n",
      "Checking for NAs in 2016 ind ['Teen Birth'] rate 0\n",
      "Checking for NAs in 2015 ind ['Teen Birth'] rate 0\n",
      "Checking for NAs in 2014 ind ['Teen Birth'] rate 0\n",
      "Checking for NAs in 2005 ind ['Teen Birth'] rate 0\n",
      "Checking for NAs in 2021 ind ['Unmarried Birth'] rate 0\n",
      "Checking for NAs in 2020 ind ['Unmarried Birth'] rate 0\n",
      "Checking for NAs in 2019 ind ['Unmarried Birth'] rate 0\n",
      "Checking for NAs in 2018 ind ['Unmarried Birth'] rate 0\n",
      "Checking for NAs in 2017 ind ['Unmarried Birth'] rate 0\n",
      "Checking for NAs in 2016 ind ['Unmarried Birth'] rate 0\n",
      "Checking for NAs in 2015 ind ['Unmarried Birth'] rate 0\n",
      "Checking for NAs in 2014 ind ['Unmarried Birth'] rate 0\n",
      "Checking for NAs in 2005 ind ['Unmarried Birth'] rate 0\n"
     ]
    },
    {
     "data": {
      "text/html": [
       "<div>\n",
       "<style scoped>\n",
       "    .dataframe tbody tr th:only-of-type {\n",
       "        vertical-align: middle;\n",
       "    }\n",
       "\n",
       "    .dataframe tbody tr th {\n",
       "        vertical-align: top;\n",
       "    }\n",
       "\n",
       "    .dataframe thead th {\n",
       "        text-align: right;\n",
       "    }\n",
       "</style>\n",
       "<table border=\"1\" class=\"dataframe\">\n",
       "  <thead>\n",
       "    <tr style=\"text-align: right;\">\n",
       "      <th></th>\n",
       "      <th>State</th>\n",
       "      <th>Part_Score</th>\n",
       "      <th>Year</th>\n",
       "      <th>category</th>\n",
       "      <th>Fertility Rate</th>\n",
       "      <th>Infant Mortality</th>\n",
       "      <th>Life Exp</th>\n",
       "      <th>Low Birth Weight</th>\n",
       "      <th>Premature</th>\n",
       "      <th>Teen Birth</th>\n",
       "      <th>Unmarried Birth</th>\n",
       "    </tr>\n",
       "  </thead>\n",
       "  <tbody>\n",
       "    <tr>\n",
       "      <th>17</th>\n",
       "      <td>VA</td>\n",
       "      <td>-0.133333</td>\n",
       "      <td>2024</td>\n",
       "      <td>Center</td>\n",
       "      <td>56.099998</td>\n",
       "      <td>5.76</td>\n",
       "      <td>77.599998</td>\n",
       "      <td>8.33</td>\n",
       "      <td>9.90</td>\n",
       "      <td>11.7</td>\n",
       "      <td>34.799999</td>\n",
       "    </tr>\n",
       "    <tr>\n",
       "      <th>28</th>\n",
       "      <td>MI</td>\n",
       "      <td>0.400000</td>\n",
       "      <td>2024</td>\n",
       "      <td>Right</td>\n",
       "      <td>55.400002</td>\n",
       "      <td>6.80</td>\n",
       "      <td>76.000000</td>\n",
       "      <td>9.22</td>\n",
       "      <td>10.60</td>\n",
       "      <td>12.2</td>\n",
       "      <td>40.299999</td>\n",
       "    </tr>\n",
       "    <tr>\n",
       "      <th>15</th>\n",
       "      <td>ME</td>\n",
       "      <td>-0.333333</td>\n",
       "      <td>2024</td>\n",
       "      <td>Left</td>\n",
       "      <td>49.900002</td>\n",
       "      <td>6.33</td>\n",
       "      <td>77.800003</td>\n",
       "      <td>7.29</td>\n",
       "      <td>9.37</td>\n",
       "      <td>7.8</td>\n",
       "      <td>37.200001</td>\n",
       "    </tr>\n",
       "  </tbody>\n",
       "</table>\n",
       "</div>"
      ],
      "text/plain": [
       "   State  Part_Score  Year category  Fertility Rate  Infant Mortality  \\\n",
       "17    VA   -0.133333  2024   Center       56.099998              5.76   \n",
       "28    MI    0.400000  2024    Right       55.400002              6.80   \n",
       "15    ME   -0.333333  2024     Left       49.900002              6.33   \n",
       "\n",
       "     Life Exp  Low Birth Weight  Premature  Teen Birth  Unmarried Birth  \n",
       "17  77.599998              8.33       9.90        11.7        34.799999  \n",
       "28  76.000000              9.22      10.60        12.2        40.299999  \n",
       "15  77.800003              7.29       9.37         7.8        37.200001  "
      ]
     },
     "execution_count": 29,
     "metadata": {},
     "output_type": "execute_result"
    }
   ],
   "source": [
    "import Partisian\n",
    "from LifeData import LifeData\n",
    "life_data = LifeData()\n",
    "    \n",
    "df = life_data.get_single_indicator(\"Life Exp\")\n",
    "df = df.sort_values(by=[\"Rate\"], ascending=False).reset_index(drop=True)\n",
    "pivot_state =life_data.get_long_format()\n",
    "\n",
    "df = Partisian.get_state_part_score()\n",
    "merged_df = pd.merge(df, pivot_state)\n",
    "merged_df.sample(3)"
   ]
  },
  {
   "cell_type": "code",
   "execution_count": 30,
   "metadata": {},
   "outputs": [
    {
     "ename": "KeyError",
     "evalue": "'FL'",
     "output_type": "error",
     "traceback": [
      "\u001b[1;31m---------------------------------------------------------------------------\u001b[0m",
      "\u001b[1;31mKeyError\u001b[0m                                  Traceback (most recent call last)",
      "\u001b[1;32mc:\\Users\\zeusg\\Envs\\real-fast\\lib\\site-packages\\pandas\\core\\indexes\\base.py\u001b[0m in \u001b[0;36mget_loc\u001b[1;34m(self, key, method, tolerance)\u001b[0m\n\u001b[0;32m   3802\u001b[0m             \u001b[1;32mtry\u001b[0m\u001b[1;33m:\u001b[0m\u001b[1;33m\u001b[0m\u001b[1;33m\u001b[0m\u001b[0m\n\u001b[1;32m-> 3803\u001b[1;33m                 \u001b[1;32mreturn\u001b[0m \u001b[0mself\u001b[0m\u001b[1;33m.\u001b[0m\u001b[0m_engine\u001b[0m\u001b[1;33m.\u001b[0m\u001b[0mget_loc\u001b[0m\u001b[1;33m(\u001b[0m\u001b[0mcasted_key\u001b[0m\u001b[1;33m)\u001b[0m\u001b[1;33m\u001b[0m\u001b[1;33m\u001b[0m\u001b[0m\n\u001b[0m\u001b[0;32m   3804\u001b[0m             \u001b[1;32mexcept\u001b[0m \u001b[0mKeyError\u001b[0m \u001b[1;32mas\u001b[0m \u001b[0merr\u001b[0m\u001b[1;33m:\u001b[0m\u001b[1;33m\u001b[0m\u001b[1;33m\u001b[0m\u001b[0m\n",
      "\u001b[1;32mc:\\Users\\zeusg\\Envs\\real-fast\\lib\\site-packages\\pandas\\_libs\\index.pyx\u001b[0m in \u001b[0;36mpandas._libs.index.IndexEngine.get_loc\u001b[1;34m()\u001b[0m\n",
      "\u001b[1;32mc:\\Users\\zeusg\\Envs\\real-fast\\lib\\site-packages\\pandas\\_libs\\index.pyx\u001b[0m in \u001b[0;36mpandas._libs.index.IndexEngine.get_loc\u001b[1;34m()\u001b[0m\n",
      "\u001b[1;32mpandas\\_libs\\hashtable_class_helper.pxi\u001b[0m in \u001b[0;36mpandas._libs.hashtable.PyObjectHashTable.get_item\u001b[1;34m()\u001b[0m\n",
      "\u001b[1;32mpandas\\_libs\\hashtable_class_helper.pxi\u001b[0m in \u001b[0;36mpandas._libs.hashtable.PyObjectHashTable.get_item\u001b[1;34m()\u001b[0m\n",
      "\u001b[1;31mKeyError\u001b[0m: 'FL'",
      "\nThe above exception was the direct cause of the following exception:\n",
      "\u001b[1;31mKeyError\u001b[0m                                  Traceback (most recent call last)",
      "\u001b[1;32m~\\AppData\\Local\\Temp/ipykernel_33368/2288941150.py\u001b[0m in \u001b[0;36m<module>\u001b[1;34m\u001b[0m\n\u001b[0;32m      1\u001b[0m \u001b[0mmerged_df\u001b[0m\u001b[1;33m\u001b[0m\u001b[1;33m\u001b[0m\u001b[0m\n\u001b[1;32m----> 2\u001b[1;33m \u001b[0mmerged_df\u001b[0m\u001b[1;33m[\u001b[0m\u001b[0mmerged_df\u001b[0m\u001b[1;33m[\u001b[0m\u001b[1;34m\"FL\"\u001b[0m\u001b[1;33m]\u001b[0m \u001b[1;33m==\u001b[0m \u001b[0mstate\u001b[0m\u001b[1;33m]\u001b[0m\u001b[1;33m[\u001b[0m\u001b[1;34m\"Infant Mortality\"\u001b[0m\u001b[1;33m]\u001b[0m\u001b[1;33m\u001b[0m\u001b[1;33m\u001b[0m\u001b[0m\n\u001b[0m",
      "\u001b[1;32mc:\\Users\\zeusg\\Envs\\real-fast\\lib\\site-packages\\pandas\\core\\frame.py\u001b[0m in \u001b[0;36m__getitem__\u001b[1;34m(self, key)\u001b[0m\n\u001b[0;32m   3803\u001b[0m             \u001b[1;32mif\u001b[0m \u001b[0mself\u001b[0m\u001b[1;33m.\u001b[0m\u001b[0mcolumns\u001b[0m\u001b[1;33m.\u001b[0m\u001b[0mnlevels\u001b[0m \u001b[1;33m>\u001b[0m \u001b[1;36m1\u001b[0m\u001b[1;33m:\u001b[0m\u001b[1;33m\u001b[0m\u001b[1;33m\u001b[0m\u001b[0m\n\u001b[0;32m   3804\u001b[0m                 \u001b[1;32mreturn\u001b[0m \u001b[0mself\u001b[0m\u001b[1;33m.\u001b[0m\u001b[0m_getitem_multilevel\u001b[0m\u001b[1;33m(\u001b[0m\u001b[0mkey\u001b[0m\u001b[1;33m)\u001b[0m\u001b[1;33m\u001b[0m\u001b[1;33m\u001b[0m\u001b[0m\n\u001b[1;32m-> 3805\u001b[1;33m             \u001b[0mindexer\u001b[0m \u001b[1;33m=\u001b[0m \u001b[0mself\u001b[0m\u001b[1;33m.\u001b[0m\u001b[0mcolumns\u001b[0m\u001b[1;33m.\u001b[0m\u001b[0mget_loc\u001b[0m\u001b[1;33m(\u001b[0m\u001b[0mkey\u001b[0m\u001b[1;33m)\u001b[0m\u001b[1;33m\u001b[0m\u001b[1;33m\u001b[0m\u001b[0m\n\u001b[0m\u001b[0;32m   3806\u001b[0m             \u001b[1;32mif\u001b[0m \u001b[0mis_integer\u001b[0m\u001b[1;33m(\u001b[0m\u001b[0mindexer\u001b[0m\u001b[1;33m)\u001b[0m\u001b[1;33m:\u001b[0m\u001b[1;33m\u001b[0m\u001b[1;33m\u001b[0m\u001b[0m\n\u001b[0;32m   3807\u001b[0m                 \u001b[0mindexer\u001b[0m \u001b[1;33m=\u001b[0m \u001b[1;33m[\u001b[0m\u001b[0mindexer\u001b[0m\u001b[1;33m]\u001b[0m\u001b[1;33m\u001b[0m\u001b[1;33m\u001b[0m\u001b[0m\n",
      "\u001b[1;32mc:\\Users\\zeusg\\Envs\\real-fast\\lib\\site-packages\\pandas\\core\\indexes\\base.py\u001b[0m in \u001b[0;36mget_loc\u001b[1;34m(self, key, method, tolerance)\u001b[0m\n\u001b[0;32m   3803\u001b[0m                 \u001b[1;32mreturn\u001b[0m \u001b[0mself\u001b[0m\u001b[1;33m.\u001b[0m\u001b[0m_engine\u001b[0m\u001b[1;33m.\u001b[0m\u001b[0mget_loc\u001b[0m\u001b[1;33m(\u001b[0m\u001b[0mcasted_key\u001b[0m\u001b[1;33m)\u001b[0m\u001b[1;33m\u001b[0m\u001b[1;33m\u001b[0m\u001b[0m\n\u001b[0;32m   3804\u001b[0m             \u001b[1;32mexcept\u001b[0m \u001b[0mKeyError\u001b[0m \u001b[1;32mas\u001b[0m \u001b[0merr\u001b[0m\u001b[1;33m:\u001b[0m\u001b[1;33m\u001b[0m\u001b[1;33m\u001b[0m\u001b[0m\n\u001b[1;32m-> 3805\u001b[1;33m                 \u001b[1;32mraise\u001b[0m \u001b[0mKeyError\u001b[0m\u001b[1;33m(\u001b[0m\u001b[0mkey\u001b[0m\u001b[1;33m)\u001b[0m \u001b[1;32mfrom\u001b[0m \u001b[0merr\u001b[0m\u001b[1;33m\u001b[0m\u001b[1;33m\u001b[0m\u001b[0m\n\u001b[0m\u001b[0;32m   3806\u001b[0m             \u001b[1;32mexcept\u001b[0m \u001b[0mTypeError\u001b[0m\u001b[1;33m:\u001b[0m\u001b[1;33m\u001b[0m\u001b[1;33m\u001b[0m\u001b[0m\n\u001b[0;32m   3807\u001b[0m                 \u001b[1;31m# If we have a listlike key, _check_indexing_error will raise\u001b[0m\u001b[1;33m\u001b[0m\u001b[1;33m\u001b[0m\u001b[1;33m\u001b[0m\u001b[0m\n",
      "\u001b[1;31mKeyError\u001b[0m: 'FL'"
     ]
    }
   ],
   "source": [
    "merged_df\n",
    "merged_df[merged_df[\"FL\"] == state][\"Infant Mortality\"]"
   ]
  },
  {
   "cell_type": "code",
   "execution_count": 31,
   "metadata": {},
   "outputs": [
    {
     "data": {
      "text/html": [
       "<div>\n",
       "<style scoped>\n",
       "    .dataframe tbody tr th:only-of-type {\n",
       "        vertical-align: middle;\n",
       "    }\n",
       "\n",
       "    .dataframe tbody tr th {\n",
       "        vertical-align: top;\n",
       "    }\n",
       "\n",
       "    .dataframe thead th {\n",
       "        text-align: right;\n",
       "    }\n",
       "</style>\n",
       "<table border=\"1\" class=\"dataframe\">\n",
       "  <thead>\n",
       "    <tr style=\"text-align: right;\">\n",
       "      <th>Indicator</th>\n",
       "      <th>State</th>\n",
       "      <th>Fertility Rate</th>\n",
       "      <th>Infant Mortality</th>\n",
       "      <th>Life Exp</th>\n",
       "      <th>Low Birth Weight</th>\n",
       "      <th>Premature</th>\n",
       "      <th>Teen Birth</th>\n",
       "      <th>Unmarried Birth</th>\n",
       "    </tr>\n",
       "  </thead>\n",
       "  <tbody>\n",
       "    <tr>\n",
       "      <th>38</th>\n",
       "      <td>RI</td>\n",
       "      <td>48.299999</td>\n",
       "      <td>3.96</td>\n",
       "      <td>78.199997</td>\n",
       "      <td>7.92</td>\n",
       "      <td>9.65</td>\n",
       "      <td>7.8</td>\n",
       "      <td>43.799999</td>\n",
       "    </tr>\n",
       "    <tr>\n",
       "      <th>4</th>\n",
       "      <td>CA</td>\n",
       "      <td>52.799999</td>\n",
       "      <td>3.92</td>\n",
       "      <td>79.000000</td>\n",
       "      <td>7.28</td>\n",
       "      <td>9.14</td>\n",
       "      <td>9.9</td>\n",
       "      <td>38.799999</td>\n",
       "    </tr>\n",
       "    <tr>\n",
       "      <th>36</th>\n",
       "      <td>OR</td>\n",
       "      <td>48.900002</td>\n",
       "      <td>4.22</td>\n",
       "      <td>78.800003</td>\n",
       "      <td>6.91</td>\n",
       "      <td>8.88</td>\n",
       "      <td>9.5</td>\n",
       "      <td>36.500000</td>\n",
       "    </tr>\n",
       "  </tbody>\n",
       "</table>\n",
       "</div>"
      ],
      "text/plain": [
       "Indicator State  Fertility Rate  Infant Mortality   Life Exp  \\\n",
       "38           RI       48.299999              3.96  78.199997   \n",
       "4            CA       52.799999              3.92  79.000000   \n",
       "36           OR       48.900002              4.22  78.800003   \n",
       "\n",
       "Indicator  Low Birth Weight  Premature  Teen Birth  Unmarried Birth  \n",
       "38                     7.92       9.65         7.8        43.799999  \n",
       "4                      7.28       9.14         9.9        38.799999  \n",
       "36                     6.91       8.88         9.5        36.500000  "
      ]
     },
     "execution_count": 31,
     "metadata": {},
     "output_type": "execute_result"
    }
   ],
   "source": [
    "pivot_state.sample(3)"
   ]
  },
  {
   "cell_type": "code",
   "execution_count": null,
   "metadata": {},
   "outputs": [],
   "source": [
    "df = LifeData().all_data\n",
    "df = LifeData.filter_data_most_recent(LifeData,df = df)"
   ]
  },
  {
   "cell_type": "code",
   "execution_count": null,
   "metadata": {},
   "outputs": [],
   "source": [
    "df"
   ]
  },
  {
   "cell_type": "code",
   "execution_count": null,
   "metadata": {},
   "outputs": [],
   "source": [
    "pivot_state = df.pivot(index=\"State\", columns=\"Indicator\", values=\"Rate\")\n",
    "pivot_state = pivot_state.reset_index()\n",
    "pivot_state"
   ]
  },
  {
   "cell_type": "code",
   "execution_count": null,
   "metadata": {},
   "outputs": [],
   "source": []
  },
  {
   "cell_type": "code",
   "execution_count": 34,
   "metadata": {},
   "outputs": [
    {
     "data": {
      "application/vnd.plotly.v1+json": {
       "config": {
        "plotlyServerURL": "https://plot.ly"
       },
       "data": [
        {
         "alignmentgroup": "True",
         "bingroup": "y",
         "hovertemplate": "count=%{x}<br>Fertility Rate=%{y}<extra></extra>",
         "legendgroup": "",
         "marker": {
          "color": "#636efa",
          "pattern": {
           "shape": ""
          }
         },
         "name": "",
         "offsetgroup": "",
         "orientation": "h",
         "showlegend": false,
         "type": "histogram",
         "xaxis": "x",
         "y": [
          64.9000015258789,
          59.5,
          61.70000076293945,
          55.5,
          52.79999923706055,
          52.5,
          52.099998474121094,
          56.5,
          54.900001525878906,
          55.900001525878906,
          59.20000076293945,
          60.79999923706055,
          60.70000076293945,
          53,
          60.20000076293945,
          61,
          60.79999923706055,
          62.70000076293945,
          49,
          56.400001525878906,
          49.900001525878906,
          55.400001525878906,
          58.599998474121094,
          58.400001525878906,
          60.70000076293945,
          54.79999923706055,
          58.099998474121094,
          66.69999694824219,
          64.4000015258789,
          49.900001525878906,
          58,
          52.900001525878906,
          54.79999923706055,
          54.099998474121094,
          57.900001525878906,
          61.5,
          48.900001525878906,
          54.70000076293945,
          48.29999923706055,
          57.5,
          68.5999984741211,
          59.79999923706055,
          60.70000076293945,
          63.599998474121094,
          56.099998474121094,
          44.900001525878906,
          54.20000076293945,
          55.70000076293945,
          54.70000076293945,
          57.5
         ],
         "yaxis": "y"
        },
        {
         "alignmentgroup": "True",
         "hovertemplate": "Fertility Rate=%{y}<extra></extra>",
         "legendgroup": "",
         "marker": {
          "color": "#636efa"
         },
         "name": "",
         "offsetgroup": "",
         "scalegroup": "y",
         "showlegend": false,
         "type": "violin",
         "xaxis": "x2",
         "y": [
          64.9000015258789,
          59.5,
          61.70000076293945,
          55.5,
          52.79999923706055,
          52.5,
          52.099998474121094,
          56.5,
          54.900001525878906,
          55.900001525878906,
          59.20000076293945,
          60.79999923706055,
          60.70000076293945,
          53,
          60.20000076293945,
          61,
          60.79999923706055,
          62.70000076293945,
          49,
          56.400001525878906,
          49.900001525878906,
          55.400001525878906,
          58.599998474121094,
          58.400001525878906,
          60.70000076293945,
          54.79999923706055,
          58.099998474121094,
          66.69999694824219,
          64.4000015258789,
          49.900001525878906,
          58,
          52.900001525878906,
          54.79999923706055,
          54.099998474121094,
          57.900001525878906,
          61.5,
          48.900001525878906,
          54.70000076293945,
          48.29999923706055,
          57.5,
          68.5999984741211,
          59.79999923706055,
          60.70000076293945,
          63.599998474121094,
          56.099998474121094,
          44.900001525878906,
          54.20000076293945,
          55.70000076293945,
          54.70000076293945,
          57.5
         ],
         "yaxis": "y2"
        }
       ],
       "layout": {
        "barmode": "relative",
        "legend": {
         "tracegroupgap": 0
        },
        "margin": {
         "t": 60
        },
        "template": {
         "data": {
          "bar": [
           {
            "error_x": {
             "color": "#2a3f5f"
            },
            "error_y": {
             "color": "#2a3f5f"
            },
            "marker": {
             "line": {
              "color": "#E5ECF6",
              "width": 0.5
             },
             "pattern": {
              "fillmode": "overlay",
              "size": 10,
              "solidity": 0.2
             }
            },
            "type": "bar"
           }
          ],
          "barpolar": [
           {
            "marker": {
             "line": {
              "color": "#E5ECF6",
              "width": 0.5
             },
             "pattern": {
              "fillmode": "overlay",
              "size": 10,
              "solidity": 0.2
             }
            },
            "type": "barpolar"
           }
          ],
          "carpet": [
           {
            "aaxis": {
             "endlinecolor": "#2a3f5f",
             "gridcolor": "white",
             "linecolor": "white",
             "minorgridcolor": "white",
             "startlinecolor": "#2a3f5f"
            },
            "baxis": {
             "endlinecolor": "#2a3f5f",
             "gridcolor": "white",
             "linecolor": "white",
             "minorgridcolor": "white",
             "startlinecolor": "#2a3f5f"
            },
            "type": "carpet"
           }
          ],
          "choropleth": [
           {
            "colorbar": {
             "outlinewidth": 0,
             "ticks": ""
            },
            "type": "choropleth"
           }
          ],
          "contour": [
           {
            "colorbar": {
             "outlinewidth": 0,
             "ticks": ""
            },
            "colorscale": [
             [
              0,
              "#0d0887"
             ],
             [
              0.1111111111111111,
              "#46039f"
             ],
             [
              0.2222222222222222,
              "#7201a8"
             ],
             [
              0.3333333333333333,
              "#9c179e"
             ],
             [
              0.4444444444444444,
              "#bd3786"
             ],
             [
              0.5555555555555556,
              "#d8576b"
             ],
             [
              0.6666666666666666,
              "#ed7953"
             ],
             [
              0.7777777777777778,
              "#fb9f3a"
             ],
             [
              0.8888888888888888,
              "#fdca26"
             ],
             [
              1,
              "#f0f921"
             ]
            ],
            "type": "contour"
           }
          ],
          "contourcarpet": [
           {
            "colorbar": {
             "outlinewidth": 0,
             "ticks": ""
            },
            "type": "contourcarpet"
           }
          ],
          "heatmap": [
           {
            "colorbar": {
             "outlinewidth": 0,
             "ticks": ""
            },
            "colorscale": [
             [
              0,
              "#0d0887"
             ],
             [
              0.1111111111111111,
              "#46039f"
             ],
             [
              0.2222222222222222,
              "#7201a8"
             ],
             [
              0.3333333333333333,
              "#9c179e"
             ],
             [
              0.4444444444444444,
              "#bd3786"
             ],
             [
              0.5555555555555556,
              "#d8576b"
             ],
             [
              0.6666666666666666,
              "#ed7953"
             ],
             [
              0.7777777777777778,
              "#fb9f3a"
             ],
             [
              0.8888888888888888,
              "#fdca26"
             ],
             [
              1,
              "#f0f921"
             ]
            ],
            "type": "heatmap"
           }
          ],
          "heatmapgl": [
           {
            "colorbar": {
             "outlinewidth": 0,
             "ticks": ""
            },
            "colorscale": [
             [
              0,
              "#0d0887"
             ],
             [
              0.1111111111111111,
              "#46039f"
             ],
             [
              0.2222222222222222,
              "#7201a8"
             ],
             [
              0.3333333333333333,
              "#9c179e"
             ],
             [
              0.4444444444444444,
              "#bd3786"
             ],
             [
              0.5555555555555556,
              "#d8576b"
             ],
             [
              0.6666666666666666,
              "#ed7953"
             ],
             [
              0.7777777777777778,
              "#fb9f3a"
             ],
             [
              0.8888888888888888,
              "#fdca26"
             ],
             [
              1,
              "#f0f921"
             ]
            ],
            "type": "heatmapgl"
           }
          ],
          "histogram": [
           {
            "marker": {
             "pattern": {
              "fillmode": "overlay",
              "size": 10,
              "solidity": 0.2
             }
            },
            "type": "histogram"
           }
          ],
          "histogram2d": [
           {
            "colorbar": {
             "outlinewidth": 0,
             "ticks": ""
            },
            "colorscale": [
             [
              0,
              "#0d0887"
             ],
             [
              0.1111111111111111,
              "#46039f"
             ],
             [
              0.2222222222222222,
              "#7201a8"
             ],
             [
              0.3333333333333333,
              "#9c179e"
             ],
             [
              0.4444444444444444,
              "#bd3786"
             ],
             [
              0.5555555555555556,
              "#d8576b"
             ],
             [
              0.6666666666666666,
              "#ed7953"
             ],
             [
              0.7777777777777778,
              "#fb9f3a"
             ],
             [
              0.8888888888888888,
              "#fdca26"
             ],
             [
              1,
              "#f0f921"
             ]
            ],
            "type": "histogram2d"
           }
          ],
          "histogram2dcontour": [
           {
            "colorbar": {
             "outlinewidth": 0,
             "ticks": ""
            },
            "colorscale": [
             [
              0,
              "#0d0887"
             ],
             [
              0.1111111111111111,
              "#46039f"
             ],
             [
              0.2222222222222222,
              "#7201a8"
             ],
             [
              0.3333333333333333,
              "#9c179e"
             ],
             [
              0.4444444444444444,
              "#bd3786"
             ],
             [
              0.5555555555555556,
              "#d8576b"
             ],
             [
              0.6666666666666666,
              "#ed7953"
             ],
             [
              0.7777777777777778,
              "#fb9f3a"
             ],
             [
              0.8888888888888888,
              "#fdca26"
             ],
             [
              1,
              "#f0f921"
             ]
            ],
            "type": "histogram2dcontour"
           }
          ],
          "mesh3d": [
           {
            "colorbar": {
             "outlinewidth": 0,
             "ticks": ""
            },
            "type": "mesh3d"
           }
          ],
          "parcoords": [
           {
            "line": {
             "colorbar": {
              "outlinewidth": 0,
              "ticks": ""
             }
            },
            "type": "parcoords"
           }
          ],
          "pie": [
           {
            "automargin": true,
            "type": "pie"
           }
          ],
          "scatter": [
           {
            "marker": {
             "colorbar": {
              "outlinewidth": 0,
              "ticks": ""
             }
            },
            "type": "scatter"
           }
          ],
          "scatter3d": [
           {
            "line": {
             "colorbar": {
              "outlinewidth": 0,
              "ticks": ""
             }
            },
            "marker": {
             "colorbar": {
              "outlinewidth": 0,
              "ticks": ""
             }
            },
            "type": "scatter3d"
           }
          ],
          "scattercarpet": [
           {
            "marker": {
             "colorbar": {
              "outlinewidth": 0,
              "ticks": ""
             }
            },
            "type": "scattercarpet"
           }
          ],
          "scattergeo": [
           {
            "marker": {
             "colorbar": {
              "outlinewidth": 0,
              "ticks": ""
             }
            },
            "type": "scattergeo"
           }
          ],
          "scattergl": [
           {
            "marker": {
             "colorbar": {
              "outlinewidth": 0,
              "ticks": ""
             }
            },
            "type": "scattergl"
           }
          ],
          "scattermapbox": [
           {
            "marker": {
             "colorbar": {
              "outlinewidth": 0,
              "ticks": ""
             }
            },
            "type": "scattermapbox"
           }
          ],
          "scatterpolar": [
           {
            "marker": {
             "colorbar": {
              "outlinewidth": 0,
              "ticks": ""
             }
            },
            "type": "scatterpolar"
           }
          ],
          "scatterpolargl": [
           {
            "marker": {
             "colorbar": {
              "outlinewidth": 0,
              "ticks": ""
             }
            },
            "type": "scatterpolargl"
           }
          ],
          "scatterternary": [
           {
            "marker": {
             "colorbar": {
              "outlinewidth": 0,
              "ticks": ""
             }
            },
            "type": "scatterternary"
           }
          ],
          "surface": [
           {
            "colorbar": {
             "outlinewidth": 0,
             "ticks": ""
            },
            "colorscale": [
             [
              0,
              "#0d0887"
             ],
             [
              0.1111111111111111,
              "#46039f"
             ],
             [
              0.2222222222222222,
              "#7201a8"
             ],
             [
              0.3333333333333333,
              "#9c179e"
             ],
             [
              0.4444444444444444,
              "#bd3786"
             ],
             [
              0.5555555555555556,
              "#d8576b"
             ],
             [
              0.6666666666666666,
              "#ed7953"
             ],
             [
              0.7777777777777778,
              "#fb9f3a"
             ],
             [
              0.8888888888888888,
              "#fdca26"
             ],
             [
              1,
              "#f0f921"
             ]
            ],
            "type": "surface"
           }
          ],
          "table": [
           {
            "cells": {
             "fill": {
              "color": "#EBF0F8"
             },
             "line": {
              "color": "white"
             }
            },
            "header": {
             "fill": {
              "color": "#C8D4E3"
             },
             "line": {
              "color": "white"
             }
            },
            "type": "table"
           }
          ]
         },
         "layout": {
          "annotationdefaults": {
           "arrowcolor": "#2a3f5f",
           "arrowhead": 0,
           "arrowwidth": 1
          },
          "autotypenumbers": "strict",
          "coloraxis": {
           "colorbar": {
            "outlinewidth": 0,
            "ticks": ""
           }
          },
          "colorscale": {
           "diverging": [
            [
             0,
             "#8e0152"
            ],
            [
             0.1,
             "#c51b7d"
            ],
            [
             0.2,
             "#de77ae"
            ],
            [
             0.3,
             "#f1b6da"
            ],
            [
             0.4,
             "#fde0ef"
            ],
            [
             0.5,
             "#f7f7f7"
            ],
            [
             0.6,
             "#e6f5d0"
            ],
            [
             0.7,
             "#b8e186"
            ],
            [
             0.8,
             "#7fbc41"
            ],
            [
             0.9,
             "#4d9221"
            ],
            [
             1,
             "#276419"
            ]
           ],
           "sequential": [
            [
             0,
             "#0d0887"
            ],
            [
             0.1111111111111111,
             "#46039f"
            ],
            [
             0.2222222222222222,
             "#7201a8"
            ],
            [
             0.3333333333333333,
             "#9c179e"
            ],
            [
             0.4444444444444444,
             "#bd3786"
            ],
            [
             0.5555555555555556,
             "#d8576b"
            ],
            [
             0.6666666666666666,
             "#ed7953"
            ],
            [
             0.7777777777777778,
             "#fb9f3a"
            ],
            [
             0.8888888888888888,
             "#fdca26"
            ],
            [
             1,
             "#f0f921"
            ]
           ],
           "sequentialminus": [
            [
             0,
             "#0d0887"
            ],
            [
             0.1111111111111111,
             "#46039f"
            ],
            [
             0.2222222222222222,
             "#7201a8"
            ],
            [
             0.3333333333333333,
             "#9c179e"
            ],
            [
             0.4444444444444444,
             "#bd3786"
            ],
            [
             0.5555555555555556,
             "#d8576b"
            ],
            [
             0.6666666666666666,
             "#ed7953"
            ],
            [
             0.7777777777777778,
             "#fb9f3a"
            ],
            [
             0.8888888888888888,
             "#fdca26"
            ],
            [
             1,
             "#f0f921"
            ]
           ]
          },
          "colorway": [
           "#636efa",
           "#EF553B",
           "#00cc96",
           "#ab63fa",
           "#FFA15A",
           "#19d3f3",
           "#FF6692",
           "#B6E880",
           "#FF97FF",
           "#FECB52"
          ],
          "font": {
           "color": "#2a3f5f"
          },
          "geo": {
           "bgcolor": "white",
           "lakecolor": "white",
           "landcolor": "#E5ECF6",
           "showlakes": true,
           "showland": true,
           "subunitcolor": "white"
          },
          "hoverlabel": {
           "align": "left"
          },
          "hovermode": "closest",
          "mapbox": {
           "style": "light"
          },
          "paper_bgcolor": "white",
          "plot_bgcolor": "#E5ECF6",
          "polar": {
           "angularaxis": {
            "gridcolor": "white",
            "linecolor": "white",
            "ticks": ""
           },
           "bgcolor": "#E5ECF6",
           "radialaxis": {
            "gridcolor": "white",
            "linecolor": "white",
            "ticks": ""
           }
          },
          "scene": {
           "xaxis": {
            "backgroundcolor": "#E5ECF6",
            "gridcolor": "white",
            "gridwidth": 2,
            "linecolor": "white",
            "showbackground": true,
            "ticks": "",
            "zerolinecolor": "white"
           },
           "yaxis": {
            "backgroundcolor": "#E5ECF6",
            "gridcolor": "white",
            "gridwidth": 2,
            "linecolor": "white",
            "showbackground": true,
            "ticks": "",
            "zerolinecolor": "white"
           },
           "zaxis": {
            "backgroundcolor": "#E5ECF6",
            "gridcolor": "white",
            "gridwidth": 2,
            "linecolor": "white",
            "showbackground": true,
            "ticks": "",
            "zerolinecolor": "white"
           }
          },
          "shapedefaults": {
           "line": {
            "color": "#2a3f5f"
           }
          },
          "ternary": {
           "aaxis": {
            "gridcolor": "white",
            "linecolor": "white",
            "ticks": ""
           },
           "baxis": {
            "gridcolor": "white",
            "linecolor": "white",
            "ticks": ""
           },
           "bgcolor": "#E5ECF6",
           "caxis": {
            "gridcolor": "white",
            "linecolor": "white",
            "ticks": ""
           }
          },
          "title": {
           "x": 0.05
          },
          "xaxis": {
           "automargin": true,
           "gridcolor": "white",
           "linecolor": "white",
           "ticks": "",
           "title": {
            "standoff": 15
           },
           "zerolinecolor": "white",
           "zerolinewidth": 2
          },
          "yaxis": {
           "automargin": true,
           "gridcolor": "white",
           "linecolor": "white",
           "ticks": "",
           "title": {
            "standoff": 15
           },
           "zerolinecolor": "white",
           "zerolinewidth": 2
          }
         }
        },
        "xaxis": {
         "anchor": "y",
         "domain": [
          0,
          0.8358
         ],
         "title": {
          "text": "count"
         }
        },
        "xaxis2": {
         "anchor": "y2",
         "domain": [
          0.8408,
          1
         ],
         "matches": "x2",
         "showgrid": false,
         "showline": false,
         "showticklabels": false,
         "ticks": ""
        },
        "yaxis": {
         "anchor": "x",
         "domain": [
          0,
          1
         ],
         "side": "right",
         "title": {
          "text": "Fertility Rate"
         }
        },
        "yaxis2": {
         "anchor": "x2",
         "domain": [
          0,
          1
         ],
         "matches": "y",
         "showgrid": true,
         "showticklabels": false
        }
       }
      }
     },
     "metadata": {},
     "output_type": "display_data"
    }
   ],
   "source": [
    "fig = px.histogram(pivot_state, y=\"Fertility Rate\", marginal=\"violin\",)\n",
    "#fig.add_vline(x=60, line_color=\"red\", line_width=3, line_dash=\"dash\")\n",
    "fig.update_layout(\n",
    "    yaxis={'side': 'right'}  \n",
    ")\n",
    "fig.show()"
   ]
  },
  {
   "cell_type": "code",
   "execution_count": 35,
   "metadata": {},
   "outputs": [
    {
     "data": {
      "application/vnd.plotly.v1+json": {
       "config": {
        "plotlyServerURL": "https://plot.ly"
       },
       "data": [
        {
         "autobinx": false,
         "histnorm": "probability density",
         "legendgroup": "Infant Mortality",
         "marker": {
          "color": "rgb(31, 119, 180)"
         },
         "name": "Infant Mortality",
         "opacity": 0.7,
         "type": "histogram",
         "x": [
          5.070000171661377,
          6.989999771118164,
          7.380000114440918,
          5.190000057220459,
          3.9200000762939453,
          4.800000190734863,
          4.329999923706055,
          5.099999904632568,
          5.800000190734863,
          6.28000020980835,
          4.880000114440918,
          4.429999828338623,
          5.059999942779541,
          5.5,
          6.75,
          6.599999904632568,
          6.429999828338623,
          7.590000152587891,
          3.940000057220459,
          5.730000019073486,
          6.329999923706055,
          6.800000190734863,
          4.130000114440918,
          5.889999866485596,
          8.119999885559082,
          5,
          6.769999980926514,
          5.46999979019165,
          5.679999828338623,
          4.409999847412109,
          4,
          5.300000190734863,
          4.639999866485596,
          4.079999923706055,
          6.699999809265137,
          5.900000095367432,
          4.21999979019165,
          5.579999923706055,
          3.9600000381469727,
          6.639999866485596,
          7.300000190734863,
          6.380000114440918,
          5.289999961853027,
          5.429999828338623,
          5.760000228881836,
          0,
          4.510000228881836,
          5.940000057220459,
          7.329999923706055,
          5.21999979019165
         ],
         "xaxis": "x",
         "xbins": {
          "end": 8.119999885559082,
          "size": 1,
          "start": 0
         },
         "yaxis": "y"
        },
        {
         "legendgroup": "Infant Mortality",
         "marker": {
          "color": "rgb(31, 119, 180)"
         },
         "mode": "lines",
         "name": "Infant Mortality",
         "showlegend": false,
         "type": "scatter",
         "x": [
          0,
          0.016239999771118164,
          0.03247999954223633,
          0.048719999313354495,
          0.06495999908447266,
          0.08119999885559082,
          0.09743999862670899,
          0.11367999839782715,
          0.1299199981689453,
          0.14615999794006349,
          0.16239999771118163,
          0.1786399974822998,
          0.19487999725341798,
          0.21111999702453613,
          0.2273599967956543,
          0.24359999656677245,
          0.2598399963378906,
          0.2760799961090088,
          0.29231999588012697,
          0.30855999565124514,
          0.32479999542236326,
          0.34103999519348144,
          0.3572799949645996,
          0.3735199947357178,
          0.38975999450683596,
          0.4059999942779541,
          0.42223999404907225,
          0.43847999382019043,
          0.4547199935913086,
          0.4709599933624268,
          0.4871999931335449,
          0.5034399929046631,
          0.5196799926757812,
          0.5359199924468994,
          0.5521599922180176,
          0.5683999919891357,
          0.5846399917602539,
          0.6008799915313721,
          0.6171199913024903,
          0.6333599910736084,
          0.6495999908447265,
          0.6658399906158448,
          0.6820799903869629,
          0.6983199901580811,
          0.7145599899291992,
          0.7307999897003173,
          0.7470399894714356,
          0.7632799892425537,
          0.7795199890136719,
          0.79575998878479,
          0.8119999885559082,
          0.8282399883270264,
          0.8444799880981445,
          0.8607199878692627,
          0.8769599876403809,
          0.893199987411499,
          0.9094399871826172,
          0.9256799869537353,
          0.9419199867248536,
          0.9581599864959717,
          0.9743999862670898,
          0.990639986038208,
          1.0068799858093263,
          1.0231199855804443,
          1.0393599853515625,
          1.0555999851226807,
          1.0718399848937987,
          1.088079984664917,
          1.1043199844360352,
          1.1205599842071534,
          1.1367999839782714,
          1.1530399837493897,
          1.1692799835205079,
          1.185519983291626,
          1.2017599830627441,
          1.2179999828338623,
          1.2342399826049806,
          1.2504799823760986,
          1.2667199821472168,
          1.282959981918335,
          1.299199981689453,
          1.3154399814605713,
          1.3316799812316895,
          1.3479199810028075,
          1.3641599807739258,
          1.380399980545044,
          1.3966399803161622,
          1.4128799800872802,
          1.4291199798583984,
          1.4453599796295167,
          1.4615999794006347,
          1.477839979171753,
          1.4940799789428711,
          1.5103199787139892,
          1.5265599784851074,
          1.5427999782562256,
          1.5590399780273438,
          1.5752799777984619,
          1.59151997756958,
          1.6077599773406983,
          1.6239999771118163,
          1.6402399768829345,
          1.6564799766540528,
          1.672719976425171,
          1.688959976196289,
          1.7051999759674072,
          1.7214399757385255,
          1.7376799755096435,
          1.7539199752807617,
          1.77015997505188,
          1.786399974822998,
          1.8026399745941162,
          1.8188799743652344,
          1.8351199741363526,
          1.8513599739074706,
          1.8675999736785889,
          1.883839973449707,
          1.9000799732208251,
          1.9163199729919433,
          1.9325599727630616,
          1.9487999725341796,
          1.9650399723052978,
          1.981279972076416,
          1.9975199718475343,
          2.0137599716186525,
          2.0299999713897705,
          2.0462399711608885,
          2.062479970932007,
          2.078719970703125,
          2.094959970474243,
          2.1111999702453614,
          2.1274399700164794,
          2.1436799697875975,
          2.159919969558716,
          2.176159969329834,
          2.1923999691009524,
          2.2086399688720704,
          2.2248799686431884,
          2.241119968414307,
          2.257359968185425,
          2.273599967956543,
          2.2898399677276613,
          2.3060799674987793,
          2.3223199672698973,
          2.3385599670410158,
          2.3547999668121338,
          2.371039966583252,
          2.3872799663543702,
          2.4035199661254882,
          2.4197599658966062,
          2.4359999656677247,
          2.4522399654388427,
          2.468479965209961,
          2.484719964981079,
          2.500959964752197,
          2.5171999645233156,
          2.5334399642944336,
          2.5496799640655516,
          2.56591996383667,
          2.582159963607788,
          2.598399963378906,
          2.6146399631500246,
          2.6308799629211426,
          2.6471199626922606,
          2.663359962463379,
          2.679599962234497,
          2.695839962005615,
          2.7120799617767335,
          2.7283199615478515,
          2.7445599613189695,
          2.760799961090088,
          2.777039960861206,
          2.7932799606323244,
          2.8095199604034424,
          2.8257599601745604,
          2.841999959945679,
          2.858239959716797,
          2.874479959487915,
          2.8907199592590334,
          2.9069599590301514,
          2.9231999588012694,
          2.939439958572388,
          2.955679958343506,
          2.971919958114624,
          2.9881599578857423,
          3.0043999576568603,
          3.0206399574279783,
          3.0368799571990968,
          3.0531199569702148,
          3.069359956741333,
          3.0855999565124512,
          3.1018399562835692,
          3.1180799560546877,
          3.1343199558258057,
          3.1505599555969237,
          3.166799955368042,
          3.18303995513916,
          3.199279954910278,
          3.2155199546813966,
          3.2317599544525146,
          3.2479999542236326,
          3.264239953994751,
          3.280479953765869,
          3.296719953536987,
          3.3129599533081056,
          3.3291999530792236,
          3.345439952850342,
          3.36167995262146,
          3.377919952392578,
          3.3941599521636965,
          3.4103999519348145,
          3.4266399517059325,
          3.442879951477051,
          3.459119951248169,
          3.475359951019287,
          3.4915999507904054,
          3.5078399505615234,
          3.5240799503326414,
          3.54031995010376,
          3.556559949874878,
          3.572799949645996,
          3.5890399494171144,
          3.6052799491882324,
          3.6215199489593504,
          3.637759948730469,
          3.653999948501587,
          3.6702399482727053,
          3.6864799480438233,
          3.7027199478149413,
          3.7189599475860597,
          3.7351999473571778,
          3.7514399471282958,
          3.767679946899414,
          3.783919946670532,
          3.8001599464416502,
          3.8163999462127687,
          3.8326399459838867,
          3.8488799457550047,
          3.865119945526123,
          3.881359945297241,
          3.897599945068359,
          3.9138399448394776,
          3.9300799446105956,
          3.946319944381714,
          3.962559944152832,
          3.97879994392395,
          3.9950399436950685,
          4.011279943466186,
          4.027519943237305,
          4.043759943008423,
          4.059999942779541,
          4.076239942550659,
          4.092479942321777,
          4.108719942092896,
          4.124959941864014,
          4.141199941635132,
          4.15743994140625,
          4.173679941177368,
          4.189919940948486,
          4.206159940719605,
          4.222399940490723,
          4.238639940261841,
          4.254879940032959,
          4.271119939804077,
          4.287359939575195,
          4.303599939346314,
          4.319839939117432,
          4.33607993888855,
          4.352319938659668,
          4.368559938430786,
          4.384799938201905,
          4.401039937973023,
          4.417279937744141,
          4.433519937515259,
          4.449759937286377,
          4.465999937057495,
          4.482239936828614,
          4.498479936599732,
          4.51471993637085,
          4.530959936141968,
          4.547199935913086,
          4.563439935684204,
          4.579679935455323,
          4.595919935226441,
          4.612159934997559,
          4.628399934768677,
          4.644639934539795,
          4.6608799343109135,
          4.6771199340820315,
          4.6933599338531495,
          4.7095999336242675,
          4.7258399333953856,
          4.742079933166504,
          4.7583199329376225,
          4.7745599327087405,
          4.7907999324798585,
          4.8070399322509765,
          4.8232799320220945,
          4.8395199317932125,
          4.855759931564331,
          4.871999931335449,
          4.888239931106567,
          4.904479930877685,
          4.920719930648803,
          4.936959930419922,
          4.95319993019104,
          4.969439929962158,
          4.985679929733276,
          5.001919929504394,
          5.018159929275512,
          5.034399929046631,
          5.050639928817749,
          5.066879928588867,
          5.083119928359985,
          5.099359928131103,
          5.115599927902221,
          5.13183992767334,
          5.148079927444458,
          5.164319927215576,
          5.180559926986694,
          5.196799926757812,
          5.21303992652893,
          5.229279926300049,
          5.245519926071167,
          5.261759925842285,
          5.277999925613403,
          5.294239925384521,
          5.31047992515564,
          5.326719924926758,
          5.342959924697876,
          5.359199924468994,
          5.375439924240112,
          5.39167992401123,
          5.407919923782349,
          5.424159923553467,
          5.440399923324585,
          5.456639923095703,
          5.472879922866821,
          5.489119922637939,
          5.505359922409058,
          5.521599922180176,
          5.537839921951294,
          5.554079921722412,
          5.57031992149353,
          5.586559921264649,
          5.602799921035767,
          5.619039920806885,
          5.635279920578003,
          5.651519920349121,
          5.667759920120239,
          5.683999919891358,
          5.700239919662476,
          5.716479919433594,
          5.732719919204712,
          5.74895991897583,
          5.765199918746948,
          5.781439918518067,
          5.797679918289185,
          5.813919918060303,
          5.830159917831421,
          5.846399917602539,
          5.862639917373658,
          5.878879917144776,
          5.895119916915894,
          5.911359916687012,
          5.92759991645813,
          5.943839916229248,
          5.960079916000367,
          5.976319915771485,
          5.992559915542603,
          6.008799915313721,
          6.025039915084839,
          6.041279914855957,
          6.0575199146270755,
          6.0737599143981935,
          6.0899999141693115,
          6.1062399139404295,
          6.1224799137115475,
          6.138719913482666,
          6.154959913253784,
          6.1711999130249025,
          6.1874399127960205,
          6.2036799125671385,
          6.2199199123382565,
          6.236159912109375,
          6.252399911880493,
          6.268639911651611,
          6.284879911422729,
          6.301119911193847,
          6.317359910964965,
          6.333599910736084,
          6.349839910507202,
          6.36607991027832,
          6.382319910049438,
          6.398559909820556,
          6.414799909591675,
          6.431039909362793,
          6.447279909133911,
          6.463519908905029,
          6.479759908676147,
          6.495999908447265,
          6.512239908218384,
          6.528479907989502,
          6.54471990776062,
          6.560959907531738,
          6.577199907302856,
          6.593439907073974,
          6.609679906845093,
          6.625919906616211,
          6.642159906387329,
          6.658399906158447,
          6.674639905929565,
          6.690879905700684,
          6.707119905471802,
          6.72335990524292,
          6.739599905014038,
          6.755839904785156,
          6.772079904556274,
          6.788319904327393,
          6.804559904098511,
          6.820799903869629,
          6.837039903640747,
          6.853279903411865,
          6.869519903182983,
          6.885759902954102,
          6.90199990272522,
          6.918239902496338,
          6.934479902267456,
          6.950719902038574,
          6.966959901809693,
          6.983199901580811,
          6.999439901351929,
          7.015679901123047,
          7.031919900894165,
          7.048159900665283,
          7.064399900436402,
          7.08063990020752,
          7.096879899978638,
          7.113119899749756,
          7.129359899520874,
          7.145599899291992,
          7.161839899063111,
          7.178079898834229,
          7.194319898605347,
          7.210559898376465,
          7.226799898147583,
          7.243039897918701,
          7.25927989768982,
          7.275519897460938,
          7.291759897232056,
          7.307999897003174,
          7.324239896774292,
          7.3404798965454106,
          7.356719896316529,
          7.372959896087647,
          7.389199895858765,
          7.405439895629883,
          7.421679895401001,
          7.4379198951721195,
          7.4541598949432375,
          7.4703998947143555,
          7.4866398944854735,
          7.5028798942565915,
          7.5191198940277095,
          7.535359893798828,
          7.551599893569946,
          7.567839893341064,
          7.5840798931121824,
          7.6003198928833005,
          7.616559892654419,
          7.632799892425537,
          7.649039892196655,
          7.665279891967773,
          7.681519891738891,
          7.697759891510009,
          7.713999891281128,
          7.730239891052246,
          7.746479890823364,
          7.762719890594482,
          7.7789598903656,
          7.795199890136718,
          7.811439889907837,
          7.827679889678955,
          7.843919889450073,
          7.860159889221191,
          7.876399888992309,
          7.892639888763428,
          7.908879888534546,
          7.925119888305664,
          7.941359888076782,
          7.9575998878479,
          7.973839887619018,
          7.990079887390137,
          8.006319887161254,
          8.022559886932372,
          8.038799886703492,
          8.05503988647461,
          8.071279886245728,
          8.087519886016846,
          8.103759885787964
         ],
         "xaxis": "x",
         "y": [
          0.012963487919165552,
          0.01295897610963131,
          0.01294545007851242,
          0.01292293805222109,
          0.012891486965518225,
          0.01285116229847646,
          0.012802047849337191,
          0.012744245444364801,
          0.012677874586104658,
          0.012603072041745924,
          0.012519991373574376,
          0.012428802413771943,
          0.012329690686077664,
          0.012222856777066903,
          0.01210851566003118,
          0.011986895974648299,
          0.01185823926582032,
          0.01172279918522467,
          0.011580840659270042,
          0.0114326390272734,
          0.011278479153776536,
          0.011118654518999817,
          0.010953466291487291,
          0.010783222387030207,
          0.010608236517966472,
          0.010428827236940785,
          0.010245316979175443,
          0.010058031107245133,
          0.00986729696227122,
          0.0096734429253533,
          0.009476797492938362,
          0.009277688369692684,
          0.009076441582289103,
          0.008873380617354303,
          0.008668825586638226,
          0.008463092422272408,
          0.008256492104777266,
          0.008049329926261716,
          0.007841904791033565,
          0.007634508555607518,
          0.00742742540986088,
          0.00722093130084695,
          0.007015293400533909,
          0.00681076961849477,
          0.00660760816033266,
          0.006406047132387302,
          0.006206314193034132,
          0.006008626250658716,
          0.005813189208166744,
          0.005620197753675946,
          0.005429835196830895,
          0.005242273349986697,
          0.005057672453323478,
          0.004876181142781142,
          0.004697936459544342,
          0.004523063899660588,
          0.004351677502241657,
          0.004183879974579161,
          0.004019762852400403,
          0.0038594066934002384,
          0.003702881302108757,
          0.003550245984093313,
          0.0034015498274462424,
          0.0032568320094768675,
          0.003116122126507219,
          0.0029794405446654953,
          0.0028467987695784853,
          0.0027181998328842977,
          0.0025936386935184663,
          0.0024731026517695685,
          0.0023565717741541666,
          0.0022440193272243764,
          0.00213541221849393,
          0.002030711442749421,
          0.001929872532101769,
          0.001832846008227917,
          0.0017395778353534765,
          0.0016500098726328083,
          0.001564080324692845,
          0.0014817241892200878,
          0.001402873700585811,
          0.0013274587686217536,
          0.0012554074117767304,
          0.0011866461840028442,
          0.0011211005948376308,
          0.0010586955222647893,
          0.0009993556180505154,
          0.0009430057053641352,
          0.0008895711686002501,
          0.0008389783354242887,
          0.0007911548511636549,
          0.0007460300457622482,
          0.0007035352936063106,
          0.0006636043666140395,
          0.0006261737810598326,
          0.0005911831386759148,
          0.0005585754626392209,
          0.0005282975291094441,
          0.0005003001950348294,
          0.00047453872298538054,
          0.0004509731038084443,
          0.00042956837792894743,
          0.00041029495613576254,
          0.0003931289407065883,
          0.00037805244772629054,
          0.00036505393144774945,
          0.00035412851152982067,
          0.000345278303964011,
          0.00033851275646988984,
          0.0003338489890990397,
          0.0003313121407385752,
          0.00033093572214792493,
          0.00033276197609674195,
          0.0003368422450975764,
          0.0003432373471443989,
          0.0003520179597773486,
          0.0003632650126953354,
          0.00037707008903156133,
          0.0003935358352928388,
          0.0004127763798420258,
          0.00043491775967428214,
          0.0004600983551024648,
          0.0004884693318252151,
          0.0005201950897035713,
          0.0005554537174186785,
          0.0005944374520249133,
          0.0006373531422500657,
          0.0006844227142276448,
          0.0007358836381767005,
          0.0007919893943724496,
          0.0008530099365771133,
          0.0009192321509258838,
          0.0009909603080883965,
          0.0010685165063526454,
          0.001152241103106999,
          0.0012424931320278432,
          0.0013396507031164747,
          0.001444111382570749,
          0.0015562925493253607,
          0.0016766317249512046,
          0.0018055868734704495,
          0.0019436366675204565,
          0.0020912807171889237,
          0.0022490397577451648,
          0.0024174557924100844,
          0.002597092186241754,
          0.0027885337071656665,
          0.0029923865101502984,
          0.003209278060521133,
          0.0034398569924209118,
          0.003684792898461844,
          0.003944776046678543,
          0.004220517020979163,
          0.004512746281407857,
          0.004822213640675709,
          0.005149687653589589,
          0.0054959549162107504,
          0.0058618192718071175,
          0.006248100920926121,
          0.006655635433208421,
          0.007085272658887307,
          0.007537875538273555,
          0.008014318807910753,
          0.008515487602501197,
          0.009042275952146087,
          0.009595585174915388,
          0.010176322165260673,
          0.010785397579307052,
          0.011423723918606105,
          0.012092213514498754,
          0.012791776415821755,
          0.01352331818329342,
          0.014287737594528617,
          0.015085924264256456,
          0.01591875618494725,
          0.016787097193687674,
          0.01769179437177781,
          0.018633675384153354,
          0.019613545766356336,
          0.020632186167385002,
          0.02169034955734633,
          0.022788758409401068,
          0.023928101866035355,
          0.025109032900205868,
          0.02633216548238037,
          0.027598071764934402,
          0.028907279295757038,
          0.03026026827326272,
          0.031657468855298285,
          0.033099258534668434,
          0.03458595959417752,
          0.0361178366541947,
          0.03769509432579278,
          0.039317874982482216,
          0.04098625666346141,
          0.04270025112112814,
          0.04445980202534298,
          0.04626478333660685,
          0.048114997859899956,
          0.05001017599044437,
          0.0519499746620813,
          0.053933976508305705,
          0.0559616892452786,
          0.058032545285338716,
          0.06014590158865807,
          0.06230103975975075,
          0.06449716639453215,
          0.06673341368255598,
          0.06900884026793369,
          0.07132243237125802,
          0.07367310517362918,
          0.07605970446262096,
          0.07848100853872163,
          0.08093573037946625,
          0.08342252005713263,
          0.08593996740452234,
          0.08848660492199485,
          0.09106091091757323,
          0.09366131287060724,
          0.09628619100816956,
          0.09893388208208162,
          0.10160268333322903,
          0.10429085662863667,
          0.10699663275564476,
          0.1097182158564607,
          0.11245378798537248,
          0.11520151377000012,
          0.11795954515714144,
          0.12072602622304698,
          0.12349909802733343,
          0.1262769034892355,
          0.12905759226449534,
          0.13183932560090103,
          0.134620281150331,
          0.13739865771512152,
          0.14017267990665966,
          0.1429406026943275,
          0.14570071582326835,
          0.14845134807991064,
          0.1511908713847992,
          0.15391770469299923,
          0.1566303176831864,
          0.15932723421750503,
          0.1620070355553539,
          0.16466836330544155,
          0.16730992210174742,
          0.1699304819904015,
          0.17252888051597165,
          0.17510402449718945,
          0.1776548914837667,
          0.18018053088763603,
          0.1826800647836698,
          0.18515268837670582,
          0.18759767013350478,
          0.19001435158007343,
          0.19240214676661976,
          0.19476054140421342,
          0.1970890916790296,
          0.19938742275183355,
          0.2016552269520897,
          0.20389226167777208,
          0.20609834701357704,
          0.20827336308179453,
          0.21041724714157023,
          0.21252999045367837,
          0.21461163492920887,
          0.21666226958175863,
          0.21868202680377832,
          0.22067107848867737,
          0.2226296320211046,
          0.22455792615851256,
          0.22645622682766484,
          0.22832482286015654,
          0.23016402169128938,
          0.23197414504676808,
          0.23375552464167143,
          0.23550849791598558,
          0.23723340383068767,
          0.23893057874792512,
          0.24060035241825106,
          0.2422430440971694,
          0.24385895881239783,
          0.2454483838022901,
          0.24701158514478697,
          0.24854880459506423,
          0.25006025664876197,
          0.2515461258462927,
          0.2530065643322525,
          0.25444168968241976,
          0.2558515830092119,
          0.2572362873548042,
          0.25859580637940505,
          0.2599301033504352,
          0.2612391004365862,
          0.2625226783089519,
          0.2637806760496377,
          0.2650128913664753,
          0.26621908111070536,
          0.2673989620927646,
          0.26855221218961317,
          0.26967847173539466,
          0.27077734518563173,
          0.27184840304363744,
          0.2728911840363729,
          0.2739051975256133,
          0.2748899261390119,
          0.2758448286044663,
          0.27676934277010995,
          0.27766288879128764,
          0.27852487246500346,
          0.2793546886915936,
          0.28015172504274805,
          0.2809153654145008,
          0.28164499374343255,
          0.2823399977640726,
          0.2829997727853544,
          0.28362372546398407,
          0.2842112775526864,
          0.28476186960154914,
          0.2852749645910371,
          0.2857500514757312,
          0.28618664861844006,
          0.28658430709503213,
          0.2869426138511431,
          0.2872611946928217,
          0.2875397170941724,
          0.2877778928061507,
          0.2879754802518247,
          0.2881322866946719,
          0.2882481701677853,
          0.2883230411532348,
          0.288356864002257,
          0.2883496580884102,
          0.2883014986873353,
          0.2882125175782983,
          0.28808290336423437,
          0.28791290150857984,
          0.2877028140887365,
          0.2874529992675787,
          0.28716387048594366,
          0.28683589538057885,
          0.28646959443350106,
          0.2860655393601741,
          0.2856243512453194,
          0.28514669843652035,
          0.28463329420707423,
          0.28408489420076133,
          0.28350229367235846,
          0.28288632453877893,
          0.2822378522567142,
          0.2815577725435339,
          0.28084700795900125,
          0.2801065043660549,
          0.2793372272894978,
          0.27854015819192274,
          0.2777162906865795,
          0.2768666267071523,
          0.27599217265457604,
          0.2750939355410554,
          0.27417291915138525,
          0.27323012024148513,
          0.2722665247937705,
          0.27128310434857844,
          0.27028081243036217,
          0.2692605810867551,
          0.2682233175578995,
          0.267169901092626,
          0.26610117992718313,
          0.26501796844123354,
          0.2639210445047788,
          0.26281114702855024,
          0.2616889737292051,
          0.2605551791194257,
          0.25941037273171147,
          0.25825511758331743,
          0.25708992888841764,
          0.25591527302216927,
          0.25473156673994163,
          0.253539176653541,
          0.25233841896484993,
          0.25112955945587795,
          0.24991281373282537,
          0.2486883477203967,
          0.24745627840126164,
          0.24621667479427364,
          0.2449695591638121,
          0.24371490845143332,
          0.24245265591989826,
          0.24118269299859565,
          0.23990487131840962,
          0.23861900492319743,
          0.23732487264423857,
          0.23602222062330738,
          0.2347107649694131,
          0.23339019453372725,
          0.23206017378680668,
          0.23072034578190065,
          0.22937033518792155,
          0.22800975137553614,
          0.2266381915398337,
          0.22525524384310328,
          0.22386049056144286,
          0.22245351121919973,
          0.22103388569560586,
          0.21960119728843308,
          0.21815503572002617,
          0.21669500007168588,
          0.21522070163305945,
          0.21373176665394927,
          0.2122278389867518,
          0.21070858260861017,
          0.2091736840132601,
          0.20762285446350362,
          0.20605583209620745,
          0.2044723838727358,
          0.20287230736873132,
          0.20125543239818663,
          0.19962162246777407,
          0.19797077605842223,
          0.19630282773213337,
          0.19461774906302942,
          0.1929155493925813,
          0.19119627640990197,
          0.1894600165588996,
          0.18770689527492665,
          0.18593707705439402,
          0.184150765361566,
          0.18234820237747962,
          0.1805296685965756,
          0.17869548227723592,
          0.1768459987529573,
          0.17498160961136727,
          0.17310274174870915,
          0.17120985630776941,
          0.16930344750752005,
          0.16738404137297014,
          0.16545219437389821,
          0.16350849198124204,
          0.1615535471499828,
          0.15958799873735383,
          0.1576125098651594,
          0.15562776623488367,
          0.1536344744041251,
          0.15163336003270508,
          0.14962516610657164,
          0.14761065114735322,
          0.14559058741513253,
          0.14356575911168257,
          0.14153696059106421,
          0.13950499458412308,
          0.13747067044304193,
          0.13543480241170888,
          0.13339820792726437,
          0.1313617059577809,
          0.12932611538061428,
          0.1272922534055649,
          0.12526093404657226,
          0.12323296664526834,
          0.12120915444932284,
          0.11919029324813118,
          0.11717717006801828,
          0.11517056192878512,
          0.11317123466307002,
          0.11117994179967544,
          0.10919742351170011,
          0.1072244056300189,
          0.10526159872238021,
          0.10330969723812998,
          0.1013693787183326,
          0.09944130307083174,
          0.09752611190959438,
          0.09562442795748673,
          0.0937368545114616,
          0.09186397496897827,
          0.09000635241433622,
          0.08816452926347237,
          0.08633902696566365,
          0.08453034576046962,
          0.08273896448816351,
          0.08096534045182299,
          0.07920990932917926,
          0.07747308513227008,
          0.07575526021288889,
          0.07405680531178191,
          0.07237806964951074,
          0.0707193810568731,
          0.06908104614274833,
          0.06746335049722786,
          0.06586655892787358,
          0.06429091572694966,
          0.06273664496747317,
          0.06120395082593526,
          0.05969301792955495,
          0.05820401172594847,
          0.05673707887311169,
          0.055292347647644395,
          0.05386992836917303,
          0.05246991383896164,
          0.05109237979074496,
          0.04973738535185878
         ],
         "yaxis": "y"
        },
        {
         "legendgroup": "Infant Mortality",
         "marker": {
          "color": "rgb(31, 119, 180)",
          "symbol": "line-ns-open"
         },
         "mode": "markers",
         "name": "Infant Mortality",
         "showlegend": false,
         "type": "scatter",
         "x": [
          5.070000171661377,
          6.989999771118164,
          7.380000114440918,
          5.190000057220459,
          3.9200000762939453,
          4.800000190734863,
          4.329999923706055,
          5.099999904632568,
          5.800000190734863,
          6.28000020980835,
          4.880000114440918,
          4.429999828338623,
          5.059999942779541,
          5.5,
          6.75,
          6.599999904632568,
          6.429999828338623,
          7.590000152587891,
          3.940000057220459,
          5.730000019073486,
          6.329999923706055,
          6.800000190734863,
          4.130000114440918,
          5.889999866485596,
          8.119999885559082,
          5,
          6.769999980926514,
          5.46999979019165,
          5.679999828338623,
          4.409999847412109,
          4,
          5.300000190734863,
          4.639999866485596,
          4.079999923706055,
          6.699999809265137,
          5.900000095367432,
          4.21999979019165,
          5.579999923706055,
          3.9600000381469727,
          6.639999866485596,
          7.300000190734863,
          6.380000114440918,
          5.289999961853027,
          5.429999828338623,
          5.760000228881836,
          0,
          4.510000228881836,
          5.940000057220459,
          7.329999923706055,
          5.21999979019165
         ],
         "xaxis": "x",
         "y": [
          "Infant Mortality",
          "Infant Mortality",
          "Infant Mortality",
          "Infant Mortality",
          "Infant Mortality",
          "Infant Mortality",
          "Infant Mortality",
          "Infant Mortality",
          "Infant Mortality",
          "Infant Mortality",
          "Infant Mortality",
          "Infant Mortality",
          "Infant Mortality",
          "Infant Mortality",
          "Infant Mortality",
          "Infant Mortality",
          "Infant Mortality",
          "Infant Mortality",
          "Infant Mortality",
          "Infant Mortality",
          "Infant Mortality",
          "Infant Mortality",
          "Infant Mortality",
          "Infant Mortality",
          "Infant Mortality",
          "Infant Mortality",
          "Infant Mortality",
          "Infant Mortality",
          "Infant Mortality",
          "Infant Mortality",
          "Infant Mortality",
          "Infant Mortality",
          "Infant Mortality",
          "Infant Mortality",
          "Infant Mortality",
          "Infant Mortality",
          "Infant Mortality",
          "Infant Mortality",
          "Infant Mortality",
          "Infant Mortality",
          "Infant Mortality",
          "Infant Mortality",
          "Infant Mortality",
          "Infant Mortality",
          "Infant Mortality",
          "Infant Mortality",
          "Infant Mortality",
          "Infant Mortality",
          "Infant Mortality",
          "Infant Mortality"
         ],
         "yaxis": "y2"
        }
       ],
       "layout": {
        "barmode": "overlay",
        "hovermode": "closest",
        "legend": {
         "traceorder": "reversed"
        },
        "shapes": [
         {
          "line": {
           "color": "red",
           "dash": "dash",
           "width": 3
          },
          "type": "line",
          "x0": 6,
          "x1": 6,
          "xref": "x",
          "y0": 0,
          "y1": 1,
          "yref": "y domain"
         }
        ],
        "template": {
         "data": {
          "bar": [
           {
            "error_x": {
             "color": "#2a3f5f"
            },
            "error_y": {
             "color": "#2a3f5f"
            },
            "marker": {
             "line": {
              "color": "#E5ECF6",
              "width": 0.5
             },
             "pattern": {
              "fillmode": "overlay",
              "size": 10,
              "solidity": 0.2
             }
            },
            "type": "bar"
           }
          ],
          "barpolar": [
           {
            "marker": {
             "line": {
              "color": "#E5ECF6",
              "width": 0.5
             },
             "pattern": {
              "fillmode": "overlay",
              "size": 10,
              "solidity": 0.2
             }
            },
            "type": "barpolar"
           }
          ],
          "carpet": [
           {
            "aaxis": {
             "endlinecolor": "#2a3f5f",
             "gridcolor": "white",
             "linecolor": "white",
             "minorgridcolor": "white",
             "startlinecolor": "#2a3f5f"
            },
            "baxis": {
             "endlinecolor": "#2a3f5f",
             "gridcolor": "white",
             "linecolor": "white",
             "minorgridcolor": "white",
             "startlinecolor": "#2a3f5f"
            },
            "type": "carpet"
           }
          ],
          "choropleth": [
           {
            "colorbar": {
             "outlinewidth": 0,
             "ticks": ""
            },
            "type": "choropleth"
           }
          ],
          "contour": [
           {
            "colorbar": {
             "outlinewidth": 0,
             "ticks": ""
            },
            "colorscale": [
             [
              0,
              "#0d0887"
             ],
             [
              0.1111111111111111,
              "#46039f"
             ],
             [
              0.2222222222222222,
              "#7201a8"
             ],
             [
              0.3333333333333333,
              "#9c179e"
             ],
             [
              0.4444444444444444,
              "#bd3786"
             ],
             [
              0.5555555555555556,
              "#d8576b"
             ],
             [
              0.6666666666666666,
              "#ed7953"
             ],
             [
              0.7777777777777778,
              "#fb9f3a"
             ],
             [
              0.8888888888888888,
              "#fdca26"
             ],
             [
              1,
              "#f0f921"
             ]
            ],
            "type": "contour"
           }
          ],
          "contourcarpet": [
           {
            "colorbar": {
             "outlinewidth": 0,
             "ticks": ""
            },
            "type": "contourcarpet"
           }
          ],
          "heatmap": [
           {
            "colorbar": {
             "outlinewidth": 0,
             "ticks": ""
            },
            "colorscale": [
             [
              0,
              "#0d0887"
             ],
             [
              0.1111111111111111,
              "#46039f"
             ],
             [
              0.2222222222222222,
              "#7201a8"
             ],
             [
              0.3333333333333333,
              "#9c179e"
             ],
             [
              0.4444444444444444,
              "#bd3786"
             ],
             [
              0.5555555555555556,
              "#d8576b"
             ],
             [
              0.6666666666666666,
              "#ed7953"
             ],
             [
              0.7777777777777778,
              "#fb9f3a"
             ],
             [
              0.8888888888888888,
              "#fdca26"
             ],
             [
              1,
              "#f0f921"
             ]
            ],
            "type": "heatmap"
           }
          ],
          "heatmapgl": [
           {
            "colorbar": {
             "outlinewidth": 0,
             "ticks": ""
            },
            "colorscale": [
             [
              0,
              "#0d0887"
             ],
             [
              0.1111111111111111,
              "#46039f"
             ],
             [
              0.2222222222222222,
              "#7201a8"
             ],
             [
              0.3333333333333333,
              "#9c179e"
             ],
             [
              0.4444444444444444,
              "#bd3786"
             ],
             [
              0.5555555555555556,
              "#d8576b"
             ],
             [
              0.6666666666666666,
              "#ed7953"
             ],
             [
              0.7777777777777778,
              "#fb9f3a"
             ],
             [
              0.8888888888888888,
              "#fdca26"
             ],
             [
              1,
              "#f0f921"
             ]
            ],
            "type": "heatmapgl"
           }
          ],
          "histogram": [
           {
            "marker": {
             "pattern": {
              "fillmode": "overlay",
              "size": 10,
              "solidity": 0.2
             }
            },
            "type": "histogram"
           }
          ],
          "histogram2d": [
           {
            "colorbar": {
             "outlinewidth": 0,
             "ticks": ""
            },
            "colorscale": [
             [
              0,
              "#0d0887"
             ],
             [
              0.1111111111111111,
              "#46039f"
             ],
             [
              0.2222222222222222,
              "#7201a8"
             ],
             [
              0.3333333333333333,
              "#9c179e"
             ],
             [
              0.4444444444444444,
              "#bd3786"
             ],
             [
              0.5555555555555556,
              "#d8576b"
             ],
             [
              0.6666666666666666,
              "#ed7953"
             ],
             [
              0.7777777777777778,
              "#fb9f3a"
             ],
             [
              0.8888888888888888,
              "#fdca26"
             ],
             [
              1,
              "#f0f921"
             ]
            ],
            "type": "histogram2d"
           }
          ],
          "histogram2dcontour": [
           {
            "colorbar": {
             "outlinewidth": 0,
             "ticks": ""
            },
            "colorscale": [
             [
              0,
              "#0d0887"
             ],
             [
              0.1111111111111111,
              "#46039f"
             ],
             [
              0.2222222222222222,
              "#7201a8"
             ],
             [
              0.3333333333333333,
              "#9c179e"
             ],
             [
              0.4444444444444444,
              "#bd3786"
             ],
             [
              0.5555555555555556,
              "#d8576b"
             ],
             [
              0.6666666666666666,
              "#ed7953"
             ],
             [
              0.7777777777777778,
              "#fb9f3a"
             ],
             [
              0.8888888888888888,
              "#fdca26"
             ],
             [
              1,
              "#f0f921"
             ]
            ],
            "type": "histogram2dcontour"
           }
          ],
          "mesh3d": [
           {
            "colorbar": {
             "outlinewidth": 0,
             "ticks": ""
            },
            "type": "mesh3d"
           }
          ],
          "parcoords": [
           {
            "line": {
             "colorbar": {
              "outlinewidth": 0,
              "ticks": ""
             }
            },
            "type": "parcoords"
           }
          ],
          "pie": [
           {
            "automargin": true,
            "type": "pie"
           }
          ],
          "scatter": [
           {
            "marker": {
             "colorbar": {
              "outlinewidth": 0,
              "ticks": ""
             }
            },
            "type": "scatter"
           }
          ],
          "scatter3d": [
           {
            "line": {
             "colorbar": {
              "outlinewidth": 0,
              "ticks": ""
             }
            },
            "marker": {
             "colorbar": {
              "outlinewidth": 0,
              "ticks": ""
             }
            },
            "type": "scatter3d"
           }
          ],
          "scattercarpet": [
           {
            "marker": {
             "colorbar": {
              "outlinewidth": 0,
              "ticks": ""
             }
            },
            "type": "scattercarpet"
           }
          ],
          "scattergeo": [
           {
            "marker": {
             "colorbar": {
              "outlinewidth": 0,
              "ticks": ""
             }
            },
            "type": "scattergeo"
           }
          ],
          "scattergl": [
           {
            "marker": {
             "colorbar": {
              "outlinewidth": 0,
              "ticks": ""
             }
            },
            "type": "scattergl"
           }
          ],
          "scattermapbox": [
           {
            "marker": {
             "colorbar": {
              "outlinewidth": 0,
              "ticks": ""
             }
            },
            "type": "scattermapbox"
           }
          ],
          "scatterpolar": [
           {
            "marker": {
             "colorbar": {
              "outlinewidth": 0,
              "ticks": ""
             }
            },
            "type": "scatterpolar"
           }
          ],
          "scatterpolargl": [
           {
            "marker": {
             "colorbar": {
              "outlinewidth": 0,
              "ticks": ""
             }
            },
            "type": "scatterpolargl"
           }
          ],
          "scatterternary": [
           {
            "marker": {
             "colorbar": {
              "outlinewidth": 0,
              "ticks": ""
             }
            },
            "type": "scatterternary"
           }
          ],
          "surface": [
           {
            "colorbar": {
             "outlinewidth": 0,
             "ticks": ""
            },
            "colorscale": [
             [
              0,
              "#0d0887"
             ],
             [
              0.1111111111111111,
              "#46039f"
             ],
             [
              0.2222222222222222,
              "#7201a8"
             ],
             [
              0.3333333333333333,
              "#9c179e"
             ],
             [
              0.4444444444444444,
              "#bd3786"
             ],
             [
              0.5555555555555556,
              "#d8576b"
             ],
             [
              0.6666666666666666,
              "#ed7953"
             ],
             [
              0.7777777777777778,
              "#fb9f3a"
             ],
             [
              0.8888888888888888,
              "#fdca26"
             ],
             [
              1,
              "#f0f921"
             ]
            ],
            "type": "surface"
           }
          ],
          "table": [
           {
            "cells": {
             "fill": {
              "color": "#EBF0F8"
             },
             "line": {
              "color": "white"
             }
            },
            "header": {
             "fill": {
              "color": "#C8D4E3"
             },
             "line": {
              "color": "white"
             }
            },
            "type": "table"
           }
          ]
         },
         "layout": {
          "annotationdefaults": {
           "arrowcolor": "#2a3f5f",
           "arrowhead": 0,
           "arrowwidth": 1
          },
          "autotypenumbers": "strict",
          "coloraxis": {
           "colorbar": {
            "outlinewidth": 0,
            "ticks": ""
           }
          },
          "colorscale": {
           "diverging": [
            [
             0,
             "#8e0152"
            ],
            [
             0.1,
             "#c51b7d"
            ],
            [
             0.2,
             "#de77ae"
            ],
            [
             0.3,
             "#f1b6da"
            ],
            [
             0.4,
             "#fde0ef"
            ],
            [
             0.5,
             "#f7f7f7"
            ],
            [
             0.6,
             "#e6f5d0"
            ],
            [
             0.7,
             "#b8e186"
            ],
            [
             0.8,
             "#7fbc41"
            ],
            [
             0.9,
             "#4d9221"
            ],
            [
             1,
             "#276419"
            ]
           ],
           "sequential": [
            [
             0,
             "#0d0887"
            ],
            [
             0.1111111111111111,
             "#46039f"
            ],
            [
             0.2222222222222222,
             "#7201a8"
            ],
            [
             0.3333333333333333,
             "#9c179e"
            ],
            [
             0.4444444444444444,
             "#bd3786"
            ],
            [
             0.5555555555555556,
             "#d8576b"
            ],
            [
             0.6666666666666666,
             "#ed7953"
            ],
            [
             0.7777777777777778,
             "#fb9f3a"
            ],
            [
             0.8888888888888888,
             "#fdca26"
            ],
            [
             1,
             "#f0f921"
            ]
           ],
           "sequentialminus": [
            [
             0,
             "#0d0887"
            ],
            [
             0.1111111111111111,
             "#46039f"
            ],
            [
             0.2222222222222222,
             "#7201a8"
            ],
            [
             0.3333333333333333,
             "#9c179e"
            ],
            [
             0.4444444444444444,
             "#bd3786"
            ],
            [
             0.5555555555555556,
             "#d8576b"
            ],
            [
             0.6666666666666666,
             "#ed7953"
            ],
            [
             0.7777777777777778,
             "#fb9f3a"
            ],
            [
             0.8888888888888888,
             "#fdca26"
            ],
            [
             1,
             "#f0f921"
            ]
           ]
          },
          "colorway": [
           "#636efa",
           "#EF553B",
           "#00cc96",
           "#ab63fa",
           "#FFA15A",
           "#19d3f3",
           "#FF6692",
           "#B6E880",
           "#FF97FF",
           "#FECB52"
          ],
          "font": {
           "color": "#2a3f5f"
          },
          "geo": {
           "bgcolor": "white",
           "lakecolor": "white",
           "landcolor": "#E5ECF6",
           "showlakes": true,
           "showland": true,
           "subunitcolor": "white"
          },
          "hoverlabel": {
           "align": "left"
          },
          "hovermode": "closest",
          "mapbox": {
           "style": "light"
          },
          "paper_bgcolor": "white",
          "plot_bgcolor": "#E5ECF6",
          "polar": {
           "angularaxis": {
            "gridcolor": "white",
            "linecolor": "white",
            "ticks": ""
           },
           "bgcolor": "#E5ECF6",
           "radialaxis": {
            "gridcolor": "white",
            "linecolor": "white",
            "ticks": ""
           }
          },
          "scene": {
           "xaxis": {
            "backgroundcolor": "#E5ECF6",
            "gridcolor": "white",
            "gridwidth": 2,
            "linecolor": "white",
            "showbackground": true,
            "ticks": "",
            "zerolinecolor": "white"
           },
           "yaxis": {
            "backgroundcolor": "#E5ECF6",
            "gridcolor": "white",
            "gridwidth": 2,
            "linecolor": "white",
            "showbackground": true,
            "ticks": "",
            "zerolinecolor": "white"
           },
           "zaxis": {
            "backgroundcolor": "#E5ECF6",
            "gridcolor": "white",
            "gridwidth": 2,
            "linecolor": "white",
            "showbackground": true,
            "ticks": "",
            "zerolinecolor": "white"
           }
          },
          "shapedefaults": {
           "line": {
            "color": "#2a3f5f"
           }
          },
          "ternary": {
           "aaxis": {
            "gridcolor": "white",
            "linecolor": "white",
            "ticks": ""
           },
           "baxis": {
            "gridcolor": "white",
            "linecolor": "white",
            "ticks": ""
           },
           "bgcolor": "#E5ECF6",
           "caxis": {
            "gridcolor": "white",
            "linecolor": "white",
            "ticks": ""
           }
          },
          "title": {
           "x": 0.05
          },
          "xaxis": {
           "automargin": true,
           "gridcolor": "white",
           "linecolor": "white",
           "ticks": "",
           "title": {
            "standoff": 15
           },
           "zerolinecolor": "white",
           "zerolinewidth": 2
          },
          "yaxis": {
           "automargin": true,
           "gridcolor": "white",
           "linecolor": "white",
           "ticks": "",
           "title": {
            "standoff": 15
           },
           "zerolinecolor": "white",
           "zerolinewidth": 2
          }
         }
        },
        "xaxis": {
         "anchor": "y2",
         "domain": [
          0,
          1
         ],
         "zeroline": false
        },
        "yaxis": {
         "anchor": "free",
         "domain": [
          0.35,
          1
         ],
         "position": 0
        },
        "yaxis2": {
         "anchor": "x",
         "domain": [
          0,
          0.25
         ],
         "dtick": 1,
         "showticklabels": false
        }
       }
      }
     },
     "metadata": {},
     "output_type": "display_data"
    }
   ],
   "source": [
    "fig = ff.create_distplot([pivot_state[\"Infant Mortality\"]], [\"Infant Mortality\"])\n",
    "fig.add_vline(x=6, line_color=\"red\", line_width=3, line_dash=\"dash\")\n",
    "fig"
   ]
  },
  {
   "cell_type": "code",
   "execution_count": 50,
   "metadata": {},
   "outputs": [
    {
     "data": {
      "application/vnd.plotly.v1+json": {
       "config": {
        "plotlyServerURL": "https://plot.ly"
       },
       "data": [
        {
         "meanline": {
          "visible": true
         },
         "name": "Infant Mortality",
         "side": "negative",
         "type": "violin",
         "y": [
          5.070000171661377,
          6.989999771118164,
          7.380000114440918,
          5.190000057220459,
          3.9200000762939453,
          4.800000190734863,
          4.329999923706055,
          5.099999904632568,
          5.800000190734863,
          6.28000020980835,
          4.880000114440918,
          4.429999828338623,
          5.059999942779541,
          5.5,
          6.75,
          6.599999904632568,
          6.429999828338623,
          7.590000152587891,
          3.940000057220459,
          5.730000019073486,
          6.329999923706055,
          6.800000190734863,
          4.130000114440918,
          5.889999866485596,
          8.119999885559082,
          5,
          6.769999980926514,
          5.46999979019165,
          5.679999828338623,
          4.409999847412109,
          4,
          5.300000190734863,
          4.639999866485596,
          4.079999923706055,
          6.699999809265137,
          5.900000095367432,
          4.21999979019165,
          5.579999923706055,
          3.9600000381469727,
          6.639999866485596,
          7.300000190734863,
          6.380000114440918,
          5.289999961853027,
          5.429999828338623,
          5.760000228881836,
          0,
          4.510000228881836,
          5.940000057220459,
          7.329999923706055,
          5.21999979019165
         ]
        }
       ],
       "layout": {
        "shapes": [
         {
          "line": {
           "color": "red",
           "dash": "dash",
           "width": 3
          },
          "type": "line",
          "x0": 0,
          "x1": 1,
          "xref": "x domain",
          "y0": 6,
          "y1": 6,
          "yref": "y"
         }
        ],
        "template": {
         "data": {
          "bar": [
           {
            "error_x": {
             "color": "#2a3f5f"
            },
            "error_y": {
             "color": "#2a3f5f"
            },
            "marker": {
             "line": {
              "color": "#E5ECF6",
              "width": 0.5
             },
             "pattern": {
              "fillmode": "overlay",
              "size": 10,
              "solidity": 0.2
             }
            },
            "type": "bar"
           }
          ],
          "barpolar": [
           {
            "marker": {
             "line": {
              "color": "#E5ECF6",
              "width": 0.5
             },
             "pattern": {
              "fillmode": "overlay",
              "size": 10,
              "solidity": 0.2
             }
            },
            "type": "barpolar"
           }
          ],
          "carpet": [
           {
            "aaxis": {
             "endlinecolor": "#2a3f5f",
             "gridcolor": "white",
             "linecolor": "white",
             "minorgridcolor": "white",
             "startlinecolor": "#2a3f5f"
            },
            "baxis": {
             "endlinecolor": "#2a3f5f",
             "gridcolor": "white",
             "linecolor": "white",
             "minorgridcolor": "white",
             "startlinecolor": "#2a3f5f"
            },
            "type": "carpet"
           }
          ],
          "choropleth": [
           {
            "colorbar": {
             "outlinewidth": 0,
             "ticks": ""
            },
            "type": "choropleth"
           }
          ],
          "contour": [
           {
            "colorbar": {
             "outlinewidth": 0,
             "ticks": ""
            },
            "colorscale": [
             [
              0,
              "#0d0887"
             ],
             [
              0.1111111111111111,
              "#46039f"
             ],
             [
              0.2222222222222222,
              "#7201a8"
             ],
             [
              0.3333333333333333,
              "#9c179e"
             ],
             [
              0.4444444444444444,
              "#bd3786"
             ],
             [
              0.5555555555555556,
              "#d8576b"
             ],
             [
              0.6666666666666666,
              "#ed7953"
             ],
             [
              0.7777777777777778,
              "#fb9f3a"
             ],
             [
              0.8888888888888888,
              "#fdca26"
             ],
             [
              1,
              "#f0f921"
             ]
            ],
            "type": "contour"
           }
          ],
          "contourcarpet": [
           {
            "colorbar": {
             "outlinewidth": 0,
             "ticks": ""
            },
            "type": "contourcarpet"
           }
          ],
          "heatmap": [
           {
            "colorbar": {
             "outlinewidth": 0,
             "ticks": ""
            },
            "colorscale": [
             [
              0,
              "#0d0887"
             ],
             [
              0.1111111111111111,
              "#46039f"
             ],
             [
              0.2222222222222222,
              "#7201a8"
             ],
             [
              0.3333333333333333,
              "#9c179e"
             ],
             [
              0.4444444444444444,
              "#bd3786"
             ],
             [
              0.5555555555555556,
              "#d8576b"
             ],
             [
              0.6666666666666666,
              "#ed7953"
             ],
             [
              0.7777777777777778,
              "#fb9f3a"
             ],
             [
              0.8888888888888888,
              "#fdca26"
             ],
             [
              1,
              "#f0f921"
             ]
            ],
            "type": "heatmap"
           }
          ],
          "heatmapgl": [
           {
            "colorbar": {
             "outlinewidth": 0,
             "ticks": ""
            },
            "colorscale": [
             [
              0,
              "#0d0887"
             ],
             [
              0.1111111111111111,
              "#46039f"
             ],
             [
              0.2222222222222222,
              "#7201a8"
             ],
             [
              0.3333333333333333,
              "#9c179e"
             ],
             [
              0.4444444444444444,
              "#bd3786"
             ],
             [
              0.5555555555555556,
              "#d8576b"
             ],
             [
              0.6666666666666666,
              "#ed7953"
             ],
             [
              0.7777777777777778,
              "#fb9f3a"
             ],
             [
              0.8888888888888888,
              "#fdca26"
             ],
             [
              1,
              "#f0f921"
             ]
            ],
            "type": "heatmapgl"
           }
          ],
          "histogram": [
           {
            "marker": {
             "pattern": {
              "fillmode": "overlay",
              "size": 10,
              "solidity": 0.2
             }
            },
            "type": "histogram"
           }
          ],
          "histogram2d": [
           {
            "colorbar": {
             "outlinewidth": 0,
             "ticks": ""
            },
            "colorscale": [
             [
              0,
              "#0d0887"
             ],
             [
              0.1111111111111111,
              "#46039f"
             ],
             [
              0.2222222222222222,
              "#7201a8"
             ],
             [
              0.3333333333333333,
              "#9c179e"
             ],
             [
              0.4444444444444444,
              "#bd3786"
             ],
             [
              0.5555555555555556,
              "#d8576b"
             ],
             [
              0.6666666666666666,
              "#ed7953"
             ],
             [
              0.7777777777777778,
              "#fb9f3a"
             ],
             [
              0.8888888888888888,
              "#fdca26"
             ],
             [
              1,
              "#f0f921"
             ]
            ],
            "type": "histogram2d"
           }
          ],
          "histogram2dcontour": [
           {
            "colorbar": {
             "outlinewidth": 0,
             "ticks": ""
            },
            "colorscale": [
             [
              0,
              "#0d0887"
             ],
             [
              0.1111111111111111,
              "#46039f"
             ],
             [
              0.2222222222222222,
              "#7201a8"
             ],
             [
              0.3333333333333333,
              "#9c179e"
             ],
             [
              0.4444444444444444,
              "#bd3786"
             ],
             [
              0.5555555555555556,
              "#d8576b"
             ],
             [
              0.6666666666666666,
              "#ed7953"
             ],
             [
              0.7777777777777778,
              "#fb9f3a"
             ],
             [
              0.8888888888888888,
              "#fdca26"
             ],
             [
              1,
              "#f0f921"
             ]
            ],
            "type": "histogram2dcontour"
           }
          ],
          "mesh3d": [
           {
            "colorbar": {
             "outlinewidth": 0,
             "ticks": ""
            },
            "type": "mesh3d"
           }
          ],
          "parcoords": [
           {
            "line": {
             "colorbar": {
              "outlinewidth": 0,
              "ticks": ""
             }
            },
            "type": "parcoords"
           }
          ],
          "pie": [
           {
            "automargin": true,
            "type": "pie"
           }
          ],
          "scatter": [
           {
            "marker": {
             "colorbar": {
              "outlinewidth": 0,
              "ticks": ""
             }
            },
            "type": "scatter"
           }
          ],
          "scatter3d": [
           {
            "line": {
             "colorbar": {
              "outlinewidth": 0,
              "ticks": ""
             }
            },
            "marker": {
             "colorbar": {
              "outlinewidth": 0,
              "ticks": ""
             }
            },
            "type": "scatter3d"
           }
          ],
          "scattercarpet": [
           {
            "marker": {
             "colorbar": {
              "outlinewidth": 0,
              "ticks": ""
             }
            },
            "type": "scattercarpet"
           }
          ],
          "scattergeo": [
           {
            "marker": {
             "colorbar": {
              "outlinewidth": 0,
              "ticks": ""
             }
            },
            "type": "scattergeo"
           }
          ],
          "scattergl": [
           {
            "marker": {
             "colorbar": {
              "outlinewidth": 0,
              "ticks": ""
             }
            },
            "type": "scattergl"
           }
          ],
          "scattermapbox": [
           {
            "marker": {
             "colorbar": {
              "outlinewidth": 0,
              "ticks": ""
             }
            },
            "type": "scattermapbox"
           }
          ],
          "scatterpolar": [
           {
            "marker": {
             "colorbar": {
              "outlinewidth": 0,
              "ticks": ""
             }
            },
            "type": "scatterpolar"
           }
          ],
          "scatterpolargl": [
           {
            "marker": {
             "colorbar": {
              "outlinewidth": 0,
              "ticks": ""
             }
            },
            "type": "scatterpolargl"
           }
          ],
          "scatterternary": [
           {
            "marker": {
             "colorbar": {
              "outlinewidth": 0,
              "ticks": ""
             }
            },
            "type": "scatterternary"
           }
          ],
          "surface": [
           {
            "colorbar": {
             "outlinewidth": 0,
             "ticks": ""
            },
            "colorscale": [
             [
              0,
              "#0d0887"
             ],
             [
              0.1111111111111111,
              "#46039f"
             ],
             [
              0.2222222222222222,
              "#7201a8"
             ],
             [
              0.3333333333333333,
              "#9c179e"
             ],
             [
              0.4444444444444444,
              "#bd3786"
             ],
             [
              0.5555555555555556,
              "#d8576b"
             ],
             [
              0.6666666666666666,
              "#ed7953"
             ],
             [
              0.7777777777777778,
              "#fb9f3a"
             ],
             [
              0.8888888888888888,
              "#fdca26"
             ],
             [
              1,
              "#f0f921"
             ]
            ],
            "type": "surface"
           }
          ],
          "table": [
           {
            "cells": {
             "fill": {
              "color": "#EBF0F8"
             },
             "line": {
              "color": "white"
             }
            },
            "header": {
             "fill": {
              "color": "#C8D4E3"
             },
             "line": {
              "color": "white"
             }
            },
            "type": "table"
           }
          ]
         },
         "layout": {
          "annotationdefaults": {
           "arrowcolor": "#2a3f5f",
           "arrowhead": 0,
           "arrowwidth": 1
          },
          "autotypenumbers": "strict",
          "coloraxis": {
           "colorbar": {
            "outlinewidth": 0,
            "ticks": ""
           }
          },
          "colorscale": {
           "diverging": [
            [
             0,
             "#8e0152"
            ],
            [
             0.1,
             "#c51b7d"
            ],
            [
             0.2,
             "#de77ae"
            ],
            [
             0.3,
             "#f1b6da"
            ],
            [
             0.4,
             "#fde0ef"
            ],
            [
             0.5,
             "#f7f7f7"
            ],
            [
             0.6,
             "#e6f5d0"
            ],
            [
             0.7,
             "#b8e186"
            ],
            [
             0.8,
             "#7fbc41"
            ],
            [
             0.9,
             "#4d9221"
            ],
            [
             1,
             "#276419"
            ]
           ],
           "sequential": [
            [
             0,
             "#0d0887"
            ],
            [
             0.1111111111111111,
             "#46039f"
            ],
            [
             0.2222222222222222,
             "#7201a8"
            ],
            [
             0.3333333333333333,
             "#9c179e"
            ],
            [
             0.4444444444444444,
             "#bd3786"
            ],
            [
             0.5555555555555556,
             "#d8576b"
            ],
            [
             0.6666666666666666,
             "#ed7953"
            ],
            [
             0.7777777777777778,
             "#fb9f3a"
            ],
            [
             0.8888888888888888,
             "#fdca26"
            ],
            [
             1,
             "#f0f921"
            ]
           ],
           "sequentialminus": [
            [
             0,
             "#0d0887"
            ],
            [
             0.1111111111111111,
             "#46039f"
            ],
            [
             0.2222222222222222,
             "#7201a8"
            ],
            [
             0.3333333333333333,
             "#9c179e"
            ],
            [
             0.4444444444444444,
             "#bd3786"
            ],
            [
             0.5555555555555556,
             "#d8576b"
            ],
            [
             0.6666666666666666,
             "#ed7953"
            ],
            [
             0.7777777777777778,
             "#fb9f3a"
            ],
            [
             0.8888888888888888,
             "#fdca26"
            ],
            [
             1,
             "#f0f921"
            ]
           ]
          },
          "colorway": [
           "#636efa",
           "#EF553B",
           "#00cc96",
           "#ab63fa",
           "#FFA15A",
           "#19d3f3",
           "#FF6692",
           "#B6E880",
           "#FF97FF",
           "#FECB52"
          ],
          "font": {
           "color": "#2a3f5f"
          },
          "geo": {
           "bgcolor": "white",
           "lakecolor": "white",
           "landcolor": "#E5ECF6",
           "showlakes": true,
           "showland": true,
           "subunitcolor": "white"
          },
          "hoverlabel": {
           "align": "left"
          },
          "hovermode": "closest",
          "mapbox": {
           "style": "light"
          },
          "paper_bgcolor": "white",
          "plot_bgcolor": "#E5ECF6",
          "polar": {
           "angularaxis": {
            "gridcolor": "white",
            "linecolor": "white",
            "ticks": ""
           },
           "bgcolor": "#E5ECF6",
           "radialaxis": {
            "gridcolor": "white",
            "linecolor": "white",
            "ticks": ""
           }
          },
          "scene": {
           "xaxis": {
            "backgroundcolor": "#E5ECF6",
            "gridcolor": "white",
            "gridwidth": 2,
            "linecolor": "white",
            "showbackground": true,
            "ticks": "",
            "zerolinecolor": "white"
           },
           "yaxis": {
            "backgroundcolor": "#E5ECF6",
            "gridcolor": "white",
            "gridwidth": 2,
            "linecolor": "white",
            "showbackground": true,
            "ticks": "",
            "zerolinecolor": "white"
           },
           "zaxis": {
            "backgroundcolor": "#E5ECF6",
            "gridcolor": "white",
            "gridwidth": 2,
            "linecolor": "white",
            "showbackground": true,
            "ticks": "",
            "zerolinecolor": "white"
           }
          },
          "shapedefaults": {
           "line": {
            "color": "#2a3f5f"
           }
          },
          "ternary": {
           "aaxis": {
            "gridcolor": "white",
            "linecolor": "white",
            "ticks": ""
           },
           "baxis": {
            "gridcolor": "white",
            "linecolor": "white",
            "ticks": ""
           },
           "bgcolor": "#E5ECF6",
           "caxis": {
            "gridcolor": "white",
            "linecolor": "white",
            "ticks": ""
           }
          },
          "title": {
           "x": 0.05
          },
          "xaxis": {
           "automargin": true,
           "gridcolor": "white",
           "linecolor": "white",
           "ticks": "",
           "title": {
            "standoff": 15
           },
           "zerolinecolor": "white",
           "zerolinewidth": 2
          },
          "yaxis": {
           "automargin": true,
           "gridcolor": "white",
           "linecolor": "white",
           "ticks": "",
           "title": {
            "standoff": 15
           },
           "zerolinecolor": "white",
           "zerolinewidth": 2
          }
         }
        }
       }
      }
     },
     "metadata": {},
     "output_type": "display_data"
    }
   ],
   "source": [
    "fig = go.Figure()\n",
    "fig.add_trace(go.Violin(y=pivot_state[\"Infant Mortality\"], name=\"Infant Mortality\", side=\"negative\", meanline_visible=True))\n",
    "fig.add_hline(y=6, line_color=\"red\", line_width=3, line_dash=\"dash\")\n",
    "fig.show()\n"
   ]
  },
  {
   "cell_type": "code",
   "execution_count": null,
   "metadata": {},
   "outputs": [],
   "source": [
    "merged_df.dtypes"
   ]
  },
  {
   "cell_type": "code",
   "execution_count": null,
   "metadata": {},
   "outputs": [],
   "source": [
    "hist = ff.create_distplot([pivot_state[\"Infant Mortality\"]], [\"Infant Mortality\"])\n",
    "hist.add_vline(x=6, line_color=\"red\", line_width=3, line_dash=\"dash\")\n",
    "hist.data[]"
   ]
  },
  {
   "cell_type": "code",
   "execution_count": null,
   "metadata": {},
   "outputs": [],
   "source": [
    "fig = make_subplots(rows=3, cols=1, vertical_spacing= 0.01, subplot_titles=(\"Infant Mortality\",\"\",\"\", \"\"))\n",
    "hist = ff.create_distplot([pivot_state[\"Infant Mortality\"]], [\"Infant Mortality\"])\n",
    "fig.add_trace(hist.data[0], row=1, col=1)\n",
    "fig.add_trace(hist.data[1], row=1, col=1)\n",
    "#fig.add_trace(hist.data[2], row=1, col=1)\n",
    "fig.add_trace(go.Scatter(y = merged_df[\"Low Birth Weight\"], x = merged_df[\"Infant Mortality\"], mode=\"markers\",  \n",
    "                         marker=dict(\n",
    "                                size=6,\n",
    "                                color=merged_df[\"Part_Score\"], #set color equal to a variable\n",
    "                                colorscale='Bluered', # one of plotly colorscales\n",
    "                                #showscale=True\n",
    "                        ),), row=2, col=1)\n",
    "fig.add_trace(go.Scatter(y = merged_df[\"Premature\"], \n",
    "                         x = merged_df[\"Infant Mortality\"], \n",
    "                         mode=\"markers\",  \n",
    "                         marker=dict(\n",
    "                                size=6,\n",
    "                                color=merged_df[\"Part_Score\"], #set color equal to a variable\n",
    "                                colorscale='Bluered', # one of plotly colorscales\n",
    "                                #showscale=True\n",
    "                        ),), row=3, col=1)\n",
    "#fig.add_trace(go.Histogram(x=pivot_state[\"Low Birth Weight\"], nbinsx=15), row=1, col=2)\n",
    "#fig.add_trace(go.Histogram(x=pivot_state[\"Premature\"], histnorm=\"probability density\", nbinsx=15), row=1, col=3)\n",
    "fig.add_vline(x=6, line_color=\"green\", line_width=3, line_dash=\"dash\", row=1, col=1)\n",
    "fig.add_vline(x=6, line_color=\"green\", line_width=3, line_dash=\"dash\", row=2, col=1)\n",
    "fig.add_vline(x=6, line_color=\"green\", line_width=3, line_dash=\"dash\", row=3, col=1)\n",
    "#fig.add_vline(x=6, line_color=\"green\", line_width=3, line_dash=\"dash\", row=4, col=1)\n",
    "#Set xrange to 0-6\n",
    "fig.update_xaxes(range=[3,10])\n",
    "#remove xaxis from histogram\n",
    "#fig.update_xaxes(showticklabels=False, row=1, col=1)\n",
    "#fig.update_xaxes(showticklabels=False, row=2, col=1)\n",
    "#fig.update_xaxes(showticklabels=False, row=3, col=1)\n",
    "fig.update_layout(height=800, plot_bgcolor='rgba(0,0,0,0)')\n",
    "fig['layout']['yaxis1']['title']=''\n",
    "fig['layout']['yaxis1']['title']='Infant Mortality'\n",
    "fig['layout']['yaxis2']['title']='Birth Weight'\n",
    "fig['layout']['yaxis3']['title']='Premature'\n",
    "fig['layout']['xaxis3']['title']='Infant Mortality'\n",
    "fig.update_xaxes(showline=True, linewidth=2, linecolor='black', mirror=False)\n",
    "fig.update_yaxes(showline=True, linewidth=2, linecolor='black', mirror=False)\n",
    "#hide legend\n",
    "fig.update_layout(showlegend=False)\n",
    "#Add yaxis titles\n",
    "fig.show()\n"
   ]
  },
  {
   "cell_type": "code",
   "execution_count": null,
   "metadata": {},
   "outputs": [],
   "source": [
    "fig = make_subplots(rows=1, cols=2, subplot_titles=(\"Infant Mortality\",\"Birth Weight\", \"Premature\"))\n",
    "hist = px.histogram(pivot_state, y=\"Infant Mortality\", marginal=\"rug\")\n",
    "hist.update_layout(\n",
    "    xaxis={'side': 'top'}, \n",
    "    yaxis={'side': 'right'}  \n",
    ")\n",
    "for i, t in enumerate(hist.data):\n",
    "    fig.add_trace(t, row=1, col=2-i)\n",
    "fig.show()"
   ]
  },
  {
   "cell_type": "code",
   "execution_count": null,
   "metadata": {},
   "outputs": [],
   "source": [
    "pivot_state.columns"
   ]
  },
  {
   "cell_type": "code",
   "execution_count": null,
   "metadata": {},
   "outputs": [],
   "source": []
  },
  {
   "cell_type": "code",
   "execution_count": null,
   "metadata": {},
   "outputs": [],
   "source": []
  },
  {
   "cell_type": "code",
   "execution_count": null,
   "metadata": {},
   "outputs": [],
   "source": [
    "merged_df.sample(3)"
   ]
  },
  {
   "cell_type": "code",
   "execution_count": null,
   "metadata": {},
   "outputs": [],
   "source": [
    "fig = px.histogram(merged_df, x=\"Low Birth Weight\", marginal=\"rug\", color=\"category\")\n",
    "#fig.add_vline(x=60, line_color=\"red\",  line_width=3, line_dash=\"dash\")\n",
    "fig.show()"
   ]
  },
  {
   "cell_type": "code",
   "execution_count": null,
   "metadata": {},
   "outputs": [],
   "source": [
    "fig = go.Figure()\n",
    "fig.add_trace(go.Box(\n",
    "    y=merged_df[\"Infant Mortality\"],\n",
    "    marker_symbol='line-ns-open', \n",
    "    marker_color='blue',\n",
    "    boxpoints='all',\n",
    "    jitter=0,\n",
    "    fillcolor='rgba(255,255,255,0)',\n",
    "    line_color='rgba(255,255,255,0)',\n",
    "    hoveron='points',\n",
    "    name='rug'\n",
    "))\n"
   ]
  },
  {
   "cell_type": "code",
   "execution_count": null,
   "metadata": {},
   "outputs": [],
   "source": [
    "group_labels = ['distplot']\n",
    "fig = ff.create_distplot([merged_df[\"Infant Mortality\"]], group_labels )\n",
    "fig.show()"
   ]
  },
  {
   "cell_type": "code",
   "execution_count": null,
   "metadata": {},
   "outputs": [],
   "source": []
  },
  {
   "cell_type": "code",
   "execution_count": null,
   "metadata": {},
   "outputs": [],
   "source": []
  },
  {
   "cell_type": "code",
   "execution_count": null,
   "metadata": {},
   "outputs": [],
   "source": [
    "merged_df"
   ]
  },
  {
   "cell_type": "code",
   "execution_count": null,
   "metadata": {},
   "outputs": [],
   "source": []
  },
  {
   "cell_type": "code",
   "execution_count": null,
   "metadata": {},
   "outputs": [],
   "source": [
    "def create_birth_plots(state):\n",
    "        state_infant_mortality = merged_df[merged_df[\"State\"] == state][\"Infant Mortality\"].values[0]\n",
    "        state_infant_premature = merged_df[merged_df[\"State\"] == state][\"Premature\"].values[0]\n",
    "        state_infant_birth = merged_df[merged_df[\"State\"] == state][\"Low Birth Weight\"].values[0]\n",
    "        state_conservativeness = merged_df[merged_df[\"State\"] == state][\"Part_Score\"].values[0]\n",
    "        \n",
    "        \n",
    "\n",
    "        \n",
    "        \n",
    "        fig = make_subplots(rows=4, cols=1, vertical_spacing= 0.01, subplot_titles=(\"Infant Mortality\",\"\",\"\", \"\"))\n",
    "        \n",
    "        \n",
    "        \n",
    "        \n",
    "        hist = ff.create_distplot([merged_df[\"Infant Mortality\"]], [\"Infant Mortality\"])\n",
    "        fig.add_trace(hist.data[0], row=1, col=1)\n",
    "        fig.add_trace(hist.data[1], row=1, col=1)\n",
    "        #fig.add_trace(hist.data[2], row=1, col=1)\n",
    "        \n",
    "        \n",
    "        \n",
    "        fig.add_trace(go.Scatter(y = merged_df[\"Low Birth Weight\"], x = merged_df[\"Infant Mortality\"], mode=\"markers\",\n",
    "                                 hovertext=merged_df[\"State\"],    \n",
    "                                 marker=dict(\n",
    "                                        size=6,\n",
    "                                        color=merged_df[\"Part_Score\"], #set color equal to a variable\n",
    "                                        colorscale='Bluered', # one of plotly colorscales\n",
    "                                        #showscale=True\n",
    "                                ),), row=2, col=1)\n",
    "        \n",
    "        fig.add_trace(go.Scatter(y = [state_infant_birth], x =[state_infant_mortality], mode=\"markers\",  \n",
    "                                 marker=dict(\n",
    "                                        size=20,\n",
    "                                        color=\"Green\", \n",
    "                                        opacity=0.2,\n",
    "                                ),), row=2, col=1)\n",
    "        \n",
    "        \n",
    "        fig.add_trace(go.Scatter(y = merged_df[\"Premature\"], \n",
    "                                 x = merged_df[\"Infant Mortality\"], \n",
    "                                 mode=\"markers\",\n",
    "                                 hovertext=merged_df[\"State\"],    \n",
    "                                 marker=dict(\n",
    "                                        size=6,\n",
    "                                        color=merged_df[\"Part_Score\"], #set color equal to a variable\n",
    "                                        colorscale='Bluered', # one of plotly colorscales\n",
    "                                        #showscale=True\n",
    "                                ),), row=3, col=1)\n",
    "        \n",
    "        fig.add_trace(go.Scatter(y = [state_infant_premature], x =[state_infant_mortality], mode=\"markers\",  \n",
    "                                 marker=dict(\n",
    "                                        size=20,\n",
    "                                        color=\"Green\", \n",
    "                                        opacity=0.2,\n",
    "                                ),), row=3, col=1)\n",
    "        \n",
    "        #add scatter for Part_score\n",
    "        fig.add_trace(go.Scatter(y = merged_df[\"Part_Score\"], \n",
    "                                 x = merged_df[\"Infant Mortality\"], \n",
    "                                 mode=\"markers\",\n",
    "                                 hovertext=merged_df[\"State\"],  \n",
    "                                 marker=dict(\n",
    "                                        size=6,\n",
    "                                        color=merged_df[\"Part_Score\"], #set color equal to a variable\n",
    "                                        colorscale='Bluered', # one of plotly colorscales\n",
    "                                        #showscale=True\n",
    "                                ),), row=4, col=1)\n",
    "        \n",
    "        fig.add_trace(go.Scatter(y = [state_conservativeness], \n",
    "                                 x =[state_infant_mortality], \n",
    "                                 mode=\"markers\",  \n",
    "                                 marker=dict(\n",
    "                                        size=20,\n",
    "                                        color=\"Green\", \n",
    "                                        opacity=0.2,\n",
    "                                ),\n",
    "                                ), row=4, col=1)\n",
    "        \n",
    "        fig.add_vline(x=state_infant_mortality, line_color=\"green\", line_width=2, line_dash=\"dash\", row=1, col=1, opacity=0.7)\n",
    "        fig.add_vline(x=state_infant_mortality, line_color=\"green\", line_width=2, line_dash=\"dash\", row=2, col=1, opacity=0.7)\n",
    "        fig.add_vline(x=state_infant_mortality, line_color=\"green\", line_width=2, line_dash=\"dash\", row=3, col=1, opacity=0.7)\n",
    "        fig.add_vline(x=state_infant_mortality, line_color=\"green\", line_width=2, line_dash=\"dash\", row=4, col=1, opacity=0.7)\n",
    "        \n",
    "        #update x range to min and max\n",
    "        fig.update_xaxes(range=[math.floor(merged_df[\"Infant Mortality\"].min()),math.ceil(merged_df[\"Infant Mortality\"].max())])\n",
    "        #remove xaxis from histogram\n",
    "        fig.update_xaxes(showticklabels=False, row=1, col=1)\n",
    "        fig.update_xaxes(showticklabels=False, row=2, col=1)\n",
    "        fig.update_xaxes(showticklabels=False, row=3, col=1)\n",
    "        fig.update_layout(height=800, plot_bgcolor='rgba(0,0,0,0)')\n",
    "        fig['layout']['yaxis1']['title']=''\n",
    "        fig['layout']['yaxis1']['title']='Infant Mortality State Dist'\n",
    "        fig['layout']['yaxis2']['title']='Birth Weight/100k'\n",
    "        fig['layout']['yaxis3']['title']='Premature Births/100k'\n",
    "        fig['layout']['yaxis4']['title']='Conservativeness'\n",
    "        fig['layout']['xaxis4']['title']='Infant Mortality/100k'\n",
    "        fig.update_xaxes(showline=True, linewidth=2, linecolor='black', mirror=False)\n",
    "        fig.update_yaxes(showline=True, linewidth=2, linecolor='black', mirror=False)\n",
    "        #hide legend\n",
    "        fig.update_layout(showlegend=False)\n",
    "        #Add yaxis titles\n",
    "        fig.show()\n",
    "        "
   ]
  },
  {
   "cell_type": "code",
   "execution_count": null,
   "metadata": {},
   "outputs": [],
   "source": [
    "create_birth_plots(\"AZ\")"
   ]
  },
  {
   "cell_type": "code",
   "execution_count": 5,
   "metadata": {},
   "outputs": [
    {
     "name": "stdout",
     "output_type": "stream",
     "text": [
      "Checking for NAs in 2020 ind ['Life Exp'] rate 0\n",
      "Checking for NAs in 2019 ind ['Life Exp'] rate 0\n",
      "Checking for NAs in 2018 ind ['Life Exp'] rate 0\n",
      "Checking for NAs in 2020 ind ['Infant Mortality'] rate 0\n",
      "Checking for NAs in 2019 ind ['Infant Mortality'] rate 0\n",
      "Checking for NAs in 2018 ind ['Infant Mortality'] rate 0\n",
      "Checking for NAs in 2017 ind ['Infant Mortality'] rate 0\n",
      "Checking for NAs in 2016 ind ['Infant Mortality'] rate 0\n",
      "Checking for NAs in 2015 ind ['Infant Mortality'] rate 0\n",
      "Checking for NAs in 2014 ind ['Infant Mortality'] rate 0\n",
      "Checking for NAs in 2005 ind ['Infant Mortality'] rate 0\n",
      "Checking for NAs in 2021 ind ['Fertility Rate'] rate 0\n",
      "Checking for NAs in 2020 ind ['Fertility Rate'] rate 0\n",
      "Checking for NAs in 2019 ind ['Fertility Rate'] rate 0\n",
      "Checking for NAs in 2018 ind ['Fertility Rate'] rate 0\n",
      "Checking for NAs in 2017 ind ['Fertility Rate'] rate 0\n",
      "Checking for NAs in 2016 ind ['Fertility Rate'] rate 0\n",
      "Checking for NAs in 2015 ind ['Fertility Rate'] rate 0\n",
      "Checking for NAs in 2014 ind ['Fertility Rate'] rate 0\n",
      "Checking for NAs in 2005 ind ['Fertility Rate'] rate 0\n",
      "Checking for NAs in 2021 ind ['Low Birth Weight'] rate 0\n",
      "Checking for NAs in 2020 ind ['Low Birth Weight'] rate 0\n",
      "Checking for NAs in 2019 ind ['Low Birth Weight'] rate 0\n",
      "Checking for NAs in 2018 ind ['Low Birth Weight'] rate 0\n",
      "Checking for NAs in 2017 ind ['Low Birth Weight'] rate 0\n",
      "Checking for NAs in 2016 ind ['Low Birth Weight'] rate 0\n",
      "Checking for NAs in 2015 ind ['Low Birth Weight'] rate 0\n",
      "Checking for NAs in 2014 ind ['Low Birth Weight'] rate 0\n",
      "Checking for NAs in 2005 ind ['Low Birth Weight'] rate 0\n",
      "Checking for NAs in 2021 ind ['Premature'] rate 0\n",
      "Checking for NAs in 2020 ind ['Premature'] rate 0\n",
      "Checking for NAs in 2019 ind ['Premature'] rate 0\n",
      "Checking for NAs in 2018 ind ['Premature'] rate 0\n",
      "Checking for NAs in 2017 ind ['Premature'] rate 0\n",
      "Checking for NAs in 2016 ind ['Premature'] rate 0\n",
      "Checking for NAs in 2015 ind ['Premature'] rate 0\n",
      "Checking for NAs in 2014 ind ['Premature'] rate 0\n",
      "Checking for NAs in 2005 ind ['Premature'] rate 0\n",
      "Checking for NAs in 2021 ind ['Teen Birth'] rate 0\n",
      "Checking for NAs in 2020 ind ['Teen Birth'] rate 0\n",
      "Checking for NAs in 2019 ind ['Teen Birth'] rate 0\n",
      "Checking for NAs in 2018 ind ['Teen Birth'] rate 0\n",
      "Checking for NAs in 2017 ind ['Teen Birth'] rate 0\n",
      "Checking for NAs in 2016 ind ['Teen Birth'] rate 0\n",
      "Checking for NAs in 2015 ind ['Teen Birth'] rate 0\n",
      "Checking for NAs in 2014 ind ['Teen Birth'] rate 0\n",
      "Checking for NAs in 2005 ind ['Teen Birth'] rate 0\n",
      "Checking for NAs in 2021 ind ['Unmarried Birth'] rate 0\n",
      "Checking for NAs in 2020 ind ['Unmarried Birth'] rate 0\n",
      "Checking for NAs in 2019 ind ['Unmarried Birth'] rate 0\n",
      "Checking for NAs in 2018 ind ['Unmarried Birth'] rate 0\n",
      "Checking for NAs in 2017 ind ['Unmarried Birth'] rate 0\n",
      "Checking for NAs in 2016 ind ['Unmarried Birth'] rate 0\n",
      "Checking for NAs in 2015 ind ['Unmarried Birth'] rate 0\n",
      "Checking for NAs in 2014 ind ['Unmarried Birth'] rate 0\n",
      "Checking for NAs in 2005 ind ['Unmarried Birth'] rate 0\n"
     ]
    }
   ],
   "source": [
    "life_data = LifeData()\n",
    "pivot_state =life_data.get_long_format()\n",
    "part = Partisian.get_state_part_score()\n",
    "df = pd.merge(part, pivot_state)"
   ]
  },
  {
   "cell_type": "markdown",
   "metadata": {},
   "source": []
  },
  {
   "cell_type": "code",
   "execution_count": 10,
   "metadata": {},
   "outputs": [
    {
     "data": {
      "text/html": [
       "<div>\n",
       "<style scoped>\n",
       "    .dataframe tbody tr th:only-of-type {\n",
       "        vertical-align: middle;\n",
       "    }\n",
       "\n",
       "    .dataframe tbody tr th {\n",
       "        vertical-align: top;\n",
       "    }\n",
       "\n",
       "    .dataframe thead th {\n",
       "        text-align: right;\n",
       "    }\n",
       "</style>\n",
       "<table border=\"1\" class=\"dataframe\">\n",
       "  <thead>\n",
       "    <tr style=\"text-align: right;\">\n",
       "      <th></th>\n",
       "      <th>State</th>\n",
       "      <th>Part_Score</th>\n",
       "      <th>Year</th>\n",
       "      <th>category</th>\n",
       "      <th>Fertility Rate</th>\n",
       "      <th>Infant Mortality</th>\n",
       "      <th>Life Exp</th>\n",
       "      <th>Low Birth Weight</th>\n",
       "      <th>Premature</th>\n",
       "      <th>Teen Birth</th>\n",
       "      <th>Unmarried Birth</th>\n",
       "    </tr>\n",
       "  </thead>\n",
       "  <tbody>\n",
       "    <tr>\n",
       "      <th>42</th>\n",
       "      <td>ID</td>\n",
       "      <td>1.000000</td>\n",
       "      <td>2024</td>\n",
       "      <td>Right</td>\n",
       "      <td>60.700001</td>\n",
       "      <td>5.06</td>\n",
       "      <td>78.400002</td>\n",
       "      <td>6.67</td>\n",
       "      <td>8.99</td>\n",
       "      <td>12.0</td>\n",
       "      <td>27.200001</td>\n",
       "    </tr>\n",
       "    <tr>\n",
       "      <th>11</th>\n",
       "      <td>MA</td>\n",
       "      <td>-0.533333</td>\n",
       "      <td>2024</td>\n",
       "      <td>Left</td>\n",
       "      <td>49.000000</td>\n",
       "      <td>3.94</td>\n",
       "      <td>79.000000</td>\n",
       "      <td>7.52</td>\n",
       "      <td>9.00</td>\n",
       "      <td>5.7</td>\n",
       "      <td>32.599998</td>\n",
       "    </tr>\n",
       "    <tr>\n",
       "      <th>27</th>\n",
       "      <td>AR</td>\n",
       "      <td>0.333333</td>\n",
       "      <td>2024</td>\n",
       "      <td>Right</td>\n",
       "      <td>61.700001</td>\n",
       "      <td>7.38</td>\n",
       "      <td>73.800003</td>\n",
       "      <td>9.52</td>\n",
       "      <td>12.04</td>\n",
       "      <td>26.5</td>\n",
       "      <td>46.299999</td>\n",
       "    </tr>\n",
       "  </tbody>\n",
       "</table>\n",
       "</div>"
      ],
      "text/plain": [
       "   State  Part_Score  Year category  Fertility Rate  Infant Mortality  \\\n",
       "42    ID    1.000000  2024    Right       60.700001              5.06   \n",
       "11    MA   -0.533333  2024     Left       49.000000              3.94   \n",
       "27    AR    0.333333  2024    Right       61.700001              7.38   \n",
       "\n",
       "     Life Exp  Low Birth Weight  Premature  Teen Birth  Unmarried Birth  \n",
       "42  78.400002              6.67       8.99        12.0        27.200001  \n",
       "11  79.000000              7.52       9.00         5.7        32.599998  \n",
       "27  73.800003              9.52      12.04        26.5        46.299999  "
      ]
     },
     "execution_count": 10,
     "metadata": {},
     "output_type": "execute_result"
    }
   ],
   "source": [
    "df.sample(3)"
   ]
  },
  {
   "cell_type": "code",
   "execution_count": 24,
   "metadata": {},
   "outputs": [],
   "source": [
    "def get_best_fit(X, y):\n",
    "    reg = LinearRegression().fit(X, y)\n",
    "    x_range = np.linspace(X.min(), X.max())\n",
    "    y = reg.predict(x_range.reshape(-1,1))\n",
    "    return x_range, y[:,0], reg.coef_\n",
    "new_x, new_y, coef = get_best_fit(df[\"Part_Score\"].values.reshape(-1,1), df[\"Infant Mortality\"].values.reshape(-1,1))"
   ]
  },
  {
   "cell_type": "code",
   "execution_count": 25,
   "metadata": {},
   "outputs": [
    {
     "data": {
      "text/plain": [
       "array([-1.        , -0.95918367, -0.91836735, -0.87755102, -0.83673469,\n",
       "       -0.79591837, -0.75510204, -0.71428571, -0.67346939, -0.63265306,\n",
       "       -0.59183673, -0.55102041, -0.51020408, -0.46938776, -0.42857143,\n",
       "       -0.3877551 , -0.34693878, -0.30612245, -0.26530612, -0.2244898 ,\n",
       "       -0.18367347, -0.14285714, -0.10204082, -0.06122449, -0.02040816,\n",
       "        0.02040816,  0.06122449,  0.10204082,  0.14285714,  0.18367347,\n",
       "        0.2244898 ,  0.26530612,  0.30612245,  0.34693878,  0.3877551 ,\n",
       "        0.42857143,  0.46938776,  0.51020408,  0.55102041,  0.59183673,\n",
       "        0.63265306,  0.67346939,  0.71428571,  0.75510204,  0.79591837,\n",
       "        0.83673469,  0.87755102,  0.91836735,  0.95918367,  1.        ])"
      ]
     },
     "execution_count": 25,
     "metadata": {},
     "output_type": "execute_result"
    }
   ],
   "source": [
    "new_x"
   ]
  },
  {
   "cell_type": "code",
   "execution_count": 26,
   "metadata": {},
   "outputs": [
    {
     "data": {
      "text/plain": [
       "array([4.25530372, 4.29847926, 4.34165479, 4.38483033, 4.42800586,\n",
       "       4.4711814 , 4.51435693, 4.55753247, 4.600708  , 4.64388354,\n",
       "       4.68705907, 4.73023461, 4.77341014, 4.81658568, 4.85976121,\n",
       "       4.90293675, 4.94611228, 4.98928782, 5.03246335, 5.07563889,\n",
       "       5.11881442, 5.16198996, 5.20516549, 5.24834103, 5.29151656,\n",
       "       5.3346921 , 5.37786763, 5.42104317, 5.4642187 , 5.50739424,\n",
       "       5.55056977, 5.59374531, 5.63692084, 5.68009638, 5.72327191,\n",
       "       5.76644745, 5.80962298, 5.85279852, 5.89597405, 5.93914959,\n",
       "       5.98232512, 6.02550066, 6.06867619, 6.11185173, 6.15502726,\n",
       "       6.1982028 , 6.24137833, 6.28455387, 6.3277294 , 6.37090494])"
      ]
     },
     "execution_count": 26,
     "metadata": {},
     "output_type": "execute_result"
    }
   ],
   "source": [
    "new_y"
   ]
  },
  {
   "cell_type": "code",
   "execution_count": 27,
   "metadata": {},
   "outputs": [
    {
     "data": {
      "application/vnd.plotly.v1+json": {
       "config": {
        "plotlyServerURL": "https://plot.ly"
       },
       "data": [
        {
         "type": "scatter",
         "x": [
          -1,
          -0.9591836734693877,
          -0.9183673469387755,
          -0.8775510204081632,
          -0.8367346938775511,
          -0.7959183673469388,
          -0.7551020408163265,
          -0.7142857142857143,
          -0.6734693877551021,
          -0.6326530612244898,
          -0.5918367346938775,
          -0.5510204081632654,
          -0.5102040816326531,
          -0.4693877551020409,
          -0.4285714285714286,
          -0.3877551020408164,
          -0.34693877551020413,
          -0.30612244897959184,
          -0.26530612244897966,
          -0.22448979591836737,
          -0.1836734693877552,
          -0.1428571428571429,
          -0.10204081632653073,
          -0.061224489795918435,
          -0.020408163265306145,
          0.020408163265306145,
          0.06122448979591821,
          0.1020408163265305,
          0.1428571428571428,
          0.18367346938775508,
          0.22448979591836715,
          0.26530612244897944,
          0.30612244897959173,
          0.346938775510204,
          0.3877551020408163,
          0.4285714285714284,
          0.46938775510204067,
          0.510204081632653,
          0.5510204081632653,
          0.5918367346938773,
          0.6326530612244896,
          0.6734693877551019,
          0.7142857142857142,
          0.7551020408163265,
          0.7959183673469385,
          0.8367346938775508,
          0.8775510204081631,
          0.9183673469387754,
          0.9591836734693877,
          1
         ],
         "y": [
          4.255303723814287,
          4.298479258740189,
          4.34165479366609,
          4.384830328591992,
          4.4280058635178925,
          4.471181398443795,
          4.514356933369696,
          4.557532468295597,
          4.600708003221499,
          4.6438835381474,
          4.687059073073302,
          4.730234607999203,
          4.773410142925105,
          4.816585677851006,
          4.859761212776908,
          4.902936747702809,
          4.946112282628711,
          4.9892878175546125,
          5.032463352480514,
          5.0756388874064156,
          5.118814422332317,
          5.161989957258219,
          5.20516549218412,
          5.248341027110021,
          5.291516562035923,
          5.334692096961824,
          5.377867631887725,
          5.421043166813627,
          5.4642187017395285,
          5.50739423666543,
          5.550569771591332,
          5.593745306517233,
          5.636920841443135,
          5.680096376369036,
          5.723271911294938,
          5.766447446220839,
          5.809622981146741,
          5.852798516072642,
          5.895974050998544,
          5.939149585924445,
          5.982325120850346,
          6.0255006557762485,
          6.068676190702149,
          6.111851725628052,
          6.155027260553952,
          6.198202795479854,
          6.241378330405755,
          6.284553865331657,
          6.327729400257558,
          6.37090493518346
         ]
        }
       ],
       "layout": {
        "template": {
         "data": {
          "bar": [
           {
            "error_x": {
             "color": "#2a3f5f"
            },
            "error_y": {
             "color": "#2a3f5f"
            },
            "marker": {
             "line": {
              "color": "#E5ECF6",
              "width": 0.5
             },
             "pattern": {
              "fillmode": "overlay",
              "size": 10,
              "solidity": 0.2
             }
            },
            "type": "bar"
           }
          ],
          "barpolar": [
           {
            "marker": {
             "line": {
              "color": "#E5ECF6",
              "width": 0.5
             },
             "pattern": {
              "fillmode": "overlay",
              "size": 10,
              "solidity": 0.2
             }
            },
            "type": "barpolar"
           }
          ],
          "carpet": [
           {
            "aaxis": {
             "endlinecolor": "#2a3f5f",
             "gridcolor": "white",
             "linecolor": "white",
             "minorgridcolor": "white",
             "startlinecolor": "#2a3f5f"
            },
            "baxis": {
             "endlinecolor": "#2a3f5f",
             "gridcolor": "white",
             "linecolor": "white",
             "minorgridcolor": "white",
             "startlinecolor": "#2a3f5f"
            },
            "type": "carpet"
           }
          ],
          "choropleth": [
           {
            "colorbar": {
             "outlinewidth": 0,
             "ticks": ""
            },
            "type": "choropleth"
           }
          ],
          "contour": [
           {
            "colorbar": {
             "outlinewidth": 0,
             "ticks": ""
            },
            "colorscale": [
             [
              0,
              "#0d0887"
             ],
             [
              0.1111111111111111,
              "#46039f"
             ],
             [
              0.2222222222222222,
              "#7201a8"
             ],
             [
              0.3333333333333333,
              "#9c179e"
             ],
             [
              0.4444444444444444,
              "#bd3786"
             ],
             [
              0.5555555555555556,
              "#d8576b"
             ],
             [
              0.6666666666666666,
              "#ed7953"
             ],
             [
              0.7777777777777778,
              "#fb9f3a"
             ],
             [
              0.8888888888888888,
              "#fdca26"
             ],
             [
              1,
              "#f0f921"
             ]
            ],
            "type": "contour"
           }
          ],
          "contourcarpet": [
           {
            "colorbar": {
             "outlinewidth": 0,
             "ticks": ""
            },
            "type": "contourcarpet"
           }
          ],
          "heatmap": [
           {
            "colorbar": {
             "outlinewidth": 0,
             "ticks": ""
            },
            "colorscale": [
             [
              0,
              "#0d0887"
             ],
             [
              0.1111111111111111,
              "#46039f"
             ],
             [
              0.2222222222222222,
              "#7201a8"
             ],
             [
              0.3333333333333333,
              "#9c179e"
             ],
             [
              0.4444444444444444,
              "#bd3786"
             ],
             [
              0.5555555555555556,
              "#d8576b"
             ],
             [
              0.6666666666666666,
              "#ed7953"
             ],
             [
              0.7777777777777778,
              "#fb9f3a"
             ],
             [
              0.8888888888888888,
              "#fdca26"
             ],
             [
              1,
              "#f0f921"
             ]
            ],
            "type": "heatmap"
           }
          ],
          "heatmapgl": [
           {
            "colorbar": {
             "outlinewidth": 0,
             "ticks": ""
            },
            "colorscale": [
             [
              0,
              "#0d0887"
             ],
             [
              0.1111111111111111,
              "#46039f"
             ],
             [
              0.2222222222222222,
              "#7201a8"
             ],
             [
              0.3333333333333333,
              "#9c179e"
             ],
             [
              0.4444444444444444,
              "#bd3786"
             ],
             [
              0.5555555555555556,
              "#d8576b"
             ],
             [
              0.6666666666666666,
              "#ed7953"
             ],
             [
              0.7777777777777778,
              "#fb9f3a"
             ],
             [
              0.8888888888888888,
              "#fdca26"
             ],
             [
              1,
              "#f0f921"
             ]
            ],
            "type": "heatmapgl"
           }
          ],
          "histogram": [
           {
            "marker": {
             "pattern": {
              "fillmode": "overlay",
              "size": 10,
              "solidity": 0.2
             }
            },
            "type": "histogram"
           }
          ],
          "histogram2d": [
           {
            "colorbar": {
             "outlinewidth": 0,
             "ticks": ""
            },
            "colorscale": [
             [
              0,
              "#0d0887"
             ],
             [
              0.1111111111111111,
              "#46039f"
             ],
             [
              0.2222222222222222,
              "#7201a8"
             ],
             [
              0.3333333333333333,
              "#9c179e"
             ],
             [
              0.4444444444444444,
              "#bd3786"
             ],
             [
              0.5555555555555556,
              "#d8576b"
             ],
             [
              0.6666666666666666,
              "#ed7953"
             ],
             [
              0.7777777777777778,
              "#fb9f3a"
             ],
             [
              0.8888888888888888,
              "#fdca26"
             ],
             [
              1,
              "#f0f921"
             ]
            ],
            "type": "histogram2d"
           }
          ],
          "histogram2dcontour": [
           {
            "colorbar": {
             "outlinewidth": 0,
             "ticks": ""
            },
            "colorscale": [
             [
              0,
              "#0d0887"
             ],
             [
              0.1111111111111111,
              "#46039f"
             ],
             [
              0.2222222222222222,
              "#7201a8"
             ],
             [
              0.3333333333333333,
              "#9c179e"
             ],
             [
              0.4444444444444444,
              "#bd3786"
             ],
             [
              0.5555555555555556,
              "#d8576b"
             ],
             [
              0.6666666666666666,
              "#ed7953"
             ],
             [
              0.7777777777777778,
              "#fb9f3a"
             ],
             [
              0.8888888888888888,
              "#fdca26"
             ],
             [
              1,
              "#f0f921"
             ]
            ],
            "type": "histogram2dcontour"
           }
          ],
          "mesh3d": [
           {
            "colorbar": {
             "outlinewidth": 0,
             "ticks": ""
            },
            "type": "mesh3d"
           }
          ],
          "parcoords": [
           {
            "line": {
             "colorbar": {
              "outlinewidth": 0,
              "ticks": ""
             }
            },
            "type": "parcoords"
           }
          ],
          "pie": [
           {
            "automargin": true,
            "type": "pie"
           }
          ],
          "scatter": [
           {
            "marker": {
             "colorbar": {
              "outlinewidth": 0,
              "ticks": ""
             }
            },
            "type": "scatter"
           }
          ],
          "scatter3d": [
           {
            "line": {
             "colorbar": {
              "outlinewidth": 0,
              "ticks": ""
             }
            },
            "marker": {
             "colorbar": {
              "outlinewidth": 0,
              "ticks": ""
             }
            },
            "type": "scatter3d"
           }
          ],
          "scattercarpet": [
           {
            "marker": {
             "colorbar": {
              "outlinewidth": 0,
              "ticks": ""
             }
            },
            "type": "scattercarpet"
           }
          ],
          "scattergeo": [
           {
            "marker": {
             "colorbar": {
              "outlinewidth": 0,
              "ticks": ""
             }
            },
            "type": "scattergeo"
           }
          ],
          "scattergl": [
           {
            "marker": {
             "colorbar": {
              "outlinewidth": 0,
              "ticks": ""
             }
            },
            "type": "scattergl"
           }
          ],
          "scattermapbox": [
           {
            "marker": {
             "colorbar": {
              "outlinewidth": 0,
              "ticks": ""
             }
            },
            "type": "scattermapbox"
           }
          ],
          "scatterpolar": [
           {
            "marker": {
             "colorbar": {
              "outlinewidth": 0,
              "ticks": ""
             }
            },
            "type": "scatterpolar"
           }
          ],
          "scatterpolargl": [
           {
            "marker": {
             "colorbar": {
              "outlinewidth": 0,
              "ticks": ""
             }
            },
            "type": "scatterpolargl"
           }
          ],
          "scatterternary": [
           {
            "marker": {
             "colorbar": {
              "outlinewidth": 0,
              "ticks": ""
             }
            },
            "type": "scatterternary"
           }
          ],
          "surface": [
           {
            "colorbar": {
             "outlinewidth": 0,
             "ticks": ""
            },
            "colorscale": [
             [
              0,
              "#0d0887"
             ],
             [
              0.1111111111111111,
              "#46039f"
             ],
             [
              0.2222222222222222,
              "#7201a8"
             ],
             [
              0.3333333333333333,
              "#9c179e"
             ],
             [
              0.4444444444444444,
              "#bd3786"
             ],
             [
              0.5555555555555556,
              "#d8576b"
             ],
             [
              0.6666666666666666,
              "#ed7953"
             ],
             [
              0.7777777777777778,
              "#fb9f3a"
             ],
             [
              0.8888888888888888,
              "#fdca26"
             ],
             [
              1,
              "#f0f921"
             ]
            ],
            "type": "surface"
           }
          ],
          "table": [
           {
            "cells": {
             "fill": {
              "color": "#EBF0F8"
             },
             "line": {
              "color": "white"
             }
            },
            "header": {
             "fill": {
              "color": "#C8D4E3"
             },
             "line": {
              "color": "white"
             }
            },
            "type": "table"
           }
          ]
         },
         "layout": {
          "annotationdefaults": {
           "arrowcolor": "#2a3f5f",
           "arrowhead": 0,
           "arrowwidth": 1
          },
          "autotypenumbers": "strict",
          "coloraxis": {
           "colorbar": {
            "outlinewidth": 0,
            "ticks": ""
           }
          },
          "colorscale": {
           "diverging": [
            [
             0,
             "#8e0152"
            ],
            [
             0.1,
             "#c51b7d"
            ],
            [
             0.2,
             "#de77ae"
            ],
            [
             0.3,
             "#f1b6da"
            ],
            [
             0.4,
             "#fde0ef"
            ],
            [
             0.5,
             "#f7f7f7"
            ],
            [
             0.6,
             "#e6f5d0"
            ],
            [
             0.7,
             "#b8e186"
            ],
            [
             0.8,
             "#7fbc41"
            ],
            [
             0.9,
             "#4d9221"
            ],
            [
             1,
             "#276419"
            ]
           ],
           "sequential": [
            [
             0,
             "#0d0887"
            ],
            [
             0.1111111111111111,
             "#46039f"
            ],
            [
             0.2222222222222222,
             "#7201a8"
            ],
            [
             0.3333333333333333,
             "#9c179e"
            ],
            [
             0.4444444444444444,
             "#bd3786"
            ],
            [
             0.5555555555555556,
             "#d8576b"
            ],
            [
             0.6666666666666666,
             "#ed7953"
            ],
            [
             0.7777777777777778,
             "#fb9f3a"
            ],
            [
             0.8888888888888888,
             "#fdca26"
            ],
            [
             1,
             "#f0f921"
            ]
           ],
           "sequentialminus": [
            [
             0,
             "#0d0887"
            ],
            [
             0.1111111111111111,
             "#46039f"
            ],
            [
             0.2222222222222222,
             "#7201a8"
            ],
            [
             0.3333333333333333,
             "#9c179e"
            ],
            [
             0.4444444444444444,
             "#bd3786"
            ],
            [
             0.5555555555555556,
             "#d8576b"
            ],
            [
             0.6666666666666666,
             "#ed7953"
            ],
            [
             0.7777777777777778,
             "#fb9f3a"
            ],
            [
             0.8888888888888888,
             "#fdca26"
            ],
            [
             1,
             "#f0f921"
            ]
           ]
          },
          "colorway": [
           "#636efa",
           "#EF553B",
           "#00cc96",
           "#ab63fa",
           "#FFA15A",
           "#19d3f3",
           "#FF6692",
           "#B6E880",
           "#FF97FF",
           "#FECB52"
          ],
          "font": {
           "color": "#2a3f5f"
          },
          "geo": {
           "bgcolor": "white",
           "lakecolor": "white",
           "landcolor": "#E5ECF6",
           "showlakes": true,
           "showland": true,
           "subunitcolor": "white"
          },
          "hoverlabel": {
           "align": "left"
          },
          "hovermode": "closest",
          "mapbox": {
           "style": "light"
          },
          "paper_bgcolor": "white",
          "plot_bgcolor": "#E5ECF6",
          "polar": {
           "angularaxis": {
            "gridcolor": "white",
            "linecolor": "white",
            "ticks": ""
           },
           "bgcolor": "#E5ECF6",
           "radialaxis": {
            "gridcolor": "white",
            "linecolor": "white",
            "ticks": ""
           }
          },
          "scene": {
           "xaxis": {
            "backgroundcolor": "#E5ECF6",
            "gridcolor": "white",
            "gridwidth": 2,
            "linecolor": "white",
            "showbackground": true,
            "ticks": "",
            "zerolinecolor": "white"
           },
           "yaxis": {
            "backgroundcolor": "#E5ECF6",
            "gridcolor": "white",
            "gridwidth": 2,
            "linecolor": "white",
            "showbackground": true,
            "ticks": "",
            "zerolinecolor": "white"
           },
           "zaxis": {
            "backgroundcolor": "#E5ECF6",
            "gridcolor": "white",
            "gridwidth": 2,
            "linecolor": "white",
            "showbackground": true,
            "ticks": "",
            "zerolinecolor": "white"
           }
          },
          "shapedefaults": {
           "line": {
            "color": "#2a3f5f"
           }
          },
          "ternary": {
           "aaxis": {
            "gridcolor": "white",
            "linecolor": "white",
            "ticks": ""
           },
           "baxis": {
            "gridcolor": "white",
            "linecolor": "white",
            "ticks": ""
           },
           "bgcolor": "#E5ECF6",
           "caxis": {
            "gridcolor": "white",
            "linecolor": "white",
            "ticks": ""
           }
          },
          "title": {
           "x": 0.05
          },
          "xaxis": {
           "automargin": true,
           "gridcolor": "white",
           "linecolor": "white",
           "ticks": "",
           "title": {
            "standoff": 15
           },
           "zerolinecolor": "white",
           "zerolinewidth": 2
          },
          "yaxis": {
           "automargin": true,
           "gridcolor": "white",
           "linecolor": "white",
           "ticks": "",
           "title": {
            "standoff": 15
           },
           "zerolinecolor": "white",
           "zerolinewidth": 2
          }
         }
        }
       }
      }
     },
     "metadata": {},
     "output_type": "display_data"
    }
   ],
   "source": [
    "fig = go.Figure()\n",
    "fig.add_trace(go.Scatter(x = new_x, y = new_y)) \n",
    "fig.show()"
   ]
  },
  {
   "cell_type": "code",
   "execution_count": null,
   "metadata": {},
   "outputs": [],
   "source": []
  }
 ],
 "metadata": {
  "kernelspec": {
   "display_name": "real-fast",
   "language": "python",
   "name": "python3"
  },
  "language_info": {
   "codemirror_mode": {
    "name": "ipython",
    "version": 3
   },
   "file_extension": ".py",
   "mimetype": "text/x-python",
   "name": "python",
   "nbconvert_exporter": "python",
   "pygments_lexer": "ipython3",
   "version": "3.8.4"
  },
  "orig_nbformat": 4
 },
 "nbformat": 4,
 "nbformat_minor": 2
}
