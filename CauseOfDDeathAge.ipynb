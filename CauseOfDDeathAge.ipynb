{
 "cells": [
  {
   "cell_type": "code",
   "execution_count": 61,
   "metadata": {},
   "outputs": [],
   "source": [
    "import pandas as pd\n",
    "from dash import Dash, html, dcc, callback, Output, Input\n",
    "import censusgeocode as cg\n",
    "import plotly.figure_factory as ff\n",
    "from urllib.request import urlopen\n",
    "import json\n",
    "import plotly.express as px\n",
    "import plotly.graph_objects as go\n",
    "import numpy as np\n",
    "from sklearn.linear_model import LinearRegression\n",
    "from Partisian import get_state_part_score\n",
    "from Life import get_age_life_fig, get_state_age_life_exp\n",
    "from sklearn.neighbors import KNeighborsClassifier\n",
    "from plotly.subplots import make_subplots\n",
    "import math\n",
    "from LifeData import LifeData\n",
    "import Partisian\n",
    "from sklearn.linear_model import LinearRegression\n",
    "import addfips\n"
   ]
  },
  {
   "cell_type": "code",
   "execution_count": 62,
   "metadata": {},
   "outputs": [
    {
     "data": {
      "text/plain": [
       "{'Alaska': 'AK',\n",
       " 'Alabama': 'AL',\n",
       " 'Arkansas': 'AR',\n",
       " 'American Samoa': 'AS',\n",
       " 'Arizona': 'AZ',\n",
       " 'California': 'CA',\n",
       " 'Colorado': 'CO',\n",
       " 'Connecticut': 'CT',\n",
       " 'District of Columbia': 'DC',\n",
       " 'Delaware': 'DE',\n",
       " 'Florida': 'FL',\n",
       " 'Georgia': 'GA',\n",
       " 'Guam': 'GU',\n",
       " 'Hawaii': 'HI',\n",
       " 'Iowa': 'IA',\n",
       " 'Idaho': 'ID',\n",
       " 'Illinois': 'IL',\n",
       " 'Indiana': 'IN',\n",
       " 'Kansas': 'KS',\n",
       " 'Kentucky': 'KY',\n",
       " 'Louisiana': 'LA',\n",
       " 'Massachusetts': 'MA',\n",
       " 'Maryland': 'MD',\n",
       " 'Maine': 'ME',\n",
       " 'Michigan': 'MI',\n",
       " 'Minnesota': 'MN',\n",
       " 'Missouri': 'MO',\n",
       " 'Northern Mariana Islands': 'MP',\n",
       " 'Mississippi': 'MS',\n",
       " 'Montana': 'MT',\n",
       " 'National': 'NA',\n",
       " 'North Carolina': 'NC',\n",
       " 'North Dakota': 'ND',\n",
       " 'Nebraska': 'NE',\n",
       " 'New Hampshire': 'NH',\n",
       " 'New Jersey': 'NJ',\n",
       " 'New Mexico': 'NM',\n",
       " 'Nevada': 'NV',\n",
       " 'New York': 'NY',\n",
       " 'Ohio': 'OH',\n",
       " 'Oklahoma': 'OK',\n",
       " 'Oregon': 'OR',\n",
       " 'Pennsylvania': 'PA',\n",
       " 'Puerto Rico': 'PR',\n",
       " 'Rhode Island': 'RI',\n",
       " 'South Carolina': 'SC',\n",
       " 'South Dakota': 'SD',\n",
       " 'Tennessee': 'TN',\n",
       " 'Texas': 'TX',\n",
       " 'Utah': 'UT',\n",
       " 'Virginia': 'VA',\n",
       " 'Virgin Islands': 'VI',\n",
       " 'Vermont': 'VT',\n",
       " 'Washington': 'WA',\n",
       " 'Wisconsin': 'WI',\n",
       " 'West Virginia': 'WV',\n",
       " 'Wyoming': 'WY'}"
      ]
     },
     "execution_count": 62,
     "metadata": {},
     "output_type": "execute_result"
    }
   ],
   "source": [
    "states = { 'AK': 'Alaska', 'AL': 'Alabama', 'AR': 'Arkansas', 'AS': 'American Samoa', 'AZ': 'Arizona', 'CA': 'California', 'CO': 'Colorado', 'CT': 'Connecticut', 'DC': 'District of Columbia', 'DE': 'Delaware', 'FL': 'Florida', 'GA': 'Georgia', 'GU': 'Guam', 'HI': 'Hawaii', 'IA': 'Iowa', 'ID': 'Idaho', 'IL': 'Illinois', 'IN': 'Indiana', 'KS': 'Kansas', 'KY': 'Kentucky', 'LA': 'Louisiana', 'MA': 'Massachusetts', 'MD': 'Maryland', 'ME': 'Maine', 'MI': 'Michigan', 'MN': 'Minnesota', 'MO': 'Missouri', 'MP': 'Northern Mariana Islands', 'MS': 'Mississippi', 'MT': 'Montana', 'NA': 'National', 'NC': 'North Carolina', 'ND': 'North Dakota', 'NE': 'Nebraska', 'NH': 'New Hampshire', 'NJ': 'New Jersey', 'NM': 'New Mexico', 'NV': 'Nevada', 'NY': 'New York', 'OH': 'Ohio', 'OK': 'Oklahoma', 'OR': 'Oregon', 'PA': 'Pennsylvania', 'PR': 'Puerto Rico', 'RI': 'Rhode Island', 'SC': 'South Carolina', 'SD': 'South Dakota', 'TN': 'Tennessee', 'TX': 'Texas', 'UT': 'Utah', 'VA': 'Virginia', 'VI': 'Virgin Islands', 'VT': 'Vermont', 'WA': 'Washington', 'WI': 'Wisconsin', 'WV': 'West Virginia', 'WY': 'Wyoming'\n",
    "}\n",
    "\n",
    "\n",
    "states = {v: k for k, v in states.items()}\n",
    "states\n"
   ]
  },
  {
   "cell_type": "code",
   "execution_count": 63,
   "metadata": {},
   "outputs": [],
   "source": [
    "def translate_ICD10(x, conversion):\n",
    "    try:\n",
    "        return conversion[x]\n",
    "    except:\n",
    "        return x\n",
    "    \n",
    "    \n",
    "\n",
    "\n",
    "\n",
    "def clean_state_data(df):\n",
    "    af = addfips.AddFIPS()\n",
    "    try:\n",
    "        df = df.dropna(subset=[\"State\",\"ICD-10 113 Cause List Code\", \"Population\"])\n",
    "    except: \n",
    "        df = df.dropna(subset=[\"State\", \"Population\"])\n",
    "    #df = df[df[\"Crude Rate\"] != \"Unreliable\"]\n",
    "    df.Population = df.Population.astype(float)\n",
    "    df[\"Rate\"] = (df[\"Deaths\"]/df[\"Population\"])*100000\n",
    "    df[\"Rate\"] = df[\"Rate\"].round(2)\n",
    "    df[\"fips\"] = df.apply(lambda x: af.get_state_fips(x[\"State\"]), axis=1)\n",
    "    df[\"Year\"] = 2019\n",
    "    df[\"State_Abv\"] = df.apply(lambda x: states[x[\"State\"]], axis=1)\n",
    "    df = df.sort_values(by=[\"Rate\"], ascending=False)\n",
    "    df.drop(columns=[\"Notes\", \"State Code\", ], inplace=True)\n",
    "   \n",
    "    try:\n",
    "        f = open(\"data/Life/Deaths/ICD10Translation.json\")\n",
    "        translation = json.load(f)\n",
    "        df[\"ICD-10 Common\"] = df[\"ICD-10 113 Cause List\"].apply(lambda x: translate_ICD10(x, translation))\n",
    "        df.rename(columns={\"ICD-10 Common\":\"Cause Of Death\"}, inplace=True)\n",
    "    except:\n",
    "        None\n",
    "    return df\n",
    "    \n",
    "\n",
    "\n",
    "def top_n(df, n):\n",
    "    #Filter out low occuring chapters\n",
    "    df = df.groupby(\"ICD-10 113 Cause List Code\").filter(lambda x: len(x)>1)\n",
    "    df = df.sort_values(by = [\"Rate\"], ascending = False)\n",
    "    df = df.head(n).copy()\n",
    "    top_codes = list(df[\"ICD-10 113 Cause List Code\"].unique())\n",
    "    df = df[df[\"ICD-10 113 Cause List Code\"].isin(top_codes)]\n",
    "    return df\n",
    "\n",
    "\n",
    "firearms = pd.read_csv(r\"data/Life/Deaths/FireArmState.txt\", delimiter=\"\t\", na_values = ['Not Applicable'])\n",
    "df = pd.read_csv(r\"data/Life/Deaths/StateDeathsAge.txt\", delimiter=\"\t\", na_values = ['Not Applicable'])\n",
    "state_pop = pd.read_csv(r\"data/Life/Deaths/State_Pop.txt\", delimiter=\"\t\", na_values = ['Not Applicable'])\n",
    "yearly_pop = pd.read_csv(r\"data/Life/Deaths/2019State1YearPop.txt\", delimiter=\"\t\", na_values = ['Not Applicable'])\n",
    "state_deaths = pd.read_csv(r\"data/Life/Deaths/2019StateDeaths.txt\", delimiter=\"\t\", na_values = ['Not Applicable'])\n",
    "\n",
    "\n",
    "df = clean_state_data(df)\n",
    "firearms = clean_state_data(firearms)\n",
    "state_pop = clean_state_data(state_pop)\n",
    "yearly_pop = clean_state_data(yearly_pop)\n",
    "state_deaths = clean_state_data(state_deaths)\n",
    "state_pop[\"Total Pop\"] = state_pop[\"Population\"]\n",
    "\n",
    "#top_df = top_n(df, 5)\n",
    "#county = df.groupby(by=[\"2006 Urbanization Code\", \"ICD Sub-Chapter\"]).mean().reset_index().sort_values(by=[\"Rate\"], ascending=False)\n",
    "state_pop.sample(5)\n",
    "firearms = firearms.merge(state_pop[[\"State\", \"Total Pop\"]], left_on=\"State\",right_on=\"State\")"
   ]
  },
  {
   "cell_type": "code",
   "execution_count": 64,
   "metadata": {},
   "outputs": [
    {
     "name": "stderr",
     "output_type": "stream",
     "text": [
      "C:\\Users\\zeusg\\AppData\\Local\\Temp/ipykernel_40072/127021580.py:4: FutureWarning:\n",
      "\n",
      "The default value of numeric_only in DataFrameGroupBy.mean is deprecated. In a future version, numeric_only will default to False. Either specify numeric_only or select only columns which should be valid for the function.\n",
      "\n"
     ]
    }
   ],
   "source": [
    "part = Partisian.get_state_part_score()\n",
    "final = pd.merge(part, firearms, on=\"fips\")\n",
    "final[final[\"State_x\"] == \"VT\"]\n",
    "state_totals = final.groupby(by=[\"fips\",\"State_y\"]).mean().reset_index().sort_values(by=\"Rate\")\n",
    "state_totals[\"Rate\"] = (state_totals[\"Deaths\"]/state_totals[\"Total Pop\"])*100000"
   ]
  },
  {
   "cell_type": "code",
   "execution_count": 65,
   "metadata": {},
   "outputs": [
    {
     "data": {
      "application/vnd.plotly.v1+json": {
       "config": {
        "plotlyServerURL": "https://plot.ly"
       },
       "data": [
        {
         "hovertext": [
          "New Hampshire",
          "Minnesota",
          "Iowa",
          "Utah",
          "Massachusetts",
          "Oregon",
          "Maine",
          "Washington",
          "Idaho",
          "Hawaii",
          "New York",
          "Wisconsin",
          "Colorado",
          "New Jersey",
          "Connecticut",
          "Virginia",
          "Ohio",
          "California",
          "Rhode Island",
          "North Dakota",
          "Pennsylvania",
          "Texas",
          "Vermont",
          "Montana",
          "Kansas",
          "Kentucky",
          "Indiana",
          "Florida",
          "South Dakota",
          "Michigan",
          "West Virginia",
          "North Carolina",
          "Arizona",
          "Illinois",
          "Georgia",
          "Oklahoma",
          "Tennessee",
          "Missouri",
          "Nevada",
          "Wyoming",
          "South Carolina",
          "Arkansas",
          "Alaska",
          "Maryland",
          "New Mexico",
          "Alabama",
          "Delaware",
          "Mississippi",
          "Louisiana"
         ],
         "marker": {
          "color": [
           0.2,
           -0.26666666666666666,
           0.3333333333333333,
           1,
           -0.5333333333333333,
           -0.8666666666666667,
           -0.3333333333333333,
           -0.8666666666666667,
           1,
           -0.8666666666666667,
           -0.6666666666666666,
           0.4,
           -0.6,
           -0.4666666666666667,
           -0.7333333333333333,
           -0.13333333333333333,
           0.8666666666666667,
           -0.8666666666666667,
           -0.6666666666666666,
           1,
           0.26666666666666666,
           1,
           -0.4,
           0.2,
           0.5333333333333333,
           0.2,
           0.8666666666666666,
           1,
           1,
           0.39999999999999997,
           0,
           0.13333333333333333,
           0.8666666666666667,
           -0.7333333333333333,
           1,
           0.8666666666666667,
           0.8666666666666667,
           0.4666666666666666,
           -0.07142857142857142,
           0.8666666666666668,
           1,
           0.3333333333333333,
           0.4666666666666667,
           -0.5333333333333333,
           -0.4666666666666667,
           0.8666666666666668,
           -1,
           0.8,
           0.3333333333333333
          ],
          "colorscale": [
           [
            0,
            "rgb(0,0,255)"
           ],
           [
            1,
            "rgb(255,0,0)"
           ]
          ],
          "size": [
           1.359711,
           5.639632,
           3.15507,
           3.205958,
           6.892503,
           4.217737,
           1.344212,
           7.614893,
           1.787065,
           1.415872,
           19.453561,
           5.822434,
           5.758736,
           8.88219,
           3.565287,
           8.535519,
           11.6891,
           39.512223,
           1.059361,
           0.762062,
           12.801989,
           28.995881,
           0.623989,
           1.068778,
           2.913314,
           4.467673,
           6.732219,
           21.477737,
           0.884659,
           9.986857,
           1.792147,
           10.488084,
           7.278717,
           12.671821,
           10.617423,
           3.956971,
           6.829174,
           6.137428,
           3.080156,
           0.578759,
           5.148714,
           3.017804,
           0.731545,
           6.04568,
           2.096829,
           4.903185,
           0.973764,
           2.976149,
           4.648794
          ]
         },
         "mode": "markers",
         "type": "scatter",
         "x": [
          0.2,
          -0.26666666666666666,
          0.3333333333333333,
          1,
          -0.5333333333333333,
          -0.8666666666666667,
          -0.3333333333333333,
          -0.8666666666666667,
          1,
          -0.8666666666666667,
          -0.6666666666666666,
          0.4,
          -0.6,
          -0.4666666666666667,
          -0.7333333333333333,
          -0.13333333333333333,
          0.8666666666666667,
          -0.8666666666666667,
          -0.6666666666666666,
          1,
          0.26666666666666666,
          1,
          -0.4,
          0.2,
          0.5333333333333333,
          0.2,
          0.8666666666666666,
          1,
          1,
          0.39999999999999997,
          0,
          0.13333333333333333,
          0.8666666666666667,
          -0.7333333333333333,
          1,
          0.8666666666666667,
          0.8666666666666667,
          0.4666666666666666,
          -0.07142857142857142,
          0.8666666666666668,
          1,
          0.3333333333333333,
          0.4666666666666667,
          -0.5333333333333333,
          -0.4666666666666667,
          0.8666666666666668,
          -1,
          0.8,
          0.3333333333333333
         ],
         "y": [
          3.0606051297212873,
          1.5624202802303526,
          1.6415627174734215,
          1.689909155945829,
          1.7180085827086078,
          1.6510361750000921,
          2.6930275879102403,
          1.602464723089005,
          2.0272665755622445,
          2.2964142037052584,
          2.1017255664208676,
          2.2303651438820684,
          2.192761785204958,
          2.2697105105835385,
          2.499928606859129,
          2.476486226332018,
          2.7103365826998838,
          2.728328537257834,
          3.6511228399545983,
          11.514811130852872,
          2.7806362291519426,
          2.5982038380667096,
          21.955515241454577,
          3.44318464639055,
          3.1682132444357185,
          2.977235753259848,
          3.034094772643385,
          2.7160087177821652,
          4.019627901824319,
          3.3638396991677793,
          3.595725013969372,
          3.0548510942247344,
          3.092162635830744,
          3.754898001545098,
          3.40938071406803,
          3.6017317417661263,
          3.635224610670168,
          3.9186754183175947,
          3.570777169934796,
          8.69100955665484,
          3.958601568677765,
          4.2859677190154795,
          5.707858785933271,
          4.888222925948342,
          5.09193791049393,
          5.136967093837985,
          5.813637710072576,
          6.0838113662736815,
          6.606680192345636
         ]
        }
       ],
       "layout": {
        "template": {
         "data": {
          "bar": [
           {
            "error_x": {
             "color": "#2a3f5f"
            },
            "error_y": {
             "color": "#2a3f5f"
            },
            "marker": {
             "line": {
              "color": "#E5ECF6",
              "width": 0.5
             },
             "pattern": {
              "fillmode": "overlay",
              "size": 10,
              "solidity": 0.2
             }
            },
            "type": "bar"
           }
          ],
          "barpolar": [
           {
            "marker": {
             "line": {
              "color": "#E5ECF6",
              "width": 0.5
             },
             "pattern": {
              "fillmode": "overlay",
              "size": 10,
              "solidity": 0.2
             }
            },
            "type": "barpolar"
           }
          ],
          "carpet": [
           {
            "aaxis": {
             "endlinecolor": "#2a3f5f",
             "gridcolor": "white",
             "linecolor": "white",
             "minorgridcolor": "white",
             "startlinecolor": "#2a3f5f"
            },
            "baxis": {
             "endlinecolor": "#2a3f5f",
             "gridcolor": "white",
             "linecolor": "white",
             "minorgridcolor": "white",
             "startlinecolor": "#2a3f5f"
            },
            "type": "carpet"
           }
          ],
          "choropleth": [
           {
            "colorbar": {
             "outlinewidth": 0,
             "ticks": ""
            },
            "type": "choropleth"
           }
          ],
          "contour": [
           {
            "colorbar": {
             "outlinewidth": 0,
             "ticks": ""
            },
            "colorscale": [
             [
              0,
              "#0d0887"
             ],
             [
              0.1111111111111111,
              "#46039f"
             ],
             [
              0.2222222222222222,
              "#7201a8"
             ],
             [
              0.3333333333333333,
              "#9c179e"
             ],
             [
              0.4444444444444444,
              "#bd3786"
             ],
             [
              0.5555555555555556,
              "#d8576b"
             ],
             [
              0.6666666666666666,
              "#ed7953"
             ],
             [
              0.7777777777777778,
              "#fb9f3a"
             ],
             [
              0.8888888888888888,
              "#fdca26"
             ],
             [
              1,
              "#f0f921"
             ]
            ],
            "type": "contour"
           }
          ],
          "contourcarpet": [
           {
            "colorbar": {
             "outlinewidth": 0,
             "ticks": ""
            },
            "type": "contourcarpet"
           }
          ],
          "heatmap": [
           {
            "colorbar": {
             "outlinewidth": 0,
             "ticks": ""
            },
            "colorscale": [
             [
              0,
              "#0d0887"
             ],
             [
              0.1111111111111111,
              "#46039f"
             ],
             [
              0.2222222222222222,
              "#7201a8"
             ],
             [
              0.3333333333333333,
              "#9c179e"
             ],
             [
              0.4444444444444444,
              "#bd3786"
             ],
             [
              0.5555555555555556,
              "#d8576b"
             ],
             [
              0.6666666666666666,
              "#ed7953"
             ],
             [
              0.7777777777777778,
              "#fb9f3a"
             ],
             [
              0.8888888888888888,
              "#fdca26"
             ],
             [
              1,
              "#f0f921"
             ]
            ],
            "type": "heatmap"
           }
          ],
          "heatmapgl": [
           {
            "colorbar": {
             "outlinewidth": 0,
             "ticks": ""
            },
            "colorscale": [
             [
              0,
              "#0d0887"
             ],
             [
              0.1111111111111111,
              "#46039f"
             ],
             [
              0.2222222222222222,
              "#7201a8"
             ],
             [
              0.3333333333333333,
              "#9c179e"
             ],
             [
              0.4444444444444444,
              "#bd3786"
             ],
             [
              0.5555555555555556,
              "#d8576b"
             ],
             [
              0.6666666666666666,
              "#ed7953"
             ],
             [
              0.7777777777777778,
              "#fb9f3a"
             ],
             [
              0.8888888888888888,
              "#fdca26"
             ],
             [
              1,
              "#f0f921"
             ]
            ],
            "type": "heatmapgl"
           }
          ],
          "histogram": [
           {
            "marker": {
             "pattern": {
              "fillmode": "overlay",
              "size": 10,
              "solidity": 0.2
             }
            },
            "type": "histogram"
           }
          ],
          "histogram2d": [
           {
            "colorbar": {
             "outlinewidth": 0,
             "ticks": ""
            },
            "colorscale": [
             [
              0,
              "#0d0887"
             ],
             [
              0.1111111111111111,
              "#46039f"
             ],
             [
              0.2222222222222222,
              "#7201a8"
             ],
             [
              0.3333333333333333,
              "#9c179e"
             ],
             [
              0.4444444444444444,
              "#bd3786"
             ],
             [
              0.5555555555555556,
              "#d8576b"
             ],
             [
              0.6666666666666666,
              "#ed7953"
             ],
             [
              0.7777777777777778,
              "#fb9f3a"
             ],
             [
              0.8888888888888888,
              "#fdca26"
             ],
             [
              1,
              "#f0f921"
             ]
            ],
            "type": "histogram2d"
           }
          ],
          "histogram2dcontour": [
           {
            "colorbar": {
             "outlinewidth": 0,
             "ticks": ""
            },
            "colorscale": [
             [
              0,
              "#0d0887"
             ],
             [
              0.1111111111111111,
              "#46039f"
             ],
             [
              0.2222222222222222,
              "#7201a8"
             ],
             [
              0.3333333333333333,
              "#9c179e"
             ],
             [
              0.4444444444444444,
              "#bd3786"
             ],
             [
              0.5555555555555556,
              "#d8576b"
             ],
             [
              0.6666666666666666,
              "#ed7953"
             ],
             [
              0.7777777777777778,
              "#fb9f3a"
             ],
             [
              0.8888888888888888,
              "#fdca26"
             ],
             [
              1,
              "#f0f921"
             ]
            ],
            "type": "histogram2dcontour"
           }
          ],
          "mesh3d": [
           {
            "colorbar": {
             "outlinewidth": 0,
             "ticks": ""
            },
            "type": "mesh3d"
           }
          ],
          "parcoords": [
           {
            "line": {
             "colorbar": {
              "outlinewidth": 0,
              "ticks": ""
             }
            },
            "type": "parcoords"
           }
          ],
          "pie": [
           {
            "automargin": true,
            "type": "pie"
           }
          ],
          "scatter": [
           {
            "marker": {
             "colorbar": {
              "outlinewidth": 0,
              "ticks": ""
             }
            },
            "type": "scatter"
           }
          ],
          "scatter3d": [
           {
            "line": {
             "colorbar": {
              "outlinewidth": 0,
              "ticks": ""
             }
            },
            "marker": {
             "colorbar": {
              "outlinewidth": 0,
              "ticks": ""
             }
            },
            "type": "scatter3d"
           }
          ],
          "scattercarpet": [
           {
            "marker": {
             "colorbar": {
              "outlinewidth": 0,
              "ticks": ""
             }
            },
            "type": "scattercarpet"
           }
          ],
          "scattergeo": [
           {
            "marker": {
             "colorbar": {
              "outlinewidth": 0,
              "ticks": ""
             }
            },
            "type": "scattergeo"
           }
          ],
          "scattergl": [
           {
            "marker": {
             "colorbar": {
              "outlinewidth": 0,
              "ticks": ""
             }
            },
            "type": "scattergl"
           }
          ],
          "scattermapbox": [
           {
            "marker": {
             "colorbar": {
              "outlinewidth": 0,
              "ticks": ""
             }
            },
            "type": "scattermapbox"
           }
          ],
          "scatterpolar": [
           {
            "marker": {
             "colorbar": {
              "outlinewidth": 0,
              "ticks": ""
             }
            },
            "type": "scatterpolar"
           }
          ],
          "scatterpolargl": [
           {
            "marker": {
             "colorbar": {
              "outlinewidth": 0,
              "ticks": ""
             }
            },
            "type": "scatterpolargl"
           }
          ],
          "scatterternary": [
           {
            "marker": {
             "colorbar": {
              "outlinewidth": 0,
              "ticks": ""
             }
            },
            "type": "scatterternary"
           }
          ],
          "surface": [
           {
            "colorbar": {
             "outlinewidth": 0,
             "ticks": ""
            },
            "colorscale": [
             [
              0,
              "#0d0887"
             ],
             [
              0.1111111111111111,
              "#46039f"
             ],
             [
              0.2222222222222222,
              "#7201a8"
             ],
             [
              0.3333333333333333,
              "#9c179e"
             ],
             [
              0.4444444444444444,
              "#bd3786"
             ],
             [
              0.5555555555555556,
              "#d8576b"
             ],
             [
              0.6666666666666666,
              "#ed7953"
             ],
             [
              0.7777777777777778,
              "#fb9f3a"
             ],
             [
              0.8888888888888888,
              "#fdca26"
             ],
             [
              1,
              "#f0f921"
             ]
            ],
            "type": "surface"
           }
          ],
          "table": [
           {
            "cells": {
             "fill": {
              "color": "#EBF0F8"
             },
             "line": {
              "color": "white"
             }
            },
            "header": {
             "fill": {
              "color": "#C8D4E3"
             },
             "line": {
              "color": "white"
             }
            },
            "type": "table"
           }
          ]
         },
         "layout": {
          "annotationdefaults": {
           "arrowcolor": "#2a3f5f",
           "arrowhead": 0,
           "arrowwidth": 1
          },
          "autotypenumbers": "strict",
          "coloraxis": {
           "colorbar": {
            "outlinewidth": 0,
            "ticks": ""
           }
          },
          "colorscale": {
           "diverging": [
            [
             0,
             "#8e0152"
            ],
            [
             0.1,
             "#c51b7d"
            ],
            [
             0.2,
             "#de77ae"
            ],
            [
             0.3,
             "#f1b6da"
            ],
            [
             0.4,
             "#fde0ef"
            ],
            [
             0.5,
             "#f7f7f7"
            ],
            [
             0.6,
             "#e6f5d0"
            ],
            [
             0.7,
             "#b8e186"
            ],
            [
             0.8,
             "#7fbc41"
            ],
            [
             0.9,
             "#4d9221"
            ],
            [
             1,
             "#276419"
            ]
           ],
           "sequential": [
            [
             0,
             "#0d0887"
            ],
            [
             0.1111111111111111,
             "#46039f"
            ],
            [
             0.2222222222222222,
             "#7201a8"
            ],
            [
             0.3333333333333333,
             "#9c179e"
            ],
            [
             0.4444444444444444,
             "#bd3786"
            ],
            [
             0.5555555555555556,
             "#d8576b"
            ],
            [
             0.6666666666666666,
             "#ed7953"
            ],
            [
             0.7777777777777778,
             "#fb9f3a"
            ],
            [
             0.8888888888888888,
             "#fdca26"
            ],
            [
             1,
             "#f0f921"
            ]
           ],
           "sequentialminus": [
            [
             0,
             "#0d0887"
            ],
            [
             0.1111111111111111,
             "#46039f"
            ],
            [
             0.2222222222222222,
             "#7201a8"
            ],
            [
             0.3333333333333333,
             "#9c179e"
            ],
            [
             0.4444444444444444,
             "#bd3786"
            ],
            [
             0.5555555555555556,
             "#d8576b"
            ],
            [
             0.6666666666666666,
             "#ed7953"
            ],
            [
             0.7777777777777778,
             "#fb9f3a"
            ],
            [
             0.8888888888888888,
             "#fdca26"
            ],
            [
             1,
             "#f0f921"
            ]
           ]
          },
          "colorway": [
           "#636efa",
           "#EF553B",
           "#00cc96",
           "#ab63fa",
           "#FFA15A",
           "#19d3f3",
           "#FF6692",
           "#B6E880",
           "#FF97FF",
           "#FECB52"
          ],
          "font": {
           "color": "#2a3f5f"
          },
          "geo": {
           "bgcolor": "white",
           "lakecolor": "white",
           "landcolor": "#E5ECF6",
           "showlakes": true,
           "showland": true,
           "subunitcolor": "white"
          },
          "hoverlabel": {
           "align": "left"
          },
          "hovermode": "closest",
          "mapbox": {
           "style": "light"
          },
          "paper_bgcolor": "white",
          "plot_bgcolor": "#E5ECF6",
          "polar": {
           "angularaxis": {
            "gridcolor": "white",
            "linecolor": "white",
            "ticks": ""
           },
           "bgcolor": "#E5ECF6",
           "radialaxis": {
            "gridcolor": "white",
            "linecolor": "white",
            "ticks": ""
           }
          },
          "scene": {
           "xaxis": {
            "backgroundcolor": "#E5ECF6",
            "gridcolor": "white",
            "gridwidth": 2,
            "linecolor": "white",
            "showbackground": true,
            "ticks": "",
            "zerolinecolor": "white"
           },
           "yaxis": {
            "backgroundcolor": "#E5ECF6",
            "gridcolor": "white",
            "gridwidth": 2,
            "linecolor": "white",
            "showbackground": true,
            "ticks": "",
            "zerolinecolor": "white"
           },
           "zaxis": {
            "backgroundcolor": "#E5ECF6",
            "gridcolor": "white",
            "gridwidth": 2,
            "linecolor": "white",
            "showbackground": true,
            "ticks": "",
            "zerolinecolor": "white"
           }
          },
          "shapedefaults": {
           "line": {
            "color": "#2a3f5f"
           }
          },
          "ternary": {
           "aaxis": {
            "gridcolor": "white",
            "linecolor": "white",
            "ticks": ""
           },
           "baxis": {
            "gridcolor": "white",
            "linecolor": "white",
            "ticks": ""
           },
           "bgcolor": "#E5ECF6",
           "caxis": {
            "gridcolor": "white",
            "linecolor": "white",
            "ticks": ""
           }
          },
          "title": {
           "x": 0.05
          },
          "xaxis": {
           "automargin": true,
           "gridcolor": "white",
           "linecolor": "white",
           "ticks": "",
           "title": {
            "standoff": 15
           },
           "zerolinecolor": "white",
           "zerolinewidth": 2
          },
          "yaxis": {
           "automargin": true,
           "gridcolor": "white",
           "linecolor": "white",
           "ticks": "",
           "title": {
            "standoff": 15
           },
           "zerolinecolor": "white",
           "zerolinewidth": 2
          }
         }
        }
       }
      }
     },
     "metadata": {},
     "output_type": "display_data"
    }
   ],
   "source": [
    "fig = go.Figure()\n",
    "fig.add_trace(go.Scatter(x=state_totals[\"Part_Score\"], y=state_totals[\"Rate\"], mode = \"markers\",  hovertext=state_totals[\"State_y\"], marker=dict(size=state_totals[\"Total Pop\"]/1000000, colorscale='bluered', color=state_totals[\"Part_Score\"])))"
   ]
  },
  {
   "cell_type": "code",
   "execution_count": 66,
   "metadata": {},
   "outputs": [
    {
     "data": {
      "application/vnd.plotly.v1+json": {
       "config": {
        "plotlyServerURL": "https://plot.ly"
       },
       "data": [
        {
         "name": "Rate",
         "type": "bar",
         "x": [
          "Vermont",
          "North Dakota",
          "Wyoming",
          "Louisiana",
          "Mississippi",
          "Delaware",
          "Alaska",
          "Alabama",
          "New Mexico",
          "Maryland",
          "Arkansas",
          "South Dakota",
          "South Carolina",
          "Missouri",
          "Illinois",
          "Rhode Island",
          "Tennessee",
          "Oklahoma",
          "West Virginia",
          "Nevada",
          "Montana",
          "Georgia",
          "Michigan",
          "Kansas",
          "Arizona",
          "New Hampshire",
          "North Carolina",
          "Indiana",
          "Kentucky",
          "Pennsylvania",
          "California",
          "Florida",
          "Ohio",
          "Maine",
          "Texas",
          "Connecticut",
          "Virginia",
          "Hawaii",
          "New Jersey",
          "Wisconsin",
          "Colorado",
          "New York",
          "Idaho",
          "Massachusetts",
          "Utah",
          "Oregon",
          "Iowa",
          "Washington",
          "Minnesota"
         ],
         "y": [
          21.955515241454577,
          11.514811130852872,
          8.69100955665484,
          6.606680192345636,
          6.0838113662736815,
          5.813637710072576,
          5.707858785933271,
          5.136967093837985,
          5.09193791049393,
          4.888222925948342,
          4.2859677190154795,
          4.019627901824319,
          3.958601568677765,
          3.9186754183175947,
          3.754898001545098,
          3.6511228399545983,
          3.635224610670168,
          3.6017317417661263,
          3.595725013969372,
          3.570777169934796,
          3.44318464639055,
          3.40938071406803,
          3.3638396991677793,
          3.1682132444357185,
          3.092162635830744,
          3.0606051297212873,
          3.0548510942247344,
          3.034094772643385,
          2.977235753259848,
          2.7806362291519426,
          2.728328537257834,
          2.7160087177821652,
          2.7103365826998838,
          2.6930275879102403,
          2.5982038380667096,
          2.499928606859129,
          2.476486226332018,
          2.2964142037052584,
          2.2697105105835385,
          2.2303651438820684,
          2.192761785204958,
          2.1017255664208676,
          2.0272665755622445,
          1.7180085827086078,
          1.689909155945829,
          1.6510361750000921,
          1.6415627174734215,
          1.602464723089005,
          1.5624202802303526
         ]
        }
       ],
       "layout": {
        "template": {
         "data": {
          "bar": [
           {
            "error_x": {
             "color": "#2a3f5f"
            },
            "error_y": {
             "color": "#2a3f5f"
            },
            "marker": {
             "line": {
              "color": "#E5ECF6",
              "width": 0.5
             },
             "pattern": {
              "fillmode": "overlay",
              "size": 10,
              "solidity": 0.2
             }
            },
            "type": "bar"
           }
          ],
          "barpolar": [
           {
            "marker": {
             "line": {
              "color": "#E5ECF6",
              "width": 0.5
             },
             "pattern": {
              "fillmode": "overlay",
              "size": 10,
              "solidity": 0.2
             }
            },
            "type": "barpolar"
           }
          ],
          "carpet": [
           {
            "aaxis": {
             "endlinecolor": "#2a3f5f",
             "gridcolor": "white",
             "linecolor": "white",
             "minorgridcolor": "white",
             "startlinecolor": "#2a3f5f"
            },
            "baxis": {
             "endlinecolor": "#2a3f5f",
             "gridcolor": "white",
             "linecolor": "white",
             "minorgridcolor": "white",
             "startlinecolor": "#2a3f5f"
            },
            "type": "carpet"
           }
          ],
          "choropleth": [
           {
            "colorbar": {
             "outlinewidth": 0,
             "ticks": ""
            },
            "type": "choropleth"
           }
          ],
          "contour": [
           {
            "colorbar": {
             "outlinewidth": 0,
             "ticks": ""
            },
            "colorscale": [
             [
              0,
              "#0d0887"
             ],
             [
              0.1111111111111111,
              "#46039f"
             ],
             [
              0.2222222222222222,
              "#7201a8"
             ],
             [
              0.3333333333333333,
              "#9c179e"
             ],
             [
              0.4444444444444444,
              "#bd3786"
             ],
             [
              0.5555555555555556,
              "#d8576b"
             ],
             [
              0.6666666666666666,
              "#ed7953"
             ],
             [
              0.7777777777777778,
              "#fb9f3a"
             ],
             [
              0.8888888888888888,
              "#fdca26"
             ],
             [
              1,
              "#f0f921"
             ]
            ],
            "type": "contour"
           }
          ],
          "contourcarpet": [
           {
            "colorbar": {
             "outlinewidth": 0,
             "ticks": ""
            },
            "type": "contourcarpet"
           }
          ],
          "heatmap": [
           {
            "colorbar": {
             "outlinewidth": 0,
             "ticks": ""
            },
            "colorscale": [
             [
              0,
              "#0d0887"
             ],
             [
              0.1111111111111111,
              "#46039f"
             ],
             [
              0.2222222222222222,
              "#7201a8"
             ],
             [
              0.3333333333333333,
              "#9c179e"
             ],
             [
              0.4444444444444444,
              "#bd3786"
             ],
             [
              0.5555555555555556,
              "#d8576b"
             ],
             [
              0.6666666666666666,
              "#ed7953"
             ],
             [
              0.7777777777777778,
              "#fb9f3a"
             ],
             [
              0.8888888888888888,
              "#fdca26"
             ],
             [
              1,
              "#f0f921"
             ]
            ],
            "type": "heatmap"
           }
          ],
          "heatmapgl": [
           {
            "colorbar": {
             "outlinewidth": 0,
             "ticks": ""
            },
            "colorscale": [
             [
              0,
              "#0d0887"
             ],
             [
              0.1111111111111111,
              "#46039f"
             ],
             [
              0.2222222222222222,
              "#7201a8"
             ],
             [
              0.3333333333333333,
              "#9c179e"
             ],
             [
              0.4444444444444444,
              "#bd3786"
             ],
             [
              0.5555555555555556,
              "#d8576b"
             ],
             [
              0.6666666666666666,
              "#ed7953"
             ],
             [
              0.7777777777777778,
              "#fb9f3a"
             ],
             [
              0.8888888888888888,
              "#fdca26"
             ],
             [
              1,
              "#f0f921"
             ]
            ],
            "type": "heatmapgl"
           }
          ],
          "histogram": [
           {
            "marker": {
             "pattern": {
              "fillmode": "overlay",
              "size": 10,
              "solidity": 0.2
             }
            },
            "type": "histogram"
           }
          ],
          "histogram2d": [
           {
            "colorbar": {
             "outlinewidth": 0,
             "ticks": ""
            },
            "colorscale": [
             [
              0,
              "#0d0887"
             ],
             [
              0.1111111111111111,
              "#46039f"
             ],
             [
              0.2222222222222222,
              "#7201a8"
             ],
             [
              0.3333333333333333,
              "#9c179e"
             ],
             [
              0.4444444444444444,
              "#bd3786"
             ],
             [
              0.5555555555555556,
              "#d8576b"
             ],
             [
              0.6666666666666666,
              "#ed7953"
             ],
             [
              0.7777777777777778,
              "#fb9f3a"
             ],
             [
              0.8888888888888888,
              "#fdca26"
             ],
             [
              1,
              "#f0f921"
             ]
            ],
            "type": "histogram2d"
           }
          ],
          "histogram2dcontour": [
           {
            "colorbar": {
             "outlinewidth": 0,
             "ticks": ""
            },
            "colorscale": [
             [
              0,
              "#0d0887"
             ],
             [
              0.1111111111111111,
              "#46039f"
             ],
             [
              0.2222222222222222,
              "#7201a8"
             ],
             [
              0.3333333333333333,
              "#9c179e"
             ],
             [
              0.4444444444444444,
              "#bd3786"
             ],
             [
              0.5555555555555556,
              "#d8576b"
             ],
             [
              0.6666666666666666,
              "#ed7953"
             ],
             [
              0.7777777777777778,
              "#fb9f3a"
             ],
             [
              0.8888888888888888,
              "#fdca26"
             ],
             [
              1,
              "#f0f921"
             ]
            ],
            "type": "histogram2dcontour"
           }
          ],
          "mesh3d": [
           {
            "colorbar": {
             "outlinewidth": 0,
             "ticks": ""
            },
            "type": "mesh3d"
           }
          ],
          "parcoords": [
           {
            "line": {
             "colorbar": {
              "outlinewidth": 0,
              "ticks": ""
             }
            },
            "type": "parcoords"
           }
          ],
          "pie": [
           {
            "automargin": true,
            "type": "pie"
           }
          ],
          "scatter": [
           {
            "marker": {
             "colorbar": {
              "outlinewidth": 0,
              "ticks": ""
             }
            },
            "type": "scatter"
           }
          ],
          "scatter3d": [
           {
            "line": {
             "colorbar": {
              "outlinewidth": 0,
              "ticks": ""
             }
            },
            "marker": {
             "colorbar": {
              "outlinewidth": 0,
              "ticks": ""
             }
            },
            "type": "scatter3d"
           }
          ],
          "scattercarpet": [
           {
            "marker": {
             "colorbar": {
              "outlinewidth": 0,
              "ticks": ""
             }
            },
            "type": "scattercarpet"
           }
          ],
          "scattergeo": [
           {
            "marker": {
             "colorbar": {
              "outlinewidth": 0,
              "ticks": ""
             }
            },
            "type": "scattergeo"
           }
          ],
          "scattergl": [
           {
            "marker": {
             "colorbar": {
              "outlinewidth": 0,
              "ticks": ""
             }
            },
            "type": "scattergl"
           }
          ],
          "scattermapbox": [
           {
            "marker": {
             "colorbar": {
              "outlinewidth": 0,
              "ticks": ""
             }
            },
            "type": "scattermapbox"
           }
          ],
          "scatterpolar": [
           {
            "marker": {
             "colorbar": {
              "outlinewidth": 0,
              "ticks": ""
             }
            },
            "type": "scatterpolar"
           }
          ],
          "scatterpolargl": [
           {
            "marker": {
             "colorbar": {
              "outlinewidth": 0,
              "ticks": ""
             }
            },
            "type": "scatterpolargl"
           }
          ],
          "scatterternary": [
           {
            "marker": {
             "colorbar": {
              "outlinewidth": 0,
              "ticks": ""
             }
            },
            "type": "scatterternary"
           }
          ],
          "surface": [
           {
            "colorbar": {
             "outlinewidth": 0,
             "ticks": ""
            },
            "colorscale": [
             [
              0,
              "#0d0887"
             ],
             [
              0.1111111111111111,
              "#46039f"
             ],
             [
              0.2222222222222222,
              "#7201a8"
             ],
             [
              0.3333333333333333,
              "#9c179e"
             ],
             [
              0.4444444444444444,
              "#bd3786"
             ],
             [
              0.5555555555555556,
              "#d8576b"
             ],
             [
              0.6666666666666666,
              "#ed7953"
             ],
             [
              0.7777777777777778,
              "#fb9f3a"
             ],
             [
              0.8888888888888888,
              "#fdca26"
             ],
             [
              1,
              "#f0f921"
             ]
            ],
            "type": "surface"
           }
          ],
          "table": [
           {
            "cells": {
             "fill": {
              "color": "#EBF0F8"
             },
             "line": {
              "color": "white"
             }
            },
            "header": {
             "fill": {
              "color": "#C8D4E3"
             },
             "line": {
              "color": "white"
             }
            },
            "type": "table"
           }
          ]
         },
         "layout": {
          "annotationdefaults": {
           "arrowcolor": "#2a3f5f",
           "arrowhead": 0,
           "arrowwidth": 1
          },
          "autotypenumbers": "strict",
          "coloraxis": {
           "colorbar": {
            "outlinewidth": 0,
            "ticks": ""
           }
          },
          "colorscale": {
           "diverging": [
            [
             0,
             "#8e0152"
            ],
            [
             0.1,
             "#c51b7d"
            ],
            [
             0.2,
             "#de77ae"
            ],
            [
             0.3,
             "#f1b6da"
            ],
            [
             0.4,
             "#fde0ef"
            ],
            [
             0.5,
             "#f7f7f7"
            ],
            [
             0.6,
             "#e6f5d0"
            ],
            [
             0.7,
             "#b8e186"
            ],
            [
             0.8,
             "#7fbc41"
            ],
            [
             0.9,
             "#4d9221"
            ],
            [
             1,
             "#276419"
            ]
           ],
           "sequential": [
            [
             0,
             "#0d0887"
            ],
            [
             0.1111111111111111,
             "#46039f"
            ],
            [
             0.2222222222222222,
             "#7201a8"
            ],
            [
             0.3333333333333333,
             "#9c179e"
            ],
            [
             0.4444444444444444,
             "#bd3786"
            ],
            [
             0.5555555555555556,
             "#d8576b"
            ],
            [
             0.6666666666666666,
             "#ed7953"
            ],
            [
             0.7777777777777778,
             "#fb9f3a"
            ],
            [
             0.8888888888888888,
             "#fdca26"
            ],
            [
             1,
             "#f0f921"
            ]
           ],
           "sequentialminus": [
            [
             0,
             "#0d0887"
            ],
            [
             0.1111111111111111,
             "#46039f"
            ],
            [
             0.2222222222222222,
             "#7201a8"
            ],
            [
             0.3333333333333333,
             "#9c179e"
            ],
            [
             0.4444444444444444,
             "#bd3786"
            ],
            [
             0.5555555555555556,
             "#d8576b"
            ],
            [
             0.6666666666666666,
             "#ed7953"
            ],
            [
             0.7777777777777778,
             "#fb9f3a"
            ],
            [
             0.8888888888888888,
             "#fdca26"
            ],
            [
             1,
             "#f0f921"
            ]
           ]
          },
          "colorway": [
           "#636efa",
           "#EF553B",
           "#00cc96",
           "#ab63fa",
           "#FFA15A",
           "#19d3f3",
           "#FF6692",
           "#B6E880",
           "#FF97FF",
           "#FECB52"
          ],
          "font": {
           "color": "#2a3f5f"
          },
          "geo": {
           "bgcolor": "white",
           "lakecolor": "white",
           "landcolor": "#E5ECF6",
           "showlakes": true,
           "showland": true,
           "subunitcolor": "white"
          },
          "hoverlabel": {
           "align": "left"
          },
          "hovermode": "closest",
          "mapbox": {
           "style": "light"
          },
          "paper_bgcolor": "white",
          "plot_bgcolor": "#E5ECF6",
          "polar": {
           "angularaxis": {
            "gridcolor": "white",
            "linecolor": "white",
            "ticks": ""
           },
           "bgcolor": "#E5ECF6",
           "radialaxis": {
            "gridcolor": "white",
            "linecolor": "white",
            "ticks": ""
           }
          },
          "scene": {
           "xaxis": {
            "backgroundcolor": "#E5ECF6",
            "gridcolor": "white",
            "gridwidth": 2,
            "linecolor": "white",
            "showbackground": true,
            "ticks": "",
            "zerolinecolor": "white"
           },
           "yaxis": {
            "backgroundcolor": "#E5ECF6",
            "gridcolor": "white",
            "gridwidth": 2,
            "linecolor": "white",
            "showbackground": true,
            "ticks": "",
            "zerolinecolor": "white"
           },
           "zaxis": {
            "backgroundcolor": "#E5ECF6",
            "gridcolor": "white",
            "gridwidth": 2,
            "linecolor": "white",
            "showbackground": true,
            "ticks": "",
            "zerolinecolor": "white"
           }
          },
          "shapedefaults": {
           "line": {
            "color": "#2a3f5f"
           }
          },
          "ternary": {
           "aaxis": {
            "gridcolor": "white",
            "linecolor": "white",
            "ticks": ""
           },
           "baxis": {
            "gridcolor": "white",
            "linecolor": "white",
            "ticks": ""
           },
           "bgcolor": "#E5ECF6",
           "caxis": {
            "gridcolor": "white",
            "linecolor": "white",
            "ticks": ""
           }
          },
          "title": {
           "x": 0.05
          },
          "xaxis": {
           "automargin": true,
           "gridcolor": "white",
           "linecolor": "white",
           "ticks": "",
           "title": {
            "standoff": 15
           },
           "zerolinecolor": "white",
           "zerolinewidth": 2
          },
          "yaxis": {
           "automargin": true,
           "gridcolor": "white",
           "linecolor": "white",
           "ticks": "",
           "title": {
            "standoff": 15
           },
           "zerolinecolor": "white",
           "zerolinewidth": 2
          }
         }
        }
       }
      }
     },
     "metadata": {},
     "output_type": "display_data"
    }
   ],
   "source": [
    "state_totals.sort_values(\"Rate\", ascending=False, inplace=True)\n",
    "fig = go.Figure()\n",
    "fig.add_trace(go.Bar(x=state_totals[\"State_y\"], y=state_totals[\"Rate\"], name=\"Rate\"))\n",
    "fig.show()"
   ]
  },
  {
   "cell_type": "code",
   "execution_count": 67,
   "metadata": {},
   "outputs": [
    {
     "data": {
      "text/html": [
       "<div>\n",
       "<style scoped>\n",
       "    .dataframe tbody tr th:only-of-type {\n",
       "        vertical-align: middle;\n",
       "    }\n",
       "\n",
       "    .dataframe tbody tr th {\n",
       "        vertical-align: top;\n",
       "    }\n",
       "\n",
       "    .dataframe thead th {\n",
       "        text-align: right;\n",
       "    }\n",
       "</style>\n",
       "<table border=\"1\" class=\"dataframe\">\n",
       "  <thead>\n",
       "    <tr style=\"text-align: right;\">\n",
       "      <th></th>\n",
       "      <th>fips</th>\n",
       "      <th>State_y</th>\n",
       "      <th>Part_Score</th>\n",
       "      <th>Year_x</th>\n",
       "      <th>Deaths</th>\n",
       "      <th>Population</th>\n",
       "      <th>Rate</th>\n",
       "      <th>Year_y</th>\n",
       "      <th>Total Pop</th>\n",
       "    </tr>\n",
       "  </thead>\n",
       "  <tbody>\n",
       "    <tr>\n",
       "      <th>43</th>\n",
       "      <td>50</td>\n",
       "      <td>Vermont</td>\n",
       "      <td>-0.4</td>\n",
       "      <td>2024.0</td>\n",
       "      <td>137.0</td>\n",
       "      <td>6904365.5</td>\n",
       "      <td>21.955515</td>\n",
       "      <td>2019.0</td>\n",
       "      <td>623989.0</td>\n",
       "    </tr>\n",
       "  </tbody>\n",
       "</table>\n",
       "</div>"
      ],
      "text/plain": [
       "   fips  State_y  Part_Score  Year_x  Deaths  Population       Rate  Year_y  \\\n",
       "43   50  Vermont        -0.4  2024.0   137.0   6904365.5  21.955515  2019.0   \n",
       "\n",
       "    Total Pop  \n",
       "43   623989.0  "
      ]
     },
     "execution_count": 67,
     "metadata": {},
     "output_type": "execute_result"
    }
   ],
   "source": [
    "state_totals[state_totals[\"State_y\"] == \"Vermont\"]"
   ]
  },
  {
   "cell_type": "code",
   "execution_count": 68,
   "metadata": {},
   "outputs": [
    {
     "data": {
      "text/html": [
       "<div>\n",
       "<style scoped>\n",
       "    .dataframe tbody tr th:only-of-type {\n",
       "        vertical-align: middle;\n",
       "    }\n",
       "\n",
       "    .dataframe tbody tr th {\n",
       "        vertical-align: top;\n",
       "    }\n",
       "\n",
       "    .dataframe thead th {\n",
       "        text-align: right;\n",
       "    }\n",
       "</style>\n",
       "<table border=\"1\" class=\"dataframe\">\n",
       "  <thead>\n",
       "    <tr style=\"text-align: right;\">\n",
       "      <th></th>\n",
       "      <th>fips</th>\n",
       "      <th>State_y</th>\n",
       "      <th>Part_Score</th>\n",
       "      <th>Year_x</th>\n",
       "      <th>Deaths</th>\n",
       "      <th>Population</th>\n",
       "      <th>Rate</th>\n",
       "      <th>Year_y</th>\n",
       "      <th>Total Pop</th>\n",
       "    </tr>\n",
       "  </thead>\n",
       "  <tbody>\n",
       "    <tr>\n",
       "      <th>43</th>\n",
       "      <td>50</td>\n",
       "      <td>Vermont</td>\n",
       "      <td>-0.400000</td>\n",
       "      <td>2024.0</td>\n",
       "      <td>137.000000</td>\n",
       "      <td>6.904366e+06</td>\n",
       "      <td>21.955515</td>\n",
       "      <td>2019.0</td>\n",
       "      <td>623989.0</td>\n",
       "    </tr>\n",
       "    <tr>\n",
       "      <th>32</th>\n",
       "      <td>38</td>\n",
       "      <td>North Dakota</td>\n",
       "      <td>1.000000</td>\n",
       "      <td>2024.0</td>\n",
       "      <td>87.750000</td>\n",
       "      <td>3.945920e+06</td>\n",
       "      <td>11.514811</td>\n",
       "      <td>2019.0</td>\n",
       "      <td>762062.0</td>\n",
       "    </tr>\n",
       "    <tr>\n",
       "      <th>48</th>\n",
       "      <td>56</td>\n",
       "      <td>Wyoming</td>\n",
       "      <td>0.866667</td>\n",
       "      <td>2024.0</td>\n",
       "      <td>50.300000</td>\n",
       "      <td>1.349089e+06</td>\n",
       "      <td>8.691010</td>\n",
       "      <td>2019.0</td>\n",
       "      <td>578759.0</td>\n",
       "    </tr>\n",
       "    <tr>\n",
       "      <th>17</th>\n",
       "      <td>22</td>\n",
       "      <td>Louisiana</td>\n",
       "      <td>0.333333</td>\n",
       "      <td>2024.0</td>\n",
       "      <td>307.130952</td>\n",
       "      <td>2.346557e+06</td>\n",
       "      <td>6.606680</td>\n",
       "      <td>2019.0</td>\n",
       "      <td>4648794.0</td>\n",
       "    </tr>\n",
       "    <tr>\n",
       "      <th>23</th>\n",
       "      <td>28</td>\n",
       "      <td>Mississippi</td>\n",
       "      <td>0.800000</td>\n",
       "      <td>2024.0</td>\n",
       "      <td>181.063291</td>\n",
       "      <td>1.558334e+06</td>\n",
       "      <td>6.083811</td>\n",
       "      <td>2019.0</td>\n",
       "      <td>2976149.0</td>\n",
       "    </tr>\n",
       "    <tr>\n",
       "      <th>7</th>\n",
       "      <td>10</td>\n",
       "      <td>Delaware</td>\n",
       "      <td>-1.000000</td>\n",
       "      <td>2024.0</td>\n",
       "      <td>56.611111</td>\n",
       "      <td>7.961586e+05</td>\n",
       "      <td>5.813638</td>\n",
       "      <td>2019.0</td>\n",
       "      <td>973764.0</td>\n",
       "    </tr>\n",
       "    <tr>\n",
       "      <th>1</th>\n",
       "      <td>02</td>\n",
       "      <td>Alaska</td>\n",
       "      <td>0.466667</td>\n",
       "      <td>2024.0</td>\n",
       "      <td>41.755556</td>\n",
       "      <td>5.553994e+05</td>\n",
       "      <td>5.707859</td>\n",
       "      <td>2019.0</td>\n",
       "      <td>731545.0</td>\n",
       "    </tr>\n",
       "    <tr>\n",
       "      <th>0</th>\n",
       "      <td>01</td>\n",
       "      <td>Alabama</td>\n",
       "      <td>0.866667</td>\n",
       "      <td>2024.0</td>\n",
       "      <td>251.875000</td>\n",
       "      <td>2.504941e+06</td>\n",
       "      <td>5.136967</td>\n",
       "      <td>2019.0</td>\n",
       "      <td>4903185.0</td>\n",
       "    </tr>\n",
       "    <tr>\n",
       "      <th>29</th>\n",
       "      <td>35</td>\n",
       "      <td>New Mexico</td>\n",
       "      <td>-0.466667</td>\n",
       "      <td>2024.0</td>\n",
       "      <td>106.769231</td>\n",
       "      <td>1.217324e+06</td>\n",
       "      <td>5.091938</td>\n",
       "      <td>2019.0</td>\n",
       "      <td>2096829.0</td>\n",
       "    </tr>\n",
       "    <tr>\n",
       "      <th>19</th>\n",
       "      <td>24</td>\n",
       "      <td>Maryland</td>\n",
       "      <td>-0.533333</td>\n",
       "      <td>2024.0</td>\n",
       "      <td>295.526316</td>\n",
       "      <td>3.157371e+06</td>\n",
       "      <td>4.888223</td>\n",
       "      <td>2019.0</td>\n",
       "      <td>6045680.0</td>\n",
       "    </tr>\n",
       "    <tr>\n",
       "      <th>3</th>\n",
       "      <td>05</td>\n",
       "      <td>Arkansas</td>\n",
       "      <td>0.333333</td>\n",
       "      <td>2024.0</td>\n",
       "      <td>129.342105</td>\n",
       "      <td>1.567464e+06</td>\n",
       "      <td>4.285968</td>\n",
       "      <td>2019.0</td>\n",
       "      <td>3017804.0</td>\n",
       "    </tr>\n",
       "    <tr>\n",
       "      <th>39</th>\n",
       "      <td>46</td>\n",
       "      <td>South Dakota</td>\n",
       "      <td>1.000000</td>\n",
       "      <td>2024.0</td>\n",
       "      <td>35.560000</td>\n",
       "      <td>9.459389e+05</td>\n",
       "      <td>4.019628</td>\n",
       "      <td>2019.0</td>\n",
       "      <td>884659.0</td>\n",
       "    </tr>\n",
       "    <tr>\n",
       "      <th>38</th>\n",
       "      <td>45</td>\n",
       "      <td>South Carolina</td>\n",
       "      <td>1.000000</td>\n",
       "      <td>2024.0</td>\n",
       "      <td>203.817073</td>\n",
       "      <td>2.397241e+06</td>\n",
       "      <td>3.958602</td>\n",
       "      <td>2019.0</td>\n",
       "      <td>5148714.0</td>\n",
       "    </tr>\n",
       "    <tr>\n",
       "      <th>24</th>\n",
       "      <td>29</td>\n",
       "      <td>Missouri</td>\n",
       "      <td>0.466667</td>\n",
       "      <td>2024.0</td>\n",
       "      <td>240.505882</td>\n",
       "      <td>3.027624e+06</td>\n",
       "      <td>3.918675</td>\n",
       "      <td>2019.0</td>\n",
       "      <td>6137428.0</td>\n",
       "    </tr>\n",
       "    <tr>\n",
       "      <th>12</th>\n",
       "      <td>17</td>\n",
       "      <td>Illinois</td>\n",
       "      <td>-0.733333</td>\n",
       "      <td>2024.0</td>\n",
       "      <td>475.813953</td>\n",
       "      <td>6.434583e+06</td>\n",
       "      <td>3.754898</td>\n",
       "      <td>2019.0</td>\n",
       "      <td>12671821.0</td>\n",
       "    </tr>\n",
       "    <tr>\n",
       "      <th>37</th>\n",
       "      <td>44</td>\n",
       "      <td>Rhode Island</td>\n",
       "      <td>-0.666667</td>\n",
       "      <td>2024.0</td>\n",
       "      <td>38.678571</td>\n",
       "      <td>1.142027e+06</td>\n",
       "      <td>3.651123</td>\n",
       "      <td>2019.0</td>\n",
       "      <td>1059361.0</td>\n",
       "    </tr>\n",
       "    <tr>\n",
       "      <th>40</th>\n",
       "      <td>47</td>\n",
       "      <td>Tennessee</td>\n",
       "      <td>0.866667</td>\n",
       "      <td>2024.0</td>\n",
       "      <td>248.255814</td>\n",
       "      <td>3.187201e+06</td>\n",
       "      <td>3.635225</td>\n",
       "      <td>2019.0</td>\n",
       "      <td>6829174.0</td>\n",
       "    </tr>\n",
       "    <tr>\n",
       "      <th>34</th>\n",
       "      <td>40</td>\n",
       "      <td>Oklahoma</td>\n",
       "      <td>0.866667</td>\n",
       "      <td>2024.0</td>\n",
       "      <td>142.519481</td>\n",
       "      <td>2.035927e+06</td>\n",
       "      <td>3.601732</td>\n",
       "      <td>2019.0</td>\n",
       "      <td>3956971.0</td>\n",
       "    </tr>\n",
       "    <tr>\n",
       "      <th>46</th>\n",
       "      <td>54</td>\n",
       "      <td>West Virginia</td>\n",
       "      <td>0.000000</td>\n",
       "      <td>2024.0</td>\n",
       "      <td>64.440678</td>\n",
       "      <td>1.180095e+06</td>\n",
       "      <td>3.595725</td>\n",
       "      <td>2019.0</td>\n",
       "      <td>1792147.0</td>\n",
       "    </tr>\n",
       "    <tr>\n",
       "      <th>26</th>\n",
       "      <td>32</td>\n",
       "      <td>Nevada</td>\n",
       "      <td>-0.071429</td>\n",
       "      <td>2024.0</td>\n",
       "      <td>109.985507</td>\n",
       "      <td>1.532158e+06</td>\n",
       "      <td>3.570777</td>\n",
       "      <td>2019.0</td>\n",
       "      <td>3080156.0</td>\n",
       "    </tr>\n",
       "    <tr>\n",
       "      <th>25</th>\n",
       "      <td>30</td>\n",
       "      <td>Montana</td>\n",
       "      <td>0.200000</td>\n",
       "      <td>2024.0</td>\n",
       "      <td>36.800000</td>\n",
       "      <td>8.925473e+05</td>\n",
       "      <td>3.443185</td>\n",
       "      <td>2019.0</td>\n",
       "      <td>1068778.0</td>\n",
       "    </tr>\n",
       "    <tr>\n",
       "      <th>9</th>\n",
       "      <td>13</td>\n",
       "      <td>Georgia</td>\n",
       "      <td>1.000000</td>\n",
       "      <td>2024.0</td>\n",
       "      <td>361.988372</td>\n",
       "      <td>4.839759e+06</td>\n",
       "      <td>3.409381</td>\n",
       "      <td>2019.0</td>\n",
       "      <td>10617423.0</td>\n",
       "    </tr>\n",
       "    <tr>\n",
       "      <th>21</th>\n",
       "      <td>26</td>\n",
       "      <td>Michigan</td>\n",
       "      <td>0.400000</td>\n",
       "      <td>2024.0</td>\n",
       "      <td>335.941860</td>\n",
       "      <td>5.047876e+06</td>\n",
       "      <td>3.363840</td>\n",
       "      <td>2019.0</td>\n",
       "      <td>9986857.0</td>\n",
       "    </tr>\n",
       "    <tr>\n",
       "      <th>15</th>\n",
       "      <td>20</td>\n",
       "      <td>Kansas</td>\n",
       "      <td>0.533333</td>\n",
       "      <td>2024.0</td>\n",
       "      <td>92.300000</td>\n",
       "      <td>1.808480e+06</td>\n",
       "      <td>3.168213</td>\n",
       "      <td>2019.0</td>\n",
       "      <td>2913314.0</td>\n",
       "    </tr>\n",
       "    <tr>\n",
       "      <th>2</th>\n",
       "      <td>04</td>\n",
       "      <td>Arizona</td>\n",
       "      <td>0.866667</td>\n",
       "      <td>2024.0</td>\n",
       "      <td>225.069767</td>\n",
       "      <td>3.184363e+06</td>\n",
       "      <td>3.092163</td>\n",
       "      <td>2019.0</td>\n",
       "      <td>7278717.0</td>\n",
       "    </tr>\n",
       "    <tr>\n",
       "      <th>27</th>\n",
       "      <td>33</td>\n",
       "      <td>New Hampshire</td>\n",
       "      <td>0.200000</td>\n",
       "      <td>2024.0</td>\n",
       "      <td>41.615385</td>\n",
       "      <td>2.575659e+06</td>\n",
       "      <td>3.060605</td>\n",
       "      <td>2019.0</td>\n",
       "      <td>1359711.0</td>\n",
       "    </tr>\n",
       "    <tr>\n",
       "      <th>31</th>\n",
       "      <td>37</td>\n",
       "      <td>North Carolina</td>\n",
       "      <td>0.133333</td>\n",
       "      <td>2024.0</td>\n",
       "      <td>320.395349</td>\n",
       "      <td>4.745916e+06</td>\n",
       "      <td>3.054851</td>\n",
       "      <td>2019.0</td>\n",
       "      <td>10488084.0</td>\n",
       "    </tr>\n",
       "    <tr>\n",
       "      <th>13</th>\n",
       "      <td>18</td>\n",
       "      <td>Indiana</td>\n",
       "      <td>0.866667</td>\n",
       "      <td>2024.0</td>\n",
       "      <td>204.261905</td>\n",
       "      <td>3.328023e+06</td>\n",
       "      <td>3.034095</td>\n",
       "      <td>2019.0</td>\n",
       "      <td>6732219.0</td>\n",
       "    </tr>\n",
       "    <tr>\n",
       "      <th>16</th>\n",
       "      <td>21</td>\n",
       "      <td>Kentucky</td>\n",
       "      <td>0.200000</td>\n",
       "      <td>2024.0</td>\n",
       "      <td>133.013158</td>\n",
       "      <td>2.336537e+06</td>\n",
       "      <td>2.977236</td>\n",
       "      <td>2019.0</td>\n",
       "      <td>4467673.0</td>\n",
       "    </tr>\n",
       "    <tr>\n",
       "      <th>36</th>\n",
       "      <td>42</td>\n",
       "      <td>Pennsylvania</td>\n",
       "      <td>0.266667</td>\n",
       "      <td>2024.0</td>\n",
       "      <td>355.976744</td>\n",
       "      <td>6.373866e+06</td>\n",
       "      <td>2.780636</td>\n",
       "      <td>2019.0</td>\n",
       "      <td>12801989.0</td>\n",
       "    </tr>\n",
       "    <tr>\n",
       "      <th>4</th>\n",
       "      <td>06</td>\n",
       "      <td>California</td>\n",
       "      <td>-0.866667</td>\n",
       "      <td>2024.0</td>\n",
       "      <td>1078.023256</td>\n",
       "      <td>1.881871e+07</td>\n",
       "      <td>2.728329</td>\n",
       "      <td>2019.0</td>\n",
       "      <td>39512223.0</td>\n",
       "    </tr>\n",
       "    <tr>\n",
       "      <th>8</th>\n",
       "      <td>12</td>\n",
       "      <td>Florida</td>\n",
       "      <td>1.000000</td>\n",
       "      <td>2024.0</td>\n",
       "      <td>583.337209</td>\n",
       "      <td>9.508494e+06</td>\n",
       "      <td>2.716009</td>\n",
       "      <td>2019.0</td>\n",
       "      <td>21477737.0</td>\n",
       "    </tr>\n",
       "    <tr>\n",
       "      <th>33</th>\n",
       "      <td>39</td>\n",
       "      <td>Ohio</td>\n",
       "      <td>0.866667</td>\n",
       "      <td>2024.0</td>\n",
       "      <td>316.813953</td>\n",
       "      <td>5.840971e+06</td>\n",
       "      <td>2.710337</td>\n",
       "      <td>2019.0</td>\n",
       "      <td>11689100.0</td>\n",
       "    </tr>\n",
       "    <tr>\n",
       "      <th>18</th>\n",
       "      <td>23</td>\n",
       "      <td>Maine</td>\n",
       "      <td>-0.333333</td>\n",
       "      <td>2024.0</td>\n",
       "      <td>36.200000</td>\n",
       "      <td>1.803374e+06</td>\n",
       "      <td>2.693028</td>\n",
       "      <td>2019.0</td>\n",
       "      <td>1344212.0</td>\n",
       "    </tr>\n",
       "    <tr>\n",
       "      <th>41</th>\n",
       "      <td>48</td>\n",
       "      <td>Texas</td>\n",
       "      <td>1.000000</td>\n",
       "      <td>2024.0</td>\n",
       "      <td>753.372093</td>\n",
       "      <td>1.268532e+07</td>\n",
       "      <td>2.598204</td>\n",
       "      <td>2019.0</td>\n",
       "      <td>28995881.0</td>\n",
       "    </tr>\n",
       "    <tr>\n",
       "      <th>6</th>\n",
       "      <td>09</td>\n",
       "      <td>Connecticut</td>\n",
       "      <td>-0.733333</td>\n",
       "      <td>2024.0</td>\n",
       "      <td>89.129630</td>\n",
       "      <td>2.441710e+06</td>\n",
       "      <td>2.499929</td>\n",
       "      <td>2019.0</td>\n",
       "      <td>3565287.0</td>\n",
       "    </tr>\n",
       "    <tr>\n",
       "      <th>44</th>\n",
       "      <td>51</td>\n",
       "      <td>Virginia</td>\n",
       "      <td>-0.133333</td>\n",
       "      <td>2024.0</td>\n",
       "      <td>211.380952</td>\n",
       "      <td>4.056577e+06</td>\n",
       "      <td>2.476486</td>\n",
       "      <td>2019.0</td>\n",
       "      <td>8535519.0</td>\n",
       "    </tr>\n",
       "    <tr>\n",
       "      <th>10</th>\n",
       "      <td>15</td>\n",
       "      <td>Hawaii</td>\n",
       "      <td>-0.866667</td>\n",
       "      <td>2024.0</td>\n",
       "      <td>32.514286</td>\n",
       "      <td>1.231468e+06</td>\n",
       "      <td>2.296414</td>\n",
       "      <td>2019.0</td>\n",
       "      <td>1415872.0</td>\n",
       "    </tr>\n",
       "    <tr>\n",
       "      <th>28</th>\n",
       "      <td>34</td>\n",
       "      <td>New Jersey</td>\n",
       "      <td>-0.466667</td>\n",
       "      <td>2024.0</td>\n",
       "      <td>201.600000</td>\n",
       "      <td>4.659632e+06</td>\n",
       "      <td>2.269711</td>\n",
       "      <td>2019.0</td>\n",
       "      <td>8882190.0</td>\n",
       "    </tr>\n",
       "    <tr>\n",
       "      <th>47</th>\n",
       "      <td>55</td>\n",
       "      <td>Wisconsin</td>\n",
       "      <td>0.400000</td>\n",
       "      <td>2024.0</td>\n",
       "      <td>129.861538</td>\n",
       "      <td>3.447167e+06</td>\n",
       "      <td>2.230365</td>\n",
       "      <td>2019.0</td>\n",
       "      <td>5822434.0</td>\n",
       "    </tr>\n",
       "    <tr>\n",
       "      <th>5</th>\n",
       "      <td>08</td>\n",
       "      <td>Colorado</td>\n",
       "      <td>-0.600000</td>\n",
       "      <td>2024.0</td>\n",
       "      <td>126.275362</td>\n",
       "      <td>3.016236e+06</td>\n",
       "      <td>2.192762</td>\n",
       "      <td>2019.0</td>\n",
       "      <td>5758736.0</td>\n",
       "    </tr>\n",
       "    <tr>\n",
       "      <th>30</th>\n",
       "      <td>36</td>\n",
       "      <td>New York</td>\n",
       "      <td>-0.666667</td>\n",
       "      <td>2024.0</td>\n",
       "      <td>408.860465</td>\n",
       "      <td>9.804671e+06</td>\n",
       "      <td>2.101726</td>\n",
       "      <td>2019.0</td>\n",
       "      <td>19453561.0</td>\n",
       "    </tr>\n",
       "    <tr>\n",
       "      <th>11</th>\n",
       "      <td>16</td>\n",
       "      <td>Idaho</td>\n",
       "      <td>1.000000</td>\n",
       "      <td>2024.0</td>\n",
       "      <td>36.228571</td>\n",
       "      <td>1.408235e+06</td>\n",
       "      <td>2.027267</td>\n",
       "      <td>2019.0</td>\n",
       "      <td>1787065.0</td>\n",
       "    </tr>\n",
       "    <tr>\n",
       "      <th>20</th>\n",
       "      <td>25</td>\n",
       "      <td>Massachusetts</td>\n",
       "      <td>-0.533333</td>\n",
       "      <td>2024.0</td>\n",
       "      <td>118.413793</td>\n",
       "      <td>4.357703e+06</td>\n",
       "      <td>1.718009</td>\n",
       "      <td>2019.0</td>\n",
       "      <td>6892503.0</td>\n",
       "    </tr>\n",
       "    <tr>\n",
       "      <th>42</th>\n",
       "      <td>49</td>\n",
       "      <td>Utah</td>\n",
       "      <td>1.000000</td>\n",
       "      <td>2024.0</td>\n",
       "      <td>54.177778</td>\n",
       "      <td>2.154743e+06</td>\n",
       "      <td>1.689909</td>\n",
       "      <td>2019.0</td>\n",
       "      <td>3205958.0</td>\n",
       "    </tr>\n",
       "    <tr>\n",
       "      <th>35</th>\n",
       "      <td>41</td>\n",
       "      <td>Oregon</td>\n",
       "      <td>-0.866667</td>\n",
       "      <td>2024.0</td>\n",
       "      <td>69.636364</td>\n",
       "      <td>2.305194e+06</td>\n",
       "      <td>1.651036</td>\n",
       "      <td>2019.0</td>\n",
       "      <td>4217737.0</td>\n",
       "    </tr>\n",
       "    <tr>\n",
       "      <th>14</th>\n",
       "      <td>19</td>\n",
       "      <td>Iowa</td>\n",
       "      <td>0.333333</td>\n",
       "      <td>2024.0</td>\n",
       "      <td>51.792453</td>\n",
       "      <td>2.114019e+06</td>\n",
       "      <td>1.641563</td>\n",
       "      <td>2019.0</td>\n",
       "      <td>3155070.0</td>\n",
       "    </tr>\n",
       "    <tr>\n",
       "      <th>45</th>\n",
       "      <td>53</td>\n",
       "      <td>Washington</td>\n",
       "      <td>-0.866667</td>\n",
       "      <td>2024.0</td>\n",
       "      <td>122.025974</td>\n",
       "      <td>3.660768e+06</td>\n",
       "      <td>1.602465</td>\n",
       "      <td>2019.0</td>\n",
       "      <td>7614893.0</td>\n",
       "    </tr>\n",
       "    <tr>\n",
       "      <th>22</th>\n",
       "      <td>27</td>\n",
       "      <td>Minnesota</td>\n",
       "      <td>-0.266667</td>\n",
       "      <td>2024.0</td>\n",
       "      <td>88.114754</td>\n",
       "      <td>3.377062e+06</td>\n",
       "      <td>1.562420</td>\n",
       "      <td>2019.0</td>\n",
       "      <td>5639632.0</td>\n",
       "    </tr>\n",
       "  </tbody>\n",
       "</table>\n",
       "</div>"
      ],
      "text/plain": [
       "   fips         State_y  Part_Score  Year_x       Deaths    Population  \\\n",
       "43   50         Vermont   -0.400000  2024.0   137.000000  6.904366e+06   \n",
       "32   38    North Dakota    1.000000  2024.0    87.750000  3.945920e+06   \n",
       "48   56         Wyoming    0.866667  2024.0    50.300000  1.349089e+06   \n",
       "17   22       Louisiana    0.333333  2024.0   307.130952  2.346557e+06   \n",
       "23   28     Mississippi    0.800000  2024.0   181.063291  1.558334e+06   \n",
       "7    10        Delaware   -1.000000  2024.0    56.611111  7.961586e+05   \n",
       "1    02          Alaska    0.466667  2024.0    41.755556  5.553994e+05   \n",
       "0    01         Alabama    0.866667  2024.0   251.875000  2.504941e+06   \n",
       "29   35      New Mexico   -0.466667  2024.0   106.769231  1.217324e+06   \n",
       "19   24        Maryland   -0.533333  2024.0   295.526316  3.157371e+06   \n",
       "3    05        Arkansas    0.333333  2024.0   129.342105  1.567464e+06   \n",
       "39   46    South Dakota    1.000000  2024.0    35.560000  9.459389e+05   \n",
       "38   45  South Carolina    1.000000  2024.0   203.817073  2.397241e+06   \n",
       "24   29        Missouri    0.466667  2024.0   240.505882  3.027624e+06   \n",
       "12   17        Illinois   -0.733333  2024.0   475.813953  6.434583e+06   \n",
       "37   44    Rhode Island   -0.666667  2024.0    38.678571  1.142027e+06   \n",
       "40   47       Tennessee    0.866667  2024.0   248.255814  3.187201e+06   \n",
       "34   40        Oklahoma    0.866667  2024.0   142.519481  2.035927e+06   \n",
       "46   54   West Virginia    0.000000  2024.0    64.440678  1.180095e+06   \n",
       "26   32          Nevada   -0.071429  2024.0   109.985507  1.532158e+06   \n",
       "25   30         Montana    0.200000  2024.0    36.800000  8.925473e+05   \n",
       "9    13         Georgia    1.000000  2024.0   361.988372  4.839759e+06   \n",
       "21   26        Michigan    0.400000  2024.0   335.941860  5.047876e+06   \n",
       "15   20          Kansas    0.533333  2024.0    92.300000  1.808480e+06   \n",
       "2    04         Arizona    0.866667  2024.0   225.069767  3.184363e+06   \n",
       "27   33   New Hampshire    0.200000  2024.0    41.615385  2.575659e+06   \n",
       "31   37  North Carolina    0.133333  2024.0   320.395349  4.745916e+06   \n",
       "13   18         Indiana    0.866667  2024.0   204.261905  3.328023e+06   \n",
       "16   21        Kentucky    0.200000  2024.0   133.013158  2.336537e+06   \n",
       "36   42    Pennsylvania    0.266667  2024.0   355.976744  6.373866e+06   \n",
       "4    06      California   -0.866667  2024.0  1078.023256  1.881871e+07   \n",
       "8    12         Florida    1.000000  2024.0   583.337209  9.508494e+06   \n",
       "33   39            Ohio    0.866667  2024.0   316.813953  5.840971e+06   \n",
       "18   23           Maine   -0.333333  2024.0    36.200000  1.803374e+06   \n",
       "41   48           Texas    1.000000  2024.0   753.372093  1.268532e+07   \n",
       "6    09     Connecticut   -0.733333  2024.0    89.129630  2.441710e+06   \n",
       "44   51        Virginia   -0.133333  2024.0   211.380952  4.056577e+06   \n",
       "10   15          Hawaii   -0.866667  2024.0    32.514286  1.231468e+06   \n",
       "28   34      New Jersey   -0.466667  2024.0   201.600000  4.659632e+06   \n",
       "47   55       Wisconsin    0.400000  2024.0   129.861538  3.447167e+06   \n",
       "5    08        Colorado   -0.600000  2024.0   126.275362  3.016236e+06   \n",
       "30   36        New York   -0.666667  2024.0   408.860465  9.804671e+06   \n",
       "11   16           Idaho    1.000000  2024.0    36.228571  1.408235e+06   \n",
       "20   25   Massachusetts   -0.533333  2024.0   118.413793  4.357703e+06   \n",
       "42   49            Utah    1.000000  2024.0    54.177778  2.154743e+06   \n",
       "35   41          Oregon   -0.866667  2024.0    69.636364  2.305194e+06   \n",
       "14   19            Iowa    0.333333  2024.0    51.792453  2.114019e+06   \n",
       "45   53      Washington   -0.866667  2024.0   122.025974  3.660768e+06   \n",
       "22   27       Minnesota   -0.266667  2024.0    88.114754  3.377062e+06   \n",
       "\n",
       "         Rate  Year_y   Total Pop  \n",
       "43  21.955515  2019.0    623989.0  \n",
       "32  11.514811  2019.0    762062.0  \n",
       "48   8.691010  2019.0    578759.0  \n",
       "17   6.606680  2019.0   4648794.0  \n",
       "23   6.083811  2019.0   2976149.0  \n",
       "7    5.813638  2019.0    973764.0  \n",
       "1    5.707859  2019.0    731545.0  \n",
       "0    5.136967  2019.0   4903185.0  \n",
       "29   5.091938  2019.0   2096829.0  \n",
       "19   4.888223  2019.0   6045680.0  \n",
       "3    4.285968  2019.0   3017804.0  \n",
       "39   4.019628  2019.0    884659.0  \n",
       "38   3.958602  2019.0   5148714.0  \n",
       "24   3.918675  2019.0   6137428.0  \n",
       "12   3.754898  2019.0  12671821.0  \n",
       "37   3.651123  2019.0   1059361.0  \n",
       "40   3.635225  2019.0   6829174.0  \n",
       "34   3.601732  2019.0   3956971.0  \n",
       "46   3.595725  2019.0   1792147.0  \n",
       "26   3.570777  2019.0   3080156.0  \n",
       "25   3.443185  2019.0   1068778.0  \n",
       "9    3.409381  2019.0  10617423.0  \n",
       "21   3.363840  2019.0   9986857.0  \n",
       "15   3.168213  2019.0   2913314.0  \n",
       "2    3.092163  2019.0   7278717.0  \n",
       "27   3.060605  2019.0   1359711.0  \n",
       "31   3.054851  2019.0  10488084.0  \n",
       "13   3.034095  2019.0   6732219.0  \n",
       "16   2.977236  2019.0   4467673.0  \n",
       "36   2.780636  2019.0  12801989.0  \n",
       "4    2.728329  2019.0  39512223.0  \n",
       "8    2.716009  2019.0  21477737.0  \n",
       "33   2.710337  2019.0  11689100.0  \n",
       "18   2.693028  2019.0   1344212.0  \n",
       "41   2.598204  2019.0  28995881.0  \n",
       "6    2.499929  2019.0   3565287.0  \n",
       "44   2.476486  2019.0   8535519.0  \n",
       "10   2.296414  2019.0   1415872.0  \n",
       "28   2.269711  2019.0   8882190.0  \n",
       "47   2.230365  2019.0   5822434.0  \n",
       "5    2.192762  2019.0   5758736.0  \n",
       "30   2.101726  2019.0  19453561.0  \n",
       "11   2.027267  2019.0   1787065.0  \n",
       "20   1.718009  2019.0   6892503.0  \n",
       "42   1.689909  2019.0   3205958.0  \n",
       "35   1.651036  2019.0   4217737.0  \n",
       "14   1.641563  2019.0   3155070.0  \n",
       "45   1.602465  2019.0   7614893.0  \n",
       "22   1.562420  2019.0   5639632.0  "
      ]
     },
     "execution_count": 68,
     "metadata": {},
     "output_type": "execute_result"
    }
   ],
   "source": [
    "state_totals"
   ]
  },
  {
   "cell_type": "code",
   "execution_count": 69,
   "metadata": {},
   "outputs": [
    {
     "data": {
      "text/plain": [
       "8.960908038681252e-05"
      ]
     },
     "execution_count": 69,
     "metadata": {},
     "output_type": "execute_result"
    }
   ],
   "source": [
    "12/133915.0"
   ]
  },
  {
   "cell_type": "code",
   "execution_count": 70,
   "metadata": {},
   "outputs": [
    {
     "data": {
      "application/vnd.plotly.v1+json": {
       "config": {
        "plotlyServerURL": "https://plot.ly"
       },
       "data": [
        {
         "hovertext": [
          "Vermont",
          "North Dakota",
          "Wyoming",
          "Louisiana",
          "Mississippi",
          "Delaware",
          "Alaska",
          "Alabama",
          "New Mexico",
          "Maryland",
          "Arkansas",
          "South Dakota",
          "South Carolina",
          "Missouri",
          "Illinois",
          "Rhode Island",
          "Tennessee",
          "Oklahoma",
          "West Virginia",
          "Nevada",
          "Montana",
          "Georgia",
          "Michigan",
          "Kansas",
          "Arizona",
          "New Hampshire",
          "North Carolina",
          "Indiana",
          "Kentucky",
          "Pennsylvania",
          "California",
          "Florida",
          "Ohio",
          "Maine",
          "Texas",
          "Connecticut",
          "Virginia",
          "Hawaii",
          "New Jersey",
          "Wisconsin",
          "Colorado",
          "New York",
          "Idaho",
          "Massachusetts",
          "Utah",
          "Oregon",
          "Iowa",
          "Washington",
          "Minnesota"
         ],
         "marker": {
          "color": [
           6904365.5,
           3945920,
           1349088.6,
           2346556.8333333335,
           1558334.2278481012,
           796158.6388888889,
           555399.4444444445,
           2504940.8125,
           1217324.3384615385,
           3157371.1842105263,
           1567463.605263158,
           945938.92,
           2397241.3292682925,
           3027624.494117647,
           6434583.279069767,
           1142026.75,
           3187200.61627907,
           2035927.0649350649,
           1180094.7627118644,
           1532157.9130434783,
           892547.2857142857,
           4839758.7441860465,
           5047876.360465116,
           1808479.9666666666,
           3184363.4534883723,
           2575659.3076923075,
           4745916.058139535,
           3328023.238095238,
           2336536.5921052634,
           6373866.430232558,
           18818713.639534883,
           9508493.930232558,
           5840971.302325581,
           1803374,
           12685320.069767442,
           2441709.7407407407,
           4056577.130952381,
           1231467.6857142858,
           4659631.75,
           3447167.3384615383,
           3016236.072463768,
           9804670.604651162,
           1408235.2285714287,
           4357703.137931035,
           2154743.222222222,
           2305194.484848485,
           2114019.0566037735,
           3660768.4025974027,
           3377061.655737705
          ],
          "colorscale": [
           [
            0,
            "rgb(0,0,255)"
           ],
           [
            1,
            "rgb(255,0,0)"
           ]
          ]
         },
         "mode": "markers",
         "type": "scatter",
         "x": [
          6904365.5,
          3945920,
          1349088.6,
          2346556.8333333335,
          1558334.2278481012,
          796158.6388888889,
          555399.4444444445,
          2504940.8125,
          1217324.3384615385,
          3157371.1842105263,
          1567463.605263158,
          945938.92,
          2397241.3292682925,
          3027624.494117647,
          6434583.279069767,
          1142026.75,
          3187200.61627907,
          2035927.0649350649,
          1180094.7627118644,
          1532157.9130434783,
          892547.2857142857,
          4839758.7441860465,
          5047876.360465116,
          1808479.9666666666,
          3184363.4534883723,
          2575659.3076923075,
          4745916.058139535,
          3328023.238095238,
          2336536.5921052634,
          6373866.430232558,
          18818713.639534883,
          9508493.930232558,
          5840971.302325581,
          1803374,
          12685320.069767442,
          2441709.7407407407,
          4056577.130952381,
          1231467.6857142858,
          4659631.75,
          3447167.3384615383,
          3016236.072463768,
          9804670.604651162,
          1408235.2285714287,
          4357703.137931035,
          2154743.222222222,
          2305194.484848485,
          2114019.0566037735,
          3660768.4025974027,
          3377061.655737705
         ],
         "y": [
          21.955515241454577,
          11.514811130852872,
          8.69100955665484,
          6.606680192345636,
          6.0838113662736815,
          5.813637710072576,
          5.707858785933271,
          5.136967093837985,
          5.09193791049393,
          4.888222925948342,
          4.2859677190154795,
          4.019627901824319,
          3.958601568677765,
          3.9186754183175947,
          3.754898001545098,
          3.6511228399545983,
          3.635224610670168,
          3.6017317417661263,
          3.595725013969372,
          3.570777169934796,
          3.44318464639055,
          3.40938071406803,
          3.3638396991677793,
          3.1682132444357185,
          3.092162635830744,
          3.0606051297212873,
          3.0548510942247344,
          3.034094772643385,
          2.977235753259848,
          2.7806362291519426,
          2.728328537257834,
          2.7160087177821652,
          2.7103365826998838,
          2.6930275879102403,
          2.5982038380667096,
          2.499928606859129,
          2.476486226332018,
          2.2964142037052584,
          2.2697105105835385,
          2.2303651438820684,
          2.192761785204958,
          2.1017255664208676,
          2.0272665755622445,
          1.7180085827086078,
          1.689909155945829,
          1.6510361750000921,
          1.6415627174734215,
          1.602464723089005,
          1.5624202802303526
         ]
        }
       ],
       "layout": {
        "template": {
         "data": {
          "bar": [
           {
            "error_x": {
             "color": "#2a3f5f"
            },
            "error_y": {
             "color": "#2a3f5f"
            },
            "marker": {
             "line": {
              "color": "#E5ECF6",
              "width": 0.5
             },
             "pattern": {
              "fillmode": "overlay",
              "size": 10,
              "solidity": 0.2
             }
            },
            "type": "bar"
           }
          ],
          "barpolar": [
           {
            "marker": {
             "line": {
              "color": "#E5ECF6",
              "width": 0.5
             },
             "pattern": {
              "fillmode": "overlay",
              "size": 10,
              "solidity": 0.2
             }
            },
            "type": "barpolar"
           }
          ],
          "carpet": [
           {
            "aaxis": {
             "endlinecolor": "#2a3f5f",
             "gridcolor": "white",
             "linecolor": "white",
             "minorgridcolor": "white",
             "startlinecolor": "#2a3f5f"
            },
            "baxis": {
             "endlinecolor": "#2a3f5f",
             "gridcolor": "white",
             "linecolor": "white",
             "minorgridcolor": "white",
             "startlinecolor": "#2a3f5f"
            },
            "type": "carpet"
           }
          ],
          "choropleth": [
           {
            "colorbar": {
             "outlinewidth": 0,
             "ticks": ""
            },
            "type": "choropleth"
           }
          ],
          "contour": [
           {
            "colorbar": {
             "outlinewidth": 0,
             "ticks": ""
            },
            "colorscale": [
             [
              0,
              "#0d0887"
             ],
             [
              0.1111111111111111,
              "#46039f"
             ],
             [
              0.2222222222222222,
              "#7201a8"
             ],
             [
              0.3333333333333333,
              "#9c179e"
             ],
             [
              0.4444444444444444,
              "#bd3786"
             ],
             [
              0.5555555555555556,
              "#d8576b"
             ],
             [
              0.6666666666666666,
              "#ed7953"
             ],
             [
              0.7777777777777778,
              "#fb9f3a"
             ],
             [
              0.8888888888888888,
              "#fdca26"
             ],
             [
              1,
              "#f0f921"
             ]
            ],
            "type": "contour"
           }
          ],
          "contourcarpet": [
           {
            "colorbar": {
             "outlinewidth": 0,
             "ticks": ""
            },
            "type": "contourcarpet"
           }
          ],
          "heatmap": [
           {
            "colorbar": {
             "outlinewidth": 0,
             "ticks": ""
            },
            "colorscale": [
             [
              0,
              "#0d0887"
             ],
             [
              0.1111111111111111,
              "#46039f"
             ],
             [
              0.2222222222222222,
              "#7201a8"
             ],
             [
              0.3333333333333333,
              "#9c179e"
             ],
             [
              0.4444444444444444,
              "#bd3786"
             ],
             [
              0.5555555555555556,
              "#d8576b"
             ],
             [
              0.6666666666666666,
              "#ed7953"
             ],
             [
              0.7777777777777778,
              "#fb9f3a"
             ],
             [
              0.8888888888888888,
              "#fdca26"
             ],
             [
              1,
              "#f0f921"
             ]
            ],
            "type": "heatmap"
           }
          ],
          "heatmapgl": [
           {
            "colorbar": {
             "outlinewidth": 0,
             "ticks": ""
            },
            "colorscale": [
             [
              0,
              "#0d0887"
             ],
             [
              0.1111111111111111,
              "#46039f"
             ],
             [
              0.2222222222222222,
              "#7201a8"
             ],
             [
              0.3333333333333333,
              "#9c179e"
             ],
             [
              0.4444444444444444,
              "#bd3786"
             ],
             [
              0.5555555555555556,
              "#d8576b"
             ],
             [
              0.6666666666666666,
              "#ed7953"
             ],
             [
              0.7777777777777778,
              "#fb9f3a"
             ],
             [
              0.8888888888888888,
              "#fdca26"
             ],
             [
              1,
              "#f0f921"
             ]
            ],
            "type": "heatmapgl"
           }
          ],
          "histogram": [
           {
            "marker": {
             "pattern": {
              "fillmode": "overlay",
              "size": 10,
              "solidity": 0.2
             }
            },
            "type": "histogram"
           }
          ],
          "histogram2d": [
           {
            "colorbar": {
             "outlinewidth": 0,
             "ticks": ""
            },
            "colorscale": [
             [
              0,
              "#0d0887"
             ],
             [
              0.1111111111111111,
              "#46039f"
             ],
             [
              0.2222222222222222,
              "#7201a8"
             ],
             [
              0.3333333333333333,
              "#9c179e"
             ],
             [
              0.4444444444444444,
              "#bd3786"
             ],
             [
              0.5555555555555556,
              "#d8576b"
             ],
             [
              0.6666666666666666,
              "#ed7953"
             ],
             [
              0.7777777777777778,
              "#fb9f3a"
             ],
             [
              0.8888888888888888,
              "#fdca26"
             ],
             [
              1,
              "#f0f921"
             ]
            ],
            "type": "histogram2d"
           }
          ],
          "histogram2dcontour": [
           {
            "colorbar": {
             "outlinewidth": 0,
             "ticks": ""
            },
            "colorscale": [
             [
              0,
              "#0d0887"
             ],
             [
              0.1111111111111111,
              "#46039f"
             ],
             [
              0.2222222222222222,
              "#7201a8"
             ],
             [
              0.3333333333333333,
              "#9c179e"
             ],
             [
              0.4444444444444444,
              "#bd3786"
             ],
             [
              0.5555555555555556,
              "#d8576b"
             ],
             [
              0.6666666666666666,
              "#ed7953"
             ],
             [
              0.7777777777777778,
              "#fb9f3a"
             ],
             [
              0.8888888888888888,
              "#fdca26"
             ],
             [
              1,
              "#f0f921"
             ]
            ],
            "type": "histogram2dcontour"
           }
          ],
          "mesh3d": [
           {
            "colorbar": {
             "outlinewidth": 0,
             "ticks": ""
            },
            "type": "mesh3d"
           }
          ],
          "parcoords": [
           {
            "line": {
             "colorbar": {
              "outlinewidth": 0,
              "ticks": ""
             }
            },
            "type": "parcoords"
           }
          ],
          "pie": [
           {
            "automargin": true,
            "type": "pie"
           }
          ],
          "scatter": [
           {
            "marker": {
             "colorbar": {
              "outlinewidth": 0,
              "ticks": ""
             }
            },
            "type": "scatter"
           }
          ],
          "scatter3d": [
           {
            "line": {
             "colorbar": {
              "outlinewidth": 0,
              "ticks": ""
             }
            },
            "marker": {
             "colorbar": {
              "outlinewidth": 0,
              "ticks": ""
             }
            },
            "type": "scatter3d"
           }
          ],
          "scattercarpet": [
           {
            "marker": {
             "colorbar": {
              "outlinewidth": 0,
              "ticks": ""
             }
            },
            "type": "scattercarpet"
           }
          ],
          "scattergeo": [
           {
            "marker": {
             "colorbar": {
              "outlinewidth": 0,
              "ticks": ""
             }
            },
            "type": "scattergeo"
           }
          ],
          "scattergl": [
           {
            "marker": {
             "colorbar": {
              "outlinewidth": 0,
              "ticks": ""
             }
            },
            "type": "scattergl"
           }
          ],
          "scattermapbox": [
           {
            "marker": {
             "colorbar": {
              "outlinewidth": 0,
              "ticks": ""
             }
            },
            "type": "scattermapbox"
           }
          ],
          "scatterpolar": [
           {
            "marker": {
             "colorbar": {
              "outlinewidth": 0,
              "ticks": ""
             }
            },
            "type": "scatterpolar"
           }
          ],
          "scatterpolargl": [
           {
            "marker": {
             "colorbar": {
              "outlinewidth": 0,
              "ticks": ""
             }
            },
            "type": "scatterpolargl"
           }
          ],
          "scatterternary": [
           {
            "marker": {
             "colorbar": {
              "outlinewidth": 0,
              "ticks": ""
             }
            },
            "type": "scatterternary"
           }
          ],
          "surface": [
           {
            "colorbar": {
             "outlinewidth": 0,
             "ticks": ""
            },
            "colorscale": [
             [
              0,
              "#0d0887"
             ],
             [
              0.1111111111111111,
              "#46039f"
             ],
             [
              0.2222222222222222,
              "#7201a8"
             ],
             [
              0.3333333333333333,
              "#9c179e"
             ],
             [
              0.4444444444444444,
              "#bd3786"
             ],
             [
              0.5555555555555556,
              "#d8576b"
             ],
             [
              0.6666666666666666,
              "#ed7953"
             ],
             [
              0.7777777777777778,
              "#fb9f3a"
             ],
             [
              0.8888888888888888,
              "#fdca26"
             ],
             [
              1,
              "#f0f921"
             ]
            ],
            "type": "surface"
           }
          ],
          "table": [
           {
            "cells": {
             "fill": {
              "color": "#EBF0F8"
             },
             "line": {
              "color": "white"
             }
            },
            "header": {
             "fill": {
              "color": "#C8D4E3"
             },
             "line": {
              "color": "white"
             }
            },
            "type": "table"
           }
          ]
         },
         "layout": {
          "annotationdefaults": {
           "arrowcolor": "#2a3f5f",
           "arrowhead": 0,
           "arrowwidth": 1
          },
          "autotypenumbers": "strict",
          "coloraxis": {
           "colorbar": {
            "outlinewidth": 0,
            "ticks": ""
           }
          },
          "colorscale": {
           "diverging": [
            [
             0,
             "#8e0152"
            ],
            [
             0.1,
             "#c51b7d"
            ],
            [
             0.2,
             "#de77ae"
            ],
            [
             0.3,
             "#f1b6da"
            ],
            [
             0.4,
             "#fde0ef"
            ],
            [
             0.5,
             "#f7f7f7"
            ],
            [
             0.6,
             "#e6f5d0"
            ],
            [
             0.7,
             "#b8e186"
            ],
            [
             0.8,
             "#7fbc41"
            ],
            [
             0.9,
             "#4d9221"
            ],
            [
             1,
             "#276419"
            ]
           ],
           "sequential": [
            [
             0,
             "#0d0887"
            ],
            [
             0.1111111111111111,
             "#46039f"
            ],
            [
             0.2222222222222222,
             "#7201a8"
            ],
            [
             0.3333333333333333,
             "#9c179e"
            ],
            [
             0.4444444444444444,
             "#bd3786"
            ],
            [
             0.5555555555555556,
             "#d8576b"
            ],
            [
             0.6666666666666666,
             "#ed7953"
            ],
            [
             0.7777777777777778,
             "#fb9f3a"
            ],
            [
             0.8888888888888888,
             "#fdca26"
            ],
            [
             1,
             "#f0f921"
            ]
           ],
           "sequentialminus": [
            [
             0,
             "#0d0887"
            ],
            [
             0.1111111111111111,
             "#46039f"
            ],
            [
             0.2222222222222222,
             "#7201a8"
            ],
            [
             0.3333333333333333,
             "#9c179e"
            ],
            [
             0.4444444444444444,
             "#bd3786"
            ],
            [
             0.5555555555555556,
             "#d8576b"
            ],
            [
             0.6666666666666666,
             "#ed7953"
            ],
            [
             0.7777777777777778,
             "#fb9f3a"
            ],
            [
             0.8888888888888888,
             "#fdca26"
            ],
            [
             1,
             "#f0f921"
            ]
           ]
          },
          "colorway": [
           "#636efa",
           "#EF553B",
           "#00cc96",
           "#ab63fa",
           "#FFA15A",
           "#19d3f3",
           "#FF6692",
           "#B6E880",
           "#FF97FF",
           "#FECB52"
          ],
          "font": {
           "color": "#2a3f5f"
          },
          "geo": {
           "bgcolor": "white",
           "lakecolor": "white",
           "landcolor": "#E5ECF6",
           "showlakes": true,
           "showland": true,
           "subunitcolor": "white"
          },
          "hoverlabel": {
           "align": "left"
          },
          "hovermode": "closest",
          "mapbox": {
           "style": "light"
          },
          "paper_bgcolor": "white",
          "plot_bgcolor": "#E5ECF6",
          "polar": {
           "angularaxis": {
            "gridcolor": "white",
            "linecolor": "white",
            "ticks": ""
           },
           "bgcolor": "#E5ECF6",
           "radialaxis": {
            "gridcolor": "white",
            "linecolor": "white",
            "ticks": ""
           }
          },
          "scene": {
           "xaxis": {
            "backgroundcolor": "#E5ECF6",
            "gridcolor": "white",
            "gridwidth": 2,
            "linecolor": "white",
            "showbackground": true,
            "ticks": "",
            "zerolinecolor": "white"
           },
           "yaxis": {
            "backgroundcolor": "#E5ECF6",
            "gridcolor": "white",
            "gridwidth": 2,
            "linecolor": "white",
            "showbackground": true,
            "ticks": "",
            "zerolinecolor": "white"
           },
           "zaxis": {
            "backgroundcolor": "#E5ECF6",
            "gridcolor": "white",
            "gridwidth": 2,
            "linecolor": "white",
            "showbackground": true,
            "ticks": "",
            "zerolinecolor": "white"
           }
          },
          "shapedefaults": {
           "line": {
            "color": "#2a3f5f"
           }
          },
          "ternary": {
           "aaxis": {
            "gridcolor": "white",
            "linecolor": "white",
            "ticks": ""
           },
           "baxis": {
            "gridcolor": "white",
            "linecolor": "white",
            "ticks": ""
           },
           "bgcolor": "#E5ECF6",
           "caxis": {
            "gridcolor": "white",
            "linecolor": "white",
            "ticks": ""
           }
          },
          "title": {
           "x": 0.05
          },
          "xaxis": {
           "automargin": true,
           "gridcolor": "white",
           "linecolor": "white",
           "ticks": "",
           "title": {
            "standoff": 15
           },
           "zerolinecolor": "white",
           "zerolinewidth": 2
          },
          "yaxis": {
           "automargin": true,
           "gridcolor": "white",
           "linecolor": "white",
           "ticks": "",
           "title": {
            "standoff": 15
           },
           "zerolinecolor": "white",
           "zerolinewidth": 2
          }
         }
        }
       }
      }
     },
     "metadata": {},
     "output_type": "display_data"
    }
   ],
   "source": [
    "fig = go.Figure()\n",
    "fig.add_trace(go.Scatter(x=state_totals[\"Population\"], y=state_totals[\"Rate\"], mode = \"markers\", hovertext=state_totals[\"State_y\"], marker=dict(colorscale='bluered', color=state_totals[\"Population\"])))"
   ]
  },
  {
   "cell_type": "code",
   "execution_count": 71,
   "metadata": {},
   "outputs": [
    {
     "name": "stderr",
     "output_type": "stream",
     "text": [
      "C:\\Users\\zeusg\\AppData\\Local\\Temp/ipykernel_40072/196067746.py:1: FutureWarning:\n",
      "\n",
      "The default value of numeric_only in DataFrameGroupBy.sum is deprecated. In a future version, numeric_only will default to False. Either specify numeric_only or select only columns which should be valid for the function.\n",
      "\n"
     ]
    },
    {
     "data": {
      "text/html": [
       "<div>\n",
       "<style scoped>\n",
       "    .dataframe tbody tr th:only-of-type {\n",
       "        vertical-align: middle;\n",
       "    }\n",
       "\n",
       "    .dataframe tbody tr th {\n",
       "        vertical-align: top;\n",
       "    }\n",
       "\n",
       "    .dataframe thead th {\n",
       "        text-align: right;\n",
       "    }\n",
       "</style>\n",
       "<table border=\"1\" class=\"dataframe\">\n",
       "  <thead>\n",
       "    <tr style=\"text-align: right;\">\n",
       "      <th></th>\n",
       "      <th>Single-Year Ages</th>\n",
       "      <th>Deaths</th>\n",
       "      <th>Population</th>\n",
       "      <th>Rate</th>\n",
       "      <th>Year</th>\n",
       "      <th>age</th>\n",
       "    </tr>\n",
       "  </thead>\n",
       "  <tbody>\n",
       "    <tr>\n",
       "      <th>84</th>\n",
       "      <td>&lt; 1 year</td>\n",
       "      <td>20921.0</td>\n",
       "      <td>3783052.0</td>\n",
       "      <td>553.019097</td>\n",
       "      <td>102969</td>\n",
       "      <td>0</td>\n",
       "    </tr>\n",
       "    <tr>\n",
       "      <th>0</th>\n",
       "      <td>1 year</td>\n",
       "      <td>1401.0</td>\n",
       "      <td>3621711.0</td>\n",
       "      <td>38.683374</td>\n",
       "      <td>74703</td>\n",
       "      <td>1</td>\n",
       "    </tr>\n",
       "    <tr>\n",
       "      <th>11</th>\n",
       "      <td>2 years</td>\n",
       "      <td>835.0</td>\n",
       "      <td>3463061.0</td>\n",
       "      <td>24.111617</td>\n",
       "      <td>62589</td>\n",
       "      <td>2</td>\n",
       "    </tr>\n",
       "    <tr>\n",
       "      <th>22</th>\n",
       "      <td>3 years</td>\n",
       "      <td>596.0</td>\n",
       "      <td>3228814.0</td>\n",
       "      <td>18.458790</td>\n",
       "      <td>48456</td>\n",
       "      <td>3</td>\n",
       "    </tr>\n",
       "    <tr>\n",
       "      <th>33</th>\n",
       "      <td>4 years</td>\n",
       "      <td>488.0</td>\n",
       "      <td>3201427.0</td>\n",
       "      <td>15.243202</td>\n",
       "      <td>48456</td>\n",
       "      <td>4</td>\n",
       "    </tr>\n",
       "    <tr>\n",
       "      <th>...</th>\n",
       "      <td>...</td>\n",
       "      <td>...</td>\n",
       "      <td>...</td>\n",
       "      <td>...</td>\n",
       "      <td>...</td>\n",
       "      <td>...</td>\n",
       "    </tr>\n",
       "    <tr>\n",
       "      <th>78</th>\n",
       "      <td>80 years</td>\n",
       "      <td>68349.0</td>\n",
       "      <td>1475278.0</td>\n",
       "      <td>4632.957314</td>\n",
       "      <td>102969</td>\n",
       "      <td>80</td>\n",
       "    </tr>\n",
       "    <tr>\n",
       "      <th>79</th>\n",
       "      <td>81 years</td>\n",
       "      <td>70621.0</td>\n",
       "      <td>1381641.0</td>\n",
       "      <td>5111.385664</td>\n",
       "      <td>102969</td>\n",
       "      <td>81</td>\n",
       "    </tr>\n",
       "    <tr>\n",
       "      <th>80</th>\n",
       "      <td>82 years</td>\n",
       "      <td>71124.0</td>\n",
       "      <td>1241341.0</td>\n",
       "      <td>5729.610155</td>\n",
       "      <td>102969</td>\n",
       "      <td>82</td>\n",
       "    </tr>\n",
       "    <tr>\n",
       "      <th>81</th>\n",
       "      <td>83 years</td>\n",
       "      <td>73524.0</td>\n",
       "      <td>1151190.0</td>\n",
       "      <td>6386.782373</td>\n",
       "      <td>102969</td>\n",
       "      <td>83</td>\n",
       "    </tr>\n",
       "    <tr>\n",
       "      <th>82</th>\n",
       "      <td>84 years</td>\n",
       "      <td>74916.0</td>\n",
       "      <td>1067757.0</td>\n",
       "      <td>7016.203125</td>\n",
       "      <td>102969</td>\n",
       "      <td>84</td>\n",
       "    </tr>\n",
       "  </tbody>\n",
       "</table>\n",
       "<p>85 rows × 6 columns</p>\n",
       "</div>"
      ],
      "text/plain": [
       "   Single-Year Ages   Deaths  Population         Rate    Year  age\n",
       "84         < 1 year  20921.0   3783052.0   553.019097  102969    0\n",
       "0            1 year   1401.0   3621711.0    38.683374   74703    1\n",
       "11          2 years    835.0   3463061.0    24.111617   62589    2\n",
       "22          3 years    596.0   3228814.0    18.458790   48456    3\n",
       "33          4 years    488.0   3201427.0    15.243202   48456    4\n",
       "..              ...      ...         ...          ...     ...  ...\n",
       "78         80 years  68349.0   1475278.0  4632.957314  102969   80\n",
       "79         81 years  70621.0   1381641.0  5111.385664  102969   81\n",
       "80         82 years  71124.0   1241341.0  5729.610155  102969   82\n",
       "81         83 years  73524.0   1151190.0  6386.782373  102969   83\n",
       "82         84 years  74916.0   1067757.0  7016.203125  102969   84\n",
       "\n",
       "[85 rows x 6 columns]"
      ]
     },
     "execution_count": 71,
     "metadata": {},
     "output_type": "execute_result"
    }
   ],
   "source": [
    "usa_total = yearly_pop.groupby(\"Single-Year Ages\").sum().reset_index()\n",
    "usa_total[\"age\"] = usa_total[\"Single-Year Ages\"].str.replace(\"< 1 year\",\"0\").str.split(\" \").str[0].astype(int)\n",
    "usa_total.sort_values(\"age\", inplace=True)\n",
    "usa_total[\"Rate\"] = (usa_total[\"Deaths\"]/usa_total[\"Population\"])*100000\n",
    "usa_total"
   ]
  },
  {
   "cell_type": "code",
   "execution_count": 72,
   "metadata": {},
   "outputs": [
    {
     "data": {
      "application/vnd.plotly.v1+json": {
       "config": {
        "plotlyServerURL": "https://plot.ly"
       },
       "data": [
        {
         "type": "bar",
         "x": [
          0,
          1,
          2,
          3,
          4,
          5,
          6,
          7,
          8,
          9,
          10,
          11,
          12,
          13,
          14,
          15,
          16,
          17,
          18,
          19,
          20,
          21,
          22,
          23,
          24,
          25,
          26,
          27,
          28,
          29,
          30,
          31,
          32,
          33,
          34,
          35,
          36,
          37,
          38,
          39,
          40,
          41,
          42,
          43,
          44,
          45,
          46,
          47,
          48,
          49,
          50,
          51,
          52,
          53,
          54,
          55,
          56,
          57,
          58,
          59,
          60,
          61,
          62,
          63,
          64,
          65,
          66,
          67,
          68,
          69,
          70,
          71,
          72,
          73,
          74,
          75,
          76,
          77,
          78,
          79,
          80,
          81,
          82,
          83,
          84
         ],
         "y": [
          3783052,
          3621711,
          3463061,
          3228814,
          3201427,
          3076640,
          2643552,
          2584755,
          2631792,
          2409548,
          2487814,
          3429237,
          3396222,
          3566205,
          3767408,
          3854101,
          3983444,
          4005242,
          4135001,
          4248629,
          4222515,
          4220016,
          4239978,
          4286988,
          4417888,
          4509675,
          4587748,
          4711223,
          4818725,
          4790752,
          4614384,
          4502311,
          4413903,
          4432973,
          4460132,
          4308509,
          4361208,
          4361286,
          4305576,
          4372586,
          4098298,
          4020254,
          3974741,
          3854040,
          3967275,
          3837909,
          3889372,
          4058038,
          4282657,
          4329775,
          4096572,
          4004343,
          4001782,
          4068851,
          4305603,
          4374565,
          4361016,
          4342385,
          4385570,
          4413855,
          4252663,
          4215172,
          4156645,
          3996088,
          3950578,
          3774597,
          3618069,
          3464437,
          3345475,
          3252423,
          3136704,
          3083083,
          3191048,
          2334433,
          2283164,
          2198286,
          2222392,
          1911261,
          1720817,
          1599909,
          1475278,
          1381641,
          1241341,
          1151190,
          1067757
         ]
        },
        {
         "type": "bar",
         "x": [
          0,
          1,
          2,
          3,
          4,
          5,
          6,
          7,
          8,
          9,
          10,
          11,
          12,
          13,
          14,
          15,
          16,
          17,
          18,
          19,
          20,
          21,
          22,
          23,
          24,
          25,
          26,
          27,
          28,
          29,
          30,
          31,
          32,
          33,
          34,
          35,
          36,
          37,
          38,
          39,
          40,
          41,
          42,
          43,
          44,
          45,
          46,
          47,
          48,
          49,
          50,
          51,
          52,
          53,
          54,
          55,
          56,
          57,
          58,
          59,
          60,
          61,
          62,
          63,
          64,
          65,
          66,
          67,
          68,
          69,
          70,
          71,
          72,
          73,
          74,
          75,
          76,
          77,
          78,
          79,
          80,
          81,
          82,
          83,
          84
         ],
         "y": [
          553.0190967504544,
          38.68337368718818,
          24.11161686149912,
          18.458790131608694,
          15.243202484392118,
          13.293723022518071,
          13.315418043601941,
          11.529139125371652,
          11.665055597098858,
          11.163919540096318,
          12.58132641748941,
          12.830842546024087,
          14.928352740191896,
          16.65636159446807,
          20.836607025307586,
          27.632903237356775,
          35.77306471485478,
          45.66515581330666,
          64.76419231821225,
          70.11673648134493,
          77.93933236471628,
          89.71529965763163,
          90.80235793676289,
          95.89483338885016,
          98.19171513628233,
          105.01865433761857,
          110.5771284734907,
          113.91946422404543,
          119.47143694649519,
          124.69858594224873,
          133.9940499100205,
          138.26232794669227,
          141.7113153596715,
          150.75661412780994,
          153.69500274879758,
          162.2603086125618,
          167.79754600101623,
          176.3699972897902,
          189.9165175576973,
          192.9293100238623,
          210.57521927395226,
          210.33496888505053,
          221.17164363665455,
          231.6530186505589,
          240.31608597841085,
          264.9880442709819,
          287.91280443218085,
          309.9773831590537,
          335.8896124532037,
          355.83835187740704,
          394.2564661380295,
          429.48368808566096,
          469.4908418299648,
          506.11339663212044,
          555.6480706651311,
          612.4723258198244,
          664.2030205805253,
          729.0463650735713,
          783.1821177178794,
          831.2234996392043,
          909.7828819259837,
          985.060633350193,
          1057.9445682756166,
          1135.1351621886204,
          1188.0793139636783,
          1275.8713049366593,
          1369.7914550551689,
          1463.9896756673595,
          1560.6752404367094,
          1652.9830221960674,
          1828.1291444777703,
          1991.3833004171474,
          2103.697594019269,
          2435.409369212995,
          2558.948897232087,
          2872.556164211572,
          3105.617730805366,
          3447.671458790819,
          3784.4814410829276,
          4144.54822118008,
          4632.957313807974,
          5111.385663859136,
          5729.610155468964,
          6386.782373022698,
          7016.203124868299
         ]
        }
       ],
       "layout": {
        "template": {
         "data": {
          "bar": [
           {
            "error_x": {
             "color": "#2a3f5f"
            },
            "error_y": {
             "color": "#2a3f5f"
            },
            "marker": {
             "line": {
              "color": "#E5ECF6",
              "width": 0.5
             },
             "pattern": {
              "fillmode": "overlay",
              "size": 10,
              "solidity": 0.2
             }
            },
            "type": "bar"
           }
          ],
          "barpolar": [
           {
            "marker": {
             "line": {
              "color": "#E5ECF6",
              "width": 0.5
             },
             "pattern": {
              "fillmode": "overlay",
              "size": 10,
              "solidity": 0.2
             }
            },
            "type": "barpolar"
           }
          ],
          "carpet": [
           {
            "aaxis": {
             "endlinecolor": "#2a3f5f",
             "gridcolor": "white",
             "linecolor": "white",
             "minorgridcolor": "white",
             "startlinecolor": "#2a3f5f"
            },
            "baxis": {
             "endlinecolor": "#2a3f5f",
             "gridcolor": "white",
             "linecolor": "white",
             "minorgridcolor": "white",
             "startlinecolor": "#2a3f5f"
            },
            "type": "carpet"
           }
          ],
          "choropleth": [
           {
            "colorbar": {
             "outlinewidth": 0,
             "ticks": ""
            },
            "type": "choropleth"
           }
          ],
          "contour": [
           {
            "colorbar": {
             "outlinewidth": 0,
             "ticks": ""
            },
            "colorscale": [
             [
              0,
              "#0d0887"
             ],
             [
              0.1111111111111111,
              "#46039f"
             ],
             [
              0.2222222222222222,
              "#7201a8"
             ],
             [
              0.3333333333333333,
              "#9c179e"
             ],
             [
              0.4444444444444444,
              "#bd3786"
             ],
             [
              0.5555555555555556,
              "#d8576b"
             ],
             [
              0.6666666666666666,
              "#ed7953"
             ],
             [
              0.7777777777777778,
              "#fb9f3a"
             ],
             [
              0.8888888888888888,
              "#fdca26"
             ],
             [
              1,
              "#f0f921"
             ]
            ],
            "type": "contour"
           }
          ],
          "contourcarpet": [
           {
            "colorbar": {
             "outlinewidth": 0,
             "ticks": ""
            },
            "type": "contourcarpet"
           }
          ],
          "heatmap": [
           {
            "colorbar": {
             "outlinewidth": 0,
             "ticks": ""
            },
            "colorscale": [
             [
              0,
              "#0d0887"
             ],
             [
              0.1111111111111111,
              "#46039f"
             ],
             [
              0.2222222222222222,
              "#7201a8"
             ],
             [
              0.3333333333333333,
              "#9c179e"
             ],
             [
              0.4444444444444444,
              "#bd3786"
             ],
             [
              0.5555555555555556,
              "#d8576b"
             ],
             [
              0.6666666666666666,
              "#ed7953"
             ],
             [
              0.7777777777777778,
              "#fb9f3a"
             ],
             [
              0.8888888888888888,
              "#fdca26"
             ],
             [
              1,
              "#f0f921"
             ]
            ],
            "type": "heatmap"
           }
          ],
          "heatmapgl": [
           {
            "colorbar": {
             "outlinewidth": 0,
             "ticks": ""
            },
            "colorscale": [
             [
              0,
              "#0d0887"
             ],
             [
              0.1111111111111111,
              "#46039f"
             ],
             [
              0.2222222222222222,
              "#7201a8"
             ],
             [
              0.3333333333333333,
              "#9c179e"
             ],
             [
              0.4444444444444444,
              "#bd3786"
             ],
             [
              0.5555555555555556,
              "#d8576b"
             ],
             [
              0.6666666666666666,
              "#ed7953"
             ],
             [
              0.7777777777777778,
              "#fb9f3a"
             ],
             [
              0.8888888888888888,
              "#fdca26"
             ],
             [
              1,
              "#f0f921"
             ]
            ],
            "type": "heatmapgl"
           }
          ],
          "histogram": [
           {
            "marker": {
             "pattern": {
              "fillmode": "overlay",
              "size": 10,
              "solidity": 0.2
             }
            },
            "type": "histogram"
           }
          ],
          "histogram2d": [
           {
            "colorbar": {
             "outlinewidth": 0,
             "ticks": ""
            },
            "colorscale": [
             [
              0,
              "#0d0887"
             ],
             [
              0.1111111111111111,
              "#46039f"
             ],
             [
              0.2222222222222222,
              "#7201a8"
             ],
             [
              0.3333333333333333,
              "#9c179e"
             ],
             [
              0.4444444444444444,
              "#bd3786"
             ],
             [
              0.5555555555555556,
              "#d8576b"
             ],
             [
              0.6666666666666666,
              "#ed7953"
             ],
             [
              0.7777777777777778,
              "#fb9f3a"
             ],
             [
              0.8888888888888888,
              "#fdca26"
             ],
             [
              1,
              "#f0f921"
             ]
            ],
            "type": "histogram2d"
           }
          ],
          "histogram2dcontour": [
           {
            "colorbar": {
             "outlinewidth": 0,
             "ticks": ""
            },
            "colorscale": [
             [
              0,
              "#0d0887"
             ],
             [
              0.1111111111111111,
              "#46039f"
             ],
             [
              0.2222222222222222,
              "#7201a8"
             ],
             [
              0.3333333333333333,
              "#9c179e"
             ],
             [
              0.4444444444444444,
              "#bd3786"
             ],
             [
              0.5555555555555556,
              "#d8576b"
             ],
             [
              0.6666666666666666,
              "#ed7953"
             ],
             [
              0.7777777777777778,
              "#fb9f3a"
             ],
             [
              0.8888888888888888,
              "#fdca26"
             ],
             [
              1,
              "#f0f921"
             ]
            ],
            "type": "histogram2dcontour"
           }
          ],
          "mesh3d": [
           {
            "colorbar": {
             "outlinewidth": 0,
             "ticks": ""
            },
            "type": "mesh3d"
           }
          ],
          "parcoords": [
           {
            "line": {
             "colorbar": {
              "outlinewidth": 0,
              "ticks": ""
             }
            },
            "type": "parcoords"
           }
          ],
          "pie": [
           {
            "automargin": true,
            "type": "pie"
           }
          ],
          "scatter": [
           {
            "marker": {
             "colorbar": {
              "outlinewidth": 0,
              "ticks": ""
             }
            },
            "type": "scatter"
           }
          ],
          "scatter3d": [
           {
            "line": {
             "colorbar": {
              "outlinewidth": 0,
              "ticks": ""
             }
            },
            "marker": {
             "colorbar": {
              "outlinewidth": 0,
              "ticks": ""
             }
            },
            "type": "scatter3d"
           }
          ],
          "scattercarpet": [
           {
            "marker": {
             "colorbar": {
              "outlinewidth": 0,
              "ticks": ""
             }
            },
            "type": "scattercarpet"
           }
          ],
          "scattergeo": [
           {
            "marker": {
             "colorbar": {
              "outlinewidth": 0,
              "ticks": ""
             }
            },
            "type": "scattergeo"
           }
          ],
          "scattergl": [
           {
            "marker": {
             "colorbar": {
              "outlinewidth": 0,
              "ticks": ""
             }
            },
            "type": "scattergl"
           }
          ],
          "scattermapbox": [
           {
            "marker": {
             "colorbar": {
              "outlinewidth": 0,
              "ticks": ""
             }
            },
            "type": "scattermapbox"
           }
          ],
          "scatterpolar": [
           {
            "marker": {
             "colorbar": {
              "outlinewidth": 0,
              "ticks": ""
             }
            },
            "type": "scatterpolar"
           }
          ],
          "scatterpolargl": [
           {
            "marker": {
             "colorbar": {
              "outlinewidth": 0,
              "ticks": ""
             }
            },
            "type": "scatterpolargl"
           }
          ],
          "scatterternary": [
           {
            "marker": {
             "colorbar": {
              "outlinewidth": 0,
              "ticks": ""
             }
            },
            "type": "scatterternary"
           }
          ],
          "surface": [
           {
            "colorbar": {
             "outlinewidth": 0,
             "ticks": ""
            },
            "colorscale": [
             [
              0,
              "#0d0887"
             ],
             [
              0.1111111111111111,
              "#46039f"
             ],
             [
              0.2222222222222222,
              "#7201a8"
             ],
             [
              0.3333333333333333,
              "#9c179e"
             ],
             [
              0.4444444444444444,
              "#bd3786"
             ],
             [
              0.5555555555555556,
              "#d8576b"
             ],
             [
              0.6666666666666666,
              "#ed7953"
             ],
             [
              0.7777777777777778,
              "#fb9f3a"
             ],
             [
              0.8888888888888888,
              "#fdca26"
             ],
             [
              1,
              "#f0f921"
             ]
            ],
            "type": "surface"
           }
          ],
          "table": [
           {
            "cells": {
             "fill": {
              "color": "#EBF0F8"
             },
             "line": {
              "color": "white"
             }
            },
            "header": {
             "fill": {
              "color": "#C8D4E3"
             },
             "line": {
              "color": "white"
             }
            },
            "type": "table"
           }
          ]
         },
         "layout": {
          "annotationdefaults": {
           "arrowcolor": "#2a3f5f",
           "arrowhead": 0,
           "arrowwidth": 1
          },
          "autotypenumbers": "strict",
          "coloraxis": {
           "colorbar": {
            "outlinewidth": 0,
            "ticks": ""
           }
          },
          "colorscale": {
           "diverging": [
            [
             0,
             "#8e0152"
            ],
            [
             0.1,
             "#c51b7d"
            ],
            [
             0.2,
             "#de77ae"
            ],
            [
             0.3,
             "#f1b6da"
            ],
            [
             0.4,
             "#fde0ef"
            ],
            [
             0.5,
             "#f7f7f7"
            ],
            [
             0.6,
             "#e6f5d0"
            ],
            [
             0.7,
             "#b8e186"
            ],
            [
             0.8,
             "#7fbc41"
            ],
            [
             0.9,
             "#4d9221"
            ],
            [
             1,
             "#276419"
            ]
           ],
           "sequential": [
            [
             0,
             "#0d0887"
            ],
            [
             0.1111111111111111,
             "#46039f"
            ],
            [
             0.2222222222222222,
             "#7201a8"
            ],
            [
             0.3333333333333333,
             "#9c179e"
            ],
            [
             0.4444444444444444,
             "#bd3786"
            ],
            [
             0.5555555555555556,
             "#d8576b"
            ],
            [
             0.6666666666666666,
             "#ed7953"
            ],
            [
             0.7777777777777778,
             "#fb9f3a"
            ],
            [
             0.8888888888888888,
             "#fdca26"
            ],
            [
             1,
             "#f0f921"
            ]
           ],
           "sequentialminus": [
            [
             0,
             "#0d0887"
            ],
            [
             0.1111111111111111,
             "#46039f"
            ],
            [
             0.2222222222222222,
             "#7201a8"
            ],
            [
             0.3333333333333333,
             "#9c179e"
            ],
            [
             0.4444444444444444,
             "#bd3786"
            ],
            [
             0.5555555555555556,
             "#d8576b"
            ],
            [
             0.6666666666666666,
             "#ed7953"
            ],
            [
             0.7777777777777778,
             "#fb9f3a"
            ],
            [
             0.8888888888888888,
             "#fdca26"
            ],
            [
             1,
             "#f0f921"
            ]
           ]
          },
          "colorway": [
           "#636efa",
           "#EF553B",
           "#00cc96",
           "#ab63fa",
           "#FFA15A",
           "#19d3f3",
           "#FF6692",
           "#B6E880",
           "#FF97FF",
           "#FECB52"
          ],
          "font": {
           "color": "#2a3f5f"
          },
          "geo": {
           "bgcolor": "white",
           "lakecolor": "white",
           "landcolor": "#E5ECF6",
           "showlakes": true,
           "showland": true,
           "subunitcolor": "white"
          },
          "hoverlabel": {
           "align": "left"
          },
          "hovermode": "closest",
          "mapbox": {
           "style": "light"
          },
          "paper_bgcolor": "white",
          "plot_bgcolor": "#E5ECF6",
          "polar": {
           "angularaxis": {
            "gridcolor": "white",
            "linecolor": "white",
            "ticks": ""
           },
           "bgcolor": "#E5ECF6",
           "radialaxis": {
            "gridcolor": "white",
            "linecolor": "white",
            "ticks": ""
           }
          },
          "scene": {
           "xaxis": {
            "backgroundcolor": "#E5ECF6",
            "gridcolor": "white",
            "gridwidth": 2,
            "linecolor": "white",
            "showbackground": true,
            "ticks": "",
            "zerolinecolor": "white"
           },
           "yaxis": {
            "backgroundcolor": "#E5ECF6",
            "gridcolor": "white",
            "gridwidth": 2,
            "linecolor": "white",
            "showbackground": true,
            "ticks": "",
            "zerolinecolor": "white"
           },
           "zaxis": {
            "backgroundcolor": "#E5ECF6",
            "gridcolor": "white",
            "gridwidth": 2,
            "linecolor": "white",
            "showbackground": true,
            "ticks": "",
            "zerolinecolor": "white"
           }
          },
          "shapedefaults": {
           "line": {
            "color": "#2a3f5f"
           }
          },
          "ternary": {
           "aaxis": {
            "gridcolor": "white",
            "linecolor": "white",
            "ticks": ""
           },
           "baxis": {
            "gridcolor": "white",
            "linecolor": "white",
            "ticks": ""
           },
           "bgcolor": "#E5ECF6",
           "caxis": {
            "gridcolor": "white",
            "linecolor": "white",
            "ticks": ""
           }
          },
          "title": {
           "x": 0.05
          },
          "xaxis": {
           "automargin": true,
           "gridcolor": "white",
           "linecolor": "white",
           "ticks": "",
           "title": {
            "standoff": 15
           },
           "zerolinecolor": "white",
           "zerolinewidth": 2
          },
          "yaxis": {
           "automargin": true,
           "gridcolor": "white",
           "linecolor": "white",
           "ticks": "",
           "title": {
            "standoff": 15
           },
           "zerolinecolor": "white",
           "zerolinewidth": 2
          }
         }
        }
       }
      }
     },
     "metadata": {},
     "output_type": "display_data"
    }
   ],
   "source": [
    "fig = go.Figure()\n",
    "fig.add_trace(go.Bar(x=usa_total[\"age\"], y=usa_total[\"Population\"]))\n",
    "fig.add_trace(go.Bar(x=usa_total[\"age\"], y=usa_total[\"Rate\"]))"
   ]
  },
  {
   "cell_type": "code",
   "execution_count": 73,
   "metadata": {},
   "outputs": [
    {
     "data": {
      "application/vnd.plotly.v1+json": {
       "config": {
        "plotlyServerURL": "https://plot.ly"
       },
       "data": [
        {
         "mode": "lines",
         "type": "scatter",
         "x": [
          0,
          1,
          2,
          3,
          4,
          5,
          6,
          7,
          8,
          9,
          10,
          11,
          12,
          13,
          14,
          15,
          16,
          17,
          18,
          19,
          20,
          21,
          22,
          23,
          24,
          25,
          26,
          27,
          28,
          29,
          30,
          31,
          32,
          33,
          34,
          35,
          36,
          37,
          38,
          39,
          40,
          41,
          42,
          43,
          44,
          45,
          46,
          47,
          48,
          49,
          50,
          51,
          52,
          53,
          54,
          55,
          56,
          57,
          58,
          59,
          60,
          61,
          62,
          63,
          64,
          65,
          66,
          67,
          68,
          69,
          70,
          71,
          72,
          73,
          74,
          75,
          76,
          77,
          78,
          79,
          80,
          81,
          82,
          83,
          84
         ],
         "y": [
          553.0190967504544,
          38.68337368718818,
          24.11161686149912,
          18.458790131608694,
          15.243202484392118,
          13.293723022518071,
          13.315418043601941,
          11.529139125371652,
          11.665055597098858,
          11.163919540096318,
          12.58132641748941,
          12.830842546024087,
          14.928352740191896,
          16.65636159446807,
          20.836607025307586,
          27.632903237356775,
          35.77306471485478,
          45.66515581330666,
          64.76419231821225,
          70.11673648134493,
          77.93933236471628,
          89.71529965763163,
          90.80235793676289,
          95.89483338885016,
          98.19171513628233,
          105.01865433761857,
          110.5771284734907,
          113.91946422404543,
          119.47143694649519,
          124.69858594224873,
          133.9940499100205,
          138.26232794669227,
          141.7113153596715,
          150.75661412780994,
          153.69500274879758,
          162.2603086125618,
          167.79754600101623,
          176.3699972897902,
          189.9165175576973,
          192.9293100238623,
          210.57521927395226,
          210.33496888505053,
          221.17164363665455,
          231.6530186505589,
          240.31608597841085,
          264.9880442709819,
          287.91280443218085,
          309.9773831590537,
          335.8896124532037,
          355.83835187740704,
          394.2564661380295,
          429.48368808566096,
          469.4908418299648,
          506.11339663212044,
          555.6480706651311,
          612.4723258198244,
          664.2030205805253,
          729.0463650735713,
          783.1821177178794,
          831.2234996392043,
          909.7828819259837,
          985.060633350193,
          1057.9445682756166,
          1135.1351621886204,
          1188.0793139636783,
          1275.8713049366593,
          1369.7914550551689,
          1463.9896756673595,
          1560.6752404367094,
          1652.9830221960674,
          1828.1291444777703,
          1991.3833004171474,
          2103.697594019269,
          2435.409369212995,
          2558.948897232087,
          2872.556164211572,
          3105.617730805366,
          3447.671458790819,
          3784.4814410829276,
          4144.54822118008,
          4632.957313807974,
          5111.385663859136,
          5729.610155468964,
          6386.782373022698,
          7016.203124868299
         ]
        }
       ],
       "layout": {
        "template": {
         "data": {
          "bar": [
           {
            "error_x": {
             "color": "#2a3f5f"
            },
            "error_y": {
             "color": "#2a3f5f"
            },
            "marker": {
             "line": {
              "color": "#E5ECF6",
              "width": 0.5
             },
             "pattern": {
              "fillmode": "overlay",
              "size": 10,
              "solidity": 0.2
             }
            },
            "type": "bar"
           }
          ],
          "barpolar": [
           {
            "marker": {
             "line": {
              "color": "#E5ECF6",
              "width": 0.5
             },
             "pattern": {
              "fillmode": "overlay",
              "size": 10,
              "solidity": 0.2
             }
            },
            "type": "barpolar"
           }
          ],
          "carpet": [
           {
            "aaxis": {
             "endlinecolor": "#2a3f5f",
             "gridcolor": "white",
             "linecolor": "white",
             "minorgridcolor": "white",
             "startlinecolor": "#2a3f5f"
            },
            "baxis": {
             "endlinecolor": "#2a3f5f",
             "gridcolor": "white",
             "linecolor": "white",
             "minorgridcolor": "white",
             "startlinecolor": "#2a3f5f"
            },
            "type": "carpet"
           }
          ],
          "choropleth": [
           {
            "colorbar": {
             "outlinewidth": 0,
             "ticks": ""
            },
            "type": "choropleth"
           }
          ],
          "contour": [
           {
            "colorbar": {
             "outlinewidth": 0,
             "ticks": ""
            },
            "colorscale": [
             [
              0,
              "#0d0887"
             ],
             [
              0.1111111111111111,
              "#46039f"
             ],
             [
              0.2222222222222222,
              "#7201a8"
             ],
             [
              0.3333333333333333,
              "#9c179e"
             ],
             [
              0.4444444444444444,
              "#bd3786"
             ],
             [
              0.5555555555555556,
              "#d8576b"
             ],
             [
              0.6666666666666666,
              "#ed7953"
             ],
             [
              0.7777777777777778,
              "#fb9f3a"
             ],
             [
              0.8888888888888888,
              "#fdca26"
             ],
             [
              1,
              "#f0f921"
             ]
            ],
            "type": "contour"
           }
          ],
          "contourcarpet": [
           {
            "colorbar": {
             "outlinewidth": 0,
             "ticks": ""
            },
            "type": "contourcarpet"
           }
          ],
          "heatmap": [
           {
            "colorbar": {
             "outlinewidth": 0,
             "ticks": ""
            },
            "colorscale": [
             [
              0,
              "#0d0887"
             ],
             [
              0.1111111111111111,
              "#46039f"
             ],
             [
              0.2222222222222222,
              "#7201a8"
             ],
             [
              0.3333333333333333,
              "#9c179e"
             ],
             [
              0.4444444444444444,
              "#bd3786"
             ],
             [
              0.5555555555555556,
              "#d8576b"
             ],
             [
              0.6666666666666666,
              "#ed7953"
             ],
             [
              0.7777777777777778,
              "#fb9f3a"
             ],
             [
              0.8888888888888888,
              "#fdca26"
             ],
             [
              1,
              "#f0f921"
             ]
            ],
            "type": "heatmap"
           }
          ],
          "heatmapgl": [
           {
            "colorbar": {
             "outlinewidth": 0,
             "ticks": ""
            },
            "colorscale": [
             [
              0,
              "#0d0887"
             ],
             [
              0.1111111111111111,
              "#46039f"
             ],
             [
              0.2222222222222222,
              "#7201a8"
             ],
             [
              0.3333333333333333,
              "#9c179e"
             ],
             [
              0.4444444444444444,
              "#bd3786"
             ],
             [
              0.5555555555555556,
              "#d8576b"
             ],
             [
              0.6666666666666666,
              "#ed7953"
             ],
             [
              0.7777777777777778,
              "#fb9f3a"
             ],
             [
              0.8888888888888888,
              "#fdca26"
             ],
             [
              1,
              "#f0f921"
             ]
            ],
            "type": "heatmapgl"
           }
          ],
          "histogram": [
           {
            "marker": {
             "pattern": {
              "fillmode": "overlay",
              "size": 10,
              "solidity": 0.2
             }
            },
            "type": "histogram"
           }
          ],
          "histogram2d": [
           {
            "colorbar": {
             "outlinewidth": 0,
             "ticks": ""
            },
            "colorscale": [
             [
              0,
              "#0d0887"
             ],
             [
              0.1111111111111111,
              "#46039f"
             ],
             [
              0.2222222222222222,
              "#7201a8"
             ],
             [
              0.3333333333333333,
              "#9c179e"
             ],
             [
              0.4444444444444444,
              "#bd3786"
             ],
             [
              0.5555555555555556,
              "#d8576b"
             ],
             [
              0.6666666666666666,
              "#ed7953"
             ],
             [
              0.7777777777777778,
              "#fb9f3a"
             ],
             [
              0.8888888888888888,
              "#fdca26"
             ],
             [
              1,
              "#f0f921"
             ]
            ],
            "type": "histogram2d"
           }
          ],
          "histogram2dcontour": [
           {
            "colorbar": {
             "outlinewidth": 0,
             "ticks": ""
            },
            "colorscale": [
             [
              0,
              "#0d0887"
             ],
             [
              0.1111111111111111,
              "#46039f"
             ],
             [
              0.2222222222222222,
              "#7201a8"
             ],
             [
              0.3333333333333333,
              "#9c179e"
             ],
             [
              0.4444444444444444,
              "#bd3786"
             ],
             [
              0.5555555555555556,
              "#d8576b"
             ],
             [
              0.6666666666666666,
              "#ed7953"
             ],
             [
              0.7777777777777778,
              "#fb9f3a"
             ],
             [
              0.8888888888888888,
              "#fdca26"
             ],
             [
              1,
              "#f0f921"
             ]
            ],
            "type": "histogram2dcontour"
           }
          ],
          "mesh3d": [
           {
            "colorbar": {
             "outlinewidth": 0,
             "ticks": ""
            },
            "type": "mesh3d"
           }
          ],
          "parcoords": [
           {
            "line": {
             "colorbar": {
              "outlinewidth": 0,
              "ticks": ""
             }
            },
            "type": "parcoords"
           }
          ],
          "pie": [
           {
            "automargin": true,
            "type": "pie"
           }
          ],
          "scatter": [
           {
            "marker": {
             "colorbar": {
              "outlinewidth": 0,
              "ticks": ""
             }
            },
            "type": "scatter"
           }
          ],
          "scatter3d": [
           {
            "line": {
             "colorbar": {
              "outlinewidth": 0,
              "ticks": ""
             }
            },
            "marker": {
             "colorbar": {
              "outlinewidth": 0,
              "ticks": ""
             }
            },
            "type": "scatter3d"
           }
          ],
          "scattercarpet": [
           {
            "marker": {
             "colorbar": {
              "outlinewidth": 0,
              "ticks": ""
             }
            },
            "type": "scattercarpet"
           }
          ],
          "scattergeo": [
           {
            "marker": {
             "colorbar": {
              "outlinewidth": 0,
              "ticks": ""
             }
            },
            "type": "scattergeo"
           }
          ],
          "scattergl": [
           {
            "marker": {
             "colorbar": {
              "outlinewidth": 0,
              "ticks": ""
             }
            },
            "type": "scattergl"
           }
          ],
          "scattermapbox": [
           {
            "marker": {
             "colorbar": {
              "outlinewidth": 0,
              "ticks": ""
             }
            },
            "type": "scattermapbox"
           }
          ],
          "scatterpolar": [
           {
            "marker": {
             "colorbar": {
              "outlinewidth": 0,
              "ticks": ""
             }
            },
            "type": "scatterpolar"
           }
          ],
          "scatterpolargl": [
           {
            "marker": {
             "colorbar": {
              "outlinewidth": 0,
              "ticks": ""
             }
            },
            "type": "scatterpolargl"
           }
          ],
          "scatterternary": [
           {
            "marker": {
             "colorbar": {
              "outlinewidth": 0,
              "ticks": ""
             }
            },
            "type": "scatterternary"
           }
          ],
          "surface": [
           {
            "colorbar": {
             "outlinewidth": 0,
             "ticks": ""
            },
            "colorscale": [
             [
              0,
              "#0d0887"
             ],
             [
              0.1111111111111111,
              "#46039f"
             ],
             [
              0.2222222222222222,
              "#7201a8"
             ],
             [
              0.3333333333333333,
              "#9c179e"
             ],
             [
              0.4444444444444444,
              "#bd3786"
             ],
             [
              0.5555555555555556,
              "#d8576b"
             ],
             [
              0.6666666666666666,
              "#ed7953"
             ],
             [
              0.7777777777777778,
              "#fb9f3a"
             ],
             [
              0.8888888888888888,
              "#fdca26"
             ],
             [
              1,
              "#f0f921"
             ]
            ],
            "type": "surface"
           }
          ],
          "table": [
           {
            "cells": {
             "fill": {
              "color": "#EBF0F8"
             },
             "line": {
              "color": "white"
             }
            },
            "header": {
             "fill": {
              "color": "#C8D4E3"
             },
             "line": {
              "color": "white"
             }
            },
            "type": "table"
           }
          ]
         },
         "layout": {
          "annotationdefaults": {
           "arrowcolor": "#2a3f5f",
           "arrowhead": 0,
           "arrowwidth": 1
          },
          "autotypenumbers": "strict",
          "coloraxis": {
           "colorbar": {
            "outlinewidth": 0,
            "ticks": ""
           }
          },
          "colorscale": {
           "diverging": [
            [
             0,
             "#8e0152"
            ],
            [
             0.1,
             "#c51b7d"
            ],
            [
             0.2,
             "#de77ae"
            ],
            [
             0.3,
             "#f1b6da"
            ],
            [
             0.4,
             "#fde0ef"
            ],
            [
             0.5,
             "#f7f7f7"
            ],
            [
             0.6,
             "#e6f5d0"
            ],
            [
             0.7,
             "#b8e186"
            ],
            [
             0.8,
             "#7fbc41"
            ],
            [
             0.9,
             "#4d9221"
            ],
            [
             1,
             "#276419"
            ]
           ],
           "sequential": [
            [
             0,
             "#0d0887"
            ],
            [
             0.1111111111111111,
             "#46039f"
            ],
            [
             0.2222222222222222,
             "#7201a8"
            ],
            [
             0.3333333333333333,
             "#9c179e"
            ],
            [
             0.4444444444444444,
             "#bd3786"
            ],
            [
             0.5555555555555556,
             "#d8576b"
            ],
            [
             0.6666666666666666,
             "#ed7953"
            ],
            [
             0.7777777777777778,
             "#fb9f3a"
            ],
            [
             0.8888888888888888,
             "#fdca26"
            ],
            [
             1,
             "#f0f921"
            ]
           ],
           "sequentialminus": [
            [
             0,
             "#0d0887"
            ],
            [
             0.1111111111111111,
             "#46039f"
            ],
            [
             0.2222222222222222,
             "#7201a8"
            ],
            [
             0.3333333333333333,
             "#9c179e"
            ],
            [
             0.4444444444444444,
             "#bd3786"
            ],
            [
             0.5555555555555556,
             "#d8576b"
            ],
            [
             0.6666666666666666,
             "#ed7953"
            ],
            [
             0.7777777777777778,
             "#fb9f3a"
            ],
            [
             0.8888888888888888,
             "#fdca26"
            ],
            [
             1,
             "#f0f921"
            ]
           ]
          },
          "colorway": [
           "#636efa",
           "#EF553B",
           "#00cc96",
           "#ab63fa",
           "#FFA15A",
           "#19d3f3",
           "#FF6692",
           "#B6E880",
           "#FF97FF",
           "#FECB52"
          ],
          "font": {
           "color": "#2a3f5f"
          },
          "geo": {
           "bgcolor": "white",
           "lakecolor": "white",
           "landcolor": "#E5ECF6",
           "showlakes": true,
           "showland": true,
           "subunitcolor": "white"
          },
          "hoverlabel": {
           "align": "left"
          },
          "hovermode": "closest",
          "mapbox": {
           "style": "light"
          },
          "paper_bgcolor": "white",
          "plot_bgcolor": "#E5ECF6",
          "polar": {
           "angularaxis": {
            "gridcolor": "white",
            "linecolor": "white",
            "ticks": ""
           },
           "bgcolor": "#E5ECF6",
           "radialaxis": {
            "gridcolor": "white",
            "linecolor": "white",
            "ticks": ""
           }
          },
          "scene": {
           "xaxis": {
            "backgroundcolor": "#E5ECF6",
            "gridcolor": "white",
            "gridwidth": 2,
            "linecolor": "white",
            "showbackground": true,
            "ticks": "",
            "zerolinecolor": "white"
           },
           "yaxis": {
            "backgroundcolor": "#E5ECF6",
            "gridcolor": "white",
            "gridwidth": 2,
            "linecolor": "white",
            "showbackground": true,
            "ticks": "",
            "zerolinecolor": "white"
           },
           "zaxis": {
            "backgroundcolor": "#E5ECF6",
            "gridcolor": "white",
            "gridwidth": 2,
            "linecolor": "white",
            "showbackground": true,
            "ticks": "",
            "zerolinecolor": "white"
           }
          },
          "shapedefaults": {
           "line": {
            "color": "#2a3f5f"
           }
          },
          "ternary": {
           "aaxis": {
            "gridcolor": "white",
            "linecolor": "white",
            "ticks": ""
           },
           "baxis": {
            "gridcolor": "white",
            "linecolor": "white",
            "ticks": ""
           },
           "bgcolor": "#E5ECF6",
           "caxis": {
            "gridcolor": "white",
            "linecolor": "white",
            "ticks": ""
           }
          },
          "title": {
           "x": 0.05
          },
          "xaxis": {
           "automargin": true,
           "gridcolor": "white",
           "linecolor": "white",
           "ticks": "",
           "title": {
            "standoff": 15
           },
           "zerolinecolor": "white",
           "zerolinewidth": 2
          },
          "yaxis": {
           "automargin": true,
           "gridcolor": "white",
           "linecolor": "white",
           "ticks": "",
           "title": {
            "standoff": 15
           },
           "zerolinecolor": "white",
           "zerolinewidth": 2
          }
         }
        }
       }
      }
     },
     "metadata": {},
     "output_type": "display_data"
    }
   ],
   "source": [
    "fig = go.Figure()\n",
    "fig.add_trace(go.Scatter(x=usa_total[\"age\"], y=usa_total[\"Rate\"], mode=\"lines\"))"
   ]
  },
  {
   "cell_type": "code",
   "execution_count": null,
   "metadata": {},
   "outputs": [],
   "source": []
  },
  {
   "cell_type": "code",
   "execution_count": null,
   "metadata": {},
   "outputs": [],
   "source": []
  },
  {
   "cell_type": "code",
   "execution_count": 74,
   "metadata": {},
   "outputs": [
    {
     "data": {
      "text/plain": [
       "array(['85+', '75-84', '65-74', '55-64', '1', '45-54', '35-44', '25-34',\n",
       "       '15-24', '1-4', '5-14'], dtype=object)"
      ]
     },
     "execution_count": 74,
     "metadata": {},
     "output_type": "execute_result"
    }
   ],
   "source": [
    "df[\"Ten-Year Age Groups Code\"].unique()"
   ]
  },
  {
   "cell_type": "code",
   "execution_count": 75,
   "metadata": {},
   "outputs": [],
   "source": [
    "child = state_deaths[state_deaths[\"Ten-Year Age Groups Code\"] == '5-14']\n",
    "part = Partisian.get_state_part_score()\n",
    "child = pd.merge(child, part, left_on=\"State_Abv\", right_on=\"State\")\n"
   ]
  },
  {
   "cell_type": "code",
   "execution_count": 76,
   "metadata": {},
   "outputs": [
    {
     "data": {
      "application/vnd.plotly.v1+json": {
       "config": {
        "plotlyServerURL": "https://plot.ly"
       },
       "data": [
        {
         "mode": "markers",
         "name": "Child",
         "type": "scatter",
         "x": [
          0.8,
          1,
          0.4666666666666667,
          0.8666666666666667,
          0.8666666666666667,
          0.8666666666666667,
          0.3333333333333333,
          0.2,
          0.3333333333333333,
          0.2,
          0.8666666666666667,
          0.3333333333333333,
          -0.4666666666666667,
          1,
          0.4666666666666667,
          0.4,
          1,
          0.5333333333333333,
          0.8666666666666667,
          1,
          0.8666666666666667,
          -0.6,
          0.8666666666666667,
          -0.8666666666666667,
          0.2,
          1,
          0.26666666666666666,
          1,
          0.4,
          0,
          1,
          0.13333333333333333,
          -0.3333333333333333,
          1,
          -0.07142857142857142,
          -0.6666666666666666,
          -0.8666666666666667,
          -0.13333333333333333,
          -0.26666666666666666,
          -0.7333333333333333,
          -0.6666666666666666,
          -0.5333333333333333,
          -0.4666666666666667,
          -0.8666666666666667,
          -0.8666666666666667,
          -1,
          -0.5333333333333333,
          -0.7333333333333333
         ],
         "y": [
          24.77,
          23.16,
          21.86,
          20.71,
          19.55,
          18.77,
          18.59,
          18.56,
          17.8,
          17.31,
          17.05,
          16.16,
          16.16,
          16.08,
          15.98,
          15.88,
          15.78,
          15.39,
          15.36,
          15.22,
          15.13,
          14.78,
          14.72,
          14.32,
          13.94,
          13.8,
          13.62,
          13.47,
          13.44,
          13.27,
          13.15,
          12.98,
          12.85,
          12.81,
          11.99,
          11.9,
          11.33,
          11.25,
          10.92,
          10.79,
          10.63,
          10.3,
          10.24,
          9.97,
          9.78,
          9.65,
          8.79,
          8.56
         ]
        }
       ],
       "layout": {
        "template": {
         "data": {
          "bar": [
           {
            "error_x": {
             "color": "#2a3f5f"
            },
            "error_y": {
             "color": "#2a3f5f"
            },
            "marker": {
             "line": {
              "color": "#E5ECF6",
              "width": 0.5
             },
             "pattern": {
              "fillmode": "overlay",
              "size": 10,
              "solidity": 0.2
             }
            },
            "type": "bar"
           }
          ],
          "barpolar": [
           {
            "marker": {
             "line": {
              "color": "#E5ECF6",
              "width": 0.5
             },
             "pattern": {
              "fillmode": "overlay",
              "size": 10,
              "solidity": 0.2
             }
            },
            "type": "barpolar"
           }
          ],
          "carpet": [
           {
            "aaxis": {
             "endlinecolor": "#2a3f5f",
             "gridcolor": "white",
             "linecolor": "white",
             "minorgridcolor": "white",
             "startlinecolor": "#2a3f5f"
            },
            "baxis": {
             "endlinecolor": "#2a3f5f",
             "gridcolor": "white",
             "linecolor": "white",
             "minorgridcolor": "white",
             "startlinecolor": "#2a3f5f"
            },
            "type": "carpet"
           }
          ],
          "choropleth": [
           {
            "colorbar": {
             "outlinewidth": 0,
             "ticks": ""
            },
            "type": "choropleth"
           }
          ],
          "contour": [
           {
            "colorbar": {
             "outlinewidth": 0,
             "ticks": ""
            },
            "colorscale": [
             [
              0,
              "#0d0887"
             ],
             [
              0.1111111111111111,
              "#46039f"
             ],
             [
              0.2222222222222222,
              "#7201a8"
             ],
             [
              0.3333333333333333,
              "#9c179e"
             ],
             [
              0.4444444444444444,
              "#bd3786"
             ],
             [
              0.5555555555555556,
              "#d8576b"
             ],
             [
              0.6666666666666666,
              "#ed7953"
             ],
             [
              0.7777777777777778,
              "#fb9f3a"
             ],
             [
              0.8888888888888888,
              "#fdca26"
             ],
             [
              1,
              "#f0f921"
             ]
            ],
            "type": "contour"
           }
          ],
          "contourcarpet": [
           {
            "colorbar": {
             "outlinewidth": 0,
             "ticks": ""
            },
            "type": "contourcarpet"
           }
          ],
          "heatmap": [
           {
            "colorbar": {
             "outlinewidth": 0,
             "ticks": ""
            },
            "colorscale": [
             [
              0,
              "#0d0887"
             ],
             [
              0.1111111111111111,
              "#46039f"
             ],
             [
              0.2222222222222222,
              "#7201a8"
             ],
             [
              0.3333333333333333,
              "#9c179e"
             ],
             [
              0.4444444444444444,
              "#bd3786"
             ],
             [
              0.5555555555555556,
              "#d8576b"
             ],
             [
              0.6666666666666666,
              "#ed7953"
             ],
             [
              0.7777777777777778,
              "#fb9f3a"
             ],
             [
              0.8888888888888888,
              "#fdca26"
             ],
             [
              1,
              "#f0f921"
             ]
            ],
            "type": "heatmap"
           }
          ],
          "heatmapgl": [
           {
            "colorbar": {
             "outlinewidth": 0,
             "ticks": ""
            },
            "colorscale": [
             [
              0,
              "#0d0887"
             ],
             [
              0.1111111111111111,
              "#46039f"
             ],
             [
              0.2222222222222222,
              "#7201a8"
             ],
             [
              0.3333333333333333,
              "#9c179e"
             ],
             [
              0.4444444444444444,
              "#bd3786"
             ],
             [
              0.5555555555555556,
              "#d8576b"
             ],
             [
              0.6666666666666666,
              "#ed7953"
             ],
             [
              0.7777777777777778,
              "#fb9f3a"
             ],
             [
              0.8888888888888888,
              "#fdca26"
             ],
             [
              1,
              "#f0f921"
             ]
            ],
            "type": "heatmapgl"
           }
          ],
          "histogram": [
           {
            "marker": {
             "pattern": {
              "fillmode": "overlay",
              "size": 10,
              "solidity": 0.2
             }
            },
            "type": "histogram"
           }
          ],
          "histogram2d": [
           {
            "colorbar": {
             "outlinewidth": 0,
             "ticks": ""
            },
            "colorscale": [
             [
              0,
              "#0d0887"
             ],
             [
              0.1111111111111111,
              "#46039f"
             ],
             [
              0.2222222222222222,
              "#7201a8"
             ],
             [
              0.3333333333333333,
              "#9c179e"
             ],
             [
              0.4444444444444444,
              "#bd3786"
             ],
             [
              0.5555555555555556,
              "#d8576b"
             ],
             [
              0.6666666666666666,
              "#ed7953"
             ],
             [
              0.7777777777777778,
              "#fb9f3a"
             ],
             [
              0.8888888888888888,
              "#fdca26"
             ],
             [
              1,
              "#f0f921"
             ]
            ],
            "type": "histogram2d"
           }
          ],
          "histogram2dcontour": [
           {
            "colorbar": {
             "outlinewidth": 0,
             "ticks": ""
            },
            "colorscale": [
             [
              0,
              "#0d0887"
             ],
             [
              0.1111111111111111,
              "#46039f"
             ],
             [
              0.2222222222222222,
              "#7201a8"
             ],
             [
              0.3333333333333333,
              "#9c179e"
             ],
             [
              0.4444444444444444,
              "#bd3786"
             ],
             [
              0.5555555555555556,
              "#d8576b"
             ],
             [
              0.6666666666666666,
              "#ed7953"
             ],
             [
              0.7777777777777778,
              "#fb9f3a"
             ],
             [
              0.8888888888888888,
              "#fdca26"
             ],
             [
              1,
              "#f0f921"
             ]
            ],
            "type": "histogram2dcontour"
           }
          ],
          "mesh3d": [
           {
            "colorbar": {
             "outlinewidth": 0,
             "ticks": ""
            },
            "type": "mesh3d"
           }
          ],
          "parcoords": [
           {
            "line": {
             "colorbar": {
              "outlinewidth": 0,
              "ticks": ""
             }
            },
            "type": "parcoords"
           }
          ],
          "pie": [
           {
            "automargin": true,
            "type": "pie"
           }
          ],
          "scatter": [
           {
            "marker": {
             "colorbar": {
              "outlinewidth": 0,
              "ticks": ""
             }
            },
            "type": "scatter"
           }
          ],
          "scatter3d": [
           {
            "line": {
             "colorbar": {
              "outlinewidth": 0,
              "ticks": ""
             }
            },
            "marker": {
             "colorbar": {
              "outlinewidth": 0,
              "ticks": ""
             }
            },
            "type": "scatter3d"
           }
          ],
          "scattercarpet": [
           {
            "marker": {
             "colorbar": {
              "outlinewidth": 0,
              "ticks": ""
             }
            },
            "type": "scattercarpet"
           }
          ],
          "scattergeo": [
           {
            "marker": {
             "colorbar": {
              "outlinewidth": 0,
              "ticks": ""
             }
            },
            "type": "scattergeo"
           }
          ],
          "scattergl": [
           {
            "marker": {
             "colorbar": {
              "outlinewidth": 0,
              "ticks": ""
             }
            },
            "type": "scattergl"
           }
          ],
          "scattermapbox": [
           {
            "marker": {
             "colorbar": {
              "outlinewidth": 0,
              "ticks": ""
             }
            },
            "type": "scattermapbox"
           }
          ],
          "scatterpolar": [
           {
            "marker": {
             "colorbar": {
              "outlinewidth": 0,
              "ticks": ""
             }
            },
            "type": "scatterpolar"
           }
          ],
          "scatterpolargl": [
           {
            "marker": {
             "colorbar": {
              "outlinewidth": 0,
              "ticks": ""
             }
            },
            "type": "scatterpolargl"
           }
          ],
          "scatterternary": [
           {
            "marker": {
             "colorbar": {
              "outlinewidth": 0,
              "ticks": ""
             }
            },
            "type": "scatterternary"
           }
          ],
          "surface": [
           {
            "colorbar": {
             "outlinewidth": 0,
             "ticks": ""
            },
            "colorscale": [
             [
              0,
              "#0d0887"
             ],
             [
              0.1111111111111111,
              "#46039f"
             ],
             [
              0.2222222222222222,
              "#7201a8"
             ],
             [
              0.3333333333333333,
              "#9c179e"
             ],
             [
              0.4444444444444444,
              "#bd3786"
             ],
             [
              0.5555555555555556,
              "#d8576b"
             ],
             [
              0.6666666666666666,
              "#ed7953"
             ],
             [
              0.7777777777777778,
              "#fb9f3a"
             ],
             [
              0.8888888888888888,
              "#fdca26"
             ],
             [
              1,
              "#f0f921"
             ]
            ],
            "type": "surface"
           }
          ],
          "table": [
           {
            "cells": {
             "fill": {
              "color": "#EBF0F8"
             },
             "line": {
              "color": "white"
             }
            },
            "header": {
             "fill": {
              "color": "#C8D4E3"
             },
             "line": {
              "color": "white"
             }
            },
            "type": "table"
           }
          ]
         },
         "layout": {
          "annotationdefaults": {
           "arrowcolor": "#2a3f5f",
           "arrowhead": 0,
           "arrowwidth": 1
          },
          "autotypenumbers": "strict",
          "coloraxis": {
           "colorbar": {
            "outlinewidth": 0,
            "ticks": ""
           }
          },
          "colorscale": {
           "diverging": [
            [
             0,
             "#8e0152"
            ],
            [
             0.1,
             "#c51b7d"
            ],
            [
             0.2,
             "#de77ae"
            ],
            [
             0.3,
             "#f1b6da"
            ],
            [
             0.4,
             "#fde0ef"
            ],
            [
             0.5,
             "#f7f7f7"
            ],
            [
             0.6,
             "#e6f5d0"
            ],
            [
             0.7,
             "#b8e186"
            ],
            [
             0.8,
             "#7fbc41"
            ],
            [
             0.9,
             "#4d9221"
            ],
            [
             1,
             "#276419"
            ]
           ],
           "sequential": [
            [
             0,
             "#0d0887"
            ],
            [
             0.1111111111111111,
             "#46039f"
            ],
            [
             0.2222222222222222,
             "#7201a8"
            ],
            [
             0.3333333333333333,
             "#9c179e"
            ],
            [
             0.4444444444444444,
             "#bd3786"
            ],
            [
             0.5555555555555556,
             "#d8576b"
            ],
            [
             0.6666666666666666,
             "#ed7953"
            ],
            [
             0.7777777777777778,
             "#fb9f3a"
            ],
            [
             0.8888888888888888,
             "#fdca26"
            ],
            [
             1,
             "#f0f921"
            ]
           ],
           "sequentialminus": [
            [
             0,
             "#0d0887"
            ],
            [
             0.1111111111111111,
             "#46039f"
            ],
            [
             0.2222222222222222,
             "#7201a8"
            ],
            [
             0.3333333333333333,
             "#9c179e"
            ],
            [
             0.4444444444444444,
             "#bd3786"
            ],
            [
             0.5555555555555556,
             "#d8576b"
            ],
            [
             0.6666666666666666,
             "#ed7953"
            ],
            [
             0.7777777777777778,
             "#fb9f3a"
            ],
            [
             0.8888888888888888,
             "#fdca26"
            ],
            [
             1,
             "#f0f921"
            ]
           ]
          },
          "colorway": [
           "#636efa",
           "#EF553B",
           "#00cc96",
           "#ab63fa",
           "#FFA15A",
           "#19d3f3",
           "#FF6692",
           "#B6E880",
           "#FF97FF",
           "#FECB52"
          ],
          "font": {
           "color": "#2a3f5f"
          },
          "geo": {
           "bgcolor": "white",
           "lakecolor": "white",
           "landcolor": "#E5ECF6",
           "showlakes": true,
           "showland": true,
           "subunitcolor": "white"
          },
          "hoverlabel": {
           "align": "left"
          },
          "hovermode": "closest",
          "mapbox": {
           "style": "light"
          },
          "paper_bgcolor": "white",
          "plot_bgcolor": "#E5ECF6",
          "polar": {
           "angularaxis": {
            "gridcolor": "white",
            "linecolor": "white",
            "ticks": ""
           },
           "bgcolor": "#E5ECF6",
           "radialaxis": {
            "gridcolor": "white",
            "linecolor": "white",
            "ticks": ""
           }
          },
          "scene": {
           "xaxis": {
            "backgroundcolor": "#E5ECF6",
            "gridcolor": "white",
            "gridwidth": 2,
            "linecolor": "white",
            "showbackground": true,
            "ticks": "",
            "zerolinecolor": "white"
           },
           "yaxis": {
            "backgroundcolor": "#E5ECF6",
            "gridcolor": "white",
            "gridwidth": 2,
            "linecolor": "white",
            "showbackground": true,
            "ticks": "",
            "zerolinecolor": "white"
           },
           "zaxis": {
            "backgroundcolor": "#E5ECF6",
            "gridcolor": "white",
            "gridwidth": 2,
            "linecolor": "white",
            "showbackground": true,
            "ticks": "",
            "zerolinecolor": "white"
           }
          },
          "shapedefaults": {
           "line": {
            "color": "#2a3f5f"
           }
          },
          "ternary": {
           "aaxis": {
            "gridcolor": "white",
            "linecolor": "white",
            "ticks": ""
           },
           "baxis": {
            "gridcolor": "white",
            "linecolor": "white",
            "ticks": ""
           },
           "bgcolor": "#E5ECF6",
           "caxis": {
            "gridcolor": "white",
            "linecolor": "white",
            "ticks": ""
           }
          },
          "title": {
           "x": 0.05
          },
          "xaxis": {
           "automargin": true,
           "gridcolor": "white",
           "linecolor": "white",
           "ticks": "",
           "title": {
            "standoff": 15
           },
           "zerolinecolor": "white",
           "zerolinewidth": 2
          },
          "yaxis": {
           "automargin": true,
           "gridcolor": "white",
           "linecolor": "white",
           "ticks": "",
           "title": {
            "standoff": 15
           },
           "zerolinecolor": "white",
           "zerolinewidth": 2
          }
         }
        }
       }
      }
     },
     "metadata": {},
     "output_type": "display_data"
    }
   ],
   "source": [
    "fig = go.Figure()\n",
    "fig.add_trace(go.Scatter(x=child['Part_Score'], y=child['Rate'],mode='markers',name='Child'))"
   ]
  },
  {
   "cell_type": "code",
   "execution_count": 77,
   "metadata": {},
   "outputs": [
    {
     "data": {
      "application/vnd.plotly.v1+json": {
       "config": {
        "plotlyServerURL": "https://plot.ly"
       },
       "data": [
        {
         "marker": {
          "color": [
           0.8,
           1,
           0.4666666666666667,
           0.8666666666666667,
           0.8666666666666667,
           0.8666666666666667,
           0.3333333333333333,
           0.2,
           0.3333333333333333,
           0.2,
           0.8666666666666667,
           0.3333333333333333,
           -0.4666666666666667,
           1,
           0.4666666666666667,
           0.4,
           1,
           0.5333333333333333,
           0.8666666666666667,
           1,
           0.8666666666666667,
           -0.6,
           0.8666666666666667,
           -0.8666666666666667,
           0.2,
           1,
           0.26666666666666666,
           1,
           0.4,
           0,
           1,
           0.13333333333333333,
           -0.3333333333333333,
           1,
           -0.07142857142857142,
           -0.6666666666666666,
           -0.8666666666666667,
           -0.13333333333333333,
           -0.26666666666666666,
           -0.7333333333333333,
           -0.6666666666666666,
           -0.5333333333333333,
           -0.4666666666666667,
           -0.8666666666666667,
           -0.8666666666666667,
           -1,
           -0.5333333333333333,
           -0.7333333333333333
          ],
          "colorscale": [
           [
            0,
            "rgb(0,0,255)"
           ],
           [
            1,
            "rgb(255,0,0)"
           ]
          ]
         },
         "name": "Child",
         "type": "bar",
         "x": [
          "MS",
          "ID",
          "AK",
          "AL",
          "WY",
          "OK",
          "LA",
          "MT",
          "AR",
          "KY",
          "TN",
          "IA",
          "NM",
          "ND",
          "MO",
          "MI",
          "GA",
          "KS",
          "AZ",
          "SC",
          "IN",
          "CO",
          "OH",
          "HI",
          "NH",
          "TX",
          "PA",
          "UT",
          "WI",
          "WV",
          "SD",
          "NC",
          "ME",
          "FL",
          "NV",
          "NY",
          "WA",
          "VA",
          "MN",
          "IL",
          "RI",
          "MD",
          "NJ",
          "OR",
          "CA",
          "DE",
          "MA",
          "CT"
         ],
         "y": [
          24.77,
          23.16,
          21.86,
          20.71,
          19.55,
          18.77,
          18.59,
          18.56,
          17.8,
          17.31,
          17.05,
          16.16,
          16.16,
          16.08,
          15.98,
          15.88,
          15.78,
          15.39,
          15.36,
          15.22,
          15.13,
          14.78,
          14.72,
          14.32,
          13.94,
          13.8,
          13.62,
          13.47,
          13.44,
          13.27,
          13.15,
          12.98,
          12.85,
          12.81,
          11.99,
          11.9,
          11.33,
          11.25,
          10.92,
          10.79,
          10.63,
          10.3,
          10.24,
          9.97,
          9.78,
          9.65,
          8.79,
          8.56
         ]
        }
       ],
       "layout": {
        "template": {
         "data": {
          "bar": [
           {
            "error_x": {
             "color": "#2a3f5f"
            },
            "error_y": {
             "color": "#2a3f5f"
            },
            "marker": {
             "line": {
              "color": "#E5ECF6",
              "width": 0.5
             },
             "pattern": {
              "fillmode": "overlay",
              "size": 10,
              "solidity": 0.2
             }
            },
            "type": "bar"
           }
          ],
          "barpolar": [
           {
            "marker": {
             "line": {
              "color": "#E5ECF6",
              "width": 0.5
             },
             "pattern": {
              "fillmode": "overlay",
              "size": 10,
              "solidity": 0.2
             }
            },
            "type": "barpolar"
           }
          ],
          "carpet": [
           {
            "aaxis": {
             "endlinecolor": "#2a3f5f",
             "gridcolor": "white",
             "linecolor": "white",
             "minorgridcolor": "white",
             "startlinecolor": "#2a3f5f"
            },
            "baxis": {
             "endlinecolor": "#2a3f5f",
             "gridcolor": "white",
             "linecolor": "white",
             "minorgridcolor": "white",
             "startlinecolor": "#2a3f5f"
            },
            "type": "carpet"
           }
          ],
          "choropleth": [
           {
            "colorbar": {
             "outlinewidth": 0,
             "ticks": ""
            },
            "type": "choropleth"
           }
          ],
          "contour": [
           {
            "colorbar": {
             "outlinewidth": 0,
             "ticks": ""
            },
            "colorscale": [
             [
              0,
              "#0d0887"
             ],
             [
              0.1111111111111111,
              "#46039f"
             ],
             [
              0.2222222222222222,
              "#7201a8"
             ],
             [
              0.3333333333333333,
              "#9c179e"
             ],
             [
              0.4444444444444444,
              "#bd3786"
             ],
             [
              0.5555555555555556,
              "#d8576b"
             ],
             [
              0.6666666666666666,
              "#ed7953"
             ],
             [
              0.7777777777777778,
              "#fb9f3a"
             ],
             [
              0.8888888888888888,
              "#fdca26"
             ],
             [
              1,
              "#f0f921"
             ]
            ],
            "type": "contour"
           }
          ],
          "contourcarpet": [
           {
            "colorbar": {
             "outlinewidth": 0,
             "ticks": ""
            },
            "type": "contourcarpet"
           }
          ],
          "heatmap": [
           {
            "colorbar": {
             "outlinewidth": 0,
             "ticks": ""
            },
            "colorscale": [
             [
              0,
              "#0d0887"
             ],
             [
              0.1111111111111111,
              "#46039f"
             ],
             [
              0.2222222222222222,
              "#7201a8"
             ],
             [
              0.3333333333333333,
              "#9c179e"
             ],
             [
              0.4444444444444444,
              "#bd3786"
             ],
             [
              0.5555555555555556,
              "#d8576b"
             ],
             [
              0.6666666666666666,
              "#ed7953"
             ],
             [
              0.7777777777777778,
              "#fb9f3a"
             ],
             [
              0.8888888888888888,
              "#fdca26"
             ],
             [
              1,
              "#f0f921"
             ]
            ],
            "type": "heatmap"
           }
          ],
          "heatmapgl": [
           {
            "colorbar": {
             "outlinewidth": 0,
             "ticks": ""
            },
            "colorscale": [
             [
              0,
              "#0d0887"
             ],
             [
              0.1111111111111111,
              "#46039f"
             ],
             [
              0.2222222222222222,
              "#7201a8"
             ],
             [
              0.3333333333333333,
              "#9c179e"
             ],
             [
              0.4444444444444444,
              "#bd3786"
             ],
             [
              0.5555555555555556,
              "#d8576b"
             ],
             [
              0.6666666666666666,
              "#ed7953"
             ],
             [
              0.7777777777777778,
              "#fb9f3a"
             ],
             [
              0.8888888888888888,
              "#fdca26"
             ],
             [
              1,
              "#f0f921"
             ]
            ],
            "type": "heatmapgl"
           }
          ],
          "histogram": [
           {
            "marker": {
             "pattern": {
              "fillmode": "overlay",
              "size": 10,
              "solidity": 0.2
             }
            },
            "type": "histogram"
           }
          ],
          "histogram2d": [
           {
            "colorbar": {
             "outlinewidth": 0,
             "ticks": ""
            },
            "colorscale": [
             [
              0,
              "#0d0887"
             ],
             [
              0.1111111111111111,
              "#46039f"
             ],
             [
              0.2222222222222222,
              "#7201a8"
             ],
             [
              0.3333333333333333,
              "#9c179e"
             ],
             [
              0.4444444444444444,
              "#bd3786"
             ],
             [
              0.5555555555555556,
              "#d8576b"
             ],
             [
              0.6666666666666666,
              "#ed7953"
             ],
             [
              0.7777777777777778,
              "#fb9f3a"
             ],
             [
              0.8888888888888888,
              "#fdca26"
             ],
             [
              1,
              "#f0f921"
             ]
            ],
            "type": "histogram2d"
           }
          ],
          "histogram2dcontour": [
           {
            "colorbar": {
             "outlinewidth": 0,
             "ticks": ""
            },
            "colorscale": [
             [
              0,
              "#0d0887"
             ],
             [
              0.1111111111111111,
              "#46039f"
             ],
             [
              0.2222222222222222,
              "#7201a8"
             ],
             [
              0.3333333333333333,
              "#9c179e"
             ],
             [
              0.4444444444444444,
              "#bd3786"
             ],
             [
              0.5555555555555556,
              "#d8576b"
             ],
             [
              0.6666666666666666,
              "#ed7953"
             ],
             [
              0.7777777777777778,
              "#fb9f3a"
             ],
             [
              0.8888888888888888,
              "#fdca26"
             ],
             [
              1,
              "#f0f921"
             ]
            ],
            "type": "histogram2dcontour"
           }
          ],
          "mesh3d": [
           {
            "colorbar": {
             "outlinewidth": 0,
             "ticks": ""
            },
            "type": "mesh3d"
           }
          ],
          "parcoords": [
           {
            "line": {
             "colorbar": {
              "outlinewidth": 0,
              "ticks": ""
             }
            },
            "type": "parcoords"
           }
          ],
          "pie": [
           {
            "automargin": true,
            "type": "pie"
           }
          ],
          "scatter": [
           {
            "marker": {
             "colorbar": {
              "outlinewidth": 0,
              "ticks": ""
             }
            },
            "type": "scatter"
           }
          ],
          "scatter3d": [
           {
            "line": {
             "colorbar": {
              "outlinewidth": 0,
              "ticks": ""
             }
            },
            "marker": {
             "colorbar": {
              "outlinewidth": 0,
              "ticks": ""
             }
            },
            "type": "scatter3d"
           }
          ],
          "scattercarpet": [
           {
            "marker": {
             "colorbar": {
              "outlinewidth": 0,
              "ticks": ""
             }
            },
            "type": "scattercarpet"
           }
          ],
          "scattergeo": [
           {
            "marker": {
             "colorbar": {
              "outlinewidth": 0,
              "ticks": ""
             }
            },
            "type": "scattergeo"
           }
          ],
          "scattergl": [
           {
            "marker": {
             "colorbar": {
              "outlinewidth": 0,
              "ticks": ""
             }
            },
            "type": "scattergl"
           }
          ],
          "scattermapbox": [
           {
            "marker": {
             "colorbar": {
              "outlinewidth": 0,
              "ticks": ""
             }
            },
            "type": "scattermapbox"
           }
          ],
          "scatterpolar": [
           {
            "marker": {
             "colorbar": {
              "outlinewidth": 0,
              "ticks": ""
             }
            },
            "type": "scatterpolar"
           }
          ],
          "scatterpolargl": [
           {
            "marker": {
             "colorbar": {
              "outlinewidth": 0,
              "ticks": ""
             }
            },
            "type": "scatterpolargl"
           }
          ],
          "scatterternary": [
           {
            "marker": {
             "colorbar": {
              "outlinewidth": 0,
              "ticks": ""
             }
            },
            "type": "scatterternary"
           }
          ],
          "surface": [
           {
            "colorbar": {
             "outlinewidth": 0,
             "ticks": ""
            },
            "colorscale": [
             [
              0,
              "#0d0887"
             ],
             [
              0.1111111111111111,
              "#46039f"
             ],
             [
              0.2222222222222222,
              "#7201a8"
             ],
             [
              0.3333333333333333,
              "#9c179e"
             ],
             [
              0.4444444444444444,
              "#bd3786"
             ],
             [
              0.5555555555555556,
              "#d8576b"
             ],
             [
              0.6666666666666666,
              "#ed7953"
             ],
             [
              0.7777777777777778,
              "#fb9f3a"
             ],
             [
              0.8888888888888888,
              "#fdca26"
             ],
             [
              1,
              "#f0f921"
             ]
            ],
            "type": "surface"
           }
          ],
          "table": [
           {
            "cells": {
             "fill": {
              "color": "#EBF0F8"
             },
             "line": {
              "color": "white"
             }
            },
            "header": {
             "fill": {
              "color": "#C8D4E3"
             },
             "line": {
              "color": "white"
             }
            },
            "type": "table"
           }
          ]
         },
         "layout": {
          "annotationdefaults": {
           "arrowcolor": "#2a3f5f",
           "arrowhead": 0,
           "arrowwidth": 1
          },
          "autotypenumbers": "strict",
          "coloraxis": {
           "colorbar": {
            "outlinewidth": 0,
            "ticks": ""
           }
          },
          "colorscale": {
           "diverging": [
            [
             0,
             "#8e0152"
            ],
            [
             0.1,
             "#c51b7d"
            ],
            [
             0.2,
             "#de77ae"
            ],
            [
             0.3,
             "#f1b6da"
            ],
            [
             0.4,
             "#fde0ef"
            ],
            [
             0.5,
             "#f7f7f7"
            ],
            [
             0.6,
             "#e6f5d0"
            ],
            [
             0.7,
             "#b8e186"
            ],
            [
             0.8,
             "#7fbc41"
            ],
            [
             0.9,
             "#4d9221"
            ],
            [
             1,
             "#276419"
            ]
           ],
           "sequential": [
            [
             0,
             "#0d0887"
            ],
            [
             0.1111111111111111,
             "#46039f"
            ],
            [
             0.2222222222222222,
             "#7201a8"
            ],
            [
             0.3333333333333333,
             "#9c179e"
            ],
            [
             0.4444444444444444,
             "#bd3786"
            ],
            [
             0.5555555555555556,
             "#d8576b"
            ],
            [
             0.6666666666666666,
             "#ed7953"
            ],
            [
             0.7777777777777778,
             "#fb9f3a"
            ],
            [
             0.8888888888888888,
             "#fdca26"
            ],
            [
             1,
             "#f0f921"
            ]
           ],
           "sequentialminus": [
            [
             0,
             "#0d0887"
            ],
            [
             0.1111111111111111,
             "#46039f"
            ],
            [
             0.2222222222222222,
             "#7201a8"
            ],
            [
             0.3333333333333333,
             "#9c179e"
            ],
            [
             0.4444444444444444,
             "#bd3786"
            ],
            [
             0.5555555555555556,
             "#d8576b"
            ],
            [
             0.6666666666666666,
             "#ed7953"
            ],
            [
             0.7777777777777778,
             "#fb9f3a"
            ],
            [
             0.8888888888888888,
             "#fdca26"
            ],
            [
             1,
             "#f0f921"
            ]
           ]
          },
          "colorway": [
           "#636efa",
           "#EF553B",
           "#00cc96",
           "#ab63fa",
           "#FFA15A",
           "#19d3f3",
           "#FF6692",
           "#B6E880",
           "#FF97FF",
           "#FECB52"
          ],
          "font": {
           "color": "#2a3f5f"
          },
          "geo": {
           "bgcolor": "white",
           "lakecolor": "white",
           "landcolor": "#E5ECF6",
           "showlakes": true,
           "showland": true,
           "subunitcolor": "white"
          },
          "hoverlabel": {
           "align": "left"
          },
          "hovermode": "closest",
          "mapbox": {
           "style": "light"
          },
          "paper_bgcolor": "white",
          "plot_bgcolor": "#E5ECF6",
          "polar": {
           "angularaxis": {
            "gridcolor": "white",
            "linecolor": "white",
            "ticks": ""
           },
           "bgcolor": "#E5ECF6",
           "radialaxis": {
            "gridcolor": "white",
            "linecolor": "white",
            "ticks": ""
           }
          },
          "scene": {
           "xaxis": {
            "backgroundcolor": "#E5ECF6",
            "gridcolor": "white",
            "gridwidth": 2,
            "linecolor": "white",
            "showbackground": true,
            "ticks": "",
            "zerolinecolor": "white"
           },
           "yaxis": {
            "backgroundcolor": "#E5ECF6",
            "gridcolor": "white",
            "gridwidth": 2,
            "linecolor": "white",
            "showbackground": true,
            "ticks": "",
            "zerolinecolor": "white"
           },
           "zaxis": {
            "backgroundcolor": "#E5ECF6",
            "gridcolor": "white",
            "gridwidth": 2,
            "linecolor": "white",
            "showbackground": true,
            "ticks": "",
            "zerolinecolor": "white"
           }
          },
          "shapedefaults": {
           "line": {
            "color": "#2a3f5f"
           }
          },
          "ternary": {
           "aaxis": {
            "gridcolor": "white",
            "linecolor": "white",
            "ticks": ""
           },
           "baxis": {
            "gridcolor": "white",
            "linecolor": "white",
            "ticks": ""
           },
           "bgcolor": "#E5ECF6",
           "caxis": {
            "gridcolor": "white",
            "linecolor": "white",
            "ticks": ""
           }
          },
          "title": {
           "x": 0.05
          },
          "xaxis": {
           "automargin": true,
           "gridcolor": "white",
           "linecolor": "white",
           "ticks": "",
           "title": {
            "standoff": 15
           },
           "zerolinecolor": "white",
           "zerolinewidth": 2
          },
          "yaxis": {
           "automargin": true,
           "gridcolor": "white",
           "linecolor": "white",
           "ticks": "",
           "title": {
            "standoff": 15
           },
           "zerolinecolor": "white",
           "zerolinewidth": 2
          }
         }
        }
       }
      }
     },
     "metadata": {},
     "output_type": "display_data"
    }
   ],
   "source": [
    "fig = go.Figure()\n",
    "fig.add_trace(go.Bar(x=child[\"State_Abv\"], y=child[\"Rate\"], marker=dict(color=child[\"Part_Score\"], colorscale=\"Bluered\" ), name=\"Child\"))"
   ]
  },
  {
   "cell_type": "code",
   "execution_count": 78,
   "metadata": {},
   "outputs": [
    {
     "data": {
      "text/html": [
       "<div>\n",
       "<style scoped>\n",
       "    .dataframe tbody tr th:only-of-type {\n",
       "        vertical-align: middle;\n",
       "    }\n",
       "\n",
       "    .dataframe tbody tr th {\n",
       "        vertical-align: top;\n",
       "    }\n",
       "\n",
       "    .dataframe thead th {\n",
       "        text-align: right;\n",
       "    }\n",
       "</style>\n",
       "<table border=\"1\" class=\"dataframe\">\n",
       "  <thead>\n",
       "    <tr style=\"text-align: right;\">\n",
       "      <th></th>\n",
       "      <th>State_x</th>\n",
       "      <th>Ten-Year Age Groups</th>\n",
       "      <th>Ten-Year Age Groups Code</th>\n",
       "      <th>Deaths</th>\n",
       "      <th>Population</th>\n",
       "      <th>Crude Rate</th>\n",
       "      <th>Rate</th>\n",
       "      <th>fips_x</th>\n",
       "      <th>Year_x</th>\n",
       "      <th>State_Abv</th>\n",
       "      <th>State_y</th>\n",
       "      <th>fips_y</th>\n",
       "      <th>Part_Score</th>\n",
       "      <th>Year_y</th>\n",
       "      <th>category</th>\n",
       "    </tr>\n",
       "  </thead>\n",
       "  <tbody>\n",
       "    <tr>\n",
       "      <th>0</th>\n",
       "      <td>Mississippi</td>\n",
       "      <td>5-14 years</td>\n",
       "      <td>5-14</td>\n",
       "      <td>98.0</td>\n",
       "      <td>395659.0</td>\n",
       "      <td>24.8</td>\n",
       "      <td>24.77</td>\n",
       "      <td>28</td>\n",
       "      <td>2019</td>\n",
       "      <td>MS</td>\n",
       "      <td>MS</td>\n",
       "      <td>28</td>\n",
       "      <td>0.800000</td>\n",
       "      <td>2024</td>\n",
       "      <td>Right</td>\n",
       "    </tr>\n",
       "    <tr>\n",
       "      <th>1</th>\n",
       "      <td>Idaho</td>\n",
       "      <td>5-14 years</td>\n",
       "      <td>5-14</td>\n",
       "      <td>59.0</td>\n",
       "      <td>254788.0</td>\n",
       "      <td>23.2</td>\n",
       "      <td>23.16</td>\n",
       "      <td>16</td>\n",
       "      <td>2019</td>\n",
       "      <td>ID</td>\n",
       "      <td>ID</td>\n",
       "      <td>16</td>\n",
       "      <td>1.000000</td>\n",
       "      <td>2024</td>\n",
       "      <td>Right</td>\n",
       "    </tr>\n",
       "    <tr>\n",
       "      <th>2</th>\n",
       "      <td>Alaska</td>\n",
       "      <td>5-14 years</td>\n",
       "      <td>5-14</td>\n",
       "      <td>22.0</td>\n",
       "      <td>100662.0</td>\n",
       "      <td>21.9</td>\n",
       "      <td>21.86</td>\n",
       "      <td>02</td>\n",
       "      <td>2019</td>\n",
       "      <td>AK</td>\n",
       "      <td>AK</td>\n",
       "      <td>02</td>\n",
       "      <td>0.466667</td>\n",
       "      <td>2024</td>\n",
       "      <td>Right</td>\n",
       "    </tr>\n",
       "    <tr>\n",
       "      <th>3</th>\n",
       "      <td>Alabama</td>\n",
       "      <td>5-14 years</td>\n",
       "      <td>5-14</td>\n",
       "      <td>126.0</td>\n",
       "      <td>608466.0</td>\n",
       "      <td>20.7</td>\n",
       "      <td>20.71</td>\n",
       "      <td>01</td>\n",
       "      <td>2019</td>\n",
       "      <td>AL</td>\n",
       "      <td>AL</td>\n",
       "      <td>01</td>\n",
       "      <td>0.866667</td>\n",
       "      <td>2024</td>\n",
       "      <td>Right</td>\n",
       "    </tr>\n",
       "    <tr>\n",
       "      <th>4</th>\n",
       "      <td>Wyoming</td>\n",
       "      <td>5-14 years</td>\n",
       "      <td>5-14</td>\n",
       "      <td>15.0</td>\n",
       "      <td>76734.0</td>\n",
       "      <td>Unreliable</td>\n",
       "      <td>19.55</td>\n",
       "      <td>56</td>\n",
       "      <td>2019</td>\n",
       "      <td>WY</td>\n",
       "      <td>WY</td>\n",
       "      <td>56</td>\n",
       "      <td>0.866667</td>\n",
       "      <td>2024</td>\n",
       "      <td>Right</td>\n",
       "    </tr>\n",
       "    <tr>\n",
       "      <th>5</th>\n",
       "      <td>Oklahoma</td>\n",
       "      <td>5-14 years</td>\n",
       "      <td>5-14</td>\n",
       "      <td>101.0</td>\n",
       "      <td>538048.0</td>\n",
       "      <td>18.8</td>\n",
       "      <td>18.77</td>\n",
       "      <td>40</td>\n",
       "      <td>2019</td>\n",
       "      <td>OK</td>\n",
       "      <td>OK</td>\n",
       "      <td>40</td>\n",
       "      <td>0.866667</td>\n",
       "      <td>2024</td>\n",
       "      <td>Right</td>\n",
       "    </tr>\n",
       "    <tr>\n",
       "      <th>6</th>\n",
       "      <td>Louisiana</td>\n",
       "      <td>5-14 years</td>\n",
       "      <td>5-14</td>\n",
       "      <td>113.0</td>\n",
       "      <td>607936.0</td>\n",
       "      <td>18.6</td>\n",
       "      <td>18.59</td>\n",
       "      <td>22</td>\n",
       "      <td>2019</td>\n",
       "      <td>LA</td>\n",
       "      <td>LA</td>\n",
       "      <td>22</td>\n",
       "      <td>0.333333</td>\n",
       "      <td>2024</td>\n",
       "      <td>Right</td>\n",
       "    </tr>\n",
       "    <tr>\n",
       "      <th>7</th>\n",
       "      <td>Montana</td>\n",
       "      <td>5-14 years</td>\n",
       "      <td>5-14</td>\n",
       "      <td>24.0</td>\n",
       "      <td>129305.0</td>\n",
       "      <td>18.6</td>\n",
       "      <td>18.56</td>\n",
       "      <td>30</td>\n",
       "      <td>2019</td>\n",
       "      <td>MT</td>\n",
       "      <td>MT</td>\n",
       "      <td>30</td>\n",
       "      <td>0.200000</td>\n",
       "      <td>2024</td>\n",
       "      <td>Center</td>\n",
       "    </tr>\n",
       "    <tr>\n",
       "      <th>8</th>\n",
       "      <td>Arkansas</td>\n",
       "      <td>5-14 years</td>\n",
       "      <td>5-14</td>\n",
       "      <td>70.0</td>\n",
       "      <td>393213.0</td>\n",
       "      <td>17.8</td>\n",
       "      <td>17.80</td>\n",
       "      <td>05</td>\n",
       "      <td>2019</td>\n",
       "      <td>AR</td>\n",
       "      <td>AR</td>\n",
       "      <td>05</td>\n",
       "      <td>0.333333</td>\n",
       "      <td>2024</td>\n",
       "      <td>Right</td>\n",
       "    </tr>\n",
       "    <tr>\n",
       "      <th>9</th>\n",
       "      <td>Kentucky</td>\n",
       "      <td>5-14 years</td>\n",
       "      <td>5-14</td>\n",
       "      <td>97.0</td>\n",
       "      <td>560417.0</td>\n",
       "      <td>17.3</td>\n",
       "      <td>17.31</td>\n",
       "      <td>21</td>\n",
       "      <td>2019</td>\n",
       "      <td>KY</td>\n",
       "      <td>KY</td>\n",
       "      <td>21</td>\n",
       "      <td>0.200000</td>\n",
       "      <td>2024</td>\n",
       "      <td>Center</td>\n",
       "    </tr>\n",
       "    <tr>\n",
       "      <th>10</th>\n",
       "      <td>Tennessee</td>\n",
       "      <td>5-14 years</td>\n",
       "      <td>5-14</td>\n",
       "      <td>144.0</td>\n",
       "      <td>844681.0</td>\n",
       "      <td>17.0</td>\n",
       "      <td>17.05</td>\n",
       "      <td>47</td>\n",
       "      <td>2019</td>\n",
       "      <td>TN</td>\n",
       "      <td>TN</td>\n",
       "      <td>47</td>\n",
       "      <td>0.866667</td>\n",
       "      <td>2024</td>\n",
       "      <td>Right</td>\n",
       "    </tr>\n",
       "    <tr>\n",
       "      <th>11</th>\n",
       "      <td>Iowa</td>\n",
       "      <td>5-14 years</td>\n",
       "      <td>5-14</td>\n",
       "      <td>66.0</td>\n",
       "      <td>408495.0</td>\n",
       "      <td>16.2</td>\n",
       "      <td>16.16</td>\n",
       "      <td>19</td>\n",
       "      <td>2019</td>\n",
       "      <td>IA</td>\n",
       "      <td>IA</td>\n",
       "      <td>19</td>\n",
       "      <td>0.333333</td>\n",
       "      <td>2024</td>\n",
       "      <td>Right</td>\n",
       "    </tr>\n",
       "    <tr>\n",
       "      <th>12</th>\n",
       "      <td>New Mexico</td>\n",
       "      <td>5-14 years</td>\n",
       "      <td>5-14</td>\n",
       "      <td>44.0</td>\n",
       "      <td>272268.0</td>\n",
       "      <td>16.2</td>\n",
       "      <td>16.16</td>\n",
       "      <td>35</td>\n",
       "      <td>2019</td>\n",
       "      <td>NM</td>\n",
       "      <td>NM</td>\n",
       "      <td>35</td>\n",
       "      <td>-0.466667</td>\n",
       "      <td>2024</td>\n",
       "      <td>Left</td>\n",
       "    </tr>\n",
       "    <tr>\n",
       "      <th>13</th>\n",
       "      <td>North Dakota</td>\n",
       "      <td>5-14 years</td>\n",
       "      <td>5-14</td>\n",
       "      <td>16.0</td>\n",
       "      <td>99495.0</td>\n",
       "      <td>Unreliable</td>\n",
       "      <td>16.08</td>\n",
       "      <td>38</td>\n",
       "      <td>2019</td>\n",
       "      <td>ND</td>\n",
       "      <td>ND</td>\n",
       "      <td>38</td>\n",
       "      <td>1.000000</td>\n",
       "      <td>2024</td>\n",
       "      <td>Right</td>\n",
       "    </tr>\n",
       "    <tr>\n",
       "      <th>14</th>\n",
       "      <td>Missouri</td>\n",
       "      <td>5-14 years</td>\n",
       "      <td>5-14</td>\n",
       "      <td>123.0</td>\n",
       "      <td>769540.0</td>\n",
       "      <td>16.0</td>\n",
       "      <td>15.98</td>\n",
       "      <td>29</td>\n",
       "      <td>2019</td>\n",
       "      <td>MO</td>\n",
       "      <td>MO</td>\n",
       "      <td>29</td>\n",
       "      <td>0.466667</td>\n",
       "      <td>2024</td>\n",
       "      <td>Right</td>\n",
       "    </tr>\n",
       "    <tr>\n",
       "      <th>15</th>\n",
       "      <td>Michigan</td>\n",
       "      <td>5-14 years</td>\n",
       "      <td>5-14</td>\n",
       "      <td>190.0</td>\n",
       "      <td>1196689.0</td>\n",
       "      <td>15.9</td>\n",
       "      <td>15.88</td>\n",
       "      <td>26</td>\n",
       "      <td>2019</td>\n",
       "      <td>MI</td>\n",
       "      <td>MI</td>\n",
       "      <td>26</td>\n",
       "      <td>0.400000</td>\n",
       "      <td>2024</td>\n",
       "      <td>Right</td>\n",
       "    </tr>\n",
       "    <tr>\n",
       "      <th>16</th>\n",
       "      <td>Georgia</td>\n",
       "      <td>5-14 years</td>\n",
       "      <td>5-14</td>\n",
       "      <td>223.0</td>\n",
       "      <td>1413003.0</td>\n",
       "      <td>15.8</td>\n",
       "      <td>15.78</td>\n",
       "      <td>13</td>\n",
       "      <td>2019</td>\n",
       "      <td>GA</td>\n",
       "      <td>GA</td>\n",
       "      <td>13</td>\n",
       "      <td>1.000000</td>\n",
       "      <td>2024</td>\n",
       "      <td>Right</td>\n",
       "    </tr>\n",
       "    <tr>\n",
       "      <th>17</th>\n",
       "      <td>Kansas</td>\n",
       "      <td>5-14 years</td>\n",
       "      <td>5-14</td>\n",
       "      <td>61.0</td>\n",
       "      <td>396266.0</td>\n",
       "      <td>15.4</td>\n",
       "      <td>15.39</td>\n",
       "      <td>20</td>\n",
       "      <td>2019</td>\n",
       "      <td>KS</td>\n",
       "      <td>KS</td>\n",
       "      <td>20</td>\n",
       "      <td>0.533333</td>\n",
       "      <td>2024</td>\n",
       "      <td>Right</td>\n",
       "    </tr>\n",
       "    <tr>\n",
       "      <th>18</th>\n",
       "      <td>Arizona</td>\n",
       "      <td>5-14 years</td>\n",
       "      <td>5-14</td>\n",
       "      <td>143.0</td>\n",
       "      <td>930745.0</td>\n",
       "      <td>15.4</td>\n",
       "      <td>15.36</td>\n",
       "      <td>04</td>\n",
       "      <td>2019</td>\n",
       "      <td>AZ</td>\n",
       "      <td>AZ</td>\n",
       "      <td>04</td>\n",
       "      <td>0.866667</td>\n",
       "      <td>2024</td>\n",
       "      <td>Right</td>\n",
       "    </tr>\n",
       "    <tr>\n",
       "      <th>19</th>\n",
       "      <td>South Carolina</td>\n",
       "      <td>5-14 years</td>\n",
       "      <td>5-14</td>\n",
       "      <td>96.0</td>\n",
       "      <td>630716.0</td>\n",
       "      <td>15.2</td>\n",
       "      <td>15.22</td>\n",
       "      <td>45</td>\n",
       "      <td>2019</td>\n",
       "      <td>SC</td>\n",
       "      <td>SC</td>\n",
       "      <td>45</td>\n",
       "      <td>1.000000</td>\n",
       "      <td>2024</td>\n",
       "      <td>Right</td>\n",
       "    </tr>\n",
       "    <tr>\n",
       "      <th>20</th>\n",
       "      <td>Indiana</td>\n",
       "      <td>5-14 years</td>\n",
       "      <td>5-14</td>\n",
       "      <td>133.0</td>\n",
       "      <td>878981.0</td>\n",
       "      <td>15.1</td>\n",
       "      <td>15.13</td>\n",
       "      <td>18</td>\n",
       "      <td>2019</td>\n",
       "      <td>IN</td>\n",
       "      <td>IN</td>\n",
       "      <td>18</td>\n",
       "      <td>0.866667</td>\n",
       "      <td>2024</td>\n",
       "      <td>Right</td>\n",
       "    </tr>\n",
       "    <tr>\n",
       "      <th>21</th>\n",
       "      <td>Colorado</td>\n",
       "      <td>5-14 years</td>\n",
       "      <td>5-14</td>\n",
       "      <td>105.0</td>\n",
       "      <td>710322.0</td>\n",
       "      <td>14.8</td>\n",
       "      <td>14.78</td>\n",
       "      <td>08</td>\n",
       "      <td>2019</td>\n",
       "      <td>CO</td>\n",
       "      <td>CO</td>\n",
       "      <td>08</td>\n",
       "      <td>-0.600000</td>\n",
       "      <td>2024</td>\n",
       "      <td>Left</td>\n",
       "    </tr>\n",
       "    <tr>\n",
       "      <th>22</th>\n",
       "      <td>Ohio</td>\n",
       "      <td>5-14 years</td>\n",
       "      <td>5-14</td>\n",
       "      <td>212.0</td>\n",
       "      <td>1440279.0</td>\n",
       "      <td>14.7</td>\n",
       "      <td>14.72</td>\n",
       "      <td>39</td>\n",
       "      <td>2019</td>\n",
       "      <td>OH</td>\n",
       "      <td>OH</td>\n",
       "      <td>39</td>\n",
       "      <td>0.866667</td>\n",
       "      <td>2024</td>\n",
       "      <td>Right</td>\n",
       "    </tr>\n",
       "    <tr>\n",
       "      <th>23</th>\n",
       "      <td>Hawaii</td>\n",
       "      <td>5-14 years</td>\n",
       "      <td>5-14</td>\n",
       "      <td>24.0</td>\n",
       "      <td>167586.0</td>\n",
       "      <td>14.3</td>\n",
       "      <td>14.32</td>\n",
       "      <td>15</td>\n",
       "      <td>2019</td>\n",
       "      <td>HI</td>\n",
       "      <td>HI</td>\n",
       "      <td>15</td>\n",
       "      <td>-0.866667</td>\n",
       "      <td>2024</td>\n",
       "      <td>Left</td>\n",
       "    </tr>\n",
       "    <tr>\n",
       "      <th>24</th>\n",
       "      <td>New Hampshire</td>\n",
       "      <td>5-14 years</td>\n",
       "      <td>5-14</td>\n",
       "      <td>20.0</td>\n",
       "      <td>143449.0</td>\n",
       "      <td>13.9</td>\n",
       "      <td>13.94</td>\n",
       "      <td>33</td>\n",
       "      <td>2019</td>\n",
       "      <td>NH</td>\n",
       "      <td>NH</td>\n",
       "      <td>33</td>\n",
       "      <td>0.200000</td>\n",
       "      <td>2024</td>\n",
       "      <td>Center</td>\n",
       "    </tr>\n",
       "    <tr>\n",
       "      <th>25</th>\n",
       "      <td>Texas</td>\n",
       "      <td>5-14 years</td>\n",
       "      <td>5-14</td>\n",
       "      <td>575.0</td>\n",
       "      <td>4166702.0</td>\n",
       "      <td>13.8</td>\n",
       "      <td>13.80</td>\n",
       "      <td>48</td>\n",
       "      <td>2019</td>\n",
       "      <td>TX</td>\n",
       "      <td>TX</td>\n",
       "      <td>48</td>\n",
       "      <td>1.000000</td>\n",
       "      <td>2024</td>\n",
       "      <td>Right</td>\n",
       "    </tr>\n",
       "    <tr>\n",
       "      <th>26</th>\n",
       "      <td>Pennsylvania</td>\n",
       "      <td>5-14 years</td>\n",
       "      <td>5-14</td>\n",
       "      <td>201.0</td>\n",
       "      <td>1475640.0</td>\n",
       "      <td>13.6</td>\n",
       "      <td>13.62</td>\n",
       "      <td>42</td>\n",
       "      <td>2019</td>\n",
       "      <td>PA</td>\n",
       "      <td>PA</td>\n",
       "      <td>42</td>\n",
       "      <td>0.266667</td>\n",
       "      <td>2024</td>\n",
       "      <td>Center</td>\n",
       "    </tr>\n",
       "    <tr>\n",
       "      <th>27</th>\n",
       "      <td>Utah</td>\n",
       "      <td>5-14 years</td>\n",
       "      <td>5-14</td>\n",
       "      <td>71.0</td>\n",
       "      <td>526961.0</td>\n",
       "      <td>13.5</td>\n",
       "      <td>13.47</td>\n",
       "      <td>49</td>\n",
       "      <td>2019</td>\n",
       "      <td>UT</td>\n",
       "      <td>UT</td>\n",
       "      <td>49</td>\n",
       "      <td>1.000000</td>\n",
       "      <td>2024</td>\n",
       "      <td>Right</td>\n",
       "    </tr>\n",
       "    <tr>\n",
       "      <th>28</th>\n",
       "      <td>Wisconsin</td>\n",
       "      <td>5-14 years</td>\n",
       "      <td>5-14</td>\n",
       "      <td>96.0</td>\n",
       "      <td>714031.0</td>\n",
       "      <td>13.4</td>\n",
       "      <td>13.44</td>\n",
       "      <td>55</td>\n",
       "      <td>2019</td>\n",
       "      <td>WI</td>\n",
       "      <td>WI</td>\n",
       "      <td>55</td>\n",
       "      <td>0.400000</td>\n",
       "      <td>2024</td>\n",
       "      <td>Right</td>\n",
       "    </tr>\n",
       "    <tr>\n",
       "      <th>29</th>\n",
       "      <td>West Virginia</td>\n",
       "      <td>5-14 years</td>\n",
       "      <td>5-14</td>\n",
       "      <td>27.0</td>\n",
       "      <td>203472.0</td>\n",
       "      <td>13.3</td>\n",
       "      <td>13.27</td>\n",
       "      <td>54</td>\n",
       "      <td>2019</td>\n",
       "      <td>WV</td>\n",
       "      <td>WV</td>\n",
       "      <td>54</td>\n",
       "      <td>0.000000</td>\n",
       "      <td>2024</td>\n",
       "      <td>Center</td>\n",
       "    </tr>\n",
       "    <tr>\n",
       "      <th>30</th>\n",
       "      <td>South Dakota</td>\n",
       "      <td>5-14 years</td>\n",
       "      <td>5-14</td>\n",
       "      <td>16.0</td>\n",
       "      <td>121666.0</td>\n",
       "      <td>Unreliable</td>\n",
       "      <td>13.15</td>\n",
       "      <td>46</td>\n",
       "      <td>2019</td>\n",
       "      <td>SD</td>\n",
       "      <td>SD</td>\n",
       "      <td>46</td>\n",
       "      <td>1.000000</td>\n",
       "      <td>2024</td>\n",
       "      <td>Right</td>\n",
       "    </tr>\n",
       "    <tr>\n",
       "      <th>31</th>\n",
       "      <td>North Carolina</td>\n",
       "      <td>5-14 years</td>\n",
       "      <td>5-14</td>\n",
       "      <td>168.0</td>\n",
       "      <td>1294472.0</td>\n",
       "      <td>13.0</td>\n",
       "      <td>12.98</td>\n",
       "      <td>37</td>\n",
       "      <td>2019</td>\n",
       "      <td>NC</td>\n",
       "      <td>NC</td>\n",
       "      <td>37</td>\n",
       "      <td>0.133333</td>\n",
       "      <td>2024</td>\n",
       "      <td>Center</td>\n",
       "    </tr>\n",
       "    <tr>\n",
       "      <th>32</th>\n",
       "      <td>Maine</td>\n",
       "      <td>5-14 years</td>\n",
       "      <td>5-14</td>\n",
       "      <td>18.0</td>\n",
       "      <td>140100.0</td>\n",
       "      <td>Unreliable</td>\n",
       "      <td>12.85</td>\n",
       "      <td>23</td>\n",
       "      <td>2019</td>\n",
       "      <td>ME</td>\n",
       "      <td>ME</td>\n",
       "      <td>23</td>\n",
       "      <td>-0.333333</td>\n",
       "      <td>2024</td>\n",
       "      <td>Left</td>\n",
       "    </tr>\n",
       "    <tr>\n",
       "      <th>33</th>\n",
       "      <td>Florida</td>\n",
       "      <td>5-14 years</td>\n",
       "      <td>5-14</td>\n",
       "      <td>304.0</td>\n",
       "      <td>2372397.0</td>\n",
       "      <td>12.8</td>\n",
       "      <td>12.81</td>\n",
       "      <td>12</td>\n",
       "      <td>2019</td>\n",
       "      <td>FL</td>\n",
       "      <td>FL</td>\n",
       "      <td>12</td>\n",
       "      <td>1.000000</td>\n",
       "      <td>2024</td>\n",
       "      <td>Right</td>\n",
       "    </tr>\n",
       "    <tr>\n",
       "      <th>34</th>\n",
       "      <td>Nevada</td>\n",
       "      <td>5-14 years</td>\n",
       "      <td>5-14</td>\n",
       "      <td>47.0</td>\n",
       "      <td>392066.0</td>\n",
       "      <td>12.0</td>\n",
       "      <td>11.99</td>\n",
       "      <td>32</td>\n",
       "      <td>2019</td>\n",
       "      <td>NV</td>\n",
       "      <td>NV</td>\n",
       "      <td>32</td>\n",
       "      <td>-0.071429</td>\n",
       "      <td>2024</td>\n",
       "      <td>Center</td>\n",
       "    </tr>\n",
       "    <tr>\n",
       "      <th>35</th>\n",
       "      <td>New York</td>\n",
       "      <td>5-14 years</td>\n",
       "      <td>5-14</td>\n",
       "      <td>264.0</td>\n",
       "      <td>2218596.0</td>\n",
       "      <td>11.9</td>\n",
       "      <td>11.90</td>\n",
       "      <td>36</td>\n",
       "      <td>2019</td>\n",
       "      <td>NY</td>\n",
       "      <td>NY</td>\n",
       "      <td>36</td>\n",
       "      <td>-0.666667</td>\n",
       "      <td>2024</td>\n",
       "      <td>Left</td>\n",
       "    </tr>\n",
       "    <tr>\n",
       "      <th>36</th>\n",
       "      <td>Washington</td>\n",
       "      <td>5-14 years</td>\n",
       "      <td>5-14</td>\n",
       "      <td>106.0</td>\n",
       "      <td>935771.0</td>\n",
       "      <td>11.3</td>\n",
       "      <td>11.33</td>\n",
       "      <td>53</td>\n",
       "      <td>2019</td>\n",
       "      <td>WA</td>\n",
       "      <td>WA</td>\n",
       "      <td>53</td>\n",
       "      <td>-0.866667</td>\n",
       "      <td>2024</td>\n",
       "      <td>Left</td>\n",
       "    </tr>\n",
       "    <tr>\n",
       "      <th>37</th>\n",
       "      <td>Virginia</td>\n",
       "      <td>5-14 years</td>\n",
       "      <td>5-14</td>\n",
       "      <td>117.0</td>\n",
       "      <td>1040121.0</td>\n",
       "      <td>11.2</td>\n",
       "      <td>11.25</td>\n",
       "      <td>51</td>\n",
       "      <td>2019</td>\n",
       "      <td>VA</td>\n",
       "      <td>VA</td>\n",
       "      <td>51</td>\n",
       "      <td>-0.133333</td>\n",
       "      <td>2024</td>\n",
       "      <td>Center</td>\n",
       "    </tr>\n",
       "    <tr>\n",
       "      <th>38</th>\n",
       "      <td>Minnesota</td>\n",
       "      <td>5-14 years</td>\n",
       "      <td>5-14</td>\n",
       "      <td>80.0</td>\n",
       "      <td>732593.0</td>\n",
       "      <td>10.9</td>\n",
       "      <td>10.92</td>\n",
       "      <td>27</td>\n",
       "      <td>2019</td>\n",
       "      <td>MN</td>\n",
       "      <td>MN</td>\n",
       "      <td>27</td>\n",
       "      <td>-0.266667</td>\n",
       "      <td>2024</td>\n",
       "      <td>Center</td>\n",
       "    </tr>\n",
       "    <tr>\n",
       "      <th>39</th>\n",
       "      <td>Illinois</td>\n",
       "      <td>5-14 years</td>\n",
       "      <td>5-14</td>\n",
       "      <td>170.0</td>\n",
       "      <td>1575745.0</td>\n",
       "      <td>10.8</td>\n",
       "      <td>10.79</td>\n",
       "      <td>17</td>\n",
       "      <td>2019</td>\n",
       "      <td>IL</td>\n",
       "      <td>IL</td>\n",
       "      <td>17</td>\n",
       "      <td>-0.733333</td>\n",
       "      <td>2024</td>\n",
       "      <td>Left</td>\n",
       "    </tr>\n",
       "    <tr>\n",
       "      <th>40</th>\n",
       "      <td>Rhode Island</td>\n",
       "      <td>5-14 years</td>\n",
       "      <td>5-14</td>\n",
       "      <td>12.0</td>\n",
       "      <td>112868.0</td>\n",
       "      <td>Unreliable</td>\n",
       "      <td>10.63</td>\n",
       "      <td>44</td>\n",
       "      <td>2019</td>\n",
       "      <td>RI</td>\n",
       "      <td>RI</td>\n",
       "      <td>44</td>\n",
       "      <td>-0.666667</td>\n",
       "      <td>2024</td>\n",
       "      <td>Left</td>\n",
       "    </tr>\n",
       "    <tr>\n",
       "      <th>41</th>\n",
       "      <td>Maryland</td>\n",
       "      <td>5-14 years</td>\n",
       "      <td>5-14</td>\n",
       "      <td>77.0</td>\n",
       "      <td>747869.0</td>\n",
       "      <td>10.3</td>\n",
       "      <td>10.30</td>\n",
       "      <td>24</td>\n",
       "      <td>2019</td>\n",
       "      <td>MD</td>\n",
       "      <td>MD</td>\n",
       "      <td>24</td>\n",
       "      <td>-0.533333</td>\n",
       "      <td>2024</td>\n",
       "      <td>Left</td>\n",
       "    </tr>\n",
       "    <tr>\n",
       "      <th>42</th>\n",
       "      <td>New Jersey</td>\n",
       "      <td>5-14 years</td>\n",
       "      <td>5-14</td>\n",
       "      <td>111.0</td>\n",
       "      <td>1083967.0</td>\n",
       "      <td>10.2</td>\n",
       "      <td>10.24</td>\n",
       "      <td>34</td>\n",
       "      <td>2019</td>\n",
       "      <td>NJ</td>\n",
       "      <td>NJ</td>\n",
       "      <td>34</td>\n",
       "      <td>-0.466667</td>\n",
       "      <td>2024</td>\n",
       "      <td>Left</td>\n",
       "    </tr>\n",
       "    <tr>\n",
       "      <th>43</th>\n",
       "      <td>Oregon</td>\n",
       "      <td>5-14 years</td>\n",
       "      <td>5-14</td>\n",
       "      <td>49.0</td>\n",
       "      <td>491536.0</td>\n",
       "      <td>10.0</td>\n",
       "      <td>9.97</td>\n",
       "      <td>41</td>\n",
       "      <td>2019</td>\n",
       "      <td>OR</td>\n",
       "      <td>OR</td>\n",
       "      <td>41</td>\n",
       "      <td>-0.866667</td>\n",
       "      <td>2024</td>\n",
       "      <td>Left</td>\n",
       "    </tr>\n",
       "    <tr>\n",
       "      <th>44</th>\n",
       "      <td>California</td>\n",
       "      <td>5-14 years</td>\n",
       "      <td>5-14</td>\n",
       "      <td>490.0</td>\n",
       "      <td>5007987.0</td>\n",
       "      <td>9.8</td>\n",
       "      <td>9.78</td>\n",
       "      <td>06</td>\n",
       "      <td>2019</td>\n",
       "      <td>CA</td>\n",
       "      <td>CA</td>\n",
       "      <td>06</td>\n",
       "      <td>-0.866667</td>\n",
       "      <td>2024</td>\n",
       "      <td>Left</td>\n",
       "    </tr>\n",
       "    <tr>\n",
       "      <th>45</th>\n",
       "      <td>Delaware</td>\n",
       "      <td>5-14 years</td>\n",
       "      <td>5-14</td>\n",
       "      <td>11.0</td>\n",
       "      <td>113975.0</td>\n",
       "      <td>Unreliable</td>\n",
       "      <td>9.65</td>\n",
       "      <td>10</td>\n",
       "      <td>2019</td>\n",
       "      <td>DE</td>\n",
       "      <td>DE</td>\n",
       "      <td>10</td>\n",
       "      <td>-1.000000</td>\n",
       "      <td>2024</td>\n",
       "      <td>Left</td>\n",
       "    </tr>\n",
       "    <tr>\n",
       "      <th>46</th>\n",
       "      <td>Massachusetts</td>\n",
       "      <td>5-14 years</td>\n",
       "      <td>5-14</td>\n",
       "      <td>66.0</td>\n",
       "      <td>751035.0</td>\n",
       "      <td>8.8</td>\n",
       "      <td>8.79</td>\n",
       "      <td>25</td>\n",
       "      <td>2019</td>\n",
       "      <td>MA</td>\n",
       "      <td>MA</td>\n",
       "      <td>25</td>\n",
       "      <td>-0.533333</td>\n",
       "      <td>2024</td>\n",
       "      <td>Left</td>\n",
       "    </tr>\n",
       "    <tr>\n",
       "      <th>47</th>\n",
       "      <td>Connecticut</td>\n",
       "      <td>5-14 years</td>\n",
       "      <td>5-14</td>\n",
       "      <td>35.0</td>\n",
       "      <td>409000.0</td>\n",
       "      <td>8.6</td>\n",
       "      <td>8.56</td>\n",
       "      <td>09</td>\n",
       "      <td>2019</td>\n",
       "      <td>CT</td>\n",
       "      <td>CT</td>\n",
       "      <td>09</td>\n",
       "      <td>-0.733333</td>\n",
       "      <td>2024</td>\n",
       "      <td>Left</td>\n",
       "    </tr>\n",
       "  </tbody>\n",
       "</table>\n",
       "</div>"
      ],
      "text/plain": [
       "           State_x Ten-Year Age Groups Ten-Year Age Groups Code  Deaths  \\\n",
       "0      Mississippi          5-14 years                     5-14    98.0   \n",
       "1            Idaho          5-14 years                     5-14    59.0   \n",
       "2           Alaska          5-14 years                     5-14    22.0   \n",
       "3          Alabama          5-14 years                     5-14   126.0   \n",
       "4          Wyoming          5-14 years                     5-14    15.0   \n",
       "5         Oklahoma          5-14 years                     5-14   101.0   \n",
       "6        Louisiana          5-14 years                     5-14   113.0   \n",
       "7          Montana          5-14 years                     5-14    24.0   \n",
       "8         Arkansas          5-14 years                     5-14    70.0   \n",
       "9         Kentucky          5-14 years                     5-14    97.0   \n",
       "10       Tennessee          5-14 years                     5-14   144.0   \n",
       "11            Iowa          5-14 years                     5-14    66.0   \n",
       "12      New Mexico          5-14 years                     5-14    44.0   \n",
       "13    North Dakota          5-14 years                     5-14    16.0   \n",
       "14        Missouri          5-14 years                     5-14   123.0   \n",
       "15        Michigan          5-14 years                     5-14   190.0   \n",
       "16         Georgia          5-14 years                     5-14   223.0   \n",
       "17          Kansas          5-14 years                     5-14    61.0   \n",
       "18         Arizona          5-14 years                     5-14   143.0   \n",
       "19  South Carolina          5-14 years                     5-14    96.0   \n",
       "20         Indiana          5-14 years                     5-14   133.0   \n",
       "21        Colorado          5-14 years                     5-14   105.0   \n",
       "22            Ohio          5-14 years                     5-14   212.0   \n",
       "23          Hawaii          5-14 years                     5-14    24.0   \n",
       "24   New Hampshire          5-14 years                     5-14    20.0   \n",
       "25           Texas          5-14 years                     5-14   575.0   \n",
       "26    Pennsylvania          5-14 years                     5-14   201.0   \n",
       "27            Utah          5-14 years                     5-14    71.0   \n",
       "28       Wisconsin          5-14 years                     5-14    96.0   \n",
       "29   West Virginia          5-14 years                     5-14    27.0   \n",
       "30    South Dakota          5-14 years                     5-14    16.0   \n",
       "31  North Carolina          5-14 years                     5-14   168.0   \n",
       "32           Maine          5-14 years                     5-14    18.0   \n",
       "33         Florida          5-14 years                     5-14   304.0   \n",
       "34          Nevada          5-14 years                     5-14    47.0   \n",
       "35        New York          5-14 years                     5-14   264.0   \n",
       "36      Washington          5-14 years                     5-14   106.0   \n",
       "37        Virginia          5-14 years                     5-14   117.0   \n",
       "38       Minnesota          5-14 years                     5-14    80.0   \n",
       "39        Illinois          5-14 years                     5-14   170.0   \n",
       "40    Rhode Island          5-14 years                     5-14    12.0   \n",
       "41        Maryland          5-14 years                     5-14    77.0   \n",
       "42      New Jersey          5-14 years                     5-14   111.0   \n",
       "43          Oregon          5-14 years                     5-14    49.0   \n",
       "44      California          5-14 years                     5-14   490.0   \n",
       "45        Delaware          5-14 years                     5-14    11.0   \n",
       "46   Massachusetts          5-14 years                     5-14    66.0   \n",
       "47     Connecticut          5-14 years                     5-14    35.0   \n",
       "\n",
       "    Population  Crude Rate   Rate fips_x  Year_x State_Abv State_y fips_y  \\\n",
       "0     395659.0        24.8  24.77     28    2019        MS      MS     28   \n",
       "1     254788.0        23.2  23.16     16    2019        ID      ID     16   \n",
       "2     100662.0        21.9  21.86     02    2019        AK      AK     02   \n",
       "3     608466.0        20.7  20.71     01    2019        AL      AL     01   \n",
       "4      76734.0  Unreliable  19.55     56    2019        WY      WY     56   \n",
       "5     538048.0        18.8  18.77     40    2019        OK      OK     40   \n",
       "6     607936.0        18.6  18.59     22    2019        LA      LA     22   \n",
       "7     129305.0        18.6  18.56     30    2019        MT      MT     30   \n",
       "8     393213.0        17.8  17.80     05    2019        AR      AR     05   \n",
       "9     560417.0        17.3  17.31     21    2019        KY      KY     21   \n",
       "10    844681.0        17.0  17.05     47    2019        TN      TN     47   \n",
       "11    408495.0        16.2  16.16     19    2019        IA      IA     19   \n",
       "12    272268.0        16.2  16.16     35    2019        NM      NM     35   \n",
       "13     99495.0  Unreliable  16.08     38    2019        ND      ND     38   \n",
       "14    769540.0        16.0  15.98     29    2019        MO      MO     29   \n",
       "15   1196689.0        15.9  15.88     26    2019        MI      MI     26   \n",
       "16   1413003.0        15.8  15.78     13    2019        GA      GA     13   \n",
       "17    396266.0        15.4  15.39     20    2019        KS      KS     20   \n",
       "18    930745.0        15.4  15.36     04    2019        AZ      AZ     04   \n",
       "19    630716.0        15.2  15.22     45    2019        SC      SC     45   \n",
       "20    878981.0        15.1  15.13     18    2019        IN      IN     18   \n",
       "21    710322.0        14.8  14.78     08    2019        CO      CO     08   \n",
       "22   1440279.0        14.7  14.72     39    2019        OH      OH     39   \n",
       "23    167586.0        14.3  14.32     15    2019        HI      HI     15   \n",
       "24    143449.0        13.9  13.94     33    2019        NH      NH     33   \n",
       "25   4166702.0        13.8  13.80     48    2019        TX      TX     48   \n",
       "26   1475640.0        13.6  13.62     42    2019        PA      PA     42   \n",
       "27    526961.0        13.5  13.47     49    2019        UT      UT     49   \n",
       "28    714031.0        13.4  13.44     55    2019        WI      WI     55   \n",
       "29    203472.0        13.3  13.27     54    2019        WV      WV     54   \n",
       "30    121666.0  Unreliable  13.15     46    2019        SD      SD     46   \n",
       "31   1294472.0        13.0  12.98     37    2019        NC      NC     37   \n",
       "32    140100.0  Unreliable  12.85     23    2019        ME      ME     23   \n",
       "33   2372397.0        12.8  12.81     12    2019        FL      FL     12   \n",
       "34    392066.0        12.0  11.99     32    2019        NV      NV     32   \n",
       "35   2218596.0        11.9  11.90     36    2019        NY      NY     36   \n",
       "36    935771.0        11.3  11.33     53    2019        WA      WA     53   \n",
       "37   1040121.0        11.2  11.25     51    2019        VA      VA     51   \n",
       "38    732593.0        10.9  10.92     27    2019        MN      MN     27   \n",
       "39   1575745.0        10.8  10.79     17    2019        IL      IL     17   \n",
       "40    112868.0  Unreliable  10.63     44    2019        RI      RI     44   \n",
       "41    747869.0        10.3  10.30     24    2019        MD      MD     24   \n",
       "42   1083967.0        10.2  10.24     34    2019        NJ      NJ     34   \n",
       "43    491536.0        10.0   9.97     41    2019        OR      OR     41   \n",
       "44   5007987.0         9.8   9.78     06    2019        CA      CA     06   \n",
       "45    113975.0  Unreliable   9.65     10    2019        DE      DE     10   \n",
       "46    751035.0         8.8   8.79     25    2019        MA      MA     25   \n",
       "47    409000.0         8.6   8.56     09    2019        CT      CT     09   \n",
       "\n",
       "    Part_Score  Year_y category  \n",
       "0     0.800000    2024    Right  \n",
       "1     1.000000    2024    Right  \n",
       "2     0.466667    2024    Right  \n",
       "3     0.866667    2024    Right  \n",
       "4     0.866667    2024    Right  \n",
       "5     0.866667    2024    Right  \n",
       "6     0.333333    2024    Right  \n",
       "7     0.200000    2024   Center  \n",
       "8     0.333333    2024    Right  \n",
       "9     0.200000    2024   Center  \n",
       "10    0.866667    2024    Right  \n",
       "11    0.333333    2024    Right  \n",
       "12   -0.466667    2024     Left  \n",
       "13    1.000000    2024    Right  \n",
       "14    0.466667    2024    Right  \n",
       "15    0.400000    2024    Right  \n",
       "16    1.000000    2024    Right  \n",
       "17    0.533333    2024    Right  \n",
       "18    0.866667    2024    Right  \n",
       "19    1.000000    2024    Right  \n",
       "20    0.866667    2024    Right  \n",
       "21   -0.600000    2024     Left  \n",
       "22    0.866667    2024    Right  \n",
       "23   -0.866667    2024     Left  \n",
       "24    0.200000    2024   Center  \n",
       "25    1.000000    2024    Right  \n",
       "26    0.266667    2024   Center  \n",
       "27    1.000000    2024    Right  \n",
       "28    0.400000    2024    Right  \n",
       "29    0.000000    2024   Center  \n",
       "30    1.000000    2024    Right  \n",
       "31    0.133333    2024   Center  \n",
       "32   -0.333333    2024     Left  \n",
       "33    1.000000    2024    Right  \n",
       "34   -0.071429    2024   Center  \n",
       "35   -0.666667    2024     Left  \n",
       "36   -0.866667    2024     Left  \n",
       "37   -0.133333    2024   Center  \n",
       "38   -0.266667    2024   Center  \n",
       "39   -0.733333    2024     Left  \n",
       "40   -0.666667    2024     Left  \n",
       "41   -0.533333    2024     Left  \n",
       "42   -0.466667    2024     Left  \n",
       "43   -0.866667    2024     Left  \n",
       "44   -0.866667    2024     Left  \n",
       "45   -1.000000    2024     Left  \n",
       "46   -0.533333    2024     Left  \n",
       "47   -0.733333    2024     Left  "
      ]
     },
     "execution_count": 78,
     "metadata": {},
     "output_type": "execute_result"
    }
   ],
   "source": [
    "child"
   ]
  },
  {
   "cell_type": "code",
   "execution_count": 79,
   "metadata": {},
   "outputs": [],
   "source": [
    "import GraphGenerator\n",
    "def get_age_death(df, age):\n",
    "    age_df = df[df[\"Ten-Year Age Groups Code\"] == age]\n",
    "    part = Partisian.get_state_part_score()\n",
    "    age_df = pd.merge(age_df, part, left_on=\"State_Abv\", right_on=\"State\")\n",
    "    X = age_df['Part_Score'].values.reshape(-1,1)\n",
    "    y = age_df['Rate']\n",
    "    \n",
    "    reg = LinearRegression().fit(X, y, sample_weight=age_df['Population'])\n",
    "    x_range = np.linspace(X.min(), X.max())\n",
    "    y = reg.predict(x_range.reshape(-1,1))\n",
    "    \n",
    "    fig = make_subplots(rows=1, cols=2, vertical_spacing= 0.01, horizontal_spacing= 0.01,  subplot_titles=(\"\",\"\"), column_widths=[0.8, 0.2], shared_yaxes=True)\n",
    "    \n",
    "    fig.add_trace(go.Scatter(x=age_df['Part_Score'], y=age_df['Rate'],mode='markers', marker=dict(color=age_df[\"Part_Score\"], colorscale=\"Bluered\", size=age_df[\"Population\"]/(age_df[\"Population\"].max()/50)), name='Child', hovertext=age_df[\"State_x\"]), row=1, col=1)\n",
    "    \n",
    "    hist_x = []\n",
    "    for index, row in age_df.iterrows():\n",
    "        hist_x.extend([row[\"Rate\"] for i in range(int(round(row[\"Population\"]/1000)))])\n",
    "        row[\"Rate\"]\n",
    "    #fig.add_trace(go.Violin(y=hist_x, side=\"positive\", name=\"Death Rate Distribution\"), row=1, col=2)\n",
    "    fig.add_trace(go.Violin(y=age_df['Rate'], side=\"positive\",  name=\"Death Rate Distribution\"), row=1, col=2)\n",
    "    \n",
    "    \n",
    "    fig.add_trace(go.Scatter(x=x_range, y=y, mode='lines',  line=dict(color=\"green\", dash=\"dash\"), name='Best Fit Line'), row=1, col=1)\n",
    "    \n",
    "    fig.update_layout(title=\"Partisanship Score vs. Death Rate for \" + age + \" Year Olds\", xaxis1_title=\"Partisanship Score\", yaxis1_title=\"Death Rate (per 100,000)\")\n",
    "    fig.update_yaxes(showticklabels=False, row=1, col=2)\n",
    "    fig.update_xaxes(showline=True, linewidth=2, linecolor='black', mirror=False)\n",
    "    fig.update_layout(height=300,width=1200, plot_bgcolor='rgba(0,0,0,0)', margin=dict(l=0, r=0, t=25, b=0))\n",
    "    \n",
    "    fig.show()\n"
   ]
  },
  {
   "cell_type": "code",
   "execution_count": 80,
   "metadata": {},
   "outputs": [
    {
     "data": {
      "application/vnd.plotly.v1+json": {
       "config": {
        "plotlyServerURL": "https://plot.ly"
       },
       "data": [
        {
         "hovertext": [
          "Idaho",
          "Utah",
          "West Virginia",
          "Wisconsin",
          "Maine",
          "Kentucky",
          "Michigan",
          "Ohio",
          "Indiana",
          "Mississippi",
          "Tennessee",
          "Rhode Island",
          "Alabama",
          "Montana",
          "Oregon",
          "Iowa",
          "Pennsylvania",
          "New Hampshire",
          "Kansas",
          "Vermont",
          "Massachusetts",
          "North Carolina",
          "Oklahoma",
          "Arkansas",
          "South Dakota",
          "South Carolina",
          "Minnesota",
          "Washington",
          "Louisiana",
          "Connecticut",
          "Delaware",
          "Virginia",
          "Georgia",
          "Missouri",
          "Wyoming",
          "New Jersey",
          "Colorado",
          "Illinois",
          "Nevada",
          "North Dakota",
          "Texas",
          "Maryland",
          "New Mexico",
          "New York",
          "California",
          "Arizona",
          "Alaska",
          "Florida",
          "Hawaii"
         ],
         "marker": {
          "color": [
           1,
           1,
           0,
           0.4,
           -0.3333333333333333,
           0.2,
           0.4,
           0.8666666666666667,
           0.8666666666666667,
           0.8,
           0.8666666666666667,
           -0.6666666666666666,
           0.8666666666666667,
           0.2,
           -0.8666666666666667,
           0.3333333333333333,
           0.26666666666666666,
           0.2,
           0.5333333333333333,
           -0.4,
           -0.5333333333333333,
           0.13333333333333333,
           0.8666666666666667,
           0.3333333333333333,
           1,
           1,
           -0.26666666666666666,
           -0.8666666666666667,
           0.3333333333333333,
           -0.7333333333333333,
           -1,
           -0.13333333333333333,
           1,
           0.4666666666666667,
           0.8666666666666667,
           -0.4666666666666667,
           -0.6,
           -0.7333333333333333,
           -0.07142857142857142,
           1,
           1,
           -0.5333333333333333,
           -0.4666666666666667,
           -0.6666666666666666,
           -0.8666666666666667,
           0.8666666666666667,
           0.4666666666666667,
           1,
           -0.8666666666666667
          ],
          "colorscale": [
           [
            0,
            "rgb(0,0,255)"
           ],
           [
            1,
            "rgb(255,0,0)"
           ]
          ],
          "size": [
           1.9853409900166168,
           2.5721281436454952,
           2.676282863414621,
           8.555690101700883,
           2.2537961128018287,
           5.4589875787828435,
           14.211984860891436,
           17.08830879940681,
           8.739727890793576,
           3.487249381873078,
           8.119600557981238,
           1.8345100193906483,
           6.104120045982775,
           1.523979590475911,
           5.637024135622514,
           5.2460105141589075,
           22.145347177953873,
           2.0164807173739674,
           4.379432576822441,
           0.9626643337431953,
           10.637050807765862,
           12.62885979254407,
           4.94521541756574,
           3.9949536304787916,
           1.3992873203297744,
           6.095251558319975,
           8.175678739367816,
           8.973709268303091,
           5.471590166514191,
           6.089917129650622,
           1.3505439783635573,
           10.301115162313328,
           10.073335058131937,
           8.903894933092928,
           0.7328838188107958,
           13.543047505754515,
           5.995964504711634,
           17.801588592857733,
           2.9883469405717973,
           1.2544575819568284,
           27.236192498192963,
           7.961168026501442,
           2.7611669596157076,
           30.67303152914065,
           50,
           9.71779538731953,
           0.47883165343283823,
           38.77156109387794,
           2.7784371724327395
          ]
         },
         "mode": "markers",
         "name": "Child",
         "type": "scatter",
         "x": [
          1,
          1,
          0,
          0.4,
          -0.3333333333333333,
          0.2,
          0.4,
          0.8666666666666667,
          0.8666666666666667,
          0.8,
          0.8666666666666667,
          -0.6666666666666666,
          0.8666666666666667,
          0.2,
          -0.8666666666666667,
          0.3333333333333333,
          0.26666666666666666,
          0.2,
          0.5333333333333333,
          -0.4,
          -0.5333333333333333,
          0.13333333333333333,
          0.8666666666666667,
          0.3333333333333333,
          1,
          1,
          -0.26666666666666666,
          -0.8666666666666667,
          0.3333333333333333,
          -0.7333333333333333,
          -1,
          -0.13333333333333333,
          1,
          0.4666666666666667,
          0.8666666666666667,
          -0.4666666666666667,
          -0.6,
          -0.7333333333333333,
          -0.07142857142857142,
          1,
          1,
          -0.5333333333333333,
          -0.4666666666666667,
          -0.6666666666666666,
          -0.8666666666666667,
          0.8666666666666667,
          0.4666666666666667,
          1,
          -0.8666666666666667
         ],
         "xaxis": "x",
         "y": [
          15150.8,
          15030.85,
          14871.94,
          14818.13,
          14739.64,
          14734.69,
          14632.91,
          14600.11,
          14502.29,
          14467.09,
          14459.35,
          14440.97,
          14288.37,
          14281.34,
          14281.15,
          14187.66,
          14138.9,
          14113.29,
          14089.95,
          14019.53,
          13977.92,
          13957.68,
          13908.55,
          13890.37,
          13786.04,
          13779.67,
          13735.42,
          13685,
          13678.3,
          13593.56,
          13587.44,
          13585.79,
          13582.54,
          13500.98,
          13447.37,
          13327.16,
          13274.99,
          13163.7,
          13158.25,
          13155.8,
          13038.76,
          12798.07,
          12560.07,
          12078.02,
          11998.33,
          11712.19,
          11502.58,
          11309.06,
          10408.47
         ],
         "yaxis": "y"
        },
        {
         "name": "Death Rate Distribution",
         "side": "positive",
         "type": "violin",
         "xaxis": "x2",
         "y": [
          15150.8,
          15030.85,
          14871.94,
          14818.13,
          14739.64,
          14734.69,
          14632.91,
          14600.11,
          14502.29,
          14467.09,
          14459.35,
          14440.97,
          14288.37,
          14281.34,
          14281.15,
          14187.66,
          14138.9,
          14113.29,
          14089.95,
          14019.53,
          13977.92,
          13957.68,
          13908.55,
          13890.37,
          13786.04,
          13779.67,
          13735.42,
          13685,
          13678.3,
          13593.56,
          13587.44,
          13585.79,
          13582.54,
          13500.98,
          13447.37,
          13327.16,
          13274.99,
          13163.7,
          13158.25,
          13155.8,
          13038.76,
          12798.07,
          12560.07,
          12078.02,
          11998.33,
          11712.19,
          11502.58,
          11309.06,
          10408.47
         ],
         "yaxis": "y2"
        },
        {
         "line": {
          "color": "green",
          "dash": "dash"
         },
         "mode": "lines",
         "name": "Best Fit Line",
         "type": "scatter",
         "x": [
          -1,
          -0.9591836734693877,
          -0.9183673469387755,
          -0.8775510204081632,
          -0.8367346938775511,
          -0.7959183673469388,
          -0.7551020408163265,
          -0.7142857142857143,
          -0.6734693877551021,
          -0.6326530612244898,
          -0.5918367346938775,
          -0.5510204081632654,
          -0.5102040816326531,
          -0.4693877551020409,
          -0.4285714285714286,
          -0.3877551020408164,
          -0.34693877551020413,
          -0.30612244897959184,
          -0.26530612244897966,
          -0.22448979591836737,
          -0.1836734693877552,
          -0.1428571428571429,
          -0.10204081632653073,
          -0.061224489795918435,
          -0.020408163265306145,
          0.020408163265306145,
          0.06122448979591821,
          0.1020408163265305,
          0.1428571428571428,
          0.18367346938775508,
          0.22448979591836715,
          0.26530612244897944,
          0.30612244897959173,
          0.346938775510204,
          0.3877551020408163,
          0.4285714285714284,
          0.46938775510204067,
          0.510204081632653,
          0.5510204081632653,
          0.5918367346938773,
          0.6326530612244896,
          0.6734693877551019,
          0.7142857142857142,
          0.7551020408163265,
          0.7959183673469385,
          0.8367346938775508,
          0.8775510204081631,
          0.9183673469387754,
          0.9591836734693877,
          1
         ],
         "xaxis": "x",
         "y": [
          12895.788145768896,
          12908.11923137014,
          12920.450316971383,
          12932.781402572626,
          12945.112488173869,
          12957.443573775112,
          12969.774659376357,
          12982.1057449776,
          12994.436830578843,
          13006.767916180086,
          13019.09900178133,
          13031.430087382572,
          13043.761172983815,
          13056.092258585059,
          13068.423344186303,
          13080.754429787547,
          13093.08551538879,
          13105.416600990033,
          13117.747686591276,
          13130.078772192519,
          13142.409857793762,
          13154.740943395007,
          13167.07202899625,
          13179.403114597493,
          13191.734200198736,
          13204.06528579998,
          13216.396371401222,
          13228.727457002466,
          13241.058542603709,
          13253.389628204954,
          13265.720713806197,
          13278.05179940744,
          13290.382885008683,
          13302.713970609926,
          13315.04505621117,
          13327.376141812412,
          13339.707227413657,
          13352.0383130149,
          13364.369398616143,
          13376.700484217386,
          13389.03156981863,
          13401.362655419873,
          13413.693741021116,
          13426.024826622359,
          13438.355912223604,
          13450.686997824847,
          13463.01808342609,
          13475.349169027333,
          13487.680254628576,
          13500.01134022982
         ],
         "yaxis": "y"
        }
       ],
       "layout": {
        "height": 300,
        "margin": {
         "b": 0,
         "l": 0,
         "r": 0,
         "t": 25
        },
        "plot_bgcolor": "rgba(0,0,0,0)",
        "template": {
         "data": {
          "bar": [
           {
            "error_x": {
             "color": "#2a3f5f"
            },
            "error_y": {
             "color": "#2a3f5f"
            },
            "marker": {
             "line": {
              "color": "#E5ECF6",
              "width": 0.5
             },
             "pattern": {
              "fillmode": "overlay",
              "size": 10,
              "solidity": 0.2
             }
            },
            "type": "bar"
           }
          ],
          "barpolar": [
           {
            "marker": {
             "line": {
              "color": "#E5ECF6",
              "width": 0.5
             },
             "pattern": {
              "fillmode": "overlay",
              "size": 10,
              "solidity": 0.2
             }
            },
            "type": "barpolar"
           }
          ],
          "carpet": [
           {
            "aaxis": {
             "endlinecolor": "#2a3f5f",
             "gridcolor": "white",
             "linecolor": "white",
             "minorgridcolor": "white",
             "startlinecolor": "#2a3f5f"
            },
            "baxis": {
             "endlinecolor": "#2a3f5f",
             "gridcolor": "white",
             "linecolor": "white",
             "minorgridcolor": "white",
             "startlinecolor": "#2a3f5f"
            },
            "type": "carpet"
           }
          ],
          "choropleth": [
           {
            "colorbar": {
             "outlinewidth": 0,
             "ticks": ""
            },
            "type": "choropleth"
           }
          ],
          "contour": [
           {
            "colorbar": {
             "outlinewidth": 0,
             "ticks": ""
            },
            "colorscale": [
             [
              0,
              "#0d0887"
             ],
             [
              0.1111111111111111,
              "#46039f"
             ],
             [
              0.2222222222222222,
              "#7201a8"
             ],
             [
              0.3333333333333333,
              "#9c179e"
             ],
             [
              0.4444444444444444,
              "#bd3786"
             ],
             [
              0.5555555555555556,
              "#d8576b"
             ],
             [
              0.6666666666666666,
              "#ed7953"
             ],
             [
              0.7777777777777778,
              "#fb9f3a"
             ],
             [
              0.8888888888888888,
              "#fdca26"
             ],
             [
              1,
              "#f0f921"
             ]
            ],
            "type": "contour"
           }
          ],
          "contourcarpet": [
           {
            "colorbar": {
             "outlinewidth": 0,
             "ticks": ""
            },
            "type": "contourcarpet"
           }
          ],
          "heatmap": [
           {
            "colorbar": {
             "outlinewidth": 0,
             "ticks": ""
            },
            "colorscale": [
             [
              0,
              "#0d0887"
             ],
             [
              0.1111111111111111,
              "#46039f"
             ],
             [
              0.2222222222222222,
              "#7201a8"
             ],
             [
              0.3333333333333333,
              "#9c179e"
             ],
             [
              0.4444444444444444,
              "#bd3786"
             ],
             [
              0.5555555555555556,
              "#d8576b"
             ],
             [
              0.6666666666666666,
              "#ed7953"
             ],
             [
              0.7777777777777778,
              "#fb9f3a"
             ],
             [
              0.8888888888888888,
              "#fdca26"
             ],
             [
              1,
              "#f0f921"
             ]
            ],
            "type": "heatmap"
           }
          ],
          "heatmapgl": [
           {
            "colorbar": {
             "outlinewidth": 0,
             "ticks": ""
            },
            "colorscale": [
             [
              0,
              "#0d0887"
             ],
             [
              0.1111111111111111,
              "#46039f"
             ],
             [
              0.2222222222222222,
              "#7201a8"
             ],
             [
              0.3333333333333333,
              "#9c179e"
             ],
             [
              0.4444444444444444,
              "#bd3786"
             ],
             [
              0.5555555555555556,
              "#d8576b"
             ],
             [
              0.6666666666666666,
              "#ed7953"
             ],
             [
              0.7777777777777778,
              "#fb9f3a"
             ],
             [
              0.8888888888888888,
              "#fdca26"
             ],
             [
              1,
              "#f0f921"
             ]
            ],
            "type": "heatmapgl"
           }
          ],
          "histogram": [
           {
            "marker": {
             "pattern": {
              "fillmode": "overlay",
              "size": 10,
              "solidity": 0.2
             }
            },
            "type": "histogram"
           }
          ],
          "histogram2d": [
           {
            "colorbar": {
             "outlinewidth": 0,
             "ticks": ""
            },
            "colorscale": [
             [
              0,
              "#0d0887"
             ],
             [
              0.1111111111111111,
              "#46039f"
             ],
             [
              0.2222222222222222,
              "#7201a8"
             ],
             [
              0.3333333333333333,
              "#9c179e"
             ],
             [
              0.4444444444444444,
              "#bd3786"
             ],
             [
              0.5555555555555556,
              "#d8576b"
             ],
             [
              0.6666666666666666,
              "#ed7953"
             ],
             [
              0.7777777777777778,
              "#fb9f3a"
             ],
             [
              0.8888888888888888,
              "#fdca26"
             ],
             [
              1,
              "#f0f921"
             ]
            ],
            "type": "histogram2d"
           }
          ],
          "histogram2dcontour": [
           {
            "colorbar": {
             "outlinewidth": 0,
             "ticks": ""
            },
            "colorscale": [
             [
              0,
              "#0d0887"
             ],
             [
              0.1111111111111111,
              "#46039f"
             ],
             [
              0.2222222222222222,
              "#7201a8"
             ],
             [
              0.3333333333333333,
              "#9c179e"
             ],
             [
              0.4444444444444444,
              "#bd3786"
             ],
             [
              0.5555555555555556,
              "#d8576b"
             ],
             [
              0.6666666666666666,
              "#ed7953"
             ],
             [
              0.7777777777777778,
              "#fb9f3a"
             ],
             [
              0.8888888888888888,
              "#fdca26"
             ],
             [
              1,
              "#f0f921"
             ]
            ],
            "type": "histogram2dcontour"
           }
          ],
          "mesh3d": [
           {
            "colorbar": {
             "outlinewidth": 0,
             "ticks": ""
            },
            "type": "mesh3d"
           }
          ],
          "parcoords": [
           {
            "line": {
             "colorbar": {
              "outlinewidth": 0,
              "ticks": ""
             }
            },
            "type": "parcoords"
           }
          ],
          "pie": [
           {
            "automargin": true,
            "type": "pie"
           }
          ],
          "scatter": [
           {
            "marker": {
             "colorbar": {
              "outlinewidth": 0,
              "ticks": ""
             }
            },
            "type": "scatter"
           }
          ],
          "scatter3d": [
           {
            "line": {
             "colorbar": {
              "outlinewidth": 0,
              "ticks": ""
             }
            },
            "marker": {
             "colorbar": {
              "outlinewidth": 0,
              "ticks": ""
             }
            },
            "type": "scatter3d"
           }
          ],
          "scattercarpet": [
           {
            "marker": {
             "colorbar": {
              "outlinewidth": 0,
              "ticks": ""
             }
            },
            "type": "scattercarpet"
           }
          ],
          "scattergeo": [
           {
            "marker": {
             "colorbar": {
              "outlinewidth": 0,
              "ticks": ""
             }
            },
            "type": "scattergeo"
           }
          ],
          "scattergl": [
           {
            "marker": {
             "colorbar": {
              "outlinewidth": 0,
              "ticks": ""
             }
            },
            "type": "scattergl"
           }
          ],
          "scattermapbox": [
           {
            "marker": {
             "colorbar": {
              "outlinewidth": 0,
              "ticks": ""
             }
            },
            "type": "scattermapbox"
           }
          ],
          "scatterpolar": [
           {
            "marker": {
             "colorbar": {
              "outlinewidth": 0,
              "ticks": ""
             }
            },
            "type": "scatterpolar"
           }
          ],
          "scatterpolargl": [
           {
            "marker": {
             "colorbar": {
              "outlinewidth": 0,
              "ticks": ""
             }
            },
            "type": "scatterpolargl"
           }
          ],
          "scatterternary": [
           {
            "marker": {
             "colorbar": {
              "outlinewidth": 0,
              "ticks": ""
             }
            },
            "type": "scatterternary"
           }
          ],
          "surface": [
           {
            "colorbar": {
             "outlinewidth": 0,
             "ticks": ""
            },
            "colorscale": [
             [
              0,
              "#0d0887"
             ],
             [
              0.1111111111111111,
              "#46039f"
             ],
             [
              0.2222222222222222,
              "#7201a8"
             ],
             [
              0.3333333333333333,
              "#9c179e"
             ],
             [
              0.4444444444444444,
              "#bd3786"
             ],
             [
              0.5555555555555556,
              "#d8576b"
             ],
             [
              0.6666666666666666,
              "#ed7953"
             ],
             [
              0.7777777777777778,
              "#fb9f3a"
             ],
             [
              0.8888888888888888,
              "#fdca26"
             ],
             [
              1,
              "#f0f921"
             ]
            ],
            "type": "surface"
           }
          ],
          "table": [
           {
            "cells": {
             "fill": {
              "color": "#EBF0F8"
             },
             "line": {
              "color": "white"
             }
            },
            "header": {
             "fill": {
              "color": "#C8D4E3"
             },
             "line": {
              "color": "white"
             }
            },
            "type": "table"
           }
          ]
         },
         "layout": {
          "annotationdefaults": {
           "arrowcolor": "#2a3f5f",
           "arrowhead": 0,
           "arrowwidth": 1
          },
          "autotypenumbers": "strict",
          "coloraxis": {
           "colorbar": {
            "outlinewidth": 0,
            "ticks": ""
           }
          },
          "colorscale": {
           "diverging": [
            [
             0,
             "#8e0152"
            ],
            [
             0.1,
             "#c51b7d"
            ],
            [
             0.2,
             "#de77ae"
            ],
            [
             0.3,
             "#f1b6da"
            ],
            [
             0.4,
             "#fde0ef"
            ],
            [
             0.5,
             "#f7f7f7"
            ],
            [
             0.6,
             "#e6f5d0"
            ],
            [
             0.7,
             "#b8e186"
            ],
            [
             0.8,
             "#7fbc41"
            ],
            [
             0.9,
             "#4d9221"
            ],
            [
             1,
             "#276419"
            ]
           ],
           "sequential": [
            [
             0,
             "#0d0887"
            ],
            [
             0.1111111111111111,
             "#46039f"
            ],
            [
             0.2222222222222222,
             "#7201a8"
            ],
            [
             0.3333333333333333,
             "#9c179e"
            ],
            [
             0.4444444444444444,
             "#bd3786"
            ],
            [
             0.5555555555555556,
             "#d8576b"
            ],
            [
             0.6666666666666666,
             "#ed7953"
            ],
            [
             0.7777777777777778,
             "#fb9f3a"
            ],
            [
             0.8888888888888888,
             "#fdca26"
            ],
            [
             1,
             "#f0f921"
            ]
           ],
           "sequentialminus": [
            [
             0,
             "#0d0887"
            ],
            [
             0.1111111111111111,
             "#46039f"
            ],
            [
             0.2222222222222222,
             "#7201a8"
            ],
            [
             0.3333333333333333,
             "#9c179e"
            ],
            [
             0.4444444444444444,
             "#bd3786"
            ],
            [
             0.5555555555555556,
             "#d8576b"
            ],
            [
             0.6666666666666666,
             "#ed7953"
            ],
            [
             0.7777777777777778,
             "#fb9f3a"
            ],
            [
             0.8888888888888888,
             "#fdca26"
            ],
            [
             1,
             "#f0f921"
            ]
           ]
          },
          "colorway": [
           "#636efa",
           "#EF553B",
           "#00cc96",
           "#ab63fa",
           "#FFA15A",
           "#19d3f3",
           "#FF6692",
           "#B6E880",
           "#FF97FF",
           "#FECB52"
          ],
          "font": {
           "color": "#2a3f5f"
          },
          "geo": {
           "bgcolor": "white",
           "lakecolor": "white",
           "landcolor": "#E5ECF6",
           "showlakes": true,
           "showland": true,
           "subunitcolor": "white"
          },
          "hoverlabel": {
           "align": "left"
          },
          "hovermode": "closest",
          "mapbox": {
           "style": "light"
          },
          "paper_bgcolor": "white",
          "plot_bgcolor": "#E5ECF6",
          "polar": {
           "angularaxis": {
            "gridcolor": "white",
            "linecolor": "white",
            "ticks": ""
           },
           "bgcolor": "#E5ECF6",
           "radialaxis": {
            "gridcolor": "white",
            "linecolor": "white",
            "ticks": ""
           }
          },
          "scene": {
           "xaxis": {
            "backgroundcolor": "#E5ECF6",
            "gridcolor": "white",
            "gridwidth": 2,
            "linecolor": "white",
            "showbackground": true,
            "ticks": "",
            "zerolinecolor": "white"
           },
           "yaxis": {
            "backgroundcolor": "#E5ECF6",
            "gridcolor": "white",
            "gridwidth": 2,
            "linecolor": "white",
            "showbackground": true,
            "ticks": "",
            "zerolinecolor": "white"
           },
           "zaxis": {
            "backgroundcolor": "#E5ECF6",
            "gridcolor": "white",
            "gridwidth": 2,
            "linecolor": "white",
            "showbackground": true,
            "ticks": "",
            "zerolinecolor": "white"
           }
          },
          "shapedefaults": {
           "line": {
            "color": "#2a3f5f"
           }
          },
          "ternary": {
           "aaxis": {
            "gridcolor": "white",
            "linecolor": "white",
            "ticks": ""
           },
           "baxis": {
            "gridcolor": "white",
            "linecolor": "white",
            "ticks": ""
           },
           "bgcolor": "#E5ECF6",
           "caxis": {
            "gridcolor": "white",
            "linecolor": "white",
            "ticks": ""
           }
          },
          "title": {
           "x": 0.05
          },
          "xaxis": {
           "automargin": true,
           "gridcolor": "white",
           "linecolor": "white",
           "ticks": "",
           "title": {
            "standoff": 15
           },
           "zerolinecolor": "white",
           "zerolinewidth": 2
          },
          "yaxis": {
           "automargin": true,
           "gridcolor": "white",
           "linecolor": "white",
           "ticks": "",
           "title": {
            "standoff": 15
           },
           "zerolinecolor": "white",
           "zerolinewidth": 2
          }
         }
        },
        "title": {
         "text": "Partisanship Score vs. Death Rate for 85+ Year Olds"
        },
        "width": 1200,
        "xaxis": {
         "anchor": "y",
         "domain": [
          0,
          0.792
         ],
         "linecolor": "black",
         "linewidth": 2,
         "mirror": false,
         "showline": true,
         "title": {
          "text": "Partisanship Score"
         }
        },
        "xaxis2": {
         "anchor": "y2",
         "domain": [
          0.802,
          1
         ],
         "linecolor": "black",
         "linewidth": 2,
         "mirror": false,
         "showline": true
        },
        "yaxis": {
         "anchor": "x",
         "domain": [
          0,
          1
         ],
         "title": {
          "text": "Death Rate (per 100,000)"
         }
        },
        "yaxis2": {
         "anchor": "x2",
         "domain": [
          0,
          1
         ],
         "matches": "y",
         "showticklabels": false
        }
       }
      }
     },
     "metadata": {},
     "output_type": "display_data"
    }
   ],
   "source": [
    "get_age_death(state_deaths,\"85+\")"
   ]
  },
  {
   "cell_type": "code",
   "execution_count": null,
   "metadata": {},
   "outputs": [],
   "source": []
  },
  {
   "cell_type": "code",
   "execution_count": 81,
   "metadata": {},
   "outputs": [],
   "source": [
    "for age in state_deaths[\"Ten-Year Age Groups Code\"].unique():\n",
    "    None\n",
    "    #get_age_death(state_deaths,age)"
   ]
  },
  {
   "cell_type": "code",
   "execution_count": null,
   "metadata": {},
   "outputs": [],
   "source": []
  },
  {
   "cell_type": "code",
   "execution_count": 82,
   "metadata": {},
   "outputs": [
    {
     "data": {
      "application/vnd.plotly.v1+json": {
       "config": {
        "plotlyServerURL": "https://plot.ly"
       },
       "data": [
        {
         "mode": "markers",
         "name": "85+",
         "type": "scatter",
         "x": [
          1,
          1,
          0,
          0.4,
          -0.3333333333333333,
          0.2,
          0.4,
          0.8666666666666667,
          0.8666666666666667,
          0.8,
          0.8666666666666667,
          -0.6666666666666666,
          0.8666666666666667,
          0.2,
          -0.8666666666666667,
          0.3333333333333333,
          0.26666666666666666,
          0.2,
          0.5333333333333333,
          -0.4,
          -0.5333333333333333,
          0.13333333333333333,
          0.8666666666666667,
          0.3333333333333333,
          1,
          1,
          -0.26666666666666666,
          -0.8666666666666667,
          0.3333333333333333,
          -0.7333333333333333,
          -1,
          -0.13333333333333333,
          1,
          0.4666666666666667,
          0.8666666666666667,
          -0.4666666666666667,
          -0.6,
          -0.7333333333333333,
          -0.07142857142857142,
          1,
          1,
          -0.5333333333333333,
          -0.4666666666666667,
          -0.6666666666666666,
          -0.8666666666666667,
          0.8666666666666667,
          0.4666666666666667,
          1,
          -0.8666666666666667
         ],
         "y": [
          15150.8,
          15030.85,
          14871.94,
          14818.13,
          14739.64,
          14734.69,
          14632.91,
          14600.11,
          14502.29,
          14467.09,
          14459.35,
          14440.97,
          14288.37,
          14281.34,
          14281.15,
          14187.66,
          14138.9,
          14113.29,
          14089.95,
          14019.53,
          13977.92,
          13957.68,
          13908.55,
          13890.37,
          13786.04,
          13779.67,
          13735.42,
          13685,
          13678.3,
          13593.56,
          13587.44,
          13585.79,
          13582.54,
          13500.98,
          13447.37,
          13327.16,
          13274.99,
          13163.7,
          13158.25,
          13155.8,
          13038.76,
          12798.07,
          12560.07,
          12078.02,
          11998.33,
          11712.19,
          11502.58,
          11309.06,
          10408.47
         ]
        },
        {
         "mode": "markers",
         "name": "75-84",
         "type": "scatter",
         "x": [
          0.2,
          0.8,
          0,
          0.8666666666666667,
          0.3333333333333333,
          0.8666666666666667,
          0.8666666666666667,
          0.8666666666666667,
          0.8666666666666667,
          0.3333333333333333,
          0.5333333333333333,
          0.4666666666666667,
          -0.3333333333333333,
          1,
          1,
          1,
          0.4,
          0.13333333333333333,
          0.3333333333333333,
          1,
          0.26666666666666666,
          0.4,
          -0.07142857142857142,
          1,
          0.2,
          0.8666666666666667,
          -0.6666666666666666,
          0.2,
          1,
          -0.13333333333333333,
          -0.7333333333333333,
          1,
          -0.8666666666666667,
          0.4666666666666667,
          -0.5333333333333333,
          -0.8666666666666667,
          -0.26666666666666666,
          -1,
          -0.4666666666666667,
          -0.5333333333333333,
          -0.4666666666666667,
          -0.4,
          -0.6,
          -0.7333333333333333,
          -0.6666666666666666,
          0.8666666666666667,
          -0.8666666666666667,
          1,
          -0.8666666666666667
         ],
         "y": [
          5507.2,
          5485.42,
          5423.91,
          5300.15,
          5240.75,
          5239.7,
          5190.05,
          5046.6,
          4986.31,
          4972.02,
          4793.09,
          4775.07,
          4698.61,
          4653.6,
          4637.59,
          4636.43,
          4612.92,
          4608.96,
          4589.36,
          4574.86,
          4572.82,
          4494.78,
          4492.09,
          4472.58,
          4471.51,
          4467.72,
          4436.53,
          4374.67,
          4352.89,
          4346.11,
          4325.51,
          4317.83,
          4239.34,
          4236.81,
          4181.08,
          4134.31,
          4092.79,
          4091.84,
          4055.89,
          4032.64,
          3985.53,
          3969.38,
          3932.11,
          3873.83,
          3775.98,
          3749.54,
          3665.32,
          3571.01,
          3202.66
         ]
        },
        {
         "mode": "markers",
         "name": "65-74",
         "type": "scatter",
         "x": [
          0.8,
          0.8666666666666667,
          0.8666666666666667,
          0.2,
          0.3333333333333333,
          0,
          0.8666666666666667,
          0.3333333333333333,
          0.8666666666666667,
          0.8666666666666667,
          0.4666666666666667,
          1,
          -0.07142857142857142,
          0.5333333333333333,
          1,
          0.4,
          0.13333333333333333,
          1,
          0.3333333333333333,
          0.26666666666666666,
          -0.7333333333333333,
          -0.13333333333333333,
          -0.5333333333333333,
          1,
          0.8666666666666667,
          -0.3333333333333333,
          -0.4666666666666667,
          0.4,
          0.4666666666666667,
          0.2,
          -0.6666666666666666,
          -0.8666666666666667,
          1,
          -0.4,
          1,
          -0.8666666666666667,
          -1,
          0.8666666666666667,
          0.2,
          1,
          -0.4666666666666667,
          -0.6666666666666666,
          -0.26666666666666666,
          -0.5333333333333333,
          -0.7333333333333333,
          1,
          -0.8666666666666667,
          -0.6,
          -0.8666666666666667
         ],
         "y": [
          2481.01,
          2378.75,
          2376.52,
          2344.4,
          2329.04,
          2306.7,
          2241.28,
          2183.79,
          2098.35,
          2042.64,
          2035.68,
          2014.79,
          1951.46,
          1921.86,
          1915.53,
          1897.78,
          1885.89,
          1856.46,
          1789.71,
          1774.77,
          1755.31,
          1735.53,
          1723.7,
          1723.57,
          1719.76,
          1716.36,
          1693.67,
          1671.97,
          1667.21,
          1661.71,
          1660.72,
          1648.52,
          1618.54,
          1607.58,
          1597.98,
          1591.65,
          1591.38,
          1590.93,
          1578.58,
          1577.91,
          1561.84,
          1527.64,
          1495.5,
          1479.12,
          1468.74,
          1465.83,
          1451.63,
          1422.25,
          1380.09
         ]
        },
        {
         "mode": "markers",
         "name": "55-64",
         "type": "scatter",
         "x": [
          0.8,
          0,
          0.2,
          0.3333333333333333,
          0.8666666666666667,
          0.8666666666666667,
          0.8666666666666667,
          0.3333333333333333,
          1,
          0.4666666666666667,
          0.8666666666666667,
          0.8666666666666667,
          1,
          0.13333333333333333,
          -0.4666666666666667,
          0.5333333333333333,
          -0.07142857142857142,
          0.4,
          1,
          1,
          0.3333333333333333,
          0.26666666666666666,
          -1,
          0.8666666666666667,
          -0.8666666666666667,
          -0.3333333333333333,
          0.8666666666666667,
          -0.5333333333333333,
          -0.7333333333333333,
          -0.13333333333333333,
          1,
          1,
          0.4666666666666667,
          0.2,
          0.4,
          -0.8666666666666667,
          -0.8666666666666667,
          -0.4,
          1,
          -0.6666666666666666,
          0.2,
          -0.6,
          -0.4666666666666667,
          -0.6666666666666666,
          -0.8666666666666667,
          -0.7333333333333333,
          1,
          -0.5333333333333333,
          -0.26666666666666666
         ],
         "y": [
          1354.98,
          1313.57,
          1242.88,
          1238.62,
          1235.38,
          1210.35,
          1207.75,
          1186.27,
          1074.38,
          1038.96,
          1033.48,
          1018.76,
          1002.65,
          962.69,
          959.98,
          959.88,
          951.3,
          930.67,
          897.74,
          892.09,
          885.74,
          883.22,
          871.27,
          854.56,
          853.88,
          847.99,
          847.19,
          845.8,
          843.1,
          840.8,
          834.06,
          827.67,
          823.88,
          823.29,
          767.3,
          767.01,
          765.83,
          763.27,
          754.72,
          735.92,
          731.64,
          726.49,
          716.79,
          715.36,
          712.25,
          695.29,
          694.08,
          693.18,
          673.83
         ]
        },
        {
         "mode": "markers",
         "name": "1",
         "type": "scatter",
         "x": [
          0.8,
          0.3333333333333333,
          0.8666666666666667,
          1,
          0.8666666666666667,
          0.8666666666666667,
          0.8666666666666667,
          1,
          0.8666666666666667,
          1,
          0.3333333333333333,
          0.13333333333333333,
          1,
          0.8666666666666667,
          0.4,
          0,
          -1,
          0.4666666666666667,
          1,
          -0.5333333333333333,
          0.4,
          0.26666666666666666,
          -0.13333333333333333,
          -0.6666666666666666,
          0.5333333333333333,
          -0.07142857142857142,
          -0.4666666666666667,
          -0.7333333333333333,
          1,
          0.8666666666666667,
          -0.3333333333333333,
          1,
          -0.8666666666666667,
          0.3333333333333333,
          0.2,
          0.4666666666666667,
          -0.6,
          -0.8666666666666667,
          0.2,
          -0.26666666666666666,
          -0.7333333333333333,
          1,
          -0.4666666666666667,
          -0.6666666666666666,
          -0.8666666666666667,
          -0.8666666666666667,
          -0.5333333333333333,
          0.2,
          -0.4
         ],
         "y": [
          906.58,
          806.76,
          789.09,
          734.52,
          708.06,
          705.73,
          699.94,
          698.44,
          696.7,
          696.7,
          690.41,
          679.61,
          667.5,
          653.34,
          632.92,
          630.81,
          621.59,
          609.76,
          600.55,
          590.62,
          585.49,
          584.95,
          582.44,
          579.96,
          569,
          563.01,
          560.53,
          552.45,
          549.22,
          523.62,
          523.47,
          512.7,
          505.95,
          503.46,
          500.43,
          481.06,
          473.97,
          468.69,
          463.16,
          446.55,
          441.88,
          438.79,
          430.33,
          426.47,
          414.33,
          406.19,
          358.8,
          307,
          268.87
         ]
        },
        {
         "mode": "markers",
         "name": "45-54",
         "type": "scatter",
         "x": [
          0,
          0.8,
          0.2,
          0.8666666666666667,
          -0.4666666666666667,
          0.8666666666666667,
          0.8666666666666667,
          0.3333333333333333,
          0.3333333333333333,
          1,
          0.4666666666666667,
          0.8666666666666667,
          0.8666666666666667,
          0.8666666666666667,
          -1,
          1,
          -0.07142857142857142,
          0.2,
          0.13333333333333333,
          1,
          -0.3333333333333333,
          0.4,
          0.26666666666666666,
          1,
          0.8666666666666667,
          0.4666666666666667,
          -0.5333333333333333,
          0.5333333333333333,
          1,
          0.3333333333333333,
          -0.8666666666666667,
          1,
          -0.7333333333333333,
          -0.6666666666666666,
          0.4,
          -0.4,
          -0.13333333333333333,
          -0.8666666666666667,
          0.2,
          -0.4666666666666667,
          -0.8666666666666667,
          1,
          -0.6,
          -0.7333333333333333,
          -0.5333333333333333,
          -0.6666666666666666,
          -0.8666666666666667,
          1,
          -0.26666666666666666
         ],
         "y": [
          626.82,
          605.18,
          588.3,
          564.8,
          560.99,
          559.02,
          552.99,
          546.19,
          539.85,
          503.43,
          472.61,
          465.67,
          462.48,
          436.94,
          434.05,
          425.32,
          421.58,
          420.2,
          416.18,
          414.27,
          410.92,
          408.79,
          407.89,
          397.91,
          397.73,
          393.52,
          386.69,
          386.33,
          379.8,
          379.58,
          376.76,
          374.58,
          373.86,
          368.58,
          357.1,
          349.77,
          348,
          345.6,
          343.2,
          331.27,
          330.82,
          329.59,
          323.3,
          321.87,
          321.83,
          320.01,
          304.09,
          303.26,
          302.07
         ]
        },
        {
         "mode": "markers",
         "name": "35-44",
         "type": "scatter",
         "x": [
          0,
          -0.4666666666666667,
          0.8,
          0.8666666666666667,
          0.2,
          0.3333333333333333,
          0.8666666666666667,
          -1,
          1,
          0.3333333333333333,
          0.8666666666666667,
          0.8666666666666667,
          0.4666666666666667,
          0.4666666666666667,
          -0.3333333333333333,
          0.8666666666666667,
          0.8666666666666667,
          0.2,
          1,
          0.26666666666666666,
          0.13333333333333333,
          1,
          0.8666666666666667,
          0.4,
          -0.5333333333333333,
          1,
          0.2,
          1,
          -0.6666666666666666,
          0.5333333333333333,
          -0.4,
          -0.07142857142857142,
          -0.7333333333333333,
          -0.7333333333333333,
          -0.8666666666666667,
          0.4,
          1,
          -0.4666666666666667,
          -0.5333333333333333,
          -0.6,
          1,
          -0.13333333333333333,
          0.3333333333333333,
          1,
          -0.8666666666666667,
          -0.6666666666666666,
          -0.8666666666666667,
          -0.8666666666666667,
          -0.26666666666666666
         ],
         "y": [
          381.66,
          341.38,
          324.54,
          302.37,
          299.12,
          293.8,
          278.77,
          278.51,
          270.26,
          269.81,
          264.73,
          260.69,
          252.7,
          251.68,
          236.25,
          234.03,
          231.54,
          229.59,
          222.93,
          219.19,
          216.89,
          215.42,
          215.28,
          215.06,
          212.35,
          210.87,
          208.95,
          204.16,
          199.47,
          191.67,
          189.43,
          186.36,
          185.81,
          184.25,
          179.87,
          179.64,
          174.74,
          173.68,
          173.39,
          173.04,
          172.74,
          170.79,
          165.62,
          163.75,
          156.49,
          153.83,
          147.06,
          146.72,
          144.71
         ]
        },
        {
         "mode": "markers",
         "name": "25-34",
         "type": "scatter",
         "x": [
          0,
          -0.4666666666666667,
          -1,
          0.4666666666666667,
          0.8,
          0.8666666666666667,
          0.8666666666666667,
          0.8666666666666667,
          0.3333333333333333,
          0.2,
          -0.5333333333333333,
          1,
          0.4666666666666667,
          0.8666666666666667,
          0.26666666666666666,
          -0.4,
          -0.3333333333333333,
          0.13333333333333333,
          0.2,
          0.4,
          0.8666666666666667,
          1,
          0.3333333333333333,
          0.8666666666666667,
          1,
          0.8666666666666667,
          0.2,
          -0.7333333333333333,
          -0.4666666666666667,
          1,
          0.5333333333333333,
          1,
          -0.7333333333333333,
          -0.6,
          -0.5333333333333333,
          0.4,
          -0.13333333333333333,
          -0.07142857142857142,
          -0.6666666666666666,
          1,
          0.3333333333333333,
          1,
          -0.8666666666666667,
          -0.26666666666666666,
          1,
          -0.6666666666666666,
          -0.8666666666666667,
          -0.8666666666666667,
          -0.8666666666666667
         ],
         "y": [
          242.05,
          232.32,
          196.78,
          193.05,
          184.13,
          178.92,
          174.48,
          171.07,
          170.31,
          169.4,
          165.33,
          165.04,
          163.1,
          159.09,
          153.76,
          153.21,
          152.33,
          151.33,
          151.03,
          150.65,
          149.94,
          146.14,
          143.88,
          143.67,
          143.4,
          142.61,
          135.85,
          134.14,
          132.69,
          130.92,
          129.27,
          127.97,
          121.61,
          120.11,
          117.45,
          116.7,
          114.17,
          111.23,
          110.65,
          108.31,
          107.5,
          106.06,
          97.97,
          97.56,
          95.56,
          95.27,
          94.57,
          93.5,
          93.42
         ]
        },
        {
         "mode": "markers",
         "name": "15-24",
         "type": "scatter",
         "x": [
          0.4666666666666667,
          -0.4666666666666667,
          0.8,
          0.3333333333333333,
          1,
          0.8666666666666667,
          0.3333333333333333,
          0.4666666666666667,
          1,
          0.8666666666666667,
          0,
          0.8666666666666667,
          0.2,
          0.8666666666666667,
          0.8666666666666667,
          -0.5333333333333333,
          0.13333333333333333,
          -0.6,
          0.8666666666666667,
          0.2,
          1,
          0.8666666666666667,
          -1,
          1,
          -0.07142857142857142,
          1,
          0.5333333333333333,
          1,
          0.26666666666666666,
          -0.7333333333333333,
          0.2,
          -0.13333333333333333,
          0.4,
          -0.3333333333333333,
          -0.8666666666666667,
          1,
          -0.26666666666666666,
          1,
          0.4,
          -0.8666666666666667,
          0.3333333333333333,
          -0.8666666666666667,
          -0.4666666666666667,
          -0.7333333333333333,
          -0.8666666666666667,
          -0.6666666666666666,
          -0.4,
          -0.5333333333333333,
          -0.6666666666666666
         ],
         "y": [
          129.68,
          109.53,
          108.47,
          101.8,
          98.57,
          98,
          97.85,
          97.42,
          97.34,
          96.18,
          93.61,
          92.51,
          91.25,
          86.8,
          80.72,
          80.02,
          78.8,
          78.58,
          78.03,
          77.08,
          75.67,
          75.64,
          74.98,
          74.23,
          72.29,
          70.82,
          69.28,
          68.7,
          67.8,
          67.11,
          64,
          63.59,
          62.5,
          62.44,
          61.54,
          61.52,
          61.22,
          60.33,
          59.36,
          59.29,
          57.97,
          56.05,
          50.57,
          49.92,
          49.42,
          47.93,
          43.86,
          41.71,
          40.23
         ]
        },
        {
         "mode": "markers",
         "name": "1-4",
         "type": "scatter",
         "x": [
          0.8666666666666667,
          0.4666666666666667,
          -1,
          0.8,
          0.3333333333333333,
          1,
          1,
          0.3333333333333333,
          0.8666666666666667,
          1,
          -0.4666666666666667,
          0.8666666666666667,
          0,
          -0.8666666666666667,
          0.4666666666666667,
          0.13333333333333333,
          0.4,
          0.2,
          1,
          0.2,
          0.8666666666666667,
          0.4,
          0.8666666666666667,
          -0.07142857142857142,
          -0.26666666666666666,
          1,
          1,
          -0.5333333333333333,
          0.8666666666666667,
          1,
          0.5333333333333333,
          1,
          0.26666666666666666,
          -0.7333333333333333,
          -0.13333333333333333,
          0.2,
          -0.8666666666666667,
          -0.6666666666666666,
          0.3333333333333333,
          -0.8666666666666667,
          -0.8666666666666667,
          -0.4666666666666667,
          -0.5333333333333333,
          -0.7333333333333333,
          -0.6
         ],
         "y": [
          47.59,
          43.79,
          43.08,
          40.55,
          35.5,
          33.85,
          32.53,
          32.04,
          30.9,
          30.6,
          28.58,
          28.11,
          27.9,
          27.77,
          27.6,
          27.3,
          26.58,
          26.26,
          25.98,
          25.97,
          25.85,
          25.36,
          25.3,
          24.69,
          24.3,
          24.18,
          24.09,
          23.97,
          23.29,
          22.93,
          22.67,
          22.32,
          21.48,
          21.22,
          20.36,
          19.39,
          17.37,
          17.05,
          16.45,
          16.34,
          15.18,
          15.17,
          13.96,
          12.92,
          12.33
         ]
        },
        {
         "mode": "markers",
         "name": "5-14",
         "type": "scatter",
         "x": [
          0.8,
          1,
          0.4666666666666667,
          0.8666666666666667,
          0.8666666666666667,
          0.8666666666666667,
          0.3333333333333333,
          0.2,
          0.3333333333333333,
          0.2,
          0.8666666666666667,
          0.3333333333333333,
          -0.4666666666666667,
          1,
          0.4666666666666667,
          0.4,
          1,
          0.5333333333333333,
          0.8666666666666667,
          1,
          0.8666666666666667,
          -0.6,
          0.8666666666666667,
          -0.8666666666666667,
          0.2,
          1,
          0.26666666666666666,
          1,
          0.4,
          0,
          1,
          0.13333333333333333,
          -0.3333333333333333,
          1,
          -0.07142857142857142,
          -0.6666666666666666,
          -0.8666666666666667,
          -0.13333333333333333,
          -0.26666666666666666,
          -0.7333333333333333,
          -0.6666666666666666,
          -0.5333333333333333,
          -0.4666666666666667,
          -0.8666666666666667,
          -0.8666666666666667,
          -1,
          -0.5333333333333333,
          -0.7333333333333333
         ],
         "y": [
          24.77,
          23.16,
          21.86,
          20.71,
          19.55,
          18.77,
          18.59,
          18.56,
          17.8,
          17.31,
          17.05,
          16.16,
          16.16,
          16.08,
          15.98,
          15.88,
          15.78,
          15.39,
          15.36,
          15.22,
          15.13,
          14.78,
          14.72,
          14.32,
          13.94,
          13.8,
          13.62,
          13.47,
          13.44,
          13.27,
          13.15,
          12.98,
          12.85,
          12.81,
          11.99,
          11.9,
          11.33,
          11.25,
          10.92,
          10.79,
          10.63,
          10.3,
          10.24,
          9.97,
          9.78,
          9.65,
          8.79,
          8.56
         ]
        }
       ],
       "layout": {
        "template": {
         "data": {
          "bar": [
           {
            "error_x": {
             "color": "#2a3f5f"
            },
            "error_y": {
             "color": "#2a3f5f"
            },
            "marker": {
             "line": {
              "color": "#E5ECF6",
              "width": 0.5
             },
             "pattern": {
              "fillmode": "overlay",
              "size": 10,
              "solidity": 0.2
             }
            },
            "type": "bar"
           }
          ],
          "barpolar": [
           {
            "marker": {
             "line": {
              "color": "#E5ECF6",
              "width": 0.5
             },
             "pattern": {
              "fillmode": "overlay",
              "size": 10,
              "solidity": 0.2
             }
            },
            "type": "barpolar"
           }
          ],
          "carpet": [
           {
            "aaxis": {
             "endlinecolor": "#2a3f5f",
             "gridcolor": "white",
             "linecolor": "white",
             "minorgridcolor": "white",
             "startlinecolor": "#2a3f5f"
            },
            "baxis": {
             "endlinecolor": "#2a3f5f",
             "gridcolor": "white",
             "linecolor": "white",
             "minorgridcolor": "white",
             "startlinecolor": "#2a3f5f"
            },
            "type": "carpet"
           }
          ],
          "choropleth": [
           {
            "colorbar": {
             "outlinewidth": 0,
             "ticks": ""
            },
            "type": "choropleth"
           }
          ],
          "contour": [
           {
            "colorbar": {
             "outlinewidth": 0,
             "ticks": ""
            },
            "colorscale": [
             [
              0,
              "#0d0887"
             ],
             [
              0.1111111111111111,
              "#46039f"
             ],
             [
              0.2222222222222222,
              "#7201a8"
             ],
             [
              0.3333333333333333,
              "#9c179e"
             ],
             [
              0.4444444444444444,
              "#bd3786"
             ],
             [
              0.5555555555555556,
              "#d8576b"
             ],
             [
              0.6666666666666666,
              "#ed7953"
             ],
             [
              0.7777777777777778,
              "#fb9f3a"
             ],
             [
              0.8888888888888888,
              "#fdca26"
             ],
             [
              1,
              "#f0f921"
             ]
            ],
            "type": "contour"
           }
          ],
          "contourcarpet": [
           {
            "colorbar": {
             "outlinewidth": 0,
             "ticks": ""
            },
            "type": "contourcarpet"
           }
          ],
          "heatmap": [
           {
            "colorbar": {
             "outlinewidth": 0,
             "ticks": ""
            },
            "colorscale": [
             [
              0,
              "#0d0887"
             ],
             [
              0.1111111111111111,
              "#46039f"
             ],
             [
              0.2222222222222222,
              "#7201a8"
             ],
             [
              0.3333333333333333,
              "#9c179e"
             ],
             [
              0.4444444444444444,
              "#bd3786"
             ],
             [
              0.5555555555555556,
              "#d8576b"
             ],
             [
              0.6666666666666666,
              "#ed7953"
             ],
             [
              0.7777777777777778,
              "#fb9f3a"
             ],
             [
              0.8888888888888888,
              "#fdca26"
             ],
             [
              1,
              "#f0f921"
             ]
            ],
            "type": "heatmap"
           }
          ],
          "heatmapgl": [
           {
            "colorbar": {
             "outlinewidth": 0,
             "ticks": ""
            },
            "colorscale": [
             [
              0,
              "#0d0887"
             ],
             [
              0.1111111111111111,
              "#46039f"
             ],
             [
              0.2222222222222222,
              "#7201a8"
             ],
             [
              0.3333333333333333,
              "#9c179e"
             ],
             [
              0.4444444444444444,
              "#bd3786"
             ],
             [
              0.5555555555555556,
              "#d8576b"
             ],
             [
              0.6666666666666666,
              "#ed7953"
             ],
             [
              0.7777777777777778,
              "#fb9f3a"
             ],
             [
              0.8888888888888888,
              "#fdca26"
             ],
             [
              1,
              "#f0f921"
             ]
            ],
            "type": "heatmapgl"
           }
          ],
          "histogram": [
           {
            "marker": {
             "pattern": {
              "fillmode": "overlay",
              "size": 10,
              "solidity": 0.2
             }
            },
            "type": "histogram"
           }
          ],
          "histogram2d": [
           {
            "colorbar": {
             "outlinewidth": 0,
             "ticks": ""
            },
            "colorscale": [
             [
              0,
              "#0d0887"
             ],
             [
              0.1111111111111111,
              "#46039f"
             ],
             [
              0.2222222222222222,
              "#7201a8"
             ],
             [
              0.3333333333333333,
              "#9c179e"
             ],
             [
              0.4444444444444444,
              "#bd3786"
             ],
             [
              0.5555555555555556,
              "#d8576b"
             ],
             [
              0.6666666666666666,
              "#ed7953"
             ],
             [
              0.7777777777777778,
              "#fb9f3a"
             ],
             [
              0.8888888888888888,
              "#fdca26"
             ],
             [
              1,
              "#f0f921"
             ]
            ],
            "type": "histogram2d"
           }
          ],
          "histogram2dcontour": [
           {
            "colorbar": {
             "outlinewidth": 0,
             "ticks": ""
            },
            "colorscale": [
             [
              0,
              "#0d0887"
             ],
             [
              0.1111111111111111,
              "#46039f"
             ],
             [
              0.2222222222222222,
              "#7201a8"
             ],
             [
              0.3333333333333333,
              "#9c179e"
             ],
             [
              0.4444444444444444,
              "#bd3786"
             ],
             [
              0.5555555555555556,
              "#d8576b"
             ],
             [
              0.6666666666666666,
              "#ed7953"
             ],
             [
              0.7777777777777778,
              "#fb9f3a"
             ],
             [
              0.8888888888888888,
              "#fdca26"
             ],
             [
              1,
              "#f0f921"
             ]
            ],
            "type": "histogram2dcontour"
           }
          ],
          "mesh3d": [
           {
            "colorbar": {
             "outlinewidth": 0,
             "ticks": ""
            },
            "type": "mesh3d"
           }
          ],
          "parcoords": [
           {
            "line": {
             "colorbar": {
              "outlinewidth": 0,
              "ticks": ""
             }
            },
            "type": "parcoords"
           }
          ],
          "pie": [
           {
            "automargin": true,
            "type": "pie"
           }
          ],
          "scatter": [
           {
            "marker": {
             "colorbar": {
              "outlinewidth": 0,
              "ticks": ""
             }
            },
            "type": "scatter"
           }
          ],
          "scatter3d": [
           {
            "line": {
             "colorbar": {
              "outlinewidth": 0,
              "ticks": ""
             }
            },
            "marker": {
             "colorbar": {
              "outlinewidth": 0,
              "ticks": ""
             }
            },
            "type": "scatter3d"
           }
          ],
          "scattercarpet": [
           {
            "marker": {
             "colorbar": {
              "outlinewidth": 0,
              "ticks": ""
             }
            },
            "type": "scattercarpet"
           }
          ],
          "scattergeo": [
           {
            "marker": {
             "colorbar": {
              "outlinewidth": 0,
              "ticks": ""
             }
            },
            "type": "scattergeo"
           }
          ],
          "scattergl": [
           {
            "marker": {
             "colorbar": {
              "outlinewidth": 0,
              "ticks": ""
             }
            },
            "type": "scattergl"
           }
          ],
          "scattermapbox": [
           {
            "marker": {
             "colorbar": {
              "outlinewidth": 0,
              "ticks": ""
             }
            },
            "type": "scattermapbox"
           }
          ],
          "scatterpolar": [
           {
            "marker": {
             "colorbar": {
              "outlinewidth": 0,
              "ticks": ""
             }
            },
            "type": "scatterpolar"
           }
          ],
          "scatterpolargl": [
           {
            "marker": {
             "colorbar": {
              "outlinewidth": 0,
              "ticks": ""
             }
            },
            "type": "scatterpolargl"
           }
          ],
          "scatterternary": [
           {
            "marker": {
             "colorbar": {
              "outlinewidth": 0,
              "ticks": ""
             }
            },
            "type": "scatterternary"
           }
          ],
          "surface": [
           {
            "colorbar": {
             "outlinewidth": 0,
             "ticks": ""
            },
            "colorscale": [
             [
              0,
              "#0d0887"
             ],
             [
              0.1111111111111111,
              "#46039f"
             ],
             [
              0.2222222222222222,
              "#7201a8"
             ],
             [
              0.3333333333333333,
              "#9c179e"
             ],
             [
              0.4444444444444444,
              "#bd3786"
             ],
             [
              0.5555555555555556,
              "#d8576b"
             ],
             [
              0.6666666666666666,
              "#ed7953"
             ],
             [
              0.7777777777777778,
              "#fb9f3a"
             ],
             [
              0.8888888888888888,
              "#fdca26"
             ],
             [
              1,
              "#f0f921"
             ]
            ],
            "type": "surface"
           }
          ],
          "table": [
           {
            "cells": {
             "fill": {
              "color": "#EBF0F8"
             },
             "line": {
              "color": "white"
             }
            },
            "header": {
             "fill": {
              "color": "#C8D4E3"
             },
             "line": {
              "color": "white"
             }
            },
            "type": "table"
           }
          ]
         },
         "layout": {
          "annotationdefaults": {
           "arrowcolor": "#2a3f5f",
           "arrowhead": 0,
           "arrowwidth": 1
          },
          "autotypenumbers": "strict",
          "coloraxis": {
           "colorbar": {
            "outlinewidth": 0,
            "ticks": ""
           }
          },
          "colorscale": {
           "diverging": [
            [
             0,
             "#8e0152"
            ],
            [
             0.1,
             "#c51b7d"
            ],
            [
             0.2,
             "#de77ae"
            ],
            [
             0.3,
             "#f1b6da"
            ],
            [
             0.4,
             "#fde0ef"
            ],
            [
             0.5,
             "#f7f7f7"
            ],
            [
             0.6,
             "#e6f5d0"
            ],
            [
             0.7,
             "#b8e186"
            ],
            [
             0.8,
             "#7fbc41"
            ],
            [
             0.9,
             "#4d9221"
            ],
            [
             1,
             "#276419"
            ]
           ],
           "sequential": [
            [
             0,
             "#0d0887"
            ],
            [
             0.1111111111111111,
             "#46039f"
            ],
            [
             0.2222222222222222,
             "#7201a8"
            ],
            [
             0.3333333333333333,
             "#9c179e"
            ],
            [
             0.4444444444444444,
             "#bd3786"
            ],
            [
             0.5555555555555556,
             "#d8576b"
            ],
            [
             0.6666666666666666,
             "#ed7953"
            ],
            [
             0.7777777777777778,
             "#fb9f3a"
            ],
            [
             0.8888888888888888,
             "#fdca26"
            ],
            [
             1,
             "#f0f921"
            ]
           ],
           "sequentialminus": [
            [
             0,
             "#0d0887"
            ],
            [
             0.1111111111111111,
             "#46039f"
            ],
            [
             0.2222222222222222,
             "#7201a8"
            ],
            [
             0.3333333333333333,
             "#9c179e"
            ],
            [
             0.4444444444444444,
             "#bd3786"
            ],
            [
             0.5555555555555556,
             "#d8576b"
            ],
            [
             0.6666666666666666,
             "#ed7953"
            ],
            [
             0.7777777777777778,
             "#fb9f3a"
            ],
            [
             0.8888888888888888,
             "#fdca26"
            ],
            [
             1,
             "#f0f921"
            ]
           ]
          },
          "colorway": [
           "#636efa",
           "#EF553B",
           "#00cc96",
           "#ab63fa",
           "#FFA15A",
           "#19d3f3",
           "#FF6692",
           "#B6E880",
           "#FF97FF",
           "#FECB52"
          ],
          "font": {
           "color": "#2a3f5f"
          },
          "geo": {
           "bgcolor": "white",
           "lakecolor": "white",
           "landcolor": "#E5ECF6",
           "showlakes": true,
           "showland": true,
           "subunitcolor": "white"
          },
          "hoverlabel": {
           "align": "left"
          },
          "hovermode": "closest",
          "mapbox": {
           "style": "light"
          },
          "paper_bgcolor": "white",
          "plot_bgcolor": "#E5ECF6",
          "polar": {
           "angularaxis": {
            "gridcolor": "white",
            "linecolor": "white",
            "ticks": ""
           },
           "bgcolor": "#E5ECF6",
           "radialaxis": {
            "gridcolor": "white",
            "linecolor": "white",
            "ticks": ""
           }
          },
          "scene": {
           "xaxis": {
            "backgroundcolor": "#E5ECF6",
            "gridcolor": "white",
            "gridwidth": 2,
            "linecolor": "white",
            "showbackground": true,
            "ticks": "",
            "zerolinecolor": "white"
           },
           "yaxis": {
            "backgroundcolor": "#E5ECF6",
            "gridcolor": "white",
            "gridwidth": 2,
            "linecolor": "white",
            "showbackground": true,
            "ticks": "",
            "zerolinecolor": "white"
           },
           "zaxis": {
            "backgroundcolor": "#E5ECF6",
            "gridcolor": "white",
            "gridwidth": 2,
            "linecolor": "white",
            "showbackground": true,
            "ticks": "",
            "zerolinecolor": "white"
           }
          },
          "shapedefaults": {
           "line": {
            "color": "#2a3f5f"
           }
          },
          "ternary": {
           "aaxis": {
            "gridcolor": "white",
            "linecolor": "white",
            "ticks": ""
           },
           "baxis": {
            "gridcolor": "white",
            "linecolor": "white",
            "ticks": ""
           },
           "bgcolor": "#E5ECF6",
           "caxis": {
            "gridcolor": "white",
            "linecolor": "white",
            "ticks": ""
           }
          },
          "title": {
           "x": 0.05
          },
          "xaxis": {
           "automargin": true,
           "gridcolor": "white",
           "linecolor": "white",
           "ticks": "",
           "title": {
            "standoff": 15
           },
           "zerolinecolor": "white",
           "zerolinewidth": 2
          },
          "yaxis": {
           "automargin": true,
           "gridcolor": "white",
           "linecolor": "white",
           "ticks": "",
           "title": {
            "standoff": 15
           },
           "zerolinecolor": "white",
           "zerolinewidth": 2
          }
         }
        }
       }
      }
     },
     "metadata": {},
     "output_type": "display_data"
    }
   ],
   "source": [
    "\n",
    "fig = go.Figure()\n",
    "\n",
    "for age in state_deaths[\"Ten-Year Age Groups Code\"].unique():\n",
    "    age_df = state_deaths[state_deaths[\"Ten-Year Age Groups Code\"] == age]\n",
    "    part = Partisian.get_state_part_score()\n",
    "    age_df = pd.merge(age_df, part, left_on=\"State_Abv\", right_on=\"State\")\n",
    "    fig.add_trace(go.Scatter(x=age_df['Part_Score'], y=age_df['Rate'],mode='markers',name=age))\n",
    "    #fig.add_trace(go.Bar(x=age_df[\"State_Abv\"], y=age_df[\"Rate\"], marker=dict(color=age_df[\"Part_Score\"], colorscale=\"Bluered\" ), name=age))\n",
    "\n",
    "fig.show()"
   ]
  },
  {
   "cell_type": "code",
   "execution_count": null,
   "metadata": {},
   "outputs": [],
   "source": []
  },
  {
   "cell_type": "code",
   "execution_count": 83,
   "metadata": {},
   "outputs": [
    {
     "data": {
      "text/html": [
       "<div>\n",
       "<style scoped>\n",
       "    .dataframe tbody tr th:only-of-type {\n",
       "        vertical-align: middle;\n",
       "    }\n",
       "\n",
       "    .dataframe tbody tr th {\n",
       "        vertical-align: top;\n",
       "    }\n",
       "\n",
       "    .dataframe thead th {\n",
       "        text-align: right;\n",
       "    }\n",
       "</style>\n",
       "<table border=\"1\" class=\"dataframe\">\n",
       "  <thead>\n",
       "    <tr style=\"text-align: right;\">\n",
       "      <th></th>\n",
       "      <th>State</th>\n",
       "      <th>ICD-10 113 Cause List</th>\n",
       "      <th>ICD-10 113 Cause List Code</th>\n",
       "      <th>Ten-Year Age Groups</th>\n",
       "      <th>Ten-Year Age Groups Code</th>\n",
       "      <th>Deaths</th>\n",
       "      <th>Population</th>\n",
       "      <th>Crude Rate</th>\n",
       "      <th>Rate</th>\n",
       "      <th>fips</th>\n",
       "      <th>Year</th>\n",
       "      <th>State_Abv</th>\n",
       "      <th>Cause Of Death</th>\n",
       "    </tr>\n",
       "  </thead>\n",
       "  <tbody>\n",
       "    <tr>\n",
       "      <th>14967</th>\n",
       "      <td>New York</td>\n",
       "      <td>Bronchitis, chronic and unspecified (J40-J42)</td>\n",
       "      <td>GR113-083</td>\n",
       "      <td>85+ years</td>\n",
       "      <td>85+</td>\n",
       "      <td>14.0</td>\n",
       "      <td>460001.0</td>\n",
       "      <td>Unreliable</td>\n",
       "      <td>3.04</td>\n",
       "      <td>36</td>\n",
       "      <td>2019</td>\n",
       "      <td>NY</td>\n",
       "      <td>Bronchitis, chronic and unspecified (J40-J42)</td>\n",
       "    </tr>\n",
       "    <tr>\n",
       "      <th>15153</th>\n",
       "      <td>New York</td>\n",
       "      <td>Accidental exposure to smoke, fire and flames ...</td>\n",
       "      <td>GR113-121</td>\n",
       "      <td>85+ years</td>\n",
       "      <td>85+</td>\n",
       "      <td>13.0</td>\n",
       "      <td>460001.0</td>\n",
       "      <td>Unreliable</td>\n",
       "      <td>2.83</td>\n",
       "      <td>36</td>\n",
       "      <td>2019</td>\n",
       "      <td>NY</td>\n",
       "      <td>Accidental exposure to smoke, fire and flames ...</td>\n",
       "    </tr>\n",
       "    <tr>\n",
       "      <th>14875</th>\n",
       "      <td>New York</td>\n",
       "      <td>Acute and subacute endocarditis (I33)</td>\n",
       "      <td>GR113-065</td>\n",
       "      <td>85+ years</td>\n",
       "      <td>85+</td>\n",
       "      <td>10.0</td>\n",
       "      <td>460001.0</td>\n",
       "      <td>Unreliable</td>\n",
       "      <td>2.17</td>\n",
       "      <td>36</td>\n",
       "      <td>2019</td>\n",
       "      <td>NY</td>\n",
       "      <td>Acute and subacute endocarditis (I33)</td>\n",
       "    </tr>\n",
       "  </tbody>\n",
       "</table>\n",
       "</div>"
      ],
      "text/plain": [
       "          State                              ICD-10 113 Cause List  \\\n",
       "14967  New York      Bronchitis, chronic and unspecified (J40-J42)   \n",
       "15153  New York  Accidental exposure to smoke, fire and flames ...   \n",
       "14875  New York              Acute and subacute endocarditis (I33)   \n",
       "\n",
       "      ICD-10 113 Cause List Code Ten-Year Age Groups Ten-Year Age Groups Code  \\\n",
       "14967                  GR113-083           85+ years                      85+   \n",
       "15153                  GR113-121           85+ years                      85+   \n",
       "14875                  GR113-065           85+ years                      85+   \n",
       "\n",
       "       Deaths  Population  Crude Rate  Rate fips  Year State_Abv  \\\n",
       "14967    14.0    460001.0  Unreliable  3.04   36  2019        NY   \n",
       "15153    13.0    460001.0  Unreliable  2.83   36  2019        NY   \n",
       "14875    10.0    460001.0  Unreliable  2.17   36  2019        NY   \n",
       "\n",
       "                                          Cause Of Death  \n",
       "14967      Bronchitis, chronic and unspecified (J40-J42)  \n",
       "15153  Accidental exposure to smoke, fire and flames ...  \n",
       "14875              Acute and subacute endocarditis (I33)  "
      ]
     },
     "execution_count": 83,
     "metadata": {},
     "output_type": "execute_result"
    }
   ],
   "source": [
    "teen = df[df[\"Ten-Year Age Groups Code\"] == \"85+\"]\n",
    "teen.sample(3)\n",
    "teen_all = teen#[teen[\"ICD-10 Original\"].str.contains(\"#\") == True]\n",
    "ny = teen_all[teen_all[\"State\"] == \"New York\"]\n",
    "ny.dropna(inplace=True, subset=[\"ICD-10 113 Cause List\"])\n",
    "ny.tail(3)"
   ]
  },
  {
   "cell_type": "code",
   "execution_count": 84,
   "metadata": {},
   "outputs": [],
   "source": [
    "f = open(\"icd-10-Structure.json\")\n",
    "heirarchy = json.load(f)\n",
    "heirarchy\n",
    "\n",
    "f = open(\"icd-10-flat-Structure.json\")\n",
    "flat_heirarchy = json.load(f)\n"
   ]
  },
  {
   "cell_type": "code",
   "execution_count": 85,
   "metadata": {},
   "outputs": [],
   "source": [
    "#ny.loc[15081]"
   ]
  },
  {
   "cell_type": "code",
   "execution_count": 86,
   "metadata": {},
   "outputs": [],
   "source": [
    "ny[\"ICD-10 113 Cause List\"] = pd.Categorical(ny[\"ICD-10 113 Cause List\"], categories = list(heirarchy.keys()))\n",
    "ny = ny.sort_values(by=[\"ICD-10 113 Cause List\"])\n",
    "ny[\"ICD-10 113 Cause List\"].unique()\n",
    "ny.dropna(subset=[\"ICD-10 113 Cause List\"], inplace=True)"
   ]
  },
  {
   "cell_type": "code",
   "execution_count": 87,
   "metadata": {},
   "outputs": [
    {
     "data": {
      "text/html": [
       "<div>\n",
       "<style scoped>\n",
       "    .dataframe tbody tr th:only-of-type {\n",
       "        vertical-align: middle;\n",
       "    }\n",
       "\n",
       "    .dataframe tbody tr th {\n",
       "        vertical-align: top;\n",
       "    }\n",
       "\n",
       "    .dataframe thead th {\n",
       "        text-align: right;\n",
       "    }\n",
       "</style>\n",
       "<table border=\"1\" class=\"dataframe\">\n",
       "  <thead>\n",
       "    <tr style=\"text-align: right;\">\n",
       "      <th></th>\n",
       "      <th>State</th>\n",
       "      <th>ICD-10 113 Cause List</th>\n",
       "      <th>ICD-10 113 Cause List Code</th>\n",
       "      <th>Ten-Year Age Groups</th>\n",
       "      <th>Ten-Year Age Groups Code</th>\n",
       "      <th>Deaths</th>\n",
       "      <th>Population</th>\n",
       "      <th>Crude Rate</th>\n",
       "      <th>Rate</th>\n",
       "      <th>fips</th>\n",
       "      <th>Year</th>\n",
       "      <th>State_Abv</th>\n",
       "      <th>Cause Of Death</th>\n",
       "    </tr>\n",
       "  </thead>\n",
       "  <tbody>\n",
       "    <tr>\n",
       "      <th>14572</th>\n",
       "      <td>New York</td>\n",
       "      <td>Certain other intestinal infections (A04,A07-A09)</td>\n",
       "      <td>GR113-003</td>\n",
       "      <td>85+ years</td>\n",
       "      <td>85+</td>\n",
       "      <td>176.0</td>\n",
       "      <td>460001.0</td>\n",
       "      <td>38.3</td>\n",
       "      <td>38.26</td>\n",
       "      <td>36</td>\n",
       "      <td>2019</td>\n",
       "      <td>NY</td>\n",
       "      <td>Certain other intestinal infections (A04,A07-A09)</td>\n",
       "    </tr>\n",
       "    <tr>\n",
       "      <th>14581</th>\n",
       "      <td>New York</td>\n",
       "      <td>#Septicemia (A40-A41)</td>\n",
       "      <td>GR113-010</td>\n",
       "      <td>85+ years</td>\n",
       "      <td>85+</td>\n",
       "      <td>559.0</td>\n",
       "      <td>460001.0</td>\n",
       "      <td>121.5</td>\n",
       "      <td>121.52</td>\n",
       "      <td>36</td>\n",
       "      <td>2019</td>\n",
       "      <td>NY</td>\n",
       "      <td>Septicemia</td>\n",
       "    </tr>\n",
       "    <tr>\n",
       "      <th>14600</th>\n",
       "      <td>New York</td>\n",
       "      <td>Other and unspecified infectious and parasitic...</td>\n",
       "      <td>GR113-018</td>\n",
       "      <td>85+ years</td>\n",
       "      <td>85+</td>\n",
       "      <td>196.0</td>\n",
       "      <td>460001.0</td>\n",
       "      <td>42.6</td>\n",
       "      <td>42.61</td>\n",
       "      <td>36</td>\n",
       "      <td>2019</td>\n",
       "      <td>NY</td>\n",
       "      <td>Other and unspecified infectious and parasitic...</td>\n",
       "    </tr>\n",
       "    <tr>\n",
       "      <th>14610</th>\n",
       "      <td>New York</td>\n",
       "      <td>#Malignant neoplasms (C00-C97)</td>\n",
       "      <td>GR113-019</td>\n",
       "      <td>85+ years</td>\n",
       "      <td>85+</td>\n",
       "      <td>6597.0</td>\n",
       "      <td>460001.0</td>\n",
       "      <td>1434.1</td>\n",
       "      <td>1434.13</td>\n",
       "      <td>36</td>\n",
       "      <td>2019</td>\n",
       "      <td>NY</td>\n",
       "      <td>Cancer</td>\n",
       "    </tr>\n",
       "    <tr>\n",
       "      <th>14759</th>\n",
       "      <td>New York</td>\n",
       "      <td>#In situ neoplasms, benign neoplasms and neopl...</td>\n",
       "      <td>GR113-044</td>\n",
       "      <td>85+ years</td>\n",
       "      <td>85+</td>\n",
       "      <td>318.0</td>\n",
       "      <td>460001.0</td>\n",
       "      <td>69.1</td>\n",
       "      <td>69.13</td>\n",
       "      <td>36</td>\n",
       "      <td>2019</td>\n",
       "      <td>NY</td>\n",
       "      <td>#In situ neoplasms, benign neoplasms and neopl...</td>\n",
       "    </tr>\n",
       "    <tr>\n",
       "      <th>14765</th>\n",
       "      <td>New York</td>\n",
       "      <td>#Anemias (D50-D64)</td>\n",
       "      <td>GR113-045</td>\n",
       "      <td>85+ years</td>\n",
       "      <td>85+</td>\n",
       "      <td>94.0</td>\n",
       "      <td>460001.0</td>\n",
       "      <td>20.4</td>\n",
       "      <td>20.43</td>\n",
       "      <td>36</td>\n",
       "      <td>2019</td>\n",
       "      <td>NY</td>\n",
       "      <td>#Anemias (D50-D64)</td>\n",
       "    </tr>\n",
       "    <tr>\n",
       "      <th>14772</th>\n",
       "      <td>New York</td>\n",
       "      <td>#Diabetes mellitus (E10-E14)</td>\n",
       "      <td>GR113-046</td>\n",
       "      <td>85+ years</td>\n",
       "      <td>85+</td>\n",
       "      <td>1153.0</td>\n",
       "      <td>460001.0</td>\n",
       "      <td>250.7</td>\n",
       "      <td>250.65</td>\n",
       "      <td>36</td>\n",
       "      <td>2019</td>\n",
       "      <td>NY</td>\n",
       "      <td>Diabetes</td>\n",
       "    </tr>\n",
       "    <tr>\n",
       "      <th>14776</th>\n",
       "      <td>New York</td>\n",
       "      <td>#Nutritional deficiencies (E40-E64)</td>\n",
       "      <td>GR113-047</td>\n",
       "      <td>85+ years</td>\n",
       "      <td>85+</td>\n",
       "      <td>167.0</td>\n",
       "      <td>460001.0</td>\n",
       "      <td>36.3</td>\n",
       "      <td>36.30</td>\n",
       "      <td>36</td>\n",
       "      <td>2019</td>\n",
       "      <td>NY</td>\n",
       "      <td>#Nutritional deficiencies (E40-E64)</td>\n",
       "    </tr>\n",
       "    <tr>\n",
       "      <th>14783</th>\n",
       "      <td>New York</td>\n",
       "      <td>#Parkinson disease (G20-G21)</td>\n",
       "      <td>GR113-051</td>\n",
       "      <td>85+ years</td>\n",
       "      <td>85+</td>\n",
       "      <td>733.0</td>\n",
       "      <td>460001.0</td>\n",
       "      <td>159.3</td>\n",
       "      <td>159.35</td>\n",
       "      <td>36</td>\n",
       "      <td>2019</td>\n",
       "      <td>NY</td>\n",
       "      <td>#Parkinson disease (G20-G21)</td>\n",
       "    </tr>\n",
       "    <tr>\n",
       "      <th>14787</th>\n",
       "      <td>New York</td>\n",
       "      <td>#Alzheimer disease (G30)</td>\n",
       "      <td>GR113-052</td>\n",
       "      <td>85+ years</td>\n",
       "      <td>85+</td>\n",
       "      <td>2680.0</td>\n",
       "      <td>460001.0</td>\n",
       "      <td>582.6</td>\n",
       "      <td>582.61</td>\n",
       "      <td>36</td>\n",
       "      <td>2019</td>\n",
       "      <td>NY</td>\n",
       "      <td>Alzheimer</td>\n",
       "    </tr>\n",
       "    <tr>\n",
       "      <th>14797</th>\n",
       "      <td>New York</td>\n",
       "      <td>Major cardiovascular diseases (I00-I78)</td>\n",
       "      <td>GR113-053</td>\n",
       "      <td>85+ years</td>\n",
       "      <td>85+</td>\n",
       "      <td>24287.0</td>\n",
       "      <td>460001.0</td>\n",
       "      <td>5279.8</td>\n",
       "      <td>5279.77</td>\n",
       "      <td>36</td>\n",
       "      <td>2019</td>\n",
       "      <td>NY</td>\n",
       "      <td>Heart Disease (Major)</td>\n",
       "    </tr>\n",
       "    <tr>\n",
       "      <th>14937</th>\n",
       "      <td>New York</td>\n",
       "      <td>Other disorders of circulatory system (I80-I99)</td>\n",
       "      <td>GR113-075</td>\n",
       "      <td>85+ years</td>\n",
       "      <td>85+</td>\n",
       "      <td>77.0</td>\n",
       "      <td>460001.0</td>\n",
       "      <td>16.7</td>\n",
       "      <td>16.74</td>\n",
       "      <td>36</td>\n",
       "      <td>2019</td>\n",
       "      <td>NY</td>\n",
       "      <td>Other disorders of circulatory system (I80-I99)</td>\n",
       "    </tr>\n",
       "    <tr>\n",
       "      <th>14944</th>\n",
       "      <td>New York</td>\n",
       "      <td>#Influenza and pneumonia (J09-J18)</td>\n",
       "      <td>GR113-076</td>\n",
       "      <td>85+ years</td>\n",
       "      <td>85+</td>\n",
       "      <td>1895.0</td>\n",
       "      <td>460001.0</td>\n",
       "      <td>412.0</td>\n",
       "      <td>411.96</td>\n",
       "      <td>36</td>\n",
       "      <td>2019</td>\n",
       "      <td>NY</td>\n",
       "      <td>Influenza Pneumonia</td>\n",
       "    </tr>\n",
       "    <tr>\n",
       "      <th>14966</th>\n",
       "      <td>New York</td>\n",
       "      <td>#Chronic lower respiratory diseases (J40-J47)</td>\n",
       "      <td>GR113-082</td>\n",
       "      <td>85+ years</td>\n",
       "      <td>85+</td>\n",
       "      <td>2376.0</td>\n",
       "      <td>460001.0</td>\n",
       "      <td>516.5</td>\n",
       "      <td>516.52</td>\n",
       "      <td>36</td>\n",
       "      <td>2019</td>\n",
       "      <td>NY</td>\n",
       "      <td>Chronic lower respiratory diseases</td>\n",
       "    </tr>\n",
       "    <tr>\n",
       "      <th>14990</th>\n",
       "      <td>New York</td>\n",
       "      <td>#Pneumonitis due to solids and liquids (J69)</td>\n",
       "      <td>GR113-088</td>\n",
       "      <td>85+ years</td>\n",
       "      <td>85+</td>\n",
       "      <td>303.0</td>\n",
       "      <td>460001.0</td>\n",
       "      <td>65.9</td>\n",
       "      <td>65.87</td>\n",
       "      <td>36</td>\n",
       "      <td>2019</td>\n",
       "      <td>NY</td>\n",
       "      <td>#Pneumonitis due to solids and liquids (J69)</td>\n",
       "    </tr>\n",
       "    <tr>\n",
       "      <th>14997</th>\n",
       "      <td>New York</td>\n",
       "      <td>Other diseases of respiratory system (J00-J06,...</td>\n",
       "      <td>GR113-089</td>\n",
       "      <td>85+ years</td>\n",
       "      <td>85+</td>\n",
       "      <td>948.0</td>\n",
       "      <td>460001.0</td>\n",
       "      <td>206.1</td>\n",
       "      <td>206.09</td>\n",
       "      <td>36</td>\n",
       "      <td>2019</td>\n",
       "      <td>NY</td>\n",
       "      <td>Other diseases of respiratory system</td>\n",
       "    </tr>\n",
       "    <tr>\n",
       "      <th>15002</th>\n",
       "      <td>New York</td>\n",
       "      <td>#Peptic ulcer (K25-K28)</td>\n",
       "      <td>GR113-090</td>\n",
       "      <td>85+ years</td>\n",
       "      <td>85+</td>\n",
       "      <td>87.0</td>\n",
       "      <td>460001.0</td>\n",
       "      <td>18.9</td>\n",
       "      <td>18.91</td>\n",
       "      <td>36</td>\n",
       "      <td>2019</td>\n",
       "      <td>NY</td>\n",
       "      <td>#Peptic ulcer (K25-K28)</td>\n",
       "    </tr>\n",
       "    <tr>\n",
       "      <th>15013</th>\n",
       "      <td>New York</td>\n",
       "      <td>#Chronic liver disease and cirrhosis (K70,K73-...</td>\n",
       "      <td>GR113-093</td>\n",
       "      <td>85+ years</td>\n",
       "      <td>85+</td>\n",
       "      <td>81.0</td>\n",
       "      <td>460001.0</td>\n",
       "      <td>17.6</td>\n",
       "      <td>17.61</td>\n",
       "      <td>36</td>\n",
       "      <td>2019</td>\n",
       "      <td>NY</td>\n",
       "      <td>#Chronic liver disease and cirrhosis (K70,K73-...</td>\n",
       "    </tr>\n",
       "    <tr>\n",
       "      <th>15030</th>\n",
       "      <td>New York</td>\n",
       "      <td>#Cholelithiasis and other disorders of gallbla...</td>\n",
       "      <td>GR113-096</td>\n",
       "      <td>85+ years</td>\n",
       "      <td>85+</td>\n",
       "      <td>115.0</td>\n",
       "      <td>460001.0</td>\n",
       "      <td>25.0</td>\n",
       "      <td>25.00</td>\n",
       "      <td>36</td>\n",
       "      <td>2019</td>\n",
       "      <td>NY</td>\n",
       "      <td>#Cholelithiasis and other disorders of gallbla...</td>\n",
       "    </tr>\n",
       "    <tr>\n",
       "      <th>15036</th>\n",
       "      <td>New York</td>\n",
       "      <td>#Nephritis, nephrotic syndrome and nephrosis (...</td>\n",
       "      <td>GR113-097</td>\n",
       "      <td>85+ years</td>\n",
       "      <td>85+</td>\n",
       "      <td>1021.0</td>\n",
       "      <td>460001.0</td>\n",
       "      <td>222.0</td>\n",
       "      <td>221.96</td>\n",
       "      <td>36</td>\n",
       "      <td>2019</td>\n",
       "      <td>NY</td>\n",
       "      <td>#Nephritis, nephrotic syndrome and nephrosis (...</td>\n",
       "    </tr>\n",
       "    <tr>\n",
       "      <th>15066</th>\n",
       "      <td>New York</td>\n",
       "      <td>#Congenital malformations, deformations and ch...</td>\n",
       "      <td>GR113-109</td>\n",
       "      <td>85+ years</td>\n",
       "      <td>85+</td>\n",
       "      <td>26.0</td>\n",
       "      <td>460001.0</td>\n",
       "      <td>5.7</td>\n",
       "      <td>5.65</td>\n",
       "      <td>36</td>\n",
       "      <td>2019</td>\n",
       "      <td>NY</td>\n",
       "      <td>Congenital malformations</td>\n",
       "    </tr>\n",
       "    <tr>\n",
       "      <th>15077</th>\n",
       "      <td>New York</td>\n",
       "      <td>Symptoms, signs and abnormal clinical and labo...</td>\n",
       "      <td>GR113-110</td>\n",
       "      <td>85+ years</td>\n",
       "      <td>85+</td>\n",
       "      <td>850.0</td>\n",
       "      <td>460001.0</td>\n",
       "      <td>184.8</td>\n",
       "      <td>184.78</td>\n",
       "      <td>36</td>\n",
       "      <td>2019</td>\n",
       "      <td>NY</td>\n",
       "      <td>Unkown Cause</td>\n",
       "    </tr>\n",
       "    <tr>\n",
       "      <th>15088</th>\n",
       "      <td>New York</td>\n",
       "      <td>All other diseases (Residual)</td>\n",
       "      <td>GR113-111</td>\n",
       "      <td>85+ years</td>\n",
       "      <td>85+</td>\n",
       "      <td>9439.0</td>\n",
       "      <td>460001.0</td>\n",
       "      <td>2052.0</td>\n",
       "      <td>2051.95</td>\n",
       "      <td>36</td>\n",
       "      <td>2019</td>\n",
       "      <td>NY</td>\n",
       "      <td>All other diseases (Residual)</td>\n",
       "    </tr>\n",
       "    <tr>\n",
       "      <th>15108</th>\n",
       "      <td>New York</td>\n",
       "      <td>Transport accidents (V01-V99,Y85)</td>\n",
       "      <td>GR113-113</td>\n",
       "      <td>85+ years</td>\n",
       "      <td>85+</td>\n",
       "      <td>63.0</td>\n",
       "      <td>460001.0</td>\n",
       "      <td>13.7</td>\n",
       "      <td>13.70</td>\n",
       "      <td>36</td>\n",
       "      <td>2019</td>\n",
       "      <td>NY</td>\n",
       "      <td>Transport Accidents</td>\n",
       "    </tr>\n",
       "    <tr>\n",
       "      <th>15153</th>\n",
       "      <td>New York</td>\n",
       "      <td>Accidental exposure to smoke, fire and flames ...</td>\n",
       "      <td>GR113-121</td>\n",
       "      <td>85+ years</td>\n",
       "      <td>85+</td>\n",
       "      <td>13.0</td>\n",
       "      <td>460001.0</td>\n",
       "      <td>Unreliable</td>\n",
       "      <td>2.83</td>\n",
       "      <td>36</td>\n",
       "      <td>2019</td>\n",
       "      <td>NY</td>\n",
       "      <td>Accidental exposure to smoke, fire and flames ...</td>\n",
       "    </tr>\n",
       "    <tr>\n",
       "      <th>15237</th>\n",
       "      <td>New York</td>\n",
       "      <td>#Complications of medical and surgical care (Y...</td>\n",
       "      <td>GR113-135</td>\n",
       "      <td>85+ years</td>\n",
       "      <td>85+</td>\n",
       "      <td>71.0</td>\n",
       "      <td>460001.0</td>\n",
       "      <td>15.4</td>\n",
       "      <td>15.43</td>\n",
       "      <td>36</td>\n",
       "      <td>2019</td>\n",
       "      <td>NY</td>\n",
       "      <td>Medical Care Complications</td>\n",
       "    </tr>\n",
       "    <tr>\n",
       "      <th>15006</th>\n",
       "      <td>New York</td>\n",
       "      <td>#Hernia (K40-K46)</td>\n",
       "      <td>GR113-092</td>\n",
       "      <td>85+ years</td>\n",
       "      <td>85+</td>\n",
       "      <td>43.0</td>\n",
       "      <td>460001.0</td>\n",
       "      <td>9.3</td>\n",
       "      <td>9.35</td>\n",
       "      <td>36</td>\n",
       "      <td>2019</td>\n",
       "      <td>NY</td>\n",
       "      <td>#Hernia (K40-K46)</td>\n",
       "    </tr>\n",
       "    <tr>\n",
       "      <th>15046</th>\n",
       "      <td>New York</td>\n",
       "      <td>#Infections of kidney (N10-N12,N13.6,N15.1)</td>\n",
       "      <td>GR113-102</td>\n",
       "      <td>85+ years</td>\n",
       "      <td>85+</td>\n",
       "      <td>22.0</td>\n",
       "      <td>460001.0</td>\n",
       "      <td>4.8</td>\n",
       "      <td>4.78</td>\n",
       "      <td>36</td>\n",
       "      <td>2019</td>\n",
       "      <td>NY</td>\n",
       "      <td>#Infections of kidney (N10-N12,N13.6,N15.1)</td>\n",
       "    </tr>\n",
       "    <tr>\n",
       "      <th>15048</th>\n",
       "      <td>New York</td>\n",
       "      <td>#Hyperplasia of prostate (N40)</td>\n",
       "      <td>GR113-103</td>\n",
       "      <td>85+ years</td>\n",
       "      <td>85+</td>\n",
       "      <td>37.0</td>\n",
       "      <td>460001.0</td>\n",
       "      <td>8.0</td>\n",
       "      <td>8.04</td>\n",
       "      <td>36</td>\n",
       "      <td>2019</td>\n",
       "      <td>NY</td>\n",
       "      <td>#Hyperplasia of prostate (N40)</td>\n",
       "    </tr>\n",
       "  </tbody>\n",
       "</table>\n",
       "</div>"
      ],
      "text/plain": [
       "          State                              ICD-10 113 Cause List  \\\n",
       "14572  New York  Certain other intestinal infections (A04,A07-A09)   \n",
       "14581  New York                              #Septicemia (A40-A41)   \n",
       "14600  New York  Other and unspecified infectious and parasitic...   \n",
       "14610  New York                     #Malignant neoplasms (C00-C97)   \n",
       "14759  New York  #In situ neoplasms, benign neoplasms and neopl...   \n",
       "14765  New York                                 #Anemias (D50-D64)   \n",
       "14772  New York                       #Diabetes mellitus (E10-E14)   \n",
       "14776  New York                #Nutritional deficiencies (E40-E64)   \n",
       "14783  New York                       #Parkinson disease (G20-G21)   \n",
       "14787  New York                           #Alzheimer disease (G30)   \n",
       "14797  New York            Major cardiovascular diseases (I00-I78)   \n",
       "14937  New York    Other disorders of circulatory system (I80-I99)   \n",
       "14944  New York                 #Influenza and pneumonia (J09-J18)   \n",
       "14966  New York      #Chronic lower respiratory diseases (J40-J47)   \n",
       "14990  New York       #Pneumonitis due to solids and liquids (J69)   \n",
       "14997  New York  Other diseases of respiratory system (J00-J06,...   \n",
       "15002  New York                            #Peptic ulcer (K25-K28)   \n",
       "15013  New York  #Chronic liver disease and cirrhosis (K70,K73-...   \n",
       "15030  New York  #Cholelithiasis and other disorders of gallbla...   \n",
       "15036  New York  #Nephritis, nephrotic syndrome and nephrosis (...   \n",
       "15066  New York  #Congenital malformations, deformations and ch...   \n",
       "15077  New York  Symptoms, signs and abnormal clinical and labo...   \n",
       "15088  New York                     All other diseases (Residual)    \n",
       "15108  New York                  Transport accidents (V01-V99,Y85)   \n",
       "15153  New York  Accidental exposure to smoke, fire and flames ...   \n",
       "15237  New York  #Complications of medical and surgical care (Y...   \n",
       "15006  New York                                  #Hernia (K40-K46)   \n",
       "15046  New York        #Infections of kidney (N10-N12,N13.6,N15.1)   \n",
       "15048  New York                     #Hyperplasia of prostate (N40)   \n",
       "\n",
       "      ICD-10 113 Cause List Code Ten-Year Age Groups Ten-Year Age Groups Code  \\\n",
       "14572                  GR113-003           85+ years                      85+   \n",
       "14581                  GR113-010           85+ years                      85+   \n",
       "14600                  GR113-018           85+ years                      85+   \n",
       "14610                  GR113-019           85+ years                      85+   \n",
       "14759                  GR113-044           85+ years                      85+   \n",
       "14765                  GR113-045           85+ years                      85+   \n",
       "14772                  GR113-046           85+ years                      85+   \n",
       "14776                  GR113-047           85+ years                      85+   \n",
       "14783                  GR113-051           85+ years                      85+   \n",
       "14787                  GR113-052           85+ years                      85+   \n",
       "14797                  GR113-053           85+ years                      85+   \n",
       "14937                  GR113-075           85+ years                      85+   \n",
       "14944                  GR113-076           85+ years                      85+   \n",
       "14966                  GR113-082           85+ years                      85+   \n",
       "14990                  GR113-088           85+ years                      85+   \n",
       "14997                  GR113-089           85+ years                      85+   \n",
       "15002                  GR113-090           85+ years                      85+   \n",
       "15013                  GR113-093           85+ years                      85+   \n",
       "15030                  GR113-096           85+ years                      85+   \n",
       "15036                  GR113-097           85+ years                      85+   \n",
       "15066                  GR113-109           85+ years                      85+   \n",
       "15077                  GR113-110           85+ years                      85+   \n",
       "15088                  GR113-111           85+ years                      85+   \n",
       "15108                  GR113-113           85+ years                      85+   \n",
       "15153                  GR113-121           85+ years                      85+   \n",
       "15237                  GR113-135           85+ years                      85+   \n",
       "15006                  GR113-092           85+ years                      85+   \n",
       "15046                  GR113-102           85+ years                      85+   \n",
       "15048                  GR113-103           85+ years                      85+   \n",
       "\n",
       "        Deaths  Population  Crude Rate     Rate fips  Year State_Abv  \\\n",
       "14572    176.0    460001.0        38.3    38.26   36  2019        NY   \n",
       "14581    559.0    460001.0       121.5   121.52   36  2019        NY   \n",
       "14600    196.0    460001.0        42.6    42.61   36  2019        NY   \n",
       "14610   6597.0    460001.0      1434.1  1434.13   36  2019        NY   \n",
       "14759    318.0    460001.0        69.1    69.13   36  2019        NY   \n",
       "14765     94.0    460001.0        20.4    20.43   36  2019        NY   \n",
       "14772   1153.0    460001.0       250.7   250.65   36  2019        NY   \n",
       "14776    167.0    460001.0        36.3    36.30   36  2019        NY   \n",
       "14783    733.0    460001.0       159.3   159.35   36  2019        NY   \n",
       "14787   2680.0    460001.0       582.6   582.61   36  2019        NY   \n",
       "14797  24287.0    460001.0      5279.8  5279.77   36  2019        NY   \n",
       "14937     77.0    460001.0        16.7    16.74   36  2019        NY   \n",
       "14944   1895.0    460001.0       412.0   411.96   36  2019        NY   \n",
       "14966   2376.0    460001.0       516.5   516.52   36  2019        NY   \n",
       "14990    303.0    460001.0        65.9    65.87   36  2019        NY   \n",
       "14997    948.0    460001.0       206.1   206.09   36  2019        NY   \n",
       "15002     87.0    460001.0        18.9    18.91   36  2019        NY   \n",
       "15013     81.0    460001.0        17.6    17.61   36  2019        NY   \n",
       "15030    115.0    460001.0        25.0    25.00   36  2019        NY   \n",
       "15036   1021.0    460001.0       222.0   221.96   36  2019        NY   \n",
       "15066     26.0    460001.0         5.7     5.65   36  2019        NY   \n",
       "15077    850.0    460001.0       184.8   184.78   36  2019        NY   \n",
       "15088   9439.0    460001.0      2052.0  2051.95   36  2019        NY   \n",
       "15108     63.0    460001.0        13.7    13.70   36  2019        NY   \n",
       "15153     13.0    460001.0  Unreliable     2.83   36  2019        NY   \n",
       "15237     71.0    460001.0        15.4    15.43   36  2019        NY   \n",
       "15006     43.0    460001.0         9.3     9.35   36  2019        NY   \n",
       "15046     22.0    460001.0         4.8     4.78   36  2019        NY   \n",
       "15048     37.0    460001.0         8.0     8.04   36  2019        NY   \n",
       "\n",
       "                                          Cause Of Death  \n",
       "14572  Certain other intestinal infections (A04,A07-A09)  \n",
       "14581                                         Septicemia  \n",
       "14600  Other and unspecified infectious and parasitic...  \n",
       "14610                                             Cancer  \n",
       "14759  #In situ neoplasms, benign neoplasms and neopl...  \n",
       "14765                                 #Anemias (D50-D64)  \n",
       "14772                                           Diabetes  \n",
       "14776                #Nutritional deficiencies (E40-E64)  \n",
       "14783                       #Parkinson disease (G20-G21)  \n",
       "14787                                          Alzheimer  \n",
       "14797                              Heart Disease (Major)  \n",
       "14937    Other disorders of circulatory system (I80-I99)  \n",
       "14944                                Influenza Pneumonia  \n",
       "14966                 Chronic lower respiratory diseases  \n",
       "14990       #Pneumonitis due to solids and liquids (J69)  \n",
       "14997               Other diseases of respiratory system  \n",
       "15002                            #Peptic ulcer (K25-K28)  \n",
       "15013  #Chronic liver disease and cirrhosis (K70,K73-...  \n",
       "15030  #Cholelithiasis and other disorders of gallbla...  \n",
       "15036  #Nephritis, nephrotic syndrome and nephrosis (...  \n",
       "15066                           Congenital malformations  \n",
       "15077                                       Unkown Cause  \n",
       "15088                     All other diseases (Residual)   \n",
       "15108                                Transport Accidents  \n",
       "15153  Accidental exposure to smoke, fire and flames ...  \n",
       "15237                         Medical Care Complications  \n",
       "15006                                  #Hernia (K40-K46)  \n",
       "15046        #Infections of kidney (N10-N12,N13.6,N15.1)  \n",
       "15048                     #Hyperplasia of prostate (N40)  "
      ]
     },
     "execution_count": 87,
     "metadata": {},
     "output_type": "execute_result"
    }
   ],
   "source": [
    "ny"
   ]
  },
  {
   "cell_type": "code",
   "execution_count": null,
   "metadata": {},
   "outputs": [],
   "source": []
  },
  {
   "cell_type": "code",
   "execution_count": 88,
   "metadata": {},
   "outputs": [],
   "source": [
    "labels = [\"All\"]\n",
    "labels.extend(list(ny[\"ICD-10 113 Cause List\"]))\n",
    "\n",
    "values = [0]\n",
    "values.extend(list(ny.Rate))\n",
    "\n",
    "\n",
    "parents = []\n",
    "for i,label in enumerate(labels):\n",
    "    if label == \"All\":\n",
    "        parents.append(\"\")\n",
    "    else:\n",
    "        try:\n",
    "            parents = flat_heirarchy[label][\"parents\"]\n",
    "            if len(parent) > 0:\n",
    "                parents.append(parent[0])\n",
    "            else:\n",
    "                parents.append(\"\")\n",
    "                #values[i] = values[i]-values[parents.index(heirarchy[label])]\n",
    "            \n",
    "        except:\n",
    "            parents.append(\"\")  \n",
    "\n"
   ]
  },
  {
   "cell_type": "code",
   "execution_count": 89,
   "metadata": {},
   "outputs": [],
   "source": [
    "test_labels = labels[:11]\n",
    "test_parents = parents[:11]\n",
    "test_values = values[:11]\n",
    "test_values[0] = sum(test_values[1:])"
   ]
  },
  {
   "cell_type": "code",
   "execution_count": 90,
   "metadata": {},
   "outputs": [
    {
     "data": {
      "application/vnd.plotly.v1+json": {
       "config": {
        "plotlyServerURL": "https://plot.ly"
       },
       "data": [
        {
         "labels": [
          "All",
          "Certain other intestinal infections (A04,A07-A09)",
          "#Septicemia (A40-A41)",
          "Other and unspecified infectious and parasitic diseases and their sequelae (A00,A05,A20-A36,A42-A44,A48-A49,A54-A79,A81-A82,A85.0-A85.1,A85.8,A86-B04,B06-B09,B25-B49,B55-B99,U07.1)",
          "#Malignant neoplasms (C00-C97)",
          "#In situ neoplasms, benign neoplasms and neoplasms of uncertain or unknown behavior (D00-D48)",
          "#Anemias (D50-D64)",
          "#Diabetes mellitus (E10-E14)",
          "#Nutritional deficiencies (E40-E64)",
          "#Parkinson disease (G20-G21)",
          "#Alzheimer disease (G30)",
          "Major cardiovascular diseases (I00-I78)",
          "Other disorders of circulatory system (I80-I99)",
          "#Influenza and pneumonia (J09-J18)",
          "#Chronic lower respiratory diseases (J40-J47)",
          "#Pneumonitis due to solids and liquids (J69)",
          "Other diseases of respiratory system (J00-J06,J30- J39,J67,J70-J98)",
          "#Peptic ulcer (K25-K28)",
          "#Chronic liver disease and cirrhosis (K70,K73-K74)",
          "#Cholelithiasis and other disorders of gallbladder (K80-K82)",
          "#Nephritis, nephrotic syndrome and nephrosis (N00-N07,N17-N19,N25-N27)",
          "#Congenital malformations, deformations and chromosomal abnormalities (Q00-Q99)",
          "Symptoms, signs and abnormal clinical and laboratory findings, not elsewhere classified (R00-R99)",
          "All other diseases (Residual) ",
          "Transport accidents (V01-V99,Y85)",
          "Accidental exposure to smoke, fire and flames (X00-X09)",
          "#Complications of medical and surgical care (Y40-Y84,Y88)",
          "#Hernia (K40-K46)",
          "#Infections of kidney (N10-N12,N13.6,N15.1)",
          "#Hyperplasia of prostate (N40)"
         ],
         "parents": [
          ""
         ],
         "type": "sunburst",
         "values": [
          0,
          38.26,
          121.52,
          42.61,
          1434.13,
          69.13,
          20.43,
          250.65,
          36.3,
          159.35,
          582.61,
          5279.77,
          16.74,
          411.96,
          516.52,
          65.87,
          206.09,
          18.91,
          17.61,
          25,
          221.96,
          5.65,
          184.78,
          2051.95,
          13.7,
          2.83,
          15.43,
          9.35,
          4.78,
          8.04
         ]
        }
       ],
       "layout": {
        "template": {
         "data": {
          "bar": [
           {
            "error_x": {
             "color": "#2a3f5f"
            },
            "error_y": {
             "color": "#2a3f5f"
            },
            "marker": {
             "line": {
              "color": "#E5ECF6",
              "width": 0.5
             },
             "pattern": {
              "fillmode": "overlay",
              "size": 10,
              "solidity": 0.2
             }
            },
            "type": "bar"
           }
          ],
          "barpolar": [
           {
            "marker": {
             "line": {
              "color": "#E5ECF6",
              "width": 0.5
             },
             "pattern": {
              "fillmode": "overlay",
              "size": 10,
              "solidity": 0.2
             }
            },
            "type": "barpolar"
           }
          ],
          "carpet": [
           {
            "aaxis": {
             "endlinecolor": "#2a3f5f",
             "gridcolor": "white",
             "linecolor": "white",
             "minorgridcolor": "white",
             "startlinecolor": "#2a3f5f"
            },
            "baxis": {
             "endlinecolor": "#2a3f5f",
             "gridcolor": "white",
             "linecolor": "white",
             "minorgridcolor": "white",
             "startlinecolor": "#2a3f5f"
            },
            "type": "carpet"
           }
          ],
          "choropleth": [
           {
            "colorbar": {
             "outlinewidth": 0,
             "ticks": ""
            },
            "type": "choropleth"
           }
          ],
          "contour": [
           {
            "colorbar": {
             "outlinewidth": 0,
             "ticks": ""
            },
            "colorscale": [
             [
              0,
              "#0d0887"
             ],
             [
              0.1111111111111111,
              "#46039f"
             ],
             [
              0.2222222222222222,
              "#7201a8"
             ],
             [
              0.3333333333333333,
              "#9c179e"
             ],
             [
              0.4444444444444444,
              "#bd3786"
             ],
             [
              0.5555555555555556,
              "#d8576b"
             ],
             [
              0.6666666666666666,
              "#ed7953"
             ],
             [
              0.7777777777777778,
              "#fb9f3a"
             ],
             [
              0.8888888888888888,
              "#fdca26"
             ],
             [
              1,
              "#f0f921"
             ]
            ],
            "type": "contour"
           }
          ],
          "contourcarpet": [
           {
            "colorbar": {
             "outlinewidth": 0,
             "ticks": ""
            },
            "type": "contourcarpet"
           }
          ],
          "heatmap": [
           {
            "colorbar": {
             "outlinewidth": 0,
             "ticks": ""
            },
            "colorscale": [
             [
              0,
              "#0d0887"
             ],
             [
              0.1111111111111111,
              "#46039f"
             ],
             [
              0.2222222222222222,
              "#7201a8"
             ],
             [
              0.3333333333333333,
              "#9c179e"
             ],
             [
              0.4444444444444444,
              "#bd3786"
             ],
             [
              0.5555555555555556,
              "#d8576b"
             ],
             [
              0.6666666666666666,
              "#ed7953"
             ],
             [
              0.7777777777777778,
              "#fb9f3a"
             ],
             [
              0.8888888888888888,
              "#fdca26"
             ],
             [
              1,
              "#f0f921"
             ]
            ],
            "type": "heatmap"
           }
          ],
          "heatmapgl": [
           {
            "colorbar": {
             "outlinewidth": 0,
             "ticks": ""
            },
            "colorscale": [
             [
              0,
              "#0d0887"
             ],
             [
              0.1111111111111111,
              "#46039f"
             ],
             [
              0.2222222222222222,
              "#7201a8"
             ],
             [
              0.3333333333333333,
              "#9c179e"
             ],
             [
              0.4444444444444444,
              "#bd3786"
             ],
             [
              0.5555555555555556,
              "#d8576b"
             ],
             [
              0.6666666666666666,
              "#ed7953"
             ],
             [
              0.7777777777777778,
              "#fb9f3a"
             ],
             [
              0.8888888888888888,
              "#fdca26"
             ],
             [
              1,
              "#f0f921"
             ]
            ],
            "type": "heatmapgl"
           }
          ],
          "histogram": [
           {
            "marker": {
             "pattern": {
              "fillmode": "overlay",
              "size": 10,
              "solidity": 0.2
             }
            },
            "type": "histogram"
           }
          ],
          "histogram2d": [
           {
            "colorbar": {
             "outlinewidth": 0,
             "ticks": ""
            },
            "colorscale": [
             [
              0,
              "#0d0887"
             ],
             [
              0.1111111111111111,
              "#46039f"
             ],
             [
              0.2222222222222222,
              "#7201a8"
             ],
             [
              0.3333333333333333,
              "#9c179e"
             ],
             [
              0.4444444444444444,
              "#bd3786"
             ],
             [
              0.5555555555555556,
              "#d8576b"
             ],
             [
              0.6666666666666666,
              "#ed7953"
             ],
             [
              0.7777777777777778,
              "#fb9f3a"
             ],
             [
              0.8888888888888888,
              "#fdca26"
             ],
             [
              1,
              "#f0f921"
             ]
            ],
            "type": "histogram2d"
           }
          ],
          "histogram2dcontour": [
           {
            "colorbar": {
             "outlinewidth": 0,
             "ticks": ""
            },
            "colorscale": [
             [
              0,
              "#0d0887"
             ],
             [
              0.1111111111111111,
              "#46039f"
             ],
             [
              0.2222222222222222,
              "#7201a8"
             ],
             [
              0.3333333333333333,
              "#9c179e"
             ],
             [
              0.4444444444444444,
              "#bd3786"
             ],
             [
              0.5555555555555556,
              "#d8576b"
             ],
             [
              0.6666666666666666,
              "#ed7953"
             ],
             [
              0.7777777777777778,
              "#fb9f3a"
             ],
             [
              0.8888888888888888,
              "#fdca26"
             ],
             [
              1,
              "#f0f921"
             ]
            ],
            "type": "histogram2dcontour"
           }
          ],
          "mesh3d": [
           {
            "colorbar": {
             "outlinewidth": 0,
             "ticks": ""
            },
            "type": "mesh3d"
           }
          ],
          "parcoords": [
           {
            "line": {
             "colorbar": {
              "outlinewidth": 0,
              "ticks": ""
             }
            },
            "type": "parcoords"
           }
          ],
          "pie": [
           {
            "automargin": true,
            "type": "pie"
           }
          ],
          "scatter": [
           {
            "marker": {
             "colorbar": {
              "outlinewidth": 0,
              "ticks": ""
             }
            },
            "type": "scatter"
           }
          ],
          "scatter3d": [
           {
            "line": {
             "colorbar": {
              "outlinewidth": 0,
              "ticks": ""
             }
            },
            "marker": {
             "colorbar": {
              "outlinewidth": 0,
              "ticks": ""
             }
            },
            "type": "scatter3d"
           }
          ],
          "scattercarpet": [
           {
            "marker": {
             "colorbar": {
              "outlinewidth": 0,
              "ticks": ""
             }
            },
            "type": "scattercarpet"
           }
          ],
          "scattergeo": [
           {
            "marker": {
             "colorbar": {
              "outlinewidth": 0,
              "ticks": ""
             }
            },
            "type": "scattergeo"
           }
          ],
          "scattergl": [
           {
            "marker": {
             "colorbar": {
              "outlinewidth": 0,
              "ticks": ""
             }
            },
            "type": "scattergl"
           }
          ],
          "scattermapbox": [
           {
            "marker": {
             "colorbar": {
              "outlinewidth": 0,
              "ticks": ""
             }
            },
            "type": "scattermapbox"
           }
          ],
          "scatterpolar": [
           {
            "marker": {
             "colorbar": {
              "outlinewidth": 0,
              "ticks": ""
             }
            },
            "type": "scatterpolar"
           }
          ],
          "scatterpolargl": [
           {
            "marker": {
             "colorbar": {
              "outlinewidth": 0,
              "ticks": ""
             }
            },
            "type": "scatterpolargl"
           }
          ],
          "scatterternary": [
           {
            "marker": {
             "colorbar": {
              "outlinewidth": 0,
              "ticks": ""
             }
            },
            "type": "scatterternary"
           }
          ],
          "surface": [
           {
            "colorbar": {
             "outlinewidth": 0,
             "ticks": ""
            },
            "colorscale": [
             [
              0,
              "#0d0887"
             ],
             [
              0.1111111111111111,
              "#46039f"
             ],
             [
              0.2222222222222222,
              "#7201a8"
             ],
             [
              0.3333333333333333,
              "#9c179e"
             ],
             [
              0.4444444444444444,
              "#bd3786"
             ],
             [
              0.5555555555555556,
              "#d8576b"
             ],
             [
              0.6666666666666666,
              "#ed7953"
             ],
             [
              0.7777777777777778,
              "#fb9f3a"
             ],
             [
              0.8888888888888888,
              "#fdca26"
             ],
             [
              1,
              "#f0f921"
             ]
            ],
            "type": "surface"
           }
          ],
          "table": [
           {
            "cells": {
             "fill": {
              "color": "#EBF0F8"
             },
             "line": {
              "color": "white"
             }
            },
            "header": {
             "fill": {
              "color": "#C8D4E3"
             },
             "line": {
              "color": "white"
             }
            },
            "type": "table"
           }
          ]
         },
         "layout": {
          "annotationdefaults": {
           "arrowcolor": "#2a3f5f",
           "arrowhead": 0,
           "arrowwidth": 1
          },
          "autotypenumbers": "strict",
          "coloraxis": {
           "colorbar": {
            "outlinewidth": 0,
            "ticks": ""
           }
          },
          "colorscale": {
           "diverging": [
            [
             0,
             "#8e0152"
            ],
            [
             0.1,
             "#c51b7d"
            ],
            [
             0.2,
             "#de77ae"
            ],
            [
             0.3,
             "#f1b6da"
            ],
            [
             0.4,
             "#fde0ef"
            ],
            [
             0.5,
             "#f7f7f7"
            ],
            [
             0.6,
             "#e6f5d0"
            ],
            [
             0.7,
             "#b8e186"
            ],
            [
             0.8,
             "#7fbc41"
            ],
            [
             0.9,
             "#4d9221"
            ],
            [
             1,
             "#276419"
            ]
           ],
           "sequential": [
            [
             0,
             "#0d0887"
            ],
            [
             0.1111111111111111,
             "#46039f"
            ],
            [
             0.2222222222222222,
             "#7201a8"
            ],
            [
             0.3333333333333333,
             "#9c179e"
            ],
            [
             0.4444444444444444,
             "#bd3786"
            ],
            [
             0.5555555555555556,
             "#d8576b"
            ],
            [
             0.6666666666666666,
             "#ed7953"
            ],
            [
             0.7777777777777778,
             "#fb9f3a"
            ],
            [
             0.8888888888888888,
             "#fdca26"
            ],
            [
             1,
             "#f0f921"
            ]
           ],
           "sequentialminus": [
            [
             0,
             "#0d0887"
            ],
            [
             0.1111111111111111,
             "#46039f"
            ],
            [
             0.2222222222222222,
             "#7201a8"
            ],
            [
             0.3333333333333333,
             "#9c179e"
            ],
            [
             0.4444444444444444,
             "#bd3786"
            ],
            [
             0.5555555555555556,
             "#d8576b"
            ],
            [
             0.6666666666666666,
             "#ed7953"
            ],
            [
             0.7777777777777778,
             "#fb9f3a"
            ],
            [
             0.8888888888888888,
             "#fdca26"
            ],
            [
             1,
             "#f0f921"
            ]
           ]
          },
          "colorway": [
           "#636efa",
           "#EF553B",
           "#00cc96",
           "#ab63fa",
           "#FFA15A",
           "#19d3f3",
           "#FF6692",
           "#B6E880",
           "#FF97FF",
           "#FECB52"
          ],
          "font": {
           "color": "#2a3f5f"
          },
          "geo": {
           "bgcolor": "white",
           "lakecolor": "white",
           "landcolor": "#E5ECF6",
           "showlakes": true,
           "showland": true,
           "subunitcolor": "white"
          },
          "hoverlabel": {
           "align": "left"
          },
          "hovermode": "closest",
          "mapbox": {
           "style": "light"
          },
          "paper_bgcolor": "white",
          "plot_bgcolor": "#E5ECF6",
          "polar": {
           "angularaxis": {
            "gridcolor": "white",
            "linecolor": "white",
            "ticks": ""
           },
           "bgcolor": "#E5ECF6",
           "radialaxis": {
            "gridcolor": "white",
            "linecolor": "white",
            "ticks": ""
           }
          },
          "scene": {
           "xaxis": {
            "backgroundcolor": "#E5ECF6",
            "gridcolor": "white",
            "gridwidth": 2,
            "linecolor": "white",
            "showbackground": true,
            "ticks": "",
            "zerolinecolor": "white"
           },
           "yaxis": {
            "backgroundcolor": "#E5ECF6",
            "gridcolor": "white",
            "gridwidth": 2,
            "linecolor": "white",
            "showbackground": true,
            "ticks": "",
            "zerolinecolor": "white"
           },
           "zaxis": {
            "backgroundcolor": "#E5ECF6",
            "gridcolor": "white",
            "gridwidth": 2,
            "linecolor": "white",
            "showbackground": true,
            "ticks": "",
            "zerolinecolor": "white"
           }
          },
          "shapedefaults": {
           "line": {
            "color": "#2a3f5f"
           }
          },
          "ternary": {
           "aaxis": {
            "gridcolor": "white",
            "linecolor": "white",
            "ticks": ""
           },
           "baxis": {
            "gridcolor": "white",
            "linecolor": "white",
            "ticks": ""
           },
           "bgcolor": "#E5ECF6",
           "caxis": {
            "gridcolor": "white",
            "linecolor": "white",
            "ticks": ""
           }
          },
          "title": {
           "x": 0.05
          },
          "xaxis": {
           "automargin": true,
           "gridcolor": "white",
           "linecolor": "white",
           "ticks": "",
           "title": {
            "standoff": 15
           },
           "zerolinecolor": "white",
           "zerolinewidth": 2
          },
          "yaxis": {
           "automargin": true,
           "gridcolor": "white",
           "linecolor": "white",
           "ticks": "",
           "title": {
            "standoff": 15
           },
           "zerolinecolor": "white",
           "zerolinewidth": 2
          }
         }
        }
       }
      }
     },
     "metadata": {},
     "output_type": "display_data"
    }
   ],
   "source": [
    "fig =go.Figure(go.Sunburst(\n",
    "    labels=labels,\n",
    "    parents=parents,\n",
    "    values=values,\n",
    "))\n",
    "\n",
    "fig.show()"
   ]
  },
  {
   "cell_type": "code",
   "execution_count": 91,
   "metadata": {},
   "outputs": [
    {
     "data": {
      "text/plain": [
       "{'common_name': 'HIV',\n",
       " 'children': [],\n",
       " 'parents': [],\n",
       " 'ranges': {'H': [], 'B': [20, 21, 22, 23, 24]},\n",
       " 'chapters': ['B'],\n",
       " 'base': True}"
      ]
     },
     "execution_count": 91,
     "metadata": {},
     "output_type": "execute_result"
    }
   ],
   "source": [
    "flat_heirarchy[\"#Human immunodeficiency virus (HIV) disease (B20-B24)\"]"
   ]
  },
  {
   "cell_type": "code",
   "execution_count": 92,
   "metadata": {},
   "outputs": [],
   "source": [
    "df = pd.read_csv(r\"data/Life/Deaths/StateDeathsAge.txt\", delimiter=\"\t\", na_values = ['Not Applicable'])\n",
    "df = df.dropna(subset=[\"State\",\"ICD-10 113 Cause List Code\", \"Population\"])"
   ]
  },
  {
   "cell_type": "markdown",
   "metadata": {},
   "source": []
  },
  {
   "cell_type": "code",
   "execution_count": 93,
   "metadata": {},
   "outputs": [
    {
     "data": {
      "text/plain": [
       "array(['1', '55-64', '65-74', '75-84', '85+', '25-34', '35-44', '45-54',\n",
       "       '5-14', '1-4', '15-24'], dtype=object)"
      ]
     },
     "execution_count": 93,
     "metadata": {},
     "output_type": "execute_result"
    }
   ],
   "source": [
    "df[\"Ten-Year Age Groups Code\"].unique()"
   ]
  },
  {
   "cell_type": "code",
   "execution_count": 94,
   "metadata": {},
   "outputs": [],
   "source": [
    "age = '1'"
   ]
  },
  {
   "cell_type": "code",
   "execution_count": 95,
   "metadata": {},
   "outputs": [],
   "source": [
    "f = open(\"icd-10-Structure.json\")\n",
    "heirarchy = json.load(f)\n",
    "heirarchy\n",
    "\n",
    "f = open(\"icd-10-flat-Structure.json\")\n",
    "flat_heirarchy = json.load(f)\n"
   ]
  },
  {
   "cell_type": "code",
   "execution_count": null,
   "metadata": {},
   "outputs": [],
   "source": []
  },
  {
   "cell_type": "code",
   "execution_count": null,
   "metadata": {},
   "outputs": [],
   "source": []
  },
  {
   "cell_type": "code",
   "execution_count": null,
   "metadata": {},
   "outputs": [],
   "source": []
  },
  {
   "cell_type": "code",
   "execution_count": null,
   "metadata": {},
   "outputs": [],
   "source": []
  },
  {
   "cell_type": "code",
   "execution_count": 96,
   "metadata": {},
   "outputs": [
    {
     "data": {
      "text/plain": [
       "'1'"
      ]
     },
     "execution_count": 96,
     "metadata": {},
     "output_type": "execute_result"
    }
   ],
   "source": [
    "age"
   ]
  },
  {
   "cell_type": "code",
   "execution_count": 131,
   "metadata": {},
   "outputs": [],
   "source": [
    "def load_state_cod():\n",
    "    f = open(\"icd-10-flat-Structure.json\")\n",
    "    flat_heirarchy = json.load(f)\n",
    "    df_heirarchy = pd.DataFrame(flat_heirarchy)\n",
    "    #rotate Matrix\n",
    "    df_heirarchy = df_heirarchy.transpose()\n",
    "    df_heirarchy.reset_index(inplace=True)\n",
    "    df_heirarchy.rename(columns={\"index\":\"ICD-10 113 Cause List\"}, inplace=True)\n",
    "    df_heirarchy\n",
    "\n",
    "    df = pd.read_csv(r\"data/Life/Deaths/StateDeathsAge.txt\", delimiter=\"\t\", na_values = ['Not Applicable'])\n",
    "    df = df.dropna(subset=[\"State\",\"ICD-10 113 Cause List Code\", \"Population\"]) \n",
    "    state_df= df[df[\"State\"] == \"Michigan\"]\n",
    "    #state_df = state_df[state_df[\"Ten-Year Age Groups Code\"] ==age]\n",
    "    state_df[\"Rate\"] = (state_df[\"Deaths\"] / state_df[\"Population\"])*100000\n",
    "    state_df[\"Rate\"] = np.round(state_df[\"Rate\"], 2)\n",
    "    state_df[\"Child_Adj_Rate\"] = state_df[\"Rate\"]\n",
    "\n",
    "\n",
    "    df_final = pd.merge(state_df, df_heirarchy, on=\"ICD-10 113 Cause List\")\n",
    "    df_final = df_final.drop(columns=[\"ICD-10 113 Cause List Code\", \"ranges\", \"chapters\", \"base\", \"Notes\"])\n",
    "    return df_final"
   ]
  },
  {
   "cell_type": "code",
   "execution_count": 132,
   "metadata": {},
   "outputs": [],
   "source": [
    "def add_children(name, child, order):\n",
    "    order.append(name)\n",
    "    if len(child[\"children\"]) > 0: \n",
    "        for grand_child in child[\"children\"]:\n",
    "            add_children(grand_child, flat_heirarchy[grand_child], order)\n",
    "def get_depth_order(flat_heirarchy):\n",
    "    order = []\n",
    "    for key, value in flat_heirarchy.items():\n",
    "        if len(value[\"parents\"]) == 0:\n",
    "            order.append(key)\n",
    "            for children in value[\"children\"]:\n",
    "                add_children(children, flat_heirarchy[children],order)\n",
    "    return order"
   ]
  },
  {
   "cell_type": "code",
   "execution_count": 133,
   "metadata": {},
   "outputs": [],
   "source": [
    "def get_age_cod(df, age, all_ages=False):\n",
    "    f = open(\"icd-10-flat-Structure.json\")\n",
    "    flat_heirarchy = json.load(f)\n",
    "    order = get_depth_order(flat_heirarchy)\n",
    "    df = df[df[\"Ten-Year Age Groups Code\"] ==age]\n",
    "    for e in range(5):\n",
    "        for i, row in df.iterrows():\n",
    "            children_total = 0\n",
    "            children_values =[]\n",
    "            if len(row[\"children\"]) > 0:\n",
    "                for child in row[\"children\"]:\n",
    "                    try:\n",
    "                        children_total += df[df[\"ICD-10 113 Cause List\"] == child][\"Child_Adj_Rate\"].values[0]\n",
    "                        children_values.append(df[df[\"ICD-10 113 Cause List\"] == child][\"Child_Adj_Rate\"].values[0])\n",
    "                    except:\n",
    "                        None\n",
    "            df.at[i, \"Child_Adj_Rate\"] = max(row[\"Child_Adj_Rate\"], children_total)\n",
    "    df[\"ICD-10 113 Cause List\"] = df[\"ICD-10 113 Cause List\"].astype(\"category\")\n",
    "    df[\"ICD-10 113 Cause List\"] = df[\"ICD-10 113 Cause List\"].cat.set_categories(order, ordered=True)\n",
    "    df = df.sort_values(\"ICD-10 113 Cause List\")\n",
    "    \n",
    "    labels = [age]\n",
    "    parents = [\"\"]\n",
    "    if all_ages:\n",
    "        parents = [\"All Ages\"]\n",
    "    values = [0]\n",
    "    colors = [\"white\"]\n",
    "    for i, row in df.iterrows():\n",
    "        labels.append(row[\"ICD-10 113 Cause List\"] + \" \" + str(age)[:2])\n",
    "        if len(row[\"parents\"]) > 0:\n",
    "            parents.append(row[\"parents\"][0] + \" \" + str(age)[:2])\n",
    "        else: \n",
    "            parents.append(age)\n",
    "            values[0] += row[\"Child_Adj_Rate\"]\n",
    "        values.append(row[\"Child_Adj_Rate\"])\n",
    "    return labels, parents, values, df, values[0]\n",
    "    \n",
    "df_final = load_state_cod()\n",
    "labels, parents, values, df, total = get_age_cod(df_final, age, all_ages=True)"
   ]
  },
  {
   "cell_type": "code",
   "execution_count": 134,
   "metadata": {},
   "outputs": [
    {
     "data": {
      "text/html": [
       "<div>\n",
       "<style scoped>\n",
       "    .dataframe tbody tr th:only-of-type {\n",
       "        vertical-align: middle;\n",
       "    }\n",
       "\n",
       "    .dataframe tbody tr th {\n",
       "        vertical-align: top;\n",
       "    }\n",
       "\n",
       "    .dataframe thead th {\n",
       "        text-align: right;\n",
       "    }\n",
       "</style>\n",
       "<table border=\"1\" class=\"dataframe\">\n",
       "  <thead>\n",
       "    <tr style=\"text-align: right;\">\n",
       "      <th></th>\n",
       "      <th>State</th>\n",
       "      <th>State Code</th>\n",
       "      <th>ICD-10 113 Cause List</th>\n",
       "      <th>Ten-Year Age Groups</th>\n",
       "      <th>Ten-Year Age Groups Code</th>\n",
       "      <th>Deaths</th>\n",
       "      <th>Population</th>\n",
       "      <th>Crude Rate</th>\n",
       "      <th>Rate</th>\n",
       "      <th>Child_Adj_Rate</th>\n",
       "      <th>common_name</th>\n",
       "      <th>children</th>\n",
       "      <th>parents</th>\n",
       "    </tr>\n",
       "  </thead>\n",
       "  <tbody>\n",
       "    <tr>\n",
       "      <th>0</th>\n",
       "      <td>Michigan</td>\n",
       "      <td>26.0</td>\n",
       "      <td>Certain other intestinal infections (A04,A07-A09)</td>\n",
       "      <td>45-54 years</td>\n",
       "      <td>45-54</td>\n",
       "      <td>10.0</td>\n",
       "      <td>1254679.0</td>\n",
       "      <td>Unreliable</td>\n",
       "      <td>0.80</td>\n",
       "      <td>0.80</td>\n",
       "      <td>Certain other intestinal infections</td>\n",
       "      <td>[#Enterocolitis due to Clostridium difficile (...</td>\n",
       "      <td>[]</td>\n",
       "    </tr>\n",
       "    <tr>\n",
       "      <th>1</th>\n",
       "      <td>Michigan</td>\n",
       "      <td>26.0</td>\n",
       "      <td>Certain other intestinal infections (A04,A07-A09)</td>\n",
       "      <td>55-64 years</td>\n",
       "      <td>55-64</td>\n",
       "      <td>21.0</td>\n",
       "      <td>1399535.0</td>\n",
       "      <td>1.5</td>\n",
       "      <td>1.50</td>\n",
       "      <td>1.50</td>\n",
       "      <td>Certain other intestinal infections</td>\n",
       "      <td>[#Enterocolitis due to Clostridium difficile (...</td>\n",
       "      <td>[]</td>\n",
       "    </tr>\n",
       "    <tr>\n",
       "      <th>2</th>\n",
       "      <td>Michigan</td>\n",
       "      <td>26.0</td>\n",
       "      <td>Certain other intestinal infections (A04,A07-A09)</td>\n",
       "      <td>65-74 years</td>\n",
       "      <td>65-74</td>\n",
       "      <td>32.0</td>\n",
       "      <td>1037580.0</td>\n",
       "      <td>3.1</td>\n",
       "      <td>3.08</td>\n",
       "      <td>3.08</td>\n",
       "      <td>Certain other intestinal infections</td>\n",
       "      <td>[#Enterocolitis due to Clostridium difficile (...</td>\n",
       "      <td>[]</td>\n",
       "    </tr>\n",
       "    <tr>\n",
       "      <th>3</th>\n",
       "      <td>Michigan</td>\n",
       "      <td>26.0</td>\n",
       "      <td>Certain other intestinal infections (A04,A07-A09)</td>\n",
       "      <td>75-84 years</td>\n",
       "      <td>75-84</td>\n",
       "      <td>51.0</td>\n",
       "      <td>514685.0</td>\n",
       "      <td>9.9</td>\n",
       "      <td>9.91</td>\n",
       "      <td>9.91</td>\n",
       "      <td>Certain other intestinal infections</td>\n",
       "      <td>[#Enterocolitis due to Clostridium difficile (...</td>\n",
       "      <td>[]</td>\n",
       "    </tr>\n",
       "    <tr>\n",
       "      <th>4</th>\n",
       "      <td>Michigan</td>\n",
       "      <td>26.0</td>\n",
       "      <td>Certain other intestinal infections (A04,A07-A09)</td>\n",
       "      <td>85+ years</td>\n",
       "      <td>85+</td>\n",
       "      <td>61.0</td>\n",
       "      <td>213136.0</td>\n",
       "      <td>28.6</td>\n",
       "      <td>28.62</td>\n",
       "      <td>28.62</td>\n",
       "      <td>Certain other intestinal infections</td>\n",
       "      <td>[#Enterocolitis due to Clostridium difficile (...</td>\n",
       "      <td>[]</td>\n",
       "    </tr>\n",
       "    <tr>\n",
       "      <th>...</th>\n",
       "      <td>...</td>\n",
       "      <td>...</td>\n",
       "      <td>...</td>\n",
       "      <td>...</td>\n",
       "      <td>...</td>\n",
       "      <td>...</td>\n",
       "      <td>...</td>\n",
       "      <td>...</td>\n",
       "      <td>...</td>\n",
       "      <td>...</td>\n",
       "      <td>...</td>\n",
       "      <td>...</td>\n",
       "      <td>...</td>\n",
       "    </tr>\n",
       "    <tr>\n",
       "      <th>598</th>\n",
       "      <td>Michigan</td>\n",
       "      <td>26.0</td>\n",
       "      <td>#Complications of medical and surgical care (Y...</td>\n",
       "      <td>85+ years</td>\n",
       "      <td>85+</td>\n",
       "      <td>15.0</td>\n",
       "      <td>213136.0</td>\n",
       "      <td>Unreliable</td>\n",
       "      <td>7.04</td>\n",
       "      <td>7.04</td>\n",
       "      <td>Medical Care Complications</td>\n",
       "      <td>[]</td>\n",
       "      <td>[]</td>\n",
       "    </tr>\n",
       "    <tr>\n",
       "      <th>599</th>\n",
       "      <td>Michigan</td>\n",
       "      <td>26.0</td>\n",
       "      <td>#Enterocolitis due to Clostridium difficile (A...</td>\n",
       "      <td>55-64 years</td>\n",
       "      <td>55-64</td>\n",
       "      <td>15.0</td>\n",
       "      <td>1399535.0</td>\n",
       "      <td>Unreliable</td>\n",
       "      <td>1.07</td>\n",
       "      <td>1.07</td>\n",
       "      <td>#Enterocolitis due to Clostridium difficile</td>\n",
       "      <td>[]</td>\n",
       "      <td>[Certain other intestinal infections (A04,A07-...</td>\n",
       "    </tr>\n",
       "    <tr>\n",
       "      <th>600</th>\n",
       "      <td>Michigan</td>\n",
       "      <td>26.0</td>\n",
       "      <td>#Enterocolitis due to Clostridium difficile (A...</td>\n",
       "      <td>65-74 years</td>\n",
       "      <td>65-74</td>\n",
       "      <td>21.0</td>\n",
       "      <td>1037580.0</td>\n",
       "      <td>2.0</td>\n",
       "      <td>2.02</td>\n",
       "      <td>2.02</td>\n",
       "      <td>#Enterocolitis due to Clostridium difficile</td>\n",
       "      <td>[]</td>\n",
       "      <td>[Certain other intestinal infections (A04,A07-...</td>\n",
       "    </tr>\n",
       "    <tr>\n",
       "      <th>601</th>\n",
       "      <td>Michigan</td>\n",
       "      <td>26.0</td>\n",
       "      <td>#Enterocolitis due to Clostridium difficile (A...</td>\n",
       "      <td>75-84 years</td>\n",
       "      <td>75-84</td>\n",
       "      <td>34.0</td>\n",
       "      <td>514685.0</td>\n",
       "      <td>6.6</td>\n",
       "      <td>6.61</td>\n",
       "      <td>6.61</td>\n",
       "      <td>#Enterocolitis due to Clostridium difficile</td>\n",
       "      <td>[]</td>\n",
       "      <td>[Certain other intestinal infections (A04,A07-...</td>\n",
       "    </tr>\n",
       "    <tr>\n",
       "      <th>602</th>\n",
       "      <td>Michigan</td>\n",
       "      <td>26.0</td>\n",
       "      <td>#Enterocolitis due to Clostridium difficile (A...</td>\n",
       "      <td>85+ years</td>\n",
       "      <td>85+</td>\n",
       "      <td>35.0</td>\n",
       "      <td>213136.0</td>\n",
       "      <td>16.4</td>\n",
       "      <td>16.42</td>\n",
       "      <td>16.42</td>\n",
       "      <td>#Enterocolitis due to Clostridium difficile</td>\n",
       "      <td>[]</td>\n",
       "      <td>[Certain other intestinal infections (A04,A07-...</td>\n",
       "    </tr>\n",
       "  </tbody>\n",
       "</table>\n",
       "<p>603 rows × 13 columns</p>\n",
       "</div>"
      ],
      "text/plain": [
       "        State  State Code                              ICD-10 113 Cause List  \\\n",
       "0    Michigan        26.0  Certain other intestinal infections (A04,A07-A09)   \n",
       "1    Michigan        26.0  Certain other intestinal infections (A04,A07-A09)   \n",
       "2    Michigan        26.0  Certain other intestinal infections (A04,A07-A09)   \n",
       "3    Michigan        26.0  Certain other intestinal infections (A04,A07-A09)   \n",
       "4    Michigan        26.0  Certain other intestinal infections (A04,A07-A09)   \n",
       "..        ...         ...                                                ...   \n",
       "598  Michigan        26.0  #Complications of medical and surgical care (Y...   \n",
       "599  Michigan        26.0  #Enterocolitis due to Clostridium difficile (A...   \n",
       "600  Michigan        26.0  #Enterocolitis due to Clostridium difficile (A...   \n",
       "601  Michigan        26.0  #Enterocolitis due to Clostridium difficile (A...   \n",
       "602  Michigan        26.0  #Enterocolitis due to Clostridium difficile (A...   \n",
       "\n",
       "    Ten-Year Age Groups Ten-Year Age Groups Code  Deaths  Population  \\\n",
       "0           45-54 years                    45-54    10.0   1254679.0   \n",
       "1           55-64 years                    55-64    21.0   1399535.0   \n",
       "2           65-74 years                    65-74    32.0   1037580.0   \n",
       "3           75-84 years                    75-84    51.0    514685.0   \n",
       "4             85+ years                      85+    61.0    213136.0   \n",
       "..                  ...                      ...     ...         ...   \n",
       "598           85+ years                      85+    15.0    213136.0   \n",
       "599         55-64 years                    55-64    15.0   1399535.0   \n",
       "600         65-74 years                    65-74    21.0   1037580.0   \n",
       "601         75-84 years                    75-84    34.0    514685.0   \n",
       "602           85+ years                      85+    35.0    213136.0   \n",
       "\n",
       "     Crude Rate   Rate  Child_Adj_Rate  \\\n",
       "0    Unreliable   0.80            0.80   \n",
       "1           1.5   1.50            1.50   \n",
       "2           3.1   3.08            3.08   \n",
       "3           9.9   9.91            9.91   \n",
       "4          28.6  28.62           28.62   \n",
       "..          ...    ...             ...   \n",
       "598  Unreliable   7.04            7.04   \n",
       "599  Unreliable   1.07            1.07   \n",
       "600         2.0   2.02            2.02   \n",
       "601         6.6   6.61            6.61   \n",
       "602        16.4  16.42           16.42   \n",
       "\n",
       "                                     common_name  \\\n",
       "0            Certain other intestinal infections   \n",
       "1            Certain other intestinal infections   \n",
       "2            Certain other intestinal infections   \n",
       "3            Certain other intestinal infections   \n",
       "4            Certain other intestinal infections   \n",
       "..                                           ...   \n",
       "598                   Medical Care Complications   \n",
       "599  #Enterocolitis due to Clostridium difficile   \n",
       "600  #Enterocolitis due to Clostridium difficile   \n",
       "601  #Enterocolitis due to Clostridium difficile   \n",
       "602  #Enterocolitis due to Clostridium difficile   \n",
       "\n",
       "                                              children  \\\n",
       "0    [#Enterocolitis due to Clostridium difficile (...   \n",
       "1    [#Enterocolitis due to Clostridium difficile (...   \n",
       "2    [#Enterocolitis due to Clostridium difficile (...   \n",
       "3    [#Enterocolitis due to Clostridium difficile (...   \n",
       "4    [#Enterocolitis due to Clostridium difficile (...   \n",
       "..                                                 ...   \n",
       "598                                                 []   \n",
       "599                                                 []   \n",
       "600                                                 []   \n",
       "601                                                 []   \n",
       "602                                                 []   \n",
       "\n",
       "                                               parents  \n",
       "0                                                   []  \n",
       "1                                                   []  \n",
       "2                                                   []  \n",
       "3                                                   []  \n",
       "4                                                   []  \n",
       "..                                                 ...  \n",
       "598                                                 []  \n",
       "599  [Certain other intestinal infections (A04,A07-...  \n",
       "600  [Certain other intestinal infections (A04,A07-...  \n",
       "601  [Certain other intestinal infections (A04,A07-...  \n",
       "602  [Certain other intestinal infections (A04,A07-...  \n",
       "\n",
       "[603 rows x 13 columns]"
      ]
     },
     "execution_count": 134,
     "metadata": {},
     "output_type": "execute_result"
    }
   ],
   "source": [
    "df_final"
   ]
  },
  {
   "cell_type": "code",
   "execution_count": 139,
   "metadata": {},
   "outputs": [],
   "source": [
    "def get_all_age_cod(df):\n",
    "    all_labels = [\"All Ages\"]\n",
    "    all_parents = [\"\"]\n",
    "    all_values = [0]\n",
    "    for age in df[\"Ten-Year Age Groups Code\"].unique():\n",
    "        labels, parents, values, df_age, total = get_age_cod(df, age, True)\n",
    "        all_labels.extend(labels)\n",
    "        all_parents.extend(parents)\n",
    "        all_values.extend(values)\n",
    "        all_values[0] += total\n",
    "    return all_labels, all_parents, all_values\n",
    "    \n",
    "final_labels, final_parents, final_values = get_all_age_cod(df_final)    "
   ]
  },
  {
   "cell_type": "code",
   "execution_count": null,
   "metadata": {},
   "outputs": [],
   "source": []
  },
  {
   "cell_type": "code",
   "execution_count": 140,
   "metadata": {},
   "outputs": [
    {
     "data": {
      "text/plain": [
       "['All Ages',\n",
       " '45-54',\n",
       " 'Certain other intestinal infections (A04,A07-A09) 45',\n",
       " '#Septicemia (A40-A41) 45',\n",
       " '#Viral hepatitis (B15-B19) 45',\n",
       " '#Human immunodeficiency virus (HIV) disease (B20-B24) 45',\n",
       " 'Other and unspecified infectious and parasitic diseases and their sequelae (A00,A05,A20-A36,A42-A44,A48-A49,A54-A79,A81-A82,A85.0-A85.1,A85.8,A86-B04,B06-B09,B25-B49,B55-B99,U07.1) 45',\n",
       " '#Malignant neoplasms (C00-C97) 45',\n",
       " 'Malignant neoplasms of kidney and renal pelvis (C64-C65) 45',\n",
       " 'Malignant neoplasms of liver and intrahepatic bile ducts (C22) 45',\n",
       " 'Malignant neoplasms of meninges, brain and other parts of central nervous system (C70-C72) 45',\n",
       " 'Malignant neoplasm of stomach (C16) 45',\n",
       " 'Malignant neoplasm of cervix uteri (C53) 45',\n",
       " 'Malignant neoplasm of larynx (C32) 45',\n",
       " 'Malignant neoplasm of bladder (C67) 45',\n",
       " 'All other and unspecified malignant neoplasms (C17,C23-C24,C26-C31,C37-C41,C44-C49,C51-C52,C57-C60,C62-C63,C66,C68-C69,C73-C80,C97) 45',\n",
       " 'Malignant neoplasm of breast (C50) 45',\n",
       " 'Malignant neoplasms of lymphoid, hematopoietic and related tissue (C81-C96) 45',\n",
       " 'Leukemia (C91-C95) 45',\n",
       " 'Non-Hodgkin lymphoma (C82-C85) 45',\n",
       " 'Multiple myeloma and immunoproliferative neoplasms (C88,C90) 45',\n",
       " 'Malignant neoplasm of prostate (C61) 45',\n",
       " 'Malignant melanoma of skin (C43) 45',\n",
       " 'Malignant neoplasm of esophagus (C15) 45',\n",
       " 'Malignant neoplasms of corpus uteri and uterus, part unspecified (C54-C55) 45',\n",
       " 'Malignant neoplasms of colon, rectum and anus (C18-C21) 45',\n",
       " 'Malignant neoplasm of ovary (C56) 45',\n",
       " 'Malignant neoplasms of lip, oral cavity and pharynx (C00-C14) 45',\n",
       " 'Malignant neoplasm of pancreas (C25) 45',\n",
       " 'Malignant neoplasms of trachea, bronchus and lung (C33-C34) 45',\n",
       " '#In situ neoplasms, benign neoplasms and neoplasms of uncertain or unknown behavior (D00-D48) 45',\n",
       " '#Diabetes mellitus (E10-E14) 45',\n",
       " 'Major cardiovascular diseases (I00-I78) 45',\n",
       " '#Cerebrovascular diseases (I60-I69) 45',\n",
       " '#Diseases of heart (I00-I09,I11,I13,I20-I51) 45',\n",
       " 'Ischemic heart diseases (I20-I25) 45',\n",
       " 'Acute myocardial infarction (I21-I22) 45',\n",
       " 'Other forms of chronic ischemic heart disease (I20,I25) 45',\n",
       " 'All other forms of chronic ischemic heart disease (I20,I25.1-I25.9) 45',\n",
       " 'Atherosclerotic cardiovascular disease, so described (I25.0) 45',\n",
       " 'Other heart diseases (I26-I51) 45',\n",
       " 'Heart failure (I50) 45',\n",
       " 'All other forms of heart disease (I26-I28,I34-I38,I42-I49,I51) 45',\n",
       " 'Hypertensive heart disease (I11) 45',\n",
       " 'Hypertensive heart and renal disease (I13) 45',\n",
       " 'Other diseases of circulatory system (I71-I78) 45',\n",
       " 'Other diseases of arteries, arterioles and capillaries (I72-I78) 45',\n",
       " '#Aortic aneurysm and dissection (I71) 45',\n",
       " '#Essential hypertension and hypertensive renal disease (I10,I12,I15) 45',\n",
       " 'Other disorders of circulatory system (I80-I99) 45',\n",
       " '#Influenza and pneumonia (J09-J18) 45',\n",
       " 'Influenza (J09-J11) 45',\n",
       " 'Pneumonia (J12-J18) 45',\n",
       " '#Chronic lower respiratory diseases (J40-J47) 45',\n",
       " 'Asthma (J45-J46) 45',\n",
       " 'Other chronic lower respiratory diseases (J44,J47) 45',\n",
       " '#Pneumonitis due to solids and liquids (J69) 45',\n",
       " 'Other diseases of respiratory system (J00-J06,J30- J39,J67,J70-J98) 45',\n",
       " '#Chronic liver disease and cirrhosis (K70,K73-K74) 45',\n",
       " 'Alcoholic liver disease (K70) 45',\n",
       " 'Other chronic liver disease and cirrhosis (K73-K74) 45',\n",
       " '#Nephritis, nephrotic syndrome and nephrosis (N00-N07,N17-N19,N25-N27) 45',\n",
       " 'Renal failure (N17-N19) 45',\n",
       " '#Congenital malformations, deformations and chromosomal abnormalities (Q00-Q99) 45',\n",
       " 'Symptoms, signs and abnormal clinical and laboratory findings, not elsewhere classified (R00-R99) 45',\n",
       " 'All other diseases (Residual)  45',\n",
       " '#Accidents (unintentional injuries) (V01-X59,Y85-Y86) 45',\n",
       " 'Transport accidents (V01-V99,Y85) 45',\n",
       " 'Motor vehicle accidents (V02-V04,V09.0,V09.2,V12-V14,V19.0-V19.2,V19.4-V19.6,V20-V79,V80.3-V80.5,V81.0-V81.1,V82.0-V82.1,V83-V86,V87.0-V87.8,V88.0-V88.8,V89.0,V89.2) 45',\n",
       " 'Water, air and space, and other and unspecified transport accidents and their sequelae (V90-V99,Y85) 45',\n",
       " 'Nontransport accidents (W00-X59,Y86) 45',\n",
       " 'Falls (W00-W19) 45',\n",
       " 'Other and unspecified nontransport accidents and their sequelae (W20-W31,W35-W64,W75-W99,X10-X39,X50-X59,Y86) 45',\n",
       " 'Accidental poisoning and exposure to noxious substances (X40-X49) 45',\n",
       " '#Intentional self-harm (suicide) (*U03,X60-X84,Y87.0) 45',\n",
       " 'Intentional self-harm (suicide) by other and unspecified means and their sequelae (*U03,X60-X71,X75-X84,Y87.0) 45',\n",
       " 'Intentional self-harm (suicide) by discharge of firearms (X72-X74) 45',\n",
       " '#Assault (homicide) (*U01-*U02,X85-Y09,Y87.1) 45',\n",
       " 'Assault (homicide) by other and unspecified means and their sequelae (*U01.0-*U01.3,*U01.5-*U01.9,*U02,X85-X92,X96-Y09,Y87.1) 45',\n",
       " 'Assault (homicide) by discharge of firearms (*U01.4,X93-X95) 45',\n",
       " 'Events of undetermined intent (Y10-Y34,Y87.2,Y89.9) 45',\n",
       " 'Other and unspecified events of undetermined intent and their sequelae (Y10-Y21,Y25-Y34,Y87.2,Y89.9) 45',\n",
       " '55-64',\n",
       " 'Certain other intestinal infections (A04,A07-A09) 55',\n",
       " '#Enterocolitis due to Clostridium difficile (A04.7) 55',\n",
       " '#Septicemia (A40-A41) 55',\n",
       " '#Viral hepatitis (B15-B19) 55',\n",
       " '#Human immunodeficiency virus (HIV) disease (B20-B24) 55',\n",
       " 'Other and unspecified infectious and parasitic diseases and their sequelae (A00,A05,A20-A36,A42-A44,A48-A49,A54-A79,A81-A82,A85.0-A85.1,A85.8,A86-B04,B06-B09,B25-B49,B55-B99,U07.1) 55',\n",
       " '#Malignant neoplasms (C00-C97) 55',\n",
       " 'Malignant neoplasms of kidney and renal pelvis (C64-C65) 55',\n",
       " 'Malignant neoplasms of liver and intrahepatic bile ducts (C22) 55',\n",
       " 'Malignant neoplasms of meninges, brain and other parts of central nervous system (C70-C72) 55',\n",
       " 'Malignant neoplasm of stomach (C16) 55',\n",
       " 'Malignant neoplasm of cervix uteri (C53) 55',\n",
       " 'Malignant neoplasm of larynx (C32) 55',\n",
       " 'Malignant neoplasm of bladder (C67) 55',\n",
       " 'All other and unspecified malignant neoplasms (C17,C23-C24,C26-C31,C37-C41,C44-C49,C51-C52,C57-C60,C62-C63,C66,C68-C69,C73-C80,C97) 55',\n",
       " 'Malignant neoplasm of breast (C50) 55',\n",
       " 'Malignant neoplasms of lymphoid, hematopoietic and related tissue (C81-C96) 55',\n",
       " 'Leukemia (C91-C95) 55',\n",
       " 'Non-Hodgkin lymphoma (C82-C85) 55',\n",
       " 'Multiple myeloma and immunoproliferative neoplasms (C88,C90) 55',\n",
       " 'Malignant neoplasm of prostate (C61) 55',\n",
       " 'Malignant melanoma of skin (C43) 55',\n",
       " 'Malignant neoplasm of esophagus (C15) 55',\n",
       " 'Malignant neoplasms of corpus uteri and uterus, part unspecified (C54-C55) 55',\n",
       " 'Malignant neoplasms of colon, rectum and anus (C18-C21) 55',\n",
       " 'Malignant neoplasm of ovary (C56) 55',\n",
       " 'Malignant neoplasms of lip, oral cavity and pharynx (C00-C14) 55',\n",
       " 'Malignant neoplasm of pancreas (C25) 55',\n",
       " 'Malignant neoplasms of trachea, bronchus and lung (C33-C34) 55',\n",
       " '#In situ neoplasms, benign neoplasms and neoplasms of uncertain or unknown behavior (D00-D48) 55',\n",
       " '#Anemias (D50-D64) 55',\n",
       " '#Diabetes mellitus (E10-E14) 55',\n",
       " '#Nutritional deficiencies (E40-E64) 55',\n",
       " 'Malnutrition (E40-E46) 55',\n",
       " '#Parkinson disease (G20-G21) 55',\n",
       " '#Alzheimer disease (G30) 55',\n",
       " 'Major cardiovascular diseases (I00-I78) 55',\n",
       " '#Atherosclerosis (I70) 55',\n",
       " '#Cerebrovascular diseases (I60-I69) 55',\n",
       " '#Diseases of heart (I00-I09,I11,I13,I20-I51) 55',\n",
       " 'Ischemic heart diseases (I20-I25) 55',\n",
       " 'Acute myocardial infarction (I21-I22) 55',\n",
       " 'Other forms of chronic ischemic heart disease (I20,I25) 55',\n",
       " 'All other forms of chronic ischemic heart disease (I20,I25.1-I25.9) 55',\n",
       " 'Atherosclerotic cardiovascular disease, so described (I25.0) 55',\n",
       " 'Other acute ischemic heart diseases (I24) 55',\n",
       " 'Other heart diseases (I26-I51) 55',\n",
       " 'Heart failure (I50) 55',\n",
       " 'All other forms of heart disease (I26-I28,I34-I38,I42-I49,I51) 55',\n",
       " 'Acute and subacute endocarditis (I33) 55',\n",
       " 'Hypertensive heart disease (I11) 55',\n",
       " 'Acute rheumatic fever and chronic rheumatic heart diseases (I00-I09) 55',\n",
       " 'Hypertensive heart and renal disease (I13) 55',\n",
       " 'Other diseases of circulatory system (I71-I78) 55',\n",
       " 'Other diseases of arteries, arterioles and capillaries (I72-I78) 55',\n",
       " '#Aortic aneurysm and dissection (I71) 55',\n",
       " '#Essential hypertension and hypertensive renal disease (I10,I12,I15) 55',\n",
       " 'Other disorders of circulatory system (I80-I99) 55',\n",
       " '#Influenza and pneumonia (J09-J18) 55',\n",
       " 'Influenza (J09-J11) 55',\n",
       " 'Pneumonia (J12-J18) 55',\n",
       " '#Chronic lower respiratory diseases (J40-J47) 55',\n",
       " 'Asthma (J45-J46) 55',\n",
       " 'Other chronic lower respiratory diseases (J44,J47) 55',\n",
       " 'Emphysema (J43) 55',\n",
       " '#Pneumonitis due to solids and liquids (J69) 55',\n",
       " 'Other diseases of respiratory system (J00-J06,J30- J39,J67,J70-J98) 55',\n",
       " '#Peptic ulcer (K25-K28) 55',\n",
       " '#Chronic liver disease and cirrhosis (K70,K73-K74) 55',\n",
       " 'Alcoholic liver disease (K70) 55',\n",
       " 'Other chronic liver disease and cirrhosis (K73-K74) 55',\n",
       " '#Nephritis, nephrotic syndrome and nephrosis (N00-N07,N17-N19,N25-N27) 55',\n",
       " 'Renal failure (N17-N19) 55',\n",
       " '#Congenital malformations, deformations and chromosomal abnormalities (Q00-Q99) 55',\n",
       " 'Symptoms, signs and abnormal clinical and laboratory findings, not elsewhere classified (R00-R99) 55',\n",
       " 'All other diseases (Residual)  55',\n",
       " '#Accidents (unintentional injuries) (V01-X59,Y85-Y86) 55',\n",
       " 'Transport accidents (V01-V99,Y85) 55',\n",
       " 'Motor vehicle accidents (V02-V04,V09.0,V09.2,V12-V14,V19.0-V19.2,V19.4-V19.6,V20-V79,V80.3-V80.5,V81.0-V81.1,V82.0-V82.1,V83-V86,V87.0-V87.8,V88.0-V88.8,V89.0,V89.2) 55',\n",
       " 'Water, air and space, and other and unspecified transport accidents and their sequelae (V90-V99,Y85) 55',\n",
       " 'Nontransport accidents (W00-X59,Y86) 55',\n",
       " 'Falls (W00-W19) 55',\n",
       " 'Other and unspecified nontransport accidents and their sequelae (W20-W31,W35-W64,W75-W99,X10-X39,X50-X59,Y86) 55',\n",
       " 'Accidental exposure to smoke, fire and flames (X00-X09) 55',\n",
       " 'Accidental poisoning and exposure to noxious substances (X40-X49) 55',\n",
       " 'Accidental drowning and submersion (W65-W74) 55',\n",
       " '#Intentional self-harm (suicide) (*U03,X60-X84,Y87.0) 55',\n",
       " 'Intentional self-harm (suicide) by other and unspecified means and their sequelae (*U03,X60-X71,X75-X84,Y87.0) 55',\n",
       " 'Intentional self-harm (suicide) by discharge of firearms (X72-X74) 55',\n",
       " '#Assault (homicide) (*U01-*U02,X85-Y09,Y87.1) 55',\n",
       " 'Assault (homicide) by other and unspecified means and their sequelae (*U01.0-*U01.3,*U01.5-*U01.9,*U02,X85-X92,X96-Y09,Y87.1) 55',\n",
       " 'Assault (homicide) by discharge of firearms (*U01.4,X93-X95) 55',\n",
       " 'Events of undetermined intent (Y10-Y34,Y87.2,Y89.9) 55',\n",
       " 'Other and unspecified events of undetermined intent and their sequelae (Y10-Y21,Y25-Y34,Y87.2,Y89.9) 55',\n",
       " '#Complications of medical and surgical care (Y40-Y84,Y88) 55',\n",
       " '65-74',\n",
       " 'Certain other intestinal infections (A04,A07-A09) 65',\n",
       " '#Enterocolitis due to Clostridium difficile (A04.7) 65',\n",
       " '#Septicemia (A40-A41) 65',\n",
       " '#Viral hepatitis (B15-B19) 65',\n",
       " '#Human immunodeficiency virus (HIV) disease (B20-B24) 65',\n",
       " 'Other and unspecified infectious and parasitic diseases and their sequelae (A00,A05,A20-A36,A42-A44,A48-A49,A54-A79,A81-A82,A85.0-A85.1,A85.8,A86-B04,B06-B09,B25-B49,B55-B99,U07.1) 65',\n",
       " '#Malignant neoplasms (C00-C97) 65',\n",
       " 'Malignant neoplasms of kidney and renal pelvis (C64-C65) 65',\n",
       " 'Malignant neoplasms of liver and intrahepatic bile ducts (C22) 65',\n",
       " 'Malignant neoplasms of meninges, brain and other parts of central nervous system (C70-C72) 65',\n",
       " 'Malignant neoplasm of stomach (C16) 65',\n",
       " 'Malignant neoplasm of cervix uteri (C53) 65',\n",
       " 'Malignant neoplasm of larynx (C32) 65',\n",
       " 'Malignant neoplasm of bladder (C67) 65',\n",
       " 'All other and unspecified malignant neoplasms (C17,C23-C24,C26-C31,C37-C41,C44-C49,C51-C52,C57-C60,C62-C63,C66,C68-C69,C73-C80,C97) 65',\n",
       " 'Malignant neoplasm of breast (C50) 65',\n",
       " 'Malignant neoplasms of lymphoid, hematopoietic and related tissue (C81-C96) 65',\n",
       " 'Leukemia (C91-C95) 65',\n",
       " 'Non-Hodgkin lymphoma (C82-C85) 65',\n",
       " 'Multiple myeloma and immunoproliferative neoplasms (C88,C90) 65',\n",
       " 'Malignant neoplasm of prostate (C61) 65',\n",
       " 'Malignant melanoma of skin (C43) 65',\n",
       " 'Malignant neoplasm of esophagus (C15) 65',\n",
       " 'Malignant neoplasms of corpus uteri and uterus, part unspecified (C54-C55) 65',\n",
       " 'Malignant neoplasms of colon, rectum and anus (C18-C21) 65',\n",
       " 'Malignant neoplasm of ovary (C56) 65',\n",
       " 'Malignant neoplasms of lip, oral cavity and pharynx (C00-C14) 65',\n",
       " 'Malignant neoplasm of pancreas (C25) 65',\n",
       " 'Malignant neoplasms of trachea, bronchus and lung (C33-C34) 65',\n",
       " '#In situ neoplasms, benign neoplasms and neoplasms of uncertain or unknown behavior (D00-D48) 65',\n",
       " '#Anemias (D50-D64) 65',\n",
       " '#Diabetes mellitus (E10-E14) 65',\n",
       " '#Nutritional deficiencies (E40-E64) 65',\n",
       " 'Malnutrition (E40-E46) 65',\n",
       " '#Parkinson disease (G20-G21) 65',\n",
       " '#Alzheimer disease (G30) 65',\n",
       " 'Major cardiovascular diseases (I00-I78) 65',\n",
       " '#Atherosclerosis (I70) 65',\n",
       " '#Cerebrovascular diseases (I60-I69) 65',\n",
       " '#Diseases of heart (I00-I09,I11,I13,I20-I51) 65',\n",
       " 'Ischemic heart diseases (I20-I25) 65',\n",
       " 'Acute myocardial infarction (I21-I22) 65',\n",
       " 'Other forms of chronic ischemic heart disease (I20,I25) 65',\n",
       " 'All other forms of chronic ischemic heart disease (I20,I25.1-I25.9) 65',\n",
       " 'Atherosclerotic cardiovascular disease, so described (I25.0) 65',\n",
       " 'Other acute ischemic heart diseases (I24) 65',\n",
       " 'Other heart diseases (I26-I51) 65',\n",
       " 'Heart failure (I50) 65',\n",
       " 'Diseases of pericardium and acute myocarditis (I30-I31,I40) 65',\n",
       " 'All other forms of heart disease (I26-I28,I34-I38,I42-I49,I51) 65',\n",
       " 'Acute and subacute endocarditis (I33) 65',\n",
       " 'Hypertensive heart disease (I11) 65',\n",
       " 'Acute rheumatic fever and chronic rheumatic heart diseases (I00-I09) 65',\n",
       " 'Hypertensive heart and renal disease (I13) 65',\n",
       " 'Other diseases of circulatory system (I71-I78) 65',\n",
       " 'Other diseases of arteries, arterioles and capillaries (I72-I78) 65',\n",
       " '#Aortic aneurysm and dissection (I71) 65',\n",
       " '#Essential hypertension and hypertensive renal disease (I10,I12,I15) 65',\n",
       " 'Other disorders of circulatory system (I80-I99) 65',\n",
       " '#Influenza and pneumonia (J09-J18) 65',\n",
       " 'Influenza (J09-J11) 65',\n",
       " 'Pneumonia (J12-J18) 65',\n",
       " '#Chronic lower respiratory diseases (J40-J47) 65',\n",
       " 'Asthma (J45-J46) 65',\n",
       " 'Other chronic lower respiratory diseases (J44,J47) 65',\n",
       " 'Emphysema (J43) 65',\n",
       " '#Pneumonitis due to solids and liquids (J69) 65',\n",
       " 'Other diseases of respiratory system (J00-J06,J30- J39,J67,J70-J98) 65',\n",
       " '#Peptic ulcer (K25-K28) 65',\n",
       " '#Chronic liver disease and cirrhosis (K70,K73-K74) 65',\n",
       " 'Alcoholic liver disease (K70) 65',\n",
       " 'Other chronic liver disease and cirrhosis (K73-K74) 65',\n",
       " '#Cholelithiasis and other disorders of gallbladder (K80-K82) 65',\n",
       " '#Nephritis, nephrotic syndrome and nephrosis (N00-N07,N17-N19,N25-N27) 65',\n",
       " 'Renal failure (N17-N19) 65',\n",
       " '#Congenital malformations, deformations and chromosomal abnormalities (Q00-Q99) 65',\n",
       " 'Symptoms, signs and abnormal clinical and laboratory findings, not elsewhere classified (R00-R99) 65',\n",
       " 'All other diseases (Residual)  65',\n",
       " '#Accidents (unintentional injuries) (V01-X59,Y85-Y86) 65',\n",
       " 'Transport accidents (V01-V99,Y85) 65',\n",
       " 'Motor vehicle accidents (V02-V04,V09.0,V09.2,V12-V14,V19.0-V19.2,V19.4-V19.6,V20-V79,V80.3-V80.5,V81.0-V81.1,V82.0-V82.1,V83-V86,V87.0-V87.8,V88.0-V88.8,V89.0,V89.2) 65',\n",
       " 'Water, air and space, and other and unspecified transport accidents and their sequelae (V90-V99,Y85) 65',\n",
       " 'Nontransport accidents (W00-X59,Y86) 65',\n",
       " 'Falls (W00-W19) 65',\n",
       " 'Other and unspecified nontransport accidents and their sequelae (W20-W31,W35-W64,W75-W99,X10-X39,X50-X59,Y86) 65',\n",
       " 'Accidental exposure to smoke, fire and flames (X00-X09) 65',\n",
       " 'Accidental poisoning and exposure to noxious substances (X40-X49) 65',\n",
       " 'Accidental drowning and submersion (W65-W74) 65',\n",
       " '#Intentional self-harm (suicide) (*U03,X60-X84,Y87.0) 65',\n",
       " 'Intentional self-harm (suicide) by other and unspecified means and their sequelae (*U03,X60-X71,X75-X84,Y87.0) 65',\n",
       " 'Intentional self-harm (suicide) by discharge of firearms (X72-X74) 65',\n",
       " '#Assault (homicide) (*U01-*U02,X85-Y09,Y87.1) 65',\n",
       " 'Assault (homicide) by other and unspecified means and their sequelae (*U01.0-*U01.3,*U01.5-*U01.9,*U02,X85-X92,X96-Y09,Y87.1) 65',\n",
       " 'Events of undetermined intent (Y10-Y34,Y87.2,Y89.9) 65',\n",
       " 'Other and unspecified events of undetermined intent and their sequelae (Y10-Y21,Y25-Y34,Y87.2,Y89.9) 65',\n",
       " '#Complications of medical and surgical care (Y40-Y84,Y88) 65',\n",
       " '#Hernia (K40-K46) 65',\n",
       " '75-84',\n",
       " 'Certain other intestinal infections (A04,A07-A09) 75',\n",
       " '#Enterocolitis due to Clostridium difficile (A04.7) 75',\n",
       " '#Septicemia (A40-A41) 75',\n",
       " '#Viral hepatitis (B15-B19) 75',\n",
       " 'Other and unspecified infectious and parasitic diseases and their sequelae (A00,A05,A20-A36,A42-A44,A48-A49,A54-A79,A81-A82,A85.0-A85.1,A85.8,A86-B04,B06-B09,B25-B49,B55-B99,U07.1) 75',\n",
       " '#Malignant neoplasms (C00-C97) 75',\n",
       " 'Malignant neoplasms of kidney and renal pelvis (C64-C65) 75',\n",
       " 'Malignant neoplasms of liver and intrahepatic bile ducts (C22) 75',\n",
       " 'Malignant neoplasms of meninges, brain and other parts of central nervous system (C70-C72) 75',\n",
       " 'Malignant neoplasm of stomach (C16) 75',\n",
       " 'Malignant neoplasm of cervix uteri (C53) 75',\n",
       " 'Malignant neoplasm of larynx (C32) 75',\n",
       " 'Malignant neoplasm of bladder (C67) 75',\n",
       " 'All other and unspecified malignant neoplasms (C17,C23-C24,C26-C31,C37-C41,C44-C49,C51-C52,C57-C60,C62-C63,C66,C68-C69,C73-C80,C97) 75',\n",
       " 'Malignant neoplasm of breast (C50) 75',\n",
       " 'Malignant neoplasms of lymphoid, hematopoietic and related tissue (C81-C96) 75',\n",
       " 'Leukemia (C91-C95) 75',\n",
       " 'Non-Hodgkin lymphoma (C82-C85) 75',\n",
       " 'Multiple myeloma and immunoproliferative neoplasms (C88,C90) 75',\n",
       " 'Malignant neoplasm of prostate (C61) 75',\n",
       " 'Malignant melanoma of skin (C43) 75',\n",
       " 'Malignant neoplasm of esophagus (C15) 75',\n",
       " 'Malignant neoplasms of corpus uteri and uterus, part unspecified (C54-C55) 75',\n",
       " 'Malignant neoplasms of colon, rectum and anus (C18-C21) 75',\n",
       " 'Malignant neoplasm of ovary (C56) 75',\n",
       " 'Malignant neoplasms of lip, oral cavity and pharynx (C00-C14) 75',\n",
       " 'Malignant neoplasm of pancreas (C25) 75',\n",
       " 'Malignant neoplasms of trachea, bronchus and lung (C33-C34) 75',\n",
       " '#In situ neoplasms, benign neoplasms and neoplasms of uncertain or unknown behavior (D00-D48) 75',\n",
       " '#Anemias (D50-D64) 75',\n",
       " '#Diabetes mellitus (E10-E14) 75',\n",
       " '#Nutritional deficiencies (E40-E64) 75',\n",
       " 'Malnutrition (E40-E46) 75',\n",
       " '#Parkinson disease (G20-G21) 75',\n",
       " '#Alzheimer disease (G30) 75',\n",
       " 'Major cardiovascular diseases (I00-I78) 75',\n",
       " '#Atherosclerosis (I70) 75',\n",
       " '#Cerebrovascular diseases (I60-I69) 75',\n",
       " '#Diseases of heart (I00-I09,I11,I13,I20-I51) 75',\n",
       " 'Ischemic heart diseases (I20-I25) 75',\n",
       " 'Acute myocardial infarction (I21-I22) 75',\n",
       " 'Other forms of chronic ischemic heart disease (I20,I25) 75',\n",
       " 'All other forms of chronic ischemic heart disease (I20,I25.1-I25.9) 75',\n",
       " 'Atherosclerotic cardiovascular disease, so described (I25.0) 75',\n",
       " 'Other acute ischemic heart diseases (I24) 75',\n",
       " 'Other heart diseases (I26-I51) 75',\n",
       " 'Heart failure (I50) 75',\n",
       " 'All other forms of heart disease (I26-I28,I34-I38,I42-I49,I51) 75',\n",
       " 'Acute and subacute endocarditis (I33) 75',\n",
       " 'Hypertensive heart disease (I11) 75',\n",
       " 'Acute rheumatic fever and chronic rheumatic heart diseases (I00-I09) 75',\n",
       " 'Hypertensive heart and renal disease (I13) 75',\n",
       " 'Other diseases of circulatory system (I71-I78) 75',\n",
       " 'Other diseases of arteries, arterioles and capillaries (I72-I78) 75',\n",
       " '#Aortic aneurysm and dissection (I71) 75',\n",
       " '#Essential hypertension and hypertensive renal disease (I10,I12,I15) 75',\n",
       " 'Other disorders of circulatory system (I80-I99) 75',\n",
       " '#Influenza and pneumonia (J09-J18) 75',\n",
       " 'Influenza (J09-J11) 75',\n",
       " 'Pneumonia (J12-J18) 75',\n",
       " '#Chronic lower respiratory diseases (J40-J47) 75',\n",
       " 'Other chronic lower respiratory diseases (J44,J47) 75',\n",
       " 'Emphysema (J43) 75',\n",
       " '#Pneumonitis due to solids and liquids (J69) 75',\n",
       " 'Other diseases of respiratory system (J00-J06,J30- J39,J67,J70-J98) 75',\n",
       " '#Peptic ulcer (K25-K28) 75',\n",
       " '#Chronic liver disease and cirrhosis (K70,K73-K74) 75',\n",
       " 'Alcoholic liver disease (K70) 75',\n",
       " 'Other chronic liver disease and cirrhosis (K73-K74) 75',\n",
       " '#Cholelithiasis and other disorders of gallbladder (K80-K82) 75',\n",
       " '#Nephritis, nephrotic syndrome and nephrosis (N00-N07,N17-N19,N25-N27) 75',\n",
       " 'Renal failure (N17-N19) 75',\n",
       " '#Congenital malformations, deformations and chromosomal abnormalities (Q00-Q99) 75',\n",
       " 'Symptoms, signs and abnormal clinical and laboratory findings, not elsewhere classified (R00-R99) 75',\n",
       " 'All other diseases (Residual)  75',\n",
       " '#Accidents (unintentional injuries) (V01-X59,Y85-Y86) 75',\n",
       " 'Transport accidents (V01-V99,Y85) 75',\n",
       " 'Motor vehicle accidents (V02-V04,V09.0,V09.2,V12-V14,V19.0-V19.2,V19.4-V19.6,V20-V79,V80.3-V80.5,V81.0-V81.1,V82.0-V82.1,V83-V86,V87.0-V87.8,V88.0-V88.8,V89.0,V89.2) 75',\n",
       " 'Nontransport accidents (W00-X59,Y86) 75',\n",
       " 'Falls (W00-W19) 75',\n",
       " 'Other and unspecified nontransport accidents and their sequelae (W20-W31,W35-W64,W75-W99,X10-X39,X50-X59,Y86) 75',\n",
       " 'Accidental exposure to smoke, fire and flames (X00-X09) 75',\n",
       " 'Accidental poisoning and exposure to noxious substances (X40-X49) 75',\n",
       " '#Intentional self-harm (suicide) (*U03,X60-X84,Y87.0) 75',\n",
       " 'Intentional self-harm (suicide) by other and unspecified means and their sequelae (*U03,X60-X71,X75-X84,Y87.0) 75',\n",
       " 'Intentional self-harm (suicide) by discharge of firearms (X72-X74) 75',\n",
       " '#Complications of medical and surgical care (Y40-Y84,Y88) 75',\n",
       " '#Hernia (K40-K46) 75',\n",
       " '85+',\n",
       " 'Certain other intestinal infections (A04,A07-A09) 85',\n",
       " '#Enterocolitis due to Clostridium difficile (A04.7) 85',\n",
       " '#Septicemia (A40-A41) 85',\n",
       " 'Other and unspecified infectious and parasitic diseases and their sequelae (A00,A05,A20-A36,A42-A44,A48-A49,A54-A79,A81-A82,A85.0-A85.1,A85.8,A86-B04,B06-B09,B25-B49,B55-B99,U07.1) 85',\n",
       " '#Malignant neoplasms (C00-C97) 85',\n",
       " 'Malignant neoplasms of kidney and renal pelvis (C64-C65) 85',\n",
       " 'Malignant neoplasms of liver and intrahepatic bile ducts (C22) 85',\n",
       " 'Malignant neoplasms of meninges, brain and other parts of central nervous system (C70-C72) 85',\n",
       " 'Malignant neoplasm of stomach (C16) 85',\n",
       " 'Malignant neoplasm of larynx (C32) 85',\n",
       " 'Malignant neoplasm of bladder (C67) 85',\n",
       " 'All other and unspecified malignant neoplasms (C17,C23-C24,C26-C31,C37-C41,C44-C49,C51-C52,C57-C60,C62-C63,C66,C68-C69,C73-C80,C97) 85',\n",
       " 'Malignant neoplasm of breast (C50) 85',\n",
       " 'Malignant neoplasms of lymphoid, hematopoietic and related tissue (C81-C96) 85',\n",
       " 'Leukemia (C91-C95) 85',\n",
       " 'Non-Hodgkin lymphoma (C82-C85) 85',\n",
       " 'Multiple myeloma and immunoproliferative neoplasms (C88,C90) 85',\n",
       " 'Malignant neoplasm of prostate (C61) 85',\n",
       " 'Malignant melanoma of skin (C43) 85',\n",
       " 'Malignant neoplasm of esophagus (C15) 85',\n",
       " 'Malignant neoplasms of corpus uteri and uterus, part unspecified (C54-C55) 85',\n",
       " 'Malignant neoplasms of colon, rectum and anus (C18-C21) 85',\n",
       " 'Malignant neoplasm of ovary (C56) 85',\n",
       " 'Malignant neoplasms of lip, oral cavity and pharynx (C00-C14) 85',\n",
       " 'Malignant neoplasm of pancreas (C25) 85',\n",
       " 'Malignant neoplasms of trachea, bronchus and lung (C33-C34) 85',\n",
       " '#In situ neoplasms, benign neoplasms and neoplasms of uncertain or unknown behavior (D00-D48) 85',\n",
       " '#Anemias (D50-D64) 85',\n",
       " '#Diabetes mellitus (E10-E14) 85',\n",
       " '#Nutritional deficiencies (E40-E64) 85',\n",
       " 'Malnutrition (E40-E46) 85',\n",
       " '#Parkinson disease (G20-G21) 85',\n",
       " '#Alzheimer disease (G30) 85',\n",
       " 'Major cardiovascular diseases (I00-I78) 85',\n",
       " '#Atherosclerosis (I70) 85',\n",
       " '#Cerebrovascular diseases (I60-I69) 85',\n",
       " '#Diseases of heart (I00-I09,I11,I13,I20-I51) 85',\n",
       " 'Ischemic heart diseases (I20-I25) 85',\n",
       " 'Acute myocardial infarction (I21-I22) 85',\n",
       " 'Other forms of chronic ischemic heart disease (I20,I25) 85',\n",
       " 'All other forms of chronic ischemic heart disease (I20,I25.1-I25.9) 85',\n",
       " 'Atherosclerotic cardiovascular disease, so described (I25.0) 85',\n",
       " 'Other acute ischemic heart diseases (I24) 85',\n",
       " 'Other heart diseases (I26-I51) 85',\n",
       " 'Heart failure (I50) 85',\n",
       " 'All other forms of heart disease (I26-I28,I34-I38,I42-I49,I51) 85',\n",
       " 'Acute and subacute endocarditis (I33) 85',\n",
       " 'Hypertensive heart disease (I11) 85',\n",
       " 'Acute rheumatic fever and chronic rheumatic heart diseases (I00-I09) 85',\n",
       " 'Hypertensive heart and renal disease (I13) 85',\n",
       " 'Other diseases of circulatory system (I71-I78) 85',\n",
       " 'Other diseases of arteries, arterioles and capillaries (I72-I78) 85',\n",
       " '#Aortic aneurysm and dissection (I71) 85',\n",
       " '#Essential hypertension and hypertensive renal disease (I10,I12,I15) 85',\n",
       " 'Other disorders of circulatory system (I80-I99) 85',\n",
       " '#Influenza and pneumonia (J09-J18) 85',\n",
       " 'Influenza (J09-J11) 85',\n",
       " 'Pneumonia (J12-J18) 85',\n",
       " '#Chronic lower respiratory diseases (J40-J47) 85',\n",
       " 'Asthma (J45-J46) 85',\n",
       " 'Other chronic lower respiratory diseases (J44,J47) 85',\n",
       " 'Emphysema (J43) 85',\n",
       " '#Pneumonitis due to solids and liquids (J69) 85',\n",
       " 'Other diseases of respiratory system (J00-J06,J30- J39,J67,J70-J98) 85',\n",
       " '#Peptic ulcer (K25-K28) 85',\n",
       " '#Chronic liver disease and cirrhosis (K70,K73-K74) 85',\n",
       " 'Other chronic liver disease and cirrhosis (K73-K74) 85',\n",
       " '#Cholelithiasis and other disorders of gallbladder (K80-K82) 85',\n",
       " '#Nephritis, nephrotic syndrome and nephrosis (N00-N07,N17-N19,N25-N27) 85',\n",
       " 'Renal failure (N17-N19) 85',\n",
       " 'Symptoms, signs and abnormal clinical and laboratory findings, not elsewhere classified (R00-R99) 85',\n",
       " 'All other diseases (Residual)  85',\n",
       " '#Accidents (unintentional injuries) (V01-X59,Y85-Y86) 85',\n",
       " 'Transport accidents (V01-V99,Y85) 85',\n",
       " 'Motor vehicle accidents (V02-V04,V09.0,V09.2,V12-V14,V19.0-V19.2,V19.4-V19.6,V20-V79,V80.3-V80.5,V81.0-V81.1,V82.0-V82.1,V83-V86,V87.0-V87.8,V88.0-V88.8,V89.0,V89.2) 85',\n",
       " 'Nontransport accidents (W00-X59,Y86) 85',\n",
       " 'Falls (W00-W19) 85',\n",
       " 'Other and unspecified nontransport accidents and their sequelae (W20-W31,W35-W64,W75-W99,X10-X39,X50-X59,Y86) 85',\n",
       " '#Intentional self-harm (suicide) (*U03,X60-X84,Y87.0) 85',\n",
       " 'Intentional self-harm (suicide) by discharge of firearms (X72-X74) 85',\n",
       " '#Complications of medical and surgical care (Y40-Y84,Y88) 85',\n",
       " '#Hernia (K40-K46) 85',\n",
       " '#Hyperplasia of prostate (N40) 85',\n",
       " '25-34',\n",
       " '#Septicemia (A40-A41) 25',\n",
       " '#Human immunodeficiency virus (HIV) disease (B20-B24) 25',\n",
       " '#Malignant neoplasms (C00-C97) 25',\n",
       " 'Malignant neoplasms of meninges, brain and other parts of central nervous system (C70-C72) 25',\n",
       " 'All other and unspecified malignant neoplasms (C17,C23-C24,C26-C31,C37-C41,C44-C49,C51-C52,C57-C60,C62-C63,C66,C68-C69,C73-C80,C97) 25',\n",
       " 'Malignant neoplasm of breast (C50) 25',\n",
       " 'Malignant neoplasms of lymphoid, hematopoietic and related tissue (C81-C96) 25',\n",
       " '#Diabetes mellitus (E10-E14) 25',\n",
       " 'Major cardiovascular diseases (I00-I78) 25',\n",
       " '#Cerebrovascular diseases (I60-I69) 25',\n",
       " '#Diseases of heart (I00-I09,I11,I13,I20-I51) 25',\n",
       " 'Ischemic heart diseases (I20-I25) 25',\n",
       " 'Acute myocardial infarction (I21-I22) 25',\n",
       " 'Other forms of chronic ischemic heart disease (I20,I25) 25',\n",
       " 'Atherosclerotic cardiovascular disease, so described (I25.0) 25',\n",
       " 'Other heart diseases (I26-I51) 25',\n",
       " 'All other forms of heart disease (I26-I28,I34-I38,I42-I49,I51) 25',\n",
       " 'Hypertensive heart disease (I11) 25',\n",
       " '#Influenza and pneumonia (J09-J18) 25',\n",
       " 'Pneumonia (J12-J18) 25',\n",
       " '#Chronic lower respiratory diseases (J40-J47) 25',\n",
       " 'Asthma (J45-J46) 25',\n",
       " '#Chronic liver disease and cirrhosis (K70,K73-K74) 25',\n",
       " 'Alcoholic liver disease (K70) 25',\n",
       " '#Pregnancy, childbirth and the puerperium (O00-O99) 25',\n",
       " 'Other complications of pregnancy, childbirth and the puerperium (O10-O99) 25',\n",
       " '#Congenital malformations, deformations and chromosomal abnormalities (Q00-Q99) 25',\n",
       " 'Symptoms, signs and abnormal clinical and laboratory findings, not elsewhere classified (R00-R99) 25',\n",
       " 'All other diseases (Residual)  25',\n",
       " '#Accidents (unintentional injuries) (V01-X59,Y85-Y86) 25',\n",
       " 'Transport accidents (V01-V99,Y85) 25',\n",
       " 'Motor vehicle accidents (V02-V04,V09.0,V09.2,V12-V14,V19.0-V19.2,V19.4-V19.6,V20-V79,V80.3-V80.5,V81.0-V81.1,V82.0-V82.1,V83-V86,V87.0-V87.8,V88.0-V88.8,V89.0,V89.2) 25',\n",
       " 'Nontransport accidents (W00-X59,Y86) 25',\n",
       " 'Other and unspecified nontransport accidents and their sequelae (W20-W31,W35-W64,W75-W99,X10-X39,X50-X59,Y86) 25',\n",
       " 'Accidental poisoning and exposure to noxious substances (X40-X49) 25',\n",
       " 'Accidental drowning and submersion (W65-W74) 25',\n",
       " '#Intentional self-harm (suicide) (*U03,X60-X84,Y87.0) 25',\n",
       " 'Intentional self-harm (suicide) by other and unspecified means and their sequelae (*U03,X60-X71,X75-X84,Y87.0) 25',\n",
       " 'Intentional self-harm (suicide) by discharge of firearms (X72-X74) 25',\n",
       " '#Assault (homicide) (*U01-*U02,X85-Y09,Y87.1) 25',\n",
       " 'Assault (homicide) by other and unspecified means and their sequelae (*U01.0-*U01.3,*U01.5-*U01.9,*U02,X85-X92,X96-Y09,Y87.1) 25',\n",
       " 'Assault (homicide) by discharge of firearms (*U01.4,X93-X95) 25',\n",
       " 'Events of undetermined intent (Y10-Y34,Y87.2,Y89.9) 25',\n",
       " 'Other and unspecified events of undetermined intent and their sequelae (Y10-Y21,Y25-Y34,Y87.2,Y89.9) 25',\n",
       " '35-44',\n",
       " '#Septicemia (A40-A41) 35',\n",
       " 'Other and unspecified infectious and parasitic diseases and their sequelae (A00,A05,A20-A36,A42-A44,A48-A49,A54-A79,A81-A82,A85.0-A85.1,A85.8,A86-B04,B06-B09,B25-B49,B55-B99,U07.1) 35',\n",
       " '#Malignant neoplasms (C00-C97) 35',\n",
       " 'Malignant neoplasms of meninges, brain and other parts of central nervous system (C70-C72) 35',\n",
       " 'Malignant neoplasm of cervix uteri (C53) 35',\n",
       " 'All other and unspecified malignant neoplasms (C17,C23-C24,C26-C31,C37-C41,C44-C49,C51-C52,C57-C60,C62-C63,C66,C68-C69,C73-C80,C97) 35',\n",
       " 'Malignant neoplasm of breast (C50) 35',\n",
       " 'Malignant neoplasms of lymphoid, hematopoietic and related tissue (C81-C96) 35',\n",
       " 'Leukemia (C91-C95) 35',\n",
       " 'Malignant melanoma of skin (C43) 35',\n",
       " 'Malignant neoplasms of colon, rectum and anus (C18-C21) 35',\n",
       " 'Malignant neoplasm of pancreas (C25) 35',\n",
       " 'Malignant neoplasms of trachea, bronchus and lung (C33-C34) 35',\n",
       " '#Diabetes mellitus (E10-E14) 35',\n",
       " 'Major cardiovascular diseases (I00-I78) 35',\n",
       " '#Cerebrovascular diseases (I60-I69) 35',\n",
       " '#Diseases of heart (I00-I09,I11,I13,I20-I51) 35',\n",
       " 'Ischemic heart diseases (I20-I25) 35',\n",
       " 'Acute myocardial infarction (I21-I22) 35',\n",
       " 'Other forms of chronic ischemic heart disease (I20,I25) 35',\n",
       " 'All other forms of chronic ischemic heart disease (I20,I25.1-I25.9) 35',\n",
       " 'Atherosclerotic cardiovascular disease, so described (I25.0) 35',\n",
       " 'Other heart diseases (I26-I51) 35',\n",
       " 'Heart failure (I50) 35',\n",
       " 'All other forms of heart disease (I26-I28,I34-I38,I42-I49,I51) 35',\n",
       " 'Hypertensive heart disease (I11) 35',\n",
       " 'Other diseases of circulatory system (I71-I78) 35',\n",
       " '#Aortic aneurysm and dissection (I71) 35',\n",
       " '#Essential hypertension and hypertensive renal disease (I10,I12,I15) 35',\n",
       " 'Other disorders of circulatory system (I80-I99) 35',\n",
       " '#Influenza and pneumonia (J09-J18) 35',\n",
       " 'Pneumonia (J12-J18) 35',\n",
       " '#Chronic lower respiratory diseases (J40-J47) 35',\n",
       " 'Other diseases of respiratory system (J00-J06,J30- J39,J67,J70-J98) 35',\n",
       " '#Chronic liver disease and cirrhosis (K70,K73-K74) 35',\n",
       " 'Alcoholic liver disease (K70) 35',\n",
       " 'Other chronic liver disease and cirrhosis (K73-K74) 35',\n",
       " '#Nephritis, nephrotic syndrome and nephrosis (N00-N07,N17-N19,N25-N27) 35',\n",
       " 'Renal failure (N17-N19) 35',\n",
       " '#Pregnancy, childbirth and the puerperium (O00-O99) 35',\n",
       " 'Other complications of pregnancy, childbirth and the puerperium (O10-O99) 35',\n",
       " '#Congenital malformations, deformations and chromosomal abnormalities (Q00-Q99) 35',\n",
       " 'Symptoms, signs and abnormal clinical and laboratory findings, not elsewhere classified (R00-R99) 35',\n",
       " 'All other diseases (Residual)  35',\n",
       " '#Accidents (unintentional injuries) (V01-X59,Y85-Y86) 35',\n",
       " 'Transport accidents (V01-V99,Y85) 35',\n",
       " 'Motor vehicle accidents (V02-V04,V09.0,V09.2,V12-V14,V19.0-V19.2,V19.4-V19.6,V20-V79,V80.3-V80.5,V81.0-V81.1,V82.0-V82.1,V83-V86,V87.0-V87.8,V88.0-V88.8,V89.0,V89.2) 35',\n",
       " 'Nontransport accidents (W00-X59,Y86) 35',\n",
       " 'Other and unspecified nontransport accidents and their sequelae (W20-W31,W35-W64,W75-W99,X10-X39,X50-X59,Y86) 35',\n",
       " 'Accidental poisoning and exposure to noxious substances (X40-X49) 35',\n",
       " 'Accidental drowning and submersion (W65-W74) 35',\n",
       " '#Intentional self-harm (suicide) (*U03,X60-X84,Y87.0) 35',\n",
       " 'Intentional self-harm (suicide) by other and unspecified means and their sequelae (*U03,X60-X71,X75-X84,Y87.0) 35',\n",
       " 'Intentional self-harm (suicide) by discharge of firearms (X72-X74) 35',\n",
       " '#Assault (homicide) (*U01-*U02,X85-Y09,Y87.1) 35',\n",
       " 'Assault (homicide) by other and unspecified means and their sequelae (*U01.0-*U01.3,*U01.5-*U01.9,*U02,X85-X92,X96-Y09,Y87.1) 35',\n",
       " 'Assault (homicide) by discharge of firearms (*U01.4,X93-X95) 35',\n",
       " 'Events of undetermined intent (Y10-Y34,Y87.2,Y89.9) 35',\n",
       " 'Other and unspecified events of undetermined intent and their sequelae (Y10-Y21,Y25-Y34,Y87.2,Y89.9) 35',\n",
       " '1-4',\n",
       " '#Malignant neoplasms (C00-C97) 1-',\n",
       " '#Congenital malformations, deformations and chromosomal abnormalities (Q00-Q99) 1-',\n",
       " 'All other diseases (Residual)  1-',\n",
       " '#Accidents (unintentional injuries) (V01-X59,Y85-Y86) 1-',\n",
       " 'Transport accidents (V01-V99,Y85) 1-',\n",
       " 'Motor vehicle accidents (V02-V04,V09.0,V09.2,V12-V14,V19.0-V19.2,V19.4-V19.6,V20-V79,V80.3-V80.5,V81.0-V81.1,V82.0-V82.1,V83-V86,V87.0-V87.8,V88.0-V88.8,V89.0,V89.2) 1-',\n",
       " 'Nontransport accidents (W00-X59,Y86) 1-',\n",
       " '#Assault (homicide) (*U01-*U02,X85-Y09,Y87.1) 1-',\n",
       " '5-14',\n",
       " '#Malignant neoplasms (C00-C97) 5-',\n",
       " 'Malignant neoplasms of meninges, brain and other parts of central nervous system (C70-C72) 5-',\n",
       " 'Major cardiovascular diseases (I00-I78) 5-',\n",
       " '#Diseases of heart (I00-I09,I11,I13,I20-I51) 5-',\n",
       " '#Congenital malformations, deformations and chromosomal abnormalities (Q00-Q99) 5-',\n",
       " 'All other diseases (Residual)  5-',\n",
       " '#Accidents (unintentional injuries) (V01-X59,Y85-Y86) 5-',\n",
       " 'Transport accidents (V01-V99,Y85) 5-',\n",
       " 'Motor vehicle accidents (V02-V04,V09.0,V09.2,V12-V14,V19.0-V19.2,V19.4-V19.6,V20-V79,V80.3-V80.5,V81.0-V81.1,V82.0-V82.1,V83-V86,V87.0-V87.8,V88.0-V88.8,V89.0,V89.2) 5-',\n",
       " 'Nontransport accidents (W00-X59,Y86) 5-',\n",
       " '#Intentional self-harm (suicide) (*U03,X60-X84,Y87.0) 5-',\n",
       " 'Intentional self-harm (suicide) by other and unspecified means and their sequelae (*U03,X60-X71,X75-X84,Y87.0) 5-',\n",
       " '#Assault (homicide) (*U01-*U02,X85-Y09,Y87.1) 5-',\n",
       " '15-24',\n",
       " '#Malignant neoplasms (C00-C97) 15',\n",
       " 'Malignant neoplasms of meninges, brain and other parts of central nervous system (C70-C72) 15',\n",
       " 'All other and unspecified malignant neoplasms (C17,C23-C24,C26-C31,C37-C41,C44-C49,C51-C52,C57-C60,C62-C63,C66,C68-C69,C73-C80,C97) 15',\n",
       " 'Major cardiovascular diseases (I00-I78) 15',\n",
       " '#Diseases of heart (I00-I09,I11,I13,I20-I51) 15',\n",
       " 'Other heart diseases (I26-I51) 15',\n",
       " 'All other forms of heart disease (I26-I28,I34-I38,I42-I49,I51) 15',\n",
       " '#Influenza and pneumonia (J09-J18) 15',\n",
       " '#Chronic lower respiratory diseases (J40-J47) 15',\n",
       " 'Asthma (J45-J46) 15',\n",
       " '#Congenital malformations, deformations and chromosomal abnormalities (Q00-Q99) 15',\n",
       " 'Symptoms, signs and abnormal clinical and laboratory findings, not elsewhere classified (R00-R99) 15',\n",
       " 'All other diseases (Residual)  15',\n",
       " '#Accidents (unintentional injuries) (V01-X59,Y85-Y86) 15',\n",
       " 'Transport accidents (V01-V99,Y85) 15',\n",
       " 'Motor vehicle accidents (V02-V04,V09.0,V09.2,V12-V14,V19.0-V19.2,V19.4-V19.6,V20-V79,V80.3-V80.5,V81.0-V81.1,V82.0-V82.1,V83-V86,V87.0-V87.8,V88.0-V88.8,V89.0,V89.2) 15',\n",
       " 'Nontransport accidents (W00-X59,Y86) 15',\n",
       " 'Accidental poisoning and exposure to noxious substances (X40-X49) 15',\n",
       " 'Accidental drowning and submersion (W65-W74) 15',\n",
       " '#Intentional self-harm (suicide) (*U03,X60-X84,Y87.0) 15',\n",
       " 'Intentional self-harm (suicide) by other and unspecified means and their sequelae (*U03,X60-X71,X75-X84,Y87.0) 15',\n",
       " 'Intentional self-harm (suicide) by discharge of firearms (X72-X74) 15',\n",
       " '#Assault (homicide) (*U01-*U02,X85-Y09,Y87.1) 15',\n",
       " 'Assault (homicide) by discharge of firearms (*U01.4,X93-X95) 15',\n",
       " 'Events of undetermined intent (Y10-Y34,Y87.2,Y89.9) 15',\n",
       " 'Other and unspecified events of undetermined intent and their sequelae (Y10-Y21,Y25-Y34,Y87.2,Y89.9) 15',\n",
       " '1',\n",
       " 'Major cardiovascular diseases (I00-I78) 1',\n",
       " '#Certain conditions originating in the perinatal period (P00-P96) 1',\n",
       " '#Congenital malformations, deformations and chromosomal abnormalities (Q00-Q99) 1',\n",
       " 'Symptoms, signs and abnormal clinical and laboratory findings, not elsewhere classified (R00-R99) 1',\n",
       " 'All other diseases (Residual)  1',\n",
       " '#Accidents (unintentional injuries) (V01-X59,Y85-Y86) 1',\n",
       " 'Nontransport accidents (W00-X59,Y86) 1',\n",
       " 'Other and unspecified nontransport accidents and their sequelae (W20-W31,W35-W64,W75-W99,X10-X39,X50-X59,Y86) 1',\n",
       " '#Assault (homicide) (*U01-*U02,X85-Y09,Y87.1) 1',\n",
       " 'Assault (homicide) by other and unspecified means and their sequelae (*U01.0-*U01.3,*U01.5-*U01.9,*U02,X85-X92,X96-Y09,Y87.1) 1']"
      ]
     },
     "execution_count": 140,
     "metadata": {},
     "output_type": "execute_result"
    }
   ],
   "source": [
    "final_labels"
   ]
  },
  {
   "cell_type": "code",
   "execution_count": 141,
   "metadata": {},
   "outputs": [
    {
     "data": {
      "application/vnd.plotly.v1+json": {
       "config": {
        "plotlyServerURL": "https://plot.ly"
       },
       "data": [
        {
         "branchvalues": "total",
         "labels": [
          "All Ages",
          "45-54",
          "Certain other intestinal infections (A04,A07-A09) 45",
          "#Septicemia (A40-A41) 45",
          "#Viral hepatitis (B15-B19) 45",
          "#Human immunodeficiency virus (HIV) disease (B20-B24) 45",
          "Other and unspecified infectious and parasitic diseases and their sequelae (A00,A05,A20-A36,A42-A44,A48-A49,A54-A79,A81-A82,A85.0-A85.1,A85.8,A86-B04,B06-B09,B25-B49,B55-B99,U07.1) 45",
          "#Malignant neoplasms (C00-C97) 45",
          "Malignant neoplasms of kidney and renal pelvis (C64-C65) 45",
          "Malignant neoplasms of liver and intrahepatic bile ducts (C22) 45",
          "Malignant neoplasms of meninges, brain and other parts of central nervous system (C70-C72) 45",
          "Malignant neoplasm of stomach (C16) 45",
          "Malignant neoplasm of cervix uteri (C53) 45",
          "Malignant neoplasm of larynx (C32) 45",
          "Malignant neoplasm of bladder (C67) 45",
          "All other and unspecified malignant neoplasms (C17,C23-C24,C26-C31,C37-C41,C44-C49,C51-C52,C57-C60,C62-C63,C66,C68-C69,C73-C80,C97) 45",
          "Malignant neoplasm of breast (C50) 45",
          "Malignant neoplasms of lymphoid, hematopoietic and related tissue (C81-C96) 45",
          "Leukemia (C91-C95) 45",
          "Non-Hodgkin lymphoma (C82-C85) 45",
          "Multiple myeloma and immunoproliferative neoplasms (C88,C90) 45",
          "Malignant neoplasm of prostate (C61) 45",
          "Malignant melanoma of skin (C43) 45",
          "Malignant neoplasm of esophagus (C15) 45",
          "Malignant neoplasms of corpus uteri and uterus, part unspecified (C54-C55) 45",
          "Malignant neoplasms of colon, rectum and anus (C18-C21) 45",
          "Malignant neoplasm of ovary (C56) 45",
          "Malignant neoplasms of lip, oral cavity and pharynx (C00-C14) 45",
          "Malignant neoplasm of pancreas (C25) 45",
          "Malignant neoplasms of trachea, bronchus and lung (C33-C34) 45",
          "#In situ neoplasms, benign neoplasms and neoplasms of uncertain or unknown behavior (D00-D48) 45",
          "#Diabetes mellitus (E10-E14) 45",
          "Major cardiovascular diseases (I00-I78) 45",
          "#Cerebrovascular diseases (I60-I69) 45",
          "#Diseases of heart (I00-I09,I11,I13,I20-I51) 45",
          "Ischemic heart diseases (I20-I25) 45",
          "Acute myocardial infarction (I21-I22) 45",
          "Other forms of chronic ischemic heart disease (I20,I25) 45",
          "All other forms of chronic ischemic heart disease (I20,I25.1-I25.9) 45",
          "Atherosclerotic cardiovascular disease, so described (I25.0) 45",
          "Other heart diseases (I26-I51) 45",
          "Heart failure (I50) 45",
          "All other forms of heart disease (I26-I28,I34-I38,I42-I49,I51) 45",
          "Hypertensive heart disease (I11) 45",
          "Hypertensive heart and renal disease (I13) 45",
          "Other diseases of circulatory system (I71-I78) 45",
          "Other diseases of arteries, arterioles and capillaries (I72-I78) 45",
          "#Aortic aneurysm and dissection (I71) 45",
          "#Essential hypertension and hypertensive renal disease (I10,I12,I15) 45",
          "Other disorders of circulatory system (I80-I99) 45",
          "#Influenza and pneumonia (J09-J18) 45",
          "Influenza (J09-J11) 45",
          "Pneumonia (J12-J18) 45",
          "#Chronic lower respiratory diseases (J40-J47) 45",
          "Asthma (J45-J46) 45",
          "Other chronic lower respiratory diseases (J44,J47) 45",
          "#Pneumonitis due to solids and liquids (J69) 45",
          "Other diseases of respiratory system (J00-J06,J30- J39,J67,J70-J98) 45",
          "#Chronic liver disease and cirrhosis (K70,K73-K74) 45",
          "Alcoholic liver disease (K70) 45",
          "Other chronic liver disease and cirrhosis (K73-K74) 45",
          "#Nephritis, nephrotic syndrome and nephrosis (N00-N07,N17-N19,N25-N27) 45",
          "Renal failure (N17-N19) 45",
          "#Congenital malformations, deformations and chromosomal abnormalities (Q00-Q99) 45",
          "Symptoms, signs and abnormal clinical and laboratory findings, not elsewhere classified (R00-R99) 45",
          "All other diseases (Residual)  45",
          "#Accidents (unintentional injuries) (V01-X59,Y85-Y86) 45",
          "Transport accidents (V01-V99,Y85) 45",
          "Motor vehicle accidents (V02-V04,V09.0,V09.2,V12-V14,V19.0-V19.2,V19.4-V19.6,V20-V79,V80.3-V80.5,V81.0-V81.1,V82.0-V82.1,V83-V86,V87.0-V87.8,V88.0-V88.8,V89.0,V89.2) 45",
          "Water, air and space, and other and unspecified transport accidents and their sequelae (V90-V99,Y85) 45",
          "Nontransport accidents (W00-X59,Y86) 45",
          "Falls (W00-W19) 45",
          "Other and unspecified nontransport accidents and their sequelae (W20-W31,W35-W64,W75-W99,X10-X39,X50-X59,Y86) 45",
          "Accidental poisoning and exposure to noxious substances (X40-X49) 45",
          "#Intentional self-harm (suicide) (*U03,X60-X84,Y87.0) 45",
          "Intentional self-harm (suicide) by other and unspecified means and their sequelae (*U03,X60-X71,X75-X84,Y87.0) 45",
          "Intentional self-harm (suicide) by discharge of firearms (X72-X74) 45",
          "#Assault (homicide) (*U01-*U02,X85-Y09,Y87.1) 45",
          "Assault (homicide) by other and unspecified means and their sequelae (*U01.0-*U01.3,*U01.5-*U01.9,*U02,X85-X92,X96-Y09,Y87.1) 45",
          "Assault (homicide) by discharge of firearms (*U01.4,X93-X95) 45",
          "Events of undetermined intent (Y10-Y34,Y87.2,Y89.9) 45",
          "Other and unspecified events of undetermined intent and their sequelae (Y10-Y21,Y25-Y34,Y87.2,Y89.9) 45",
          "55-64",
          "Certain other intestinal infections (A04,A07-A09) 55",
          "#Enterocolitis due to Clostridium difficile (A04.7) 55",
          "#Septicemia (A40-A41) 55",
          "#Viral hepatitis (B15-B19) 55",
          "#Human immunodeficiency virus (HIV) disease (B20-B24) 55",
          "Other and unspecified infectious and parasitic diseases and their sequelae (A00,A05,A20-A36,A42-A44,A48-A49,A54-A79,A81-A82,A85.0-A85.1,A85.8,A86-B04,B06-B09,B25-B49,B55-B99,U07.1) 55",
          "#Malignant neoplasms (C00-C97) 55",
          "Malignant neoplasms of kidney and renal pelvis (C64-C65) 55",
          "Malignant neoplasms of liver and intrahepatic bile ducts (C22) 55",
          "Malignant neoplasms of meninges, brain and other parts of central nervous system (C70-C72) 55",
          "Malignant neoplasm of stomach (C16) 55",
          "Malignant neoplasm of cervix uteri (C53) 55",
          "Malignant neoplasm of larynx (C32) 55",
          "Malignant neoplasm of bladder (C67) 55",
          "All other and unspecified malignant neoplasms (C17,C23-C24,C26-C31,C37-C41,C44-C49,C51-C52,C57-C60,C62-C63,C66,C68-C69,C73-C80,C97) 55",
          "Malignant neoplasm of breast (C50) 55",
          "Malignant neoplasms of lymphoid, hematopoietic and related tissue (C81-C96) 55",
          "Leukemia (C91-C95) 55",
          "Non-Hodgkin lymphoma (C82-C85) 55",
          "Multiple myeloma and immunoproliferative neoplasms (C88,C90) 55",
          "Malignant neoplasm of prostate (C61) 55",
          "Malignant melanoma of skin (C43) 55",
          "Malignant neoplasm of esophagus (C15) 55",
          "Malignant neoplasms of corpus uteri and uterus, part unspecified (C54-C55) 55",
          "Malignant neoplasms of colon, rectum and anus (C18-C21) 55",
          "Malignant neoplasm of ovary (C56) 55",
          "Malignant neoplasms of lip, oral cavity and pharynx (C00-C14) 55",
          "Malignant neoplasm of pancreas (C25) 55",
          "Malignant neoplasms of trachea, bronchus and lung (C33-C34) 55",
          "#In situ neoplasms, benign neoplasms and neoplasms of uncertain or unknown behavior (D00-D48) 55",
          "#Anemias (D50-D64) 55",
          "#Diabetes mellitus (E10-E14) 55",
          "#Nutritional deficiencies (E40-E64) 55",
          "Malnutrition (E40-E46) 55",
          "#Parkinson disease (G20-G21) 55",
          "#Alzheimer disease (G30) 55",
          "Major cardiovascular diseases (I00-I78) 55",
          "#Atherosclerosis (I70) 55",
          "#Cerebrovascular diseases (I60-I69) 55",
          "#Diseases of heart (I00-I09,I11,I13,I20-I51) 55",
          "Ischemic heart diseases (I20-I25) 55",
          "Acute myocardial infarction (I21-I22) 55",
          "Other forms of chronic ischemic heart disease (I20,I25) 55",
          "All other forms of chronic ischemic heart disease (I20,I25.1-I25.9) 55",
          "Atherosclerotic cardiovascular disease, so described (I25.0) 55",
          "Other acute ischemic heart diseases (I24) 55",
          "Other heart diseases (I26-I51) 55",
          "Heart failure (I50) 55",
          "All other forms of heart disease (I26-I28,I34-I38,I42-I49,I51) 55",
          "Acute and subacute endocarditis (I33) 55",
          "Hypertensive heart disease (I11) 55",
          "Acute rheumatic fever and chronic rheumatic heart diseases (I00-I09) 55",
          "Hypertensive heart and renal disease (I13) 55",
          "Other diseases of circulatory system (I71-I78) 55",
          "Other diseases of arteries, arterioles and capillaries (I72-I78) 55",
          "#Aortic aneurysm and dissection (I71) 55",
          "#Essential hypertension and hypertensive renal disease (I10,I12,I15) 55",
          "Other disorders of circulatory system (I80-I99) 55",
          "#Influenza and pneumonia (J09-J18) 55",
          "Influenza (J09-J11) 55",
          "Pneumonia (J12-J18) 55",
          "#Chronic lower respiratory diseases (J40-J47) 55",
          "Asthma (J45-J46) 55",
          "Other chronic lower respiratory diseases (J44,J47) 55",
          "Emphysema (J43) 55",
          "#Pneumonitis due to solids and liquids (J69) 55",
          "Other diseases of respiratory system (J00-J06,J30- J39,J67,J70-J98) 55",
          "#Peptic ulcer (K25-K28) 55",
          "#Chronic liver disease and cirrhosis (K70,K73-K74) 55",
          "Alcoholic liver disease (K70) 55",
          "Other chronic liver disease and cirrhosis (K73-K74) 55",
          "#Nephritis, nephrotic syndrome and nephrosis (N00-N07,N17-N19,N25-N27) 55",
          "Renal failure (N17-N19) 55",
          "#Congenital malformations, deformations and chromosomal abnormalities (Q00-Q99) 55",
          "Symptoms, signs and abnormal clinical and laboratory findings, not elsewhere classified (R00-R99) 55",
          "All other diseases (Residual)  55",
          "#Accidents (unintentional injuries) (V01-X59,Y85-Y86) 55",
          "Transport accidents (V01-V99,Y85) 55",
          "Motor vehicle accidents (V02-V04,V09.0,V09.2,V12-V14,V19.0-V19.2,V19.4-V19.6,V20-V79,V80.3-V80.5,V81.0-V81.1,V82.0-V82.1,V83-V86,V87.0-V87.8,V88.0-V88.8,V89.0,V89.2) 55",
          "Water, air and space, and other and unspecified transport accidents and their sequelae (V90-V99,Y85) 55",
          "Nontransport accidents (W00-X59,Y86) 55",
          "Falls (W00-W19) 55",
          "Other and unspecified nontransport accidents and their sequelae (W20-W31,W35-W64,W75-W99,X10-X39,X50-X59,Y86) 55",
          "Accidental exposure to smoke, fire and flames (X00-X09) 55",
          "Accidental poisoning and exposure to noxious substances (X40-X49) 55",
          "Accidental drowning and submersion (W65-W74) 55",
          "#Intentional self-harm (suicide) (*U03,X60-X84,Y87.0) 55",
          "Intentional self-harm (suicide) by other and unspecified means and their sequelae (*U03,X60-X71,X75-X84,Y87.0) 55",
          "Intentional self-harm (suicide) by discharge of firearms (X72-X74) 55",
          "#Assault (homicide) (*U01-*U02,X85-Y09,Y87.1) 55",
          "Assault (homicide) by other and unspecified means and their sequelae (*U01.0-*U01.3,*U01.5-*U01.9,*U02,X85-X92,X96-Y09,Y87.1) 55",
          "Assault (homicide) by discharge of firearms (*U01.4,X93-X95) 55",
          "Events of undetermined intent (Y10-Y34,Y87.2,Y89.9) 55",
          "Other and unspecified events of undetermined intent and their sequelae (Y10-Y21,Y25-Y34,Y87.2,Y89.9) 55",
          "#Complications of medical and surgical care (Y40-Y84,Y88) 55",
          "65-74",
          "Certain other intestinal infections (A04,A07-A09) 65",
          "#Enterocolitis due to Clostridium difficile (A04.7) 65",
          "#Septicemia (A40-A41) 65",
          "#Viral hepatitis (B15-B19) 65",
          "#Human immunodeficiency virus (HIV) disease (B20-B24) 65",
          "Other and unspecified infectious and parasitic diseases and their sequelae (A00,A05,A20-A36,A42-A44,A48-A49,A54-A79,A81-A82,A85.0-A85.1,A85.8,A86-B04,B06-B09,B25-B49,B55-B99,U07.1) 65",
          "#Malignant neoplasms (C00-C97) 65",
          "Malignant neoplasms of kidney and renal pelvis (C64-C65) 65",
          "Malignant neoplasms of liver and intrahepatic bile ducts (C22) 65",
          "Malignant neoplasms of meninges, brain and other parts of central nervous system (C70-C72) 65",
          "Malignant neoplasm of stomach (C16) 65",
          "Malignant neoplasm of cervix uteri (C53) 65",
          "Malignant neoplasm of larynx (C32) 65",
          "Malignant neoplasm of bladder (C67) 65",
          "All other and unspecified malignant neoplasms (C17,C23-C24,C26-C31,C37-C41,C44-C49,C51-C52,C57-C60,C62-C63,C66,C68-C69,C73-C80,C97) 65",
          "Malignant neoplasm of breast (C50) 65",
          "Malignant neoplasms of lymphoid, hematopoietic and related tissue (C81-C96) 65",
          "Leukemia (C91-C95) 65",
          "Non-Hodgkin lymphoma (C82-C85) 65",
          "Multiple myeloma and immunoproliferative neoplasms (C88,C90) 65",
          "Malignant neoplasm of prostate (C61) 65",
          "Malignant melanoma of skin (C43) 65",
          "Malignant neoplasm of esophagus (C15) 65",
          "Malignant neoplasms of corpus uteri and uterus, part unspecified (C54-C55) 65",
          "Malignant neoplasms of colon, rectum and anus (C18-C21) 65",
          "Malignant neoplasm of ovary (C56) 65",
          "Malignant neoplasms of lip, oral cavity and pharynx (C00-C14) 65",
          "Malignant neoplasm of pancreas (C25) 65",
          "Malignant neoplasms of trachea, bronchus and lung (C33-C34) 65",
          "#In situ neoplasms, benign neoplasms and neoplasms of uncertain or unknown behavior (D00-D48) 65",
          "#Anemias (D50-D64) 65",
          "#Diabetes mellitus (E10-E14) 65",
          "#Nutritional deficiencies (E40-E64) 65",
          "Malnutrition (E40-E46) 65",
          "#Parkinson disease (G20-G21) 65",
          "#Alzheimer disease (G30) 65",
          "Major cardiovascular diseases (I00-I78) 65",
          "#Atherosclerosis (I70) 65",
          "#Cerebrovascular diseases (I60-I69) 65",
          "#Diseases of heart (I00-I09,I11,I13,I20-I51) 65",
          "Ischemic heart diseases (I20-I25) 65",
          "Acute myocardial infarction (I21-I22) 65",
          "Other forms of chronic ischemic heart disease (I20,I25) 65",
          "All other forms of chronic ischemic heart disease (I20,I25.1-I25.9) 65",
          "Atherosclerotic cardiovascular disease, so described (I25.0) 65",
          "Other acute ischemic heart diseases (I24) 65",
          "Other heart diseases (I26-I51) 65",
          "Heart failure (I50) 65",
          "Diseases of pericardium and acute myocarditis (I30-I31,I40) 65",
          "All other forms of heart disease (I26-I28,I34-I38,I42-I49,I51) 65",
          "Acute and subacute endocarditis (I33) 65",
          "Hypertensive heart disease (I11) 65",
          "Acute rheumatic fever and chronic rheumatic heart diseases (I00-I09) 65",
          "Hypertensive heart and renal disease (I13) 65",
          "Other diseases of circulatory system (I71-I78) 65",
          "Other diseases of arteries, arterioles and capillaries (I72-I78) 65",
          "#Aortic aneurysm and dissection (I71) 65",
          "#Essential hypertension and hypertensive renal disease (I10,I12,I15) 65",
          "Other disorders of circulatory system (I80-I99) 65",
          "#Influenza and pneumonia (J09-J18) 65",
          "Influenza (J09-J11) 65",
          "Pneumonia (J12-J18) 65",
          "#Chronic lower respiratory diseases (J40-J47) 65",
          "Asthma (J45-J46) 65",
          "Other chronic lower respiratory diseases (J44,J47) 65",
          "Emphysema (J43) 65",
          "#Pneumonitis due to solids and liquids (J69) 65",
          "Other diseases of respiratory system (J00-J06,J30- J39,J67,J70-J98) 65",
          "#Peptic ulcer (K25-K28) 65",
          "#Chronic liver disease and cirrhosis (K70,K73-K74) 65",
          "Alcoholic liver disease (K70) 65",
          "Other chronic liver disease and cirrhosis (K73-K74) 65",
          "#Cholelithiasis and other disorders of gallbladder (K80-K82) 65",
          "#Nephritis, nephrotic syndrome and nephrosis (N00-N07,N17-N19,N25-N27) 65",
          "Renal failure (N17-N19) 65",
          "#Congenital malformations, deformations and chromosomal abnormalities (Q00-Q99) 65",
          "Symptoms, signs and abnormal clinical and laboratory findings, not elsewhere classified (R00-R99) 65",
          "All other diseases (Residual)  65",
          "#Accidents (unintentional injuries) (V01-X59,Y85-Y86) 65",
          "Transport accidents (V01-V99,Y85) 65",
          "Motor vehicle accidents (V02-V04,V09.0,V09.2,V12-V14,V19.0-V19.2,V19.4-V19.6,V20-V79,V80.3-V80.5,V81.0-V81.1,V82.0-V82.1,V83-V86,V87.0-V87.8,V88.0-V88.8,V89.0,V89.2) 65",
          "Water, air and space, and other and unspecified transport accidents and their sequelae (V90-V99,Y85) 65",
          "Nontransport accidents (W00-X59,Y86) 65",
          "Falls (W00-W19) 65",
          "Other and unspecified nontransport accidents and their sequelae (W20-W31,W35-W64,W75-W99,X10-X39,X50-X59,Y86) 65",
          "Accidental exposure to smoke, fire and flames (X00-X09) 65",
          "Accidental poisoning and exposure to noxious substances (X40-X49) 65",
          "Accidental drowning and submersion (W65-W74) 65",
          "#Intentional self-harm (suicide) (*U03,X60-X84,Y87.0) 65",
          "Intentional self-harm (suicide) by other and unspecified means and their sequelae (*U03,X60-X71,X75-X84,Y87.0) 65",
          "Intentional self-harm (suicide) by discharge of firearms (X72-X74) 65",
          "#Assault (homicide) (*U01-*U02,X85-Y09,Y87.1) 65",
          "Assault (homicide) by other and unspecified means and their sequelae (*U01.0-*U01.3,*U01.5-*U01.9,*U02,X85-X92,X96-Y09,Y87.1) 65",
          "Events of undetermined intent (Y10-Y34,Y87.2,Y89.9) 65",
          "Other and unspecified events of undetermined intent and their sequelae (Y10-Y21,Y25-Y34,Y87.2,Y89.9) 65",
          "#Complications of medical and surgical care (Y40-Y84,Y88) 65",
          "#Hernia (K40-K46) 65",
          "75-84",
          "Certain other intestinal infections (A04,A07-A09) 75",
          "#Enterocolitis due to Clostridium difficile (A04.7) 75",
          "#Septicemia (A40-A41) 75",
          "#Viral hepatitis (B15-B19) 75",
          "Other and unspecified infectious and parasitic diseases and their sequelae (A00,A05,A20-A36,A42-A44,A48-A49,A54-A79,A81-A82,A85.0-A85.1,A85.8,A86-B04,B06-B09,B25-B49,B55-B99,U07.1) 75",
          "#Malignant neoplasms (C00-C97) 75",
          "Malignant neoplasms of kidney and renal pelvis (C64-C65) 75",
          "Malignant neoplasms of liver and intrahepatic bile ducts (C22) 75",
          "Malignant neoplasms of meninges, brain and other parts of central nervous system (C70-C72) 75",
          "Malignant neoplasm of stomach (C16) 75",
          "Malignant neoplasm of cervix uteri (C53) 75",
          "Malignant neoplasm of larynx (C32) 75",
          "Malignant neoplasm of bladder (C67) 75",
          "All other and unspecified malignant neoplasms (C17,C23-C24,C26-C31,C37-C41,C44-C49,C51-C52,C57-C60,C62-C63,C66,C68-C69,C73-C80,C97) 75",
          "Malignant neoplasm of breast (C50) 75",
          "Malignant neoplasms of lymphoid, hematopoietic and related tissue (C81-C96) 75",
          "Leukemia (C91-C95) 75",
          "Non-Hodgkin lymphoma (C82-C85) 75",
          "Multiple myeloma and immunoproliferative neoplasms (C88,C90) 75",
          "Malignant neoplasm of prostate (C61) 75",
          "Malignant melanoma of skin (C43) 75",
          "Malignant neoplasm of esophagus (C15) 75",
          "Malignant neoplasms of corpus uteri and uterus, part unspecified (C54-C55) 75",
          "Malignant neoplasms of colon, rectum and anus (C18-C21) 75",
          "Malignant neoplasm of ovary (C56) 75",
          "Malignant neoplasms of lip, oral cavity and pharynx (C00-C14) 75",
          "Malignant neoplasm of pancreas (C25) 75",
          "Malignant neoplasms of trachea, bronchus and lung (C33-C34) 75",
          "#In situ neoplasms, benign neoplasms and neoplasms of uncertain or unknown behavior (D00-D48) 75",
          "#Anemias (D50-D64) 75",
          "#Diabetes mellitus (E10-E14) 75",
          "#Nutritional deficiencies (E40-E64) 75",
          "Malnutrition (E40-E46) 75",
          "#Parkinson disease (G20-G21) 75",
          "#Alzheimer disease (G30) 75",
          "Major cardiovascular diseases (I00-I78) 75",
          "#Atherosclerosis (I70) 75",
          "#Cerebrovascular diseases (I60-I69) 75",
          "#Diseases of heart (I00-I09,I11,I13,I20-I51) 75",
          "Ischemic heart diseases (I20-I25) 75",
          "Acute myocardial infarction (I21-I22) 75",
          "Other forms of chronic ischemic heart disease (I20,I25) 75",
          "All other forms of chronic ischemic heart disease (I20,I25.1-I25.9) 75",
          "Atherosclerotic cardiovascular disease, so described (I25.0) 75",
          "Other acute ischemic heart diseases (I24) 75",
          "Other heart diseases (I26-I51) 75",
          "Heart failure (I50) 75",
          "All other forms of heart disease (I26-I28,I34-I38,I42-I49,I51) 75",
          "Acute and subacute endocarditis (I33) 75",
          "Hypertensive heart disease (I11) 75",
          "Acute rheumatic fever and chronic rheumatic heart diseases (I00-I09) 75",
          "Hypertensive heart and renal disease (I13) 75",
          "Other diseases of circulatory system (I71-I78) 75",
          "Other diseases of arteries, arterioles and capillaries (I72-I78) 75",
          "#Aortic aneurysm and dissection (I71) 75",
          "#Essential hypertension and hypertensive renal disease (I10,I12,I15) 75",
          "Other disorders of circulatory system (I80-I99) 75",
          "#Influenza and pneumonia (J09-J18) 75",
          "Influenza (J09-J11) 75",
          "Pneumonia (J12-J18) 75",
          "#Chronic lower respiratory diseases (J40-J47) 75",
          "Other chronic lower respiratory diseases (J44,J47) 75",
          "Emphysema (J43) 75",
          "#Pneumonitis due to solids and liquids (J69) 75",
          "Other diseases of respiratory system (J00-J06,J30- J39,J67,J70-J98) 75",
          "#Peptic ulcer (K25-K28) 75",
          "#Chronic liver disease and cirrhosis (K70,K73-K74) 75",
          "Alcoholic liver disease (K70) 75",
          "Other chronic liver disease and cirrhosis (K73-K74) 75",
          "#Cholelithiasis and other disorders of gallbladder (K80-K82) 75",
          "#Nephritis, nephrotic syndrome and nephrosis (N00-N07,N17-N19,N25-N27) 75",
          "Renal failure (N17-N19) 75",
          "#Congenital malformations, deformations and chromosomal abnormalities (Q00-Q99) 75",
          "Symptoms, signs and abnormal clinical and laboratory findings, not elsewhere classified (R00-R99) 75",
          "All other diseases (Residual)  75",
          "#Accidents (unintentional injuries) (V01-X59,Y85-Y86) 75",
          "Transport accidents (V01-V99,Y85) 75",
          "Motor vehicle accidents (V02-V04,V09.0,V09.2,V12-V14,V19.0-V19.2,V19.4-V19.6,V20-V79,V80.3-V80.5,V81.0-V81.1,V82.0-V82.1,V83-V86,V87.0-V87.8,V88.0-V88.8,V89.0,V89.2) 75",
          "Nontransport accidents (W00-X59,Y86) 75",
          "Falls (W00-W19) 75",
          "Other and unspecified nontransport accidents and their sequelae (W20-W31,W35-W64,W75-W99,X10-X39,X50-X59,Y86) 75",
          "Accidental exposure to smoke, fire and flames (X00-X09) 75",
          "Accidental poisoning and exposure to noxious substances (X40-X49) 75",
          "#Intentional self-harm (suicide) (*U03,X60-X84,Y87.0) 75",
          "Intentional self-harm (suicide) by other and unspecified means and their sequelae (*U03,X60-X71,X75-X84,Y87.0) 75",
          "Intentional self-harm (suicide) by discharge of firearms (X72-X74) 75",
          "#Complications of medical and surgical care (Y40-Y84,Y88) 75",
          "#Hernia (K40-K46) 75",
          "85+",
          "Certain other intestinal infections (A04,A07-A09) 85",
          "#Enterocolitis due to Clostridium difficile (A04.7) 85",
          "#Septicemia (A40-A41) 85",
          "Other and unspecified infectious and parasitic diseases and their sequelae (A00,A05,A20-A36,A42-A44,A48-A49,A54-A79,A81-A82,A85.0-A85.1,A85.8,A86-B04,B06-B09,B25-B49,B55-B99,U07.1) 85",
          "#Malignant neoplasms (C00-C97) 85",
          "Malignant neoplasms of kidney and renal pelvis (C64-C65) 85",
          "Malignant neoplasms of liver and intrahepatic bile ducts (C22) 85",
          "Malignant neoplasms of meninges, brain and other parts of central nervous system (C70-C72) 85",
          "Malignant neoplasm of stomach (C16) 85",
          "Malignant neoplasm of larynx (C32) 85",
          "Malignant neoplasm of bladder (C67) 85",
          "All other and unspecified malignant neoplasms (C17,C23-C24,C26-C31,C37-C41,C44-C49,C51-C52,C57-C60,C62-C63,C66,C68-C69,C73-C80,C97) 85",
          "Malignant neoplasm of breast (C50) 85",
          "Malignant neoplasms of lymphoid, hematopoietic and related tissue (C81-C96) 85",
          "Leukemia (C91-C95) 85",
          "Non-Hodgkin lymphoma (C82-C85) 85",
          "Multiple myeloma and immunoproliferative neoplasms (C88,C90) 85",
          "Malignant neoplasm of prostate (C61) 85",
          "Malignant melanoma of skin (C43) 85",
          "Malignant neoplasm of esophagus (C15) 85",
          "Malignant neoplasms of corpus uteri and uterus, part unspecified (C54-C55) 85",
          "Malignant neoplasms of colon, rectum and anus (C18-C21) 85",
          "Malignant neoplasm of ovary (C56) 85",
          "Malignant neoplasms of lip, oral cavity and pharynx (C00-C14) 85",
          "Malignant neoplasm of pancreas (C25) 85",
          "Malignant neoplasms of trachea, bronchus and lung (C33-C34) 85",
          "#In situ neoplasms, benign neoplasms and neoplasms of uncertain or unknown behavior (D00-D48) 85",
          "#Anemias (D50-D64) 85",
          "#Diabetes mellitus (E10-E14) 85",
          "#Nutritional deficiencies (E40-E64) 85",
          "Malnutrition (E40-E46) 85",
          "#Parkinson disease (G20-G21) 85",
          "#Alzheimer disease (G30) 85",
          "Major cardiovascular diseases (I00-I78) 85",
          "#Atherosclerosis (I70) 85",
          "#Cerebrovascular diseases (I60-I69) 85",
          "#Diseases of heart (I00-I09,I11,I13,I20-I51) 85",
          "Ischemic heart diseases (I20-I25) 85",
          "Acute myocardial infarction (I21-I22) 85",
          "Other forms of chronic ischemic heart disease (I20,I25) 85",
          "All other forms of chronic ischemic heart disease (I20,I25.1-I25.9) 85",
          "Atherosclerotic cardiovascular disease, so described (I25.0) 85",
          "Other acute ischemic heart diseases (I24) 85",
          "Other heart diseases (I26-I51) 85",
          "Heart failure (I50) 85",
          "All other forms of heart disease (I26-I28,I34-I38,I42-I49,I51) 85",
          "Acute and subacute endocarditis (I33) 85",
          "Hypertensive heart disease (I11) 85",
          "Acute rheumatic fever and chronic rheumatic heart diseases (I00-I09) 85",
          "Hypertensive heart and renal disease (I13) 85",
          "Other diseases of circulatory system (I71-I78) 85",
          "Other diseases of arteries, arterioles and capillaries (I72-I78) 85",
          "#Aortic aneurysm and dissection (I71) 85",
          "#Essential hypertension and hypertensive renal disease (I10,I12,I15) 85",
          "Other disorders of circulatory system (I80-I99) 85",
          "#Influenza and pneumonia (J09-J18) 85",
          "Influenza (J09-J11) 85",
          "Pneumonia (J12-J18) 85",
          "#Chronic lower respiratory diseases (J40-J47) 85",
          "Asthma (J45-J46) 85",
          "Other chronic lower respiratory diseases (J44,J47) 85",
          "Emphysema (J43) 85",
          "#Pneumonitis due to solids and liquids (J69) 85",
          "Other diseases of respiratory system (J00-J06,J30- J39,J67,J70-J98) 85",
          "#Peptic ulcer (K25-K28) 85",
          "#Chronic liver disease and cirrhosis (K70,K73-K74) 85",
          "Other chronic liver disease and cirrhosis (K73-K74) 85",
          "#Cholelithiasis and other disorders of gallbladder (K80-K82) 85",
          "#Nephritis, nephrotic syndrome and nephrosis (N00-N07,N17-N19,N25-N27) 85",
          "Renal failure (N17-N19) 85",
          "Symptoms, signs and abnormal clinical and laboratory findings, not elsewhere classified (R00-R99) 85",
          "All other diseases (Residual)  85",
          "#Accidents (unintentional injuries) (V01-X59,Y85-Y86) 85",
          "Transport accidents (V01-V99,Y85) 85",
          "Motor vehicle accidents (V02-V04,V09.0,V09.2,V12-V14,V19.0-V19.2,V19.4-V19.6,V20-V79,V80.3-V80.5,V81.0-V81.1,V82.0-V82.1,V83-V86,V87.0-V87.8,V88.0-V88.8,V89.0,V89.2) 85",
          "Nontransport accidents (W00-X59,Y86) 85",
          "Falls (W00-W19) 85",
          "Other and unspecified nontransport accidents and their sequelae (W20-W31,W35-W64,W75-W99,X10-X39,X50-X59,Y86) 85",
          "#Intentional self-harm (suicide) (*U03,X60-X84,Y87.0) 85",
          "Intentional self-harm (suicide) by discharge of firearms (X72-X74) 85",
          "#Complications of medical and surgical care (Y40-Y84,Y88) 85",
          "#Hernia (K40-K46) 85",
          "#Hyperplasia of prostate (N40) 85",
          "25-34",
          "#Septicemia (A40-A41) 25",
          "#Human immunodeficiency virus (HIV) disease (B20-B24) 25",
          "#Malignant neoplasms (C00-C97) 25",
          "Malignant neoplasms of meninges, brain and other parts of central nervous system (C70-C72) 25",
          "All other and unspecified malignant neoplasms (C17,C23-C24,C26-C31,C37-C41,C44-C49,C51-C52,C57-C60,C62-C63,C66,C68-C69,C73-C80,C97) 25",
          "Malignant neoplasm of breast (C50) 25",
          "Malignant neoplasms of lymphoid, hematopoietic and related tissue (C81-C96) 25",
          "#Diabetes mellitus (E10-E14) 25",
          "Major cardiovascular diseases (I00-I78) 25",
          "#Cerebrovascular diseases (I60-I69) 25",
          "#Diseases of heart (I00-I09,I11,I13,I20-I51) 25",
          "Ischemic heart diseases (I20-I25) 25",
          "Acute myocardial infarction (I21-I22) 25",
          "Other forms of chronic ischemic heart disease (I20,I25) 25",
          "Atherosclerotic cardiovascular disease, so described (I25.0) 25",
          "Other heart diseases (I26-I51) 25",
          "All other forms of heart disease (I26-I28,I34-I38,I42-I49,I51) 25",
          "Hypertensive heart disease (I11) 25",
          "#Influenza and pneumonia (J09-J18) 25",
          "Pneumonia (J12-J18) 25",
          "#Chronic lower respiratory diseases (J40-J47) 25",
          "Asthma (J45-J46) 25",
          "#Chronic liver disease and cirrhosis (K70,K73-K74) 25",
          "Alcoholic liver disease (K70) 25",
          "#Pregnancy, childbirth and the puerperium (O00-O99) 25",
          "Other complications of pregnancy, childbirth and the puerperium (O10-O99) 25",
          "#Congenital malformations, deformations and chromosomal abnormalities (Q00-Q99) 25",
          "Symptoms, signs and abnormal clinical and laboratory findings, not elsewhere classified (R00-R99) 25",
          "All other diseases (Residual)  25",
          "#Accidents (unintentional injuries) (V01-X59,Y85-Y86) 25",
          "Transport accidents (V01-V99,Y85) 25",
          "Motor vehicle accidents (V02-V04,V09.0,V09.2,V12-V14,V19.0-V19.2,V19.4-V19.6,V20-V79,V80.3-V80.5,V81.0-V81.1,V82.0-V82.1,V83-V86,V87.0-V87.8,V88.0-V88.8,V89.0,V89.2) 25",
          "Nontransport accidents (W00-X59,Y86) 25",
          "Other and unspecified nontransport accidents and their sequelae (W20-W31,W35-W64,W75-W99,X10-X39,X50-X59,Y86) 25",
          "Accidental poisoning and exposure to noxious substances (X40-X49) 25",
          "Accidental drowning and submersion (W65-W74) 25",
          "#Intentional self-harm (suicide) (*U03,X60-X84,Y87.0) 25",
          "Intentional self-harm (suicide) by other and unspecified means and their sequelae (*U03,X60-X71,X75-X84,Y87.0) 25",
          "Intentional self-harm (suicide) by discharge of firearms (X72-X74) 25",
          "#Assault (homicide) (*U01-*U02,X85-Y09,Y87.1) 25",
          "Assault (homicide) by other and unspecified means and their sequelae (*U01.0-*U01.3,*U01.5-*U01.9,*U02,X85-X92,X96-Y09,Y87.1) 25",
          "Assault (homicide) by discharge of firearms (*U01.4,X93-X95) 25",
          "Events of undetermined intent (Y10-Y34,Y87.2,Y89.9) 25",
          "Other and unspecified events of undetermined intent and their sequelae (Y10-Y21,Y25-Y34,Y87.2,Y89.9) 25",
          "35-44",
          "#Septicemia (A40-A41) 35",
          "Other and unspecified infectious and parasitic diseases and their sequelae (A00,A05,A20-A36,A42-A44,A48-A49,A54-A79,A81-A82,A85.0-A85.1,A85.8,A86-B04,B06-B09,B25-B49,B55-B99,U07.1) 35",
          "#Malignant neoplasms (C00-C97) 35",
          "Malignant neoplasms of meninges, brain and other parts of central nervous system (C70-C72) 35",
          "Malignant neoplasm of cervix uteri (C53) 35",
          "All other and unspecified malignant neoplasms (C17,C23-C24,C26-C31,C37-C41,C44-C49,C51-C52,C57-C60,C62-C63,C66,C68-C69,C73-C80,C97) 35",
          "Malignant neoplasm of breast (C50) 35",
          "Malignant neoplasms of lymphoid, hematopoietic and related tissue (C81-C96) 35",
          "Leukemia (C91-C95) 35",
          "Malignant melanoma of skin (C43) 35",
          "Malignant neoplasms of colon, rectum and anus (C18-C21) 35",
          "Malignant neoplasm of pancreas (C25) 35",
          "Malignant neoplasms of trachea, bronchus and lung (C33-C34) 35",
          "#Diabetes mellitus (E10-E14) 35",
          "Major cardiovascular diseases (I00-I78) 35",
          "#Cerebrovascular diseases (I60-I69) 35",
          "#Diseases of heart (I00-I09,I11,I13,I20-I51) 35",
          "Ischemic heart diseases (I20-I25) 35",
          "Acute myocardial infarction (I21-I22) 35",
          "Other forms of chronic ischemic heart disease (I20,I25) 35",
          "All other forms of chronic ischemic heart disease (I20,I25.1-I25.9) 35",
          "Atherosclerotic cardiovascular disease, so described (I25.0) 35",
          "Other heart diseases (I26-I51) 35",
          "Heart failure (I50) 35",
          "All other forms of heart disease (I26-I28,I34-I38,I42-I49,I51) 35",
          "Hypertensive heart disease (I11) 35",
          "Other diseases of circulatory system (I71-I78) 35",
          "#Aortic aneurysm and dissection (I71) 35",
          "#Essential hypertension and hypertensive renal disease (I10,I12,I15) 35",
          "Other disorders of circulatory system (I80-I99) 35",
          "#Influenza and pneumonia (J09-J18) 35",
          "Pneumonia (J12-J18) 35",
          "#Chronic lower respiratory diseases (J40-J47) 35",
          "Other diseases of respiratory system (J00-J06,J30- J39,J67,J70-J98) 35",
          "#Chronic liver disease and cirrhosis (K70,K73-K74) 35",
          "Alcoholic liver disease (K70) 35",
          "Other chronic liver disease and cirrhosis (K73-K74) 35",
          "#Nephritis, nephrotic syndrome and nephrosis (N00-N07,N17-N19,N25-N27) 35",
          "Renal failure (N17-N19) 35",
          "#Pregnancy, childbirth and the puerperium (O00-O99) 35",
          "Other complications of pregnancy, childbirth and the puerperium (O10-O99) 35",
          "#Congenital malformations, deformations and chromosomal abnormalities (Q00-Q99) 35",
          "Symptoms, signs and abnormal clinical and laboratory findings, not elsewhere classified (R00-R99) 35",
          "All other diseases (Residual)  35",
          "#Accidents (unintentional injuries) (V01-X59,Y85-Y86) 35",
          "Transport accidents (V01-V99,Y85) 35",
          "Motor vehicle accidents (V02-V04,V09.0,V09.2,V12-V14,V19.0-V19.2,V19.4-V19.6,V20-V79,V80.3-V80.5,V81.0-V81.1,V82.0-V82.1,V83-V86,V87.0-V87.8,V88.0-V88.8,V89.0,V89.2) 35",
          "Nontransport accidents (W00-X59,Y86) 35",
          "Other and unspecified nontransport accidents and their sequelae (W20-W31,W35-W64,W75-W99,X10-X39,X50-X59,Y86) 35",
          "Accidental poisoning and exposure to noxious substances (X40-X49) 35",
          "Accidental drowning and submersion (W65-W74) 35",
          "#Intentional self-harm (suicide) (*U03,X60-X84,Y87.0) 35",
          "Intentional self-harm (suicide) by other and unspecified means and their sequelae (*U03,X60-X71,X75-X84,Y87.0) 35",
          "Intentional self-harm (suicide) by discharge of firearms (X72-X74) 35",
          "#Assault (homicide) (*U01-*U02,X85-Y09,Y87.1) 35",
          "Assault (homicide) by other and unspecified means and their sequelae (*U01.0-*U01.3,*U01.5-*U01.9,*U02,X85-X92,X96-Y09,Y87.1) 35",
          "Assault (homicide) by discharge of firearms (*U01.4,X93-X95) 35",
          "Events of undetermined intent (Y10-Y34,Y87.2,Y89.9) 35",
          "Other and unspecified events of undetermined intent and their sequelae (Y10-Y21,Y25-Y34,Y87.2,Y89.9) 35",
          "1-4",
          "#Malignant neoplasms (C00-C97) 1-",
          "#Congenital malformations, deformations and chromosomal abnormalities (Q00-Q99) 1-",
          "All other diseases (Residual)  1-",
          "#Accidents (unintentional injuries) (V01-X59,Y85-Y86) 1-",
          "Transport accidents (V01-V99,Y85) 1-",
          "Motor vehicle accidents (V02-V04,V09.0,V09.2,V12-V14,V19.0-V19.2,V19.4-V19.6,V20-V79,V80.3-V80.5,V81.0-V81.1,V82.0-V82.1,V83-V86,V87.0-V87.8,V88.0-V88.8,V89.0,V89.2) 1-",
          "Nontransport accidents (W00-X59,Y86) 1-",
          "#Assault (homicide) (*U01-*U02,X85-Y09,Y87.1) 1-",
          "5-14",
          "#Malignant neoplasms (C00-C97) 5-",
          "Malignant neoplasms of meninges, brain and other parts of central nervous system (C70-C72) 5-",
          "Major cardiovascular diseases (I00-I78) 5-",
          "#Diseases of heart (I00-I09,I11,I13,I20-I51) 5-",
          "#Congenital malformations, deformations and chromosomal abnormalities (Q00-Q99) 5-",
          "All other diseases (Residual)  5-",
          "#Accidents (unintentional injuries) (V01-X59,Y85-Y86) 5-",
          "Transport accidents (V01-V99,Y85) 5-",
          "Motor vehicle accidents (V02-V04,V09.0,V09.2,V12-V14,V19.0-V19.2,V19.4-V19.6,V20-V79,V80.3-V80.5,V81.0-V81.1,V82.0-V82.1,V83-V86,V87.0-V87.8,V88.0-V88.8,V89.0,V89.2) 5-",
          "Nontransport accidents (W00-X59,Y86) 5-",
          "#Intentional self-harm (suicide) (*U03,X60-X84,Y87.0) 5-",
          "Intentional self-harm (suicide) by other and unspecified means and their sequelae (*U03,X60-X71,X75-X84,Y87.0) 5-",
          "#Assault (homicide) (*U01-*U02,X85-Y09,Y87.1) 5-",
          "15-24",
          "#Malignant neoplasms (C00-C97) 15",
          "Malignant neoplasms of meninges, brain and other parts of central nervous system (C70-C72) 15",
          "All other and unspecified malignant neoplasms (C17,C23-C24,C26-C31,C37-C41,C44-C49,C51-C52,C57-C60,C62-C63,C66,C68-C69,C73-C80,C97) 15",
          "Major cardiovascular diseases (I00-I78) 15",
          "#Diseases of heart (I00-I09,I11,I13,I20-I51) 15",
          "Other heart diseases (I26-I51) 15",
          "All other forms of heart disease (I26-I28,I34-I38,I42-I49,I51) 15",
          "#Influenza and pneumonia (J09-J18) 15",
          "#Chronic lower respiratory diseases (J40-J47) 15",
          "Asthma (J45-J46) 15",
          "#Congenital malformations, deformations and chromosomal abnormalities (Q00-Q99) 15",
          "Symptoms, signs and abnormal clinical and laboratory findings, not elsewhere classified (R00-R99) 15",
          "All other diseases (Residual)  15",
          "#Accidents (unintentional injuries) (V01-X59,Y85-Y86) 15",
          "Transport accidents (V01-V99,Y85) 15",
          "Motor vehicle accidents (V02-V04,V09.0,V09.2,V12-V14,V19.0-V19.2,V19.4-V19.6,V20-V79,V80.3-V80.5,V81.0-V81.1,V82.0-V82.1,V83-V86,V87.0-V87.8,V88.0-V88.8,V89.0,V89.2) 15",
          "Nontransport accidents (W00-X59,Y86) 15",
          "Accidental poisoning and exposure to noxious substances (X40-X49) 15",
          "Accidental drowning and submersion (W65-W74) 15",
          "#Intentional self-harm (suicide) (*U03,X60-X84,Y87.0) 15",
          "Intentional self-harm (suicide) by other and unspecified means and their sequelae (*U03,X60-X71,X75-X84,Y87.0) 15",
          "Intentional self-harm (suicide) by discharge of firearms (X72-X74) 15",
          "#Assault (homicide) (*U01-*U02,X85-Y09,Y87.1) 15",
          "Assault (homicide) by discharge of firearms (*U01.4,X93-X95) 15",
          "Events of undetermined intent (Y10-Y34,Y87.2,Y89.9) 15",
          "Other and unspecified events of undetermined intent and their sequelae (Y10-Y21,Y25-Y34,Y87.2,Y89.9) 15",
          "1",
          "Major cardiovascular diseases (I00-I78) 1",
          "#Certain conditions originating in the perinatal period (P00-P96) 1",
          "#Congenital malformations, deformations and chromosomal abnormalities (Q00-Q99) 1",
          "Symptoms, signs and abnormal clinical and laboratory findings, not elsewhere classified (R00-R99) 1",
          "All other diseases (Residual)  1",
          "#Accidents (unintentional injuries) (V01-X59,Y85-Y86) 1",
          "Nontransport accidents (W00-X59,Y86) 1",
          "Other and unspecified nontransport accidents and their sequelae (W20-W31,W35-W64,W75-W99,X10-X39,X50-X59,Y86) 1",
          "#Assault (homicide) (*U01-*U02,X85-Y09,Y87.1) 1",
          "Assault (homicide) by other and unspecified means and their sequelae (*U01.0-*U01.3,*U01.5-*U01.9,*U02,X85-X92,X96-Y09,Y87.1) 1"
         ],
         "parents": [
          "",
          "All Ages",
          "45-54",
          "45-54",
          "45-54",
          "45-54",
          "45-54",
          "45-54",
          "#Malignant neoplasms (C00-C97) 45",
          "#Malignant neoplasms (C00-C97) 45",
          "#Malignant neoplasms (C00-C97) 45",
          "#Malignant neoplasms (C00-C97) 45",
          "#Malignant neoplasms (C00-C97) 45",
          "#Malignant neoplasms (C00-C97) 45",
          "#Malignant neoplasms (C00-C97) 45",
          "#Malignant neoplasms (C00-C97) 45",
          "#Malignant neoplasms (C00-C97) 45",
          "#Malignant neoplasms (C00-C97) 45",
          "Malignant neoplasms of lymphoid, hematopoietic and related tissue (C81-C96) 45",
          "Malignant neoplasms of lymphoid, hematopoietic and related tissue (C81-C96) 45",
          "Malignant neoplasms of lymphoid, hematopoietic and related tissue (C81-C96) 45",
          "#Malignant neoplasms (C00-C97) 45",
          "#Malignant neoplasms (C00-C97) 45",
          "#Malignant neoplasms (C00-C97) 45",
          "#Malignant neoplasms (C00-C97) 45",
          "#Malignant neoplasms (C00-C97) 45",
          "#Malignant neoplasms (C00-C97) 45",
          "#Malignant neoplasms (C00-C97) 45",
          "#Malignant neoplasms (C00-C97) 45",
          "#Malignant neoplasms (C00-C97) 45",
          "45-54",
          "45-54",
          "45-54",
          "Major cardiovascular diseases (I00-I78) 45",
          "Major cardiovascular diseases (I00-I78) 45",
          "#Diseases of heart (I00-I09,I11,I13,I20-I51) 45",
          "Ischemic heart diseases (I20-I25) 45",
          "Ischemic heart diseases (I20-I25) 45",
          "Other forms of chronic ischemic heart disease (I20,I25) 45",
          "Other forms of chronic ischemic heart disease (I20,I25) 45",
          "#Diseases of heart (I00-I09,I11,I13,I20-I51) 45",
          "Other heart diseases (I26-I51) 45",
          "Other heart diseases (I26-I51) 45",
          "#Diseases of heart (I00-I09,I11,I13,I20-I51) 45",
          "#Diseases of heart (I00-I09,I11,I13,I20-I51) 45",
          "Major cardiovascular diseases (I00-I78) 45",
          "Other diseases of circulatory system (I71-I78) 45",
          "Other diseases of circulatory system (I71-I78) 45",
          "Major cardiovascular diseases (I00-I78) 45",
          "45-54",
          "45-54",
          "#Influenza and pneumonia (J09-J18) 45",
          "#Influenza and pneumonia (J09-J18) 45",
          "45-54",
          "#Chronic lower respiratory diseases (J40-J47) 45",
          "#Chronic lower respiratory diseases (J40-J47) 45",
          "45-54",
          "45-54",
          "45-54",
          "#Chronic liver disease and cirrhosis (K70,K73-K74) 45",
          "#Chronic liver disease and cirrhosis (K70,K73-K74) 45",
          "45-54",
          "#Nephritis, nephrotic syndrome and nephrosis (N00-N07,N17-N19,N25-N27) 45",
          "45-54",
          "45-54",
          "45-54",
          "45-54",
          "#Accidents (unintentional injuries) (V01-X59,Y85-Y86) 45",
          "Transport accidents (V01-V99,Y85) 45",
          "Transport accidents (V01-V99,Y85) 45",
          "#Accidents (unintentional injuries) (V01-X59,Y85-Y86) 45",
          "Nontransport accidents (W00-X59,Y86) 45",
          "Nontransport accidents (W00-X59,Y86) 45",
          "Nontransport accidents (W00-X59,Y86) 45",
          "45-54",
          "#Intentional self-harm (suicide) (*U03,X60-X84,Y87.0) 45",
          "#Intentional self-harm (suicide) (*U03,X60-X84,Y87.0) 45",
          "45-54",
          "#Assault (homicide) (*U01-*U02,X85-Y09,Y87.1) 45",
          "#Assault (homicide) (*U01-*U02,X85-Y09,Y87.1) 45",
          "45-54",
          "Events of undetermined intent (Y10-Y34,Y87.2,Y89.9) 45",
          "All Ages",
          "55-64",
          "Certain other intestinal infections (A04,A07-A09) 55",
          "55-64",
          "55-64",
          "55-64",
          "55-64",
          "55-64",
          "#Malignant neoplasms (C00-C97) 55",
          "#Malignant neoplasms (C00-C97) 55",
          "#Malignant neoplasms (C00-C97) 55",
          "#Malignant neoplasms (C00-C97) 55",
          "#Malignant neoplasms (C00-C97) 55",
          "#Malignant neoplasms (C00-C97) 55",
          "#Malignant neoplasms (C00-C97) 55",
          "#Malignant neoplasms (C00-C97) 55",
          "#Malignant neoplasms (C00-C97) 55",
          "#Malignant neoplasms (C00-C97) 55",
          "Malignant neoplasms of lymphoid, hematopoietic and related tissue (C81-C96) 55",
          "Malignant neoplasms of lymphoid, hematopoietic and related tissue (C81-C96) 55",
          "Malignant neoplasms of lymphoid, hematopoietic and related tissue (C81-C96) 55",
          "#Malignant neoplasms (C00-C97) 55",
          "#Malignant neoplasms (C00-C97) 55",
          "#Malignant neoplasms (C00-C97) 55",
          "#Malignant neoplasms (C00-C97) 55",
          "#Malignant neoplasms (C00-C97) 55",
          "#Malignant neoplasms (C00-C97) 55",
          "#Malignant neoplasms (C00-C97) 55",
          "#Malignant neoplasms (C00-C97) 55",
          "#Malignant neoplasms (C00-C97) 55",
          "55-64",
          "55-64",
          "55-64",
          "55-64",
          "#Nutritional deficiencies (E40-E64) 55",
          "55-64",
          "55-64",
          "55-64",
          "Major cardiovascular diseases (I00-I78) 55",
          "Major cardiovascular diseases (I00-I78) 55",
          "Major cardiovascular diseases (I00-I78) 55",
          "#Diseases of heart (I00-I09,I11,I13,I20-I51) 55",
          "Ischemic heart diseases (I20-I25) 55",
          "Ischemic heart diseases (I20-I25) 55",
          "Other forms of chronic ischemic heart disease (I20,I25) 55",
          "Other forms of chronic ischemic heart disease (I20,I25) 55",
          "Ischemic heart diseases (I20-I25) 55",
          "#Diseases of heart (I00-I09,I11,I13,I20-I51) 55",
          "Other heart diseases (I26-I51) 55",
          "Other heart diseases (I26-I51) 55",
          "Other heart diseases (I26-I51) 55",
          "#Diseases of heart (I00-I09,I11,I13,I20-I51) 55",
          "#Diseases of heart (I00-I09,I11,I13,I20-I51) 55",
          "#Diseases of heart (I00-I09,I11,I13,I20-I51) 55",
          "Major cardiovascular diseases (I00-I78) 55",
          "Other diseases of circulatory system (I71-I78) 55",
          "Other diseases of circulatory system (I71-I78) 55",
          "Major cardiovascular diseases (I00-I78) 55",
          "55-64",
          "55-64",
          "#Influenza and pneumonia (J09-J18) 55",
          "#Influenza and pneumonia (J09-J18) 55",
          "55-64",
          "#Chronic lower respiratory diseases (J40-J47) 55",
          "#Chronic lower respiratory diseases (J40-J47) 55",
          "#Chronic lower respiratory diseases (J40-J47) 55",
          "55-64",
          "55-64",
          "55-64",
          "55-64",
          "#Chronic liver disease and cirrhosis (K70,K73-K74) 55",
          "#Chronic liver disease and cirrhosis (K70,K73-K74) 55",
          "55-64",
          "#Nephritis, nephrotic syndrome and nephrosis (N00-N07,N17-N19,N25-N27) 55",
          "55-64",
          "55-64",
          "55-64",
          "55-64",
          "#Accidents (unintentional injuries) (V01-X59,Y85-Y86) 55",
          "Transport accidents (V01-V99,Y85) 55",
          "Transport accidents (V01-V99,Y85) 55",
          "#Accidents (unintentional injuries) (V01-X59,Y85-Y86) 55",
          "Nontransport accidents (W00-X59,Y86) 55",
          "Nontransport accidents (W00-X59,Y86) 55",
          "Nontransport accidents (W00-X59,Y86) 55",
          "Nontransport accidents (W00-X59,Y86) 55",
          "Nontransport accidents (W00-X59,Y86) 55",
          "55-64",
          "#Intentional self-harm (suicide) (*U03,X60-X84,Y87.0) 55",
          "#Intentional self-harm (suicide) (*U03,X60-X84,Y87.0) 55",
          "55-64",
          "#Assault (homicide) (*U01-*U02,X85-Y09,Y87.1) 55",
          "#Assault (homicide) (*U01-*U02,X85-Y09,Y87.1) 55",
          "55-64",
          "Events of undetermined intent (Y10-Y34,Y87.2,Y89.9) 55",
          "55-64",
          "All Ages",
          "65-74",
          "Certain other intestinal infections (A04,A07-A09) 65",
          "65-74",
          "65-74",
          "65-74",
          "65-74",
          "65-74",
          "#Malignant neoplasms (C00-C97) 65",
          "#Malignant neoplasms (C00-C97) 65",
          "#Malignant neoplasms (C00-C97) 65",
          "#Malignant neoplasms (C00-C97) 65",
          "#Malignant neoplasms (C00-C97) 65",
          "#Malignant neoplasms (C00-C97) 65",
          "#Malignant neoplasms (C00-C97) 65",
          "#Malignant neoplasms (C00-C97) 65",
          "#Malignant neoplasms (C00-C97) 65",
          "#Malignant neoplasms (C00-C97) 65",
          "Malignant neoplasms of lymphoid, hematopoietic and related tissue (C81-C96) 65",
          "Malignant neoplasms of lymphoid, hematopoietic and related tissue (C81-C96) 65",
          "Malignant neoplasms of lymphoid, hematopoietic and related tissue (C81-C96) 65",
          "#Malignant neoplasms (C00-C97) 65",
          "#Malignant neoplasms (C00-C97) 65",
          "#Malignant neoplasms (C00-C97) 65",
          "#Malignant neoplasms (C00-C97) 65",
          "#Malignant neoplasms (C00-C97) 65",
          "#Malignant neoplasms (C00-C97) 65",
          "#Malignant neoplasms (C00-C97) 65",
          "#Malignant neoplasms (C00-C97) 65",
          "#Malignant neoplasms (C00-C97) 65",
          "65-74",
          "65-74",
          "65-74",
          "65-74",
          "#Nutritional deficiencies (E40-E64) 65",
          "65-74",
          "65-74",
          "65-74",
          "Major cardiovascular diseases (I00-I78) 65",
          "Major cardiovascular diseases (I00-I78) 65",
          "Major cardiovascular diseases (I00-I78) 65",
          "#Diseases of heart (I00-I09,I11,I13,I20-I51) 65",
          "Ischemic heart diseases (I20-I25) 65",
          "Ischemic heart diseases (I20-I25) 65",
          "Other forms of chronic ischemic heart disease (I20,I25) 65",
          "Other forms of chronic ischemic heart disease (I20,I25) 65",
          "Ischemic heart diseases (I20-I25) 65",
          "#Diseases of heart (I00-I09,I11,I13,I20-I51) 65",
          "Other heart diseases (I26-I51) 65",
          "Other heart diseases (I26-I51) 65",
          "Other heart diseases (I26-I51) 65",
          "Other heart diseases (I26-I51) 65",
          "#Diseases of heart (I00-I09,I11,I13,I20-I51) 65",
          "#Diseases of heart (I00-I09,I11,I13,I20-I51) 65",
          "#Diseases of heart (I00-I09,I11,I13,I20-I51) 65",
          "Major cardiovascular diseases (I00-I78) 65",
          "Other diseases of circulatory system (I71-I78) 65",
          "Other diseases of circulatory system (I71-I78) 65",
          "Major cardiovascular diseases (I00-I78) 65",
          "65-74",
          "65-74",
          "#Influenza and pneumonia (J09-J18) 65",
          "#Influenza and pneumonia (J09-J18) 65",
          "65-74",
          "#Chronic lower respiratory diseases (J40-J47) 65",
          "#Chronic lower respiratory diseases (J40-J47) 65",
          "#Chronic lower respiratory diseases (J40-J47) 65",
          "65-74",
          "65-74",
          "65-74",
          "65-74",
          "#Chronic liver disease and cirrhosis (K70,K73-K74) 65",
          "#Chronic liver disease and cirrhosis (K70,K73-K74) 65",
          "65-74",
          "65-74",
          "#Nephritis, nephrotic syndrome and nephrosis (N00-N07,N17-N19,N25-N27) 65",
          "65-74",
          "65-74",
          "65-74",
          "65-74",
          "#Accidents (unintentional injuries) (V01-X59,Y85-Y86) 65",
          "Transport accidents (V01-V99,Y85) 65",
          "Transport accidents (V01-V99,Y85) 65",
          "#Accidents (unintentional injuries) (V01-X59,Y85-Y86) 65",
          "Nontransport accidents (W00-X59,Y86) 65",
          "Nontransport accidents (W00-X59,Y86) 65",
          "Nontransport accidents (W00-X59,Y86) 65",
          "Nontransport accidents (W00-X59,Y86) 65",
          "Nontransport accidents (W00-X59,Y86) 65",
          "65-74",
          "#Intentional self-harm (suicide) (*U03,X60-X84,Y87.0) 65",
          "#Intentional self-harm (suicide) (*U03,X60-X84,Y87.0) 65",
          "65-74",
          "#Assault (homicide) (*U01-*U02,X85-Y09,Y87.1) 65",
          "65-74",
          "Events of undetermined intent (Y10-Y34,Y87.2,Y89.9) 65",
          "65-74",
          "65-74",
          "All Ages",
          "75-84",
          "Certain other intestinal infections (A04,A07-A09) 75",
          "75-84",
          "75-84",
          "75-84",
          "75-84",
          "#Malignant neoplasms (C00-C97) 75",
          "#Malignant neoplasms (C00-C97) 75",
          "#Malignant neoplasms (C00-C97) 75",
          "#Malignant neoplasms (C00-C97) 75",
          "#Malignant neoplasms (C00-C97) 75",
          "#Malignant neoplasms (C00-C97) 75",
          "#Malignant neoplasms (C00-C97) 75",
          "#Malignant neoplasms (C00-C97) 75",
          "#Malignant neoplasms (C00-C97) 75",
          "#Malignant neoplasms (C00-C97) 75",
          "Malignant neoplasms of lymphoid, hematopoietic and related tissue (C81-C96) 75",
          "Malignant neoplasms of lymphoid, hematopoietic and related tissue (C81-C96) 75",
          "Malignant neoplasms of lymphoid, hematopoietic and related tissue (C81-C96) 75",
          "#Malignant neoplasms (C00-C97) 75",
          "#Malignant neoplasms (C00-C97) 75",
          "#Malignant neoplasms (C00-C97) 75",
          "#Malignant neoplasms (C00-C97) 75",
          "#Malignant neoplasms (C00-C97) 75",
          "#Malignant neoplasms (C00-C97) 75",
          "#Malignant neoplasms (C00-C97) 75",
          "#Malignant neoplasms (C00-C97) 75",
          "#Malignant neoplasms (C00-C97) 75",
          "75-84",
          "75-84",
          "75-84",
          "75-84",
          "#Nutritional deficiencies (E40-E64) 75",
          "75-84",
          "75-84",
          "75-84",
          "Major cardiovascular diseases (I00-I78) 75",
          "Major cardiovascular diseases (I00-I78) 75",
          "Major cardiovascular diseases (I00-I78) 75",
          "#Diseases of heart (I00-I09,I11,I13,I20-I51) 75",
          "Ischemic heart diseases (I20-I25) 75",
          "Ischemic heart diseases (I20-I25) 75",
          "Other forms of chronic ischemic heart disease (I20,I25) 75",
          "Other forms of chronic ischemic heart disease (I20,I25) 75",
          "Ischemic heart diseases (I20-I25) 75",
          "#Diseases of heart (I00-I09,I11,I13,I20-I51) 75",
          "Other heart diseases (I26-I51) 75",
          "Other heart diseases (I26-I51) 75",
          "Other heart diseases (I26-I51) 75",
          "#Diseases of heart (I00-I09,I11,I13,I20-I51) 75",
          "#Diseases of heart (I00-I09,I11,I13,I20-I51) 75",
          "#Diseases of heart (I00-I09,I11,I13,I20-I51) 75",
          "Major cardiovascular diseases (I00-I78) 75",
          "Other diseases of circulatory system (I71-I78) 75",
          "Other diseases of circulatory system (I71-I78) 75",
          "Major cardiovascular diseases (I00-I78) 75",
          "75-84",
          "75-84",
          "#Influenza and pneumonia (J09-J18) 75",
          "#Influenza and pneumonia (J09-J18) 75",
          "75-84",
          "#Chronic lower respiratory diseases (J40-J47) 75",
          "#Chronic lower respiratory diseases (J40-J47) 75",
          "75-84",
          "75-84",
          "75-84",
          "75-84",
          "#Chronic liver disease and cirrhosis (K70,K73-K74) 75",
          "#Chronic liver disease and cirrhosis (K70,K73-K74) 75",
          "75-84",
          "75-84",
          "#Nephritis, nephrotic syndrome and nephrosis (N00-N07,N17-N19,N25-N27) 75",
          "75-84",
          "75-84",
          "75-84",
          "75-84",
          "#Accidents (unintentional injuries) (V01-X59,Y85-Y86) 75",
          "Transport accidents (V01-V99,Y85) 75",
          "#Accidents (unintentional injuries) (V01-X59,Y85-Y86) 75",
          "Nontransport accidents (W00-X59,Y86) 75",
          "Nontransport accidents (W00-X59,Y86) 75",
          "Nontransport accidents (W00-X59,Y86) 75",
          "Nontransport accidents (W00-X59,Y86) 75",
          "75-84",
          "#Intentional self-harm (suicide) (*U03,X60-X84,Y87.0) 75",
          "#Intentional self-harm (suicide) (*U03,X60-X84,Y87.0) 75",
          "75-84",
          "75-84",
          "All Ages",
          "85+",
          "Certain other intestinal infections (A04,A07-A09) 85",
          "85+",
          "85+",
          "85+",
          "#Malignant neoplasms (C00-C97) 85",
          "#Malignant neoplasms (C00-C97) 85",
          "#Malignant neoplasms (C00-C97) 85",
          "#Malignant neoplasms (C00-C97) 85",
          "#Malignant neoplasms (C00-C97) 85",
          "#Malignant neoplasms (C00-C97) 85",
          "#Malignant neoplasms (C00-C97) 85",
          "#Malignant neoplasms (C00-C97) 85",
          "#Malignant neoplasms (C00-C97) 85",
          "Malignant neoplasms of lymphoid, hematopoietic and related tissue (C81-C96) 85",
          "Malignant neoplasms of lymphoid, hematopoietic and related tissue (C81-C96) 85",
          "Malignant neoplasms of lymphoid, hematopoietic and related tissue (C81-C96) 85",
          "#Malignant neoplasms (C00-C97) 85",
          "#Malignant neoplasms (C00-C97) 85",
          "#Malignant neoplasms (C00-C97) 85",
          "#Malignant neoplasms (C00-C97) 85",
          "#Malignant neoplasms (C00-C97) 85",
          "#Malignant neoplasms (C00-C97) 85",
          "#Malignant neoplasms (C00-C97) 85",
          "#Malignant neoplasms (C00-C97) 85",
          "#Malignant neoplasms (C00-C97) 85",
          "85+",
          "85+",
          "85+",
          "85+",
          "#Nutritional deficiencies (E40-E64) 85",
          "85+",
          "85+",
          "85+",
          "Major cardiovascular diseases (I00-I78) 85",
          "Major cardiovascular diseases (I00-I78) 85",
          "Major cardiovascular diseases (I00-I78) 85",
          "#Diseases of heart (I00-I09,I11,I13,I20-I51) 85",
          "Ischemic heart diseases (I20-I25) 85",
          "Ischemic heart diseases (I20-I25) 85",
          "Other forms of chronic ischemic heart disease (I20,I25) 85",
          "Other forms of chronic ischemic heart disease (I20,I25) 85",
          "Ischemic heart diseases (I20-I25) 85",
          "#Diseases of heart (I00-I09,I11,I13,I20-I51) 85",
          "Other heart diseases (I26-I51) 85",
          "Other heart diseases (I26-I51) 85",
          "Other heart diseases (I26-I51) 85",
          "#Diseases of heart (I00-I09,I11,I13,I20-I51) 85",
          "#Diseases of heart (I00-I09,I11,I13,I20-I51) 85",
          "#Diseases of heart (I00-I09,I11,I13,I20-I51) 85",
          "Major cardiovascular diseases (I00-I78) 85",
          "Other diseases of circulatory system (I71-I78) 85",
          "Other diseases of circulatory system (I71-I78) 85",
          "Major cardiovascular diseases (I00-I78) 85",
          "85+",
          "85+",
          "#Influenza and pneumonia (J09-J18) 85",
          "#Influenza and pneumonia (J09-J18) 85",
          "85+",
          "#Chronic lower respiratory diseases (J40-J47) 85",
          "#Chronic lower respiratory diseases (J40-J47) 85",
          "#Chronic lower respiratory diseases (J40-J47) 85",
          "85+",
          "85+",
          "85+",
          "85+",
          "#Chronic liver disease and cirrhosis (K70,K73-K74) 85",
          "85+",
          "85+",
          "#Nephritis, nephrotic syndrome and nephrosis (N00-N07,N17-N19,N25-N27) 85",
          "85+",
          "85+",
          "85+",
          "#Accidents (unintentional injuries) (V01-X59,Y85-Y86) 85",
          "Transport accidents (V01-V99,Y85) 85",
          "#Accidents (unintentional injuries) (V01-X59,Y85-Y86) 85",
          "Nontransport accidents (W00-X59,Y86) 85",
          "Nontransport accidents (W00-X59,Y86) 85",
          "85+",
          "#Intentional self-harm (suicide) (*U03,X60-X84,Y87.0) 85",
          "85+",
          "85+",
          "85+",
          "All Ages",
          "25-34",
          "25-34",
          "25-34",
          "#Malignant neoplasms (C00-C97) 25",
          "#Malignant neoplasms (C00-C97) 25",
          "#Malignant neoplasms (C00-C97) 25",
          "#Malignant neoplasms (C00-C97) 25",
          "25-34",
          "25-34",
          "Major cardiovascular diseases (I00-I78) 25",
          "Major cardiovascular diseases (I00-I78) 25",
          "#Diseases of heart (I00-I09,I11,I13,I20-I51) 25",
          "Ischemic heart diseases (I20-I25) 25",
          "Ischemic heart diseases (I20-I25) 25",
          "Other forms of chronic ischemic heart disease (I20,I25) 25",
          "#Diseases of heart (I00-I09,I11,I13,I20-I51) 25",
          "Other heart diseases (I26-I51) 25",
          "#Diseases of heart (I00-I09,I11,I13,I20-I51) 25",
          "25-34",
          "#Influenza and pneumonia (J09-J18) 25",
          "25-34",
          "#Chronic lower respiratory diseases (J40-J47) 25",
          "25-34",
          "#Chronic liver disease and cirrhosis (K70,K73-K74) 25",
          "25-34",
          "#Pregnancy, childbirth and the puerperium (O00-O99) 25",
          "25-34",
          "25-34",
          "25-34",
          "25-34",
          "#Accidents (unintentional injuries) (V01-X59,Y85-Y86) 25",
          "Transport accidents (V01-V99,Y85) 25",
          "#Accidents (unintentional injuries) (V01-X59,Y85-Y86) 25",
          "Nontransport accidents (W00-X59,Y86) 25",
          "Nontransport accidents (W00-X59,Y86) 25",
          "Nontransport accidents (W00-X59,Y86) 25",
          "25-34",
          "#Intentional self-harm (suicide) (*U03,X60-X84,Y87.0) 25",
          "#Intentional self-harm (suicide) (*U03,X60-X84,Y87.0) 25",
          "25-34",
          "#Assault (homicide) (*U01-*U02,X85-Y09,Y87.1) 25",
          "#Assault (homicide) (*U01-*U02,X85-Y09,Y87.1) 25",
          "25-34",
          "Events of undetermined intent (Y10-Y34,Y87.2,Y89.9) 25",
          "All Ages",
          "35-44",
          "35-44",
          "35-44",
          "#Malignant neoplasms (C00-C97) 35",
          "#Malignant neoplasms (C00-C97) 35",
          "#Malignant neoplasms (C00-C97) 35",
          "#Malignant neoplasms (C00-C97) 35",
          "#Malignant neoplasms (C00-C97) 35",
          "Malignant neoplasms of lymphoid, hematopoietic and related tissue (C81-C96) 35",
          "#Malignant neoplasms (C00-C97) 35",
          "#Malignant neoplasms (C00-C97) 35",
          "#Malignant neoplasms (C00-C97) 35",
          "#Malignant neoplasms (C00-C97) 35",
          "35-44",
          "35-44",
          "Major cardiovascular diseases (I00-I78) 35",
          "Major cardiovascular diseases (I00-I78) 35",
          "#Diseases of heart (I00-I09,I11,I13,I20-I51) 35",
          "Ischemic heart diseases (I20-I25) 35",
          "Ischemic heart diseases (I20-I25) 35",
          "Other forms of chronic ischemic heart disease (I20,I25) 35",
          "Other forms of chronic ischemic heart disease (I20,I25) 35",
          "#Diseases of heart (I00-I09,I11,I13,I20-I51) 35",
          "Other heart diseases (I26-I51) 35",
          "Other heart diseases (I26-I51) 35",
          "#Diseases of heart (I00-I09,I11,I13,I20-I51) 35",
          "Major cardiovascular diseases (I00-I78) 35",
          "Other diseases of circulatory system (I71-I78) 35",
          "Major cardiovascular diseases (I00-I78) 35",
          "35-44",
          "35-44",
          "#Influenza and pneumonia (J09-J18) 35",
          "35-44",
          "35-44",
          "35-44",
          "#Chronic liver disease and cirrhosis (K70,K73-K74) 35",
          "#Chronic liver disease and cirrhosis (K70,K73-K74) 35",
          "35-44",
          "#Nephritis, nephrotic syndrome and nephrosis (N00-N07,N17-N19,N25-N27) 35",
          "35-44",
          "#Pregnancy, childbirth and the puerperium (O00-O99) 35",
          "35-44",
          "35-44",
          "35-44",
          "35-44",
          "#Accidents (unintentional injuries) (V01-X59,Y85-Y86) 35",
          "Transport accidents (V01-V99,Y85) 35",
          "#Accidents (unintentional injuries) (V01-X59,Y85-Y86) 35",
          "Nontransport accidents (W00-X59,Y86) 35",
          "Nontransport accidents (W00-X59,Y86) 35",
          "Nontransport accidents (W00-X59,Y86) 35",
          "35-44",
          "#Intentional self-harm (suicide) (*U03,X60-X84,Y87.0) 35",
          "#Intentional self-harm (suicide) (*U03,X60-X84,Y87.0) 35",
          "35-44",
          "#Assault (homicide) (*U01-*U02,X85-Y09,Y87.1) 35",
          "#Assault (homicide) (*U01-*U02,X85-Y09,Y87.1) 35",
          "35-44",
          "Events of undetermined intent (Y10-Y34,Y87.2,Y89.9) 35",
          "All Ages",
          "1-4",
          "1-4",
          "1-4",
          "1-4",
          "#Accidents (unintentional injuries) (V01-X59,Y85-Y86) 1-",
          "Transport accidents (V01-V99,Y85) 1-",
          "#Accidents (unintentional injuries) (V01-X59,Y85-Y86) 1-",
          "1-4",
          "All Ages",
          "5-14",
          "#Malignant neoplasms (C00-C97) 5-",
          "5-14",
          "Major cardiovascular diseases (I00-I78) 5-",
          "5-14",
          "5-14",
          "5-14",
          "#Accidents (unintentional injuries) (V01-X59,Y85-Y86) 5-",
          "Transport accidents (V01-V99,Y85) 5-",
          "#Accidents (unintentional injuries) (V01-X59,Y85-Y86) 5-",
          "5-14",
          "#Intentional self-harm (suicide) (*U03,X60-X84,Y87.0) 5-",
          "5-14",
          "All Ages",
          "15-24",
          "#Malignant neoplasms (C00-C97) 15",
          "#Malignant neoplasms (C00-C97) 15",
          "15-24",
          "Major cardiovascular diseases (I00-I78) 15",
          "#Diseases of heart (I00-I09,I11,I13,I20-I51) 15",
          "Other heart diseases (I26-I51) 15",
          "15-24",
          "15-24",
          "#Chronic lower respiratory diseases (J40-J47) 15",
          "15-24",
          "15-24",
          "15-24",
          "15-24",
          "#Accidents (unintentional injuries) (V01-X59,Y85-Y86) 15",
          "Transport accidents (V01-V99,Y85) 15",
          "#Accidents (unintentional injuries) (V01-X59,Y85-Y86) 15",
          "Nontransport accidents (W00-X59,Y86) 15",
          "Nontransport accidents (W00-X59,Y86) 15",
          "15-24",
          "#Intentional self-harm (suicide) (*U03,X60-X84,Y87.0) 15",
          "#Intentional self-harm (suicide) (*U03,X60-X84,Y87.0) 15",
          "15-24",
          "#Assault (homicide) (*U01-*U02,X85-Y09,Y87.1) 15",
          "15-24",
          "Events of undetermined intent (Y10-Y34,Y87.2,Y89.9) 15",
          "All Ages",
          "1",
          "1",
          "1",
          "1",
          "1",
          "1",
          "#Accidents (unintentional injuries) (V01-X59,Y85-Y86) 1",
          "Nontransport accidents (W00-X59,Y86) 1",
          "1",
          "#Assault (homicide) (*U01-*U02,X85-Y09,Y87.1) 1"
         ],
         "type": "treemap",
         "values": [
          23501.63,
          404.97,
          0.8,
          5.1,
          0.88,
          0.96,
          1.28,
          93.73,
          1.83,
          2.95,
          5.58,
          1.75,
          1.59,
          0.8,
          0.8,
          11.24,
          9.88,
          6.38,
          2.71,
          2.71,
          0.8,
          0.8,
          2.07,
          4.06,
          2.23,
          12.43,
          2.87,
          1.51,
          6.54,
          18.41,
          1.35,
          15.94,
          101.7,
          10.44,
          85.12,
          48.54,
          12.67,
          35.63,
          14.9,
          20.72,
          18.17,
          3.03,
          14.59,
          17.3,
          0.8,
          3.03,
          0.96,
          2.07,
          2.71,
          1.35,
          5.02,
          0.88,
          4.14,
          10.04,
          1.04,
          8.53,
          1.04,
          4.3,
          22.87,
          15.3,
          7.57,
          5.66,
          5.58,
          2.87,
          3.03,
          40.73,
          54.04,
          12.11,
          11.08,
          0.88,
          41.92,
          2.63,
          4.14,
          33.95,
          20.96,
          12.03,
          8.93,
          5.34,
          1.75,
          3.59,
          5.98,
          5.9,
          928.87,
          1.5,
          1.07,
          11.5,
          3,
          1.86,
          2.64,
          290.38,
          5.86,
          14.79,
          9.65,
          4.64,
          1.5,
          2.43,
          4.57,
          31.08,
          21.08,
          19.15,
          7.43,
          6.29,
          5.14,
          6.79,
          4.72,
          12.86,
          7.79,
          22.72,
          8.5,
          6.29,
          24.58,
          81.38,
          3.57,
          1.21,
          35.08,
          2.14,
          2.07,
          2.07,
          2.79,
          261.73,
          1.57,
          29.22,
          217.5,
          143.4,
          33.58,
          108.96,
          46.3,
          62.66,
          0.86,
          46.73,
          13.22,
          32.3,
          0.86,
          25.22,
          0.86,
          1.29,
          6.93,
          3,
          3.93,
          6.5,
          2.22,
          15.3,
          2.22,
          13.08,
          49.66,
          1.21,
          44.44,
          3.86,
          3.07,
          10,
          1.29,
          32.37,
          18.43,
          13.93,
          14,
          13.79,
          3.57,
          5.14,
          85.39,
          58.23,
          13.29,
          12.29,
          0.79,
          44.94,
          6.72,
          6.57,
          1.29,
          29.08,
          1.21,
          19.01,
          9.43,
          9.57,
          3.1500000000000004,
          1.79,
          1.36,
          4.93,
          4.72,
          2.07,
          1895.6799999999998,
          3.08,
          2.02,
          26.02,
          4.43,
          1.35,
          5.78,
          589.94,
          14.65,
          25.35,
          17.35,
          6.75,
          2.6,
          5.01,
          12.43,
          65.15,
          34.7,
          51.76,
          19.08,
          18.5,
          13.59,
          21.88,
          5.69,
          18.79,
          15.03,
          41.83,
          13.4,
          10.22,
          52.91,
          174.44,
          12.91,
          3.47,
          79.8,
          5.4,
          5.3,
          16.38,
          27.28,
          564.7,
          3.76,
          72.57,
          455.88,
          292.03,
          67.18,
          222.83,
          124.81,
          98.02,
          2.02,
          118.55,
          46.36,
          1.16,
          69.97,
          1.06,
          36.53,
          2.51,
          6.26,
          15.329999999999998,
          7.52,
          7.81,
          17.16,
          2.79,
          26.509999999999998,
          3.76,
          22.75,
          143.7,
          1.16,
          136.76,
          5.78,
          8.96,
          29.49,
          1.93,
          33.06,
          12.63,
          20.43,
          2.02,
          37.59,
          37.2,
          2.22,
          7.71,
          181.29,
          54.37,
          11.28,
          9.54,
          1.54,
          43.089999999999996,
          17.93,
          9.73,
          2.22,
          12.05,
          1.16,
          13.01,
          4.72,
          8.29,
          2.6,
          1.73,
          1.73,
          1.64,
          5.2,
          0.96,
          4603.8099999999995,
          9.91,
          6.61,
          62.56,
          2.53,
          15.35,
          1069.78,
          25.65,
          38.47,
          21.76,
          15.54,
          2.14,
          3.89,
          36.72,
          127.46,
          56.73,
          130.37,
          48.77,
          51.29,
          28.76,
          60.43,
          12.43,
          34,
          19.04,
          83.74,
          18.46,
          13.6,
          83.35,
          286,
          37.11,
          7.58,
          136.39,
          20.21,
          20.21,
          96.76,
          230.43,
          1536.6799999999998,
          14.18,
          259.58,
          1177.03,
          703.54,
          166.51,
          532.75,
          391.89,
          140.86,
          4.27,
          372.07,
          165.54,
          202.84,
          2.33,
          76.16,
          6.8,
          18.46,
          35.37,
          17.49,
          17.88,
          50.52,
          4.86,
          75.97,
          7.58,
          68.39,
          361.77,
          344.68,
          15.54,
          25.06,
          82.38,
          4.66,
          30.509999999999998,
          4.47,
          26.04,
          5.83,
          103.17,
          101.81,
          3.3,
          18.46,
          507.69,
          123.19,
          22.93,
          20.98,
          100.26,
          68.59,
          24.09,
          2.33,
          3.69,
          19.63,
          4.86,
          14.77,
          8.74,
          3.3,
          14620.250000000002,
          28.62,
          16.42,
          154.83,
          28.15,
          1679.21,
          39.88,
          33.78,
          20.64,
          23.93,
          7.98,
          92.9,
          225.68,
          121.99,
          225.68,
          90.08,
          85.86,
          47.86,
          159.99,
          19.71,
          39.41,
          20.17,
          169.84,
          33.78,
          24.87,
          109.79,
          304.97,
          89.61,
          30.97,
          282.45,
          133.72,
          132.78,
          242.57,
          1386.91,
          6303.96,
          68.5,
          1166.39,
          4741.1,
          2362.34,
          433.53,
          1912.8600000000001,
          1515.93,
          396.93,
          15.95,
          1849.99,
          978.72,
          863.3,
          4.69,
          403.5,
          17.83,
          107.44,
          99.47,
          54.89,
          44.57,
          228.49,
          13.61,
          302.15000000000003,
          22.05,
          280.1,
          730.99,
          5.63,
          695.33,
          26.74,
          118.7,
          173.6,
          15.95,
          22.99,
          20.17,
          22.99,
          290.42,
          286.67,
          92.43,
          2041.89,
          392.24,
          23.46,
          21.58,
          368.78,
          290.89,
          68.5,
          16.89,
          13.14,
          7.04,
          10.79,
          6.57,
          147.07,
          0.76,
          0.76,
          7.62,
          0.91,
          2.52,
          0.91,
          1.07,
          1.91,
          11.97,
          1.07,
          10.06,
          2.52,
          0.99,
          1.45,
          0.76,
          5.49,
          4.8,
          1.75,
          1.6,
          1.14,
          1.37,
          1.22,
          2.67,
          2.13,
          1.3,
          1.3,
          0.91,
          2.97,
          14.79,
          57.03,
          14.49,
          14.18,
          42.54,
          2.97,
          37.74,
          0.91,
          19.22,
          9.38,
          9.84,
          15.71,
          2.9,
          12.81,
          6.48,
          6.33,
          211.29000000000002,
          1.2,
          0.86,
          26.67,
          2.49,
          0.86,
          3.34,
          5.83,
          2.4,
          1.29,
          1.2,
          2.57,
          1.63,
          2.14,
          5.23,
          36.36,
          3.34,
          30.87,
          13.469999999999999,
          4.46,
          9.01,
          4.12,
          4.89,
          9.52,
          1.97,
          6.77,
          7.37,
          1.03,
          0.86,
          1.11,
          1.11,
          2.4,
          2.06,
          1.54,
          1.29,
          9.690000000000001,
          6.69,
          3,
          2.74,
          2.66,
          1.03,
          1.03,
          1.03,
          3.09,
          23.75,
          60.37,
          12.26,
          11.58,
          48.11,
          2.74,
          43.05,
          1.11,
          18.61,
          10.46,
          8.15,
          8.06,
          1.37,
          6.69,
          6.26,
          6.26,
          18.37,
          2.19,
          2.4,
          4.81,
          6.78,
          3.06,
          3.06,
          3.72,
          2.19,
          12.78,
          1.75,
          0.84,
          1.09,
          0.84,
          1.25,
          1.75,
          3.8499999999999996,
          2.26,
          2.09,
          1.59,
          2.17,
          1.59,
          0.92,
          60.46999999999999,
          2.64,
          0.83,
          0.83,
          2.64,
          2.34,
          1.88,
          1.51,
          0.75,
          0.98,
          0.98,
          0.83,
          1.21,
          4.07,
          21.79,
          11.38,
          11.08,
          10.4,
          8.07,
          0.98,
          13.27,
          7.62,
          5.65,
          10.03,
          9.58,
          2.26,
          2.11,
          598.07,
          10.09,
          337.56,
          105.49,
          55.04,
          9.17,
          70.63,
          68.8,
          67.88,
          10.09,
          10.09
         ]
        }
       ],
       "layout": {
        "autosize": false,
        "height": 1050,
        "margin": {
         "b": 0,
         "l": 0,
         "pad": 0,
         "r": 0,
         "t": 0
        },
        "template": {
         "data": {
          "bar": [
           {
            "error_x": {
             "color": "#2a3f5f"
            },
            "error_y": {
             "color": "#2a3f5f"
            },
            "marker": {
             "line": {
              "color": "#E5ECF6",
              "width": 0.5
             },
             "pattern": {
              "fillmode": "overlay",
              "size": 10,
              "solidity": 0.2
             }
            },
            "type": "bar"
           }
          ],
          "barpolar": [
           {
            "marker": {
             "line": {
              "color": "#E5ECF6",
              "width": 0.5
             },
             "pattern": {
              "fillmode": "overlay",
              "size": 10,
              "solidity": 0.2
             }
            },
            "type": "barpolar"
           }
          ],
          "carpet": [
           {
            "aaxis": {
             "endlinecolor": "#2a3f5f",
             "gridcolor": "white",
             "linecolor": "white",
             "minorgridcolor": "white",
             "startlinecolor": "#2a3f5f"
            },
            "baxis": {
             "endlinecolor": "#2a3f5f",
             "gridcolor": "white",
             "linecolor": "white",
             "minorgridcolor": "white",
             "startlinecolor": "#2a3f5f"
            },
            "type": "carpet"
           }
          ],
          "choropleth": [
           {
            "colorbar": {
             "outlinewidth": 0,
             "ticks": ""
            },
            "type": "choropleth"
           }
          ],
          "contour": [
           {
            "colorbar": {
             "outlinewidth": 0,
             "ticks": ""
            },
            "colorscale": [
             [
              0,
              "#0d0887"
             ],
             [
              0.1111111111111111,
              "#46039f"
             ],
             [
              0.2222222222222222,
              "#7201a8"
             ],
             [
              0.3333333333333333,
              "#9c179e"
             ],
             [
              0.4444444444444444,
              "#bd3786"
             ],
             [
              0.5555555555555556,
              "#d8576b"
             ],
             [
              0.6666666666666666,
              "#ed7953"
             ],
             [
              0.7777777777777778,
              "#fb9f3a"
             ],
             [
              0.8888888888888888,
              "#fdca26"
             ],
             [
              1,
              "#f0f921"
             ]
            ],
            "type": "contour"
           }
          ],
          "contourcarpet": [
           {
            "colorbar": {
             "outlinewidth": 0,
             "ticks": ""
            },
            "type": "contourcarpet"
           }
          ],
          "heatmap": [
           {
            "colorbar": {
             "outlinewidth": 0,
             "ticks": ""
            },
            "colorscale": [
             [
              0,
              "#0d0887"
             ],
             [
              0.1111111111111111,
              "#46039f"
             ],
             [
              0.2222222222222222,
              "#7201a8"
             ],
             [
              0.3333333333333333,
              "#9c179e"
             ],
             [
              0.4444444444444444,
              "#bd3786"
             ],
             [
              0.5555555555555556,
              "#d8576b"
             ],
             [
              0.6666666666666666,
              "#ed7953"
             ],
             [
              0.7777777777777778,
              "#fb9f3a"
             ],
             [
              0.8888888888888888,
              "#fdca26"
             ],
             [
              1,
              "#f0f921"
             ]
            ],
            "type": "heatmap"
           }
          ],
          "heatmapgl": [
           {
            "colorbar": {
             "outlinewidth": 0,
             "ticks": ""
            },
            "colorscale": [
             [
              0,
              "#0d0887"
             ],
             [
              0.1111111111111111,
              "#46039f"
             ],
             [
              0.2222222222222222,
              "#7201a8"
             ],
             [
              0.3333333333333333,
              "#9c179e"
             ],
             [
              0.4444444444444444,
              "#bd3786"
             ],
             [
              0.5555555555555556,
              "#d8576b"
             ],
             [
              0.6666666666666666,
              "#ed7953"
             ],
             [
              0.7777777777777778,
              "#fb9f3a"
             ],
             [
              0.8888888888888888,
              "#fdca26"
             ],
             [
              1,
              "#f0f921"
             ]
            ],
            "type": "heatmapgl"
           }
          ],
          "histogram": [
           {
            "marker": {
             "pattern": {
              "fillmode": "overlay",
              "size": 10,
              "solidity": 0.2
             }
            },
            "type": "histogram"
           }
          ],
          "histogram2d": [
           {
            "colorbar": {
             "outlinewidth": 0,
             "ticks": ""
            },
            "colorscale": [
             [
              0,
              "#0d0887"
             ],
             [
              0.1111111111111111,
              "#46039f"
             ],
             [
              0.2222222222222222,
              "#7201a8"
             ],
             [
              0.3333333333333333,
              "#9c179e"
             ],
             [
              0.4444444444444444,
              "#bd3786"
             ],
             [
              0.5555555555555556,
              "#d8576b"
             ],
             [
              0.6666666666666666,
              "#ed7953"
             ],
             [
              0.7777777777777778,
              "#fb9f3a"
             ],
             [
              0.8888888888888888,
              "#fdca26"
             ],
             [
              1,
              "#f0f921"
             ]
            ],
            "type": "histogram2d"
           }
          ],
          "histogram2dcontour": [
           {
            "colorbar": {
             "outlinewidth": 0,
             "ticks": ""
            },
            "colorscale": [
             [
              0,
              "#0d0887"
             ],
             [
              0.1111111111111111,
              "#46039f"
             ],
             [
              0.2222222222222222,
              "#7201a8"
             ],
             [
              0.3333333333333333,
              "#9c179e"
             ],
             [
              0.4444444444444444,
              "#bd3786"
             ],
             [
              0.5555555555555556,
              "#d8576b"
             ],
             [
              0.6666666666666666,
              "#ed7953"
             ],
             [
              0.7777777777777778,
              "#fb9f3a"
             ],
             [
              0.8888888888888888,
              "#fdca26"
             ],
             [
              1,
              "#f0f921"
             ]
            ],
            "type": "histogram2dcontour"
           }
          ],
          "mesh3d": [
           {
            "colorbar": {
             "outlinewidth": 0,
             "ticks": ""
            },
            "type": "mesh3d"
           }
          ],
          "parcoords": [
           {
            "line": {
             "colorbar": {
              "outlinewidth": 0,
              "ticks": ""
             }
            },
            "type": "parcoords"
           }
          ],
          "pie": [
           {
            "automargin": true,
            "type": "pie"
           }
          ],
          "scatter": [
           {
            "marker": {
             "colorbar": {
              "outlinewidth": 0,
              "ticks": ""
             }
            },
            "type": "scatter"
           }
          ],
          "scatter3d": [
           {
            "line": {
             "colorbar": {
              "outlinewidth": 0,
              "ticks": ""
             }
            },
            "marker": {
             "colorbar": {
              "outlinewidth": 0,
              "ticks": ""
             }
            },
            "type": "scatter3d"
           }
          ],
          "scattercarpet": [
           {
            "marker": {
             "colorbar": {
              "outlinewidth": 0,
              "ticks": ""
             }
            },
            "type": "scattercarpet"
           }
          ],
          "scattergeo": [
           {
            "marker": {
             "colorbar": {
              "outlinewidth": 0,
              "ticks": ""
             }
            },
            "type": "scattergeo"
           }
          ],
          "scattergl": [
           {
            "marker": {
             "colorbar": {
              "outlinewidth": 0,
              "ticks": ""
             }
            },
            "type": "scattergl"
           }
          ],
          "scattermapbox": [
           {
            "marker": {
             "colorbar": {
              "outlinewidth": 0,
              "ticks": ""
             }
            },
            "type": "scattermapbox"
           }
          ],
          "scatterpolar": [
           {
            "marker": {
             "colorbar": {
              "outlinewidth": 0,
              "ticks": ""
             }
            },
            "type": "scatterpolar"
           }
          ],
          "scatterpolargl": [
           {
            "marker": {
             "colorbar": {
              "outlinewidth": 0,
              "ticks": ""
             }
            },
            "type": "scatterpolargl"
           }
          ],
          "scatterternary": [
           {
            "marker": {
             "colorbar": {
              "outlinewidth": 0,
              "ticks": ""
             }
            },
            "type": "scatterternary"
           }
          ],
          "surface": [
           {
            "colorbar": {
             "outlinewidth": 0,
             "ticks": ""
            },
            "colorscale": [
             [
              0,
              "#0d0887"
             ],
             [
              0.1111111111111111,
              "#46039f"
             ],
             [
              0.2222222222222222,
              "#7201a8"
             ],
             [
              0.3333333333333333,
              "#9c179e"
             ],
             [
              0.4444444444444444,
              "#bd3786"
             ],
             [
              0.5555555555555556,
              "#d8576b"
             ],
             [
              0.6666666666666666,
              "#ed7953"
             ],
             [
              0.7777777777777778,
              "#fb9f3a"
             ],
             [
              0.8888888888888888,
              "#fdca26"
             ],
             [
              1,
              "#f0f921"
             ]
            ],
            "type": "surface"
           }
          ],
          "table": [
           {
            "cells": {
             "fill": {
              "color": "#EBF0F8"
             },
             "line": {
              "color": "white"
             }
            },
            "header": {
             "fill": {
              "color": "#C8D4E3"
             },
             "line": {
              "color": "white"
             }
            },
            "type": "table"
           }
          ]
         },
         "layout": {
          "annotationdefaults": {
           "arrowcolor": "#2a3f5f",
           "arrowhead": 0,
           "arrowwidth": 1
          },
          "autotypenumbers": "strict",
          "coloraxis": {
           "colorbar": {
            "outlinewidth": 0,
            "ticks": ""
           }
          },
          "colorscale": {
           "diverging": [
            [
             0,
             "#8e0152"
            ],
            [
             0.1,
             "#c51b7d"
            ],
            [
             0.2,
             "#de77ae"
            ],
            [
             0.3,
             "#f1b6da"
            ],
            [
             0.4,
             "#fde0ef"
            ],
            [
             0.5,
             "#f7f7f7"
            ],
            [
             0.6,
             "#e6f5d0"
            ],
            [
             0.7,
             "#b8e186"
            ],
            [
             0.8,
             "#7fbc41"
            ],
            [
             0.9,
             "#4d9221"
            ],
            [
             1,
             "#276419"
            ]
           ],
           "sequential": [
            [
             0,
             "#0d0887"
            ],
            [
             0.1111111111111111,
             "#46039f"
            ],
            [
             0.2222222222222222,
             "#7201a8"
            ],
            [
             0.3333333333333333,
             "#9c179e"
            ],
            [
             0.4444444444444444,
             "#bd3786"
            ],
            [
             0.5555555555555556,
             "#d8576b"
            ],
            [
             0.6666666666666666,
             "#ed7953"
            ],
            [
             0.7777777777777778,
             "#fb9f3a"
            ],
            [
             0.8888888888888888,
             "#fdca26"
            ],
            [
             1,
             "#f0f921"
            ]
           ],
           "sequentialminus": [
            [
             0,
             "#0d0887"
            ],
            [
             0.1111111111111111,
             "#46039f"
            ],
            [
             0.2222222222222222,
             "#7201a8"
            ],
            [
             0.3333333333333333,
             "#9c179e"
            ],
            [
             0.4444444444444444,
             "#bd3786"
            ],
            [
             0.5555555555555556,
             "#d8576b"
            ],
            [
             0.6666666666666666,
             "#ed7953"
            ],
            [
             0.7777777777777778,
             "#fb9f3a"
            ],
            [
             0.8888888888888888,
             "#fdca26"
            ],
            [
             1,
             "#f0f921"
            ]
           ]
          },
          "colorway": [
           "#636efa",
           "#EF553B",
           "#00cc96",
           "#ab63fa",
           "#FFA15A",
           "#19d3f3",
           "#FF6692",
           "#B6E880",
           "#FF97FF",
           "#FECB52"
          ],
          "font": {
           "color": "#2a3f5f"
          },
          "geo": {
           "bgcolor": "white",
           "lakecolor": "white",
           "landcolor": "#E5ECF6",
           "showlakes": true,
           "showland": true,
           "subunitcolor": "white"
          },
          "hoverlabel": {
           "align": "left"
          },
          "hovermode": "closest",
          "mapbox": {
           "style": "light"
          },
          "paper_bgcolor": "white",
          "plot_bgcolor": "#E5ECF6",
          "polar": {
           "angularaxis": {
            "gridcolor": "white",
            "linecolor": "white",
            "ticks": ""
           },
           "bgcolor": "#E5ECF6",
           "radialaxis": {
            "gridcolor": "white",
            "linecolor": "white",
            "ticks": ""
           }
          },
          "scene": {
           "xaxis": {
            "backgroundcolor": "#E5ECF6",
            "gridcolor": "white",
            "gridwidth": 2,
            "linecolor": "white",
            "showbackground": true,
            "ticks": "",
            "zerolinecolor": "white"
           },
           "yaxis": {
            "backgroundcolor": "#E5ECF6",
            "gridcolor": "white",
            "gridwidth": 2,
            "linecolor": "white",
            "showbackground": true,
            "ticks": "",
            "zerolinecolor": "white"
           },
           "zaxis": {
            "backgroundcolor": "#E5ECF6",
            "gridcolor": "white",
            "gridwidth": 2,
            "linecolor": "white",
            "showbackground": true,
            "ticks": "",
            "zerolinecolor": "white"
           }
          },
          "shapedefaults": {
           "line": {
            "color": "#2a3f5f"
           }
          },
          "ternary": {
           "aaxis": {
            "gridcolor": "white",
            "linecolor": "white",
            "ticks": ""
           },
           "baxis": {
            "gridcolor": "white",
            "linecolor": "white",
            "ticks": ""
           },
           "bgcolor": "#E5ECF6",
           "caxis": {
            "gridcolor": "white",
            "linecolor": "white",
            "ticks": ""
           }
          },
          "title": {
           "x": 0.05
          },
          "xaxis": {
           "automargin": true,
           "gridcolor": "white",
           "linecolor": "white",
           "ticks": "",
           "title": {
            "standoff": 15
           },
           "zerolinecolor": "white",
           "zerolinewidth": 2
          },
          "yaxis": {
           "automargin": true,
           "gridcolor": "white",
           "linecolor": "white",
           "ticks": "",
           "title": {
            "standoff": 15
           },
           "zerolinecolor": "white",
           "zerolinewidth": 2
          }
         }
        },
        "width": 2100
       }
      }
     },
     "metadata": {},
     "output_type": "display_data"
    }
   ],
   "source": [
    "fig = go.Figure(go.Treemap(\n",
    "    branchvalues = \"total\",\n",
    "    labels = final_labels,\n",
    "    parents =  final_parents,\n",
    "    values=final_values,\n",
    "))\n",
    "\n",
    "fig.update_layout(margin = dict(t=50, l=25, r=25, b=25))\n",
    "\n",
    "\n",
    "fig.update_layout(\n",
    "    autosize=False,\n",
    "    width=2100,\n",
    "    height=1050,\n",
    "    margin=dict(\n",
    "        l=0,\n",
    "        r=0,\n",
    "        b=0,\n",
    "        t=0,\n",
    "        pad=0\n",
    "    ),\n",
    ")\n",
    "\n",
    "fig.show()\n",
    "fig.write_html(\"CauseOfDeathTest.html\")"
   ]
  },
  {
   "cell_type": "code",
   "execution_count": 142,
   "metadata": {},
   "outputs": [
    {
     "data": {
      "application/vnd.plotly.v1+json": {
       "config": {
        "plotlyServerURL": "https://plot.ly"
       },
       "data": [
        {
         "branchvalues": "total",
         "labels": [
          "All Ages",
          "45-54",
          "Certain other intestinal infections (A04,A07-A09) 45",
          "#Septicemia (A40-A41) 45",
          "#Viral hepatitis (B15-B19) 45",
          "#Human immunodeficiency virus (HIV) disease (B20-B24) 45",
          "Other and unspecified infectious and parasitic diseases and their sequelae (A00,A05,A20-A36,A42-A44,A48-A49,A54-A79,A81-A82,A85.0-A85.1,A85.8,A86-B04,B06-B09,B25-B49,B55-B99,U07.1) 45",
          "#Malignant neoplasms (C00-C97) 45",
          "Malignant neoplasms of kidney and renal pelvis (C64-C65) 45",
          "Malignant neoplasms of liver and intrahepatic bile ducts (C22) 45",
          "Malignant neoplasms of meninges, brain and other parts of central nervous system (C70-C72) 45",
          "Malignant neoplasm of stomach (C16) 45",
          "Malignant neoplasm of cervix uteri (C53) 45",
          "Malignant neoplasm of larynx (C32) 45",
          "Malignant neoplasm of bladder (C67) 45",
          "All other and unspecified malignant neoplasms (C17,C23-C24,C26-C31,C37-C41,C44-C49,C51-C52,C57-C60,C62-C63,C66,C68-C69,C73-C80,C97) 45",
          "Malignant neoplasm of breast (C50) 45",
          "Malignant neoplasms of lymphoid, hematopoietic and related tissue (C81-C96) 45",
          "Leukemia (C91-C95) 45",
          "Non-Hodgkin lymphoma (C82-C85) 45",
          "Multiple myeloma and immunoproliferative neoplasms (C88,C90) 45",
          "Malignant neoplasm of prostate (C61) 45",
          "Malignant melanoma of skin (C43) 45",
          "Malignant neoplasm of esophagus (C15) 45",
          "Malignant neoplasms of corpus uteri and uterus, part unspecified (C54-C55) 45",
          "Malignant neoplasms of colon, rectum and anus (C18-C21) 45",
          "Malignant neoplasm of ovary (C56) 45",
          "Malignant neoplasms of lip, oral cavity and pharynx (C00-C14) 45",
          "Malignant neoplasm of pancreas (C25) 45",
          "Malignant neoplasms of trachea, bronchus and lung (C33-C34) 45",
          "#In situ neoplasms, benign neoplasms and neoplasms of uncertain or unknown behavior (D00-D48) 45",
          "#Diabetes mellitus (E10-E14) 45",
          "Major cardiovascular diseases (I00-I78) 45",
          "#Cerebrovascular diseases (I60-I69) 45",
          "#Diseases of heart (I00-I09,I11,I13,I20-I51) 45",
          "Ischemic heart diseases (I20-I25) 45",
          "Acute myocardial infarction (I21-I22) 45",
          "Other forms of chronic ischemic heart disease (I20,I25) 45",
          "All other forms of chronic ischemic heart disease (I20,I25.1-I25.9) 45",
          "Atherosclerotic cardiovascular disease, so described (I25.0) 45",
          "Other heart diseases (I26-I51) 45",
          "Heart failure (I50) 45",
          "All other forms of heart disease (I26-I28,I34-I38,I42-I49,I51) 45",
          "Hypertensive heart disease (I11) 45",
          "Hypertensive heart and renal disease (I13) 45",
          "Other diseases of circulatory system (I71-I78) 45",
          "Other diseases of arteries, arterioles and capillaries (I72-I78) 45",
          "#Aortic aneurysm and dissection (I71) 45",
          "#Essential hypertension and hypertensive renal disease (I10,I12,I15) 45",
          "Other disorders of circulatory system (I80-I99) 45",
          "#Influenza and pneumonia (J09-J18) 45",
          "Influenza (J09-J11) 45",
          "Pneumonia (J12-J18) 45",
          "#Chronic lower respiratory diseases (J40-J47) 45",
          "Asthma (J45-J46) 45",
          "Other chronic lower respiratory diseases (J44,J47) 45",
          "#Pneumonitis due to solids and liquids (J69) 45",
          "Other diseases of respiratory system (J00-J06,J30- J39,J67,J70-J98) 45",
          "#Chronic liver disease and cirrhosis (K70,K73-K74) 45",
          "Alcoholic liver disease (K70) 45",
          "Other chronic liver disease and cirrhosis (K73-K74) 45",
          "#Nephritis, nephrotic syndrome and nephrosis (N00-N07,N17-N19,N25-N27) 45",
          "Renal failure (N17-N19) 45",
          "#Congenital malformations, deformations and chromosomal abnormalities (Q00-Q99) 45",
          "Symptoms, signs and abnormal clinical and laboratory findings, not elsewhere classified (R00-R99) 45",
          "All other diseases (Residual)  45",
          "#Accidents (unintentional injuries) (V01-X59,Y85-Y86) 45",
          "Transport accidents (V01-V99,Y85) 45",
          "Motor vehicle accidents (V02-V04,V09.0,V09.2,V12-V14,V19.0-V19.2,V19.4-V19.6,V20-V79,V80.3-V80.5,V81.0-V81.1,V82.0-V82.1,V83-V86,V87.0-V87.8,V88.0-V88.8,V89.0,V89.2) 45",
          "Water, air and space, and other and unspecified transport accidents and their sequelae (V90-V99,Y85) 45",
          "Nontransport accidents (W00-X59,Y86) 45",
          "Falls (W00-W19) 45",
          "Other and unspecified nontransport accidents and their sequelae (W20-W31,W35-W64,W75-W99,X10-X39,X50-X59,Y86) 45",
          "Accidental poisoning and exposure to noxious substances (X40-X49) 45",
          "#Intentional self-harm (suicide) (*U03,X60-X84,Y87.0) 45",
          "Intentional self-harm (suicide) by other and unspecified means and their sequelae (*U03,X60-X71,X75-X84,Y87.0) 45",
          "Intentional self-harm (suicide) by discharge of firearms (X72-X74) 45",
          "#Assault (homicide) (*U01-*U02,X85-Y09,Y87.1) 45",
          "Assault (homicide) by other and unspecified means and their sequelae (*U01.0-*U01.3,*U01.5-*U01.9,*U02,X85-X92,X96-Y09,Y87.1) 45",
          "Assault (homicide) by discharge of firearms (*U01.4,X93-X95) 45",
          "Events of undetermined intent (Y10-Y34,Y87.2,Y89.9) 45",
          "Other and unspecified events of undetermined intent and their sequelae (Y10-Y21,Y25-Y34,Y87.2,Y89.9) 45",
          "55-64",
          "Certain other intestinal infections (A04,A07-A09) 55",
          "#Enterocolitis due to Clostridium difficile (A04.7) 55",
          "#Septicemia (A40-A41) 55",
          "#Viral hepatitis (B15-B19) 55",
          "#Human immunodeficiency virus (HIV) disease (B20-B24) 55",
          "Other and unspecified infectious and parasitic diseases and their sequelae (A00,A05,A20-A36,A42-A44,A48-A49,A54-A79,A81-A82,A85.0-A85.1,A85.8,A86-B04,B06-B09,B25-B49,B55-B99,U07.1) 55",
          "#Malignant neoplasms (C00-C97) 55",
          "Malignant neoplasms of kidney and renal pelvis (C64-C65) 55",
          "Malignant neoplasms of liver and intrahepatic bile ducts (C22) 55",
          "Malignant neoplasms of meninges, brain and other parts of central nervous system (C70-C72) 55",
          "Malignant neoplasm of stomach (C16) 55",
          "Malignant neoplasm of cervix uteri (C53) 55",
          "Malignant neoplasm of larynx (C32) 55",
          "Malignant neoplasm of bladder (C67) 55",
          "All other and unspecified malignant neoplasms (C17,C23-C24,C26-C31,C37-C41,C44-C49,C51-C52,C57-C60,C62-C63,C66,C68-C69,C73-C80,C97) 55",
          "Malignant neoplasm of breast (C50) 55",
          "Malignant neoplasms of lymphoid, hematopoietic and related tissue (C81-C96) 55",
          "Leukemia (C91-C95) 55",
          "Non-Hodgkin lymphoma (C82-C85) 55",
          "Multiple myeloma and immunoproliferative neoplasms (C88,C90) 55",
          "Malignant neoplasm of prostate (C61) 55",
          "Malignant melanoma of skin (C43) 55",
          "Malignant neoplasm of esophagus (C15) 55",
          "Malignant neoplasms of corpus uteri and uterus, part unspecified (C54-C55) 55",
          "Malignant neoplasms of colon, rectum and anus (C18-C21) 55",
          "Malignant neoplasm of ovary (C56) 55",
          "Malignant neoplasms of lip, oral cavity and pharynx (C00-C14) 55",
          "Malignant neoplasm of pancreas (C25) 55",
          "Malignant neoplasms of trachea, bronchus and lung (C33-C34) 55",
          "#In situ neoplasms, benign neoplasms and neoplasms of uncertain or unknown behavior (D00-D48) 55",
          "#Anemias (D50-D64) 55",
          "#Diabetes mellitus (E10-E14) 55",
          "#Nutritional deficiencies (E40-E64) 55",
          "Malnutrition (E40-E46) 55",
          "#Parkinson disease (G20-G21) 55",
          "#Alzheimer disease (G30) 55",
          "Major cardiovascular diseases (I00-I78) 55",
          "#Atherosclerosis (I70) 55",
          "#Cerebrovascular diseases (I60-I69) 55",
          "#Diseases of heart (I00-I09,I11,I13,I20-I51) 55",
          "Ischemic heart diseases (I20-I25) 55",
          "Acute myocardial infarction (I21-I22) 55",
          "Other forms of chronic ischemic heart disease (I20,I25) 55",
          "All other forms of chronic ischemic heart disease (I20,I25.1-I25.9) 55",
          "Atherosclerotic cardiovascular disease, so described (I25.0) 55",
          "Other acute ischemic heart diseases (I24) 55",
          "Other heart diseases (I26-I51) 55",
          "Heart failure (I50) 55",
          "All other forms of heart disease (I26-I28,I34-I38,I42-I49,I51) 55",
          "Acute and subacute endocarditis (I33) 55",
          "Hypertensive heart disease (I11) 55",
          "Acute rheumatic fever and chronic rheumatic heart diseases (I00-I09) 55",
          "Hypertensive heart and renal disease (I13) 55",
          "Other diseases of circulatory system (I71-I78) 55",
          "Other diseases of arteries, arterioles and capillaries (I72-I78) 55",
          "#Aortic aneurysm and dissection (I71) 55",
          "#Essential hypertension and hypertensive renal disease (I10,I12,I15) 55",
          "Other disorders of circulatory system (I80-I99) 55",
          "#Influenza and pneumonia (J09-J18) 55",
          "Influenza (J09-J11) 55",
          "Pneumonia (J12-J18) 55",
          "#Chronic lower respiratory diseases (J40-J47) 55",
          "Asthma (J45-J46) 55",
          "Other chronic lower respiratory diseases (J44,J47) 55",
          "Emphysema (J43) 55",
          "#Pneumonitis due to solids and liquids (J69) 55",
          "Other diseases of respiratory system (J00-J06,J30- J39,J67,J70-J98) 55",
          "#Peptic ulcer (K25-K28) 55",
          "#Chronic liver disease and cirrhosis (K70,K73-K74) 55",
          "Alcoholic liver disease (K70) 55",
          "Other chronic liver disease and cirrhosis (K73-K74) 55",
          "#Nephritis, nephrotic syndrome and nephrosis (N00-N07,N17-N19,N25-N27) 55",
          "Renal failure (N17-N19) 55",
          "#Congenital malformations, deformations and chromosomal abnormalities (Q00-Q99) 55",
          "Symptoms, signs and abnormal clinical and laboratory findings, not elsewhere classified (R00-R99) 55",
          "All other diseases (Residual)  55",
          "#Accidents (unintentional injuries) (V01-X59,Y85-Y86) 55",
          "Transport accidents (V01-V99,Y85) 55",
          "Motor vehicle accidents (V02-V04,V09.0,V09.2,V12-V14,V19.0-V19.2,V19.4-V19.6,V20-V79,V80.3-V80.5,V81.0-V81.1,V82.0-V82.1,V83-V86,V87.0-V87.8,V88.0-V88.8,V89.0,V89.2) 55",
          "Water, air and space, and other and unspecified transport accidents and their sequelae (V90-V99,Y85) 55",
          "Nontransport accidents (W00-X59,Y86) 55",
          "Falls (W00-W19) 55",
          "Other and unspecified nontransport accidents and their sequelae (W20-W31,W35-W64,W75-W99,X10-X39,X50-X59,Y86) 55",
          "Accidental exposure to smoke, fire and flames (X00-X09) 55",
          "Accidental poisoning and exposure to noxious substances (X40-X49) 55",
          "Accidental drowning and submersion (W65-W74) 55",
          "#Intentional self-harm (suicide) (*U03,X60-X84,Y87.0) 55",
          "Intentional self-harm (suicide) by other and unspecified means and their sequelae (*U03,X60-X71,X75-X84,Y87.0) 55",
          "Intentional self-harm (suicide) by discharge of firearms (X72-X74) 55",
          "#Assault (homicide) (*U01-*U02,X85-Y09,Y87.1) 55",
          "Assault (homicide) by other and unspecified means and their sequelae (*U01.0-*U01.3,*U01.5-*U01.9,*U02,X85-X92,X96-Y09,Y87.1) 55",
          "Assault (homicide) by discharge of firearms (*U01.4,X93-X95) 55",
          "Events of undetermined intent (Y10-Y34,Y87.2,Y89.9) 55",
          "Other and unspecified events of undetermined intent and their sequelae (Y10-Y21,Y25-Y34,Y87.2,Y89.9) 55",
          "#Complications of medical and surgical care (Y40-Y84,Y88) 55",
          "65-74",
          "Certain other intestinal infections (A04,A07-A09) 65",
          "#Enterocolitis due to Clostridium difficile (A04.7) 65",
          "#Septicemia (A40-A41) 65",
          "#Viral hepatitis (B15-B19) 65",
          "#Human immunodeficiency virus (HIV) disease (B20-B24) 65",
          "Other and unspecified infectious and parasitic diseases and their sequelae (A00,A05,A20-A36,A42-A44,A48-A49,A54-A79,A81-A82,A85.0-A85.1,A85.8,A86-B04,B06-B09,B25-B49,B55-B99,U07.1) 65",
          "#Malignant neoplasms (C00-C97) 65",
          "Malignant neoplasms of kidney and renal pelvis (C64-C65) 65",
          "Malignant neoplasms of liver and intrahepatic bile ducts (C22) 65",
          "Malignant neoplasms of meninges, brain and other parts of central nervous system (C70-C72) 65",
          "Malignant neoplasm of stomach (C16) 65",
          "Malignant neoplasm of cervix uteri (C53) 65",
          "Malignant neoplasm of larynx (C32) 65",
          "Malignant neoplasm of bladder (C67) 65",
          "All other and unspecified malignant neoplasms (C17,C23-C24,C26-C31,C37-C41,C44-C49,C51-C52,C57-C60,C62-C63,C66,C68-C69,C73-C80,C97) 65",
          "Malignant neoplasm of breast (C50) 65",
          "Malignant neoplasms of lymphoid, hematopoietic and related tissue (C81-C96) 65",
          "Leukemia (C91-C95) 65",
          "Non-Hodgkin lymphoma (C82-C85) 65",
          "Multiple myeloma and immunoproliferative neoplasms (C88,C90) 65",
          "Malignant neoplasm of prostate (C61) 65",
          "Malignant melanoma of skin (C43) 65",
          "Malignant neoplasm of esophagus (C15) 65",
          "Malignant neoplasms of corpus uteri and uterus, part unspecified (C54-C55) 65",
          "Malignant neoplasms of colon, rectum and anus (C18-C21) 65",
          "Malignant neoplasm of ovary (C56) 65",
          "Malignant neoplasms of lip, oral cavity and pharynx (C00-C14) 65",
          "Malignant neoplasm of pancreas (C25) 65",
          "Malignant neoplasms of trachea, bronchus and lung (C33-C34) 65",
          "#In situ neoplasms, benign neoplasms and neoplasms of uncertain or unknown behavior (D00-D48) 65",
          "#Anemias (D50-D64) 65",
          "#Diabetes mellitus (E10-E14) 65",
          "#Nutritional deficiencies (E40-E64) 65",
          "Malnutrition (E40-E46) 65",
          "#Parkinson disease (G20-G21) 65",
          "#Alzheimer disease (G30) 65",
          "Major cardiovascular diseases (I00-I78) 65",
          "#Atherosclerosis (I70) 65",
          "#Cerebrovascular diseases (I60-I69) 65",
          "#Diseases of heart (I00-I09,I11,I13,I20-I51) 65",
          "Ischemic heart diseases (I20-I25) 65",
          "Acute myocardial infarction (I21-I22) 65",
          "Other forms of chronic ischemic heart disease (I20,I25) 65",
          "All other forms of chronic ischemic heart disease (I20,I25.1-I25.9) 65",
          "Atherosclerotic cardiovascular disease, so described (I25.0) 65",
          "Other acute ischemic heart diseases (I24) 65",
          "Other heart diseases (I26-I51) 65",
          "Heart failure (I50) 65",
          "Diseases of pericardium and acute myocarditis (I30-I31,I40) 65",
          "All other forms of heart disease (I26-I28,I34-I38,I42-I49,I51) 65",
          "Acute and subacute endocarditis (I33) 65",
          "Hypertensive heart disease (I11) 65",
          "Acute rheumatic fever and chronic rheumatic heart diseases (I00-I09) 65",
          "Hypertensive heart and renal disease (I13) 65",
          "Other diseases of circulatory system (I71-I78) 65",
          "Other diseases of arteries, arterioles and capillaries (I72-I78) 65",
          "#Aortic aneurysm and dissection (I71) 65",
          "#Essential hypertension and hypertensive renal disease (I10,I12,I15) 65",
          "Other disorders of circulatory system (I80-I99) 65",
          "#Influenza and pneumonia (J09-J18) 65",
          "Influenza (J09-J11) 65",
          "Pneumonia (J12-J18) 65",
          "#Chronic lower respiratory diseases (J40-J47) 65",
          "Asthma (J45-J46) 65",
          "Other chronic lower respiratory diseases (J44,J47) 65",
          "Emphysema (J43) 65",
          "#Pneumonitis due to solids and liquids (J69) 65",
          "Other diseases of respiratory system (J00-J06,J30- J39,J67,J70-J98) 65",
          "#Peptic ulcer (K25-K28) 65",
          "#Chronic liver disease and cirrhosis (K70,K73-K74) 65",
          "Alcoholic liver disease (K70) 65",
          "Other chronic liver disease and cirrhosis (K73-K74) 65",
          "#Cholelithiasis and other disorders of gallbladder (K80-K82) 65",
          "#Nephritis, nephrotic syndrome and nephrosis (N00-N07,N17-N19,N25-N27) 65",
          "Renal failure (N17-N19) 65",
          "#Congenital malformations, deformations and chromosomal abnormalities (Q00-Q99) 65",
          "Symptoms, signs and abnormal clinical and laboratory findings, not elsewhere classified (R00-R99) 65",
          "All other diseases (Residual)  65",
          "#Accidents (unintentional injuries) (V01-X59,Y85-Y86) 65",
          "Transport accidents (V01-V99,Y85) 65",
          "Motor vehicle accidents (V02-V04,V09.0,V09.2,V12-V14,V19.0-V19.2,V19.4-V19.6,V20-V79,V80.3-V80.5,V81.0-V81.1,V82.0-V82.1,V83-V86,V87.0-V87.8,V88.0-V88.8,V89.0,V89.2) 65",
          "Water, air and space, and other and unspecified transport accidents and their sequelae (V90-V99,Y85) 65",
          "Nontransport accidents (W00-X59,Y86) 65",
          "Falls (W00-W19) 65",
          "Other and unspecified nontransport accidents and their sequelae (W20-W31,W35-W64,W75-W99,X10-X39,X50-X59,Y86) 65",
          "Accidental exposure to smoke, fire and flames (X00-X09) 65",
          "Accidental poisoning and exposure to noxious substances (X40-X49) 65",
          "Accidental drowning and submersion (W65-W74) 65",
          "#Intentional self-harm (suicide) (*U03,X60-X84,Y87.0) 65",
          "Intentional self-harm (suicide) by other and unspecified means and their sequelae (*U03,X60-X71,X75-X84,Y87.0) 65",
          "Intentional self-harm (suicide) by discharge of firearms (X72-X74) 65",
          "#Assault (homicide) (*U01-*U02,X85-Y09,Y87.1) 65",
          "Assault (homicide) by other and unspecified means and their sequelae (*U01.0-*U01.3,*U01.5-*U01.9,*U02,X85-X92,X96-Y09,Y87.1) 65",
          "Events of undetermined intent (Y10-Y34,Y87.2,Y89.9) 65",
          "Other and unspecified events of undetermined intent and their sequelae (Y10-Y21,Y25-Y34,Y87.2,Y89.9) 65",
          "#Complications of medical and surgical care (Y40-Y84,Y88) 65",
          "#Hernia (K40-K46) 65",
          "75-84",
          "Certain other intestinal infections (A04,A07-A09) 75",
          "#Enterocolitis due to Clostridium difficile (A04.7) 75",
          "#Septicemia (A40-A41) 75",
          "#Viral hepatitis (B15-B19) 75",
          "Other and unspecified infectious and parasitic diseases and their sequelae (A00,A05,A20-A36,A42-A44,A48-A49,A54-A79,A81-A82,A85.0-A85.1,A85.8,A86-B04,B06-B09,B25-B49,B55-B99,U07.1) 75",
          "#Malignant neoplasms (C00-C97) 75",
          "Malignant neoplasms of kidney and renal pelvis (C64-C65) 75",
          "Malignant neoplasms of liver and intrahepatic bile ducts (C22) 75",
          "Malignant neoplasms of meninges, brain and other parts of central nervous system (C70-C72) 75",
          "Malignant neoplasm of stomach (C16) 75",
          "Malignant neoplasm of cervix uteri (C53) 75",
          "Malignant neoplasm of larynx (C32) 75",
          "Malignant neoplasm of bladder (C67) 75",
          "All other and unspecified malignant neoplasms (C17,C23-C24,C26-C31,C37-C41,C44-C49,C51-C52,C57-C60,C62-C63,C66,C68-C69,C73-C80,C97) 75",
          "Malignant neoplasm of breast (C50) 75",
          "Malignant neoplasms of lymphoid, hematopoietic and related tissue (C81-C96) 75",
          "Leukemia (C91-C95) 75",
          "Non-Hodgkin lymphoma (C82-C85) 75",
          "Multiple myeloma and immunoproliferative neoplasms (C88,C90) 75",
          "Malignant neoplasm of prostate (C61) 75",
          "Malignant melanoma of skin (C43) 75",
          "Malignant neoplasm of esophagus (C15) 75",
          "Malignant neoplasms of corpus uteri and uterus, part unspecified (C54-C55) 75",
          "Malignant neoplasms of colon, rectum and anus (C18-C21) 75",
          "Malignant neoplasm of ovary (C56) 75",
          "Malignant neoplasms of lip, oral cavity and pharynx (C00-C14) 75",
          "Malignant neoplasm of pancreas (C25) 75",
          "Malignant neoplasms of trachea, bronchus and lung (C33-C34) 75",
          "#In situ neoplasms, benign neoplasms and neoplasms of uncertain or unknown behavior (D00-D48) 75",
          "#Anemias (D50-D64) 75",
          "#Diabetes mellitus (E10-E14) 75",
          "#Nutritional deficiencies (E40-E64) 75",
          "Malnutrition (E40-E46) 75",
          "#Parkinson disease (G20-G21) 75",
          "#Alzheimer disease (G30) 75",
          "Major cardiovascular diseases (I00-I78) 75",
          "#Atherosclerosis (I70) 75",
          "#Cerebrovascular diseases (I60-I69) 75",
          "#Diseases of heart (I00-I09,I11,I13,I20-I51) 75",
          "Ischemic heart diseases (I20-I25) 75",
          "Acute myocardial infarction (I21-I22) 75",
          "Other forms of chronic ischemic heart disease (I20,I25) 75",
          "All other forms of chronic ischemic heart disease (I20,I25.1-I25.9) 75",
          "Atherosclerotic cardiovascular disease, so described (I25.0) 75",
          "Other acute ischemic heart diseases (I24) 75",
          "Other heart diseases (I26-I51) 75",
          "Heart failure (I50) 75",
          "All other forms of heart disease (I26-I28,I34-I38,I42-I49,I51) 75",
          "Acute and subacute endocarditis (I33) 75",
          "Hypertensive heart disease (I11) 75",
          "Acute rheumatic fever and chronic rheumatic heart diseases (I00-I09) 75",
          "Hypertensive heart and renal disease (I13) 75",
          "Other diseases of circulatory system (I71-I78) 75",
          "Other diseases of arteries, arterioles and capillaries (I72-I78) 75",
          "#Aortic aneurysm and dissection (I71) 75",
          "#Essential hypertension and hypertensive renal disease (I10,I12,I15) 75",
          "Other disorders of circulatory system (I80-I99) 75",
          "#Influenza and pneumonia (J09-J18) 75",
          "Influenza (J09-J11) 75",
          "Pneumonia (J12-J18) 75",
          "#Chronic lower respiratory diseases (J40-J47) 75",
          "Other chronic lower respiratory diseases (J44,J47) 75",
          "Emphysema (J43) 75",
          "#Pneumonitis due to solids and liquids (J69) 75",
          "Other diseases of respiratory system (J00-J06,J30- J39,J67,J70-J98) 75",
          "#Peptic ulcer (K25-K28) 75",
          "#Chronic liver disease and cirrhosis (K70,K73-K74) 75",
          "Alcoholic liver disease (K70) 75",
          "Other chronic liver disease and cirrhosis (K73-K74) 75",
          "#Cholelithiasis and other disorders of gallbladder (K80-K82) 75",
          "#Nephritis, nephrotic syndrome and nephrosis (N00-N07,N17-N19,N25-N27) 75",
          "Renal failure (N17-N19) 75",
          "#Congenital malformations, deformations and chromosomal abnormalities (Q00-Q99) 75",
          "Symptoms, signs and abnormal clinical and laboratory findings, not elsewhere classified (R00-R99) 75",
          "All other diseases (Residual)  75",
          "#Accidents (unintentional injuries) (V01-X59,Y85-Y86) 75",
          "Transport accidents (V01-V99,Y85) 75",
          "Motor vehicle accidents (V02-V04,V09.0,V09.2,V12-V14,V19.0-V19.2,V19.4-V19.6,V20-V79,V80.3-V80.5,V81.0-V81.1,V82.0-V82.1,V83-V86,V87.0-V87.8,V88.0-V88.8,V89.0,V89.2) 75",
          "Nontransport accidents (W00-X59,Y86) 75",
          "Falls (W00-W19) 75",
          "Other and unspecified nontransport accidents and their sequelae (W20-W31,W35-W64,W75-W99,X10-X39,X50-X59,Y86) 75",
          "Accidental exposure to smoke, fire and flames (X00-X09) 75",
          "Accidental poisoning and exposure to noxious substances (X40-X49) 75",
          "#Intentional self-harm (suicide) (*U03,X60-X84,Y87.0) 75",
          "Intentional self-harm (suicide) by other and unspecified means and their sequelae (*U03,X60-X71,X75-X84,Y87.0) 75",
          "Intentional self-harm (suicide) by discharge of firearms (X72-X74) 75",
          "#Complications of medical and surgical care (Y40-Y84,Y88) 75",
          "#Hernia (K40-K46) 75",
          "85+",
          "Certain other intestinal infections (A04,A07-A09) 85",
          "#Enterocolitis due to Clostridium difficile (A04.7) 85",
          "#Septicemia (A40-A41) 85",
          "Other and unspecified infectious and parasitic diseases and their sequelae (A00,A05,A20-A36,A42-A44,A48-A49,A54-A79,A81-A82,A85.0-A85.1,A85.8,A86-B04,B06-B09,B25-B49,B55-B99,U07.1) 85",
          "#Malignant neoplasms (C00-C97) 85",
          "Malignant neoplasms of kidney and renal pelvis (C64-C65) 85",
          "Malignant neoplasms of liver and intrahepatic bile ducts (C22) 85",
          "Malignant neoplasms of meninges, brain and other parts of central nervous system (C70-C72) 85",
          "Malignant neoplasm of stomach (C16) 85",
          "Malignant neoplasm of larynx (C32) 85",
          "Malignant neoplasm of bladder (C67) 85",
          "All other and unspecified malignant neoplasms (C17,C23-C24,C26-C31,C37-C41,C44-C49,C51-C52,C57-C60,C62-C63,C66,C68-C69,C73-C80,C97) 85",
          "Malignant neoplasm of breast (C50) 85",
          "Malignant neoplasms of lymphoid, hematopoietic and related tissue (C81-C96) 85",
          "Leukemia (C91-C95) 85",
          "Non-Hodgkin lymphoma (C82-C85) 85",
          "Multiple myeloma and immunoproliferative neoplasms (C88,C90) 85",
          "Malignant neoplasm of prostate (C61) 85",
          "Malignant melanoma of skin (C43) 85",
          "Malignant neoplasm of esophagus (C15) 85",
          "Malignant neoplasms of corpus uteri and uterus, part unspecified (C54-C55) 85",
          "Malignant neoplasms of colon, rectum and anus (C18-C21) 85",
          "Malignant neoplasm of ovary (C56) 85",
          "Malignant neoplasms of lip, oral cavity and pharynx (C00-C14) 85",
          "Malignant neoplasm of pancreas (C25) 85",
          "Malignant neoplasms of trachea, bronchus and lung (C33-C34) 85",
          "#In situ neoplasms, benign neoplasms and neoplasms of uncertain or unknown behavior (D00-D48) 85",
          "#Anemias (D50-D64) 85",
          "#Diabetes mellitus (E10-E14) 85",
          "#Nutritional deficiencies (E40-E64) 85",
          "Malnutrition (E40-E46) 85",
          "#Parkinson disease (G20-G21) 85",
          "#Alzheimer disease (G30) 85",
          "Major cardiovascular diseases (I00-I78) 85",
          "#Atherosclerosis (I70) 85",
          "#Cerebrovascular diseases (I60-I69) 85",
          "#Diseases of heart (I00-I09,I11,I13,I20-I51) 85",
          "Ischemic heart diseases (I20-I25) 85",
          "Acute myocardial infarction (I21-I22) 85",
          "Other forms of chronic ischemic heart disease (I20,I25) 85",
          "All other forms of chronic ischemic heart disease (I20,I25.1-I25.9) 85",
          "Atherosclerotic cardiovascular disease, so described (I25.0) 85",
          "Other acute ischemic heart diseases (I24) 85",
          "Other heart diseases (I26-I51) 85",
          "Heart failure (I50) 85",
          "All other forms of heart disease (I26-I28,I34-I38,I42-I49,I51) 85",
          "Acute and subacute endocarditis (I33) 85",
          "Hypertensive heart disease (I11) 85",
          "Acute rheumatic fever and chronic rheumatic heart diseases (I00-I09) 85",
          "Hypertensive heart and renal disease (I13) 85",
          "Other diseases of circulatory system (I71-I78) 85",
          "Other diseases of arteries, arterioles and capillaries (I72-I78) 85",
          "#Aortic aneurysm and dissection (I71) 85",
          "#Essential hypertension and hypertensive renal disease (I10,I12,I15) 85",
          "Other disorders of circulatory system (I80-I99) 85",
          "#Influenza and pneumonia (J09-J18) 85",
          "Influenza (J09-J11) 85",
          "Pneumonia (J12-J18) 85",
          "#Chronic lower respiratory diseases (J40-J47) 85",
          "Asthma (J45-J46) 85",
          "Other chronic lower respiratory diseases (J44,J47) 85",
          "Emphysema (J43) 85",
          "#Pneumonitis due to solids and liquids (J69) 85",
          "Other diseases of respiratory system (J00-J06,J30- J39,J67,J70-J98) 85",
          "#Peptic ulcer (K25-K28) 85",
          "#Chronic liver disease and cirrhosis (K70,K73-K74) 85",
          "Other chronic liver disease and cirrhosis (K73-K74) 85",
          "#Cholelithiasis and other disorders of gallbladder (K80-K82) 85",
          "#Nephritis, nephrotic syndrome and nephrosis (N00-N07,N17-N19,N25-N27) 85",
          "Renal failure (N17-N19) 85",
          "Symptoms, signs and abnormal clinical and laboratory findings, not elsewhere classified (R00-R99) 85",
          "All other diseases (Residual)  85",
          "#Accidents (unintentional injuries) (V01-X59,Y85-Y86) 85",
          "Transport accidents (V01-V99,Y85) 85",
          "Motor vehicle accidents (V02-V04,V09.0,V09.2,V12-V14,V19.0-V19.2,V19.4-V19.6,V20-V79,V80.3-V80.5,V81.0-V81.1,V82.0-V82.1,V83-V86,V87.0-V87.8,V88.0-V88.8,V89.0,V89.2) 85",
          "Nontransport accidents (W00-X59,Y86) 85",
          "Falls (W00-W19) 85",
          "Other and unspecified nontransport accidents and their sequelae (W20-W31,W35-W64,W75-W99,X10-X39,X50-X59,Y86) 85",
          "#Intentional self-harm (suicide) (*U03,X60-X84,Y87.0) 85",
          "Intentional self-harm (suicide) by discharge of firearms (X72-X74) 85",
          "#Complications of medical and surgical care (Y40-Y84,Y88) 85",
          "#Hernia (K40-K46) 85",
          "#Hyperplasia of prostate (N40) 85",
          "25-34",
          "#Septicemia (A40-A41) 25",
          "#Human immunodeficiency virus (HIV) disease (B20-B24) 25",
          "#Malignant neoplasms (C00-C97) 25",
          "Malignant neoplasms of meninges, brain and other parts of central nervous system (C70-C72) 25",
          "All other and unspecified malignant neoplasms (C17,C23-C24,C26-C31,C37-C41,C44-C49,C51-C52,C57-C60,C62-C63,C66,C68-C69,C73-C80,C97) 25",
          "Malignant neoplasm of breast (C50) 25",
          "Malignant neoplasms of lymphoid, hematopoietic and related tissue (C81-C96) 25",
          "#Diabetes mellitus (E10-E14) 25",
          "Major cardiovascular diseases (I00-I78) 25",
          "#Cerebrovascular diseases (I60-I69) 25",
          "#Diseases of heart (I00-I09,I11,I13,I20-I51) 25",
          "Ischemic heart diseases (I20-I25) 25",
          "Acute myocardial infarction (I21-I22) 25",
          "Other forms of chronic ischemic heart disease (I20,I25) 25",
          "Atherosclerotic cardiovascular disease, so described (I25.0) 25",
          "Other heart diseases (I26-I51) 25",
          "All other forms of heart disease (I26-I28,I34-I38,I42-I49,I51) 25",
          "Hypertensive heart disease (I11) 25",
          "#Influenza and pneumonia (J09-J18) 25",
          "Pneumonia (J12-J18) 25",
          "#Chronic lower respiratory diseases (J40-J47) 25",
          "Asthma (J45-J46) 25",
          "#Chronic liver disease and cirrhosis (K70,K73-K74) 25",
          "Alcoholic liver disease (K70) 25",
          "#Pregnancy, childbirth and the puerperium (O00-O99) 25",
          "Other complications of pregnancy, childbirth and the puerperium (O10-O99) 25",
          "#Congenital malformations, deformations and chromosomal abnormalities (Q00-Q99) 25",
          "Symptoms, signs and abnormal clinical and laboratory findings, not elsewhere classified (R00-R99) 25",
          "All other diseases (Residual)  25",
          "#Accidents (unintentional injuries) (V01-X59,Y85-Y86) 25",
          "Transport accidents (V01-V99,Y85) 25",
          "Motor vehicle accidents (V02-V04,V09.0,V09.2,V12-V14,V19.0-V19.2,V19.4-V19.6,V20-V79,V80.3-V80.5,V81.0-V81.1,V82.0-V82.1,V83-V86,V87.0-V87.8,V88.0-V88.8,V89.0,V89.2) 25",
          "Nontransport accidents (W00-X59,Y86) 25",
          "Other and unspecified nontransport accidents and their sequelae (W20-W31,W35-W64,W75-W99,X10-X39,X50-X59,Y86) 25",
          "Accidental poisoning and exposure to noxious substances (X40-X49) 25",
          "Accidental drowning and submersion (W65-W74) 25",
          "#Intentional self-harm (suicide) (*U03,X60-X84,Y87.0) 25",
          "Intentional self-harm (suicide) by other and unspecified means and their sequelae (*U03,X60-X71,X75-X84,Y87.0) 25",
          "Intentional self-harm (suicide) by discharge of firearms (X72-X74) 25",
          "#Assault (homicide) (*U01-*U02,X85-Y09,Y87.1) 25",
          "Assault (homicide) by other and unspecified means and their sequelae (*U01.0-*U01.3,*U01.5-*U01.9,*U02,X85-X92,X96-Y09,Y87.1) 25",
          "Assault (homicide) by discharge of firearms (*U01.4,X93-X95) 25",
          "Events of undetermined intent (Y10-Y34,Y87.2,Y89.9) 25",
          "Other and unspecified events of undetermined intent and their sequelae (Y10-Y21,Y25-Y34,Y87.2,Y89.9) 25",
          "35-44",
          "#Septicemia (A40-A41) 35",
          "Other and unspecified infectious and parasitic diseases and their sequelae (A00,A05,A20-A36,A42-A44,A48-A49,A54-A79,A81-A82,A85.0-A85.1,A85.8,A86-B04,B06-B09,B25-B49,B55-B99,U07.1) 35",
          "#Malignant neoplasms (C00-C97) 35",
          "Malignant neoplasms of meninges, brain and other parts of central nervous system (C70-C72) 35",
          "Malignant neoplasm of cervix uteri (C53) 35",
          "All other and unspecified malignant neoplasms (C17,C23-C24,C26-C31,C37-C41,C44-C49,C51-C52,C57-C60,C62-C63,C66,C68-C69,C73-C80,C97) 35",
          "Malignant neoplasm of breast (C50) 35",
          "Malignant neoplasms of lymphoid, hematopoietic and related tissue (C81-C96) 35",
          "Leukemia (C91-C95) 35",
          "Malignant melanoma of skin (C43) 35",
          "Malignant neoplasms of colon, rectum and anus (C18-C21) 35",
          "Malignant neoplasm of pancreas (C25) 35",
          "Malignant neoplasms of trachea, bronchus and lung (C33-C34) 35",
          "#Diabetes mellitus (E10-E14) 35",
          "Major cardiovascular diseases (I00-I78) 35",
          "#Cerebrovascular diseases (I60-I69) 35",
          "#Diseases of heart (I00-I09,I11,I13,I20-I51) 35",
          "Ischemic heart diseases (I20-I25) 35",
          "Acute myocardial infarction (I21-I22) 35",
          "Other forms of chronic ischemic heart disease (I20,I25) 35",
          "All other forms of chronic ischemic heart disease (I20,I25.1-I25.9) 35",
          "Atherosclerotic cardiovascular disease, so described (I25.0) 35",
          "Other heart diseases (I26-I51) 35",
          "Heart failure (I50) 35",
          "All other forms of heart disease (I26-I28,I34-I38,I42-I49,I51) 35",
          "Hypertensive heart disease (I11) 35",
          "Other diseases of circulatory system (I71-I78) 35",
          "#Aortic aneurysm and dissection (I71) 35",
          "#Essential hypertension and hypertensive renal disease (I10,I12,I15) 35",
          "Other disorders of circulatory system (I80-I99) 35",
          "#Influenza and pneumonia (J09-J18) 35",
          "Pneumonia (J12-J18) 35",
          "#Chronic lower respiratory diseases (J40-J47) 35",
          "Other diseases of respiratory system (J00-J06,J30- J39,J67,J70-J98) 35",
          "#Chronic liver disease and cirrhosis (K70,K73-K74) 35",
          "Alcoholic liver disease (K70) 35",
          "Other chronic liver disease and cirrhosis (K73-K74) 35",
          "#Nephritis, nephrotic syndrome and nephrosis (N00-N07,N17-N19,N25-N27) 35",
          "Renal failure (N17-N19) 35",
          "#Pregnancy, childbirth and the puerperium (O00-O99) 35",
          "Other complications of pregnancy, childbirth and the puerperium (O10-O99) 35",
          "#Congenital malformations, deformations and chromosomal abnormalities (Q00-Q99) 35",
          "Symptoms, signs and abnormal clinical and laboratory findings, not elsewhere classified (R00-R99) 35",
          "All other diseases (Residual)  35",
          "#Accidents (unintentional injuries) (V01-X59,Y85-Y86) 35",
          "Transport accidents (V01-V99,Y85) 35",
          "Motor vehicle accidents (V02-V04,V09.0,V09.2,V12-V14,V19.0-V19.2,V19.4-V19.6,V20-V79,V80.3-V80.5,V81.0-V81.1,V82.0-V82.1,V83-V86,V87.0-V87.8,V88.0-V88.8,V89.0,V89.2) 35",
          "Nontransport accidents (W00-X59,Y86) 35",
          "Other and unspecified nontransport accidents and their sequelae (W20-W31,W35-W64,W75-W99,X10-X39,X50-X59,Y86) 35",
          "Accidental poisoning and exposure to noxious substances (X40-X49) 35",
          "Accidental drowning and submersion (W65-W74) 35",
          "#Intentional self-harm (suicide) (*U03,X60-X84,Y87.0) 35",
          "Intentional self-harm (suicide) by other and unspecified means and their sequelae (*U03,X60-X71,X75-X84,Y87.0) 35",
          "Intentional self-harm (suicide) by discharge of firearms (X72-X74) 35",
          "#Assault (homicide) (*U01-*U02,X85-Y09,Y87.1) 35",
          "Assault (homicide) by other and unspecified means and their sequelae (*U01.0-*U01.3,*U01.5-*U01.9,*U02,X85-X92,X96-Y09,Y87.1) 35",
          "Assault (homicide) by discharge of firearms (*U01.4,X93-X95) 35",
          "Events of undetermined intent (Y10-Y34,Y87.2,Y89.9) 35",
          "Other and unspecified events of undetermined intent and their sequelae (Y10-Y21,Y25-Y34,Y87.2,Y89.9) 35",
          "1-4",
          "#Malignant neoplasms (C00-C97) 1-",
          "#Congenital malformations, deformations and chromosomal abnormalities (Q00-Q99) 1-",
          "All other diseases (Residual)  1-",
          "#Accidents (unintentional injuries) (V01-X59,Y85-Y86) 1-",
          "Transport accidents (V01-V99,Y85) 1-",
          "Motor vehicle accidents (V02-V04,V09.0,V09.2,V12-V14,V19.0-V19.2,V19.4-V19.6,V20-V79,V80.3-V80.5,V81.0-V81.1,V82.0-V82.1,V83-V86,V87.0-V87.8,V88.0-V88.8,V89.0,V89.2) 1-",
          "Nontransport accidents (W00-X59,Y86) 1-",
          "#Assault (homicide) (*U01-*U02,X85-Y09,Y87.1) 1-",
          "5-14",
          "#Malignant neoplasms (C00-C97) 5-",
          "Malignant neoplasms of meninges, brain and other parts of central nervous system (C70-C72) 5-",
          "Major cardiovascular diseases (I00-I78) 5-",
          "#Diseases of heart (I00-I09,I11,I13,I20-I51) 5-",
          "#Congenital malformations, deformations and chromosomal abnormalities (Q00-Q99) 5-",
          "All other diseases (Residual)  5-",
          "#Accidents (unintentional injuries) (V01-X59,Y85-Y86) 5-",
          "Transport accidents (V01-V99,Y85) 5-",
          "Motor vehicle accidents (V02-V04,V09.0,V09.2,V12-V14,V19.0-V19.2,V19.4-V19.6,V20-V79,V80.3-V80.5,V81.0-V81.1,V82.0-V82.1,V83-V86,V87.0-V87.8,V88.0-V88.8,V89.0,V89.2) 5-",
          "Nontransport accidents (W00-X59,Y86) 5-",
          "#Intentional self-harm (suicide) (*U03,X60-X84,Y87.0) 5-",
          "Intentional self-harm (suicide) by other and unspecified means and their sequelae (*U03,X60-X71,X75-X84,Y87.0) 5-",
          "#Assault (homicide) (*U01-*U02,X85-Y09,Y87.1) 5-",
          "15-24",
          "#Malignant neoplasms (C00-C97) 15",
          "Malignant neoplasms of meninges, brain and other parts of central nervous system (C70-C72) 15",
          "All other and unspecified malignant neoplasms (C17,C23-C24,C26-C31,C37-C41,C44-C49,C51-C52,C57-C60,C62-C63,C66,C68-C69,C73-C80,C97) 15",
          "Major cardiovascular diseases (I00-I78) 15",
          "#Diseases of heart (I00-I09,I11,I13,I20-I51) 15",
          "Other heart diseases (I26-I51) 15",
          "All other forms of heart disease (I26-I28,I34-I38,I42-I49,I51) 15",
          "#Influenza and pneumonia (J09-J18) 15",
          "#Chronic lower respiratory diseases (J40-J47) 15",
          "Asthma (J45-J46) 15",
          "#Congenital malformations, deformations and chromosomal abnormalities (Q00-Q99) 15",
          "Symptoms, signs and abnormal clinical and laboratory findings, not elsewhere classified (R00-R99) 15",
          "All other diseases (Residual)  15",
          "#Accidents (unintentional injuries) (V01-X59,Y85-Y86) 15",
          "Transport accidents (V01-V99,Y85) 15",
          "Motor vehicle accidents (V02-V04,V09.0,V09.2,V12-V14,V19.0-V19.2,V19.4-V19.6,V20-V79,V80.3-V80.5,V81.0-V81.1,V82.0-V82.1,V83-V86,V87.0-V87.8,V88.0-V88.8,V89.0,V89.2) 15",
          "Nontransport accidents (W00-X59,Y86) 15",
          "Accidental poisoning and exposure to noxious substances (X40-X49) 15",
          "Accidental drowning and submersion (W65-W74) 15",
          "#Intentional self-harm (suicide) (*U03,X60-X84,Y87.0) 15",
          "Intentional self-harm (suicide) by other and unspecified means and their sequelae (*U03,X60-X71,X75-X84,Y87.0) 15",
          "Intentional self-harm (suicide) by discharge of firearms (X72-X74) 15",
          "#Assault (homicide) (*U01-*U02,X85-Y09,Y87.1) 15",
          "Assault (homicide) by discharge of firearms (*U01.4,X93-X95) 15",
          "Events of undetermined intent (Y10-Y34,Y87.2,Y89.9) 15",
          "Other and unspecified events of undetermined intent and their sequelae (Y10-Y21,Y25-Y34,Y87.2,Y89.9) 15",
          "1",
          "Major cardiovascular diseases (I00-I78) 1",
          "#Certain conditions originating in the perinatal period (P00-P96) 1",
          "#Congenital malformations, deformations and chromosomal abnormalities (Q00-Q99) 1",
          "Symptoms, signs and abnormal clinical and laboratory findings, not elsewhere classified (R00-R99) 1",
          "All other diseases (Residual)  1",
          "#Accidents (unintentional injuries) (V01-X59,Y85-Y86) 1",
          "Nontransport accidents (W00-X59,Y86) 1",
          "Other and unspecified nontransport accidents and their sequelae (W20-W31,W35-W64,W75-W99,X10-X39,X50-X59,Y86) 1",
          "#Assault (homicide) (*U01-*U02,X85-Y09,Y87.1) 1",
          "Assault (homicide) by other and unspecified means and their sequelae (*U01.0-*U01.3,*U01.5-*U01.9,*U02,X85-X92,X96-Y09,Y87.1) 1"
         ],
         "parents": [
          "",
          "All Ages",
          "45-54",
          "45-54",
          "45-54",
          "45-54",
          "45-54",
          "45-54",
          "#Malignant neoplasms (C00-C97) 45",
          "#Malignant neoplasms (C00-C97) 45",
          "#Malignant neoplasms (C00-C97) 45",
          "#Malignant neoplasms (C00-C97) 45",
          "#Malignant neoplasms (C00-C97) 45",
          "#Malignant neoplasms (C00-C97) 45",
          "#Malignant neoplasms (C00-C97) 45",
          "#Malignant neoplasms (C00-C97) 45",
          "#Malignant neoplasms (C00-C97) 45",
          "#Malignant neoplasms (C00-C97) 45",
          "Malignant neoplasms of lymphoid, hematopoietic and related tissue (C81-C96) 45",
          "Malignant neoplasms of lymphoid, hematopoietic and related tissue (C81-C96) 45",
          "Malignant neoplasms of lymphoid, hematopoietic and related tissue (C81-C96) 45",
          "#Malignant neoplasms (C00-C97) 45",
          "#Malignant neoplasms (C00-C97) 45",
          "#Malignant neoplasms (C00-C97) 45",
          "#Malignant neoplasms (C00-C97) 45",
          "#Malignant neoplasms (C00-C97) 45",
          "#Malignant neoplasms (C00-C97) 45",
          "#Malignant neoplasms (C00-C97) 45",
          "#Malignant neoplasms (C00-C97) 45",
          "#Malignant neoplasms (C00-C97) 45",
          "45-54",
          "45-54",
          "45-54",
          "Major cardiovascular diseases (I00-I78) 45",
          "Major cardiovascular diseases (I00-I78) 45",
          "#Diseases of heart (I00-I09,I11,I13,I20-I51) 45",
          "Ischemic heart diseases (I20-I25) 45",
          "Ischemic heart diseases (I20-I25) 45",
          "Other forms of chronic ischemic heart disease (I20,I25) 45",
          "Other forms of chronic ischemic heart disease (I20,I25) 45",
          "#Diseases of heart (I00-I09,I11,I13,I20-I51) 45",
          "Other heart diseases (I26-I51) 45",
          "Other heart diseases (I26-I51) 45",
          "#Diseases of heart (I00-I09,I11,I13,I20-I51) 45",
          "#Diseases of heart (I00-I09,I11,I13,I20-I51) 45",
          "Major cardiovascular diseases (I00-I78) 45",
          "Other diseases of circulatory system (I71-I78) 45",
          "Other diseases of circulatory system (I71-I78) 45",
          "Major cardiovascular diseases (I00-I78) 45",
          "45-54",
          "45-54",
          "#Influenza and pneumonia (J09-J18) 45",
          "#Influenza and pneumonia (J09-J18) 45",
          "45-54",
          "#Chronic lower respiratory diseases (J40-J47) 45",
          "#Chronic lower respiratory diseases (J40-J47) 45",
          "45-54",
          "45-54",
          "45-54",
          "#Chronic liver disease and cirrhosis (K70,K73-K74) 45",
          "#Chronic liver disease and cirrhosis (K70,K73-K74) 45",
          "45-54",
          "#Nephritis, nephrotic syndrome and nephrosis (N00-N07,N17-N19,N25-N27) 45",
          "45-54",
          "45-54",
          "45-54",
          "45-54",
          "#Accidents (unintentional injuries) (V01-X59,Y85-Y86) 45",
          "Transport accidents (V01-V99,Y85) 45",
          "Transport accidents (V01-V99,Y85) 45",
          "#Accidents (unintentional injuries) (V01-X59,Y85-Y86) 45",
          "Nontransport accidents (W00-X59,Y86) 45",
          "Nontransport accidents (W00-X59,Y86) 45",
          "Nontransport accidents (W00-X59,Y86) 45",
          "45-54",
          "#Intentional self-harm (suicide) (*U03,X60-X84,Y87.0) 45",
          "#Intentional self-harm (suicide) (*U03,X60-X84,Y87.0) 45",
          "45-54",
          "#Assault (homicide) (*U01-*U02,X85-Y09,Y87.1) 45",
          "#Assault (homicide) (*U01-*U02,X85-Y09,Y87.1) 45",
          "45-54",
          "Events of undetermined intent (Y10-Y34,Y87.2,Y89.9) 45",
          "All Ages",
          "55-64",
          "Certain other intestinal infections (A04,A07-A09) 55",
          "55-64",
          "55-64",
          "55-64",
          "55-64",
          "55-64",
          "#Malignant neoplasms (C00-C97) 55",
          "#Malignant neoplasms (C00-C97) 55",
          "#Malignant neoplasms (C00-C97) 55",
          "#Malignant neoplasms (C00-C97) 55",
          "#Malignant neoplasms (C00-C97) 55",
          "#Malignant neoplasms (C00-C97) 55",
          "#Malignant neoplasms (C00-C97) 55",
          "#Malignant neoplasms (C00-C97) 55",
          "#Malignant neoplasms (C00-C97) 55",
          "#Malignant neoplasms (C00-C97) 55",
          "Malignant neoplasms of lymphoid, hematopoietic and related tissue (C81-C96) 55",
          "Malignant neoplasms of lymphoid, hematopoietic and related tissue (C81-C96) 55",
          "Malignant neoplasms of lymphoid, hematopoietic and related tissue (C81-C96) 55",
          "#Malignant neoplasms (C00-C97) 55",
          "#Malignant neoplasms (C00-C97) 55",
          "#Malignant neoplasms (C00-C97) 55",
          "#Malignant neoplasms (C00-C97) 55",
          "#Malignant neoplasms (C00-C97) 55",
          "#Malignant neoplasms (C00-C97) 55",
          "#Malignant neoplasms (C00-C97) 55",
          "#Malignant neoplasms (C00-C97) 55",
          "#Malignant neoplasms (C00-C97) 55",
          "55-64",
          "55-64",
          "55-64",
          "55-64",
          "#Nutritional deficiencies (E40-E64) 55",
          "55-64",
          "55-64",
          "55-64",
          "Major cardiovascular diseases (I00-I78) 55",
          "Major cardiovascular diseases (I00-I78) 55",
          "Major cardiovascular diseases (I00-I78) 55",
          "#Diseases of heart (I00-I09,I11,I13,I20-I51) 55",
          "Ischemic heart diseases (I20-I25) 55",
          "Ischemic heart diseases (I20-I25) 55",
          "Other forms of chronic ischemic heart disease (I20,I25) 55",
          "Other forms of chronic ischemic heart disease (I20,I25) 55",
          "Ischemic heart diseases (I20-I25) 55",
          "#Diseases of heart (I00-I09,I11,I13,I20-I51) 55",
          "Other heart diseases (I26-I51) 55",
          "Other heart diseases (I26-I51) 55",
          "Other heart diseases (I26-I51) 55",
          "#Diseases of heart (I00-I09,I11,I13,I20-I51) 55",
          "#Diseases of heart (I00-I09,I11,I13,I20-I51) 55",
          "#Diseases of heart (I00-I09,I11,I13,I20-I51) 55",
          "Major cardiovascular diseases (I00-I78) 55",
          "Other diseases of circulatory system (I71-I78) 55",
          "Other diseases of circulatory system (I71-I78) 55",
          "Major cardiovascular diseases (I00-I78) 55",
          "55-64",
          "55-64",
          "#Influenza and pneumonia (J09-J18) 55",
          "#Influenza and pneumonia (J09-J18) 55",
          "55-64",
          "#Chronic lower respiratory diseases (J40-J47) 55",
          "#Chronic lower respiratory diseases (J40-J47) 55",
          "#Chronic lower respiratory diseases (J40-J47) 55",
          "55-64",
          "55-64",
          "55-64",
          "55-64",
          "#Chronic liver disease and cirrhosis (K70,K73-K74) 55",
          "#Chronic liver disease and cirrhosis (K70,K73-K74) 55",
          "55-64",
          "#Nephritis, nephrotic syndrome and nephrosis (N00-N07,N17-N19,N25-N27) 55",
          "55-64",
          "55-64",
          "55-64",
          "55-64",
          "#Accidents (unintentional injuries) (V01-X59,Y85-Y86) 55",
          "Transport accidents (V01-V99,Y85) 55",
          "Transport accidents (V01-V99,Y85) 55",
          "#Accidents (unintentional injuries) (V01-X59,Y85-Y86) 55",
          "Nontransport accidents (W00-X59,Y86) 55",
          "Nontransport accidents (W00-X59,Y86) 55",
          "Nontransport accidents (W00-X59,Y86) 55",
          "Nontransport accidents (W00-X59,Y86) 55",
          "Nontransport accidents (W00-X59,Y86) 55",
          "55-64",
          "#Intentional self-harm (suicide) (*U03,X60-X84,Y87.0) 55",
          "#Intentional self-harm (suicide) (*U03,X60-X84,Y87.0) 55",
          "55-64",
          "#Assault (homicide) (*U01-*U02,X85-Y09,Y87.1) 55",
          "#Assault (homicide) (*U01-*U02,X85-Y09,Y87.1) 55",
          "55-64",
          "Events of undetermined intent (Y10-Y34,Y87.2,Y89.9) 55",
          "55-64",
          "All Ages",
          "65-74",
          "Certain other intestinal infections (A04,A07-A09) 65",
          "65-74",
          "65-74",
          "65-74",
          "65-74",
          "65-74",
          "#Malignant neoplasms (C00-C97) 65",
          "#Malignant neoplasms (C00-C97) 65",
          "#Malignant neoplasms (C00-C97) 65",
          "#Malignant neoplasms (C00-C97) 65",
          "#Malignant neoplasms (C00-C97) 65",
          "#Malignant neoplasms (C00-C97) 65",
          "#Malignant neoplasms (C00-C97) 65",
          "#Malignant neoplasms (C00-C97) 65",
          "#Malignant neoplasms (C00-C97) 65",
          "#Malignant neoplasms (C00-C97) 65",
          "Malignant neoplasms of lymphoid, hematopoietic and related tissue (C81-C96) 65",
          "Malignant neoplasms of lymphoid, hematopoietic and related tissue (C81-C96) 65",
          "Malignant neoplasms of lymphoid, hematopoietic and related tissue (C81-C96) 65",
          "#Malignant neoplasms (C00-C97) 65",
          "#Malignant neoplasms (C00-C97) 65",
          "#Malignant neoplasms (C00-C97) 65",
          "#Malignant neoplasms (C00-C97) 65",
          "#Malignant neoplasms (C00-C97) 65",
          "#Malignant neoplasms (C00-C97) 65",
          "#Malignant neoplasms (C00-C97) 65",
          "#Malignant neoplasms (C00-C97) 65",
          "#Malignant neoplasms (C00-C97) 65",
          "65-74",
          "65-74",
          "65-74",
          "65-74",
          "#Nutritional deficiencies (E40-E64) 65",
          "65-74",
          "65-74",
          "65-74",
          "Major cardiovascular diseases (I00-I78) 65",
          "Major cardiovascular diseases (I00-I78) 65",
          "Major cardiovascular diseases (I00-I78) 65",
          "#Diseases of heart (I00-I09,I11,I13,I20-I51) 65",
          "Ischemic heart diseases (I20-I25) 65",
          "Ischemic heart diseases (I20-I25) 65",
          "Other forms of chronic ischemic heart disease (I20,I25) 65",
          "Other forms of chronic ischemic heart disease (I20,I25) 65",
          "Ischemic heart diseases (I20-I25) 65",
          "#Diseases of heart (I00-I09,I11,I13,I20-I51) 65",
          "Other heart diseases (I26-I51) 65",
          "Other heart diseases (I26-I51) 65",
          "Other heart diseases (I26-I51) 65",
          "Other heart diseases (I26-I51) 65",
          "#Diseases of heart (I00-I09,I11,I13,I20-I51) 65",
          "#Diseases of heart (I00-I09,I11,I13,I20-I51) 65",
          "#Diseases of heart (I00-I09,I11,I13,I20-I51) 65",
          "Major cardiovascular diseases (I00-I78) 65",
          "Other diseases of circulatory system (I71-I78) 65",
          "Other diseases of circulatory system (I71-I78) 65",
          "Major cardiovascular diseases (I00-I78) 65",
          "65-74",
          "65-74",
          "#Influenza and pneumonia (J09-J18) 65",
          "#Influenza and pneumonia (J09-J18) 65",
          "65-74",
          "#Chronic lower respiratory diseases (J40-J47) 65",
          "#Chronic lower respiratory diseases (J40-J47) 65",
          "#Chronic lower respiratory diseases (J40-J47) 65",
          "65-74",
          "65-74",
          "65-74",
          "65-74",
          "#Chronic liver disease and cirrhosis (K70,K73-K74) 65",
          "#Chronic liver disease and cirrhosis (K70,K73-K74) 65",
          "65-74",
          "65-74",
          "#Nephritis, nephrotic syndrome and nephrosis (N00-N07,N17-N19,N25-N27) 65",
          "65-74",
          "65-74",
          "65-74",
          "65-74",
          "#Accidents (unintentional injuries) (V01-X59,Y85-Y86) 65",
          "Transport accidents (V01-V99,Y85) 65",
          "Transport accidents (V01-V99,Y85) 65",
          "#Accidents (unintentional injuries) (V01-X59,Y85-Y86) 65",
          "Nontransport accidents (W00-X59,Y86) 65",
          "Nontransport accidents (W00-X59,Y86) 65",
          "Nontransport accidents (W00-X59,Y86) 65",
          "Nontransport accidents (W00-X59,Y86) 65",
          "Nontransport accidents (W00-X59,Y86) 65",
          "65-74",
          "#Intentional self-harm (suicide) (*U03,X60-X84,Y87.0) 65",
          "#Intentional self-harm (suicide) (*U03,X60-X84,Y87.0) 65",
          "65-74",
          "#Assault (homicide) (*U01-*U02,X85-Y09,Y87.1) 65",
          "65-74",
          "Events of undetermined intent (Y10-Y34,Y87.2,Y89.9) 65",
          "65-74",
          "65-74",
          "All Ages",
          "75-84",
          "Certain other intestinal infections (A04,A07-A09) 75",
          "75-84",
          "75-84",
          "75-84",
          "75-84",
          "#Malignant neoplasms (C00-C97) 75",
          "#Malignant neoplasms (C00-C97) 75",
          "#Malignant neoplasms (C00-C97) 75",
          "#Malignant neoplasms (C00-C97) 75",
          "#Malignant neoplasms (C00-C97) 75",
          "#Malignant neoplasms (C00-C97) 75",
          "#Malignant neoplasms (C00-C97) 75",
          "#Malignant neoplasms (C00-C97) 75",
          "#Malignant neoplasms (C00-C97) 75",
          "#Malignant neoplasms (C00-C97) 75",
          "Malignant neoplasms of lymphoid, hematopoietic and related tissue (C81-C96) 75",
          "Malignant neoplasms of lymphoid, hematopoietic and related tissue (C81-C96) 75",
          "Malignant neoplasms of lymphoid, hematopoietic and related tissue (C81-C96) 75",
          "#Malignant neoplasms (C00-C97) 75",
          "#Malignant neoplasms (C00-C97) 75",
          "#Malignant neoplasms (C00-C97) 75",
          "#Malignant neoplasms (C00-C97) 75",
          "#Malignant neoplasms (C00-C97) 75",
          "#Malignant neoplasms (C00-C97) 75",
          "#Malignant neoplasms (C00-C97) 75",
          "#Malignant neoplasms (C00-C97) 75",
          "#Malignant neoplasms (C00-C97) 75",
          "75-84",
          "75-84",
          "75-84",
          "75-84",
          "#Nutritional deficiencies (E40-E64) 75",
          "75-84",
          "75-84",
          "75-84",
          "Major cardiovascular diseases (I00-I78) 75",
          "Major cardiovascular diseases (I00-I78) 75",
          "Major cardiovascular diseases (I00-I78) 75",
          "#Diseases of heart (I00-I09,I11,I13,I20-I51) 75",
          "Ischemic heart diseases (I20-I25) 75",
          "Ischemic heart diseases (I20-I25) 75",
          "Other forms of chronic ischemic heart disease (I20,I25) 75",
          "Other forms of chronic ischemic heart disease (I20,I25) 75",
          "Ischemic heart diseases (I20-I25) 75",
          "#Diseases of heart (I00-I09,I11,I13,I20-I51) 75",
          "Other heart diseases (I26-I51) 75",
          "Other heart diseases (I26-I51) 75",
          "Other heart diseases (I26-I51) 75",
          "#Diseases of heart (I00-I09,I11,I13,I20-I51) 75",
          "#Diseases of heart (I00-I09,I11,I13,I20-I51) 75",
          "#Diseases of heart (I00-I09,I11,I13,I20-I51) 75",
          "Major cardiovascular diseases (I00-I78) 75",
          "Other diseases of circulatory system (I71-I78) 75",
          "Other diseases of circulatory system (I71-I78) 75",
          "Major cardiovascular diseases (I00-I78) 75",
          "75-84",
          "75-84",
          "#Influenza and pneumonia (J09-J18) 75",
          "#Influenza and pneumonia (J09-J18) 75",
          "75-84",
          "#Chronic lower respiratory diseases (J40-J47) 75",
          "#Chronic lower respiratory diseases (J40-J47) 75",
          "75-84",
          "75-84",
          "75-84",
          "75-84",
          "#Chronic liver disease and cirrhosis (K70,K73-K74) 75",
          "#Chronic liver disease and cirrhosis (K70,K73-K74) 75",
          "75-84",
          "75-84",
          "#Nephritis, nephrotic syndrome and nephrosis (N00-N07,N17-N19,N25-N27) 75",
          "75-84",
          "75-84",
          "75-84",
          "75-84",
          "#Accidents (unintentional injuries) (V01-X59,Y85-Y86) 75",
          "Transport accidents (V01-V99,Y85) 75",
          "#Accidents (unintentional injuries) (V01-X59,Y85-Y86) 75",
          "Nontransport accidents (W00-X59,Y86) 75",
          "Nontransport accidents (W00-X59,Y86) 75",
          "Nontransport accidents (W00-X59,Y86) 75",
          "Nontransport accidents (W00-X59,Y86) 75",
          "75-84",
          "#Intentional self-harm (suicide) (*U03,X60-X84,Y87.0) 75",
          "#Intentional self-harm (suicide) (*U03,X60-X84,Y87.0) 75",
          "75-84",
          "75-84",
          "All Ages",
          "85+",
          "Certain other intestinal infections (A04,A07-A09) 85",
          "85+",
          "85+",
          "85+",
          "#Malignant neoplasms (C00-C97) 85",
          "#Malignant neoplasms (C00-C97) 85",
          "#Malignant neoplasms (C00-C97) 85",
          "#Malignant neoplasms (C00-C97) 85",
          "#Malignant neoplasms (C00-C97) 85",
          "#Malignant neoplasms (C00-C97) 85",
          "#Malignant neoplasms (C00-C97) 85",
          "#Malignant neoplasms (C00-C97) 85",
          "#Malignant neoplasms (C00-C97) 85",
          "Malignant neoplasms of lymphoid, hematopoietic and related tissue (C81-C96) 85",
          "Malignant neoplasms of lymphoid, hematopoietic and related tissue (C81-C96) 85",
          "Malignant neoplasms of lymphoid, hematopoietic and related tissue (C81-C96) 85",
          "#Malignant neoplasms (C00-C97) 85",
          "#Malignant neoplasms (C00-C97) 85",
          "#Malignant neoplasms (C00-C97) 85",
          "#Malignant neoplasms (C00-C97) 85",
          "#Malignant neoplasms (C00-C97) 85",
          "#Malignant neoplasms (C00-C97) 85",
          "#Malignant neoplasms (C00-C97) 85",
          "#Malignant neoplasms (C00-C97) 85",
          "#Malignant neoplasms (C00-C97) 85",
          "85+",
          "85+",
          "85+",
          "85+",
          "#Nutritional deficiencies (E40-E64) 85",
          "85+",
          "85+",
          "85+",
          "Major cardiovascular diseases (I00-I78) 85",
          "Major cardiovascular diseases (I00-I78) 85",
          "Major cardiovascular diseases (I00-I78) 85",
          "#Diseases of heart (I00-I09,I11,I13,I20-I51) 85",
          "Ischemic heart diseases (I20-I25) 85",
          "Ischemic heart diseases (I20-I25) 85",
          "Other forms of chronic ischemic heart disease (I20,I25) 85",
          "Other forms of chronic ischemic heart disease (I20,I25) 85",
          "Ischemic heart diseases (I20-I25) 85",
          "#Diseases of heart (I00-I09,I11,I13,I20-I51) 85",
          "Other heart diseases (I26-I51) 85",
          "Other heart diseases (I26-I51) 85",
          "Other heart diseases (I26-I51) 85",
          "#Diseases of heart (I00-I09,I11,I13,I20-I51) 85",
          "#Diseases of heart (I00-I09,I11,I13,I20-I51) 85",
          "#Diseases of heart (I00-I09,I11,I13,I20-I51) 85",
          "Major cardiovascular diseases (I00-I78) 85",
          "Other diseases of circulatory system (I71-I78) 85",
          "Other diseases of circulatory system (I71-I78) 85",
          "Major cardiovascular diseases (I00-I78) 85",
          "85+",
          "85+",
          "#Influenza and pneumonia (J09-J18) 85",
          "#Influenza and pneumonia (J09-J18) 85",
          "85+",
          "#Chronic lower respiratory diseases (J40-J47) 85",
          "#Chronic lower respiratory diseases (J40-J47) 85",
          "#Chronic lower respiratory diseases (J40-J47) 85",
          "85+",
          "85+",
          "85+",
          "85+",
          "#Chronic liver disease and cirrhosis (K70,K73-K74) 85",
          "85+",
          "85+",
          "#Nephritis, nephrotic syndrome and nephrosis (N00-N07,N17-N19,N25-N27) 85",
          "85+",
          "85+",
          "85+",
          "#Accidents (unintentional injuries) (V01-X59,Y85-Y86) 85",
          "Transport accidents (V01-V99,Y85) 85",
          "#Accidents (unintentional injuries) (V01-X59,Y85-Y86) 85",
          "Nontransport accidents (W00-X59,Y86) 85",
          "Nontransport accidents (W00-X59,Y86) 85",
          "85+",
          "#Intentional self-harm (suicide) (*U03,X60-X84,Y87.0) 85",
          "85+",
          "85+",
          "85+",
          "All Ages",
          "25-34",
          "25-34",
          "25-34",
          "#Malignant neoplasms (C00-C97) 25",
          "#Malignant neoplasms (C00-C97) 25",
          "#Malignant neoplasms (C00-C97) 25",
          "#Malignant neoplasms (C00-C97) 25",
          "25-34",
          "25-34",
          "Major cardiovascular diseases (I00-I78) 25",
          "Major cardiovascular diseases (I00-I78) 25",
          "#Diseases of heart (I00-I09,I11,I13,I20-I51) 25",
          "Ischemic heart diseases (I20-I25) 25",
          "Ischemic heart diseases (I20-I25) 25",
          "Other forms of chronic ischemic heart disease (I20,I25) 25",
          "#Diseases of heart (I00-I09,I11,I13,I20-I51) 25",
          "Other heart diseases (I26-I51) 25",
          "#Diseases of heart (I00-I09,I11,I13,I20-I51) 25",
          "25-34",
          "#Influenza and pneumonia (J09-J18) 25",
          "25-34",
          "#Chronic lower respiratory diseases (J40-J47) 25",
          "25-34",
          "#Chronic liver disease and cirrhosis (K70,K73-K74) 25",
          "25-34",
          "#Pregnancy, childbirth and the puerperium (O00-O99) 25",
          "25-34",
          "25-34",
          "25-34",
          "25-34",
          "#Accidents (unintentional injuries) (V01-X59,Y85-Y86) 25",
          "Transport accidents (V01-V99,Y85) 25",
          "#Accidents (unintentional injuries) (V01-X59,Y85-Y86) 25",
          "Nontransport accidents (W00-X59,Y86) 25",
          "Nontransport accidents (W00-X59,Y86) 25",
          "Nontransport accidents (W00-X59,Y86) 25",
          "25-34",
          "#Intentional self-harm (suicide) (*U03,X60-X84,Y87.0) 25",
          "#Intentional self-harm (suicide) (*U03,X60-X84,Y87.0) 25",
          "25-34",
          "#Assault (homicide) (*U01-*U02,X85-Y09,Y87.1) 25",
          "#Assault (homicide) (*U01-*U02,X85-Y09,Y87.1) 25",
          "25-34",
          "Events of undetermined intent (Y10-Y34,Y87.2,Y89.9) 25",
          "All Ages",
          "35-44",
          "35-44",
          "35-44",
          "#Malignant neoplasms (C00-C97) 35",
          "#Malignant neoplasms (C00-C97) 35",
          "#Malignant neoplasms (C00-C97) 35",
          "#Malignant neoplasms (C00-C97) 35",
          "#Malignant neoplasms (C00-C97) 35",
          "Malignant neoplasms of lymphoid, hematopoietic and related tissue (C81-C96) 35",
          "#Malignant neoplasms (C00-C97) 35",
          "#Malignant neoplasms (C00-C97) 35",
          "#Malignant neoplasms (C00-C97) 35",
          "#Malignant neoplasms (C00-C97) 35",
          "35-44",
          "35-44",
          "Major cardiovascular diseases (I00-I78) 35",
          "Major cardiovascular diseases (I00-I78) 35",
          "#Diseases of heart (I00-I09,I11,I13,I20-I51) 35",
          "Ischemic heart diseases (I20-I25) 35",
          "Ischemic heart diseases (I20-I25) 35",
          "Other forms of chronic ischemic heart disease (I20,I25) 35",
          "Other forms of chronic ischemic heart disease (I20,I25) 35",
          "#Diseases of heart (I00-I09,I11,I13,I20-I51) 35",
          "Other heart diseases (I26-I51) 35",
          "Other heart diseases (I26-I51) 35",
          "#Diseases of heart (I00-I09,I11,I13,I20-I51) 35",
          "Major cardiovascular diseases (I00-I78) 35",
          "Other diseases of circulatory system (I71-I78) 35",
          "Major cardiovascular diseases (I00-I78) 35",
          "35-44",
          "35-44",
          "#Influenza and pneumonia (J09-J18) 35",
          "35-44",
          "35-44",
          "35-44",
          "#Chronic liver disease and cirrhosis (K70,K73-K74) 35",
          "#Chronic liver disease and cirrhosis (K70,K73-K74) 35",
          "35-44",
          "#Nephritis, nephrotic syndrome and nephrosis (N00-N07,N17-N19,N25-N27) 35",
          "35-44",
          "#Pregnancy, childbirth and the puerperium (O00-O99) 35",
          "35-44",
          "35-44",
          "35-44",
          "35-44",
          "#Accidents (unintentional injuries) (V01-X59,Y85-Y86) 35",
          "Transport accidents (V01-V99,Y85) 35",
          "#Accidents (unintentional injuries) (V01-X59,Y85-Y86) 35",
          "Nontransport accidents (W00-X59,Y86) 35",
          "Nontransport accidents (W00-X59,Y86) 35",
          "Nontransport accidents (W00-X59,Y86) 35",
          "35-44",
          "#Intentional self-harm (suicide) (*U03,X60-X84,Y87.0) 35",
          "#Intentional self-harm (suicide) (*U03,X60-X84,Y87.0) 35",
          "35-44",
          "#Assault (homicide) (*U01-*U02,X85-Y09,Y87.1) 35",
          "#Assault (homicide) (*U01-*U02,X85-Y09,Y87.1) 35",
          "35-44",
          "Events of undetermined intent (Y10-Y34,Y87.2,Y89.9) 35",
          "All Ages",
          "1-4",
          "1-4",
          "1-4",
          "1-4",
          "#Accidents (unintentional injuries) (V01-X59,Y85-Y86) 1-",
          "Transport accidents (V01-V99,Y85) 1-",
          "#Accidents (unintentional injuries) (V01-X59,Y85-Y86) 1-",
          "1-4",
          "All Ages",
          "5-14",
          "#Malignant neoplasms (C00-C97) 5-",
          "5-14",
          "Major cardiovascular diseases (I00-I78) 5-",
          "5-14",
          "5-14",
          "5-14",
          "#Accidents (unintentional injuries) (V01-X59,Y85-Y86) 5-",
          "Transport accidents (V01-V99,Y85) 5-",
          "#Accidents (unintentional injuries) (V01-X59,Y85-Y86) 5-",
          "5-14",
          "#Intentional self-harm (suicide) (*U03,X60-X84,Y87.0) 5-",
          "5-14",
          "All Ages",
          "15-24",
          "#Malignant neoplasms (C00-C97) 15",
          "#Malignant neoplasms (C00-C97) 15",
          "15-24",
          "Major cardiovascular diseases (I00-I78) 15",
          "#Diseases of heart (I00-I09,I11,I13,I20-I51) 15",
          "Other heart diseases (I26-I51) 15",
          "15-24",
          "15-24",
          "#Chronic lower respiratory diseases (J40-J47) 15",
          "15-24",
          "15-24",
          "15-24",
          "15-24",
          "#Accidents (unintentional injuries) (V01-X59,Y85-Y86) 15",
          "Transport accidents (V01-V99,Y85) 15",
          "#Accidents (unintentional injuries) (V01-X59,Y85-Y86) 15",
          "Nontransport accidents (W00-X59,Y86) 15",
          "Nontransport accidents (W00-X59,Y86) 15",
          "15-24",
          "#Intentional self-harm (suicide) (*U03,X60-X84,Y87.0) 15",
          "#Intentional self-harm (suicide) (*U03,X60-X84,Y87.0) 15",
          "15-24",
          "#Assault (homicide) (*U01-*U02,X85-Y09,Y87.1) 15",
          "15-24",
          "Events of undetermined intent (Y10-Y34,Y87.2,Y89.9) 15",
          "All Ages",
          "1",
          "1",
          "1",
          "1",
          "1",
          "1",
          "#Accidents (unintentional injuries) (V01-X59,Y85-Y86) 1",
          "Nontransport accidents (W00-X59,Y86) 1",
          "1",
          "#Assault (homicide) (*U01-*U02,X85-Y09,Y87.1) 1"
         ],
         "type": "sunburst",
         "values": [
          23501.63,
          404.97,
          0.8,
          5.1,
          0.88,
          0.96,
          1.28,
          93.73,
          1.83,
          2.95,
          5.58,
          1.75,
          1.59,
          0.8,
          0.8,
          11.24,
          9.88,
          6.38,
          2.71,
          2.71,
          0.8,
          0.8,
          2.07,
          4.06,
          2.23,
          12.43,
          2.87,
          1.51,
          6.54,
          18.41,
          1.35,
          15.94,
          101.7,
          10.44,
          85.12,
          48.54,
          12.67,
          35.63,
          14.9,
          20.72,
          18.17,
          3.03,
          14.59,
          17.3,
          0.8,
          3.03,
          0.96,
          2.07,
          2.71,
          1.35,
          5.02,
          0.88,
          4.14,
          10.04,
          1.04,
          8.53,
          1.04,
          4.3,
          22.87,
          15.3,
          7.57,
          5.66,
          5.58,
          2.87,
          3.03,
          40.73,
          54.04,
          12.11,
          11.08,
          0.88,
          41.92,
          2.63,
          4.14,
          33.95,
          20.96,
          12.03,
          8.93,
          5.34,
          1.75,
          3.59,
          5.98,
          5.9,
          928.87,
          1.5,
          1.07,
          11.5,
          3,
          1.86,
          2.64,
          290.38,
          5.86,
          14.79,
          9.65,
          4.64,
          1.5,
          2.43,
          4.57,
          31.08,
          21.08,
          19.15,
          7.43,
          6.29,
          5.14,
          6.79,
          4.72,
          12.86,
          7.79,
          22.72,
          8.5,
          6.29,
          24.58,
          81.38,
          3.57,
          1.21,
          35.08,
          2.14,
          2.07,
          2.07,
          2.79,
          261.73,
          1.57,
          29.22,
          217.5,
          143.4,
          33.58,
          108.96,
          46.3,
          62.66,
          0.86,
          46.73,
          13.22,
          32.3,
          0.86,
          25.22,
          0.86,
          1.29,
          6.93,
          3,
          3.93,
          6.5,
          2.22,
          15.3,
          2.22,
          13.08,
          49.66,
          1.21,
          44.44,
          3.86,
          3.07,
          10,
          1.29,
          32.37,
          18.43,
          13.93,
          14,
          13.79,
          3.57,
          5.14,
          85.39,
          58.23,
          13.29,
          12.29,
          0.79,
          44.94,
          6.72,
          6.57,
          1.29,
          29.08,
          1.21,
          19.01,
          9.43,
          9.57,
          3.1500000000000004,
          1.79,
          1.36,
          4.93,
          4.72,
          2.07,
          1895.6799999999998,
          3.08,
          2.02,
          26.02,
          4.43,
          1.35,
          5.78,
          589.94,
          14.65,
          25.35,
          17.35,
          6.75,
          2.6,
          5.01,
          12.43,
          65.15,
          34.7,
          51.76,
          19.08,
          18.5,
          13.59,
          21.88,
          5.69,
          18.79,
          15.03,
          41.83,
          13.4,
          10.22,
          52.91,
          174.44,
          12.91,
          3.47,
          79.8,
          5.4,
          5.3,
          16.38,
          27.28,
          564.7,
          3.76,
          72.57,
          455.88,
          292.03,
          67.18,
          222.83,
          124.81,
          98.02,
          2.02,
          118.55,
          46.36,
          1.16,
          69.97,
          1.06,
          36.53,
          2.51,
          6.26,
          15.329999999999998,
          7.52,
          7.81,
          17.16,
          2.79,
          26.509999999999998,
          3.76,
          22.75,
          143.7,
          1.16,
          136.76,
          5.78,
          8.96,
          29.49,
          1.93,
          33.06,
          12.63,
          20.43,
          2.02,
          37.59,
          37.2,
          2.22,
          7.71,
          181.29,
          54.37,
          11.28,
          9.54,
          1.54,
          43.089999999999996,
          17.93,
          9.73,
          2.22,
          12.05,
          1.16,
          13.01,
          4.72,
          8.29,
          2.6,
          1.73,
          1.73,
          1.64,
          5.2,
          0.96,
          4603.8099999999995,
          9.91,
          6.61,
          62.56,
          2.53,
          15.35,
          1069.78,
          25.65,
          38.47,
          21.76,
          15.54,
          2.14,
          3.89,
          36.72,
          127.46,
          56.73,
          130.37,
          48.77,
          51.29,
          28.76,
          60.43,
          12.43,
          34,
          19.04,
          83.74,
          18.46,
          13.6,
          83.35,
          286,
          37.11,
          7.58,
          136.39,
          20.21,
          20.21,
          96.76,
          230.43,
          1536.6799999999998,
          14.18,
          259.58,
          1177.03,
          703.54,
          166.51,
          532.75,
          391.89,
          140.86,
          4.27,
          372.07,
          165.54,
          202.84,
          2.33,
          76.16,
          6.8,
          18.46,
          35.37,
          17.49,
          17.88,
          50.52,
          4.86,
          75.97,
          7.58,
          68.39,
          361.77,
          344.68,
          15.54,
          25.06,
          82.38,
          4.66,
          30.509999999999998,
          4.47,
          26.04,
          5.83,
          103.17,
          101.81,
          3.3,
          18.46,
          507.69,
          123.19,
          22.93,
          20.98,
          100.26,
          68.59,
          24.09,
          2.33,
          3.69,
          19.63,
          4.86,
          14.77,
          8.74,
          3.3,
          14620.250000000002,
          28.62,
          16.42,
          154.83,
          28.15,
          1679.21,
          39.88,
          33.78,
          20.64,
          23.93,
          7.98,
          92.9,
          225.68,
          121.99,
          225.68,
          90.08,
          85.86,
          47.86,
          159.99,
          19.71,
          39.41,
          20.17,
          169.84,
          33.78,
          24.87,
          109.79,
          304.97,
          89.61,
          30.97,
          282.45,
          133.72,
          132.78,
          242.57,
          1386.91,
          6303.96,
          68.5,
          1166.39,
          4741.1,
          2362.34,
          433.53,
          1912.8600000000001,
          1515.93,
          396.93,
          15.95,
          1849.99,
          978.72,
          863.3,
          4.69,
          403.5,
          17.83,
          107.44,
          99.47,
          54.89,
          44.57,
          228.49,
          13.61,
          302.15000000000003,
          22.05,
          280.1,
          730.99,
          5.63,
          695.33,
          26.74,
          118.7,
          173.6,
          15.95,
          22.99,
          20.17,
          22.99,
          290.42,
          286.67,
          92.43,
          2041.89,
          392.24,
          23.46,
          21.58,
          368.78,
          290.89,
          68.5,
          16.89,
          13.14,
          7.04,
          10.79,
          6.57,
          147.07,
          0.76,
          0.76,
          7.62,
          0.91,
          2.52,
          0.91,
          1.07,
          1.91,
          11.97,
          1.07,
          10.06,
          2.52,
          0.99,
          1.45,
          0.76,
          5.49,
          4.8,
          1.75,
          1.6,
          1.14,
          1.37,
          1.22,
          2.67,
          2.13,
          1.3,
          1.3,
          0.91,
          2.97,
          14.79,
          57.03,
          14.49,
          14.18,
          42.54,
          2.97,
          37.74,
          0.91,
          19.22,
          9.38,
          9.84,
          15.71,
          2.9,
          12.81,
          6.48,
          6.33,
          211.29000000000002,
          1.2,
          0.86,
          26.67,
          2.49,
          0.86,
          3.34,
          5.83,
          2.4,
          1.29,
          1.2,
          2.57,
          1.63,
          2.14,
          5.23,
          36.36,
          3.34,
          30.87,
          13.469999999999999,
          4.46,
          9.01,
          4.12,
          4.89,
          9.52,
          1.97,
          6.77,
          7.37,
          1.03,
          0.86,
          1.11,
          1.11,
          2.4,
          2.06,
          1.54,
          1.29,
          9.690000000000001,
          6.69,
          3,
          2.74,
          2.66,
          1.03,
          1.03,
          1.03,
          3.09,
          23.75,
          60.37,
          12.26,
          11.58,
          48.11,
          2.74,
          43.05,
          1.11,
          18.61,
          10.46,
          8.15,
          8.06,
          1.37,
          6.69,
          6.26,
          6.26,
          18.37,
          2.19,
          2.4,
          4.81,
          6.78,
          3.06,
          3.06,
          3.72,
          2.19,
          12.78,
          1.75,
          0.84,
          1.09,
          0.84,
          1.25,
          1.75,
          3.8499999999999996,
          2.26,
          2.09,
          1.59,
          2.17,
          1.59,
          0.92,
          60.46999999999999,
          2.64,
          0.83,
          0.83,
          2.64,
          2.34,
          1.88,
          1.51,
          0.75,
          0.98,
          0.98,
          0.83,
          1.21,
          4.07,
          21.79,
          11.38,
          11.08,
          10.4,
          8.07,
          0.98,
          13.27,
          7.62,
          5.65,
          10.03,
          9.58,
          2.26,
          2.11,
          598.07,
          10.09,
          337.56,
          105.49,
          55.04,
          9.17,
          70.63,
          68.8,
          67.88,
          10.09,
          10.09
         ]
        }
       ],
       "layout": {
        "autosize": false,
        "height": 1050,
        "margin": {
         "b": 0,
         "l": 0,
         "pad": 0,
         "r": 0,
         "t": 0
        },
        "template": {
         "data": {
          "bar": [
           {
            "error_x": {
             "color": "#2a3f5f"
            },
            "error_y": {
             "color": "#2a3f5f"
            },
            "marker": {
             "line": {
              "color": "#E5ECF6",
              "width": 0.5
             },
             "pattern": {
              "fillmode": "overlay",
              "size": 10,
              "solidity": 0.2
             }
            },
            "type": "bar"
           }
          ],
          "barpolar": [
           {
            "marker": {
             "line": {
              "color": "#E5ECF6",
              "width": 0.5
             },
             "pattern": {
              "fillmode": "overlay",
              "size": 10,
              "solidity": 0.2
             }
            },
            "type": "barpolar"
           }
          ],
          "carpet": [
           {
            "aaxis": {
             "endlinecolor": "#2a3f5f",
             "gridcolor": "white",
             "linecolor": "white",
             "minorgridcolor": "white",
             "startlinecolor": "#2a3f5f"
            },
            "baxis": {
             "endlinecolor": "#2a3f5f",
             "gridcolor": "white",
             "linecolor": "white",
             "minorgridcolor": "white",
             "startlinecolor": "#2a3f5f"
            },
            "type": "carpet"
           }
          ],
          "choropleth": [
           {
            "colorbar": {
             "outlinewidth": 0,
             "ticks": ""
            },
            "type": "choropleth"
           }
          ],
          "contour": [
           {
            "colorbar": {
             "outlinewidth": 0,
             "ticks": ""
            },
            "colorscale": [
             [
              0,
              "#0d0887"
             ],
             [
              0.1111111111111111,
              "#46039f"
             ],
             [
              0.2222222222222222,
              "#7201a8"
             ],
             [
              0.3333333333333333,
              "#9c179e"
             ],
             [
              0.4444444444444444,
              "#bd3786"
             ],
             [
              0.5555555555555556,
              "#d8576b"
             ],
             [
              0.6666666666666666,
              "#ed7953"
             ],
             [
              0.7777777777777778,
              "#fb9f3a"
             ],
             [
              0.8888888888888888,
              "#fdca26"
             ],
             [
              1,
              "#f0f921"
             ]
            ],
            "type": "contour"
           }
          ],
          "contourcarpet": [
           {
            "colorbar": {
             "outlinewidth": 0,
             "ticks": ""
            },
            "type": "contourcarpet"
           }
          ],
          "heatmap": [
           {
            "colorbar": {
             "outlinewidth": 0,
             "ticks": ""
            },
            "colorscale": [
             [
              0,
              "#0d0887"
             ],
             [
              0.1111111111111111,
              "#46039f"
             ],
             [
              0.2222222222222222,
              "#7201a8"
             ],
             [
              0.3333333333333333,
              "#9c179e"
             ],
             [
              0.4444444444444444,
              "#bd3786"
             ],
             [
              0.5555555555555556,
              "#d8576b"
             ],
             [
              0.6666666666666666,
              "#ed7953"
             ],
             [
              0.7777777777777778,
              "#fb9f3a"
             ],
             [
              0.8888888888888888,
              "#fdca26"
             ],
             [
              1,
              "#f0f921"
             ]
            ],
            "type": "heatmap"
           }
          ],
          "heatmapgl": [
           {
            "colorbar": {
             "outlinewidth": 0,
             "ticks": ""
            },
            "colorscale": [
             [
              0,
              "#0d0887"
             ],
             [
              0.1111111111111111,
              "#46039f"
             ],
             [
              0.2222222222222222,
              "#7201a8"
             ],
             [
              0.3333333333333333,
              "#9c179e"
             ],
             [
              0.4444444444444444,
              "#bd3786"
             ],
             [
              0.5555555555555556,
              "#d8576b"
             ],
             [
              0.6666666666666666,
              "#ed7953"
             ],
             [
              0.7777777777777778,
              "#fb9f3a"
             ],
             [
              0.8888888888888888,
              "#fdca26"
             ],
             [
              1,
              "#f0f921"
             ]
            ],
            "type": "heatmapgl"
           }
          ],
          "histogram": [
           {
            "marker": {
             "pattern": {
              "fillmode": "overlay",
              "size": 10,
              "solidity": 0.2
             }
            },
            "type": "histogram"
           }
          ],
          "histogram2d": [
           {
            "colorbar": {
             "outlinewidth": 0,
             "ticks": ""
            },
            "colorscale": [
             [
              0,
              "#0d0887"
             ],
             [
              0.1111111111111111,
              "#46039f"
             ],
             [
              0.2222222222222222,
              "#7201a8"
             ],
             [
              0.3333333333333333,
              "#9c179e"
             ],
             [
              0.4444444444444444,
              "#bd3786"
             ],
             [
              0.5555555555555556,
              "#d8576b"
             ],
             [
              0.6666666666666666,
              "#ed7953"
             ],
             [
              0.7777777777777778,
              "#fb9f3a"
             ],
             [
              0.8888888888888888,
              "#fdca26"
             ],
             [
              1,
              "#f0f921"
             ]
            ],
            "type": "histogram2d"
           }
          ],
          "histogram2dcontour": [
           {
            "colorbar": {
             "outlinewidth": 0,
             "ticks": ""
            },
            "colorscale": [
             [
              0,
              "#0d0887"
             ],
             [
              0.1111111111111111,
              "#46039f"
             ],
             [
              0.2222222222222222,
              "#7201a8"
             ],
             [
              0.3333333333333333,
              "#9c179e"
             ],
             [
              0.4444444444444444,
              "#bd3786"
             ],
             [
              0.5555555555555556,
              "#d8576b"
             ],
             [
              0.6666666666666666,
              "#ed7953"
             ],
             [
              0.7777777777777778,
              "#fb9f3a"
             ],
             [
              0.8888888888888888,
              "#fdca26"
             ],
             [
              1,
              "#f0f921"
             ]
            ],
            "type": "histogram2dcontour"
           }
          ],
          "mesh3d": [
           {
            "colorbar": {
             "outlinewidth": 0,
             "ticks": ""
            },
            "type": "mesh3d"
           }
          ],
          "parcoords": [
           {
            "line": {
             "colorbar": {
              "outlinewidth": 0,
              "ticks": ""
             }
            },
            "type": "parcoords"
           }
          ],
          "pie": [
           {
            "automargin": true,
            "type": "pie"
           }
          ],
          "scatter": [
           {
            "marker": {
             "colorbar": {
              "outlinewidth": 0,
              "ticks": ""
             }
            },
            "type": "scatter"
           }
          ],
          "scatter3d": [
           {
            "line": {
             "colorbar": {
              "outlinewidth": 0,
              "ticks": ""
             }
            },
            "marker": {
             "colorbar": {
              "outlinewidth": 0,
              "ticks": ""
             }
            },
            "type": "scatter3d"
           }
          ],
          "scattercarpet": [
           {
            "marker": {
             "colorbar": {
              "outlinewidth": 0,
              "ticks": ""
             }
            },
            "type": "scattercarpet"
           }
          ],
          "scattergeo": [
           {
            "marker": {
             "colorbar": {
              "outlinewidth": 0,
              "ticks": ""
             }
            },
            "type": "scattergeo"
           }
          ],
          "scattergl": [
           {
            "marker": {
             "colorbar": {
              "outlinewidth": 0,
              "ticks": ""
             }
            },
            "type": "scattergl"
           }
          ],
          "scattermapbox": [
           {
            "marker": {
             "colorbar": {
              "outlinewidth": 0,
              "ticks": ""
             }
            },
            "type": "scattermapbox"
           }
          ],
          "scatterpolar": [
           {
            "marker": {
             "colorbar": {
              "outlinewidth": 0,
              "ticks": ""
             }
            },
            "type": "scatterpolar"
           }
          ],
          "scatterpolargl": [
           {
            "marker": {
             "colorbar": {
              "outlinewidth": 0,
              "ticks": ""
             }
            },
            "type": "scatterpolargl"
           }
          ],
          "scatterternary": [
           {
            "marker": {
             "colorbar": {
              "outlinewidth": 0,
              "ticks": ""
             }
            },
            "type": "scatterternary"
           }
          ],
          "surface": [
           {
            "colorbar": {
             "outlinewidth": 0,
             "ticks": ""
            },
            "colorscale": [
             [
              0,
              "#0d0887"
             ],
             [
              0.1111111111111111,
              "#46039f"
             ],
             [
              0.2222222222222222,
              "#7201a8"
             ],
             [
              0.3333333333333333,
              "#9c179e"
             ],
             [
              0.4444444444444444,
              "#bd3786"
             ],
             [
              0.5555555555555556,
              "#d8576b"
             ],
             [
              0.6666666666666666,
              "#ed7953"
             ],
             [
              0.7777777777777778,
              "#fb9f3a"
             ],
             [
              0.8888888888888888,
              "#fdca26"
             ],
             [
              1,
              "#f0f921"
             ]
            ],
            "type": "surface"
           }
          ],
          "table": [
           {
            "cells": {
             "fill": {
              "color": "#EBF0F8"
             },
             "line": {
              "color": "white"
             }
            },
            "header": {
             "fill": {
              "color": "#C8D4E3"
             },
             "line": {
              "color": "white"
             }
            },
            "type": "table"
           }
          ]
         },
         "layout": {
          "annotationdefaults": {
           "arrowcolor": "#2a3f5f",
           "arrowhead": 0,
           "arrowwidth": 1
          },
          "autotypenumbers": "strict",
          "coloraxis": {
           "colorbar": {
            "outlinewidth": 0,
            "ticks": ""
           }
          },
          "colorscale": {
           "diverging": [
            [
             0,
             "#8e0152"
            ],
            [
             0.1,
             "#c51b7d"
            ],
            [
             0.2,
             "#de77ae"
            ],
            [
             0.3,
             "#f1b6da"
            ],
            [
             0.4,
             "#fde0ef"
            ],
            [
             0.5,
             "#f7f7f7"
            ],
            [
             0.6,
             "#e6f5d0"
            ],
            [
             0.7,
             "#b8e186"
            ],
            [
             0.8,
             "#7fbc41"
            ],
            [
             0.9,
             "#4d9221"
            ],
            [
             1,
             "#276419"
            ]
           ],
           "sequential": [
            [
             0,
             "#0d0887"
            ],
            [
             0.1111111111111111,
             "#46039f"
            ],
            [
             0.2222222222222222,
             "#7201a8"
            ],
            [
             0.3333333333333333,
             "#9c179e"
            ],
            [
             0.4444444444444444,
             "#bd3786"
            ],
            [
             0.5555555555555556,
             "#d8576b"
            ],
            [
             0.6666666666666666,
             "#ed7953"
            ],
            [
             0.7777777777777778,
             "#fb9f3a"
            ],
            [
             0.8888888888888888,
             "#fdca26"
            ],
            [
             1,
             "#f0f921"
            ]
           ],
           "sequentialminus": [
            [
             0,
             "#0d0887"
            ],
            [
             0.1111111111111111,
             "#46039f"
            ],
            [
             0.2222222222222222,
             "#7201a8"
            ],
            [
             0.3333333333333333,
             "#9c179e"
            ],
            [
             0.4444444444444444,
             "#bd3786"
            ],
            [
             0.5555555555555556,
             "#d8576b"
            ],
            [
             0.6666666666666666,
             "#ed7953"
            ],
            [
             0.7777777777777778,
             "#fb9f3a"
            ],
            [
             0.8888888888888888,
             "#fdca26"
            ],
            [
             1,
             "#f0f921"
            ]
           ]
          },
          "colorway": [
           "#636efa",
           "#EF553B",
           "#00cc96",
           "#ab63fa",
           "#FFA15A",
           "#19d3f3",
           "#FF6692",
           "#B6E880",
           "#FF97FF",
           "#FECB52"
          ],
          "font": {
           "color": "#2a3f5f"
          },
          "geo": {
           "bgcolor": "white",
           "lakecolor": "white",
           "landcolor": "#E5ECF6",
           "showlakes": true,
           "showland": true,
           "subunitcolor": "white"
          },
          "hoverlabel": {
           "align": "left"
          },
          "hovermode": "closest",
          "mapbox": {
           "style": "light"
          },
          "paper_bgcolor": "white",
          "plot_bgcolor": "#E5ECF6",
          "polar": {
           "angularaxis": {
            "gridcolor": "white",
            "linecolor": "white",
            "ticks": ""
           },
           "bgcolor": "#E5ECF6",
           "radialaxis": {
            "gridcolor": "white",
            "linecolor": "white",
            "ticks": ""
           }
          },
          "scene": {
           "xaxis": {
            "backgroundcolor": "#E5ECF6",
            "gridcolor": "white",
            "gridwidth": 2,
            "linecolor": "white",
            "showbackground": true,
            "ticks": "",
            "zerolinecolor": "white"
           },
           "yaxis": {
            "backgroundcolor": "#E5ECF6",
            "gridcolor": "white",
            "gridwidth": 2,
            "linecolor": "white",
            "showbackground": true,
            "ticks": "",
            "zerolinecolor": "white"
           },
           "zaxis": {
            "backgroundcolor": "#E5ECF6",
            "gridcolor": "white",
            "gridwidth": 2,
            "linecolor": "white",
            "showbackground": true,
            "ticks": "",
            "zerolinecolor": "white"
           }
          },
          "shapedefaults": {
           "line": {
            "color": "#2a3f5f"
           }
          },
          "ternary": {
           "aaxis": {
            "gridcolor": "white",
            "linecolor": "white",
            "ticks": ""
           },
           "baxis": {
            "gridcolor": "white",
            "linecolor": "white",
            "ticks": ""
           },
           "bgcolor": "#E5ECF6",
           "caxis": {
            "gridcolor": "white",
            "linecolor": "white",
            "ticks": ""
           }
          },
          "title": {
           "x": 0.05
          },
          "xaxis": {
           "automargin": true,
           "gridcolor": "white",
           "linecolor": "white",
           "ticks": "",
           "title": {
            "standoff": 15
           },
           "zerolinecolor": "white",
           "zerolinewidth": 2
          },
          "yaxis": {
           "automargin": true,
           "gridcolor": "white",
           "linecolor": "white",
           "ticks": "",
           "title": {
            "standoff": 15
           },
           "zerolinecolor": "white",
           "zerolinewidth": 2
          }
         }
        },
        "width": 2100
       }
      }
     },
     "metadata": {},
     "output_type": "display_data"
    }
   ],
   "source": [
    "fig = go.Figure(go.Sunburst(\n",
    "    branchvalues = \"total\",\n",
    "    labels = final_labels,\n",
    "    parents =  final_parents,\n",
    "    values=final_values,\n",
    "))\n",
    "\n",
    "fig.update_layout(margin = dict(t=50, l=25, r=25, b=25))\n",
    "\n",
    "\n",
    "fig.update_layout(\n",
    "    autosize=False,\n",
    "    width=2100,\n",
    "    height=1050,\n",
    "    margin=dict(\n",
    "        l=0,\n",
    "        r=0,\n",
    "        b=0,\n",
    "        t=0,\n",
    "        pad=0\n",
    "    ),\n",
    ")\n",
    "\n",
    "fig.show()"
   ]
  },
  {
   "cell_type": "markdown",
   "metadata": {},
   "source": [
    "#here"
   ]
  },
  {
   "cell_type": "code",
   "execution_count": 125,
   "metadata": {},
   "outputs": [],
   "source": [
    "def load_state_cod(state, age_group = '75-84'):\n",
    "    df = pd.read_csv(r\"data/Life/Deaths/StateDeathsAge.txt\", delimiter=\"\t\", na_values = ['Not Applicable'])\n",
    "    df = df.dropna(subset=[\"State\",\"ICD-10 113 Cause List Code\", \"Population\"]) \n",
    "    state_df= df[df[\"State\"] == state]\n",
    "    state_df = state_df[state_df[\"Ten-Year Age Groups Code\"] =='75-84']\n",
    "    state_df[\"Rate\"] = (state_df[\"Deaths\"] / state_df[\"Population\"])*100000\n",
    "    state_df[\"Rate\"] = np.round(state_df[\"Rate\"], 2)\n",
    "    state_df[\"Child_Adj_Rate\"] = state_df[\"Rate\"]\n",
    "    \n",
    "    state_df[\"Parent\"] = \"\"\n",
    "    state_df[\"Children\"] = \"\"\n",
    "    state_df[\"Common Name\"] = \"\"\n",
    "    \n",
    "    \n",
    "    f = open(\"icd-10-flat-Structure.json\")\n",
    "    flat_heirarchy = json.load(f)\n",
    "\n",
    "    targets =[]\n",
    "    sources = []\n",
    "    values = []\n",
    "\n",
    "    sources.append(\"\")\n",
    "    targets.append(\"All\")\n",
    "    values.append(0)\n",
    "    values.extend(list(state_df.Rate))\n",
    "    \n",
    "\n",
    "\n",
    "    for i, row in state_df.iterrows():\n",
    "        try:\n",
    "            structure = flat_heirarchy[row[\"ICD-10 113 Cause List\"]]\n",
    "            state_df.at[i, \"Common Name\"] = structure[\"common_name\"]\n",
    "            targets.append(structure[\"common_name\"])\n",
    "            structure[\"Rate\"] = row[\"Rate\"]\n",
    "            \n",
    "            if len(structure[\"parents\"])  == 1:\n",
    "                parent = flat_heirarchy[structure[\"parents\"][0]][\"common_name\"]\n",
    "                state_df.loc[i, \"Parent\"] = parent\n",
    "                sources.append(parent)\n",
    "            else:\n",
    "                state_df.loc[i, \"Parent\"] = \"All\"\n",
    "                sources.append(\"All\")\n",
    "        except Exception as e:\n",
    "            print(e)\n",
    "        if len(structure[\"children\"]) > 0:\n",
    "            state_df.at[i, \"Children\"] = structure[\"children\"]\n",
    "             \n",
    "    for i, source in enumerate(sources):\n",
    "        if source == \"\":\n",
    "            None\n",
    "        else:\n",
    "            try:\n",
    "                parent_index = targets.index(source)\n",
    "                values[parent_index] = max( values[parent_index] - values[i],0)\n",
    "                state_df.loc[state_df['Common Name'] == targets[parent_index], 'Child_Adj_Rate'] = values[parent_index]\n",
    "                \n",
    "            except:\n",
    "                values[i] = max(values[i],0)\n",
    "                state_df.loc[state_df['Common Name'] == targets[parent_index], 'Child_Adj_Rate'] = values[i]\n",
    "                \n",
    "    values[0] = 5000\n",
    "    size = 50\n",
    "    plot_dict = {\"values\":values[:size], \"targets\":targets[:size], \"parents\":sources[:size]}\n",
    "    return state_df, plot_dict"
   ]
  },
  {
   "cell_type": "code",
   "execution_count": 126,
   "metadata": {},
   "outputs": [],
   "source": [
    "df, plot_dic = load_state_cod(\"Kentucky\")"
   ]
  },
  {
   "cell_type": "code",
   "execution_count": null,
   "metadata": {},
   "outputs": [],
   "source": []
  }
 ],
 "metadata": {
  "kernelspec": {
   "display_name": "real-fast",
   "language": "python",
   "name": "python3"
  },
  "language_info": {
   "codemirror_mode": {
    "name": "ipython",
    "version": 3
   },
   "file_extension": ".py",
   "mimetype": "text/x-python",
   "name": "python",
   "nbconvert_exporter": "python",
   "pygments_lexer": "ipython3",
   "version": "3.8.4"
  },
  "orig_nbformat": 4
 },
 "nbformat": 4,
 "nbformat_minor": 2
}
