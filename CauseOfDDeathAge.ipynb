{
 "cells": [
  {
   "cell_type": "code",
   "execution_count": 1,
   "metadata": {},
   "outputs": [],
   "source": [
    "import pandas as pd\n",
    "from dash import Dash, html, dcc, callback, Output, Input\n",
    "import censusgeocode as cg\n",
    "import plotly.figure_factory as ff\n",
    "from urllib.request import urlopen\n",
    "import json\n",
    "import plotly.express as px\n",
    "import plotly.graph_objects as go\n",
    "import numpy as np\n",
    "from sklearn.linear_model import LinearRegression\n",
    "from Partisian import get_state_part_score\n",
    "from Life import get_age_life_fig, get_state_age_life_exp\n",
    "from sklearn.neighbors import KNeighborsClassifier\n",
    "from plotly.subplots import make_subplots\n",
    "import math\n",
    "from LifeData import LifeData\n",
    "import Partisian\n",
    "from sklearn.linear_model import LinearRegression\n",
    "import addfips\n"
   ]
  },
  {
   "cell_type": "code",
   "execution_count": 2,
   "metadata": {},
   "outputs": [
    {
     "data": {
      "text/plain": [
       "{'Alaska': 'AK',\n",
       " 'Alabama': 'AL',\n",
       " 'Arkansas': 'AR',\n",
       " 'American Samoa': 'AS',\n",
       " 'Arizona': 'AZ',\n",
       " 'California': 'CA',\n",
       " 'Colorado': 'CO',\n",
       " 'Connecticut': 'CT',\n",
       " 'District of Columbia': 'DC',\n",
       " 'Delaware': 'DE',\n",
       " 'Florida': 'FL',\n",
       " 'Georgia': 'GA',\n",
       " 'Guam': 'GU',\n",
       " 'Hawaii': 'HI',\n",
       " 'Iowa': 'IA',\n",
       " 'Idaho': 'ID',\n",
       " 'Illinois': 'IL',\n",
       " 'Indiana': 'IN',\n",
       " 'Kansas': 'KS',\n",
       " 'Kentucky': 'KY',\n",
       " 'Louisiana': 'LA',\n",
       " 'Massachusetts': 'MA',\n",
       " 'Maryland': 'MD',\n",
       " 'Maine': 'ME',\n",
       " 'Michigan': 'MI',\n",
       " 'Minnesota': 'MN',\n",
       " 'Missouri': 'MO',\n",
       " 'Northern Mariana Islands': 'MP',\n",
       " 'Mississippi': 'MS',\n",
       " 'Montana': 'MT',\n",
       " 'National': 'NA',\n",
       " 'North Carolina': 'NC',\n",
       " 'North Dakota': 'ND',\n",
       " 'Nebraska': 'NE',\n",
       " 'New Hampshire': 'NH',\n",
       " 'New Jersey': 'NJ',\n",
       " 'New Mexico': 'NM',\n",
       " 'Nevada': 'NV',\n",
       " 'New York': 'NY',\n",
       " 'Ohio': 'OH',\n",
       " 'Oklahoma': 'OK',\n",
       " 'Oregon': 'OR',\n",
       " 'Pennsylvania': 'PA',\n",
       " 'Puerto Rico': 'PR',\n",
       " 'Rhode Island': 'RI',\n",
       " 'South Carolina': 'SC',\n",
       " 'South Dakota': 'SD',\n",
       " 'Tennessee': 'TN',\n",
       " 'Texas': 'TX',\n",
       " 'Utah': 'UT',\n",
       " 'Virginia': 'VA',\n",
       " 'Virgin Islands': 'VI',\n",
       " 'Vermont': 'VT',\n",
       " 'Washington': 'WA',\n",
       " 'Wisconsin': 'WI',\n",
       " 'West Virginia': 'WV',\n",
       " 'Wyoming': 'WY'}"
      ]
     },
     "execution_count": 2,
     "metadata": {},
     "output_type": "execute_result"
    }
   ],
   "source": [
    "states = { 'AK': 'Alaska', 'AL': 'Alabama', 'AR': 'Arkansas', 'AS': 'American Samoa', 'AZ': 'Arizona', 'CA': 'California', 'CO': 'Colorado', 'CT': 'Connecticut', 'DC': 'District of Columbia', 'DE': 'Delaware', 'FL': 'Florida', 'GA': 'Georgia', 'GU': 'Guam', 'HI': 'Hawaii', 'IA': 'Iowa', 'ID': 'Idaho', 'IL': 'Illinois', 'IN': 'Indiana', 'KS': 'Kansas', 'KY': 'Kentucky', 'LA': 'Louisiana', 'MA': 'Massachusetts', 'MD': 'Maryland', 'ME': 'Maine', 'MI': 'Michigan', 'MN': 'Minnesota', 'MO': 'Missouri', 'MP': 'Northern Mariana Islands', 'MS': 'Mississippi', 'MT': 'Montana', 'NA': 'National', 'NC': 'North Carolina', 'ND': 'North Dakota', 'NE': 'Nebraska', 'NH': 'New Hampshire', 'NJ': 'New Jersey', 'NM': 'New Mexico', 'NV': 'Nevada', 'NY': 'New York', 'OH': 'Ohio', 'OK': 'Oklahoma', 'OR': 'Oregon', 'PA': 'Pennsylvania', 'PR': 'Puerto Rico', 'RI': 'Rhode Island', 'SC': 'South Carolina', 'SD': 'South Dakota', 'TN': 'Tennessee', 'TX': 'Texas', 'UT': 'Utah', 'VA': 'Virginia', 'VI': 'Virgin Islands', 'VT': 'Vermont', 'WA': 'Washington', 'WI': 'Wisconsin', 'WV': 'West Virginia', 'WY': 'Wyoming'\n",
    "}\n",
    "\n",
    "\n",
    "states = {v: k for k, v in states.items()}\n",
    "states\n"
   ]
  },
  {
   "cell_type": "code",
   "execution_count": 3,
   "metadata": {},
   "outputs": [],
   "source": [
    "def translate_ICD10(x, conversion):\n",
    "    try:\n",
    "        return conversion[x]\n",
    "    except:\n",
    "        return x\n",
    "    \n",
    "    \n",
    "\n",
    "\n",
    "\n",
    "def clean_state_data(df):\n",
    "    af = addfips.AddFIPS()\n",
    "    try:\n",
    "        df = df.dropna(subset=[\"State\",\"ICD-10 113 Cause List Code\", \"Population\"])\n",
    "    except: \n",
    "        df = df.dropna(subset=[\"State\", \"Population\"])\n",
    "    #df = df[df[\"Crude Rate\"] != \"Unreliable\"]\n",
    "    df.Population = df.Population.astype(float)\n",
    "    df[\"Rate\"] = (df[\"Deaths\"]/df[\"Population\"])*100000\n",
    "    df[\"Rate\"] = df[\"Rate\"].round(2)\n",
    "    df[\"fips\"] = df.apply(lambda x: af.get_state_fips(x[\"State\"]), axis=1)\n",
    "    df[\"Year\"] = 2019\n",
    "    df[\"State_Abv\"] = df.apply(lambda x: states[x[\"State\"]], axis=1)\n",
    "    df = df.sort_values(by=[\"Rate\"], ascending=False)\n",
    "    df.drop(columns=[\"Notes\", \"State Code\", ], inplace=True)\n",
    "   \n",
    "    try:\n",
    "        f = open(\"data/Life/Deaths/ICD10Translation.json\")\n",
    "        translation = json.load(f)\n",
    "        df[\"ICD-10 Common\"] = df[\"ICD-10 113 Cause List\"].apply(lambda x: translate_ICD10(x, translation))\n",
    "        df.rename(columns={\"ICD-10 Common\":\"Cause Of Death\"}, inplace=True)\n",
    "    except:\n",
    "        None\n",
    "    return df\n",
    "    \n",
    "\n",
    "\n",
    "def top_n(df, n):\n",
    "    #Filter out low occuring chapters\n",
    "    df = df.groupby(\"ICD-10 113 Cause List Code\").filter(lambda x: len(x)>1)\n",
    "    df = df.sort_values(by = [\"Rate\"], ascending = False)\n",
    "    df = df.head(n).copy()\n",
    "    top_codes = list(df[\"ICD-10 113 Cause List Code\"].unique())\n",
    "    df = df[df[\"ICD-10 113 Cause List Code\"].isin(top_codes)]\n",
    "    return df\n",
    "\n",
    "\n",
    "firearms = pd.read_csv(r\"data/Life/Deaths/FireArmState.txt\", delimiter=\"\t\", na_values = ['Not Applicable'])\n",
    "df = pd.read_csv(r\"data/Life/Deaths/StateDeathsAge.txt\", delimiter=\"\t\", na_values = ['Not Applicable'])\n",
    "state_pop = pd.read_csv(r\"data/Life/Deaths/State_Pop.txt\", delimiter=\"\t\", na_values = ['Not Applicable'])\n",
    "yearly_pop = pd.read_csv(r\"data/Life/Deaths/2019State1YearPop.txt\", delimiter=\"\t\", na_values = ['Not Applicable'])\n",
    "state_deaths = pd.read_csv(r\"data/Life/Deaths/2019StateDeaths.txt\", delimiter=\"\t\", na_values = ['Not Applicable'])\n",
    "\n",
    "\n",
    "df = clean_state_data(df)\n",
    "firearms = clean_state_data(firearms)\n",
    "state_pop = clean_state_data(state_pop)\n",
    "yearly_pop = clean_state_data(yearly_pop)\n",
    "state_deaths = clean_state_data(state_deaths)\n",
    "state_pop[\"Total Pop\"] = state_pop[\"Population\"]\n",
    "\n",
    "#top_df = top_n(df, 5)\n",
    "#county = df.groupby(by=[\"2006 Urbanization Code\", \"ICD Sub-Chapter\"]).mean().reset_index().sort_values(by=[\"Rate\"], ascending=False)\n",
    "state_pop.sample(5)\n",
    "firearms = firearms.merge(state_pop[[\"State\", \"Total Pop\"]], left_on=\"State\",right_on=\"State\")"
   ]
  },
  {
   "cell_type": "code",
   "execution_count": 4,
   "metadata": {},
   "outputs": [
    {
     "data": {
      "text/html": [
       "<div>\n",
       "<style scoped>\n",
       "    .dataframe tbody tr th:only-of-type {\n",
       "        vertical-align: middle;\n",
       "    }\n",
       "\n",
       "    .dataframe tbody tr th {\n",
       "        vertical-align: top;\n",
       "    }\n",
       "\n",
       "    .dataframe thead th {\n",
       "        text-align: right;\n",
       "    }\n",
       "</style>\n",
       "<table border=\"1\" class=\"dataframe\">\n",
       "  <thead>\n",
       "    <tr style=\"text-align: right;\">\n",
       "      <th></th>\n",
       "      <th>State</th>\n",
       "      <th>Ten-Year Age Groups</th>\n",
       "      <th>Ten-Year Age Groups Code</th>\n",
       "      <th>Deaths</th>\n",
       "      <th>Population</th>\n",
       "      <th>Crude Rate</th>\n",
       "      <th>Rate</th>\n",
       "      <th>fips</th>\n",
       "      <th>Year</th>\n",
       "      <th>State_Abv</th>\n",
       "    </tr>\n",
       "  </thead>\n",
       "  <tbody>\n",
       "    <tr>\n",
       "      <th>142</th>\n",
       "      <td>Idaho</td>\n",
       "      <td>85+ years</td>\n",
       "      <td>85+</td>\n",
       "      <td>4511.0</td>\n",
       "      <td>29774.0</td>\n",
       "      <td>15150.8</td>\n",
       "      <td>15150.80</td>\n",
       "      <td>16</td>\n",
       "      <td>2019</td>\n",
       "      <td>ID</td>\n",
       "    </tr>\n",
       "    <tr>\n",
       "      <th>494</th>\n",
       "      <td>Utah</td>\n",
       "      <td>85+ years</td>\n",
       "      <td>85+</td>\n",
       "      <td>5798.0</td>\n",
       "      <td>38574.0</td>\n",
       "      <td>15030.8</td>\n",
       "      <td>15030.85</td>\n",
       "      <td>49</td>\n",
       "      <td>2019</td>\n",
       "      <td>UT</td>\n",
       "    </tr>\n",
       "    <tr>\n",
       "      <th>536</th>\n",
       "      <td>West Virginia</td>\n",
       "      <td>85+ years</td>\n",
       "      <td>85+</td>\n",
       "      <td>5969.0</td>\n",
       "      <td>40136.0</td>\n",
       "      <td>14871.9</td>\n",
       "      <td>14871.94</td>\n",
       "      <td>54</td>\n",
       "      <td>2019</td>\n",
       "      <td>WV</td>\n",
       "    </tr>\n",
       "    <tr>\n",
       "      <th>547</th>\n",
       "      <td>Wisconsin</td>\n",
       "      <td>85+ years</td>\n",
       "      <td>85+</td>\n",
       "      <td>19013.0</td>\n",
       "      <td>128309.0</td>\n",
       "      <td>14818.1</td>\n",
       "      <td>14818.13</td>\n",
       "      <td>55</td>\n",
       "      <td>2019</td>\n",
       "      <td>WI</td>\n",
       "    </tr>\n",
       "    <tr>\n",
       "      <th>218</th>\n",
       "      <td>Maine</td>\n",
       "      <td>85+ years</td>\n",
       "      <td>85+</td>\n",
       "      <td>4982.0</td>\n",
       "      <td>33800.0</td>\n",
       "      <td>14739.6</td>\n",
       "      <td>14739.64</td>\n",
       "      <td>23</td>\n",
       "      <td>2019</td>\n",
       "      <td>ME</td>\n",
       "    </tr>\n",
       "    <tr>\n",
       "      <th>...</th>\n",
       "      <td>...</td>\n",
       "      <td>...</td>\n",
       "      <td>...</td>\n",
       "      <td>...</td>\n",
       "      <td>...</td>\n",
       "      <td>...</td>\n",
       "      <td>...</td>\n",
       "      <td>...</td>\n",
       "      <td>...</td>\n",
       "      <td>...</td>\n",
       "    </tr>\n",
       "    <tr>\n",
       "      <th>409</th>\n",
       "      <td>Oregon</td>\n",
       "      <td>5-14 years</td>\n",
       "      <td>5-14</td>\n",
       "      <td>49.0</td>\n",
       "      <td>491536.0</td>\n",
       "      <td>10.0</td>\n",
       "      <td>9.97</td>\n",
       "      <td>41</td>\n",
       "      <td>2019</td>\n",
       "      <td>OR</td>\n",
       "    </tr>\n",
       "    <tr>\n",
       "      <th>46</th>\n",
       "      <td>California</td>\n",
       "      <td>5-14 years</td>\n",
       "      <td>5-14</td>\n",
       "      <td>490.0</td>\n",
       "      <td>5007987.0</td>\n",
       "      <td>9.8</td>\n",
       "      <td>9.78</td>\n",
       "      <td>06</td>\n",
       "      <td>2019</td>\n",
       "      <td>CA</td>\n",
       "    </tr>\n",
       "    <tr>\n",
       "      <th>80</th>\n",
       "      <td>Delaware</td>\n",
       "      <td>5-14 years</td>\n",
       "      <td>5-14</td>\n",
       "      <td>11.0</td>\n",
       "      <td>113975.0</td>\n",
       "      <td>Unreliable</td>\n",
       "      <td>9.65</td>\n",
       "      <td>10</td>\n",
       "      <td>2019</td>\n",
       "      <td>DE</td>\n",
       "    </tr>\n",
       "    <tr>\n",
       "      <th>232</th>\n",
       "      <td>Massachusetts</td>\n",
       "      <td>5-14 years</td>\n",
       "      <td>5-14</td>\n",
       "      <td>66.0</td>\n",
       "      <td>751035.0</td>\n",
       "      <td>8.8</td>\n",
       "      <td>8.79</td>\n",
       "      <td>25</td>\n",
       "      <td>2019</td>\n",
       "      <td>MA</td>\n",
       "    </tr>\n",
       "    <tr>\n",
       "      <th>69</th>\n",
       "      <td>Connecticut</td>\n",
       "      <td>5-14 years</td>\n",
       "      <td>5-14</td>\n",
       "      <td>35.0</td>\n",
       "      <td>409000.0</td>\n",
       "      <td>8.6</td>\n",
       "      <td>8.56</td>\n",
       "      <td>09</td>\n",
       "      <td>2019</td>\n",
       "      <td>CT</td>\n",
       "    </tr>\n",
       "  </tbody>\n",
       "</table>\n",
       "<p>555 rows × 10 columns</p>\n",
       "</div>"
      ],
      "text/plain": [
       "             State Ten-Year Age Groups Ten-Year Age Groups Code   Deaths  \\\n",
       "142          Idaho           85+ years                      85+   4511.0   \n",
       "494           Utah           85+ years                      85+   5798.0   \n",
       "536  West Virginia           85+ years                      85+   5969.0   \n",
       "547      Wisconsin           85+ years                      85+  19013.0   \n",
       "218          Maine           85+ years                      85+   4982.0   \n",
       "..             ...                 ...                      ...      ...   \n",
       "409         Oregon          5-14 years                     5-14     49.0   \n",
       "46      California          5-14 years                     5-14    490.0   \n",
       "80        Delaware          5-14 years                     5-14     11.0   \n",
       "232  Massachusetts          5-14 years                     5-14     66.0   \n",
       "69     Connecticut          5-14 years                     5-14     35.0   \n",
       "\n",
       "     Population  Crude Rate      Rate fips  Year State_Abv  \n",
       "142     29774.0     15150.8  15150.80   16  2019        ID  \n",
       "494     38574.0     15030.8  15030.85   49  2019        UT  \n",
       "536     40136.0     14871.9  14871.94   54  2019        WV  \n",
       "547    128309.0     14818.1  14818.13   55  2019        WI  \n",
       "218     33800.0     14739.6  14739.64   23  2019        ME  \n",
       "..          ...         ...       ...  ...   ...       ...  \n",
       "409    491536.0        10.0      9.97   41  2019        OR  \n",
       "46    5007987.0         9.8      9.78   06  2019        CA  \n",
       "80     113975.0  Unreliable      9.65   10  2019        DE  \n",
       "232    751035.0         8.8      8.79   25  2019        MA  \n",
       "69     409000.0         8.6      8.56   09  2019        CT  \n",
       "\n",
       "[555 rows x 10 columns]"
      ]
     },
     "execution_count": 4,
     "metadata": {},
     "output_type": "execute_result"
    }
   ],
   "source": [
    "state_deaths"
   ]
  },
  {
   "cell_type": "code",
   "execution_count": 5,
   "metadata": {},
   "outputs": [
    {
     "name": "stderr",
     "output_type": "stream",
     "text": [
      "C:\\Users\\zeusg\\AppData\\Local\\Temp/ipykernel_30752/3922431193.py:1: FutureWarning: The default value of regex will change from True to False in a future version. In addition, single character regular expressions will *not* be treated as literal strings when regex=True.\n",
      "  df[\"age\"] = df[\"Ten-Year Age Groups Code\"].str.replace(\"+\",\"\").str.split(\"-\").str[0].astype(int)\n"
     ]
    },
    {
     "data": {
      "text/html": [
       "<div>\n",
       "<style scoped>\n",
       "    .dataframe tbody tr th:only-of-type {\n",
       "        vertical-align: middle;\n",
       "    }\n",
       "\n",
       "    .dataframe tbody tr th {\n",
       "        vertical-align: top;\n",
       "    }\n",
       "\n",
       "    .dataframe thead th {\n",
       "        text-align: right;\n",
       "    }\n",
       "</style>\n",
       "<table border=\"1\" class=\"dataframe\">\n",
       "  <thead>\n",
       "    <tr style=\"text-align: right;\">\n",
       "      <th></th>\n",
       "      <th>State</th>\n",
       "      <th>ICD-10 113 Cause List</th>\n",
       "      <th>ICD-10 113 Cause List Code</th>\n",
       "      <th>Ten-Year Age Groups</th>\n",
       "      <th>Ten-Year Age Groups Code</th>\n",
       "      <th>Deaths</th>\n",
       "      <th>Population</th>\n",
       "      <th>Crude Rate</th>\n",
       "      <th>Rate</th>\n",
       "      <th>fips</th>\n",
       "      <th>Year</th>\n",
       "      <th>State_Abv</th>\n",
       "      <th>Cause Of Death</th>\n",
       "      <th>age</th>\n",
       "    </tr>\n",
       "  </thead>\n",
       "  <tbody>\n",
       "    <tr>\n",
       "      <th>10393</th>\n",
       "      <td>Michigan</td>\n",
       "      <td>Major cardiovascular diseases (I00-I78)</td>\n",
       "      <td>GR113-053</td>\n",
       "      <td>85+ years</td>\n",
       "      <td>85+</td>\n",
       "      <td>13436.0</td>\n",
       "      <td>213136.0</td>\n",
       "      <td>6304.0</td>\n",
       "      <td>6303.96</td>\n",
       "      <td>26</td>\n",
       "      <td>2019</td>\n",
       "      <td>MI</td>\n",
       "      <td>Heart Disease (Major)</td>\n",
       "      <td>85</td>\n",
       "    </tr>\n",
       "    <tr>\n",
       "      <th>16288</th>\n",
       "      <td>Ohio</td>\n",
       "      <td>Major cardiovascular diseases (I00-I78)</td>\n",
       "      <td>GR113-053</td>\n",
       "      <td>85+ years</td>\n",
       "      <td>85+</td>\n",
       "      <td>14910.0</td>\n",
       "      <td>256272.0</td>\n",
       "      <td>5818.0</td>\n",
       "      <td>5818.04</td>\n",
       "      <td>39</td>\n",
       "      <td>2019</td>\n",
       "      <td>OH</td>\n",
       "      <td>Heart Disease (Major)</td>\n",
       "      <td>85</td>\n",
       "    </tr>\n",
       "    <tr>\n",
       "      <th>182</th>\n",
       "      <td>Alabama</td>\n",
       "      <td>Major cardiovascular diseases (I00-I78)</td>\n",
       "      <td>GR113-053</td>\n",
       "      <td>85+ years</td>\n",
       "      <td>85+</td>\n",
       "      <td>5294.0</td>\n",
       "      <td>91543.0</td>\n",
       "      <td>5783.1</td>\n",
       "      <td>5783.07</td>\n",
       "      <td>01</td>\n",
       "      <td>2019</td>\n",
       "      <td>AL</td>\n",
       "      <td>Heart Disease (Major)</td>\n",
       "      <td>85</td>\n",
       "    </tr>\n",
       "    <tr>\n",
       "      <th>20777</th>\n",
       "      <td>Utah</td>\n",
       "      <td>Major cardiovascular diseases (I00-I78)</td>\n",
       "      <td>GR113-053</td>\n",
       "      <td>85+ years</td>\n",
       "      <td>85+</td>\n",
       "      <td>2196.0</td>\n",
       "      <td>38574.0</td>\n",
       "      <td>5693.0</td>\n",
       "      <td>5692.95</td>\n",
       "      <td>49</td>\n",
       "      <td>2019</td>\n",
       "      <td>UT</td>\n",
       "      <td>Heart Disease (Major)</td>\n",
       "      <td>85</td>\n",
       "    </tr>\n",
       "    <tr>\n",
       "      <th>1458</th>\n",
       "      <td>Arkansas</td>\n",
       "      <td>Major cardiovascular diseases (I00-I78)</td>\n",
       "      <td>GR113-053</td>\n",
       "      <td>85+ years</td>\n",
       "      <td>85+</td>\n",
       "      <td>3409.0</td>\n",
       "      <td>59912.0</td>\n",
       "      <td>5690.0</td>\n",
       "      <td>5690.01</td>\n",
       "      <td>05</td>\n",
       "      <td>2019</td>\n",
       "      <td>AR</td>\n",
       "      <td>Heart Disease (Major)</td>\n",
       "      <td>85</td>\n",
       "    </tr>\n",
       "    <tr>\n",
       "      <th>...</th>\n",
       "      <td>...</td>\n",
       "      <td>...</td>\n",
       "      <td>...</td>\n",
       "      <td>...</td>\n",
       "      <td>...</td>\n",
       "      <td>...</td>\n",
       "      <td>...</td>\n",
       "      <td>...</td>\n",
       "      <td>...</td>\n",
       "      <td>...</td>\n",
       "      <td>...</td>\n",
       "      <td>...</td>\n",
       "      <td>...</td>\n",
       "      <td>...</td>\n",
       "    </tr>\n",
       "    <tr>\n",
       "      <th>1924</th>\n",
       "      <td>California</td>\n",
       "      <td>Hodgkin disease (C81)</td>\n",
       "      <td>GR113-038</td>\n",
       "      <td>35-44 years</td>\n",
       "      <td>35-44</td>\n",
       "      <td>10.0</td>\n",
       "      <td>5282100.0</td>\n",
       "      <td>Unreliable</td>\n",
       "      <td>0.19</td>\n",
       "      <td>06</td>\n",
       "      <td>2019</td>\n",
       "      <td>CA</td>\n",
       "      <td>Hodgkin disease (C81)</td>\n",
       "      <td>35</td>\n",
       "    </tr>\n",
       "    <tr>\n",
       "      <th>2197</th>\n",
       "      <td>California</td>\n",
       "      <td>#Chronic lower respiratory diseases (J40-J47)</td>\n",
       "      <td>GR113-082</td>\n",
       "      <td>15-24 years</td>\n",
       "      <td>15-24</td>\n",
       "      <td>10.0</td>\n",
       "      <td>5180973.0</td>\n",
       "      <td>Unreliable</td>\n",
       "      <td>0.19</td>\n",
       "      <td>06</td>\n",
       "      <td>2019</td>\n",
       "      <td>CA</td>\n",
       "      <td>Chronic lower respiratory diseases</td>\n",
       "      <td>15</td>\n",
       "    </tr>\n",
       "    <tr>\n",
       "      <th>1745</th>\n",
       "      <td>California</td>\n",
       "      <td>Certain other intestinal infections (A04,A07-A09)</td>\n",
       "      <td>GR113-003</td>\n",
       "      <td>35-44 years</td>\n",
       "      <td>35-44</td>\n",
       "      <td>10.0</td>\n",
       "      <td>5282100.0</td>\n",
       "      <td>Unreliable</td>\n",
       "      <td>0.19</td>\n",
       "      <td>06</td>\n",
       "      <td>2019</td>\n",
       "      <td>CA</td>\n",
       "      <td>Certain other intestinal infections (A04,A07-A09)</td>\n",
       "      <td>35</td>\n",
       "    </tr>\n",
       "    <tr>\n",
       "      <th>1873</th>\n",
       "      <td>California</td>\n",
       "      <td>Malignant neoplasms of corpus uteri and uterus...</td>\n",
       "      <td>GR113-031</td>\n",
       "      <td>25-34 years</td>\n",
       "      <td>25-34</td>\n",
       "      <td>11.0</td>\n",
       "      <td>6052952.0</td>\n",
       "      <td>Unreliable</td>\n",
       "      <td>0.18</td>\n",
       "      <td>06</td>\n",
       "      <td>2019</td>\n",
       "      <td>CA</td>\n",
       "      <td>Malignant neoplasms of corpus uteri and uterus...</td>\n",
       "      <td>25</td>\n",
       "    </tr>\n",
       "    <tr>\n",
       "      <th>1852</th>\n",
       "      <td>California</td>\n",
       "      <td>Malignant melanoma of skin (C43)</td>\n",
       "      <td>GR113-028</td>\n",
       "      <td>25-34 years</td>\n",
       "      <td>25-34</td>\n",
       "      <td>11.0</td>\n",
       "      <td>6052952.0</td>\n",
       "      <td>Unreliable</td>\n",
       "      <td>0.18</td>\n",
       "      <td>06</td>\n",
       "      <td>2019</td>\n",
       "      <td>CA</td>\n",
       "      <td>Malignant melanoma of skin (C43)</td>\n",
       "      <td>25</td>\n",
       "    </tr>\n",
       "  </tbody>\n",
       "</table>\n",
       "<p>23425 rows × 14 columns</p>\n",
       "</div>"
      ],
      "text/plain": [
       "            State                              ICD-10 113 Cause List  \\\n",
       "10393    Michigan            Major cardiovascular diseases (I00-I78)   \n",
       "16288        Ohio            Major cardiovascular diseases (I00-I78)   \n",
       "182       Alabama            Major cardiovascular diseases (I00-I78)   \n",
       "20777        Utah            Major cardiovascular diseases (I00-I78)   \n",
       "1458     Arkansas            Major cardiovascular diseases (I00-I78)   \n",
       "...           ...                                                ...   \n",
       "1924   California                              Hodgkin disease (C81)   \n",
       "2197   California      #Chronic lower respiratory diseases (J40-J47)   \n",
       "1745   California  Certain other intestinal infections (A04,A07-A09)   \n",
       "1873   California  Malignant neoplasms of corpus uteri and uterus...   \n",
       "1852   California                   Malignant melanoma of skin (C43)   \n",
       "\n",
       "      ICD-10 113 Cause List Code Ten-Year Age Groups Ten-Year Age Groups Code  \\\n",
       "10393                  GR113-053           85+ years                      85+   \n",
       "16288                  GR113-053           85+ years                      85+   \n",
       "182                    GR113-053           85+ years                      85+   \n",
       "20777                  GR113-053           85+ years                      85+   \n",
       "1458                   GR113-053           85+ years                      85+   \n",
       "...                          ...                 ...                      ...   \n",
       "1924                   GR113-038         35-44 years                    35-44   \n",
       "2197                   GR113-082         15-24 years                    15-24   \n",
       "1745                   GR113-003         35-44 years                    35-44   \n",
       "1873                   GR113-031         25-34 years                    25-34   \n",
       "1852                   GR113-028         25-34 years                    25-34   \n",
       "\n",
       "        Deaths  Population  Crude Rate     Rate fips  Year State_Abv  \\\n",
       "10393  13436.0    213136.0      6304.0  6303.96   26  2019        MI   \n",
       "16288  14910.0    256272.0      5818.0  5818.04   39  2019        OH   \n",
       "182     5294.0     91543.0      5783.1  5783.07   01  2019        AL   \n",
       "20777   2196.0     38574.0      5693.0  5692.95   49  2019        UT   \n",
       "1458    3409.0     59912.0      5690.0  5690.01   05  2019        AR   \n",
       "...        ...         ...         ...      ...  ...   ...       ...   \n",
       "1924      10.0   5282100.0  Unreliable     0.19   06  2019        CA   \n",
       "2197      10.0   5180973.0  Unreliable     0.19   06  2019        CA   \n",
       "1745      10.0   5282100.0  Unreliable     0.19   06  2019        CA   \n",
       "1873      11.0   6052952.0  Unreliable     0.18   06  2019        CA   \n",
       "1852      11.0   6052952.0  Unreliable     0.18   06  2019        CA   \n",
       "\n",
       "                                          Cause Of Death  age  \n",
       "10393                              Heart Disease (Major)   85  \n",
       "16288                              Heart Disease (Major)   85  \n",
       "182                                Heart Disease (Major)   85  \n",
       "20777                              Heart Disease (Major)   85  \n",
       "1458                               Heart Disease (Major)   85  \n",
       "...                                                  ...  ...  \n",
       "1924                               Hodgkin disease (C81)   35  \n",
       "2197                  Chronic lower respiratory diseases   15  \n",
       "1745   Certain other intestinal infections (A04,A07-A09)   35  \n",
       "1873   Malignant neoplasms of corpus uteri and uterus...   25  \n",
       "1852                    Malignant melanoma of skin (C43)   25  \n",
       "\n",
       "[23425 rows x 14 columns]"
      ]
     },
     "execution_count": 5,
     "metadata": {},
     "output_type": "execute_result"
    }
   ],
   "source": [
    "df[\"age\"] = df[\"Ten-Year Age Groups Code\"].str.replace(\"+\",\"\").str.split(\"-\").str[0].astype(int)\n",
    "df"
   ]
  },
  {
   "cell_type": "code",
   "execution_count": null,
   "metadata": {},
   "outputs": [],
   "source": [
    "firearms.sample(3)"
   ]
  },
  {
   "cell_type": "code",
   "execution_count": null,
   "metadata": {},
   "outputs": [],
   "source": [
    "yearly_pop.Population.sum()"
   ]
  },
  {
   "cell_type": "code",
   "execution_count": null,
   "metadata": {},
   "outputs": [],
   "source": [
    "df[\"Ten-Year Age Groups\"].unique()  "
   ]
  },
  {
   "cell_type": "code",
   "execution_count": null,
   "metadata": {},
   "outputs": [],
   "source": [
    "teen = df[df[\"Ten-Year Age Groups\"] == \"15-24 years\"]\n",
    "teen.sample(3)"
   ]
  },
  {
   "cell_type": "code",
   "execution_count": null,
   "metadata": {},
   "outputs": [],
   "source": [
    "teen"
   ]
  },
  {
   "cell_type": "code",
   "execution_count": null,
   "metadata": {},
   "outputs": [],
   "source": [
    "teen_gun = teen[teen[\"Cause Of Death\"] == \"Homicide Guns\"]\n",
    "guns = df[df[\"Cause Of Death\"] == \"Homicide Guns\"]\n"
   ]
  },
  {
   "cell_type": "code",
   "execution_count": null,
   "metadata": {},
   "outputs": [],
   "source": [
    "fig  = go.Figure()\n",
    "fig.add_trace(go.Bar(x = teen_gun[\"State\"], y = teen_gun[\"Rate\"]))"
   ]
  },
  {
   "cell_type": "code",
   "execution_count": null,
   "metadata": {},
   "outputs": [],
   "source": [
    "guns = guns.sort_values(by=\"Rate\", ascending=False)\n",
    "px.bar(guns, x = \"State\", y=\"Rate\", color=\"Ten-Year Age Groups\")"
   ]
  },
  {
   "cell_type": "code",
   "execution_count": null,
   "metadata": {},
   "outputs": [],
   "source": [
    "age_guns = guns.groupby([\"Ten-Year Age Groups\"]).mean().reset_index()\n",
    "age_guns[\"Start Age\"] = age_guns[\"Ten-Year Age Groups\"].str.split(\"-\").str[0].astype(int)\n",
    "age_guns = age_guns.sort_values(\"Start Age\")\n",
    "age_guns"
   ]
  },
  {
   "cell_type": "code",
   "execution_count": null,
   "metadata": {},
   "outputs": [],
   "source": [
    "fig = go.Figure()\n",
    "fig.add_trace(go.Pie(labels=age_guns[\"Ten-Year Age Groups\"], values=age_guns[\"Rate\"], name=\"Guns\"))\n"
   ]
  },
  {
   "cell_type": "code",
   "execution_count": null,
   "metadata": {},
   "outputs": [],
   "source": [
    "fig = go.Figure()\n",
    "fig.add_trace(go.Scatter(x=age_guns[\"Ten-Year Age Groups\"], y=age_guns[\"Rate\"], mode =\"lines\" ))"
   ]
  },
  {
   "cell_type": "code",
   "execution_count": null,
   "metadata": {},
   "outputs": [],
   "source": [
    "guns\n",
    "guns[\"Start Age\"] = guns[\"Ten-Year Age Groups\"].str.split(\"-\").str[0].astype(int)\n",
    "guns = guns.sort_values(\"Start Age\")\n",
    "guns.sample(3)"
   ]
  },
  {
   "cell_type": "code",
   "execution_count": null,
   "metadata": {},
   "outputs": [],
   "source": [
    "fig = px.line(x = guns[\"Ten-Year Age Groups\"], y= guns[\"Rate\"], color = guns[\"State\"])\n",
    "fig"
   ]
  },
  {
   "cell_type": "code",
   "execution_count": null,
   "metadata": {},
   "outputs": [],
   "source": [
    "firearms.sample(3)"
   ]
  },
  {
   "cell_type": "code",
   "execution_count": null,
   "metadata": {},
   "outputs": [],
   "source": [
    "age_guns.sample(3)"
   ]
  },
  {
   "cell_type": "code",
   "execution_count": null,
   "metadata": {},
   "outputs": [],
   "source": [
    "firearms"
   ]
  },
  {
   "cell_type": "code",
   "execution_count": null,
   "metadata": {},
   "outputs": [],
   "source": [
    "firearms.rename(columns={\"Single-Year Ages Code\":\"age\"}, inplace=True)\n",
    "firearms.dropna(subset=['age'], inplace=True)\n",
    "firearms[\"age\"] = firearms[\"age\"].astype(int)\n",
    "firearms = firearms.sort_values(by=[\"age\",\"Rate\"])\n",
    "\n",
    "\n",
    "firearms_total = firearms.groupby([\"age\"]).mean().reset_index()\n",
    "\n",
    "firearms_total.sample(10)"
   ]
  },
  {
   "cell_type": "code",
   "execution_count": null,
   "metadata": {},
   "outputs": [],
   "source": [
    "firearms"
   ]
  },
  {
   "cell_type": "code",
   "execution_count": null,
   "metadata": {},
   "outputs": [],
   "source": [
    "fig = go.Figure()\n",
    "fig.add_trace(go.Scatter(x=firearms_total[\"age\"], y=firearms_total[\"Rate\"], mode =\"lines\" ))"
   ]
  },
  {
   "cell_type": "code",
   "execution_count": null,
   "metadata": {},
   "outputs": [],
   "source": [
    "px.bar(firearms, x = \"State\", y=\"Rate\", color=\"age\", color_continuous_scale=px.colors.sequential.Bluered, title=\"Firearm Death Rate by Age Group\", labels={\"Rate\":\"Firearm Death Rate (per 100,000)\"}, height=600)"
   ]
  },
  {
   "cell_type": "code",
   "execution_count": null,
   "metadata": {},
   "outputs": [],
   "source": [
    "guns.sort_values(by=\"Rate\", ascending=False, inplace=True)\n",
    "px.bar(guns, x = \"State\", y=\"Rate\", color=\"Ten-Year Age Groups Code\", color_continuous_scale=px.colors.sequential.Bluered, title=\"Firearm Death Rate by Age Group\", labels={\"Rate\":\"Firearm Death Rate (per 100,000)\"}, height=600)"
   ]
  },
  {
   "cell_type": "code",
   "execution_count": null,
   "metadata": {},
   "outputs": [],
   "source": [
    "guns"
   ]
  },
  {
   "cell_type": "code",
   "execution_count": null,
   "metadata": {},
   "outputs": [],
   "source": []
  },
  {
   "cell_type": "code",
   "execution_count": null,
   "metadata": {},
   "outputs": [],
   "source": []
  },
  {
   "cell_type": "code",
   "execution_count": 6,
   "metadata": {},
   "outputs": [
    {
     "name": "stderr",
     "output_type": "stream",
     "text": [
      "C:\\Users\\zeusg\\AppData\\Local\\Temp/ipykernel_30752/127021580.py:4: FutureWarning: The default value of numeric_only in DataFrameGroupBy.mean is deprecated. In a future version, numeric_only will default to False. Either specify numeric_only or select only columns which should be valid for the function.\n",
      "  state_totals = final.groupby(by=[\"fips\",\"State_y\"]).mean().reset_index().sort_values(by=\"Rate\")\n"
     ]
    }
   ],
   "source": [
    "part = Partisian.get_state_part_score()\n",
    "final = pd.merge(part, firearms, on=\"fips\")\n",
    "final[final[\"State_x\"] == \"VT\"]\n",
    "state_totals = final.groupby(by=[\"fips\",\"State_y\"]).mean().reset_index().sort_values(by=\"Rate\")\n",
    "state_totals[\"Rate\"] = (state_totals[\"Deaths\"]/state_totals[\"Total Pop\"])*100000"
   ]
  },
  {
   "cell_type": "code",
   "execution_count": null,
   "metadata": {},
   "outputs": [],
   "source": [
    "fig = go.Figure()\n",
    "fig.add_trace(go.Scatter(x=state_totals[\"Part_Score\"], y=state_totals[\"Rate\"], mode = \"markers\",  hovertext=state_totals[\"State_y\"], marker=dict(size=state_totals[\"Total Pop\"]/1000000, colorscale='bluered', color=state_totals[\"Part_Score\"])))"
   ]
  },
  {
   "cell_type": "code",
   "execution_count": null,
   "metadata": {},
   "outputs": [],
   "source": [
    "state_totals.sort_values(\"Rate\", ascending=False, inplace=True)\n",
    "fig = go.Figure()\n",
    "fig.add_trace(go.Bar(x=state_totals[\"State_y\"], y=state_totals[\"Rate\"], name=\"Rate\"'))\n",
    "fig.show()"
   ]
  },
  {
   "cell_type": "code",
   "execution_count": null,
   "metadata": {},
   "outputs": [],
   "source": [
    "state_totals[state_totals[\"State_y\"] == \"Vermont\"]"
   ]
  },
  {
   "cell_type": "code",
   "execution_count": null,
   "metadata": {},
   "outputs": [],
   "source": [
    "state_totals"
   ]
  },
  {
   "cell_type": "code",
   "execution_count": null,
   "metadata": {},
   "outputs": [],
   "source": [
    "12/133915.0"
   ]
  },
  {
   "cell_type": "code",
   "execution_count": null,
   "metadata": {},
   "outputs": [],
   "source": [
    "fig = go.Figure()\n",
    "fig.add_trace(go.Scatter(x=state_totals[\"Population\"], y=state_totals[\"Rate\"], mode = \"markers\", hovertext=state_totals[\"State_y\"], marker=dict(colorscale='bluered', color=state_totals[\"Population\"])))"
   ]
  },
  {
   "cell_type": "code",
   "execution_count": null,
   "metadata": {},
   "outputs": [],
   "source": [
    "fig = go.Figure()\n",
    "fig.add_trace(go.Scatter(x=state_totals[\"age\"], y=state_totals[\"Rate\"], mode = \"markers\", hovertext=state_totals[\"State_y\"], marker=dict(colorscale='bluered', color=state_totals[\"Population\"])))"
   ]
  },
  {
   "cell_type": "code",
   "execution_count": null,
   "metadata": {},
   "outputs": [],
   "source": [
    "teen_deaths = teen.groupby(by=[\"Cause Of Death\"]).sum().reset_index()\n",
    "teen_deaths.sort_values(by=[\"Deaths\"], ascending=False, inplace=True)   "
   ]
  },
  {
   "cell_type": "code",
   "execution_count": null,
   "metadata": {},
   "outputs": [],
   "source": [
    "fig = go.Figure()\n",
    "fig.add_trace(go.Bar(x=teen_deaths[\"Cause Of Death\"], y=teen_deaths[\"Deaths\"], name=\"Deaths\"))"
   ]
  },
  {
   "cell_type": "code",
   "execution_count": null,
   "metadata": {},
   "outputs": [],
   "source": []
  },
  {
   "cell_type": "code",
   "execution_count": null,
   "metadata": {},
   "outputs": [],
   "source": [
    "yearly_pop"
   ]
  },
  {
   "cell_type": "code",
   "execution_count": null,
   "metadata": {},
   "outputs": [],
   "source": [
    "usa_total = yearly_pop.groupby(\"Single-Year Ages\").sum().reset_index()\n",
    "usa_total[\"age\"] = usa_total[\"Single-Year Ages\"].str.replace(\"< 1 year\",\"0\").str.split(\" \").str[0].astype(int)\n",
    "usa_total.sort_values(\"age\", inplace=True)\n",
    "usa_total[\"Rate\"] = (usa_total[\"Deaths\"]/usa_total[\"Population\"])*100000\n",
    "usa_total"
   ]
  },
  {
   "cell_type": "code",
   "execution_count": null,
   "metadata": {},
   "outputs": [],
   "source": [
    "fig = go.Figure()\n",
    "fig.add_trace(go.Bar(x=usa_total[\"age\"], y=usa_total[\"Population\"]))\n",
    "fig.add_trace(go.Bar(x=usa_total[\"age\"], y=usa_total[\"Rate\"]))"
   ]
  },
  {
   "cell_type": "code",
   "execution_count": null,
   "metadata": {},
   "outputs": [],
   "source": [
    "fig = go.Figure()\n",
    "fig.add_trace(go.Scatter(x=usa_total[\"age\"], y=usa_total[\"Rate\"], mode=\"lines\"))"
   ]
  },
  {
   "cell_type": "code",
   "execution_count": null,
   "metadata": {},
   "outputs": [],
   "source": [
    "df.sort_values(by=\"age\", inplace=True)\n",
    "df"
   ]
  },
  {
   "cell_type": "code",
   "execution_count": null,
   "metadata": {},
   "outputs": [],
   "source": [
    "fig = px.scatter(df, x=\"age\", y=\"Deaths\", color=\"Cause Of Death\")\n",
    "fig.update_coloraxes(showscale=False)\n",
    "fig.update_traces(showlegend=False)\n",
    "fig.show()"
   ]
  },
  {
   "cell_type": "code",
   "execution_count": null,
   "metadata": {},
   "outputs": [],
   "source": []
  },
  {
   "cell_type": "code",
   "execution_count": null,
   "metadata": {},
   "outputs": [],
   "source": []
  },
  {
   "cell_type": "code",
   "execution_count": null,
   "metadata": {},
   "outputs": [],
   "source": []
  },
  {
   "cell_type": "code",
   "execution_count": null,
   "metadata": {},
   "outputs": [],
   "source": [
    "df[\"Ten-Year Age Groups Code\"].unique()"
   ]
  },
  {
   "cell_type": "code",
   "execution_count": 7,
   "metadata": {},
   "outputs": [],
   "source": [
    "child = state_deaths[state_deaths[\"Ten-Year Age Groups Code\"] == '5-14']\n",
    "part = Partisian.get_state_part_score()\n",
    "child = pd.merge(child, part, left_on=\"State_Abv\", right_on=\"State\")\n"
   ]
  },
  {
   "cell_type": "code",
   "execution_count": null,
   "metadata": {},
   "outputs": [],
   "source": [
    "fig = go.Figure()\n",
    "fig.add_trace(go.Scatter(x=child['Part_Score'], y=child['Rate'],mode='markers',name='Child'))"
   ]
  },
  {
   "cell_type": "code",
   "execution_count": null,
   "metadata": {},
   "outputs": [],
   "source": [
    "fig = go.Figure()\n",
    "fig.add_trace(go.Bar(x=child[\"State_Abv\"], y=child[\"Rate\"], marker=dict(color=child[\"Part_Score\"], colorscale=\"Bluered\" ), name=\"Child\"))"
   ]
  },
  {
   "cell_type": "code",
   "execution_count": null,
   "metadata": {},
   "outputs": [],
   "source": [
    "child"
   ]
  },
  {
   "cell_type": "code",
   "execution_count": null,
   "metadata": {},
   "outputs": [],
   "source": [
    "import GraphGenerator\n",
    "def get_age_death(df, age):\n",
    "    age_df = df[df[\"Ten-Year Age Groups Code\"] == age]\n",
    "    part = Partisian.get_state_part_score()\n",
    "    age_df = pd.merge(age_df, part, left_on=\"State_Abv\", right_on=\"State\")\n",
    "    X = age_df['Part_Score'].values.reshape(-1,1)\n",
    "    y = age_df['Rate']\n",
    "    \n",
    "    reg = LinearRegression().fit(X, y, sample_weight=age_df['Population'])\n",
    "    x_range = np.linspace(X.min(), X.max())\n",
    "    y = reg.predict(x_range.reshape(-1,1))\n",
    "    \n",
    "    fig = make_subplots(rows=1, cols=2, vertical_spacing= 0.01, horizontal_spacing= 0.01,  subplot_titles=(\"\",\"\"), column_widths=[0.8, 0.2], shared_yaxes=True)\n",
    "    \n",
    "    fig.add_trace(go.Scatter(x=age_df['Part_Score'], y=age_df['Rate'],mode='markers', marker=dict(color=age_df[\"Part_Score\"], colorscale=\"Bluered\", size=age_df[\"Population\"]/(age_df[\"Population\"].max()/50)), name='Child', hovertext=age_df[\"State_x\"]), row=1, col=1)\n",
    "    \n",
    "    hist_x = []\n",
    "    for index, row in age_df.iterrows():\n",
    "        hist_x.extend([row[\"Rate\"] for i in range(int(round(row[\"Population\"]/1000)))])\n",
    "        row[\"Rate\"]\n",
    "    #fig.add_trace(go.Violin(y=hist_x, side=\"positive\", name=\"Death Rate Distribution\"), row=1, col=2)\n",
    "    fig.add_trace(go.Violin(y=age_df['Rate'], side=\"positive\",  name=\"Death Rate Distribution\"), row=1, col=2)\n",
    "    \n",
    "    \n",
    "    fig.add_trace(go.Scatter(x=x_range, y=y, mode='lines',  line=dict(color=\"green\", dash=\"dash\"), name='Best Fit Line'), row=1, col=1)\n",
    "    \n",
    "    fig.update_layout(title=\"Partisanship Score vs. Death Rate for \" + age + \" Year Olds\", xaxis1_title=\"Partisanship Score\", yaxis1_title=\"Death Rate (per 100,000)\")\n",
    "    fig.update_yaxes(showticklabels=False, row=1, col=2)\n",
    "    fig.update_xaxes(showline=True, linewidth=2, linecolor='black', mirror=False)\n",
    "    fig.update_layout(height=300,width=1200, plot_bgcolor='rgba(0,0,0,0)', margin=dict(l=0, r=0, t=25, b=0))\n",
    "    \n",
    "    fig.show()\n"
   ]
  },
  {
   "cell_type": "code",
   "execution_count": null,
   "metadata": {},
   "outputs": [],
   "source": [
    "get_age_death(state_deaths,\"85+\")"
   ]
  },
  {
   "cell_type": "code",
   "execution_count": null,
   "metadata": {},
   "outputs": [],
   "source": []
  },
  {
   "cell_type": "code",
   "execution_count": null,
   "metadata": {},
   "outputs": [],
   "source": [
    "for age in state_deaths[\"Ten-Year Age Groups Code\"].unique():\n",
    "    None\n",
    "    #get_age_death(state_deaths,age)"
   ]
  },
  {
   "cell_type": "code",
   "execution_count": null,
   "metadata": {},
   "outputs": [],
   "source": []
  },
  {
   "cell_type": "code",
   "execution_count": null,
   "metadata": {},
   "outputs": [],
   "source": [
    "\n",
    "fig = go.Figure()\n",
    "\n",
    "for age in state_deaths[\"Ten-Year Age Groups Code\"].unique():\n",
    "    age_df = state_deaths[state_deaths[\"Ten-Year Age Groups Code\"] == age]\n",
    "    part = Partisian.get_state_part_score()\n",
    "    age_df = pd.merge(age_df, part, left_on=\"State_Abv\", right_on=\"State\")\n",
    "    fig.add_trace(go.Scatter(x=age_df['Part_Score'], y=age_df['Rate'],mode='markers',name=age))\n",
    "    #fig.add_trace(go.Bar(x=age_df[\"State_Abv\"], y=age_df[\"Rate\"], marker=dict(color=age_df[\"Part_Score\"], colorscale=\"Bluered\" ), name=age))\n",
    "\n",
    "fig.show()"
   ]
  },
  {
   "cell_type": "code",
   "execution_count": null,
   "metadata": {},
   "outputs": [],
   "source": []
  },
  {
   "cell_type": "code",
   "execution_count": null,
   "metadata": {},
   "outputs": [],
   "source": [
    "heirarchy"
   ]
  },
  {
   "cell_type": "code",
   "execution_count": null,
   "metadata": {},
   "outputs": [],
   "source": [
    "teen"
   ]
  },
  {
   "cell_type": "code",
   "execution_count": 8,
   "metadata": {},
   "outputs": [
    {
     "data": {
      "text/html": [
       "<div>\n",
       "<style scoped>\n",
       "    .dataframe tbody tr th:only-of-type {\n",
       "        vertical-align: middle;\n",
       "    }\n",
       "\n",
       "    .dataframe tbody tr th {\n",
       "        vertical-align: top;\n",
       "    }\n",
       "\n",
       "    .dataframe thead th {\n",
       "        text-align: right;\n",
       "    }\n",
       "</style>\n",
       "<table border=\"1\" class=\"dataframe\">\n",
       "  <thead>\n",
       "    <tr style=\"text-align: right;\">\n",
       "      <th></th>\n",
       "      <th>State</th>\n",
       "      <th>ICD-10 113 Cause List</th>\n",
       "      <th>ICD-10 113 Cause List Code</th>\n",
       "      <th>Ten-Year Age Groups</th>\n",
       "      <th>Ten-Year Age Groups Code</th>\n",
       "      <th>Deaths</th>\n",
       "      <th>Population</th>\n",
       "      <th>Crude Rate</th>\n",
       "      <th>Rate</th>\n",
       "      <th>fips</th>\n",
       "      <th>Year</th>\n",
       "      <th>State_Abv</th>\n",
       "      <th>Cause Of Death</th>\n",
       "      <th>age</th>\n",
       "    </tr>\n",
       "  </thead>\n",
       "  <tbody>\n",
       "    <tr>\n",
       "      <th>14967</th>\n",
       "      <td>New York</td>\n",
       "      <td>Bronchitis, chronic and unspecified (J40-J42)</td>\n",
       "      <td>GR113-083</td>\n",
       "      <td>85+ years</td>\n",
       "      <td>85+</td>\n",
       "      <td>14.0</td>\n",
       "      <td>460001.0</td>\n",
       "      <td>Unreliable</td>\n",
       "      <td>3.04</td>\n",
       "      <td>36</td>\n",
       "      <td>2019</td>\n",
       "      <td>NY</td>\n",
       "      <td>Bronchitis, chronic and unspecified (J40-J42)</td>\n",
       "      <td>85</td>\n",
       "    </tr>\n",
       "    <tr>\n",
       "      <th>15153</th>\n",
       "      <td>New York</td>\n",
       "      <td>Accidental exposure to smoke, fire and flames ...</td>\n",
       "      <td>GR113-121</td>\n",
       "      <td>85+ years</td>\n",
       "      <td>85+</td>\n",
       "      <td>13.0</td>\n",
       "      <td>460001.0</td>\n",
       "      <td>Unreliable</td>\n",
       "      <td>2.83</td>\n",
       "      <td>36</td>\n",
       "      <td>2019</td>\n",
       "      <td>NY</td>\n",
       "      <td>Accidental exposure to smoke, fire and flames ...</td>\n",
       "      <td>85</td>\n",
       "    </tr>\n",
       "    <tr>\n",
       "      <th>14875</th>\n",
       "      <td>New York</td>\n",
       "      <td>Acute and subacute endocarditis (I33)</td>\n",
       "      <td>GR113-065</td>\n",
       "      <td>85+ years</td>\n",
       "      <td>85+</td>\n",
       "      <td>10.0</td>\n",
       "      <td>460001.0</td>\n",
       "      <td>Unreliable</td>\n",
       "      <td>2.17</td>\n",
       "      <td>36</td>\n",
       "      <td>2019</td>\n",
       "      <td>NY</td>\n",
       "      <td>Acute and subacute endocarditis (I33)</td>\n",
       "      <td>85</td>\n",
       "    </tr>\n",
       "  </tbody>\n",
       "</table>\n",
       "</div>"
      ],
      "text/plain": [
       "          State                              ICD-10 113 Cause List  \\\n",
       "14967  New York      Bronchitis, chronic and unspecified (J40-J42)   \n",
       "15153  New York  Accidental exposure to smoke, fire and flames ...   \n",
       "14875  New York              Acute and subacute endocarditis (I33)   \n",
       "\n",
       "      ICD-10 113 Cause List Code Ten-Year Age Groups Ten-Year Age Groups Code  \\\n",
       "14967                  GR113-083           85+ years                      85+   \n",
       "15153                  GR113-121           85+ years                      85+   \n",
       "14875                  GR113-065           85+ years                      85+   \n",
       "\n",
       "       Deaths  Population  Crude Rate  Rate fips  Year State_Abv  \\\n",
       "14967    14.0    460001.0  Unreliable  3.04   36  2019        NY   \n",
       "15153    13.0    460001.0  Unreliable  2.83   36  2019        NY   \n",
       "14875    10.0    460001.0  Unreliable  2.17   36  2019        NY   \n",
       "\n",
       "                                          Cause Of Death  age  \n",
       "14967      Bronchitis, chronic and unspecified (J40-J42)   85  \n",
       "15153  Accidental exposure to smoke, fire and flames ...   85  \n",
       "14875              Acute and subacute endocarditis (I33)   85  "
      ]
     },
     "execution_count": 8,
     "metadata": {},
     "output_type": "execute_result"
    }
   ],
   "source": [
    "teen = df[df[\"Ten-Year Age Groups Code\"] == \"85+\"]\n",
    "teen.sample(3)\n",
    "teen_all = teen#[teen[\"ICD-10 Original\"].str.contains(\"#\") == True]\n",
    "ny = teen_all[teen_all[\"State\"] == \"New York\"]\n",
    "ny.dropna(inplace=True, subset=[\"ICD-10 113 Cause List\"])\n",
    "ny.tail(3)"
   ]
  },
  {
   "cell_type": "code",
   "execution_count": 14,
   "metadata": {},
   "outputs": [],
   "source": [
    "f = open(\"icd-10-Structure.json\")\n",
    "heirarchy = json.load(f)\n",
    "heirarchy\n",
    "\n",
    "f = open(\"icd-10-flat-Structure.json\")\n",
    "flat_heirarchy = json.load(f)\n"
   ]
  },
  {
   "cell_type": "code",
   "execution_count": 15,
   "metadata": {},
   "outputs": [],
   "source": [
    "#ny.loc[15081]"
   ]
  },
  {
   "cell_type": "code",
   "execution_count": 31,
   "metadata": {},
   "outputs": [],
   "source": [
    "ny[\"ICD-10 113 Cause List\"] = pd.Categorical(ny[\"ICD-10 113 Cause List\"], categories = list(heirarchy.keys()))\n",
    "ny = ny.sort_values(by=[\"ICD-10 113 Cause List\"])\n",
    "ny[\"ICD-10 113 Cause List\"].unique()\n",
    "ny.dropna(subset=[\"ICD-10 113 Cause List\"], inplace=True)"
   ]
  },
  {
   "cell_type": "code",
   "execution_count": 32,
   "metadata": {},
   "outputs": [
    {
     "data": {
      "text/html": [
       "<div>\n",
       "<style scoped>\n",
       "    .dataframe tbody tr th:only-of-type {\n",
       "        vertical-align: middle;\n",
       "    }\n",
       "\n",
       "    .dataframe tbody tr th {\n",
       "        vertical-align: top;\n",
       "    }\n",
       "\n",
       "    .dataframe thead th {\n",
       "        text-align: right;\n",
       "    }\n",
       "</style>\n",
       "<table border=\"1\" class=\"dataframe\">\n",
       "  <thead>\n",
       "    <tr style=\"text-align: right;\">\n",
       "      <th></th>\n",
       "      <th>State</th>\n",
       "      <th>ICD-10 113 Cause List</th>\n",
       "      <th>ICD-10 113 Cause List Code</th>\n",
       "      <th>Ten-Year Age Groups</th>\n",
       "      <th>Ten-Year Age Groups Code</th>\n",
       "      <th>Deaths</th>\n",
       "      <th>Population</th>\n",
       "      <th>Crude Rate</th>\n",
       "      <th>Rate</th>\n",
       "      <th>fips</th>\n",
       "      <th>Year</th>\n",
       "      <th>State_Abv</th>\n",
       "      <th>Cause Of Death</th>\n",
       "      <th>age</th>\n",
       "    </tr>\n",
       "  </thead>\n",
       "  <tbody>\n",
       "    <tr>\n",
       "      <th>14572</th>\n",
       "      <td>New York</td>\n",
       "      <td>Certain other intestinal infections (A04,A07-A09)</td>\n",
       "      <td>GR113-003</td>\n",
       "      <td>85+ years</td>\n",
       "      <td>85+</td>\n",
       "      <td>176.0</td>\n",
       "      <td>460001.0</td>\n",
       "      <td>38.3</td>\n",
       "      <td>38.26</td>\n",
       "      <td>36</td>\n",
       "      <td>2019</td>\n",
       "      <td>NY</td>\n",
       "      <td>Certain other intestinal infections (A04,A07-A09)</td>\n",
       "      <td>85</td>\n",
       "    </tr>\n",
       "    <tr>\n",
       "      <th>14581</th>\n",
       "      <td>New York</td>\n",
       "      <td>#Septicemia (A40-A41)</td>\n",
       "      <td>GR113-010</td>\n",
       "      <td>85+ years</td>\n",
       "      <td>85+</td>\n",
       "      <td>559.0</td>\n",
       "      <td>460001.0</td>\n",
       "      <td>121.5</td>\n",
       "      <td>121.52</td>\n",
       "      <td>36</td>\n",
       "      <td>2019</td>\n",
       "      <td>NY</td>\n",
       "      <td>Septicemia</td>\n",
       "      <td>85</td>\n",
       "    </tr>\n",
       "    <tr>\n",
       "      <th>14600</th>\n",
       "      <td>New York</td>\n",
       "      <td>Other and unspecified infectious and parasitic...</td>\n",
       "      <td>GR113-018</td>\n",
       "      <td>85+ years</td>\n",
       "      <td>85+</td>\n",
       "      <td>196.0</td>\n",
       "      <td>460001.0</td>\n",
       "      <td>42.6</td>\n",
       "      <td>42.61</td>\n",
       "      <td>36</td>\n",
       "      <td>2019</td>\n",
       "      <td>NY</td>\n",
       "      <td>Other and unspecified infectious and parasitic...</td>\n",
       "      <td>85</td>\n",
       "    </tr>\n",
       "    <tr>\n",
       "      <th>14610</th>\n",
       "      <td>New York</td>\n",
       "      <td>#Malignant neoplasms (C00-C97)</td>\n",
       "      <td>GR113-019</td>\n",
       "      <td>85+ years</td>\n",
       "      <td>85+</td>\n",
       "      <td>6597.0</td>\n",
       "      <td>460001.0</td>\n",
       "      <td>1434.1</td>\n",
       "      <td>1434.13</td>\n",
       "      <td>36</td>\n",
       "      <td>2019</td>\n",
       "      <td>NY</td>\n",
       "      <td>Cancer</td>\n",
       "      <td>85</td>\n",
       "    </tr>\n",
       "    <tr>\n",
       "      <th>14759</th>\n",
       "      <td>New York</td>\n",
       "      <td>#In situ neoplasms, benign neoplasms and neopl...</td>\n",
       "      <td>GR113-044</td>\n",
       "      <td>85+ years</td>\n",
       "      <td>85+</td>\n",
       "      <td>318.0</td>\n",
       "      <td>460001.0</td>\n",
       "      <td>69.1</td>\n",
       "      <td>69.13</td>\n",
       "      <td>36</td>\n",
       "      <td>2019</td>\n",
       "      <td>NY</td>\n",
       "      <td>#In situ neoplasms, benign neoplasms and neopl...</td>\n",
       "      <td>85</td>\n",
       "    </tr>\n",
       "    <tr>\n",
       "      <th>14765</th>\n",
       "      <td>New York</td>\n",
       "      <td>#Anemias (D50-D64)</td>\n",
       "      <td>GR113-045</td>\n",
       "      <td>85+ years</td>\n",
       "      <td>85+</td>\n",
       "      <td>94.0</td>\n",
       "      <td>460001.0</td>\n",
       "      <td>20.4</td>\n",
       "      <td>20.43</td>\n",
       "      <td>36</td>\n",
       "      <td>2019</td>\n",
       "      <td>NY</td>\n",
       "      <td>#Anemias (D50-D64)</td>\n",
       "      <td>85</td>\n",
       "    </tr>\n",
       "    <tr>\n",
       "      <th>14772</th>\n",
       "      <td>New York</td>\n",
       "      <td>#Diabetes mellitus (E10-E14)</td>\n",
       "      <td>GR113-046</td>\n",
       "      <td>85+ years</td>\n",
       "      <td>85+</td>\n",
       "      <td>1153.0</td>\n",
       "      <td>460001.0</td>\n",
       "      <td>250.7</td>\n",
       "      <td>250.65</td>\n",
       "      <td>36</td>\n",
       "      <td>2019</td>\n",
       "      <td>NY</td>\n",
       "      <td>Diabetes</td>\n",
       "      <td>85</td>\n",
       "    </tr>\n",
       "    <tr>\n",
       "      <th>14776</th>\n",
       "      <td>New York</td>\n",
       "      <td>#Nutritional deficiencies (E40-E64)</td>\n",
       "      <td>GR113-047</td>\n",
       "      <td>85+ years</td>\n",
       "      <td>85+</td>\n",
       "      <td>167.0</td>\n",
       "      <td>460001.0</td>\n",
       "      <td>36.3</td>\n",
       "      <td>36.30</td>\n",
       "      <td>36</td>\n",
       "      <td>2019</td>\n",
       "      <td>NY</td>\n",
       "      <td>#Nutritional deficiencies (E40-E64)</td>\n",
       "      <td>85</td>\n",
       "    </tr>\n",
       "    <tr>\n",
       "      <th>14783</th>\n",
       "      <td>New York</td>\n",
       "      <td>#Parkinson disease (G20-G21)</td>\n",
       "      <td>GR113-051</td>\n",
       "      <td>85+ years</td>\n",
       "      <td>85+</td>\n",
       "      <td>733.0</td>\n",
       "      <td>460001.0</td>\n",
       "      <td>159.3</td>\n",
       "      <td>159.35</td>\n",
       "      <td>36</td>\n",
       "      <td>2019</td>\n",
       "      <td>NY</td>\n",
       "      <td>#Parkinson disease (G20-G21)</td>\n",
       "      <td>85</td>\n",
       "    </tr>\n",
       "    <tr>\n",
       "      <th>14787</th>\n",
       "      <td>New York</td>\n",
       "      <td>#Alzheimer disease (G30)</td>\n",
       "      <td>GR113-052</td>\n",
       "      <td>85+ years</td>\n",
       "      <td>85+</td>\n",
       "      <td>2680.0</td>\n",
       "      <td>460001.0</td>\n",
       "      <td>582.6</td>\n",
       "      <td>582.61</td>\n",
       "      <td>36</td>\n",
       "      <td>2019</td>\n",
       "      <td>NY</td>\n",
       "      <td>Alzheimer</td>\n",
       "      <td>85</td>\n",
       "    </tr>\n",
       "    <tr>\n",
       "      <th>14797</th>\n",
       "      <td>New York</td>\n",
       "      <td>Major cardiovascular diseases (I00-I78)</td>\n",
       "      <td>GR113-053</td>\n",
       "      <td>85+ years</td>\n",
       "      <td>85+</td>\n",
       "      <td>24287.0</td>\n",
       "      <td>460001.0</td>\n",
       "      <td>5279.8</td>\n",
       "      <td>5279.77</td>\n",
       "      <td>36</td>\n",
       "      <td>2019</td>\n",
       "      <td>NY</td>\n",
       "      <td>Heart Disease (Major)</td>\n",
       "      <td>85</td>\n",
       "    </tr>\n",
       "    <tr>\n",
       "      <th>14937</th>\n",
       "      <td>New York</td>\n",
       "      <td>Other disorders of circulatory system (I80-I99)</td>\n",
       "      <td>GR113-075</td>\n",
       "      <td>85+ years</td>\n",
       "      <td>85+</td>\n",
       "      <td>77.0</td>\n",
       "      <td>460001.0</td>\n",
       "      <td>16.7</td>\n",
       "      <td>16.74</td>\n",
       "      <td>36</td>\n",
       "      <td>2019</td>\n",
       "      <td>NY</td>\n",
       "      <td>Other disorders of circulatory system (I80-I99)</td>\n",
       "      <td>85</td>\n",
       "    </tr>\n",
       "    <tr>\n",
       "      <th>14944</th>\n",
       "      <td>New York</td>\n",
       "      <td>#Influenza and pneumonia (J09-J18)</td>\n",
       "      <td>GR113-076</td>\n",
       "      <td>85+ years</td>\n",
       "      <td>85+</td>\n",
       "      <td>1895.0</td>\n",
       "      <td>460001.0</td>\n",
       "      <td>412.0</td>\n",
       "      <td>411.96</td>\n",
       "      <td>36</td>\n",
       "      <td>2019</td>\n",
       "      <td>NY</td>\n",
       "      <td>Influenza Pneumonia</td>\n",
       "      <td>85</td>\n",
       "    </tr>\n",
       "    <tr>\n",
       "      <th>14966</th>\n",
       "      <td>New York</td>\n",
       "      <td>#Chronic lower respiratory diseases (J40-J47)</td>\n",
       "      <td>GR113-082</td>\n",
       "      <td>85+ years</td>\n",
       "      <td>85+</td>\n",
       "      <td>2376.0</td>\n",
       "      <td>460001.0</td>\n",
       "      <td>516.5</td>\n",
       "      <td>516.52</td>\n",
       "      <td>36</td>\n",
       "      <td>2019</td>\n",
       "      <td>NY</td>\n",
       "      <td>Chronic lower respiratory diseases</td>\n",
       "      <td>85</td>\n",
       "    </tr>\n",
       "    <tr>\n",
       "      <th>14990</th>\n",
       "      <td>New York</td>\n",
       "      <td>#Pneumonitis due to solids and liquids (J69)</td>\n",
       "      <td>GR113-088</td>\n",
       "      <td>85+ years</td>\n",
       "      <td>85+</td>\n",
       "      <td>303.0</td>\n",
       "      <td>460001.0</td>\n",
       "      <td>65.9</td>\n",
       "      <td>65.87</td>\n",
       "      <td>36</td>\n",
       "      <td>2019</td>\n",
       "      <td>NY</td>\n",
       "      <td>#Pneumonitis due to solids and liquids (J69)</td>\n",
       "      <td>85</td>\n",
       "    </tr>\n",
       "    <tr>\n",
       "      <th>14997</th>\n",
       "      <td>New York</td>\n",
       "      <td>Other diseases of respiratory system (J00-J06,...</td>\n",
       "      <td>GR113-089</td>\n",
       "      <td>85+ years</td>\n",
       "      <td>85+</td>\n",
       "      <td>948.0</td>\n",
       "      <td>460001.0</td>\n",
       "      <td>206.1</td>\n",
       "      <td>206.09</td>\n",
       "      <td>36</td>\n",
       "      <td>2019</td>\n",
       "      <td>NY</td>\n",
       "      <td>Other diseases of respiratory system</td>\n",
       "      <td>85</td>\n",
       "    </tr>\n",
       "    <tr>\n",
       "      <th>15002</th>\n",
       "      <td>New York</td>\n",
       "      <td>#Peptic ulcer (K25-K28)</td>\n",
       "      <td>GR113-090</td>\n",
       "      <td>85+ years</td>\n",
       "      <td>85+</td>\n",
       "      <td>87.0</td>\n",
       "      <td>460001.0</td>\n",
       "      <td>18.9</td>\n",
       "      <td>18.91</td>\n",
       "      <td>36</td>\n",
       "      <td>2019</td>\n",
       "      <td>NY</td>\n",
       "      <td>#Peptic ulcer (K25-K28)</td>\n",
       "      <td>85</td>\n",
       "    </tr>\n",
       "    <tr>\n",
       "      <th>15013</th>\n",
       "      <td>New York</td>\n",
       "      <td>#Chronic liver disease and cirrhosis (K70,K73-...</td>\n",
       "      <td>GR113-093</td>\n",
       "      <td>85+ years</td>\n",
       "      <td>85+</td>\n",
       "      <td>81.0</td>\n",
       "      <td>460001.0</td>\n",
       "      <td>17.6</td>\n",
       "      <td>17.61</td>\n",
       "      <td>36</td>\n",
       "      <td>2019</td>\n",
       "      <td>NY</td>\n",
       "      <td>#Chronic liver disease and cirrhosis (K70,K73-...</td>\n",
       "      <td>85</td>\n",
       "    </tr>\n",
       "    <tr>\n",
       "      <th>15030</th>\n",
       "      <td>New York</td>\n",
       "      <td>#Cholelithiasis and other disorders of gallbla...</td>\n",
       "      <td>GR113-096</td>\n",
       "      <td>85+ years</td>\n",
       "      <td>85+</td>\n",
       "      <td>115.0</td>\n",
       "      <td>460001.0</td>\n",
       "      <td>25.0</td>\n",
       "      <td>25.00</td>\n",
       "      <td>36</td>\n",
       "      <td>2019</td>\n",
       "      <td>NY</td>\n",
       "      <td>#Cholelithiasis and other disorders of gallbla...</td>\n",
       "      <td>85</td>\n",
       "    </tr>\n",
       "    <tr>\n",
       "      <th>15036</th>\n",
       "      <td>New York</td>\n",
       "      <td>#Nephritis, nephrotic syndrome and nephrosis (...</td>\n",
       "      <td>GR113-097</td>\n",
       "      <td>85+ years</td>\n",
       "      <td>85+</td>\n",
       "      <td>1021.0</td>\n",
       "      <td>460001.0</td>\n",
       "      <td>222.0</td>\n",
       "      <td>221.96</td>\n",
       "      <td>36</td>\n",
       "      <td>2019</td>\n",
       "      <td>NY</td>\n",
       "      <td>#Nephritis, nephrotic syndrome and nephrosis (...</td>\n",
       "      <td>85</td>\n",
       "    </tr>\n",
       "    <tr>\n",
       "      <th>15066</th>\n",
       "      <td>New York</td>\n",
       "      <td>#Congenital malformations, deformations and ch...</td>\n",
       "      <td>GR113-109</td>\n",
       "      <td>85+ years</td>\n",
       "      <td>85+</td>\n",
       "      <td>26.0</td>\n",
       "      <td>460001.0</td>\n",
       "      <td>5.7</td>\n",
       "      <td>5.65</td>\n",
       "      <td>36</td>\n",
       "      <td>2019</td>\n",
       "      <td>NY</td>\n",
       "      <td>Congenital malformations</td>\n",
       "      <td>85</td>\n",
       "    </tr>\n",
       "    <tr>\n",
       "      <th>15077</th>\n",
       "      <td>New York</td>\n",
       "      <td>Symptoms, signs and abnormal clinical and labo...</td>\n",
       "      <td>GR113-110</td>\n",
       "      <td>85+ years</td>\n",
       "      <td>85+</td>\n",
       "      <td>850.0</td>\n",
       "      <td>460001.0</td>\n",
       "      <td>184.8</td>\n",
       "      <td>184.78</td>\n",
       "      <td>36</td>\n",
       "      <td>2019</td>\n",
       "      <td>NY</td>\n",
       "      <td>Unkown Cause</td>\n",
       "      <td>85</td>\n",
       "    </tr>\n",
       "    <tr>\n",
       "      <th>15088</th>\n",
       "      <td>New York</td>\n",
       "      <td>All other diseases (Residual)</td>\n",
       "      <td>GR113-111</td>\n",
       "      <td>85+ years</td>\n",
       "      <td>85+</td>\n",
       "      <td>9439.0</td>\n",
       "      <td>460001.0</td>\n",
       "      <td>2052.0</td>\n",
       "      <td>2051.95</td>\n",
       "      <td>36</td>\n",
       "      <td>2019</td>\n",
       "      <td>NY</td>\n",
       "      <td>All other diseases (Residual)</td>\n",
       "      <td>85</td>\n",
       "    </tr>\n",
       "    <tr>\n",
       "      <th>15108</th>\n",
       "      <td>New York</td>\n",
       "      <td>Transport accidents (V01-V99,Y85)</td>\n",
       "      <td>GR113-113</td>\n",
       "      <td>85+ years</td>\n",
       "      <td>85+</td>\n",
       "      <td>63.0</td>\n",
       "      <td>460001.0</td>\n",
       "      <td>13.7</td>\n",
       "      <td>13.70</td>\n",
       "      <td>36</td>\n",
       "      <td>2019</td>\n",
       "      <td>NY</td>\n",
       "      <td>Transport Accidents</td>\n",
       "      <td>85</td>\n",
       "    </tr>\n",
       "    <tr>\n",
       "      <th>15153</th>\n",
       "      <td>New York</td>\n",
       "      <td>Accidental exposure to smoke, fire and flames ...</td>\n",
       "      <td>GR113-121</td>\n",
       "      <td>85+ years</td>\n",
       "      <td>85+</td>\n",
       "      <td>13.0</td>\n",
       "      <td>460001.0</td>\n",
       "      <td>Unreliable</td>\n",
       "      <td>2.83</td>\n",
       "      <td>36</td>\n",
       "      <td>2019</td>\n",
       "      <td>NY</td>\n",
       "      <td>Accidental exposure to smoke, fire and flames ...</td>\n",
       "      <td>85</td>\n",
       "    </tr>\n",
       "    <tr>\n",
       "      <th>15237</th>\n",
       "      <td>New York</td>\n",
       "      <td>#Complications of medical and surgical care (Y...</td>\n",
       "      <td>GR113-135</td>\n",
       "      <td>85+ years</td>\n",
       "      <td>85+</td>\n",
       "      <td>71.0</td>\n",
       "      <td>460001.0</td>\n",
       "      <td>15.4</td>\n",
       "      <td>15.43</td>\n",
       "      <td>36</td>\n",
       "      <td>2019</td>\n",
       "      <td>NY</td>\n",
       "      <td>Medical Care Complications</td>\n",
       "      <td>85</td>\n",
       "    </tr>\n",
       "    <tr>\n",
       "      <th>15006</th>\n",
       "      <td>New York</td>\n",
       "      <td>#Hernia (K40-K46)</td>\n",
       "      <td>GR113-092</td>\n",
       "      <td>85+ years</td>\n",
       "      <td>85+</td>\n",
       "      <td>43.0</td>\n",
       "      <td>460001.0</td>\n",
       "      <td>9.3</td>\n",
       "      <td>9.35</td>\n",
       "      <td>36</td>\n",
       "      <td>2019</td>\n",
       "      <td>NY</td>\n",
       "      <td>#Hernia (K40-K46)</td>\n",
       "      <td>85</td>\n",
       "    </tr>\n",
       "    <tr>\n",
       "      <th>15046</th>\n",
       "      <td>New York</td>\n",
       "      <td>#Infections of kidney (N10-N12,N13.6,N15.1)</td>\n",
       "      <td>GR113-102</td>\n",
       "      <td>85+ years</td>\n",
       "      <td>85+</td>\n",
       "      <td>22.0</td>\n",
       "      <td>460001.0</td>\n",
       "      <td>4.8</td>\n",
       "      <td>4.78</td>\n",
       "      <td>36</td>\n",
       "      <td>2019</td>\n",
       "      <td>NY</td>\n",
       "      <td>#Infections of kidney (N10-N12,N13.6,N15.1)</td>\n",
       "      <td>85</td>\n",
       "    </tr>\n",
       "    <tr>\n",
       "      <th>15048</th>\n",
       "      <td>New York</td>\n",
       "      <td>#Hyperplasia of prostate (N40)</td>\n",
       "      <td>GR113-103</td>\n",
       "      <td>85+ years</td>\n",
       "      <td>85+</td>\n",
       "      <td>37.0</td>\n",
       "      <td>460001.0</td>\n",
       "      <td>8.0</td>\n",
       "      <td>8.04</td>\n",
       "      <td>36</td>\n",
       "      <td>2019</td>\n",
       "      <td>NY</td>\n",
       "      <td>#Hyperplasia of prostate (N40)</td>\n",
       "      <td>85</td>\n",
       "    </tr>\n",
       "  </tbody>\n",
       "</table>\n",
       "</div>"
      ],
      "text/plain": [
       "          State                              ICD-10 113 Cause List  \\\n",
       "14572  New York  Certain other intestinal infections (A04,A07-A09)   \n",
       "14581  New York                              #Septicemia (A40-A41)   \n",
       "14600  New York  Other and unspecified infectious and parasitic...   \n",
       "14610  New York                     #Malignant neoplasms (C00-C97)   \n",
       "14759  New York  #In situ neoplasms, benign neoplasms and neopl...   \n",
       "14765  New York                                 #Anemias (D50-D64)   \n",
       "14772  New York                       #Diabetes mellitus (E10-E14)   \n",
       "14776  New York                #Nutritional deficiencies (E40-E64)   \n",
       "14783  New York                       #Parkinson disease (G20-G21)   \n",
       "14787  New York                           #Alzheimer disease (G30)   \n",
       "14797  New York            Major cardiovascular diseases (I00-I78)   \n",
       "14937  New York    Other disorders of circulatory system (I80-I99)   \n",
       "14944  New York                 #Influenza and pneumonia (J09-J18)   \n",
       "14966  New York      #Chronic lower respiratory diseases (J40-J47)   \n",
       "14990  New York       #Pneumonitis due to solids and liquids (J69)   \n",
       "14997  New York  Other diseases of respiratory system (J00-J06,...   \n",
       "15002  New York                            #Peptic ulcer (K25-K28)   \n",
       "15013  New York  #Chronic liver disease and cirrhosis (K70,K73-...   \n",
       "15030  New York  #Cholelithiasis and other disorders of gallbla...   \n",
       "15036  New York  #Nephritis, nephrotic syndrome and nephrosis (...   \n",
       "15066  New York  #Congenital malformations, deformations and ch...   \n",
       "15077  New York  Symptoms, signs and abnormal clinical and labo...   \n",
       "15088  New York                     All other diseases (Residual)    \n",
       "15108  New York                  Transport accidents (V01-V99,Y85)   \n",
       "15153  New York  Accidental exposure to smoke, fire and flames ...   \n",
       "15237  New York  #Complications of medical and surgical care (Y...   \n",
       "15006  New York                                  #Hernia (K40-K46)   \n",
       "15046  New York        #Infections of kidney (N10-N12,N13.6,N15.1)   \n",
       "15048  New York                     #Hyperplasia of prostate (N40)   \n",
       "\n",
       "      ICD-10 113 Cause List Code Ten-Year Age Groups Ten-Year Age Groups Code  \\\n",
       "14572                  GR113-003           85+ years                      85+   \n",
       "14581                  GR113-010           85+ years                      85+   \n",
       "14600                  GR113-018           85+ years                      85+   \n",
       "14610                  GR113-019           85+ years                      85+   \n",
       "14759                  GR113-044           85+ years                      85+   \n",
       "14765                  GR113-045           85+ years                      85+   \n",
       "14772                  GR113-046           85+ years                      85+   \n",
       "14776                  GR113-047           85+ years                      85+   \n",
       "14783                  GR113-051           85+ years                      85+   \n",
       "14787                  GR113-052           85+ years                      85+   \n",
       "14797                  GR113-053           85+ years                      85+   \n",
       "14937                  GR113-075           85+ years                      85+   \n",
       "14944                  GR113-076           85+ years                      85+   \n",
       "14966                  GR113-082           85+ years                      85+   \n",
       "14990                  GR113-088           85+ years                      85+   \n",
       "14997                  GR113-089           85+ years                      85+   \n",
       "15002                  GR113-090           85+ years                      85+   \n",
       "15013                  GR113-093           85+ years                      85+   \n",
       "15030                  GR113-096           85+ years                      85+   \n",
       "15036                  GR113-097           85+ years                      85+   \n",
       "15066                  GR113-109           85+ years                      85+   \n",
       "15077                  GR113-110           85+ years                      85+   \n",
       "15088                  GR113-111           85+ years                      85+   \n",
       "15108                  GR113-113           85+ years                      85+   \n",
       "15153                  GR113-121           85+ years                      85+   \n",
       "15237                  GR113-135           85+ years                      85+   \n",
       "15006                  GR113-092           85+ years                      85+   \n",
       "15046                  GR113-102           85+ years                      85+   \n",
       "15048                  GR113-103           85+ years                      85+   \n",
       "\n",
       "        Deaths  Population  Crude Rate     Rate fips  Year State_Abv  \\\n",
       "14572    176.0    460001.0        38.3    38.26   36  2019        NY   \n",
       "14581    559.0    460001.0       121.5   121.52   36  2019        NY   \n",
       "14600    196.0    460001.0        42.6    42.61   36  2019        NY   \n",
       "14610   6597.0    460001.0      1434.1  1434.13   36  2019        NY   \n",
       "14759    318.0    460001.0        69.1    69.13   36  2019        NY   \n",
       "14765     94.0    460001.0        20.4    20.43   36  2019        NY   \n",
       "14772   1153.0    460001.0       250.7   250.65   36  2019        NY   \n",
       "14776    167.0    460001.0        36.3    36.30   36  2019        NY   \n",
       "14783    733.0    460001.0       159.3   159.35   36  2019        NY   \n",
       "14787   2680.0    460001.0       582.6   582.61   36  2019        NY   \n",
       "14797  24287.0    460001.0      5279.8  5279.77   36  2019        NY   \n",
       "14937     77.0    460001.0        16.7    16.74   36  2019        NY   \n",
       "14944   1895.0    460001.0       412.0   411.96   36  2019        NY   \n",
       "14966   2376.0    460001.0       516.5   516.52   36  2019        NY   \n",
       "14990    303.0    460001.0        65.9    65.87   36  2019        NY   \n",
       "14997    948.0    460001.0       206.1   206.09   36  2019        NY   \n",
       "15002     87.0    460001.0        18.9    18.91   36  2019        NY   \n",
       "15013     81.0    460001.0        17.6    17.61   36  2019        NY   \n",
       "15030    115.0    460001.0        25.0    25.00   36  2019        NY   \n",
       "15036   1021.0    460001.0       222.0   221.96   36  2019        NY   \n",
       "15066     26.0    460001.0         5.7     5.65   36  2019        NY   \n",
       "15077    850.0    460001.0       184.8   184.78   36  2019        NY   \n",
       "15088   9439.0    460001.0      2052.0  2051.95   36  2019        NY   \n",
       "15108     63.0    460001.0        13.7    13.70   36  2019        NY   \n",
       "15153     13.0    460001.0  Unreliable     2.83   36  2019        NY   \n",
       "15237     71.0    460001.0        15.4    15.43   36  2019        NY   \n",
       "15006     43.0    460001.0         9.3     9.35   36  2019        NY   \n",
       "15046     22.0    460001.0         4.8     4.78   36  2019        NY   \n",
       "15048     37.0    460001.0         8.0     8.04   36  2019        NY   \n",
       "\n",
       "                                          Cause Of Death  age  \n",
       "14572  Certain other intestinal infections (A04,A07-A09)   85  \n",
       "14581                                         Septicemia   85  \n",
       "14600  Other and unspecified infectious and parasitic...   85  \n",
       "14610                                             Cancer   85  \n",
       "14759  #In situ neoplasms, benign neoplasms and neopl...   85  \n",
       "14765                                 #Anemias (D50-D64)   85  \n",
       "14772                                           Diabetes   85  \n",
       "14776                #Nutritional deficiencies (E40-E64)   85  \n",
       "14783                       #Parkinson disease (G20-G21)   85  \n",
       "14787                                          Alzheimer   85  \n",
       "14797                              Heart Disease (Major)   85  \n",
       "14937    Other disorders of circulatory system (I80-I99)   85  \n",
       "14944                                Influenza Pneumonia   85  \n",
       "14966                 Chronic lower respiratory diseases   85  \n",
       "14990       #Pneumonitis due to solids and liquids (J69)   85  \n",
       "14997               Other diseases of respiratory system   85  \n",
       "15002                            #Peptic ulcer (K25-K28)   85  \n",
       "15013  #Chronic liver disease and cirrhosis (K70,K73-...   85  \n",
       "15030  #Cholelithiasis and other disorders of gallbla...   85  \n",
       "15036  #Nephritis, nephrotic syndrome and nephrosis (...   85  \n",
       "15066                           Congenital malformations   85  \n",
       "15077                                       Unkown Cause   85  \n",
       "15088                     All other diseases (Residual)    85  \n",
       "15108                                Transport Accidents   85  \n",
       "15153  Accidental exposure to smoke, fire and flames ...   85  \n",
       "15237                         Medical Care Complications   85  \n",
       "15006                                  #Hernia (K40-K46)   85  \n",
       "15046        #Infections of kidney (N10-N12,N13.6,N15.1)   85  \n",
       "15048                     #Hyperplasia of prostate (N40)   85  "
      ]
     },
     "execution_count": 32,
     "metadata": {},
     "output_type": "execute_result"
    }
   ],
   "source": [
    "ny"
   ]
  },
  {
   "cell_type": "code",
   "execution_count": null,
   "metadata": {},
   "outputs": [],
   "source": []
  },
  {
   "cell_type": "code",
   "execution_count": 58,
   "metadata": {},
   "outputs": [],
   "source": [
    "labels = [\"All\"]\n",
    "labels.extend(list(ny[\"ICD-10 113 Cause List\"]))\n",
    "\n",
    "values = [0]\n",
    "values.extend(list(ny.Rate))\n",
    "\n",
    "\n",
    "parents = []\n",
    "for i,label in enumerate(labels):\n",
    "    if label == \"All\":\n",
    "        parents.append(\"\")\n",
    "    else:\n",
    "        try:\n",
    "            parents = flat_heirarchy[label][\"parents\"]\n",
    "            if len(parent) > 0:\n",
    "                parents.append(parent[0])\n",
    "            else:\n",
    "                parents.append(\"\")\n",
    "                #values[i] = values[i]-values[parents.index(heirarchy[label])]\n",
    "            \n",
    "        except:\n",
    "            parents.append(\"\")  \n",
    "\n"
   ]
  },
  {
   "cell_type": "code",
   "execution_count": 806,
   "metadata": {},
   "outputs": [],
   "source": [
    "test_labels = labels[:11]\n",
    "test_parents = parents[:11]\n",
    "test_values = values[:11]\n",
    "test_values[0] = sum(test_values[1:])"
   ]
  },
  {
   "cell_type": "code",
   "execution_count": 807,
   "metadata": {},
   "outputs": [
    {
     "data": {
      "text/plain": [
       "['All',\n",
       " 'Certain other intestinal infections (A04,A07-A09)',\n",
       " '#Septicemia (A40-A41)',\n",
       " 'Other and unspecified infectious and parasitic diseases and their sequelae (A00,A05,A20-A36,A42-A44,A48-A49,A54-A79,A81-A82,A85.0-A85.1,A85.8,A86-B04,B06-B09,B25-B49,B55-B99,U07.1)',\n",
       " '#Malignant neoplasms (C00-C97)',\n",
       " '#In situ neoplasms, benign neoplasms and neoplasms of uncertain or unknown behavior (D00-D48)',\n",
       " '#Anemias (D50-D64)',\n",
       " '#Diabetes mellitus (E10-E14)',\n",
       " '#Nutritional deficiencies (E40-E64)',\n",
       " '#Parkinson disease (G20-G21)',\n",
       " '#Alzheimer disease (G30)',\n",
       " 'Major cardiovascular diseases (I00-I78)',\n",
       " 'Other disorders of circulatory system (I80-I99)',\n",
       " '#Influenza and pneumonia (J09-J18)',\n",
       " '#Chronic lower respiratory diseases (J40-J47)',\n",
       " '#Pneumonitis due to solids and liquids (J69)',\n",
       " 'Other diseases of respiratory system (J00-J06,J30- J39,J67,J70-J98)',\n",
       " '#Peptic ulcer (K25-K28)',\n",
       " '#Chronic liver disease and cirrhosis (K70,K73-K74)',\n",
       " '#Cholelithiasis and other disorders of gallbladder (K80-K82)',\n",
       " '#Nephritis, nephrotic syndrome and nephrosis (N00-N07,N17-N19,N25-N27)',\n",
       " '#Congenital malformations, deformations and chromosomal abnormalities (Q00-Q99)',\n",
       " 'Symptoms, signs and abnormal clinical and laboratory findings, not elsewhere classified (R00-R99)',\n",
       " 'All other diseases (Residual) ',\n",
       " 'Transport accidents (V01-V99,Y85)',\n",
       " 'Accidental exposure to smoke, fire and flames (X00-X09)',\n",
       " '#Complications of medical and surgical care (Y40-Y84,Y88)',\n",
       " '#Hernia (K40-K46)',\n",
       " '#Infections of kidney (N10-N12,N13.6,N15.1)',\n",
       " '#Hyperplasia of prostate (N40)']"
      ]
     },
     "execution_count": 807,
     "metadata": {},
     "output_type": "execute_result"
    }
   ],
   "source": [
    "labels"
   ]
  },
  {
   "cell_type": "code",
   "execution_count": 808,
   "metadata": {},
   "outputs": [
    {
     "data": {
      "text/plain": [
       "['', '']"
      ]
     },
     "execution_count": 808,
     "metadata": {},
     "output_type": "execute_result"
    }
   ],
   "source": [
    "parents"
   ]
  },
  {
   "cell_type": "code",
   "execution_count": 809,
   "metadata": {},
   "outputs": [
    {
     "data": {
      "text/plain": [
       "[50.3400000000001,\n",
       " 1.69,\n",
       " 0.24,\n",
       " 0.56,\n",
       " 10.69,\n",
       " 6.2,\n",
       " 2.57,\n",
       " 5.4,\n",
       " 0.020000000000102602,\n",
       " 9.45,\n",
       " 13.52]"
      ]
     },
     "execution_count": 809,
     "metadata": {},
     "output_type": "execute_result"
    }
   ],
   "source": [
    "test_values"
   ]
  },
  {
   "cell_type": "code",
   "execution_count": 810,
   "metadata": {},
   "outputs": [
    {
     "data": {
      "application/vnd.plotly.v1+json": {
       "config": {
        "plotlyServerURL": "https://plot.ly"
       },
       "data": [
        {
         "labels": [
          "All",
          "Certain other intestinal infections (A04,A07-A09)",
          "#Septicemia (A40-A41)",
          "Other and unspecified infectious and parasitic diseases and their sequelae (A00,A05,A20-A36,A42-A44,A48-A49,A54-A79,A81-A82,A85.0-A85.1,A85.8,A86-B04,B06-B09,B25-B49,B55-B99,U07.1)",
          "#Malignant neoplasms (C00-C97)",
          "#In situ neoplasms, benign neoplasms and neoplasms of uncertain or unknown behavior (D00-D48)",
          "#Anemias (D50-D64)",
          "#Diabetes mellitus (E10-E14)",
          "#Nutritional deficiencies (E40-E64)",
          "#Parkinson disease (G20-G21)",
          "#Alzheimer disease (G30)",
          "Major cardiovascular diseases (I00-I78)",
          "Other disorders of circulatory system (I80-I99)",
          "#Influenza and pneumonia (J09-J18)",
          "#Chronic lower respiratory diseases (J40-J47)",
          "#Pneumonitis due to solids and liquids (J69)",
          "Other diseases of respiratory system (J00-J06,J30- J39,J67,J70-J98)",
          "#Peptic ulcer (K25-K28)",
          "#Chronic liver disease and cirrhosis (K70,K73-K74)",
          "#Cholelithiasis and other disorders of gallbladder (K80-K82)",
          "#Nephritis, nephrotic syndrome and nephrosis (N00-N07,N17-N19,N25-N27)",
          "#Congenital malformations, deformations and chromosomal abnormalities (Q00-Q99)",
          "Symptoms, signs and abnormal clinical and laboratory findings, not elsewhere classified (R00-R99)",
          "All other diseases (Residual) ",
          "Transport accidents (V01-V99,Y85)",
          "Accidental exposure to smoke, fire and flames (X00-X09)",
          "#Complications of medical and surgical care (Y40-Y84,Y88)",
          "#Hernia (K40-K46)",
          "#Infections of kidney (N10-N12,N13.6,N15.1)",
          "#Hyperplasia of prostate (N40)"
         ],
         "parents": [
          "",
          ""
         ],
         "type": "sunburst",
         "values": [
          0,
          1.69,
          0.24,
          0.56,
          10.69,
          6.2,
          2.57,
          5.4,
          0.020000000000102602,
          9.45,
          13.52,
          11.57,
          37.44,
          35.4,
          41.96,
          2.33,
          94.07,
          6.38,
          30.89,
          3.19,
          12.81,
          13.08,
          23.06,
          11.07,
          11.04,
          15.24,
          0.08000000000000362,
          0.8,
          15.06,
          15.12,
          10.93,
          52.2,
          7.35,
          1.65,
          71.46,
          0.18000000000000016,
          2.48,
          0.3,
          14.73,
          26.07,
          0.009999999999980247,
          0,
          1.71,
          24.95,
          4.25,
          0,
          60.5,
          1.12,
          153.51,
          56.52,
          97,
          26.930000000000007,
          1.06,
          0.35,
          26.93,
          44.03,
          27.52,
          71.28,
          1.89,
          0,
          6.17,
          4.78,
          2.21,
          0,
          3.25,
          24.83,
          0.15000000000000568,
          4.49,
          1.62,
          78.07,
          7.32,
          18.87,
          3.04,
          1.09,
          0,
          22.41,
          14.32,
          2.42,
          0.23999999999999844,
          0.38,
          24.42,
          0.59,
          0.47,
          1.92,
          4.02,
          115.66,
          0,
          0,
          11.99,
          0.77,
          1.03,
          6.380000000000003,
          12.25,
          1.56,
          1.15,
          13.41,
          6.38,
          6.94,
          6.79,
          6.94,
          1.3299999999999998,
          0.74,
          1.33,
          0.83,
          0,
          2.19,
          3.57
         ]
        }
       ],
       "layout": {
        "template": {
         "data": {
          "bar": [
           {
            "error_x": {
             "color": "#2a3f5f"
            },
            "error_y": {
             "color": "#2a3f5f"
            },
            "marker": {
             "line": {
              "color": "#E5ECF6",
              "width": 0.5
             },
             "pattern": {
              "fillmode": "overlay",
              "size": 10,
              "solidity": 0.2
             }
            },
            "type": "bar"
           }
          ],
          "barpolar": [
           {
            "marker": {
             "line": {
              "color": "#E5ECF6",
              "width": 0.5
             },
             "pattern": {
              "fillmode": "overlay",
              "size": 10,
              "solidity": 0.2
             }
            },
            "type": "barpolar"
           }
          ],
          "carpet": [
           {
            "aaxis": {
             "endlinecolor": "#2a3f5f",
             "gridcolor": "white",
             "linecolor": "white",
             "minorgridcolor": "white",
             "startlinecolor": "#2a3f5f"
            },
            "baxis": {
             "endlinecolor": "#2a3f5f",
             "gridcolor": "white",
             "linecolor": "white",
             "minorgridcolor": "white",
             "startlinecolor": "#2a3f5f"
            },
            "type": "carpet"
           }
          ],
          "choropleth": [
           {
            "colorbar": {
             "outlinewidth": 0,
             "ticks": ""
            },
            "type": "choropleth"
           }
          ],
          "contour": [
           {
            "colorbar": {
             "outlinewidth": 0,
             "ticks": ""
            },
            "colorscale": [
             [
              0,
              "#0d0887"
             ],
             [
              0.1111111111111111,
              "#46039f"
             ],
             [
              0.2222222222222222,
              "#7201a8"
             ],
             [
              0.3333333333333333,
              "#9c179e"
             ],
             [
              0.4444444444444444,
              "#bd3786"
             ],
             [
              0.5555555555555556,
              "#d8576b"
             ],
             [
              0.6666666666666666,
              "#ed7953"
             ],
             [
              0.7777777777777778,
              "#fb9f3a"
             ],
             [
              0.8888888888888888,
              "#fdca26"
             ],
             [
              1,
              "#f0f921"
             ]
            ],
            "type": "contour"
           }
          ],
          "contourcarpet": [
           {
            "colorbar": {
             "outlinewidth": 0,
             "ticks": ""
            },
            "type": "contourcarpet"
           }
          ],
          "heatmap": [
           {
            "colorbar": {
             "outlinewidth": 0,
             "ticks": ""
            },
            "colorscale": [
             [
              0,
              "#0d0887"
             ],
             [
              0.1111111111111111,
              "#46039f"
             ],
             [
              0.2222222222222222,
              "#7201a8"
             ],
             [
              0.3333333333333333,
              "#9c179e"
             ],
             [
              0.4444444444444444,
              "#bd3786"
             ],
             [
              0.5555555555555556,
              "#d8576b"
             ],
             [
              0.6666666666666666,
              "#ed7953"
             ],
             [
              0.7777777777777778,
              "#fb9f3a"
             ],
             [
              0.8888888888888888,
              "#fdca26"
             ],
             [
              1,
              "#f0f921"
             ]
            ],
            "type": "heatmap"
           }
          ],
          "heatmapgl": [
           {
            "colorbar": {
             "outlinewidth": 0,
             "ticks": ""
            },
            "colorscale": [
             [
              0,
              "#0d0887"
             ],
             [
              0.1111111111111111,
              "#46039f"
             ],
             [
              0.2222222222222222,
              "#7201a8"
             ],
             [
              0.3333333333333333,
              "#9c179e"
             ],
             [
              0.4444444444444444,
              "#bd3786"
             ],
             [
              0.5555555555555556,
              "#d8576b"
             ],
             [
              0.6666666666666666,
              "#ed7953"
             ],
             [
              0.7777777777777778,
              "#fb9f3a"
             ],
             [
              0.8888888888888888,
              "#fdca26"
             ],
             [
              1,
              "#f0f921"
             ]
            ],
            "type": "heatmapgl"
           }
          ],
          "histogram": [
           {
            "marker": {
             "pattern": {
              "fillmode": "overlay",
              "size": 10,
              "solidity": 0.2
             }
            },
            "type": "histogram"
           }
          ],
          "histogram2d": [
           {
            "colorbar": {
             "outlinewidth": 0,
             "ticks": ""
            },
            "colorscale": [
             [
              0,
              "#0d0887"
             ],
             [
              0.1111111111111111,
              "#46039f"
             ],
             [
              0.2222222222222222,
              "#7201a8"
             ],
             [
              0.3333333333333333,
              "#9c179e"
             ],
             [
              0.4444444444444444,
              "#bd3786"
             ],
             [
              0.5555555555555556,
              "#d8576b"
             ],
             [
              0.6666666666666666,
              "#ed7953"
             ],
             [
              0.7777777777777778,
              "#fb9f3a"
             ],
             [
              0.8888888888888888,
              "#fdca26"
             ],
             [
              1,
              "#f0f921"
             ]
            ],
            "type": "histogram2d"
           }
          ],
          "histogram2dcontour": [
           {
            "colorbar": {
             "outlinewidth": 0,
             "ticks": ""
            },
            "colorscale": [
             [
              0,
              "#0d0887"
             ],
             [
              0.1111111111111111,
              "#46039f"
             ],
             [
              0.2222222222222222,
              "#7201a8"
             ],
             [
              0.3333333333333333,
              "#9c179e"
             ],
             [
              0.4444444444444444,
              "#bd3786"
             ],
             [
              0.5555555555555556,
              "#d8576b"
             ],
             [
              0.6666666666666666,
              "#ed7953"
             ],
             [
              0.7777777777777778,
              "#fb9f3a"
             ],
             [
              0.8888888888888888,
              "#fdca26"
             ],
             [
              1,
              "#f0f921"
             ]
            ],
            "type": "histogram2dcontour"
           }
          ],
          "mesh3d": [
           {
            "colorbar": {
             "outlinewidth": 0,
             "ticks": ""
            },
            "type": "mesh3d"
           }
          ],
          "parcoords": [
           {
            "line": {
             "colorbar": {
              "outlinewidth": 0,
              "ticks": ""
             }
            },
            "type": "parcoords"
           }
          ],
          "pie": [
           {
            "automargin": true,
            "type": "pie"
           }
          ],
          "scatter": [
           {
            "marker": {
             "colorbar": {
              "outlinewidth": 0,
              "ticks": ""
             }
            },
            "type": "scatter"
           }
          ],
          "scatter3d": [
           {
            "line": {
             "colorbar": {
              "outlinewidth": 0,
              "ticks": ""
             }
            },
            "marker": {
             "colorbar": {
              "outlinewidth": 0,
              "ticks": ""
             }
            },
            "type": "scatter3d"
           }
          ],
          "scattercarpet": [
           {
            "marker": {
             "colorbar": {
              "outlinewidth": 0,
              "ticks": ""
             }
            },
            "type": "scattercarpet"
           }
          ],
          "scattergeo": [
           {
            "marker": {
             "colorbar": {
              "outlinewidth": 0,
              "ticks": ""
             }
            },
            "type": "scattergeo"
           }
          ],
          "scattergl": [
           {
            "marker": {
             "colorbar": {
              "outlinewidth": 0,
              "ticks": ""
             }
            },
            "type": "scattergl"
           }
          ],
          "scattermapbox": [
           {
            "marker": {
             "colorbar": {
              "outlinewidth": 0,
              "ticks": ""
             }
            },
            "type": "scattermapbox"
           }
          ],
          "scatterpolar": [
           {
            "marker": {
             "colorbar": {
              "outlinewidth": 0,
              "ticks": ""
             }
            },
            "type": "scatterpolar"
           }
          ],
          "scatterpolargl": [
           {
            "marker": {
             "colorbar": {
              "outlinewidth": 0,
              "ticks": ""
             }
            },
            "type": "scatterpolargl"
           }
          ],
          "scatterternary": [
           {
            "marker": {
             "colorbar": {
              "outlinewidth": 0,
              "ticks": ""
             }
            },
            "type": "scatterternary"
           }
          ],
          "surface": [
           {
            "colorbar": {
             "outlinewidth": 0,
             "ticks": ""
            },
            "colorscale": [
             [
              0,
              "#0d0887"
             ],
             [
              0.1111111111111111,
              "#46039f"
             ],
             [
              0.2222222222222222,
              "#7201a8"
             ],
             [
              0.3333333333333333,
              "#9c179e"
             ],
             [
              0.4444444444444444,
              "#bd3786"
             ],
             [
              0.5555555555555556,
              "#d8576b"
             ],
             [
              0.6666666666666666,
              "#ed7953"
             ],
             [
              0.7777777777777778,
              "#fb9f3a"
             ],
             [
              0.8888888888888888,
              "#fdca26"
             ],
             [
              1,
              "#f0f921"
             ]
            ],
            "type": "surface"
           }
          ],
          "table": [
           {
            "cells": {
             "fill": {
              "color": "#EBF0F8"
             },
             "line": {
              "color": "white"
             }
            },
            "header": {
             "fill": {
              "color": "#C8D4E3"
             },
             "line": {
              "color": "white"
             }
            },
            "type": "table"
           }
          ]
         },
         "layout": {
          "annotationdefaults": {
           "arrowcolor": "#2a3f5f",
           "arrowhead": 0,
           "arrowwidth": 1
          },
          "autotypenumbers": "strict",
          "coloraxis": {
           "colorbar": {
            "outlinewidth": 0,
            "ticks": ""
           }
          },
          "colorscale": {
           "diverging": [
            [
             0,
             "#8e0152"
            ],
            [
             0.1,
             "#c51b7d"
            ],
            [
             0.2,
             "#de77ae"
            ],
            [
             0.3,
             "#f1b6da"
            ],
            [
             0.4,
             "#fde0ef"
            ],
            [
             0.5,
             "#f7f7f7"
            ],
            [
             0.6,
             "#e6f5d0"
            ],
            [
             0.7,
             "#b8e186"
            ],
            [
             0.8,
             "#7fbc41"
            ],
            [
             0.9,
             "#4d9221"
            ],
            [
             1,
             "#276419"
            ]
           ],
           "sequential": [
            [
             0,
             "#0d0887"
            ],
            [
             0.1111111111111111,
             "#46039f"
            ],
            [
             0.2222222222222222,
             "#7201a8"
            ],
            [
             0.3333333333333333,
             "#9c179e"
            ],
            [
             0.4444444444444444,
             "#bd3786"
            ],
            [
             0.5555555555555556,
             "#d8576b"
            ],
            [
             0.6666666666666666,
             "#ed7953"
            ],
            [
             0.7777777777777778,
             "#fb9f3a"
            ],
            [
             0.8888888888888888,
             "#fdca26"
            ],
            [
             1,
             "#f0f921"
            ]
           ],
           "sequentialminus": [
            [
             0,
             "#0d0887"
            ],
            [
             0.1111111111111111,
             "#46039f"
            ],
            [
             0.2222222222222222,
             "#7201a8"
            ],
            [
             0.3333333333333333,
             "#9c179e"
            ],
            [
             0.4444444444444444,
             "#bd3786"
            ],
            [
             0.5555555555555556,
             "#d8576b"
            ],
            [
             0.6666666666666666,
             "#ed7953"
            ],
            [
             0.7777777777777778,
             "#fb9f3a"
            ],
            [
             0.8888888888888888,
             "#fdca26"
            ],
            [
             1,
             "#f0f921"
            ]
           ]
          },
          "colorway": [
           "#636efa",
           "#EF553B",
           "#00cc96",
           "#ab63fa",
           "#FFA15A",
           "#19d3f3",
           "#FF6692",
           "#B6E880",
           "#FF97FF",
           "#FECB52"
          ],
          "font": {
           "color": "#2a3f5f"
          },
          "geo": {
           "bgcolor": "white",
           "lakecolor": "white",
           "landcolor": "#E5ECF6",
           "showlakes": true,
           "showland": true,
           "subunitcolor": "white"
          },
          "hoverlabel": {
           "align": "left"
          },
          "hovermode": "closest",
          "mapbox": {
           "style": "light"
          },
          "paper_bgcolor": "white",
          "plot_bgcolor": "#E5ECF6",
          "polar": {
           "angularaxis": {
            "gridcolor": "white",
            "linecolor": "white",
            "ticks": ""
           },
           "bgcolor": "#E5ECF6",
           "radialaxis": {
            "gridcolor": "white",
            "linecolor": "white",
            "ticks": ""
           }
          },
          "scene": {
           "xaxis": {
            "backgroundcolor": "#E5ECF6",
            "gridcolor": "white",
            "gridwidth": 2,
            "linecolor": "white",
            "showbackground": true,
            "ticks": "",
            "zerolinecolor": "white"
           },
           "yaxis": {
            "backgroundcolor": "#E5ECF6",
            "gridcolor": "white",
            "gridwidth": 2,
            "linecolor": "white",
            "showbackground": true,
            "ticks": "",
            "zerolinecolor": "white"
           },
           "zaxis": {
            "backgroundcolor": "#E5ECF6",
            "gridcolor": "white",
            "gridwidth": 2,
            "linecolor": "white",
            "showbackground": true,
            "ticks": "",
            "zerolinecolor": "white"
           }
          },
          "shapedefaults": {
           "line": {
            "color": "#2a3f5f"
           }
          },
          "ternary": {
           "aaxis": {
            "gridcolor": "white",
            "linecolor": "white",
            "ticks": ""
           },
           "baxis": {
            "gridcolor": "white",
            "linecolor": "white",
            "ticks": ""
           },
           "bgcolor": "#E5ECF6",
           "caxis": {
            "gridcolor": "white",
            "linecolor": "white",
            "ticks": ""
           }
          },
          "title": {
           "x": 0.05
          },
          "xaxis": {
           "automargin": true,
           "gridcolor": "white",
           "linecolor": "white",
           "ticks": "",
           "title": {
            "standoff": 15
           },
           "zerolinecolor": "white",
           "zerolinewidth": 2
          },
          "yaxis": {
           "automargin": true,
           "gridcolor": "white",
           "linecolor": "white",
           "ticks": "",
           "title": {
            "standoff": 15
           },
           "zerolinecolor": "white",
           "zerolinewidth": 2
          }
         }
        }
       }
      }
     },
     "metadata": {},
     "output_type": "display_data"
    }
   ],
   "source": [
    "fig =go.Figure(go.Sunburst(\n",
    "    labels=labels,\n",
    "    parents=parents,\n",
    "    values=values,\n",
    "))\n",
    "\n",
    "fig.show()"
   ]
  },
  {
   "cell_type": "code",
   "execution_count": 811,
   "metadata": {},
   "outputs": [
    {
     "data": {
      "text/plain": [
       "{'common_name': None,\n",
       " 'children': [],\n",
       " 'parents': [],\n",
       " 'ranges': {'H': [], 'B': [20, 21, 22, 23, 24]},\n",
       " 'chapters': ['B'],\n",
       " 'base': True,\n",
       " 'Rate': 2.57}"
      ]
     },
     "execution_count": 811,
     "metadata": {},
     "output_type": "execute_result"
    }
   ],
   "source": [
    "flat_heirarchy[\"#Human immunodeficiency virus (HIV) disease (B20-B24)\"]"
   ]
  },
  {
   "cell_type": "code",
   "execution_count": 812,
   "metadata": {},
   "outputs": [],
   "source": [
    "df = pd.read_csv(r\"data/Life/Deaths/StateDeathsAge.txt\", delimiter=\"\t\", na_values = ['Not Applicable'])\n",
    "df = df.dropna(subset=[\"State\",\"ICD-10 113 Cause List Code\", \"Population\"])"
   ]
  },
  {
   "cell_type": "code",
   "execution_count": 813,
   "metadata": {},
   "outputs": [
    {
     "data": {
      "text/html": [
       "<div>\n",
       "<style scoped>\n",
       "    .dataframe tbody tr th:only-of-type {\n",
       "        vertical-align: middle;\n",
       "    }\n",
       "\n",
       "    .dataframe tbody tr th {\n",
       "        vertical-align: top;\n",
       "    }\n",
       "\n",
       "    .dataframe thead th {\n",
       "        text-align: right;\n",
       "    }\n",
       "</style>\n",
       "<table border=\"1\" class=\"dataframe\">\n",
       "  <thead>\n",
       "    <tr style=\"text-align: right;\">\n",
       "      <th></th>\n",
       "      <th>Notes</th>\n",
       "      <th>State</th>\n",
       "      <th>State Code</th>\n",
       "      <th>ICD-10 113 Cause List</th>\n",
       "      <th>ICD-10 113 Cause List Code</th>\n",
       "      <th>Ten-Year Age Groups</th>\n",
       "      <th>Ten-Year Age Groups Code</th>\n",
       "      <th>Deaths</th>\n",
       "      <th>Population</th>\n",
       "      <th>Crude Rate</th>\n",
       "      <th>Rate</th>\n",
       "    </tr>\n",
       "  </thead>\n",
       "  <tbody>\n",
       "    <tr>\n",
       "      <th>1748</th>\n",
       "      <td>NaN</td>\n",
       "      <td>California</td>\n",
       "      <td>6.0</td>\n",
       "      <td>Certain other intestinal infections (A04,A07-A09)</td>\n",
       "      <td>GR113-003</td>\n",
       "      <td>65-74 years</td>\n",
       "      <td>65-74</td>\n",
       "      <td>178.0</td>\n",
       "      <td>3386670.0</td>\n",
       "      <td>5.3</td>\n",
       "      <td>5.26</td>\n",
       "    </tr>\n",
       "    <tr>\n",
       "      <th>1753</th>\n",
       "      <td>NaN</td>\n",
       "      <td>California</td>\n",
       "      <td>6.0</td>\n",
       "      <td>#Tuberculosis (A16-A19)</td>\n",
       "      <td>GR113-004</td>\n",
       "      <td>65-74 years</td>\n",
       "      <td>65-74</td>\n",
       "      <td>27.0</td>\n",
       "      <td>3386670.0</td>\n",
       "      <td>0.8</td>\n",
       "      <td>0.80</td>\n",
       "    </tr>\n",
       "    <tr>\n",
       "      <th>1758</th>\n",
       "      <td>NaN</td>\n",
       "      <td>California</td>\n",
       "      <td>6.0</td>\n",
       "      <td>Respiratory tuberculosis (A16)</td>\n",
       "      <td>GR113-005</td>\n",
       "      <td>65-74 years</td>\n",
       "      <td>65-74</td>\n",
       "      <td>19.0</td>\n",
       "      <td>3386670.0</td>\n",
       "      <td>Unreliable</td>\n",
       "      <td>0.56</td>\n",
       "    </tr>\n",
       "    <tr>\n",
       "      <th>1766</th>\n",
       "      <td>NaN</td>\n",
       "      <td>California</td>\n",
       "      <td>6.0</td>\n",
       "      <td>#Septicemia (A40-A41)</td>\n",
       "      <td>GR113-010</td>\n",
       "      <td>65-74 years</td>\n",
       "      <td>65-74</td>\n",
       "      <td>362.0</td>\n",
       "      <td>3386670.0</td>\n",
       "      <td>10.7</td>\n",
       "      <td>10.69</td>\n",
       "    </tr>\n",
       "    <tr>\n",
       "      <th>1771</th>\n",
       "      <td>NaN</td>\n",
       "      <td>California</td>\n",
       "      <td>6.0</td>\n",
       "      <td>#Viral hepatitis (B15-B19)</td>\n",
       "      <td>GR113-015</td>\n",
       "      <td>65-74 years</td>\n",
       "      <td>65-74</td>\n",
       "      <td>210.0</td>\n",
       "      <td>3386670.0</td>\n",
       "      <td>6.2</td>\n",
       "      <td>6.20</td>\n",
       "    </tr>\n",
       "    <tr>\n",
       "      <th>...</th>\n",
       "      <td>...</td>\n",
       "      <td>...</td>\n",
       "      <td>...</td>\n",
       "      <td>...</td>\n",
       "      <td>...</td>\n",
       "      <td>...</td>\n",
       "      <td>...</td>\n",
       "      <td>...</td>\n",
       "      <td>...</td>\n",
       "      <td>...</td>\n",
       "      <td>...</td>\n",
       "    </tr>\n",
       "    <tr>\n",
       "      <th>2493</th>\n",
       "      <td>NaN</td>\n",
       "      <td>California</td>\n",
       "      <td>6.0</td>\n",
       "      <td>Assault (homicide) by other and unspecified me...</td>\n",
       "      <td>GR113-129</td>\n",
       "      <td>65-74 years</td>\n",
       "      <td>65-74</td>\n",
       "      <td>45.0</td>\n",
       "      <td>3386670.0</td>\n",
       "      <td>1.3</td>\n",
       "      <td>1.33</td>\n",
       "    </tr>\n",
       "    <tr>\n",
       "      <th>2505</th>\n",
       "      <td>NaN</td>\n",
       "      <td>California</td>\n",
       "      <td>6.0</td>\n",
       "      <td>Events of undetermined intent (Y10-Y34,Y87.2,Y...</td>\n",
       "      <td>GR113-131</td>\n",
       "      <td>65-74 years</td>\n",
       "      <td>65-74</td>\n",
       "      <td>28.0</td>\n",
       "      <td>3386670.0</td>\n",
       "      <td>0.8</td>\n",
       "      <td>0.83</td>\n",
       "    </tr>\n",
       "    <tr>\n",
       "      <th>2512</th>\n",
       "      <td>NaN</td>\n",
       "      <td>California</td>\n",
       "      <td>6.0</td>\n",
       "      <td>Other and unspecified events of undetermined i...</td>\n",
       "      <td>GR113-133</td>\n",
       "      <td>65-74 years</td>\n",
       "      <td>65-74</td>\n",
       "      <td>27.0</td>\n",
       "      <td>3386670.0</td>\n",
       "      <td>0.8</td>\n",
       "      <td>0.80</td>\n",
       "    </tr>\n",
       "    <tr>\n",
       "      <th>2516</th>\n",
       "      <td>NaN</td>\n",
       "      <td>California</td>\n",
       "      <td>6.0</td>\n",
       "      <td>#Complications of medical and surgical care (Y...</td>\n",
       "      <td>GR113-135</td>\n",
       "      <td>65-74 years</td>\n",
       "      <td>65-74</td>\n",
       "      <td>74.0</td>\n",
       "      <td>3386670.0</td>\n",
       "      <td>2.2</td>\n",
       "      <td>2.19</td>\n",
       "    </tr>\n",
       "    <tr>\n",
       "      <th>2521</th>\n",
       "      <td>NaN</td>\n",
       "      <td>California</td>\n",
       "      <td>6.0</td>\n",
       "      <td>#Enterocolitis due to Clostridium difficile (A...</td>\n",
       "      <td>GR113-136</td>\n",
       "      <td>65-74 years</td>\n",
       "      <td>65-74</td>\n",
       "      <td>121.0</td>\n",
       "      <td>3386670.0</td>\n",
       "      <td>3.6</td>\n",
       "      <td>3.57</td>\n",
       "    </tr>\n",
       "  </tbody>\n",
       "</table>\n",
       "<p>106 rows × 11 columns</p>\n",
       "</div>"
      ],
      "text/plain": [
       "     Notes       State  State Code  \\\n",
       "1748   NaN  California         6.0   \n",
       "1753   NaN  California         6.0   \n",
       "1758   NaN  California         6.0   \n",
       "1766   NaN  California         6.0   \n",
       "1771   NaN  California         6.0   \n",
       "...    ...         ...         ...   \n",
       "2493   NaN  California         6.0   \n",
       "2505   NaN  California         6.0   \n",
       "2512   NaN  California         6.0   \n",
       "2516   NaN  California         6.0   \n",
       "2521   NaN  California         6.0   \n",
       "\n",
       "                                  ICD-10 113 Cause List  \\\n",
       "1748  Certain other intestinal infections (A04,A07-A09)   \n",
       "1753                            #Tuberculosis (A16-A19)   \n",
       "1758                     Respiratory tuberculosis (A16)   \n",
       "1766                              #Septicemia (A40-A41)   \n",
       "1771                         #Viral hepatitis (B15-B19)   \n",
       "...                                                 ...   \n",
       "2493  Assault (homicide) by other and unspecified me...   \n",
       "2505  Events of undetermined intent (Y10-Y34,Y87.2,Y...   \n",
       "2512  Other and unspecified events of undetermined i...   \n",
       "2516  #Complications of medical and surgical care (Y...   \n",
       "2521  #Enterocolitis due to Clostridium difficile (A...   \n",
       "\n",
       "     ICD-10 113 Cause List Code Ten-Year Age Groups Ten-Year Age Groups Code  \\\n",
       "1748                  GR113-003         65-74 years                    65-74   \n",
       "1753                  GR113-004         65-74 years                    65-74   \n",
       "1758                  GR113-005         65-74 years                    65-74   \n",
       "1766                  GR113-010         65-74 years                    65-74   \n",
       "1771                  GR113-015         65-74 years                    65-74   \n",
       "...                         ...                 ...                      ...   \n",
       "2493                  GR113-129         65-74 years                    65-74   \n",
       "2505                  GR113-131         65-74 years                    65-74   \n",
       "2512                  GR113-133         65-74 years                    65-74   \n",
       "2516                  GR113-135         65-74 years                    65-74   \n",
       "2521                  GR113-136         65-74 years                    65-74   \n",
       "\n",
       "      Deaths  Population  Crude Rate   Rate  \n",
       "1748   178.0   3386670.0         5.3   5.26  \n",
       "1753    27.0   3386670.0         0.8   0.80  \n",
       "1758    19.0   3386670.0  Unreliable   0.56  \n",
       "1766   362.0   3386670.0        10.7  10.69  \n",
       "1771   210.0   3386670.0         6.2   6.20  \n",
       "...      ...         ...         ...    ...  \n",
       "2493    45.0   3386670.0         1.3   1.33  \n",
       "2505    28.0   3386670.0         0.8   0.83  \n",
       "2512    27.0   3386670.0         0.8   0.80  \n",
       "2516    74.0   3386670.0         2.2   2.19  \n",
       "2521   121.0   3386670.0         3.6   3.57  \n",
       "\n",
       "[106 rows x 11 columns]"
      ]
     },
     "execution_count": 813,
     "metadata": {},
     "output_type": "execute_result"
    }
   ],
   "source": [
    "state"
   ]
  },
  {
   "cell_type": "code",
   "execution_count": 814,
   "metadata": {},
   "outputs": [
    {
     "data": {
      "text/plain": [
       "1748     5.26\n",
       "1753     0.80\n",
       "1758     0.56\n",
       "1766    10.69\n",
       "1771     6.20\n",
       "        ...  \n",
       "2493     1.33\n",
       "2505     0.83\n",
       "2512     0.80\n",
       "2516     2.19\n",
       "2521     3.57\n",
       "Name: Rate, Length: 106, dtype: float64"
      ]
     },
     "execution_count": 814,
     "metadata": {},
     "output_type": "execute_result"
    }
   ],
   "source": [
    "state[\"Rate\"]"
   ]
  },
  {
   "cell_type": "code",
   "execution_count": 815,
   "metadata": {},
   "outputs": [
    {
     "data": {
      "text/plain": [
       "array(['1', '55-64', '65-74', '75-84', '85+', '25-34', '35-44', '45-54',\n",
       "       '5-14', '1-4', '15-24'], dtype=object)"
      ]
     },
     "execution_count": 815,
     "metadata": {},
     "output_type": "execute_result"
    }
   ],
   "source": [
    "df[\"Ten-Year Age Groups Code\"].unique()"
   ]
  },
  {
   "cell_type": "code",
   "execution_count": 816,
   "metadata": {},
   "outputs": [],
   "source": [
    "age = '45-54'"
   ]
  },
  {
   "cell_type": "code",
   "execution_count": 817,
   "metadata": {},
   "outputs": [],
   "source": [
    "f = open(\"icd-10-Structure.json\")\n",
    "heirarchy = json.load(f)\n",
    "heirarchy\n",
    "\n",
    "f = open(\"icd-10-flat-Structure.json\")\n",
    "flat_heirarchy = json.load(f)\n"
   ]
  },
  {
   "cell_type": "code",
   "execution_count": 122,
   "metadata": {},
   "outputs": [],
   "source": [
    "def load_state_cod(state, age_group = '75-84'):\n",
    "    df = pd.read_csv(r\"data/Life/Deaths/StateDeathsAge.txt\", delimiter=\"\t\", na_values = ['Not Applicable'])\n",
    "    df = df.dropna(subset=[\"State\",\"ICD-10 113 Cause List Code\", \"Population\"]) \n",
    "    state_df= df[df[\"State\"] == state]\n",
    "    state_df = state_df[state_df[\"Ten-Year Age Groups Code\"] =='75-84']\n",
    "    state_df[\"Rate\"] = (state_df[\"Deaths\"] / state_df[\"Population\"])*100000\n",
    "    state_df[\"Rate\"] = np.round(state_df[\"Rate\"], 2)\n",
    "    state_df[\"Child_Adj_Rate\"] = state_df[\"Rate\"]\n",
    "    \n",
    "    state_df[\"Parent\"] = \"\"\n",
    "    state_df[\"Children\"] = \"\"\n",
    "    state_df[\"Common Name\"] = \"\"\n",
    "    \n",
    "    \n",
    "    f = open(\"icd-10-flat-Structure.json\")\n",
    "    flat_heirarchy = json.load(f)\n",
    "\n",
    "    targets =[]\n",
    "    sources = []\n",
    "    values = []\n",
    "\n",
    "    sources.append(\"\")\n",
    "    targets.append(\"All\")\n",
    "    values.append(0)\n",
    "    values.extend(list(state_df.Rate))\n",
    "\n",
    "\n",
    "    for i, row in state_df.iterrows():\n",
    "        try:\n",
    "            structure = flat_heirarchy[row[\"ICD-10 113 Cause List\"]]\n",
    "            state_df.at[i, \"Common Name\"] = structure[\"common_name\"]\n",
    "            targets.append(structure[\"common_name\"])\n",
    "            structure[\"Rate\"] = row[\"Rate\"]\n",
    "            \n",
    "            if len(structure[\"parents\"])  == 1:\n",
    "                parent = flat_heirarchy[structure[\"parents\"][0]][\"common_name\"]\n",
    "                state_df.loc[i, \"Parent\"] = parent\n",
    "                sources.append(parent)\n",
    "            else:\n",
    "                state_df.loc[i, \"Parent\"] = \"All\"\n",
    "                sources.append(\"All\")\n",
    "        except Exception as e:\n",
    "            print(e)\n",
    "        if len(structure[\"children\"]) > 0:\n",
    "            state_df.at[i, \"Children\"] = structure[\"children\"]\n",
    "             \n",
    "    for i, source in enumerate(sources):\n",
    "        if source == \"\":\n",
    "            None\n",
    "        else:\n",
    "            try:\n",
    "                parent_index = targets.index(source)\n",
    "                values[parent_index] = max( values[parent_index] - values[i],0)\n",
    "                state_df.loc[state_df['Common Name'] == targets[parent_index], 'Child_Adj_Rate'] = values[parent_index]\n",
    "                \n",
    "            except:\n",
    "                values[i] = max(values[i],0)\n",
    "                state_df.loc[state_df['Common Name'] == targets[parent_index], 'Child_Adj_Rate'] = values[i]\n",
    "                \n",
    "    size = 99\n",
    "    plot_dict = {\"values\":values[:size], \"targets\":targets[:size], \"parents\":sources[:size]}\n",
    "    return state_df, plot_dict"
   ]
  },
  {
   "cell_type": "code",
   "execution_count": 123,
   "metadata": {},
   "outputs": [],
   "source": [
    "df, plot_dic = load_state_cod(\"California\")"
   ]
  },
  {
   "cell_type": "code",
   "execution_count": 125,
   "metadata": {},
   "outputs": [
    {
     "data": {
      "text/plain": [
       "{'values': [0,\n",
       "  3.0500000000000007,\n",
       "  0.41000000000000014,\n",
       "  1.18,\n",
       "  23.74,\n",
       "  3.64,\n",
       "  1.94,\n",
       "  11.05,\n",
       "  0.020000000000038654,\n",
       "  13.87,\n",
       "  20.8,\n",
       "  21.1,\n",
       "  71.87,\n",
       "  45.78,\n",
       "  78.63,\n",
       "  4.82,\n",
       "  204.92,\n",
       "  12.46,\n",
       "  52.77,\n",
       "  3.35,\n",
       "  17.34,\n",
       "  20.86,\n",
       "  67.76,\n",
       "  19.92,\n",
       "  31.26,\n",
       "  20.22,\n",
       "  0.1700000000000088,\n",
       "  1.53,\n",
       "  37.91,\n",
       "  38.79,\n",
       "  23.86,\n",
       "  112.01,\n",
       "  23.92,\n",
       "  5.17,\n",
       "  151.39,\n",
       "  0.23000000000000043,\n",
       "  10.17,\n",
       "  0.65,\n",
       "  90.62,\n",
       "  234.13,\n",
       "  0,\n",
       "  0,\n",
       "  5.23,\n",
       "  60.59,\n",
       "  13.11,\n",
       "  0,\n",
       "  143.98,\n",
       "  2.29,\n",
       "  373.35,\n",
       "  83.63,\n",
       "  289.73,\n",
       "  106.9,\n",
       "  1.53,\n",
       "  0.71,\n",
       "  106.9,\n",
       "  138.16,\n",
       "  79.69,\n",
       "  247.77,\n",
       "  8.46,\n",
       "  0,\n",
       "  11.64,\n",
       "  12.4,\n",
       "  3.23,\n",
       "  0,\n",
       "  5.35,\n",
       "  77.46,\n",
       "  0.47999999999996135,\n",
       "  10.34,\n",
       "  3.58,\n",
       "  223.08,\n",
       "  0.76,\n",
       "  23.04,\n",
       "  59.18,\n",
       "  7.52,\n",
       "  0.71,\n",
       "  3.88,\n",
       "  0,\n",
       "  13.93,\n",
       "  23.98,\n",
       "  6.88,\n",
       "  0.4099999999999966,\n",
       "  0.59,\n",
       "  60.53,\n",
       "  1.7,\n",
       "  1.12,\n",
       "  2.7,\n",
       "  5.64,\n",
       "  327.28,\n",
       "  0,\n",
       "  0,\n",
       "  15.04,\n",
       "  0.59,\n",
       "  1.0,\n",
       "  10.580000000000005,\n",
       "  43.66,\n",
       "  1.82,\n",
       "  1.35,\n",
       "  3.94,\n",
       "  10.4],\n",
       " 'targets': ['All',\n",
       "  'Certain other intestinal infections',\n",
       "  '#Tuberculosis',\n",
       "  'Respiratory tuberculosis',\n",
       "  'Septicemia',\n",
       "  '#Viral hepatitis',\n",
       "  'HIV',\n",
       "  'Other and unspecified infectious and parasitic diseases and their sequelae',\n",
       "  'Cancer',\n",
       "  'Malignant neoplasms of lip, oral cavity and pharynx',\n",
       "  'Malignant neoplasm of esophagus',\n",
       "  'Malignant neoplasm of stomach',\n",
       "  'Malignant neoplasms of colon, rectum and anus',\n",
       "  'Malignant neoplasms of liver and intrahepatic bile ducts',\n",
       "  'Malignant neoplasm of pancreas',\n",
       "  'Malignant neoplasm of larynx',\n",
       "  'Malignant neoplasms of trachea, bronchus and lung',\n",
       "  'Malignant melanoma of skin',\n",
       "  'Malignant neoplasm of breast',\n",
       "  'Malignant neoplasm of cervix uteri',\n",
       "  'Malignant neoplasms of corpus uteri and uterus, part unspecified',\n",
       "  'Malignant neoplasm of ovary',\n",
       "  'Malignant neoplasm of prostate',\n",
       "  'Malignant neoplasms of kidney and renal pelvis',\n",
       "  'Malignant neoplasm of bladder',\n",
       "  'Cancer (Brain CNC)',\n",
       "  'Lymphoid + Hematopoietic Tumor',\n",
       "  'Hodgkin disease',\n",
       "  'Non-Hodgkin lymphoma',\n",
       "  'Leukemia',\n",
       "  'Multiple myeloma and immunoproliferative neoplasms',\n",
       "  'Cancer (Other Malignant)',\n",
       "  '#In situ neoplasms, benign neoplasms and neoplasms of uncertain or unknown behavior',\n",
       "  '#Anemias',\n",
       "  'Diabetes',\n",
       "  '#Nutritional deficiencies',\n",
       "  'Malnutrition',\n",
       "  '#Meningitis',\n",
       "  '#Parkinson disease',\n",
       "  'Alzheimer',\n",
       "  'Heart Disease (Major)',\n",
       "  'Heart Disease',\n",
       "  'Acute rheumatic fever and chronic rheumatic heart diseases',\n",
       "  'Hypertensive heart disease',\n",
       "  'Hypertensive heart and renal disease',\n",
       "  'Ischemic heart diseases ',\n",
       "  'Acute myocardial infarction',\n",
       "  'Other acute ischemic heart diseases',\n",
       "  'Ischemic heart (Other)',\n",
       "  'Atherosclerotic cardiovascular disease, so described',\n",
       "  'Ischemic heart (Other Part 2)',\n",
       "  'Other heart diseases',\n",
       "  'Acute and subacute endocarditis',\n",
       "  'Diseases of pericardium and acute myocarditis',\n",
       "  'Heart failure',\n",
       "  'Other heart diseases Part II',\n",
       "  '#Essential hypertension and hypertensive renal disease',\n",
       "  'Cerebrovascular Diseases',\n",
       "  '#Atherosclerosis',\n",
       "  'Other diseases of circulatory system',\n",
       "  '#Aortic aneurysm and dissection',\n",
       "  'Other diseases of arteries, arterioles and capillaries',\n",
       "  'Other disorders of circulatory system',\n",
       "  'Influenza Pneumonia',\n",
       "  'Influenza',\n",
       "  'Pneumonia',\n",
       "  'Chronic lower respiratory diseases',\n",
       "  'Emphysema',\n",
       "  'Asthma',\n",
       "  'Other chronic lower respiratory diseases',\n",
       "  '#Pneumoconioses and chemical effects',\n",
       "  '#Pneumonitis due to solids and liquids',\n",
       "  'Other diseases of respiratory system',\n",
       "  '#Peptic ulcer',\n",
       "  '#Diseases of appendix',\n",
       "  '#Hernia',\n",
       "  '#Chronic liver disease and cirrhosis',\n",
       "  'Alcoholic liver disease',\n",
       "  'Other chronic liver disease and cirrhosis',\n",
       "  '#Cholelithiasis and other disorders of gallbladder',\n",
       "  '#Nephritis, nephrotic syndrome and nephrosis',\n",
       "  'Acute and rapidly progressive nephritic and nephrotic syndrome',\n",
       "  'Renal failure',\n",
       "  '#Infections of kidney',\n",
       "  '#Hyperplasia of prostate',\n",
       "  'Congenital malformations',\n",
       "  'Unkown Cause',\n",
       "  'All other diseases',\n",
       "  'Accidents',\n",
       "  'Transport Accidents',\n",
       "  'Motor Vehicle Accidents',\n",
       "  'Other (land transport)',\n",
       "  'Transport Accidents (Other)',\n",
       "  'Nontransport accidents',\n",
       "  'Falls',\n",
       "  'Accidental Drowning',\n",
       "  'Accidental exposure to smoke, fire and flames',\n",
       "  'Accidental poisoning',\n",
       "  'Other Nontransport Accident'],\n",
       " 'parents': ['',\n",
       "  'All',\n",
       "  'All',\n",
       "  '#Tuberculosis',\n",
       "  'All',\n",
       "  'All',\n",
       "  'All',\n",
       "  'All',\n",
       "  'All',\n",
       "  'Cancer',\n",
       "  'Cancer',\n",
       "  'Cancer',\n",
       "  'Cancer',\n",
       "  'Cancer',\n",
       "  'Cancer',\n",
       "  'Cancer',\n",
       "  'Cancer',\n",
       "  'Cancer',\n",
       "  'Cancer',\n",
       "  'Cancer',\n",
       "  'Cancer',\n",
       "  'Cancer',\n",
       "  'Cancer',\n",
       "  'Cancer',\n",
       "  'Cancer',\n",
       "  'Cancer',\n",
       "  'Cancer',\n",
       "  'Lymphoid + Hematopoietic Tumor',\n",
       "  'Lymphoid + Hematopoietic Tumor',\n",
       "  'Lymphoid + Hematopoietic Tumor',\n",
       "  'Lymphoid + Hematopoietic Tumor',\n",
       "  'Cancer',\n",
       "  'All',\n",
       "  'All',\n",
       "  'All',\n",
       "  'All',\n",
       "  '#Nutritional deficiencies',\n",
       "  'All',\n",
       "  'All',\n",
       "  'All',\n",
       "  'All',\n",
       "  'Heart Disease (Major)',\n",
       "  'Heart Disease',\n",
       "  'Heart Disease',\n",
       "  'Heart Disease',\n",
       "  'Heart Disease',\n",
       "  'All',\n",
       "  'Ischemic heart diseases ',\n",
       "  'Ischemic heart diseases ',\n",
       "  'Ischemic heart diseases ',\n",
       "  'Ischemic heart diseases ',\n",
       "  'Heart Disease',\n",
       "  'Other heart diseases',\n",
       "  'Other heart diseases',\n",
       "  'Heart Disease',\n",
       "  'Other heart diseases',\n",
       "  'Heart Disease (Major)',\n",
       "  'Heart Disease (Major)',\n",
       "  'Heart Disease (Major)',\n",
       "  'Heart Disease (Major)',\n",
       "  'Other diseases of circulatory system',\n",
       "  'Other diseases of circulatory system',\n",
       "  'All',\n",
       "  'All',\n",
       "  'Influenza Pneumonia',\n",
       "  'Influenza Pneumonia',\n",
       "  'All',\n",
       "  'Chronic lower respiratory diseases',\n",
       "  'Chronic lower respiratory diseases',\n",
       "  'Chronic lower respiratory diseases',\n",
       "  'All',\n",
       "  'All',\n",
       "  'All',\n",
       "  'All',\n",
       "  'All',\n",
       "  'All',\n",
       "  'All',\n",
       "  '#Chronic liver disease and cirrhosis',\n",
       "  '#Chronic liver disease and cirrhosis',\n",
       "  'All',\n",
       "  'All',\n",
       "  '#Nephritis, nephrotic syndrome and nephrosis',\n",
       "  '#Nephritis, nephrotic syndrome and nephrosis',\n",
       "  'All',\n",
       "  'All',\n",
       "  'All',\n",
       "  'All',\n",
       "  'All',\n",
       "  'All',\n",
       "  'Accidents',\n",
       "  'Transport Accidents',\n",
       "  'Transport Accidents',\n",
       "  'Transport Accidents',\n",
       "  'Accidents',\n",
       "  'Nontransport accidents',\n",
       "  'Nontransport accidents',\n",
       "  'Nontransport accidents',\n",
       "  'Nontransport accidents',\n",
       "  'Accidents']}"
      ]
     },
     "execution_count": 125,
     "metadata": {},
     "output_type": "execute_result"
    }
   ],
   "source": [
    "plot_dic"
   ]
  },
  {
   "cell_type": "code",
   "execution_count": 126,
   "metadata": {},
   "outputs": [
    {
     "data": {
      "text/plain": [
       "['All',\n",
       " 'Certain other intestinal infections',\n",
       " '#Tuberculosis',\n",
       " 'Respiratory tuberculosis',\n",
       " 'Septicemia',\n",
       " '#Viral hepatitis',\n",
       " 'HIV',\n",
       " 'Other and unspecified infectious and parasitic diseases and their sequelae',\n",
       " 'Cancer',\n",
       " 'Malignant neoplasms of lip, oral cavity and pharynx']"
      ]
     },
     "execution_count": 126,
     "metadata": {},
     "output_type": "execute_result"
    }
   ],
   "source": [
    "plot_dic[\"targets\"][:10]"
   ]
  },
  {
   "cell_type": "code",
   "execution_count": 127,
   "metadata": {},
   "outputs": [
    {
     "data": {
      "text/plain": [
       "['',\n",
       " 'All',\n",
       " 'All',\n",
       " '#Tuberculosis',\n",
       " 'All',\n",
       " 'All',\n",
       " 'All',\n",
       " 'All',\n",
       " 'All',\n",
       " 'Cancer']"
      ]
     },
     "execution_count": 127,
     "metadata": {},
     "output_type": "execute_result"
    }
   ],
   "source": [
    "plot_dic[\"parents\"][:10]"
   ]
  },
  {
   "cell_type": "code",
   "execution_count": 129,
   "metadata": {},
   "outputs": [
    {
     "data": {
      "application/vnd.plotly.v1+json": {
       "config": {
        "plotlyServerURL": "https://plot.ly"
       },
       "data": [
        {
         "labels": [
          "All",
          "Certain other intestinal infections",
          "#Tuberculosis",
          "Respiratory tuberculosis",
          "Septicemia",
          "#Viral hepatitis",
          "HIV",
          "Other and unspecified infectious and parasitic diseases and their sequelae",
          "Cancer",
          "Malignant neoplasms of lip, oral cavity and pharynx",
          "Malignant neoplasm of esophagus",
          "Malignant neoplasm of stomach",
          "Malignant neoplasms of colon, rectum and anus",
          "Malignant neoplasms of liver and intrahepatic bile ducts",
          "Malignant neoplasm of pancreas",
          "Malignant neoplasm of larynx",
          "Malignant neoplasms of trachea, bronchus and lung",
          "Malignant melanoma of skin",
          "Malignant neoplasm of breast",
          "Malignant neoplasm of cervix uteri",
          "Malignant neoplasms of corpus uteri and uterus, part unspecified",
          "Malignant neoplasm of ovary",
          "Malignant neoplasm of prostate",
          "Malignant neoplasms of kidney and renal pelvis",
          "Malignant neoplasm of bladder",
          "Cancer (Brain CNC)",
          "Lymphoid + Hematopoietic Tumor",
          "Hodgkin disease",
          "Non-Hodgkin lymphoma",
          "Leukemia",
          "Multiple myeloma and immunoproliferative neoplasms",
          "Cancer (Other Malignant)",
          "#In situ neoplasms, benign neoplasms and neoplasms of uncertain or unknown behavior",
          "#Anemias",
          "Diabetes",
          "#Nutritional deficiencies",
          "Malnutrition",
          "#Meningitis",
          "#Parkinson disease",
          "Alzheimer",
          "Heart Disease (Major)",
          "Heart Disease",
          "Acute rheumatic fever and chronic rheumatic heart diseases",
          "Hypertensive heart disease",
          "Hypertensive heart and renal disease",
          "Ischemic heart diseases ",
          "Acute myocardial infarction",
          "Other acute ischemic heart diseases",
          "Ischemic heart (Other)",
          "Atherosclerotic cardiovascular disease, so described",
          "Ischemic heart (Other Part 2)",
          "Other heart diseases",
          "Acute and subacute endocarditis",
          "Diseases of pericardium and acute myocarditis",
          "Heart failure",
          "Other heart diseases Part II",
          "#Essential hypertension and hypertensive renal disease",
          "Cerebrovascular Diseases",
          "#Atherosclerosis",
          "Other diseases of circulatory system",
          "#Aortic aneurysm and dissection",
          "Other diseases of arteries, arterioles and capillaries",
          "Other disorders of circulatory system",
          "Influenza Pneumonia",
          "Influenza",
          "Pneumonia",
          "Chronic lower respiratory diseases",
          "Emphysema",
          "Asthma",
          "Other chronic lower respiratory diseases",
          "#Pneumoconioses and chemical effects",
          "#Pneumonitis due to solids and liquids",
          "Other diseases of respiratory system",
          "#Peptic ulcer",
          "#Diseases of appendix",
          "#Hernia",
          "#Chronic liver disease and cirrhosis",
          "Alcoholic liver disease",
          "Other chronic liver disease and cirrhosis",
          "#Cholelithiasis and other disorders of gallbladder",
          "#Nephritis, nephrotic syndrome and nephrosis",
          "Acute and rapidly progressive nephritic and nephrotic syndrome",
          "Renal failure",
          "#Infections of kidney",
          "#Hyperplasia of prostate",
          "Congenital malformations",
          "Unkown Cause",
          "All other diseases",
          "Accidents",
          "Transport Accidents",
          "Motor Vehicle Accidents",
          "Other (land transport)",
          "Transport Accidents (Other)",
          "Nontransport accidents",
          "Falls",
          "Accidental Drowning",
          "Accidental exposure to smoke, fire and flames",
          "Accidental poisoning",
          "Other Nontransport Accident"
         ],
         "parents": [
          "",
          "All",
          "All",
          "#Tuberculosis",
          "All",
          "All",
          "All",
          "All",
          "All",
          "Cancer",
          "Cancer",
          "Cancer",
          "Cancer",
          "Cancer",
          "Cancer",
          "Cancer",
          "Cancer",
          "Cancer",
          "Cancer",
          "Cancer",
          "Cancer",
          "Cancer",
          "Cancer",
          "Cancer",
          "Cancer",
          "Cancer",
          "Cancer",
          "Lymphoid + Hematopoietic Tumor",
          "Lymphoid + Hematopoietic Tumor",
          "Lymphoid + Hematopoietic Tumor",
          "Lymphoid + Hematopoietic Tumor",
          "Cancer",
          "All",
          "All",
          "All",
          "All",
          "#Nutritional deficiencies",
          "All",
          "All",
          "All",
          "All",
          "Heart Disease (Major)",
          "Heart Disease",
          "Heart Disease",
          "Heart Disease",
          "Heart Disease",
          "All",
          "Ischemic heart diseases ",
          "Ischemic heart diseases ",
          "Ischemic heart diseases ",
          "Ischemic heart diseases ",
          "Heart Disease",
          "Other heart diseases",
          "Other heart diseases",
          "Heart Disease",
          "Other heart diseases",
          "Heart Disease (Major)",
          "Heart Disease (Major)",
          "Heart Disease (Major)",
          "Heart Disease (Major)",
          "Other diseases of circulatory system",
          "Other diseases of circulatory system",
          "All",
          "All",
          "Influenza Pneumonia",
          "Influenza Pneumonia",
          "All",
          "Chronic lower respiratory diseases",
          "Chronic lower respiratory diseases",
          "Chronic lower respiratory diseases",
          "All",
          "All",
          "All",
          "All",
          "All",
          "All",
          "All",
          "#Chronic liver disease and cirrhosis",
          "#Chronic liver disease and cirrhosis",
          "All",
          "All",
          "#Nephritis, nephrotic syndrome and nephrosis",
          "#Nephritis, nephrotic syndrome and nephrosis",
          "All",
          "All",
          "All",
          "All",
          "All",
          "All",
          "Accidents",
          "Transport Accidents",
          "Transport Accidents",
          "Transport Accidents",
          "Accidents",
          "Nontransport accidents",
          "Nontransport accidents",
          "Nontransport accidents",
          "Nontransport accidents",
          "Accidents"
         ],
         "type": "treemap",
         "values": [
          0,
          3.0500000000000007,
          0.41000000000000014,
          1.18,
          23.74,
          3.64,
          1.94,
          11.05,
          0.020000000000038654,
          13.87,
          20.8,
          21.1,
          71.87,
          45.78,
          78.63,
          4.82,
          204.92,
          12.46,
          52.77,
          3.35,
          17.34,
          20.86,
          67.76,
          19.92,
          31.26,
          20.22,
          0.1700000000000088,
          1.53,
          37.91,
          38.79,
          23.86,
          112.01,
          23.92,
          5.17,
          151.39,
          0.23000000000000043,
          10.17,
          0.65,
          90.62,
          234.13,
          0,
          0,
          5.23,
          60.59,
          13.11,
          0,
          143.98,
          2.29,
          373.35,
          83.63,
          289.73,
          106.9,
          1.53,
          0.71,
          106.9,
          138.16,
          79.69,
          247.77,
          8.46,
          0,
          11.64,
          12.4,
          3.23,
          0,
          5.35,
          77.46,
          0.47999999999996135,
          10.34,
          3.58,
          223.08,
          0.76,
          23.04,
          59.18,
          7.52,
          0.71,
          3.88,
          0,
          13.93,
          23.98,
          6.88,
          0.4099999999999966,
          0.59,
          60.53,
          1.7,
          1.12,
          2.7,
          5.64,
          327.28,
          0,
          0,
          15.04,
          0.59,
          1,
          10.580000000000005,
          43.66,
          1.82,
          1.35,
          3.94,
          10.4
         ]
        }
       ],
       "layout": {
        "margin": {
         "b": 25,
         "l": 25,
         "r": 25,
         "t": 50
        },
        "template": {
         "data": {
          "bar": [
           {
            "error_x": {
             "color": "#2a3f5f"
            },
            "error_y": {
             "color": "#2a3f5f"
            },
            "marker": {
             "line": {
              "color": "#E5ECF6",
              "width": 0.5
             },
             "pattern": {
              "fillmode": "overlay",
              "size": 10,
              "solidity": 0.2
             }
            },
            "type": "bar"
           }
          ],
          "barpolar": [
           {
            "marker": {
             "line": {
              "color": "#E5ECF6",
              "width": 0.5
             },
             "pattern": {
              "fillmode": "overlay",
              "size": 10,
              "solidity": 0.2
             }
            },
            "type": "barpolar"
           }
          ],
          "carpet": [
           {
            "aaxis": {
             "endlinecolor": "#2a3f5f",
             "gridcolor": "white",
             "linecolor": "white",
             "minorgridcolor": "white",
             "startlinecolor": "#2a3f5f"
            },
            "baxis": {
             "endlinecolor": "#2a3f5f",
             "gridcolor": "white",
             "linecolor": "white",
             "minorgridcolor": "white",
             "startlinecolor": "#2a3f5f"
            },
            "type": "carpet"
           }
          ],
          "choropleth": [
           {
            "colorbar": {
             "outlinewidth": 0,
             "ticks": ""
            },
            "type": "choropleth"
           }
          ],
          "contour": [
           {
            "colorbar": {
             "outlinewidth": 0,
             "ticks": ""
            },
            "colorscale": [
             [
              0,
              "#0d0887"
             ],
             [
              0.1111111111111111,
              "#46039f"
             ],
             [
              0.2222222222222222,
              "#7201a8"
             ],
             [
              0.3333333333333333,
              "#9c179e"
             ],
             [
              0.4444444444444444,
              "#bd3786"
             ],
             [
              0.5555555555555556,
              "#d8576b"
             ],
             [
              0.6666666666666666,
              "#ed7953"
             ],
             [
              0.7777777777777778,
              "#fb9f3a"
             ],
             [
              0.8888888888888888,
              "#fdca26"
             ],
             [
              1,
              "#f0f921"
             ]
            ],
            "type": "contour"
           }
          ],
          "contourcarpet": [
           {
            "colorbar": {
             "outlinewidth": 0,
             "ticks": ""
            },
            "type": "contourcarpet"
           }
          ],
          "heatmap": [
           {
            "colorbar": {
             "outlinewidth": 0,
             "ticks": ""
            },
            "colorscale": [
             [
              0,
              "#0d0887"
             ],
             [
              0.1111111111111111,
              "#46039f"
             ],
             [
              0.2222222222222222,
              "#7201a8"
             ],
             [
              0.3333333333333333,
              "#9c179e"
             ],
             [
              0.4444444444444444,
              "#bd3786"
             ],
             [
              0.5555555555555556,
              "#d8576b"
             ],
             [
              0.6666666666666666,
              "#ed7953"
             ],
             [
              0.7777777777777778,
              "#fb9f3a"
             ],
             [
              0.8888888888888888,
              "#fdca26"
             ],
             [
              1,
              "#f0f921"
             ]
            ],
            "type": "heatmap"
           }
          ],
          "heatmapgl": [
           {
            "colorbar": {
             "outlinewidth": 0,
             "ticks": ""
            },
            "colorscale": [
             [
              0,
              "#0d0887"
             ],
             [
              0.1111111111111111,
              "#46039f"
             ],
             [
              0.2222222222222222,
              "#7201a8"
             ],
             [
              0.3333333333333333,
              "#9c179e"
             ],
             [
              0.4444444444444444,
              "#bd3786"
             ],
             [
              0.5555555555555556,
              "#d8576b"
             ],
             [
              0.6666666666666666,
              "#ed7953"
             ],
             [
              0.7777777777777778,
              "#fb9f3a"
             ],
             [
              0.8888888888888888,
              "#fdca26"
             ],
             [
              1,
              "#f0f921"
             ]
            ],
            "type": "heatmapgl"
           }
          ],
          "histogram": [
           {
            "marker": {
             "pattern": {
              "fillmode": "overlay",
              "size": 10,
              "solidity": 0.2
             }
            },
            "type": "histogram"
           }
          ],
          "histogram2d": [
           {
            "colorbar": {
             "outlinewidth": 0,
             "ticks": ""
            },
            "colorscale": [
             [
              0,
              "#0d0887"
             ],
             [
              0.1111111111111111,
              "#46039f"
             ],
             [
              0.2222222222222222,
              "#7201a8"
             ],
             [
              0.3333333333333333,
              "#9c179e"
             ],
             [
              0.4444444444444444,
              "#bd3786"
             ],
             [
              0.5555555555555556,
              "#d8576b"
             ],
             [
              0.6666666666666666,
              "#ed7953"
             ],
             [
              0.7777777777777778,
              "#fb9f3a"
             ],
             [
              0.8888888888888888,
              "#fdca26"
             ],
             [
              1,
              "#f0f921"
             ]
            ],
            "type": "histogram2d"
           }
          ],
          "histogram2dcontour": [
           {
            "colorbar": {
             "outlinewidth": 0,
             "ticks": ""
            },
            "colorscale": [
             [
              0,
              "#0d0887"
             ],
             [
              0.1111111111111111,
              "#46039f"
             ],
             [
              0.2222222222222222,
              "#7201a8"
             ],
             [
              0.3333333333333333,
              "#9c179e"
             ],
             [
              0.4444444444444444,
              "#bd3786"
             ],
             [
              0.5555555555555556,
              "#d8576b"
             ],
             [
              0.6666666666666666,
              "#ed7953"
             ],
             [
              0.7777777777777778,
              "#fb9f3a"
             ],
             [
              0.8888888888888888,
              "#fdca26"
             ],
             [
              1,
              "#f0f921"
             ]
            ],
            "type": "histogram2dcontour"
           }
          ],
          "mesh3d": [
           {
            "colorbar": {
             "outlinewidth": 0,
             "ticks": ""
            },
            "type": "mesh3d"
           }
          ],
          "parcoords": [
           {
            "line": {
             "colorbar": {
              "outlinewidth": 0,
              "ticks": ""
             }
            },
            "type": "parcoords"
           }
          ],
          "pie": [
           {
            "automargin": true,
            "type": "pie"
           }
          ],
          "scatter": [
           {
            "marker": {
             "colorbar": {
              "outlinewidth": 0,
              "ticks": ""
             }
            },
            "type": "scatter"
           }
          ],
          "scatter3d": [
           {
            "line": {
             "colorbar": {
              "outlinewidth": 0,
              "ticks": ""
             }
            },
            "marker": {
             "colorbar": {
              "outlinewidth": 0,
              "ticks": ""
             }
            },
            "type": "scatter3d"
           }
          ],
          "scattercarpet": [
           {
            "marker": {
             "colorbar": {
              "outlinewidth": 0,
              "ticks": ""
             }
            },
            "type": "scattercarpet"
           }
          ],
          "scattergeo": [
           {
            "marker": {
             "colorbar": {
              "outlinewidth": 0,
              "ticks": ""
             }
            },
            "type": "scattergeo"
           }
          ],
          "scattergl": [
           {
            "marker": {
             "colorbar": {
              "outlinewidth": 0,
              "ticks": ""
             }
            },
            "type": "scattergl"
           }
          ],
          "scattermapbox": [
           {
            "marker": {
             "colorbar": {
              "outlinewidth": 0,
              "ticks": ""
             }
            },
            "type": "scattermapbox"
           }
          ],
          "scatterpolar": [
           {
            "marker": {
             "colorbar": {
              "outlinewidth": 0,
              "ticks": ""
             }
            },
            "type": "scatterpolar"
           }
          ],
          "scatterpolargl": [
           {
            "marker": {
             "colorbar": {
              "outlinewidth": 0,
              "ticks": ""
             }
            },
            "type": "scatterpolargl"
           }
          ],
          "scatterternary": [
           {
            "marker": {
             "colorbar": {
              "outlinewidth": 0,
              "ticks": ""
             }
            },
            "type": "scatterternary"
           }
          ],
          "surface": [
           {
            "colorbar": {
             "outlinewidth": 0,
             "ticks": ""
            },
            "colorscale": [
             [
              0,
              "#0d0887"
             ],
             [
              0.1111111111111111,
              "#46039f"
             ],
             [
              0.2222222222222222,
              "#7201a8"
             ],
             [
              0.3333333333333333,
              "#9c179e"
             ],
             [
              0.4444444444444444,
              "#bd3786"
             ],
             [
              0.5555555555555556,
              "#d8576b"
             ],
             [
              0.6666666666666666,
              "#ed7953"
             ],
             [
              0.7777777777777778,
              "#fb9f3a"
             ],
             [
              0.8888888888888888,
              "#fdca26"
             ],
             [
              1,
              "#f0f921"
             ]
            ],
            "type": "surface"
           }
          ],
          "table": [
           {
            "cells": {
             "fill": {
              "color": "#EBF0F8"
             },
             "line": {
              "color": "white"
             }
            },
            "header": {
             "fill": {
              "color": "#C8D4E3"
             },
             "line": {
              "color": "white"
             }
            },
            "type": "table"
           }
          ]
         },
         "layout": {
          "annotationdefaults": {
           "arrowcolor": "#2a3f5f",
           "arrowhead": 0,
           "arrowwidth": 1
          },
          "autotypenumbers": "strict",
          "coloraxis": {
           "colorbar": {
            "outlinewidth": 0,
            "ticks": ""
           }
          },
          "colorscale": {
           "diverging": [
            [
             0,
             "#8e0152"
            ],
            [
             0.1,
             "#c51b7d"
            ],
            [
             0.2,
             "#de77ae"
            ],
            [
             0.3,
             "#f1b6da"
            ],
            [
             0.4,
             "#fde0ef"
            ],
            [
             0.5,
             "#f7f7f7"
            ],
            [
             0.6,
             "#e6f5d0"
            ],
            [
             0.7,
             "#b8e186"
            ],
            [
             0.8,
             "#7fbc41"
            ],
            [
             0.9,
             "#4d9221"
            ],
            [
             1,
             "#276419"
            ]
           ],
           "sequential": [
            [
             0,
             "#0d0887"
            ],
            [
             0.1111111111111111,
             "#46039f"
            ],
            [
             0.2222222222222222,
             "#7201a8"
            ],
            [
             0.3333333333333333,
             "#9c179e"
            ],
            [
             0.4444444444444444,
             "#bd3786"
            ],
            [
             0.5555555555555556,
             "#d8576b"
            ],
            [
             0.6666666666666666,
             "#ed7953"
            ],
            [
             0.7777777777777778,
             "#fb9f3a"
            ],
            [
             0.8888888888888888,
             "#fdca26"
            ],
            [
             1,
             "#f0f921"
            ]
           ],
           "sequentialminus": [
            [
             0,
             "#0d0887"
            ],
            [
             0.1111111111111111,
             "#46039f"
            ],
            [
             0.2222222222222222,
             "#7201a8"
            ],
            [
             0.3333333333333333,
             "#9c179e"
            ],
            [
             0.4444444444444444,
             "#bd3786"
            ],
            [
             0.5555555555555556,
             "#d8576b"
            ],
            [
             0.6666666666666666,
             "#ed7953"
            ],
            [
             0.7777777777777778,
             "#fb9f3a"
            ],
            [
             0.8888888888888888,
             "#fdca26"
            ],
            [
             1,
             "#f0f921"
            ]
           ]
          },
          "colorway": [
           "#636efa",
           "#EF553B",
           "#00cc96",
           "#ab63fa",
           "#FFA15A",
           "#19d3f3",
           "#FF6692",
           "#B6E880",
           "#FF97FF",
           "#FECB52"
          ],
          "font": {
           "color": "#2a3f5f"
          },
          "geo": {
           "bgcolor": "white",
           "lakecolor": "white",
           "landcolor": "#E5ECF6",
           "showlakes": true,
           "showland": true,
           "subunitcolor": "white"
          },
          "hoverlabel": {
           "align": "left"
          },
          "hovermode": "closest",
          "mapbox": {
           "style": "light"
          },
          "paper_bgcolor": "white",
          "plot_bgcolor": "#E5ECF6",
          "polar": {
           "angularaxis": {
            "gridcolor": "white",
            "linecolor": "white",
            "ticks": ""
           },
           "bgcolor": "#E5ECF6",
           "radialaxis": {
            "gridcolor": "white",
            "linecolor": "white",
            "ticks": ""
           }
          },
          "scene": {
           "xaxis": {
            "backgroundcolor": "#E5ECF6",
            "gridcolor": "white",
            "gridwidth": 2,
            "linecolor": "white",
            "showbackground": true,
            "ticks": "",
            "zerolinecolor": "white"
           },
           "yaxis": {
            "backgroundcolor": "#E5ECF6",
            "gridcolor": "white",
            "gridwidth": 2,
            "linecolor": "white",
            "showbackground": true,
            "ticks": "",
            "zerolinecolor": "white"
           },
           "zaxis": {
            "backgroundcolor": "#E5ECF6",
            "gridcolor": "white",
            "gridwidth": 2,
            "linecolor": "white",
            "showbackground": true,
            "ticks": "",
            "zerolinecolor": "white"
           }
          },
          "shapedefaults": {
           "line": {
            "color": "#2a3f5f"
           }
          },
          "ternary": {
           "aaxis": {
            "gridcolor": "white",
            "linecolor": "white",
            "ticks": ""
           },
           "baxis": {
            "gridcolor": "white",
            "linecolor": "white",
            "ticks": ""
           },
           "bgcolor": "#E5ECF6",
           "caxis": {
            "gridcolor": "white",
            "linecolor": "white",
            "ticks": ""
           }
          },
          "title": {
           "x": 0.05
          },
          "xaxis": {
           "automargin": true,
           "gridcolor": "white",
           "linecolor": "white",
           "ticks": "",
           "title": {
            "standoff": 15
           },
           "zerolinecolor": "white",
           "zerolinewidth": 2
          },
          "yaxis": {
           "automargin": true,
           "gridcolor": "white",
           "linecolor": "white",
           "ticks": "",
           "title": {
            "standoff": 15
           },
           "zerolinecolor": "white",
           "zerolinewidth": 2
          }
         }
        }
       }
      }
     },
     "metadata": {},
     "output_type": "display_data"
    }
   ],
   "source": [
    "fig = go.Figure(go.Treemap(\n",
    "    labels = plot_dic[\"targets\"],\n",
    "    parents =  plot_dic[\"parents\"],\n",
    "    values=plot_dic['values'],\n",
    "))\n",
    "\n",
    "fig.update_layout(margin = dict(t=50, l=25, r=25, b=25))\n",
    "fig.show()"
   ]
  },
  {
   "cell_type": "code",
   "execution_count": 76,
   "metadata": {},
   "outputs": [
    {
     "data": {
      "application/vnd.plotly.v1+json": {
       "config": {
        "plotlyServerURL": "https://plot.ly"
       },
       "data": [
        {
         "domain": {
          "x": [
           0,
           1
          ],
          "y": [
           0,
           1
          ]
         },
         "hovertemplate": "targets=%{label}<br>value=%{value}<br>parent=%{parent}<extra></extra>",
         "labels": [
          "All",
          "Certain other intestinal infections (A04,A07-A09)",
          "#Tuberculosis (A16-A19)",
          "Respiratory tuberculosis (A16)",
          "#Septicemia (A40-A41)",
          "#Viral hepatitis (B15-B19)",
          "#Human immunodeficiency virus (HIV) disease (B20-B24)",
          "Other and unspecified infectious and parasitic diseases and their sequelae (A00,A05,A20-A36,A42-A44,A48-A49,A54-A79,A81-A82,A85.0-A85.1,A85.8,A86-B04,B06-B09,B25-B49,B55-B99,U07.1)",
          "#Malignant neoplasms (C00-C97)",
          "Malignant neoplasms of lip, oral cavity and pharynx (C00-C14)",
          "Malignant neoplasm of esophagus (C15)",
          "Malignant neoplasm of stomach (C16)",
          "Malignant neoplasms of colon, rectum and anus (C18-C21)",
          "Malignant neoplasms of liver and intrahepatic bile ducts (C22)",
          "Malignant neoplasm of pancreas (C25)",
          "Malignant neoplasm of larynx (C32)",
          "Malignant neoplasms of trachea, bronchus and lung (C33-C34)",
          "Malignant melanoma of skin (C43)",
          "Malignant neoplasm of breast (C50)",
          "Malignant neoplasm of cervix uteri (C53)",
          "Malignant neoplasms of corpus uteri and uterus, part unspecified (C54-C55)",
          "Malignant neoplasm of ovary (C56)",
          "Malignant neoplasm of prostate (C61)",
          "Malignant neoplasms of kidney and renal pelvis (C64-C65)",
          "Malignant neoplasm of bladder (C67)",
          "Malignant neoplasms of meninges, brain and other parts of central nervous system (C70-C72)",
          "Malignant neoplasms of lymphoid, hematopoietic and related tissue (C81-C96)",
          "Hodgkin disease (C81)",
          "Non-Hodgkin lymphoma (C82-C85)",
          "Leukemia (C91-C95)",
          "Multiple myeloma and immunoproliferative neoplasms (C88,C90)",
          "All other and unspecified malignant neoplasms (C17,C23-C24,C26-C31,C37-C41,C44-C49,C51-C52,C57-C60,C62-C63,C66,C68-C69,C73-C80,C97)",
          "#In situ neoplasms, benign neoplasms and neoplasms of uncertain or unknown behavior (D00-D48)",
          "#Anemias (D50-D64)",
          "#Diabetes mellitus (E10-E14)",
          "#Nutritional deficiencies (E40-E64)",
          "Malnutrition (E40-E46)",
          "#Meningitis (G00,G03)",
          "#Parkinson disease (G20-G21)",
          "#Alzheimer disease (G30)",
          "Major cardiovascular diseases (I00-I78)",
          "#Diseases of heart (I00-I09,I11,I13,I20-I51)",
          "Acute rheumatic fever and chronic rheumatic heart diseases (I00-I09)",
          "Hypertensive heart disease (I11)",
          "Hypertensive heart and renal disease (I13)",
          "Ischemic heart diseases (I20-I25)",
          "Acute myocardial infarction (I21-I22)",
          "Other acute ischemic heart diseases (I24)",
          "Other forms of chronic ischemic heart disease (I20,I25)",
          "Atherosclerotic cardiovascular disease, so described (I25.0)",
          "All other forms of chronic ischemic heart disease (I20,I25.1-I25.9)",
          "Other heart diseases (I26-I51)",
          "Acute and subacute endocarditis (I33)",
          "Diseases of pericardium and acute myocarditis (I30-I31,I40)",
          "Heart failure (I50)",
          "All other forms of heart disease (I26-I28,I34-I38,I42-I49,I51)",
          "#Essential hypertension and hypertensive renal disease (I10,I12,I15)",
          "#Cerebrovascular diseases (I60-I69)",
          "#Atherosclerosis (I70)",
          "Other diseases of circulatory system (I71-I78)",
          "#Aortic aneurysm and dissection (I71)",
          "Other diseases of arteries, arterioles and capillaries (I72-I78)",
          "Other disorders of circulatory system (I80-I99)",
          "#Influenza and pneumonia (J09-J18)",
          "Influenza (J09-J11)",
          "Pneumonia (J12-J18)",
          "#Chronic lower respiratory diseases (J40-J47)",
          "Emphysema (J43)",
          "Asthma (J45-J46)",
          "Other chronic lower respiratory diseases (J44,J47)",
          "#Pneumoconioses and chemical effects (J60-J66,J68,U07.0)",
          "#Pneumonitis due to solids and liquids (J69)",
          "Other diseases of respiratory system (J00-J06,J30- J39,J67,J70-J98)",
          "#Peptic ulcer (K25-K28)",
          "#Diseases of appendix (K35-K38)",
          "#Hernia (K40-K46)",
          "#Chronic liver disease and cirrhosis (K70,K73-K74)",
          "Alcoholic liver disease (K70)",
          "Other chronic liver disease and cirrhosis (K73-K74)",
          "#Cholelithiasis and other disorders of gallbladder (K80-K82)",
          "#Nephritis, nephrotic syndrome and nephrosis (N00-N07,N17-N19,N25-N27)",
          "Acute and rapidly progressive nephritic and nephrotic syndrome (N00-N01,N04)",
          "Renal failure (N17-N19)",
          "#Infections of kidney (N10-N12,N13.6,N15.1)",
          "#Hyperplasia of prostate (N40)",
          "#Congenital malformations, deformations and chromosomal abnormalities (Q00-Q99)",
          "Symptoms, signs and abnormal clinical and laboratory findings, not elsewhere classified (R00-R99)",
          "All other diseases (Residual) ",
          "#Accidents (unintentional injuries) (V01-X59,Y85-Y86)",
          "Transport accidents (V01-V99,Y85)",
          "Motor vehicle accidents (V02-V04,V09.0,V09.2,V12-V14,V19.0-V19.2,V19.4-V19.6,V20-V79,V80.3-V80.5,V81.0-V81.1,V82.0-V82.1,V83-V86,V87.0-V87.8,V88.0-V88.8,V89.0,V89.2)",
          "Other land transport accidents (V01,V05-V06,V09.1,V09.3-V09.9,V10-V11,V15-V18,V19.3,V19.8-V19.9,V80.0-V80.2,V80.6-V80.9,V81.2-V81.9,V82.2-V82.9,V87.9,V88.9,V89.1,V89.3,V89.9)",
          "Water, air and space, and other and unspecified transport accidents and their sequelae (V90-V99,Y85)",
          "Nontransport accidents (W00-X59,Y86)",
          "Falls (W00-W19)",
          "Accidental drowning and submersion (W65-W74)",
          "Accidental exposure to smoke, fire and flames (X00-X09)",
          "Accidental poisoning and exposure to noxious substances (X40-X49)",
          "Other and unspecified nontransport accidents and their sequelae (W20-W31,W35-W64,W75-W99,X10-X39,X50-X59,Y86)"
         ],
         "name": "",
         "parents": [
          "",
          "All",
          "All",
          "#Tuberculosis (A16-A19)",
          "All",
          "All",
          "All",
          "All",
          "All",
          "#Malignant neoplasms (C00-C97)",
          "#Malignant neoplasms (C00-C97)",
          "#Malignant neoplasms (C00-C97)",
          "#Malignant neoplasms (C00-C97)",
          "#Malignant neoplasms (C00-C97)",
          "#Malignant neoplasms (C00-C97)",
          "#Malignant neoplasms (C00-C97)",
          "#Malignant neoplasms (C00-C97)",
          "#Malignant neoplasms (C00-C97)",
          "#Malignant neoplasms (C00-C97)",
          "#Malignant neoplasms (C00-C97)",
          "#Malignant neoplasms (C00-C97)",
          "#Malignant neoplasms (C00-C97)",
          "#Malignant neoplasms (C00-C97)",
          "#Malignant neoplasms (C00-C97)",
          "#Malignant neoplasms (C00-C97)",
          "#Malignant neoplasms (C00-C97)",
          "#Malignant neoplasms (C00-C97)",
          "Malignant neoplasms of lymphoid, hematopoietic and related tissue (C81-C96)",
          "Malignant neoplasms of lymphoid, hematopoietic and related tissue (C81-C96)",
          "Malignant neoplasms of lymphoid, hematopoietic and related tissue (C81-C96)",
          "Malignant neoplasms of lymphoid, hematopoietic and related tissue (C81-C96)",
          "#Malignant neoplasms (C00-C97)",
          "All",
          "All",
          "All",
          "All",
          "#Nutritional deficiencies (E40-E64)",
          "All",
          "All",
          "All",
          "All",
          "Major cardiovascular diseases (I00-I78)",
          "#Diseases of heart (I00-I09,I11,I13,I20-I51)",
          "#Diseases of heart (I00-I09,I11,I13,I20-I51)",
          "#Diseases of heart (I00-I09,I11,I13,I20-I51)",
          "#Diseases of heart (I00-I09,I11,I13,I20-I51)",
          "All",
          "Ischemic heart diseases (I20-I25)",
          "Ischemic heart diseases (I20-I25)",
          "Ischemic heart diseases (I20-I25)",
          "Ischemic heart diseases (I20-I25)",
          "#Diseases of heart (I00-I09,I11,I13,I20-I51)",
          "Other heart diseases (I26-I51)",
          "Other heart diseases (I26-I51)",
          "#Diseases of heart (I00-I09,I11,I13,I20-I51)",
          "Other heart diseases (I26-I51)",
          "Major cardiovascular diseases (I00-I78)",
          "Major cardiovascular diseases (I00-I78)",
          "Major cardiovascular diseases (I00-I78)",
          "Major cardiovascular diseases (I00-I78)",
          "Other diseases of circulatory system (I71-I78)",
          "Other diseases of circulatory system (I71-I78)",
          "All",
          "All",
          "#Influenza and pneumonia (J09-J18)",
          "#Influenza and pneumonia (J09-J18)",
          "All",
          "#Chronic lower respiratory diseases (J40-J47)",
          "#Chronic lower respiratory diseases (J40-J47)",
          "#Chronic lower respiratory diseases (J40-J47)",
          "All",
          "All",
          "All",
          "All",
          "All",
          "All",
          "All",
          "#Chronic liver disease and cirrhosis (K70,K73-K74)",
          "#Chronic liver disease and cirrhosis (K70,K73-K74)",
          "All",
          "All",
          "#Nephritis, nephrotic syndrome and nephrosis (N00-N07,N17-N19,N25-N27)",
          "#Nephritis, nephrotic syndrome and nephrosis (N00-N07,N17-N19,N25-N27)",
          "All",
          "All",
          "All",
          "All",
          "All",
          "All",
          "#Accidents (unintentional injuries) (V01-X59,Y85-Y86)",
          "Transport accidents (V01-V99,Y85)",
          "Transport accidents (V01-V99,Y85)",
          "Transport accidents (V01-V99,Y85)",
          "#Accidents (unintentional injuries) (V01-X59,Y85-Y86)",
          "Nontransport accidents (W00-X59,Y86)",
          "Nontransport accidents (W00-X59,Y86)",
          "Nontransport accidents (W00-X59,Y86)",
          "Nontransport accidents (W00-X59,Y86)",
          "#Accidents (unintentional injuries) (V01-X59,Y85-Y86)"
         ],
         "type": "sunburst",
         "values": [
          0,
          3.0500000000000007,
          0.41000000000000014,
          1.18,
          23.74,
          3.64,
          1.94,
          11.05,
          0.020000000000038654,
          13.87,
          20.8,
          21.1,
          71.87,
          45.78,
          78.63,
          4.82,
          204.92,
          12.46,
          52.77,
          3.35,
          17.34,
          20.86,
          67.76,
          19.92,
          31.26,
          20.22,
          0.1700000000000088,
          1.53,
          37.91,
          38.79,
          23.86,
          112.01,
          23.92,
          5.17,
          151.39,
          0.23000000000000043,
          10.17,
          0.65,
          90.62,
          234.13,
          0,
          0,
          5.23,
          60.59,
          13.11,
          0,
          143.98,
          2.29,
          373.35,
          83.63,
          289.73,
          106.9,
          1.53,
          0.71,
          106.9,
          138.16,
          79.69,
          247.77,
          8.46,
          0,
          11.64,
          12.4,
          3.23,
          0,
          5.35,
          77.46,
          0.47999999999996135,
          10.34,
          3.58,
          223.08,
          0.76,
          23.04,
          59.18,
          7.52,
          0.71,
          3.88,
          0,
          13.93,
          23.98,
          6.88,
          0.4099999999999966,
          0.59,
          60.53,
          1.7,
          1.12,
          2.7,
          5.64,
          327.28,
          0,
          0,
          15.04,
          0.59,
          1,
          10.580000000000005,
          43.66,
          1.82,
          1.35,
          3.94,
          10.4
         ]
        }
       ],
       "layout": {
        "autosize": false,
        "height": 1000,
        "legend": {
         "tracegroupgap": 0
        },
        "margin": {
         "b": 0,
         "l": 0,
         "pad": 0,
         "r": 0,
         "t": 0
        },
        "template": {
         "data": {
          "bar": [
           {
            "error_x": {
             "color": "#2a3f5f"
            },
            "error_y": {
             "color": "#2a3f5f"
            },
            "marker": {
             "line": {
              "color": "#E5ECF6",
              "width": 0.5
             },
             "pattern": {
              "fillmode": "overlay",
              "size": 10,
              "solidity": 0.2
             }
            },
            "type": "bar"
           }
          ],
          "barpolar": [
           {
            "marker": {
             "line": {
              "color": "#E5ECF6",
              "width": 0.5
             },
             "pattern": {
              "fillmode": "overlay",
              "size": 10,
              "solidity": 0.2
             }
            },
            "type": "barpolar"
           }
          ],
          "carpet": [
           {
            "aaxis": {
             "endlinecolor": "#2a3f5f",
             "gridcolor": "white",
             "linecolor": "white",
             "minorgridcolor": "white",
             "startlinecolor": "#2a3f5f"
            },
            "baxis": {
             "endlinecolor": "#2a3f5f",
             "gridcolor": "white",
             "linecolor": "white",
             "minorgridcolor": "white",
             "startlinecolor": "#2a3f5f"
            },
            "type": "carpet"
           }
          ],
          "choropleth": [
           {
            "colorbar": {
             "outlinewidth": 0,
             "ticks": ""
            },
            "type": "choropleth"
           }
          ],
          "contour": [
           {
            "colorbar": {
             "outlinewidth": 0,
             "ticks": ""
            },
            "colorscale": [
             [
              0,
              "#0d0887"
             ],
             [
              0.1111111111111111,
              "#46039f"
             ],
             [
              0.2222222222222222,
              "#7201a8"
             ],
             [
              0.3333333333333333,
              "#9c179e"
             ],
             [
              0.4444444444444444,
              "#bd3786"
             ],
             [
              0.5555555555555556,
              "#d8576b"
             ],
             [
              0.6666666666666666,
              "#ed7953"
             ],
             [
              0.7777777777777778,
              "#fb9f3a"
             ],
             [
              0.8888888888888888,
              "#fdca26"
             ],
             [
              1,
              "#f0f921"
             ]
            ],
            "type": "contour"
           }
          ],
          "contourcarpet": [
           {
            "colorbar": {
             "outlinewidth": 0,
             "ticks": ""
            },
            "type": "contourcarpet"
           }
          ],
          "heatmap": [
           {
            "colorbar": {
             "outlinewidth": 0,
             "ticks": ""
            },
            "colorscale": [
             [
              0,
              "#0d0887"
             ],
             [
              0.1111111111111111,
              "#46039f"
             ],
             [
              0.2222222222222222,
              "#7201a8"
             ],
             [
              0.3333333333333333,
              "#9c179e"
             ],
             [
              0.4444444444444444,
              "#bd3786"
             ],
             [
              0.5555555555555556,
              "#d8576b"
             ],
             [
              0.6666666666666666,
              "#ed7953"
             ],
             [
              0.7777777777777778,
              "#fb9f3a"
             ],
             [
              0.8888888888888888,
              "#fdca26"
             ],
             [
              1,
              "#f0f921"
             ]
            ],
            "type": "heatmap"
           }
          ],
          "heatmapgl": [
           {
            "colorbar": {
             "outlinewidth": 0,
             "ticks": ""
            },
            "colorscale": [
             [
              0,
              "#0d0887"
             ],
             [
              0.1111111111111111,
              "#46039f"
             ],
             [
              0.2222222222222222,
              "#7201a8"
             ],
             [
              0.3333333333333333,
              "#9c179e"
             ],
             [
              0.4444444444444444,
              "#bd3786"
             ],
             [
              0.5555555555555556,
              "#d8576b"
             ],
             [
              0.6666666666666666,
              "#ed7953"
             ],
             [
              0.7777777777777778,
              "#fb9f3a"
             ],
             [
              0.8888888888888888,
              "#fdca26"
             ],
             [
              1,
              "#f0f921"
             ]
            ],
            "type": "heatmapgl"
           }
          ],
          "histogram": [
           {
            "marker": {
             "pattern": {
              "fillmode": "overlay",
              "size": 10,
              "solidity": 0.2
             }
            },
            "type": "histogram"
           }
          ],
          "histogram2d": [
           {
            "colorbar": {
             "outlinewidth": 0,
             "ticks": ""
            },
            "colorscale": [
             [
              0,
              "#0d0887"
             ],
             [
              0.1111111111111111,
              "#46039f"
             ],
             [
              0.2222222222222222,
              "#7201a8"
             ],
             [
              0.3333333333333333,
              "#9c179e"
             ],
             [
              0.4444444444444444,
              "#bd3786"
             ],
             [
              0.5555555555555556,
              "#d8576b"
             ],
             [
              0.6666666666666666,
              "#ed7953"
             ],
             [
              0.7777777777777778,
              "#fb9f3a"
             ],
             [
              0.8888888888888888,
              "#fdca26"
             ],
             [
              1,
              "#f0f921"
             ]
            ],
            "type": "histogram2d"
           }
          ],
          "histogram2dcontour": [
           {
            "colorbar": {
             "outlinewidth": 0,
             "ticks": ""
            },
            "colorscale": [
             [
              0,
              "#0d0887"
             ],
             [
              0.1111111111111111,
              "#46039f"
             ],
             [
              0.2222222222222222,
              "#7201a8"
             ],
             [
              0.3333333333333333,
              "#9c179e"
             ],
             [
              0.4444444444444444,
              "#bd3786"
             ],
             [
              0.5555555555555556,
              "#d8576b"
             ],
             [
              0.6666666666666666,
              "#ed7953"
             ],
             [
              0.7777777777777778,
              "#fb9f3a"
             ],
             [
              0.8888888888888888,
              "#fdca26"
             ],
             [
              1,
              "#f0f921"
             ]
            ],
            "type": "histogram2dcontour"
           }
          ],
          "mesh3d": [
           {
            "colorbar": {
             "outlinewidth": 0,
             "ticks": ""
            },
            "type": "mesh3d"
           }
          ],
          "parcoords": [
           {
            "line": {
             "colorbar": {
              "outlinewidth": 0,
              "ticks": ""
             }
            },
            "type": "parcoords"
           }
          ],
          "pie": [
           {
            "automargin": true,
            "type": "pie"
           }
          ],
          "scatter": [
           {
            "marker": {
             "colorbar": {
              "outlinewidth": 0,
              "ticks": ""
             }
            },
            "type": "scatter"
           }
          ],
          "scatter3d": [
           {
            "line": {
             "colorbar": {
              "outlinewidth": 0,
              "ticks": ""
             }
            },
            "marker": {
             "colorbar": {
              "outlinewidth": 0,
              "ticks": ""
             }
            },
            "type": "scatter3d"
           }
          ],
          "scattercarpet": [
           {
            "marker": {
             "colorbar": {
              "outlinewidth": 0,
              "ticks": ""
             }
            },
            "type": "scattercarpet"
           }
          ],
          "scattergeo": [
           {
            "marker": {
             "colorbar": {
              "outlinewidth": 0,
              "ticks": ""
             }
            },
            "type": "scattergeo"
           }
          ],
          "scattergl": [
           {
            "marker": {
             "colorbar": {
              "outlinewidth": 0,
              "ticks": ""
             }
            },
            "type": "scattergl"
           }
          ],
          "scattermapbox": [
           {
            "marker": {
             "colorbar": {
              "outlinewidth": 0,
              "ticks": ""
             }
            },
            "type": "scattermapbox"
           }
          ],
          "scatterpolar": [
           {
            "marker": {
             "colorbar": {
              "outlinewidth": 0,
              "ticks": ""
             }
            },
            "type": "scatterpolar"
           }
          ],
          "scatterpolargl": [
           {
            "marker": {
             "colorbar": {
              "outlinewidth": 0,
              "ticks": ""
             }
            },
            "type": "scatterpolargl"
           }
          ],
          "scatterternary": [
           {
            "marker": {
             "colorbar": {
              "outlinewidth": 0,
              "ticks": ""
             }
            },
            "type": "scatterternary"
           }
          ],
          "surface": [
           {
            "colorbar": {
             "outlinewidth": 0,
             "ticks": ""
            },
            "colorscale": [
             [
              0,
              "#0d0887"
             ],
             [
              0.1111111111111111,
              "#46039f"
             ],
             [
              0.2222222222222222,
              "#7201a8"
             ],
             [
              0.3333333333333333,
              "#9c179e"
             ],
             [
              0.4444444444444444,
              "#bd3786"
             ],
             [
              0.5555555555555556,
              "#d8576b"
             ],
             [
              0.6666666666666666,
              "#ed7953"
             ],
             [
              0.7777777777777778,
              "#fb9f3a"
             ],
             [
              0.8888888888888888,
              "#fdca26"
             ],
             [
              1,
              "#f0f921"
             ]
            ],
            "type": "surface"
           }
          ],
          "table": [
           {
            "cells": {
             "fill": {
              "color": "#EBF0F8"
             },
             "line": {
              "color": "white"
             }
            },
            "header": {
             "fill": {
              "color": "#C8D4E3"
             },
             "line": {
              "color": "white"
             }
            },
            "type": "table"
           }
          ]
         },
         "layout": {
          "annotationdefaults": {
           "arrowcolor": "#2a3f5f",
           "arrowhead": 0,
           "arrowwidth": 1
          },
          "autotypenumbers": "strict",
          "coloraxis": {
           "colorbar": {
            "outlinewidth": 0,
            "ticks": ""
           }
          },
          "colorscale": {
           "diverging": [
            [
             0,
             "#8e0152"
            ],
            [
             0.1,
             "#c51b7d"
            ],
            [
             0.2,
             "#de77ae"
            ],
            [
             0.3,
             "#f1b6da"
            ],
            [
             0.4,
             "#fde0ef"
            ],
            [
             0.5,
             "#f7f7f7"
            ],
            [
             0.6,
             "#e6f5d0"
            ],
            [
             0.7,
             "#b8e186"
            ],
            [
             0.8,
             "#7fbc41"
            ],
            [
             0.9,
             "#4d9221"
            ],
            [
             1,
             "#276419"
            ]
           ],
           "sequential": [
            [
             0,
             "#0d0887"
            ],
            [
             0.1111111111111111,
             "#46039f"
            ],
            [
             0.2222222222222222,
             "#7201a8"
            ],
            [
             0.3333333333333333,
             "#9c179e"
            ],
            [
             0.4444444444444444,
             "#bd3786"
            ],
            [
             0.5555555555555556,
             "#d8576b"
            ],
            [
             0.6666666666666666,
             "#ed7953"
            ],
            [
             0.7777777777777778,
             "#fb9f3a"
            ],
            [
             0.8888888888888888,
             "#fdca26"
            ],
            [
             1,
             "#f0f921"
            ]
           ],
           "sequentialminus": [
            [
             0,
             "#0d0887"
            ],
            [
             0.1111111111111111,
             "#46039f"
            ],
            [
             0.2222222222222222,
             "#7201a8"
            ],
            [
             0.3333333333333333,
             "#9c179e"
            ],
            [
             0.4444444444444444,
             "#bd3786"
            ],
            [
             0.5555555555555556,
             "#d8576b"
            ],
            [
             0.6666666666666666,
             "#ed7953"
            ],
            [
             0.7777777777777778,
             "#fb9f3a"
            ],
            [
             0.8888888888888888,
             "#fdca26"
            ],
            [
             1,
             "#f0f921"
            ]
           ]
          },
          "colorway": [
           "#636efa",
           "#EF553B",
           "#00cc96",
           "#ab63fa",
           "#FFA15A",
           "#19d3f3",
           "#FF6692",
           "#B6E880",
           "#FF97FF",
           "#FECB52"
          ],
          "font": {
           "color": "#2a3f5f"
          },
          "geo": {
           "bgcolor": "white",
           "lakecolor": "white",
           "landcolor": "#E5ECF6",
           "showlakes": true,
           "showland": true,
           "subunitcolor": "white"
          },
          "hoverlabel": {
           "align": "left"
          },
          "hovermode": "closest",
          "mapbox": {
           "style": "light"
          },
          "paper_bgcolor": "white",
          "plot_bgcolor": "#E5ECF6",
          "polar": {
           "angularaxis": {
            "gridcolor": "white",
            "linecolor": "white",
            "ticks": ""
           },
           "bgcolor": "#E5ECF6",
           "radialaxis": {
            "gridcolor": "white",
            "linecolor": "white",
            "ticks": ""
           }
          },
          "scene": {
           "xaxis": {
            "backgroundcolor": "#E5ECF6",
            "gridcolor": "white",
            "gridwidth": 2,
            "linecolor": "white",
            "showbackground": true,
            "ticks": "",
            "zerolinecolor": "white"
           },
           "yaxis": {
            "backgroundcolor": "#E5ECF6",
            "gridcolor": "white",
            "gridwidth": 2,
            "linecolor": "white",
            "showbackground": true,
            "ticks": "",
            "zerolinecolor": "white"
           },
           "zaxis": {
            "backgroundcolor": "#E5ECF6",
            "gridcolor": "white",
            "gridwidth": 2,
            "linecolor": "white",
            "showbackground": true,
            "ticks": "",
            "zerolinecolor": "white"
           }
          },
          "shapedefaults": {
           "line": {
            "color": "#2a3f5f"
           }
          },
          "ternary": {
           "aaxis": {
            "gridcolor": "white",
            "linecolor": "white",
            "ticks": ""
           },
           "baxis": {
            "gridcolor": "white",
            "linecolor": "white",
            "ticks": ""
           },
           "bgcolor": "#E5ECF6",
           "caxis": {
            "gridcolor": "white",
            "linecolor": "white",
            "ticks": ""
           }
          },
          "title": {
           "x": 0.05
          },
          "xaxis": {
           "automargin": true,
           "gridcolor": "white",
           "linecolor": "white",
           "ticks": "",
           "title": {
            "standoff": 15
           },
           "zerolinecolor": "white",
           "zerolinewidth": 2
          },
          "yaxis": {
           "automargin": true,
           "gridcolor": "white",
           "linecolor": "white",
           "ticks": "",
           "title": {
            "standoff": 15
           },
           "zerolinecolor": "white",
           "zerolinewidth": 2
          }
         }
        },
        "width": 1800
       }
      }
     },
     "metadata": {},
     "output_type": "display_data"
    }
   ],
   "source": [
    "fig = px.sunburst(\n",
    "    plot_dic,\n",
    "    names='targets',\n",
    "    parents='parents',\n",
    "    values='values',\n",
    ")\n",
    "fig.update_layout(\n",
    "    autosize=False,\n",
    "    width=1800,\n",
    "    height=1000,\n",
    "    margin=dict(\n",
    "        l=0,\n",
    "        r=0,\n",
    "        b=0,\n",
    "        t=0,\n",
    "        pad=0\n",
    "    ),\n",
    ")\n",
    "fig.show()\n",
    "\n",
    "fig.write_html(\"CauseOfCircle.html\")"
   ]
  },
  {
   "cell_type": "code",
   "execution_count": 77,
   "metadata": {},
   "outputs": [
    {
     "data": {
      "application/vnd.plotly.v1+json": {
       "config": {
        "plotlyServerURL": "https://plot.ly"
       },
       "data": [
        {
         "domain": {
          "x": [
           0,
           1
          ],
          "y": [
           0,
           1
          ]
         },
         "hovertemplate": "targets=%{label}<br>value=%{value}<br>parent=%{parent}<extra></extra>",
         "labels": [
          "All",
          "Certain other intestinal infections (A04,A07-A09)",
          "#Tuberculosis (A16-A19)",
          "Respiratory tuberculosis (A16)",
          "#Septicemia (A40-A41)",
          "#Viral hepatitis (B15-B19)",
          "#Human immunodeficiency virus (HIV) disease (B20-B24)",
          "Other and unspecified infectious and parasitic diseases and their sequelae (A00,A05,A20-A36,A42-A44,A48-A49,A54-A79,A81-A82,A85.0-A85.1,A85.8,A86-B04,B06-B09,B25-B49,B55-B99,U07.1)",
          "#Malignant neoplasms (C00-C97)",
          "Malignant neoplasms of lip, oral cavity and pharynx (C00-C14)",
          "Malignant neoplasm of esophagus (C15)",
          "Malignant neoplasm of stomach (C16)",
          "Malignant neoplasms of colon, rectum and anus (C18-C21)",
          "Malignant neoplasms of liver and intrahepatic bile ducts (C22)",
          "Malignant neoplasm of pancreas (C25)",
          "Malignant neoplasm of larynx (C32)",
          "Malignant neoplasms of trachea, bronchus and lung (C33-C34)",
          "Malignant melanoma of skin (C43)",
          "Malignant neoplasm of breast (C50)",
          "Malignant neoplasm of cervix uteri (C53)",
          "Malignant neoplasms of corpus uteri and uterus, part unspecified (C54-C55)",
          "Malignant neoplasm of ovary (C56)",
          "Malignant neoplasm of prostate (C61)",
          "Malignant neoplasms of kidney and renal pelvis (C64-C65)",
          "Malignant neoplasm of bladder (C67)",
          "Malignant neoplasms of meninges, brain and other parts of central nervous system (C70-C72)",
          "Malignant neoplasms of lymphoid, hematopoietic and related tissue (C81-C96)",
          "Hodgkin disease (C81)",
          "Non-Hodgkin lymphoma (C82-C85)",
          "Leukemia (C91-C95)",
          "Multiple myeloma and immunoproliferative neoplasms (C88,C90)",
          "All other and unspecified malignant neoplasms (C17,C23-C24,C26-C31,C37-C41,C44-C49,C51-C52,C57-C60,C62-C63,C66,C68-C69,C73-C80,C97)",
          "#In situ neoplasms, benign neoplasms and neoplasms of uncertain or unknown behavior (D00-D48)",
          "#Anemias (D50-D64)",
          "#Diabetes mellitus (E10-E14)",
          "#Nutritional deficiencies (E40-E64)",
          "Malnutrition (E40-E46)",
          "#Meningitis (G00,G03)",
          "#Parkinson disease (G20-G21)",
          "#Alzheimer disease (G30)",
          "Major cardiovascular diseases (I00-I78)",
          "#Diseases of heart (I00-I09,I11,I13,I20-I51)",
          "Acute rheumatic fever and chronic rheumatic heart diseases (I00-I09)",
          "Hypertensive heart disease (I11)",
          "Hypertensive heart and renal disease (I13)",
          "Ischemic heart diseases (I20-I25)",
          "Acute myocardial infarction (I21-I22)",
          "Other acute ischemic heart diseases (I24)",
          "Other forms of chronic ischemic heart disease (I20,I25)",
          "Atherosclerotic cardiovascular disease, so described (I25.0)",
          "All other forms of chronic ischemic heart disease (I20,I25.1-I25.9)",
          "Other heart diseases (I26-I51)",
          "Acute and subacute endocarditis (I33)",
          "Diseases of pericardium and acute myocarditis (I30-I31,I40)",
          "Heart failure (I50)",
          "All other forms of heart disease (I26-I28,I34-I38,I42-I49,I51)",
          "#Essential hypertension and hypertensive renal disease (I10,I12,I15)",
          "#Cerebrovascular diseases (I60-I69)",
          "#Atherosclerosis (I70)",
          "Other diseases of circulatory system (I71-I78)",
          "#Aortic aneurysm and dissection (I71)",
          "Other diseases of arteries, arterioles and capillaries (I72-I78)",
          "Other disorders of circulatory system (I80-I99)",
          "#Influenza and pneumonia (J09-J18)",
          "Influenza (J09-J11)",
          "Pneumonia (J12-J18)",
          "#Chronic lower respiratory diseases (J40-J47)",
          "Emphysema (J43)",
          "Asthma (J45-J46)",
          "Other chronic lower respiratory diseases (J44,J47)",
          "#Pneumoconioses and chemical effects (J60-J66,J68,U07.0)",
          "#Pneumonitis due to solids and liquids (J69)",
          "Other diseases of respiratory system (J00-J06,J30- J39,J67,J70-J98)",
          "#Peptic ulcer (K25-K28)",
          "#Diseases of appendix (K35-K38)",
          "#Hernia (K40-K46)",
          "#Chronic liver disease and cirrhosis (K70,K73-K74)",
          "Alcoholic liver disease (K70)",
          "Other chronic liver disease and cirrhosis (K73-K74)",
          "#Cholelithiasis and other disorders of gallbladder (K80-K82)",
          "#Nephritis, nephrotic syndrome and nephrosis (N00-N07,N17-N19,N25-N27)",
          "Acute and rapidly progressive nephritic and nephrotic syndrome (N00-N01,N04)",
          "Renal failure (N17-N19)",
          "#Infections of kidney (N10-N12,N13.6,N15.1)",
          "#Hyperplasia of prostate (N40)",
          "#Congenital malformations, deformations and chromosomal abnormalities (Q00-Q99)",
          "Symptoms, signs and abnormal clinical and laboratory findings, not elsewhere classified (R00-R99)",
          "All other diseases (Residual) ",
          "#Accidents (unintentional injuries) (V01-X59,Y85-Y86)",
          "Transport accidents (V01-V99,Y85)",
          "Motor vehicle accidents (V02-V04,V09.0,V09.2,V12-V14,V19.0-V19.2,V19.4-V19.6,V20-V79,V80.3-V80.5,V81.0-V81.1,V82.0-V82.1,V83-V86,V87.0-V87.8,V88.0-V88.8,V89.0,V89.2)",
          "Other land transport accidents (V01,V05-V06,V09.1,V09.3-V09.9,V10-V11,V15-V18,V19.3,V19.8-V19.9,V80.0-V80.2,V80.6-V80.9,V81.2-V81.9,V82.2-V82.9,V87.9,V88.9,V89.1,V89.3,V89.9)",
          "Water, air and space, and other and unspecified transport accidents and their sequelae (V90-V99,Y85)",
          "Nontransport accidents (W00-X59,Y86)",
          "Falls (W00-W19)",
          "Accidental drowning and submersion (W65-W74)",
          "Accidental exposure to smoke, fire and flames (X00-X09)",
          "Accidental poisoning and exposure to noxious substances (X40-X49)",
          "Other and unspecified nontransport accidents and their sequelae (W20-W31,W35-W64,W75-W99,X10-X39,X50-X59,Y86)"
         ],
         "name": "",
         "parents": [
          "",
          "All",
          "All",
          "#Tuberculosis (A16-A19)",
          "All",
          "All",
          "All",
          "All",
          "All",
          "#Malignant neoplasms (C00-C97)",
          "#Malignant neoplasms (C00-C97)",
          "#Malignant neoplasms (C00-C97)",
          "#Malignant neoplasms (C00-C97)",
          "#Malignant neoplasms (C00-C97)",
          "#Malignant neoplasms (C00-C97)",
          "#Malignant neoplasms (C00-C97)",
          "#Malignant neoplasms (C00-C97)",
          "#Malignant neoplasms (C00-C97)",
          "#Malignant neoplasms (C00-C97)",
          "#Malignant neoplasms (C00-C97)",
          "#Malignant neoplasms (C00-C97)",
          "#Malignant neoplasms (C00-C97)",
          "#Malignant neoplasms (C00-C97)",
          "#Malignant neoplasms (C00-C97)",
          "#Malignant neoplasms (C00-C97)",
          "#Malignant neoplasms (C00-C97)",
          "#Malignant neoplasms (C00-C97)",
          "Malignant neoplasms of lymphoid, hematopoietic and related tissue (C81-C96)",
          "Malignant neoplasms of lymphoid, hematopoietic and related tissue (C81-C96)",
          "Malignant neoplasms of lymphoid, hematopoietic and related tissue (C81-C96)",
          "Malignant neoplasms of lymphoid, hematopoietic and related tissue (C81-C96)",
          "#Malignant neoplasms (C00-C97)",
          "All",
          "All",
          "All",
          "All",
          "#Nutritional deficiencies (E40-E64)",
          "All",
          "All",
          "All",
          "All",
          "Major cardiovascular diseases (I00-I78)",
          "#Diseases of heart (I00-I09,I11,I13,I20-I51)",
          "#Diseases of heart (I00-I09,I11,I13,I20-I51)",
          "#Diseases of heart (I00-I09,I11,I13,I20-I51)",
          "#Diseases of heart (I00-I09,I11,I13,I20-I51)",
          "All",
          "Ischemic heart diseases (I20-I25)",
          "Ischemic heart diseases (I20-I25)",
          "Ischemic heart diseases (I20-I25)",
          "Ischemic heart diseases (I20-I25)",
          "#Diseases of heart (I00-I09,I11,I13,I20-I51)",
          "Other heart diseases (I26-I51)",
          "Other heart diseases (I26-I51)",
          "#Diseases of heart (I00-I09,I11,I13,I20-I51)",
          "Other heart diseases (I26-I51)",
          "Major cardiovascular diseases (I00-I78)",
          "Major cardiovascular diseases (I00-I78)",
          "Major cardiovascular diseases (I00-I78)",
          "Major cardiovascular diseases (I00-I78)",
          "Other diseases of circulatory system (I71-I78)",
          "Other diseases of circulatory system (I71-I78)",
          "All",
          "All",
          "#Influenza and pneumonia (J09-J18)",
          "#Influenza and pneumonia (J09-J18)",
          "All",
          "#Chronic lower respiratory diseases (J40-J47)",
          "#Chronic lower respiratory diseases (J40-J47)",
          "#Chronic lower respiratory diseases (J40-J47)",
          "All",
          "All",
          "All",
          "All",
          "All",
          "All",
          "All",
          "#Chronic liver disease and cirrhosis (K70,K73-K74)",
          "#Chronic liver disease and cirrhosis (K70,K73-K74)",
          "All",
          "All",
          "#Nephritis, nephrotic syndrome and nephrosis (N00-N07,N17-N19,N25-N27)",
          "#Nephritis, nephrotic syndrome and nephrosis (N00-N07,N17-N19,N25-N27)",
          "All",
          "All",
          "All",
          "All",
          "All",
          "All",
          "#Accidents (unintentional injuries) (V01-X59,Y85-Y86)",
          "Transport accidents (V01-V99,Y85)",
          "Transport accidents (V01-V99,Y85)",
          "Transport accidents (V01-V99,Y85)",
          "#Accidents (unintentional injuries) (V01-X59,Y85-Y86)",
          "Nontransport accidents (W00-X59,Y86)",
          "Nontransport accidents (W00-X59,Y86)",
          "Nontransport accidents (W00-X59,Y86)",
          "Nontransport accidents (W00-X59,Y86)",
          "#Accidents (unintentional injuries) (V01-X59,Y85-Y86)"
         ],
         "type": "treemap",
         "values": [
          0,
          3.0500000000000007,
          0.41000000000000014,
          1.18,
          23.74,
          3.64,
          1.94,
          11.05,
          0.020000000000038654,
          13.87,
          20.8,
          21.1,
          71.87,
          45.78,
          78.63,
          4.82,
          204.92,
          12.46,
          52.77,
          3.35,
          17.34,
          20.86,
          67.76,
          19.92,
          31.26,
          20.22,
          0.1700000000000088,
          1.53,
          37.91,
          38.79,
          23.86,
          112.01,
          23.92,
          5.17,
          151.39,
          0.23000000000000043,
          10.17,
          0.65,
          90.62,
          234.13,
          0,
          0,
          5.23,
          60.59,
          13.11,
          0,
          143.98,
          2.29,
          373.35,
          83.63,
          289.73,
          106.9,
          1.53,
          0.71,
          106.9,
          138.16,
          79.69,
          247.77,
          8.46,
          0,
          11.64,
          12.4,
          3.23,
          0,
          5.35,
          77.46,
          0.47999999999996135,
          10.34,
          3.58,
          223.08,
          0.76,
          23.04,
          59.18,
          7.52,
          0.71,
          3.88,
          0,
          13.93,
          23.98,
          6.88,
          0.4099999999999966,
          0.59,
          60.53,
          1.7,
          1.12,
          2.7,
          5.64,
          327.28,
          0,
          0,
          15.04,
          0.59,
          1,
          10.580000000000005,
          43.66,
          1.82,
          1.35,
          3.94,
          10.4
         ]
        }
       ],
       "layout": {
        "autosize": false,
        "height": 1000,
        "legend": {
         "tracegroupgap": 0
        },
        "margin": {
         "b": 0,
         "l": 0,
         "pad": 0,
         "r": 0,
         "t": 0
        },
        "template": {
         "data": {
          "bar": [
           {
            "error_x": {
             "color": "#2a3f5f"
            },
            "error_y": {
             "color": "#2a3f5f"
            },
            "marker": {
             "line": {
              "color": "#E5ECF6",
              "width": 0.5
             },
             "pattern": {
              "fillmode": "overlay",
              "size": 10,
              "solidity": 0.2
             }
            },
            "type": "bar"
           }
          ],
          "barpolar": [
           {
            "marker": {
             "line": {
              "color": "#E5ECF6",
              "width": 0.5
             },
             "pattern": {
              "fillmode": "overlay",
              "size": 10,
              "solidity": 0.2
             }
            },
            "type": "barpolar"
           }
          ],
          "carpet": [
           {
            "aaxis": {
             "endlinecolor": "#2a3f5f",
             "gridcolor": "white",
             "linecolor": "white",
             "minorgridcolor": "white",
             "startlinecolor": "#2a3f5f"
            },
            "baxis": {
             "endlinecolor": "#2a3f5f",
             "gridcolor": "white",
             "linecolor": "white",
             "minorgridcolor": "white",
             "startlinecolor": "#2a3f5f"
            },
            "type": "carpet"
           }
          ],
          "choropleth": [
           {
            "colorbar": {
             "outlinewidth": 0,
             "ticks": ""
            },
            "type": "choropleth"
           }
          ],
          "contour": [
           {
            "colorbar": {
             "outlinewidth": 0,
             "ticks": ""
            },
            "colorscale": [
             [
              0,
              "#0d0887"
             ],
             [
              0.1111111111111111,
              "#46039f"
             ],
             [
              0.2222222222222222,
              "#7201a8"
             ],
             [
              0.3333333333333333,
              "#9c179e"
             ],
             [
              0.4444444444444444,
              "#bd3786"
             ],
             [
              0.5555555555555556,
              "#d8576b"
             ],
             [
              0.6666666666666666,
              "#ed7953"
             ],
             [
              0.7777777777777778,
              "#fb9f3a"
             ],
             [
              0.8888888888888888,
              "#fdca26"
             ],
             [
              1,
              "#f0f921"
             ]
            ],
            "type": "contour"
           }
          ],
          "contourcarpet": [
           {
            "colorbar": {
             "outlinewidth": 0,
             "ticks": ""
            },
            "type": "contourcarpet"
           }
          ],
          "heatmap": [
           {
            "colorbar": {
             "outlinewidth": 0,
             "ticks": ""
            },
            "colorscale": [
             [
              0,
              "#0d0887"
             ],
             [
              0.1111111111111111,
              "#46039f"
             ],
             [
              0.2222222222222222,
              "#7201a8"
             ],
             [
              0.3333333333333333,
              "#9c179e"
             ],
             [
              0.4444444444444444,
              "#bd3786"
             ],
             [
              0.5555555555555556,
              "#d8576b"
             ],
             [
              0.6666666666666666,
              "#ed7953"
             ],
             [
              0.7777777777777778,
              "#fb9f3a"
             ],
             [
              0.8888888888888888,
              "#fdca26"
             ],
             [
              1,
              "#f0f921"
             ]
            ],
            "type": "heatmap"
           }
          ],
          "heatmapgl": [
           {
            "colorbar": {
             "outlinewidth": 0,
             "ticks": ""
            },
            "colorscale": [
             [
              0,
              "#0d0887"
             ],
             [
              0.1111111111111111,
              "#46039f"
             ],
             [
              0.2222222222222222,
              "#7201a8"
             ],
             [
              0.3333333333333333,
              "#9c179e"
             ],
             [
              0.4444444444444444,
              "#bd3786"
             ],
             [
              0.5555555555555556,
              "#d8576b"
             ],
             [
              0.6666666666666666,
              "#ed7953"
             ],
             [
              0.7777777777777778,
              "#fb9f3a"
             ],
             [
              0.8888888888888888,
              "#fdca26"
             ],
             [
              1,
              "#f0f921"
             ]
            ],
            "type": "heatmapgl"
           }
          ],
          "histogram": [
           {
            "marker": {
             "pattern": {
              "fillmode": "overlay",
              "size": 10,
              "solidity": 0.2
             }
            },
            "type": "histogram"
           }
          ],
          "histogram2d": [
           {
            "colorbar": {
             "outlinewidth": 0,
             "ticks": ""
            },
            "colorscale": [
             [
              0,
              "#0d0887"
             ],
             [
              0.1111111111111111,
              "#46039f"
             ],
             [
              0.2222222222222222,
              "#7201a8"
             ],
             [
              0.3333333333333333,
              "#9c179e"
             ],
             [
              0.4444444444444444,
              "#bd3786"
             ],
             [
              0.5555555555555556,
              "#d8576b"
             ],
             [
              0.6666666666666666,
              "#ed7953"
             ],
             [
              0.7777777777777778,
              "#fb9f3a"
             ],
             [
              0.8888888888888888,
              "#fdca26"
             ],
             [
              1,
              "#f0f921"
             ]
            ],
            "type": "histogram2d"
           }
          ],
          "histogram2dcontour": [
           {
            "colorbar": {
             "outlinewidth": 0,
             "ticks": ""
            },
            "colorscale": [
             [
              0,
              "#0d0887"
             ],
             [
              0.1111111111111111,
              "#46039f"
             ],
             [
              0.2222222222222222,
              "#7201a8"
             ],
             [
              0.3333333333333333,
              "#9c179e"
             ],
             [
              0.4444444444444444,
              "#bd3786"
             ],
             [
              0.5555555555555556,
              "#d8576b"
             ],
             [
              0.6666666666666666,
              "#ed7953"
             ],
             [
              0.7777777777777778,
              "#fb9f3a"
             ],
             [
              0.8888888888888888,
              "#fdca26"
             ],
             [
              1,
              "#f0f921"
             ]
            ],
            "type": "histogram2dcontour"
           }
          ],
          "mesh3d": [
           {
            "colorbar": {
             "outlinewidth": 0,
             "ticks": ""
            },
            "type": "mesh3d"
           }
          ],
          "parcoords": [
           {
            "line": {
             "colorbar": {
              "outlinewidth": 0,
              "ticks": ""
             }
            },
            "type": "parcoords"
           }
          ],
          "pie": [
           {
            "automargin": true,
            "type": "pie"
           }
          ],
          "scatter": [
           {
            "marker": {
             "colorbar": {
              "outlinewidth": 0,
              "ticks": ""
             }
            },
            "type": "scatter"
           }
          ],
          "scatter3d": [
           {
            "line": {
             "colorbar": {
              "outlinewidth": 0,
              "ticks": ""
             }
            },
            "marker": {
             "colorbar": {
              "outlinewidth": 0,
              "ticks": ""
             }
            },
            "type": "scatter3d"
           }
          ],
          "scattercarpet": [
           {
            "marker": {
             "colorbar": {
              "outlinewidth": 0,
              "ticks": ""
             }
            },
            "type": "scattercarpet"
           }
          ],
          "scattergeo": [
           {
            "marker": {
             "colorbar": {
              "outlinewidth": 0,
              "ticks": ""
             }
            },
            "type": "scattergeo"
           }
          ],
          "scattergl": [
           {
            "marker": {
             "colorbar": {
              "outlinewidth": 0,
              "ticks": ""
             }
            },
            "type": "scattergl"
           }
          ],
          "scattermapbox": [
           {
            "marker": {
             "colorbar": {
              "outlinewidth": 0,
              "ticks": ""
             }
            },
            "type": "scattermapbox"
           }
          ],
          "scatterpolar": [
           {
            "marker": {
             "colorbar": {
              "outlinewidth": 0,
              "ticks": ""
             }
            },
            "type": "scatterpolar"
           }
          ],
          "scatterpolargl": [
           {
            "marker": {
             "colorbar": {
              "outlinewidth": 0,
              "ticks": ""
             }
            },
            "type": "scatterpolargl"
           }
          ],
          "scatterternary": [
           {
            "marker": {
             "colorbar": {
              "outlinewidth": 0,
              "ticks": ""
             }
            },
            "type": "scatterternary"
           }
          ],
          "surface": [
           {
            "colorbar": {
             "outlinewidth": 0,
             "ticks": ""
            },
            "colorscale": [
             [
              0,
              "#0d0887"
             ],
             [
              0.1111111111111111,
              "#46039f"
             ],
             [
              0.2222222222222222,
              "#7201a8"
             ],
             [
              0.3333333333333333,
              "#9c179e"
             ],
             [
              0.4444444444444444,
              "#bd3786"
             ],
             [
              0.5555555555555556,
              "#d8576b"
             ],
             [
              0.6666666666666666,
              "#ed7953"
             ],
             [
              0.7777777777777778,
              "#fb9f3a"
             ],
             [
              0.8888888888888888,
              "#fdca26"
             ],
             [
              1,
              "#f0f921"
             ]
            ],
            "type": "surface"
           }
          ],
          "table": [
           {
            "cells": {
             "fill": {
              "color": "#EBF0F8"
             },
             "line": {
              "color": "white"
             }
            },
            "header": {
             "fill": {
              "color": "#C8D4E3"
             },
             "line": {
              "color": "white"
             }
            },
            "type": "table"
           }
          ]
         },
         "layout": {
          "annotationdefaults": {
           "arrowcolor": "#2a3f5f",
           "arrowhead": 0,
           "arrowwidth": 1
          },
          "autotypenumbers": "strict",
          "coloraxis": {
           "colorbar": {
            "outlinewidth": 0,
            "ticks": ""
           }
          },
          "colorscale": {
           "diverging": [
            [
             0,
             "#8e0152"
            ],
            [
             0.1,
             "#c51b7d"
            ],
            [
             0.2,
             "#de77ae"
            ],
            [
             0.3,
             "#f1b6da"
            ],
            [
             0.4,
             "#fde0ef"
            ],
            [
             0.5,
             "#f7f7f7"
            ],
            [
             0.6,
             "#e6f5d0"
            ],
            [
             0.7,
             "#b8e186"
            ],
            [
             0.8,
             "#7fbc41"
            ],
            [
             0.9,
             "#4d9221"
            ],
            [
             1,
             "#276419"
            ]
           ],
           "sequential": [
            [
             0,
             "#0d0887"
            ],
            [
             0.1111111111111111,
             "#46039f"
            ],
            [
             0.2222222222222222,
             "#7201a8"
            ],
            [
             0.3333333333333333,
             "#9c179e"
            ],
            [
             0.4444444444444444,
             "#bd3786"
            ],
            [
             0.5555555555555556,
             "#d8576b"
            ],
            [
             0.6666666666666666,
             "#ed7953"
            ],
            [
             0.7777777777777778,
             "#fb9f3a"
            ],
            [
             0.8888888888888888,
             "#fdca26"
            ],
            [
             1,
             "#f0f921"
            ]
           ],
           "sequentialminus": [
            [
             0,
             "#0d0887"
            ],
            [
             0.1111111111111111,
             "#46039f"
            ],
            [
             0.2222222222222222,
             "#7201a8"
            ],
            [
             0.3333333333333333,
             "#9c179e"
            ],
            [
             0.4444444444444444,
             "#bd3786"
            ],
            [
             0.5555555555555556,
             "#d8576b"
            ],
            [
             0.6666666666666666,
             "#ed7953"
            ],
            [
             0.7777777777777778,
             "#fb9f3a"
            ],
            [
             0.8888888888888888,
             "#fdca26"
            ],
            [
             1,
             "#f0f921"
            ]
           ]
          },
          "colorway": [
           "#636efa",
           "#EF553B",
           "#00cc96",
           "#ab63fa",
           "#FFA15A",
           "#19d3f3",
           "#FF6692",
           "#B6E880",
           "#FF97FF",
           "#FECB52"
          ],
          "font": {
           "color": "#2a3f5f"
          },
          "geo": {
           "bgcolor": "white",
           "lakecolor": "white",
           "landcolor": "#E5ECF6",
           "showlakes": true,
           "showland": true,
           "subunitcolor": "white"
          },
          "hoverlabel": {
           "align": "left"
          },
          "hovermode": "closest",
          "mapbox": {
           "style": "light"
          },
          "paper_bgcolor": "white",
          "plot_bgcolor": "#E5ECF6",
          "polar": {
           "angularaxis": {
            "gridcolor": "white",
            "linecolor": "white",
            "ticks": ""
           },
           "bgcolor": "#E5ECF6",
           "radialaxis": {
            "gridcolor": "white",
            "linecolor": "white",
            "ticks": ""
           }
          },
          "scene": {
           "xaxis": {
            "backgroundcolor": "#E5ECF6",
            "gridcolor": "white",
            "gridwidth": 2,
            "linecolor": "white",
            "showbackground": true,
            "ticks": "",
            "zerolinecolor": "white"
           },
           "yaxis": {
            "backgroundcolor": "#E5ECF6",
            "gridcolor": "white",
            "gridwidth": 2,
            "linecolor": "white",
            "showbackground": true,
            "ticks": "",
            "zerolinecolor": "white"
           },
           "zaxis": {
            "backgroundcolor": "#E5ECF6",
            "gridcolor": "white",
            "gridwidth": 2,
            "linecolor": "white",
            "showbackground": true,
            "ticks": "",
            "zerolinecolor": "white"
           }
          },
          "shapedefaults": {
           "line": {
            "color": "#2a3f5f"
           }
          },
          "ternary": {
           "aaxis": {
            "gridcolor": "white",
            "linecolor": "white",
            "ticks": ""
           },
           "baxis": {
            "gridcolor": "white",
            "linecolor": "white",
            "ticks": ""
           },
           "bgcolor": "#E5ECF6",
           "caxis": {
            "gridcolor": "white",
            "linecolor": "white",
            "ticks": ""
           }
          },
          "title": {
           "x": 0.05
          },
          "xaxis": {
           "automargin": true,
           "gridcolor": "white",
           "linecolor": "white",
           "ticks": "",
           "title": {
            "standoff": 15
           },
           "zerolinecolor": "white",
           "zerolinewidth": 2
          },
          "yaxis": {
           "automargin": true,
           "gridcolor": "white",
           "linecolor": "white",
           "ticks": "",
           "title": {
            "standoff": 15
           },
           "zerolinecolor": "white",
           "zerolinewidth": 2
          }
         }
        },
        "width": 1800
       }
      }
     },
     "metadata": {},
     "output_type": "display_data"
    }
   ],
   "source": [
    "fig = px.treemap(\n",
    "    plot_dic,\n",
    "    names='targets',\n",
    "    parents='parents',\n",
    "    values='values',\n",
    ")\n",
    "\n",
    "fig.update_layout(\n",
    "    autosize=False,\n",
    "    width=1800,\n",
    "    height=1000,\n",
    "    margin=dict(\n",
    "        l=0,\n",
    "        r=0,\n",
    "        b=0,\n",
    "        t=0,\n",
    "        pad=0\n",
    "    ),\n",
    ")\n",
    "\n",
    "fig.show()\n",
    "fig.write_html(\"CauseOfDeathTest.html\")"
   ]
  },
  {
   "cell_type": "code",
   "execution_count": 78,
   "metadata": {},
   "outputs": [
    {
     "data": {
      "text/plain": [
       "dict_keys(['values', 'targets', 'parents'])"
      ]
     },
     "execution_count": 78,
     "metadata": {},
     "output_type": "execute_result"
    }
   ],
   "source": [
    "plot_dict.keys()"
   ]
  },
  {
   "cell_type": "code",
   "execution_count": null,
   "metadata": {},
   "outputs": [],
   "source": []
  },
  {
   "cell_type": "code",
   "execution_count": 686,
   "metadata": {},
   "outputs": [
    {
     "data": {
      "application/vnd.plotly.v1+json": {
       "config": {
        "plotlyServerURL": "https://plot.ly"
       },
       "data": [
        {
         "link": {
          "source": [
           0,
           1,
           0,
           2,
           3,
           3
          ],
          "target": [
           2,
           3,
           3,
           4,
           4,
           5
          ],
          "value": [
           8,
           4,
           2,
           8,
           4,
           2
          ]
         },
         "node": {
          "color": "blue",
          "label": [
           "A1",
           "A2",
           "B1",
           "B2",
           "C1",
           "C2"
          ],
          "line": {
           "color": "black",
           "width": 0.5
          },
          "pad": 15,
          "thickness": 20
         },
         "type": "sankey"
        }
       ],
       "layout": {
        "font": {
         "size": 10
        },
        "template": {
         "data": {
          "bar": [
           {
            "error_x": {
             "color": "#2a3f5f"
            },
            "error_y": {
             "color": "#2a3f5f"
            },
            "marker": {
             "line": {
              "color": "#E5ECF6",
              "width": 0.5
             },
             "pattern": {
              "fillmode": "overlay",
              "size": 10,
              "solidity": 0.2
             }
            },
            "type": "bar"
           }
          ],
          "barpolar": [
           {
            "marker": {
             "line": {
              "color": "#E5ECF6",
              "width": 0.5
             },
             "pattern": {
              "fillmode": "overlay",
              "size": 10,
              "solidity": 0.2
             }
            },
            "type": "barpolar"
           }
          ],
          "carpet": [
           {
            "aaxis": {
             "endlinecolor": "#2a3f5f",
             "gridcolor": "white",
             "linecolor": "white",
             "minorgridcolor": "white",
             "startlinecolor": "#2a3f5f"
            },
            "baxis": {
             "endlinecolor": "#2a3f5f",
             "gridcolor": "white",
             "linecolor": "white",
             "minorgridcolor": "white",
             "startlinecolor": "#2a3f5f"
            },
            "type": "carpet"
           }
          ],
          "choropleth": [
           {
            "colorbar": {
             "outlinewidth": 0,
             "ticks": ""
            },
            "type": "choropleth"
           }
          ],
          "contour": [
           {
            "colorbar": {
             "outlinewidth": 0,
             "ticks": ""
            },
            "colorscale": [
             [
              0,
              "#0d0887"
             ],
             [
              0.1111111111111111,
              "#46039f"
             ],
             [
              0.2222222222222222,
              "#7201a8"
             ],
             [
              0.3333333333333333,
              "#9c179e"
             ],
             [
              0.4444444444444444,
              "#bd3786"
             ],
             [
              0.5555555555555556,
              "#d8576b"
             ],
             [
              0.6666666666666666,
              "#ed7953"
             ],
             [
              0.7777777777777778,
              "#fb9f3a"
             ],
             [
              0.8888888888888888,
              "#fdca26"
             ],
             [
              1,
              "#f0f921"
             ]
            ],
            "type": "contour"
           }
          ],
          "contourcarpet": [
           {
            "colorbar": {
             "outlinewidth": 0,
             "ticks": ""
            },
            "type": "contourcarpet"
           }
          ],
          "heatmap": [
           {
            "colorbar": {
             "outlinewidth": 0,
             "ticks": ""
            },
            "colorscale": [
             [
              0,
              "#0d0887"
             ],
             [
              0.1111111111111111,
              "#46039f"
             ],
             [
              0.2222222222222222,
              "#7201a8"
             ],
             [
              0.3333333333333333,
              "#9c179e"
             ],
             [
              0.4444444444444444,
              "#bd3786"
             ],
             [
              0.5555555555555556,
              "#d8576b"
             ],
             [
              0.6666666666666666,
              "#ed7953"
             ],
             [
              0.7777777777777778,
              "#fb9f3a"
             ],
             [
              0.8888888888888888,
              "#fdca26"
             ],
             [
              1,
              "#f0f921"
             ]
            ],
            "type": "heatmap"
           }
          ],
          "heatmapgl": [
           {
            "colorbar": {
             "outlinewidth": 0,
             "ticks": ""
            },
            "colorscale": [
             [
              0,
              "#0d0887"
             ],
             [
              0.1111111111111111,
              "#46039f"
             ],
             [
              0.2222222222222222,
              "#7201a8"
             ],
             [
              0.3333333333333333,
              "#9c179e"
             ],
             [
              0.4444444444444444,
              "#bd3786"
             ],
             [
              0.5555555555555556,
              "#d8576b"
             ],
             [
              0.6666666666666666,
              "#ed7953"
             ],
             [
              0.7777777777777778,
              "#fb9f3a"
             ],
             [
              0.8888888888888888,
              "#fdca26"
             ],
             [
              1,
              "#f0f921"
             ]
            ],
            "type": "heatmapgl"
           }
          ],
          "histogram": [
           {
            "marker": {
             "pattern": {
              "fillmode": "overlay",
              "size": 10,
              "solidity": 0.2
             }
            },
            "type": "histogram"
           }
          ],
          "histogram2d": [
           {
            "colorbar": {
             "outlinewidth": 0,
             "ticks": ""
            },
            "colorscale": [
             [
              0,
              "#0d0887"
             ],
             [
              0.1111111111111111,
              "#46039f"
             ],
             [
              0.2222222222222222,
              "#7201a8"
             ],
             [
              0.3333333333333333,
              "#9c179e"
             ],
             [
              0.4444444444444444,
              "#bd3786"
             ],
             [
              0.5555555555555556,
              "#d8576b"
             ],
             [
              0.6666666666666666,
              "#ed7953"
             ],
             [
              0.7777777777777778,
              "#fb9f3a"
             ],
             [
              0.8888888888888888,
              "#fdca26"
             ],
             [
              1,
              "#f0f921"
             ]
            ],
            "type": "histogram2d"
           }
          ],
          "histogram2dcontour": [
           {
            "colorbar": {
             "outlinewidth": 0,
             "ticks": ""
            },
            "colorscale": [
             [
              0,
              "#0d0887"
             ],
             [
              0.1111111111111111,
              "#46039f"
             ],
             [
              0.2222222222222222,
              "#7201a8"
             ],
             [
              0.3333333333333333,
              "#9c179e"
             ],
             [
              0.4444444444444444,
              "#bd3786"
             ],
             [
              0.5555555555555556,
              "#d8576b"
             ],
             [
              0.6666666666666666,
              "#ed7953"
             ],
             [
              0.7777777777777778,
              "#fb9f3a"
             ],
             [
              0.8888888888888888,
              "#fdca26"
             ],
             [
              1,
              "#f0f921"
             ]
            ],
            "type": "histogram2dcontour"
           }
          ],
          "mesh3d": [
           {
            "colorbar": {
             "outlinewidth": 0,
             "ticks": ""
            },
            "type": "mesh3d"
           }
          ],
          "parcoords": [
           {
            "line": {
             "colorbar": {
              "outlinewidth": 0,
              "ticks": ""
             }
            },
            "type": "parcoords"
           }
          ],
          "pie": [
           {
            "automargin": true,
            "type": "pie"
           }
          ],
          "scatter": [
           {
            "marker": {
             "colorbar": {
              "outlinewidth": 0,
              "ticks": ""
             }
            },
            "type": "scatter"
           }
          ],
          "scatter3d": [
           {
            "line": {
             "colorbar": {
              "outlinewidth": 0,
              "ticks": ""
             }
            },
            "marker": {
             "colorbar": {
              "outlinewidth": 0,
              "ticks": ""
             }
            },
            "type": "scatter3d"
           }
          ],
          "scattercarpet": [
           {
            "marker": {
             "colorbar": {
              "outlinewidth": 0,
              "ticks": ""
             }
            },
            "type": "scattercarpet"
           }
          ],
          "scattergeo": [
           {
            "marker": {
             "colorbar": {
              "outlinewidth": 0,
              "ticks": ""
             }
            },
            "type": "scattergeo"
           }
          ],
          "scattergl": [
           {
            "marker": {
             "colorbar": {
              "outlinewidth": 0,
              "ticks": ""
             }
            },
            "type": "scattergl"
           }
          ],
          "scattermapbox": [
           {
            "marker": {
             "colorbar": {
              "outlinewidth": 0,
              "ticks": ""
             }
            },
            "type": "scattermapbox"
           }
          ],
          "scatterpolar": [
           {
            "marker": {
             "colorbar": {
              "outlinewidth": 0,
              "ticks": ""
             }
            },
            "type": "scatterpolar"
           }
          ],
          "scatterpolargl": [
           {
            "marker": {
             "colorbar": {
              "outlinewidth": 0,
              "ticks": ""
             }
            },
            "type": "scatterpolargl"
           }
          ],
          "scatterternary": [
           {
            "marker": {
             "colorbar": {
              "outlinewidth": 0,
              "ticks": ""
             }
            },
            "type": "scatterternary"
           }
          ],
          "surface": [
           {
            "colorbar": {
             "outlinewidth": 0,
             "ticks": ""
            },
            "colorscale": [
             [
              0,
              "#0d0887"
             ],
             [
              0.1111111111111111,
              "#46039f"
             ],
             [
              0.2222222222222222,
              "#7201a8"
             ],
             [
              0.3333333333333333,
              "#9c179e"
             ],
             [
              0.4444444444444444,
              "#bd3786"
             ],
             [
              0.5555555555555556,
              "#d8576b"
             ],
             [
              0.6666666666666666,
              "#ed7953"
             ],
             [
              0.7777777777777778,
              "#fb9f3a"
             ],
             [
              0.8888888888888888,
              "#fdca26"
             ],
             [
              1,
              "#f0f921"
             ]
            ],
            "type": "surface"
           }
          ],
          "table": [
           {
            "cells": {
             "fill": {
              "color": "#EBF0F8"
             },
             "line": {
              "color": "white"
             }
            },
            "header": {
             "fill": {
              "color": "#C8D4E3"
             },
             "line": {
              "color": "white"
             }
            },
            "type": "table"
           }
          ]
         },
         "layout": {
          "annotationdefaults": {
           "arrowcolor": "#2a3f5f",
           "arrowhead": 0,
           "arrowwidth": 1
          },
          "autotypenumbers": "strict",
          "coloraxis": {
           "colorbar": {
            "outlinewidth": 0,
            "ticks": ""
           }
          },
          "colorscale": {
           "diverging": [
            [
             0,
             "#8e0152"
            ],
            [
             0.1,
             "#c51b7d"
            ],
            [
             0.2,
             "#de77ae"
            ],
            [
             0.3,
             "#f1b6da"
            ],
            [
             0.4,
             "#fde0ef"
            ],
            [
             0.5,
             "#f7f7f7"
            ],
            [
             0.6,
             "#e6f5d0"
            ],
            [
             0.7,
             "#b8e186"
            ],
            [
             0.8,
             "#7fbc41"
            ],
            [
             0.9,
             "#4d9221"
            ],
            [
             1,
             "#276419"
            ]
           ],
           "sequential": [
            [
             0,
             "#0d0887"
            ],
            [
             0.1111111111111111,
             "#46039f"
            ],
            [
             0.2222222222222222,
             "#7201a8"
            ],
            [
             0.3333333333333333,
             "#9c179e"
            ],
            [
             0.4444444444444444,
             "#bd3786"
            ],
            [
             0.5555555555555556,
             "#d8576b"
            ],
            [
             0.6666666666666666,
             "#ed7953"
            ],
            [
             0.7777777777777778,
             "#fb9f3a"
            ],
            [
             0.8888888888888888,
             "#fdca26"
            ],
            [
             1,
             "#f0f921"
            ]
           ],
           "sequentialminus": [
            [
             0,
             "#0d0887"
            ],
            [
             0.1111111111111111,
             "#46039f"
            ],
            [
             0.2222222222222222,
             "#7201a8"
            ],
            [
             0.3333333333333333,
             "#9c179e"
            ],
            [
             0.4444444444444444,
             "#bd3786"
            ],
            [
             0.5555555555555556,
             "#d8576b"
            ],
            [
             0.6666666666666666,
             "#ed7953"
            ],
            [
             0.7777777777777778,
             "#fb9f3a"
            ],
            [
             0.8888888888888888,
             "#fdca26"
            ],
            [
             1,
             "#f0f921"
            ]
           ]
          },
          "colorway": [
           "#636efa",
           "#EF553B",
           "#00cc96",
           "#ab63fa",
           "#FFA15A",
           "#19d3f3",
           "#FF6692",
           "#B6E880",
           "#FF97FF",
           "#FECB52"
          ],
          "font": {
           "color": "#2a3f5f"
          },
          "geo": {
           "bgcolor": "white",
           "lakecolor": "white",
           "landcolor": "#E5ECF6",
           "showlakes": true,
           "showland": true,
           "subunitcolor": "white"
          },
          "hoverlabel": {
           "align": "left"
          },
          "hovermode": "closest",
          "mapbox": {
           "style": "light"
          },
          "paper_bgcolor": "white",
          "plot_bgcolor": "#E5ECF6",
          "polar": {
           "angularaxis": {
            "gridcolor": "white",
            "linecolor": "white",
            "ticks": ""
           },
           "bgcolor": "#E5ECF6",
           "radialaxis": {
            "gridcolor": "white",
            "linecolor": "white",
            "ticks": ""
           }
          },
          "scene": {
           "xaxis": {
            "backgroundcolor": "#E5ECF6",
            "gridcolor": "white",
            "gridwidth": 2,
            "linecolor": "white",
            "showbackground": true,
            "ticks": "",
            "zerolinecolor": "white"
           },
           "yaxis": {
            "backgroundcolor": "#E5ECF6",
            "gridcolor": "white",
            "gridwidth": 2,
            "linecolor": "white",
            "showbackground": true,
            "ticks": "",
            "zerolinecolor": "white"
           },
           "zaxis": {
            "backgroundcolor": "#E5ECF6",
            "gridcolor": "white",
            "gridwidth": 2,
            "linecolor": "white",
            "showbackground": true,
            "ticks": "",
            "zerolinecolor": "white"
           }
          },
          "shapedefaults": {
           "line": {
            "color": "#2a3f5f"
           }
          },
          "ternary": {
           "aaxis": {
            "gridcolor": "white",
            "linecolor": "white",
            "ticks": ""
           },
           "baxis": {
            "gridcolor": "white",
            "linecolor": "white",
            "ticks": ""
           },
           "bgcolor": "#E5ECF6",
           "caxis": {
            "gridcolor": "white",
            "linecolor": "white",
            "ticks": ""
           }
          },
          "title": {
           "x": 0.05
          },
          "xaxis": {
           "automargin": true,
           "gridcolor": "white",
           "linecolor": "white",
           "ticks": "",
           "title": {
            "standoff": 15
           },
           "zerolinecolor": "white",
           "zerolinewidth": 2
          },
          "yaxis": {
           "automargin": true,
           "gridcolor": "white",
           "linecolor": "white",
           "ticks": "",
           "title": {
            "standoff": 15
           },
           "zerolinecolor": "white",
           "zerolinewidth": 2
          }
         }
        },
        "title": {
         "text": "Basic Sankey Diagram"
        }
       }
      }
     },
     "metadata": {},
     "output_type": "display_data"
    }
   ],
   "source": [
    "fig = go.Figure(data=[go.Sankey(\n",
    "    node = dict(\n",
    "      pad = 15,\n",
    "      thickness = 20,\n",
    "      line = dict(color = \"black\", width = 0.5),\n",
    "      label = [\"A1\", \"A2\", \"B1\", \"B2\", \"C1\", \"C2\"],\n",
    "      color = \"blue\"\n",
    "    ),\n",
    "    link = dict(\n",
    "      source = [0, 1, 0, 2, 3, 3], # indices correspond to labels, eg A1, A2, A1, B1, ...\n",
    "      target = [2, 3, 3, 4, 4, 5],\n",
    "      value = [8, 4, 2, 8, 4, 2]\n",
    "  ))])\n",
    "\n",
    "fig.update_layout(title_text=\"Basic Sankey Diagram\", font_size=10)\n",
    "fig.show()"
   ]
  },
  {
   "cell_type": "code",
   "execution_count": 137,
   "metadata": {},
   "outputs": [
    {
     "name": "stdout",
     "output_type": "stream",
     "text": [
      "source: (['Eve', 'Cain', 'Seth', 'Enos', 'Noam', 'Abel', 'Awan', 'Enoch', 'Azura'],) \n",
      "  target: (['', 'Eve', 'Eve', 'Seth', 'Seth', 'Eve', 'Eve', 'Awan', 'Eve'],)  \n",
      "  value: [5.255900338680769e-05, 7.972433097998919e-06, 5.610230698591832e-06, 0.0001068896585731707, 6.200781298443604e-05, 2.5688951093552072e-05, 5.403537988643712e-05, 0.004667121390628553, 9.448809597628349e-05, 0.00013523608736605575]\n",
      "source: 1 \n",
      "  target: 1  \n",
      "  value: 10\n"
     ]
    }
   ],
   "source": [
    "print(f\"source: {character} \\n  target: {parent}  \\n  value: {t_value}\")\n",
    "\n",
    "print(f\"source: {len(character)} \\n  target: {len(parent)}  \\n  value: {len(t_value)}\")"
   ]
  },
  {
   "cell_type": "code",
   "execution_count": 134,
   "metadata": {},
   "outputs": [
    {
     "data": {
      "application/vnd.plotly.v1+json": {
       "config": {
        "plotlyServerURL": "https://plot.ly"
       },
       "data": [
        {
         "labels": [
          "",
          "",
          "#Tuberculosis (A16-A19)",
          "",
          "",
          "",
          "",
          "",
          "#Malignant neoplasms (C00-C97)",
          "#Malignant neoplasms (C00-C97)"
         ],
         "parents": [
          "Certain other intestinal infections (A04,A07-A09)",
          "#Tuberculosis (A16-A19)",
          "Respiratory tuberculosis (A16)",
          "#Septicemia (A40-A41)",
          "#Viral hepatitis (B15-B19)",
          "#Human immunodeficiency virus (HIV) disease (B20-B24)",
          "Other and unspecified infectious and parasitic diseases and their sequelae (A00,A05,A20-A36,A42-A44,A48-A49,A54-A79,A81-A82,A85.0-A85.1,A85.8,A86-B04,B06-B09,B25-B49,B55-B99,U07.1)",
          "#Malignant neoplasms (C00-C97)",
          "Malignant neoplasms of lip, oral cavity and pharynx (C00-C14)",
          "Malignant neoplasm of esophagus (C15)"
         ],
         "type": "sunburst",
         "values": [
          0.00005255900338680769,
          0.000007972433097998919,
          0.000005610230698591832,
          0.0001068896585731707,
          0.00006200781298443604,
          0.000025688951093552072,
          0.00005403537988643712,
          0.004667121390628553,
          0.00009448809597628349,
          0.00013523608736605575
         ]
        }
       ],
       "layout": {
        "template": {
         "data": {
          "bar": [
           {
            "error_x": {
             "color": "#2a3f5f"
            },
            "error_y": {
             "color": "#2a3f5f"
            },
            "marker": {
             "line": {
              "color": "#E5ECF6",
              "width": 0.5
             },
             "pattern": {
              "fillmode": "overlay",
              "size": 10,
              "solidity": 0.2
             }
            },
            "type": "bar"
           }
          ],
          "barpolar": [
           {
            "marker": {
             "line": {
              "color": "#E5ECF6",
              "width": 0.5
             },
             "pattern": {
              "fillmode": "overlay",
              "size": 10,
              "solidity": 0.2
             }
            },
            "type": "barpolar"
           }
          ],
          "carpet": [
           {
            "aaxis": {
             "endlinecolor": "#2a3f5f",
             "gridcolor": "white",
             "linecolor": "white",
             "minorgridcolor": "white",
             "startlinecolor": "#2a3f5f"
            },
            "baxis": {
             "endlinecolor": "#2a3f5f",
             "gridcolor": "white",
             "linecolor": "white",
             "minorgridcolor": "white",
             "startlinecolor": "#2a3f5f"
            },
            "type": "carpet"
           }
          ],
          "choropleth": [
           {
            "colorbar": {
             "outlinewidth": 0,
             "ticks": ""
            },
            "type": "choropleth"
           }
          ],
          "contour": [
           {
            "colorbar": {
             "outlinewidth": 0,
             "ticks": ""
            },
            "colorscale": [
             [
              0,
              "#0d0887"
             ],
             [
              0.1111111111111111,
              "#46039f"
             ],
             [
              0.2222222222222222,
              "#7201a8"
             ],
             [
              0.3333333333333333,
              "#9c179e"
             ],
             [
              0.4444444444444444,
              "#bd3786"
             ],
             [
              0.5555555555555556,
              "#d8576b"
             ],
             [
              0.6666666666666666,
              "#ed7953"
             ],
             [
              0.7777777777777778,
              "#fb9f3a"
             ],
             [
              0.8888888888888888,
              "#fdca26"
             ],
             [
              1,
              "#f0f921"
             ]
            ],
            "type": "contour"
           }
          ],
          "contourcarpet": [
           {
            "colorbar": {
             "outlinewidth": 0,
             "ticks": ""
            },
            "type": "contourcarpet"
           }
          ],
          "heatmap": [
           {
            "colorbar": {
             "outlinewidth": 0,
             "ticks": ""
            },
            "colorscale": [
             [
              0,
              "#0d0887"
             ],
             [
              0.1111111111111111,
              "#46039f"
             ],
             [
              0.2222222222222222,
              "#7201a8"
             ],
             [
              0.3333333333333333,
              "#9c179e"
             ],
             [
              0.4444444444444444,
              "#bd3786"
             ],
             [
              0.5555555555555556,
              "#d8576b"
             ],
             [
              0.6666666666666666,
              "#ed7953"
             ],
             [
              0.7777777777777778,
              "#fb9f3a"
             ],
             [
              0.8888888888888888,
              "#fdca26"
             ],
             [
              1,
              "#f0f921"
             ]
            ],
            "type": "heatmap"
           }
          ],
          "heatmapgl": [
           {
            "colorbar": {
             "outlinewidth": 0,
             "ticks": ""
            },
            "colorscale": [
             [
              0,
              "#0d0887"
             ],
             [
              0.1111111111111111,
              "#46039f"
             ],
             [
              0.2222222222222222,
              "#7201a8"
             ],
             [
              0.3333333333333333,
              "#9c179e"
             ],
             [
              0.4444444444444444,
              "#bd3786"
             ],
             [
              0.5555555555555556,
              "#d8576b"
             ],
             [
              0.6666666666666666,
              "#ed7953"
             ],
             [
              0.7777777777777778,
              "#fb9f3a"
             ],
             [
              0.8888888888888888,
              "#fdca26"
             ],
             [
              1,
              "#f0f921"
             ]
            ],
            "type": "heatmapgl"
           }
          ],
          "histogram": [
           {
            "marker": {
             "pattern": {
              "fillmode": "overlay",
              "size": 10,
              "solidity": 0.2
             }
            },
            "type": "histogram"
           }
          ],
          "histogram2d": [
           {
            "colorbar": {
             "outlinewidth": 0,
             "ticks": ""
            },
            "colorscale": [
             [
              0,
              "#0d0887"
             ],
             [
              0.1111111111111111,
              "#46039f"
             ],
             [
              0.2222222222222222,
              "#7201a8"
             ],
             [
              0.3333333333333333,
              "#9c179e"
             ],
             [
              0.4444444444444444,
              "#bd3786"
             ],
             [
              0.5555555555555556,
              "#d8576b"
             ],
             [
              0.6666666666666666,
              "#ed7953"
             ],
             [
              0.7777777777777778,
              "#fb9f3a"
             ],
             [
              0.8888888888888888,
              "#fdca26"
             ],
             [
              1,
              "#f0f921"
             ]
            ],
            "type": "histogram2d"
           }
          ],
          "histogram2dcontour": [
           {
            "colorbar": {
             "outlinewidth": 0,
             "ticks": ""
            },
            "colorscale": [
             [
              0,
              "#0d0887"
             ],
             [
              0.1111111111111111,
              "#46039f"
             ],
             [
              0.2222222222222222,
              "#7201a8"
             ],
             [
              0.3333333333333333,
              "#9c179e"
             ],
             [
              0.4444444444444444,
              "#bd3786"
             ],
             [
              0.5555555555555556,
              "#d8576b"
             ],
             [
              0.6666666666666666,
              "#ed7953"
             ],
             [
              0.7777777777777778,
              "#fb9f3a"
             ],
             [
              0.8888888888888888,
              "#fdca26"
             ],
             [
              1,
              "#f0f921"
             ]
            ],
            "type": "histogram2dcontour"
           }
          ],
          "mesh3d": [
           {
            "colorbar": {
             "outlinewidth": 0,
             "ticks": ""
            },
            "type": "mesh3d"
           }
          ],
          "parcoords": [
           {
            "line": {
             "colorbar": {
              "outlinewidth": 0,
              "ticks": ""
             }
            },
            "type": "parcoords"
           }
          ],
          "pie": [
           {
            "automargin": true,
            "type": "pie"
           }
          ],
          "scatter": [
           {
            "marker": {
             "colorbar": {
              "outlinewidth": 0,
              "ticks": ""
             }
            },
            "type": "scatter"
           }
          ],
          "scatter3d": [
           {
            "line": {
             "colorbar": {
              "outlinewidth": 0,
              "ticks": ""
             }
            },
            "marker": {
             "colorbar": {
              "outlinewidth": 0,
              "ticks": ""
             }
            },
            "type": "scatter3d"
           }
          ],
          "scattercarpet": [
           {
            "marker": {
             "colorbar": {
              "outlinewidth": 0,
              "ticks": ""
             }
            },
            "type": "scattercarpet"
           }
          ],
          "scattergeo": [
           {
            "marker": {
             "colorbar": {
              "outlinewidth": 0,
              "ticks": ""
             }
            },
            "type": "scattergeo"
           }
          ],
          "scattergl": [
           {
            "marker": {
             "colorbar": {
              "outlinewidth": 0,
              "ticks": ""
             }
            },
            "type": "scattergl"
           }
          ],
          "scattermapbox": [
           {
            "marker": {
             "colorbar": {
              "outlinewidth": 0,
              "ticks": ""
             }
            },
            "type": "scattermapbox"
           }
          ],
          "scatterpolar": [
           {
            "marker": {
             "colorbar": {
              "outlinewidth": 0,
              "ticks": ""
             }
            },
            "type": "scatterpolar"
           }
          ],
          "scatterpolargl": [
           {
            "marker": {
             "colorbar": {
              "outlinewidth": 0,
              "ticks": ""
             }
            },
            "type": "scatterpolargl"
           }
          ],
          "scatterternary": [
           {
            "marker": {
             "colorbar": {
              "outlinewidth": 0,
              "ticks": ""
             }
            },
            "type": "scatterternary"
           }
          ],
          "surface": [
           {
            "colorbar": {
             "outlinewidth": 0,
             "ticks": ""
            },
            "colorscale": [
             [
              0,
              "#0d0887"
             ],
             [
              0.1111111111111111,
              "#46039f"
             ],
             [
              0.2222222222222222,
              "#7201a8"
             ],
             [
              0.3333333333333333,
              "#9c179e"
             ],
             [
              0.4444444444444444,
              "#bd3786"
             ],
             [
              0.5555555555555556,
              "#d8576b"
             ],
             [
              0.6666666666666666,
              "#ed7953"
             ],
             [
              0.7777777777777778,
              "#fb9f3a"
             ],
             [
              0.8888888888888888,
              "#fdca26"
             ],
             [
              1,
              "#f0f921"
             ]
            ],
            "type": "surface"
           }
          ],
          "table": [
           {
            "cells": {
             "fill": {
              "color": "#EBF0F8"
             },
             "line": {
              "color": "white"
             }
            },
            "header": {
             "fill": {
              "color": "#C8D4E3"
             },
             "line": {
              "color": "white"
             }
            },
            "type": "table"
           }
          ]
         },
         "layout": {
          "annotationdefaults": {
           "arrowcolor": "#2a3f5f",
           "arrowhead": 0,
           "arrowwidth": 1
          },
          "autotypenumbers": "strict",
          "coloraxis": {
           "colorbar": {
            "outlinewidth": 0,
            "ticks": ""
           }
          },
          "colorscale": {
           "diverging": [
            [
             0,
             "#8e0152"
            ],
            [
             0.1,
             "#c51b7d"
            ],
            [
             0.2,
             "#de77ae"
            ],
            [
             0.3,
             "#f1b6da"
            ],
            [
             0.4,
             "#fde0ef"
            ],
            [
             0.5,
             "#f7f7f7"
            ],
            [
             0.6,
             "#e6f5d0"
            ],
            [
             0.7,
             "#b8e186"
            ],
            [
             0.8,
             "#7fbc41"
            ],
            [
             0.9,
             "#4d9221"
            ],
            [
             1,
             "#276419"
            ]
           ],
           "sequential": [
            [
             0,
             "#0d0887"
            ],
            [
             0.1111111111111111,
             "#46039f"
            ],
            [
             0.2222222222222222,
             "#7201a8"
            ],
            [
             0.3333333333333333,
             "#9c179e"
            ],
            [
             0.4444444444444444,
             "#bd3786"
            ],
            [
             0.5555555555555556,
             "#d8576b"
            ],
            [
             0.6666666666666666,
             "#ed7953"
            ],
            [
             0.7777777777777778,
             "#fb9f3a"
            ],
            [
             0.8888888888888888,
             "#fdca26"
            ],
            [
             1,
             "#f0f921"
            ]
           ],
           "sequentialminus": [
            [
             0,
             "#0d0887"
            ],
            [
             0.1111111111111111,
             "#46039f"
            ],
            [
             0.2222222222222222,
             "#7201a8"
            ],
            [
             0.3333333333333333,
             "#9c179e"
            ],
            [
             0.4444444444444444,
             "#bd3786"
            ],
            [
             0.5555555555555556,
             "#d8576b"
            ],
            [
             0.6666666666666666,
             "#ed7953"
            ],
            [
             0.7777777777777778,
             "#fb9f3a"
            ],
            [
             0.8888888888888888,
             "#fdca26"
            ],
            [
             1,
             "#f0f921"
            ]
           ]
          },
          "colorway": [
           "#636efa",
           "#EF553B",
           "#00cc96",
           "#ab63fa",
           "#FFA15A",
           "#19d3f3",
           "#FF6692",
           "#B6E880",
           "#FF97FF",
           "#FECB52"
          ],
          "font": {
           "color": "#2a3f5f"
          },
          "geo": {
           "bgcolor": "white",
           "lakecolor": "white",
           "landcolor": "#E5ECF6",
           "showlakes": true,
           "showland": true,
           "subunitcolor": "white"
          },
          "hoverlabel": {
           "align": "left"
          },
          "hovermode": "closest",
          "mapbox": {
           "style": "light"
          },
          "paper_bgcolor": "white",
          "plot_bgcolor": "#E5ECF6",
          "polar": {
           "angularaxis": {
            "gridcolor": "white",
            "linecolor": "white",
            "ticks": ""
           },
           "bgcolor": "#E5ECF6",
           "radialaxis": {
            "gridcolor": "white",
            "linecolor": "white",
            "ticks": ""
           }
          },
          "scene": {
           "xaxis": {
            "backgroundcolor": "#E5ECF6",
            "gridcolor": "white",
            "gridwidth": 2,
            "linecolor": "white",
            "showbackground": true,
            "ticks": "",
            "zerolinecolor": "white"
           },
           "yaxis": {
            "backgroundcolor": "#E5ECF6",
            "gridcolor": "white",
            "gridwidth": 2,
            "linecolor": "white",
            "showbackground": true,
            "ticks": "",
            "zerolinecolor": "white"
           },
           "zaxis": {
            "backgroundcolor": "#E5ECF6",
            "gridcolor": "white",
            "gridwidth": 2,
            "linecolor": "white",
            "showbackground": true,
            "ticks": "",
            "zerolinecolor": "white"
           }
          },
          "shapedefaults": {
           "line": {
            "color": "#2a3f5f"
           }
          },
          "ternary": {
           "aaxis": {
            "gridcolor": "white",
            "linecolor": "white",
            "ticks": ""
           },
           "baxis": {
            "gridcolor": "white",
            "linecolor": "white",
            "ticks": ""
           },
           "bgcolor": "#E5ECF6",
           "caxis": {
            "gridcolor": "white",
            "linecolor": "white",
            "ticks": ""
           }
          },
          "title": {
           "x": 0.05
          },
          "xaxis": {
           "automargin": true,
           "gridcolor": "white",
           "linecolor": "white",
           "ticks": "",
           "title": {
            "standoff": 15
           },
           "zerolinecolor": "white",
           "zerolinewidth": 2
          },
          "yaxis": {
           "automargin": true,
           "gridcolor": "white",
           "linecolor": "white",
           "ticks": "",
           "title": {
            "standoff": 15
           },
           "zerolinecolor": "white",
           "zerolinewidth": 2
          }
         }
        }
       }
      }
     },
     "metadata": {},
     "output_type": "display_data"
    }
   ],
   "source": [
    "fig =go.Figure(go.Sunburst(\n",
    "    labels=t_source,\n",
    "    parents=t_target,\n",
    "    values=t_value,\n",
    "))\n",
    "\n",
    "fig.show()"
   ]
  },
  {
   "cell_type": "code",
   "execution_count": 122,
   "metadata": {},
   "outputs": [
    {
     "data": {
      "text/plain": [
       "['Certain other intestinal infections (A04,A07-A09)',\n",
       " '#Tuberculosis (A16-A19)',\n",
       " 'Respiratory tuberculosis (A16)',\n",
       " '#Septicemia (A40-A41)',\n",
       " '#Viral hepatitis (B15-B19)',\n",
       " '#Human immunodeficiency virus (HIV) disease (B20-B24)',\n",
       " 'Other and unspecified infectious and parasitic diseases and their sequelae (A00,A05,A20-A36,A42-A44,A48-A49,A54-A79,A81-A82,A85.0-A85.1,A85.8,A86-B04,B06-B09,B25-B49,B55-B99,U07.1)',\n",
       " '#Malignant neoplasms (C00-C97)',\n",
       " 'Malignant neoplasms of lip, oral cavity and pharynx (C00-C14)',\n",
       " 'Malignant neoplasm of esophagus (C15)',\n",
       " 'Malignant neoplasm of stomach (C16)',\n",
       " 'Malignant neoplasms of colon, rectum and anus (C18-C21)',\n",
       " 'Malignant neoplasms of liver and intrahepatic bile ducts (C22)',\n",
       " 'Malignant neoplasm of pancreas (C25)',\n",
       " 'Malignant neoplasm of larynx (C32)',\n",
       " 'Malignant neoplasms of trachea, bronchus and lung (C33-C34)',\n",
       " 'Malignant melanoma of skin (C43)',\n",
       " 'Malignant neoplasm of breast (C50)',\n",
       " 'Malignant neoplasm of cervix uteri (C53)',\n",
       " 'Malignant neoplasms of corpus uteri and uterus, part unspecified (C54-C55)',\n",
       " 'Malignant neoplasm of ovary (C56)',\n",
       " 'Malignant neoplasm of prostate (C61)',\n",
       " 'Malignant neoplasms of kidney and renal pelvis (C64-C65)',\n",
       " 'Malignant neoplasm of bladder (C67)',\n",
       " 'Malignant neoplasms of meninges, brain and other parts of central nervous system (C70-C72)',\n",
       " 'Malignant neoplasms of lymphoid, hematopoietic and related tissue (C81-C96)',\n",
       " 'Hodgkin disease (C81)',\n",
       " 'Non-Hodgkin lymphoma (C82-C85)',\n",
       " 'Leukemia (C91-C95)',\n",
       " 'Multiple myeloma and immunoproliferative neoplasms (C88,C90)',\n",
       " 'All other and unspecified malignant neoplasms (C17,C23-C24,C26-C31,C37-C41,C44-C49,C51-C52,C57-C60,C62-C63,C66,C68-C69,C73-C80,C97)',\n",
       " '#In situ neoplasms, benign neoplasms and neoplasms of uncertain or unknown behavior (D00-D48)',\n",
       " '#Anemias (D50-D64)',\n",
       " '#Diabetes mellitus (E10-E14)',\n",
       " '#Nutritional deficiencies (E40-E64)',\n",
       " 'Malnutrition (E40-E46)',\n",
       " '#Meningitis (G00,G03)',\n",
       " '#Parkinson disease (G20-G21)',\n",
       " '#Alzheimer disease (G30)',\n",
       " 'Major cardiovascular diseases (I00-I78)',\n",
       " '#Diseases of heart (I00-I09,I11,I13,I20-I51)',\n",
       " 'Acute rheumatic fever and chronic rheumatic heart diseases (I00-I09)',\n",
       " 'Hypertensive heart disease (I11)',\n",
       " 'Hypertensive heart and renal disease (I13)',\n",
       " 'Ischemic heart diseases (I20-I25)',\n",
       " 'Acute myocardial infarction (I21-I22)',\n",
       " 'Other acute ischemic heart diseases (I24)',\n",
       " 'Other forms of chronic ischemic heart disease (I20,I25)',\n",
       " 'Atherosclerotic cardiovascular disease, so described (I25.0)',\n",
       " 'All other forms of chronic ischemic heart disease (I20,I25.1-I25.9)',\n",
       " 'Other heart diseases (I26-I51)',\n",
       " 'Acute and subacute endocarditis (I33)',\n",
       " 'Diseases of pericardium and acute myocarditis (I30-I31,I40)',\n",
       " 'Heart failure (I50)',\n",
       " 'All other forms of heart disease (I26-I28,I34-I38,I42-I49,I51)',\n",
       " '#Essential hypertension and hypertensive renal disease (I10,I12,I15)',\n",
       " '#Cerebrovascular diseases (I60-I69)',\n",
       " '#Atherosclerosis (I70)',\n",
       " 'Other diseases of circulatory system (I71-I78)',\n",
       " '#Aortic aneurysm and dissection (I71)',\n",
       " 'Other diseases of arteries, arterioles and capillaries (I72-I78)',\n",
       " 'Other disorders of circulatory system (I80-I99)',\n",
       " '#Influenza and pneumonia (J09-J18)',\n",
       " 'Influenza (J09-J11)',\n",
       " 'Pneumonia (J12-J18)',\n",
       " '#Chronic lower respiratory diseases (J40-J47)',\n",
       " 'Emphysema (J43)',\n",
       " 'Asthma (J45-J46)',\n",
       " 'Other chronic lower respiratory diseases (J44,J47)',\n",
       " '#Pneumonitis due to solids and liquids (J69)',\n",
       " 'Other diseases of respiratory system (J00-J06,J30- J39,J67,J70-J98)',\n",
       " '#Peptic ulcer (K25-K28)',\n",
       " '#Hernia (K40-K46)',\n",
       " '#Chronic liver disease and cirrhosis (K70,K73-K74)',\n",
       " 'Alcoholic liver disease (K70)',\n",
       " 'Other chronic liver disease and cirrhosis (K73-K74)',\n",
       " '#Cholelithiasis and other disorders of gallbladder (K80-K82)',\n",
       " '#Nephritis, nephrotic syndrome and nephrosis (N00-N07,N17-N19,N25-N27)',\n",
       " 'Acute and rapidly progressive nephritic and nephrotic syndrome (N00-N01,N04)',\n",
       " 'Renal failure (N17-N19)',\n",
       " '#Infections of kidney (N10-N12,N13.6,N15.1)',\n",
       " '#Hyperplasia of prostate (N40)',\n",
       " '#Congenital malformations, deformations and chromosomal abnormalities (Q00-Q99)',\n",
       " 'Symptoms, signs and abnormal clinical and laboratory findings, not elsewhere classified (R00-R99)',\n",
       " 'All other diseases (Residual) ',\n",
       " '#Accidents (unintentional injuries) (V01-X59,Y85-Y86)',\n",
       " 'Transport accidents (V01-V99,Y85)',\n",
       " 'Motor vehicle accidents (V02-V04,V09.0,V09.2,V12-V14,V19.0-V19.2,V19.4-V19.6,V20-V79,V80.3-V80.5,V81.0-V81.1,V82.0-V82.1,V83-V86,V87.0-V87.8,V88.0-V88.8,V89.0,V89.2)',\n",
       " 'Other land transport accidents (V01,V05-V06,V09.1,V09.3-V09.9,V10-V11,V15-V18,V19.3,V19.8-V19.9,V80.0-V80.2,V80.6-V80.9,V81.2-V81.9,V82.2-V82.9,V87.9,V88.9,V89.1,V89.3,V89.9)',\n",
       " 'Water, air and space, and other and unspecified transport accidents and their sequelae (V90-V99,Y85)',\n",
       " 'Nontransport accidents (W00-X59,Y86)',\n",
       " 'Falls (W00-W19)',\n",
       " 'Accidental drowning and submersion (W65-W74)',\n",
       " 'Accidental exposure to smoke, fire and flames (X00-X09)',\n",
       " 'Accidental poisoning and exposure to noxious substances (X40-X49)',\n",
       " 'Other and unspecified nontransport accidents and their sequelae (W20-W31,W35-W64,W75-W99,X10-X39,X50-X59,Y86)',\n",
       " '#Intentional self-harm (suicide) (*U03,X60-X84,Y87.0)',\n",
       " 'Intentional self-harm (suicide) by discharge of firearms (X72-X74)',\n",
       " 'Intentional self-harm (suicide) by other and unspecified means and their sequelae (*U03,X60-X71,X75-X84,Y87.0)',\n",
       " '#Assault (homicide) (*U01-*U02,X85-Y09,Y87.1)',\n",
       " 'Assault (homicide) by discharge of firearms (*U01.4,X93-X95)',\n",
       " 'Assault (homicide) by other and unspecified means and their sequelae (*U01.0-*U01.3,*U01.5-*U01.9,*U02,X85-X92,X96-Y09,Y87.1)',\n",
       " 'Events of undetermined intent (Y10-Y34,Y87.2,Y89.9)',\n",
       " 'Other and unspecified events of undetermined intent and their sequelae (Y10-Y21,Y25-Y34,Y87.2,Y89.9)',\n",
       " '#Complications of medical and surgical care (Y40-Y84,Y88)',\n",
       " '#Enterocolitis due to Clostridium difficile (A04.7)']"
      ]
     },
     "execution_count": 122,
     "metadata": {},
     "output_type": "execute_result"
    }
   ],
   "source": [
    "target"
   ]
  },
  {
   "cell_type": "code",
   "execution_count": 120,
   "metadata": {},
   "outputs": [
    {
     "data": {
      "text/plain": [
       "106"
      ]
     },
     "execution_count": 120,
     "metadata": {},
     "output_type": "execute_result"
    }
   ],
   "source": [
    "len(source)\n",
    "#len(target)\n",
    "#len(value)"
   ]
  },
  {
   "cell_type": "code",
   "execution_count": null,
   "metadata": {},
   "outputs": [],
   "source": []
  },
  {
   "cell_type": "code",
   "execution_count": null,
   "metadata": {},
   "outputs": [],
   "source": [
    "source"
   ]
  },
  {
   "cell_type": "code",
   "execution_count": null,
   "metadata": {},
   "outputs": [],
   "source": []
  },
  {
   "cell_type": "code",
   "execution_count": null,
   "metadata": {},
   "outputs": [],
   "source": []
  },
  {
   "cell_type": "code",
   "execution_count": null,
   "metadata": {},
   "outputs": [],
   "source": []
  },
  {
   "cell_type": "code",
   "execution_count": null,
   "metadata": {},
   "outputs": [],
   "source": []
  },
  {
   "cell_type": "code",
   "execution_count": null,
   "metadata": {},
   "outputs": [],
   "source": []
  },
  {
   "cell_type": "code",
   "execution_count": null,
   "metadata": {},
   "outputs": [],
   "source": []
  }
 ],
 "metadata": {
  "kernelspec": {
   "display_name": "real-fast",
   "language": "python",
   "name": "python3"
  },
  "language_info": {
   "codemirror_mode": {
    "name": "ipython",
    "version": 3
   },
   "file_extension": ".py",
   "mimetype": "text/x-python",
   "name": "python",
   "nbconvert_exporter": "python",
   "pygments_lexer": "ipython3",
   "version": "3.8.4"
  },
  "orig_nbformat": 4
 },
 "nbformat": 4,
 "nbformat_minor": 2
}
