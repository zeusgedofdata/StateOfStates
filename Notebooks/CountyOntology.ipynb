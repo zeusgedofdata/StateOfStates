{
 "cells": [
  {
   "cell_type": "code",
   "execution_count": null,
   "metadata": {},
   "outputs": [],
   "source": [
    "import json\n",
    "import pandas as pd\n",
    "import addfips\n",
    "import plotly.express as px\n",
    "import plotly.graph_objects as go\n",
    "from urllib.request import urlopen\n",
    "import plotly.figure_factory as ff\n",
    "\n",
    "\n",
    "af = addfips.AddFIPS()\n",
    "with urlopen('https://raw.githubusercontent.com/plotly/datasets/master/geojson-counties-fips.json') as response:\n",
    "    counties = json.load(response)\n",
    "#Create a dataset that has County Fips, Urbanization, political affiliation, culture group \n"
   ]
  },
  {
   "cell_type": "code",
   "execution_count": null,
   "metadata": {},
   "outputs": [],
   "source": [
    "urbanization = pd.read_csv(r\"data/UrbanRual/2013Urbanization.txt\", delimiter=\"\t\")\n",
    "urbanization = urbanization.dropna(subset=[\"County\"])\n",
    "\n",
    "urbanization['State'] = urbanization.County.str.split(',').str[1]\n",
    "urbanization['County'] = urbanization.County.str.split(',').str[0]\n",
    "urbanization['County'] = urbanization.County.str.strip()\n",
    "urbanization['State'] = urbanization.State.str.strip()\n",
    "urbanization[\"fips\"] = urbanization.apply(lambda x: af.get_county_fips(x[\"County\"], state=x[\"State\"]), axis=1)\n",
    "urbanization = urbanization.drop([\"Notes\"], axis=1)\n",
    "urbanization.sample(4)"
   ]
  },
  {
   "cell_type": "code",
   "execution_count": null,
   "metadata": {},
   "outputs": [],
   "source": []
  },
  {
   "cell_type": "code",
   "execution_count": null,
   "metadata": {},
   "outputs": [],
   "source": [
    "cultural = pd.read_excel(r\"data/Cultural/woodardsCounty.xlsx\")\n",
    "cultural[\"fips\"] = cultural.apply(lambda x: af.get_county_fips(x[\"COUNTY NAME (FULL)\"], state=x[\"STATE NAME\"]), axis=1)\n",
    "cultural = cultural.rename({\"WOODARD NATION NAME\":\"Cultural ID\"}, axis=1)\n",
    "cultural = cultural.drop([\"COUNTY NAME (SHORT)\", \"COUNTY NAME (FULL)\", \"STATE NAME\"], axis=1)\n",
    "cultural"
   ]
  },
  {
   "cell_type": "code",
   "execution_count": null,
   "metadata": {},
   "outputs": [],
   "source": [
    "final = pd.merge(cultural, urbanization, on=\"fips\")\n",
    "final.fips = final.fips.astype(str)\n",
    "final.to_csv(\"./data/Groups/final_groups.csv\")"
   ]
  },
  {
   "cell_type": "code",
   "execution_count": null,
   "metadata": {},
   "outputs": [],
   "source": [
    "final"
   ]
  },
  {
   "cell_type": "code",
   "execution_count": null,
   "metadata": {},
   "outputs": [],
   "source": [
    "final.dtypes"
   ]
  },
  {
   "cell_type": "code",
   "execution_count": null,
   "metadata": {},
   "outputs": [],
   "source": [
    "final.sample(5)"
   ]
  },
  {
   "cell_type": "code",
   "execution_count": null,
   "metadata": {},
   "outputs": [],
   "source": [
    "fig = px.choropleth(final, geojson=counties, locations='fips', color='Cultural ID',\n",
    "                           color_continuous_scale=\"Viridis\",\n",
    "                           range_color=(0, 12),\n",
    "                           scope=\"usa\",\n",
    "                           labels={'unemp':'unemployment rate'}\n",
    "                          )\n"
   ]
  },
  {
   "cell_type": "code",
   "execution_count": null,
   "metadata": {},
   "outputs": [],
   "source": [
    "fig"
   ]
  },
  {
   "cell_type": "code",
   "execution_count": null,
   "metadata": {},
   "outputs": [],
   "source": []
  }
 ],
 "metadata": {
  "kernelspec": {
   "display_name": "real-fast",
   "language": "python",
   "name": "python3"
  },
  "language_info": {
   "codemirror_mode": {
    "name": "ipython",
    "version": 3
   },
   "file_extension": ".py",
   "mimetype": "text/x-python",
   "name": "python",
   "nbconvert_exporter": "python",
   "pygments_lexer": "ipython3",
   "version": "3.8.4"
  },
  "orig_nbformat": 4
 },
 "nbformat": 4,
 "nbformat_minor": 2
}
