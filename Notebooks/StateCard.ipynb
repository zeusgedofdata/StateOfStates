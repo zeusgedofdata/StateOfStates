{
 "cells": [
  {
   "cell_type": "code",
   "execution_count": 1,
   "metadata": {},
   "outputs": [],
   "source": [
    "import pandas as pd\n",
    "from dash import Dash, html, dcc, callback, Output, Input, State, dash_table, ctx\n",
    "from jupyter_dash import JupyterDash\n",
    "import censusgeocode as cg\n",
    "import plotly.figure_factory as ff\n",
    "from urllib.request import urlopen\n",
    "import json\n",
    "import plotly.express as px\n",
    "import plotly.graph_objects as go\n",
    "import numpy as npz\n",
    "from sklearn.linear_model import LinearRegression\n",
    "from Partisian import get_state_part_score\n",
    "from Life import get_age_life_fig\n",
    "from sklearn.neighbors import KNeighborsClassifier\n",
    "from plotly.subplots import make_subplots\n",
    "import numpy as np\n",
    "from LifeData import LifeData"
   ]
  },
  {
   "cell_type": "code",
   "execution_count": 2,
   "metadata": {},
   "outputs": [],
   "source": [
    "life_data = LifeData()"
   ]
  },
  {
   "cell_type": "code",
   "execution_count": 3,
   "metadata": {},
   "outputs": [],
   "source": [
    "def create_life_bar(indicator, state=None):\n",
    "    \n",
    "    df = life_data.get_single_indicator(indicator)\n",
    "    df = df.sort_values(by=[\"Rate\"], ascending=False).reset_index(drop=True)\n",
    "    colors  =['Blue',]*50\n",
    "    if state:\n",
    "        idx = df[df[\"State\"]==state].index[0]\n",
    "        colors[idx] = \"Red\"\n",
    "    fig = go.Figure()\n",
    "    fig.add_trace(go.Bar(x=df[\"State\"], y=df[\"Rate\"], hovertext=df[\"Indicator\"], marker_color=colors))\n",
    "    return  fig\n",
    "\n",
    "    "
   ]
  },
  {
   "cell_type": "code",
   "execution_count": 4,
   "metadata": {},
   "outputs": [],
   "source": [
    "def life_us_map(indicator):\n",
    "    df = life_data.get_single_indicator(indicator)\n",
    "    fig = go.Figure()\n",
    "    \n",
    "    fig.add_trace(go.Choropleth(\n",
    "        locations = df[\"State\"],\n",
    "        z = df[\"Rate\"],\n",
    "        locationmode = 'USA-states',\n",
    "        colorscale='Blues',\n",
    "        hovertext=df[\"Indicator\"],\n",
    "        colorbar_x=0,\n",
    "        marker_line_color='white'\n",
    "    ))\n",
    "    fig.update_layout(\n",
    "        title_text =f\"{df.Year.max()} {df.Indicator.unique()[0]} - State Wide\",\n",
    "        geo_scope='usa',\n",
    "        height=600,\n",
    "        width=1200,\n",
    "    )\n",
    "    fig.update_xaxes(fixedrange=True)\n",
    "    fig.update_yaxes(fixedrange=True)\n",
    "\n",
    "    return fig"
   ]
  },
  {
   "cell_type": "code",
   "execution_count": 5,
   "metadata": {},
   "outputs": [
    {
     "name": "stdout",
     "output_type": "stream",
     "text": [
      "Dash is running on http://127.0.0.1:8050/\n",
      "\n"
     ]
    },
    {
     "name": "stdout",
     "output_type": "stream",
     "text": [
      "Dash app running on http://127.0.0.1:8050/\n"
     ]
    }
   ],
   "source": [
    "app = JupyterDash(__name__)\n",
    "\n",
    "income_life_exp = pd.read_csv(r\"data\\Life\\health_ineq_online_table_2.csv\")\n",
    "\n",
    "app.config.suppress_callback_exceptions = True\n",
    "\n",
    "app.layout = html.Div(className=\"row-fluid\", children=[\n",
    "    html.H1(children='USA', style={'textAlign':'center'}),\n",
    "    html.Div(className=\"container-fluid\", children=[\n",
    "        html.Div(className = \"row\", children=[\n",
    "            html.Div(dcc.Dropdown(['Life', 'Health', 'Substance', 'Wealth', 'Inequality', 'Enviroment', \n",
    "                                   'Peace', 'Safety', 'Terrorism', 'Democracy', 'Equality', 'Knowledge', \n",
    "                                   'Quality of Life', 'Happiness']),className = \"span8 offset2\"),\n",
    "             \n",
    "        ]),\n",
    "        html.Div(className = \"row\", children=[\n",
    "            html.Div(dcc.RadioItems([\"State\", \"County \"], 'State', inline=True), className=\"span4 offset5\")\n",
    "        ])\n",
    "        ]),\n",
    "   \n",
    "    html.Div(className = \"container-fluid\", children=[\n",
    "        html.Div(children=[\n",
    "            html.Div(dcc.Graph(id='graph-content', figure=life_us_map(\"Life Exp\"), \n",
    "                                config={\n",
    "                                    'displayModeBar': False,\n",
    "                                    'showTips': False,\n",
    "                                    }, \n",
    "                               className = \"span7\")),\n",
    "            html.Div(id = \"my-div\", className=\"row\", children = [\n",
    "                html.Div(dash_table.DataTable(id='state-card', page_size=10), \n",
    "                         className = \"span5\"),\n",
    "                html.Div(dcc.Graph(id='life_histogram', figure=create_life_bar(\"Life Exp\"), config={'displayModeBar': False,'showTips': False,},\n",
    "                                   className = \"span5\")),])\n",
    "            ])\n",
    "            \n",
    "    ]),\n",
    "    html.Div(className = \"container-fluid\", id = \"this-one\", children=[html.Div(className = \"span5\"),]),\n",
    "    html.Button('Submit', id='your-button', n_clicks=0),\n",
    "    \n",
    "])\n",
    "\n",
    "@callback(\n",
    "    Output('graph-content', 'figure'),\n",
    "    Output('state-card', 'data'),\n",
    "    Output('life_histogram', 'figure'),\n",
    "    Input('graph-content', 'clickData'),\n",
    "    Input('state-card', 'active_cell'),\n",
    "    Input('state-card', 'data'),\n",
    "    Input('life_histogram', 'clickData'),\n",
    "    prevent_initial_call=True\n",
    ")\n",
    "def data_click(clickData, activeCell, df, histogram_click):\n",
    "    triggered_id = ctx.triggered_id\n",
    "    state = clickData[\"points\"][0][\"location\"]\n",
    "    if triggered_id == 'graph-content':\n",
    "        ind = clickData[\"points\"][0][\"hovertext\"]\n",
    "    elif triggered_id == 'state-card':\n",
    "        df = pd.DataFrame.from_dict(df)\n",
    "        ind = df.iloc[activeCell[\"row\"]][\"Indicator\"]\n",
    "    elif triggered_id == 'life_histogram':\n",
    "        ind = histogram_click[\"points\"][0][\"hovertext\"]\n",
    "        state = histogram_click[\"points\"][0][\"label\"]\n",
    "        \n",
    "    print(state)\n",
    "    table_df = life_data.get_state_card_data(state)\n",
    "    bar_chart = create_life_bar(ind, state)\n",
    "\n",
    "    \n",
    "    return life_us_map(ind), table_df.to_dict('records'), bar_chart\n",
    "\n",
    "\n",
    "@app.callback(Output('this-one', 'children'),\n",
    "              [Input('your-button', 'n_clicks')],\n",
    "              [State('this-one', 'children')])\n",
    "def add_new_component(n_clicks, div_children):\n",
    "    # div_children holds the current components of the div\n",
    "\n",
    "    #add another compenent\n",
    "    #new_component = dash_table.DataTable(id='table')\n",
    "    print(n_clicks)\n",
    "    print(div_children)\n",
    "    new_component = html.Button('Submit', id='New', n_clicks=0)\n",
    "    div_children.append(new_component)\n",
    "    print(div_children)\n",
    "\n",
    "\n",
    "    return div_children\n",
    "\n",
    "        \n",
    "    \n",
    "\n",
    "\n",
    "if __name__ == '__main__':\n",
    "    app.run_server(debug=True)\n",
    "    \n",
    "    \n",
    "# https://dash.plotly.com/duplicate-callback-outputs"
   ]
  },
  {
   "cell_type": "code",
   "execution_count": null,
   "metadata": {},
   "outputs": [],
   "source": [
    "table_df = life_data.get_state_card_data(\"AL\")"
   ]
  },
  {
   "cell_type": "code",
   "execution_count": null,
   "metadata": {},
   "outputs": [],
   "source": [
    "def filter_data_most_recent(self, df):\n",
    "       idxs = []\n",
    "       for ind in df.Indicator.unique():\n",
    "           ind_df = df[df.Indicator==ind]\n",
    "           ind_df = ind_df[ind_df.Year == ind_df.Year.max()]\n",
    "           idxs.extend(list(ind_df.index))\n",
    "       df = df.loc[idxs]\n",
    "       return df"
   ]
  },
  {
   "cell_type": "code",
   "execution_count": null,
   "metadata": {},
   "outputs": [],
   "source": []
  },
  {
   "cell_type": "code",
   "execution_count": null,
   "metadata": {},
   "outputs": [],
   "source": []
  },
  {
   "cell_type": "code",
   "execution_count": null,
   "metadata": {},
   "outputs": [],
   "source": [
    "import json"
   ]
  },
  {
   "cell_type": "code",
   "execution_count": null,
   "metadata": {},
   "outputs": [],
   "source": [
    "file = open('./cdc_data.json')\n",
    "meta_files = json.load(file)"
   ]
  },
  {
   "cell_type": "markdown",
   "metadata": {},
   "source": []
  },
  {
   "cell_type": "code",
   "execution_count": null,
   "metadata": {},
   "outputs": [],
   "source": [
    "meta_files['CDC Files'][0]"
   ]
  },
  {
   "cell_type": "code",
   "execution_count": null,
   "metadata": {},
   "outputs": [],
   "source": [
    "def clean_data(meta_file):\n",
    "    \n",
    "    df = pd.read_csv(meta_file['File Location'])\n",
    "    df[\"Indicator\"] = meta_file['Indicator Name']\n",
    "    df = df.rename(columns={\"YEAR\":\"Year\",\"STATE\":\"State\", meta_file['Rate Name']:\"Rate\"})\n",
    "    if meta_file['Missing Data']:\n",
    "        df[\"Rate\"] = df[\"Rate\"].replace(meta_file['Missing Data'], 0.0)\n",
    "    df[\"Rate\"] = df[\"Rate\"].astype(float)\n",
    "    df = df[[\"State\", \"Year\", \"Indicator\", \"Rate\"]]\n",
    "    df = get_rank_year(df)\n",
    "    return df\n",
    "\n"
   ]
  },
  {
   "cell_type": "markdown",
   "metadata": {},
   "source": []
  },
  {
   "cell_type": "code",
   "execution_count": null,
   "metadata": {},
   "outputs": [],
   "source": [
    "meta_files['CDC Files'][0]['Rate Name']"
   ]
  },
  {
   "cell_type": "code",
   "execution_count": null,
   "metadata": {},
   "outputs": [],
   "source": [
    "clean_data(meta_files['CDC Files'][1])"
   ]
  },
  {
   "cell_type": "code",
   "execution_count": null,
   "metadata": {},
   "outputs": [],
   "source": []
  }
 ],
 "metadata": {
  "kernelspec": {
   "display_name": "real-fast",
   "language": "python",
   "name": "python3"
  },
  "language_info": {
   "codemirror_mode": {
    "name": "ipython",
    "version": 3
   },
   "file_extension": ".py",
   "mimetype": "text/x-python",
   "name": "python",
   "nbconvert_exporter": "python",
   "pygments_lexer": "ipython3",
   "version": "3.8.4"
  },
  "orig_nbformat": 4
 },
 "nbformat": 4,
 "nbformat_minor": 2
}
