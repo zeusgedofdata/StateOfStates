{
 "cells": [
  {
   "cell_type": "code",
   "execution_count": 1,
   "metadata": {},
   "outputs": [],
   "source": [
    "\n",
    "\n",
    "import sys\n",
    "\n",
    "sys.path.append(\"D:/StateOfStates/\")\n",
    "\n",
    "import pandas as pd\n",
    "from dash import Dash, html, dcc, callback, Output, Input\n",
    "import censusgeocode as cg\n",
    "import plotly.figure_factory as ff\n",
    "from urllib.request import urlopen\n",
    "import json\n",
    "import plotly.express as px\n",
    "import plotly.graph_objects as go\n",
    "import numpy as np\n",
    "from sklearn.linear_model import LinearRegression\n",
    "from Partisian import get_state_part_score\n",
    "\n",
    "from Life import get_age_life_fig, get_state_age_life_exp\n",
    "from sklearn.neighbors import KNeighborsClassifier\n",
    "from plotly.subplots import make_subplots\n",
    "import math\n",
    "from LifeData import LifeData\n",
    "import Partisian as Partisian\n",
    "from sklearn.linear_model import LinearRegression\n",
    "import addfips\n",
    "import CauseOfDeathData\n"
   ]
  },
  {
   "cell_type": "code",
   "execution_count": 159,
   "metadata": {},
   "outputs": [],
   "source": [
    "def cod_timeseries(state = \"Michigan\", cod = \"Suicide\"):\n",
    "    df = CauseOfDeathData.load_state_cod(state=\"All\", year=\"All\", cod = cod)\n",
    "    df = df.sort_values(by=[\"year\", \"start_age\"])\n",
    "    state_df = df[df[\"state\"] == state]\n",
    "    \n",
    "    national_avg = df.groupby([\"year\"]).agg({\"deaths\": \"sum\", \"population\": \"sum\"}).reset_index()\n",
    "    national_avg[\"rate\"] = national_avg[\"deaths\"] / national_avg[\"population\"] * 100000\n",
    "    \n",
    "    state_avg = state_df.groupby([\"year\"]).agg({\"deaths\": \"sum\", \"population\": \"sum\"}).reset_index()\n",
    "    state_avg[\"rate\"] = state_avg[\"deaths\"] / state_avg[\"population\"] * 100000\n",
    "    \n",
    "    fig = go.Figure()\n",
    "    fig.add_trace(go.Scatter(\n",
    "        x = national_avg[\"year\"],\n",
    "        y = national_avg[\"rate\"],\n",
    "        mode = \"lines\",\n",
    "        name = \"National Avg\",\n",
    "        line=dict(\n",
    "            width=4,\n",
    "        )))\n",
    "\n",
    "    fig.add_trace(go.Scatter(\n",
    "        x = state_avg[\"year\"],\n",
    "        y = state_avg[\"rate\"],\n",
    "        mode = \"lines\",\n",
    "        name = f\"{state} Avg\",\n",
    "        line=dict(\n",
    "            width=4,\n",
    "        )))\n",
    "    fig.update_layout(\n",
    "        autosize=False,\n",
    "        width=850,\n",
    "        height=200,\n",
    "        plot_bgcolor='rgba(0,0,0,0)',\n",
    "        margin=dict(\n",
    "            l=0,\n",
    "            r=0,\n",
    "            b=0,\n",
    "            t=0,\n",
    "            pad=0\n",
    "        ),)\n",
    "    fig['layout']['xaxis']['title']=f\"{cod} Mortality Rate Over Time\"\n",
    "    fig.show()"
   ]
  },
  {
   "cell_type": "code",
   "execution_count": 165,
   "metadata": {},
   "outputs": [
    {
     "data": {
      "application/vnd.plotly.v1+json": {
       "config": {
        "plotlyServerURL": "https://plot.ly"
       },
       "data": [
        {
         "line": {
          "width": 4
         },
         "mode": "lines",
         "name": "National Avg",
         "type": "scatter",
         "x": [
          1999,
          2000,
          2001,
          2002,
          2003,
          2004,
          2005,
          2006,
          2007,
          2008,
          2009,
          2010,
          2011,
          2012,
          2013,
          2014,
          2015,
          2016,
          2017,
          2018,
          2019
         ],
         "y": [
          6.8695059529549445,
          6.832834396617538,
          8.18642162799762,
          7.073966953824458,
          7.125488740868802,
          6.84963154638915,
          7.046271476114521,
          7.175268472669919,
          6.97784108398037,
          6.854445484060022,
          6.464463686317548,
          6.1336398618404395,
          6.042972705837491,
          6.196033749951065,
          5.972513424304422,
          5.729314712558218,
          6.441528837989673,
          6.9321464777218935,
          6.940056557837533,
          6.701792766849888,
          6.7152388953989846
         ]
        },
        {
         "line": {
          "width": 4
         },
         "mode": "lines",
         "name": "New York Avg",
         "type": "scatter",
         "x": [
          1999,
          2000,
          2001,
          2002,
          2003,
          2004,
          2005,
          2006,
          2007,
          2008,
          2009,
          2010,
          2011,
          2012,
          2013,
          2014,
          2015,
          2016,
          2017,
          2018,
          2019
         ],
         "y": [
          5.1619890290239425,
          5.20645134125933,
          14.985254019773075,
          4.884166335253748,
          5.06693688915224,
          5.200293675213507,
          4.969419622656148,
          5.098102748527976,
          4.4540892881869825,
          4.838449515790355,
          4.698228448189986,
          4.867345251118317,
          4.291580244838325,
          3.9084395290062517,
          3.531522111515274,
          3.412443130534441,
          3.891201080159914,
          3.579033369902318,
          3.4834567443951587,
          3.543301338370796,
          3.1326407477060645
         ]
        }
       ],
       "layout": {
        "autosize": false,
        "height": 200,
        "margin": {
         "b": 0,
         "l": 0,
         "pad": 0,
         "r": 0,
         "t": 0
        },
        "plot_bgcolor": "rgba(0,0,0,0)",
        "template": {
         "data": {
          "bar": [
           {
            "error_x": {
             "color": "#2a3f5f"
            },
            "error_y": {
             "color": "#2a3f5f"
            },
            "marker": {
             "line": {
              "color": "#E5ECF6",
              "width": 0.5
             },
             "pattern": {
              "fillmode": "overlay",
              "size": 10,
              "solidity": 0.2
             }
            },
            "type": "bar"
           }
          ],
          "barpolar": [
           {
            "marker": {
             "line": {
              "color": "#E5ECF6",
              "width": 0.5
             },
             "pattern": {
              "fillmode": "overlay",
              "size": 10,
              "solidity": 0.2
             }
            },
            "type": "barpolar"
           }
          ],
          "carpet": [
           {
            "aaxis": {
             "endlinecolor": "#2a3f5f",
             "gridcolor": "white",
             "linecolor": "white",
             "minorgridcolor": "white",
             "startlinecolor": "#2a3f5f"
            },
            "baxis": {
             "endlinecolor": "#2a3f5f",
             "gridcolor": "white",
             "linecolor": "white",
             "minorgridcolor": "white",
             "startlinecolor": "#2a3f5f"
            },
            "type": "carpet"
           }
          ],
          "choropleth": [
           {
            "colorbar": {
             "outlinewidth": 0,
             "ticks": ""
            },
            "type": "choropleth"
           }
          ],
          "contour": [
           {
            "colorbar": {
             "outlinewidth": 0,
             "ticks": ""
            },
            "colorscale": [
             [
              0,
              "#0d0887"
             ],
             [
              0.1111111111111111,
              "#46039f"
             ],
             [
              0.2222222222222222,
              "#7201a8"
             ],
             [
              0.3333333333333333,
              "#9c179e"
             ],
             [
              0.4444444444444444,
              "#bd3786"
             ],
             [
              0.5555555555555556,
              "#d8576b"
             ],
             [
              0.6666666666666666,
              "#ed7953"
             ],
             [
              0.7777777777777778,
              "#fb9f3a"
             ],
             [
              0.8888888888888888,
              "#fdca26"
             ],
             [
              1,
              "#f0f921"
             ]
            ],
            "type": "contour"
           }
          ],
          "contourcarpet": [
           {
            "colorbar": {
             "outlinewidth": 0,
             "ticks": ""
            },
            "type": "contourcarpet"
           }
          ],
          "heatmap": [
           {
            "colorbar": {
             "outlinewidth": 0,
             "ticks": ""
            },
            "colorscale": [
             [
              0,
              "#0d0887"
             ],
             [
              0.1111111111111111,
              "#46039f"
             ],
             [
              0.2222222222222222,
              "#7201a8"
             ],
             [
              0.3333333333333333,
              "#9c179e"
             ],
             [
              0.4444444444444444,
              "#bd3786"
             ],
             [
              0.5555555555555556,
              "#d8576b"
             ],
             [
              0.6666666666666666,
              "#ed7953"
             ],
             [
              0.7777777777777778,
              "#fb9f3a"
             ],
             [
              0.8888888888888888,
              "#fdca26"
             ],
             [
              1,
              "#f0f921"
             ]
            ],
            "type": "heatmap"
           }
          ],
          "heatmapgl": [
           {
            "colorbar": {
             "outlinewidth": 0,
             "ticks": ""
            },
            "colorscale": [
             [
              0,
              "#0d0887"
             ],
             [
              0.1111111111111111,
              "#46039f"
             ],
             [
              0.2222222222222222,
              "#7201a8"
             ],
             [
              0.3333333333333333,
              "#9c179e"
             ],
             [
              0.4444444444444444,
              "#bd3786"
             ],
             [
              0.5555555555555556,
              "#d8576b"
             ],
             [
              0.6666666666666666,
              "#ed7953"
             ],
             [
              0.7777777777777778,
              "#fb9f3a"
             ],
             [
              0.8888888888888888,
              "#fdca26"
             ],
             [
              1,
              "#f0f921"
             ]
            ],
            "type": "heatmapgl"
           }
          ],
          "histogram": [
           {
            "marker": {
             "pattern": {
              "fillmode": "overlay",
              "size": 10,
              "solidity": 0.2
             }
            },
            "type": "histogram"
           }
          ],
          "histogram2d": [
           {
            "colorbar": {
             "outlinewidth": 0,
             "ticks": ""
            },
            "colorscale": [
             [
              0,
              "#0d0887"
             ],
             [
              0.1111111111111111,
              "#46039f"
             ],
             [
              0.2222222222222222,
              "#7201a8"
             ],
             [
              0.3333333333333333,
              "#9c179e"
             ],
             [
              0.4444444444444444,
              "#bd3786"
             ],
             [
              0.5555555555555556,
              "#d8576b"
             ],
             [
              0.6666666666666666,
              "#ed7953"
             ],
             [
              0.7777777777777778,
              "#fb9f3a"
             ],
             [
              0.8888888888888888,
              "#fdca26"
             ],
             [
              1,
              "#f0f921"
             ]
            ],
            "type": "histogram2d"
           }
          ],
          "histogram2dcontour": [
           {
            "colorbar": {
             "outlinewidth": 0,
             "ticks": ""
            },
            "colorscale": [
             [
              0,
              "#0d0887"
             ],
             [
              0.1111111111111111,
              "#46039f"
             ],
             [
              0.2222222222222222,
              "#7201a8"
             ],
             [
              0.3333333333333333,
              "#9c179e"
             ],
             [
              0.4444444444444444,
              "#bd3786"
             ],
             [
              0.5555555555555556,
              "#d8576b"
             ],
             [
              0.6666666666666666,
              "#ed7953"
             ],
             [
              0.7777777777777778,
              "#fb9f3a"
             ],
             [
              0.8888888888888888,
              "#fdca26"
             ],
             [
              1,
              "#f0f921"
             ]
            ],
            "type": "histogram2dcontour"
           }
          ],
          "mesh3d": [
           {
            "colorbar": {
             "outlinewidth": 0,
             "ticks": ""
            },
            "type": "mesh3d"
           }
          ],
          "parcoords": [
           {
            "line": {
             "colorbar": {
              "outlinewidth": 0,
              "ticks": ""
             }
            },
            "type": "parcoords"
           }
          ],
          "pie": [
           {
            "automargin": true,
            "type": "pie"
           }
          ],
          "scatter": [
           {
            "marker": {
             "colorbar": {
              "outlinewidth": 0,
              "ticks": ""
             }
            },
            "type": "scatter"
           }
          ],
          "scatter3d": [
           {
            "line": {
             "colorbar": {
              "outlinewidth": 0,
              "ticks": ""
             }
            },
            "marker": {
             "colorbar": {
              "outlinewidth": 0,
              "ticks": ""
             }
            },
            "type": "scatter3d"
           }
          ],
          "scattercarpet": [
           {
            "marker": {
             "colorbar": {
              "outlinewidth": 0,
              "ticks": ""
             }
            },
            "type": "scattercarpet"
           }
          ],
          "scattergeo": [
           {
            "marker": {
             "colorbar": {
              "outlinewidth": 0,
              "ticks": ""
             }
            },
            "type": "scattergeo"
           }
          ],
          "scattergl": [
           {
            "marker": {
             "colorbar": {
              "outlinewidth": 0,
              "ticks": ""
             }
            },
            "type": "scattergl"
           }
          ],
          "scattermapbox": [
           {
            "marker": {
             "colorbar": {
              "outlinewidth": 0,
              "ticks": ""
             }
            },
            "type": "scattermapbox"
           }
          ],
          "scatterpolar": [
           {
            "marker": {
             "colorbar": {
              "outlinewidth": 0,
              "ticks": ""
             }
            },
            "type": "scatterpolar"
           }
          ],
          "scatterpolargl": [
           {
            "marker": {
             "colorbar": {
              "outlinewidth": 0,
              "ticks": ""
             }
            },
            "type": "scatterpolargl"
           }
          ],
          "scatterternary": [
           {
            "marker": {
             "colorbar": {
              "outlinewidth": 0,
              "ticks": ""
             }
            },
            "type": "scatterternary"
           }
          ],
          "surface": [
           {
            "colorbar": {
             "outlinewidth": 0,
             "ticks": ""
            },
            "colorscale": [
             [
              0,
              "#0d0887"
             ],
             [
              0.1111111111111111,
              "#46039f"
             ],
             [
              0.2222222222222222,
              "#7201a8"
             ],
             [
              0.3333333333333333,
              "#9c179e"
             ],
             [
              0.4444444444444444,
              "#bd3786"
             ],
             [
              0.5555555555555556,
              "#d8576b"
             ],
             [
              0.6666666666666666,
              "#ed7953"
             ],
             [
              0.7777777777777778,
              "#fb9f3a"
             ],
             [
              0.8888888888888888,
              "#fdca26"
             ],
             [
              1,
              "#f0f921"
             ]
            ],
            "type": "surface"
           }
          ],
          "table": [
           {
            "cells": {
             "fill": {
              "color": "#EBF0F8"
             },
             "line": {
              "color": "white"
             }
            },
            "header": {
             "fill": {
              "color": "#C8D4E3"
             },
             "line": {
              "color": "white"
             }
            },
            "type": "table"
           }
          ]
         },
         "layout": {
          "annotationdefaults": {
           "arrowcolor": "#2a3f5f",
           "arrowhead": 0,
           "arrowwidth": 1
          },
          "autotypenumbers": "strict",
          "coloraxis": {
           "colorbar": {
            "outlinewidth": 0,
            "ticks": ""
           }
          },
          "colorscale": {
           "diverging": [
            [
             0,
             "#8e0152"
            ],
            [
             0.1,
             "#c51b7d"
            ],
            [
             0.2,
             "#de77ae"
            ],
            [
             0.3,
             "#f1b6da"
            ],
            [
             0.4,
             "#fde0ef"
            ],
            [
             0.5,
             "#f7f7f7"
            ],
            [
             0.6,
             "#e6f5d0"
            ],
            [
             0.7,
             "#b8e186"
            ],
            [
             0.8,
             "#7fbc41"
            ],
            [
             0.9,
             "#4d9221"
            ],
            [
             1,
             "#276419"
            ]
           ],
           "sequential": [
            [
             0,
             "#0d0887"
            ],
            [
             0.1111111111111111,
             "#46039f"
            ],
            [
             0.2222222222222222,
             "#7201a8"
            ],
            [
             0.3333333333333333,
             "#9c179e"
            ],
            [
             0.4444444444444444,
             "#bd3786"
            ],
            [
             0.5555555555555556,
             "#d8576b"
            ],
            [
             0.6666666666666666,
             "#ed7953"
            ],
            [
             0.7777777777777778,
             "#fb9f3a"
            ],
            [
             0.8888888888888888,
             "#fdca26"
            ],
            [
             1,
             "#f0f921"
            ]
           ],
           "sequentialminus": [
            [
             0,
             "#0d0887"
            ],
            [
             0.1111111111111111,
             "#46039f"
            ],
            [
             0.2222222222222222,
             "#7201a8"
            ],
            [
             0.3333333333333333,
             "#9c179e"
            ],
            [
             0.4444444444444444,
             "#bd3786"
            ],
            [
             0.5555555555555556,
             "#d8576b"
            ],
            [
             0.6666666666666666,
             "#ed7953"
            ],
            [
             0.7777777777777778,
             "#fb9f3a"
            ],
            [
             0.8888888888888888,
             "#fdca26"
            ],
            [
             1,
             "#f0f921"
            ]
           ]
          },
          "colorway": [
           "#636efa",
           "#EF553B",
           "#00cc96",
           "#ab63fa",
           "#FFA15A",
           "#19d3f3",
           "#FF6692",
           "#B6E880",
           "#FF97FF",
           "#FECB52"
          ],
          "font": {
           "color": "#2a3f5f"
          },
          "geo": {
           "bgcolor": "white",
           "lakecolor": "white",
           "landcolor": "#E5ECF6",
           "showlakes": true,
           "showland": true,
           "subunitcolor": "white"
          },
          "hoverlabel": {
           "align": "left"
          },
          "hovermode": "closest",
          "mapbox": {
           "style": "light"
          },
          "paper_bgcolor": "white",
          "plot_bgcolor": "#E5ECF6",
          "polar": {
           "angularaxis": {
            "gridcolor": "white",
            "linecolor": "white",
            "ticks": ""
           },
           "bgcolor": "#E5ECF6",
           "radialaxis": {
            "gridcolor": "white",
            "linecolor": "white",
            "ticks": ""
           }
          },
          "scene": {
           "xaxis": {
            "backgroundcolor": "#E5ECF6",
            "gridcolor": "white",
            "gridwidth": 2,
            "linecolor": "white",
            "showbackground": true,
            "ticks": "",
            "zerolinecolor": "white"
           },
           "yaxis": {
            "backgroundcolor": "#E5ECF6",
            "gridcolor": "white",
            "gridwidth": 2,
            "linecolor": "white",
            "showbackground": true,
            "ticks": "",
            "zerolinecolor": "white"
           },
           "zaxis": {
            "backgroundcolor": "#E5ECF6",
            "gridcolor": "white",
            "gridwidth": 2,
            "linecolor": "white",
            "showbackground": true,
            "ticks": "",
            "zerolinecolor": "white"
           }
          },
          "shapedefaults": {
           "line": {
            "color": "#2a3f5f"
           }
          },
          "ternary": {
           "aaxis": {
            "gridcolor": "white",
            "linecolor": "white",
            "ticks": ""
           },
           "baxis": {
            "gridcolor": "white",
            "linecolor": "white",
            "ticks": ""
           },
           "bgcolor": "#E5ECF6",
           "caxis": {
            "gridcolor": "white",
            "linecolor": "white",
            "ticks": ""
           }
          },
          "title": {
           "x": 0.05
          },
          "xaxis": {
           "automargin": true,
           "gridcolor": "white",
           "linecolor": "white",
           "ticks": "",
           "title": {
            "standoff": 15
           },
           "zerolinecolor": "white",
           "zerolinewidth": 2
          },
          "yaxis": {
           "automargin": true,
           "gridcolor": "white",
           "linecolor": "white",
           "ticks": "",
           "title": {
            "standoff": 15
           },
           "zerolinecolor": "white",
           "zerolinewidth": 2
          }
         }
        },
        "width": 850,
        "xaxis": {
         "title": {
          "text": "Homicide Mortality Rate Over Time"
         }
        }
       }
      }
     },
     "metadata": {},
     "output_type": "display_data"
    }
   ],
   "source": [
    "cod_timeseries(state=\"New York\", cod=\"Homicide\") "
   ]
  },
  {
   "cell_type": "code",
   "execution_count": null,
   "metadata": {},
   "outputs": [],
   "source": []
  },
  {
   "cell_type": "code",
   "execution_count": null,
   "metadata": {},
   "outputs": [],
   "source": [
    "states = { 'AK': 'Alaska', 'AL': 'Alabama', 'AR': 'Arkansas', 'AS': 'American Samoa', 'AZ': 'Arizona', 'CA': 'California', 'CO': 'Colorado', 'CT': 'Connecticut', 'DC': 'District of Columbia', 'DE': 'Delaware', 'FL': 'Florida', 'GA': 'Georgia', 'GU': 'Guam', 'HI': 'Hawaii', 'IA': 'Iowa', 'ID': 'Idaho', 'IL': 'Illinois', 'IN': 'Indiana', 'KS': 'Kansas', 'KY': 'Kentucky', 'LA': 'Louisiana', 'MA': 'Massachusetts', 'MD': 'Maryland', 'ME': 'Maine', 'MI': 'Michigan', 'MN': 'Minnesota', 'MO': 'Missouri', 'MP': 'Northern Mariana Islands', 'MS': 'Mississippi', 'MT': 'Montana', 'NA': 'National', 'NC': 'North Carolina', 'ND': 'North Dakota', 'NE': 'Nebraska', 'NH': 'New Hampshire', 'NJ': 'New Jersey', 'NM': 'New Mexico', 'NV': 'Nevada', 'NY': 'New York', 'OH': 'Ohio', 'OK': 'Oklahoma', 'OR': 'Oregon', 'PA': 'Pennsylvania', 'PR': 'Puerto Rico', 'RI': 'Rhode Island', 'SC': 'South Carolina', 'SD': 'South Dakota', 'TN': 'Tennessee', 'TX': 'Texas', 'UT': 'Utah', 'VA': 'Virginia', 'VI': 'Virgin Islands', 'VT': 'Vermont', 'WA': 'Washington', 'WI': 'Wisconsin', 'WV': 'West Virginia', 'WY': 'Wyoming'\n",
    "}\n",
    "\n",
    "\n",
    "states = {v: k for k, v in states.items()}\n",
    "states\n"
   ]
  },
  {
   "cell_type": "code",
   "execution_count": null,
   "metadata": {},
   "outputs": [],
   "source": [
    "def translate_ICD10(x, conversion):\n",
    "    try:\n",
    "        return conversion[x]\n",
    "    except:\n",
    "        return x\n",
    "    \n",
    "    \n",
    "\n",
    "\n",
    "\n",
    "def clean_state_data(df):\n",
    "    af = addfips.AddFIPS()\n",
    "    try:\n",
    "        df = df.dropna(subset=[\"State\",\"ICD-10 113 Cause List Code\", \"Population\"])\n",
    "    except: \n",
    "        df = df.dropna(subset=[\"State\", \"Population\"])\n",
    "    #df = df[df[\"Crude Rate\"] != \"Unreliable\"]\n",
    "    df.Population = df.Population.astype(float)\n",
    "    df[\"Rate\"] = (df[\"Deaths\"]/df[\"Population\"])*100000\n",
    "    df[\"Rate\"] = df[\"Rate\"].round(2)\n",
    "    df[\"fips\"] = df.apply(lambda x: af.get_state_fips(x[\"State\"]), axis=1)\n",
    "    df[\"Year\"] = 2019\n",
    "    df[\"State_Abv\"] = df.apply(lambda x: states[x[\"State\"]], axis=1)\n",
    "    df = df.sort_values(by=[\"Rate\"], ascending=False)\n",
    "    try:\n",
    "        df.drop(columns=[\"Notes\", \"State Code\", ], inplace=True)\n",
    "    except:\n",
    "        None\n",
    "   \n",
    "    try:\n",
    "        f = open(\"data/Life/Deaths/ICD10Translation.json\")\n",
    "        translation = json.load(f)\n",
    "        df[\"ICD-10 Common\"] = df[\"ICD-10 113 Cause List\"].apply(lambda x: translate_ICD10(x, translation))\n",
    "        df.rename(columns={\"ICD-10 Common\":\"Cause Of Death\"}, inplace=True)\n",
    "    except:\n",
    "        None\n",
    "    return df\n",
    "    \n",
    "\n",
    "\n",
    "def top_n(df, n):\n",
    "    #Filter out low occuring chapters\n",
    "    df = df.groupby(\"ICD-10 113 Cause List Code\").filter(lambda x: len(x)>1)\n",
    "    df = df.sort_values(by = [\"Rate\"], ascending = False)\n",
    "    df = df.head(n).copy()\n",
    "    top_codes = list(df[\"ICD-10 113 Cause List Code\"].unique())\n",
    "    df = df[df[\"ICD-10 113 Cause List Code\"].isin(top_codes)]\n",
    "    return df\n",
    "\n",
    "\n",
    "firearms = pd.read_csv(r\"../data/Life/Deaths/FireArmState.txt\", delimiter=\"\t\", na_values = ['Not Applicable'])\n",
    "df = pd.read_csv(r\"../data/Life/Deaths/StateDeathsAge.txt\", delimiter=\"\t\", na_values = ['Not Applicable'])\n",
    "state_pop = pd.read_csv(r\"../data/Life/Deaths/State_Pop.txt\", delimiter=\"\t\", na_values = ['Not Applicable'])\n",
    "state_pop = clean_state_data(state_pop)\n",
    "yearly_pop = pd.read_csv(r\"../data/Life/Deaths/2019State1YearPop.txt\", delimiter=\"\t\", na_values = ['Not Applicable'])\n",
    "state_deaths = pd.read_csv(r\"../data/Life/Deaths/2019StateDeaths.txt\", delimiter=\"\t\", na_values = ['Not Applicable'])\n",
    "\n",
    "\n",
    "df = clean_state_data(df)\n",
    "firearms = clean_state_data(firearms)\n",
    "state_pop = clean_state_data(state_pop)\n",
    "yearly_pop = clean_state_data(yearly_pop)\n",
    "state_deaths = clean_state_data(state_deaths)\n",
    "state_pop[\"Total Pop\"] = state_pop[\"Population\"]\n",
    "\n",
    "#top_df = top_n(df, 5)\n",
    "#county = df.groupby(by=[\"2006 Urbanization Code\", \"ICD Sub-Chapter\"]).mean().reset_index().sort_values(by=[\"Rate\"], ascending=False)\n",
    "state_pop.sample(5)\n",
    "firearms = firearms.merge(state_pop[[\"State\", \"Total Pop\"]], left_on=\"State\",right_on=\"State\")"
   ]
  },
  {
   "cell_type": "code",
   "execution_count": null,
   "metadata": {},
   "outputs": [],
   "source": [
    "state_pop"
   ]
  },
  {
   "cell_type": "code",
   "execution_count": null,
   "metadata": {},
   "outputs": [],
   "source": [
    "part = Partisian.get_state_part_score()\n",
    "final = pd.merge(part, firearms, on=\"fips\")\n",
    "final[final[\"State_x\"] == \"VT\"]\n",
    "state_totals = final.groupby(by=[\"fips\",\"State_y\"]).mean().reset_index().sort_values(by=\"Rate\")\n",
    "state_totals[\"Rate\"] = (state_totals[\"Deaths\"]/state_totals[\"Total Pop\"])*100000"
   ]
  },
  {
   "cell_type": "code",
   "execution_count": null,
   "metadata": {},
   "outputs": [],
   "source": [
    "fig = go.Figure()\n",
    "fig.add_trace(go.Scatter(x=state_totals[\"Part_Score\"], y=state_totals[\"Rate\"], mode = \"markers\",  hovertext=state_totals[\"State_y\"], marker=dict(size=state_totals[\"Total Pop\"]/1000000, colorscale='bluered', color=state_totals[\"Part_Score\"])))"
   ]
  },
  {
   "cell_type": "code",
   "execution_count": null,
   "metadata": {},
   "outputs": [],
   "source": [
    "state_totals.sort_values(\"Rate\", ascending=False, inplace=True)\n",
    "fig = go.Figure()\n",
    "fig.add_trace(go.Bar(x=state_totals[\"State_y\"], y=state_totals[\"Rate\"], name=\"Rate\"))\n",
    "fig.show()"
   ]
  },
  {
   "cell_type": "code",
   "execution_count": null,
   "metadata": {},
   "outputs": [],
   "source": [
    "state_totals[state_totals[\"State_y\"] == \"Vermont\"]"
   ]
  },
  {
   "cell_type": "code",
   "execution_count": null,
   "metadata": {},
   "outputs": [],
   "source": [
    "state_totals"
   ]
  },
  {
   "cell_type": "code",
   "execution_count": null,
   "metadata": {},
   "outputs": [],
   "source": [
    "12/133915.0"
   ]
  },
  {
   "cell_type": "code",
   "execution_count": null,
   "metadata": {},
   "outputs": [],
   "source": [
    "fig = go.Figure()\n",
    "fig.add_trace(go.Scatter(x=state_totals[\"Population\"], y=state_totals[\"Rate\"], mode = \"markers\", hovertext=state_totals[\"State_y\"], marker=dict(colorscale='bluered', color=state_totals[\"Population\"])))"
   ]
  },
  {
   "cell_type": "code",
   "execution_count": null,
   "metadata": {},
   "outputs": [],
   "source": [
    "usa_total = yearly_pop.groupby(\"Single-Year Ages\").sum().reset_index()\n",
    "usa_total[\"age\"] = usa_total[\"Single-Year Ages\"].str.replace(\"< 1 year\",\"0\").str.split(\" \").str[0].astype(int)\n",
    "usa_total.sort_values(\"age\", inplace=True)\n",
    "usa_total[\"Rate\"] = (usa_total[\"Deaths\"]/usa_total[\"Population\"])*100000\n",
    "usa_total"
   ]
  },
  {
   "cell_type": "code",
   "execution_count": null,
   "metadata": {},
   "outputs": [],
   "source": [
    "fig = go.Figure()\n",
    "fig.add_trace(go.Bar(x=usa_total[\"age\"], y=usa_total[\"Population\"]))\n",
    "fig.add_trace(go.Bar(x=usa_total[\"age\"], y=usa_total[\"Rate\"]))"
   ]
  },
  {
   "cell_type": "code",
   "execution_count": null,
   "metadata": {},
   "outputs": [],
   "source": [
    "fig = go.Figure()\n",
    "fig.add_trace(go.Scatter(x=usa_total[\"age\"], y=usa_total[\"Rate\"], mode=\"lines\"))"
   ]
  },
  {
   "cell_type": "code",
   "execution_count": null,
   "metadata": {},
   "outputs": [],
   "source": []
  },
  {
   "cell_type": "code",
   "execution_count": null,
   "metadata": {},
   "outputs": [],
   "source": []
  },
  {
   "cell_type": "code",
   "execution_count": null,
   "metadata": {},
   "outputs": [],
   "source": [
    "df[\"Ten-Year Age Groups Code\"].unique()"
   ]
  },
  {
   "cell_type": "code",
   "execution_count": null,
   "metadata": {},
   "outputs": [],
   "source": [
    "child = state_deaths[state_deaths[\"Ten-Year Age Groups Code\"] == '5-14']\n",
    "part = Partisian.get_state_part_score()\n",
    "child = pd.merge(child, part, left_on=\"State_Abv\", right_on=\"State\")\n"
   ]
  },
  {
   "cell_type": "code",
   "execution_count": null,
   "metadata": {},
   "outputs": [],
   "source": [
    "fig = go.Figure()\n",
    "fig.add_trace(go.Scatter(x=child['Part_Score'], y=child['Rate'],mode='markers',name='Child'))"
   ]
  },
  {
   "cell_type": "code",
   "execution_count": null,
   "metadata": {},
   "outputs": [],
   "source": [
    "fig = go.Figure()\n",
    "fig.add_trace(go.Bar(x=child[\"State_Abv\"], y=child[\"Rate\"], marker=dict(color=child[\"Part_Score\"], colorscale=\"Bluered\" ), name=\"Child\"))"
   ]
  },
  {
   "cell_type": "code",
   "execution_count": null,
   "metadata": {},
   "outputs": [],
   "source": [
    "child"
   ]
  },
  {
   "cell_type": "code",
   "execution_count": null,
   "metadata": {},
   "outputs": [],
   "source": [
    "import GraphGenerator\n",
    "def get_age_death(df, age):\n",
    "    age_df = df[df[\"Ten-Year Age Groups Code\"] == age]\n",
    "    part = Partisian.get_state_part_score()\n",
    "    age_df = pd.merge(age_df, part, left_on=\"State_Abv\", right_on=\"State\")\n",
    "    X = age_df['Part_Score'].values.reshape(-1,1)\n",
    "    y = age_df['Rate']\n",
    "    \n",
    "    reg = LinearRegression().fit(X, y, sample_weight=age_df['Population'])\n",
    "    x_range = np.linspace(X.min(), X.max())\n",
    "    y = reg.predict(x_range.reshape(-1,1))\n",
    "    \n",
    "    fig = make_subplots(rows=1, cols=2, vertical_spacing= 0.01, horizontal_spacing= 0.01,  subplot_titles=(\"\",\"\"), column_widths=[0.8, 0.2], shared_yaxes=True)\n",
    "    \n",
    "    fig.add_trace(go.Scatter(x=age_df['Part_Score'], y=age_df['Rate'],mode='markers', marker=dict(color=age_df[\"Part_Score\"], colorscale=\"Bluered\", size=age_df[\"Population\"]/(age_df[\"Population\"].max()/50)), name='Child', hovertext=age_df[\"State_x\"]), row=1, col=1)\n",
    "    \n",
    "    hist_x = []\n",
    "    for index, row in age_df.iterrows():\n",
    "        hist_x.extend([row[\"Rate\"] for i in range(int(round(row[\"Population\"]/1000)))])\n",
    "        row[\"Rate\"]\n",
    "    #fig.add_trace(go.Violin(y=hist_x, side=\"positive\", name=\"Death Rate Distribution\"), row=1, col=2)\n",
    "    fig.add_trace(go.Violin(y=age_df['Rate'], side=\"positive\",  name=\"Death Rate Distribution\"), row=1, col=2)\n",
    "    \n",
    "    \n",
    "    fig.add_trace(go.Scatter(x=x_range, y=y, mode='lines',  line=dict(color=\"green\", dash=\"dash\"), name='Best Fit Line'), row=1, col=1)\n",
    "    \n",
    "    fig.update_layout(title=\"Partisanship Score vs. Death Rate for \" + age + \" Year Olds\", xaxis1_title=\"Partisanship Score\", yaxis1_title=\"Death Rate (per 100,000)\")\n",
    "    fig.update_yaxes(showticklabels=False, row=1, col=2)\n",
    "    fig.update_xaxes(showline=True, linewidth=2, linecolor='black', mirror=False)\n",
    "    fig.update_layout(height=300,width=1200, plot_bgcolor='rgba(0,0,0,0)', margin=dict(l=0, r=0, t=25, b=0))\n",
    "    \n",
    "    fig.show()\n"
   ]
  },
  {
   "cell_type": "code",
   "execution_count": null,
   "metadata": {},
   "outputs": [],
   "source": [
    "get_age_death(state_deaths,\"85+\")"
   ]
  },
  {
   "cell_type": "code",
   "execution_count": null,
   "metadata": {},
   "outputs": [],
   "source": []
  },
  {
   "cell_type": "code",
   "execution_count": null,
   "metadata": {},
   "outputs": [],
   "source": [
    "for age in state_deaths[\"Ten-Year Age Groups Code\"].unique():\n",
    "    None\n",
    "    #get_age_death(state_deaths,age)"
   ]
  },
  {
   "cell_type": "code",
   "execution_count": null,
   "metadata": {},
   "outputs": [],
   "source": []
  },
  {
   "cell_type": "code",
   "execution_count": null,
   "metadata": {},
   "outputs": [],
   "source": [
    "\n",
    "fig = go.Figure()\n",
    "\n",
    "for age in state_deaths[\"Ten-Year Age Groups Code\"].unique():\n",
    "    age_df = state_deaths[state_deaths[\"Ten-Year Age Groups Code\"] == age]\n",
    "    part = Partisian.get_state_part_score()\n",
    "    age_df = pd.merge(age_df, part, left_on=\"State_Abv\", right_on=\"State\")\n",
    "    fig.add_trace(go.Scatter(x=age_df['Part_Score'], y=age_df['Rate'],mode='markers',name=age))\n",
    "    #fig.add_trace(go.Bar(x=age_df[\"State_Abv\"], y=age_df[\"Rate\"], marker=dict(color=age_df[\"Part_Score\"], colorscale=\"Bluered\" ), name=age))\n",
    "\n",
    "fig.show()"
   ]
  },
  {
   "cell_type": "code",
   "execution_count": null,
   "metadata": {},
   "outputs": [],
   "source": []
  },
  {
   "cell_type": "code",
   "execution_count": null,
   "metadata": {},
   "outputs": [],
   "source": [
    "teen = df[df[\"Ten-Year Age Groups Code\"] == \"85+\"]\n",
    "teen.sample(3)\n",
    "teen_all = teen#[teen[\"ICD-10 Original\"].str.contains(\"#\") == True]\n",
    "ny = teen_all[teen_all[\"State\"] == \"New York\"]\n",
    "ny.dropna(inplace=True, subset=[\"ICD-10 113 Cause List\"])\n",
    "ny.tail(3)"
   ]
  },
  {
   "cell_type": "code",
   "execution_count": null,
   "metadata": {},
   "outputs": [],
   "source": [
    "f = open(\"icd-10-Structure.json\")\n",
    "heirarchy = json.load(f)\n",
    "heirarchy\n",
    "\n",
    "f = open(\"icd-10-flat-Structure.json\")\n",
    "flat_heirarchy = json.load(f)\n"
   ]
  },
  {
   "cell_type": "code",
   "execution_count": null,
   "metadata": {},
   "outputs": [],
   "source": [
    "#ny.loc[15081]"
   ]
  },
  {
   "cell_type": "code",
   "execution_count": null,
   "metadata": {},
   "outputs": [],
   "source": [
    "ny[\"ICD-10 113 Cause List\"] = pd.Categorical(ny[\"ICD-10 113 Cause List\"], categories = list(heirarchy.keys()))\n",
    "ny = ny.sort_values(by=[\"ICD-10 113 Cause List\"])\n",
    "ny[\"ICD-10 113 Cause List\"].unique()\n",
    "ny.dropna(subset=[\"ICD-10 113 Cause List\"], inplace=True)"
   ]
  },
  {
   "cell_type": "code",
   "execution_count": null,
   "metadata": {},
   "outputs": [],
   "source": [
    "ny"
   ]
  },
  {
   "cell_type": "code",
   "execution_count": null,
   "metadata": {},
   "outputs": [],
   "source": []
  },
  {
   "cell_type": "code",
   "execution_count": null,
   "metadata": {},
   "outputs": [],
   "source": [
    "labels = [\"All\"]\n",
    "labels.extend(list(ny[\"ICD-10 113 Cause List\"]))\n",
    "\n",
    "values = [0]\n",
    "values.extend(list(ny.Rate))\n",
    "\n",
    "\n",
    "parents = []\n",
    "for i,label in enumerate(labels):\n",
    "    if label == \"All\":\n",
    "        parents.append(\"\")\n",
    "    else:\n",
    "        try:\n",
    "            parents = flat_heirarchy[label][\"parents\"]\n",
    "            if len(parent) > 0:\n",
    "                parents.append(parent[0])\n",
    "            else:\n",
    "                parents.append(\"\")\n",
    "                #values[i] = values[i]-values[parents.index(heirarchy[label])]\n",
    "            \n",
    "        except:\n",
    "            parents.append(\"\")  \n",
    "\n"
   ]
  },
  {
   "cell_type": "code",
   "execution_count": null,
   "metadata": {},
   "outputs": [],
   "source": [
    "test_labels = labels[:11]\n",
    "test_parents = parents[:11]\n",
    "test_values = values[:11]\n",
    "test_values[0] = sum(test_values[1:])"
   ]
  },
  {
   "cell_type": "code",
   "execution_count": null,
   "metadata": {},
   "outputs": [],
   "source": [
    "fig =go.Figure(go.Sunburst(\n",
    "    labels=labels,\n",
    "    parents=parents,\n",
    "    values=values,\n",
    "))\n",
    "\n",
    "fig.show()"
   ]
  },
  {
   "cell_type": "code",
   "execution_count": null,
   "metadata": {},
   "outputs": [],
   "source": [
    "df = pd.read_csv(r\"../data/Life/Deaths/StateDeathsAge.txt\", delimiter=\"\t\", na_values = ['Not Applicable'])\n",
    "df = df.dropna(subset=[\"State\",\"ICD-10 113 Cause List Code\", \"Population\"])"
   ]
  },
  {
   "cell_type": "code",
   "execution_count": null,
   "metadata": {},
   "outputs": [],
   "source": [
    "df[\"Ten-Year Age Groups Code\"].unique()"
   ]
  },
  {
   "cell_type": "code",
   "execution_count": null,
   "metadata": {},
   "outputs": [],
   "source": [
    "f = open(\"../icd-10-Structure.json\")\n",
    "heirarchy = json.load(f)\n",
    "heirarchy\n",
    "\n",
    "f = open(\"../icd-10-flat-Structure.json\")\n",
    "flat_heirarchy = json.load(f)\n"
   ]
  },
  {
   "cell_type": "code",
   "execution_count": null,
   "metadata": {},
   "outputs": [],
   "source": []
  },
  {
   "cell_type": "code",
   "execution_count": null,
   "metadata": {},
   "outputs": [],
   "source": []
  },
  {
   "cell_type": "code",
   "execution_count": null,
   "metadata": {},
   "outputs": [],
   "source": []
  },
  {
   "cell_type": "code",
   "execution_count": null,
   "metadata": {},
   "outputs": [],
   "source": []
  },
  {
   "cell_type": "code",
   "execution_count": null,
   "metadata": {},
   "outputs": [],
   "source": [
    "def load_state_cod(state=\"Michgian\"):\n",
    "    f = open(\"../icd-10-flat-Structure.json\")\n",
    "    flat_heirarchy = json.load(f)\n",
    "    df_heirarchy = pd.DataFrame(flat_heirarchy)\n",
    "    #rotate Matrix\n",
    "    df_heirarchy = df_heirarchy.transpose()\n",
    "    df_heirarchy.reset_index(inplace=True)\n",
    "    df_heirarchy.rename(columns={\"index\":\"ICD-10 113 Cause List\"}, inplace=True)\n",
    "    df_heirarchy\n",
    "\n",
    "    df = pd.read_csv(r\"../data/Life/Deaths/StateDeathsAge.txt\", delimiter=\"\t\", na_values = ['Not Applicable'])\n",
    "    df = df.dropna(subset=[\"State\",\"ICD-10 113 Cause List Code\", \"Population\"]) \n",
    "    \n",
    "    #state_df = state_df[state_df[\"Ten-Year Age Groups Code\"] ==age]\n",
    "    df[\"Rate\"] = (df[\"Deaths\"] / df[\"Population\"])*100000\n",
    "    df[\"Rate\"] = np.round(df[\"Rate\"], 2)\n",
    "    df[\"Child_Adj_Rate\"] = df[\"Rate\"]\n",
    "    if(state != \"All\"):\n",
    "        df= df[df[\"State\"] == state]\n",
    "\n",
    "\n",
    "    df_final = pd.merge(df, df_heirarchy, on=\"ICD-10 113 Cause List\")\n",
    "    df_final = df_final.drop(columns=[\"ICD-10 113 Cause List Code\", \"ranges\", \"chapters\", \"base\", \"Notes\"])\n",
    "    return df_final"
   ]
  },
  {
   "cell_type": "code",
   "execution_count": null,
   "metadata": {},
   "outputs": [],
   "source": [
    "def cod_v_age_box(cod, state):\n",
    "    df = load_state_cod(\"All\")\n",
    "    df = df[df[\"ICD-10 113 Cause List\"] == cod]\n",
    "    df = df.sort_values(by=[\"Ten-Year Age Groups Code\"])\n",
    "    # Create box plot  \n",
    "    fig = px.box(df, x=\"Ten-Year Age Groups Code\", y=\"Rate\", color=\"Ten-Year Age Groups Code\", hover_data=[\"State\", \"ICD-10 113 Cause List\"])\n",
    "    fig.show()\n",
    "    "
   ]
  },
  {
   "cell_type": "code",
   "execution_count": null,
   "metadata": {},
   "outputs": [],
   "source": [
    "cod_v_age_box(\"Renal failure (N17-N19)\", \"Michigan\")"
   ]
  },
  {
   "cell_type": "code",
   "execution_count": null,
   "metadata": {},
   "outputs": [],
   "source": [
    "df\n"
   ]
  },
  {
   "cell_type": "code",
   "execution_count": null,
   "metadata": {},
   "outputs": [],
   "source": []
  },
  {
   "cell_type": "code",
   "execution_count": null,
   "metadata": {},
   "outputs": [],
   "source": [
    "def get_age_box(cod, state):\n",
    "    df = load_state_cod(\"All\")\n",
    "    df = df[df[\"ICD-10 113 Cause List\"] == cod]\n",
    "    df[\"Start Age\"] = df[\"Ten-Year Age Groups Code\"].str.split(\"-\").str[0].str.replace(\"+\",\"\")\n",
    "    df[\"Start Age\"] = df[\"Start Age\"].astype(int)\n",
    "\n",
    "    df = df.sort_values(by=[\"Start Age\"])\n",
    "\n",
    "    fig = px.box(df, x=\"Ten-Year Age Groups Code\", y=\"Rate\", color=\"Ten-Year Age Groups Code\", hover_data=[\"State\", \"ICD-10 113 Cause List\"])\n",
    "\n",
    "    df = df[df[\"State\"] == state]\n",
    "    fig.add_trace(go.Scatter(\n",
    "        x = df[\"Ten-Year Age Groups Code\"],\n",
    "        y=df[\"Rate\"],\n",
    "        mode = \"markers+lines\",\n",
    "        marker=dict(color = \"red\"),\n",
    "        name = state\n",
    "\n",
    "    ))\n",
    "    fig.update_layout(height=300,width=1000, plot_bgcolor='rgba(0,0,0,0)', margin=dict(l=0, r=0, t=25, b=0))\n",
    "\n",
    "    fig.show()"
   ]
  },
  {
   "cell_type": "code",
   "execution_count": null,
   "metadata": {},
   "outputs": [],
   "source": [
    "get_age_box(\"#Intentional self-harm (suicide) (*U03,X60-X84,Y87.0)\", \"Michigan\")"
   ]
  },
  {
   "cell_type": "code",
   "execution_count": null,
   "metadata": {},
   "outputs": [],
   "source": [
    "df.sort_values(by=\"Start Age\")"
   ]
  },
  {
   "cell_type": "code",
   "execution_count": null,
   "metadata": {},
   "outputs": [],
   "source": []
  },
  {
   "cell_type": "code",
   "execution_count": null,
   "metadata": {},
   "outputs": [],
   "source": [
    "def add_children(name, child, order):\n",
    "    f = open(\"../icd-10-flat-Structure.json\")\n",
    "    flat_heirarchy = json.load(f)\n",
    "    order.append(name)\n",
    "    if len(child[\"children\"]) > 0: \n",
    "        for grand_child in child[\"children\"]:\n",
    "            add_children(grand_child, flat_heirarchy[grand_child], order)\n",
    "def get_depth_order(flat_heirarchy):\n",
    "    order = []\n",
    "    for key, value in flat_heirarchy.items():\n",
    "        if len(value[\"parents\"]) == 0:\n",
    "            order.append(key)\n",
    "            for children in value[\"children\"]:\n",
    "                add_children(children, flat_heirarchy[children],order)\n",
    "    return order"
   ]
  },
  {
   "cell_type": "code",
   "execution_count": null,
   "metadata": {},
   "outputs": [],
   "source": [
    "def get_age_cod(df, age, all_ages=False):\n",
    "    f = open(\"../icd-10-flat-Structure.json\")\n",
    "    flat_heirarchy = json.load(f)\n",
    "    order = get_depth_order(flat_heirarchy)\n",
    "    df = df[df[\"Ten-Year Age Groups Code\"] ==age]\n",
    "    for e in range(5):\n",
    "        for i, row in df.iterrows():\n",
    "            children_total = 0\n",
    "            children_values =[]\n",
    "            if len(row[\"children\"]) > 0:\n",
    "                for child in row[\"children\"]:\n",
    "                    try:\n",
    "                        children_total += df[df[\"ICD-10 113 Cause List\"] == child][\"Child_Adj_Rate\"].values[0]\n",
    "                        children_values.append(df[df[\"ICD-10 113 Cause List\"] == child][\"Child_Adj_Rate\"].values[0])\n",
    "                    except:\n",
    "                        None\n",
    "            df.at[i, \"Child_Adj_Rate\"] = max(row[\"Child_Adj_Rate\"], children_total)\n",
    "    df[\"ICD-10 113 Cause List\"] = df[\"ICD-10 113 Cause List\"].astype(\"category\")\n",
    "    df[\"ICD-10 113 Cause List\"] = df[\"ICD-10 113 Cause List\"].cat.set_categories(order, ordered=True)\n",
    "    df = df.sort_values(\"ICD-10 113 Cause List\")\n",
    "    \n",
    "    labels = [age]\n",
    "    parents = [\"\"]\n",
    "    if all_ages:\n",
    "        parents = [\"All Ages\"]\n",
    "    values = [0]\n",
    "    colors = [\"white\"]\n",
    "    for i, row in df.iterrows():\n",
    "        labels.append(row[\"ICD-10 113 Cause List\"].split(\"(\")[0] + \": \" + str(age))\n",
    "        if len(row[\"parents\"]) > 0:\n",
    "            parents.append(row[\"parents\"][0].split(\"(\")[0] + \": \" + str(age))\n",
    "        else: \n",
    "            parents.append(age)\n",
    "            values[0] += row[\"Child_Adj_Rate\"]\n",
    "        values.append(row[\"Child_Adj_Rate\"])\n",
    "    return labels, parents, values, df, values[0]\n",
    "    \n",
    "df_final = load_state_cod()\n",
    "labels, parents, values, df, total = get_age_cod(df_final, age, all_ages=True)"
   ]
  },
  {
   "cell_type": "code",
   "execution_count": null,
   "metadata": {},
   "outputs": [],
   "source": []
  },
  {
   "cell_type": "code",
   "execution_count": null,
   "metadata": {},
   "outputs": [],
   "source": [
    "def get_all_age_cod(df):\n",
    "    all_labels = [\"All Ages\"]\n",
    "    all_parents = [\"\"]\n",
    "    all_values = [0]\n",
    "    for age in df[\"Ten-Year Age Groups Code\"].unique():\n",
    "        labels, parents, values, df_age, total = get_age_cod(df, age, True)\n",
    "        all_labels.extend(labels)\n",
    "        all_parents.extend(parents)\n",
    "        all_values.extend(values)\n",
    "        all_values[0] += total\n",
    "    return all_labels, all_parents, all_values\n",
    "    \n",
    "final_labels, final_parents, final_values = get_all_age_cod(df_final)    "
   ]
  },
  {
   "cell_type": "code",
   "execution_count": null,
   "metadata": {},
   "outputs": [],
   "source": [
    "fig = go.Figure(go.Treemap(\n",
    "    branchvalues = \"total\",\n",
    "    labels = final_labels,\n",
    "    parents =  final_parents,\n",
    "    values=final_values,\n",
    "    textinfo = \"label+value+percent root\",\n",
    "    textposition = 'middle center',\n",
    "    textfont = dict(family=\"Arial\", size=16, color = '#FFFFFF')\n",
    "))\n",
    "\n",
    "fig.update_layout(margin = dict(t=50, l=25, r=25, b=25))\n",
    "\n",
    "\n",
    "fig.update_layout(\n",
    "    autosize=False,\n",
    "    width=2100,\n",
    "    height=1050,\n",
    "    margin=dict(\n",
    "        l=0,\n",
    "        r=0,\n",
    "        b=0,\n",
    "        t=0,\n",
    "        pad=0\n",
    "    ),\n",
    "    \n",
    ")\n",
    "\n",
    "fig.show()\n",
    "fig.write_html(\"CauseOfDeathTest.html\")"
   ]
  },
  {
   "cell_type": "code",
   "execution_count": null,
   "metadata": {},
   "outputs": [],
   "source": [
    "fig = go.Figure(go.Sunburst(\n",
    "    branchvalues = \"total\",\n",
    "    labels = final_labels,\n",
    "    parents =  final_parents,\n",
    "    values=final_values,\n",
    "))\n",
    "\n",
    "fig.update_layout(margin = dict(t=50, l=25, r=25, b=25))\n",
    "\n",
    "\n",
    "fig.update_layout(\n",
    "    autosize=False,\n",
    "    width=2100,\n",
    "    height=1050,\n",
    "    margin=dict(\n",
    "        l=0,\n",
    "        r=0,\n",
    "        b=0,\n",
    "        t=0,\n",
    "        pad=0\n",
    "    ),\n",
    ")\n",
    "\n",
    "fig.show()"
   ]
  },
  {
   "cell_type": "code",
   "execution_count": null,
   "metadata": {},
   "outputs": [],
   "source": [
    "fig = go.Figure(go.Icicle(\n",
    "    branchvalues = \"total\",\n",
    "    labels = final_labels,\n",
    "    parents =  final_parents,\n",
    "    values=final_values,\n",
    "    tiling = dict(\n",
    "            orientation='v',\n",
    "        ),\n",
    "    textposition = 'middle center',\n",
    "    textfont = dict(family=\"Arial\", size=18, color = '#FFFFFF')\n",
    "))\n",
    "\n",
    "fig.update_layout(margin = dict(t=50, l=25, r=25, b=25))\n",
    "\n",
    "\n",
    "fig.update_layout(\n",
    "    #uniformtext=dict(minsize=8, mode='hide'),\n",
    "    autosize=False,\n",
    "    width=2100,\n",
    "    height=1050,\n",
    "    margin=dict(\n",
    "        l=0,\n",
    "        r=0,\n",
    "        b=0,\n",
    "        t=0,\n",
    "        pad=0\n",
    "    ),\n",
    ")\n",
    "\n",
    "fig.show()\n",
    "fig.write_html(\"CauseOfDeathIcicle.html\")"
   ]
  },
  {
   "cell_type": "markdown",
   "metadata": {},
   "source": [
    "#here"
   ]
  },
  {
   "cell_type": "code",
   "execution_count": null,
   "metadata": {},
   "outputs": [],
   "source": [
    "def load_state_cod_old(state, age_group = '75-84'):\n",
    "    df = pd.read_csv(r\"data/Life/Deaths/StateDeathsAge.txt\", delimiter=\"\t\", na_values = ['Not Applicable'])\n",
    "    df = df.dropna(subset=[\"State\",\"ICD-10 113 Cause List Code\", \"Population\"]) \n",
    "    state_df= df[df[\"State\"] == state]\n",
    "    state_df = state_df[state_df[\"Ten-Year Age Groups Code\"] =='75-84']\n",
    "    state_df[\"Rate\"] = (state_df[\"Deaths\"] / state_df[\"Population\"])*100000\n",
    "    state_df[\"Rate\"] = np.round(state_df[\"Rate\"], 2)\n",
    "    state_df[\"Child_Adj_Rate\"] = state_df[\"Rate\"]\n",
    "    \n",
    "    state_df[\"Parent\"] = \"\"\n",
    "    state_df[\"Children\"] = \"\"\n",
    "    state_df[\"Common Name\"] = \"\"\n",
    "    \n",
    "    \n",
    "    f = open(\"icd-10-flat-Structure.json\")\n",
    "    flat_heirarchy = json.load(f)\n",
    "\n",
    "    targets =[]\n",
    "    sources = []\n",
    "    values = []\n",
    "\n",
    "    sources.append(\"\")\n",
    "    targets.append(\"All\")\n",
    "    values.append(0)\n",
    "    values.extend(list(state_df.Rate))\n",
    "    \n",
    "\n",
    "\n",
    "    for i, row in state_df.iterrows():\n",
    "        try:\n",
    "            structure = flat_heirarchy[row[\"ICD-10 113 Cause List\"]]\n",
    "            state_df.at[i, \"Common Name\"] = structure[\"common_name\"]\n",
    "            targets.append(structure[\"common_name\"])\n",
    "            structure[\"Rate\"] = row[\"Rate\"]\n",
    "            \n",
    "            if len(structure[\"parents\"])  == 1:\n",
    "                parent = flat_heirarchy[structure[\"parents\"][0]][\"common_name\"]\n",
    "                state_df.loc[i, \"Parent\"] = parent\n",
    "                sources.append(parent)\n",
    "            else:\n",
    "                state_df.loc[i, \"Parent\"] = \"All\"\n",
    "                sources.append(\"All\")\n",
    "        except Exception as e:\n",
    "            print(e)\n",
    "        if len(structure[\"children\"]) > 0:\n",
    "            state_df.at[i, \"Children\"] = structure[\"children\"]\n",
    "             \n",
    "    for i, source in enumerate(sources):\n",
    "        if source == \"\":\n",
    "            None\n",
    "        else:\n",
    "            try:\n",
    "                parent_index = targets.index(source)\n",
    "                values[parent_index] = max( values[parent_index] - values[i],0)\n",
    "                state_df.loc[state_df['Common Name'] == targets[parent_index], 'Child_Adj_Rate'] = values[parent_index]\n",
    "                \n",
    "            except:\n",
    "                values[i] = max(values[i],0)\n",
    "                state_df.loc[state_df['Common Name'] == targets[parent_index], 'Child_Adj_Rate'] = values[i]\n",
    "                \n",
    "    values[0] = 5000\n",
    "    size = 50\n",
    "    plot_dict = {\"values\":values[:size], \"targets\":targets[:size], \"parents\":sources[:size]}\n",
    "    return state_df, plot_dict"
   ]
  },
  {
   "cell_type": "code",
   "execution_count": null,
   "metadata": {},
   "outputs": [],
   "source": []
  },
  {
   "cell_type": "code",
   "execution_count": null,
   "metadata": {},
   "outputs": [],
   "source": []
  },
  {
   "cell_type": "code",
   "execution_count": null,
   "metadata": {},
   "outputs": [],
   "source": []
  },
  {
   "cell_type": "code",
   "execution_count": null,
   "metadata": {},
   "outputs": [],
   "source": []
  },
  {
   "cell_type": "code",
   "execution_count": null,
   "metadata": {},
   "outputs": [],
   "source": [
    "df_final = load_state_cod(state=\"All\")\n",
    "state_pop = pd.read_csv(r\"../data/Life/Deaths/State_Pop.txt\", delimiter=\"\t\", na_values = ['Not Applicable'])\n",
    "state_pop = clean_state_data(state_pop)[[\"State\",\"Population\",\"Deaths\",\"State_Abv\"]]\n",
    "state_pop.rename(columns={\"Deaths\":\"Total Deaths\"}, inplace=True)"
   ]
  },
  {
   "cell_type": "code",
   "execution_count": null,
   "metadata": {},
   "outputs": [],
   "source": [
    "cardio = df_final[df_final[\"ICD-10 113 Cause List\"] == \"Major cardiovascular diseases (I00-I78)\"].groupby(\"State\").agg({\"Deaths\":\"sum\"}).reset_index()\n",
    "cardio = pd.merge(cardio, state_pop, left_on=\"State\", right_on=\"State\")\n",
    "cardio[\"Rate\"] = cardio[\"Deaths\"]/cardio[\"Population\"]*100000\n",
    "cardio = cardio.sort_values(\"Rate\", ascending=False)\n",
    "cardio"
   ]
  },
  {
   "cell_type": "code",
   "execution_count": null,
   "metadata": {},
   "outputs": [],
   "source": [
    "def nation_single_cod(cod = \"Major cardiovascular diseases (I00-I78)\", state = \"Michigan\"):\n",
    "    # Load Data\n",
    "    df = pd.read_csv(r\"..\\data\\Life\\Deaths\\2019CuaseOfDeath.txt\", delimiter=\"\t\", na_values = ['Not Applicable'])\n",
    "    df = clean_state_data(df)\n",
    "    # Filter by COD\n",
    "    cod = cod.split(\":\")[0].strip()\n",
    "    df = df[df[\"ICD-10 113 Cause List\"].str.contains(cod)].sort_values(\"Rate\", ascending=False)\n",
    "    \n",
    "    \n",
    "    fig = go.Figure()\n",
    "    fig.add_trace(go.Box(\n",
    "        x=df[\"Rate\"], \n",
    "        name=cod.split(\"(\")[0],\n",
    "        boxpoints='all', # can also be outliers, or suspectedoutliers, or False\n",
    "        jitter=0.3, # add some jitter for a better separation between points\n",
    "        pointpos=-1.8, # relative position of points wrt box\n",
    "        hovertext=df[\"State_Abv\"]\n",
    "\n",
    "    ))\n",
    "    fig.add_vline(x=df[df[\"State\"]==state][\"Rate\"].values[0], line_width=3, line_dash=\"dash\", line_color=\"green\")\n",
    "    fig.show()\n",
    "    return df\n"
   ]
  },
  {
   "cell_type": "code",
   "execution_count": null,
   "metadata": {},
   "outputs": [],
   "source": []
  },
  {
   "cell_type": "code",
   "execution_count": null,
   "metadata": {},
   "outputs": [],
   "source": []
  },
  {
   "cell_type": "code",
   "execution_count": null,
   "metadata": {},
   "outputs": [],
   "source": [
    "cancer = nation_single_cod(cod = \"#Malignant neoplasms : 85+\", state=\"Texas\")"
   ]
  },
  {
   "cell_type": "code",
   "execution_count": null,
   "metadata": {},
   "outputs": [],
   "source": [
    "fig = go.Figure()\n",
    "fig.add_trace(go.Box(\n",
    "    x=cancer[\"Rate\"], \n",
    "    name=\"Cancer\",\n",
    "    boxpoints='all', # can also be outliers, or suspectedoutliers, or False\n",
    "    jitter=0.3, # add some jitter for a better separation between points\n",
    "    pointpos=-1.8, # relative position of points wrt box\n",
    "    hovertext=cancer[\"State_Abv\"]\n",
    "            \n",
    "))\n",
    "fig.add_vline(x=226.99, line_width=3, line_dash=\"dash\", line_color=\"green\")\n",
    "\n",
    "\n",
    "fig.show()"
   ]
  },
  {
   "cell_type": "code",
   "execution_count": null,
   "metadata": {},
   "outputs": [],
   "source": [
    "fig = go.Figure()\n",
    "fig.add_trace(go.Violin(\n",
    "    x=cancer[\"Rate\"], \n",
    "    name=\"Cancer\",\n",
    "    points='all', # can also be outliers, or suspectedoutliers, or False\n",
    "    jitter=0.3, # add some jitter for a better separation between points\n",
    "    pointpos=-1.8, # relative position of points wrt box\n",
    "    hovertext=cancer[\"State_Abv\"],\n",
    "    side=\"positive\"\n",
    "            \n",
    "))\n",
    "fig.add_vline(x=226.99, line_width=3, line_dash=\"dash\", line_color=\"green\")\n",
    "\n",
    "\n",
    "fig.show()"
   ]
  },
  {
   "cell_type": "code",
   "execution_count": null,
   "metadata": {},
   "outputs": [],
   "source": [
    "cancer"
   ]
  },
  {
   "cell_type": "code",
   "execution_count": null,
   "metadata": {},
   "outputs": [],
   "source": []
  },
  {
   "cell_type": "code",
   "execution_count": null,
   "metadata": {},
   "outputs": [],
   "source": []
  },
  {
   "cell_type": "code",
   "execution_count": null,
   "metadata": {},
   "outputs": [],
   "source": []
  }
 ],
 "metadata": {
  "kernelspec": {
   "display_name": "real-fast",
   "language": "python",
   "name": "python3"
  },
  "language_info": {
   "codemirror_mode": {
    "name": "ipython",
    "version": 3
   },
   "file_extension": ".py",
   "mimetype": "text/x-python",
   "name": "python",
   "nbconvert_exporter": "python",
   "pygments_lexer": "ipython3",
   "version": "3.8.4"
  },
  "orig_nbformat": 4
 },
 "nbformat": 4,
 "nbformat_minor": 2
}
