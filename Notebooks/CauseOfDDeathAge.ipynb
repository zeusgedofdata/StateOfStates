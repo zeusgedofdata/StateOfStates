{
 "cells": [
  {
   "cell_type": "code",
   "execution_count": 82,
   "metadata": {},
   "outputs": [],
   "source": [
    "\n",
    "import sys\n",
    "\n",
    "sys.path.append(\"D:/StateOfStates/\")\n",
    "\n",
    "import pandas as pd\n",
    "from dash import Dash, html, dcc, callback, Output, Input\n",
    "import censusgeocode as cg\n",
    "import plotly.figure_factory as ff\n",
    "from urllib.request import urlopen\n",
    "import json\n",
    "import plotly.express as px\n",
    "import plotly.graph_objects as go\n",
    "import numpy as np\n",
    "from sklearn.linear_model import LinearRegression\n",
    "from Partisian import get_state_part_score\n",
    "\n",
    "from Life import get_age_life_fig, get_state_age_life_exp\n",
    "from sklearn.neighbors import KNeighborsClassifier\n",
    "from plotly.subplots import make_subplots\n",
    "import math\n",
    "from LifeData import LifeData\n",
    "import Partisian as Partisian\n",
    "from sklearn.linear_model import LinearRegression\n",
    "import addfips\n"
   ]
  },
  {
   "cell_type": "code",
   "execution_count": 83,
   "metadata": {},
   "outputs": [
    {
     "data": {
      "text/plain": [
       "{'Alaska': 'AK',\n",
       " 'Alabama': 'AL',\n",
       " 'Arkansas': 'AR',\n",
       " 'American Samoa': 'AS',\n",
       " 'Arizona': 'AZ',\n",
       " 'California': 'CA',\n",
       " 'Colorado': 'CO',\n",
       " 'Connecticut': 'CT',\n",
       " 'District of Columbia': 'DC',\n",
       " 'Delaware': 'DE',\n",
       " 'Florida': 'FL',\n",
       " 'Georgia': 'GA',\n",
       " 'Guam': 'GU',\n",
       " 'Hawaii': 'HI',\n",
       " 'Iowa': 'IA',\n",
       " 'Idaho': 'ID',\n",
       " 'Illinois': 'IL',\n",
       " 'Indiana': 'IN',\n",
       " 'Kansas': 'KS',\n",
       " 'Kentucky': 'KY',\n",
       " 'Louisiana': 'LA',\n",
       " 'Massachusetts': 'MA',\n",
       " 'Maryland': 'MD',\n",
       " 'Maine': 'ME',\n",
       " 'Michigan': 'MI',\n",
       " 'Minnesota': 'MN',\n",
       " 'Missouri': 'MO',\n",
       " 'Northern Mariana Islands': 'MP',\n",
       " 'Mississippi': 'MS',\n",
       " 'Montana': 'MT',\n",
       " 'National': 'NA',\n",
       " 'North Carolina': 'NC',\n",
       " 'North Dakota': 'ND',\n",
       " 'Nebraska': 'NE',\n",
       " 'New Hampshire': 'NH',\n",
       " 'New Jersey': 'NJ',\n",
       " 'New Mexico': 'NM',\n",
       " 'Nevada': 'NV',\n",
       " 'New York': 'NY',\n",
       " 'Ohio': 'OH',\n",
       " 'Oklahoma': 'OK',\n",
       " 'Oregon': 'OR',\n",
       " 'Pennsylvania': 'PA',\n",
       " 'Puerto Rico': 'PR',\n",
       " 'Rhode Island': 'RI',\n",
       " 'South Carolina': 'SC',\n",
       " 'South Dakota': 'SD',\n",
       " 'Tennessee': 'TN',\n",
       " 'Texas': 'TX',\n",
       " 'Utah': 'UT',\n",
       " 'Virginia': 'VA',\n",
       " 'Virgin Islands': 'VI',\n",
       " 'Vermont': 'VT',\n",
       " 'Washington': 'WA',\n",
       " 'Wisconsin': 'WI',\n",
       " 'West Virginia': 'WV',\n",
       " 'Wyoming': 'WY'}"
      ]
     },
     "execution_count": 83,
     "metadata": {},
     "output_type": "execute_result"
    }
   ],
   "source": [
    "states = { 'AK': 'Alaska', 'AL': 'Alabama', 'AR': 'Arkansas', 'AS': 'American Samoa', 'AZ': 'Arizona', 'CA': 'California', 'CO': 'Colorado', 'CT': 'Connecticut', 'DC': 'District of Columbia', 'DE': 'Delaware', 'FL': 'Florida', 'GA': 'Georgia', 'GU': 'Guam', 'HI': 'Hawaii', 'IA': 'Iowa', 'ID': 'Idaho', 'IL': 'Illinois', 'IN': 'Indiana', 'KS': 'Kansas', 'KY': 'Kentucky', 'LA': 'Louisiana', 'MA': 'Massachusetts', 'MD': 'Maryland', 'ME': 'Maine', 'MI': 'Michigan', 'MN': 'Minnesota', 'MO': 'Missouri', 'MP': 'Northern Mariana Islands', 'MS': 'Mississippi', 'MT': 'Montana', 'NA': 'National', 'NC': 'North Carolina', 'ND': 'North Dakota', 'NE': 'Nebraska', 'NH': 'New Hampshire', 'NJ': 'New Jersey', 'NM': 'New Mexico', 'NV': 'Nevada', 'NY': 'New York', 'OH': 'Ohio', 'OK': 'Oklahoma', 'OR': 'Oregon', 'PA': 'Pennsylvania', 'PR': 'Puerto Rico', 'RI': 'Rhode Island', 'SC': 'South Carolina', 'SD': 'South Dakota', 'TN': 'Tennessee', 'TX': 'Texas', 'UT': 'Utah', 'VA': 'Virginia', 'VI': 'Virgin Islands', 'VT': 'Vermont', 'WA': 'Washington', 'WI': 'Wisconsin', 'WV': 'West Virginia', 'WY': 'Wyoming'\n",
    "}\n",
    "\n",
    "\n",
    "states = {v: k for k, v in states.items()}\n",
    "states\n"
   ]
  },
  {
   "cell_type": "code",
   "execution_count": 84,
   "metadata": {},
   "outputs": [],
   "source": [
    "def translate_ICD10(x, conversion):\n",
    "    try:\n",
    "        return conversion[x]\n",
    "    except:\n",
    "        return x\n",
    "    \n",
    "    \n",
    "\n",
    "\n",
    "\n",
    "def clean_state_data(df):\n",
    "    af = addfips.AddFIPS()\n",
    "    try:\n",
    "        df = df.dropna(subset=[\"State\",\"ICD-10 113 Cause List Code\", \"Population\"])\n",
    "    except: \n",
    "        df = df.dropna(subset=[\"State\", \"Population\"])\n",
    "    #df = df[df[\"Crude Rate\"] != \"Unreliable\"]\n",
    "    df.Population = df.Population.astype(float)\n",
    "    df[\"Rate\"] = (df[\"Deaths\"]/df[\"Population\"])*100000\n",
    "    df[\"Rate\"] = df[\"Rate\"].round(2)\n",
    "    df[\"fips\"] = df.apply(lambda x: af.get_state_fips(x[\"State\"]), axis=1)\n",
    "    df[\"Year\"] = 2019\n",
    "    df[\"State_Abv\"] = df.apply(lambda x: states[x[\"State\"]], axis=1)\n",
    "    df = df.sort_values(by=[\"Rate\"], ascending=False)\n",
    "    try:\n",
    "        df.drop(columns=[\"Notes\", \"State Code\", ], inplace=True)\n",
    "    except:\n",
    "        None\n",
    "   \n",
    "    try:\n",
    "        f = open(\"data/Life/Deaths/ICD10Translation.json\")\n",
    "        translation = json.load(f)\n",
    "        df[\"ICD-10 Common\"] = df[\"ICD-10 113 Cause List\"].apply(lambda x: translate_ICD10(x, translation))\n",
    "        df.rename(columns={\"ICD-10 Common\":\"Cause Of Death\"}, inplace=True)\n",
    "    except:\n",
    "        None\n",
    "    return df\n",
    "    \n",
    "\n",
    "\n",
    "def top_n(df, n):\n",
    "    #Filter out low occuring chapters\n",
    "    df = df.groupby(\"ICD-10 113 Cause List Code\").filter(lambda x: len(x)>1)\n",
    "    df = df.sort_values(by = [\"Rate\"], ascending = False)\n",
    "    df = df.head(n).copy()\n",
    "    top_codes = list(df[\"ICD-10 113 Cause List Code\"].unique())\n",
    "    df = df[df[\"ICD-10 113 Cause List Code\"].isin(top_codes)]\n",
    "    return df\n",
    "\n",
    "\n",
    "firearms = pd.read_csv(r\"../data/Life/Deaths/FireArmState.txt\", delimiter=\"\t\", na_values = ['Not Applicable'])\n",
    "df = pd.read_csv(r\"../data/Life/Deaths/StateDeathsAge.txt\", delimiter=\"\t\", na_values = ['Not Applicable'])\n",
    "state_pop = pd.read_csv(r\"../data/Life/Deaths/State_Pop.txt\", delimiter=\"\t\", na_values = ['Not Applicable'])\n",
    "state_pop = clean_state_data(state_pop)\n",
    "yearly_pop = pd.read_csv(r\"../data/Life/Deaths/2019State1YearPop.txt\", delimiter=\"\t\", na_values = ['Not Applicable'])\n",
    "state_deaths = pd.read_csv(r\"../data/Life/Deaths/2019StateDeaths.txt\", delimiter=\"\t\", na_values = ['Not Applicable'])\n",
    "\n",
    "\n",
    "df = clean_state_data(df)\n",
    "firearms = clean_state_data(firearms)\n",
    "state_pop = clean_state_data(state_pop)\n",
    "yearly_pop = clean_state_data(yearly_pop)\n",
    "state_deaths = clean_state_data(state_deaths)\n",
    "state_pop[\"Total Pop\"] = state_pop[\"Population\"]\n",
    "\n",
    "#top_df = top_n(df, 5)\n",
    "#county = df.groupby(by=[\"2006 Urbanization Code\", \"ICD Sub-Chapter\"]).mean().reset_index().sort_values(by=[\"Rate\"], ascending=False)\n",
    "state_pop.sample(5)\n",
    "firearms = firearms.merge(state_pop[[\"State\", \"Total Pop\"]], left_on=\"State\",right_on=\"State\")"
   ]
  },
  {
   "cell_type": "code",
   "execution_count": 85,
   "metadata": {},
   "outputs": [
    {
     "data": {
      "text/html": [
       "<div>\n",
       "<style scoped>\n",
       "    .dataframe tbody tr th:only-of-type {\n",
       "        vertical-align: middle;\n",
       "    }\n",
       "\n",
       "    .dataframe tbody tr th {\n",
       "        vertical-align: top;\n",
       "    }\n",
       "\n",
       "    .dataframe thead th {\n",
       "        text-align: right;\n",
       "    }\n",
       "</style>\n",
       "<table border=\"1\" class=\"dataframe\">\n",
       "  <thead>\n",
       "    <tr style=\"text-align: right;\">\n",
       "      <th></th>\n",
       "      <th>State</th>\n",
       "      <th>Deaths</th>\n",
       "      <th>Population</th>\n",
       "      <th>Crude Rate</th>\n",
       "      <th>Rate</th>\n",
       "      <th>fips</th>\n",
       "      <th>Year</th>\n",
       "      <th>State_Abv</th>\n",
       "      <th>Total Pop</th>\n",
       "    </tr>\n",
       "  </thead>\n",
       "  <tbody>\n",
       "    <tr>\n",
       "      <th>48</th>\n",
       "      <td>West Virginia</td>\n",
       "      <td>23404.0</td>\n",
       "      <td>1792147.0</td>\n",
       "      <td>1305.9</td>\n",
       "      <td>1305.92</td>\n",
       "      <td>54</td>\n",
       "      <td>2019</td>\n",
       "      <td>WV</td>\n",
       "      <td>1792147.0</td>\n",
       "    </tr>\n",
       "    <tr>\n",
       "      <th>19</th>\n",
       "      <td>Maine</td>\n",
       "      <td>15065.0</td>\n",
       "      <td>1344212.0</td>\n",
       "      <td>1120.7</td>\n",
       "      <td>1120.73</td>\n",
       "      <td>23</td>\n",
       "      <td>2019</td>\n",
       "      <td>ME</td>\n",
       "      <td>1344212.0</td>\n",
       "    </tr>\n",
       "    <tr>\n",
       "      <th>24</th>\n",
       "      <td>Mississippi</td>\n",
       "      <td>32964.0</td>\n",
       "      <td>2976149.0</td>\n",
       "      <td>1107.6</td>\n",
       "      <td>1107.61</td>\n",
       "      <td>28</td>\n",
       "      <td>2019</td>\n",
       "      <td>MS</td>\n",
       "      <td>2976149.0</td>\n",
       "    </tr>\n",
       "    <tr>\n",
       "      <th>0</th>\n",
       "      <td>Alabama</td>\n",
       "      <td>54108.0</td>\n",
       "      <td>4903185.0</td>\n",
       "      <td>1103.5</td>\n",
       "      <td>1103.53</td>\n",
       "      <td>01</td>\n",
       "      <td>2019</td>\n",
       "      <td>AL</td>\n",
       "      <td>4903185.0</td>\n",
       "    </tr>\n",
       "    <tr>\n",
       "      <th>17</th>\n",
       "      <td>Kentucky</td>\n",
       "      <td>48990.0</td>\n",
       "      <td>4467673.0</td>\n",
       "      <td>1096.5</td>\n",
       "      <td>1096.54</td>\n",
       "      <td>21</td>\n",
       "      <td>2019</td>\n",
       "      <td>KY</td>\n",
       "      <td>4467673.0</td>\n",
       "    </tr>\n",
       "    <tr>\n",
       "      <th>3</th>\n",
       "      <td>Arkansas</td>\n",
       "      <td>32888.0</td>\n",
       "      <td>3017804.0</td>\n",
       "      <td>1089.8</td>\n",
       "      <td>1089.80</td>\n",
       "      <td>05</td>\n",
       "      <td>2019</td>\n",
       "      <td>AR</td>\n",
       "      <td>3017804.0</td>\n",
       "    </tr>\n",
       "    <tr>\n",
       "      <th>35</th>\n",
       "      <td>Ohio</td>\n",
       "      <td>123717.0</td>\n",
       "      <td>11689100.0</td>\n",
       "      <td>1058.4</td>\n",
       "      <td>1058.40</td>\n",
       "      <td>39</td>\n",
       "      <td>2019</td>\n",
       "      <td>OH</td>\n",
       "      <td>11689100.0</td>\n",
       "    </tr>\n",
       "    <tr>\n",
       "      <th>42</th>\n",
       "      <td>Tennessee</td>\n",
       "      <td>71935.0</td>\n",
       "      <td>6829174.0</td>\n",
       "      <td>1053.3</td>\n",
       "      <td>1053.35</td>\n",
       "      <td>47</td>\n",
       "      <td>2019</td>\n",
       "      <td>TN</td>\n",
       "      <td>6829174.0</td>\n",
       "    </tr>\n",
       "    <tr>\n",
       "      <th>38</th>\n",
       "      <td>Pennsylvania</td>\n",
       "      <td>133983.0</td>\n",
       "      <td>12801989.0</td>\n",
       "      <td>1046.6</td>\n",
       "      <td>1046.58</td>\n",
       "      <td>42</td>\n",
       "      <td>2019</td>\n",
       "      <td>PA</td>\n",
       "      <td>12801989.0</td>\n",
       "    </tr>\n",
       "    <tr>\n",
       "      <th>36</th>\n",
       "      <td>Oklahoma</td>\n",
       "      <td>40930.0</td>\n",
       "      <td>3956971.0</td>\n",
       "      <td>1034.4</td>\n",
       "      <td>1034.38</td>\n",
       "      <td>40</td>\n",
       "      <td>2019</td>\n",
       "      <td>OK</td>\n",
       "      <td>3956971.0</td>\n",
       "    </tr>\n",
       "    <tr>\n",
       "      <th>25</th>\n",
       "      <td>Missouri</td>\n",
       "      <td>62401.0</td>\n",
       "      <td>6137428.0</td>\n",
       "      <td>1016.7</td>\n",
       "      <td>1016.73</td>\n",
       "      <td>29</td>\n",
       "      <td>2019</td>\n",
       "      <td>MO</td>\n",
       "      <td>6137428.0</td>\n",
       "    </tr>\n",
       "    <tr>\n",
       "      <th>22</th>\n",
       "      <td>Michigan</td>\n",
       "      <td>99084.0</td>\n",
       "      <td>9986857.0</td>\n",
       "      <td>992.1</td>\n",
       "      <td>992.14</td>\n",
       "      <td>26</td>\n",
       "      <td>2019</td>\n",
       "      <td>MI</td>\n",
       "      <td>9986857.0</td>\n",
       "    </tr>\n",
       "    <tr>\n",
       "      <th>40</th>\n",
       "      <td>South Carolina</td>\n",
       "      <td>50962.0</td>\n",
       "      <td>5148714.0</td>\n",
       "      <td>989.8</td>\n",
       "      <td>989.80</td>\n",
       "      <td>45</td>\n",
       "      <td>2019</td>\n",
       "      <td>SC</td>\n",
       "      <td>5148714.0</td>\n",
       "    </tr>\n",
       "    <tr>\n",
       "      <th>18</th>\n",
       "      <td>Louisiana</td>\n",
       "      <td>45938.0</td>\n",
       "      <td>4648794.0</td>\n",
       "      <td>988.2</td>\n",
       "      <td>988.17</td>\n",
       "      <td>22</td>\n",
       "      <td>2019</td>\n",
       "      <td>LA</td>\n",
       "      <td>4648794.0</td>\n",
       "    </tr>\n",
       "    <tr>\n",
       "      <th>14</th>\n",
       "      <td>Indiana</td>\n",
       "      <td>66001.0</td>\n",
       "      <td>6732219.0</td>\n",
       "      <td>980.4</td>\n",
       "      <td>980.38</td>\n",
       "      <td>18</td>\n",
       "      <td>2019</td>\n",
       "      <td>IN</td>\n",
       "      <td>6732219.0</td>\n",
       "    </tr>\n",
       "    <tr>\n",
       "      <th>15</th>\n",
       "      <td>Iowa</td>\n",
       "      <td>30867.0</td>\n",
       "      <td>3155070.0</td>\n",
       "      <td>978.3</td>\n",
       "      <td>978.33</td>\n",
       "      <td>19</td>\n",
       "      <td>2019</td>\n",
       "      <td>IA</td>\n",
       "      <td>3155070.0</td>\n",
       "    </tr>\n",
       "    <tr>\n",
       "      <th>26</th>\n",
       "      <td>Montana</td>\n",
       "      <td>10402.0</td>\n",
       "      <td>1068778.0</td>\n",
       "      <td>973.3</td>\n",
       "      <td>973.26</td>\n",
       "      <td>30</td>\n",
       "      <td>2019</td>\n",
       "      <td>MT</td>\n",
       "      <td>1068778.0</td>\n",
       "    </tr>\n",
       "    <tr>\n",
       "      <th>39</th>\n",
       "      <td>Rhode Island</td>\n",
       "      <td>10256.0</td>\n",
       "      <td>1059361.0</td>\n",
       "      <td>968.1</td>\n",
       "      <td>968.13</td>\n",
       "      <td>44</td>\n",
       "      <td>2019</td>\n",
       "      <td>RI</td>\n",
       "      <td>1059361.0</td>\n",
       "    </tr>\n",
       "    <tr>\n",
       "      <th>9</th>\n",
       "      <td>Florida</td>\n",
       "      <td>207002.0</td>\n",
       "      <td>21477737.0</td>\n",
       "      <td>963.8</td>\n",
       "      <td>963.80</td>\n",
       "      <td>12</td>\n",
       "      <td>2019</td>\n",
       "      <td>FL</td>\n",
       "      <td>21477737.0</td>\n",
       "    </tr>\n",
       "    <tr>\n",
       "      <th>7</th>\n",
       "      <td>Delaware</td>\n",
       "      <td>9302.0</td>\n",
       "      <td>973764.0</td>\n",
       "      <td>955.3</td>\n",
       "      <td>955.26</td>\n",
       "      <td>10</td>\n",
       "      <td>2019</td>\n",
       "      <td>DE</td>\n",
       "      <td>973764.0</td>\n",
       "    </tr>\n",
       "    <tr>\n",
       "      <th>45</th>\n",
       "      <td>Vermont</td>\n",
       "      <td>5956.0</td>\n",
       "      <td>623989.0</td>\n",
       "      <td>954.5</td>\n",
       "      <td>954.50</td>\n",
       "      <td>50</td>\n",
       "      <td>2019</td>\n",
       "      <td>VT</td>\n",
       "      <td>623989.0</td>\n",
       "    </tr>\n",
       "    <tr>\n",
       "      <th>16</th>\n",
       "      <td>Kansas</td>\n",
       "      <td>27682.0</td>\n",
       "      <td>2913314.0</td>\n",
       "      <td>950.2</td>\n",
       "      <td>950.19</td>\n",
       "      <td>20</td>\n",
       "      <td>2019</td>\n",
       "      <td>KS</td>\n",
       "      <td>2913314.0</td>\n",
       "    </tr>\n",
       "    <tr>\n",
       "      <th>29</th>\n",
       "      <td>New Hampshire</td>\n",
       "      <td>12744.0</td>\n",
       "      <td>1359711.0</td>\n",
       "      <td>937.3</td>\n",
       "      <td>937.26</td>\n",
       "      <td>33</td>\n",
       "      <td>2019</td>\n",
       "      <td>NH</td>\n",
       "      <td>1359711.0</td>\n",
       "    </tr>\n",
       "    <tr>\n",
       "      <th>41</th>\n",
       "      <td>South Dakota</td>\n",
       "      <td>8270.0</td>\n",
       "      <td>884659.0</td>\n",
       "      <td>934.8</td>\n",
       "      <td>934.82</td>\n",
       "      <td>46</td>\n",
       "      <td>2019</td>\n",
       "      <td>SD</td>\n",
       "      <td>884659.0</td>\n",
       "    </tr>\n",
       "    <tr>\n",
       "      <th>49</th>\n",
       "      <td>Wisconsin</td>\n",
       "      <td>54189.0</td>\n",
       "      <td>5822434.0</td>\n",
       "      <td>930.7</td>\n",
       "      <td>930.69</td>\n",
       "      <td>55</td>\n",
       "      <td>2019</td>\n",
       "      <td>WI</td>\n",
       "      <td>5822434.0</td>\n",
       "    </tr>\n",
       "    <tr>\n",
       "      <th>31</th>\n",
       "      <td>New Mexico</td>\n",
       "      <td>19512.0</td>\n",
       "      <td>2096829.0</td>\n",
       "      <td>930.5</td>\n",
       "      <td>930.55</td>\n",
       "      <td>35</td>\n",
       "      <td>2019</td>\n",
       "      <td>NM</td>\n",
       "      <td>2096829.0</td>\n",
       "    </tr>\n",
       "    <tr>\n",
       "      <th>33</th>\n",
       "      <td>North Carolina</td>\n",
       "      <td>95881.0</td>\n",
       "      <td>10488084.0</td>\n",
       "      <td>914.2</td>\n",
       "      <td>914.19</td>\n",
       "      <td>37</td>\n",
       "      <td>2019</td>\n",
       "      <td>NC</td>\n",
       "      <td>10488084.0</td>\n",
       "    </tr>\n",
       "    <tr>\n",
       "      <th>6</th>\n",
       "      <td>Connecticut</td>\n",
       "      <td>31745.0</td>\n",
       "      <td>3565287.0</td>\n",
       "      <td>890.4</td>\n",
       "      <td>890.39</td>\n",
       "      <td>09</td>\n",
       "      <td>2019</td>\n",
       "      <td>CT</td>\n",
       "      <td>3565287.0</td>\n",
       "    </tr>\n",
       "    <tr>\n",
       "      <th>37</th>\n",
       "      <td>Oregon</td>\n",
       "      <td>37370.0</td>\n",
       "      <td>4217737.0</td>\n",
       "      <td>886.0</td>\n",
       "      <td>886.02</td>\n",
       "      <td>41</td>\n",
       "      <td>2019</td>\n",
       "      <td>OR</td>\n",
       "      <td>4217737.0</td>\n",
       "    </tr>\n",
       "    <tr>\n",
       "      <th>50</th>\n",
       "      <td>Wyoming</td>\n",
       "      <td>5121.0</td>\n",
       "      <td>578759.0</td>\n",
       "      <td>884.8</td>\n",
       "      <td>884.82</td>\n",
       "      <td>56</td>\n",
       "      <td>2019</td>\n",
       "      <td>WY</td>\n",
       "      <td>578759.0</td>\n",
       "    </tr>\n",
       "    <tr>\n",
       "      <th>34</th>\n",
       "      <td>North Dakota</td>\n",
       "      <td>6702.0</td>\n",
       "      <td>762062.0</td>\n",
       "      <td>879.5</td>\n",
       "      <td>879.46</td>\n",
       "      <td>38</td>\n",
       "      <td>2019</td>\n",
       "      <td>ND</td>\n",
       "      <td>762062.0</td>\n",
       "    </tr>\n",
       "    <tr>\n",
       "      <th>27</th>\n",
       "      <td>Nebraska</td>\n",
       "      <td>16970.0</td>\n",
       "      <td>1934408.0</td>\n",
       "      <td>877.3</td>\n",
       "      <td>877.27</td>\n",
       "      <td>31</td>\n",
       "      <td>2019</td>\n",
       "      <td>NE</td>\n",
       "      <td>1934408.0</td>\n",
       "    </tr>\n",
       "    <tr>\n",
       "      <th>13</th>\n",
       "      <td>Illinois</td>\n",
       "      <td>109096.0</td>\n",
       "      <td>12671821.0</td>\n",
       "      <td>860.9</td>\n",
       "      <td>860.93</td>\n",
       "      <td>17</td>\n",
       "      <td>2019</td>\n",
       "      <td>IL</td>\n",
       "      <td>12671821.0</td>\n",
       "    </tr>\n",
       "    <tr>\n",
       "      <th>21</th>\n",
       "      <td>Massachusetts</td>\n",
       "      <td>58630.0</td>\n",
       "      <td>6892503.0</td>\n",
       "      <td>850.6</td>\n",
       "      <td>850.63</td>\n",
       "      <td>25</td>\n",
       "      <td>2019</td>\n",
       "      <td>MA</td>\n",
       "      <td>6892503.0</td>\n",
       "    </tr>\n",
       "    <tr>\n",
       "      <th>30</th>\n",
       "      <td>New Jersey</td>\n",
       "      <td>75010.0</td>\n",
       "      <td>8882190.0</td>\n",
       "      <td>844.5</td>\n",
       "      <td>844.50</td>\n",
       "      <td>34</td>\n",
       "      <td>2019</td>\n",
       "      <td>NJ</td>\n",
       "      <td>8882190.0</td>\n",
       "    </tr>\n",
       "    <tr>\n",
       "      <th>20</th>\n",
       "      <td>Maryland</td>\n",
       "      <td>50800.0</td>\n",
       "      <td>6045680.0</td>\n",
       "      <td>840.3</td>\n",
       "      <td>840.27</td>\n",
       "      <td>24</td>\n",
       "      <td>2019</td>\n",
       "      <td>MD</td>\n",
       "      <td>6045680.0</td>\n",
       "    </tr>\n",
       "    <tr>\n",
       "      <th>28</th>\n",
       "      <td>Nevada</td>\n",
       "      <td>25586.0</td>\n",
       "      <td>3080156.0</td>\n",
       "      <td>830.7</td>\n",
       "      <td>830.67</td>\n",
       "      <td>32</td>\n",
       "      <td>2019</td>\n",
       "      <td>NV</td>\n",
       "      <td>3080156.0</td>\n",
       "    </tr>\n",
       "    <tr>\n",
       "      <th>2</th>\n",
       "      <td>Arizona</td>\n",
       "      <td>60236.0</td>\n",
       "      <td>7278717.0</td>\n",
       "      <td>827.6</td>\n",
       "      <td>827.56</td>\n",
       "      <td>04</td>\n",
       "      <td>2019</td>\n",
       "      <td>AZ</td>\n",
       "      <td>7278717.0</td>\n",
       "    </tr>\n",
       "    <tr>\n",
       "      <th>46</th>\n",
       "      <td>Virginia</td>\n",
       "      <td>70325.0</td>\n",
       "      <td>8535519.0</td>\n",
       "      <td>823.9</td>\n",
       "      <td>823.91</td>\n",
       "      <td>51</td>\n",
       "      <td>2019</td>\n",
       "      <td>VA</td>\n",
       "      <td>8535519.0</td>\n",
       "    </tr>\n",
       "    <tr>\n",
       "      <th>11</th>\n",
       "      <td>Hawaii</td>\n",
       "      <td>11559.0</td>\n",
       "      <td>1415872.0</td>\n",
       "      <td>816.4</td>\n",
       "      <td>816.39</td>\n",
       "      <td>15</td>\n",
       "      <td>2019</td>\n",
       "      <td>HI</td>\n",
       "      <td>1415872.0</td>\n",
       "    </tr>\n",
       "    <tr>\n",
       "      <th>10</th>\n",
       "      <td>Georgia</td>\n",
       "      <td>85814.0</td>\n",
       "      <td>10617423.0</td>\n",
       "      <td>808.2</td>\n",
       "      <td>808.24</td>\n",
       "      <td>13</td>\n",
       "      <td>2019</td>\n",
       "      <td>GA</td>\n",
       "      <td>10617423.0</td>\n",
       "    </tr>\n",
       "    <tr>\n",
       "      <th>12</th>\n",
       "      <td>Idaho</td>\n",
       "      <td>14430.0</td>\n",
       "      <td>1787065.0</td>\n",
       "      <td>807.5</td>\n",
       "      <td>807.47</td>\n",
       "      <td>16</td>\n",
       "      <td>2019</td>\n",
       "      <td>ID</td>\n",
       "      <td>1787065.0</td>\n",
       "    </tr>\n",
       "    <tr>\n",
       "      <th>23</th>\n",
       "      <td>Minnesota</td>\n",
       "      <td>45514.0</td>\n",
       "      <td>5639632.0</td>\n",
       "      <td>807.0</td>\n",
       "      <td>807.04</td>\n",
       "      <td>27</td>\n",
       "      <td>2019</td>\n",
       "      <td>MN</td>\n",
       "      <td>5639632.0</td>\n",
       "    </tr>\n",
       "    <tr>\n",
       "      <th>32</th>\n",
       "      <td>New York</td>\n",
       "      <td>156375.0</td>\n",
       "      <td>19453561.0</td>\n",
       "      <td>803.8</td>\n",
       "      <td>803.84</td>\n",
       "      <td>36</td>\n",
       "      <td>2019</td>\n",
       "      <td>NY</td>\n",
       "      <td>19453561.0</td>\n",
       "    </tr>\n",
       "    <tr>\n",
       "      <th>47</th>\n",
       "      <td>Washington</td>\n",
       "      <td>58263.0</td>\n",
       "      <td>7614893.0</td>\n",
       "      <td>765.1</td>\n",
       "      <td>765.12</td>\n",
       "      <td>53</td>\n",
       "      <td>2019</td>\n",
       "      <td>WA</td>\n",
       "      <td>7614893.0</td>\n",
       "    </tr>\n",
       "    <tr>\n",
       "      <th>43</th>\n",
       "      <td>Texas</td>\n",
       "      <td>203362.0</td>\n",
       "      <td>28995881.0</td>\n",
       "      <td>701.3</td>\n",
       "      <td>701.35</td>\n",
       "      <td>48</td>\n",
       "      <td>2019</td>\n",
       "      <td>TX</td>\n",
       "      <td>28995881.0</td>\n",
       "    </tr>\n",
       "    <tr>\n",
       "      <th>8</th>\n",
       "      <td>District of Columbia</td>\n",
       "      <td>4927.0</td>\n",
       "      <td>705749.0</td>\n",
       "      <td>698.1</td>\n",
       "      <td>698.12</td>\n",
       "      <td>11</td>\n",
       "      <td>2019</td>\n",
       "      <td>DC</td>\n",
       "      <td>705749.0</td>\n",
       "    </tr>\n",
       "    <tr>\n",
       "      <th>5</th>\n",
       "      <td>Colorado</td>\n",
       "      <td>39390.0</td>\n",
       "      <td>5758736.0</td>\n",
       "      <td>684.0</td>\n",
       "      <td>684.00</td>\n",
       "      <td>08</td>\n",
       "      <td>2019</td>\n",
       "      <td>CO</td>\n",
       "      <td>5758736.0</td>\n",
       "    </tr>\n",
       "    <tr>\n",
       "      <th>4</th>\n",
       "      <td>California</td>\n",
       "      <td>269831.0</td>\n",
       "      <td>39512223.0</td>\n",
       "      <td>682.9</td>\n",
       "      <td>682.91</td>\n",
       "      <td>06</td>\n",
       "      <td>2019</td>\n",
       "      <td>CA</td>\n",
       "      <td>39512223.0</td>\n",
       "    </tr>\n",
       "    <tr>\n",
       "      <th>1</th>\n",
       "      <td>Alaska</td>\n",
       "      <td>4613.0</td>\n",
       "      <td>731545.0</td>\n",
       "      <td>630.6</td>\n",
       "      <td>630.58</td>\n",
       "      <td>02</td>\n",
       "      <td>2019</td>\n",
       "      <td>AK</td>\n",
       "      <td>731545.0</td>\n",
       "    </tr>\n",
       "    <tr>\n",
       "      <th>44</th>\n",
       "      <td>Utah</td>\n",
       "      <td>18736.0</td>\n",
       "      <td>3205958.0</td>\n",
       "      <td>584.4</td>\n",
       "      <td>584.41</td>\n",
       "      <td>49</td>\n",
       "      <td>2019</td>\n",
       "      <td>UT</td>\n",
       "      <td>3205958.0</td>\n",
       "    </tr>\n",
       "  </tbody>\n",
       "</table>\n",
       "</div>"
      ],
      "text/plain": [
       "                   State    Deaths  Population  Crude Rate     Rate fips  \\\n",
       "48         West Virginia   23404.0   1792147.0      1305.9  1305.92   54   \n",
       "19                 Maine   15065.0   1344212.0      1120.7  1120.73   23   \n",
       "24           Mississippi   32964.0   2976149.0      1107.6  1107.61   28   \n",
       "0                Alabama   54108.0   4903185.0      1103.5  1103.53   01   \n",
       "17              Kentucky   48990.0   4467673.0      1096.5  1096.54   21   \n",
       "3               Arkansas   32888.0   3017804.0      1089.8  1089.80   05   \n",
       "35                  Ohio  123717.0  11689100.0      1058.4  1058.40   39   \n",
       "42             Tennessee   71935.0   6829174.0      1053.3  1053.35   47   \n",
       "38          Pennsylvania  133983.0  12801989.0      1046.6  1046.58   42   \n",
       "36              Oklahoma   40930.0   3956971.0      1034.4  1034.38   40   \n",
       "25              Missouri   62401.0   6137428.0      1016.7  1016.73   29   \n",
       "22              Michigan   99084.0   9986857.0       992.1   992.14   26   \n",
       "40        South Carolina   50962.0   5148714.0       989.8   989.80   45   \n",
       "18             Louisiana   45938.0   4648794.0       988.2   988.17   22   \n",
       "14               Indiana   66001.0   6732219.0       980.4   980.38   18   \n",
       "15                  Iowa   30867.0   3155070.0       978.3   978.33   19   \n",
       "26               Montana   10402.0   1068778.0       973.3   973.26   30   \n",
       "39          Rhode Island   10256.0   1059361.0       968.1   968.13   44   \n",
       "9                Florida  207002.0  21477737.0       963.8   963.80   12   \n",
       "7               Delaware    9302.0    973764.0       955.3   955.26   10   \n",
       "45               Vermont    5956.0    623989.0       954.5   954.50   50   \n",
       "16                Kansas   27682.0   2913314.0       950.2   950.19   20   \n",
       "29         New Hampshire   12744.0   1359711.0       937.3   937.26   33   \n",
       "41          South Dakota    8270.0    884659.0       934.8   934.82   46   \n",
       "49             Wisconsin   54189.0   5822434.0       930.7   930.69   55   \n",
       "31            New Mexico   19512.0   2096829.0       930.5   930.55   35   \n",
       "33        North Carolina   95881.0  10488084.0       914.2   914.19   37   \n",
       "6            Connecticut   31745.0   3565287.0       890.4   890.39   09   \n",
       "37                Oregon   37370.0   4217737.0       886.0   886.02   41   \n",
       "50               Wyoming    5121.0    578759.0       884.8   884.82   56   \n",
       "34          North Dakota    6702.0    762062.0       879.5   879.46   38   \n",
       "27              Nebraska   16970.0   1934408.0       877.3   877.27   31   \n",
       "13              Illinois  109096.0  12671821.0       860.9   860.93   17   \n",
       "21         Massachusetts   58630.0   6892503.0       850.6   850.63   25   \n",
       "30            New Jersey   75010.0   8882190.0       844.5   844.50   34   \n",
       "20              Maryland   50800.0   6045680.0       840.3   840.27   24   \n",
       "28                Nevada   25586.0   3080156.0       830.7   830.67   32   \n",
       "2                Arizona   60236.0   7278717.0       827.6   827.56   04   \n",
       "46              Virginia   70325.0   8535519.0       823.9   823.91   51   \n",
       "11                Hawaii   11559.0   1415872.0       816.4   816.39   15   \n",
       "10               Georgia   85814.0  10617423.0       808.2   808.24   13   \n",
       "12                 Idaho   14430.0   1787065.0       807.5   807.47   16   \n",
       "23             Minnesota   45514.0   5639632.0       807.0   807.04   27   \n",
       "32              New York  156375.0  19453561.0       803.8   803.84   36   \n",
       "47            Washington   58263.0   7614893.0       765.1   765.12   53   \n",
       "43                 Texas  203362.0  28995881.0       701.3   701.35   48   \n",
       "8   District of Columbia    4927.0    705749.0       698.1   698.12   11   \n",
       "5               Colorado   39390.0   5758736.0       684.0   684.00   08   \n",
       "4             California  269831.0  39512223.0       682.9   682.91   06   \n",
       "1                 Alaska    4613.0    731545.0       630.6   630.58   02   \n",
       "44                  Utah   18736.0   3205958.0       584.4   584.41   49   \n",
       "\n",
       "    Year State_Abv   Total Pop  \n",
       "48  2019        WV   1792147.0  \n",
       "19  2019        ME   1344212.0  \n",
       "24  2019        MS   2976149.0  \n",
       "0   2019        AL   4903185.0  \n",
       "17  2019        KY   4467673.0  \n",
       "3   2019        AR   3017804.0  \n",
       "35  2019        OH  11689100.0  \n",
       "42  2019        TN   6829174.0  \n",
       "38  2019        PA  12801989.0  \n",
       "36  2019        OK   3956971.0  \n",
       "25  2019        MO   6137428.0  \n",
       "22  2019        MI   9986857.0  \n",
       "40  2019        SC   5148714.0  \n",
       "18  2019        LA   4648794.0  \n",
       "14  2019        IN   6732219.0  \n",
       "15  2019        IA   3155070.0  \n",
       "26  2019        MT   1068778.0  \n",
       "39  2019        RI   1059361.0  \n",
       "9   2019        FL  21477737.0  \n",
       "7   2019        DE    973764.0  \n",
       "45  2019        VT    623989.0  \n",
       "16  2019        KS   2913314.0  \n",
       "29  2019        NH   1359711.0  \n",
       "41  2019        SD    884659.0  \n",
       "49  2019        WI   5822434.0  \n",
       "31  2019        NM   2096829.0  \n",
       "33  2019        NC  10488084.0  \n",
       "6   2019        CT   3565287.0  \n",
       "37  2019        OR   4217737.0  \n",
       "50  2019        WY    578759.0  \n",
       "34  2019        ND    762062.0  \n",
       "27  2019        NE   1934408.0  \n",
       "13  2019        IL  12671821.0  \n",
       "21  2019        MA   6892503.0  \n",
       "30  2019        NJ   8882190.0  \n",
       "20  2019        MD   6045680.0  \n",
       "28  2019        NV   3080156.0  \n",
       "2   2019        AZ   7278717.0  \n",
       "46  2019        VA   8535519.0  \n",
       "11  2019        HI   1415872.0  \n",
       "10  2019        GA  10617423.0  \n",
       "12  2019        ID   1787065.0  \n",
       "23  2019        MN   5639632.0  \n",
       "32  2019        NY  19453561.0  \n",
       "47  2019        WA   7614893.0  \n",
       "43  2019        TX  28995881.0  \n",
       "8   2019        DC    705749.0  \n",
       "5   2019        CO   5758736.0  \n",
       "4   2019        CA  39512223.0  \n",
       "1   2019        AK    731545.0  \n",
       "44  2019        UT   3205958.0  "
      ]
     },
     "execution_count": 85,
     "metadata": {},
     "output_type": "execute_result"
    }
   ],
   "source": [
    "state_pop"
   ]
  },
  {
   "cell_type": "code",
   "execution_count": 86,
   "metadata": {},
   "outputs": [
    {
     "name": "stderr",
     "output_type": "stream",
     "text": [
      "C:\\Users\\zeusg\\AppData\\Local\\Temp/ipykernel_38384/127021580.py:4: FutureWarning:\n",
      "\n",
      "The default value of numeric_only in DataFrameGroupBy.mean is deprecated. In a future version, numeric_only will default to False. Either specify numeric_only or select only columns which should be valid for the function.\n",
      "\n"
     ]
    }
   ],
   "source": [
    "part = Partisian.get_state_part_score()\n",
    "final = pd.merge(part, firearms, on=\"fips\")\n",
    "final[final[\"State_x\"] == \"VT\"]\n",
    "state_totals = final.groupby(by=[\"fips\",\"State_y\"]).mean().reset_index().sort_values(by=\"Rate\")\n",
    "state_totals[\"Rate\"] = (state_totals[\"Deaths\"]/state_totals[\"Total Pop\"])*100000"
   ]
  },
  {
   "cell_type": "code",
   "execution_count": 6,
   "metadata": {},
   "outputs": [
    {
     "data": {
      "application/vnd.plotly.v1+json": {
       "config": {
        "plotlyServerURL": "https://plot.ly"
       },
       "data": [
        {
         "hovertext": [
          "New Hampshire",
          "Minnesota",
          "Iowa",
          "Utah",
          "Massachusetts",
          "Oregon",
          "Maine",
          "Washington",
          "Idaho",
          "Hawaii",
          "New York",
          "Wisconsin",
          "Colorado",
          "New Jersey",
          "Connecticut",
          "Virginia",
          "Ohio",
          "California",
          "Rhode Island",
          "North Dakota",
          "Pennsylvania",
          "Texas",
          "Vermont",
          "Montana",
          "Kansas",
          "Kentucky",
          "Indiana",
          "Florida",
          "South Dakota",
          "Michigan",
          "West Virginia",
          "North Carolina",
          "Arizona",
          "Illinois",
          "Georgia",
          "Oklahoma",
          "Tennessee",
          "Missouri",
          "Nevada",
          "Wyoming",
          "South Carolina",
          "Arkansas",
          "Alaska",
          "Maryland",
          "New Mexico",
          "Alabama",
          "Delaware",
          "Mississippi",
          "Louisiana"
         ],
         "marker": {
          "color": [
           0.2,
           -0.26666666666666666,
           0.3333333333333333,
           1,
           -0.5333333333333333,
           -0.8666666666666667,
           -0.3333333333333333,
           -0.8666666666666667,
           1,
           -0.8666666666666667,
           -0.6666666666666666,
           0.4,
           -0.6,
           -0.4666666666666667,
           -0.7333333333333333,
           -0.13333333333333333,
           0.8666666666666667,
           -0.8666666666666667,
           -0.6666666666666666,
           1,
           0.26666666666666666,
           1,
           -0.4,
           0.2,
           0.5333333333333333,
           0.2,
           0.8666666666666666,
           1,
           1,
           0.39999999999999997,
           0,
           0.13333333333333333,
           0.8666666666666667,
           -0.7333333333333333,
           1,
           0.8666666666666667,
           0.8666666666666667,
           0.4666666666666666,
           -0.07142857142857142,
           0.8666666666666668,
           1,
           0.3333333333333333,
           0.4666666666666667,
           -0.5333333333333333,
           -0.4666666666666667,
           0.8666666666666668,
           -1,
           0.8,
           0.3333333333333333
          ],
          "colorscale": [
           [
            0,
            "rgb(0,0,255)"
           ],
           [
            1,
            "rgb(255,0,0)"
           ]
          ],
          "size": [
           1.359711,
           5.639632,
           3.15507,
           3.205958,
           6.892503,
           4.217737,
           1.344212,
           7.614893,
           1.787065,
           1.415872,
           19.453561,
           5.822434,
           5.758736,
           8.88219,
           3.565287,
           8.535519,
           11.6891,
           39.512223,
           1.059361,
           0.762062,
           12.801989,
           28.995881,
           0.623989,
           1.068778,
           2.913314,
           4.467673,
           6.732219,
           21.477737,
           0.884659,
           9.986857,
           1.792147,
           10.488084,
           7.278717,
           12.671821,
           10.617423,
           3.956971,
           6.829174,
           6.137428,
           3.080156,
           0.578759,
           5.148714,
           3.017804,
           0.731545,
           6.04568,
           2.096829,
           4.903185,
           0.973764,
           2.976149,
           4.648794
          ]
         },
         "mode": "markers",
         "type": "scatter",
         "x": [
          0.2,
          -0.26666666666666666,
          0.3333333333333333,
          1,
          -0.5333333333333333,
          -0.8666666666666667,
          -0.3333333333333333,
          -0.8666666666666667,
          1,
          -0.8666666666666667,
          -0.6666666666666666,
          0.4,
          -0.6,
          -0.4666666666666667,
          -0.7333333333333333,
          -0.13333333333333333,
          0.8666666666666667,
          -0.8666666666666667,
          -0.6666666666666666,
          1,
          0.26666666666666666,
          1,
          -0.4,
          0.2,
          0.5333333333333333,
          0.2,
          0.8666666666666666,
          1,
          1,
          0.39999999999999997,
          0,
          0.13333333333333333,
          0.8666666666666667,
          -0.7333333333333333,
          1,
          0.8666666666666667,
          0.8666666666666667,
          0.4666666666666666,
          -0.07142857142857142,
          0.8666666666666668,
          1,
          0.3333333333333333,
          0.4666666666666667,
          -0.5333333333333333,
          -0.4666666666666667,
          0.8666666666666668,
          -1,
          0.8,
          0.3333333333333333
         ],
         "y": [
          3.0606051297212873,
          1.5624202802303526,
          1.6415627174734215,
          1.689909155945829,
          1.7180085827086078,
          1.6510361750000921,
          2.6930275879102403,
          1.602464723089005,
          2.0272665755622445,
          2.2964142037052584,
          2.1017255664208676,
          2.2303651438820684,
          2.192761785204958,
          2.2697105105835385,
          2.499928606859129,
          2.476486226332018,
          2.7103365826998838,
          2.728328537257834,
          3.6511228399545983,
          11.514811130852872,
          2.7806362291519426,
          2.5982038380667096,
          21.955515241454577,
          3.44318464639055,
          3.1682132444357185,
          2.977235753259848,
          3.034094772643385,
          2.7160087177821652,
          4.019627901824319,
          3.3638396991677793,
          3.595725013969372,
          3.0548510942247344,
          3.092162635830744,
          3.754898001545098,
          3.40938071406803,
          3.6017317417661263,
          3.635224610670168,
          3.9186754183175947,
          3.570777169934796,
          8.69100955665484,
          3.958601568677765,
          4.2859677190154795,
          5.707858785933271,
          4.888222925948342,
          5.09193791049393,
          5.136967093837985,
          5.813637710072576,
          6.0838113662736815,
          6.606680192345636
         ]
        }
       ],
       "layout": {
        "template": {
         "data": {
          "bar": [
           {
            "error_x": {
             "color": "#2a3f5f"
            },
            "error_y": {
             "color": "#2a3f5f"
            },
            "marker": {
             "line": {
              "color": "#E5ECF6",
              "width": 0.5
             },
             "pattern": {
              "fillmode": "overlay",
              "size": 10,
              "solidity": 0.2
             }
            },
            "type": "bar"
           }
          ],
          "barpolar": [
           {
            "marker": {
             "line": {
              "color": "#E5ECF6",
              "width": 0.5
             },
             "pattern": {
              "fillmode": "overlay",
              "size": 10,
              "solidity": 0.2
             }
            },
            "type": "barpolar"
           }
          ],
          "carpet": [
           {
            "aaxis": {
             "endlinecolor": "#2a3f5f",
             "gridcolor": "white",
             "linecolor": "white",
             "minorgridcolor": "white",
             "startlinecolor": "#2a3f5f"
            },
            "baxis": {
             "endlinecolor": "#2a3f5f",
             "gridcolor": "white",
             "linecolor": "white",
             "minorgridcolor": "white",
             "startlinecolor": "#2a3f5f"
            },
            "type": "carpet"
           }
          ],
          "choropleth": [
           {
            "colorbar": {
             "outlinewidth": 0,
             "ticks": ""
            },
            "type": "choropleth"
           }
          ],
          "contour": [
           {
            "colorbar": {
             "outlinewidth": 0,
             "ticks": ""
            },
            "colorscale": [
             [
              0,
              "#0d0887"
             ],
             [
              0.1111111111111111,
              "#46039f"
             ],
             [
              0.2222222222222222,
              "#7201a8"
             ],
             [
              0.3333333333333333,
              "#9c179e"
             ],
             [
              0.4444444444444444,
              "#bd3786"
             ],
             [
              0.5555555555555556,
              "#d8576b"
             ],
             [
              0.6666666666666666,
              "#ed7953"
             ],
             [
              0.7777777777777778,
              "#fb9f3a"
             ],
             [
              0.8888888888888888,
              "#fdca26"
             ],
             [
              1,
              "#f0f921"
             ]
            ],
            "type": "contour"
           }
          ],
          "contourcarpet": [
           {
            "colorbar": {
             "outlinewidth": 0,
             "ticks": ""
            },
            "type": "contourcarpet"
           }
          ],
          "heatmap": [
           {
            "colorbar": {
             "outlinewidth": 0,
             "ticks": ""
            },
            "colorscale": [
             [
              0,
              "#0d0887"
             ],
             [
              0.1111111111111111,
              "#46039f"
             ],
             [
              0.2222222222222222,
              "#7201a8"
             ],
             [
              0.3333333333333333,
              "#9c179e"
             ],
             [
              0.4444444444444444,
              "#bd3786"
             ],
             [
              0.5555555555555556,
              "#d8576b"
             ],
             [
              0.6666666666666666,
              "#ed7953"
             ],
             [
              0.7777777777777778,
              "#fb9f3a"
             ],
             [
              0.8888888888888888,
              "#fdca26"
             ],
             [
              1,
              "#f0f921"
             ]
            ],
            "type": "heatmap"
           }
          ],
          "heatmapgl": [
           {
            "colorbar": {
             "outlinewidth": 0,
             "ticks": ""
            },
            "colorscale": [
             [
              0,
              "#0d0887"
             ],
             [
              0.1111111111111111,
              "#46039f"
             ],
             [
              0.2222222222222222,
              "#7201a8"
             ],
             [
              0.3333333333333333,
              "#9c179e"
             ],
             [
              0.4444444444444444,
              "#bd3786"
             ],
             [
              0.5555555555555556,
              "#d8576b"
             ],
             [
              0.6666666666666666,
              "#ed7953"
             ],
             [
              0.7777777777777778,
              "#fb9f3a"
             ],
             [
              0.8888888888888888,
              "#fdca26"
             ],
             [
              1,
              "#f0f921"
             ]
            ],
            "type": "heatmapgl"
           }
          ],
          "histogram": [
           {
            "marker": {
             "pattern": {
              "fillmode": "overlay",
              "size": 10,
              "solidity": 0.2
             }
            },
            "type": "histogram"
           }
          ],
          "histogram2d": [
           {
            "colorbar": {
             "outlinewidth": 0,
             "ticks": ""
            },
            "colorscale": [
             [
              0,
              "#0d0887"
             ],
             [
              0.1111111111111111,
              "#46039f"
             ],
             [
              0.2222222222222222,
              "#7201a8"
             ],
             [
              0.3333333333333333,
              "#9c179e"
             ],
             [
              0.4444444444444444,
              "#bd3786"
             ],
             [
              0.5555555555555556,
              "#d8576b"
             ],
             [
              0.6666666666666666,
              "#ed7953"
             ],
             [
              0.7777777777777778,
              "#fb9f3a"
             ],
             [
              0.8888888888888888,
              "#fdca26"
             ],
             [
              1,
              "#f0f921"
             ]
            ],
            "type": "histogram2d"
           }
          ],
          "histogram2dcontour": [
           {
            "colorbar": {
             "outlinewidth": 0,
             "ticks": ""
            },
            "colorscale": [
             [
              0,
              "#0d0887"
             ],
             [
              0.1111111111111111,
              "#46039f"
             ],
             [
              0.2222222222222222,
              "#7201a8"
             ],
             [
              0.3333333333333333,
              "#9c179e"
             ],
             [
              0.4444444444444444,
              "#bd3786"
             ],
             [
              0.5555555555555556,
              "#d8576b"
             ],
             [
              0.6666666666666666,
              "#ed7953"
             ],
             [
              0.7777777777777778,
              "#fb9f3a"
             ],
             [
              0.8888888888888888,
              "#fdca26"
             ],
             [
              1,
              "#f0f921"
             ]
            ],
            "type": "histogram2dcontour"
           }
          ],
          "mesh3d": [
           {
            "colorbar": {
             "outlinewidth": 0,
             "ticks": ""
            },
            "type": "mesh3d"
           }
          ],
          "parcoords": [
           {
            "line": {
             "colorbar": {
              "outlinewidth": 0,
              "ticks": ""
             }
            },
            "type": "parcoords"
           }
          ],
          "pie": [
           {
            "automargin": true,
            "type": "pie"
           }
          ],
          "scatter": [
           {
            "marker": {
             "colorbar": {
              "outlinewidth": 0,
              "ticks": ""
             }
            },
            "type": "scatter"
           }
          ],
          "scatter3d": [
           {
            "line": {
             "colorbar": {
              "outlinewidth": 0,
              "ticks": ""
             }
            },
            "marker": {
             "colorbar": {
              "outlinewidth": 0,
              "ticks": ""
             }
            },
            "type": "scatter3d"
           }
          ],
          "scattercarpet": [
           {
            "marker": {
             "colorbar": {
              "outlinewidth": 0,
              "ticks": ""
             }
            },
            "type": "scattercarpet"
           }
          ],
          "scattergeo": [
           {
            "marker": {
             "colorbar": {
              "outlinewidth": 0,
              "ticks": ""
             }
            },
            "type": "scattergeo"
           }
          ],
          "scattergl": [
           {
            "marker": {
             "colorbar": {
              "outlinewidth": 0,
              "ticks": ""
             }
            },
            "type": "scattergl"
           }
          ],
          "scattermapbox": [
           {
            "marker": {
             "colorbar": {
              "outlinewidth": 0,
              "ticks": ""
             }
            },
            "type": "scattermapbox"
           }
          ],
          "scatterpolar": [
           {
            "marker": {
             "colorbar": {
              "outlinewidth": 0,
              "ticks": ""
             }
            },
            "type": "scatterpolar"
           }
          ],
          "scatterpolargl": [
           {
            "marker": {
             "colorbar": {
              "outlinewidth": 0,
              "ticks": ""
             }
            },
            "type": "scatterpolargl"
           }
          ],
          "scatterternary": [
           {
            "marker": {
             "colorbar": {
              "outlinewidth": 0,
              "ticks": ""
             }
            },
            "type": "scatterternary"
           }
          ],
          "surface": [
           {
            "colorbar": {
             "outlinewidth": 0,
             "ticks": ""
            },
            "colorscale": [
             [
              0,
              "#0d0887"
             ],
             [
              0.1111111111111111,
              "#46039f"
             ],
             [
              0.2222222222222222,
              "#7201a8"
             ],
             [
              0.3333333333333333,
              "#9c179e"
             ],
             [
              0.4444444444444444,
              "#bd3786"
             ],
             [
              0.5555555555555556,
              "#d8576b"
             ],
             [
              0.6666666666666666,
              "#ed7953"
             ],
             [
              0.7777777777777778,
              "#fb9f3a"
             ],
             [
              0.8888888888888888,
              "#fdca26"
             ],
             [
              1,
              "#f0f921"
             ]
            ],
            "type": "surface"
           }
          ],
          "table": [
           {
            "cells": {
             "fill": {
              "color": "#EBF0F8"
             },
             "line": {
              "color": "white"
             }
            },
            "header": {
             "fill": {
              "color": "#C8D4E3"
             },
             "line": {
              "color": "white"
             }
            },
            "type": "table"
           }
          ]
         },
         "layout": {
          "annotationdefaults": {
           "arrowcolor": "#2a3f5f",
           "arrowhead": 0,
           "arrowwidth": 1
          },
          "autotypenumbers": "strict",
          "coloraxis": {
           "colorbar": {
            "outlinewidth": 0,
            "ticks": ""
           }
          },
          "colorscale": {
           "diverging": [
            [
             0,
             "#8e0152"
            ],
            [
             0.1,
             "#c51b7d"
            ],
            [
             0.2,
             "#de77ae"
            ],
            [
             0.3,
             "#f1b6da"
            ],
            [
             0.4,
             "#fde0ef"
            ],
            [
             0.5,
             "#f7f7f7"
            ],
            [
             0.6,
             "#e6f5d0"
            ],
            [
             0.7,
             "#b8e186"
            ],
            [
             0.8,
             "#7fbc41"
            ],
            [
             0.9,
             "#4d9221"
            ],
            [
             1,
             "#276419"
            ]
           ],
           "sequential": [
            [
             0,
             "#0d0887"
            ],
            [
             0.1111111111111111,
             "#46039f"
            ],
            [
             0.2222222222222222,
             "#7201a8"
            ],
            [
             0.3333333333333333,
             "#9c179e"
            ],
            [
             0.4444444444444444,
             "#bd3786"
            ],
            [
             0.5555555555555556,
             "#d8576b"
            ],
            [
             0.6666666666666666,
             "#ed7953"
            ],
            [
             0.7777777777777778,
             "#fb9f3a"
            ],
            [
             0.8888888888888888,
             "#fdca26"
            ],
            [
             1,
             "#f0f921"
            ]
           ],
           "sequentialminus": [
            [
             0,
             "#0d0887"
            ],
            [
             0.1111111111111111,
             "#46039f"
            ],
            [
             0.2222222222222222,
             "#7201a8"
            ],
            [
             0.3333333333333333,
             "#9c179e"
            ],
            [
             0.4444444444444444,
             "#bd3786"
            ],
            [
             0.5555555555555556,
             "#d8576b"
            ],
            [
             0.6666666666666666,
             "#ed7953"
            ],
            [
             0.7777777777777778,
             "#fb9f3a"
            ],
            [
             0.8888888888888888,
             "#fdca26"
            ],
            [
             1,
             "#f0f921"
            ]
           ]
          },
          "colorway": [
           "#636efa",
           "#EF553B",
           "#00cc96",
           "#ab63fa",
           "#FFA15A",
           "#19d3f3",
           "#FF6692",
           "#B6E880",
           "#FF97FF",
           "#FECB52"
          ],
          "font": {
           "color": "#2a3f5f"
          },
          "geo": {
           "bgcolor": "white",
           "lakecolor": "white",
           "landcolor": "#E5ECF6",
           "showlakes": true,
           "showland": true,
           "subunitcolor": "white"
          },
          "hoverlabel": {
           "align": "left"
          },
          "hovermode": "closest",
          "mapbox": {
           "style": "light"
          },
          "paper_bgcolor": "white",
          "plot_bgcolor": "#E5ECF6",
          "polar": {
           "angularaxis": {
            "gridcolor": "white",
            "linecolor": "white",
            "ticks": ""
           },
           "bgcolor": "#E5ECF6",
           "radialaxis": {
            "gridcolor": "white",
            "linecolor": "white",
            "ticks": ""
           }
          },
          "scene": {
           "xaxis": {
            "backgroundcolor": "#E5ECF6",
            "gridcolor": "white",
            "gridwidth": 2,
            "linecolor": "white",
            "showbackground": true,
            "ticks": "",
            "zerolinecolor": "white"
           },
           "yaxis": {
            "backgroundcolor": "#E5ECF6",
            "gridcolor": "white",
            "gridwidth": 2,
            "linecolor": "white",
            "showbackground": true,
            "ticks": "",
            "zerolinecolor": "white"
           },
           "zaxis": {
            "backgroundcolor": "#E5ECF6",
            "gridcolor": "white",
            "gridwidth": 2,
            "linecolor": "white",
            "showbackground": true,
            "ticks": "",
            "zerolinecolor": "white"
           }
          },
          "shapedefaults": {
           "line": {
            "color": "#2a3f5f"
           }
          },
          "ternary": {
           "aaxis": {
            "gridcolor": "white",
            "linecolor": "white",
            "ticks": ""
           },
           "baxis": {
            "gridcolor": "white",
            "linecolor": "white",
            "ticks": ""
           },
           "bgcolor": "#E5ECF6",
           "caxis": {
            "gridcolor": "white",
            "linecolor": "white",
            "ticks": ""
           }
          },
          "title": {
           "x": 0.05
          },
          "xaxis": {
           "automargin": true,
           "gridcolor": "white",
           "linecolor": "white",
           "ticks": "",
           "title": {
            "standoff": 15
           },
           "zerolinecolor": "white",
           "zerolinewidth": 2
          },
          "yaxis": {
           "automargin": true,
           "gridcolor": "white",
           "linecolor": "white",
           "ticks": "",
           "title": {
            "standoff": 15
           },
           "zerolinecolor": "white",
           "zerolinewidth": 2
          }
         }
        }
       }
      }
     },
     "metadata": {},
     "output_type": "display_data"
    }
   ],
   "source": [
    "fig = go.Figure()\n",
    "fig.add_trace(go.Scatter(x=state_totals[\"Part_Score\"], y=state_totals[\"Rate\"], mode = \"markers\",  hovertext=state_totals[\"State_y\"], marker=dict(size=state_totals[\"Total Pop\"]/1000000, colorscale='bluered', color=state_totals[\"Part_Score\"])))"
   ]
  },
  {
   "cell_type": "code",
   "execution_count": 7,
   "metadata": {},
   "outputs": [
    {
     "data": {
      "application/vnd.plotly.v1+json": {
       "config": {
        "plotlyServerURL": "https://plot.ly"
       },
       "data": [
        {
         "name": "Rate",
         "type": "bar",
         "x": [
          "Vermont",
          "North Dakota",
          "Wyoming",
          "Louisiana",
          "Mississippi",
          "Delaware",
          "Alaska",
          "Alabama",
          "New Mexico",
          "Maryland",
          "Arkansas",
          "South Dakota",
          "South Carolina",
          "Missouri",
          "Illinois",
          "Rhode Island",
          "Tennessee",
          "Oklahoma",
          "West Virginia",
          "Nevada",
          "Montana",
          "Georgia",
          "Michigan",
          "Kansas",
          "Arizona",
          "New Hampshire",
          "North Carolina",
          "Indiana",
          "Kentucky",
          "Pennsylvania",
          "California",
          "Florida",
          "Ohio",
          "Maine",
          "Texas",
          "Connecticut",
          "Virginia",
          "Hawaii",
          "New Jersey",
          "Wisconsin",
          "Colorado",
          "New York",
          "Idaho",
          "Massachusetts",
          "Utah",
          "Oregon",
          "Iowa",
          "Washington",
          "Minnesota"
         ],
         "y": [
          21.955515241454577,
          11.514811130852872,
          8.69100955665484,
          6.606680192345636,
          6.0838113662736815,
          5.813637710072576,
          5.707858785933271,
          5.136967093837985,
          5.09193791049393,
          4.888222925948342,
          4.2859677190154795,
          4.019627901824319,
          3.958601568677765,
          3.9186754183175947,
          3.754898001545098,
          3.6511228399545983,
          3.635224610670168,
          3.6017317417661263,
          3.595725013969372,
          3.570777169934796,
          3.44318464639055,
          3.40938071406803,
          3.3638396991677793,
          3.1682132444357185,
          3.092162635830744,
          3.0606051297212873,
          3.0548510942247344,
          3.034094772643385,
          2.977235753259848,
          2.7806362291519426,
          2.728328537257834,
          2.7160087177821652,
          2.7103365826998838,
          2.6930275879102403,
          2.5982038380667096,
          2.499928606859129,
          2.476486226332018,
          2.2964142037052584,
          2.2697105105835385,
          2.2303651438820684,
          2.192761785204958,
          2.1017255664208676,
          2.0272665755622445,
          1.7180085827086078,
          1.689909155945829,
          1.6510361750000921,
          1.6415627174734215,
          1.602464723089005,
          1.5624202802303526
         ]
        }
       ],
       "layout": {
        "template": {
         "data": {
          "bar": [
           {
            "error_x": {
             "color": "#2a3f5f"
            },
            "error_y": {
             "color": "#2a3f5f"
            },
            "marker": {
             "line": {
              "color": "#E5ECF6",
              "width": 0.5
             },
             "pattern": {
              "fillmode": "overlay",
              "size": 10,
              "solidity": 0.2
             }
            },
            "type": "bar"
           }
          ],
          "barpolar": [
           {
            "marker": {
             "line": {
              "color": "#E5ECF6",
              "width": 0.5
             },
             "pattern": {
              "fillmode": "overlay",
              "size": 10,
              "solidity": 0.2
             }
            },
            "type": "barpolar"
           }
          ],
          "carpet": [
           {
            "aaxis": {
             "endlinecolor": "#2a3f5f",
             "gridcolor": "white",
             "linecolor": "white",
             "minorgridcolor": "white",
             "startlinecolor": "#2a3f5f"
            },
            "baxis": {
             "endlinecolor": "#2a3f5f",
             "gridcolor": "white",
             "linecolor": "white",
             "minorgridcolor": "white",
             "startlinecolor": "#2a3f5f"
            },
            "type": "carpet"
           }
          ],
          "choropleth": [
           {
            "colorbar": {
             "outlinewidth": 0,
             "ticks": ""
            },
            "type": "choropleth"
           }
          ],
          "contour": [
           {
            "colorbar": {
             "outlinewidth": 0,
             "ticks": ""
            },
            "colorscale": [
             [
              0,
              "#0d0887"
             ],
             [
              0.1111111111111111,
              "#46039f"
             ],
             [
              0.2222222222222222,
              "#7201a8"
             ],
             [
              0.3333333333333333,
              "#9c179e"
             ],
             [
              0.4444444444444444,
              "#bd3786"
             ],
             [
              0.5555555555555556,
              "#d8576b"
             ],
             [
              0.6666666666666666,
              "#ed7953"
             ],
             [
              0.7777777777777778,
              "#fb9f3a"
             ],
             [
              0.8888888888888888,
              "#fdca26"
             ],
             [
              1,
              "#f0f921"
             ]
            ],
            "type": "contour"
           }
          ],
          "contourcarpet": [
           {
            "colorbar": {
             "outlinewidth": 0,
             "ticks": ""
            },
            "type": "contourcarpet"
           }
          ],
          "heatmap": [
           {
            "colorbar": {
             "outlinewidth": 0,
             "ticks": ""
            },
            "colorscale": [
             [
              0,
              "#0d0887"
             ],
             [
              0.1111111111111111,
              "#46039f"
             ],
             [
              0.2222222222222222,
              "#7201a8"
             ],
             [
              0.3333333333333333,
              "#9c179e"
             ],
             [
              0.4444444444444444,
              "#bd3786"
             ],
             [
              0.5555555555555556,
              "#d8576b"
             ],
             [
              0.6666666666666666,
              "#ed7953"
             ],
             [
              0.7777777777777778,
              "#fb9f3a"
             ],
             [
              0.8888888888888888,
              "#fdca26"
             ],
             [
              1,
              "#f0f921"
             ]
            ],
            "type": "heatmap"
           }
          ],
          "heatmapgl": [
           {
            "colorbar": {
             "outlinewidth": 0,
             "ticks": ""
            },
            "colorscale": [
             [
              0,
              "#0d0887"
             ],
             [
              0.1111111111111111,
              "#46039f"
             ],
             [
              0.2222222222222222,
              "#7201a8"
             ],
             [
              0.3333333333333333,
              "#9c179e"
             ],
             [
              0.4444444444444444,
              "#bd3786"
             ],
             [
              0.5555555555555556,
              "#d8576b"
             ],
             [
              0.6666666666666666,
              "#ed7953"
             ],
             [
              0.7777777777777778,
              "#fb9f3a"
             ],
             [
              0.8888888888888888,
              "#fdca26"
             ],
             [
              1,
              "#f0f921"
             ]
            ],
            "type": "heatmapgl"
           }
          ],
          "histogram": [
           {
            "marker": {
             "pattern": {
              "fillmode": "overlay",
              "size": 10,
              "solidity": 0.2
             }
            },
            "type": "histogram"
           }
          ],
          "histogram2d": [
           {
            "colorbar": {
             "outlinewidth": 0,
             "ticks": ""
            },
            "colorscale": [
             [
              0,
              "#0d0887"
             ],
             [
              0.1111111111111111,
              "#46039f"
             ],
             [
              0.2222222222222222,
              "#7201a8"
             ],
             [
              0.3333333333333333,
              "#9c179e"
             ],
             [
              0.4444444444444444,
              "#bd3786"
             ],
             [
              0.5555555555555556,
              "#d8576b"
             ],
             [
              0.6666666666666666,
              "#ed7953"
             ],
             [
              0.7777777777777778,
              "#fb9f3a"
             ],
             [
              0.8888888888888888,
              "#fdca26"
             ],
             [
              1,
              "#f0f921"
             ]
            ],
            "type": "histogram2d"
           }
          ],
          "histogram2dcontour": [
           {
            "colorbar": {
             "outlinewidth": 0,
             "ticks": ""
            },
            "colorscale": [
             [
              0,
              "#0d0887"
             ],
             [
              0.1111111111111111,
              "#46039f"
             ],
             [
              0.2222222222222222,
              "#7201a8"
             ],
             [
              0.3333333333333333,
              "#9c179e"
             ],
             [
              0.4444444444444444,
              "#bd3786"
             ],
             [
              0.5555555555555556,
              "#d8576b"
             ],
             [
              0.6666666666666666,
              "#ed7953"
             ],
             [
              0.7777777777777778,
              "#fb9f3a"
             ],
             [
              0.8888888888888888,
              "#fdca26"
             ],
             [
              1,
              "#f0f921"
             ]
            ],
            "type": "histogram2dcontour"
           }
          ],
          "mesh3d": [
           {
            "colorbar": {
             "outlinewidth": 0,
             "ticks": ""
            },
            "type": "mesh3d"
           }
          ],
          "parcoords": [
           {
            "line": {
             "colorbar": {
              "outlinewidth": 0,
              "ticks": ""
             }
            },
            "type": "parcoords"
           }
          ],
          "pie": [
           {
            "automargin": true,
            "type": "pie"
           }
          ],
          "scatter": [
           {
            "marker": {
             "colorbar": {
              "outlinewidth": 0,
              "ticks": ""
             }
            },
            "type": "scatter"
           }
          ],
          "scatter3d": [
           {
            "line": {
             "colorbar": {
              "outlinewidth": 0,
              "ticks": ""
             }
            },
            "marker": {
             "colorbar": {
              "outlinewidth": 0,
              "ticks": ""
             }
            },
            "type": "scatter3d"
           }
          ],
          "scattercarpet": [
           {
            "marker": {
             "colorbar": {
              "outlinewidth": 0,
              "ticks": ""
             }
            },
            "type": "scattercarpet"
           }
          ],
          "scattergeo": [
           {
            "marker": {
             "colorbar": {
              "outlinewidth": 0,
              "ticks": ""
             }
            },
            "type": "scattergeo"
           }
          ],
          "scattergl": [
           {
            "marker": {
             "colorbar": {
              "outlinewidth": 0,
              "ticks": ""
             }
            },
            "type": "scattergl"
           }
          ],
          "scattermapbox": [
           {
            "marker": {
             "colorbar": {
              "outlinewidth": 0,
              "ticks": ""
             }
            },
            "type": "scattermapbox"
           }
          ],
          "scatterpolar": [
           {
            "marker": {
             "colorbar": {
              "outlinewidth": 0,
              "ticks": ""
             }
            },
            "type": "scatterpolar"
           }
          ],
          "scatterpolargl": [
           {
            "marker": {
             "colorbar": {
              "outlinewidth": 0,
              "ticks": ""
             }
            },
            "type": "scatterpolargl"
           }
          ],
          "scatterternary": [
           {
            "marker": {
             "colorbar": {
              "outlinewidth": 0,
              "ticks": ""
             }
            },
            "type": "scatterternary"
           }
          ],
          "surface": [
           {
            "colorbar": {
             "outlinewidth": 0,
             "ticks": ""
            },
            "colorscale": [
             [
              0,
              "#0d0887"
             ],
             [
              0.1111111111111111,
              "#46039f"
             ],
             [
              0.2222222222222222,
              "#7201a8"
             ],
             [
              0.3333333333333333,
              "#9c179e"
             ],
             [
              0.4444444444444444,
              "#bd3786"
             ],
             [
              0.5555555555555556,
              "#d8576b"
             ],
             [
              0.6666666666666666,
              "#ed7953"
             ],
             [
              0.7777777777777778,
              "#fb9f3a"
             ],
             [
              0.8888888888888888,
              "#fdca26"
             ],
             [
              1,
              "#f0f921"
             ]
            ],
            "type": "surface"
           }
          ],
          "table": [
           {
            "cells": {
             "fill": {
              "color": "#EBF0F8"
             },
             "line": {
              "color": "white"
             }
            },
            "header": {
             "fill": {
              "color": "#C8D4E3"
             },
             "line": {
              "color": "white"
             }
            },
            "type": "table"
           }
          ]
         },
         "layout": {
          "annotationdefaults": {
           "arrowcolor": "#2a3f5f",
           "arrowhead": 0,
           "arrowwidth": 1
          },
          "autotypenumbers": "strict",
          "coloraxis": {
           "colorbar": {
            "outlinewidth": 0,
            "ticks": ""
           }
          },
          "colorscale": {
           "diverging": [
            [
             0,
             "#8e0152"
            ],
            [
             0.1,
             "#c51b7d"
            ],
            [
             0.2,
             "#de77ae"
            ],
            [
             0.3,
             "#f1b6da"
            ],
            [
             0.4,
             "#fde0ef"
            ],
            [
             0.5,
             "#f7f7f7"
            ],
            [
             0.6,
             "#e6f5d0"
            ],
            [
             0.7,
             "#b8e186"
            ],
            [
             0.8,
             "#7fbc41"
            ],
            [
             0.9,
             "#4d9221"
            ],
            [
             1,
             "#276419"
            ]
           ],
           "sequential": [
            [
             0,
             "#0d0887"
            ],
            [
             0.1111111111111111,
             "#46039f"
            ],
            [
             0.2222222222222222,
             "#7201a8"
            ],
            [
             0.3333333333333333,
             "#9c179e"
            ],
            [
             0.4444444444444444,
             "#bd3786"
            ],
            [
             0.5555555555555556,
             "#d8576b"
            ],
            [
             0.6666666666666666,
             "#ed7953"
            ],
            [
             0.7777777777777778,
             "#fb9f3a"
            ],
            [
             0.8888888888888888,
             "#fdca26"
            ],
            [
             1,
             "#f0f921"
            ]
           ],
           "sequentialminus": [
            [
             0,
             "#0d0887"
            ],
            [
             0.1111111111111111,
             "#46039f"
            ],
            [
             0.2222222222222222,
             "#7201a8"
            ],
            [
             0.3333333333333333,
             "#9c179e"
            ],
            [
             0.4444444444444444,
             "#bd3786"
            ],
            [
             0.5555555555555556,
             "#d8576b"
            ],
            [
             0.6666666666666666,
             "#ed7953"
            ],
            [
             0.7777777777777778,
             "#fb9f3a"
            ],
            [
             0.8888888888888888,
             "#fdca26"
            ],
            [
             1,
             "#f0f921"
            ]
           ]
          },
          "colorway": [
           "#636efa",
           "#EF553B",
           "#00cc96",
           "#ab63fa",
           "#FFA15A",
           "#19d3f3",
           "#FF6692",
           "#B6E880",
           "#FF97FF",
           "#FECB52"
          ],
          "font": {
           "color": "#2a3f5f"
          },
          "geo": {
           "bgcolor": "white",
           "lakecolor": "white",
           "landcolor": "#E5ECF6",
           "showlakes": true,
           "showland": true,
           "subunitcolor": "white"
          },
          "hoverlabel": {
           "align": "left"
          },
          "hovermode": "closest",
          "mapbox": {
           "style": "light"
          },
          "paper_bgcolor": "white",
          "plot_bgcolor": "#E5ECF6",
          "polar": {
           "angularaxis": {
            "gridcolor": "white",
            "linecolor": "white",
            "ticks": ""
           },
           "bgcolor": "#E5ECF6",
           "radialaxis": {
            "gridcolor": "white",
            "linecolor": "white",
            "ticks": ""
           }
          },
          "scene": {
           "xaxis": {
            "backgroundcolor": "#E5ECF6",
            "gridcolor": "white",
            "gridwidth": 2,
            "linecolor": "white",
            "showbackground": true,
            "ticks": "",
            "zerolinecolor": "white"
           },
           "yaxis": {
            "backgroundcolor": "#E5ECF6",
            "gridcolor": "white",
            "gridwidth": 2,
            "linecolor": "white",
            "showbackground": true,
            "ticks": "",
            "zerolinecolor": "white"
           },
           "zaxis": {
            "backgroundcolor": "#E5ECF6",
            "gridcolor": "white",
            "gridwidth": 2,
            "linecolor": "white",
            "showbackground": true,
            "ticks": "",
            "zerolinecolor": "white"
           }
          },
          "shapedefaults": {
           "line": {
            "color": "#2a3f5f"
           }
          },
          "ternary": {
           "aaxis": {
            "gridcolor": "white",
            "linecolor": "white",
            "ticks": ""
           },
           "baxis": {
            "gridcolor": "white",
            "linecolor": "white",
            "ticks": ""
           },
           "bgcolor": "#E5ECF6",
           "caxis": {
            "gridcolor": "white",
            "linecolor": "white",
            "ticks": ""
           }
          },
          "title": {
           "x": 0.05
          },
          "xaxis": {
           "automargin": true,
           "gridcolor": "white",
           "linecolor": "white",
           "ticks": "",
           "title": {
            "standoff": 15
           },
           "zerolinecolor": "white",
           "zerolinewidth": 2
          },
          "yaxis": {
           "automargin": true,
           "gridcolor": "white",
           "linecolor": "white",
           "ticks": "",
           "title": {
            "standoff": 15
           },
           "zerolinecolor": "white",
           "zerolinewidth": 2
          }
         }
        }
       }
      }
     },
     "metadata": {},
     "output_type": "display_data"
    }
   ],
   "source": [
    "state_totals.sort_values(\"Rate\", ascending=False, inplace=True)\n",
    "fig = go.Figure()\n",
    "fig.add_trace(go.Bar(x=state_totals[\"State_y\"], y=state_totals[\"Rate\"], name=\"Rate\"))\n",
    "fig.show()"
   ]
  },
  {
   "cell_type": "code",
   "execution_count": 8,
   "metadata": {},
   "outputs": [
    {
     "data": {
      "text/html": [
       "<div>\n",
       "<style scoped>\n",
       "    .dataframe tbody tr th:only-of-type {\n",
       "        vertical-align: middle;\n",
       "    }\n",
       "\n",
       "    .dataframe tbody tr th {\n",
       "        vertical-align: top;\n",
       "    }\n",
       "\n",
       "    .dataframe thead th {\n",
       "        text-align: right;\n",
       "    }\n",
       "</style>\n",
       "<table border=\"1\" class=\"dataframe\">\n",
       "  <thead>\n",
       "    <tr style=\"text-align: right;\">\n",
       "      <th></th>\n",
       "      <th>fips</th>\n",
       "      <th>State_y</th>\n",
       "      <th>Part_Score</th>\n",
       "      <th>Year_x</th>\n",
       "      <th>Deaths</th>\n",
       "      <th>Population</th>\n",
       "      <th>Rate</th>\n",
       "      <th>Year_y</th>\n",
       "      <th>Total Pop</th>\n",
       "    </tr>\n",
       "  </thead>\n",
       "  <tbody>\n",
       "    <tr>\n",
       "      <th>43</th>\n",
       "      <td>50</td>\n",
       "      <td>Vermont</td>\n",
       "      <td>-0.4</td>\n",
       "      <td>2024.0</td>\n",
       "      <td>137.0</td>\n",
       "      <td>6904365.5</td>\n",
       "      <td>21.955515</td>\n",
       "      <td>2019.0</td>\n",
       "      <td>623989.0</td>\n",
       "    </tr>\n",
       "  </tbody>\n",
       "</table>\n",
       "</div>"
      ],
      "text/plain": [
       "   fips  State_y  Part_Score  Year_x  Deaths  Population       Rate  Year_y  \\\n",
       "43   50  Vermont        -0.4  2024.0   137.0   6904365.5  21.955515  2019.0   \n",
       "\n",
       "    Total Pop  \n",
       "43   623989.0  "
      ]
     },
     "execution_count": 8,
     "metadata": {},
     "output_type": "execute_result"
    }
   ],
   "source": [
    "state_totals[state_totals[\"State_y\"] == \"Vermont\"]"
   ]
  },
  {
   "cell_type": "code",
   "execution_count": 9,
   "metadata": {},
   "outputs": [
    {
     "data": {
      "text/html": [
       "<div>\n",
       "<style scoped>\n",
       "    .dataframe tbody tr th:only-of-type {\n",
       "        vertical-align: middle;\n",
       "    }\n",
       "\n",
       "    .dataframe tbody tr th {\n",
       "        vertical-align: top;\n",
       "    }\n",
       "\n",
       "    .dataframe thead th {\n",
       "        text-align: right;\n",
       "    }\n",
       "</style>\n",
       "<table border=\"1\" class=\"dataframe\">\n",
       "  <thead>\n",
       "    <tr style=\"text-align: right;\">\n",
       "      <th></th>\n",
       "      <th>fips</th>\n",
       "      <th>State_y</th>\n",
       "      <th>Part_Score</th>\n",
       "      <th>Year_x</th>\n",
       "      <th>Deaths</th>\n",
       "      <th>Population</th>\n",
       "      <th>Rate</th>\n",
       "      <th>Year_y</th>\n",
       "      <th>Total Pop</th>\n",
       "    </tr>\n",
       "  </thead>\n",
       "  <tbody>\n",
       "    <tr>\n",
       "      <th>43</th>\n",
       "      <td>50</td>\n",
       "      <td>Vermont</td>\n",
       "      <td>-0.400000</td>\n",
       "      <td>2024.0</td>\n",
       "      <td>137.000000</td>\n",
       "      <td>6.904366e+06</td>\n",
       "      <td>21.955515</td>\n",
       "      <td>2019.0</td>\n",
       "      <td>623989.0</td>\n",
       "    </tr>\n",
       "    <tr>\n",
       "      <th>32</th>\n",
       "      <td>38</td>\n",
       "      <td>North Dakota</td>\n",
       "      <td>1.000000</td>\n",
       "      <td>2024.0</td>\n",
       "      <td>87.750000</td>\n",
       "      <td>3.945920e+06</td>\n",
       "      <td>11.514811</td>\n",
       "      <td>2019.0</td>\n",
       "      <td>762062.0</td>\n",
       "    </tr>\n",
       "    <tr>\n",
       "      <th>48</th>\n",
       "      <td>56</td>\n",
       "      <td>Wyoming</td>\n",
       "      <td>0.866667</td>\n",
       "      <td>2024.0</td>\n",
       "      <td>50.300000</td>\n",
       "      <td>1.349089e+06</td>\n",
       "      <td>8.691010</td>\n",
       "      <td>2019.0</td>\n",
       "      <td>578759.0</td>\n",
       "    </tr>\n",
       "    <tr>\n",
       "      <th>17</th>\n",
       "      <td>22</td>\n",
       "      <td>Louisiana</td>\n",
       "      <td>0.333333</td>\n",
       "      <td>2024.0</td>\n",
       "      <td>307.130952</td>\n",
       "      <td>2.346557e+06</td>\n",
       "      <td>6.606680</td>\n",
       "      <td>2019.0</td>\n",
       "      <td>4648794.0</td>\n",
       "    </tr>\n",
       "    <tr>\n",
       "      <th>23</th>\n",
       "      <td>28</td>\n",
       "      <td>Mississippi</td>\n",
       "      <td>0.800000</td>\n",
       "      <td>2024.0</td>\n",
       "      <td>181.063291</td>\n",
       "      <td>1.558334e+06</td>\n",
       "      <td>6.083811</td>\n",
       "      <td>2019.0</td>\n",
       "      <td>2976149.0</td>\n",
       "    </tr>\n",
       "    <tr>\n",
       "      <th>7</th>\n",
       "      <td>10</td>\n",
       "      <td>Delaware</td>\n",
       "      <td>-1.000000</td>\n",
       "      <td>2024.0</td>\n",
       "      <td>56.611111</td>\n",
       "      <td>7.961586e+05</td>\n",
       "      <td>5.813638</td>\n",
       "      <td>2019.0</td>\n",
       "      <td>973764.0</td>\n",
       "    </tr>\n",
       "    <tr>\n",
       "      <th>1</th>\n",
       "      <td>02</td>\n",
       "      <td>Alaska</td>\n",
       "      <td>0.466667</td>\n",
       "      <td>2024.0</td>\n",
       "      <td>41.755556</td>\n",
       "      <td>5.553994e+05</td>\n",
       "      <td>5.707859</td>\n",
       "      <td>2019.0</td>\n",
       "      <td>731545.0</td>\n",
       "    </tr>\n",
       "    <tr>\n",
       "      <th>0</th>\n",
       "      <td>01</td>\n",
       "      <td>Alabama</td>\n",
       "      <td>0.866667</td>\n",
       "      <td>2024.0</td>\n",
       "      <td>251.875000</td>\n",
       "      <td>2.504941e+06</td>\n",
       "      <td>5.136967</td>\n",
       "      <td>2019.0</td>\n",
       "      <td>4903185.0</td>\n",
       "    </tr>\n",
       "    <tr>\n",
       "      <th>29</th>\n",
       "      <td>35</td>\n",
       "      <td>New Mexico</td>\n",
       "      <td>-0.466667</td>\n",
       "      <td>2024.0</td>\n",
       "      <td>106.769231</td>\n",
       "      <td>1.217324e+06</td>\n",
       "      <td>5.091938</td>\n",
       "      <td>2019.0</td>\n",
       "      <td>2096829.0</td>\n",
       "    </tr>\n",
       "    <tr>\n",
       "      <th>19</th>\n",
       "      <td>24</td>\n",
       "      <td>Maryland</td>\n",
       "      <td>-0.533333</td>\n",
       "      <td>2024.0</td>\n",
       "      <td>295.526316</td>\n",
       "      <td>3.157371e+06</td>\n",
       "      <td>4.888223</td>\n",
       "      <td>2019.0</td>\n",
       "      <td>6045680.0</td>\n",
       "    </tr>\n",
       "    <tr>\n",
       "      <th>3</th>\n",
       "      <td>05</td>\n",
       "      <td>Arkansas</td>\n",
       "      <td>0.333333</td>\n",
       "      <td>2024.0</td>\n",
       "      <td>129.342105</td>\n",
       "      <td>1.567464e+06</td>\n",
       "      <td>4.285968</td>\n",
       "      <td>2019.0</td>\n",
       "      <td>3017804.0</td>\n",
       "    </tr>\n",
       "    <tr>\n",
       "      <th>39</th>\n",
       "      <td>46</td>\n",
       "      <td>South Dakota</td>\n",
       "      <td>1.000000</td>\n",
       "      <td>2024.0</td>\n",
       "      <td>35.560000</td>\n",
       "      <td>9.459389e+05</td>\n",
       "      <td>4.019628</td>\n",
       "      <td>2019.0</td>\n",
       "      <td>884659.0</td>\n",
       "    </tr>\n",
       "    <tr>\n",
       "      <th>38</th>\n",
       "      <td>45</td>\n",
       "      <td>South Carolina</td>\n",
       "      <td>1.000000</td>\n",
       "      <td>2024.0</td>\n",
       "      <td>203.817073</td>\n",
       "      <td>2.397241e+06</td>\n",
       "      <td>3.958602</td>\n",
       "      <td>2019.0</td>\n",
       "      <td>5148714.0</td>\n",
       "    </tr>\n",
       "    <tr>\n",
       "      <th>24</th>\n",
       "      <td>29</td>\n",
       "      <td>Missouri</td>\n",
       "      <td>0.466667</td>\n",
       "      <td>2024.0</td>\n",
       "      <td>240.505882</td>\n",
       "      <td>3.027624e+06</td>\n",
       "      <td>3.918675</td>\n",
       "      <td>2019.0</td>\n",
       "      <td>6137428.0</td>\n",
       "    </tr>\n",
       "    <tr>\n",
       "      <th>12</th>\n",
       "      <td>17</td>\n",
       "      <td>Illinois</td>\n",
       "      <td>-0.733333</td>\n",
       "      <td>2024.0</td>\n",
       "      <td>475.813953</td>\n",
       "      <td>6.434583e+06</td>\n",
       "      <td>3.754898</td>\n",
       "      <td>2019.0</td>\n",
       "      <td>12671821.0</td>\n",
       "    </tr>\n",
       "    <tr>\n",
       "      <th>37</th>\n",
       "      <td>44</td>\n",
       "      <td>Rhode Island</td>\n",
       "      <td>-0.666667</td>\n",
       "      <td>2024.0</td>\n",
       "      <td>38.678571</td>\n",
       "      <td>1.142027e+06</td>\n",
       "      <td>3.651123</td>\n",
       "      <td>2019.0</td>\n",
       "      <td>1059361.0</td>\n",
       "    </tr>\n",
       "    <tr>\n",
       "      <th>40</th>\n",
       "      <td>47</td>\n",
       "      <td>Tennessee</td>\n",
       "      <td>0.866667</td>\n",
       "      <td>2024.0</td>\n",
       "      <td>248.255814</td>\n",
       "      <td>3.187201e+06</td>\n",
       "      <td>3.635225</td>\n",
       "      <td>2019.0</td>\n",
       "      <td>6829174.0</td>\n",
       "    </tr>\n",
       "    <tr>\n",
       "      <th>34</th>\n",
       "      <td>40</td>\n",
       "      <td>Oklahoma</td>\n",
       "      <td>0.866667</td>\n",
       "      <td>2024.0</td>\n",
       "      <td>142.519481</td>\n",
       "      <td>2.035927e+06</td>\n",
       "      <td>3.601732</td>\n",
       "      <td>2019.0</td>\n",
       "      <td>3956971.0</td>\n",
       "    </tr>\n",
       "    <tr>\n",
       "      <th>46</th>\n",
       "      <td>54</td>\n",
       "      <td>West Virginia</td>\n",
       "      <td>0.000000</td>\n",
       "      <td>2024.0</td>\n",
       "      <td>64.440678</td>\n",
       "      <td>1.180095e+06</td>\n",
       "      <td>3.595725</td>\n",
       "      <td>2019.0</td>\n",
       "      <td>1792147.0</td>\n",
       "    </tr>\n",
       "    <tr>\n",
       "      <th>26</th>\n",
       "      <td>32</td>\n",
       "      <td>Nevada</td>\n",
       "      <td>-0.071429</td>\n",
       "      <td>2024.0</td>\n",
       "      <td>109.985507</td>\n",
       "      <td>1.532158e+06</td>\n",
       "      <td>3.570777</td>\n",
       "      <td>2019.0</td>\n",
       "      <td>3080156.0</td>\n",
       "    </tr>\n",
       "    <tr>\n",
       "      <th>25</th>\n",
       "      <td>30</td>\n",
       "      <td>Montana</td>\n",
       "      <td>0.200000</td>\n",
       "      <td>2024.0</td>\n",
       "      <td>36.800000</td>\n",
       "      <td>8.925473e+05</td>\n",
       "      <td>3.443185</td>\n",
       "      <td>2019.0</td>\n",
       "      <td>1068778.0</td>\n",
       "    </tr>\n",
       "    <tr>\n",
       "      <th>9</th>\n",
       "      <td>13</td>\n",
       "      <td>Georgia</td>\n",
       "      <td>1.000000</td>\n",
       "      <td>2024.0</td>\n",
       "      <td>361.988372</td>\n",
       "      <td>4.839759e+06</td>\n",
       "      <td>3.409381</td>\n",
       "      <td>2019.0</td>\n",
       "      <td>10617423.0</td>\n",
       "    </tr>\n",
       "    <tr>\n",
       "      <th>21</th>\n",
       "      <td>26</td>\n",
       "      <td>Michigan</td>\n",
       "      <td>0.400000</td>\n",
       "      <td>2024.0</td>\n",
       "      <td>335.941860</td>\n",
       "      <td>5.047876e+06</td>\n",
       "      <td>3.363840</td>\n",
       "      <td>2019.0</td>\n",
       "      <td>9986857.0</td>\n",
       "    </tr>\n",
       "    <tr>\n",
       "      <th>15</th>\n",
       "      <td>20</td>\n",
       "      <td>Kansas</td>\n",
       "      <td>0.533333</td>\n",
       "      <td>2024.0</td>\n",
       "      <td>92.300000</td>\n",
       "      <td>1.808480e+06</td>\n",
       "      <td>3.168213</td>\n",
       "      <td>2019.0</td>\n",
       "      <td>2913314.0</td>\n",
       "    </tr>\n",
       "    <tr>\n",
       "      <th>2</th>\n",
       "      <td>04</td>\n",
       "      <td>Arizona</td>\n",
       "      <td>0.866667</td>\n",
       "      <td>2024.0</td>\n",
       "      <td>225.069767</td>\n",
       "      <td>3.184363e+06</td>\n",
       "      <td>3.092163</td>\n",
       "      <td>2019.0</td>\n",
       "      <td>7278717.0</td>\n",
       "    </tr>\n",
       "    <tr>\n",
       "      <th>27</th>\n",
       "      <td>33</td>\n",
       "      <td>New Hampshire</td>\n",
       "      <td>0.200000</td>\n",
       "      <td>2024.0</td>\n",
       "      <td>41.615385</td>\n",
       "      <td>2.575659e+06</td>\n",
       "      <td>3.060605</td>\n",
       "      <td>2019.0</td>\n",
       "      <td>1359711.0</td>\n",
       "    </tr>\n",
       "    <tr>\n",
       "      <th>31</th>\n",
       "      <td>37</td>\n",
       "      <td>North Carolina</td>\n",
       "      <td>0.133333</td>\n",
       "      <td>2024.0</td>\n",
       "      <td>320.395349</td>\n",
       "      <td>4.745916e+06</td>\n",
       "      <td>3.054851</td>\n",
       "      <td>2019.0</td>\n",
       "      <td>10488084.0</td>\n",
       "    </tr>\n",
       "    <tr>\n",
       "      <th>13</th>\n",
       "      <td>18</td>\n",
       "      <td>Indiana</td>\n",
       "      <td>0.866667</td>\n",
       "      <td>2024.0</td>\n",
       "      <td>204.261905</td>\n",
       "      <td>3.328023e+06</td>\n",
       "      <td>3.034095</td>\n",
       "      <td>2019.0</td>\n",
       "      <td>6732219.0</td>\n",
       "    </tr>\n",
       "    <tr>\n",
       "      <th>16</th>\n",
       "      <td>21</td>\n",
       "      <td>Kentucky</td>\n",
       "      <td>0.200000</td>\n",
       "      <td>2024.0</td>\n",
       "      <td>133.013158</td>\n",
       "      <td>2.336537e+06</td>\n",
       "      <td>2.977236</td>\n",
       "      <td>2019.0</td>\n",
       "      <td>4467673.0</td>\n",
       "    </tr>\n",
       "    <tr>\n",
       "      <th>36</th>\n",
       "      <td>42</td>\n",
       "      <td>Pennsylvania</td>\n",
       "      <td>0.266667</td>\n",
       "      <td>2024.0</td>\n",
       "      <td>355.976744</td>\n",
       "      <td>6.373866e+06</td>\n",
       "      <td>2.780636</td>\n",
       "      <td>2019.0</td>\n",
       "      <td>12801989.0</td>\n",
       "    </tr>\n",
       "    <tr>\n",
       "      <th>4</th>\n",
       "      <td>06</td>\n",
       "      <td>California</td>\n",
       "      <td>-0.866667</td>\n",
       "      <td>2024.0</td>\n",
       "      <td>1078.023256</td>\n",
       "      <td>1.881871e+07</td>\n",
       "      <td>2.728329</td>\n",
       "      <td>2019.0</td>\n",
       "      <td>39512223.0</td>\n",
       "    </tr>\n",
       "    <tr>\n",
       "      <th>8</th>\n",
       "      <td>12</td>\n",
       "      <td>Florida</td>\n",
       "      <td>1.000000</td>\n",
       "      <td>2024.0</td>\n",
       "      <td>583.337209</td>\n",
       "      <td>9.508494e+06</td>\n",
       "      <td>2.716009</td>\n",
       "      <td>2019.0</td>\n",
       "      <td>21477737.0</td>\n",
       "    </tr>\n",
       "    <tr>\n",
       "      <th>33</th>\n",
       "      <td>39</td>\n",
       "      <td>Ohio</td>\n",
       "      <td>0.866667</td>\n",
       "      <td>2024.0</td>\n",
       "      <td>316.813953</td>\n",
       "      <td>5.840971e+06</td>\n",
       "      <td>2.710337</td>\n",
       "      <td>2019.0</td>\n",
       "      <td>11689100.0</td>\n",
       "    </tr>\n",
       "    <tr>\n",
       "      <th>18</th>\n",
       "      <td>23</td>\n",
       "      <td>Maine</td>\n",
       "      <td>-0.333333</td>\n",
       "      <td>2024.0</td>\n",
       "      <td>36.200000</td>\n",
       "      <td>1.803374e+06</td>\n",
       "      <td>2.693028</td>\n",
       "      <td>2019.0</td>\n",
       "      <td>1344212.0</td>\n",
       "    </tr>\n",
       "    <tr>\n",
       "      <th>41</th>\n",
       "      <td>48</td>\n",
       "      <td>Texas</td>\n",
       "      <td>1.000000</td>\n",
       "      <td>2024.0</td>\n",
       "      <td>753.372093</td>\n",
       "      <td>1.268532e+07</td>\n",
       "      <td>2.598204</td>\n",
       "      <td>2019.0</td>\n",
       "      <td>28995881.0</td>\n",
       "    </tr>\n",
       "    <tr>\n",
       "      <th>6</th>\n",
       "      <td>09</td>\n",
       "      <td>Connecticut</td>\n",
       "      <td>-0.733333</td>\n",
       "      <td>2024.0</td>\n",
       "      <td>89.129630</td>\n",
       "      <td>2.441710e+06</td>\n",
       "      <td>2.499929</td>\n",
       "      <td>2019.0</td>\n",
       "      <td>3565287.0</td>\n",
       "    </tr>\n",
       "    <tr>\n",
       "      <th>44</th>\n",
       "      <td>51</td>\n",
       "      <td>Virginia</td>\n",
       "      <td>-0.133333</td>\n",
       "      <td>2024.0</td>\n",
       "      <td>211.380952</td>\n",
       "      <td>4.056577e+06</td>\n",
       "      <td>2.476486</td>\n",
       "      <td>2019.0</td>\n",
       "      <td>8535519.0</td>\n",
       "    </tr>\n",
       "    <tr>\n",
       "      <th>10</th>\n",
       "      <td>15</td>\n",
       "      <td>Hawaii</td>\n",
       "      <td>-0.866667</td>\n",
       "      <td>2024.0</td>\n",
       "      <td>32.514286</td>\n",
       "      <td>1.231468e+06</td>\n",
       "      <td>2.296414</td>\n",
       "      <td>2019.0</td>\n",
       "      <td>1415872.0</td>\n",
       "    </tr>\n",
       "    <tr>\n",
       "      <th>28</th>\n",
       "      <td>34</td>\n",
       "      <td>New Jersey</td>\n",
       "      <td>-0.466667</td>\n",
       "      <td>2024.0</td>\n",
       "      <td>201.600000</td>\n",
       "      <td>4.659632e+06</td>\n",
       "      <td>2.269711</td>\n",
       "      <td>2019.0</td>\n",
       "      <td>8882190.0</td>\n",
       "    </tr>\n",
       "    <tr>\n",
       "      <th>47</th>\n",
       "      <td>55</td>\n",
       "      <td>Wisconsin</td>\n",
       "      <td>0.400000</td>\n",
       "      <td>2024.0</td>\n",
       "      <td>129.861538</td>\n",
       "      <td>3.447167e+06</td>\n",
       "      <td>2.230365</td>\n",
       "      <td>2019.0</td>\n",
       "      <td>5822434.0</td>\n",
       "    </tr>\n",
       "    <tr>\n",
       "      <th>5</th>\n",
       "      <td>08</td>\n",
       "      <td>Colorado</td>\n",
       "      <td>-0.600000</td>\n",
       "      <td>2024.0</td>\n",
       "      <td>126.275362</td>\n",
       "      <td>3.016236e+06</td>\n",
       "      <td>2.192762</td>\n",
       "      <td>2019.0</td>\n",
       "      <td>5758736.0</td>\n",
       "    </tr>\n",
       "    <tr>\n",
       "      <th>30</th>\n",
       "      <td>36</td>\n",
       "      <td>New York</td>\n",
       "      <td>-0.666667</td>\n",
       "      <td>2024.0</td>\n",
       "      <td>408.860465</td>\n",
       "      <td>9.804671e+06</td>\n",
       "      <td>2.101726</td>\n",
       "      <td>2019.0</td>\n",
       "      <td>19453561.0</td>\n",
       "    </tr>\n",
       "    <tr>\n",
       "      <th>11</th>\n",
       "      <td>16</td>\n",
       "      <td>Idaho</td>\n",
       "      <td>1.000000</td>\n",
       "      <td>2024.0</td>\n",
       "      <td>36.228571</td>\n",
       "      <td>1.408235e+06</td>\n",
       "      <td>2.027267</td>\n",
       "      <td>2019.0</td>\n",
       "      <td>1787065.0</td>\n",
       "    </tr>\n",
       "    <tr>\n",
       "      <th>20</th>\n",
       "      <td>25</td>\n",
       "      <td>Massachusetts</td>\n",
       "      <td>-0.533333</td>\n",
       "      <td>2024.0</td>\n",
       "      <td>118.413793</td>\n",
       "      <td>4.357703e+06</td>\n",
       "      <td>1.718009</td>\n",
       "      <td>2019.0</td>\n",
       "      <td>6892503.0</td>\n",
       "    </tr>\n",
       "    <tr>\n",
       "      <th>42</th>\n",
       "      <td>49</td>\n",
       "      <td>Utah</td>\n",
       "      <td>1.000000</td>\n",
       "      <td>2024.0</td>\n",
       "      <td>54.177778</td>\n",
       "      <td>2.154743e+06</td>\n",
       "      <td>1.689909</td>\n",
       "      <td>2019.0</td>\n",
       "      <td>3205958.0</td>\n",
       "    </tr>\n",
       "    <tr>\n",
       "      <th>35</th>\n",
       "      <td>41</td>\n",
       "      <td>Oregon</td>\n",
       "      <td>-0.866667</td>\n",
       "      <td>2024.0</td>\n",
       "      <td>69.636364</td>\n",
       "      <td>2.305194e+06</td>\n",
       "      <td>1.651036</td>\n",
       "      <td>2019.0</td>\n",
       "      <td>4217737.0</td>\n",
       "    </tr>\n",
       "    <tr>\n",
       "      <th>14</th>\n",
       "      <td>19</td>\n",
       "      <td>Iowa</td>\n",
       "      <td>0.333333</td>\n",
       "      <td>2024.0</td>\n",
       "      <td>51.792453</td>\n",
       "      <td>2.114019e+06</td>\n",
       "      <td>1.641563</td>\n",
       "      <td>2019.0</td>\n",
       "      <td>3155070.0</td>\n",
       "    </tr>\n",
       "    <tr>\n",
       "      <th>45</th>\n",
       "      <td>53</td>\n",
       "      <td>Washington</td>\n",
       "      <td>-0.866667</td>\n",
       "      <td>2024.0</td>\n",
       "      <td>122.025974</td>\n",
       "      <td>3.660768e+06</td>\n",
       "      <td>1.602465</td>\n",
       "      <td>2019.0</td>\n",
       "      <td>7614893.0</td>\n",
       "    </tr>\n",
       "    <tr>\n",
       "      <th>22</th>\n",
       "      <td>27</td>\n",
       "      <td>Minnesota</td>\n",
       "      <td>-0.266667</td>\n",
       "      <td>2024.0</td>\n",
       "      <td>88.114754</td>\n",
       "      <td>3.377062e+06</td>\n",
       "      <td>1.562420</td>\n",
       "      <td>2019.0</td>\n",
       "      <td>5639632.0</td>\n",
       "    </tr>\n",
       "  </tbody>\n",
       "</table>\n",
       "</div>"
      ],
      "text/plain": [
       "   fips         State_y  Part_Score  Year_x       Deaths    Population  \\\n",
       "43   50         Vermont   -0.400000  2024.0   137.000000  6.904366e+06   \n",
       "32   38    North Dakota    1.000000  2024.0    87.750000  3.945920e+06   \n",
       "48   56         Wyoming    0.866667  2024.0    50.300000  1.349089e+06   \n",
       "17   22       Louisiana    0.333333  2024.0   307.130952  2.346557e+06   \n",
       "23   28     Mississippi    0.800000  2024.0   181.063291  1.558334e+06   \n",
       "7    10        Delaware   -1.000000  2024.0    56.611111  7.961586e+05   \n",
       "1    02          Alaska    0.466667  2024.0    41.755556  5.553994e+05   \n",
       "0    01         Alabama    0.866667  2024.0   251.875000  2.504941e+06   \n",
       "29   35      New Mexico   -0.466667  2024.0   106.769231  1.217324e+06   \n",
       "19   24        Maryland   -0.533333  2024.0   295.526316  3.157371e+06   \n",
       "3    05        Arkansas    0.333333  2024.0   129.342105  1.567464e+06   \n",
       "39   46    South Dakota    1.000000  2024.0    35.560000  9.459389e+05   \n",
       "38   45  South Carolina    1.000000  2024.0   203.817073  2.397241e+06   \n",
       "24   29        Missouri    0.466667  2024.0   240.505882  3.027624e+06   \n",
       "12   17        Illinois   -0.733333  2024.0   475.813953  6.434583e+06   \n",
       "37   44    Rhode Island   -0.666667  2024.0    38.678571  1.142027e+06   \n",
       "40   47       Tennessee    0.866667  2024.0   248.255814  3.187201e+06   \n",
       "34   40        Oklahoma    0.866667  2024.0   142.519481  2.035927e+06   \n",
       "46   54   West Virginia    0.000000  2024.0    64.440678  1.180095e+06   \n",
       "26   32          Nevada   -0.071429  2024.0   109.985507  1.532158e+06   \n",
       "25   30         Montana    0.200000  2024.0    36.800000  8.925473e+05   \n",
       "9    13         Georgia    1.000000  2024.0   361.988372  4.839759e+06   \n",
       "21   26        Michigan    0.400000  2024.0   335.941860  5.047876e+06   \n",
       "15   20          Kansas    0.533333  2024.0    92.300000  1.808480e+06   \n",
       "2    04         Arizona    0.866667  2024.0   225.069767  3.184363e+06   \n",
       "27   33   New Hampshire    0.200000  2024.0    41.615385  2.575659e+06   \n",
       "31   37  North Carolina    0.133333  2024.0   320.395349  4.745916e+06   \n",
       "13   18         Indiana    0.866667  2024.0   204.261905  3.328023e+06   \n",
       "16   21        Kentucky    0.200000  2024.0   133.013158  2.336537e+06   \n",
       "36   42    Pennsylvania    0.266667  2024.0   355.976744  6.373866e+06   \n",
       "4    06      California   -0.866667  2024.0  1078.023256  1.881871e+07   \n",
       "8    12         Florida    1.000000  2024.0   583.337209  9.508494e+06   \n",
       "33   39            Ohio    0.866667  2024.0   316.813953  5.840971e+06   \n",
       "18   23           Maine   -0.333333  2024.0    36.200000  1.803374e+06   \n",
       "41   48           Texas    1.000000  2024.0   753.372093  1.268532e+07   \n",
       "6    09     Connecticut   -0.733333  2024.0    89.129630  2.441710e+06   \n",
       "44   51        Virginia   -0.133333  2024.0   211.380952  4.056577e+06   \n",
       "10   15          Hawaii   -0.866667  2024.0    32.514286  1.231468e+06   \n",
       "28   34      New Jersey   -0.466667  2024.0   201.600000  4.659632e+06   \n",
       "47   55       Wisconsin    0.400000  2024.0   129.861538  3.447167e+06   \n",
       "5    08        Colorado   -0.600000  2024.0   126.275362  3.016236e+06   \n",
       "30   36        New York   -0.666667  2024.0   408.860465  9.804671e+06   \n",
       "11   16           Idaho    1.000000  2024.0    36.228571  1.408235e+06   \n",
       "20   25   Massachusetts   -0.533333  2024.0   118.413793  4.357703e+06   \n",
       "42   49            Utah    1.000000  2024.0    54.177778  2.154743e+06   \n",
       "35   41          Oregon   -0.866667  2024.0    69.636364  2.305194e+06   \n",
       "14   19            Iowa    0.333333  2024.0    51.792453  2.114019e+06   \n",
       "45   53      Washington   -0.866667  2024.0   122.025974  3.660768e+06   \n",
       "22   27       Minnesota   -0.266667  2024.0    88.114754  3.377062e+06   \n",
       "\n",
       "         Rate  Year_y   Total Pop  \n",
       "43  21.955515  2019.0    623989.0  \n",
       "32  11.514811  2019.0    762062.0  \n",
       "48   8.691010  2019.0    578759.0  \n",
       "17   6.606680  2019.0   4648794.0  \n",
       "23   6.083811  2019.0   2976149.0  \n",
       "7    5.813638  2019.0    973764.0  \n",
       "1    5.707859  2019.0    731545.0  \n",
       "0    5.136967  2019.0   4903185.0  \n",
       "29   5.091938  2019.0   2096829.0  \n",
       "19   4.888223  2019.0   6045680.0  \n",
       "3    4.285968  2019.0   3017804.0  \n",
       "39   4.019628  2019.0    884659.0  \n",
       "38   3.958602  2019.0   5148714.0  \n",
       "24   3.918675  2019.0   6137428.0  \n",
       "12   3.754898  2019.0  12671821.0  \n",
       "37   3.651123  2019.0   1059361.0  \n",
       "40   3.635225  2019.0   6829174.0  \n",
       "34   3.601732  2019.0   3956971.0  \n",
       "46   3.595725  2019.0   1792147.0  \n",
       "26   3.570777  2019.0   3080156.0  \n",
       "25   3.443185  2019.0   1068778.0  \n",
       "9    3.409381  2019.0  10617423.0  \n",
       "21   3.363840  2019.0   9986857.0  \n",
       "15   3.168213  2019.0   2913314.0  \n",
       "2    3.092163  2019.0   7278717.0  \n",
       "27   3.060605  2019.0   1359711.0  \n",
       "31   3.054851  2019.0  10488084.0  \n",
       "13   3.034095  2019.0   6732219.0  \n",
       "16   2.977236  2019.0   4467673.0  \n",
       "36   2.780636  2019.0  12801989.0  \n",
       "4    2.728329  2019.0  39512223.0  \n",
       "8    2.716009  2019.0  21477737.0  \n",
       "33   2.710337  2019.0  11689100.0  \n",
       "18   2.693028  2019.0   1344212.0  \n",
       "41   2.598204  2019.0  28995881.0  \n",
       "6    2.499929  2019.0   3565287.0  \n",
       "44   2.476486  2019.0   8535519.0  \n",
       "10   2.296414  2019.0   1415872.0  \n",
       "28   2.269711  2019.0   8882190.0  \n",
       "47   2.230365  2019.0   5822434.0  \n",
       "5    2.192762  2019.0   5758736.0  \n",
       "30   2.101726  2019.0  19453561.0  \n",
       "11   2.027267  2019.0   1787065.0  \n",
       "20   1.718009  2019.0   6892503.0  \n",
       "42   1.689909  2019.0   3205958.0  \n",
       "35   1.651036  2019.0   4217737.0  \n",
       "14   1.641563  2019.0   3155070.0  \n",
       "45   1.602465  2019.0   7614893.0  \n",
       "22   1.562420  2019.0   5639632.0  "
      ]
     },
     "execution_count": 9,
     "metadata": {},
     "output_type": "execute_result"
    }
   ],
   "source": [
    "state_totals"
   ]
  },
  {
   "cell_type": "code",
   "execution_count": 10,
   "metadata": {},
   "outputs": [
    {
     "data": {
      "text/plain": [
       "8.960908038681252e-05"
      ]
     },
     "execution_count": 10,
     "metadata": {},
     "output_type": "execute_result"
    }
   ],
   "source": [
    "12/133915.0"
   ]
  },
  {
   "cell_type": "code",
   "execution_count": 11,
   "metadata": {},
   "outputs": [
    {
     "data": {
      "application/vnd.plotly.v1+json": {
       "config": {
        "plotlyServerURL": "https://plot.ly"
       },
       "data": [
        {
         "hovertext": [
          "Vermont",
          "North Dakota",
          "Wyoming",
          "Louisiana",
          "Mississippi",
          "Delaware",
          "Alaska",
          "Alabama",
          "New Mexico",
          "Maryland",
          "Arkansas",
          "South Dakota",
          "South Carolina",
          "Missouri",
          "Illinois",
          "Rhode Island",
          "Tennessee",
          "Oklahoma",
          "West Virginia",
          "Nevada",
          "Montana",
          "Georgia",
          "Michigan",
          "Kansas",
          "Arizona",
          "New Hampshire",
          "North Carolina",
          "Indiana",
          "Kentucky",
          "Pennsylvania",
          "California",
          "Florida",
          "Ohio",
          "Maine",
          "Texas",
          "Connecticut",
          "Virginia",
          "Hawaii",
          "New Jersey",
          "Wisconsin",
          "Colorado",
          "New York",
          "Idaho",
          "Massachusetts",
          "Utah",
          "Oregon",
          "Iowa",
          "Washington",
          "Minnesota"
         ],
         "marker": {
          "color": [
           6904365.5,
           3945920,
           1349088.6,
           2346556.8333333335,
           1558334.2278481012,
           796158.6388888889,
           555399.4444444445,
           2504940.8125,
           1217324.3384615385,
           3157371.1842105263,
           1567463.605263158,
           945938.92,
           2397241.3292682925,
           3027624.494117647,
           6434583.279069767,
           1142026.75,
           3187200.61627907,
           2035927.0649350649,
           1180094.7627118644,
           1532157.9130434783,
           892547.2857142857,
           4839758.7441860465,
           5047876.360465116,
           1808479.9666666666,
           3184363.4534883723,
           2575659.3076923075,
           4745916.058139535,
           3328023.238095238,
           2336536.5921052634,
           6373866.430232558,
           18818713.639534883,
           9508493.930232558,
           5840971.302325581,
           1803374,
           12685320.069767442,
           2441709.7407407407,
           4056577.130952381,
           1231467.6857142858,
           4659631.75,
           3447167.3384615383,
           3016236.072463768,
           9804670.604651162,
           1408235.2285714287,
           4357703.137931035,
           2154743.222222222,
           2305194.484848485,
           2114019.0566037735,
           3660768.4025974027,
           3377061.655737705
          ],
          "colorscale": [
           [
            0,
            "rgb(0,0,255)"
           ],
           [
            1,
            "rgb(255,0,0)"
           ]
          ]
         },
         "mode": "markers",
         "type": "scatter",
         "x": [
          6904365.5,
          3945920,
          1349088.6,
          2346556.8333333335,
          1558334.2278481012,
          796158.6388888889,
          555399.4444444445,
          2504940.8125,
          1217324.3384615385,
          3157371.1842105263,
          1567463.605263158,
          945938.92,
          2397241.3292682925,
          3027624.494117647,
          6434583.279069767,
          1142026.75,
          3187200.61627907,
          2035927.0649350649,
          1180094.7627118644,
          1532157.9130434783,
          892547.2857142857,
          4839758.7441860465,
          5047876.360465116,
          1808479.9666666666,
          3184363.4534883723,
          2575659.3076923075,
          4745916.058139535,
          3328023.238095238,
          2336536.5921052634,
          6373866.430232558,
          18818713.639534883,
          9508493.930232558,
          5840971.302325581,
          1803374,
          12685320.069767442,
          2441709.7407407407,
          4056577.130952381,
          1231467.6857142858,
          4659631.75,
          3447167.3384615383,
          3016236.072463768,
          9804670.604651162,
          1408235.2285714287,
          4357703.137931035,
          2154743.222222222,
          2305194.484848485,
          2114019.0566037735,
          3660768.4025974027,
          3377061.655737705
         ],
         "y": [
          21.955515241454577,
          11.514811130852872,
          8.69100955665484,
          6.606680192345636,
          6.0838113662736815,
          5.813637710072576,
          5.707858785933271,
          5.136967093837985,
          5.09193791049393,
          4.888222925948342,
          4.2859677190154795,
          4.019627901824319,
          3.958601568677765,
          3.9186754183175947,
          3.754898001545098,
          3.6511228399545983,
          3.635224610670168,
          3.6017317417661263,
          3.595725013969372,
          3.570777169934796,
          3.44318464639055,
          3.40938071406803,
          3.3638396991677793,
          3.1682132444357185,
          3.092162635830744,
          3.0606051297212873,
          3.0548510942247344,
          3.034094772643385,
          2.977235753259848,
          2.7806362291519426,
          2.728328537257834,
          2.7160087177821652,
          2.7103365826998838,
          2.6930275879102403,
          2.5982038380667096,
          2.499928606859129,
          2.476486226332018,
          2.2964142037052584,
          2.2697105105835385,
          2.2303651438820684,
          2.192761785204958,
          2.1017255664208676,
          2.0272665755622445,
          1.7180085827086078,
          1.689909155945829,
          1.6510361750000921,
          1.6415627174734215,
          1.602464723089005,
          1.5624202802303526
         ]
        }
       ],
       "layout": {
        "template": {
         "data": {
          "bar": [
           {
            "error_x": {
             "color": "#2a3f5f"
            },
            "error_y": {
             "color": "#2a3f5f"
            },
            "marker": {
             "line": {
              "color": "#E5ECF6",
              "width": 0.5
             },
             "pattern": {
              "fillmode": "overlay",
              "size": 10,
              "solidity": 0.2
             }
            },
            "type": "bar"
           }
          ],
          "barpolar": [
           {
            "marker": {
             "line": {
              "color": "#E5ECF6",
              "width": 0.5
             },
             "pattern": {
              "fillmode": "overlay",
              "size": 10,
              "solidity": 0.2
             }
            },
            "type": "barpolar"
           }
          ],
          "carpet": [
           {
            "aaxis": {
             "endlinecolor": "#2a3f5f",
             "gridcolor": "white",
             "linecolor": "white",
             "minorgridcolor": "white",
             "startlinecolor": "#2a3f5f"
            },
            "baxis": {
             "endlinecolor": "#2a3f5f",
             "gridcolor": "white",
             "linecolor": "white",
             "minorgridcolor": "white",
             "startlinecolor": "#2a3f5f"
            },
            "type": "carpet"
           }
          ],
          "choropleth": [
           {
            "colorbar": {
             "outlinewidth": 0,
             "ticks": ""
            },
            "type": "choropleth"
           }
          ],
          "contour": [
           {
            "colorbar": {
             "outlinewidth": 0,
             "ticks": ""
            },
            "colorscale": [
             [
              0,
              "#0d0887"
             ],
             [
              0.1111111111111111,
              "#46039f"
             ],
             [
              0.2222222222222222,
              "#7201a8"
             ],
             [
              0.3333333333333333,
              "#9c179e"
             ],
             [
              0.4444444444444444,
              "#bd3786"
             ],
             [
              0.5555555555555556,
              "#d8576b"
             ],
             [
              0.6666666666666666,
              "#ed7953"
             ],
             [
              0.7777777777777778,
              "#fb9f3a"
             ],
             [
              0.8888888888888888,
              "#fdca26"
             ],
             [
              1,
              "#f0f921"
             ]
            ],
            "type": "contour"
           }
          ],
          "contourcarpet": [
           {
            "colorbar": {
             "outlinewidth": 0,
             "ticks": ""
            },
            "type": "contourcarpet"
           }
          ],
          "heatmap": [
           {
            "colorbar": {
             "outlinewidth": 0,
             "ticks": ""
            },
            "colorscale": [
             [
              0,
              "#0d0887"
             ],
             [
              0.1111111111111111,
              "#46039f"
             ],
             [
              0.2222222222222222,
              "#7201a8"
             ],
             [
              0.3333333333333333,
              "#9c179e"
             ],
             [
              0.4444444444444444,
              "#bd3786"
             ],
             [
              0.5555555555555556,
              "#d8576b"
             ],
             [
              0.6666666666666666,
              "#ed7953"
             ],
             [
              0.7777777777777778,
              "#fb9f3a"
             ],
             [
              0.8888888888888888,
              "#fdca26"
             ],
             [
              1,
              "#f0f921"
             ]
            ],
            "type": "heatmap"
           }
          ],
          "heatmapgl": [
           {
            "colorbar": {
             "outlinewidth": 0,
             "ticks": ""
            },
            "colorscale": [
             [
              0,
              "#0d0887"
             ],
             [
              0.1111111111111111,
              "#46039f"
             ],
             [
              0.2222222222222222,
              "#7201a8"
             ],
             [
              0.3333333333333333,
              "#9c179e"
             ],
             [
              0.4444444444444444,
              "#bd3786"
             ],
             [
              0.5555555555555556,
              "#d8576b"
             ],
             [
              0.6666666666666666,
              "#ed7953"
             ],
             [
              0.7777777777777778,
              "#fb9f3a"
             ],
             [
              0.8888888888888888,
              "#fdca26"
             ],
             [
              1,
              "#f0f921"
             ]
            ],
            "type": "heatmapgl"
           }
          ],
          "histogram": [
           {
            "marker": {
             "pattern": {
              "fillmode": "overlay",
              "size": 10,
              "solidity": 0.2
             }
            },
            "type": "histogram"
           }
          ],
          "histogram2d": [
           {
            "colorbar": {
             "outlinewidth": 0,
             "ticks": ""
            },
            "colorscale": [
             [
              0,
              "#0d0887"
             ],
             [
              0.1111111111111111,
              "#46039f"
             ],
             [
              0.2222222222222222,
              "#7201a8"
             ],
             [
              0.3333333333333333,
              "#9c179e"
             ],
             [
              0.4444444444444444,
              "#bd3786"
             ],
             [
              0.5555555555555556,
              "#d8576b"
             ],
             [
              0.6666666666666666,
              "#ed7953"
             ],
             [
              0.7777777777777778,
              "#fb9f3a"
             ],
             [
              0.8888888888888888,
              "#fdca26"
             ],
             [
              1,
              "#f0f921"
             ]
            ],
            "type": "histogram2d"
           }
          ],
          "histogram2dcontour": [
           {
            "colorbar": {
             "outlinewidth": 0,
             "ticks": ""
            },
            "colorscale": [
             [
              0,
              "#0d0887"
             ],
             [
              0.1111111111111111,
              "#46039f"
             ],
             [
              0.2222222222222222,
              "#7201a8"
             ],
             [
              0.3333333333333333,
              "#9c179e"
             ],
             [
              0.4444444444444444,
              "#bd3786"
             ],
             [
              0.5555555555555556,
              "#d8576b"
             ],
             [
              0.6666666666666666,
              "#ed7953"
             ],
             [
              0.7777777777777778,
              "#fb9f3a"
             ],
             [
              0.8888888888888888,
              "#fdca26"
             ],
             [
              1,
              "#f0f921"
             ]
            ],
            "type": "histogram2dcontour"
           }
          ],
          "mesh3d": [
           {
            "colorbar": {
             "outlinewidth": 0,
             "ticks": ""
            },
            "type": "mesh3d"
           }
          ],
          "parcoords": [
           {
            "line": {
             "colorbar": {
              "outlinewidth": 0,
              "ticks": ""
             }
            },
            "type": "parcoords"
           }
          ],
          "pie": [
           {
            "automargin": true,
            "type": "pie"
           }
          ],
          "scatter": [
           {
            "marker": {
             "colorbar": {
              "outlinewidth": 0,
              "ticks": ""
             }
            },
            "type": "scatter"
           }
          ],
          "scatter3d": [
           {
            "line": {
             "colorbar": {
              "outlinewidth": 0,
              "ticks": ""
             }
            },
            "marker": {
             "colorbar": {
              "outlinewidth": 0,
              "ticks": ""
             }
            },
            "type": "scatter3d"
           }
          ],
          "scattercarpet": [
           {
            "marker": {
             "colorbar": {
              "outlinewidth": 0,
              "ticks": ""
             }
            },
            "type": "scattercarpet"
           }
          ],
          "scattergeo": [
           {
            "marker": {
             "colorbar": {
              "outlinewidth": 0,
              "ticks": ""
             }
            },
            "type": "scattergeo"
           }
          ],
          "scattergl": [
           {
            "marker": {
             "colorbar": {
              "outlinewidth": 0,
              "ticks": ""
             }
            },
            "type": "scattergl"
           }
          ],
          "scattermapbox": [
           {
            "marker": {
             "colorbar": {
              "outlinewidth": 0,
              "ticks": ""
             }
            },
            "type": "scattermapbox"
           }
          ],
          "scatterpolar": [
           {
            "marker": {
             "colorbar": {
              "outlinewidth": 0,
              "ticks": ""
             }
            },
            "type": "scatterpolar"
           }
          ],
          "scatterpolargl": [
           {
            "marker": {
             "colorbar": {
              "outlinewidth": 0,
              "ticks": ""
             }
            },
            "type": "scatterpolargl"
           }
          ],
          "scatterternary": [
           {
            "marker": {
             "colorbar": {
              "outlinewidth": 0,
              "ticks": ""
             }
            },
            "type": "scatterternary"
           }
          ],
          "surface": [
           {
            "colorbar": {
             "outlinewidth": 0,
             "ticks": ""
            },
            "colorscale": [
             [
              0,
              "#0d0887"
             ],
             [
              0.1111111111111111,
              "#46039f"
             ],
             [
              0.2222222222222222,
              "#7201a8"
             ],
             [
              0.3333333333333333,
              "#9c179e"
             ],
             [
              0.4444444444444444,
              "#bd3786"
             ],
             [
              0.5555555555555556,
              "#d8576b"
             ],
             [
              0.6666666666666666,
              "#ed7953"
             ],
             [
              0.7777777777777778,
              "#fb9f3a"
             ],
             [
              0.8888888888888888,
              "#fdca26"
             ],
             [
              1,
              "#f0f921"
             ]
            ],
            "type": "surface"
           }
          ],
          "table": [
           {
            "cells": {
             "fill": {
              "color": "#EBF0F8"
             },
             "line": {
              "color": "white"
             }
            },
            "header": {
             "fill": {
              "color": "#C8D4E3"
             },
             "line": {
              "color": "white"
             }
            },
            "type": "table"
           }
          ]
         },
         "layout": {
          "annotationdefaults": {
           "arrowcolor": "#2a3f5f",
           "arrowhead": 0,
           "arrowwidth": 1
          },
          "autotypenumbers": "strict",
          "coloraxis": {
           "colorbar": {
            "outlinewidth": 0,
            "ticks": ""
           }
          },
          "colorscale": {
           "diverging": [
            [
             0,
             "#8e0152"
            ],
            [
             0.1,
             "#c51b7d"
            ],
            [
             0.2,
             "#de77ae"
            ],
            [
             0.3,
             "#f1b6da"
            ],
            [
             0.4,
             "#fde0ef"
            ],
            [
             0.5,
             "#f7f7f7"
            ],
            [
             0.6,
             "#e6f5d0"
            ],
            [
             0.7,
             "#b8e186"
            ],
            [
             0.8,
             "#7fbc41"
            ],
            [
             0.9,
             "#4d9221"
            ],
            [
             1,
             "#276419"
            ]
           ],
           "sequential": [
            [
             0,
             "#0d0887"
            ],
            [
             0.1111111111111111,
             "#46039f"
            ],
            [
             0.2222222222222222,
             "#7201a8"
            ],
            [
             0.3333333333333333,
             "#9c179e"
            ],
            [
             0.4444444444444444,
             "#bd3786"
            ],
            [
             0.5555555555555556,
             "#d8576b"
            ],
            [
             0.6666666666666666,
             "#ed7953"
            ],
            [
             0.7777777777777778,
             "#fb9f3a"
            ],
            [
             0.8888888888888888,
             "#fdca26"
            ],
            [
             1,
             "#f0f921"
            ]
           ],
           "sequentialminus": [
            [
             0,
             "#0d0887"
            ],
            [
             0.1111111111111111,
             "#46039f"
            ],
            [
             0.2222222222222222,
             "#7201a8"
            ],
            [
             0.3333333333333333,
             "#9c179e"
            ],
            [
             0.4444444444444444,
             "#bd3786"
            ],
            [
             0.5555555555555556,
             "#d8576b"
            ],
            [
             0.6666666666666666,
             "#ed7953"
            ],
            [
             0.7777777777777778,
             "#fb9f3a"
            ],
            [
             0.8888888888888888,
             "#fdca26"
            ],
            [
             1,
             "#f0f921"
            ]
           ]
          },
          "colorway": [
           "#636efa",
           "#EF553B",
           "#00cc96",
           "#ab63fa",
           "#FFA15A",
           "#19d3f3",
           "#FF6692",
           "#B6E880",
           "#FF97FF",
           "#FECB52"
          ],
          "font": {
           "color": "#2a3f5f"
          },
          "geo": {
           "bgcolor": "white",
           "lakecolor": "white",
           "landcolor": "#E5ECF6",
           "showlakes": true,
           "showland": true,
           "subunitcolor": "white"
          },
          "hoverlabel": {
           "align": "left"
          },
          "hovermode": "closest",
          "mapbox": {
           "style": "light"
          },
          "paper_bgcolor": "white",
          "plot_bgcolor": "#E5ECF6",
          "polar": {
           "angularaxis": {
            "gridcolor": "white",
            "linecolor": "white",
            "ticks": ""
           },
           "bgcolor": "#E5ECF6",
           "radialaxis": {
            "gridcolor": "white",
            "linecolor": "white",
            "ticks": ""
           }
          },
          "scene": {
           "xaxis": {
            "backgroundcolor": "#E5ECF6",
            "gridcolor": "white",
            "gridwidth": 2,
            "linecolor": "white",
            "showbackground": true,
            "ticks": "",
            "zerolinecolor": "white"
           },
           "yaxis": {
            "backgroundcolor": "#E5ECF6",
            "gridcolor": "white",
            "gridwidth": 2,
            "linecolor": "white",
            "showbackground": true,
            "ticks": "",
            "zerolinecolor": "white"
           },
           "zaxis": {
            "backgroundcolor": "#E5ECF6",
            "gridcolor": "white",
            "gridwidth": 2,
            "linecolor": "white",
            "showbackground": true,
            "ticks": "",
            "zerolinecolor": "white"
           }
          },
          "shapedefaults": {
           "line": {
            "color": "#2a3f5f"
           }
          },
          "ternary": {
           "aaxis": {
            "gridcolor": "white",
            "linecolor": "white",
            "ticks": ""
           },
           "baxis": {
            "gridcolor": "white",
            "linecolor": "white",
            "ticks": ""
           },
           "bgcolor": "#E5ECF6",
           "caxis": {
            "gridcolor": "white",
            "linecolor": "white",
            "ticks": ""
           }
          },
          "title": {
           "x": 0.05
          },
          "xaxis": {
           "automargin": true,
           "gridcolor": "white",
           "linecolor": "white",
           "ticks": "",
           "title": {
            "standoff": 15
           },
           "zerolinecolor": "white",
           "zerolinewidth": 2
          },
          "yaxis": {
           "automargin": true,
           "gridcolor": "white",
           "linecolor": "white",
           "ticks": "",
           "title": {
            "standoff": 15
           },
           "zerolinecolor": "white",
           "zerolinewidth": 2
          }
         }
        }
       }
      }
     },
     "metadata": {},
     "output_type": "display_data"
    }
   ],
   "source": [
    "fig = go.Figure()\n",
    "fig.add_trace(go.Scatter(x=state_totals[\"Population\"], y=state_totals[\"Rate\"], mode = \"markers\", hovertext=state_totals[\"State_y\"], marker=dict(colorscale='bluered', color=state_totals[\"Population\"])))"
   ]
  },
  {
   "cell_type": "code",
   "execution_count": 12,
   "metadata": {},
   "outputs": [
    {
     "name": "stderr",
     "output_type": "stream",
     "text": [
      "C:\\Users\\zeusg\\AppData\\Local\\Temp/ipykernel_38384/196067746.py:1: FutureWarning:\n",
      "\n",
      "The default value of numeric_only in DataFrameGroupBy.sum is deprecated. In a future version, numeric_only will default to False. Either specify numeric_only or select only columns which should be valid for the function.\n",
      "\n"
     ]
    },
    {
     "data": {
      "text/html": [
       "<div>\n",
       "<style scoped>\n",
       "    .dataframe tbody tr th:only-of-type {\n",
       "        vertical-align: middle;\n",
       "    }\n",
       "\n",
       "    .dataframe tbody tr th {\n",
       "        vertical-align: top;\n",
       "    }\n",
       "\n",
       "    .dataframe thead th {\n",
       "        text-align: right;\n",
       "    }\n",
       "</style>\n",
       "<table border=\"1\" class=\"dataframe\">\n",
       "  <thead>\n",
       "    <tr style=\"text-align: right;\">\n",
       "      <th></th>\n",
       "      <th>Single-Year Ages</th>\n",
       "      <th>Deaths</th>\n",
       "      <th>Population</th>\n",
       "      <th>Rate</th>\n",
       "      <th>Year</th>\n",
       "      <th>age</th>\n",
       "    </tr>\n",
       "  </thead>\n",
       "  <tbody>\n",
       "    <tr>\n",
       "      <th>84</th>\n",
       "      <td>&lt; 1 year</td>\n",
       "      <td>20921.0</td>\n",
       "      <td>3783052.0</td>\n",
       "      <td>553.019097</td>\n",
       "      <td>102969</td>\n",
       "      <td>0</td>\n",
       "    </tr>\n",
       "    <tr>\n",
       "      <th>0</th>\n",
       "      <td>1 year</td>\n",
       "      <td>1401.0</td>\n",
       "      <td>3621711.0</td>\n",
       "      <td>38.683374</td>\n",
       "      <td>74703</td>\n",
       "      <td>1</td>\n",
       "    </tr>\n",
       "    <tr>\n",
       "      <th>11</th>\n",
       "      <td>2 years</td>\n",
       "      <td>835.0</td>\n",
       "      <td>3463061.0</td>\n",
       "      <td>24.111617</td>\n",
       "      <td>62589</td>\n",
       "      <td>2</td>\n",
       "    </tr>\n",
       "    <tr>\n",
       "      <th>22</th>\n",
       "      <td>3 years</td>\n",
       "      <td>596.0</td>\n",
       "      <td>3228814.0</td>\n",
       "      <td>18.458790</td>\n",
       "      <td>48456</td>\n",
       "      <td>3</td>\n",
       "    </tr>\n",
       "    <tr>\n",
       "      <th>33</th>\n",
       "      <td>4 years</td>\n",
       "      <td>488.0</td>\n",
       "      <td>3201427.0</td>\n",
       "      <td>15.243202</td>\n",
       "      <td>48456</td>\n",
       "      <td>4</td>\n",
       "    </tr>\n",
       "    <tr>\n",
       "      <th>...</th>\n",
       "      <td>...</td>\n",
       "      <td>...</td>\n",
       "      <td>...</td>\n",
       "      <td>...</td>\n",
       "      <td>...</td>\n",
       "      <td>...</td>\n",
       "    </tr>\n",
       "    <tr>\n",
       "      <th>78</th>\n",
       "      <td>80 years</td>\n",
       "      <td>68349.0</td>\n",
       "      <td>1475278.0</td>\n",
       "      <td>4632.957314</td>\n",
       "      <td>102969</td>\n",
       "      <td>80</td>\n",
       "    </tr>\n",
       "    <tr>\n",
       "      <th>79</th>\n",
       "      <td>81 years</td>\n",
       "      <td>70621.0</td>\n",
       "      <td>1381641.0</td>\n",
       "      <td>5111.385664</td>\n",
       "      <td>102969</td>\n",
       "      <td>81</td>\n",
       "    </tr>\n",
       "    <tr>\n",
       "      <th>80</th>\n",
       "      <td>82 years</td>\n",
       "      <td>71124.0</td>\n",
       "      <td>1241341.0</td>\n",
       "      <td>5729.610155</td>\n",
       "      <td>102969</td>\n",
       "      <td>82</td>\n",
       "    </tr>\n",
       "    <tr>\n",
       "      <th>81</th>\n",
       "      <td>83 years</td>\n",
       "      <td>73524.0</td>\n",
       "      <td>1151190.0</td>\n",
       "      <td>6386.782373</td>\n",
       "      <td>102969</td>\n",
       "      <td>83</td>\n",
       "    </tr>\n",
       "    <tr>\n",
       "      <th>82</th>\n",
       "      <td>84 years</td>\n",
       "      <td>74916.0</td>\n",
       "      <td>1067757.0</td>\n",
       "      <td>7016.203125</td>\n",
       "      <td>102969</td>\n",
       "      <td>84</td>\n",
       "    </tr>\n",
       "  </tbody>\n",
       "</table>\n",
       "<p>85 rows × 6 columns</p>\n",
       "</div>"
      ],
      "text/plain": [
       "   Single-Year Ages   Deaths  Population         Rate    Year  age\n",
       "84         < 1 year  20921.0   3783052.0   553.019097  102969    0\n",
       "0            1 year   1401.0   3621711.0    38.683374   74703    1\n",
       "11          2 years    835.0   3463061.0    24.111617   62589    2\n",
       "22          3 years    596.0   3228814.0    18.458790   48456    3\n",
       "33          4 years    488.0   3201427.0    15.243202   48456    4\n",
       "..              ...      ...         ...          ...     ...  ...\n",
       "78         80 years  68349.0   1475278.0  4632.957314  102969   80\n",
       "79         81 years  70621.0   1381641.0  5111.385664  102969   81\n",
       "80         82 years  71124.0   1241341.0  5729.610155  102969   82\n",
       "81         83 years  73524.0   1151190.0  6386.782373  102969   83\n",
       "82         84 years  74916.0   1067757.0  7016.203125  102969   84\n",
       "\n",
       "[85 rows x 6 columns]"
      ]
     },
     "execution_count": 12,
     "metadata": {},
     "output_type": "execute_result"
    }
   ],
   "source": [
    "usa_total = yearly_pop.groupby(\"Single-Year Ages\").sum().reset_index()\n",
    "usa_total[\"age\"] = usa_total[\"Single-Year Ages\"].str.replace(\"< 1 year\",\"0\").str.split(\" \").str[0].astype(int)\n",
    "usa_total.sort_values(\"age\", inplace=True)\n",
    "usa_total[\"Rate\"] = (usa_total[\"Deaths\"]/usa_total[\"Population\"])*100000\n",
    "usa_total"
   ]
  },
  {
   "cell_type": "code",
   "execution_count": 13,
   "metadata": {},
   "outputs": [
    {
     "data": {
      "application/vnd.plotly.v1+json": {
       "config": {
        "plotlyServerURL": "https://plot.ly"
       },
       "data": [
        {
         "type": "bar",
         "x": [
          0,
          1,
          2,
          3,
          4,
          5,
          6,
          7,
          8,
          9,
          10,
          11,
          12,
          13,
          14,
          15,
          16,
          17,
          18,
          19,
          20,
          21,
          22,
          23,
          24,
          25,
          26,
          27,
          28,
          29,
          30,
          31,
          32,
          33,
          34,
          35,
          36,
          37,
          38,
          39,
          40,
          41,
          42,
          43,
          44,
          45,
          46,
          47,
          48,
          49,
          50,
          51,
          52,
          53,
          54,
          55,
          56,
          57,
          58,
          59,
          60,
          61,
          62,
          63,
          64,
          65,
          66,
          67,
          68,
          69,
          70,
          71,
          72,
          73,
          74,
          75,
          76,
          77,
          78,
          79,
          80,
          81,
          82,
          83,
          84
         ],
         "y": [
          3783052,
          3621711,
          3463061,
          3228814,
          3201427,
          3076640,
          2643552,
          2584755,
          2631792,
          2409548,
          2487814,
          3429237,
          3396222,
          3566205,
          3767408,
          3854101,
          3983444,
          4005242,
          4135001,
          4248629,
          4222515,
          4220016,
          4239978,
          4286988,
          4417888,
          4509675,
          4587748,
          4711223,
          4818725,
          4790752,
          4614384,
          4502311,
          4413903,
          4432973,
          4460132,
          4308509,
          4361208,
          4361286,
          4305576,
          4372586,
          4098298,
          4020254,
          3974741,
          3854040,
          3967275,
          3837909,
          3889372,
          4058038,
          4282657,
          4329775,
          4096572,
          4004343,
          4001782,
          4068851,
          4305603,
          4374565,
          4361016,
          4342385,
          4385570,
          4413855,
          4252663,
          4215172,
          4156645,
          3996088,
          3950578,
          3774597,
          3618069,
          3464437,
          3345475,
          3252423,
          3136704,
          3083083,
          3191048,
          2334433,
          2283164,
          2198286,
          2222392,
          1911261,
          1720817,
          1599909,
          1475278,
          1381641,
          1241341,
          1151190,
          1067757
         ]
        },
        {
         "type": "bar",
         "x": [
          0,
          1,
          2,
          3,
          4,
          5,
          6,
          7,
          8,
          9,
          10,
          11,
          12,
          13,
          14,
          15,
          16,
          17,
          18,
          19,
          20,
          21,
          22,
          23,
          24,
          25,
          26,
          27,
          28,
          29,
          30,
          31,
          32,
          33,
          34,
          35,
          36,
          37,
          38,
          39,
          40,
          41,
          42,
          43,
          44,
          45,
          46,
          47,
          48,
          49,
          50,
          51,
          52,
          53,
          54,
          55,
          56,
          57,
          58,
          59,
          60,
          61,
          62,
          63,
          64,
          65,
          66,
          67,
          68,
          69,
          70,
          71,
          72,
          73,
          74,
          75,
          76,
          77,
          78,
          79,
          80,
          81,
          82,
          83,
          84
         ],
         "y": [
          553.0190967504544,
          38.68337368718818,
          24.11161686149912,
          18.458790131608694,
          15.243202484392118,
          13.293723022518071,
          13.315418043601941,
          11.529139125371652,
          11.665055597098858,
          11.163919540096318,
          12.58132641748941,
          12.830842546024087,
          14.928352740191896,
          16.65636159446807,
          20.836607025307586,
          27.632903237356775,
          35.77306471485478,
          45.66515581330666,
          64.76419231821225,
          70.11673648134493,
          77.93933236471628,
          89.71529965763163,
          90.80235793676289,
          95.89483338885016,
          98.19171513628233,
          105.01865433761857,
          110.5771284734907,
          113.91946422404543,
          119.47143694649519,
          124.69858594224873,
          133.9940499100205,
          138.26232794669227,
          141.7113153596715,
          150.75661412780994,
          153.69500274879758,
          162.2603086125618,
          167.79754600101623,
          176.3699972897902,
          189.9165175576973,
          192.9293100238623,
          210.57521927395226,
          210.33496888505053,
          221.17164363665455,
          231.6530186505589,
          240.31608597841085,
          264.9880442709819,
          287.91280443218085,
          309.9773831590537,
          335.8896124532037,
          355.83835187740704,
          394.2564661380295,
          429.48368808566096,
          469.4908418299648,
          506.11339663212044,
          555.6480706651311,
          612.4723258198244,
          664.2030205805253,
          729.0463650735713,
          783.1821177178794,
          831.2234996392043,
          909.7828819259837,
          985.060633350193,
          1057.9445682756166,
          1135.1351621886204,
          1188.0793139636783,
          1275.8713049366593,
          1369.7914550551689,
          1463.9896756673595,
          1560.6752404367094,
          1652.9830221960674,
          1828.1291444777703,
          1991.3833004171474,
          2103.697594019269,
          2435.409369212995,
          2558.948897232087,
          2872.556164211572,
          3105.617730805366,
          3447.671458790819,
          3784.4814410829276,
          4144.54822118008,
          4632.957313807974,
          5111.385663859136,
          5729.610155468964,
          6386.782373022698,
          7016.203124868299
         ]
        }
       ],
       "layout": {
        "template": {
         "data": {
          "bar": [
           {
            "error_x": {
             "color": "#2a3f5f"
            },
            "error_y": {
             "color": "#2a3f5f"
            },
            "marker": {
             "line": {
              "color": "#E5ECF6",
              "width": 0.5
             },
             "pattern": {
              "fillmode": "overlay",
              "size": 10,
              "solidity": 0.2
             }
            },
            "type": "bar"
           }
          ],
          "barpolar": [
           {
            "marker": {
             "line": {
              "color": "#E5ECF6",
              "width": 0.5
             },
             "pattern": {
              "fillmode": "overlay",
              "size": 10,
              "solidity": 0.2
             }
            },
            "type": "barpolar"
           }
          ],
          "carpet": [
           {
            "aaxis": {
             "endlinecolor": "#2a3f5f",
             "gridcolor": "white",
             "linecolor": "white",
             "minorgridcolor": "white",
             "startlinecolor": "#2a3f5f"
            },
            "baxis": {
             "endlinecolor": "#2a3f5f",
             "gridcolor": "white",
             "linecolor": "white",
             "minorgridcolor": "white",
             "startlinecolor": "#2a3f5f"
            },
            "type": "carpet"
           }
          ],
          "choropleth": [
           {
            "colorbar": {
             "outlinewidth": 0,
             "ticks": ""
            },
            "type": "choropleth"
           }
          ],
          "contour": [
           {
            "colorbar": {
             "outlinewidth": 0,
             "ticks": ""
            },
            "colorscale": [
             [
              0,
              "#0d0887"
             ],
             [
              0.1111111111111111,
              "#46039f"
             ],
             [
              0.2222222222222222,
              "#7201a8"
             ],
             [
              0.3333333333333333,
              "#9c179e"
             ],
             [
              0.4444444444444444,
              "#bd3786"
             ],
             [
              0.5555555555555556,
              "#d8576b"
             ],
             [
              0.6666666666666666,
              "#ed7953"
             ],
             [
              0.7777777777777778,
              "#fb9f3a"
             ],
             [
              0.8888888888888888,
              "#fdca26"
             ],
             [
              1,
              "#f0f921"
             ]
            ],
            "type": "contour"
           }
          ],
          "contourcarpet": [
           {
            "colorbar": {
             "outlinewidth": 0,
             "ticks": ""
            },
            "type": "contourcarpet"
           }
          ],
          "heatmap": [
           {
            "colorbar": {
             "outlinewidth": 0,
             "ticks": ""
            },
            "colorscale": [
             [
              0,
              "#0d0887"
             ],
             [
              0.1111111111111111,
              "#46039f"
             ],
             [
              0.2222222222222222,
              "#7201a8"
             ],
             [
              0.3333333333333333,
              "#9c179e"
             ],
             [
              0.4444444444444444,
              "#bd3786"
             ],
             [
              0.5555555555555556,
              "#d8576b"
             ],
             [
              0.6666666666666666,
              "#ed7953"
             ],
             [
              0.7777777777777778,
              "#fb9f3a"
             ],
             [
              0.8888888888888888,
              "#fdca26"
             ],
             [
              1,
              "#f0f921"
             ]
            ],
            "type": "heatmap"
           }
          ],
          "heatmapgl": [
           {
            "colorbar": {
             "outlinewidth": 0,
             "ticks": ""
            },
            "colorscale": [
             [
              0,
              "#0d0887"
             ],
             [
              0.1111111111111111,
              "#46039f"
             ],
             [
              0.2222222222222222,
              "#7201a8"
             ],
             [
              0.3333333333333333,
              "#9c179e"
             ],
             [
              0.4444444444444444,
              "#bd3786"
             ],
             [
              0.5555555555555556,
              "#d8576b"
             ],
             [
              0.6666666666666666,
              "#ed7953"
             ],
             [
              0.7777777777777778,
              "#fb9f3a"
             ],
             [
              0.8888888888888888,
              "#fdca26"
             ],
             [
              1,
              "#f0f921"
             ]
            ],
            "type": "heatmapgl"
           }
          ],
          "histogram": [
           {
            "marker": {
             "pattern": {
              "fillmode": "overlay",
              "size": 10,
              "solidity": 0.2
             }
            },
            "type": "histogram"
           }
          ],
          "histogram2d": [
           {
            "colorbar": {
             "outlinewidth": 0,
             "ticks": ""
            },
            "colorscale": [
             [
              0,
              "#0d0887"
             ],
             [
              0.1111111111111111,
              "#46039f"
             ],
             [
              0.2222222222222222,
              "#7201a8"
             ],
             [
              0.3333333333333333,
              "#9c179e"
             ],
             [
              0.4444444444444444,
              "#bd3786"
             ],
             [
              0.5555555555555556,
              "#d8576b"
             ],
             [
              0.6666666666666666,
              "#ed7953"
             ],
             [
              0.7777777777777778,
              "#fb9f3a"
             ],
             [
              0.8888888888888888,
              "#fdca26"
             ],
             [
              1,
              "#f0f921"
             ]
            ],
            "type": "histogram2d"
           }
          ],
          "histogram2dcontour": [
           {
            "colorbar": {
             "outlinewidth": 0,
             "ticks": ""
            },
            "colorscale": [
             [
              0,
              "#0d0887"
             ],
             [
              0.1111111111111111,
              "#46039f"
             ],
             [
              0.2222222222222222,
              "#7201a8"
             ],
             [
              0.3333333333333333,
              "#9c179e"
             ],
             [
              0.4444444444444444,
              "#bd3786"
             ],
             [
              0.5555555555555556,
              "#d8576b"
             ],
             [
              0.6666666666666666,
              "#ed7953"
             ],
             [
              0.7777777777777778,
              "#fb9f3a"
             ],
             [
              0.8888888888888888,
              "#fdca26"
             ],
             [
              1,
              "#f0f921"
             ]
            ],
            "type": "histogram2dcontour"
           }
          ],
          "mesh3d": [
           {
            "colorbar": {
             "outlinewidth": 0,
             "ticks": ""
            },
            "type": "mesh3d"
           }
          ],
          "parcoords": [
           {
            "line": {
             "colorbar": {
              "outlinewidth": 0,
              "ticks": ""
             }
            },
            "type": "parcoords"
           }
          ],
          "pie": [
           {
            "automargin": true,
            "type": "pie"
           }
          ],
          "scatter": [
           {
            "marker": {
             "colorbar": {
              "outlinewidth": 0,
              "ticks": ""
             }
            },
            "type": "scatter"
           }
          ],
          "scatter3d": [
           {
            "line": {
             "colorbar": {
              "outlinewidth": 0,
              "ticks": ""
             }
            },
            "marker": {
             "colorbar": {
              "outlinewidth": 0,
              "ticks": ""
             }
            },
            "type": "scatter3d"
           }
          ],
          "scattercarpet": [
           {
            "marker": {
             "colorbar": {
              "outlinewidth": 0,
              "ticks": ""
             }
            },
            "type": "scattercarpet"
           }
          ],
          "scattergeo": [
           {
            "marker": {
             "colorbar": {
              "outlinewidth": 0,
              "ticks": ""
             }
            },
            "type": "scattergeo"
           }
          ],
          "scattergl": [
           {
            "marker": {
             "colorbar": {
              "outlinewidth": 0,
              "ticks": ""
             }
            },
            "type": "scattergl"
           }
          ],
          "scattermapbox": [
           {
            "marker": {
             "colorbar": {
              "outlinewidth": 0,
              "ticks": ""
             }
            },
            "type": "scattermapbox"
           }
          ],
          "scatterpolar": [
           {
            "marker": {
             "colorbar": {
              "outlinewidth": 0,
              "ticks": ""
             }
            },
            "type": "scatterpolar"
           }
          ],
          "scatterpolargl": [
           {
            "marker": {
             "colorbar": {
              "outlinewidth": 0,
              "ticks": ""
             }
            },
            "type": "scatterpolargl"
           }
          ],
          "scatterternary": [
           {
            "marker": {
             "colorbar": {
              "outlinewidth": 0,
              "ticks": ""
             }
            },
            "type": "scatterternary"
           }
          ],
          "surface": [
           {
            "colorbar": {
             "outlinewidth": 0,
             "ticks": ""
            },
            "colorscale": [
             [
              0,
              "#0d0887"
             ],
             [
              0.1111111111111111,
              "#46039f"
             ],
             [
              0.2222222222222222,
              "#7201a8"
             ],
             [
              0.3333333333333333,
              "#9c179e"
             ],
             [
              0.4444444444444444,
              "#bd3786"
             ],
             [
              0.5555555555555556,
              "#d8576b"
             ],
             [
              0.6666666666666666,
              "#ed7953"
             ],
             [
              0.7777777777777778,
              "#fb9f3a"
             ],
             [
              0.8888888888888888,
              "#fdca26"
             ],
             [
              1,
              "#f0f921"
             ]
            ],
            "type": "surface"
           }
          ],
          "table": [
           {
            "cells": {
             "fill": {
              "color": "#EBF0F8"
             },
             "line": {
              "color": "white"
             }
            },
            "header": {
             "fill": {
              "color": "#C8D4E3"
             },
             "line": {
              "color": "white"
             }
            },
            "type": "table"
           }
          ]
         },
         "layout": {
          "annotationdefaults": {
           "arrowcolor": "#2a3f5f",
           "arrowhead": 0,
           "arrowwidth": 1
          },
          "autotypenumbers": "strict",
          "coloraxis": {
           "colorbar": {
            "outlinewidth": 0,
            "ticks": ""
           }
          },
          "colorscale": {
           "diverging": [
            [
             0,
             "#8e0152"
            ],
            [
             0.1,
             "#c51b7d"
            ],
            [
             0.2,
             "#de77ae"
            ],
            [
             0.3,
             "#f1b6da"
            ],
            [
             0.4,
             "#fde0ef"
            ],
            [
             0.5,
             "#f7f7f7"
            ],
            [
             0.6,
             "#e6f5d0"
            ],
            [
             0.7,
             "#b8e186"
            ],
            [
             0.8,
             "#7fbc41"
            ],
            [
             0.9,
             "#4d9221"
            ],
            [
             1,
             "#276419"
            ]
           ],
           "sequential": [
            [
             0,
             "#0d0887"
            ],
            [
             0.1111111111111111,
             "#46039f"
            ],
            [
             0.2222222222222222,
             "#7201a8"
            ],
            [
             0.3333333333333333,
             "#9c179e"
            ],
            [
             0.4444444444444444,
             "#bd3786"
            ],
            [
             0.5555555555555556,
             "#d8576b"
            ],
            [
             0.6666666666666666,
             "#ed7953"
            ],
            [
             0.7777777777777778,
             "#fb9f3a"
            ],
            [
             0.8888888888888888,
             "#fdca26"
            ],
            [
             1,
             "#f0f921"
            ]
           ],
           "sequentialminus": [
            [
             0,
             "#0d0887"
            ],
            [
             0.1111111111111111,
             "#46039f"
            ],
            [
             0.2222222222222222,
             "#7201a8"
            ],
            [
             0.3333333333333333,
             "#9c179e"
            ],
            [
             0.4444444444444444,
             "#bd3786"
            ],
            [
             0.5555555555555556,
             "#d8576b"
            ],
            [
             0.6666666666666666,
             "#ed7953"
            ],
            [
             0.7777777777777778,
             "#fb9f3a"
            ],
            [
             0.8888888888888888,
             "#fdca26"
            ],
            [
             1,
             "#f0f921"
            ]
           ]
          },
          "colorway": [
           "#636efa",
           "#EF553B",
           "#00cc96",
           "#ab63fa",
           "#FFA15A",
           "#19d3f3",
           "#FF6692",
           "#B6E880",
           "#FF97FF",
           "#FECB52"
          ],
          "font": {
           "color": "#2a3f5f"
          },
          "geo": {
           "bgcolor": "white",
           "lakecolor": "white",
           "landcolor": "#E5ECF6",
           "showlakes": true,
           "showland": true,
           "subunitcolor": "white"
          },
          "hoverlabel": {
           "align": "left"
          },
          "hovermode": "closest",
          "mapbox": {
           "style": "light"
          },
          "paper_bgcolor": "white",
          "plot_bgcolor": "#E5ECF6",
          "polar": {
           "angularaxis": {
            "gridcolor": "white",
            "linecolor": "white",
            "ticks": ""
           },
           "bgcolor": "#E5ECF6",
           "radialaxis": {
            "gridcolor": "white",
            "linecolor": "white",
            "ticks": ""
           }
          },
          "scene": {
           "xaxis": {
            "backgroundcolor": "#E5ECF6",
            "gridcolor": "white",
            "gridwidth": 2,
            "linecolor": "white",
            "showbackground": true,
            "ticks": "",
            "zerolinecolor": "white"
           },
           "yaxis": {
            "backgroundcolor": "#E5ECF6",
            "gridcolor": "white",
            "gridwidth": 2,
            "linecolor": "white",
            "showbackground": true,
            "ticks": "",
            "zerolinecolor": "white"
           },
           "zaxis": {
            "backgroundcolor": "#E5ECF6",
            "gridcolor": "white",
            "gridwidth": 2,
            "linecolor": "white",
            "showbackground": true,
            "ticks": "",
            "zerolinecolor": "white"
           }
          },
          "shapedefaults": {
           "line": {
            "color": "#2a3f5f"
           }
          },
          "ternary": {
           "aaxis": {
            "gridcolor": "white",
            "linecolor": "white",
            "ticks": ""
           },
           "baxis": {
            "gridcolor": "white",
            "linecolor": "white",
            "ticks": ""
           },
           "bgcolor": "#E5ECF6",
           "caxis": {
            "gridcolor": "white",
            "linecolor": "white",
            "ticks": ""
           }
          },
          "title": {
           "x": 0.05
          },
          "xaxis": {
           "automargin": true,
           "gridcolor": "white",
           "linecolor": "white",
           "ticks": "",
           "title": {
            "standoff": 15
           },
           "zerolinecolor": "white",
           "zerolinewidth": 2
          },
          "yaxis": {
           "automargin": true,
           "gridcolor": "white",
           "linecolor": "white",
           "ticks": "",
           "title": {
            "standoff": 15
           },
           "zerolinecolor": "white",
           "zerolinewidth": 2
          }
         }
        }
       }
      }
     },
     "metadata": {},
     "output_type": "display_data"
    }
   ],
   "source": [
    "fig = go.Figure()\n",
    "fig.add_trace(go.Bar(x=usa_total[\"age\"], y=usa_total[\"Population\"]))\n",
    "fig.add_trace(go.Bar(x=usa_total[\"age\"], y=usa_total[\"Rate\"]))"
   ]
  },
  {
   "cell_type": "code",
   "execution_count": 14,
   "metadata": {},
   "outputs": [
    {
     "data": {
      "application/vnd.plotly.v1+json": {
       "config": {
        "plotlyServerURL": "https://plot.ly"
       },
       "data": [
        {
         "mode": "lines",
         "type": "scatter",
         "x": [
          0,
          1,
          2,
          3,
          4,
          5,
          6,
          7,
          8,
          9,
          10,
          11,
          12,
          13,
          14,
          15,
          16,
          17,
          18,
          19,
          20,
          21,
          22,
          23,
          24,
          25,
          26,
          27,
          28,
          29,
          30,
          31,
          32,
          33,
          34,
          35,
          36,
          37,
          38,
          39,
          40,
          41,
          42,
          43,
          44,
          45,
          46,
          47,
          48,
          49,
          50,
          51,
          52,
          53,
          54,
          55,
          56,
          57,
          58,
          59,
          60,
          61,
          62,
          63,
          64,
          65,
          66,
          67,
          68,
          69,
          70,
          71,
          72,
          73,
          74,
          75,
          76,
          77,
          78,
          79,
          80,
          81,
          82,
          83,
          84
         ],
         "y": [
          553.0190967504544,
          38.68337368718818,
          24.11161686149912,
          18.458790131608694,
          15.243202484392118,
          13.293723022518071,
          13.315418043601941,
          11.529139125371652,
          11.665055597098858,
          11.163919540096318,
          12.58132641748941,
          12.830842546024087,
          14.928352740191896,
          16.65636159446807,
          20.836607025307586,
          27.632903237356775,
          35.77306471485478,
          45.66515581330666,
          64.76419231821225,
          70.11673648134493,
          77.93933236471628,
          89.71529965763163,
          90.80235793676289,
          95.89483338885016,
          98.19171513628233,
          105.01865433761857,
          110.5771284734907,
          113.91946422404543,
          119.47143694649519,
          124.69858594224873,
          133.9940499100205,
          138.26232794669227,
          141.7113153596715,
          150.75661412780994,
          153.69500274879758,
          162.2603086125618,
          167.79754600101623,
          176.3699972897902,
          189.9165175576973,
          192.9293100238623,
          210.57521927395226,
          210.33496888505053,
          221.17164363665455,
          231.6530186505589,
          240.31608597841085,
          264.9880442709819,
          287.91280443218085,
          309.9773831590537,
          335.8896124532037,
          355.83835187740704,
          394.2564661380295,
          429.48368808566096,
          469.4908418299648,
          506.11339663212044,
          555.6480706651311,
          612.4723258198244,
          664.2030205805253,
          729.0463650735713,
          783.1821177178794,
          831.2234996392043,
          909.7828819259837,
          985.060633350193,
          1057.9445682756166,
          1135.1351621886204,
          1188.0793139636783,
          1275.8713049366593,
          1369.7914550551689,
          1463.9896756673595,
          1560.6752404367094,
          1652.9830221960674,
          1828.1291444777703,
          1991.3833004171474,
          2103.697594019269,
          2435.409369212995,
          2558.948897232087,
          2872.556164211572,
          3105.617730805366,
          3447.671458790819,
          3784.4814410829276,
          4144.54822118008,
          4632.957313807974,
          5111.385663859136,
          5729.610155468964,
          6386.782373022698,
          7016.203124868299
         ]
        }
       ],
       "layout": {
        "template": {
         "data": {
          "bar": [
           {
            "error_x": {
             "color": "#2a3f5f"
            },
            "error_y": {
             "color": "#2a3f5f"
            },
            "marker": {
             "line": {
              "color": "#E5ECF6",
              "width": 0.5
             },
             "pattern": {
              "fillmode": "overlay",
              "size": 10,
              "solidity": 0.2
             }
            },
            "type": "bar"
           }
          ],
          "barpolar": [
           {
            "marker": {
             "line": {
              "color": "#E5ECF6",
              "width": 0.5
             },
             "pattern": {
              "fillmode": "overlay",
              "size": 10,
              "solidity": 0.2
             }
            },
            "type": "barpolar"
           }
          ],
          "carpet": [
           {
            "aaxis": {
             "endlinecolor": "#2a3f5f",
             "gridcolor": "white",
             "linecolor": "white",
             "minorgridcolor": "white",
             "startlinecolor": "#2a3f5f"
            },
            "baxis": {
             "endlinecolor": "#2a3f5f",
             "gridcolor": "white",
             "linecolor": "white",
             "minorgridcolor": "white",
             "startlinecolor": "#2a3f5f"
            },
            "type": "carpet"
           }
          ],
          "choropleth": [
           {
            "colorbar": {
             "outlinewidth": 0,
             "ticks": ""
            },
            "type": "choropleth"
           }
          ],
          "contour": [
           {
            "colorbar": {
             "outlinewidth": 0,
             "ticks": ""
            },
            "colorscale": [
             [
              0,
              "#0d0887"
             ],
             [
              0.1111111111111111,
              "#46039f"
             ],
             [
              0.2222222222222222,
              "#7201a8"
             ],
             [
              0.3333333333333333,
              "#9c179e"
             ],
             [
              0.4444444444444444,
              "#bd3786"
             ],
             [
              0.5555555555555556,
              "#d8576b"
             ],
             [
              0.6666666666666666,
              "#ed7953"
             ],
             [
              0.7777777777777778,
              "#fb9f3a"
             ],
             [
              0.8888888888888888,
              "#fdca26"
             ],
             [
              1,
              "#f0f921"
             ]
            ],
            "type": "contour"
           }
          ],
          "contourcarpet": [
           {
            "colorbar": {
             "outlinewidth": 0,
             "ticks": ""
            },
            "type": "contourcarpet"
           }
          ],
          "heatmap": [
           {
            "colorbar": {
             "outlinewidth": 0,
             "ticks": ""
            },
            "colorscale": [
             [
              0,
              "#0d0887"
             ],
             [
              0.1111111111111111,
              "#46039f"
             ],
             [
              0.2222222222222222,
              "#7201a8"
             ],
             [
              0.3333333333333333,
              "#9c179e"
             ],
             [
              0.4444444444444444,
              "#bd3786"
             ],
             [
              0.5555555555555556,
              "#d8576b"
             ],
             [
              0.6666666666666666,
              "#ed7953"
             ],
             [
              0.7777777777777778,
              "#fb9f3a"
             ],
             [
              0.8888888888888888,
              "#fdca26"
             ],
             [
              1,
              "#f0f921"
             ]
            ],
            "type": "heatmap"
           }
          ],
          "heatmapgl": [
           {
            "colorbar": {
             "outlinewidth": 0,
             "ticks": ""
            },
            "colorscale": [
             [
              0,
              "#0d0887"
             ],
             [
              0.1111111111111111,
              "#46039f"
             ],
             [
              0.2222222222222222,
              "#7201a8"
             ],
             [
              0.3333333333333333,
              "#9c179e"
             ],
             [
              0.4444444444444444,
              "#bd3786"
             ],
             [
              0.5555555555555556,
              "#d8576b"
             ],
             [
              0.6666666666666666,
              "#ed7953"
             ],
             [
              0.7777777777777778,
              "#fb9f3a"
             ],
             [
              0.8888888888888888,
              "#fdca26"
             ],
             [
              1,
              "#f0f921"
             ]
            ],
            "type": "heatmapgl"
           }
          ],
          "histogram": [
           {
            "marker": {
             "pattern": {
              "fillmode": "overlay",
              "size": 10,
              "solidity": 0.2
             }
            },
            "type": "histogram"
           }
          ],
          "histogram2d": [
           {
            "colorbar": {
             "outlinewidth": 0,
             "ticks": ""
            },
            "colorscale": [
             [
              0,
              "#0d0887"
             ],
             [
              0.1111111111111111,
              "#46039f"
             ],
             [
              0.2222222222222222,
              "#7201a8"
             ],
             [
              0.3333333333333333,
              "#9c179e"
             ],
             [
              0.4444444444444444,
              "#bd3786"
             ],
             [
              0.5555555555555556,
              "#d8576b"
             ],
             [
              0.6666666666666666,
              "#ed7953"
             ],
             [
              0.7777777777777778,
              "#fb9f3a"
             ],
             [
              0.8888888888888888,
              "#fdca26"
             ],
             [
              1,
              "#f0f921"
             ]
            ],
            "type": "histogram2d"
           }
          ],
          "histogram2dcontour": [
           {
            "colorbar": {
             "outlinewidth": 0,
             "ticks": ""
            },
            "colorscale": [
             [
              0,
              "#0d0887"
             ],
             [
              0.1111111111111111,
              "#46039f"
             ],
             [
              0.2222222222222222,
              "#7201a8"
             ],
             [
              0.3333333333333333,
              "#9c179e"
             ],
             [
              0.4444444444444444,
              "#bd3786"
             ],
             [
              0.5555555555555556,
              "#d8576b"
             ],
             [
              0.6666666666666666,
              "#ed7953"
             ],
             [
              0.7777777777777778,
              "#fb9f3a"
             ],
             [
              0.8888888888888888,
              "#fdca26"
             ],
             [
              1,
              "#f0f921"
             ]
            ],
            "type": "histogram2dcontour"
           }
          ],
          "mesh3d": [
           {
            "colorbar": {
             "outlinewidth": 0,
             "ticks": ""
            },
            "type": "mesh3d"
           }
          ],
          "parcoords": [
           {
            "line": {
             "colorbar": {
              "outlinewidth": 0,
              "ticks": ""
             }
            },
            "type": "parcoords"
           }
          ],
          "pie": [
           {
            "automargin": true,
            "type": "pie"
           }
          ],
          "scatter": [
           {
            "marker": {
             "colorbar": {
              "outlinewidth": 0,
              "ticks": ""
             }
            },
            "type": "scatter"
           }
          ],
          "scatter3d": [
           {
            "line": {
             "colorbar": {
              "outlinewidth": 0,
              "ticks": ""
             }
            },
            "marker": {
             "colorbar": {
              "outlinewidth": 0,
              "ticks": ""
             }
            },
            "type": "scatter3d"
           }
          ],
          "scattercarpet": [
           {
            "marker": {
             "colorbar": {
              "outlinewidth": 0,
              "ticks": ""
             }
            },
            "type": "scattercarpet"
           }
          ],
          "scattergeo": [
           {
            "marker": {
             "colorbar": {
              "outlinewidth": 0,
              "ticks": ""
             }
            },
            "type": "scattergeo"
           }
          ],
          "scattergl": [
           {
            "marker": {
             "colorbar": {
              "outlinewidth": 0,
              "ticks": ""
             }
            },
            "type": "scattergl"
           }
          ],
          "scattermapbox": [
           {
            "marker": {
             "colorbar": {
              "outlinewidth": 0,
              "ticks": ""
             }
            },
            "type": "scattermapbox"
           }
          ],
          "scatterpolar": [
           {
            "marker": {
             "colorbar": {
              "outlinewidth": 0,
              "ticks": ""
             }
            },
            "type": "scatterpolar"
           }
          ],
          "scatterpolargl": [
           {
            "marker": {
             "colorbar": {
              "outlinewidth": 0,
              "ticks": ""
             }
            },
            "type": "scatterpolargl"
           }
          ],
          "scatterternary": [
           {
            "marker": {
             "colorbar": {
              "outlinewidth": 0,
              "ticks": ""
             }
            },
            "type": "scatterternary"
           }
          ],
          "surface": [
           {
            "colorbar": {
             "outlinewidth": 0,
             "ticks": ""
            },
            "colorscale": [
             [
              0,
              "#0d0887"
             ],
             [
              0.1111111111111111,
              "#46039f"
             ],
             [
              0.2222222222222222,
              "#7201a8"
             ],
             [
              0.3333333333333333,
              "#9c179e"
             ],
             [
              0.4444444444444444,
              "#bd3786"
             ],
             [
              0.5555555555555556,
              "#d8576b"
             ],
             [
              0.6666666666666666,
              "#ed7953"
             ],
             [
              0.7777777777777778,
              "#fb9f3a"
             ],
             [
              0.8888888888888888,
              "#fdca26"
             ],
             [
              1,
              "#f0f921"
             ]
            ],
            "type": "surface"
           }
          ],
          "table": [
           {
            "cells": {
             "fill": {
              "color": "#EBF0F8"
             },
             "line": {
              "color": "white"
             }
            },
            "header": {
             "fill": {
              "color": "#C8D4E3"
             },
             "line": {
              "color": "white"
             }
            },
            "type": "table"
           }
          ]
         },
         "layout": {
          "annotationdefaults": {
           "arrowcolor": "#2a3f5f",
           "arrowhead": 0,
           "arrowwidth": 1
          },
          "autotypenumbers": "strict",
          "coloraxis": {
           "colorbar": {
            "outlinewidth": 0,
            "ticks": ""
           }
          },
          "colorscale": {
           "diverging": [
            [
             0,
             "#8e0152"
            ],
            [
             0.1,
             "#c51b7d"
            ],
            [
             0.2,
             "#de77ae"
            ],
            [
             0.3,
             "#f1b6da"
            ],
            [
             0.4,
             "#fde0ef"
            ],
            [
             0.5,
             "#f7f7f7"
            ],
            [
             0.6,
             "#e6f5d0"
            ],
            [
             0.7,
             "#b8e186"
            ],
            [
             0.8,
             "#7fbc41"
            ],
            [
             0.9,
             "#4d9221"
            ],
            [
             1,
             "#276419"
            ]
           ],
           "sequential": [
            [
             0,
             "#0d0887"
            ],
            [
             0.1111111111111111,
             "#46039f"
            ],
            [
             0.2222222222222222,
             "#7201a8"
            ],
            [
             0.3333333333333333,
             "#9c179e"
            ],
            [
             0.4444444444444444,
             "#bd3786"
            ],
            [
             0.5555555555555556,
             "#d8576b"
            ],
            [
             0.6666666666666666,
             "#ed7953"
            ],
            [
             0.7777777777777778,
             "#fb9f3a"
            ],
            [
             0.8888888888888888,
             "#fdca26"
            ],
            [
             1,
             "#f0f921"
            ]
           ],
           "sequentialminus": [
            [
             0,
             "#0d0887"
            ],
            [
             0.1111111111111111,
             "#46039f"
            ],
            [
             0.2222222222222222,
             "#7201a8"
            ],
            [
             0.3333333333333333,
             "#9c179e"
            ],
            [
             0.4444444444444444,
             "#bd3786"
            ],
            [
             0.5555555555555556,
             "#d8576b"
            ],
            [
             0.6666666666666666,
             "#ed7953"
            ],
            [
             0.7777777777777778,
             "#fb9f3a"
            ],
            [
             0.8888888888888888,
             "#fdca26"
            ],
            [
             1,
             "#f0f921"
            ]
           ]
          },
          "colorway": [
           "#636efa",
           "#EF553B",
           "#00cc96",
           "#ab63fa",
           "#FFA15A",
           "#19d3f3",
           "#FF6692",
           "#B6E880",
           "#FF97FF",
           "#FECB52"
          ],
          "font": {
           "color": "#2a3f5f"
          },
          "geo": {
           "bgcolor": "white",
           "lakecolor": "white",
           "landcolor": "#E5ECF6",
           "showlakes": true,
           "showland": true,
           "subunitcolor": "white"
          },
          "hoverlabel": {
           "align": "left"
          },
          "hovermode": "closest",
          "mapbox": {
           "style": "light"
          },
          "paper_bgcolor": "white",
          "plot_bgcolor": "#E5ECF6",
          "polar": {
           "angularaxis": {
            "gridcolor": "white",
            "linecolor": "white",
            "ticks": ""
           },
           "bgcolor": "#E5ECF6",
           "radialaxis": {
            "gridcolor": "white",
            "linecolor": "white",
            "ticks": ""
           }
          },
          "scene": {
           "xaxis": {
            "backgroundcolor": "#E5ECF6",
            "gridcolor": "white",
            "gridwidth": 2,
            "linecolor": "white",
            "showbackground": true,
            "ticks": "",
            "zerolinecolor": "white"
           },
           "yaxis": {
            "backgroundcolor": "#E5ECF6",
            "gridcolor": "white",
            "gridwidth": 2,
            "linecolor": "white",
            "showbackground": true,
            "ticks": "",
            "zerolinecolor": "white"
           },
           "zaxis": {
            "backgroundcolor": "#E5ECF6",
            "gridcolor": "white",
            "gridwidth": 2,
            "linecolor": "white",
            "showbackground": true,
            "ticks": "",
            "zerolinecolor": "white"
           }
          },
          "shapedefaults": {
           "line": {
            "color": "#2a3f5f"
           }
          },
          "ternary": {
           "aaxis": {
            "gridcolor": "white",
            "linecolor": "white",
            "ticks": ""
           },
           "baxis": {
            "gridcolor": "white",
            "linecolor": "white",
            "ticks": ""
           },
           "bgcolor": "#E5ECF6",
           "caxis": {
            "gridcolor": "white",
            "linecolor": "white",
            "ticks": ""
           }
          },
          "title": {
           "x": 0.05
          },
          "xaxis": {
           "automargin": true,
           "gridcolor": "white",
           "linecolor": "white",
           "ticks": "",
           "title": {
            "standoff": 15
           },
           "zerolinecolor": "white",
           "zerolinewidth": 2
          },
          "yaxis": {
           "automargin": true,
           "gridcolor": "white",
           "linecolor": "white",
           "ticks": "",
           "title": {
            "standoff": 15
           },
           "zerolinecolor": "white",
           "zerolinewidth": 2
          }
         }
        }
       }
      }
     },
     "metadata": {},
     "output_type": "display_data"
    }
   ],
   "source": [
    "fig = go.Figure()\n",
    "fig.add_trace(go.Scatter(x=usa_total[\"age\"], y=usa_total[\"Rate\"], mode=\"lines\"))"
   ]
  },
  {
   "cell_type": "code",
   "execution_count": null,
   "metadata": {},
   "outputs": [],
   "source": []
  },
  {
   "cell_type": "code",
   "execution_count": null,
   "metadata": {},
   "outputs": [],
   "source": []
  },
  {
   "cell_type": "code",
   "execution_count": 15,
   "metadata": {},
   "outputs": [
    {
     "data": {
      "text/plain": [
       "array(['85+', '75-84', '65-74', '55-64', '1', '45-54', '35-44', '25-34',\n",
       "       '15-24', '1-4', '5-14'], dtype=object)"
      ]
     },
     "execution_count": 15,
     "metadata": {},
     "output_type": "execute_result"
    }
   ],
   "source": [
    "df[\"Ten-Year Age Groups Code\"].unique()"
   ]
  },
  {
   "cell_type": "code",
   "execution_count": 16,
   "metadata": {},
   "outputs": [],
   "source": [
    "child = state_deaths[state_deaths[\"Ten-Year Age Groups Code\"] == '5-14']\n",
    "part = Partisian.get_state_part_score()\n",
    "child = pd.merge(child, part, left_on=\"State_Abv\", right_on=\"State\")\n"
   ]
  },
  {
   "cell_type": "code",
   "execution_count": 17,
   "metadata": {},
   "outputs": [
    {
     "data": {
      "application/vnd.plotly.v1+json": {
       "config": {
        "plotlyServerURL": "https://plot.ly"
       },
       "data": [
        {
         "mode": "markers",
         "name": "Child",
         "type": "scatter",
         "x": [
          0.8,
          1,
          0.4666666666666667,
          0.8666666666666667,
          0.8666666666666667,
          0.8666666666666667,
          0.3333333333333333,
          0.2,
          0.3333333333333333,
          0.2,
          0.8666666666666667,
          0.3333333333333333,
          -0.4666666666666667,
          1,
          0.4666666666666667,
          0.4,
          1,
          0.5333333333333333,
          0.8666666666666667,
          1,
          0.8666666666666667,
          -0.6,
          0.8666666666666667,
          -0.8666666666666667,
          0.2,
          1,
          0.26666666666666666,
          1,
          0.4,
          0,
          1,
          0.13333333333333333,
          -0.3333333333333333,
          1,
          -0.07142857142857142,
          -0.6666666666666666,
          -0.8666666666666667,
          -0.13333333333333333,
          -0.26666666666666666,
          -0.7333333333333333,
          -0.6666666666666666,
          -0.5333333333333333,
          -0.4666666666666667,
          -0.8666666666666667,
          -0.8666666666666667,
          -1,
          -0.5333333333333333,
          -0.7333333333333333
         ],
         "y": [
          24.77,
          23.16,
          21.86,
          20.71,
          19.55,
          18.77,
          18.59,
          18.56,
          17.8,
          17.31,
          17.05,
          16.16,
          16.16,
          16.08,
          15.98,
          15.88,
          15.78,
          15.39,
          15.36,
          15.22,
          15.13,
          14.78,
          14.72,
          14.32,
          13.94,
          13.8,
          13.62,
          13.47,
          13.44,
          13.27,
          13.15,
          12.98,
          12.85,
          12.81,
          11.99,
          11.9,
          11.33,
          11.25,
          10.92,
          10.79,
          10.63,
          10.3,
          10.24,
          9.97,
          9.78,
          9.65,
          8.79,
          8.56
         ]
        }
       ],
       "layout": {
        "template": {
         "data": {
          "bar": [
           {
            "error_x": {
             "color": "#2a3f5f"
            },
            "error_y": {
             "color": "#2a3f5f"
            },
            "marker": {
             "line": {
              "color": "#E5ECF6",
              "width": 0.5
             },
             "pattern": {
              "fillmode": "overlay",
              "size": 10,
              "solidity": 0.2
             }
            },
            "type": "bar"
           }
          ],
          "barpolar": [
           {
            "marker": {
             "line": {
              "color": "#E5ECF6",
              "width": 0.5
             },
             "pattern": {
              "fillmode": "overlay",
              "size": 10,
              "solidity": 0.2
             }
            },
            "type": "barpolar"
           }
          ],
          "carpet": [
           {
            "aaxis": {
             "endlinecolor": "#2a3f5f",
             "gridcolor": "white",
             "linecolor": "white",
             "minorgridcolor": "white",
             "startlinecolor": "#2a3f5f"
            },
            "baxis": {
             "endlinecolor": "#2a3f5f",
             "gridcolor": "white",
             "linecolor": "white",
             "minorgridcolor": "white",
             "startlinecolor": "#2a3f5f"
            },
            "type": "carpet"
           }
          ],
          "choropleth": [
           {
            "colorbar": {
             "outlinewidth": 0,
             "ticks": ""
            },
            "type": "choropleth"
           }
          ],
          "contour": [
           {
            "colorbar": {
             "outlinewidth": 0,
             "ticks": ""
            },
            "colorscale": [
             [
              0,
              "#0d0887"
             ],
             [
              0.1111111111111111,
              "#46039f"
             ],
             [
              0.2222222222222222,
              "#7201a8"
             ],
             [
              0.3333333333333333,
              "#9c179e"
             ],
             [
              0.4444444444444444,
              "#bd3786"
             ],
             [
              0.5555555555555556,
              "#d8576b"
             ],
             [
              0.6666666666666666,
              "#ed7953"
             ],
             [
              0.7777777777777778,
              "#fb9f3a"
             ],
             [
              0.8888888888888888,
              "#fdca26"
             ],
             [
              1,
              "#f0f921"
             ]
            ],
            "type": "contour"
           }
          ],
          "contourcarpet": [
           {
            "colorbar": {
             "outlinewidth": 0,
             "ticks": ""
            },
            "type": "contourcarpet"
           }
          ],
          "heatmap": [
           {
            "colorbar": {
             "outlinewidth": 0,
             "ticks": ""
            },
            "colorscale": [
             [
              0,
              "#0d0887"
             ],
             [
              0.1111111111111111,
              "#46039f"
             ],
             [
              0.2222222222222222,
              "#7201a8"
             ],
             [
              0.3333333333333333,
              "#9c179e"
             ],
             [
              0.4444444444444444,
              "#bd3786"
             ],
             [
              0.5555555555555556,
              "#d8576b"
             ],
             [
              0.6666666666666666,
              "#ed7953"
             ],
             [
              0.7777777777777778,
              "#fb9f3a"
             ],
             [
              0.8888888888888888,
              "#fdca26"
             ],
             [
              1,
              "#f0f921"
             ]
            ],
            "type": "heatmap"
           }
          ],
          "heatmapgl": [
           {
            "colorbar": {
             "outlinewidth": 0,
             "ticks": ""
            },
            "colorscale": [
             [
              0,
              "#0d0887"
             ],
             [
              0.1111111111111111,
              "#46039f"
             ],
             [
              0.2222222222222222,
              "#7201a8"
             ],
             [
              0.3333333333333333,
              "#9c179e"
             ],
             [
              0.4444444444444444,
              "#bd3786"
             ],
             [
              0.5555555555555556,
              "#d8576b"
             ],
             [
              0.6666666666666666,
              "#ed7953"
             ],
             [
              0.7777777777777778,
              "#fb9f3a"
             ],
             [
              0.8888888888888888,
              "#fdca26"
             ],
             [
              1,
              "#f0f921"
             ]
            ],
            "type": "heatmapgl"
           }
          ],
          "histogram": [
           {
            "marker": {
             "pattern": {
              "fillmode": "overlay",
              "size": 10,
              "solidity": 0.2
             }
            },
            "type": "histogram"
           }
          ],
          "histogram2d": [
           {
            "colorbar": {
             "outlinewidth": 0,
             "ticks": ""
            },
            "colorscale": [
             [
              0,
              "#0d0887"
             ],
             [
              0.1111111111111111,
              "#46039f"
             ],
             [
              0.2222222222222222,
              "#7201a8"
             ],
             [
              0.3333333333333333,
              "#9c179e"
             ],
             [
              0.4444444444444444,
              "#bd3786"
             ],
             [
              0.5555555555555556,
              "#d8576b"
             ],
             [
              0.6666666666666666,
              "#ed7953"
             ],
             [
              0.7777777777777778,
              "#fb9f3a"
             ],
             [
              0.8888888888888888,
              "#fdca26"
             ],
             [
              1,
              "#f0f921"
             ]
            ],
            "type": "histogram2d"
           }
          ],
          "histogram2dcontour": [
           {
            "colorbar": {
             "outlinewidth": 0,
             "ticks": ""
            },
            "colorscale": [
             [
              0,
              "#0d0887"
             ],
             [
              0.1111111111111111,
              "#46039f"
             ],
             [
              0.2222222222222222,
              "#7201a8"
             ],
             [
              0.3333333333333333,
              "#9c179e"
             ],
             [
              0.4444444444444444,
              "#bd3786"
             ],
             [
              0.5555555555555556,
              "#d8576b"
             ],
             [
              0.6666666666666666,
              "#ed7953"
             ],
             [
              0.7777777777777778,
              "#fb9f3a"
             ],
             [
              0.8888888888888888,
              "#fdca26"
             ],
             [
              1,
              "#f0f921"
             ]
            ],
            "type": "histogram2dcontour"
           }
          ],
          "mesh3d": [
           {
            "colorbar": {
             "outlinewidth": 0,
             "ticks": ""
            },
            "type": "mesh3d"
           }
          ],
          "parcoords": [
           {
            "line": {
             "colorbar": {
              "outlinewidth": 0,
              "ticks": ""
             }
            },
            "type": "parcoords"
           }
          ],
          "pie": [
           {
            "automargin": true,
            "type": "pie"
           }
          ],
          "scatter": [
           {
            "marker": {
             "colorbar": {
              "outlinewidth": 0,
              "ticks": ""
             }
            },
            "type": "scatter"
           }
          ],
          "scatter3d": [
           {
            "line": {
             "colorbar": {
              "outlinewidth": 0,
              "ticks": ""
             }
            },
            "marker": {
             "colorbar": {
              "outlinewidth": 0,
              "ticks": ""
             }
            },
            "type": "scatter3d"
           }
          ],
          "scattercarpet": [
           {
            "marker": {
             "colorbar": {
              "outlinewidth": 0,
              "ticks": ""
             }
            },
            "type": "scattercarpet"
           }
          ],
          "scattergeo": [
           {
            "marker": {
             "colorbar": {
              "outlinewidth": 0,
              "ticks": ""
             }
            },
            "type": "scattergeo"
           }
          ],
          "scattergl": [
           {
            "marker": {
             "colorbar": {
              "outlinewidth": 0,
              "ticks": ""
             }
            },
            "type": "scattergl"
           }
          ],
          "scattermapbox": [
           {
            "marker": {
             "colorbar": {
              "outlinewidth": 0,
              "ticks": ""
             }
            },
            "type": "scattermapbox"
           }
          ],
          "scatterpolar": [
           {
            "marker": {
             "colorbar": {
              "outlinewidth": 0,
              "ticks": ""
             }
            },
            "type": "scatterpolar"
           }
          ],
          "scatterpolargl": [
           {
            "marker": {
             "colorbar": {
              "outlinewidth": 0,
              "ticks": ""
             }
            },
            "type": "scatterpolargl"
           }
          ],
          "scatterternary": [
           {
            "marker": {
             "colorbar": {
              "outlinewidth": 0,
              "ticks": ""
             }
            },
            "type": "scatterternary"
           }
          ],
          "surface": [
           {
            "colorbar": {
             "outlinewidth": 0,
             "ticks": ""
            },
            "colorscale": [
             [
              0,
              "#0d0887"
             ],
             [
              0.1111111111111111,
              "#46039f"
             ],
             [
              0.2222222222222222,
              "#7201a8"
             ],
             [
              0.3333333333333333,
              "#9c179e"
             ],
             [
              0.4444444444444444,
              "#bd3786"
             ],
             [
              0.5555555555555556,
              "#d8576b"
             ],
             [
              0.6666666666666666,
              "#ed7953"
             ],
             [
              0.7777777777777778,
              "#fb9f3a"
             ],
             [
              0.8888888888888888,
              "#fdca26"
             ],
             [
              1,
              "#f0f921"
             ]
            ],
            "type": "surface"
           }
          ],
          "table": [
           {
            "cells": {
             "fill": {
              "color": "#EBF0F8"
             },
             "line": {
              "color": "white"
             }
            },
            "header": {
             "fill": {
              "color": "#C8D4E3"
             },
             "line": {
              "color": "white"
             }
            },
            "type": "table"
           }
          ]
         },
         "layout": {
          "annotationdefaults": {
           "arrowcolor": "#2a3f5f",
           "arrowhead": 0,
           "arrowwidth": 1
          },
          "autotypenumbers": "strict",
          "coloraxis": {
           "colorbar": {
            "outlinewidth": 0,
            "ticks": ""
           }
          },
          "colorscale": {
           "diverging": [
            [
             0,
             "#8e0152"
            ],
            [
             0.1,
             "#c51b7d"
            ],
            [
             0.2,
             "#de77ae"
            ],
            [
             0.3,
             "#f1b6da"
            ],
            [
             0.4,
             "#fde0ef"
            ],
            [
             0.5,
             "#f7f7f7"
            ],
            [
             0.6,
             "#e6f5d0"
            ],
            [
             0.7,
             "#b8e186"
            ],
            [
             0.8,
             "#7fbc41"
            ],
            [
             0.9,
             "#4d9221"
            ],
            [
             1,
             "#276419"
            ]
           ],
           "sequential": [
            [
             0,
             "#0d0887"
            ],
            [
             0.1111111111111111,
             "#46039f"
            ],
            [
             0.2222222222222222,
             "#7201a8"
            ],
            [
             0.3333333333333333,
             "#9c179e"
            ],
            [
             0.4444444444444444,
             "#bd3786"
            ],
            [
             0.5555555555555556,
             "#d8576b"
            ],
            [
             0.6666666666666666,
             "#ed7953"
            ],
            [
             0.7777777777777778,
             "#fb9f3a"
            ],
            [
             0.8888888888888888,
             "#fdca26"
            ],
            [
             1,
             "#f0f921"
            ]
           ],
           "sequentialminus": [
            [
             0,
             "#0d0887"
            ],
            [
             0.1111111111111111,
             "#46039f"
            ],
            [
             0.2222222222222222,
             "#7201a8"
            ],
            [
             0.3333333333333333,
             "#9c179e"
            ],
            [
             0.4444444444444444,
             "#bd3786"
            ],
            [
             0.5555555555555556,
             "#d8576b"
            ],
            [
             0.6666666666666666,
             "#ed7953"
            ],
            [
             0.7777777777777778,
             "#fb9f3a"
            ],
            [
             0.8888888888888888,
             "#fdca26"
            ],
            [
             1,
             "#f0f921"
            ]
           ]
          },
          "colorway": [
           "#636efa",
           "#EF553B",
           "#00cc96",
           "#ab63fa",
           "#FFA15A",
           "#19d3f3",
           "#FF6692",
           "#B6E880",
           "#FF97FF",
           "#FECB52"
          ],
          "font": {
           "color": "#2a3f5f"
          },
          "geo": {
           "bgcolor": "white",
           "lakecolor": "white",
           "landcolor": "#E5ECF6",
           "showlakes": true,
           "showland": true,
           "subunitcolor": "white"
          },
          "hoverlabel": {
           "align": "left"
          },
          "hovermode": "closest",
          "mapbox": {
           "style": "light"
          },
          "paper_bgcolor": "white",
          "plot_bgcolor": "#E5ECF6",
          "polar": {
           "angularaxis": {
            "gridcolor": "white",
            "linecolor": "white",
            "ticks": ""
           },
           "bgcolor": "#E5ECF6",
           "radialaxis": {
            "gridcolor": "white",
            "linecolor": "white",
            "ticks": ""
           }
          },
          "scene": {
           "xaxis": {
            "backgroundcolor": "#E5ECF6",
            "gridcolor": "white",
            "gridwidth": 2,
            "linecolor": "white",
            "showbackground": true,
            "ticks": "",
            "zerolinecolor": "white"
           },
           "yaxis": {
            "backgroundcolor": "#E5ECF6",
            "gridcolor": "white",
            "gridwidth": 2,
            "linecolor": "white",
            "showbackground": true,
            "ticks": "",
            "zerolinecolor": "white"
           },
           "zaxis": {
            "backgroundcolor": "#E5ECF6",
            "gridcolor": "white",
            "gridwidth": 2,
            "linecolor": "white",
            "showbackground": true,
            "ticks": "",
            "zerolinecolor": "white"
           }
          },
          "shapedefaults": {
           "line": {
            "color": "#2a3f5f"
           }
          },
          "ternary": {
           "aaxis": {
            "gridcolor": "white",
            "linecolor": "white",
            "ticks": ""
           },
           "baxis": {
            "gridcolor": "white",
            "linecolor": "white",
            "ticks": ""
           },
           "bgcolor": "#E5ECF6",
           "caxis": {
            "gridcolor": "white",
            "linecolor": "white",
            "ticks": ""
           }
          },
          "title": {
           "x": 0.05
          },
          "xaxis": {
           "automargin": true,
           "gridcolor": "white",
           "linecolor": "white",
           "ticks": "",
           "title": {
            "standoff": 15
           },
           "zerolinecolor": "white",
           "zerolinewidth": 2
          },
          "yaxis": {
           "automargin": true,
           "gridcolor": "white",
           "linecolor": "white",
           "ticks": "",
           "title": {
            "standoff": 15
           },
           "zerolinecolor": "white",
           "zerolinewidth": 2
          }
         }
        }
       }
      }
     },
     "metadata": {},
     "output_type": "display_data"
    }
   ],
   "source": [
    "fig = go.Figure()\n",
    "fig.add_trace(go.Scatter(x=child['Part_Score'], y=child['Rate'],mode='markers',name='Child'))"
   ]
  },
  {
   "cell_type": "code",
   "execution_count": 18,
   "metadata": {},
   "outputs": [
    {
     "data": {
      "application/vnd.plotly.v1+json": {
       "config": {
        "plotlyServerURL": "https://plot.ly"
       },
       "data": [
        {
         "marker": {
          "color": [
           0.8,
           1,
           0.4666666666666667,
           0.8666666666666667,
           0.8666666666666667,
           0.8666666666666667,
           0.3333333333333333,
           0.2,
           0.3333333333333333,
           0.2,
           0.8666666666666667,
           0.3333333333333333,
           -0.4666666666666667,
           1,
           0.4666666666666667,
           0.4,
           1,
           0.5333333333333333,
           0.8666666666666667,
           1,
           0.8666666666666667,
           -0.6,
           0.8666666666666667,
           -0.8666666666666667,
           0.2,
           1,
           0.26666666666666666,
           1,
           0.4,
           0,
           1,
           0.13333333333333333,
           -0.3333333333333333,
           1,
           -0.07142857142857142,
           -0.6666666666666666,
           -0.8666666666666667,
           -0.13333333333333333,
           -0.26666666666666666,
           -0.7333333333333333,
           -0.6666666666666666,
           -0.5333333333333333,
           -0.4666666666666667,
           -0.8666666666666667,
           -0.8666666666666667,
           -1,
           -0.5333333333333333,
           -0.7333333333333333
          ],
          "colorscale": [
           [
            0,
            "rgb(0,0,255)"
           ],
           [
            1,
            "rgb(255,0,0)"
           ]
          ]
         },
         "name": "Child",
         "type": "bar",
         "x": [
          "MS",
          "ID",
          "AK",
          "AL",
          "WY",
          "OK",
          "LA",
          "MT",
          "AR",
          "KY",
          "TN",
          "IA",
          "NM",
          "ND",
          "MO",
          "MI",
          "GA",
          "KS",
          "AZ",
          "SC",
          "IN",
          "CO",
          "OH",
          "HI",
          "NH",
          "TX",
          "PA",
          "UT",
          "WI",
          "WV",
          "SD",
          "NC",
          "ME",
          "FL",
          "NV",
          "NY",
          "WA",
          "VA",
          "MN",
          "IL",
          "RI",
          "MD",
          "NJ",
          "OR",
          "CA",
          "DE",
          "MA",
          "CT"
         ],
         "y": [
          24.77,
          23.16,
          21.86,
          20.71,
          19.55,
          18.77,
          18.59,
          18.56,
          17.8,
          17.31,
          17.05,
          16.16,
          16.16,
          16.08,
          15.98,
          15.88,
          15.78,
          15.39,
          15.36,
          15.22,
          15.13,
          14.78,
          14.72,
          14.32,
          13.94,
          13.8,
          13.62,
          13.47,
          13.44,
          13.27,
          13.15,
          12.98,
          12.85,
          12.81,
          11.99,
          11.9,
          11.33,
          11.25,
          10.92,
          10.79,
          10.63,
          10.3,
          10.24,
          9.97,
          9.78,
          9.65,
          8.79,
          8.56
         ]
        }
       ],
       "layout": {
        "template": {
         "data": {
          "bar": [
           {
            "error_x": {
             "color": "#2a3f5f"
            },
            "error_y": {
             "color": "#2a3f5f"
            },
            "marker": {
             "line": {
              "color": "#E5ECF6",
              "width": 0.5
             },
             "pattern": {
              "fillmode": "overlay",
              "size": 10,
              "solidity": 0.2
             }
            },
            "type": "bar"
           }
          ],
          "barpolar": [
           {
            "marker": {
             "line": {
              "color": "#E5ECF6",
              "width": 0.5
             },
             "pattern": {
              "fillmode": "overlay",
              "size": 10,
              "solidity": 0.2
             }
            },
            "type": "barpolar"
           }
          ],
          "carpet": [
           {
            "aaxis": {
             "endlinecolor": "#2a3f5f",
             "gridcolor": "white",
             "linecolor": "white",
             "minorgridcolor": "white",
             "startlinecolor": "#2a3f5f"
            },
            "baxis": {
             "endlinecolor": "#2a3f5f",
             "gridcolor": "white",
             "linecolor": "white",
             "minorgridcolor": "white",
             "startlinecolor": "#2a3f5f"
            },
            "type": "carpet"
           }
          ],
          "choropleth": [
           {
            "colorbar": {
             "outlinewidth": 0,
             "ticks": ""
            },
            "type": "choropleth"
           }
          ],
          "contour": [
           {
            "colorbar": {
             "outlinewidth": 0,
             "ticks": ""
            },
            "colorscale": [
             [
              0,
              "#0d0887"
             ],
             [
              0.1111111111111111,
              "#46039f"
             ],
             [
              0.2222222222222222,
              "#7201a8"
             ],
             [
              0.3333333333333333,
              "#9c179e"
             ],
             [
              0.4444444444444444,
              "#bd3786"
             ],
             [
              0.5555555555555556,
              "#d8576b"
             ],
             [
              0.6666666666666666,
              "#ed7953"
             ],
             [
              0.7777777777777778,
              "#fb9f3a"
             ],
             [
              0.8888888888888888,
              "#fdca26"
             ],
             [
              1,
              "#f0f921"
             ]
            ],
            "type": "contour"
           }
          ],
          "contourcarpet": [
           {
            "colorbar": {
             "outlinewidth": 0,
             "ticks": ""
            },
            "type": "contourcarpet"
           }
          ],
          "heatmap": [
           {
            "colorbar": {
             "outlinewidth": 0,
             "ticks": ""
            },
            "colorscale": [
             [
              0,
              "#0d0887"
             ],
             [
              0.1111111111111111,
              "#46039f"
             ],
             [
              0.2222222222222222,
              "#7201a8"
             ],
             [
              0.3333333333333333,
              "#9c179e"
             ],
             [
              0.4444444444444444,
              "#bd3786"
             ],
             [
              0.5555555555555556,
              "#d8576b"
             ],
             [
              0.6666666666666666,
              "#ed7953"
             ],
             [
              0.7777777777777778,
              "#fb9f3a"
             ],
             [
              0.8888888888888888,
              "#fdca26"
             ],
             [
              1,
              "#f0f921"
             ]
            ],
            "type": "heatmap"
           }
          ],
          "heatmapgl": [
           {
            "colorbar": {
             "outlinewidth": 0,
             "ticks": ""
            },
            "colorscale": [
             [
              0,
              "#0d0887"
             ],
             [
              0.1111111111111111,
              "#46039f"
             ],
             [
              0.2222222222222222,
              "#7201a8"
             ],
             [
              0.3333333333333333,
              "#9c179e"
             ],
             [
              0.4444444444444444,
              "#bd3786"
             ],
             [
              0.5555555555555556,
              "#d8576b"
             ],
             [
              0.6666666666666666,
              "#ed7953"
             ],
             [
              0.7777777777777778,
              "#fb9f3a"
             ],
             [
              0.8888888888888888,
              "#fdca26"
             ],
             [
              1,
              "#f0f921"
             ]
            ],
            "type": "heatmapgl"
           }
          ],
          "histogram": [
           {
            "marker": {
             "pattern": {
              "fillmode": "overlay",
              "size": 10,
              "solidity": 0.2
             }
            },
            "type": "histogram"
           }
          ],
          "histogram2d": [
           {
            "colorbar": {
             "outlinewidth": 0,
             "ticks": ""
            },
            "colorscale": [
             [
              0,
              "#0d0887"
             ],
             [
              0.1111111111111111,
              "#46039f"
             ],
             [
              0.2222222222222222,
              "#7201a8"
             ],
             [
              0.3333333333333333,
              "#9c179e"
             ],
             [
              0.4444444444444444,
              "#bd3786"
             ],
             [
              0.5555555555555556,
              "#d8576b"
             ],
             [
              0.6666666666666666,
              "#ed7953"
             ],
             [
              0.7777777777777778,
              "#fb9f3a"
             ],
             [
              0.8888888888888888,
              "#fdca26"
             ],
             [
              1,
              "#f0f921"
             ]
            ],
            "type": "histogram2d"
           }
          ],
          "histogram2dcontour": [
           {
            "colorbar": {
             "outlinewidth": 0,
             "ticks": ""
            },
            "colorscale": [
             [
              0,
              "#0d0887"
             ],
             [
              0.1111111111111111,
              "#46039f"
             ],
             [
              0.2222222222222222,
              "#7201a8"
             ],
             [
              0.3333333333333333,
              "#9c179e"
             ],
             [
              0.4444444444444444,
              "#bd3786"
             ],
             [
              0.5555555555555556,
              "#d8576b"
             ],
             [
              0.6666666666666666,
              "#ed7953"
             ],
             [
              0.7777777777777778,
              "#fb9f3a"
             ],
             [
              0.8888888888888888,
              "#fdca26"
             ],
             [
              1,
              "#f0f921"
             ]
            ],
            "type": "histogram2dcontour"
           }
          ],
          "mesh3d": [
           {
            "colorbar": {
             "outlinewidth": 0,
             "ticks": ""
            },
            "type": "mesh3d"
           }
          ],
          "parcoords": [
           {
            "line": {
             "colorbar": {
              "outlinewidth": 0,
              "ticks": ""
             }
            },
            "type": "parcoords"
           }
          ],
          "pie": [
           {
            "automargin": true,
            "type": "pie"
           }
          ],
          "scatter": [
           {
            "marker": {
             "colorbar": {
              "outlinewidth": 0,
              "ticks": ""
             }
            },
            "type": "scatter"
           }
          ],
          "scatter3d": [
           {
            "line": {
             "colorbar": {
              "outlinewidth": 0,
              "ticks": ""
             }
            },
            "marker": {
             "colorbar": {
              "outlinewidth": 0,
              "ticks": ""
             }
            },
            "type": "scatter3d"
           }
          ],
          "scattercarpet": [
           {
            "marker": {
             "colorbar": {
              "outlinewidth": 0,
              "ticks": ""
             }
            },
            "type": "scattercarpet"
           }
          ],
          "scattergeo": [
           {
            "marker": {
             "colorbar": {
              "outlinewidth": 0,
              "ticks": ""
             }
            },
            "type": "scattergeo"
           }
          ],
          "scattergl": [
           {
            "marker": {
             "colorbar": {
              "outlinewidth": 0,
              "ticks": ""
             }
            },
            "type": "scattergl"
           }
          ],
          "scattermapbox": [
           {
            "marker": {
             "colorbar": {
              "outlinewidth": 0,
              "ticks": ""
             }
            },
            "type": "scattermapbox"
           }
          ],
          "scatterpolar": [
           {
            "marker": {
             "colorbar": {
              "outlinewidth": 0,
              "ticks": ""
             }
            },
            "type": "scatterpolar"
           }
          ],
          "scatterpolargl": [
           {
            "marker": {
             "colorbar": {
              "outlinewidth": 0,
              "ticks": ""
             }
            },
            "type": "scatterpolargl"
           }
          ],
          "scatterternary": [
           {
            "marker": {
             "colorbar": {
              "outlinewidth": 0,
              "ticks": ""
             }
            },
            "type": "scatterternary"
           }
          ],
          "surface": [
           {
            "colorbar": {
             "outlinewidth": 0,
             "ticks": ""
            },
            "colorscale": [
             [
              0,
              "#0d0887"
             ],
             [
              0.1111111111111111,
              "#46039f"
             ],
             [
              0.2222222222222222,
              "#7201a8"
             ],
             [
              0.3333333333333333,
              "#9c179e"
             ],
             [
              0.4444444444444444,
              "#bd3786"
             ],
             [
              0.5555555555555556,
              "#d8576b"
             ],
             [
              0.6666666666666666,
              "#ed7953"
             ],
             [
              0.7777777777777778,
              "#fb9f3a"
             ],
             [
              0.8888888888888888,
              "#fdca26"
             ],
             [
              1,
              "#f0f921"
             ]
            ],
            "type": "surface"
           }
          ],
          "table": [
           {
            "cells": {
             "fill": {
              "color": "#EBF0F8"
             },
             "line": {
              "color": "white"
             }
            },
            "header": {
             "fill": {
              "color": "#C8D4E3"
             },
             "line": {
              "color": "white"
             }
            },
            "type": "table"
           }
          ]
         },
         "layout": {
          "annotationdefaults": {
           "arrowcolor": "#2a3f5f",
           "arrowhead": 0,
           "arrowwidth": 1
          },
          "autotypenumbers": "strict",
          "coloraxis": {
           "colorbar": {
            "outlinewidth": 0,
            "ticks": ""
           }
          },
          "colorscale": {
           "diverging": [
            [
             0,
             "#8e0152"
            ],
            [
             0.1,
             "#c51b7d"
            ],
            [
             0.2,
             "#de77ae"
            ],
            [
             0.3,
             "#f1b6da"
            ],
            [
             0.4,
             "#fde0ef"
            ],
            [
             0.5,
             "#f7f7f7"
            ],
            [
             0.6,
             "#e6f5d0"
            ],
            [
             0.7,
             "#b8e186"
            ],
            [
             0.8,
             "#7fbc41"
            ],
            [
             0.9,
             "#4d9221"
            ],
            [
             1,
             "#276419"
            ]
           ],
           "sequential": [
            [
             0,
             "#0d0887"
            ],
            [
             0.1111111111111111,
             "#46039f"
            ],
            [
             0.2222222222222222,
             "#7201a8"
            ],
            [
             0.3333333333333333,
             "#9c179e"
            ],
            [
             0.4444444444444444,
             "#bd3786"
            ],
            [
             0.5555555555555556,
             "#d8576b"
            ],
            [
             0.6666666666666666,
             "#ed7953"
            ],
            [
             0.7777777777777778,
             "#fb9f3a"
            ],
            [
             0.8888888888888888,
             "#fdca26"
            ],
            [
             1,
             "#f0f921"
            ]
           ],
           "sequentialminus": [
            [
             0,
             "#0d0887"
            ],
            [
             0.1111111111111111,
             "#46039f"
            ],
            [
             0.2222222222222222,
             "#7201a8"
            ],
            [
             0.3333333333333333,
             "#9c179e"
            ],
            [
             0.4444444444444444,
             "#bd3786"
            ],
            [
             0.5555555555555556,
             "#d8576b"
            ],
            [
             0.6666666666666666,
             "#ed7953"
            ],
            [
             0.7777777777777778,
             "#fb9f3a"
            ],
            [
             0.8888888888888888,
             "#fdca26"
            ],
            [
             1,
             "#f0f921"
            ]
           ]
          },
          "colorway": [
           "#636efa",
           "#EF553B",
           "#00cc96",
           "#ab63fa",
           "#FFA15A",
           "#19d3f3",
           "#FF6692",
           "#B6E880",
           "#FF97FF",
           "#FECB52"
          ],
          "font": {
           "color": "#2a3f5f"
          },
          "geo": {
           "bgcolor": "white",
           "lakecolor": "white",
           "landcolor": "#E5ECF6",
           "showlakes": true,
           "showland": true,
           "subunitcolor": "white"
          },
          "hoverlabel": {
           "align": "left"
          },
          "hovermode": "closest",
          "mapbox": {
           "style": "light"
          },
          "paper_bgcolor": "white",
          "plot_bgcolor": "#E5ECF6",
          "polar": {
           "angularaxis": {
            "gridcolor": "white",
            "linecolor": "white",
            "ticks": ""
           },
           "bgcolor": "#E5ECF6",
           "radialaxis": {
            "gridcolor": "white",
            "linecolor": "white",
            "ticks": ""
           }
          },
          "scene": {
           "xaxis": {
            "backgroundcolor": "#E5ECF6",
            "gridcolor": "white",
            "gridwidth": 2,
            "linecolor": "white",
            "showbackground": true,
            "ticks": "",
            "zerolinecolor": "white"
           },
           "yaxis": {
            "backgroundcolor": "#E5ECF6",
            "gridcolor": "white",
            "gridwidth": 2,
            "linecolor": "white",
            "showbackground": true,
            "ticks": "",
            "zerolinecolor": "white"
           },
           "zaxis": {
            "backgroundcolor": "#E5ECF6",
            "gridcolor": "white",
            "gridwidth": 2,
            "linecolor": "white",
            "showbackground": true,
            "ticks": "",
            "zerolinecolor": "white"
           }
          },
          "shapedefaults": {
           "line": {
            "color": "#2a3f5f"
           }
          },
          "ternary": {
           "aaxis": {
            "gridcolor": "white",
            "linecolor": "white",
            "ticks": ""
           },
           "baxis": {
            "gridcolor": "white",
            "linecolor": "white",
            "ticks": ""
           },
           "bgcolor": "#E5ECF6",
           "caxis": {
            "gridcolor": "white",
            "linecolor": "white",
            "ticks": ""
           }
          },
          "title": {
           "x": 0.05
          },
          "xaxis": {
           "automargin": true,
           "gridcolor": "white",
           "linecolor": "white",
           "ticks": "",
           "title": {
            "standoff": 15
           },
           "zerolinecolor": "white",
           "zerolinewidth": 2
          },
          "yaxis": {
           "automargin": true,
           "gridcolor": "white",
           "linecolor": "white",
           "ticks": "",
           "title": {
            "standoff": 15
           },
           "zerolinecolor": "white",
           "zerolinewidth": 2
          }
         }
        }
       }
      }
     },
     "metadata": {},
     "output_type": "display_data"
    }
   ],
   "source": [
    "fig = go.Figure()\n",
    "fig.add_trace(go.Bar(x=child[\"State_Abv\"], y=child[\"Rate\"], marker=dict(color=child[\"Part_Score\"], colorscale=\"Bluered\" ), name=\"Child\"))"
   ]
  },
  {
   "cell_type": "code",
   "execution_count": 19,
   "metadata": {},
   "outputs": [
    {
     "data": {
      "text/html": [
       "<div>\n",
       "<style scoped>\n",
       "    .dataframe tbody tr th:only-of-type {\n",
       "        vertical-align: middle;\n",
       "    }\n",
       "\n",
       "    .dataframe tbody tr th {\n",
       "        vertical-align: top;\n",
       "    }\n",
       "\n",
       "    .dataframe thead th {\n",
       "        text-align: right;\n",
       "    }\n",
       "</style>\n",
       "<table border=\"1\" class=\"dataframe\">\n",
       "  <thead>\n",
       "    <tr style=\"text-align: right;\">\n",
       "      <th></th>\n",
       "      <th>State_x</th>\n",
       "      <th>Ten-Year Age Groups</th>\n",
       "      <th>Ten-Year Age Groups Code</th>\n",
       "      <th>Deaths</th>\n",
       "      <th>Population</th>\n",
       "      <th>Crude Rate</th>\n",
       "      <th>Rate</th>\n",
       "      <th>fips_x</th>\n",
       "      <th>Year_x</th>\n",
       "      <th>State_Abv</th>\n",
       "      <th>State_y</th>\n",
       "      <th>fips_y</th>\n",
       "      <th>Part_Score</th>\n",
       "      <th>Year_y</th>\n",
       "      <th>category</th>\n",
       "    </tr>\n",
       "  </thead>\n",
       "  <tbody>\n",
       "    <tr>\n",
       "      <th>0</th>\n",
       "      <td>Mississippi</td>\n",
       "      <td>5-14 years</td>\n",
       "      <td>5-14</td>\n",
       "      <td>98.0</td>\n",
       "      <td>395659.0</td>\n",
       "      <td>24.8</td>\n",
       "      <td>24.77</td>\n",
       "      <td>28</td>\n",
       "      <td>2019</td>\n",
       "      <td>MS</td>\n",
       "      <td>MS</td>\n",
       "      <td>28</td>\n",
       "      <td>0.800000</td>\n",
       "      <td>2024</td>\n",
       "      <td>Right</td>\n",
       "    </tr>\n",
       "    <tr>\n",
       "      <th>1</th>\n",
       "      <td>Idaho</td>\n",
       "      <td>5-14 years</td>\n",
       "      <td>5-14</td>\n",
       "      <td>59.0</td>\n",
       "      <td>254788.0</td>\n",
       "      <td>23.2</td>\n",
       "      <td>23.16</td>\n",
       "      <td>16</td>\n",
       "      <td>2019</td>\n",
       "      <td>ID</td>\n",
       "      <td>ID</td>\n",
       "      <td>16</td>\n",
       "      <td>1.000000</td>\n",
       "      <td>2024</td>\n",
       "      <td>Right</td>\n",
       "    </tr>\n",
       "    <tr>\n",
       "      <th>2</th>\n",
       "      <td>Alaska</td>\n",
       "      <td>5-14 years</td>\n",
       "      <td>5-14</td>\n",
       "      <td>22.0</td>\n",
       "      <td>100662.0</td>\n",
       "      <td>21.9</td>\n",
       "      <td>21.86</td>\n",
       "      <td>02</td>\n",
       "      <td>2019</td>\n",
       "      <td>AK</td>\n",
       "      <td>AK</td>\n",
       "      <td>02</td>\n",
       "      <td>0.466667</td>\n",
       "      <td>2024</td>\n",
       "      <td>Right</td>\n",
       "    </tr>\n",
       "    <tr>\n",
       "      <th>3</th>\n",
       "      <td>Alabama</td>\n",
       "      <td>5-14 years</td>\n",
       "      <td>5-14</td>\n",
       "      <td>126.0</td>\n",
       "      <td>608466.0</td>\n",
       "      <td>20.7</td>\n",
       "      <td>20.71</td>\n",
       "      <td>01</td>\n",
       "      <td>2019</td>\n",
       "      <td>AL</td>\n",
       "      <td>AL</td>\n",
       "      <td>01</td>\n",
       "      <td>0.866667</td>\n",
       "      <td>2024</td>\n",
       "      <td>Right</td>\n",
       "    </tr>\n",
       "    <tr>\n",
       "      <th>4</th>\n",
       "      <td>Wyoming</td>\n",
       "      <td>5-14 years</td>\n",
       "      <td>5-14</td>\n",
       "      <td>15.0</td>\n",
       "      <td>76734.0</td>\n",
       "      <td>Unreliable</td>\n",
       "      <td>19.55</td>\n",
       "      <td>56</td>\n",
       "      <td>2019</td>\n",
       "      <td>WY</td>\n",
       "      <td>WY</td>\n",
       "      <td>56</td>\n",
       "      <td>0.866667</td>\n",
       "      <td>2024</td>\n",
       "      <td>Right</td>\n",
       "    </tr>\n",
       "    <tr>\n",
       "      <th>5</th>\n",
       "      <td>Oklahoma</td>\n",
       "      <td>5-14 years</td>\n",
       "      <td>5-14</td>\n",
       "      <td>101.0</td>\n",
       "      <td>538048.0</td>\n",
       "      <td>18.8</td>\n",
       "      <td>18.77</td>\n",
       "      <td>40</td>\n",
       "      <td>2019</td>\n",
       "      <td>OK</td>\n",
       "      <td>OK</td>\n",
       "      <td>40</td>\n",
       "      <td>0.866667</td>\n",
       "      <td>2024</td>\n",
       "      <td>Right</td>\n",
       "    </tr>\n",
       "    <tr>\n",
       "      <th>6</th>\n",
       "      <td>Louisiana</td>\n",
       "      <td>5-14 years</td>\n",
       "      <td>5-14</td>\n",
       "      <td>113.0</td>\n",
       "      <td>607936.0</td>\n",
       "      <td>18.6</td>\n",
       "      <td>18.59</td>\n",
       "      <td>22</td>\n",
       "      <td>2019</td>\n",
       "      <td>LA</td>\n",
       "      <td>LA</td>\n",
       "      <td>22</td>\n",
       "      <td>0.333333</td>\n",
       "      <td>2024</td>\n",
       "      <td>Right</td>\n",
       "    </tr>\n",
       "    <tr>\n",
       "      <th>7</th>\n",
       "      <td>Montana</td>\n",
       "      <td>5-14 years</td>\n",
       "      <td>5-14</td>\n",
       "      <td>24.0</td>\n",
       "      <td>129305.0</td>\n",
       "      <td>18.6</td>\n",
       "      <td>18.56</td>\n",
       "      <td>30</td>\n",
       "      <td>2019</td>\n",
       "      <td>MT</td>\n",
       "      <td>MT</td>\n",
       "      <td>30</td>\n",
       "      <td>0.200000</td>\n",
       "      <td>2024</td>\n",
       "      <td>Center</td>\n",
       "    </tr>\n",
       "    <tr>\n",
       "      <th>8</th>\n",
       "      <td>Arkansas</td>\n",
       "      <td>5-14 years</td>\n",
       "      <td>5-14</td>\n",
       "      <td>70.0</td>\n",
       "      <td>393213.0</td>\n",
       "      <td>17.8</td>\n",
       "      <td>17.80</td>\n",
       "      <td>05</td>\n",
       "      <td>2019</td>\n",
       "      <td>AR</td>\n",
       "      <td>AR</td>\n",
       "      <td>05</td>\n",
       "      <td>0.333333</td>\n",
       "      <td>2024</td>\n",
       "      <td>Right</td>\n",
       "    </tr>\n",
       "    <tr>\n",
       "      <th>9</th>\n",
       "      <td>Kentucky</td>\n",
       "      <td>5-14 years</td>\n",
       "      <td>5-14</td>\n",
       "      <td>97.0</td>\n",
       "      <td>560417.0</td>\n",
       "      <td>17.3</td>\n",
       "      <td>17.31</td>\n",
       "      <td>21</td>\n",
       "      <td>2019</td>\n",
       "      <td>KY</td>\n",
       "      <td>KY</td>\n",
       "      <td>21</td>\n",
       "      <td>0.200000</td>\n",
       "      <td>2024</td>\n",
       "      <td>Center</td>\n",
       "    </tr>\n",
       "    <tr>\n",
       "      <th>10</th>\n",
       "      <td>Tennessee</td>\n",
       "      <td>5-14 years</td>\n",
       "      <td>5-14</td>\n",
       "      <td>144.0</td>\n",
       "      <td>844681.0</td>\n",
       "      <td>17.0</td>\n",
       "      <td>17.05</td>\n",
       "      <td>47</td>\n",
       "      <td>2019</td>\n",
       "      <td>TN</td>\n",
       "      <td>TN</td>\n",
       "      <td>47</td>\n",
       "      <td>0.866667</td>\n",
       "      <td>2024</td>\n",
       "      <td>Right</td>\n",
       "    </tr>\n",
       "    <tr>\n",
       "      <th>11</th>\n",
       "      <td>Iowa</td>\n",
       "      <td>5-14 years</td>\n",
       "      <td>5-14</td>\n",
       "      <td>66.0</td>\n",
       "      <td>408495.0</td>\n",
       "      <td>16.2</td>\n",
       "      <td>16.16</td>\n",
       "      <td>19</td>\n",
       "      <td>2019</td>\n",
       "      <td>IA</td>\n",
       "      <td>IA</td>\n",
       "      <td>19</td>\n",
       "      <td>0.333333</td>\n",
       "      <td>2024</td>\n",
       "      <td>Right</td>\n",
       "    </tr>\n",
       "    <tr>\n",
       "      <th>12</th>\n",
       "      <td>New Mexico</td>\n",
       "      <td>5-14 years</td>\n",
       "      <td>5-14</td>\n",
       "      <td>44.0</td>\n",
       "      <td>272268.0</td>\n",
       "      <td>16.2</td>\n",
       "      <td>16.16</td>\n",
       "      <td>35</td>\n",
       "      <td>2019</td>\n",
       "      <td>NM</td>\n",
       "      <td>NM</td>\n",
       "      <td>35</td>\n",
       "      <td>-0.466667</td>\n",
       "      <td>2024</td>\n",
       "      <td>Left</td>\n",
       "    </tr>\n",
       "    <tr>\n",
       "      <th>13</th>\n",
       "      <td>North Dakota</td>\n",
       "      <td>5-14 years</td>\n",
       "      <td>5-14</td>\n",
       "      <td>16.0</td>\n",
       "      <td>99495.0</td>\n",
       "      <td>Unreliable</td>\n",
       "      <td>16.08</td>\n",
       "      <td>38</td>\n",
       "      <td>2019</td>\n",
       "      <td>ND</td>\n",
       "      <td>ND</td>\n",
       "      <td>38</td>\n",
       "      <td>1.000000</td>\n",
       "      <td>2024</td>\n",
       "      <td>Right</td>\n",
       "    </tr>\n",
       "    <tr>\n",
       "      <th>14</th>\n",
       "      <td>Missouri</td>\n",
       "      <td>5-14 years</td>\n",
       "      <td>5-14</td>\n",
       "      <td>123.0</td>\n",
       "      <td>769540.0</td>\n",
       "      <td>16.0</td>\n",
       "      <td>15.98</td>\n",
       "      <td>29</td>\n",
       "      <td>2019</td>\n",
       "      <td>MO</td>\n",
       "      <td>MO</td>\n",
       "      <td>29</td>\n",
       "      <td>0.466667</td>\n",
       "      <td>2024</td>\n",
       "      <td>Right</td>\n",
       "    </tr>\n",
       "    <tr>\n",
       "      <th>15</th>\n",
       "      <td>Michigan</td>\n",
       "      <td>5-14 years</td>\n",
       "      <td>5-14</td>\n",
       "      <td>190.0</td>\n",
       "      <td>1196689.0</td>\n",
       "      <td>15.9</td>\n",
       "      <td>15.88</td>\n",
       "      <td>26</td>\n",
       "      <td>2019</td>\n",
       "      <td>MI</td>\n",
       "      <td>MI</td>\n",
       "      <td>26</td>\n",
       "      <td>0.400000</td>\n",
       "      <td>2024</td>\n",
       "      <td>Right</td>\n",
       "    </tr>\n",
       "    <tr>\n",
       "      <th>16</th>\n",
       "      <td>Georgia</td>\n",
       "      <td>5-14 years</td>\n",
       "      <td>5-14</td>\n",
       "      <td>223.0</td>\n",
       "      <td>1413003.0</td>\n",
       "      <td>15.8</td>\n",
       "      <td>15.78</td>\n",
       "      <td>13</td>\n",
       "      <td>2019</td>\n",
       "      <td>GA</td>\n",
       "      <td>GA</td>\n",
       "      <td>13</td>\n",
       "      <td>1.000000</td>\n",
       "      <td>2024</td>\n",
       "      <td>Right</td>\n",
       "    </tr>\n",
       "    <tr>\n",
       "      <th>17</th>\n",
       "      <td>Kansas</td>\n",
       "      <td>5-14 years</td>\n",
       "      <td>5-14</td>\n",
       "      <td>61.0</td>\n",
       "      <td>396266.0</td>\n",
       "      <td>15.4</td>\n",
       "      <td>15.39</td>\n",
       "      <td>20</td>\n",
       "      <td>2019</td>\n",
       "      <td>KS</td>\n",
       "      <td>KS</td>\n",
       "      <td>20</td>\n",
       "      <td>0.533333</td>\n",
       "      <td>2024</td>\n",
       "      <td>Right</td>\n",
       "    </tr>\n",
       "    <tr>\n",
       "      <th>18</th>\n",
       "      <td>Arizona</td>\n",
       "      <td>5-14 years</td>\n",
       "      <td>5-14</td>\n",
       "      <td>143.0</td>\n",
       "      <td>930745.0</td>\n",
       "      <td>15.4</td>\n",
       "      <td>15.36</td>\n",
       "      <td>04</td>\n",
       "      <td>2019</td>\n",
       "      <td>AZ</td>\n",
       "      <td>AZ</td>\n",
       "      <td>04</td>\n",
       "      <td>0.866667</td>\n",
       "      <td>2024</td>\n",
       "      <td>Right</td>\n",
       "    </tr>\n",
       "    <tr>\n",
       "      <th>19</th>\n",
       "      <td>South Carolina</td>\n",
       "      <td>5-14 years</td>\n",
       "      <td>5-14</td>\n",
       "      <td>96.0</td>\n",
       "      <td>630716.0</td>\n",
       "      <td>15.2</td>\n",
       "      <td>15.22</td>\n",
       "      <td>45</td>\n",
       "      <td>2019</td>\n",
       "      <td>SC</td>\n",
       "      <td>SC</td>\n",
       "      <td>45</td>\n",
       "      <td>1.000000</td>\n",
       "      <td>2024</td>\n",
       "      <td>Right</td>\n",
       "    </tr>\n",
       "    <tr>\n",
       "      <th>20</th>\n",
       "      <td>Indiana</td>\n",
       "      <td>5-14 years</td>\n",
       "      <td>5-14</td>\n",
       "      <td>133.0</td>\n",
       "      <td>878981.0</td>\n",
       "      <td>15.1</td>\n",
       "      <td>15.13</td>\n",
       "      <td>18</td>\n",
       "      <td>2019</td>\n",
       "      <td>IN</td>\n",
       "      <td>IN</td>\n",
       "      <td>18</td>\n",
       "      <td>0.866667</td>\n",
       "      <td>2024</td>\n",
       "      <td>Right</td>\n",
       "    </tr>\n",
       "    <tr>\n",
       "      <th>21</th>\n",
       "      <td>Colorado</td>\n",
       "      <td>5-14 years</td>\n",
       "      <td>5-14</td>\n",
       "      <td>105.0</td>\n",
       "      <td>710322.0</td>\n",
       "      <td>14.8</td>\n",
       "      <td>14.78</td>\n",
       "      <td>08</td>\n",
       "      <td>2019</td>\n",
       "      <td>CO</td>\n",
       "      <td>CO</td>\n",
       "      <td>08</td>\n",
       "      <td>-0.600000</td>\n",
       "      <td>2024</td>\n",
       "      <td>Left</td>\n",
       "    </tr>\n",
       "    <tr>\n",
       "      <th>22</th>\n",
       "      <td>Ohio</td>\n",
       "      <td>5-14 years</td>\n",
       "      <td>5-14</td>\n",
       "      <td>212.0</td>\n",
       "      <td>1440279.0</td>\n",
       "      <td>14.7</td>\n",
       "      <td>14.72</td>\n",
       "      <td>39</td>\n",
       "      <td>2019</td>\n",
       "      <td>OH</td>\n",
       "      <td>OH</td>\n",
       "      <td>39</td>\n",
       "      <td>0.866667</td>\n",
       "      <td>2024</td>\n",
       "      <td>Right</td>\n",
       "    </tr>\n",
       "    <tr>\n",
       "      <th>23</th>\n",
       "      <td>Hawaii</td>\n",
       "      <td>5-14 years</td>\n",
       "      <td>5-14</td>\n",
       "      <td>24.0</td>\n",
       "      <td>167586.0</td>\n",
       "      <td>14.3</td>\n",
       "      <td>14.32</td>\n",
       "      <td>15</td>\n",
       "      <td>2019</td>\n",
       "      <td>HI</td>\n",
       "      <td>HI</td>\n",
       "      <td>15</td>\n",
       "      <td>-0.866667</td>\n",
       "      <td>2024</td>\n",
       "      <td>Left</td>\n",
       "    </tr>\n",
       "    <tr>\n",
       "      <th>24</th>\n",
       "      <td>New Hampshire</td>\n",
       "      <td>5-14 years</td>\n",
       "      <td>5-14</td>\n",
       "      <td>20.0</td>\n",
       "      <td>143449.0</td>\n",
       "      <td>13.9</td>\n",
       "      <td>13.94</td>\n",
       "      <td>33</td>\n",
       "      <td>2019</td>\n",
       "      <td>NH</td>\n",
       "      <td>NH</td>\n",
       "      <td>33</td>\n",
       "      <td>0.200000</td>\n",
       "      <td>2024</td>\n",
       "      <td>Center</td>\n",
       "    </tr>\n",
       "    <tr>\n",
       "      <th>25</th>\n",
       "      <td>Texas</td>\n",
       "      <td>5-14 years</td>\n",
       "      <td>5-14</td>\n",
       "      <td>575.0</td>\n",
       "      <td>4166702.0</td>\n",
       "      <td>13.8</td>\n",
       "      <td>13.80</td>\n",
       "      <td>48</td>\n",
       "      <td>2019</td>\n",
       "      <td>TX</td>\n",
       "      <td>TX</td>\n",
       "      <td>48</td>\n",
       "      <td>1.000000</td>\n",
       "      <td>2024</td>\n",
       "      <td>Right</td>\n",
       "    </tr>\n",
       "    <tr>\n",
       "      <th>26</th>\n",
       "      <td>Pennsylvania</td>\n",
       "      <td>5-14 years</td>\n",
       "      <td>5-14</td>\n",
       "      <td>201.0</td>\n",
       "      <td>1475640.0</td>\n",
       "      <td>13.6</td>\n",
       "      <td>13.62</td>\n",
       "      <td>42</td>\n",
       "      <td>2019</td>\n",
       "      <td>PA</td>\n",
       "      <td>PA</td>\n",
       "      <td>42</td>\n",
       "      <td>0.266667</td>\n",
       "      <td>2024</td>\n",
       "      <td>Center</td>\n",
       "    </tr>\n",
       "    <tr>\n",
       "      <th>27</th>\n",
       "      <td>Utah</td>\n",
       "      <td>5-14 years</td>\n",
       "      <td>5-14</td>\n",
       "      <td>71.0</td>\n",
       "      <td>526961.0</td>\n",
       "      <td>13.5</td>\n",
       "      <td>13.47</td>\n",
       "      <td>49</td>\n",
       "      <td>2019</td>\n",
       "      <td>UT</td>\n",
       "      <td>UT</td>\n",
       "      <td>49</td>\n",
       "      <td>1.000000</td>\n",
       "      <td>2024</td>\n",
       "      <td>Right</td>\n",
       "    </tr>\n",
       "    <tr>\n",
       "      <th>28</th>\n",
       "      <td>Wisconsin</td>\n",
       "      <td>5-14 years</td>\n",
       "      <td>5-14</td>\n",
       "      <td>96.0</td>\n",
       "      <td>714031.0</td>\n",
       "      <td>13.4</td>\n",
       "      <td>13.44</td>\n",
       "      <td>55</td>\n",
       "      <td>2019</td>\n",
       "      <td>WI</td>\n",
       "      <td>WI</td>\n",
       "      <td>55</td>\n",
       "      <td>0.400000</td>\n",
       "      <td>2024</td>\n",
       "      <td>Right</td>\n",
       "    </tr>\n",
       "    <tr>\n",
       "      <th>29</th>\n",
       "      <td>West Virginia</td>\n",
       "      <td>5-14 years</td>\n",
       "      <td>5-14</td>\n",
       "      <td>27.0</td>\n",
       "      <td>203472.0</td>\n",
       "      <td>13.3</td>\n",
       "      <td>13.27</td>\n",
       "      <td>54</td>\n",
       "      <td>2019</td>\n",
       "      <td>WV</td>\n",
       "      <td>WV</td>\n",
       "      <td>54</td>\n",
       "      <td>0.000000</td>\n",
       "      <td>2024</td>\n",
       "      <td>Center</td>\n",
       "    </tr>\n",
       "    <tr>\n",
       "      <th>30</th>\n",
       "      <td>South Dakota</td>\n",
       "      <td>5-14 years</td>\n",
       "      <td>5-14</td>\n",
       "      <td>16.0</td>\n",
       "      <td>121666.0</td>\n",
       "      <td>Unreliable</td>\n",
       "      <td>13.15</td>\n",
       "      <td>46</td>\n",
       "      <td>2019</td>\n",
       "      <td>SD</td>\n",
       "      <td>SD</td>\n",
       "      <td>46</td>\n",
       "      <td>1.000000</td>\n",
       "      <td>2024</td>\n",
       "      <td>Right</td>\n",
       "    </tr>\n",
       "    <tr>\n",
       "      <th>31</th>\n",
       "      <td>North Carolina</td>\n",
       "      <td>5-14 years</td>\n",
       "      <td>5-14</td>\n",
       "      <td>168.0</td>\n",
       "      <td>1294472.0</td>\n",
       "      <td>13.0</td>\n",
       "      <td>12.98</td>\n",
       "      <td>37</td>\n",
       "      <td>2019</td>\n",
       "      <td>NC</td>\n",
       "      <td>NC</td>\n",
       "      <td>37</td>\n",
       "      <td>0.133333</td>\n",
       "      <td>2024</td>\n",
       "      <td>Center</td>\n",
       "    </tr>\n",
       "    <tr>\n",
       "      <th>32</th>\n",
       "      <td>Maine</td>\n",
       "      <td>5-14 years</td>\n",
       "      <td>5-14</td>\n",
       "      <td>18.0</td>\n",
       "      <td>140100.0</td>\n",
       "      <td>Unreliable</td>\n",
       "      <td>12.85</td>\n",
       "      <td>23</td>\n",
       "      <td>2019</td>\n",
       "      <td>ME</td>\n",
       "      <td>ME</td>\n",
       "      <td>23</td>\n",
       "      <td>-0.333333</td>\n",
       "      <td>2024</td>\n",
       "      <td>Left</td>\n",
       "    </tr>\n",
       "    <tr>\n",
       "      <th>33</th>\n",
       "      <td>Florida</td>\n",
       "      <td>5-14 years</td>\n",
       "      <td>5-14</td>\n",
       "      <td>304.0</td>\n",
       "      <td>2372397.0</td>\n",
       "      <td>12.8</td>\n",
       "      <td>12.81</td>\n",
       "      <td>12</td>\n",
       "      <td>2019</td>\n",
       "      <td>FL</td>\n",
       "      <td>FL</td>\n",
       "      <td>12</td>\n",
       "      <td>1.000000</td>\n",
       "      <td>2024</td>\n",
       "      <td>Right</td>\n",
       "    </tr>\n",
       "    <tr>\n",
       "      <th>34</th>\n",
       "      <td>Nevada</td>\n",
       "      <td>5-14 years</td>\n",
       "      <td>5-14</td>\n",
       "      <td>47.0</td>\n",
       "      <td>392066.0</td>\n",
       "      <td>12.0</td>\n",
       "      <td>11.99</td>\n",
       "      <td>32</td>\n",
       "      <td>2019</td>\n",
       "      <td>NV</td>\n",
       "      <td>NV</td>\n",
       "      <td>32</td>\n",
       "      <td>-0.071429</td>\n",
       "      <td>2024</td>\n",
       "      <td>Center</td>\n",
       "    </tr>\n",
       "    <tr>\n",
       "      <th>35</th>\n",
       "      <td>New York</td>\n",
       "      <td>5-14 years</td>\n",
       "      <td>5-14</td>\n",
       "      <td>264.0</td>\n",
       "      <td>2218596.0</td>\n",
       "      <td>11.9</td>\n",
       "      <td>11.90</td>\n",
       "      <td>36</td>\n",
       "      <td>2019</td>\n",
       "      <td>NY</td>\n",
       "      <td>NY</td>\n",
       "      <td>36</td>\n",
       "      <td>-0.666667</td>\n",
       "      <td>2024</td>\n",
       "      <td>Left</td>\n",
       "    </tr>\n",
       "    <tr>\n",
       "      <th>36</th>\n",
       "      <td>Washington</td>\n",
       "      <td>5-14 years</td>\n",
       "      <td>5-14</td>\n",
       "      <td>106.0</td>\n",
       "      <td>935771.0</td>\n",
       "      <td>11.3</td>\n",
       "      <td>11.33</td>\n",
       "      <td>53</td>\n",
       "      <td>2019</td>\n",
       "      <td>WA</td>\n",
       "      <td>WA</td>\n",
       "      <td>53</td>\n",
       "      <td>-0.866667</td>\n",
       "      <td>2024</td>\n",
       "      <td>Left</td>\n",
       "    </tr>\n",
       "    <tr>\n",
       "      <th>37</th>\n",
       "      <td>Virginia</td>\n",
       "      <td>5-14 years</td>\n",
       "      <td>5-14</td>\n",
       "      <td>117.0</td>\n",
       "      <td>1040121.0</td>\n",
       "      <td>11.2</td>\n",
       "      <td>11.25</td>\n",
       "      <td>51</td>\n",
       "      <td>2019</td>\n",
       "      <td>VA</td>\n",
       "      <td>VA</td>\n",
       "      <td>51</td>\n",
       "      <td>-0.133333</td>\n",
       "      <td>2024</td>\n",
       "      <td>Center</td>\n",
       "    </tr>\n",
       "    <tr>\n",
       "      <th>38</th>\n",
       "      <td>Minnesota</td>\n",
       "      <td>5-14 years</td>\n",
       "      <td>5-14</td>\n",
       "      <td>80.0</td>\n",
       "      <td>732593.0</td>\n",
       "      <td>10.9</td>\n",
       "      <td>10.92</td>\n",
       "      <td>27</td>\n",
       "      <td>2019</td>\n",
       "      <td>MN</td>\n",
       "      <td>MN</td>\n",
       "      <td>27</td>\n",
       "      <td>-0.266667</td>\n",
       "      <td>2024</td>\n",
       "      <td>Center</td>\n",
       "    </tr>\n",
       "    <tr>\n",
       "      <th>39</th>\n",
       "      <td>Illinois</td>\n",
       "      <td>5-14 years</td>\n",
       "      <td>5-14</td>\n",
       "      <td>170.0</td>\n",
       "      <td>1575745.0</td>\n",
       "      <td>10.8</td>\n",
       "      <td>10.79</td>\n",
       "      <td>17</td>\n",
       "      <td>2019</td>\n",
       "      <td>IL</td>\n",
       "      <td>IL</td>\n",
       "      <td>17</td>\n",
       "      <td>-0.733333</td>\n",
       "      <td>2024</td>\n",
       "      <td>Left</td>\n",
       "    </tr>\n",
       "    <tr>\n",
       "      <th>40</th>\n",
       "      <td>Rhode Island</td>\n",
       "      <td>5-14 years</td>\n",
       "      <td>5-14</td>\n",
       "      <td>12.0</td>\n",
       "      <td>112868.0</td>\n",
       "      <td>Unreliable</td>\n",
       "      <td>10.63</td>\n",
       "      <td>44</td>\n",
       "      <td>2019</td>\n",
       "      <td>RI</td>\n",
       "      <td>RI</td>\n",
       "      <td>44</td>\n",
       "      <td>-0.666667</td>\n",
       "      <td>2024</td>\n",
       "      <td>Left</td>\n",
       "    </tr>\n",
       "    <tr>\n",
       "      <th>41</th>\n",
       "      <td>Maryland</td>\n",
       "      <td>5-14 years</td>\n",
       "      <td>5-14</td>\n",
       "      <td>77.0</td>\n",
       "      <td>747869.0</td>\n",
       "      <td>10.3</td>\n",
       "      <td>10.30</td>\n",
       "      <td>24</td>\n",
       "      <td>2019</td>\n",
       "      <td>MD</td>\n",
       "      <td>MD</td>\n",
       "      <td>24</td>\n",
       "      <td>-0.533333</td>\n",
       "      <td>2024</td>\n",
       "      <td>Left</td>\n",
       "    </tr>\n",
       "    <tr>\n",
       "      <th>42</th>\n",
       "      <td>New Jersey</td>\n",
       "      <td>5-14 years</td>\n",
       "      <td>5-14</td>\n",
       "      <td>111.0</td>\n",
       "      <td>1083967.0</td>\n",
       "      <td>10.2</td>\n",
       "      <td>10.24</td>\n",
       "      <td>34</td>\n",
       "      <td>2019</td>\n",
       "      <td>NJ</td>\n",
       "      <td>NJ</td>\n",
       "      <td>34</td>\n",
       "      <td>-0.466667</td>\n",
       "      <td>2024</td>\n",
       "      <td>Left</td>\n",
       "    </tr>\n",
       "    <tr>\n",
       "      <th>43</th>\n",
       "      <td>Oregon</td>\n",
       "      <td>5-14 years</td>\n",
       "      <td>5-14</td>\n",
       "      <td>49.0</td>\n",
       "      <td>491536.0</td>\n",
       "      <td>10.0</td>\n",
       "      <td>9.97</td>\n",
       "      <td>41</td>\n",
       "      <td>2019</td>\n",
       "      <td>OR</td>\n",
       "      <td>OR</td>\n",
       "      <td>41</td>\n",
       "      <td>-0.866667</td>\n",
       "      <td>2024</td>\n",
       "      <td>Left</td>\n",
       "    </tr>\n",
       "    <tr>\n",
       "      <th>44</th>\n",
       "      <td>California</td>\n",
       "      <td>5-14 years</td>\n",
       "      <td>5-14</td>\n",
       "      <td>490.0</td>\n",
       "      <td>5007987.0</td>\n",
       "      <td>9.8</td>\n",
       "      <td>9.78</td>\n",
       "      <td>06</td>\n",
       "      <td>2019</td>\n",
       "      <td>CA</td>\n",
       "      <td>CA</td>\n",
       "      <td>06</td>\n",
       "      <td>-0.866667</td>\n",
       "      <td>2024</td>\n",
       "      <td>Left</td>\n",
       "    </tr>\n",
       "    <tr>\n",
       "      <th>45</th>\n",
       "      <td>Delaware</td>\n",
       "      <td>5-14 years</td>\n",
       "      <td>5-14</td>\n",
       "      <td>11.0</td>\n",
       "      <td>113975.0</td>\n",
       "      <td>Unreliable</td>\n",
       "      <td>9.65</td>\n",
       "      <td>10</td>\n",
       "      <td>2019</td>\n",
       "      <td>DE</td>\n",
       "      <td>DE</td>\n",
       "      <td>10</td>\n",
       "      <td>-1.000000</td>\n",
       "      <td>2024</td>\n",
       "      <td>Left</td>\n",
       "    </tr>\n",
       "    <tr>\n",
       "      <th>46</th>\n",
       "      <td>Massachusetts</td>\n",
       "      <td>5-14 years</td>\n",
       "      <td>5-14</td>\n",
       "      <td>66.0</td>\n",
       "      <td>751035.0</td>\n",
       "      <td>8.8</td>\n",
       "      <td>8.79</td>\n",
       "      <td>25</td>\n",
       "      <td>2019</td>\n",
       "      <td>MA</td>\n",
       "      <td>MA</td>\n",
       "      <td>25</td>\n",
       "      <td>-0.533333</td>\n",
       "      <td>2024</td>\n",
       "      <td>Left</td>\n",
       "    </tr>\n",
       "    <tr>\n",
       "      <th>47</th>\n",
       "      <td>Connecticut</td>\n",
       "      <td>5-14 years</td>\n",
       "      <td>5-14</td>\n",
       "      <td>35.0</td>\n",
       "      <td>409000.0</td>\n",
       "      <td>8.6</td>\n",
       "      <td>8.56</td>\n",
       "      <td>09</td>\n",
       "      <td>2019</td>\n",
       "      <td>CT</td>\n",
       "      <td>CT</td>\n",
       "      <td>09</td>\n",
       "      <td>-0.733333</td>\n",
       "      <td>2024</td>\n",
       "      <td>Left</td>\n",
       "    </tr>\n",
       "  </tbody>\n",
       "</table>\n",
       "</div>"
      ],
      "text/plain": [
       "           State_x Ten-Year Age Groups Ten-Year Age Groups Code  Deaths  \\\n",
       "0      Mississippi          5-14 years                     5-14    98.0   \n",
       "1            Idaho          5-14 years                     5-14    59.0   \n",
       "2           Alaska          5-14 years                     5-14    22.0   \n",
       "3          Alabama          5-14 years                     5-14   126.0   \n",
       "4          Wyoming          5-14 years                     5-14    15.0   \n",
       "5         Oklahoma          5-14 years                     5-14   101.0   \n",
       "6        Louisiana          5-14 years                     5-14   113.0   \n",
       "7          Montana          5-14 years                     5-14    24.0   \n",
       "8         Arkansas          5-14 years                     5-14    70.0   \n",
       "9         Kentucky          5-14 years                     5-14    97.0   \n",
       "10       Tennessee          5-14 years                     5-14   144.0   \n",
       "11            Iowa          5-14 years                     5-14    66.0   \n",
       "12      New Mexico          5-14 years                     5-14    44.0   \n",
       "13    North Dakota          5-14 years                     5-14    16.0   \n",
       "14        Missouri          5-14 years                     5-14   123.0   \n",
       "15        Michigan          5-14 years                     5-14   190.0   \n",
       "16         Georgia          5-14 years                     5-14   223.0   \n",
       "17          Kansas          5-14 years                     5-14    61.0   \n",
       "18         Arizona          5-14 years                     5-14   143.0   \n",
       "19  South Carolina          5-14 years                     5-14    96.0   \n",
       "20         Indiana          5-14 years                     5-14   133.0   \n",
       "21        Colorado          5-14 years                     5-14   105.0   \n",
       "22            Ohio          5-14 years                     5-14   212.0   \n",
       "23          Hawaii          5-14 years                     5-14    24.0   \n",
       "24   New Hampshire          5-14 years                     5-14    20.0   \n",
       "25           Texas          5-14 years                     5-14   575.0   \n",
       "26    Pennsylvania          5-14 years                     5-14   201.0   \n",
       "27            Utah          5-14 years                     5-14    71.0   \n",
       "28       Wisconsin          5-14 years                     5-14    96.0   \n",
       "29   West Virginia          5-14 years                     5-14    27.0   \n",
       "30    South Dakota          5-14 years                     5-14    16.0   \n",
       "31  North Carolina          5-14 years                     5-14   168.0   \n",
       "32           Maine          5-14 years                     5-14    18.0   \n",
       "33         Florida          5-14 years                     5-14   304.0   \n",
       "34          Nevada          5-14 years                     5-14    47.0   \n",
       "35        New York          5-14 years                     5-14   264.0   \n",
       "36      Washington          5-14 years                     5-14   106.0   \n",
       "37        Virginia          5-14 years                     5-14   117.0   \n",
       "38       Minnesota          5-14 years                     5-14    80.0   \n",
       "39        Illinois          5-14 years                     5-14   170.0   \n",
       "40    Rhode Island          5-14 years                     5-14    12.0   \n",
       "41        Maryland          5-14 years                     5-14    77.0   \n",
       "42      New Jersey          5-14 years                     5-14   111.0   \n",
       "43          Oregon          5-14 years                     5-14    49.0   \n",
       "44      California          5-14 years                     5-14   490.0   \n",
       "45        Delaware          5-14 years                     5-14    11.0   \n",
       "46   Massachusetts          5-14 years                     5-14    66.0   \n",
       "47     Connecticut          5-14 years                     5-14    35.0   \n",
       "\n",
       "    Population  Crude Rate   Rate fips_x  Year_x State_Abv State_y fips_y  \\\n",
       "0     395659.0        24.8  24.77     28    2019        MS      MS     28   \n",
       "1     254788.0        23.2  23.16     16    2019        ID      ID     16   \n",
       "2     100662.0        21.9  21.86     02    2019        AK      AK     02   \n",
       "3     608466.0        20.7  20.71     01    2019        AL      AL     01   \n",
       "4      76734.0  Unreliable  19.55     56    2019        WY      WY     56   \n",
       "5     538048.0        18.8  18.77     40    2019        OK      OK     40   \n",
       "6     607936.0        18.6  18.59     22    2019        LA      LA     22   \n",
       "7     129305.0        18.6  18.56     30    2019        MT      MT     30   \n",
       "8     393213.0        17.8  17.80     05    2019        AR      AR     05   \n",
       "9     560417.0        17.3  17.31     21    2019        KY      KY     21   \n",
       "10    844681.0        17.0  17.05     47    2019        TN      TN     47   \n",
       "11    408495.0        16.2  16.16     19    2019        IA      IA     19   \n",
       "12    272268.0        16.2  16.16     35    2019        NM      NM     35   \n",
       "13     99495.0  Unreliable  16.08     38    2019        ND      ND     38   \n",
       "14    769540.0        16.0  15.98     29    2019        MO      MO     29   \n",
       "15   1196689.0        15.9  15.88     26    2019        MI      MI     26   \n",
       "16   1413003.0        15.8  15.78     13    2019        GA      GA     13   \n",
       "17    396266.0        15.4  15.39     20    2019        KS      KS     20   \n",
       "18    930745.0        15.4  15.36     04    2019        AZ      AZ     04   \n",
       "19    630716.0        15.2  15.22     45    2019        SC      SC     45   \n",
       "20    878981.0        15.1  15.13     18    2019        IN      IN     18   \n",
       "21    710322.0        14.8  14.78     08    2019        CO      CO     08   \n",
       "22   1440279.0        14.7  14.72     39    2019        OH      OH     39   \n",
       "23    167586.0        14.3  14.32     15    2019        HI      HI     15   \n",
       "24    143449.0        13.9  13.94     33    2019        NH      NH     33   \n",
       "25   4166702.0        13.8  13.80     48    2019        TX      TX     48   \n",
       "26   1475640.0        13.6  13.62     42    2019        PA      PA     42   \n",
       "27    526961.0        13.5  13.47     49    2019        UT      UT     49   \n",
       "28    714031.0        13.4  13.44     55    2019        WI      WI     55   \n",
       "29    203472.0        13.3  13.27     54    2019        WV      WV     54   \n",
       "30    121666.0  Unreliable  13.15     46    2019        SD      SD     46   \n",
       "31   1294472.0        13.0  12.98     37    2019        NC      NC     37   \n",
       "32    140100.0  Unreliable  12.85     23    2019        ME      ME     23   \n",
       "33   2372397.0        12.8  12.81     12    2019        FL      FL     12   \n",
       "34    392066.0        12.0  11.99     32    2019        NV      NV     32   \n",
       "35   2218596.0        11.9  11.90     36    2019        NY      NY     36   \n",
       "36    935771.0        11.3  11.33     53    2019        WA      WA     53   \n",
       "37   1040121.0        11.2  11.25     51    2019        VA      VA     51   \n",
       "38    732593.0        10.9  10.92     27    2019        MN      MN     27   \n",
       "39   1575745.0        10.8  10.79     17    2019        IL      IL     17   \n",
       "40    112868.0  Unreliable  10.63     44    2019        RI      RI     44   \n",
       "41    747869.0        10.3  10.30     24    2019        MD      MD     24   \n",
       "42   1083967.0        10.2  10.24     34    2019        NJ      NJ     34   \n",
       "43    491536.0        10.0   9.97     41    2019        OR      OR     41   \n",
       "44   5007987.0         9.8   9.78     06    2019        CA      CA     06   \n",
       "45    113975.0  Unreliable   9.65     10    2019        DE      DE     10   \n",
       "46    751035.0         8.8   8.79     25    2019        MA      MA     25   \n",
       "47    409000.0         8.6   8.56     09    2019        CT      CT     09   \n",
       "\n",
       "    Part_Score  Year_y category  \n",
       "0     0.800000    2024    Right  \n",
       "1     1.000000    2024    Right  \n",
       "2     0.466667    2024    Right  \n",
       "3     0.866667    2024    Right  \n",
       "4     0.866667    2024    Right  \n",
       "5     0.866667    2024    Right  \n",
       "6     0.333333    2024    Right  \n",
       "7     0.200000    2024   Center  \n",
       "8     0.333333    2024    Right  \n",
       "9     0.200000    2024   Center  \n",
       "10    0.866667    2024    Right  \n",
       "11    0.333333    2024    Right  \n",
       "12   -0.466667    2024     Left  \n",
       "13    1.000000    2024    Right  \n",
       "14    0.466667    2024    Right  \n",
       "15    0.400000    2024    Right  \n",
       "16    1.000000    2024    Right  \n",
       "17    0.533333    2024    Right  \n",
       "18    0.866667    2024    Right  \n",
       "19    1.000000    2024    Right  \n",
       "20    0.866667    2024    Right  \n",
       "21   -0.600000    2024     Left  \n",
       "22    0.866667    2024    Right  \n",
       "23   -0.866667    2024     Left  \n",
       "24    0.200000    2024   Center  \n",
       "25    1.000000    2024    Right  \n",
       "26    0.266667    2024   Center  \n",
       "27    1.000000    2024    Right  \n",
       "28    0.400000    2024    Right  \n",
       "29    0.000000    2024   Center  \n",
       "30    1.000000    2024    Right  \n",
       "31    0.133333    2024   Center  \n",
       "32   -0.333333    2024     Left  \n",
       "33    1.000000    2024    Right  \n",
       "34   -0.071429    2024   Center  \n",
       "35   -0.666667    2024     Left  \n",
       "36   -0.866667    2024     Left  \n",
       "37   -0.133333    2024   Center  \n",
       "38   -0.266667    2024   Center  \n",
       "39   -0.733333    2024     Left  \n",
       "40   -0.666667    2024     Left  \n",
       "41   -0.533333    2024     Left  \n",
       "42   -0.466667    2024     Left  \n",
       "43   -0.866667    2024     Left  \n",
       "44   -0.866667    2024     Left  \n",
       "45   -1.000000    2024     Left  \n",
       "46   -0.533333    2024     Left  \n",
       "47   -0.733333    2024     Left  "
      ]
     },
     "execution_count": 19,
     "metadata": {},
     "output_type": "execute_result"
    }
   ],
   "source": [
    "child"
   ]
  },
  {
   "cell_type": "code",
   "execution_count": 20,
   "metadata": {},
   "outputs": [],
   "source": [
    "import GraphGenerator\n",
    "def get_age_death(df, age):\n",
    "    age_df = df[df[\"Ten-Year Age Groups Code\"] == age]\n",
    "    part = Partisian.get_state_part_score()\n",
    "    age_df = pd.merge(age_df, part, left_on=\"State_Abv\", right_on=\"State\")\n",
    "    X = age_df['Part_Score'].values.reshape(-1,1)\n",
    "    y = age_df['Rate']\n",
    "    \n",
    "    reg = LinearRegression().fit(X, y, sample_weight=age_df['Population'])\n",
    "    x_range = np.linspace(X.min(), X.max())\n",
    "    y = reg.predict(x_range.reshape(-1,1))\n",
    "    \n",
    "    fig = make_subplots(rows=1, cols=2, vertical_spacing= 0.01, horizontal_spacing= 0.01,  subplot_titles=(\"\",\"\"), column_widths=[0.8, 0.2], shared_yaxes=True)\n",
    "    \n",
    "    fig.add_trace(go.Scatter(x=age_df['Part_Score'], y=age_df['Rate'],mode='markers', marker=dict(color=age_df[\"Part_Score\"], colorscale=\"Bluered\", size=age_df[\"Population\"]/(age_df[\"Population\"].max()/50)), name='Child', hovertext=age_df[\"State_x\"]), row=1, col=1)\n",
    "    \n",
    "    hist_x = []\n",
    "    for index, row in age_df.iterrows():\n",
    "        hist_x.extend([row[\"Rate\"] for i in range(int(round(row[\"Population\"]/1000)))])\n",
    "        row[\"Rate\"]\n",
    "    #fig.add_trace(go.Violin(y=hist_x, side=\"positive\", name=\"Death Rate Distribution\"), row=1, col=2)\n",
    "    fig.add_trace(go.Violin(y=age_df['Rate'], side=\"positive\",  name=\"Death Rate Distribution\"), row=1, col=2)\n",
    "    \n",
    "    \n",
    "    fig.add_trace(go.Scatter(x=x_range, y=y, mode='lines',  line=dict(color=\"green\", dash=\"dash\"), name='Best Fit Line'), row=1, col=1)\n",
    "    \n",
    "    fig.update_layout(title=\"Partisanship Score vs. Death Rate for \" + age + \" Year Olds\", xaxis1_title=\"Partisanship Score\", yaxis1_title=\"Death Rate (per 100,000)\")\n",
    "    fig.update_yaxes(showticklabels=False, row=1, col=2)\n",
    "    fig.update_xaxes(showline=True, linewidth=2, linecolor='black', mirror=False)\n",
    "    fig.update_layout(height=300,width=1200, plot_bgcolor='rgba(0,0,0,0)', margin=dict(l=0, r=0, t=25, b=0))\n",
    "    \n",
    "    fig.show()\n"
   ]
  },
  {
   "cell_type": "code",
   "execution_count": 21,
   "metadata": {},
   "outputs": [
    {
     "data": {
      "application/vnd.plotly.v1+json": {
       "config": {
        "plotlyServerURL": "https://plot.ly"
       },
       "data": [
        {
         "hovertext": [
          "Idaho",
          "Utah",
          "West Virginia",
          "Wisconsin",
          "Maine",
          "Kentucky",
          "Michigan",
          "Ohio",
          "Indiana",
          "Mississippi",
          "Tennessee",
          "Rhode Island",
          "Alabama",
          "Montana",
          "Oregon",
          "Iowa",
          "Pennsylvania",
          "New Hampshire",
          "Kansas",
          "Vermont",
          "Massachusetts",
          "North Carolina",
          "Oklahoma",
          "Arkansas",
          "South Dakota",
          "South Carolina",
          "Minnesota",
          "Washington",
          "Louisiana",
          "Connecticut",
          "Delaware",
          "Virginia",
          "Georgia",
          "Missouri",
          "Wyoming",
          "New Jersey",
          "Colorado",
          "Illinois",
          "Nevada",
          "North Dakota",
          "Texas",
          "Maryland",
          "New Mexico",
          "New York",
          "California",
          "Arizona",
          "Alaska",
          "Florida",
          "Hawaii"
         ],
         "marker": {
          "color": [
           1,
           1,
           0,
           0.4,
           -0.3333333333333333,
           0.2,
           0.4,
           0.8666666666666667,
           0.8666666666666667,
           0.8,
           0.8666666666666667,
           -0.6666666666666666,
           0.8666666666666667,
           0.2,
           -0.8666666666666667,
           0.3333333333333333,
           0.26666666666666666,
           0.2,
           0.5333333333333333,
           -0.4,
           -0.5333333333333333,
           0.13333333333333333,
           0.8666666666666667,
           0.3333333333333333,
           1,
           1,
           -0.26666666666666666,
           -0.8666666666666667,
           0.3333333333333333,
           -0.7333333333333333,
           -1,
           -0.13333333333333333,
           1,
           0.4666666666666667,
           0.8666666666666667,
           -0.4666666666666667,
           -0.6,
           -0.7333333333333333,
           -0.07142857142857142,
           1,
           1,
           -0.5333333333333333,
           -0.4666666666666667,
           -0.6666666666666666,
           -0.8666666666666667,
           0.8666666666666667,
           0.4666666666666667,
           1,
           -0.8666666666666667
          ],
          "colorscale": [
           [
            0,
            "rgb(0,0,255)"
           ],
           [
            1,
            "rgb(255,0,0)"
           ]
          ],
          "size": [
           1.9853409900166168,
           2.5721281436454952,
           2.676282863414621,
           8.555690101700883,
           2.2537961128018287,
           5.4589875787828435,
           14.211984860891436,
           17.08830879940681,
           8.739727890793576,
           3.487249381873078,
           8.119600557981238,
           1.8345100193906483,
           6.104120045982775,
           1.523979590475911,
           5.637024135622514,
           5.2460105141589075,
           22.145347177953873,
           2.0164807173739674,
           4.379432576822441,
           0.9626643337431953,
           10.637050807765862,
           12.62885979254407,
           4.94521541756574,
           3.9949536304787916,
           1.3992873203297744,
           6.095251558319975,
           8.175678739367816,
           8.973709268303091,
           5.471590166514191,
           6.089917129650622,
           1.3505439783635573,
           10.301115162313328,
           10.073335058131937,
           8.903894933092928,
           0.7328838188107958,
           13.543047505754515,
           5.995964504711634,
           17.801588592857733,
           2.9883469405717973,
           1.2544575819568284,
           27.236192498192963,
           7.961168026501442,
           2.7611669596157076,
           30.67303152914065,
           50,
           9.71779538731953,
           0.47883165343283823,
           38.77156109387794,
           2.7784371724327395
          ]
         },
         "mode": "markers",
         "name": "Child",
         "type": "scatter",
         "x": [
          1,
          1,
          0,
          0.4,
          -0.3333333333333333,
          0.2,
          0.4,
          0.8666666666666667,
          0.8666666666666667,
          0.8,
          0.8666666666666667,
          -0.6666666666666666,
          0.8666666666666667,
          0.2,
          -0.8666666666666667,
          0.3333333333333333,
          0.26666666666666666,
          0.2,
          0.5333333333333333,
          -0.4,
          -0.5333333333333333,
          0.13333333333333333,
          0.8666666666666667,
          0.3333333333333333,
          1,
          1,
          -0.26666666666666666,
          -0.8666666666666667,
          0.3333333333333333,
          -0.7333333333333333,
          -1,
          -0.13333333333333333,
          1,
          0.4666666666666667,
          0.8666666666666667,
          -0.4666666666666667,
          -0.6,
          -0.7333333333333333,
          -0.07142857142857142,
          1,
          1,
          -0.5333333333333333,
          -0.4666666666666667,
          -0.6666666666666666,
          -0.8666666666666667,
          0.8666666666666667,
          0.4666666666666667,
          1,
          -0.8666666666666667
         ],
         "xaxis": "x",
         "y": [
          15150.8,
          15030.85,
          14871.94,
          14818.13,
          14739.64,
          14734.69,
          14632.91,
          14600.11,
          14502.29,
          14467.09,
          14459.35,
          14440.97,
          14288.37,
          14281.34,
          14281.15,
          14187.66,
          14138.9,
          14113.29,
          14089.95,
          14019.53,
          13977.92,
          13957.68,
          13908.55,
          13890.37,
          13786.04,
          13779.67,
          13735.42,
          13685,
          13678.3,
          13593.56,
          13587.44,
          13585.79,
          13582.54,
          13500.98,
          13447.37,
          13327.16,
          13274.99,
          13163.7,
          13158.25,
          13155.8,
          13038.76,
          12798.07,
          12560.07,
          12078.02,
          11998.33,
          11712.19,
          11502.58,
          11309.06,
          10408.47
         ],
         "yaxis": "y"
        },
        {
         "name": "Death Rate Distribution",
         "side": "positive",
         "type": "violin",
         "xaxis": "x2",
         "y": [
          15150.8,
          15030.85,
          14871.94,
          14818.13,
          14739.64,
          14734.69,
          14632.91,
          14600.11,
          14502.29,
          14467.09,
          14459.35,
          14440.97,
          14288.37,
          14281.34,
          14281.15,
          14187.66,
          14138.9,
          14113.29,
          14089.95,
          14019.53,
          13977.92,
          13957.68,
          13908.55,
          13890.37,
          13786.04,
          13779.67,
          13735.42,
          13685,
          13678.3,
          13593.56,
          13587.44,
          13585.79,
          13582.54,
          13500.98,
          13447.37,
          13327.16,
          13274.99,
          13163.7,
          13158.25,
          13155.8,
          13038.76,
          12798.07,
          12560.07,
          12078.02,
          11998.33,
          11712.19,
          11502.58,
          11309.06,
          10408.47
         ],
         "yaxis": "y2"
        },
        {
         "line": {
          "color": "green",
          "dash": "dash"
         },
         "mode": "lines",
         "name": "Best Fit Line",
         "type": "scatter",
         "x": [
          -1,
          -0.9591836734693877,
          -0.9183673469387755,
          -0.8775510204081632,
          -0.8367346938775511,
          -0.7959183673469388,
          -0.7551020408163265,
          -0.7142857142857143,
          -0.6734693877551021,
          -0.6326530612244898,
          -0.5918367346938775,
          -0.5510204081632654,
          -0.5102040816326531,
          -0.4693877551020409,
          -0.4285714285714286,
          -0.3877551020408164,
          -0.34693877551020413,
          -0.30612244897959184,
          -0.26530612244897966,
          -0.22448979591836737,
          -0.1836734693877552,
          -0.1428571428571429,
          -0.10204081632653073,
          -0.061224489795918435,
          -0.020408163265306145,
          0.020408163265306145,
          0.06122448979591821,
          0.1020408163265305,
          0.1428571428571428,
          0.18367346938775508,
          0.22448979591836715,
          0.26530612244897944,
          0.30612244897959173,
          0.346938775510204,
          0.3877551020408163,
          0.4285714285714284,
          0.46938775510204067,
          0.510204081632653,
          0.5510204081632653,
          0.5918367346938773,
          0.6326530612244896,
          0.6734693877551019,
          0.7142857142857142,
          0.7551020408163265,
          0.7959183673469385,
          0.8367346938775508,
          0.8775510204081631,
          0.9183673469387754,
          0.9591836734693877,
          1
         ],
         "xaxis": "x",
         "y": [
          12895.788145768896,
          12908.11923137014,
          12920.450316971383,
          12932.781402572626,
          12945.112488173869,
          12957.443573775112,
          12969.774659376357,
          12982.1057449776,
          12994.436830578843,
          13006.767916180086,
          13019.09900178133,
          13031.430087382572,
          13043.761172983815,
          13056.092258585059,
          13068.423344186303,
          13080.754429787547,
          13093.08551538879,
          13105.416600990033,
          13117.747686591276,
          13130.078772192519,
          13142.409857793762,
          13154.740943395007,
          13167.07202899625,
          13179.403114597493,
          13191.734200198736,
          13204.06528579998,
          13216.396371401222,
          13228.727457002466,
          13241.058542603709,
          13253.389628204954,
          13265.720713806197,
          13278.05179940744,
          13290.382885008683,
          13302.713970609926,
          13315.04505621117,
          13327.376141812412,
          13339.707227413657,
          13352.0383130149,
          13364.369398616143,
          13376.700484217386,
          13389.03156981863,
          13401.362655419873,
          13413.693741021116,
          13426.024826622359,
          13438.355912223604,
          13450.686997824847,
          13463.01808342609,
          13475.349169027333,
          13487.680254628576,
          13500.01134022982
         ],
         "yaxis": "y"
        }
       ],
       "layout": {
        "height": 300,
        "margin": {
         "b": 0,
         "l": 0,
         "r": 0,
         "t": 25
        },
        "plot_bgcolor": "rgba(0,0,0,0)",
        "template": {
         "data": {
          "bar": [
           {
            "error_x": {
             "color": "#2a3f5f"
            },
            "error_y": {
             "color": "#2a3f5f"
            },
            "marker": {
             "line": {
              "color": "#E5ECF6",
              "width": 0.5
             },
             "pattern": {
              "fillmode": "overlay",
              "size": 10,
              "solidity": 0.2
             }
            },
            "type": "bar"
           }
          ],
          "barpolar": [
           {
            "marker": {
             "line": {
              "color": "#E5ECF6",
              "width": 0.5
             },
             "pattern": {
              "fillmode": "overlay",
              "size": 10,
              "solidity": 0.2
             }
            },
            "type": "barpolar"
           }
          ],
          "carpet": [
           {
            "aaxis": {
             "endlinecolor": "#2a3f5f",
             "gridcolor": "white",
             "linecolor": "white",
             "minorgridcolor": "white",
             "startlinecolor": "#2a3f5f"
            },
            "baxis": {
             "endlinecolor": "#2a3f5f",
             "gridcolor": "white",
             "linecolor": "white",
             "minorgridcolor": "white",
             "startlinecolor": "#2a3f5f"
            },
            "type": "carpet"
           }
          ],
          "choropleth": [
           {
            "colorbar": {
             "outlinewidth": 0,
             "ticks": ""
            },
            "type": "choropleth"
           }
          ],
          "contour": [
           {
            "colorbar": {
             "outlinewidth": 0,
             "ticks": ""
            },
            "colorscale": [
             [
              0,
              "#0d0887"
             ],
             [
              0.1111111111111111,
              "#46039f"
             ],
             [
              0.2222222222222222,
              "#7201a8"
             ],
             [
              0.3333333333333333,
              "#9c179e"
             ],
             [
              0.4444444444444444,
              "#bd3786"
             ],
             [
              0.5555555555555556,
              "#d8576b"
             ],
             [
              0.6666666666666666,
              "#ed7953"
             ],
             [
              0.7777777777777778,
              "#fb9f3a"
             ],
             [
              0.8888888888888888,
              "#fdca26"
             ],
             [
              1,
              "#f0f921"
             ]
            ],
            "type": "contour"
           }
          ],
          "contourcarpet": [
           {
            "colorbar": {
             "outlinewidth": 0,
             "ticks": ""
            },
            "type": "contourcarpet"
           }
          ],
          "heatmap": [
           {
            "colorbar": {
             "outlinewidth": 0,
             "ticks": ""
            },
            "colorscale": [
             [
              0,
              "#0d0887"
             ],
             [
              0.1111111111111111,
              "#46039f"
             ],
             [
              0.2222222222222222,
              "#7201a8"
             ],
             [
              0.3333333333333333,
              "#9c179e"
             ],
             [
              0.4444444444444444,
              "#bd3786"
             ],
             [
              0.5555555555555556,
              "#d8576b"
             ],
             [
              0.6666666666666666,
              "#ed7953"
             ],
             [
              0.7777777777777778,
              "#fb9f3a"
             ],
             [
              0.8888888888888888,
              "#fdca26"
             ],
             [
              1,
              "#f0f921"
             ]
            ],
            "type": "heatmap"
           }
          ],
          "heatmapgl": [
           {
            "colorbar": {
             "outlinewidth": 0,
             "ticks": ""
            },
            "colorscale": [
             [
              0,
              "#0d0887"
             ],
             [
              0.1111111111111111,
              "#46039f"
             ],
             [
              0.2222222222222222,
              "#7201a8"
             ],
             [
              0.3333333333333333,
              "#9c179e"
             ],
             [
              0.4444444444444444,
              "#bd3786"
             ],
             [
              0.5555555555555556,
              "#d8576b"
             ],
             [
              0.6666666666666666,
              "#ed7953"
             ],
             [
              0.7777777777777778,
              "#fb9f3a"
             ],
             [
              0.8888888888888888,
              "#fdca26"
             ],
             [
              1,
              "#f0f921"
             ]
            ],
            "type": "heatmapgl"
           }
          ],
          "histogram": [
           {
            "marker": {
             "pattern": {
              "fillmode": "overlay",
              "size": 10,
              "solidity": 0.2
             }
            },
            "type": "histogram"
           }
          ],
          "histogram2d": [
           {
            "colorbar": {
             "outlinewidth": 0,
             "ticks": ""
            },
            "colorscale": [
             [
              0,
              "#0d0887"
             ],
             [
              0.1111111111111111,
              "#46039f"
             ],
             [
              0.2222222222222222,
              "#7201a8"
             ],
             [
              0.3333333333333333,
              "#9c179e"
             ],
             [
              0.4444444444444444,
              "#bd3786"
             ],
             [
              0.5555555555555556,
              "#d8576b"
             ],
             [
              0.6666666666666666,
              "#ed7953"
             ],
             [
              0.7777777777777778,
              "#fb9f3a"
             ],
             [
              0.8888888888888888,
              "#fdca26"
             ],
             [
              1,
              "#f0f921"
             ]
            ],
            "type": "histogram2d"
           }
          ],
          "histogram2dcontour": [
           {
            "colorbar": {
             "outlinewidth": 0,
             "ticks": ""
            },
            "colorscale": [
             [
              0,
              "#0d0887"
             ],
             [
              0.1111111111111111,
              "#46039f"
             ],
             [
              0.2222222222222222,
              "#7201a8"
             ],
             [
              0.3333333333333333,
              "#9c179e"
             ],
             [
              0.4444444444444444,
              "#bd3786"
             ],
             [
              0.5555555555555556,
              "#d8576b"
             ],
             [
              0.6666666666666666,
              "#ed7953"
             ],
             [
              0.7777777777777778,
              "#fb9f3a"
             ],
             [
              0.8888888888888888,
              "#fdca26"
             ],
             [
              1,
              "#f0f921"
             ]
            ],
            "type": "histogram2dcontour"
           }
          ],
          "mesh3d": [
           {
            "colorbar": {
             "outlinewidth": 0,
             "ticks": ""
            },
            "type": "mesh3d"
           }
          ],
          "parcoords": [
           {
            "line": {
             "colorbar": {
              "outlinewidth": 0,
              "ticks": ""
             }
            },
            "type": "parcoords"
           }
          ],
          "pie": [
           {
            "automargin": true,
            "type": "pie"
           }
          ],
          "scatter": [
           {
            "marker": {
             "colorbar": {
              "outlinewidth": 0,
              "ticks": ""
             }
            },
            "type": "scatter"
           }
          ],
          "scatter3d": [
           {
            "line": {
             "colorbar": {
              "outlinewidth": 0,
              "ticks": ""
             }
            },
            "marker": {
             "colorbar": {
              "outlinewidth": 0,
              "ticks": ""
             }
            },
            "type": "scatter3d"
           }
          ],
          "scattercarpet": [
           {
            "marker": {
             "colorbar": {
              "outlinewidth": 0,
              "ticks": ""
             }
            },
            "type": "scattercarpet"
           }
          ],
          "scattergeo": [
           {
            "marker": {
             "colorbar": {
              "outlinewidth": 0,
              "ticks": ""
             }
            },
            "type": "scattergeo"
           }
          ],
          "scattergl": [
           {
            "marker": {
             "colorbar": {
              "outlinewidth": 0,
              "ticks": ""
             }
            },
            "type": "scattergl"
           }
          ],
          "scattermapbox": [
           {
            "marker": {
             "colorbar": {
              "outlinewidth": 0,
              "ticks": ""
             }
            },
            "type": "scattermapbox"
           }
          ],
          "scatterpolar": [
           {
            "marker": {
             "colorbar": {
              "outlinewidth": 0,
              "ticks": ""
             }
            },
            "type": "scatterpolar"
           }
          ],
          "scatterpolargl": [
           {
            "marker": {
             "colorbar": {
              "outlinewidth": 0,
              "ticks": ""
             }
            },
            "type": "scatterpolargl"
           }
          ],
          "scatterternary": [
           {
            "marker": {
             "colorbar": {
              "outlinewidth": 0,
              "ticks": ""
             }
            },
            "type": "scatterternary"
           }
          ],
          "surface": [
           {
            "colorbar": {
             "outlinewidth": 0,
             "ticks": ""
            },
            "colorscale": [
             [
              0,
              "#0d0887"
             ],
             [
              0.1111111111111111,
              "#46039f"
             ],
             [
              0.2222222222222222,
              "#7201a8"
             ],
             [
              0.3333333333333333,
              "#9c179e"
             ],
             [
              0.4444444444444444,
              "#bd3786"
             ],
             [
              0.5555555555555556,
              "#d8576b"
             ],
             [
              0.6666666666666666,
              "#ed7953"
             ],
             [
              0.7777777777777778,
              "#fb9f3a"
             ],
             [
              0.8888888888888888,
              "#fdca26"
             ],
             [
              1,
              "#f0f921"
             ]
            ],
            "type": "surface"
           }
          ],
          "table": [
           {
            "cells": {
             "fill": {
              "color": "#EBF0F8"
             },
             "line": {
              "color": "white"
             }
            },
            "header": {
             "fill": {
              "color": "#C8D4E3"
             },
             "line": {
              "color": "white"
             }
            },
            "type": "table"
           }
          ]
         },
         "layout": {
          "annotationdefaults": {
           "arrowcolor": "#2a3f5f",
           "arrowhead": 0,
           "arrowwidth": 1
          },
          "autotypenumbers": "strict",
          "coloraxis": {
           "colorbar": {
            "outlinewidth": 0,
            "ticks": ""
           }
          },
          "colorscale": {
           "diverging": [
            [
             0,
             "#8e0152"
            ],
            [
             0.1,
             "#c51b7d"
            ],
            [
             0.2,
             "#de77ae"
            ],
            [
             0.3,
             "#f1b6da"
            ],
            [
             0.4,
             "#fde0ef"
            ],
            [
             0.5,
             "#f7f7f7"
            ],
            [
             0.6,
             "#e6f5d0"
            ],
            [
             0.7,
             "#b8e186"
            ],
            [
             0.8,
             "#7fbc41"
            ],
            [
             0.9,
             "#4d9221"
            ],
            [
             1,
             "#276419"
            ]
           ],
           "sequential": [
            [
             0,
             "#0d0887"
            ],
            [
             0.1111111111111111,
             "#46039f"
            ],
            [
             0.2222222222222222,
             "#7201a8"
            ],
            [
             0.3333333333333333,
             "#9c179e"
            ],
            [
             0.4444444444444444,
             "#bd3786"
            ],
            [
             0.5555555555555556,
             "#d8576b"
            ],
            [
             0.6666666666666666,
             "#ed7953"
            ],
            [
             0.7777777777777778,
             "#fb9f3a"
            ],
            [
             0.8888888888888888,
             "#fdca26"
            ],
            [
             1,
             "#f0f921"
            ]
           ],
           "sequentialminus": [
            [
             0,
             "#0d0887"
            ],
            [
             0.1111111111111111,
             "#46039f"
            ],
            [
             0.2222222222222222,
             "#7201a8"
            ],
            [
             0.3333333333333333,
             "#9c179e"
            ],
            [
             0.4444444444444444,
             "#bd3786"
            ],
            [
             0.5555555555555556,
             "#d8576b"
            ],
            [
             0.6666666666666666,
             "#ed7953"
            ],
            [
             0.7777777777777778,
             "#fb9f3a"
            ],
            [
             0.8888888888888888,
             "#fdca26"
            ],
            [
             1,
             "#f0f921"
            ]
           ]
          },
          "colorway": [
           "#636efa",
           "#EF553B",
           "#00cc96",
           "#ab63fa",
           "#FFA15A",
           "#19d3f3",
           "#FF6692",
           "#B6E880",
           "#FF97FF",
           "#FECB52"
          ],
          "font": {
           "color": "#2a3f5f"
          },
          "geo": {
           "bgcolor": "white",
           "lakecolor": "white",
           "landcolor": "#E5ECF6",
           "showlakes": true,
           "showland": true,
           "subunitcolor": "white"
          },
          "hoverlabel": {
           "align": "left"
          },
          "hovermode": "closest",
          "mapbox": {
           "style": "light"
          },
          "paper_bgcolor": "white",
          "plot_bgcolor": "#E5ECF6",
          "polar": {
           "angularaxis": {
            "gridcolor": "white",
            "linecolor": "white",
            "ticks": ""
           },
           "bgcolor": "#E5ECF6",
           "radialaxis": {
            "gridcolor": "white",
            "linecolor": "white",
            "ticks": ""
           }
          },
          "scene": {
           "xaxis": {
            "backgroundcolor": "#E5ECF6",
            "gridcolor": "white",
            "gridwidth": 2,
            "linecolor": "white",
            "showbackground": true,
            "ticks": "",
            "zerolinecolor": "white"
           },
           "yaxis": {
            "backgroundcolor": "#E5ECF6",
            "gridcolor": "white",
            "gridwidth": 2,
            "linecolor": "white",
            "showbackground": true,
            "ticks": "",
            "zerolinecolor": "white"
           },
           "zaxis": {
            "backgroundcolor": "#E5ECF6",
            "gridcolor": "white",
            "gridwidth": 2,
            "linecolor": "white",
            "showbackground": true,
            "ticks": "",
            "zerolinecolor": "white"
           }
          },
          "shapedefaults": {
           "line": {
            "color": "#2a3f5f"
           }
          },
          "ternary": {
           "aaxis": {
            "gridcolor": "white",
            "linecolor": "white",
            "ticks": ""
           },
           "baxis": {
            "gridcolor": "white",
            "linecolor": "white",
            "ticks": ""
           },
           "bgcolor": "#E5ECF6",
           "caxis": {
            "gridcolor": "white",
            "linecolor": "white",
            "ticks": ""
           }
          },
          "title": {
           "x": 0.05
          },
          "xaxis": {
           "automargin": true,
           "gridcolor": "white",
           "linecolor": "white",
           "ticks": "",
           "title": {
            "standoff": 15
           },
           "zerolinecolor": "white",
           "zerolinewidth": 2
          },
          "yaxis": {
           "automargin": true,
           "gridcolor": "white",
           "linecolor": "white",
           "ticks": "",
           "title": {
            "standoff": 15
           },
           "zerolinecolor": "white",
           "zerolinewidth": 2
          }
         }
        },
        "title": {
         "text": "Partisanship Score vs. Death Rate for 85+ Year Olds"
        },
        "width": 1200,
        "xaxis": {
         "anchor": "y",
         "domain": [
          0,
          0.792
         ],
         "linecolor": "black",
         "linewidth": 2,
         "mirror": false,
         "showline": true,
         "title": {
          "text": "Partisanship Score"
         }
        },
        "xaxis2": {
         "anchor": "y2",
         "domain": [
          0.802,
          1
         ],
         "linecolor": "black",
         "linewidth": 2,
         "mirror": false,
         "showline": true
        },
        "yaxis": {
         "anchor": "x",
         "domain": [
          0,
          1
         ],
         "title": {
          "text": "Death Rate (per 100,000)"
         }
        },
        "yaxis2": {
         "anchor": "x2",
         "domain": [
          0,
          1
         ],
         "matches": "y",
         "showticklabels": false
        }
       }
      }
     },
     "metadata": {},
     "output_type": "display_data"
    }
   ],
   "source": [
    "get_age_death(state_deaths,\"85+\")"
   ]
  },
  {
   "cell_type": "code",
   "execution_count": null,
   "metadata": {},
   "outputs": [],
   "source": []
  },
  {
   "cell_type": "code",
   "execution_count": 22,
   "metadata": {},
   "outputs": [],
   "source": [
    "for age in state_deaths[\"Ten-Year Age Groups Code\"].unique():\n",
    "    None\n",
    "    #get_age_death(state_deaths,age)"
   ]
  },
  {
   "cell_type": "code",
   "execution_count": null,
   "metadata": {},
   "outputs": [],
   "source": []
  },
  {
   "cell_type": "code",
   "execution_count": 23,
   "metadata": {},
   "outputs": [
    {
     "data": {
      "application/vnd.plotly.v1+json": {
       "config": {
        "plotlyServerURL": "https://plot.ly"
       },
       "data": [
        {
         "mode": "markers",
         "name": "85+",
         "type": "scatter",
         "x": [
          1,
          1,
          0,
          0.4,
          -0.3333333333333333,
          0.2,
          0.4,
          0.8666666666666667,
          0.8666666666666667,
          0.8,
          0.8666666666666667,
          -0.6666666666666666,
          0.8666666666666667,
          0.2,
          -0.8666666666666667,
          0.3333333333333333,
          0.26666666666666666,
          0.2,
          0.5333333333333333,
          -0.4,
          -0.5333333333333333,
          0.13333333333333333,
          0.8666666666666667,
          0.3333333333333333,
          1,
          1,
          -0.26666666666666666,
          -0.8666666666666667,
          0.3333333333333333,
          -0.7333333333333333,
          -1,
          -0.13333333333333333,
          1,
          0.4666666666666667,
          0.8666666666666667,
          -0.4666666666666667,
          -0.6,
          -0.7333333333333333,
          -0.07142857142857142,
          1,
          1,
          -0.5333333333333333,
          -0.4666666666666667,
          -0.6666666666666666,
          -0.8666666666666667,
          0.8666666666666667,
          0.4666666666666667,
          1,
          -0.8666666666666667
         ],
         "y": [
          15150.8,
          15030.85,
          14871.94,
          14818.13,
          14739.64,
          14734.69,
          14632.91,
          14600.11,
          14502.29,
          14467.09,
          14459.35,
          14440.97,
          14288.37,
          14281.34,
          14281.15,
          14187.66,
          14138.9,
          14113.29,
          14089.95,
          14019.53,
          13977.92,
          13957.68,
          13908.55,
          13890.37,
          13786.04,
          13779.67,
          13735.42,
          13685,
          13678.3,
          13593.56,
          13587.44,
          13585.79,
          13582.54,
          13500.98,
          13447.37,
          13327.16,
          13274.99,
          13163.7,
          13158.25,
          13155.8,
          13038.76,
          12798.07,
          12560.07,
          12078.02,
          11998.33,
          11712.19,
          11502.58,
          11309.06,
          10408.47
         ]
        },
        {
         "mode": "markers",
         "name": "75-84",
         "type": "scatter",
         "x": [
          0.2,
          0.8,
          0,
          0.8666666666666667,
          0.3333333333333333,
          0.8666666666666667,
          0.8666666666666667,
          0.8666666666666667,
          0.8666666666666667,
          0.3333333333333333,
          0.5333333333333333,
          0.4666666666666667,
          -0.3333333333333333,
          1,
          1,
          1,
          0.4,
          0.13333333333333333,
          0.3333333333333333,
          1,
          0.26666666666666666,
          0.4,
          -0.07142857142857142,
          1,
          0.2,
          0.8666666666666667,
          -0.6666666666666666,
          0.2,
          1,
          -0.13333333333333333,
          -0.7333333333333333,
          1,
          -0.8666666666666667,
          0.4666666666666667,
          -0.5333333333333333,
          -0.8666666666666667,
          -0.26666666666666666,
          -1,
          -0.4666666666666667,
          -0.5333333333333333,
          -0.4666666666666667,
          -0.4,
          -0.6,
          -0.7333333333333333,
          -0.6666666666666666,
          0.8666666666666667,
          -0.8666666666666667,
          1,
          -0.8666666666666667
         ],
         "y": [
          5507.2,
          5485.42,
          5423.91,
          5300.15,
          5240.75,
          5239.7,
          5190.05,
          5046.6,
          4986.31,
          4972.02,
          4793.09,
          4775.07,
          4698.61,
          4653.6,
          4637.59,
          4636.43,
          4612.92,
          4608.96,
          4589.36,
          4574.86,
          4572.82,
          4494.78,
          4492.09,
          4472.58,
          4471.51,
          4467.72,
          4436.53,
          4374.67,
          4352.89,
          4346.11,
          4325.51,
          4317.83,
          4239.34,
          4236.81,
          4181.08,
          4134.31,
          4092.79,
          4091.84,
          4055.89,
          4032.64,
          3985.53,
          3969.38,
          3932.11,
          3873.83,
          3775.98,
          3749.54,
          3665.32,
          3571.01,
          3202.66
         ]
        },
        {
         "mode": "markers",
         "name": "65-74",
         "type": "scatter",
         "x": [
          0.8,
          0.8666666666666667,
          0.8666666666666667,
          0.2,
          0.3333333333333333,
          0,
          0.8666666666666667,
          0.3333333333333333,
          0.8666666666666667,
          0.8666666666666667,
          0.4666666666666667,
          1,
          -0.07142857142857142,
          0.5333333333333333,
          1,
          0.4,
          0.13333333333333333,
          1,
          0.3333333333333333,
          0.26666666666666666,
          -0.7333333333333333,
          -0.13333333333333333,
          -0.5333333333333333,
          1,
          0.8666666666666667,
          -0.3333333333333333,
          -0.4666666666666667,
          0.4,
          0.4666666666666667,
          0.2,
          -0.6666666666666666,
          -0.8666666666666667,
          1,
          -0.4,
          1,
          -0.8666666666666667,
          -1,
          0.8666666666666667,
          0.2,
          1,
          -0.4666666666666667,
          -0.6666666666666666,
          -0.26666666666666666,
          -0.5333333333333333,
          -0.7333333333333333,
          1,
          -0.8666666666666667,
          -0.6,
          -0.8666666666666667
         ],
         "y": [
          2481.01,
          2378.75,
          2376.52,
          2344.4,
          2329.04,
          2306.7,
          2241.28,
          2183.79,
          2098.35,
          2042.64,
          2035.68,
          2014.79,
          1951.46,
          1921.86,
          1915.53,
          1897.78,
          1885.89,
          1856.46,
          1789.71,
          1774.77,
          1755.31,
          1735.53,
          1723.7,
          1723.57,
          1719.76,
          1716.36,
          1693.67,
          1671.97,
          1667.21,
          1661.71,
          1660.72,
          1648.52,
          1618.54,
          1607.58,
          1597.98,
          1591.65,
          1591.38,
          1590.93,
          1578.58,
          1577.91,
          1561.84,
          1527.64,
          1495.5,
          1479.12,
          1468.74,
          1465.83,
          1451.63,
          1422.25,
          1380.09
         ]
        },
        {
         "mode": "markers",
         "name": "55-64",
         "type": "scatter",
         "x": [
          0.8,
          0,
          0.2,
          0.3333333333333333,
          0.8666666666666667,
          0.8666666666666667,
          0.8666666666666667,
          0.3333333333333333,
          1,
          0.4666666666666667,
          0.8666666666666667,
          0.8666666666666667,
          1,
          0.13333333333333333,
          -0.4666666666666667,
          0.5333333333333333,
          -0.07142857142857142,
          0.4,
          1,
          1,
          0.3333333333333333,
          0.26666666666666666,
          -1,
          0.8666666666666667,
          -0.8666666666666667,
          -0.3333333333333333,
          0.8666666666666667,
          -0.5333333333333333,
          -0.7333333333333333,
          -0.13333333333333333,
          1,
          1,
          0.4666666666666667,
          0.2,
          0.4,
          -0.8666666666666667,
          -0.8666666666666667,
          -0.4,
          1,
          -0.6666666666666666,
          0.2,
          -0.6,
          -0.4666666666666667,
          -0.6666666666666666,
          -0.8666666666666667,
          -0.7333333333333333,
          1,
          -0.5333333333333333,
          -0.26666666666666666
         ],
         "y": [
          1354.98,
          1313.57,
          1242.88,
          1238.62,
          1235.38,
          1210.35,
          1207.75,
          1186.27,
          1074.38,
          1038.96,
          1033.48,
          1018.76,
          1002.65,
          962.69,
          959.98,
          959.88,
          951.3,
          930.67,
          897.74,
          892.09,
          885.74,
          883.22,
          871.27,
          854.56,
          853.88,
          847.99,
          847.19,
          845.8,
          843.1,
          840.8,
          834.06,
          827.67,
          823.88,
          823.29,
          767.3,
          767.01,
          765.83,
          763.27,
          754.72,
          735.92,
          731.64,
          726.49,
          716.79,
          715.36,
          712.25,
          695.29,
          694.08,
          693.18,
          673.83
         ]
        },
        {
         "mode": "markers",
         "name": "1",
         "type": "scatter",
         "x": [
          0.8,
          0.3333333333333333,
          0.8666666666666667,
          1,
          0.8666666666666667,
          0.8666666666666667,
          0.8666666666666667,
          1,
          0.8666666666666667,
          1,
          0.3333333333333333,
          0.13333333333333333,
          1,
          0.8666666666666667,
          0.4,
          0,
          -1,
          0.4666666666666667,
          1,
          -0.5333333333333333,
          0.4,
          0.26666666666666666,
          -0.13333333333333333,
          -0.6666666666666666,
          0.5333333333333333,
          -0.07142857142857142,
          -0.4666666666666667,
          -0.7333333333333333,
          1,
          0.8666666666666667,
          -0.3333333333333333,
          1,
          -0.8666666666666667,
          0.3333333333333333,
          0.2,
          0.4666666666666667,
          -0.6,
          -0.8666666666666667,
          0.2,
          -0.26666666666666666,
          -0.7333333333333333,
          1,
          -0.4666666666666667,
          -0.6666666666666666,
          -0.8666666666666667,
          -0.8666666666666667,
          -0.5333333333333333,
          0.2,
          -0.4
         ],
         "y": [
          906.58,
          806.76,
          789.09,
          734.52,
          708.06,
          705.73,
          699.94,
          698.44,
          696.7,
          696.7,
          690.41,
          679.61,
          667.5,
          653.34,
          632.92,
          630.81,
          621.59,
          609.76,
          600.55,
          590.62,
          585.49,
          584.95,
          582.44,
          579.96,
          569,
          563.01,
          560.53,
          552.45,
          549.22,
          523.62,
          523.47,
          512.7,
          505.95,
          503.46,
          500.43,
          481.06,
          473.97,
          468.69,
          463.16,
          446.55,
          441.88,
          438.79,
          430.33,
          426.47,
          414.33,
          406.19,
          358.8,
          307,
          268.87
         ]
        },
        {
         "mode": "markers",
         "name": "45-54",
         "type": "scatter",
         "x": [
          0,
          0.8,
          0.2,
          0.8666666666666667,
          -0.4666666666666667,
          0.8666666666666667,
          0.8666666666666667,
          0.3333333333333333,
          0.3333333333333333,
          1,
          0.4666666666666667,
          0.8666666666666667,
          0.8666666666666667,
          0.8666666666666667,
          -1,
          1,
          -0.07142857142857142,
          0.2,
          0.13333333333333333,
          1,
          -0.3333333333333333,
          0.4,
          0.26666666666666666,
          1,
          0.8666666666666667,
          0.4666666666666667,
          -0.5333333333333333,
          0.5333333333333333,
          1,
          0.3333333333333333,
          -0.8666666666666667,
          1,
          -0.7333333333333333,
          -0.6666666666666666,
          0.4,
          -0.4,
          -0.13333333333333333,
          -0.8666666666666667,
          0.2,
          -0.4666666666666667,
          -0.8666666666666667,
          1,
          -0.6,
          -0.7333333333333333,
          -0.5333333333333333,
          -0.6666666666666666,
          -0.8666666666666667,
          1,
          -0.26666666666666666
         ],
         "y": [
          626.82,
          605.18,
          588.3,
          564.8,
          560.99,
          559.02,
          552.99,
          546.19,
          539.85,
          503.43,
          472.61,
          465.67,
          462.48,
          436.94,
          434.05,
          425.32,
          421.58,
          420.2,
          416.18,
          414.27,
          410.92,
          408.79,
          407.89,
          397.91,
          397.73,
          393.52,
          386.69,
          386.33,
          379.8,
          379.58,
          376.76,
          374.58,
          373.86,
          368.58,
          357.1,
          349.77,
          348,
          345.6,
          343.2,
          331.27,
          330.82,
          329.59,
          323.3,
          321.87,
          321.83,
          320.01,
          304.09,
          303.26,
          302.07
         ]
        },
        {
         "mode": "markers",
         "name": "35-44",
         "type": "scatter",
         "x": [
          0,
          -0.4666666666666667,
          0.8,
          0.8666666666666667,
          0.2,
          0.3333333333333333,
          0.8666666666666667,
          -1,
          1,
          0.3333333333333333,
          0.8666666666666667,
          0.8666666666666667,
          0.4666666666666667,
          0.4666666666666667,
          -0.3333333333333333,
          0.8666666666666667,
          0.8666666666666667,
          0.2,
          1,
          0.26666666666666666,
          0.13333333333333333,
          1,
          0.8666666666666667,
          0.4,
          -0.5333333333333333,
          1,
          0.2,
          1,
          -0.6666666666666666,
          0.5333333333333333,
          -0.4,
          -0.07142857142857142,
          -0.7333333333333333,
          -0.7333333333333333,
          -0.8666666666666667,
          0.4,
          1,
          -0.4666666666666667,
          -0.5333333333333333,
          -0.6,
          1,
          -0.13333333333333333,
          0.3333333333333333,
          1,
          -0.8666666666666667,
          -0.6666666666666666,
          -0.8666666666666667,
          -0.8666666666666667,
          -0.26666666666666666
         ],
         "y": [
          381.66,
          341.38,
          324.54,
          302.37,
          299.12,
          293.8,
          278.77,
          278.51,
          270.26,
          269.81,
          264.73,
          260.69,
          252.7,
          251.68,
          236.25,
          234.03,
          231.54,
          229.59,
          222.93,
          219.19,
          216.89,
          215.42,
          215.28,
          215.06,
          212.35,
          210.87,
          208.95,
          204.16,
          199.47,
          191.67,
          189.43,
          186.36,
          185.81,
          184.25,
          179.87,
          179.64,
          174.74,
          173.68,
          173.39,
          173.04,
          172.74,
          170.79,
          165.62,
          163.75,
          156.49,
          153.83,
          147.06,
          146.72,
          144.71
         ]
        },
        {
         "mode": "markers",
         "name": "25-34",
         "type": "scatter",
         "x": [
          0,
          -0.4666666666666667,
          -1,
          0.4666666666666667,
          0.8,
          0.8666666666666667,
          0.8666666666666667,
          0.8666666666666667,
          0.3333333333333333,
          0.2,
          -0.5333333333333333,
          1,
          0.4666666666666667,
          0.8666666666666667,
          0.26666666666666666,
          -0.4,
          -0.3333333333333333,
          0.13333333333333333,
          0.2,
          0.4,
          0.8666666666666667,
          1,
          0.3333333333333333,
          0.8666666666666667,
          1,
          0.8666666666666667,
          0.2,
          -0.7333333333333333,
          -0.4666666666666667,
          1,
          0.5333333333333333,
          1,
          -0.7333333333333333,
          -0.6,
          -0.5333333333333333,
          0.4,
          -0.13333333333333333,
          -0.07142857142857142,
          -0.6666666666666666,
          1,
          0.3333333333333333,
          1,
          -0.8666666666666667,
          -0.26666666666666666,
          1,
          -0.6666666666666666,
          -0.8666666666666667,
          -0.8666666666666667,
          -0.8666666666666667
         ],
         "y": [
          242.05,
          232.32,
          196.78,
          193.05,
          184.13,
          178.92,
          174.48,
          171.07,
          170.31,
          169.4,
          165.33,
          165.04,
          163.1,
          159.09,
          153.76,
          153.21,
          152.33,
          151.33,
          151.03,
          150.65,
          149.94,
          146.14,
          143.88,
          143.67,
          143.4,
          142.61,
          135.85,
          134.14,
          132.69,
          130.92,
          129.27,
          127.97,
          121.61,
          120.11,
          117.45,
          116.7,
          114.17,
          111.23,
          110.65,
          108.31,
          107.5,
          106.06,
          97.97,
          97.56,
          95.56,
          95.27,
          94.57,
          93.5,
          93.42
         ]
        },
        {
         "mode": "markers",
         "name": "15-24",
         "type": "scatter",
         "x": [
          0.4666666666666667,
          -0.4666666666666667,
          0.8,
          0.3333333333333333,
          1,
          0.8666666666666667,
          0.3333333333333333,
          0.4666666666666667,
          1,
          0.8666666666666667,
          0,
          0.8666666666666667,
          0.2,
          0.8666666666666667,
          0.8666666666666667,
          -0.5333333333333333,
          0.13333333333333333,
          -0.6,
          0.8666666666666667,
          0.2,
          1,
          0.8666666666666667,
          -1,
          1,
          -0.07142857142857142,
          1,
          0.5333333333333333,
          1,
          0.26666666666666666,
          -0.7333333333333333,
          0.2,
          -0.13333333333333333,
          0.4,
          -0.3333333333333333,
          -0.8666666666666667,
          1,
          -0.26666666666666666,
          1,
          0.4,
          -0.8666666666666667,
          0.3333333333333333,
          -0.8666666666666667,
          -0.4666666666666667,
          -0.7333333333333333,
          -0.8666666666666667,
          -0.6666666666666666,
          -0.4,
          -0.5333333333333333,
          -0.6666666666666666
         ],
         "y": [
          129.68,
          109.53,
          108.47,
          101.8,
          98.57,
          98,
          97.85,
          97.42,
          97.34,
          96.18,
          93.61,
          92.51,
          91.25,
          86.8,
          80.72,
          80.02,
          78.8,
          78.58,
          78.03,
          77.08,
          75.67,
          75.64,
          74.98,
          74.23,
          72.29,
          70.82,
          69.28,
          68.7,
          67.8,
          67.11,
          64,
          63.59,
          62.5,
          62.44,
          61.54,
          61.52,
          61.22,
          60.33,
          59.36,
          59.29,
          57.97,
          56.05,
          50.57,
          49.92,
          49.42,
          47.93,
          43.86,
          41.71,
          40.23
         ]
        },
        {
         "mode": "markers",
         "name": "1-4",
         "type": "scatter",
         "x": [
          0.8666666666666667,
          0.4666666666666667,
          -1,
          0.8,
          0.3333333333333333,
          1,
          1,
          0.3333333333333333,
          0.8666666666666667,
          1,
          -0.4666666666666667,
          0.8666666666666667,
          0,
          -0.8666666666666667,
          0.4666666666666667,
          0.13333333333333333,
          0.4,
          0.2,
          1,
          0.2,
          0.8666666666666667,
          0.4,
          0.8666666666666667,
          -0.07142857142857142,
          -0.26666666666666666,
          1,
          1,
          -0.5333333333333333,
          0.8666666666666667,
          1,
          0.5333333333333333,
          1,
          0.26666666666666666,
          -0.7333333333333333,
          -0.13333333333333333,
          0.2,
          -0.8666666666666667,
          -0.6666666666666666,
          0.3333333333333333,
          -0.8666666666666667,
          -0.8666666666666667,
          -0.4666666666666667,
          -0.5333333333333333,
          -0.7333333333333333,
          -0.6
         ],
         "y": [
          47.59,
          43.79,
          43.08,
          40.55,
          35.5,
          33.85,
          32.53,
          32.04,
          30.9,
          30.6,
          28.58,
          28.11,
          27.9,
          27.77,
          27.6,
          27.3,
          26.58,
          26.26,
          25.98,
          25.97,
          25.85,
          25.36,
          25.3,
          24.69,
          24.3,
          24.18,
          24.09,
          23.97,
          23.29,
          22.93,
          22.67,
          22.32,
          21.48,
          21.22,
          20.36,
          19.39,
          17.37,
          17.05,
          16.45,
          16.34,
          15.18,
          15.17,
          13.96,
          12.92,
          12.33
         ]
        },
        {
         "mode": "markers",
         "name": "5-14",
         "type": "scatter",
         "x": [
          0.8,
          1,
          0.4666666666666667,
          0.8666666666666667,
          0.8666666666666667,
          0.8666666666666667,
          0.3333333333333333,
          0.2,
          0.3333333333333333,
          0.2,
          0.8666666666666667,
          0.3333333333333333,
          -0.4666666666666667,
          1,
          0.4666666666666667,
          0.4,
          1,
          0.5333333333333333,
          0.8666666666666667,
          1,
          0.8666666666666667,
          -0.6,
          0.8666666666666667,
          -0.8666666666666667,
          0.2,
          1,
          0.26666666666666666,
          1,
          0.4,
          0,
          1,
          0.13333333333333333,
          -0.3333333333333333,
          1,
          -0.07142857142857142,
          -0.6666666666666666,
          -0.8666666666666667,
          -0.13333333333333333,
          -0.26666666666666666,
          -0.7333333333333333,
          -0.6666666666666666,
          -0.5333333333333333,
          -0.4666666666666667,
          -0.8666666666666667,
          -0.8666666666666667,
          -1,
          -0.5333333333333333,
          -0.7333333333333333
         ],
         "y": [
          24.77,
          23.16,
          21.86,
          20.71,
          19.55,
          18.77,
          18.59,
          18.56,
          17.8,
          17.31,
          17.05,
          16.16,
          16.16,
          16.08,
          15.98,
          15.88,
          15.78,
          15.39,
          15.36,
          15.22,
          15.13,
          14.78,
          14.72,
          14.32,
          13.94,
          13.8,
          13.62,
          13.47,
          13.44,
          13.27,
          13.15,
          12.98,
          12.85,
          12.81,
          11.99,
          11.9,
          11.33,
          11.25,
          10.92,
          10.79,
          10.63,
          10.3,
          10.24,
          9.97,
          9.78,
          9.65,
          8.79,
          8.56
         ]
        }
       ],
       "layout": {
        "template": {
         "data": {
          "bar": [
           {
            "error_x": {
             "color": "#2a3f5f"
            },
            "error_y": {
             "color": "#2a3f5f"
            },
            "marker": {
             "line": {
              "color": "#E5ECF6",
              "width": 0.5
             },
             "pattern": {
              "fillmode": "overlay",
              "size": 10,
              "solidity": 0.2
             }
            },
            "type": "bar"
           }
          ],
          "barpolar": [
           {
            "marker": {
             "line": {
              "color": "#E5ECF6",
              "width": 0.5
             },
             "pattern": {
              "fillmode": "overlay",
              "size": 10,
              "solidity": 0.2
             }
            },
            "type": "barpolar"
           }
          ],
          "carpet": [
           {
            "aaxis": {
             "endlinecolor": "#2a3f5f",
             "gridcolor": "white",
             "linecolor": "white",
             "minorgridcolor": "white",
             "startlinecolor": "#2a3f5f"
            },
            "baxis": {
             "endlinecolor": "#2a3f5f",
             "gridcolor": "white",
             "linecolor": "white",
             "minorgridcolor": "white",
             "startlinecolor": "#2a3f5f"
            },
            "type": "carpet"
           }
          ],
          "choropleth": [
           {
            "colorbar": {
             "outlinewidth": 0,
             "ticks": ""
            },
            "type": "choropleth"
           }
          ],
          "contour": [
           {
            "colorbar": {
             "outlinewidth": 0,
             "ticks": ""
            },
            "colorscale": [
             [
              0,
              "#0d0887"
             ],
             [
              0.1111111111111111,
              "#46039f"
             ],
             [
              0.2222222222222222,
              "#7201a8"
             ],
             [
              0.3333333333333333,
              "#9c179e"
             ],
             [
              0.4444444444444444,
              "#bd3786"
             ],
             [
              0.5555555555555556,
              "#d8576b"
             ],
             [
              0.6666666666666666,
              "#ed7953"
             ],
             [
              0.7777777777777778,
              "#fb9f3a"
             ],
             [
              0.8888888888888888,
              "#fdca26"
             ],
             [
              1,
              "#f0f921"
             ]
            ],
            "type": "contour"
           }
          ],
          "contourcarpet": [
           {
            "colorbar": {
             "outlinewidth": 0,
             "ticks": ""
            },
            "type": "contourcarpet"
           }
          ],
          "heatmap": [
           {
            "colorbar": {
             "outlinewidth": 0,
             "ticks": ""
            },
            "colorscale": [
             [
              0,
              "#0d0887"
             ],
             [
              0.1111111111111111,
              "#46039f"
             ],
             [
              0.2222222222222222,
              "#7201a8"
             ],
             [
              0.3333333333333333,
              "#9c179e"
             ],
             [
              0.4444444444444444,
              "#bd3786"
             ],
             [
              0.5555555555555556,
              "#d8576b"
             ],
             [
              0.6666666666666666,
              "#ed7953"
             ],
             [
              0.7777777777777778,
              "#fb9f3a"
             ],
             [
              0.8888888888888888,
              "#fdca26"
             ],
             [
              1,
              "#f0f921"
             ]
            ],
            "type": "heatmap"
           }
          ],
          "heatmapgl": [
           {
            "colorbar": {
             "outlinewidth": 0,
             "ticks": ""
            },
            "colorscale": [
             [
              0,
              "#0d0887"
             ],
             [
              0.1111111111111111,
              "#46039f"
             ],
             [
              0.2222222222222222,
              "#7201a8"
             ],
             [
              0.3333333333333333,
              "#9c179e"
             ],
             [
              0.4444444444444444,
              "#bd3786"
             ],
             [
              0.5555555555555556,
              "#d8576b"
             ],
             [
              0.6666666666666666,
              "#ed7953"
             ],
             [
              0.7777777777777778,
              "#fb9f3a"
             ],
             [
              0.8888888888888888,
              "#fdca26"
             ],
             [
              1,
              "#f0f921"
             ]
            ],
            "type": "heatmapgl"
           }
          ],
          "histogram": [
           {
            "marker": {
             "pattern": {
              "fillmode": "overlay",
              "size": 10,
              "solidity": 0.2
             }
            },
            "type": "histogram"
           }
          ],
          "histogram2d": [
           {
            "colorbar": {
             "outlinewidth": 0,
             "ticks": ""
            },
            "colorscale": [
             [
              0,
              "#0d0887"
             ],
             [
              0.1111111111111111,
              "#46039f"
             ],
             [
              0.2222222222222222,
              "#7201a8"
             ],
             [
              0.3333333333333333,
              "#9c179e"
             ],
             [
              0.4444444444444444,
              "#bd3786"
             ],
             [
              0.5555555555555556,
              "#d8576b"
             ],
             [
              0.6666666666666666,
              "#ed7953"
             ],
             [
              0.7777777777777778,
              "#fb9f3a"
             ],
             [
              0.8888888888888888,
              "#fdca26"
             ],
             [
              1,
              "#f0f921"
             ]
            ],
            "type": "histogram2d"
           }
          ],
          "histogram2dcontour": [
           {
            "colorbar": {
             "outlinewidth": 0,
             "ticks": ""
            },
            "colorscale": [
             [
              0,
              "#0d0887"
             ],
             [
              0.1111111111111111,
              "#46039f"
             ],
             [
              0.2222222222222222,
              "#7201a8"
             ],
             [
              0.3333333333333333,
              "#9c179e"
             ],
             [
              0.4444444444444444,
              "#bd3786"
             ],
             [
              0.5555555555555556,
              "#d8576b"
             ],
             [
              0.6666666666666666,
              "#ed7953"
             ],
             [
              0.7777777777777778,
              "#fb9f3a"
             ],
             [
              0.8888888888888888,
              "#fdca26"
             ],
             [
              1,
              "#f0f921"
             ]
            ],
            "type": "histogram2dcontour"
           }
          ],
          "mesh3d": [
           {
            "colorbar": {
             "outlinewidth": 0,
             "ticks": ""
            },
            "type": "mesh3d"
           }
          ],
          "parcoords": [
           {
            "line": {
             "colorbar": {
              "outlinewidth": 0,
              "ticks": ""
             }
            },
            "type": "parcoords"
           }
          ],
          "pie": [
           {
            "automargin": true,
            "type": "pie"
           }
          ],
          "scatter": [
           {
            "marker": {
             "colorbar": {
              "outlinewidth": 0,
              "ticks": ""
             }
            },
            "type": "scatter"
           }
          ],
          "scatter3d": [
           {
            "line": {
             "colorbar": {
              "outlinewidth": 0,
              "ticks": ""
             }
            },
            "marker": {
             "colorbar": {
              "outlinewidth": 0,
              "ticks": ""
             }
            },
            "type": "scatter3d"
           }
          ],
          "scattercarpet": [
           {
            "marker": {
             "colorbar": {
              "outlinewidth": 0,
              "ticks": ""
             }
            },
            "type": "scattercarpet"
           }
          ],
          "scattergeo": [
           {
            "marker": {
             "colorbar": {
              "outlinewidth": 0,
              "ticks": ""
             }
            },
            "type": "scattergeo"
           }
          ],
          "scattergl": [
           {
            "marker": {
             "colorbar": {
              "outlinewidth": 0,
              "ticks": ""
             }
            },
            "type": "scattergl"
           }
          ],
          "scattermapbox": [
           {
            "marker": {
             "colorbar": {
              "outlinewidth": 0,
              "ticks": ""
             }
            },
            "type": "scattermapbox"
           }
          ],
          "scatterpolar": [
           {
            "marker": {
             "colorbar": {
              "outlinewidth": 0,
              "ticks": ""
             }
            },
            "type": "scatterpolar"
           }
          ],
          "scatterpolargl": [
           {
            "marker": {
             "colorbar": {
              "outlinewidth": 0,
              "ticks": ""
             }
            },
            "type": "scatterpolargl"
           }
          ],
          "scatterternary": [
           {
            "marker": {
             "colorbar": {
              "outlinewidth": 0,
              "ticks": ""
             }
            },
            "type": "scatterternary"
           }
          ],
          "surface": [
           {
            "colorbar": {
             "outlinewidth": 0,
             "ticks": ""
            },
            "colorscale": [
             [
              0,
              "#0d0887"
             ],
             [
              0.1111111111111111,
              "#46039f"
             ],
             [
              0.2222222222222222,
              "#7201a8"
             ],
             [
              0.3333333333333333,
              "#9c179e"
             ],
             [
              0.4444444444444444,
              "#bd3786"
             ],
             [
              0.5555555555555556,
              "#d8576b"
             ],
             [
              0.6666666666666666,
              "#ed7953"
             ],
             [
              0.7777777777777778,
              "#fb9f3a"
             ],
             [
              0.8888888888888888,
              "#fdca26"
             ],
             [
              1,
              "#f0f921"
             ]
            ],
            "type": "surface"
           }
          ],
          "table": [
           {
            "cells": {
             "fill": {
              "color": "#EBF0F8"
             },
             "line": {
              "color": "white"
             }
            },
            "header": {
             "fill": {
              "color": "#C8D4E3"
             },
             "line": {
              "color": "white"
             }
            },
            "type": "table"
           }
          ]
         },
         "layout": {
          "annotationdefaults": {
           "arrowcolor": "#2a3f5f",
           "arrowhead": 0,
           "arrowwidth": 1
          },
          "autotypenumbers": "strict",
          "coloraxis": {
           "colorbar": {
            "outlinewidth": 0,
            "ticks": ""
           }
          },
          "colorscale": {
           "diverging": [
            [
             0,
             "#8e0152"
            ],
            [
             0.1,
             "#c51b7d"
            ],
            [
             0.2,
             "#de77ae"
            ],
            [
             0.3,
             "#f1b6da"
            ],
            [
             0.4,
             "#fde0ef"
            ],
            [
             0.5,
             "#f7f7f7"
            ],
            [
             0.6,
             "#e6f5d0"
            ],
            [
             0.7,
             "#b8e186"
            ],
            [
             0.8,
             "#7fbc41"
            ],
            [
             0.9,
             "#4d9221"
            ],
            [
             1,
             "#276419"
            ]
           ],
           "sequential": [
            [
             0,
             "#0d0887"
            ],
            [
             0.1111111111111111,
             "#46039f"
            ],
            [
             0.2222222222222222,
             "#7201a8"
            ],
            [
             0.3333333333333333,
             "#9c179e"
            ],
            [
             0.4444444444444444,
             "#bd3786"
            ],
            [
             0.5555555555555556,
             "#d8576b"
            ],
            [
             0.6666666666666666,
             "#ed7953"
            ],
            [
             0.7777777777777778,
             "#fb9f3a"
            ],
            [
             0.8888888888888888,
             "#fdca26"
            ],
            [
             1,
             "#f0f921"
            ]
           ],
           "sequentialminus": [
            [
             0,
             "#0d0887"
            ],
            [
             0.1111111111111111,
             "#46039f"
            ],
            [
             0.2222222222222222,
             "#7201a8"
            ],
            [
             0.3333333333333333,
             "#9c179e"
            ],
            [
             0.4444444444444444,
             "#bd3786"
            ],
            [
             0.5555555555555556,
             "#d8576b"
            ],
            [
             0.6666666666666666,
             "#ed7953"
            ],
            [
             0.7777777777777778,
             "#fb9f3a"
            ],
            [
             0.8888888888888888,
             "#fdca26"
            ],
            [
             1,
             "#f0f921"
            ]
           ]
          },
          "colorway": [
           "#636efa",
           "#EF553B",
           "#00cc96",
           "#ab63fa",
           "#FFA15A",
           "#19d3f3",
           "#FF6692",
           "#B6E880",
           "#FF97FF",
           "#FECB52"
          ],
          "font": {
           "color": "#2a3f5f"
          },
          "geo": {
           "bgcolor": "white",
           "lakecolor": "white",
           "landcolor": "#E5ECF6",
           "showlakes": true,
           "showland": true,
           "subunitcolor": "white"
          },
          "hoverlabel": {
           "align": "left"
          },
          "hovermode": "closest",
          "mapbox": {
           "style": "light"
          },
          "paper_bgcolor": "white",
          "plot_bgcolor": "#E5ECF6",
          "polar": {
           "angularaxis": {
            "gridcolor": "white",
            "linecolor": "white",
            "ticks": ""
           },
           "bgcolor": "#E5ECF6",
           "radialaxis": {
            "gridcolor": "white",
            "linecolor": "white",
            "ticks": ""
           }
          },
          "scene": {
           "xaxis": {
            "backgroundcolor": "#E5ECF6",
            "gridcolor": "white",
            "gridwidth": 2,
            "linecolor": "white",
            "showbackground": true,
            "ticks": "",
            "zerolinecolor": "white"
           },
           "yaxis": {
            "backgroundcolor": "#E5ECF6",
            "gridcolor": "white",
            "gridwidth": 2,
            "linecolor": "white",
            "showbackground": true,
            "ticks": "",
            "zerolinecolor": "white"
           },
           "zaxis": {
            "backgroundcolor": "#E5ECF6",
            "gridcolor": "white",
            "gridwidth": 2,
            "linecolor": "white",
            "showbackground": true,
            "ticks": "",
            "zerolinecolor": "white"
           }
          },
          "shapedefaults": {
           "line": {
            "color": "#2a3f5f"
           }
          },
          "ternary": {
           "aaxis": {
            "gridcolor": "white",
            "linecolor": "white",
            "ticks": ""
           },
           "baxis": {
            "gridcolor": "white",
            "linecolor": "white",
            "ticks": ""
           },
           "bgcolor": "#E5ECF6",
           "caxis": {
            "gridcolor": "white",
            "linecolor": "white",
            "ticks": ""
           }
          },
          "title": {
           "x": 0.05
          },
          "xaxis": {
           "automargin": true,
           "gridcolor": "white",
           "linecolor": "white",
           "ticks": "",
           "title": {
            "standoff": 15
           },
           "zerolinecolor": "white",
           "zerolinewidth": 2
          },
          "yaxis": {
           "automargin": true,
           "gridcolor": "white",
           "linecolor": "white",
           "ticks": "",
           "title": {
            "standoff": 15
           },
           "zerolinecolor": "white",
           "zerolinewidth": 2
          }
         }
        }
       }
      }
     },
     "metadata": {},
     "output_type": "display_data"
    }
   ],
   "source": [
    "\n",
    "fig = go.Figure()\n",
    "\n",
    "for age in state_deaths[\"Ten-Year Age Groups Code\"].unique():\n",
    "    age_df = state_deaths[state_deaths[\"Ten-Year Age Groups Code\"] == age]\n",
    "    part = Partisian.get_state_part_score()\n",
    "    age_df = pd.merge(age_df, part, left_on=\"State_Abv\", right_on=\"State\")\n",
    "    fig.add_trace(go.Scatter(x=age_df['Part_Score'], y=age_df['Rate'],mode='markers',name=age))\n",
    "    #fig.add_trace(go.Bar(x=age_df[\"State_Abv\"], y=age_df[\"Rate\"], marker=dict(color=age_df[\"Part_Score\"], colorscale=\"Bluered\" ), name=age))\n",
    "\n",
    "fig.show()"
   ]
  },
  {
   "cell_type": "code",
   "execution_count": null,
   "metadata": {},
   "outputs": [],
   "source": []
  },
  {
   "cell_type": "code",
   "execution_count": 24,
   "metadata": {},
   "outputs": [
    {
     "data": {
      "text/html": [
       "<div>\n",
       "<style scoped>\n",
       "    .dataframe tbody tr th:only-of-type {\n",
       "        vertical-align: middle;\n",
       "    }\n",
       "\n",
       "    .dataframe tbody tr th {\n",
       "        vertical-align: top;\n",
       "    }\n",
       "\n",
       "    .dataframe thead th {\n",
       "        text-align: right;\n",
       "    }\n",
       "</style>\n",
       "<table border=\"1\" class=\"dataframe\">\n",
       "  <thead>\n",
       "    <tr style=\"text-align: right;\">\n",
       "      <th></th>\n",
       "      <th>State</th>\n",
       "      <th>ICD-10 113 Cause List</th>\n",
       "      <th>ICD-10 113 Cause List Code</th>\n",
       "      <th>Ten-Year Age Groups</th>\n",
       "      <th>Ten-Year Age Groups Code</th>\n",
       "      <th>Deaths</th>\n",
       "      <th>Population</th>\n",
       "      <th>Crude Rate</th>\n",
       "      <th>Rate</th>\n",
       "      <th>fips</th>\n",
       "      <th>Year</th>\n",
       "      <th>State_Abv</th>\n",
       "    </tr>\n",
       "  </thead>\n",
       "  <tbody>\n",
       "    <tr>\n",
       "      <th>14967</th>\n",
       "      <td>New York</td>\n",
       "      <td>Bronchitis, chronic and unspecified (J40-J42)</td>\n",
       "      <td>GR113-083</td>\n",
       "      <td>85+ years</td>\n",
       "      <td>85+</td>\n",
       "      <td>14.0</td>\n",
       "      <td>460001.0</td>\n",
       "      <td>Unreliable</td>\n",
       "      <td>3.04</td>\n",
       "      <td>36</td>\n",
       "      <td>2019</td>\n",
       "      <td>NY</td>\n",
       "    </tr>\n",
       "    <tr>\n",
       "      <th>15153</th>\n",
       "      <td>New York</td>\n",
       "      <td>Accidental exposure to smoke, fire and flames ...</td>\n",
       "      <td>GR113-121</td>\n",
       "      <td>85+ years</td>\n",
       "      <td>85+</td>\n",
       "      <td>13.0</td>\n",
       "      <td>460001.0</td>\n",
       "      <td>Unreliable</td>\n",
       "      <td>2.83</td>\n",
       "      <td>36</td>\n",
       "      <td>2019</td>\n",
       "      <td>NY</td>\n",
       "    </tr>\n",
       "    <tr>\n",
       "      <th>14875</th>\n",
       "      <td>New York</td>\n",
       "      <td>Acute and subacute endocarditis (I33)</td>\n",
       "      <td>GR113-065</td>\n",
       "      <td>85+ years</td>\n",
       "      <td>85+</td>\n",
       "      <td>10.0</td>\n",
       "      <td>460001.0</td>\n",
       "      <td>Unreliable</td>\n",
       "      <td>2.17</td>\n",
       "      <td>36</td>\n",
       "      <td>2019</td>\n",
       "      <td>NY</td>\n",
       "    </tr>\n",
       "  </tbody>\n",
       "</table>\n",
       "</div>"
      ],
      "text/plain": [
       "          State                              ICD-10 113 Cause List  \\\n",
       "14967  New York      Bronchitis, chronic and unspecified (J40-J42)   \n",
       "15153  New York  Accidental exposure to smoke, fire and flames ...   \n",
       "14875  New York              Acute and subacute endocarditis (I33)   \n",
       "\n",
       "      ICD-10 113 Cause List Code Ten-Year Age Groups Ten-Year Age Groups Code  \\\n",
       "14967                  GR113-083           85+ years                      85+   \n",
       "15153                  GR113-121           85+ years                      85+   \n",
       "14875                  GR113-065           85+ years                      85+   \n",
       "\n",
       "       Deaths  Population  Crude Rate  Rate fips  Year State_Abv  \n",
       "14967    14.0    460001.0  Unreliable  3.04   36  2019        NY  \n",
       "15153    13.0    460001.0  Unreliable  2.83   36  2019        NY  \n",
       "14875    10.0    460001.0  Unreliable  2.17   36  2019        NY  "
      ]
     },
     "execution_count": 24,
     "metadata": {},
     "output_type": "execute_result"
    }
   ],
   "source": [
    "teen = df[df[\"Ten-Year Age Groups Code\"] == \"85+\"]\n",
    "teen.sample(3)\n",
    "teen_all = teen#[teen[\"ICD-10 Original\"].str.contains(\"#\") == True]\n",
    "ny = teen_all[teen_all[\"State\"] == \"New York\"]\n",
    "ny.dropna(inplace=True, subset=[\"ICD-10 113 Cause List\"])\n",
    "ny.tail(3)"
   ]
  },
  {
   "cell_type": "code",
   "execution_count": 25,
   "metadata": {},
   "outputs": [
    {
     "ename": "FileNotFoundError",
     "evalue": "[Errno 2] No such file or directory: 'icd-10-Structure.json'",
     "output_type": "error",
     "traceback": [
      "\u001b[1;31m---------------------------------------------------------------------------\u001b[0m",
      "\u001b[1;31mFileNotFoundError\u001b[0m                         Traceback (most recent call last)",
      "\u001b[1;32m~\\AppData\\Local\\Temp/ipykernel_38384/774827556.py\u001b[0m in \u001b[0;36m<module>\u001b[1;34m\u001b[0m\n\u001b[1;32m----> 1\u001b[1;33m \u001b[0mf\u001b[0m \u001b[1;33m=\u001b[0m \u001b[0mopen\u001b[0m\u001b[1;33m(\u001b[0m\u001b[1;34m\"icd-10-Structure.json\"\u001b[0m\u001b[1;33m)\u001b[0m\u001b[1;33m\u001b[0m\u001b[1;33m\u001b[0m\u001b[0m\n\u001b[0m\u001b[0;32m      2\u001b[0m \u001b[0mheirarchy\u001b[0m \u001b[1;33m=\u001b[0m \u001b[0mjson\u001b[0m\u001b[1;33m.\u001b[0m\u001b[0mload\u001b[0m\u001b[1;33m(\u001b[0m\u001b[0mf\u001b[0m\u001b[1;33m)\u001b[0m\u001b[1;33m\u001b[0m\u001b[1;33m\u001b[0m\u001b[0m\n\u001b[0;32m      3\u001b[0m \u001b[0mheirarchy\u001b[0m\u001b[1;33m\u001b[0m\u001b[1;33m\u001b[0m\u001b[0m\n\u001b[0;32m      4\u001b[0m \u001b[1;33m\u001b[0m\u001b[0m\n\u001b[0;32m      5\u001b[0m \u001b[0mf\u001b[0m \u001b[1;33m=\u001b[0m \u001b[0mopen\u001b[0m\u001b[1;33m(\u001b[0m\u001b[1;34m\"icd-10-flat-Structure.json\"\u001b[0m\u001b[1;33m)\u001b[0m\u001b[1;33m\u001b[0m\u001b[1;33m\u001b[0m\u001b[0m\n",
      "\u001b[1;31mFileNotFoundError\u001b[0m: [Errno 2] No such file or directory: 'icd-10-Structure.json'"
     ]
    }
   ],
   "source": [
    "f = open(\"icd-10-Structure.json\")\n",
    "heirarchy = json.load(f)\n",
    "heirarchy\n",
    "\n",
    "f = open(\"icd-10-flat-Structure.json\")\n",
    "flat_heirarchy = json.load(f)\n"
   ]
  },
  {
   "cell_type": "code",
   "execution_count": null,
   "metadata": {},
   "outputs": [],
   "source": [
    "#ny.loc[15081]"
   ]
  },
  {
   "cell_type": "code",
   "execution_count": null,
   "metadata": {},
   "outputs": [],
   "source": [
    "ny[\"ICD-10 113 Cause List\"] = pd.Categorical(ny[\"ICD-10 113 Cause List\"], categories = list(heirarchy.keys()))\n",
    "ny = ny.sort_values(by=[\"ICD-10 113 Cause List\"])\n",
    "ny[\"ICD-10 113 Cause List\"].unique()\n",
    "ny.dropna(subset=[\"ICD-10 113 Cause List\"], inplace=True)"
   ]
  },
  {
   "cell_type": "code",
   "execution_count": 26,
   "metadata": {},
   "outputs": [
    {
     "data": {
      "text/html": [
       "<div>\n",
       "<style scoped>\n",
       "    .dataframe tbody tr th:only-of-type {\n",
       "        vertical-align: middle;\n",
       "    }\n",
       "\n",
       "    .dataframe tbody tr th {\n",
       "        vertical-align: top;\n",
       "    }\n",
       "\n",
       "    .dataframe thead th {\n",
       "        text-align: right;\n",
       "    }\n",
       "</style>\n",
       "<table border=\"1\" class=\"dataframe\">\n",
       "  <thead>\n",
       "    <tr style=\"text-align: right;\">\n",
       "      <th></th>\n",
       "      <th>State</th>\n",
       "      <th>ICD-10 113 Cause List</th>\n",
       "      <th>ICD-10 113 Cause List Code</th>\n",
       "      <th>Ten-Year Age Groups</th>\n",
       "      <th>Ten-Year Age Groups Code</th>\n",
       "      <th>Deaths</th>\n",
       "      <th>Population</th>\n",
       "      <th>Crude Rate</th>\n",
       "      <th>Rate</th>\n",
       "      <th>fips</th>\n",
       "      <th>Year</th>\n",
       "      <th>State_Abv</th>\n",
       "    </tr>\n",
       "  </thead>\n",
       "  <tbody>\n",
       "    <tr>\n",
       "      <th>14797</th>\n",
       "      <td>New York</td>\n",
       "      <td>Major cardiovascular diseases (I00-I78)</td>\n",
       "      <td>GR113-053</td>\n",
       "      <td>85+ years</td>\n",
       "      <td>85+</td>\n",
       "      <td>24287.0</td>\n",
       "      <td>460001.0</td>\n",
       "      <td>5279.8</td>\n",
       "      <td>5279.77</td>\n",
       "      <td>36</td>\n",
       "      <td>2019</td>\n",
       "      <td>NY</td>\n",
       "    </tr>\n",
       "    <tr>\n",
       "      <th>14807</th>\n",
       "      <td>New York</td>\n",
       "      <td>#Diseases of heart (I00-I09,I11,I13,I20-I51)</td>\n",
       "      <td>GR113-054</td>\n",
       "      <td>85+ years</td>\n",
       "      <td>85+</td>\n",
       "      <td>19770.0</td>\n",
       "      <td>460001.0</td>\n",
       "      <td>4297.8</td>\n",
       "      <td>4297.82</td>\n",
       "      <td>36</td>\n",
       "      <td>2019</td>\n",
       "      <td>NY</td>\n",
       "    </tr>\n",
       "    <tr>\n",
       "      <th>14830</th>\n",
       "      <td>New York</td>\n",
       "      <td>Ischemic heart diseases (I20-I25)</td>\n",
       "      <td>GR113-058</td>\n",
       "      <td>85+ years</td>\n",
       "      <td>85+</td>\n",
       "      <td>13239.0</td>\n",
       "      <td>460001.0</td>\n",
       "      <td>2878.0</td>\n",
       "      <td>2878.04</td>\n",
       "      <td>36</td>\n",
       "      <td>2019</td>\n",
       "      <td>NY</td>\n",
       "    </tr>\n",
       "    <tr>\n",
       "      <th>14848</th>\n",
       "      <td>New York</td>\n",
       "      <td>Other forms of chronic ischemic heart disease ...</td>\n",
       "      <td>GR113-061</td>\n",
       "      <td>85+ years</td>\n",
       "      <td>85+</td>\n",
       "      <td>10924.0</td>\n",
       "      <td>460001.0</td>\n",
       "      <td>2374.8</td>\n",
       "      <td>2374.78</td>\n",
       "      <td>36</td>\n",
       "      <td>2019</td>\n",
       "      <td>NY</td>\n",
       "    </tr>\n",
       "    <tr>\n",
       "      <th>14861</th>\n",
       "      <td>New York</td>\n",
       "      <td>All other forms of chronic ischemic heart dise...</td>\n",
       "      <td>GR113-063</td>\n",
       "      <td>85+ years</td>\n",
       "      <td>85+</td>\n",
       "      <td>9712.0</td>\n",
       "      <td>460001.0</td>\n",
       "      <td>2111.3</td>\n",
       "      <td>2111.30</td>\n",
       "      <td>36</td>\n",
       "      <td>2019</td>\n",
       "      <td>NY</td>\n",
       "    </tr>\n",
       "    <tr>\n",
       "      <th>...</th>\n",
       "      <td>...</td>\n",
       "      <td>...</td>\n",
       "      <td>...</td>\n",
       "      <td>...</td>\n",
       "      <td>...</td>\n",
       "      <td>...</td>\n",
       "      <td>...</td>\n",
       "      <td>...</td>\n",
       "      <td>...</td>\n",
       "      <td>...</td>\n",
       "      <td>...</td>\n",
       "      <td>...</td>\n",
       "    </tr>\n",
       "    <tr>\n",
       "      <th>15037</th>\n",
       "      <td>New York</td>\n",
       "      <td>Acute and rapidly progressive nephritic and ne...</td>\n",
       "      <td>GR113-098</td>\n",
       "      <td>85+ years</td>\n",
       "      <td>85+</td>\n",
       "      <td>15.0</td>\n",
       "      <td>460001.0</td>\n",
       "      <td>Unreliable</td>\n",
       "      <td>3.26</td>\n",
       "      <td>36</td>\n",
       "      <td>2019</td>\n",
       "      <td>NY</td>\n",
       "    </tr>\n",
       "    <tr>\n",
       "      <th>15020</th>\n",
       "      <td>New York</td>\n",
       "      <td>Alcoholic liver disease (K70)</td>\n",
       "      <td>GR113-094</td>\n",
       "      <td>85+ years</td>\n",
       "      <td>85+</td>\n",
       "      <td>15.0</td>\n",
       "      <td>460001.0</td>\n",
       "      <td>Unreliable</td>\n",
       "      <td>3.26</td>\n",
       "      <td>36</td>\n",
       "      <td>2019</td>\n",
       "      <td>NY</td>\n",
       "    </tr>\n",
       "    <tr>\n",
       "      <th>14967</th>\n",
       "      <td>New York</td>\n",
       "      <td>Bronchitis, chronic and unspecified (J40-J42)</td>\n",
       "      <td>GR113-083</td>\n",
       "      <td>85+ years</td>\n",
       "      <td>85+</td>\n",
       "      <td>14.0</td>\n",
       "      <td>460001.0</td>\n",
       "      <td>Unreliable</td>\n",
       "      <td>3.04</td>\n",
       "      <td>36</td>\n",
       "      <td>2019</td>\n",
       "      <td>NY</td>\n",
       "    </tr>\n",
       "    <tr>\n",
       "      <th>15153</th>\n",
       "      <td>New York</td>\n",
       "      <td>Accidental exposure to smoke, fire and flames ...</td>\n",
       "      <td>GR113-121</td>\n",
       "      <td>85+ years</td>\n",
       "      <td>85+</td>\n",
       "      <td>13.0</td>\n",
       "      <td>460001.0</td>\n",
       "      <td>Unreliable</td>\n",
       "      <td>2.83</td>\n",
       "      <td>36</td>\n",
       "      <td>2019</td>\n",
       "      <td>NY</td>\n",
       "    </tr>\n",
       "    <tr>\n",
       "      <th>14875</th>\n",
       "      <td>New York</td>\n",
       "      <td>Acute and subacute endocarditis (I33)</td>\n",
       "      <td>GR113-065</td>\n",
       "      <td>85+ years</td>\n",
       "      <td>85+</td>\n",
       "      <td>10.0</td>\n",
       "      <td>460001.0</td>\n",
       "      <td>Unreliable</td>\n",
       "      <td>2.17</td>\n",
       "      <td>36</td>\n",
       "      <td>2019</td>\n",
       "      <td>NY</td>\n",
       "    </tr>\n",
       "  </tbody>\n",
       "</table>\n",
       "<p>92 rows × 12 columns</p>\n",
       "</div>"
      ],
      "text/plain": [
       "          State                              ICD-10 113 Cause List  \\\n",
       "14797  New York            Major cardiovascular diseases (I00-I78)   \n",
       "14807  New York       #Diseases of heart (I00-I09,I11,I13,I20-I51)   \n",
       "14830  New York                  Ischemic heart diseases (I20-I25)   \n",
       "14848  New York  Other forms of chronic ischemic heart disease ...   \n",
       "14861  New York  All other forms of chronic ischemic heart dise...   \n",
       "...         ...                                                ...   \n",
       "15037  New York  Acute and rapidly progressive nephritic and ne...   \n",
       "15020  New York                      Alcoholic liver disease (K70)   \n",
       "14967  New York      Bronchitis, chronic and unspecified (J40-J42)   \n",
       "15153  New York  Accidental exposure to smoke, fire and flames ...   \n",
       "14875  New York              Acute and subacute endocarditis (I33)   \n",
       "\n",
       "      ICD-10 113 Cause List Code Ten-Year Age Groups Ten-Year Age Groups Code  \\\n",
       "14797                  GR113-053           85+ years                      85+   \n",
       "14807                  GR113-054           85+ years                      85+   \n",
       "14830                  GR113-058           85+ years                      85+   \n",
       "14848                  GR113-061           85+ years                      85+   \n",
       "14861                  GR113-063           85+ years                      85+   \n",
       "...                          ...                 ...                      ...   \n",
       "15037                  GR113-098           85+ years                      85+   \n",
       "15020                  GR113-094           85+ years                      85+   \n",
       "14967                  GR113-083           85+ years                      85+   \n",
       "15153                  GR113-121           85+ years                      85+   \n",
       "14875                  GR113-065           85+ years                      85+   \n",
       "\n",
       "        Deaths  Population  Crude Rate     Rate fips  Year State_Abv  \n",
       "14797  24287.0    460001.0      5279.8  5279.77   36  2019        NY  \n",
       "14807  19770.0    460001.0      4297.8  4297.82   36  2019        NY  \n",
       "14830  13239.0    460001.0      2878.0  2878.04   36  2019        NY  \n",
       "14848  10924.0    460001.0      2374.8  2374.78   36  2019        NY  \n",
       "14861   9712.0    460001.0      2111.3  2111.30   36  2019        NY  \n",
       "...        ...         ...         ...      ...  ...   ...       ...  \n",
       "15037     15.0    460001.0  Unreliable     3.26   36  2019        NY  \n",
       "15020     15.0    460001.0  Unreliable     3.26   36  2019        NY  \n",
       "14967     14.0    460001.0  Unreliable     3.04   36  2019        NY  \n",
       "15153     13.0    460001.0  Unreliable     2.83   36  2019        NY  \n",
       "14875     10.0    460001.0  Unreliable     2.17   36  2019        NY  \n",
       "\n",
       "[92 rows x 12 columns]"
      ]
     },
     "execution_count": 26,
     "metadata": {},
     "output_type": "execute_result"
    }
   ],
   "source": [
    "ny"
   ]
  },
  {
   "cell_type": "code",
   "execution_count": null,
   "metadata": {},
   "outputs": [],
   "source": []
  },
  {
   "cell_type": "code",
   "execution_count": 27,
   "metadata": {},
   "outputs": [],
   "source": [
    "labels = [\"All\"]\n",
    "labels.extend(list(ny[\"ICD-10 113 Cause List\"]))\n",
    "\n",
    "values = [0]\n",
    "values.extend(list(ny.Rate))\n",
    "\n",
    "\n",
    "parents = []\n",
    "for i,label in enumerate(labels):\n",
    "    if label == \"All\":\n",
    "        parents.append(\"\")\n",
    "    else:\n",
    "        try:\n",
    "            parents = flat_heirarchy[label][\"parents\"]\n",
    "            if len(parent) > 0:\n",
    "                parents.append(parent[0])\n",
    "            else:\n",
    "                parents.append(\"\")\n",
    "                #values[i] = values[i]-values[parents.index(heirarchy[label])]\n",
    "            \n",
    "        except:\n",
    "            parents.append(\"\")  \n",
    "\n"
   ]
  },
  {
   "cell_type": "code",
   "execution_count": 28,
   "metadata": {},
   "outputs": [],
   "source": [
    "test_labels = labels[:11]\n",
    "test_parents = parents[:11]\n",
    "test_values = values[:11]\n",
    "test_values[0] = sum(test_values[1:])"
   ]
  },
  {
   "cell_type": "code",
   "execution_count": 29,
   "metadata": {},
   "outputs": [
    {
     "data": {
      "application/vnd.plotly.v1+json": {
       "config": {
        "plotlyServerURL": "https://plot.ly"
       },
       "data": [
        {
         "labels": [
          "All",
          "Major cardiovascular diseases (I00-I78)",
          "#Diseases of heart (I00-I09,I11,I13,I20-I51)",
          "Ischemic heart diseases (I20-I25)",
          "Other forms of chronic ischemic heart disease (I20,I25)",
          "All other forms of chronic ischemic heart disease (I20,I25.1-I25.9)",
          "All other diseases (Residual) ",
          "#Malignant neoplasms (C00-C97)",
          "Other heart diseases (I26-I51)",
          "All other forms of heart disease (I26-I28,I34-I38,I42-I49,I51)",
          "#Cerebrovascular diseases (I60-I69)",
          "#Alzheimer disease (G30)",
          "#Chronic lower respiratory diseases (J40-J47)",
          "Acute myocardial infarction (I21-I22)",
          "Other chronic lower respiratory diseases (J44,J47)",
          "#Influenza and pneumonia (J09-J18)",
          "Hypertensive heart disease (I11)",
          "Pneumonia (J12-J18)",
          "Heart failure (I50)",
          "#Essential hypertension and hypertensive renal disease (I10,I12,I15)",
          "Atherosclerotic cardiovascular disease, so described (I25.0)",
          "Malignant neoplasms of trachea, bronchus and lung (C33-C34)",
          "#Diabetes mellitus (E10-E14)",
          "#Accidents (unintentional injuries) (V01-X59,Y85-Y86)",
          "All other and unspecified malignant neoplasms (C17,C23-C24,C26-C31,C37-C41,C44-C49,C51-C52,C57-C60,C62-C63,C66,C68-C69,C73-C80,C97)",
          "Nontransport accidents (W00-X59,Y86)",
          "#Nephritis, nephrotic syndrome and nephrosis (N00-N07,N17-N19,N25-N27)",
          "Renal failure (N17-N19)",
          "Other diseases of respiratory system (J00-J06,J30- J39,J67,J70-J98)",
          "Symptoms, signs and abnormal clinical and laboratory findings, not elsewhere classified (R00-R99)",
          "Falls (W00-W19)",
          "Malignant neoplasms of lymphoid, hematopoietic and related tissue (C81-C96)",
          "#Parkinson disease (G20-G21)",
          "Malignant neoplasms of colon, rectum and anus (C18-C21)",
          "Malignant neoplasm of prostate (C61)",
          "#Septicemia (A40-A41)",
          "Malignant neoplasm of breast (C50)",
          "Malignant neoplasm of pancreas (C25)",
          "Malignant neoplasm of bladder (C67)",
          "Other diseases of circulatory system (I71-I78)",
          "#In situ neoplasms, benign neoplasms and neoplasms of uncertain or unknown behavior (D00-D48)",
          "#Pneumonitis due to solids and liquids (J69)",
          "Leukemia (C91-C95)",
          "Non-Hodgkin lymphoma (C82-C85)",
          "Other diseases of arteries, arterioles and capillaries (I72-I78)",
          "Hypertensive heart and renal disease (I13)",
          "Other and unspecified nontransport accidents and their sequelae (W20-W31,W35-W64,W75-W99,X10-X39,X50-X59,Y86)",
          "#Atherosclerosis (I70)",
          "Other and unspecified infectious and parasitic diseases and their sequelae (A00,A05,A20-A36,A42-A44,A48-A49,A54-A79,A81-A82,A85.0-A85.1,A85.8,A86-B04,B06-B09,B25-B49,B55-B99,U07.1)",
          "Malignant neoplasms of liver and intrahepatic bile ducts (C22)",
          "Certain other intestinal infections (A04,A07-A09)",
          "#Nutritional deficiencies (E40-E64)",
          "Multiple myeloma and immunoproliferative neoplasms (C88,C90)",
          "Malnutrition (E40-E46)",
          "Malignant neoplasm of stomach (C16)",
          "Malignant neoplasm of ovary (C56)",
          "#Cholelithiasis and other disorders of gallbladder (K80-K82)",
          "Emphysema (J43)",
          "Malignant neoplasms of kidney and renal pelvis (C64-C65)",
          "#Aortic aneurysm and dissection (I71)",
          "Influenza (J09-J11)",
          "Malignant neoplasm of esophagus (C15)",
          "Malignant neoplasms of corpus uteri and uterus, part unspecified (C54-C55)",
          "#Enterocolitis due to Clostridium difficile (A04.7)",
          "#Anemias (D50-D64)",
          "#Peptic ulcer (K25-K28)",
          "Other acute ischemic heart diseases (I24)",
          "Malignant melanoma of skin (C43)",
          "Malignant neoplasms of lip, oral cavity and pharynx (C00-C14)",
          "#Chronic liver disease and cirrhosis (K70,K73-K74)",
          "Other disorders of circulatory system (I80-I99)",
          "#Complications of medical and surgical care (Y40-Y84,Y88)",
          "Other chronic liver disease and cirrhosis (K73-K74)",
          "Transport accidents (V01-V99,Y85)",
          "Motor vehicle accidents (V02-V04,V09.0,V09.2,V12-V14,V19.0-V19.2,V19.4-V19.6,V20-V79,V80.3-V80.5,V81.0-V81.1,V82.0-V82.1,V83-V86,V87.0-V87.8,V88.0-V88.8,V89.0,V89.2)",
          "Malignant neoplasms of meninges, brain and other parts of central nervous system (C70-C72)",
          "Acute rheumatic fever and chronic rheumatic heart diseases (I00-I09)",
          "#Intentional self-harm (suicide) (*U03,X60-X84,Y87.0)",
          "#Hernia (K40-K46)",
          "#Hyperplasia of prostate (N40)",
          "Asthma (J45-J46)",
          "Intentional self-harm (suicide) by discharge of firearms (X72-X74)",
          "#Congenital malformations, deformations and chromosomal abnormalities (Q00-Q99)",
          "Malignant neoplasm of larynx (C32)",
          "#Infections of kidney (N10-N12,N13.6,N15.1)",
          "Intentional self-harm (suicide) by other and unspecified means and their sequelae (*U03,X60-X71,X75-X84,Y87.0)",
          "Malignant neoplasm of cervix uteri (C53)",
          "Diseases of pericardium and acute myocarditis (I30-I31,I40)",
          "Acute and rapidly progressive nephritic and nephrotic syndrome (N00-N01,N04)",
          "Alcoholic liver disease (K70)",
          "Bronchitis, chronic and unspecified (J40-J42)",
          "Accidental exposure to smoke, fire and flames (X00-X09)",
          "Acute and subacute endocarditis (I33)"
         ],
         "parents": [
          "",
          "",
          "",
          "",
          "",
          "",
          "",
          "",
          "",
          "",
          "",
          "",
          "",
          "",
          "",
          "",
          "",
          "",
          "",
          "",
          "",
          "",
          "",
          "",
          "",
          "",
          "",
          "",
          "",
          "",
          "",
          "",
          "",
          "",
          "",
          "",
          "",
          "",
          "",
          "",
          "",
          "",
          "",
          "",
          "",
          "",
          "",
          "",
          "",
          "",
          "",
          "",
          "",
          "",
          "",
          "",
          "",
          "",
          "",
          "",
          "",
          "",
          "",
          "",
          "",
          "",
          "",
          "",
          "",
          "",
          "",
          "",
          "",
          "",
          "",
          "",
          "",
          "",
          "",
          "",
          "",
          "",
          "",
          "",
          "",
          "",
          "",
          "",
          "",
          "",
          "",
          "",
          ""
         ],
         "type": "sunburst",
         "values": [
          0,
          5279.77,
          4297.82,
          2878.04,
          2374.78,
          2111.3,
          2051.95,
          1434.13,
          968.48,
          598.69,
          585.22,
          582.61,
          516.52,
          484.78,
          481.09,
          411.96,
          391.96,
          388.48,
          364.35,
          278.26,
          263.48,
          260.43,
          250.65,
          237.39,
          224.56,
          223.7,
          221.96,
          217.83,
          206.09,
          184.78,
          171.96,
          163.48,
          159.35,
          148.26,
          123.7,
          121.52,
          109.13,
          97.39,
          75.43,
          75.43,
          69.13,
          65.87,
          65,
          61.3,
          51.74,
          49.57,
          47.17,
          43.04,
          42.61,
          42.39,
          38.26,
          36.3,
          35.22,
          35,
          33.04,
          31.09,
          25,
          24.57,
          23.7,
          23.7,
          23.48,
          22.61,
          22.17,
          21.96,
          20.43,
          18.91,
          18.48,
          18.04,
          17.83,
          17.61,
          16.74,
          15.43,
          14.35,
          13.7,
          12.83,
          12.83,
          9.78,
          9.78,
          9.35,
          8.04,
          7.83,
          5.65,
          5.65,
          4.78,
          4.78,
          4.13,
          3.26,
          3.26,
          3.26,
          3.26,
          3.04,
          2.83,
          2.17
         ]
        }
       ],
       "layout": {
        "template": {
         "data": {
          "bar": [
           {
            "error_x": {
             "color": "#2a3f5f"
            },
            "error_y": {
             "color": "#2a3f5f"
            },
            "marker": {
             "line": {
              "color": "#E5ECF6",
              "width": 0.5
             },
             "pattern": {
              "fillmode": "overlay",
              "size": 10,
              "solidity": 0.2
             }
            },
            "type": "bar"
           }
          ],
          "barpolar": [
           {
            "marker": {
             "line": {
              "color": "#E5ECF6",
              "width": 0.5
             },
             "pattern": {
              "fillmode": "overlay",
              "size": 10,
              "solidity": 0.2
             }
            },
            "type": "barpolar"
           }
          ],
          "carpet": [
           {
            "aaxis": {
             "endlinecolor": "#2a3f5f",
             "gridcolor": "white",
             "linecolor": "white",
             "minorgridcolor": "white",
             "startlinecolor": "#2a3f5f"
            },
            "baxis": {
             "endlinecolor": "#2a3f5f",
             "gridcolor": "white",
             "linecolor": "white",
             "minorgridcolor": "white",
             "startlinecolor": "#2a3f5f"
            },
            "type": "carpet"
           }
          ],
          "choropleth": [
           {
            "colorbar": {
             "outlinewidth": 0,
             "ticks": ""
            },
            "type": "choropleth"
           }
          ],
          "contour": [
           {
            "colorbar": {
             "outlinewidth": 0,
             "ticks": ""
            },
            "colorscale": [
             [
              0,
              "#0d0887"
             ],
             [
              0.1111111111111111,
              "#46039f"
             ],
             [
              0.2222222222222222,
              "#7201a8"
             ],
             [
              0.3333333333333333,
              "#9c179e"
             ],
             [
              0.4444444444444444,
              "#bd3786"
             ],
             [
              0.5555555555555556,
              "#d8576b"
             ],
             [
              0.6666666666666666,
              "#ed7953"
             ],
             [
              0.7777777777777778,
              "#fb9f3a"
             ],
             [
              0.8888888888888888,
              "#fdca26"
             ],
             [
              1,
              "#f0f921"
             ]
            ],
            "type": "contour"
           }
          ],
          "contourcarpet": [
           {
            "colorbar": {
             "outlinewidth": 0,
             "ticks": ""
            },
            "type": "contourcarpet"
           }
          ],
          "heatmap": [
           {
            "colorbar": {
             "outlinewidth": 0,
             "ticks": ""
            },
            "colorscale": [
             [
              0,
              "#0d0887"
             ],
             [
              0.1111111111111111,
              "#46039f"
             ],
             [
              0.2222222222222222,
              "#7201a8"
             ],
             [
              0.3333333333333333,
              "#9c179e"
             ],
             [
              0.4444444444444444,
              "#bd3786"
             ],
             [
              0.5555555555555556,
              "#d8576b"
             ],
             [
              0.6666666666666666,
              "#ed7953"
             ],
             [
              0.7777777777777778,
              "#fb9f3a"
             ],
             [
              0.8888888888888888,
              "#fdca26"
             ],
             [
              1,
              "#f0f921"
             ]
            ],
            "type": "heatmap"
           }
          ],
          "heatmapgl": [
           {
            "colorbar": {
             "outlinewidth": 0,
             "ticks": ""
            },
            "colorscale": [
             [
              0,
              "#0d0887"
             ],
             [
              0.1111111111111111,
              "#46039f"
             ],
             [
              0.2222222222222222,
              "#7201a8"
             ],
             [
              0.3333333333333333,
              "#9c179e"
             ],
             [
              0.4444444444444444,
              "#bd3786"
             ],
             [
              0.5555555555555556,
              "#d8576b"
             ],
             [
              0.6666666666666666,
              "#ed7953"
             ],
             [
              0.7777777777777778,
              "#fb9f3a"
             ],
             [
              0.8888888888888888,
              "#fdca26"
             ],
             [
              1,
              "#f0f921"
             ]
            ],
            "type": "heatmapgl"
           }
          ],
          "histogram": [
           {
            "marker": {
             "pattern": {
              "fillmode": "overlay",
              "size": 10,
              "solidity": 0.2
             }
            },
            "type": "histogram"
           }
          ],
          "histogram2d": [
           {
            "colorbar": {
             "outlinewidth": 0,
             "ticks": ""
            },
            "colorscale": [
             [
              0,
              "#0d0887"
             ],
             [
              0.1111111111111111,
              "#46039f"
             ],
             [
              0.2222222222222222,
              "#7201a8"
             ],
             [
              0.3333333333333333,
              "#9c179e"
             ],
             [
              0.4444444444444444,
              "#bd3786"
             ],
             [
              0.5555555555555556,
              "#d8576b"
             ],
             [
              0.6666666666666666,
              "#ed7953"
             ],
             [
              0.7777777777777778,
              "#fb9f3a"
             ],
             [
              0.8888888888888888,
              "#fdca26"
             ],
             [
              1,
              "#f0f921"
             ]
            ],
            "type": "histogram2d"
           }
          ],
          "histogram2dcontour": [
           {
            "colorbar": {
             "outlinewidth": 0,
             "ticks": ""
            },
            "colorscale": [
             [
              0,
              "#0d0887"
             ],
             [
              0.1111111111111111,
              "#46039f"
             ],
             [
              0.2222222222222222,
              "#7201a8"
             ],
             [
              0.3333333333333333,
              "#9c179e"
             ],
             [
              0.4444444444444444,
              "#bd3786"
             ],
             [
              0.5555555555555556,
              "#d8576b"
             ],
             [
              0.6666666666666666,
              "#ed7953"
             ],
             [
              0.7777777777777778,
              "#fb9f3a"
             ],
             [
              0.8888888888888888,
              "#fdca26"
             ],
             [
              1,
              "#f0f921"
             ]
            ],
            "type": "histogram2dcontour"
           }
          ],
          "mesh3d": [
           {
            "colorbar": {
             "outlinewidth": 0,
             "ticks": ""
            },
            "type": "mesh3d"
           }
          ],
          "parcoords": [
           {
            "line": {
             "colorbar": {
              "outlinewidth": 0,
              "ticks": ""
             }
            },
            "type": "parcoords"
           }
          ],
          "pie": [
           {
            "automargin": true,
            "type": "pie"
           }
          ],
          "scatter": [
           {
            "marker": {
             "colorbar": {
              "outlinewidth": 0,
              "ticks": ""
             }
            },
            "type": "scatter"
           }
          ],
          "scatter3d": [
           {
            "line": {
             "colorbar": {
              "outlinewidth": 0,
              "ticks": ""
             }
            },
            "marker": {
             "colorbar": {
              "outlinewidth": 0,
              "ticks": ""
             }
            },
            "type": "scatter3d"
           }
          ],
          "scattercarpet": [
           {
            "marker": {
             "colorbar": {
              "outlinewidth": 0,
              "ticks": ""
             }
            },
            "type": "scattercarpet"
           }
          ],
          "scattergeo": [
           {
            "marker": {
             "colorbar": {
              "outlinewidth": 0,
              "ticks": ""
             }
            },
            "type": "scattergeo"
           }
          ],
          "scattergl": [
           {
            "marker": {
             "colorbar": {
              "outlinewidth": 0,
              "ticks": ""
             }
            },
            "type": "scattergl"
           }
          ],
          "scattermapbox": [
           {
            "marker": {
             "colorbar": {
              "outlinewidth": 0,
              "ticks": ""
             }
            },
            "type": "scattermapbox"
           }
          ],
          "scatterpolar": [
           {
            "marker": {
             "colorbar": {
              "outlinewidth": 0,
              "ticks": ""
             }
            },
            "type": "scatterpolar"
           }
          ],
          "scatterpolargl": [
           {
            "marker": {
             "colorbar": {
              "outlinewidth": 0,
              "ticks": ""
             }
            },
            "type": "scatterpolargl"
           }
          ],
          "scatterternary": [
           {
            "marker": {
             "colorbar": {
              "outlinewidth": 0,
              "ticks": ""
             }
            },
            "type": "scatterternary"
           }
          ],
          "surface": [
           {
            "colorbar": {
             "outlinewidth": 0,
             "ticks": ""
            },
            "colorscale": [
             [
              0,
              "#0d0887"
             ],
             [
              0.1111111111111111,
              "#46039f"
             ],
             [
              0.2222222222222222,
              "#7201a8"
             ],
             [
              0.3333333333333333,
              "#9c179e"
             ],
             [
              0.4444444444444444,
              "#bd3786"
             ],
             [
              0.5555555555555556,
              "#d8576b"
             ],
             [
              0.6666666666666666,
              "#ed7953"
             ],
             [
              0.7777777777777778,
              "#fb9f3a"
             ],
             [
              0.8888888888888888,
              "#fdca26"
             ],
             [
              1,
              "#f0f921"
             ]
            ],
            "type": "surface"
           }
          ],
          "table": [
           {
            "cells": {
             "fill": {
              "color": "#EBF0F8"
             },
             "line": {
              "color": "white"
             }
            },
            "header": {
             "fill": {
              "color": "#C8D4E3"
             },
             "line": {
              "color": "white"
             }
            },
            "type": "table"
           }
          ]
         },
         "layout": {
          "annotationdefaults": {
           "arrowcolor": "#2a3f5f",
           "arrowhead": 0,
           "arrowwidth": 1
          },
          "autotypenumbers": "strict",
          "coloraxis": {
           "colorbar": {
            "outlinewidth": 0,
            "ticks": ""
           }
          },
          "colorscale": {
           "diverging": [
            [
             0,
             "#8e0152"
            ],
            [
             0.1,
             "#c51b7d"
            ],
            [
             0.2,
             "#de77ae"
            ],
            [
             0.3,
             "#f1b6da"
            ],
            [
             0.4,
             "#fde0ef"
            ],
            [
             0.5,
             "#f7f7f7"
            ],
            [
             0.6,
             "#e6f5d0"
            ],
            [
             0.7,
             "#b8e186"
            ],
            [
             0.8,
             "#7fbc41"
            ],
            [
             0.9,
             "#4d9221"
            ],
            [
             1,
             "#276419"
            ]
           ],
           "sequential": [
            [
             0,
             "#0d0887"
            ],
            [
             0.1111111111111111,
             "#46039f"
            ],
            [
             0.2222222222222222,
             "#7201a8"
            ],
            [
             0.3333333333333333,
             "#9c179e"
            ],
            [
             0.4444444444444444,
             "#bd3786"
            ],
            [
             0.5555555555555556,
             "#d8576b"
            ],
            [
             0.6666666666666666,
             "#ed7953"
            ],
            [
             0.7777777777777778,
             "#fb9f3a"
            ],
            [
             0.8888888888888888,
             "#fdca26"
            ],
            [
             1,
             "#f0f921"
            ]
           ],
           "sequentialminus": [
            [
             0,
             "#0d0887"
            ],
            [
             0.1111111111111111,
             "#46039f"
            ],
            [
             0.2222222222222222,
             "#7201a8"
            ],
            [
             0.3333333333333333,
             "#9c179e"
            ],
            [
             0.4444444444444444,
             "#bd3786"
            ],
            [
             0.5555555555555556,
             "#d8576b"
            ],
            [
             0.6666666666666666,
             "#ed7953"
            ],
            [
             0.7777777777777778,
             "#fb9f3a"
            ],
            [
             0.8888888888888888,
             "#fdca26"
            ],
            [
             1,
             "#f0f921"
            ]
           ]
          },
          "colorway": [
           "#636efa",
           "#EF553B",
           "#00cc96",
           "#ab63fa",
           "#FFA15A",
           "#19d3f3",
           "#FF6692",
           "#B6E880",
           "#FF97FF",
           "#FECB52"
          ],
          "font": {
           "color": "#2a3f5f"
          },
          "geo": {
           "bgcolor": "white",
           "lakecolor": "white",
           "landcolor": "#E5ECF6",
           "showlakes": true,
           "showland": true,
           "subunitcolor": "white"
          },
          "hoverlabel": {
           "align": "left"
          },
          "hovermode": "closest",
          "mapbox": {
           "style": "light"
          },
          "paper_bgcolor": "white",
          "plot_bgcolor": "#E5ECF6",
          "polar": {
           "angularaxis": {
            "gridcolor": "white",
            "linecolor": "white",
            "ticks": ""
           },
           "bgcolor": "#E5ECF6",
           "radialaxis": {
            "gridcolor": "white",
            "linecolor": "white",
            "ticks": ""
           }
          },
          "scene": {
           "xaxis": {
            "backgroundcolor": "#E5ECF6",
            "gridcolor": "white",
            "gridwidth": 2,
            "linecolor": "white",
            "showbackground": true,
            "ticks": "",
            "zerolinecolor": "white"
           },
           "yaxis": {
            "backgroundcolor": "#E5ECF6",
            "gridcolor": "white",
            "gridwidth": 2,
            "linecolor": "white",
            "showbackground": true,
            "ticks": "",
            "zerolinecolor": "white"
           },
           "zaxis": {
            "backgroundcolor": "#E5ECF6",
            "gridcolor": "white",
            "gridwidth": 2,
            "linecolor": "white",
            "showbackground": true,
            "ticks": "",
            "zerolinecolor": "white"
           }
          },
          "shapedefaults": {
           "line": {
            "color": "#2a3f5f"
           }
          },
          "ternary": {
           "aaxis": {
            "gridcolor": "white",
            "linecolor": "white",
            "ticks": ""
           },
           "baxis": {
            "gridcolor": "white",
            "linecolor": "white",
            "ticks": ""
           },
           "bgcolor": "#E5ECF6",
           "caxis": {
            "gridcolor": "white",
            "linecolor": "white",
            "ticks": ""
           }
          },
          "title": {
           "x": 0.05
          },
          "xaxis": {
           "automargin": true,
           "gridcolor": "white",
           "linecolor": "white",
           "ticks": "",
           "title": {
            "standoff": 15
           },
           "zerolinecolor": "white",
           "zerolinewidth": 2
          },
          "yaxis": {
           "automargin": true,
           "gridcolor": "white",
           "linecolor": "white",
           "ticks": "",
           "title": {
            "standoff": 15
           },
           "zerolinecolor": "white",
           "zerolinewidth": 2
          }
         }
        }
       }
      }
     },
     "metadata": {},
     "output_type": "display_data"
    }
   ],
   "source": [
    "fig =go.Figure(go.Sunburst(\n",
    "    labels=labels,\n",
    "    parents=parents,\n",
    "    values=values,\n",
    "))\n",
    "\n",
    "fig.show()"
   ]
  },
  {
   "cell_type": "code",
   "execution_count": 71,
   "metadata": {},
   "outputs": [],
   "source": [
    "df = pd.read_csv(r\"../data/Life/Deaths/StateDeathsAge.txt\", delimiter=\"\t\", na_values = ['Not Applicable'])\n",
    "df = df.dropna(subset=[\"State\",\"ICD-10 113 Cause List Code\", \"Population\"])"
   ]
  },
  {
   "cell_type": "code",
   "execution_count": 32,
   "metadata": {},
   "outputs": [
    {
     "data": {
      "text/plain": [
       "array(['85+', '75-84', '65-74', '55-64', '1', '45-54', '35-44', '25-34',\n",
       "       '15-24', '1-4', '5-14'], dtype=object)"
      ]
     },
     "execution_count": 32,
     "metadata": {},
     "output_type": "execute_result"
    }
   ],
   "source": [
    "df[\"Ten-Year Age Groups Code\"].unique()"
   ]
  },
  {
   "cell_type": "code",
   "execution_count": 70,
   "metadata": {},
   "outputs": [],
   "source": [
    "f = open(\"../icd-10-Structure.json\")\n",
    "heirarchy = json.load(f)\n",
    "heirarchy\n",
    "\n",
    "f = open(\"../icd-10-flat-Structure.json\")\n",
    "flat_heirarchy = json.load(f)\n"
   ]
  },
  {
   "cell_type": "code",
   "execution_count": null,
   "metadata": {},
   "outputs": [],
   "source": []
  },
  {
   "cell_type": "code",
   "execution_count": null,
   "metadata": {},
   "outputs": [],
   "source": []
  },
  {
   "cell_type": "code",
   "execution_count": null,
   "metadata": {},
   "outputs": [],
   "source": []
  },
  {
   "cell_type": "code",
   "execution_count": null,
   "metadata": {},
   "outputs": [],
   "source": []
  },
  {
   "cell_type": "code",
   "execution_count": 91,
   "metadata": {},
   "outputs": [],
   "source": [
    "def load_state_cod(state=\"Michgian\"):\n",
    "    f = open(\"../icd-10-flat-Structure.json\")\n",
    "    flat_heirarchy = json.load(f)\n",
    "    df_heirarchy = pd.DataFrame(flat_heirarchy)\n",
    "    #rotate Matrix\n",
    "    df_heirarchy = df_heirarchy.transpose()\n",
    "    df_heirarchy.reset_index(inplace=True)\n",
    "    df_heirarchy.rename(columns={\"index\":\"ICD-10 113 Cause List\"}, inplace=True)\n",
    "    df_heirarchy\n",
    "\n",
    "    df = pd.read_csv(r\"../data/Life/Deaths/StateDeathsAge.txt\", delimiter=\"\t\", na_values = ['Not Applicable'])\n",
    "    df = df.dropna(subset=[\"State\",\"ICD-10 113 Cause List Code\", \"Population\"]) \n",
    "    \n",
    "    #state_df = state_df[state_df[\"Ten-Year Age Groups Code\"] ==age]\n",
    "    df[\"Rate\"] = (df[\"Deaths\"] / df[\"Population\"])*100000\n",
    "    df[\"Rate\"] = np.round(df[\"Rate\"], 2)\n",
    "    df[\"Child_Adj_Rate\"] = df[\"Rate\"]\n",
    "    if(state != \"All\"):\n",
    "        df= df[df[\"State\"] == state]\n",
    "\n",
    "\n",
    "    df_final = pd.merge(df, df_heirarchy, on=\"ICD-10 113 Cause List\")\n",
    "    df_final = df_final.drop(columns=[\"ICD-10 113 Cause List Code\", \"ranges\", \"chapters\", \"base\", \"Notes\"])\n",
    "    return df_final"
   ]
  },
  {
   "cell_type": "code",
   "execution_count": 116,
   "metadata": {},
   "outputs": [],
   "source": [
    "def cod_v_age_box(cod, state):\n",
    "    df = load_state_cod(\"All\")\n",
    "    df = df[df[\"ICD-10 113 Cause List\"] == cod]\n",
    "    df = df.sort_values(by=[\"Ten-Year Age Groups Code\"])\n",
    "    # Create box plot  \n",
    "    fig = px.box(df, x=\"Ten-Year Age Groups Code\", y=\"Rate\", color=\"Ten-Year Age Groups Code\", hover_data=[\"State\", \"ICD-10 113 Cause List\"])\n",
    "    fig.show()\n",
    "    "
   ]
  },
  {
   "cell_type": "code",
   "execution_count": 117,
   "metadata": {},
   "outputs": [
    {
     "data": {
      "application/vnd.plotly.v1+json": {
       "config": {
        "plotlyServerURL": "https://plot.ly"
       },
       "data": [
        {
         "alignmentgroup": "True",
         "customdata": [
          [
           "Alabama",
           "Renal failure (N17-N19)"
          ],
          [
           "Ohio",
           "Renal failure (N17-N19)"
          ],
          [
           "Florida",
           "Renal failure (N17-N19)"
          ],
          [
           "Georgia",
           "Renal failure (N17-N19)"
          ],
          [
           "California",
           "Renal failure (N17-N19)"
          ],
          [
           "Illinois",
           "Renal failure (N17-N19)"
          ],
          [
           "Texas",
           "Renal failure (N17-N19)"
          ]
         ],
         "hovertemplate": "Ten-Year Age Groups Code=%{x}<br>Rate=%{y}<br>State=%{customdata[0]}<br>ICD-10 113 Cause List=%{customdata[1]}<extra></extra>",
         "legendgroup": "25-34",
         "marker": {
          "color": "#636efa"
         },
         "name": "25-34",
         "notched": false,
         "offsetgroup": "25-34",
         "orientation": "v",
         "showlegend": true,
         "type": "box",
         "x": [
          "25-34",
          "25-34",
          "25-34",
          "25-34",
          "25-34",
          "25-34",
          "25-34"
         ],
         "x0": " ",
         "xaxis": "x",
         "y": [
          2.16,
          1.03,
          0.75,
          1.54,
          0.28,
          0.74,
          0.94
         ],
         "y0": " ",
         "yaxis": "y"
        },
        {
         "alignmentgroup": "True",
         "customdata": [
          [
           "Missouri",
           "Renal failure (N17-N19)"
          ],
          [
           "Illinois",
           "Renal failure (N17-N19)"
          ],
          [
           "Indiana",
           "Renal failure (N17-N19)"
          ],
          [
           "New Jersey",
           "Renal failure (N17-N19)"
          ],
          [
           "Michigan",
           "Renal failure (N17-N19)"
          ],
          [
           "Georgia",
           "Renal failure (N17-N19)"
          ],
          [
           "Massachusetts",
           "Renal failure (N17-N19)"
          ],
          [
           "North Carolina",
           "Renal failure (N17-N19)"
          ],
          [
           "Maryland",
           "Renal failure (N17-N19)"
          ],
          [
           "Kentucky",
           "Renal failure (N17-N19)"
          ],
          [
           "Ohio",
           "Renal failure (N17-N19)"
          ],
          [
           "Pennsylvania",
           "Renal failure (N17-N19)"
          ],
          [
           "South Carolina",
           "Renal failure (N17-N19)"
          ],
          [
           "Tennessee",
           "Renal failure (N17-N19)"
          ],
          [
           "Mississippi",
           "Renal failure (N17-N19)"
          ],
          [
           "New York",
           "Renal failure (N17-N19)"
          ],
          [
           "Florida",
           "Renal failure (N17-N19)"
          ],
          [
           "California",
           "Renal failure (N17-N19)"
          ],
          [
           "Alabama",
           "Renal failure (N17-N19)"
          ],
          [
           "Wisconsin",
           "Renal failure (N17-N19)"
          ],
          [
           "Virginia",
           "Renal failure (N17-N19)"
          ],
          [
           "Arkansas",
           "Renal failure (N17-N19)"
          ],
          [
           "Louisiana",
           "Renal failure (N17-N19)"
          ],
          [
           "Texas",
           "Renal failure (N17-N19)"
          ]
         ],
         "hovertemplate": "Ten-Year Age Groups Code=%{x}<br>Rate=%{y}<br>State=%{customdata[0]}<br>ICD-10 113 Cause List=%{customdata[1]}<extra></extra>",
         "legendgroup": "35-44",
         "marker": {
          "color": "#EF553B"
         },
         "name": "35-44",
         "notched": false,
         "offsetgroup": "35-44",
         "orientation": "v",
         "showlegend": true,
         "type": "box",
         "x": [
          "35-44",
          "35-44",
          "35-44",
          "35-44",
          "35-44",
          "35-44",
          "35-44",
          "35-44",
          "35-44",
          "35-44",
          "35-44",
          "35-44",
          "35-44",
          "35-44",
          "35-44",
          "35-44",
          "35-44",
          "35-44",
          "35-44",
          "35-44",
          "35-44",
          "35-44",
          "35-44",
          "35-44"
         ],
         "x0": " ",
         "xaxis": "x",
         "y": [
          2.39,
          1.89,
          1.69,
          1.05,
          2.66,
          2.9,
          1.41,
          2.07,
          1.28,
          2.72,
          2.15,
          1.78,
          3.55,
          1.89,
          4.65,
          0.78,
          2.08,
          1.42,
          4.05,
          1.4,
          2.07,
          3.24,
          4.24,
          2.21
         ],
         "y0": " ",
         "yaxis": "y"
        },
        {
         "alignmentgroup": "True",
         "customdata": [
          [
           "South Carolina",
           "Renal failure (N17-N19)"
          ],
          [
           "Virginia",
           "Renal failure (N17-N19)"
          ],
          [
           "Georgia",
           "Renal failure (N17-N19)"
          ],
          [
           "Massachusetts",
           "Renal failure (N17-N19)"
          ],
          [
           "New Mexico",
           "Renal failure (N17-N19)"
          ],
          [
           "California",
           "Renal failure (N17-N19)"
          ],
          [
           "New Jersey",
           "Renal failure (N17-N19)"
          ],
          [
           "Arizona",
           "Renal failure (N17-N19)"
          ],
          [
           "Wisconsin",
           "Renal failure (N17-N19)"
          ],
          [
           "Iowa",
           "Renal failure (N17-N19)"
          ],
          [
           "Michigan",
           "Renal failure (N17-N19)"
          ],
          [
           "Minnesota",
           "Renal failure (N17-N19)"
          ],
          [
           "Washington",
           "Renal failure (N17-N19)"
          ],
          [
           "Illinois",
           "Renal failure (N17-N19)"
          ],
          [
           "Missouri",
           "Renal failure (N17-N19)"
          ],
          [
           "West Virginia",
           "Renal failure (N17-N19)"
          ],
          [
           "Mississippi",
           "Renal failure (N17-N19)"
          ],
          [
           "Nevada",
           "Renal failure (N17-N19)"
          ],
          [
           "Indiana",
           "Renal failure (N17-N19)"
          ],
          [
           "New York",
           "Renal failure (N17-N19)"
          ],
          [
           "Alabama",
           "Renal failure (N17-N19)"
          ],
          [
           "Texas",
           "Renal failure (N17-N19)"
          ],
          [
           "Connecticut",
           "Renal failure (N17-N19)"
          ],
          [
           "Kentucky",
           "Renal failure (N17-N19)"
          ],
          [
           "Pennsylvania",
           "Renal failure (N17-N19)"
          ],
          [
           "Oregon",
           "Renal failure (N17-N19)"
          ],
          [
           "Kansas",
           "Renal failure (N17-N19)"
          ],
          [
           "Oklahoma",
           "Renal failure (N17-N19)"
          ],
          [
           "Maryland",
           "Renal failure (N17-N19)"
          ],
          [
           "Tennessee",
           "Renal failure (N17-N19)"
          ],
          [
           "Utah",
           "Renal failure (N17-N19)"
          ],
          [
           "Arkansas",
           "Renal failure (N17-N19)"
          ],
          [
           "Colorado",
           "Renal failure (N17-N19)"
          ],
          [
           "Louisiana",
           "Renal failure (N17-N19)"
          ],
          [
           "Florida",
           "Renal failure (N17-N19)"
          ],
          [
           "North Carolina",
           "Renal failure (N17-N19)"
          ],
          [
           "Ohio",
           "Renal failure (N17-N19)"
          ]
         ],
         "hovertemplate": "Ten-Year Age Groups Code=%{x}<br>Rate=%{y}<br>State=%{customdata[0]}<br>ICD-10 113 Cause List=%{customdata[1]}<extra></extra>",
         "legendgroup": "45-54",
         "marker": {
          "color": "#00cc96"
         },
         "name": "45-54",
         "notched": false,
         "offsetgroup": "45-54",
         "orientation": "v",
         "showlegend": true,
         "type": "box",
         "x": [
          "45-54",
          "45-54",
          "45-54",
          "45-54",
          "45-54",
          "45-54",
          "45-54",
          "45-54",
          "45-54",
          "45-54",
          "45-54",
          "45-54",
          "45-54",
          "45-54",
          "45-54",
          "45-54",
          "45-54",
          "45-54",
          "45-54",
          "45-54",
          "45-54",
          "45-54",
          "45-54",
          "45-54",
          "45-54",
          "45-54",
          "45-54",
          "45-54",
          "45-54",
          "45-54",
          "45-54",
          "45-54",
          "45-54",
          "45-54",
          "45-54",
          "45-54",
          "45-54"
         ],
         "x0": " ",
         "xaxis": "x",
         "y": [
          9.83,
          6,
          8.43,
          3.92,
          9.34,
          3.41,
          3.75,
          4.22,
          4.61,
          4.69,
          5.58,
          2.23,
          1.95,
          6.63,
          6.82,
          8.72,
          14.09,
          7.1,
          6.67,
          3.28,
          9.57,
          7.23,
          3.77,
          7.81,
          4.86,
          2.74,
          8.23,
          4.85,
          3.77,
          8.26,
          3.96,
          8.85,
          1.84,
          10.39,
          5.13,
          7.04,
          6.36
         ],
         "y0": " ",
         "yaxis": "y"
        },
        {
         "alignmentgroup": "True",
         "customdata": [
          [
           "Massachusetts",
           "Renal failure (N17-N19)"
          ],
          [
           "Maryland",
           "Renal failure (N17-N19)"
          ],
          [
           "Maine",
           "Renal failure (N17-N19)"
          ],
          [
           "Michigan",
           "Renal failure (N17-N19)"
          ],
          [
           "Tennessee",
           "Renal failure (N17-N19)"
          ],
          [
           "Minnesota",
           "Renal failure (N17-N19)"
          ],
          [
           "Louisiana",
           "Renal failure (N17-N19)"
          ],
          [
           "Wisconsin",
           "Renal failure (N17-N19)"
          ],
          [
           "New Hampshire",
           "Renal failure (N17-N19)"
          ],
          [
           "Washington",
           "Renal failure (N17-N19)"
          ],
          [
           "Rhode Island",
           "Renal failure (N17-N19)"
          ],
          [
           "Pennsylvania",
           "Renal failure (N17-N19)"
          ],
          [
           "Texas",
           "Renal failure (N17-N19)"
          ],
          [
           "Oregon",
           "Renal failure (N17-N19)"
          ],
          [
           "Oklahoma",
           "Renal failure (N17-N19)"
          ],
          [
           "Ohio",
           "Renal failure (N17-N19)"
          ],
          [
           "North Carolina",
           "Renal failure (N17-N19)"
          ],
          [
           "West Virginia",
           "Renal failure (N17-N19)"
          ],
          [
           "Utah",
           "Renal failure (N17-N19)"
          ],
          [
           "Virginia",
           "Renal failure (N17-N19)"
          ],
          [
           "New Mexico",
           "Renal failure (N17-N19)"
          ],
          [
           "South Carolina",
           "Renal failure (N17-N19)"
          ],
          [
           "Nevada",
           "Renal failure (N17-N19)"
          ],
          [
           "Nebraska",
           "Renal failure (N17-N19)"
          ],
          [
           "Montana",
           "Renal failure (N17-N19)"
          ],
          [
           "Missouri",
           "Renal failure (N17-N19)"
          ],
          [
           "New York",
           "Renal failure (N17-N19)"
          ],
          [
           "New Jersey",
           "Renal failure (N17-N19)"
          ],
          [
           "Mississippi",
           "Renal failure (N17-N19)"
          ],
          [
           "Idaho",
           "Renal failure (N17-N19)"
          ],
          [
           "Delaware",
           "Renal failure (N17-N19)"
          ],
          [
           "Arizona",
           "Renal failure (N17-N19)"
          ],
          [
           "Colorado",
           "Renal failure (N17-N19)"
          ],
          [
           "Indiana",
           "Renal failure (N17-N19)"
          ],
          [
           "Kansas",
           "Renal failure (N17-N19)"
          ],
          [
           "District of Columbia",
           "Renal failure (N17-N19)"
          ],
          [
           "California",
           "Renal failure (N17-N19)"
          ],
          [
           "Georgia",
           "Renal failure (N17-N19)"
          ],
          [
           "Hawaii",
           "Renal failure (N17-N19)"
          ],
          [
           "Florida",
           "Renal failure (N17-N19)"
          ],
          [
           "Arkansas",
           "Renal failure (N17-N19)"
          ],
          [
           "Connecticut",
           "Renal failure (N17-N19)"
          ],
          [
           "Kentucky",
           "Renal failure (N17-N19)"
          ],
          [
           "Illinois",
           "Renal failure (N17-N19)"
          ],
          [
           "Alabama",
           "Renal failure (N17-N19)"
          ],
          [
           "Iowa",
           "Renal failure (N17-N19)"
          ]
         ],
         "hovertemplate": "Ten-Year Age Groups Code=%{x}<br>Rate=%{y}<br>State=%{customdata[0]}<br>ICD-10 113 Cause List=%{customdata[1]}<extra></extra>",
         "legendgroup": "55-64",
         "marker": {
          "color": "#ab63fa"
         },
         "name": "55-64",
         "notched": false,
         "offsetgroup": "55-64",
         "orientation": "v",
         "showlegend": true,
         "type": "box",
         "x": [
          "55-64",
          "55-64",
          "55-64",
          "55-64",
          "55-64",
          "55-64",
          "55-64",
          "55-64",
          "55-64",
          "55-64",
          "55-64",
          "55-64",
          "55-64",
          "55-64",
          "55-64",
          "55-64",
          "55-64",
          "55-64",
          "55-64",
          "55-64",
          "55-64",
          "55-64",
          "55-64",
          "55-64",
          "55-64",
          "55-64",
          "55-64",
          "55-64",
          "55-64",
          "55-64",
          "55-64",
          "55-64",
          "55-64",
          "55-64",
          "55-64",
          "55-64",
          "55-64",
          "55-64",
          "55-64",
          "55-64",
          "55-64",
          "55-64",
          "55-64",
          "55-64",
          "55-64",
          "55-64"
         ],
         "x0": " ",
         "xaxis": "x",
         "y": [
          12.09,
          10.38,
          5.2,
          13.79,
          13.86,
          5.29,
          21.33,
          6.8,
          6.53,
          4.06,
          11.36,
          15.13,
          18.23,
          7.79,
          11.55,
          14.89,
          18.5,
          18.06,
          8.58,
          17.14,
          13.92,
          18.72,
          10.17,
          9.08,
          8,
          19.02,
          8.89,
          11.69,
          30.32,
          9.16,
          16.7,
          9.88,
          7.15,
          16,
          17.5,
          15.74,
          9.92,
          21.34,
          12.28,
          13.73,
          18.65,
          11.88,
          19.22,
          16.28,
          22.81,
          11.31
         ],
         "y0": " ",
         "yaxis": "y"
        },
        {
         "alignmentgroup": "True",
         "customdata": [
          [
           "Idaho",
           "Renal failure (N17-N19)"
          ],
          [
           "Missouri",
           "Renal failure (N17-N19)"
          ],
          [
           "Tennessee",
           "Renal failure (N17-N19)"
          ],
          [
           "Montana",
           "Renal failure (N17-N19)"
          ],
          [
           "California",
           "Renal failure (N17-N19)"
          ],
          [
           "District of Columbia",
           "Renal failure (N17-N19)"
          ],
          [
           "New York",
           "Renal failure (N17-N19)"
          ],
          [
           "South Dakota",
           "Renal failure (N17-N19)"
          ],
          [
           "Illinois",
           "Renal failure (N17-N19)"
          ],
          [
           "Oregon",
           "Renal failure (N17-N19)"
          ],
          [
           "Nevada",
           "Renal failure (N17-N19)"
          ],
          [
           "South Carolina",
           "Renal failure (N17-N19)"
          ],
          [
           "Colorado",
           "Renal failure (N17-N19)"
          ],
          [
           "New Hampshire",
           "Renal failure (N17-N19)"
          ],
          [
           "Hawaii",
           "Renal failure (N17-N19)"
          ],
          [
           "Rhode Island",
           "Renal failure (N17-N19)"
          ],
          [
           "New Jersey",
           "Renal failure (N17-N19)"
          ],
          [
           "Pennsylvania",
           "Renal failure (N17-N19)"
          ],
          [
           "Georgia",
           "Renal failure (N17-N19)"
          ],
          [
           "Nebraska",
           "Renal failure (N17-N19)"
          ],
          [
           "Arkansas",
           "Renal failure (N17-N19)"
          ],
          [
           "Florida",
           "Renal failure (N17-N19)"
          ],
          [
           "Mississippi",
           "Renal failure (N17-N19)"
          ],
          [
           "Kentucky",
           "Renal failure (N17-N19)"
          ],
          [
           "Louisiana",
           "Renal failure (N17-N19)"
          ],
          [
           "Wyoming",
           "Renal failure (N17-N19)"
          ],
          [
           "Ohio",
           "Renal failure (N17-N19)"
          ],
          [
           "Wisconsin",
           "Renal failure (N17-N19)"
          ],
          [
           "Maine",
           "Renal failure (N17-N19)"
          ],
          [
           "Alabama",
           "Renal failure (N17-N19)"
          ],
          [
           "Kansas",
           "Renal failure (N17-N19)"
          ],
          [
           "Maryland",
           "Renal failure (N17-N19)"
          ],
          [
           "North Dakota",
           "Renal failure (N17-N19)"
          ],
          [
           "West Virginia",
           "Renal failure (N17-N19)"
          ],
          [
           "Texas",
           "Renal failure (N17-N19)"
          ],
          [
           "Iowa",
           "Renal failure (N17-N19)"
          ],
          [
           "Alaska",
           "Renal failure (N17-N19)"
          ],
          [
           "Arizona",
           "Renal failure (N17-N19)"
          ],
          [
           "New Mexico",
           "Renal failure (N17-N19)"
          ],
          [
           "Utah",
           "Renal failure (N17-N19)"
          ],
          [
           "Oklahoma",
           "Renal failure (N17-N19)"
          ],
          [
           "Minnesota",
           "Renal failure (N17-N19)"
          ],
          [
           "Indiana",
           "Renal failure (N17-N19)"
          ],
          [
           "Massachusetts",
           "Renal failure (N17-N19)"
          ],
          [
           "Connecticut",
           "Renal failure (N17-N19)"
          ],
          [
           "Michigan",
           "Renal failure (N17-N19)"
          ],
          [
           "Virginia",
           "Renal failure (N17-N19)"
          ],
          [
           "North Carolina",
           "Renal failure (N17-N19)"
          ],
          [
           "Delaware",
           "Renal failure (N17-N19)"
          ],
          [
           "Washington",
           "Renal failure (N17-N19)"
          ]
         ],
         "hovertemplate": "Ten-Year Age Groups Code=%{x}<br>Rate=%{y}<br>State=%{customdata[0]}<br>ICD-10 113 Cause List=%{customdata[1]}<extra></extra>",
         "legendgroup": "65-74",
         "marker": {
          "color": "#FFA15A"
         },
         "name": "65-74",
         "notched": false,
         "offsetgroup": "65-74",
         "orientation": "v",
         "showlegend": true,
         "type": "box",
         "x": [
          "65-74",
          "65-74",
          "65-74",
          "65-74",
          "65-74",
          "65-74",
          "65-74",
          "65-74",
          "65-74",
          "65-74",
          "65-74",
          "65-74",
          "65-74",
          "65-74",
          "65-74",
          "65-74",
          "65-74",
          "65-74",
          "65-74",
          "65-74",
          "65-74",
          "65-74",
          "65-74",
          "65-74",
          "65-74",
          "65-74",
          "65-74",
          "65-74",
          "65-74",
          "65-74",
          "65-74",
          "65-74",
          "65-74",
          "65-74",
          "65-74",
          "65-74",
          "65-74",
          "65-74",
          "65-74",
          "65-74",
          "65-74",
          "65-74",
          "65-74",
          "65-74",
          "65-74",
          "65-74",
          "65-74",
          "65-74",
          "65-74",
          "65-74"
         ],
         "x0": " ",
         "xaxis": "x",
         "y": [
          17.63,
          50.97,
          33.9,
          22.47,
          24.42,
          21.9,
          25.16,
          13.45,
          46.17,
          19.59,
          24.72,
          41.89,
          20.88,
          29.48,
          23.01,
          26.38,
          35.42,
          42.61,
          53.56,
          24.03,
          44.25,
          26.73,
          57.1,
          54.03,
          60.79,
          26.41,
          40.11,
          27.24,
          31.94,
          47.26,
          45.92,
          26.71,
          27,
          47.86,
          42.05,
          18.62,
          21.21,
          24.48,
          28.51,
          25.52,
          28.26,
          15.82,
          43.5,
          32.23,
          30.33,
          37.2,
          43.75,
          45.87,
          38.99,
          9.92
         ],
         "y0": " ",
         "yaxis": "y"
        },
        {
         "alignmentgroup": "True",
         "customdata": [
          [
           "Oregon",
           "Renal failure (N17-N19)"
          ],
          [
           "Connecticut",
           "Renal failure (N17-N19)"
          ],
          [
           "Oklahoma",
           "Renal failure (N17-N19)"
          ],
          [
           "Ohio",
           "Renal failure (N17-N19)"
          ],
          [
           "Delaware",
           "Renal failure (N17-N19)"
          ],
          [
           "Kentucky",
           "Renal failure (N17-N19)"
          ],
          [
           "Rhode Island",
           "Renal failure (N17-N19)"
          ],
          [
           "Wisconsin",
           "Renal failure (N17-N19)"
          ],
          [
           "Alabama",
           "Renal failure (N17-N19)"
          ],
          [
           "West Virginia",
           "Renal failure (N17-N19)"
          ],
          [
           "Washington",
           "Renal failure (N17-N19)"
          ],
          [
           "Alaska",
           "Renal failure (N17-N19)"
          ],
          [
           "Virginia",
           "Renal failure (N17-N19)"
          ],
          [
           "Pennsylvania",
           "Renal failure (N17-N19)"
          ],
          [
           "Arizona",
           "Renal failure (N17-N19)"
          ],
          [
           "Texas",
           "Renal failure (N17-N19)"
          ],
          [
           "Arkansas",
           "Renal failure (N17-N19)"
          ],
          [
           "California",
           "Renal failure (N17-N19)"
          ],
          [
           "South Dakota",
           "Renal failure (N17-N19)"
          ],
          [
           "South Carolina",
           "Renal failure (N17-N19)"
          ],
          [
           "Colorado",
           "Renal failure (N17-N19)"
          ],
          [
           "Utah",
           "Renal failure (N17-N19)"
          ],
          [
           "Tennessee",
           "Renal failure (N17-N19)"
          ],
          [
           "North Carolina",
           "Renal failure (N17-N19)"
          ],
          [
           "Illinois",
           "Renal failure (N17-N19)"
          ],
          [
           "Indiana",
           "Renal failure (N17-N19)"
          ],
          [
           "Nevada",
           "Renal failure (N17-N19)"
          ],
          [
           "Minnesota",
           "Renal failure (N17-N19)"
          ],
          [
           "Hawaii",
           "Renal failure (N17-N19)"
          ],
          [
           "New Hampshire",
           "Renal failure (N17-N19)"
          ],
          [
           "Wyoming",
           "Renal failure (N17-N19)"
          ],
          [
           "Massachusetts",
           "Renal failure (N17-N19)"
          ],
          [
           "Iowa",
           "Renal failure (N17-N19)"
          ],
          [
           "Montana",
           "Renal failure (N17-N19)"
          ],
          [
           "New Jersey",
           "Renal failure (N17-N19)"
          ],
          [
           "Idaho",
           "Renal failure (N17-N19)"
          ],
          [
           "Georgia",
           "Renal failure (N17-N19)"
          ],
          [
           "Michigan",
           "Renal failure (N17-N19)"
          ],
          [
           "New Mexico",
           "Renal failure (N17-N19)"
          ],
          [
           "District of Columbia",
           "Renal failure (N17-N19)"
          ],
          [
           "Louisiana",
           "Renal failure (N17-N19)"
          ],
          [
           "North Dakota",
           "Renal failure (N17-N19)"
          ],
          [
           "Mississippi",
           "Renal failure (N17-N19)"
          ],
          [
           "Maine",
           "Renal failure (N17-N19)"
          ],
          [
           "Nebraska",
           "Renal failure (N17-N19)"
          ],
          [
           "New York",
           "Renal failure (N17-N19)"
          ],
          [
           "Missouri",
           "Renal failure (N17-N19)"
          ],
          [
           "Florida",
           "Renal failure (N17-N19)"
          ],
          [
           "Maryland",
           "Renal failure (N17-N19)"
          ],
          [
           "Kansas",
           "Renal failure (N17-N19)"
          ]
         ],
         "hovertemplate": "Ten-Year Age Groups Code=%{x}<br>Rate=%{y}<br>State=%{customdata[0]}<br>ICD-10 113 Cause List=%{customdata[1]}<extra></extra>",
         "legendgroup": "75-84",
         "marker": {
          "color": "#19d3f3"
         },
         "name": "75-84",
         "notched": false,
         "offsetgroup": "75-84",
         "orientation": "v",
         "showlegend": true,
         "type": "box",
         "x": [
          "75-84",
          "75-84",
          "75-84",
          "75-84",
          "75-84",
          "75-84",
          "75-84",
          "75-84",
          "75-84",
          "75-84",
          "75-84",
          "75-84",
          "75-84",
          "75-84",
          "75-84",
          "75-84",
          "75-84",
          "75-84",
          "75-84",
          "75-84",
          "75-84",
          "75-84",
          "75-84",
          "75-84",
          "75-84",
          "75-84",
          "75-84",
          "75-84",
          "75-84",
          "75-84",
          "75-84",
          "75-84",
          "75-84",
          "75-84",
          "75-84",
          "75-84",
          "75-84",
          "75-84",
          "75-84",
          "75-84",
          "75-84",
          "75-84",
          "75-84",
          "75-84",
          "75-84",
          "75-84",
          "75-84",
          "75-84",
          "75-84",
          "75-84"
         ],
         "x0": " ",
         "xaxis": "x",
         "y": [
          55.77,
          90.28,
          79.83,
          103.36,
          120.08,
          125.44,
          69.32,
          90.76,
          111.35,
          123.23,
          32.09,
          77.9,
          121.35,
          116.38,
          54.23,
          105.39,
          117.29,
          60.53,
          48,
          98.54,
          67.29,
          97.37,
          90.82,
          125.78,
          118.79,
          128.64,
          58.87,
          56.62,
          77.66,
          81.74,
          54.35,
          98.66,
          74.92,
          57.68,
          106.47,
          72.92,
          129.35,
          101.81,
          81.46,
          44.21,
          134.45,
          66.92,
          132.7,
          88.61,
          87.3,
          71.4,
          125.34,
          67.15,
          71.83,
          101.04
         ],
         "y0": " ",
         "yaxis": "y"
        },
        {
         "alignmentgroup": "True",
         "customdata": [
          [
           "Minnesota",
           "Renal failure (N17-N19)"
          ],
          [
           "Utah",
           "Renal failure (N17-N19)"
          ],
          [
           "Illinois",
           "Renal failure (N17-N19)"
          ],
          [
           "Arizona",
           "Renal failure (N17-N19)"
          ],
          [
           "Michigan",
           "Renal failure (N17-N19)"
          ],
          [
           "Vermont",
           "Renal failure (N17-N19)"
          ],
          [
           "Delaware",
           "Renal failure (N17-N19)"
          ],
          [
           "Virginia",
           "Renal failure (N17-N19)"
          ],
          [
           "Alaska",
           "Renal failure (N17-N19)"
          ],
          [
           "Washington",
           "Renal failure (N17-N19)"
          ],
          [
           "Iowa",
           "Renal failure (N17-N19)"
          ],
          [
           "Alabama",
           "Renal failure (N17-N19)"
          ],
          [
           "Maryland",
           "Renal failure (N17-N19)"
          ],
          [
           "West Virginia",
           "Renal failure (N17-N19)"
          ],
          [
           "Maine",
           "Renal failure (N17-N19)"
          ],
          [
           "Kansas",
           "Renal failure (N17-N19)"
          ],
          [
           "Louisiana",
           "Renal failure (N17-N19)"
          ],
          [
           "Wisconsin",
           "Renal failure (N17-N19)"
          ],
          [
           "Indiana",
           "Renal failure (N17-N19)"
          ],
          [
           "Massachusetts",
           "Renal failure (N17-N19)"
          ],
          [
           "Tennessee",
           "Renal failure (N17-N19)"
          ],
          [
           "Mississippi",
           "Renal failure (N17-N19)"
          ],
          [
           "North Dakota",
           "Renal failure (N17-N19)"
          ],
          [
           "Ohio",
           "Renal failure (N17-N19)"
          ],
          [
           "North Carolina",
           "Renal failure (N17-N19)"
          ],
          [
           "Kentucky",
           "Renal failure (N17-N19)"
          ],
          [
           "District of Columbia",
           "Renal failure (N17-N19)"
          ],
          [
           "New York",
           "Renal failure (N17-N19)"
          ],
          [
           "Oklahoma",
           "Renal failure (N17-N19)"
          ],
          [
           "Connecticut",
           "Renal failure (N17-N19)"
          ],
          [
           "Florida",
           "Renal failure (N17-N19)"
          ],
          [
           "Oregon",
           "Renal failure (N17-N19)"
          ],
          [
           "New Mexico",
           "Renal failure (N17-N19)"
          ],
          [
           "New Jersey",
           "Renal failure (N17-N19)"
          ],
          [
           "Pennsylvania",
           "Renal failure (N17-N19)"
          ],
          [
           "Colorado",
           "Renal failure (N17-N19)"
          ],
          [
           "Georgia",
           "Renal failure (N17-N19)"
          ],
          [
           "New Hampshire",
           "Renal failure (N17-N19)"
          ],
          [
           "Rhode Island",
           "Renal failure (N17-N19)"
          ],
          [
           "Nevada",
           "Renal failure (N17-N19)"
          ],
          [
           "Hawaii",
           "Renal failure (N17-N19)"
          ],
          [
           "South Carolina",
           "Renal failure (N17-N19)"
          ],
          [
           "Nebraska",
           "Renal failure (N17-N19)"
          ],
          [
           "South Dakota",
           "Renal failure (N17-N19)"
          ],
          [
           "California",
           "Renal failure (N17-N19)"
          ],
          [
           "Montana",
           "Renal failure (N17-N19)"
          ],
          [
           "Missouri",
           "Renal failure (N17-N19)"
          ],
          [
           "Arkansas",
           "Renal failure (N17-N19)"
          ],
          [
           "Idaho",
           "Renal failure (N17-N19)"
          ],
          [
           "Texas",
           "Renal failure (N17-N19)"
          ],
          [
           "Wyoming",
           "Renal failure (N17-N19)"
          ]
         ],
         "hovertemplate": "Ten-Year Age Groups Code=%{x}<br>Rate=%{y}<br>State=%{customdata[0]}<br>ICD-10 113 Cause List=%{customdata[1]}<extra></extra>",
         "legendgroup": "85+",
         "marker": {
          "color": "#FF6692"
         },
         "name": "85+",
         "notched": false,
         "offsetgroup": "85+",
         "orientation": "v",
         "showlegend": true,
         "type": "box",
         "x": [
          "85+",
          "85+",
          "85+",
          "85+",
          "85+",
          "85+",
          "85+",
          "85+",
          "85+",
          "85+",
          "85+",
          "85+",
          "85+",
          "85+",
          "85+",
          "85+",
          "85+",
          "85+",
          "85+",
          "85+",
          "85+",
          "85+",
          "85+",
          "85+",
          "85+",
          "85+",
          "85+",
          "85+",
          "85+",
          "85+",
          "85+",
          "85+",
          "85+",
          "85+",
          "85+",
          "85+",
          "85+",
          "85+",
          "85+",
          "85+",
          "85+",
          "85+",
          "85+",
          "85+",
          "85+",
          "85+",
          "85+",
          "85+",
          "85+",
          "85+",
          "85+"
         ],
         "x0": " ",
         "xaxis": "x",
         "y": [
          159.86,
          370.72,
          313.89,
          136.55,
          286.67,
          96.97,
          311.05,
          323.01,
          278.51,
          86.2,
          208.46,
          247.97,
          200.18,
          246.66,
          251.48,
          290.81,
          319.29,
          310.97,
          349.43,
          339.76,
          224.19,
          403.46,
          239.2,
          251.3,
          294.62,
          334.69,
          89.85,
          217.83,
          213.04,
          297.82,
          160.8,
          171.52,
          253.57,
          303.79,
          344.46,
          172.37,
          311.12,
          287.69,
          298.05,
          138.34,
          203.99,
          283.34,
          260.11,
          133.43,
          174.17,
          218.77,
          382.68,
          298.77,
          218.31,
          243.35,
          154.67
         ],
         "y0": " ",
         "yaxis": "y"
        }
       ],
       "layout": {
        "boxmode": "overlay",
        "legend": {
         "title": {
          "text": "Ten-Year Age Groups Code"
         },
         "tracegroupgap": 0
        },
        "margin": {
         "t": 60
        },
        "template": {
         "data": {
          "bar": [
           {
            "error_x": {
             "color": "#2a3f5f"
            },
            "error_y": {
             "color": "#2a3f5f"
            },
            "marker": {
             "line": {
              "color": "#E5ECF6",
              "width": 0.5
             },
             "pattern": {
              "fillmode": "overlay",
              "size": 10,
              "solidity": 0.2
             }
            },
            "type": "bar"
           }
          ],
          "barpolar": [
           {
            "marker": {
             "line": {
              "color": "#E5ECF6",
              "width": 0.5
             },
             "pattern": {
              "fillmode": "overlay",
              "size": 10,
              "solidity": 0.2
             }
            },
            "type": "barpolar"
           }
          ],
          "carpet": [
           {
            "aaxis": {
             "endlinecolor": "#2a3f5f",
             "gridcolor": "white",
             "linecolor": "white",
             "minorgridcolor": "white",
             "startlinecolor": "#2a3f5f"
            },
            "baxis": {
             "endlinecolor": "#2a3f5f",
             "gridcolor": "white",
             "linecolor": "white",
             "minorgridcolor": "white",
             "startlinecolor": "#2a3f5f"
            },
            "type": "carpet"
           }
          ],
          "choropleth": [
           {
            "colorbar": {
             "outlinewidth": 0,
             "ticks": ""
            },
            "type": "choropleth"
           }
          ],
          "contour": [
           {
            "colorbar": {
             "outlinewidth": 0,
             "ticks": ""
            },
            "colorscale": [
             [
              0,
              "#0d0887"
             ],
             [
              0.1111111111111111,
              "#46039f"
             ],
             [
              0.2222222222222222,
              "#7201a8"
             ],
             [
              0.3333333333333333,
              "#9c179e"
             ],
             [
              0.4444444444444444,
              "#bd3786"
             ],
             [
              0.5555555555555556,
              "#d8576b"
             ],
             [
              0.6666666666666666,
              "#ed7953"
             ],
             [
              0.7777777777777778,
              "#fb9f3a"
             ],
             [
              0.8888888888888888,
              "#fdca26"
             ],
             [
              1,
              "#f0f921"
             ]
            ],
            "type": "contour"
           }
          ],
          "contourcarpet": [
           {
            "colorbar": {
             "outlinewidth": 0,
             "ticks": ""
            },
            "type": "contourcarpet"
           }
          ],
          "heatmap": [
           {
            "colorbar": {
             "outlinewidth": 0,
             "ticks": ""
            },
            "colorscale": [
             [
              0,
              "#0d0887"
             ],
             [
              0.1111111111111111,
              "#46039f"
             ],
             [
              0.2222222222222222,
              "#7201a8"
             ],
             [
              0.3333333333333333,
              "#9c179e"
             ],
             [
              0.4444444444444444,
              "#bd3786"
             ],
             [
              0.5555555555555556,
              "#d8576b"
             ],
             [
              0.6666666666666666,
              "#ed7953"
             ],
             [
              0.7777777777777778,
              "#fb9f3a"
             ],
             [
              0.8888888888888888,
              "#fdca26"
             ],
             [
              1,
              "#f0f921"
             ]
            ],
            "type": "heatmap"
           }
          ],
          "heatmapgl": [
           {
            "colorbar": {
             "outlinewidth": 0,
             "ticks": ""
            },
            "colorscale": [
             [
              0,
              "#0d0887"
             ],
             [
              0.1111111111111111,
              "#46039f"
             ],
             [
              0.2222222222222222,
              "#7201a8"
             ],
             [
              0.3333333333333333,
              "#9c179e"
             ],
             [
              0.4444444444444444,
              "#bd3786"
             ],
             [
              0.5555555555555556,
              "#d8576b"
             ],
             [
              0.6666666666666666,
              "#ed7953"
             ],
             [
              0.7777777777777778,
              "#fb9f3a"
             ],
             [
              0.8888888888888888,
              "#fdca26"
             ],
             [
              1,
              "#f0f921"
             ]
            ],
            "type": "heatmapgl"
           }
          ],
          "histogram": [
           {
            "marker": {
             "pattern": {
              "fillmode": "overlay",
              "size": 10,
              "solidity": 0.2
             }
            },
            "type": "histogram"
           }
          ],
          "histogram2d": [
           {
            "colorbar": {
             "outlinewidth": 0,
             "ticks": ""
            },
            "colorscale": [
             [
              0,
              "#0d0887"
             ],
             [
              0.1111111111111111,
              "#46039f"
             ],
             [
              0.2222222222222222,
              "#7201a8"
             ],
             [
              0.3333333333333333,
              "#9c179e"
             ],
             [
              0.4444444444444444,
              "#bd3786"
             ],
             [
              0.5555555555555556,
              "#d8576b"
             ],
             [
              0.6666666666666666,
              "#ed7953"
             ],
             [
              0.7777777777777778,
              "#fb9f3a"
             ],
             [
              0.8888888888888888,
              "#fdca26"
             ],
             [
              1,
              "#f0f921"
             ]
            ],
            "type": "histogram2d"
           }
          ],
          "histogram2dcontour": [
           {
            "colorbar": {
             "outlinewidth": 0,
             "ticks": ""
            },
            "colorscale": [
             [
              0,
              "#0d0887"
             ],
             [
              0.1111111111111111,
              "#46039f"
             ],
             [
              0.2222222222222222,
              "#7201a8"
             ],
             [
              0.3333333333333333,
              "#9c179e"
             ],
             [
              0.4444444444444444,
              "#bd3786"
             ],
             [
              0.5555555555555556,
              "#d8576b"
             ],
             [
              0.6666666666666666,
              "#ed7953"
             ],
             [
              0.7777777777777778,
              "#fb9f3a"
             ],
             [
              0.8888888888888888,
              "#fdca26"
             ],
             [
              1,
              "#f0f921"
             ]
            ],
            "type": "histogram2dcontour"
           }
          ],
          "mesh3d": [
           {
            "colorbar": {
             "outlinewidth": 0,
             "ticks": ""
            },
            "type": "mesh3d"
           }
          ],
          "parcoords": [
           {
            "line": {
             "colorbar": {
              "outlinewidth": 0,
              "ticks": ""
             }
            },
            "type": "parcoords"
           }
          ],
          "pie": [
           {
            "automargin": true,
            "type": "pie"
           }
          ],
          "scatter": [
           {
            "marker": {
             "colorbar": {
              "outlinewidth": 0,
              "ticks": ""
             }
            },
            "type": "scatter"
           }
          ],
          "scatter3d": [
           {
            "line": {
             "colorbar": {
              "outlinewidth": 0,
              "ticks": ""
             }
            },
            "marker": {
             "colorbar": {
              "outlinewidth": 0,
              "ticks": ""
             }
            },
            "type": "scatter3d"
           }
          ],
          "scattercarpet": [
           {
            "marker": {
             "colorbar": {
              "outlinewidth": 0,
              "ticks": ""
             }
            },
            "type": "scattercarpet"
           }
          ],
          "scattergeo": [
           {
            "marker": {
             "colorbar": {
              "outlinewidth": 0,
              "ticks": ""
             }
            },
            "type": "scattergeo"
           }
          ],
          "scattergl": [
           {
            "marker": {
             "colorbar": {
              "outlinewidth": 0,
              "ticks": ""
             }
            },
            "type": "scattergl"
           }
          ],
          "scattermapbox": [
           {
            "marker": {
             "colorbar": {
              "outlinewidth": 0,
              "ticks": ""
             }
            },
            "type": "scattermapbox"
           }
          ],
          "scatterpolar": [
           {
            "marker": {
             "colorbar": {
              "outlinewidth": 0,
              "ticks": ""
             }
            },
            "type": "scatterpolar"
           }
          ],
          "scatterpolargl": [
           {
            "marker": {
             "colorbar": {
              "outlinewidth": 0,
              "ticks": ""
             }
            },
            "type": "scatterpolargl"
           }
          ],
          "scatterternary": [
           {
            "marker": {
             "colorbar": {
              "outlinewidth": 0,
              "ticks": ""
             }
            },
            "type": "scatterternary"
           }
          ],
          "surface": [
           {
            "colorbar": {
             "outlinewidth": 0,
             "ticks": ""
            },
            "colorscale": [
             [
              0,
              "#0d0887"
             ],
             [
              0.1111111111111111,
              "#46039f"
             ],
             [
              0.2222222222222222,
              "#7201a8"
             ],
             [
              0.3333333333333333,
              "#9c179e"
             ],
             [
              0.4444444444444444,
              "#bd3786"
             ],
             [
              0.5555555555555556,
              "#d8576b"
             ],
             [
              0.6666666666666666,
              "#ed7953"
             ],
             [
              0.7777777777777778,
              "#fb9f3a"
             ],
             [
              0.8888888888888888,
              "#fdca26"
             ],
             [
              1,
              "#f0f921"
             ]
            ],
            "type": "surface"
           }
          ],
          "table": [
           {
            "cells": {
             "fill": {
              "color": "#EBF0F8"
             },
             "line": {
              "color": "white"
             }
            },
            "header": {
             "fill": {
              "color": "#C8D4E3"
             },
             "line": {
              "color": "white"
             }
            },
            "type": "table"
           }
          ]
         },
         "layout": {
          "annotationdefaults": {
           "arrowcolor": "#2a3f5f",
           "arrowhead": 0,
           "arrowwidth": 1
          },
          "autotypenumbers": "strict",
          "coloraxis": {
           "colorbar": {
            "outlinewidth": 0,
            "ticks": ""
           }
          },
          "colorscale": {
           "diverging": [
            [
             0,
             "#8e0152"
            ],
            [
             0.1,
             "#c51b7d"
            ],
            [
             0.2,
             "#de77ae"
            ],
            [
             0.3,
             "#f1b6da"
            ],
            [
             0.4,
             "#fde0ef"
            ],
            [
             0.5,
             "#f7f7f7"
            ],
            [
             0.6,
             "#e6f5d0"
            ],
            [
             0.7,
             "#b8e186"
            ],
            [
             0.8,
             "#7fbc41"
            ],
            [
             0.9,
             "#4d9221"
            ],
            [
             1,
             "#276419"
            ]
           ],
           "sequential": [
            [
             0,
             "#0d0887"
            ],
            [
             0.1111111111111111,
             "#46039f"
            ],
            [
             0.2222222222222222,
             "#7201a8"
            ],
            [
             0.3333333333333333,
             "#9c179e"
            ],
            [
             0.4444444444444444,
             "#bd3786"
            ],
            [
             0.5555555555555556,
             "#d8576b"
            ],
            [
             0.6666666666666666,
             "#ed7953"
            ],
            [
             0.7777777777777778,
             "#fb9f3a"
            ],
            [
             0.8888888888888888,
             "#fdca26"
            ],
            [
             1,
             "#f0f921"
            ]
           ],
           "sequentialminus": [
            [
             0,
             "#0d0887"
            ],
            [
             0.1111111111111111,
             "#46039f"
            ],
            [
             0.2222222222222222,
             "#7201a8"
            ],
            [
             0.3333333333333333,
             "#9c179e"
            ],
            [
             0.4444444444444444,
             "#bd3786"
            ],
            [
             0.5555555555555556,
             "#d8576b"
            ],
            [
             0.6666666666666666,
             "#ed7953"
            ],
            [
             0.7777777777777778,
             "#fb9f3a"
            ],
            [
             0.8888888888888888,
             "#fdca26"
            ],
            [
             1,
             "#f0f921"
            ]
           ]
          },
          "colorway": [
           "#636efa",
           "#EF553B",
           "#00cc96",
           "#ab63fa",
           "#FFA15A",
           "#19d3f3",
           "#FF6692",
           "#B6E880",
           "#FF97FF",
           "#FECB52"
          ],
          "font": {
           "color": "#2a3f5f"
          },
          "geo": {
           "bgcolor": "white",
           "lakecolor": "white",
           "landcolor": "#E5ECF6",
           "showlakes": true,
           "showland": true,
           "subunitcolor": "white"
          },
          "hoverlabel": {
           "align": "left"
          },
          "hovermode": "closest",
          "mapbox": {
           "style": "light"
          },
          "paper_bgcolor": "white",
          "plot_bgcolor": "#E5ECF6",
          "polar": {
           "angularaxis": {
            "gridcolor": "white",
            "linecolor": "white",
            "ticks": ""
           },
           "bgcolor": "#E5ECF6",
           "radialaxis": {
            "gridcolor": "white",
            "linecolor": "white",
            "ticks": ""
           }
          },
          "scene": {
           "xaxis": {
            "backgroundcolor": "#E5ECF6",
            "gridcolor": "white",
            "gridwidth": 2,
            "linecolor": "white",
            "showbackground": true,
            "ticks": "",
            "zerolinecolor": "white"
           },
           "yaxis": {
            "backgroundcolor": "#E5ECF6",
            "gridcolor": "white",
            "gridwidth": 2,
            "linecolor": "white",
            "showbackground": true,
            "ticks": "",
            "zerolinecolor": "white"
           },
           "zaxis": {
            "backgroundcolor": "#E5ECF6",
            "gridcolor": "white",
            "gridwidth": 2,
            "linecolor": "white",
            "showbackground": true,
            "ticks": "",
            "zerolinecolor": "white"
           }
          },
          "shapedefaults": {
           "line": {
            "color": "#2a3f5f"
           }
          },
          "ternary": {
           "aaxis": {
            "gridcolor": "white",
            "linecolor": "white",
            "ticks": ""
           },
           "baxis": {
            "gridcolor": "white",
            "linecolor": "white",
            "ticks": ""
           },
           "bgcolor": "#E5ECF6",
           "caxis": {
            "gridcolor": "white",
            "linecolor": "white",
            "ticks": ""
           }
          },
          "title": {
           "x": 0.05
          },
          "xaxis": {
           "automargin": true,
           "gridcolor": "white",
           "linecolor": "white",
           "ticks": "",
           "title": {
            "standoff": 15
           },
           "zerolinecolor": "white",
           "zerolinewidth": 2
          },
          "yaxis": {
           "automargin": true,
           "gridcolor": "white",
           "linecolor": "white",
           "ticks": "",
           "title": {
            "standoff": 15
           },
           "zerolinecolor": "white",
           "zerolinewidth": 2
          }
         }
        },
        "xaxis": {
         "anchor": "y",
         "categoryarray": [
          "25-34",
          "35-44",
          "45-54",
          "55-64",
          "65-74",
          "75-84",
          "85+"
         ],
         "categoryorder": "array",
         "domain": [
          0,
          1
         ],
         "title": {
          "text": "Ten-Year Age Groups Code"
         }
        },
        "yaxis": {
         "anchor": "x",
         "domain": [
          0,
          1
         ],
         "title": {
          "text": "Rate"
         }
        }
       }
      }
     },
     "metadata": {},
     "output_type": "display_data"
    }
   ],
   "source": [
    "cod_v_age_box(\"Renal failure (N17-N19)\", \"Michigan\")"
   ]
  },
  {
   "cell_type": "code",
   "execution_count": 120,
   "metadata": {},
   "outputs": [],
   "source": [
    "\n"
   ]
  },
  {
   "cell_type": "code",
   "execution_count": null,
   "metadata": {},
   "outputs": [],
   "source": []
  },
  {
   "cell_type": "code",
   "execution_count": 154,
   "metadata": {},
   "outputs": [
    {
     "name": "stderr",
     "output_type": "stream",
     "text": [
      "C:\\Users\\zeusg\\AppData\\Local\\Temp/ipykernel_38384/1163915242.py:3: FutureWarning:\n",
      "\n",
      "The default value of regex will change from True to False in a future version. In addition, single character regular expressions will *not* be treated as literal strings when regex=True.\n",
      "\n"
     ]
    },
    {
     "data": {
      "application/vnd.plotly.v1+json": {
       "config": {
        "plotlyServerURL": "https://plot.ly"
       },
       "data": [
        {
         "alignmentgroup": "True",
         "customdata": [
          [
           "Alabama",
           "#Intentional self-harm (suicide) (*U03,X60-X84,Y87.0)"
          ],
          [
           "Virginia",
           "#Intentional self-harm (suicide) (*U03,X60-X84,Y87.0)"
          ],
          [
           "Pennsylvania",
           "#Intentional self-harm (suicide) (*U03,X60-X84,Y87.0)"
          ],
          [
           "Illinois",
           "#Intentional self-harm (suicide) (*U03,X60-X84,Y87.0)"
          ],
          [
           "South Carolina",
           "#Intentional self-harm (suicide) (*U03,X60-X84,Y87.0)"
          ],
          [
           "Wisconsin",
           "#Intentional self-harm (suicide) (*U03,X60-X84,Y87.0)"
          ],
          [
           "Ohio",
           "#Intentional self-harm (suicide) (*U03,X60-X84,Y87.0)"
          ],
          [
           "Colorado",
           "#Intentional self-harm (suicide) (*U03,X60-X84,Y87.0)"
          ],
          [
           "Utah",
           "#Intentional self-harm (suicide) (*U03,X60-X84,Y87.0)"
          ],
          [
           "Washington",
           "#Intentional self-harm (suicide) (*U03,X60-X84,Y87.0)"
          ],
          [
           "California",
           "#Intentional self-harm (suicide) (*U03,X60-X84,Y87.0)"
          ],
          [
           "Arizona",
           "#Intentional self-harm (suicide) (*U03,X60-X84,Y87.0)"
          ],
          [
           "Texas",
           "#Intentional self-harm (suicide) (*U03,X60-X84,Y87.0)"
          ],
          [
           "Indiana",
           "#Intentional self-harm (suicide) (*U03,X60-X84,Y87.0)"
          ],
          [
           "North Carolina",
           "#Intentional self-harm (suicide) (*U03,X60-X84,Y87.0)"
          ],
          [
           "New York",
           "#Intentional self-harm (suicide) (*U03,X60-X84,Y87.0)"
          ],
          [
           "Michigan",
           "#Intentional self-harm (suicide) (*U03,X60-X84,Y87.0)"
          ],
          [
           "Minnesota",
           "#Intentional self-harm (suicide) (*U03,X60-X84,Y87.0)"
          ],
          [
           "Oklahoma",
           "#Intentional self-harm (suicide) (*U03,X60-X84,Y87.0)"
          ],
          [
           "Georgia",
           "#Intentional self-harm (suicide) (*U03,X60-X84,Y87.0)"
          ],
          [
           "Missouri",
           "#Intentional self-harm (suicide) (*U03,X60-X84,Y87.0)"
          ],
          [
           "Florida",
           "#Intentional self-harm (suicide) (*U03,X60-X84,Y87.0)"
          ],
          [
           "Tennessee",
           "#Intentional self-harm (suicide) (*U03,X60-X84,Y87.0)"
          ]
         ],
         "hovertemplate": "Ten-Year Age Groups Code=%{x}<br>Rate=%{y}<br>State=%{customdata[0]}<br>ICD-10 113 Cause List=%{customdata[1]}<extra></extra>",
         "legendgroup": "5-14",
         "marker": {
          "color": "#636efa"
         },
         "name": "5-14",
         "notched": false,
         "offsetgroup": "5-14",
         "orientation": "v",
         "showlegend": true,
         "type": "box",
         "x": [
          "5-14",
          "5-14",
          "5-14",
          "5-14",
          "5-14",
          "5-14",
          "5-14",
          "5-14",
          "5-14",
          "5-14",
          "5-14",
          "5-14",
          "5-14",
          "5-14",
          "5-14",
          "5-14",
          "5-14",
          "5-14",
          "5-14",
          "5-14",
          "5-14",
          "5-14",
          "5-14"
         ],
         "x0": " ",
         "xaxis": "x",
         "y": [
          1.64,
          1.06,
          1.63,
          0.63,
          2.22,
          1.4,
          2.22,
          2.96,
          1.9,
          1.07,
          0.54,
          1.61,
          1.37,
          1.93,
          1.16,
          0.77,
          2.17,
          1.64,
          2.23,
          1.34,
          1.43,
          1.1,
          1.78
         ],
         "y0": " ",
         "yaxis": "y"
        },
        {
         "alignmentgroup": "True",
         "customdata": [
          [
           "Georgia",
           "#Intentional self-harm (suicide) (*U03,X60-X84,Y87.0)"
          ],
          [
           "Virginia",
           "#Intentional self-harm (suicide) (*U03,X60-X84,Y87.0)"
          ],
          [
           "New Jersey",
           "#Intentional self-harm (suicide) (*U03,X60-X84,Y87.0)"
          ],
          [
           "Illinois",
           "#Intentional self-harm (suicide) (*U03,X60-X84,Y87.0)"
          ],
          [
           "Idaho",
           "#Intentional self-harm (suicide) (*U03,X60-X84,Y87.0)"
          ],
          [
           "New York",
           "#Intentional self-harm (suicide) (*U03,X60-X84,Y87.0)"
          ],
          [
           "New Mexico",
           "#Intentional self-harm (suicide) (*U03,X60-X84,Y87.0)"
          ],
          [
           "Hawaii",
           "#Intentional self-harm (suicide) (*U03,X60-X84,Y87.0)"
          ],
          [
           "Pennsylvania",
           "#Intentional self-harm (suicide) (*U03,X60-X84,Y87.0)"
          ],
          [
           "Florida",
           "#Intentional self-harm (suicide) (*U03,X60-X84,Y87.0)"
          ],
          [
           "Washington",
           "#Intentional self-harm (suicide) (*U03,X60-X84,Y87.0)"
          ],
          [
           "Kansas",
           "#Intentional self-harm (suicide) (*U03,X60-X84,Y87.0)"
          ],
          [
           "New Hampshire",
           "#Intentional self-harm (suicide) (*U03,X60-X84,Y87.0)"
          ],
          [
           "Minnesota",
           "#Intentional self-harm (suicide) (*U03,X60-X84,Y87.0)"
          ],
          [
           "Tennessee",
           "#Intentional self-harm (suicide) (*U03,X60-X84,Y87.0)"
          ],
          [
           "Missouri",
           "#Intentional self-harm (suicide) (*U03,X60-X84,Y87.0)"
          ],
          [
           "Michigan",
           "#Intentional self-harm (suicide) (*U03,X60-X84,Y87.0)"
          ],
          [
           "South Dakota",
           "#Intentional self-harm (suicide) (*U03,X60-X84,Y87.0)"
          ],
          [
           "Massachusetts",
           "#Intentional self-harm (suicide) (*U03,X60-X84,Y87.0)"
          ],
          [
           "Montana",
           "#Intentional self-harm (suicide) (*U03,X60-X84,Y87.0)"
          ],
          [
           "Texas",
           "#Intentional self-harm (suicide) (*U03,X60-X84,Y87.0)"
          ],
          [
           "Indiana",
           "#Intentional self-harm (suicide) (*U03,X60-X84,Y87.0)"
          ],
          [
           "Maryland",
           "#Intentional self-harm (suicide) (*U03,X60-X84,Y87.0)"
          ],
          [
           "Nebraska",
           "#Intentional self-harm (suicide) (*U03,X60-X84,Y87.0)"
          ],
          [
           "Louisiana",
           "#Intentional self-harm (suicide) (*U03,X60-X84,Y87.0)"
          ],
          [
           "Utah",
           "#Intentional self-harm (suicide) (*U03,X60-X84,Y87.0)"
          ],
          [
           "Kentucky",
           "#Intentional self-harm (suicide) (*U03,X60-X84,Y87.0)"
          ],
          [
           "South Carolina",
           "#Intentional self-harm (suicide) (*U03,X60-X84,Y87.0)"
          ],
          [
           "Nevada",
           "#Intentional self-harm (suicide) (*U03,X60-X84,Y87.0)"
          ],
          [
           "Vermont",
           "#Intentional self-harm (suicide) (*U03,X60-X84,Y87.0)"
          ],
          [
           "Iowa",
           "#Intentional self-harm (suicide) (*U03,X60-X84,Y87.0)"
          ],
          [
           "Maine",
           "#Intentional self-harm (suicide) (*U03,X60-X84,Y87.0)"
          ],
          [
           "West Virginia",
           "#Intentional self-harm (suicide) (*U03,X60-X84,Y87.0)"
          ],
          [
           "Mississippi",
           "#Intentional self-harm (suicide) (*U03,X60-X84,Y87.0)"
          ],
          [
           "Wisconsin",
           "#Intentional self-harm (suicide) (*U03,X60-X84,Y87.0)"
          ],
          [
           "Arizona",
           "#Intentional self-harm (suicide) (*U03,X60-X84,Y87.0)"
          ],
          [
           "Oklahoma",
           "#Intentional self-harm (suicide) (*U03,X60-X84,Y87.0)"
          ],
          [
           "Colorado",
           "#Intentional self-harm (suicide) (*U03,X60-X84,Y87.0)"
          ],
          [
           "Alaska",
           "#Intentional self-harm (suicide) (*U03,X60-X84,Y87.0)"
          ],
          [
           "North Carolina",
           "#Intentional self-harm (suicide) (*U03,X60-X84,Y87.0)"
          ],
          [
           "Oregon",
           "#Intentional self-harm (suicide) (*U03,X60-X84,Y87.0)"
          ],
          [
           "Connecticut",
           "#Intentional self-harm (suicide) (*U03,X60-X84,Y87.0)"
          ],
          [
           "California",
           "#Intentional self-harm (suicide) (*U03,X60-X84,Y87.0)"
          ],
          [
           "Alabama",
           "#Intentional self-harm (suicide) (*U03,X60-X84,Y87.0)"
          ],
          [
           "Arkansas",
           "#Intentional self-harm (suicide) (*U03,X60-X84,Y87.0)"
          ],
          [
           "Wyoming",
           "#Intentional self-harm (suicide) (*U03,X60-X84,Y87.0)"
          ],
          [
           "Ohio",
           "#Intentional self-harm (suicide) (*U03,X60-X84,Y87.0)"
          ],
          [
           "North Dakota",
           "#Intentional self-harm (suicide) (*U03,X60-X84,Y87.0)"
          ]
         ],
         "hovertemplate": "Ten-Year Age Groups Code=%{x}<br>Rate=%{y}<br>State=%{customdata[0]}<br>ICD-10 113 Cause List=%{customdata[1]}<extra></extra>",
         "legendgroup": "15-24",
         "marker": {
          "color": "#EF553B"
         },
         "name": "15-24",
         "notched": false,
         "offsetgroup": "15-24",
         "orientation": "v",
         "showlegend": true,
         "type": "box",
         "x": [
          "15-24",
          "15-24",
          "15-24",
          "15-24",
          "15-24",
          "15-24",
          "15-24",
          "15-24",
          "15-24",
          "15-24",
          "15-24",
          "15-24",
          "15-24",
          "15-24",
          "15-24",
          "15-24",
          "15-24",
          "15-24",
          "15-24",
          "15-24",
          "15-24",
          "15-24",
          "15-24",
          "15-24",
          "15-24",
          "15-24",
          "15-24",
          "15-24",
          "15-24",
          "15-24",
          "15-24",
          "15-24",
          "15-24",
          "15-24",
          "15-24",
          "15-24",
          "15-24",
          "15-24",
          "15-24",
          "15-24",
          "15-24",
          "15-24",
          "15-24",
          "15-24",
          "15-24",
          "15-24",
          "15-24",
          "15-24"
         ],
         "x0": " ",
         "xaxis": "x",
         "y": [
          13.73,
          14.28,
          7.04,
          10.53,
          21.94,
          9.32,
          29.81,
          13.86,
          11.48,
          11.99,
          16.14,
          20.59,
          16.87,
          15.62,
          15.53,
          20.52,
          13.27,
          36.86,
          7.06,
          36.79,
          15.16,
          12.58,
          10.52,
          15.29,
          16.07,
          26.42,
          14.73,
          16.63,
          17.52,
          12.7,
          17.41,
          17.75,
          17.52,
          13.4,
          14.58,
          15.72,
          22.43,
          25.03,
          56.02,
          12.83,
          21.36,
          9.4,
          9.61,
          14.79,
          21.88,
          28.15,
          14.86,
          17.37
         ],
         "y0": " ",
         "yaxis": "y"
        },
        {
         "alignmentgroup": "True",
         "customdata": [
          [
           "California",
           "#Intentional self-harm (suicide) (*U03,X60-X84,Y87.0)"
          ],
          [
           "Rhode Island",
           "#Intentional self-harm (suicide) (*U03,X60-X84,Y87.0)"
          ],
          [
           "Wisconsin",
           "#Intentional self-harm (suicide) (*U03,X60-X84,Y87.0)"
          ],
          [
           "Oregon",
           "#Intentional self-harm (suicide) (*U03,X60-X84,Y87.0)"
          ],
          [
           "Ohio",
           "#Intentional self-harm (suicide) (*U03,X60-X84,Y87.0)"
          ],
          [
           "Indiana",
           "#Intentional self-harm (suicide) (*U03,X60-X84,Y87.0)"
          ],
          [
           "Montana",
           "#Intentional self-harm (suicide) (*U03,X60-X84,Y87.0)"
          ],
          [
           "New Hampshire",
           "#Intentional self-harm (suicide) (*U03,X60-X84,Y87.0)"
          ],
          [
           "Maryland",
           "#Intentional self-harm (suicide) (*U03,X60-X84,Y87.0)"
          ],
          [
           "Wyoming",
           "#Intentional self-harm (suicide) (*U03,X60-X84,Y87.0)"
          ],
          [
           "New Jersey",
           "#Intentional self-harm (suicide) (*U03,X60-X84,Y87.0)"
          ],
          [
           "Massachusetts",
           "#Intentional self-harm (suicide) (*U03,X60-X84,Y87.0)"
          ],
          [
           "Vermont",
           "#Intentional self-harm (suicide) (*U03,X60-X84,Y87.0)"
          ],
          [
           "North Dakota",
           "#Intentional self-harm (suicide) (*U03,X60-X84,Y87.0)"
          ],
          [
           "Maine",
           "#Intentional self-harm (suicide) (*U03,X60-X84,Y87.0)"
          ],
          [
           "West Virginia",
           "#Intentional self-harm (suicide) (*U03,X60-X84,Y87.0)"
          ],
          [
           "Kansas",
           "#Intentional self-harm (suicide) (*U03,X60-X84,Y87.0)"
          ],
          [
           "Arizona",
           "#Intentional self-harm (suicide) (*U03,X60-X84,Y87.0)"
          ],
          [
           "Nevada",
           "#Intentional self-harm (suicide) (*U03,X60-X84,Y87.0)"
          ],
          [
           "Arkansas",
           "#Intentional self-harm (suicide) (*U03,X60-X84,Y87.0)"
          ],
          [
           "South Carolina",
           "#Intentional self-harm (suicide) (*U03,X60-X84,Y87.0)"
          ],
          [
           "Kentucky",
           "#Intentional self-harm (suicide) (*U03,X60-X84,Y87.0)"
          ],
          [
           "Nebraska",
           "#Intentional self-harm (suicide) (*U03,X60-X84,Y87.0)"
          ],
          [
           "Utah",
           "#Intentional self-harm (suicide) (*U03,X60-X84,Y87.0)"
          ],
          [
           "Iowa",
           "#Intentional self-harm (suicide) (*U03,X60-X84,Y87.0)"
          ],
          [
           "Texas",
           "#Intentional self-harm (suicide) (*U03,X60-X84,Y87.0)"
          ],
          [
           "Illinois",
           "#Intentional self-harm (suicide) (*U03,X60-X84,Y87.0)"
          ],
          [
           "Louisiana",
           "#Intentional self-harm (suicide) (*U03,X60-X84,Y87.0)"
          ],
          [
           "Pennsylvania",
           "#Intentional self-harm (suicide) (*U03,X60-X84,Y87.0)"
          ],
          [
           "Alabama",
           "#Intentional self-harm (suicide) (*U03,X60-X84,Y87.0)"
          ],
          [
           "North Carolina",
           "#Intentional self-harm (suicide) (*U03,X60-X84,Y87.0)"
          ],
          [
           "Connecticut",
           "#Intentional self-harm (suicide) (*U03,X60-X84,Y87.0)"
          ],
          [
           "Georgia",
           "#Intentional self-harm (suicide) (*U03,X60-X84,Y87.0)"
          ],
          [
           "Oklahoma",
           "#Intentional self-harm (suicide) (*U03,X60-X84,Y87.0)"
          ],
          [
           "Virginia",
           "#Intentional self-harm (suicide) (*U03,X60-X84,Y87.0)"
          ],
          [
           "Tennessee",
           "#Intentional self-harm (suicide) (*U03,X60-X84,Y87.0)"
          ],
          [
           "Washington",
           "#Intentional self-harm (suicide) (*U03,X60-X84,Y87.0)"
          ],
          [
           "Colorado",
           "#Intentional self-harm (suicide) (*U03,X60-X84,Y87.0)"
          ],
          [
           "Minnesota",
           "#Intentional self-harm (suicide) (*U03,X60-X84,Y87.0)"
          ],
          [
           "Michigan",
           "#Intentional self-harm (suicide) (*U03,X60-X84,Y87.0)"
          ],
          [
           "Hawaii",
           "#Intentional self-harm (suicide) (*U03,X60-X84,Y87.0)"
          ],
          [
           "New York",
           "#Intentional self-harm (suicide) (*U03,X60-X84,Y87.0)"
          ],
          [
           "New Mexico",
           "#Intentional self-harm (suicide) (*U03,X60-X84,Y87.0)"
          ],
          [
           "Idaho",
           "#Intentional self-harm (suicide) (*U03,X60-X84,Y87.0)"
          ],
          [
           "Missouri",
           "#Intentional self-harm (suicide) (*U03,X60-X84,Y87.0)"
          ],
          [
           "Alaska",
           "#Intentional self-harm (suicide) (*U03,X60-X84,Y87.0)"
          ],
          [
           "Mississippi",
           "#Intentional self-harm (suicide) (*U03,X60-X84,Y87.0)"
          ],
          [
           "Delaware",
           "#Intentional self-harm (suicide) (*U03,X60-X84,Y87.0)"
          ],
          [
           "South Dakota",
           "#Intentional self-harm (suicide) (*U03,X60-X84,Y87.0)"
          ],
          [
           "Florida",
           "#Intentional self-harm (suicide) (*U03,X60-X84,Y87.0)"
          ]
         ],
         "hovertemplate": "Ten-Year Age Groups Code=%{x}<br>Rate=%{y}<br>State=%{customdata[0]}<br>ICD-10 113 Cause List=%{customdata[1]}<extra></extra>",
         "legendgroup": "25-34",
         "marker": {
          "color": "#00cc96"
         },
         "name": "25-34",
         "notched": false,
         "offsetgroup": "25-34",
         "orientation": "v",
         "showlegend": true,
         "type": "box",
         "x": [
          "25-34",
          "25-34",
          "25-34",
          "25-34",
          "25-34",
          "25-34",
          "25-34",
          "25-34",
          "25-34",
          "25-34",
          "25-34",
          "25-34",
          "25-34",
          "25-34",
          "25-34",
          "25-34",
          "25-34",
          "25-34",
          "25-34",
          "25-34",
          "25-34",
          "25-34",
          "25-34",
          "25-34",
          "25-34",
          "25-34",
          "25-34",
          "25-34",
          "25-34",
          "25-34",
          "25-34",
          "25-34",
          "25-34",
          "25-34",
          "25-34",
          "25-34",
          "25-34",
          "25-34",
          "25-34",
          "25-34",
          "25-34",
          "25-34",
          "25-34",
          "25-34",
          "25-34",
          "25-34",
          "25-34",
          "25-34",
          "25-34",
          "25-34"
         ],
         "x0": " ",
         "xaxis": "x",
         "y": [
          12.8,
          16.87,
          16.73,
          25.15,
          19.62,
          20.43,
          35.41,
          27.78,
          13.51,
          31.4,
          9.72,
          10.36,
          28.22,
          26.18,
          25.18,
          27.57,
          27.16,
          25.72,
          25.16,
          23.69,
          21.38,
          21.28,
          16.45,
          25.86,
          26.12,
          16.77,
          13.76,
          15.65,
          17.55,
          19.93,
          15.11,
          15.85,
          19.55,
          25.94,
          16.63,
          20.85,
          17.15,
          29.23,
          19.01,
          19.21,
          24,
          9.55,
          33.79,
          22.41,
          23.25,
          43.37,
          21.33,
          14.72,
          33.03,
          16.25
         ],
         "y0": " ",
         "yaxis": "y"
        },
        {
         "alignmentgroup": "True",
         "customdata": [
          [
           "Oklahoma",
           "#Intentional self-harm (suicide) (*U03,X60-X84,Y87.0)"
          ],
          [
           "Arizona",
           "#Intentional self-harm (suicide) (*U03,X60-X84,Y87.0)"
          ],
          [
           "Louisiana",
           "#Intentional self-harm (suicide) (*U03,X60-X84,Y87.0)"
          ],
          [
           "Minnesota",
           "#Intentional self-harm (suicide) (*U03,X60-X84,Y87.0)"
          ],
          [
           "South Dakota",
           "#Intentional self-harm (suicide) (*U03,X60-X84,Y87.0)"
          ],
          [
           "Mississippi",
           "#Intentional self-harm (suicide) (*U03,X60-X84,Y87.0)"
          ],
          [
           "Massachusetts",
           "#Intentional self-harm (suicide) (*U03,X60-X84,Y87.0)"
          ],
          [
           "Alabama",
           "#Intentional self-harm (suicide) (*U03,X60-X84,Y87.0)"
          ],
          [
           "Texas",
           "#Intentional self-harm (suicide) (*U03,X60-X84,Y87.0)"
          ],
          [
           "Michigan",
           "#Intentional self-harm (suicide) (*U03,X60-X84,Y87.0)"
          ],
          [
           "Maryland",
           "#Intentional self-harm (suicide) (*U03,X60-X84,Y87.0)"
          ],
          [
           "Montana",
           "#Intentional self-harm (suicide) (*U03,X60-X84,Y87.0)"
          ],
          [
           "Wyoming",
           "#Intentional self-harm (suicide) (*U03,X60-X84,Y87.0)"
          ],
          [
           "Tennessee",
           "#Intentional self-harm (suicide) (*U03,X60-X84,Y87.0)"
          ],
          [
           "Missouri",
           "#Intentional self-harm (suicide) (*U03,X60-X84,Y87.0)"
          ],
          [
           "Ohio",
           "#Intentional self-harm (suicide) (*U03,X60-X84,Y87.0)"
          ],
          [
           "Alaska",
           "#Intentional self-harm (suicide) (*U03,X60-X84,Y87.0)"
          ],
          [
           "South Carolina",
           "#Intentional self-harm (suicide) (*U03,X60-X84,Y87.0)"
          ],
          [
           "Maine",
           "#Intentional self-harm (suicide) (*U03,X60-X84,Y87.0)"
          ],
          [
           "North Dakota",
           "#Intentional self-harm (suicide) (*U03,X60-X84,Y87.0)"
          ],
          [
           "New Jersey",
           "#Intentional self-harm (suicide) (*U03,X60-X84,Y87.0)"
          ],
          [
           "Hawaii",
           "#Intentional self-harm (suicide) (*U03,X60-X84,Y87.0)"
          ],
          [
           "New Mexico",
           "#Intentional self-harm (suicide) (*U03,X60-X84,Y87.0)"
          ],
          [
           "Pennsylvania",
           "#Intentional self-harm (suicide) (*U03,X60-X84,Y87.0)"
          ],
          [
           "Georgia",
           "#Intentional self-harm (suicide) (*U03,X60-X84,Y87.0)"
          ],
          [
           "Idaho",
           "#Intentional self-harm (suicide) (*U03,X60-X84,Y87.0)"
          ],
          [
           "North Carolina",
           "#Intentional self-harm (suicide) (*U03,X60-X84,Y87.0)"
          ],
          [
           "Washington",
           "#Intentional self-harm (suicide) (*U03,X60-X84,Y87.0)"
          ],
          [
           "Nebraska",
           "#Intentional self-harm (suicide) (*U03,X60-X84,Y87.0)"
          ],
          [
           "Virginia",
           "#Intentional self-harm (suicide) (*U03,X60-X84,Y87.0)"
          ],
          [
           "Oregon",
           "#Intentional self-harm (suicide) (*U03,X60-X84,Y87.0)"
          ],
          [
           "Illinois",
           "#Intentional self-harm (suicide) (*U03,X60-X84,Y87.0)"
          ],
          [
           "West Virginia",
           "#Intentional self-harm (suicide) (*U03,X60-X84,Y87.0)"
          ],
          [
           "California",
           "#Intentional self-harm (suicide) (*U03,X60-X84,Y87.0)"
          ],
          [
           "Rhode Island",
           "#Intentional self-harm (suicide) (*U03,X60-X84,Y87.0)"
          ],
          [
           "Colorado",
           "#Intentional self-harm (suicide) (*U03,X60-X84,Y87.0)"
          ],
          [
           "Indiana",
           "#Intentional self-harm (suicide) (*U03,X60-X84,Y87.0)"
          ],
          [
           "New Hampshire",
           "#Intentional self-harm (suicide) (*U03,X60-X84,Y87.0)"
          ],
          [
           "Wisconsin",
           "#Intentional self-harm (suicide) (*U03,X60-X84,Y87.0)"
          ],
          [
           "Vermont",
           "#Intentional self-harm (suicide) (*U03,X60-X84,Y87.0)"
          ],
          [
           "Iowa",
           "#Intentional self-harm (suicide) (*U03,X60-X84,Y87.0)"
          ],
          [
           "Connecticut",
           "#Intentional self-harm (suicide) (*U03,X60-X84,Y87.0)"
          ],
          [
           "District of Columbia",
           "#Intentional self-harm (suicide) (*U03,X60-X84,Y87.0)"
          ],
          [
           "New York",
           "#Intentional self-harm (suicide) (*U03,X60-X84,Y87.0)"
          ],
          [
           "Nevada",
           "#Intentional self-harm (suicide) (*U03,X60-X84,Y87.0)"
          ],
          [
           "Kansas",
           "#Intentional self-harm (suicide) (*U03,X60-X84,Y87.0)"
          ],
          [
           "Arkansas",
           "#Intentional self-harm (suicide) (*U03,X60-X84,Y87.0)"
          ],
          [
           "Utah",
           "#Intentional self-harm (suicide) (*U03,X60-X84,Y87.0)"
          ],
          [
           "Delaware",
           "#Intentional self-harm (suicide) (*U03,X60-X84,Y87.0)"
          ],
          [
           "Kentucky",
           "#Intentional self-harm (suicide) (*U03,X60-X84,Y87.0)"
          ],
          [
           "Florida",
           "#Intentional self-harm (suicide) (*U03,X60-X84,Y87.0)"
          ]
         ],
         "hovertemplate": "Ten-Year Age Groups Code=%{x}<br>Rate=%{y}<br>State=%{customdata[0]}<br>ICD-10 113 Cause List=%{customdata[1]}<extra></extra>",
         "legendgroup": "35-44",
         "marker": {
          "color": "#ab63fa"
         },
         "name": "35-44",
         "notched": false,
         "offsetgroup": "35-44",
         "orientation": "v",
         "showlegend": true,
         "type": "box",
         "x": [
          "35-44",
          "35-44",
          "35-44",
          "35-44",
          "35-44",
          "35-44",
          "35-44",
          "35-44",
          "35-44",
          "35-44",
          "35-44",
          "35-44",
          "35-44",
          "35-44",
          "35-44",
          "35-44",
          "35-44",
          "35-44",
          "35-44",
          "35-44",
          "35-44",
          "35-44",
          "35-44",
          "35-44",
          "35-44",
          "35-44",
          "35-44",
          "35-44",
          "35-44",
          "35-44",
          "35-44",
          "35-44",
          "35-44",
          "35-44",
          "35-44",
          "35-44",
          "35-44",
          "35-44",
          "35-44",
          "35-44",
          "35-44",
          "35-44",
          "35-44",
          "35-44",
          "35-44",
          "35-44",
          "35-44",
          "35-44",
          "35-44",
          "35-44",
          "35-44"
         ],
         "x0": " ",
         "xaxis": "x",
         "y": [
          28.92,
          20.98,
          21.53,
          18.74,
          21.73,
          21.33,
          11.55,
          26.46,
          16.89,
          18.61,
          12.4,
          30.05,
          43.08,
          24.66,
          25.34,
          21.75,
          31.33,
          22.08,
          25.96,
          21.6,
          10.37,
          19.8,
          29.43,
          19.16,
          19.33,
          28.61,
          17.34,
          19.16,
          25.5,
          15.1,
          22.86,
          13.99,
          34.14,
          12.57,
          12.77,
          28.69,
          18.46,
          20.45,
          18.79,
          18.24,
          22.84,
          12.64,
          9.18,
          10.62,
          21.19,
          29.36,
          22.96,
          31.57,
          17.68,
          26.68,
          16.15
         ],
         "y0": " ",
         "yaxis": "y"
        },
        {
         "alignmentgroup": "True",
         "customdata": [
          [
           "Mississippi",
           "#Intentional self-harm (suicide) (*U03,X60-X84,Y87.0)"
          ],
          [
           "New Mexico",
           "#Intentional self-harm (suicide) (*U03,X60-X84,Y87.0)"
          ],
          [
           "Nebraska",
           "#Intentional self-harm (suicide) (*U03,X60-X84,Y87.0)"
          ],
          [
           "Pennsylvania",
           "#Intentional self-harm (suicide) (*U03,X60-X84,Y87.0)"
          ],
          [
           "Oregon",
           "#Intentional self-harm (suicide) (*U03,X60-X84,Y87.0)"
          ],
          [
           "New Jersey",
           "#Intentional self-harm (suicide) (*U03,X60-X84,Y87.0)"
          ],
          [
           "Missouri",
           "#Intentional self-harm (suicide) (*U03,X60-X84,Y87.0)"
          ],
          [
           "Ohio",
           "#Intentional self-harm (suicide) (*U03,X60-X84,Y87.0)"
          ],
          [
           "New Hampshire",
           "#Intentional self-harm (suicide) (*U03,X60-X84,Y87.0)"
          ],
          [
           "Rhode Island",
           "#Intentional self-harm (suicide) (*U03,X60-X84,Y87.0)"
          ],
          [
           "Montana",
           "#Intentional self-harm (suicide) (*U03,X60-X84,Y87.0)"
          ],
          [
           "South Carolina",
           "#Intentional self-harm (suicide) (*U03,X60-X84,Y87.0)"
          ],
          [
           "Nevada",
           "#Intentional self-harm (suicide) (*U03,X60-X84,Y87.0)"
          ],
          [
           "North Dakota",
           "#Intentional self-harm (suicide) (*U03,X60-X84,Y87.0)"
          ],
          [
           "North Carolina",
           "#Intentional self-harm (suicide) (*U03,X60-X84,Y87.0)"
          ],
          [
           "New York",
           "#Intentional self-harm (suicide) (*U03,X60-X84,Y87.0)"
          ],
          [
           "Oklahoma",
           "#Intentional self-harm (suicide) (*U03,X60-X84,Y87.0)"
          ],
          [
           "Utah",
           "#Intentional self-harm (suicide) (*U03,X60-X84,Y87.0)"
          ],
          [
           "California",
           "#Intentional self-harm (suicide) (*U03,X60-X84,Y87.0)"
          ],
          [
           "Kentucky",
           "#Intentional self-harm (suicide) (*U03,X60-X84,Y87.0)"
          ],
          [
           "Colorado",
           "#Intentional self-harm (suicide) (*U03,X60-X84,Y87.0)"
          ],
          [
           "Kansas",
           "#Intentional self-harm (suicide) (*U03,X60-X84,Y87.0)"
          ],
          [
           "West Virginia",
           "#Intentional self-harm (suicide) (*U03,X60-X84,Y87.0)"
          ],
          [
           "Connecticut",
           "#Intentional self-harm (suicide) (*U03,X60-X84,Y87.0)"
          ],
          [
           "Iowa",
           "#Intentional self-harm (suicide) (*U03,X60-X84,Y87.0)"
          ],
          [
           "Vermont",
           "#Intentional self-harm (suicide) (*U03,X60-X84,Y87.0)"
          ],
          [
           "Indiana",
           "#Intentional self-harm (suicide) (*U03,X60-X84,Y87.0)"
          ],
          [
           "Delaware",
           "#Intentional self-harm (suicide) (*U03,X60-X84,Y87.0)"
          ],
          [
           "Florida",
           "#Intentional self-harm (suicide) (*U03,X60-X84,Y87.0)"
          ],
          [
           "Illinois",
           "#Intentional self-harm (suicide) (*U03,X60-X84,Y87.0)"
          ],
          [
           "Virginia",
           "#Intentional self-harm (suicide) (*U03,X60-X84,Y87.0)"
          ],
          [
           "Idaho",
           "#Intentional self-harm (suicide) (*U03,X60-X84,Y87.0)"
          ],
          [
           "South Dakota",
           "#Intentional self-harm (suicide) (*U03,X60-X84,Y87.0)"
          ],
          [
           "Washington",
           "#Intentional self-harm (suicide) (*U03,X60-X84,Y87.0)"
          ],
          [
           "Georgia",
           "#Intentional self-harm (suicide) (*U03,X60-X84,Y87.0)"
          ],
          [
           "Louisiana",
           "#Intentional self-harm (suicide) (*U03,X60-X84,Y87.0)"
          ],
          [
           "Wisconsin",
           "#Intentional self-harm (suicide) (*U03,X60-X84,Y87.0)"
          ],
          [
           "Hawaii",
           "#Intentional self-harm (suicide) (*U03,X60-X84,Y87.0)"
          ],
          [
           "Alaska",
           "#Intentional self-harm (suicide) (*U03,X60-X84,Y87.0)"
          ],
          [
           "Texas",
           "#Intentional self-harm (suicide) (*U03,X60-X84,Y87.0)"
          ],
          [
           "Massachusetts",
           "#Intentional self-harm (suicide) (*U03,X60-X84,Y87.0)"
          ],
          [
           "Tennessee",
           "#Intentional self-harm (suicide) (*U03,X60-X84,Y87.0)"
          ],
          [
           "Michigan",
           "#Intentional self-harm (suicide) (*U03,X60-X84,Y87.0)"
          ],
          [
           "Arizona",
           "#Intentional self-harm (suicide) (*U03,X60-X84,Y87.0)"
          ],
          [
           "Minnesota",
           "#Intentional self-harm (suicide) (*U03,X60-X84,Y87.0)"
          ],
          [
           "Alabama",
           "#Intentional self-harm (suicide) (*U03,X60-X84,Y87.0)"
          ],
          [
           "Maryland",
           "#Intentional self-harm (suicide) (*U03,X60-X84,Y87.0)"
          ],
          [
           "Arkansas",
           "#Intentional self-harm (suicide) (*U03,X60-X84,Y87.0)"
          ],
          [
           "Maine",
           "#Intentional self-harm (suicide) (*U03,X60-X84,Y87.0)"
          ],
          [
           "Wyoming",
           "#Intentional self-harm (suicide) (*U03,X60-X84,Y87.0)"
          ]
         ],
         "hovertemplate": "Ten-Year Age Groups Code=%{x}<br>Rate=%{y}<br>State=%{customdata[0]}<br>ICD-10 113 Cause List=%{customdata[1]}<extra></extra>",
         "legendgroup": "45-54",
         "marker": {
          "color": "#FFA15A"
         },
         "name": "45-54",
         "notched": false,
         "offsetgroup": "45-54",
         "orientation": "v",
         "showlegend": true,
         "type": "box",
         "x": [
          "45-54",
          "45-54",
          "45-54",
          "45-54",
          "45-54",
          "45-54",
          "45-54",
          "45-54",
          "45-54",
          "45-54",
          "45-54",
          "45-54",
          "45-54",
          "45-54",
          "45-54",
          "45-54",
          "45-54",
          "45-54",
          "45-54",
          "45-54",
          "45-54",
          "45-54",
          "45-54",
          "45-54",
          "45-54",
          "45-54",
          "45-54",
          "45-54",
          "45-54",
          "45-54",
          "45-54",
          "45-54",
          "45-54",
          "45-54",
          "45-54",
          "45-54",
          "45-54",
          "45-54",
          "45-54",
          "45-54",
          "45-54",
          "45-54",
          "45-54",
          "45-54",
          "45-54",
          "45-54",
          "45-54",
          "45-54",
          "45-54",
          "45-54"
         ],
         "x0": " ",
         "xaxis": "x",
         "y": [
          15.47,
          30.55,
          25.95,
          21.51,
          32.54,
          11.74,
          25.79,
          20.93,
          23.46,
          19.24,
          33.96,
          22.48,
          26.89,
          31.97,
          17.3,
          11.93,
          27.34,
          28.01,
          14.72,
          21.11,
          29.46,
          20.12,
          19.19,
          19.29,
          22.34,
          17.94,
          20.02,
          21.03,
          22.66,
          15.88,
          16.81,
          24.29,
          27.41,
          24.14,
          21.22,
          23.71,
          20.27,
          25.04,
          30.54,
          17.36,
          13.65,
          23.18,
          20.96,
          27.7,
          21.39,
          22.22,
          13.95,
          25.17,
          33.77,
          42.28
         ],
         "y0": " ",
         "yaxis": "y"
        },
        {
         "alignmentgroup": "True",
         "customdata": [
          [
           "Washington",
           "#Intentional self-harm (suicide) (*U03,X60-X84,Y87.0)"
          ],
          [
           "Wyoming",
           "#Intentional self-harm (suicide) (*U03,X60-X84,Y87.0)"
          ],
          [
           "Delaware",
           "#Intentional self-harm (suicide) (*U03,X60-X84,Y87.0)"
          ],
          [
           "Florida",
           "#Intentional self-harm (suicide) (*U03,X60-X84,Y87.0)"
          ],
          [
           "Oklahoma",
           "#Intentional self-harm (suicide) (*U03,X60-X84,Y87.0)"
          ],
          [
           "New Mexico",
           "#Intentional self-harm (suicide) (*U03,X60-X84,Y87.0)"
          ],
          [
           "Alabama",
           "#Intentional self-harm (suicide) (*U03,X60-X84,Y87.0)"
          ],
          [
           "Arkansas",
           "#Intentional self-harm (suicide) (*U03,X60-X84,Y87.0)"
          ],
          [
           "New York",
           "#Intentional self-harm (suicide) (*U03,X60-X84,Y87.0)"
          ],
          [
           "Connecticut",
           "#Intentional self-harm (suicide) (*U03,X60-X84,Y87.0)"
          ],
          [
           "Oregon",
           "#Intentional self-harm (suicide) (*U03,X60-X84,Y87.0)"
          ],
          [
           "Alaska",
           "#Intentional self-harm (suicide) (*U03,X60-X84,Y87.0)"
          ],
          [
           "West Virginia",
           "#Intentional self-harm (suicide) (*U03,X60-X84,Y87.0)"
          ],
          [
           "Colorado",
           "#Intentional self-harm (suicide) (*U03,X60-X84,Y87.0)"
          ],
          [
           "Arizona",
           "#Intentional self-harm (suicide) (*U03,X60-X84,Y87.0)"
          ],
          [
           "North Dakota",
           "#Intentional self-harm (suicide) (*U03,X60-X84,Y87.0)"
          ],
          [
           "North Carolina",
           "#Intentional self-harm (suicide) (*U03,X60-X84,Y87.0)"
          ],
          [
           "Georgia",
           "#Intentional self-harm (suicide) (*U03,X60-X84,Y87.0)"
          ],
          [
           "California",
           "#Intentional self-harm (suicide) (*U03,X60-X84,Y87.0)"
          ],
          [
           "Wisconsin",
           "#Intentional self-harm (suicide) (*U03,X60-X84,Y87.0)"
          ],
          [
           "Ohio",
           "#Intentional self-harm (suicide) (*U03,X60-X84,Y87.0)"
          ],
          [
           "South Dakota",
           "#Intentional self-harm (suicide) (*U03,X60-X84,Y87.0)"
          ],
          [
           "New Jersey",
           "#Intentional self-harm (suicide) (*U03,X60-X84,Y87.0)"
          ],
          [
           "Nebraska",
           "#Intentional self-harm (suicide) (*U03,X60-X84,Y87.0)"
          ],
          [
           "Mississippi",
           "#Intentional self-harm (suicide) (*U03,X60-X84,Y87.0)"
          ],
          [
           "Minnesota",
           "#Intentional self-harm (suicide) (*U03,X60-X84,Y87.0)"
          ],
          [
           "Michigan",
           "#Intentional self-harm (suicide) (*U03,X60-X84,Y87.0)"
          ],
          [
           "Tennessee",
           "#Intentional self-harm (suicide) (*U03,X60-X84,Y87.0)"
          ],
          [
           "Massachusetts",
           "#Intentional self-harm (suicide) (*U03,X60-X84,Y87.0)"
          ],
          [
           "Missouri",
           "#Intentional self-harm (suicide) (*U03,X60-X84,Y87.0)"
          ],
          [
           "South Carolina",
           "#Intentional self-harm (suicide) (*U03,X60-X84,Y87.0)"
          ],
          [
           "Maryland",
           "#Intentional self-harm (suicide) (*U03,X60-X84,Y87.0)"
          ],
          [
           "Maine",
           "#Intentional self-harm (suicide) (*U03,X60-X84,Y87.0)"
          ],
          [
           "Montana",
           "#Intentional self-harm (suicide) (*U03,X60-X84,Y87.0)"
          ],
          [
           "Texas",
           "#Intentional self-harm (suicide) (*U03,X60-X84,Y87.0)"
          ],
          [
           "Kentucky",
           "#Intentional self-harm (suicide) (*U03,X60-X84,Y87.0)"
          ],
          [
           "Hawaii",
           "#Intentional self-harm (suicide) (*U03,X60-X84,Y87.0)"
          ],
          [
           "Utah",
           "#Intentional self-harm (suicide) (*U03,X60-X84,Y87.0)"
          ],
          [
           "Kansas",
           "#Intentional self-harm (suicide) (*U03,X60-X84,Y87.0)"
          ],
          [
           "Louisiana",
           "#Intentional self-harm (suicide) (*U03,X60-X84,Y87.0)"
          ],
          [
           "Iowa",
           "#Intentional self-harm (suicide) (*U03,X60-X84,Y87.0)"
          ],
          [
           "Nevada",
           "#Intentional self-harm (suicide) (*U03,X60-X84,Y87.0)"
          ],
          [
           "Virginia",
           "#Intentional self-harm (suicide) (*U03,X60-X84,Y87.0)"
          ],
          [
           "Rhode Island",
           "#Intentional self-harm (suicide) (*U03,X60-X84,Y87.0)"
          ],
          [
           "Pennsylvania",
           "#Intentional self-harm (suicide) (*U03,X60-X84,Y87.0)"
          ],
          [
           "Vermont",
           "#Intentional self-harm (suicide) (*U03,X60-X84,Y87.0)"
          ],
          [
           "Indiana",
           "#Intentional self-harm (suicide) (*U03,X60-X84,Y87.0)"
          ],
          [
           "Idaho",
           "#Intentional self-harm (suicide) (*U03,X60-X84,Y87.0)"
          ],
          [
           "Illinois",
           "#Intentional self-harm (suicide) (*U03,X60-X84,Y87.0)"
          ],
          [
           "New Hampshire",
           "#Intentional self-harm (suicide) (*U03,X60-X84,Y87.0)"
          ]
         ],
         "hovertemplate": "Ten-Year Age Groups Code=%{x}<br>Rate=%{y}<br>State=%{customdata[0]}<br>ICD-10 113 Cause List=%{customdata[1]}<extra></extra>",
         "legendgroup": "55-64",
         "marker": {
          "color": "#19d3f3"
         },
         "name": "55-64",
         "notched": false,
         "offsetgroup": "55-64",
         "orientation": "v",
         "showlegend": true,
         "type": "box",
         "x": [
          "55-64",
          "55-64",
          "55-64",
          "55-64",
          "55-64",
          "55-64",
          "55-64",
          "55-64",
          "55-64",
          "55-64",
          "55-64",
          "55-64",
          "55-64",
          "55-64",
          "55-64",
          "55-64",
          "55-64",
          "55-64",
          "55-64",
          "55-64",
          "55-64",
          "55-64",
          "55-64",
          "55-64",
          "55-64",
          "55-64",
          "55-64",
          "55-64",
          "55-64",
          "55-64",
          "55-64",
          "55-64",
          "55-64",
          "55-64",
          "55-64",
          "55-64",
          "55-64",
          "55-64",
          "55-64",
          "55-64",
          "55-64",
          "55-64",
          "55-64",
          "55-64",
          "55-64",
          "55-64",
          "55-64",
          "55-64",
          "55-64",
          "55-64"
         ],
         "x0": " ",
         "xaxis": "x",
         "y": [
          23.34,
          34.28,
          15.97,
          25.22,
          26.94,
          28.58,
          18.09,
          24.35,
          12.63,
          17.72,
          25.61,
          27.86,
          18.84,
          29.03,
          25.66,
          24.5,
          15.86,
          17.82,
          16.96,
          18.83,
          18.45,
          21.28,
          14.22,
          23.53,
          20.99,
          20.89,
          19.01,
          22.47,
          16.65,
          24.68,
          19.73,
          15.39,
          19.85,
          29.33,
          17.89,
          23.73,
          14.51,
          30.35,
          17.77,
          20.01,
          22.13,
          27.64,
          17.14,
          20.72,
          19,
          23.07,
          17.71,
          24.73,
          15.74,
          21.93
         ],
         "y0": " ",
         "yaxis": "y"
        },
        {
         "alignmentgroup": "True",
         "customdata": [
          [
           "South Dakota",
           "#Intentional self-harm (suicide) (*U03,X60-X84,Y87.0)"
          ],
          [
           "Pennsylvania",
           "#Intentional self-harm (suicide) (*U03,X60-X84,Y87.0)"
          ],
          [
           "Oklahoma",
           "#Intentional self-harm (suicide) (*U03,X60-X84,Y87.0)"
          ],
          [
           "Vermont",
           "#Intentional self-harm (suicide) (*U03,X60-X84,Y87.0)"
          ],
          [
           "Tennessee",
           "#Intentional self-harm (suicide) (*U03,X60-X84,Y87.0)"
          ],
          [
           "Utah",
           "#Intentional self-harm (suicide) (*U03,X60-X84,Y87.0)"
          ],
          [
           "Wisconsin",
           "#Intentional self-harm (suicide) (*U03,X60-X84,Y87.0)"
          ],
          [
           "Washington",
           "#Intentional self-harm (suicide) (*U03,X60-X84,Y87.0)"
          ],
          [
           "Oregon",
           "#Intentional self-harm (suicide) (*U03,X60-X84,Y87.0)"
          ],
          [
           "Texas",
           "#Intentional self-harm (suicide) (*U03,X60-X84,Y87.0)"
          ],
          [
           "Rhode Island",
           "#Intentional self-harm (suicide) (*U03,X60-X84,Y87.0)"
          ],
          [
           "West Virginia",
           "#Intentional self-harm (suicide) (*U03,X60-X84,Y87.0)"
          ],
          [
           "South Carolina",
           "#Intentional self-harm (suicide) (*U03,X60-X84,Y87.0)"
          ],
          [
           "Virginia",
           "#Intentional self-harm (suicide) (*U03,X60-X84,Y87.0)"
          ],
          [
           "Missouri",
           "#Intentional self-harm (suicide) (*U03,X60-X84,Y87.0)"
          ],
          [
           "Louisiana",
           "#Intentional self-harm (suicide) (*U03,X60-X84,Y87.0)"
          ],
          [
           "Nevada",
           "#Intentional self-harm (suicide) (*U03,X60-X84,Y87.0)"
          ],
          [
           "Georgia",
           "#Intentional self-harm (suicide) (*U03,X60-X84,Y87.0)"
          ],
          [
           "Maine",
           "#Intentional self-harm (suicide) (*U03,X60-X84,Y87.0)"
          ],
          [
           "Montana",
           "#Intentional self-harm (suicide) (*U03,X60-X84,Y87.0)"
          ],
          [
           "Hawaii",
           "#Intentional self-harm (suicide) (*U03,X60-X84,Y87.0)"
          ],
          [
           "Idaho",
           "#Intentional self-harm (suicide) (*U03,X60-X84,Y87.0)"
          ],
          [
           "Wyoming",
           "#Intentional self-harm (suicide) (*U03,X60-X84,Y87.0)"
          ],
          [
           "Illinois",
           "#Intentional self-harm (suicide) (*U03,X60-X84,Y87.0)"
          ],
          [
           "Mississippi",
           "#Intentional self-harm (suicide) (*U03,X60-X84,Y87.0)"
          ],
          [
           "Indiana",
           "#Intentional self-harm (suicide) (*U03,X60-X84,Y87.0)"
          ],
          [
           "Minnesota",
           "#Intentional self-harm (suicide) (*U03,X60-X84,Y87.0)"
          ],
          [
           "Iowa",
           "#Intentional self-harm (suicide) (*U03,X60-X84,Y87.0)"
          ],
          [
           "Michigan",
           "#Intentional self-harm (suicide) (*U03,X60-X84,Y87.0)"
          ],
          [
           "Massachusetts",
           "#Intentional self-harm (suicide) (*U03,X60-X84,Y87.0)"
          ],
          [
           "Kansas",
           "#Intentional self-harm (suicide) (*U03,X60-X84,Y87.0)"
          ],
          [
           "Kentucky",
           "#Intentional self-harm (suicide) (*U03,X60-X84,Y87.0)"
          ],
          [
           "Maryland",
           "#Intentional self-harm (suicide) (*U03,X60-X84,Y87.0)"
          ],
          [
           "Florida",
           "#Intentional self-harm (suicide) (*U03,X60-X84,Y87.0)"
          ],
          [
           "New Hampshire",
           "#Intentional self-harm (suicide) (*U03,X60-X84,Y87.0)"
          ],
          [
           "Nebraska",
           "#Intentional self-harm (suicide) (*U03,X60-X84,Y87.0)"
          ],
          [
           "Connecticut",
           "#Intentional self-harm (suicide) (*U03,X60-X84,Y87.0)"
          ],
          [
           "Alabama",
           "#Intentional self-harm (suicide) (*U03,X60-X84,Y87.0)"
          ],
          [
           "Ohio",
           "#Intentional self-harm (suicide) (*U03,X60-X84,Y87.0)"
          ],
          [
           "Alaska",
           "#Intentional self-harm (suicide) (*U03,X60-X84,Y87.0)"
          ],
          [
           "Arizona",
           "#Intentional self-harm (suicide) (*U03,X60-X84,Y87.0)"
          ],
          [
           "North Carolina",
           "#Intentional self-harm (suicide) (*U03,X60-X84,Y87.0)"
          ],
          [
           "New York",
           "#Intentional self-harm (suicide) (*U03,X60-X84,Y87.0)"
          ],
          [
           "California",
           "#Intentional self-harm (suicide) (*U03,X60-X84,Y87.0)"
          ],
          [
           "New Mexico",
           "#Intentional self-harm (suicide) (*U03,X60-X84,Y87.0)"
          ],
          [
           "Arkansas",
           "#Intentional self-harm (suicide) (*U03,X60-X84,Y87.0)"
          ],
          [
           "Colorado",
           "#Intentional self-harm (suicide) (*U03,X60-X84,Y87.0)"
          ],
          [
           "New Jersey",
           "#Intentional self-harm (suicide) (*U03,X60-X84,Y87.0)"
          ]
         ],
         "hovertemplate": "Ten-Year Age Groups Code=%{x}<br>Rate=%{y}<br>State=%{customdata[0]}<br>ICD-10 113 Cause List=%{customdata[1]}<extra></extra>",
         "legendgroup": "65-74",
         "marker": {
          "color": "#FF6692"
         },
         "name": "65-74",
         "notched": false,
         "offsetgroup": "65-74",
         "orientation": "v",
         "showlegend": true,
         "type": "box",
         "x": [
          "65-74",
          "65-74",
          "65-74",
          "65-74",
          "65-74",
          "65-74",
          "65-74",
          "65-74",
          "65-74",
          "65-74",
          "65-74",
          "65-74",
          "65-74",
          "65-74",
          "65-74",
          "65-74",
          "65-74",
          "65-74",
          "65-74",
          "65-74",
          "65-74",
          "65-74",
          "65-74",
          "65-74",
          "65-74",
          "65-74",
          "65-74",
          "65-74",
          "65-74",
          "65-74",
          "65-74",
          "65-74",
          "65-74",
          "65-74",
          "65-74",
          "65-74",
          "65-74",
          "65-74",
          "65-74",
          "65-74",
          "65-74",
          "65-74",
          "65-74",
          "65-74",
          "65-74",
          "65-74",
          "65-74",
          "65-74"
         ],
         "x0": " ",
         "xaxis": "x",
         "y": [
          19.05,
          15.88,
          22.82,
          23.93,
          21.43,
          13.21,
          16.14,
          18.9,
          23.68,
          16.04,
          9.42,
          15.18,
          15.07,
          12.59,
          15.73,
          15.14,
          26.7,
          17.28,
          21.88,
          28.89,
          17.09,
          22.18,
          26.41,
          12.92,
          13.5,
          15.71,
          13.75,
          13.16,
          13.01,
          9.06,
          17.63,
          18.98,
          12.11,
          18.33,
          19,
          16.77,
          11.34,
          16.75,
          15.14,
          19.58,
          20.75,
          14.14,
          9.09,
          13.73,
          22.27,
          14.86,
          19.73,
          8.88
         ],
         "y0": " ",
         "yaxis": "y"
        },
        {
         "alignmentgroup": "True",
         "customdata": [
          [
           "Texas",
           "#Intentional self-harm (suicide) (*U03,X60-X84,Y87.0)"
          ],
          [
           "Washington",
           "#Intentional self-harm (suicide) (*U03,X60-X84,Y87.0)"
          ],
          [
           "Kentucky",
           "#Intentional self-harm (suicide) (*U03,X60-X84,Y87.0)"
          ],
          [
           "Alabama",
           "#Intentional self-harm (suicide) (*U03,X60-X84,Y87.0)"
          ],
          [
           "Kansas",
           "#Intentional self-harm (suicide) (*U03,X60-X84,Y87.0)"
          ],
          [
           "Colorado",
           "#Intentional self-harm (suicide) (*U03,X60-X84,Y87.0)"
          ],
          [
           "Utah",
           "#Intentional self-harm (suicide) (*U03,X60-X84,Y87.0)"
          ],
          [
           "Iowa",
           "#Intentional self-harm (suicide) (*U03,X60-X84,Y87.0)"
          ],
          [
           "Florida",
           "#Intentional self-harm (suicide) (*U03,X60-X84,Y87.0)"
          ],
          [
           "California",
           "#Intentional self-harm (suicide) (*U03,X60-X84,Y87.0)"
          ],
          [
           "Indiana",
           "#Intentional self-harm (suicide) (*U03,X60-X84,Y87.0)"
          ],
          [
           "Wisconsin",
           "#Intentional self-harm (suicide) (*U03,X60-X84,Y87.0)"
          ],
          [
           "Arizona",
           "#Intentional self-harm (suicide) (*U03,X60-X84,Y87.0)"
          ],
          [
           "Illinois",
           "#Intentional self-harm (suicide) (*U03,X60-X84,Y87.0)"
          ],
          [
           "Connecticut",
           "#Intentional self-harm (suicide) (*U03,X60-X84,Y87.0)"
          ],
          [
           "Arkansas",
           "#Intentional self-harm (suicide) (*U03,X60-X84,Y87.0)"
          ],
          [
           "West Virginia",
           "#Intentional self-harm (suicide) (*U03,X60-X84,Y87.0)"
          ],
          [
           "Idaho",
           "#Intentional self-harm (suicide) (*U03,X60-X84,Y87.0)"
          ],
          [
           "Georgia",
           "#Intentional self-harm (suicide) (*U03,X60-X84,Y87.0)"
          ],
          [
           "Hawaii",
           "#Intentional self-harm (suicide) (*U03,X60-X84,Y87.0)"
          ],
          [
           "Virginia",
           "#Intentional self-harm (suicide) (*U03,X60-X84,Y87.0)"
          ],
          [
           "Louisiana",
           "#Intentional self-harm (suicide) (*U03,X60-X84,Y87.0)"
          ],
          [
           "Ohio",
           "#Intentional self-harm (suicide) (*U03,X60-X84,Y87.0)"
          ],
          [
           "Nebraska",
           "#Intentional self-harm (suicide) (*U03,X60-X84,Y87.0)"
          ],
          [
           "Oklahoma",
           "#Intentional self-harm (suicide) (*U03,X60-X84,Y87.0)"
          ],
          [
           "North Carolina",
           "#Intentional self-harm (suicide) (*U03,X60-X84,Y87.0)"
          ],
          [
           "New York",
           "#Intentional self-harm (suicide) (*U03,X60-X84,Y87.0)"
          ],
          [
           "Oregon",
           "#Intentional self-harm (suicide) (*U03,X60-X84,Y87.0)"
          ],
          [
           "New Mexico",
           "#Intentional self-harm (suicide) (*U03,X60-X84,Y87.0)"
          ],
          [
           "New Jersey",
           "#Intentional self-harm (suicide) (*U03,X60-X84,Y87.0)"
          ],
          [
           "Pennsylvania",
           "#Intentional self-harm (suicide) (*U03,X60-X84,Y87.0)"
          ],
          [
           "New Hampshire",
           "#Intentional self-harm (suicide) (*U03,X60-X84,Y87.0)"
          ],
          [
           "Nevada",
           "#Intentional self-harm (suicide) (*U03,X60-X84,Y87.0)"
          ],
          [
           "Rhode Island",
           "#Intentional self-harm (suicide) (*U03,X60-X84,Y87.0)"
          ],
          [
           "Montana",
           "#Intentional self-harm (suicide) (*U03,X60-X84,Y87.0)"
          ],
          [
           "Missouri",
           "#Intentional self-harm (suicide) (*U03,X60-X84,Y87.0)"
          ],
          [
           "South Carolina",
           "#Intentional self-harm (suicide) (*U03,X60-X84,Y87.0)"
          ],
          [
           "Mississippi",
           "#Intentional self-harm (suicide) (*U03,X60-X84,Y87.0)"
          ],
          [
           "Wyoming",
           "#Intentional self-harm (suicide) (*U03,X60-X84,Y87.0)"
          ],
          [
           "Tennessee",
           "#Intentional self-harm (suicide) (*U03,X60-X84,Y87.0)"
          ],
          [
           "Maine",
           "#Intentional self-harm (suicide) (*U03,X60-X84,Y87.0)"
          ],
          [
           "Michigan",
           "#Intentional self-harm (suicide) (*U03,X60-X84,Y87.0)"
          ],
          [
           "Massachusetts",
           "#Intentional self-harm (suicide) (*U03,X60-X84,Y87.0)"
          ],
          [
           "Minnesota",
           "#Intentional self-harm (suicide) (*U03,X60-X84,Y87.0)"
          ],
          [
           "Maryland",
           "#Intentional self-harm (suicide) (*U03,X60-X84,Y87.0)"
          ]
         ],
         "hovertemplate": "Ten-Year Age Groups Code=%{x}<br>Rate=%{y}<br>State=%{customdata[0]}<br>ICD-10 113 Cause List=%{customdata[1]}<extra></extra>",
         "legendgroup": "75-84",
         "marker": {
          "color": "#B6E880"
         },
         "name": "75-84",
         "notched": false,
         "offsetgroup": "75-84",
         "orientation": "v",
         "showlegend": true,
         "type": "box",
         "x": [
          "75-84",
          "75-84",
          "75-84",
          "75-84",
          "75-84",
          "75-84",
          "75-84",
          "75-84",
          "75-84",
          "75-84",
          "75-84",
          "75-84",
          "75-84",
          "75-84",
          "75-84",
          "75-84",
          "75-84",
          "75-84",
          "75-84",
          "75-84",
          "75-84",
          "75-84",
          "75-84",
          "75-84",
          "75-84",
          "75-84",
          "75-84",
          "75-84",
          "75-84",
          "75-84",
          "75-84",
          "75-84",
          "75-84",
          "75-84",
          "75-84",
          "75-84",
          "75-84",
          "75-84",
          "75-84",
          "75-84",
          "75-84",
          "75-84",
          "75-84",
          "75-84",
          "75-84"
         ],
         "x0": " ",
         "xaxis": "x",
         "y": [
          17.67,
          25.62,
          14.49,
          19.86,
          16.72,
          29.95,
          23.18,
          16.58,
          21.44,
          17.69,
          17.3,
          16.32,
          30.4,
          13,
          15.58,
          19.86,
          20.08,
          38.81,
          19.32,
          18.74,
          23.87,
          17.1,
          19.47,
          13.26,
          19.7,
          17.28,
          9.12,
          25.81,
          27.75,
          8.19,
          18.1,
          25.37,
          39.24,
          18.74,
          32.23,
          20.1,
          22.54,
          20.63,
          47.1,
          26.75,
          24.28,
          19.62,
          8.02,
          13.5,
          12.57
         ],
         "y0": " ",
         "yaxis": "y"
        },
        {
         "alignmentgroup": "True",
         "customdata": [
          [
           "Kansas",
           "#Intentional self-harm (suicide) (*U03,X60-X84,Y87.0)"
          ],
          [
           "California",
           "#Intentional self-harm (suicide) (*U03,X60-X84,Y87.0)"
          ],
          [
           "New Jersey",
           "#Intentional self-harm (suicide) (*U03,X60-X84,Y87.0)"
          ],
          [
           "Tennessee",
           "#Intentional self-harm (suicide) (*U03,X60-X84,Y87.0)"
          ],
          [
           "New Mexico",
           "#Intentional self-harm (suicide) (*U03,X60-X84,Y87.0)"
          ],
          [
           "Arkansas",
           "#Intentional self-harm (suicide) (*U03,X60-X84,Y87.0)"
          ],
          [
           "Illinois",
           "#Intentional self-harm (suicide) (*U03,X60-X84,Y87.0)"
          ],
          [
           "Kentucky",
           "#Intentional self-harm (suicide) (*U03,X60-X84,Y87.0)"
          ],
          [
           "New York",
           "#Intentional self-harm (suicide) (*U03,X60-X84,Y87.0)"
          ],
          [
           "Wisconsin",
           "#Intentional self-harm (suicide) (*U03,X60-X84,Y87.0)"
          ],
          [
           "Texas",
           "#Intentional self-harm (suicide) (*U03,X60-X84,Y87.0)"
          ],
          [
           "North Carolina",
           "#Intentional self-harm (suicide) (*U03,X60-X84,Y87.0)"
          ],
          [
           "Alabama",
           "#Intentional self-harm (suicide) (*U03,X60-X84,Y87.0)"
          ],
          [
           "Oklahoma",
           "#Intentional self-harm (suicide) (*U03,X60-X84,Y87.0)"
          ],
          [
           "Oregon",
           "#Intentional self-harm (suicide) (*U03,X60-X84,Y87.0)"
          ],
          [
           "Arizona",
           "#Intentional self-harm (suicide) (*U03,X60-X84,Y87.0)"
          ],
          [
           "Pennsylvania",
           "#Intentional self-harm (suicide) (*U03,X60-X84,Y87.0)"
          ],
          [
           "Maryland",
           "#Intentional self-harm (suicide) (*U03,X60-X84,Y87.0)"
          ],
          [
           "Minnesota",
           "#Intentional self-harm (suicide) (*U03,X60-X84,Y87.0)"
          ],
          [
           "Michigan",
           "#Intentional self-harm (suicide) (*U03,X60-X84,Y87.0)"
          ],
          [
           "Idaho",
           "#Intentional self-harm (suicide) (*U03,X60-X84,Y87.0)"
          ],
          [
           "South Carolina",
           "#Intentional self-harm (suicide) (*U03,X60-X84,Y87.0)"
          ],
          [
           "Indiana",
           "#Intentional self-harm (suicide) (*U03,X60-X84,Y87.0)"
          ],
          [
           "Missouri",
           "#Intentional self-harm (suicide) (*U03,X60-X84,Y87.0)"
          ],
          [
           "Massachusetts",
           "#Intentional self-harm (suicide) (*U03,X60-X84,Y87.0)"
          ],
          [
           "Colorado",
           "#Intentional self-harm (suicide) (*U03,X60-X84,Y87.0)"
          ],
          [
           "Virginia",
           "#Intentional self-harm (suicide) (*U03,X60-X84,Y87.0)"
          ],
          [
           "Montana",
           "#Intentional self-harm (suicide) (*U03,X60-X84,Y87.0)"
          ],
          [
           "Louisiana",
           "#Intentional self-harm (suicide) (*U03,X60-X84,Y87.0)"
          ],
          [
           "Florida",
           "#Intentional self-harm (suicide) (*U03,X60-X84,Y87.0)"
          ],
          [
           "Iowa",
           "#Intentional self-harm (suicide) (*U03,X60-X84,Y87.0)"
          ],
          [
           "Connecticut",
           "#Intentional self-harm (suicide) (*U03,X60-X84,Y87.0)"
          ],
          [
           "Nevada",
           "#Intentional self-harm (suicide) (*U03,X60-X84,Y87.0)"
          ],
          [
           "Washington",
           "#Intentional self-harm (suicide) (*U03,X60-X84,Y87.0)"
          ],
          [
           "Georgia",
           "#Intentional self-harm (suicide) (*U03,X60-X84,Y87.0)"
          ],
          [
           "Ohio",
           "#Intentional self-harm (suicide) (*U03,X60-X84,Y87.0)"
          ]
         ],
         "hovertemplate": "Ten-Year Age Groups Code=%{x}<br>Rate=%{y}<br>State=%{customdata[0]}<br>ICD-10 113 Cause List=%{customdata[1]}<extra></extra>",
         "legendgroup": "85+",
         "marker": {
          "color": "#FF97FF"
         },
         "name": "85+",
         "notched": false,
         "offsetgroup": "85+",
         "orientation": "v",
         "showlegend": true,
         "type": "box",
         "x": [
          "85+",
          "85+",
          "85+",
          "85+",
          "85+",
          "85+",
          "85+",
          "85+",
          "85+",
          "85+",
          "85+",
          "85+",
          "85+",
          "85+",
          "85+",
          "85+",
          "85+",
          "85+",
          "85+",
          "85+",
          "85+",
          "85+",
          "85+",
          "85+",
          "85+",
          "85+",
          "85+",
          "85+",
          "85+",
          "85+",
          "85+",
          "85+",
          "85+",
          "85+",
          "85+",
          "85+"
         ],
         "x0": " ",
         "xaxis": "x",
         "y": [
          28.93,
          21.34,
          10.34,
          18.07,
          45.88,
          25.04,
          14.61,
          14.66,
          9.78,
          16.37,
          20.08,
          19.01,
          25.12,
          25.62,
          42.58,
          41.86,
          19.87,
          19.26,
          11.42,
          16.89,
          36.94,
          19.69,
          21.36,
          22.47,
          6.27,
          24.47,
          20.07,
          43.75,
          17.06,
          27.69,
          16.52,
          10.95,
          46.86,
          23.78,
          21.84,
          17.56
         ],
         "y0": " ",
         "yaxis": "y"
        },
        {
         "marker": {
          "color": "red"
         },
         "mode": "markers+lines",
         "name": "Alabama",
         "type": "scatter",
         "x": [
          "5-14",
          "15-24",
          "25-34",
          "35-44",
          "45-54",
          "55-64",
          "65-74",
          "75-84",
          "85+"
         ],
         "y": [
          1.64,
          14.79,
          19.93,
          26.46,
          22.22,
          18.09,
          16.75,
          19.86,
          25.12
         ]
        }
       ],
       "layout": {
        "boxmode": "overlay",
        "legend": {
         "title": {
          "text": "Ten-Year Age Groups Code"
         },
         "tracegroupgap": 0
        },
        "margin": {
         "t": 60
        },
        "template": {
         "data": {
          "bar": [
           {
            "error_x": {
             "color": "#2a3f5f"
            },
            "error_y": {
             "color": "#2a3f5f"
            },
            "marker": {
             "line": {
              "color": "#E5ECF6",
              "width": 0.5
             },
             "pattern": {
              "fillmode": "overlay",
              "size": 10,
              "solidity": 0.2
             }
            },
            "type": "bar"
           }
          ],
          "barpolar": [
           {
            "marker": {
             "line": {
              "color": "#E5ECF6",
              "width": 0.5
             },
             "pattern": {
              "fillmode": "overlay",
              "size": 10,
              "solidity": 0.2
             }
            },
            "type": "barpolar"
           }
          ],
          "carpet": [
           {
            "aaxis": {
             "endlinecolor": "#2a3f5f",
             "gridcolor": "white",
             "linecolor": "white",
             "minorgridcolor": "white",
             "startlinecolor": "#2a3f5f"
            },
            "baxis": {
             "endlinecolor": "#2a3f5f",
             "gridcolor": "white",
             "linecolor": "white",
             "minorgridcolor": "white",
             "startlinecolor": "#2a3f5f"
            },
            "type": "carpet"
           }
          ],
          "choropleth": [
           {
            "colorbar": {
             "outlinewidth": 0,
             "ticks": ""
            },
            "type": "choropleth"
           }
          ],
          "contour": [
           {
            "colorbar": {
             "outlinewidth": 0,
             "ticks": ""
            },
            "colorscale": [
             [
              0,
              "#0d0887"
             ],
             [
              0.1111111111111111,
              "#46039f"
             ],
             [
              0.2222222222222222,
              "#7201a8"
             ],
             [
              0.3333333333333333,
              "#9c179e"
             ],
             [
              0.4444444444444444,
              "#bd3786"
             ],
             [
              0.5555555555555556,
              "#d8576b"
             ],
             [
              0.6666666666666666,
              "#ed7953"
             ],
             [
              0.7777777777777778,
              "#fb9f3a"
             ],
             [
              0.8888888888888888,
              "#fdca26"
             ],
             [
              1,
              "#f0f921"
             ]
            ],
            "type": "contour"
           }
          ],
          "contourcarpet": [
           {
            "colorbar": {
             "outlinewidth": 0,
             "ticks": ""
            },
            "type": "contourcarpet"
           }
          ],
          "heatmap": [
           {
            "colorbar": {
             "outlinewidth": 0,
             "ticks": ""
            },
            "colorscale": [
             [
              0,
              "#0d0887"
             ],
             [
              0.1111111111111111,
              "#46039f"
             ],
             [
              0.2222222222222222,
              "#7201a8"
             ],
             [
              0.3333333333333333,
              "#9c179e"
             ],
             [
              0.4444444444444444,
              "#bd3786"
             ],
             [
              0.5555555555555556,
              "#d8576b"
             ],
             [
              0.6666666666666666,
              "#ed7953"
             ],
             [
              0.7777777777777778,
              "#fb9f3a"
             ],
             [
              0.8888888888888888,
              "#fdca26"
             ],
             [
              1,
              "#f0f921"
             ]
            ],
            "type": "heatmap"
           }
          ],
          "heatmapgl": [
           {
            "colorbar": {
             "outlinewidth": 0,
             "ticks": ""
            },
            "colorscale": [
             [
              0,
              "#0d0887"
             ],
             [
              0.1111111111111111,
              "#46039f"
             ],
             [
              0.2222222222222222,
              "#7201a8"
             ],
             [
              0.3333333333333333,
              "#9c179e"
             ],
             [
              0.4444444444444444,
              "#bd3786"
             ],
             [
              0.5555555555555556,
              "#d8576b"
             ],
             [
              0.6666666666666666,
              "#ed7953"
             ],
             [
              0.7777777777777778,
              "#fb9f3a"
             ],
             [
              0.8888888888888888,
              "#fdca26"
             ],
             [
              1,
              "#f0f921"
             ]
            ],
            "type": "heatmapgl"
           }
          ],
          "histogram": [
           {
            "marker": {
             "pattern": {
              "fillmode": "overlay",
              "size": 10,
              "solidity": 0.2
             }
            },
            "type": "histogram"
           }
          ],
          "histogram2d": [
           {
            "colorbar": {
             "outlinewidth": 0,
             "ticks": ""
            },
            "colorscale": [
             [
              0,
              "#0d0887"
             ],
             [
              0.1111111111111111,
              "#46039f"
             ],
             [
              0.2222222222222222,
              "#7201a8"
             ],
             [
              0.3333333333333333,
              "#9c179e"
             ],
             [
              0.4444444444444444,
              "#bd3786"
             ],
             [
              0.5555555555555556,
              "#d8576b"
             ],
             [
              0.6666666666666666,
              "#ed7953"
             ],
             [
              0.7777777777777778,
              "#fb9f3a"
             ],
             [
              0.8888888888888888,
              "#fdca26"
             ],
             [
              1,
              "#f0f921"
             ]
            ],
            "type": "histogram2d"
           }
          ],
          "histogram2dcontour": [
           {
            "colorbar": {
             "outlinewidth": 0,
             "ticks": ""
            },
            "colorscale": [
             [
              0,
              "#0d0887"
             ],
             [
              0.1111111111111111,
              "#46039f"
             ],
             [
              0.2222222222222222,
              "#7201a8"
             ],
             [
              0.3333333333333333,
              "#9c179e"
             ],
             [
              0.4444444444444444,
              "#bd3786"
             ],
             [
              0.5555555555555556,
              "#d8576b"
             ],
             [
              0.6666666666666666,
              "#ed7953"
             ],
             [
              0.7777777777777778,
              "#fb9f3a"
             ],
             [
              0.8888888888888888,
              "#fdca26"
             ],
             [
              1,
              "#f0f921"
             ]
            ],
            "type": "histogram2dcontour"
           }
          ],
          "mesh3d": [
           {
            "colorbar": {
             "outlinewidth": 0,
             "ticks": ""
            },
            "type": "mesh3d"
           }
          ],
          "parcoords": [
           {
            "line": {
             "colorbar": {
              "outlinewidth": 0,
              "ticks": ""
             }
            },
            "type": "parcoords"
           }
          ],
          "pie": [
           {
            "automargin": true,
            "type": "pie"
           }
          ],
          "scatter": [
           {
            "marker": {
             "colorbar": {
              "outlinewidth": 0,
              "ticks": ""
             }
            },
            "type": "scatter"
           }
          ],
          "scatter3d": [
           {
            "line": {
             "colorbar": {
              "outlinewidth": 0,
              "ticks": ""
             }
            },
            "marker": {
             "colorbar": {
              "outlinewidth": 0,
              "ticks": ""
             }
            },
            "type": "scatter3d"
           }
          ],
          "scattercarpet": [
           {
            "marker": {
             "colorbar": {
              "outlinewidth": 0,
              "ticks": ""
             }
            },
            "type": "scattercarpet"
           }
          ],
          "scattergeo": [
           {
            "marker": {
             "colorbar": {
              "outlinewidth": 0,
              "ticks": ""
             }
            },
            "type": "scattergeo"
           }
          ],
          "scattergl": [
           {
            "marker": {
             "colorbar": {
              "outlinewidth": 0,
              "ticks": ""
             }
            },
            "type": "scattergl"
           }
          ],
          "scattermapbox": [
           {
            "marker": {
             "colorbar": {
              "outlinewidth": 0,
              "ticks": ""
             }
            },
            "type": "scattermapbox"
           }
          ],
          "scatterpolar": [
           {
            "marker": {
             "colorbar": {
              "outlinewidth": 0,
              "ticks": ""
             }
            },
            "type": "scatterpolar"
           }
          ],
          "scatterpolargl": [
           {
            "marker": {
             "colorbar": {
              "outlinewidth": 0,
              "ticks": ""
             }
            },
            "type": "scatterpolargl"
           }
          ],
          "scatterternary": [
           {
            "marker": {
             "colorbar": {
              "outlinewidth": 0,
              "ticks": ""
             }
            },
            "type": "scatterternary"
           }
          ],
          "surface": [
           {
            "colorbar": {
             "outlinewidth": 0,
             "ticks": ""
            },
            "colorscale": [
             [
              0,
              "#0d0887"
             ],
             [
              0.1111111111111111,
              "#46039f"
             ],
             [
              0.2222222222222222,
              "#7201a8"
             ],
             [
              0.3333333333333333,
              "#9c179e"
             ],
             [
              0.4444444444444444,
              "#bd3786"
             ],
             [
              0.5555555555555556,
              "#d8576b"
             ],
             [
              0.6666666666666666,
              "#ed7953"
             ],
             [
              0.7777777777777778,
              "#fb9f3a"
             ],
             [
              0.8888888888888888,
              "#fdca26"
             ],
             [
              1,
              "#f0f921"
             ]
            ],
            "type": "surface"
           }
          ],
          "table": [
           {
            "cells": {
             "fill": {
              "color": "#EBF0F8"
             },
             "line": {
              "color": "white"
             }
            },
            "header": {
             "fill": {
              "color": "#C8D4E3"
             },
             "line": {
              "color": "white"
             }
            },
            "type": "table"
           }
          ]
         },
         "layout": {
          "annotationdefaults": {
           "arrowcolor": "#2a3f5f",
           "arrowhead": 0,
           "arrowwidth": 1
          },
          "autotypenumbers": "strict",
          "coloraxis": {
           "colorbar": {
            "outlinewidth": 0,
            "ticks": ""
           }
          },
          "colorscale": {
           "diverging": [
            [
             0,
             "#8e0152"
            ],
            [
             0.1,
             "#c51b7d"
            ],
            [
             0.2,
             "#de77ae"
            ],
            [
             0.3,
             "#f1b6da"
            ],
            [
             0.4,
             "#fde0ef"
            ],
            [
             0.5,
             "#f7f7f7"
            ],
            [
             0.6,
             "#e6f5d0"
            ],
            [
             0.7,
             "#b8e186"
            ],
            [
             0.8,
             "#7fbc41"
            ],
            [
             0.9,
             "#4d9221"
            ],
            [
             1,
             "#276419"
            ]
           ],
           "sequential": [
            [
             0,
             "#0d0887"
            ],
            [
             0.1111111111111111,
             "#46039f"
            ],
            [
             0.2222222222222222,
             "#7201a8"
            ],
            [
             0.3333333333333333,
             "#9c179e"
            ],
            [
             0.4444444444444444,
             "#bd3786"
            ],
            [
             0.5555555555555556,
             "#d8576b"
            ],
            [
             0.6666666666666666,
             "#ed7953"
            ],
            [
             0.7777777777777778,
             "#fb9f3a"
            ],
            [
             0.8888888888888888,
             "#fdca26"
            ],
            [
             1,
             "#f0f921"
            ]
           ],
           "sequentialminus": [
            [
             0,
             "#0d0887"
            ],
            [
             0.1111111111111111,
             "#46039f"
            ],
            [
             0.2222222222222222,
             "#7201a8"
            ],
            [
             0.3333333333333333,
             "#9c179e"
            ],
            [
             0.4444444444444444,
             "#bd3786"
            ],
            [
             0.5555555555555556,
             "#d8576b"
            ],
            [
             0.6666666666666666,
             "#ed7953"
            ],
            [
             0.7777777777777778,
             "#fb9f3a"
            ],
            [
             0.8888888888888888,
             "#fdca26"
            ],
            [
             1,
             "#f0f921"
            ]
           ]
          },
          "colorway": [
           "#636efa",
           "#EF553B",
           "#00cc96",
           "#ab63fa",
           "#FFA15A",
           "#19d3f3",
           "#FF6692",
           "#B6E880",
           "#FF97FF",
           "#FECB52"
          ],
          "font": {
           "color": "#2a3f5f"
          },
          "geo": {
           "bgcolor": "white",
           "lakecolor": "white",
           "landcolor": "#E5ECF6",
           "showlakes": true,
           "showland": true,
           "subunitcolor": "white"
          },
          "hoverlabel": {
           "align": "left"
          },
          "hovermode": "closest",
          "mapbox": {
           "style": "light"
          },
          "paper_bgcolor": "white",
          "plot_bgcolor": "#E5ECF6",
          "polar": {
           "angularaxis": {
            "gridcolor": "white",
            "linecolor": "white",
            "ticks": ""
           },
           "bgcolor": "#E5ECF6",
           "radialaxis": {
            "gridcolor": "white",
            "linecolor": "white",
            "ticks": ""
           }
          },
          "scene": {
           "xaxis": {
            "backgroundcolor": "#E5ECF6",
            "gridcolor": "white",
            "gridwidth": 2,
            "linecolor": "white",
            "showbackground": true,
            "ticks": "",
            "zerolinecolor": "white"
           },
           "yaxis": {
            "backgroundcolor": "#E5ECF6",
            "gridcolor": "white",
            "gridwidth": 2,
            "linecolor": "white",
            "showbackground": true,
            "ticks": "",
            "zerolinecolor": "white"
           },
           "zaxis": {
            "backgroundcolor": "#E5ECF6",
            "gridcolor": "white",
            "gridwidth": 2,
            "linecolor": "white",
            "showbackground": true,
            "ticks": "",
            "zerolinecolor": "white"
           }
          },
          "shapedefaults": {
           "line": {
            "color": "#2a3f5f"
           }
          },
          "ternary": {
           "aaxis": {
            "gridcolor": "white",
            "linecolor": "white",
            "ticks": ""
           },
           "baxis": {
            "gridcolor": "white",
            "linecolor": "white",
            "ticks": ""
           },
           "bgcolor": "#E5ECF6",
           "caxis": {
            "gridcolor": "white",
            "linecolor": "white",
            "ticks": ""
           }
          },
          "title": {
           "x": 0.05
          },
          "xaxis": {
           "automargin": true,
           "gridcolor": "white",
           "linecolor": "white",
           "ticks": "",
           "title": {
            "standoff": 15
           },
           "zerolinecolor": "white",
           "zerolinewidth": 2
          },
          "yaxis": {
           "automargin": true,
           "gridcolor": "white",
           "linecolor": "white",
           "ticks": "",
           "title": {
            "standoff": 15
           },
           "zerolinecolor": "white",
           "zerolinewidth": 2
          }
         }
        },
        "xaxis": {
         "anchor": "y",
         "categoryarray": [
          "5-14",
          "15-24",
          "25-34",
          "35-44",
          "45-54",
          "55-64",
          "65-74",
          "75-84",
          "85+"
         ],
         "categoryorder": "array",
         "domain": [
          0,
          1
         ],
         "title": {
          "text": "Ten-Year Age Groups Code"
         }
        },
        "yaxis": {
         "anchor": "x",
         "domain": [
          0,
          1
         ],
         "title": {
          "text": "Rate"
         }
        }
       }
      }
     },
     "metadata": {},
     "output_type": "display_data"
    }
   ],
   "source": [
    "df = load_state_cod(\"All\")\n",
    "df = df[df[\"ICD-10 113 Cause List\"] == \"#Intentional self-harm (suicide) (*U03,X60-X84,Y87.0)\"]\n",
    "df[\"Start Age\"] = df[\"Ten-Year Age Groups Code\"].str.split(\"-\").str[0].str.replace(\"+\",\"\")\n",
    "df[\"Start Age\"] = df[\"Start Age\"].astype(int)\n",
    "\n",
    "df = df.sort_values(by=[\"Start Age\"])\n",
    "\n",
    "fig = px.box(df, x=\"Ten-Year Age Groups Code\", y=\"Rate\", color=\"Ten-Year Age Groups Code\", hover_data=[\"State\", \"ICD-10 113 Cause List\"])\n",
    "\n",
    "df = df[df[\"State\"] == \"Alabama\"]\n",
    "fig.add_trace(go.Scatter(\n",
    "    x = df[\"Ten-Year Age Groups Code\"],\n",
    "    y=df[\"Rate\"],\n",
    "    mode = \"markers+lines\",\n",
    "    marker=dict(color = \"red\"),\n",
    "    name = \"Alabama\"\n",
    "    \n",
    "))\n",
    "fig.show()"
   ]
  },
  {
   "cell_type": "code",
   "execution_count": 155,
   "metadata": {},
   "outputs": [
    {
     "data": {
      "text/html": [
       "<div>\n",
       "<style scoped>\n",
       "    .dataframe tbody tr th:only-of-type {\n",
       "        vertical-align: middle;\n",
       "    }\n",
       "\n",
       "    .dataframe tbody tr th {\n",
       "        vertical-align: top;\n",
       "    }\n",
       "\n",
       "    .dataframe thead th {\n",
       "        text-align: right;\n",
       "    }\n",
       "</style>\n",
       "<table border=\"1\" class=\"dataframe\">\n",
       "  <thead>\n",
       "    <tr style=\"text-align: right;\">\n",
       "      <th></th>\n",
       "      <th>State</th>\n",
       "      <th>State Code</th>\n",
       "      <th>ICD-10 113 Cause List</th>\n",
       "      <th>Ten-Year Age Groups</th>\n",
       "      <th>Ten-Year Age Groups Code</th>\n",
       "      <th>Deaths</th>\n",
       "      <th>Population</th>\n",
       "      <th>Crude Rate</th>\n",
       "      <th>Rate</th>\n",
       "      <th>Child_Adj_Rate</th>\n",
       "      <th>common_name</th>\n",
       "      <th>children</th>\n",
       "      <th>parents</th>\n",
       "      <th>Start Age</th>\n",
       "    </tr>\n",
       "  </thead>\n",
       "  <tbody>\n",
       "    <tr>\n",
       "      <th>20891</th>\n",
       "      <td>Alabama</td>\n",
       "      <td>1.0</td>\n",
       "      <td>#Intentional self-harm (suicide) (*U03,X60-X84...</td>\n",
       "      <td>5-14 years</td>\n",
       "      <td>5-14</td>\n",
       "      <td>10.0</td>\n",
       "      <td>608466.0</td>\n",
       "      <td>Unreliable</td>\n",
       "      <td>1.64</td>\n",
       "      <td>1.64</td>\n",
       "      <td>Suicide</td>\n",
       "      <td>[Intentional self-harm (suicide) by other and ...</td>\n",
       "      <td>[]</td>\n",
       "      <td>5</td>\n",
       "    </tr>\n",
       "    <tr>\n",
       "      <th>20892</th>\n",
       "      <td>Alabama</td>\n",
       "      <td>1.0</td>\n",
       "      <td>#Intentional self-harm (suicide) (*U03,X60-X84...</td>\n",
       "      <td>15-24 years</td>\n",
       "      <td>15-24</td>\n",
       "      <td>94.0</td>\n",
       "      <td>635707.0</td>\n",
       "      <td>14.8</td>\n",
       "      <td>14.79</td>\n",
       "      <td>14.79</td>\n",
       "      <td>Suicide</td>\n",
       "      <td>[Intentional self-harm (suicide) by other and ...</td>\n",
       "      <td>[]</td>\n",
       "      <td>15</td>\n",
       "    </tr>\n",
       "    <tr>\n",
       "      <th>20893</th>\n",
       "      <td>Alabama</td>\n",
       "      <td>1.0</td>\n",
       "      <td>#Intentional self-harm (suicide) (*U03,X60-X84...</td>\n",
       "      <td>25-34 years</td>\n",
       "      <td>25-34</td>\n",
       "      <td>129.0</td>\n",
       "      <td>647229.0</td>\n",
       "      <td>19.9</td>\n",
       "      <td>19.93</td>\n",
       "      <td>19.93</td>\n",
       "      <td>Suicide</td>\n",
       "      <td>[Intentional self-harm (suicide) by other and ...</td>\n",
       "      <td>[]</td>\n",
       "      <td>25</td>\n",
       "    </tr>\n",
       "    <tr>\n",
       "      <th>20894</th>\n",
       "      <td>Alabama</td>\n",
       "      <td>1.0</td>\n",
       "      <td>#Intentional self-harm (suicide) (*U03,X60-X84...</td>\n",
       "      <td>35-44 years</td>\n",
       "      <td>35-44</td>\n",
       "      <td>157.0</td>\n",
       "      <td>593306.0</td>\n",
       "      <td>26.5</td>\n",
       "      <td>26.46</td>\n",
       "      <td>26.46</td>\n",
       "      <td>Suicide</td>\n",
       "      <td>[Intentional self-harm (suicide) by other and ...</td>\n",
       "      <td>[]</td>\n",
       "      <td>35</td>\n",
       "    </tr>\n",
       "    <tr>\n",
       "      <th>20895</th>\n",
       "      <td>Alabama</td>\n",
       "      <td>1.0</td>\n",
       "      <td>#Intentional self-harm (suicide) (*U03,X60-X84...</td>\n",
       "      <td>45-54 years</td>\n",
       "      <td>45-54</td>\n",
       "      <td>137.0</td>\n",
       "      <td>616616.0</td>\n",
       "      <td>22.2</td>\n",
       "      <td>22.22</td>\n",
       "      <td>22.22</td>\n",
       "      <td>Suicide</td>\n",
       "      <td>[Intentional self-harm (suicide) by other and ...</td>\n",
       "      <td>[]</td>\n",
       "      <td>45</td>\n",
       "    </tr>\n",
       "    <tr>\n",
       "      <th>20896</th>\n",
       "      <td>Alabama</td>\n",
       "      <td>1.0</td>\n",
       "      <td>#Intentional self-harm (suicide) (*U03,X60-X84...</td>\n",
       "      <td>55-64 years</td>\n",
       "      <td>55-64</td>\n",
       "      <td>119.0</td>\n",
       "      <td>657667.0</td>\n",
       "      <td>18.1</td>\n",
       "      <td>18.09</td>\n",
       "      <td>18.09</td>\n",
       "      <td>Suicide</td>\n",
       "      <td>[Intentional self-harm (suicide) by other and ...</td>\n",
       "      <td>[]</td>\n",
       "      <td>55</td>\n",
       "    </tr>\n",
       "    <tr>\n",
       "      <th>20897</th>\n",
       "      <td>Alabama</td>\n",
       "      <td>1.0</td>\n",
       "      <td>#Intentional self-harm (suicide) (*U03,X60-X84...</td>\n",
       "      <td>65-74 years</td>\n",
       "      <td>65-74</td>\n",
       "      <td>84.0</td>\n",
       "      <td>501447.0</td>\n",
       "      <td>16.8</td>\n",
       "      <td>16.75</td>\n",
       "      <td>16.75</td>\n",
       "      <td>Suicide</td>\n",
       "      <td>[Intentional self-harm (suicide) by other and ...</td>\n",
       "      <td>[]</td>\n",
       "      <td>65</td>\n",
       "    </tr>\n",
       "    <tr>\n",
       "      <th>20898</th>\n",
       "      <td>Alabama</td>\n",
       "      <td>1.0</td>\n",
       "      <td>#Intentional self-harm (suicide) (*U03,X60-X84...</td>\n",
       "      <td>75-84 years</td>\n",
       "      <td>75-84</td>\n",
       "      <td>51.0</td>\n",
       "      <td>256847.0</td>\n",
       "      <td>19.9</td>\n",
       "      <td>19.86</td>\n",
       "      <td>19.86</td>\n",
       "      <td>Suicide</td>\n",
       "      <td>[Intentional self-harm (suicide) by other and ...</td>\n",
       "      <td>[]</td>\n",
       "      <td>75</td>\n",
       "    </tr>\n",
       "    <tr>\n",
       "      <th>20899</th>\n",
       "      <td>Alabama</td>\n",
       "      <td>1.0</td>\n",
       "      <td>#Intentional self-harm (suicide) (*U03,X60-X84...</td>\n",
       "      <td>85+ years</td>\n",
       "      <td>85+</td>\n",
       "      <td>23.0</td>\n",
       "      <td>91543.0</td>\n",
       "      <td>25.1</td>\n",
       "      <td>25.12</td>\n",
       "      <td>25.12</td>\n",
       "      <td>Suicide</td>\n",
       "      <td>[Intentional self-harm (suicide) by other and ...</td>\n",
       "      <td>[]</td>\n",
       "      <td>85</td>\n",
       "    </tr>\n",
       "  </tbody>\n",
       "</table>\n",
       "</div>"
      ],
      "text/plain": [
       "         State  State Code                              ICD-10 113 Cause List  \\\n",
       "20891  Alabama         1.0  #Intentional self-harm (suicide) (*U03,X60-X84...   \n",
       "20892  Alabama         1.0  #Intentional self-harm (suicide) (*U03,X60-X84...   \n",
       "20893  Alabama         1.0  #Intentional self-harm (suicide) (*U03,X60-X84...   \n",
       "20894  Alabama         1.0  #Intentional self-harm (suicide) (*U03,X60-X84...   \n",
       "20895  Alabama         1.0  #Intentional self-harm (suicide) (*U03,X60-X84...   \n",
       "20896  Alabama         1.0  #Intentional self-harm (suicide) (*U03,X60-X84...   \n",
       "20897  Alabama         1.0  #Intentional self-harm (suicide) (*U03,X60-X84...   \n",
       "20898  Alabama         1.0  #Intentional self-harm (suicide) (*U03,X60-X84...   \n",
       "20899  Alabama         1.0  #Intentional self-harm (suicide) (*U03,X60-X84...   \n",
       "\n",
       "      Ten-Year Age Groups Ten-Year Age Groups Code  Deaths  Population  \\\n",
       "20891          5-14 years                     5-14    10.0    608466.0   \n",
       "20892         15-24 years                    15-24    94.0    635707.0   \n",
       "20893         25-34 years                    25-34   129.0    647229.0   \n",
       "20894         35-44 years                    35-44   157.0    593306.0   \n",
       "20895         45-54 years                    45-54   137.0    616616.0   \n",
       "20896         55-64 years                    55-64   119.0    657667.0   \n",
       "20897         65-74 years                    65-74    84.0    501447.0   \n",
       "20898         75-84 years                    75-84    51.0    256847.0   \n",
       "20899           85+ years                      85+    23.0     91543.0   \n",
       "\n",
       "       Crude Rate   Rate  Child_Adj_Rate common_name  \\\n",
       "20891  Unreliable   1.64            1.64     Suicide   \n",
       "20892        14.8  14.79           14.79     Suicide   \n",
       "20893        19.9  19.93           19.93     Suicide   \n",
       "20894        26.5  26.46           26.46     Suicide   \n",
       "20895        22.2  22.22           22.22     Suicide   \n",
       "20896        18.1  18.09           18.09     Suicide   \n",
       "20897        16.8  16.75           16.75     Suicide   \n",
       "20898        19.9  19.86           19.86     Suicide   \n",
       "20899        25.1  25.12           25.12     Suicide   \n",
       "\n",
       "                                                children parents  Start Age  \n",
       "20891  [Intentional self-harm (suicide) by other and ...      []          5  \n",
       "20892  [Intentional self-harm (suicide) by other and ...      []         15  \n",
       "20893  [Intentional self-harm (suicide) by other and ...      []         25  \n",
       "20894  [Intentional self-harm (suicide) by other and ...      []         35  \n",
       "20895  [Intentional self-harm (suicide) by other and ...      []         45  \n",
       "20896  [Intentional self-harm (suicide) by other and ...      []         55  \n",
       "20897  [Intentional self-harm (suicide) by other and ...      []         65  \n",
       "20898  [Intentional self-harm (suicide) by other and ...      []         75  \n",
       "20899  [Intentional self-harm (suicide) by other and ...      []         85  "
      ]
     },
     "execution_count": 155,
     "metadata": {},
     "output_type": "execute_result"
    }
   ],
   "source": [
    "df.sort_values(by=\"Start Age\")"
   ]
  },
  {
   "cell_type": "code",
   "execution_count": null,
   "metadata": {},
   "outputs": [],
   "source": []
  },
  {
   "cell_type": "code",
   "execution_count": 72,
   "metadata": {},
   "outputs": [],
   "source": [
    "def add_children(name, child, order):\n",
    "    f = open(\"../icd-10-flat-Structure.json\")\n",
    "    flat_heirarchy = json.load(f)\n",
    "    order.append(name)\n",
    "    if len(child[\"children\"]) > 0: \n",
    "        for grand_child in child[\"children\"]:\n",
    "            add_children(grand_child, flat_heirarchy[grand_child], order)\n",
    "def get_depth_order(flat_heirarchy):\n",
    "    order = []\n",
    "    for key, value in flat_heirarchy.items():\n",
    "        if len(value[\"parents\"]) == 0:\n",
    "            order.append(key)\n",
    "            for children in value[\"children\"]:\n",
    "                add_children(children, flat_heirarchy[children],order)\n",
    "    return order"
   ]
  },
  {
   "cell_type": "code",
   "execution_count": 73,
   "metadata": {},
   "outputs": [],
   "source": [
    "def get_age_cod(df, age, all_ages=False):\n",
    "    f = open(\"../icd-10-flat-Structure.json\")\n",
    "    flat_heirarchy = json.load(f)\n",
    "    order = get_depth_order(flat_heirarchy)\n",
    "    df = df[df[\"Ten-Year Age Groups Code\"] ==age]\n",
    "    for e in range(5):\n",
    "        for i, row in df.iterrows():\n",
    "            children_total = 0\n",
    "            children_values =[]\n",
    "            if len(row[\"children\"]) > 0:\n",
    "                for child in row[\"children\"]:\n",
    "                    try:\n",
    "                        children_total += df[df[\"ICD-10 113 Cause List\"] == child][\"Child_Adj_Rate\"].values[0]\n",
    "                        children_values.append(df[df[\"ICD-10 113 Cause List\"] == child][\"Child_Adj_Rate\"].values[0])\n",
    "                    except:\n",
    "                        None\n",
    "            df.at[i, \"Child_Adj_Rate\"] = max(row[\"Child_Adj_Rate\"], children_total)\n",
    "    df[\"ICD-10 113 Cause List\"] = df[\"ICD-10 113 Cause List\"].astype(\"category\")\n",
    "    df[\"ICD-10 113 Cause List\"] = df[\"ICD-10 113 Cause List\"].cat.set_categories(order, ordered=True)\n",
    "    df = df.sort_values(\"ICD-10 113 Cause List\")\n",
    "    \n",
    "    labels = [age]\n",
    "    parents = [\"\"]\n",
    "    if all_ages:\n",
    "        parents = [\"All Ages\"]\n",
    "    values = [0]\n",
    "    colors = [\"white\"]\n",
    "    for i, row in df.iterrows():\n",
    "        labels.append(row[\"ICD-10 113 Cause List\"].split(\"(\")[0] + \": \" + str(age))\n",
    "        if len(row[\"parents\"]) > 0:\n",
    "            parents.append(row[\"parents\"][0].split(\"(\")[0] + \": \" + str(age))\n",
    "        else: \n",
    "            parents.append(age)\n",
    "            values[0] += row[\"Child_Adj_Rate\"]\n",
    "        values.append(row[\"Child_Adj_Rate\"])\n",
    "    return labels, parents, values, df, values[0]\n",
    "    \n",
    "df_final = load_state_cod()\n",
    "labels, parents, values, df, total = get_age_cod(df_final, age, all_ages=True)"
   ]
  },
  {
   "cell_type": "code",
   "execution_count": null,
   "metadata": {},
   "outputs": [],
   "source": []
  },
  {
   "cell_type": "code",
   "execution_count": 74,
   "metadata": {},
   "outputs": [],
   "source": [
    "def get_all_age_cod(df):\n",
    "    all_labels = [\"All Ages\"]\n",
    "    all_parents = [\"\"]\n",
    "    all_values = [0]\n",
    "    for age in df[\"Ten-Year Age Groups Code\"].unique():\n",
    "        labels, parents, values, df_age, total = get_age_cod(df, age, True)\n",
    "        all_labels.extend(labels)\n",
    "        all_parents.extend(parents)\n",
    "        all_values.extend(values)\n",
    "        all_values[0] += total\n",
    "    return all_labels, all_parents, all_values\n",
    "    \n",
    "final_labels, final_parents, final_values = get_all_age_cod(df_final)    "
   ]
  },
  {
   "cell_type": "code",
   "execution_count": 75,
   "metadata": {},
   "outputs": [
    {
     "data": {
      "application/vnd.plotly.v1+json": {
       "config": {
        "plotlyServerURL": "https://plot.ly"
       },
       "data": [
        {
         "branchvalues": "total",
         "labels": [
          "All Ages",
          "45-54",
          "Certain other intestinal infections : 45-54",
          "#Septicemia : 45-54",
          "#Viral hepatitis : 45-54",
          "#Human immunodeficiency virus : 45-54",
          "Other and unspecified infectious and parasitic diseases and their sequelae : 45-54",
          "#Malignant neoplasms : 45-54",
          "Malignant neoplasms of kidney and renal pelvis : 45-54",
          "Malignant neoplasms of liver and intrahepatic bile ducts : 45-54",
          "Malignant neoplasms of meninges, brain and other parts of central nervous system : 45-54",
          "Malignant neoplasm of stomach : 45-54",
          "Malignant neoplasm of cervix uteri : 45-54",
          "Malignant neoplasm of larynx : 45-54",
          "Malignant neoplasm of bladder : 45-54",
          "All other and unspecified malignant neoplasms : 45-54",
          "Malignant neoplasm of breast : 45-54",
          "Malignant neoplasms of lymphoid, hematopoietic and related tissue : 45-54",
          "Leukemia : 45-54",
          "Non-Hodgkin lymphoma : 45-54",
          "Multiple myeloma and immunoproliferative neoplasms : 45-54",
          "Malignant neoplasm of prostate : 45-54",
          "Malignant melanoma of skin : 45-54",
          "Malignant neoplasm of esophagus : 45-54",
          "Malignant neoplasms of corpus uteri and uterus, part unspecified : 45-54",
          "Malignant neoplasms of colon, rectum and anus : 45-54",
          "Malignant neoplasm of ovary : 45-54",
          "Malignant neoplasms of lip, oral cavity and pharynx : 45-54",
          "Malignant neoplasm of pancreas : 45-54",
          "Malignant neoplasms of trachea, bronchus and lung : 45-54",
          "#In situ neoplasms, benign neoplasms and neoplasms of uncertain or unknown behavior : 45-54",
          "#Diabetes mellitus : 45-54",
          "Major cardiovascular diseases : 45-54",
          "#Cerebrovascular diseases : 45-54",
          "#Diseases of heart : 45-54",
          "Ischemic heart diseases : 45-54",
          "Acute myocardial infarction : 45-54",
          "Other forms of chronic ischemic heart disease : 45-54",
          "All other forms of chronic ischemic heart disease : 45-54",
          "Atherosclerotic cardiovascular disease, so described : 45-54",
          "Other heart diseases : 45-54",
          "Heart failure : 45-54",
          "All other forms of heart disease : 45-54",
          "Hypertensive heart disease : 45-54",
          "Hypertensive heart and renal disease : 45-54",
          "Other diseases of circulatory system : 45-54",
          "Other diseases of arteries, arterioles and capillaries : 45-54",
          "#Aortic aneurysm and dissection : 45-54",
          "#Essential hypertension and hypertensive renal disease : 45-54",
          "Other disorders of circulatory system : 45-54",
          "#Influenza and pneumonia : 45-54",
          "Influenza : 45-54",
          "Pneumonia : 45-54",
          "#Chronic lower respiratory diseases : 45-54",
          "Asthma : 45-54",
          "Other chronic lower respiratory diseases : 45-54",
          "#Pneumonitis due to solids and liquids : 45-54",
          "Other diseases of respiratory system : 45-54",
          "#Chronic liver disease and cirrhosis : 45-54",
          "Alcoholic liver disease : 45-54",
          "Other chronic liver disease and cirrhosis : 45-54",
          "#Nephritis, nephrotic syndrome and nephrosis : 45-54",
          "Renal failure : 45-54",
          "#Congenital malformations, deformations and chromosomal abnormalities : 45-54",
          "Symptoms, signs and abnormal clinical and laboratory findings, not elsewhere classified : 45-54",
          "All other diseases : 45-54",
          "#Accidents : 45-54",
          "Transport accidents : 45-54",
          "Motor vehicle accidents : 45-54",
          "Water, air and space, and other and unspecified transport accidents and their sequelae : 45-54",
          "Nontransport accidents : 45-54",
          "Falls : 45-54",
          "Other and unspecified nontransport accidents and their sequelae : 45-54",
          "Accidental poisoning and exposure to noxious substances : 45-54",
          "#Intentional self-harm : 45-54",
          "Intentional self-harm : 45-54",
          "Intentional self-harm : 45-54",
          "#Assault : 45-54",
          "Assault : 45-54",
          "Assault : 45-54",
          "Events of undetermined intent : 45-54",
          "Other and unspecified events of undetermined intent and their sequelae : 45-54",
          "55-64",
          "Certain other intestinal infections : 55-64",
          "#Enterocolitis due to Clostridium difficile : 55-64",
          "#Septicemia : 55-64",
          "#Viral hepatitis : 55-64",
          "#Human immunodeficiency virus : 55-64",
          "Other and unspecified infectious and parasitic diseases and their sequelae : 55-64",
          "#Malignant neoplasms : 55-64",
          "Malignant neoplasms of kidney and renal pelvis : 55-64",
          "Malignant neoplasms of liver and intrahepatic bile ducts : 55-64",
          "Malignant neoplasms of meninges, brain and other parts of central nervous system : 55-64",
          "Malignant neoplasm of stomach : 55-64",
          "Malignant neoplasm of cervix uteri : 55-64",
          "Malignant neoplasm of larynx : 55-64",
          "Malignant neoplasm of bladder : 55-64",
          "All other and unspecified malignant neoplasms : 55-64",
          "Malignant neoplasm of breast : 55-64",
          "Malignant neoplasms of lymphoid, hematopoietic and related tissue : 55-64",
          "Leukemia : 55-64",
          "Non-Hodgkin lymphoma : 55-64",
          "Multiple myeloma and immunoproliferative neoplasms : 55-64",
          "Malignant neoplasm of prostate : 55-64",
          "Malignant melanoma of skin : 55-64",
          "Malignant neoplasm of esophagus : 55-64",
          "Malignant neoplasms of corpus uteri and uterus, part unspecified : 55-64",
          "Malignant neoplasms of colon, rectum and anus : 55-64",
          "Malignant neoplasm of ovary : 55-64",
          "Malignant neoplasms of lip, oral cavity and pharynx : 55-64",
          "Malignant neoplasm of pancreas : 55-64",
          "Malignant neoplasms of trachea, bronchus and lung : 55-64",
          "#In situ neoplasms, benign neoplasms and neoplasms of uncertain or unknown behavior : 55-64",
          "#Anemias : 55-64",
          "#Diabetes mellitus : 55-64",
          "#Nutritional deficiencies : 55-64",
          "Malnutrition : 55-64",
          "#Parkinson disease : 55-64",
          "#Alzheimer disease : 55-64",
          "Major cardiovascular diseases : 55-64",
          "#Atherosclerosis : 55-64",
          "#Cerebrovascular diseases : 55-64",
          "#Diseases of heart : 55-64",
          "Ischemic heart diseases : 55-64",
          "Acute myocardial infarction : 55-64",
          "Other forms of chronic ischemic heart disease : 55-64",
          "All other forms of chronic ischemic heart disease : 55-64",
          "Atherosclerotic cardiovascular disease, so described : 55-64",
          "Other acute ischemic heart diseases : 55-64",
          "Other heart diseases : 55-64",
          "Heart failure : 55-64",
          "All other forms of heart disease : 55-64",
          "Acute and subacute endocarditis : 55-64",
          "Hypertensive heart disease : 55-64",
          "Acute rheumatic fever and chronic rheumatic heart diseases : 55-64",
          "Hypertensive heart and renal disease : 55-64",
          "Other diseases of circulatory system : 55-64",
          "Other diseases of arteries, arterioles and capillaries : 55-64",
          "#Aortic aneurysm and dissection : 55-64",
          "#Essential hypertension and hypertensive renal disease : 55-64",
          "Other disorders of circulatory system : 55-64",
          "#Influenza and pneumonia : 55-64",
          "Influenza : 55-64",
          "Pneumonia : 55-64",
          "#Chronic lower respiratory diseases : 55-64",
          "Asthma : 55-64",
          "Other chronic lower respiratory diseases : 55-64",
          "Emphysema : 55-64",
          "#Pneumonitis due to solids and liquids : 55-64",
          "Other diseases of respiratory system : 55-64",
          "#Peptic ulcer : 55-64",
          "#Chronic liver disease and cirrhosis : 55-64",
          "Alcoholic liver disease : 55-64",
          "Other chronic liver disease and cirrhosis : 55-64",
          "#Nephritis, nephrotic syndrome and nephrosis : 55-64",
          "Renal failure : 55-64",
          "#Congenital malformations, deformations and chromosomal abnormalities : 55-64",
          "Symptoms, signs and abnormal clinical and laboratory findings, not elsewhere classified : 55-64",
          "All other diseases : 55-64",
          "#Accidents : 55-64",
          "Transport accidents : 55-64",
          "Motor vehicle accidents : 55-64",
          "Water, air and space, and other and unspecified transport accidents and their sequelae : 55-64",
          "Nontransport accidents : 55-64",
          "Falls : 55-64",
          "Other and unspecified nontransport accidents and their sequelae : 55-64",
          "Accidental exposure to smoke, fire and flames : 55-64",
          "Accidental poisoning and exposure to noxious substances : 55-64",
          "Accidental drowning and submersion : 55-64",
          "#Intentional self-harm : 55-64",
          "Intentional self-harm : 55-64",
          "Intentional self-harm : 55-64",
          "#Assault : 55-64",
          "Assault : 55-64",
          "Assault : 55-64",
          "Events of undetermined intent : 55-64",
          "Other and unspecified events of undetermined intent and their sequelae : 55-64",
          "#Complications of medical and surgical care : 55-64",
          "65-74",
          "Certain other intestinal infections : 65-74",
          "#Enterocolitis due to Clostridium difficile : 65-74",
          "#Septicemia : 65-74",
          "#Viral hepatitis : 65-74",
          "#Human immunodeficiency virus : 65-74",
          "Other and unspecified infectious and parasitic diseases and their sequelae : 65-74",
          "#Malignant neoplasms : 65-74",
          "Malignant neoplasms of kidney and renal pelvis : 65-74",
          "Malignant neoplasms of liver and intrahepatic bile ducts : 65-74",
          "Malignant neoplasms of meninges, brain and other parts of central nervous system : 65-74",
          "Malignant neoplasm of stomach : 65-74",
          "Malignant neoplasm of cervix uteri : 65-74",
          "Malignant neoplasm of larynx : 65-74",
          "Malignant neoplasm of bladder : 65-74",
          "All other and unspecified malignant neoplasms : 65-74",
          "Malignant neoplasm of breast : 65-74",
          "Malignant neoplasms of lymphoid, hematopoietic and related tissue : 65-74",
          "Leukemia : 65-74",
          "Non-Hodgkin lymphoma : 65-74",
          "Multiple myeloma and immunoproliferative neoplasms : 65-74",
          "Malignant neoplasm of prostate : 65-74",
          "Malignant melanoma of skin : 65-74",
          "Malignant neoplasm of esophagus : 65-74",
          "Malignant neoplasms of corpus uteri and uterus, part unspecified : 65-74",
          "Malignant neoplasms of colon, rectum and anus : 65-74",
          "Malignant neoplasm of ovary : 65-74",
          "Malignant neoplasms of lip, oral cavity and pharynx : 65-74",
          "Malignant neoplasm of pancreas : 65-74",
          "Malignant neoplasms of trachea, bronchus and lung : 65-74",
          "#In situ neoplasms, benign neoplasms and neoplasms of uncertain or unknown behavior : 65-74",
          "#Anemias : 65-74",
          "#Diabetes mellitus : 65-74",
          "#Nutritional deficiencies : 65-74",
          "Malnutrition : 65-74",
          "#Parkinson disease : 65-74",
          "#Alzheimer disease : 65-74",
          "Major cardiovascular diseases : 65-74",
          "#Atherosclerosis : 65-74",
          "#Cerebrovascular diseases : 65-74",
          "#Diseases of heart : 65-74",
          "Ischemic heart diseases : 65-74",
          "Acute myocardial infarction : 65-74",
          "Other forms of chronic ischemic heart disease : 65-74",
          "All other forms of chronic ischemic heart disease : 65-74",
          "Atherosclerotic cardiovascular disease, so described : 65-74",
          "Other acute ischemic heart diseases : 65-74",
          "Other heart diseases : 65-74",
          "Heart failure : 65-74",
          "Diseases of pericardium and acute myocarditis : 65-74",
          "All other forms of heart disease : 65-74",
          "Acute and subacute endocarditis : 65-74",
          "Hypertensive heart disease : 65-74",
          "Acute rheumatic fever and chronic rheumatic heart diseases : 65-74",
          "Hypertensive heart and renal disease : 65-74",
          "Other diseases of circulatory system : 65-74",
          "Other diseases of arteries, arterioles and capillaries : 65-74",
          "#Aortic aneurysm and dissection : 65-74",
          "#Essential hypertension and hypertensive renal disease : 65-74",
          "Other disorders of circulatory system : 65-74",
          "#Influenza and pneumonia : 65-74",
          "Influenza : 65-74",
          "Pneumonia : 65-74",
          "#Chronic lower respiratory diseases : 65-74",
          "Asthma : 65-74",
          "Other chronic lower respiratory diseases : 65-74",
          "Emphysema : 65-74",
          "#Pneumonitis due to solids and liquids : 65-74",
          "Other diseases of respiratory system : 65-74",
          "#Peptic ulcer : 65-74",
          "#Chronic liver disease and cirrhosis : 65-74",
          "Alcoholic liver disease : 65-74",
          "Other chronic liver disease and cirrhosis : 65-74",
          "#Cholelithiasis and other disorders of gallbladder : 65-74",
          "#Nephritis, nephrotic syndrome and nephrosis : 65-74",
          "Renal failure : 65-74",
          "#Congenital malformations, deformations and chromosomal abnormalities : 65-74",
          "Symptoms, signs and abnormal clinical and laboratory findings, not elsewhere classified : 65-74",
          "All other diseases : 65-74",
          "#Accidents : 65-74",
          "Transport accidents : 65-74",
          "Motor vehicle accidents : 65-74",
          "Water, air and space, and other and unspecified transport accidents and their sequelae : 65-74",
          "Nontransport accidents : 65-74",
          "Falls : 65-74",
          "Other and unspecified nontransport accidents and their sequelae : 65-74",
          "Accidental exposure to smoke, fire and flames : 65-74",
          "Accidental poisoning and exposure to noxious substances : 65-74",
          "Accidental drowning and submersion : 65-74",
          "#Intentional self-harm : 65-74",
          "Intentional self-harm : 65-74",
          "Intentional self-harm : 65-74",
          "#Assault : 65-74",
          "Assault : 65-74",
          "Events of undetermined intent : 65-74",
          "Other and unspecified events of undetermined intent and their sequelae : 65-74",
          "#Complications of medical and surgical care : 65-74",
          "#Hernia : 65-74",
          "75-84",
          "Certain other intestinal infections : 75-84",
          "#Enterocolitis due to Clostridium difficile : 75-84",
          "#Septicemia : 75-84",
          "#Viral hepatitis : 75-84",
          "Other and unspecified infectious and parasitic diseases and their sequelae : 75-84",
          "#Malignant neoplasms : 75-84",
          "Malignant neoplasms of kidney and renal pelvis : 75-84",
          "Malignant neoplasms of liver and intrahepatic bile ducts : 75-84",
          "Malignant neoplasms of meninges, brain and other parts of central nervous system : 75-84",
          "Malignant neoplasm of stomach : 75-84",
          "Malignant neoplasm of cervix uteri : 75-84",
          "Malignant neoplasm of larynx : 75-84",
          "Malignant neoplasm of bladder : 75-84",
          "All other and unspecified malignant neoplasms : 75-84",
          "Malignant neoplasm of breast : 75-84",
          "Malignant neoplasms of lymphoid, hematopoietic and related tissue : 75-84",
          "Leukemia : 75-84",
          "Non-Hodgkin lymphoma : 75-84",
          "Multiple myeloma and immunoproliferative neoplasms : 75-84",
          "Malignant neoplasm of prostate : 75-84",
          "Malignant melanoma of skin : 75-84",
          "Malignant neoplasm of esophagus : 75-84",
          "Malignant neoplasms of corpus uteri and uterus, part unspecified : 75-84",
          "Malignant neoplasms of colon, rectum and anus : 75-84",
          "Malignant neoplasm of ovary : 75-84",
          "Malignant neoplasms of lip, oral cavity and pharynx : 75-84",
          "Malignant neoplasm of pancreas : 75-84",
          "Malignant neoplasms of trachea, bronchus and lung : 75-84",
          "#In situ neoplasms, benign neoplasms and neoplasms of uncertain or unknown behavior : 75-84",
          "#Anemias : 75-84",
          "#Diabetes mellitus : 75-84",
          "#Nutritional deficiencies : 75-84",
          "Malnutrition : 75-84",
          "#Parkinson disease : 75-84",
          "#Alzheimer disease : 75-84",
          "Major cardiovascular diseases : 75-84",
          "#Atherosclerosis : 75-84",
          "#Cerebrovascular diseases : 75-84",
          "#Diseases of heart : 75-84",
          "Ischemic heart diseases : 75-84",
          "Acute myocardial infarction : 75-84",
          "Other forms of chronic ischemic heart disease : 75-84",
          "All other forms of chronic ischemic heart disease : 75-84",
          "Atherosclerotic cardiovascular disease, so described : 75-84",
          "Other acute ischemic heart diseases : 75-84",
          "Other heart diseases : 75-84",
          "Heart failure : 75-84",
          "All other forms of heart disease : 75-84",
          "Acute and subacute endocarditis : 75-84",
          "Hypertensive heart disease : 75-84",
          "Acute rheumatic fever and chronic rheumatic heart diseases : 75-84",
          "Hypertensive heart and renal disease : 75-84",
          "Other diseases of circulatory system : 75-84",
          "Other diseases of arteries, arterioles and capillaries : 75-84",
          "#Aortic aneurysm and dissection : 75-84",
          "#Essential hypertension and hypertensive renal disease : 75-84",
          "Other disorders of circulatory system : 75-84",
          "#Influenza and pneumonia : 75-84",
          "Influenza : 75-84",
          "Pneumonia : 75-84",
          "#Chronic lower respiratory diseases : 75-84",
          "Other chronic lower respiratory diseases : 75-84",
          "Emphysema : 75-84",
          "#Pneumonitis due to solids and liquids : 75-84",
          "Other diseases of respiratory system : 75-84",
          "#Peptic ulcer : 75-84",
          "#Chronic liver disease and cirrhosis : 75-84",
          "Alcoholic liver disease : 75-84",
          "Other chronic liver disease and cirrhosis : 75-84",
          "#Cholelithiasis and other disorders of gallbladder : 75-84",
          "#Nephritis, nephrotic syndrome and nephrosis : 75-84",
          "Renal failure : 75-84",
          "#Congenital malformations, deformations and chromosomal abnormalities : 75-84",
          "Symptoms, signs and abnormal clinical and laboratory findings, not elsewhere classified : 75-84",
          "All other diseases : 75-84",
          "#Accidents : 75-84",
          "Transport accidents : 75-84",
          "Motor vehicle accidents : 75-84",
          "Nontransport accidents : 75-84",
          "Falls : 75-84",
          "Other and unspecified nontransport accidents and their sequelae : 75-84",
          "Accidental exposure to smoke, fire and flames : 75-84",
          "Accidental poisoning and exposure to noxious substances : 75-84",
          "#Intentional self-harm : 75-84",
          "Intentional self-harm : 75-84",
          "Intentional self-harm : 75-84",
          "#Complications of medical and surgical care : 75-84",
          "#Hernia : 75-84",
          "85+",
          "Certain other intestinal infections : 85+",
          "#Enterocolitis due to Clostridium difficile : 85+",
          "#Septicemia : 85+",
          "Other and unspecified infectious and parasitic diseases and their sequelae : 85+",
          "#Malignant neoplasms : 85+",
          "Malignant neoplasms of kidney and renal pelvis : 85+",
          "Malignant neoplasms of liver and intrahepatic bile ducts : 85+",
          "Malignant neoplasms of meninges, brain and other parts of central nervous system : 85+",
          "Malignant neoplasm of stomach : 85+",
          "Malignant neoplasm of larynx : 85+",
          "Malignant neoplasm of bladder : 85+",
          "All other and unspecified malignant neoplasms : 85+",
          "Malignant neoplasm of breast : 85+",
          "Malignant neoplasms of lymphoid, hematopoietic and related tissue : 85+",
          "Leukemia : 85+",
          "Non-Hodgkin lymphoma : 85+",
          "Multiple myeloma and immunoproliferative neoplasms : 85+",
          "Malignant neoplasm of prostate : 85+",
          "Malignant melanoma of skin : 85+",
          "Malignant neoplasm of esophagus : 85+",
          "Malignant neoplasms of corpus uteri and uterus, part unspecified : 85+",
          "Malignant neoplasms of colon, rectum and anus : 85+",
          "Malignant neoplasm of ovary : 85+",
          "Malignant neoplasms of lip, oral cavity and pharynx : 85+",
          "Malignant neoplasm of pancreas : 85+",
          "Malignant neoplasms of trachea, bronchus and lung : 85+",
          "#In situ neoplasms, benign neoplasms and neoplasms of uncertain or unknown behavior : 85+",
          "#Anemias : 85+",
          "#Diabetes mellitus : 85+",
          "#Nutritional deficiencies : 85+",
          "Malnutrition : 85+",
          "#Parkinson disease : 85+",
          "#Alzheimer disease : 85+",
          "Major cardiovascular diseases : 85+",
          "#Atherosclerosis : 85+",
          "#Cerebrovascular diseases : 85+",
          "#Diseases of heart : 85+",
          "Ischemic heart diseases : 85+",
          "Acute myocardial infarction : 85+",
          "Other forms of chronic ischemic heart disease : 85+",
          "All other forms of chronic ischemic heart disease : 85+",
          "Atherosclerotic cardiovascular disease, so described : 85+",
          "Other acute ischemic heart diseases : 85+",
          "Other heart diseases : 85+",
          "Heart failure : 85+",
          "All other forms of heart disease : 85+",
          "Acute and subacute endocarditis : 85+",
          "Hypertensive heart disease : 85+",
          "Acute rheumatic fever and chronic rheumatic heart diseases : 85+",
          "Hypertensive heart and renal disease : 85+",
          "Other diseases of circulatory system : 85+",
          "Other diseases of arteries, arterioles and capillaries : 85+",
          "#Aortic aneurysm and dissection : 85+",
          "#Essential hypertension and hypertensive renal disease : 85+",
          "Other disorders of circulatory system : 85+",
          "#Influenza and pneumonia : 85+",
          "Influenza : 85+",
          "Pneumonia : 85+",
          "#Chronic lower respiratory diseases : 85+",
          "Asthma : 85+",
          "Other chronic lower respiratory diseases : 85+",
          "Emphysema : 85+",
          "#Pneumonitis due to solids and liquids : 85+",
          "Other diseases of respiratory system : 85+",
          "#Peptic ulcer : 85+",
          "#Chronic liver disease and cirrhosis : 85+",
          "Other chronic liver disease and cirrhosis : 85+",
          "#Cholelithiasis and other disorders of gallbladder : 85+",
          "#Nephritis, nephrotic syndrome and nephrosis : 85+",
          "Renal failure : 85+",
          "Symptoms, signs and abnormal clinical and laboratory findings, not elsewhere classified : 85+",
          "All other diseases : 85+",
          "#Accidents : 85+",
          "Transport accidents : 85+",
          "Motor vehicle accidents : 85+",
          "Nontransport accidents : 85+",
          "Falls : 85+",
          "Other and unspecified nontransport accidents and their sequelae : 85+",
          "#Intentional self-harm : 85+",
          "Intentional self-harm : 85+",
          "#Complications of medical and surgical care : 85+",
          "#Hernia : 85+",
          "#Hyperplasia of prostate : 85+",
          "25-34",
          "#Septicemia : 25-34",
          "#Human immunodeficiency virus : 25-34",
          "#Malignant neoplasms : 25-34",
          "Malignant neoplasms of meninges, brain and other parts of central nervous system : 25-34",
          "All other and unspecified malignant neoplasms : 25-34",
          "Malignant neoplasm of breast : 25-34",
          "Malignant neoplasms of lymphoid, hematopoietic and related tissue : 25-34",
          "#Diabetes mellitus : 25-34",
          "Major cardiovascular diseases : 25-34",
          "#Cerebrovascular diseases : 25-34",
          "#Diseases of heart : 25-34",
          "Ischemic heart diseases : 25-34",
          "Acute myocardial infarction : 25-34",
          "Other forms of chronic ischemic heart disease : 25-34",
          "Atherosclerotic cardiovascular disease, so described : 25-34",
          "Other heart diseases : 25-34",
          "All other forms of heart disease : 25-34",
          "Hypertensive heart disease : 25-34",
          "#Influenza and pneumonia : 25-34",
          "Pneumonia : 25-34",
          "#Chronic lower respiratory diseases : 25-34",
          "Asthma : 25-34",
          "#Chronic liver disease and cirrhosis : 25-34",
          "Alcoholic liver disease : 25-34",
          "#Pregnancy, childbirth and the puerperium : 25-34",
          "Other complications of pregnancy, childbirth and the puerperium : 25-34",
          "#Congenital malformations, deformations and chromosomal abnormalities : 25-34",
          "Symptoms, signs and abnormal clinical and laboratory findings, not elsewhere classified : 25-34",
          "All other diseases : 25-34",
          "#Accidents : 25-34",
          "Transport accidents : 25-34",
          "Motor vehicle accidents : 25-34",
          "Nontransport accidents : 25-34",
          "Other and unspecified nontransport accidents and their sequelae : 25-34",
          "Accidental poisoning and exposure to noxious substances : 25-34",
          "Accidental drowning and submersion : 25-34",
          "#Intentional self-harm : 25-34",
          "Intentional self-harm : 25-34",
          "Intentional self-harm : 25-34",
          "#Assault : 25-34",
          "Assault : 25-34",
          "Assault : 25-34",
          "Events of undetermined intent : 25-34",
          "Other and unspecified events of undetermined intent and their sequelae : 25-34",
          "35-44",
          "#Septicemia : 35-44",
          "Other and unspecified infectious and parasitic diseases and their sequelae : 35-44",
          "#Malignant neoplasms : 35-44",
          "Malignant neoplasms of meninges, brain and other parts of central nervous system : 35-44",
          "Malignant neoplasm of cervix uteri : 35-44",
          "All other and unspecified malignant neoplasms : 35-44",
          "Malignant neoplasm of breast : 35-44",
          "Malignant neoplasms of lymphoid, hematopoietic and related tissue : 35-44",
          "Leukemia : 35-44",
          "Malignant melanoma of skin : 35-44",
          "Malignant neoplasms of colon, rectum and anus : 35-44",
          "Malignant neoplasm of pancreas : 35-44",
          "Malignant neoplasms of trachea, bronchus and lung : 35-44",
          "#Diabetes mellitus : 35-44",
          "Major cardiovascular diseases : 35-44",
          "#Cerebrovascular diseases : 35-44",
          "#Diseases of heart : 35-44",
          "Ischemic heart diseases : 35-44",
          "Acute myocardial infarction : 35-44",
          "Other forms of chronic ischemic heart disease : 35-44",
          "All other forms of chronic ischemic heart disease : 35-44",
          "Atherosclerotic cardiovascular disease, so described : 35-44",
          "Other heart diseases : 35-44",
          "Heart failure : 35-44",
          "All other forms of heart disease : 35-44",
          "Hypertensive heart disease : 35-44",
          "Other diseases of circulatory system : 35-44",
          "#Aortic aneurysm and dissection : 35-44",
          "#Essential hypertension and hypertensive renal disease : 35-44",
          "Other disorders of circulatory system : 35-44",
          "#Influenza and pneumonia : 35-44",
          "Pneumonia : 35-44",
          "#Chronic lower respiratory diseases : 35-44",
          "Other diseases of respiratory system : 35-44",
          "#Chronic liver disease and cirrhosis : 35-44",
          "Alcoholic liver disease : 35-44",
          "Other chronic liver disease and cirrhosis : 35-44",
          "#Nephritis, nephrotic syndrome and nephrosis : 35-44",
          "Renal failure : 35-44",
          "#Pregnancy, childbirth and the puerperium : 35-44",
          "Other complications of pregnancy, childbirth and the puerperium : 35-44",
          "#Congenital malformations, deformations and chromosomal abnormalities : 35-44",
          "Symptoms, signs and abnormal clinical and laboratory findings, not elsewhere classified : 35-44",
          "All other diseases : 35-44",
          "#Accidents : 35-44",
          "Transport accidents : 35-44",
          "Motor vehicle accidents : 35-44",
          "Nontransport accidents : 35-44",
          "Other and unspecified nontransport accidents and their sequelae : 35-44",
          "Accidental poisoning and exposure to noxious substances : 35-44",
          "Accidental drowning and submersion : 35-44",
          "#Intentional self-harm : 35-44",
          "Intentional self-harm : 35-44",
          "Intentional self-harm : 35-44",
          "#Assault : 35-44",
          "Assault : 35-44",
          "Assault : 35-44",
          "Events of undetermined intent : 35-44",
          "Other and unspecified events of undetermined intent and their sequelae : 35-44",
          "1-4",
          "#Malignant neoplasms : 1-4",
          "#Congenital malformations, deformations and chromosomal abnormalities : 1-4",
          "All other diseases : 1-4",
          "#Accidents : 1-4",
          "Transport accidents : 1-4",
          "Motor vehicle accidents : 1-4",
          "Nontransport accidents : 1-4",
          "#Assault : 1-4",
          "5-14",
          "#Malignant neoplasms : 5-14",
          "Malignant neoplasms of meninges, brain and other parts of central nervous system : 5-14",
          "Major cardiovascular diseases : 5-14",
          "#Diseases of heart : 5-14",
          "#Congenital malformations, deformations and chromosomal abnormalities : 5-14",
          "All other diseases : 5-14",
          "#Accidents : 5-14",
          "Transport accidents : 5-14",
          "Motor vehicle accidents : 5-14",
          "Nontransport accidents : 5-14",
          "#Intentional self-harm : 5-14",
          "Intentional self-harm : 5-14",
          "#Assault : 5-14",
          "15-24",
          "#Malignant neoplasms : 15-24",
          "Malignant neoplasms of meninges, brain and other parts of central nervous system : 15-24",
          "All other and unspecified malignant neoplasms : 15-24",
          "Major cardiovascular diseases : 15-24",
          "#Diseases of heart : 15-24",
          "Other heart diseases : 15-24",
          "All other forms of heart disease : 15-24",
          "#Influenza and pneumonia : 15-24",
          "#Chronic lower respiratory diseases : 15-24",
          "Asthma : 15-24",
          "#Congenital malformations, deformations and chromosomal abnormalities : 15-24",
          "Symptoms, signs and abnormal clinical and laboratory findings, not elsewhere classified : 15-24",
          "All other diseases : 15-24",
          "#Accidents : 15-24",
          "Transport accidents : 15-24",
          "Motor vehicle accidents : 15-24",
          "Nontransport accidents : 15-24",
          "Accidental poisoning and exposure to noxious substances : 15-24",
          "Accidental drowning and submersion : 15-24",
          "#Intentional self-harm : 15-24",
          "Intentional self-harm : 15-24",
          "Intentional self-harm : 15-24",
          "#Assault : 15-24",
          "Assault : 15-24",
          "Events of undetermined intent : 15-24",
          "Other and unspecified events of undetermined intent and their sequelae : 15-24",
          "1",
          "Major cardiovascular diseases : 1",
          "#Certain conditions originating in the perinatal period : 1",
          "#Congenital malformations, deformations and chromosomal abnormalities : 1",
          "Symptoms, signs and abnormal clinical and laboratory findings, not elsewhere classified : 1",
          "All other diseases : 1",
          "#Accidents : 1",
          "Nontransport accidents : 1",
          "Other and unspecified nontransport accidents and their sequelae : 1",
          "#Assault : 1",
          "Assault : 1"
         ],
         "parents": [
          "",
          "All Ages",
          "45-54",
          "45-54",
          "45-54",
          "45-54",
          "45-54",
          "45-54",
          "#Malignant neoplasms : 45-54",
          "#Malignant neoplasms : 45-54",
          "#Malignant neoplasms : 45-54",
          "#Malignant neoplasms : 45-54",
          "#Malignant neoplasms : 45-54",
          "#Malignant neoplasms : 45-54",
          "#Malignant neoplasms : 45-54",
          "#Malignant neoplasms : 45-54",
          "#Malignant neoplasms : 45-54",
          "#Malignant neoplasms : 45-54",
          "Malignant neoplasms of lymphoid, hematopoietic and related tissue : 45-54",
          "Malignant neoplasms of lymphoid, hematopoietic and related tissue : 45-54",
          "Malignant neoplasms of lymphoid, hematopoietic and related tissue : 45-54",
          "#Malignant neoplasms : 45-54",
          "#Malignant neoplasms : 45-54",
          "#Malignant neoplasms : 45-54",
          "#Malignant neoplasms : 45-54",
          "#Malignant neoplasms : 45-54",
          "#Malignant neoplasms : 45-54",
          "#Malignant neoplasms : 45-54",
          "#Malignant neoplasms : 45-54",
          "#Malignant neoplasms : 45-54",
          "45-54",
          "45-54",
          "45-54",
          "Major cardiovascular diseases : 45-54",
          "Major cardiovascular diseases : 45-54",
          "#Diseases of heart : 45-54",
          "Ischemic heart diseases : 45-54",
          "Ischemic heart diseases : 45-54",
          "Other forms of chronic ischemic heart disease : 45-54",
          "Other forms of chronic ischemic heart disease : 45-54",
          "#Diseases of heart : 45-54",
          "Other heart diseases : 45-54",
          "Other heart diseases : 45-54",
          "#Diseases of heart : 45-54",
          "#Diseases of heart : 45-54",
          "Major cardiovascular diseases : 45-54",
          "Other diseases of circulatory system : 45-54",
          "Other diseases of circulatory system : 45-54",
          "Major cardiovascular diseases : 45-54",
          "45-54",
          "45-54",
          "#Influenza and pneumonia : 45-54",
          "#Influenza and pneumonia : 45-54",
          "45-54",
          "#Chronic lower respiratory diseases : 45-54",
          "#Chronic lower respiratory diseases : 45-54",
          "45-54",
          "45-54",
          "45-54",
          "#Chronic liver disease and cirrhosis : 45-54",
          "#Chronic liver disease and cirrhosis : 45-54",
          "45-54",
          "#Nephritis, nephrotic syndrome and nephrosis : 45-54",
          "45-54",
          "45-54",
          "45-54",
          "45-54",
          "#Accidents : 45-54",
          "Transport accidents : 45-54",
          "Transport accidents : 45-54",
          "#Accidents : 45-54",
          "Nontransport accidents : 45-54",
          "Nontransport accidents : 45-54",
          "Nontransport accidents : 45-54",
          "45-54",
          "#Intentional self-harm : 45-54",
          "#Intentional self-harm : 45-54",
          "45-54",
          "#Assault : 45-54",
          "#Assault : 45-54",
          "45-54",
          "Events of undetermined intent : 45-54",
          "All Ages",
          "55-64",
          "Certain other intestinal infections : 55-64",
          "55-64",
          "55-64",
          "55-64",
          "55-64",
          "55-64",
          "#Malignant neoplasms : 55-64",
          "#Malignant neoplasms : 55-64",
          "#Malignant neoplasms : 55-64",
          "#Malignant neoplasms : 55-64",
          "#Malignant neoplasms : 55-64",
          "#Malignant neoplasms : 55-64",
          "#Malignant neoplasms : 55-64",
          "#Malignant neoplasms : 55-64",
          "#Malignant neoplasms : 55-64",
          "#Malignant neoplasms : 55-64",
          "Malignant neoplasms of lymphoid, hematopoietic and related tissue : 55-64",
          "Malignant neoplasms of lymphoid, hematopoietic and related tissue : 55-64",
          "Malignant neoplasms of lymphoid, hematopoietic and related tissue : 55-64",
          "#Malignant neoplasms : 55-64",
          "#Malignant neoplasms : 55-64",
          "#Malignant neoplasms : 55-64",
          "#Malignant neoplasms : 55-64",
          "#Malignant neoplasms : 55-64",
          "#Malignant neoplasms : 55-64",
          "#Malignant neoplasms : 55-64",
          "#Malignant neoplasms : 55-64",
          "#Malignant neoplasms : 55-64",
          "55-64",
          "55-64",
          "55-64",
          "55-64",
          "#Nutritional deficiencies : 55-64",
          "55-64",
          "55-64",
          "55-64",
          "Major cardiovascular diseases : 55-64",
          "Major cardiovascular diseases : 55-64",
          "Major cardiovascular diseases : 55-64",
          "#Diseases of heart : 55-64",
          "Ischemic heart diseases : 55-64",
          "Ischemic heart diseases : 55-64",
          "Other forms of chronic ischemic heart disease : 55-64",
          "Other forms of chronic ischemic heart disease : 55-64",
          "Ischemic heart diseases : 55-64",
          "#Diseases of heart : 55-64",
          "Other heart diseases : 55-64",
          "Other heart diseases : 55-64",
          "Other heart diseases : 55-64",
          "#Diseases of heart : 55-64",
          "#Diseases of heart : 55-64",
          "#Diseases of heart : 55-64",
          "Major cardiovascular diseases : 55-64",
          "Other diseases of circulatory system : 55-64",
          "Other diseases of circulatory system : 55-64",
          "Major cardiovascular diseases : 55-64",
          "55-64",
          "55-64",
          "#Influenza and pneumonia : 55-64",
          "#Influenza and pneumonia : 55-64",
          "55-64",
          "#Chronic lower respiratory diseases : 55-64",
          "#Chronic lower respiratory diseases : 55-64",
          "#Chronic lower respiratory diseases : 55-64",
          "55-64",
          "55-64",
          "55-64",
          "55-64",
          "#Chronic liver disease and cirrhosis : 55-64",
          "#Chronic liver disease and cirrhosis : 55-64",
          "55-64",
          "#Nephritis, nephrotic syndrome and nephrosis : 55-64",
          "55-64",
          "55-64",
          "55-64",
          "55-64",
          "#Accidents : 55-64",
          "Transport accidents : 55-64",
          "Transport accidents : 55-64",
          "#Accidents : 55-64",
          "Nontransport accidents : 55-64",
          "Nontransport accidents : 55-64",
          "Nontransport accidents : 55-64",
          "Nontransport accidents : 55-64",
          "Nontransport accidents : 55-64",
          "55-64",
          "#Intentional self-harm : 55-64",
          "#Intentional self-harm : 55-64",
          "55-64",
          "#Assault : 55-64",
          "#Assault : 55-64",
          "55-64",
          "Events of undetermined intent : 55-64",
          "55-64",
          "All Ages",
          "65-74",
          "Certain other intestinal infections : 65-74",
          "65-74",
          "65-74",
          "65-74",
          "65-74",
          "65-74",
          "#Malignant neoplasms : 65-74",
          "#Malignant neoplasms : 65-74",
          "#Malignant neoplasms : 65-74",
          "#Malignant neoplasms : 65-74",
          "#Malignant neoplasms : 65-74",
          "#Malignant neoplasms : 65-74",
          "#Malignant neoplasms : 65-74",
          "#Malignant neoplasms : 65-74",
          "#Malignant neoplasms : 65-74",
          "#Malignant neoplasms : 65-74",
          "Malignant neoplasms of lymphoid, hematopoietic and related tissue : 65-74",
          "Malignant neoplasms of lymphoid, hematopoietic and related tissue : 65-74",
          "Malignant neoplasms of lymphoid, hematopoietic and related tissue : 65-74",
          "#Malignant neoplasms : 65-74",
          "#Malignant neoplasms : 65-74",
          "#Malignant neoplasms : 65-74",
          "#Malignant neoplasms : 65-74",
          "#Malignant neoplasms : 65-74",
          "#Malignant neoplasms : 65-74",
          "#Malignant neoplasms : 65-74",
          "#Malignant neoplasms : 65-74",
          "#Malignant neoplasms : 65-74",
          "65-74",
          "65-74",
          "65-74",
          "65-74",
          "#Nutritional deficiencies : 65-74",
          "65-74",
          "65-74",
          "65-74",
          "Major cardiovascular diseases : 65-74",
          "Major cardiovascular diseases : 65-74",
          "Major cardiovascular diseases : 65-74",
          "#Diseases of heart : 65-74",
          "Ischemic heart diseases : 65-74",
          "Ischemic heart diseases : 65-74",
          "Other forms of chronic ischemic heart disease : 65-74",
          "Other forms of chronic ischemic heart disease : 65-74",
          "Ischemic heart diseases : 65-74",
          "#Diseases of heart : 65-74",
          "Other heart diseases : 65-74",
          "Other heart diseases : 65-74",
          "Other heart diseases : 65-74",
          "Other heart diseases : 65-74",
          "#Diseases of heart : 65-74",
          "#Diseases of heart : 65-74",
          "#Diseases of heart : 65-74",
          "Major cardiovascular diseases : 65-74",
          "Other diseases of circulatory system : 65-74",
          "Other diseases of circulatory system : 65-74",
          "Major cardiovascular diseases : 65-74",
          "65-74",
          "65-74",
          "#Influenza and pneumonia : 65-74",
          "#Influenza and pneumonia : 65-74",
          "65-74",
          "#Chronic lower respiratory diseases : 65-74",
          "#Chronic lower respiratory diseases : 65-74",
          "#Chronic lower respiratory diseases : 65-74",
          "65-74",
          "65-74",
          "65-74",
          "65-74",
          "#Chronic liver disease and cirrhosis : 65-74",
          "#Chronic liver disease and cirrhosis : 65-74",
          "65-74",
          "65-74",
          "#Nephritis, nephrotic syndrome and nephrosis : 65-74",
          "65-74",
          "65-74",
          "65-74",
          "65-74",
          "#Accidents : 65-74",
          "Transport accidents : 65-74",
          "Transport accidents : 65-74",
          "#Accidents : 65-74",
          "Nontransport accidents : 65-74",
          "Nontransport accidents : 65-74",
          "Nontransport accidents : 65-74",
          "Nontransport accidents : 65-74",
          "Nontransport accidents : 65-74",
          "65-74",
          "#Intentional self-harm : 65-74",
          "#Intentional self-harm : 65-74",
          "65-74",
          "#Assault : 65-74",
          "65-74",
          "Events of undetermined intent : 65-74",
          "65-74",
          "65-74",
          "All Ages",
          "75-84",
          "Certain other intestinal infections : 75-84",
          "75-84",
          "75-84",
          "75-84",
          "75-84",
          "#Malignant neoplasms : 75-84",
          "#Malignant neoplasms : 75-84",
          "#Malignant neoplasms : 75-84",
          "#Malignant neoplasms : 75-84",
          "#Malignant neoplasms : 75-84",
          "#Malignant neoplasms : 75-84",
          "#Malignant neoplasms : 75-84",
          "#Malignant neoplasms : 75-84",
          "#Malignant neoplasms : 75-84",
          "#Malignant neoplasms : 75-84",
          "Malignant neoplasms of lymphoid, hematopoietic and related tissue : 75-84",
          "Malignant neoplasms of lymphoid, hematopoietic and related tissue : 75-84",
          "Malignant neoplasms of lymphoid, hematopoietic and related tissue : 75-84",
          "#Malignant neoplasms : 75-84",
          "#Malignant neoplasms : 75-84",
          "#Malignant neoplasms : 75-84",
          "#Malignant neoplasms : 75-84",
          "#Malignant neoplasms : 75-84",
          "#Malignant neoplasms : 75-84",
          "#Malignant neoplasms : 75-84",
          "#Malignant neoplasms : 75-84",
          "#Malignant neoplasms : 75-84",
          "75-84",
          "75-84",
          "75-84",
          "75-84",
          "#Nutritional deficiencies : 75-84",
          "75-84",
          "75-84",
          "75-84",
          "Major cardiovascular diseases : 75-84",
          "Major cardiovascular diseases : 75-84",
          "Major cardiovascular diseases : 75-84",
          "#Diseases of heart : 75-84",
          "Ischemic heart diseases : 75-84",
          "Ischemic heart diseases : 75-84",
          "Other forms of chronic ischemic heart disease : 75-84",
          "Other forms of chronic ischemic heart disease : 75-84",
          "Ischemic heart diseases : 75-84",
          "#Diseases of heart : 75-84",
          "Other heart diseases : 75-84",
          "Other heart diseases : 75-84",
          "Other heart diseases : 75-84",
          "#Diseases of heart : 75-84",
          "#Diseases of heart : 75-84",
          "#Diseases of heart : 75-84",
          "Major cardiovascular diseases : 75-84",
          "Other diseases of circulatory system : 75-84",
          "Other diseases of circulatory system : 75-84",
          "Major cardiovascular diseases : 75-84",
          "75-84",
          "75-84",
          "#Influenza and pneumonia : 75-84",
          "#Influenza and pneumonia : 75-84",
          "75-84",
          "#Chronic lower respiratory diseases : 75-84",
          "#Chronic lower respiratory diseases : 75-84",
          "75-84",
          "75-84",
          "75-84",
          "75-84",
          "#Chronic liver disease and cirrhosis : 75-84",
          "#Chronic liver disease and cirrhosis : 75-84",
          "75-84",
          "75-84",
          "#Nephritis, nephrotic syndrome and nephrosis : 75-84",
          "75-84",
          "75-84",
          "75-84",
          "75-84",
          "#Accidents : 75-84",
          "Transport accidents : 75-84",
          "#Accidents : 75-84",
          "Nontransport accidents : 75-84",
          "Nontransport accidents : 75-84",
          "Nontransport accidents : 75-84",
          "Nontransport accidents : 75-84",
          "75-84",
          "#Intentional self-harm : 75-84",
          "#Intentional self-harm : 75-84",
          "75-84",
          "75-84",
          "All Ages",
          "85+",
          "Certain other intestinal infections : 85+",
          "85+",
          "85+",
          "85+",
          "#Malignant neoplasms : 85+",
          "#Malignant neoplasms : 85+",
          "#Malignant neoplasms : 85+",
          "#Malignant neoplasms : 85+",
          "#Malignant neoplasms : 85+",
          "#Malignant neoplasms : 85+",
          "#Malignant neoplasms : 85+",
          "#Malignant neoplasms : 85+",
          "#Malignant neoplasms : 85+",
          "Malignant neoplasms of lymphoid, hematopoietic and related tissue : 85+",
          "Malignant neoplasms of lymphoid, hematopoietic and related tissue : 85+",
          "Malignant neoplasms of lymphoid, hematopoietic and related tissue : 85+",
          "#Malignant neoplasms : 85+",
          "#Malignant neoplasms : 85+",
          "#Malignant neoplasms : 85+",
          "#Malignant neoplasms : 85+",
          "#Malignant neoplasms : 85+",
          "#Malignant neoplasms : 85+",
          "#Malignant neoplasms : 85+",
          "#Malignant neoplasms : 85+",
          "#Malignant neoplasms : 85+",
          "85+",
          "85+",
          "85+",
          "85+",
          "#Nutritional deficiencies : 85+",
          "85+",
          "85+",
          "85+",
          "Major cardiovascular diseases : 85+",
          "Major cardiovascular diseases : 85+",
          "Major cardiovascular diseases : 85+",
          "#Diseases of heart : 85+",
          "Ischemic heart diseases : 85+",
          "Ischemic heart diseases : 85+",
          "Other forms of chronic ischemic heart disease : 85+",
          "Other forms of chronic ischemic heart disease : 85+",
          "Ischemic heart diseases : 85+",
          "#Diseases of heart : 85+",
          "Other heart diseases : 85+",
          "Other heart diseases : 85+",
          "Other heart diseases : 85+",
          "#Diseases of heart : 85+",
          "#Diseases of heart : 85+",
          "#Diseases of heart : 85+",
          "Major cardiovascular diseases : 85+",
          "Other diseases of circulatory system : 85+",
          "Other diseases of circulatory system : 85+",
          "Major cardiovascular diseases : 85+",
          "85+",
          "85+",
          "#Influenza and pneumonia : 85+",
          "#Influenza and pneumonia : 85+",
          "85+",
          "#Chronic lower respiratory diseases : 85+",
          "#Chronic lower respiratory diseases : 85+",
          "#Chronic lower respiratory diseases : 85+",
          "85+",
          "85+",
          "85+",
          "85+",
          "#Chronic liver disease and cirrhosis : 85+",
          "85+",
          "85+",
          "#Nephritis, nephrotic syndrome and nephrosis : 85+",
          "85+",
          "85+",
          "85+",
          "#Accidents : 85+",
          "Transport accidents : 85+",
          "#Accidents : 85+",
          "Nontransport accidents : 85+",
          "Nontransport accidents : 85+",
          "85+",
          "#Intentional self-harm : 85+",
          "85+",
          "85+",
          "85+",
          "All Ages",
          "25-34",
          "25-34",
          "25-34",
          "#Malignant neoplasms : 25-34",
          "#Malignant neoplasms : 25-34",
          "#Malignant neoplasms : 25-34",
          "#Malignant neoplasms : 25-34",
          "25-34",
          "25-34",
          "Major cardiovascular diseases : 25-34",
          "Major cardiovascular diseases : 25-34",
          "#Diseases of heart : 25-34",
          "Ischemic heart diseases : 25-34",
          "Ischemic heart diseases : 25-34",
          "Other forms of chronic ischemic heart disease : 25-34",
          "#Diseases of heart : 25-34",
          "Other heart diseases : 25-34",
          "#Diseases of heart : 25-34",
          "25-34",
          "#Influenza and pneumonia : 25-34",
          "25-34",
          "#Chronic lower respiratory diseases : 25-34",
          "25-34",
          "#Chronic liver disease and cirrhosis : 25-34",
          "25-34",
          "#Pregnancy, childbirth and the puerperium : 25-34",
          "25-34",
          "25-34",
          "25-34",
          "25-34",
          "#Accidents : 25-34",
          "Transport accidents : 25-34",
          "#Accidents : 25-34",
          "Nontransport accidents : 25-34",
          "Nontransport accidents : 25-34",
          "Nontransport accidents : 25-34",
          "25-34",
          "#Intentional self-harm : 25-34",
          "#Intentional self-harm : 25-34",
          "25-34",
          "#Assault : 25-34",
          "#Assault : 25-34",
          "25-34",
          "Events of undetermined intent : 25-34",
          "All Ages",
          "35-44",
          "35-44",
          "35-44",
          "#Malignant neoplasms : 35-44",
          "#Malignant neoplasms : 35-44",
          "#Malignant neoplasms : 35-44",
          "#Malignant neoplasms : 35-44",
          "#Malignant neoplasms : 35-44",
          "Malignant neoplasms of lymphoid, hematopoietic and related tissue : 35-44",
          "#Malignant neoplasms : 35-44",
          "#Malignant neoplasms : 35-44",
          "#Malignant neoplasms : 35-44",
          "#Malignant neoplasms : 35-44",
          "35-44",
          "35-44",
          "Major cardiovascular diseases : 35-44",
          "Major cardiovascular diseases : 35-44",
          "#Diseases of heart : 35-44",
          "Ischemic heart diseases : 35-44",
          "Ischemic heart diseases : 35-44",
          "Other forms of chronic ischemic heart disease : 35-44",
          "Other forms of chronic ischemic heart disease : 35-44",
          "#Diseases of heart : 35-44",
          "Other heart diseases : 35-44",
          "Other heart diseases : 35-44",
          "#Diseases of heart : 35-44",
          "Major cardiovascular diseases : 35-44",
          "Other diseases of circulatory system : 35-44",
          "Major cardiovascular diseases : 35-44",
          "35-44",
          "35-44",
          "#Influenza and pneumonia : 35-44",
          "35-44",
          "35-44",
          "35-44",
          "#Chronic liver disease and cirrhosis : 35-44",
          "#Chronic liver disease and cirrhosis : 35-44",
          "35-44",
          "#Nephritis, nephrotic syndrome and nephrosis : 35-44",
          "35-44",
          "#Pregnancy, childbirth and the puerperium : 35-44",
          "35-44",
          "35-44",
          "35-44",
          "35-44",
          "#Accidents : 35-44",
          "Transport accidents : 35-44",
          "#Accidents : 35-44",
          "Nontransport accidents : 35-44",
          "Nontransport accidents : 35-44",
          "Nontransport accidents : 35-44",
          "35-44",
          "#Intentional self-harm : 35-44",
          "#Intentional self-harm : 35-44",
          "35-44",
          "#Assault : 35-44",
          "#Assault : 35-44",
          "35-44",
          "Events of undetermined intent : 35-44",
          "All Ages",
          "1-4",
          "1-4",
          "1-4",
          "1-4",
          "#Accidents : 1-4",
          "Transport accidents : 1-4",
          "#Accidents : 1-4",
          "1-4",
          "All Ages",
          "5-14",
          "#Malignant neoplasms : 5-14",
          "5-14",
          "Major cardiovascular diseases : 5-14",
          "5-14",
          "5-14",
          "5-14",
          "#Accidents : 5-14",
          "Transport accidents : 5-14",
          "#Accidents : 5-14",
          "5-14",
          "#Intentional self-harm : 5-14",
          "5-14",
          "All Ages",
          "15-24",
          "#Malignant neoplasms : 15-24",
          "#Malignant neoplasms : 15-24",
          "15-24",
          "Major cardiovascular diseases : 15-24",
          "#Diseases of heart : 15-24",
          "Other heart diseases : 15-24",
          "15-24",
          "15-24",
          "#Chronic lower respiratory diseases : 15-24",
          "15-24",
          "15-24",
          "15-24",
          "15-24",
          "#Accidents : 15-24",
          "Transport accidents : 15-24",
          "#Accidents : 15-24",
          "Nontransport accidents : 15-24",
          "Nontransport accidents : 15-24",
          "15-24",
          "#Intentional self-harm : 15-24",
          "#Intentional self-harm : 15-24",
          "15-24",
          "#Assault : 15-24",
          "15-24",
          "Events of undetermined intent : 15-24",
          "All Ages",
          "1",
          "1",
          "1",
          "1",
          "1",
          "1",
          "#Accidents : 1",
          "Nontransport accidents : 1",
          "1",
          "#Assault : 1"
         ],
         "textfont": {
          "color": "#FFFFFF",
          "family": "Arial",
          "size": 16
         },
         "textinfo": "label+value+percent root",
         "textposition": "middle center",
         "type": "treemap",
         "values": [
          23501.63,
          404.97,
          0.8,
          5.1,
          0.88,
          0.96,
          1.28,
          93.73,
          1.83,
          2.95,
          5.58,
          1.75,
          1.59,
          0.8,
          0.8,
          11.24,
          9.88,
          6.38,
          2.71,
          2.71,
          0.8,
          0.8,
          2.07,
          4.06,
          2.23,
          12.43,
          2.87,
          1.51,
          6.54,
          18.41,
          1.35,
          15.94,
          101.7,
          10.44,
          85.12,
          48.54,
          12.67,
          35.63,
          14.9,
          20.72,
          18.17,
          3.03,
          14.59,
          17.3,
          0.8,
          3.03,
          0.96,
          2.07,
          2.71,
          1.35,
          5.02,
          0.88,
          4.14,
          10.04,
          1.04,
          8.53,
          1.04,
          4.3,
          22.87,
          15.3,
          7.57,
          5.66,
          5.58,
          2.87,
          3.03,
          40.73,
          54.04,
          12.11,
          11.08,
          0.88,
          41.92,
          2.63,
          4.14,
          33.95,
          20.96,
          12.03,
          8.93,
          5.34,
          1.75,
          3.59,
          5.98,
          5.9,
          928.87,
          1.5,
          1.07,
          11.5,
          3,
          1.86,
          2.64,
          290.38,
          5.86,
          14.79,
          9.65,
          4.64,
          1.5,
          2.43,
          4.57,
          31.08,
          21.08,
          19.15,
          7.43,
          6.29,
          5.14,
          6.79,
          4.72,
          12.86,
          7.79,
          22.72,
          8.5,
          6.29,
          24.58,
          81.38,
          3.57,
          1.21,
          35.08,
          2.14,
          2.07,
          2.07,
          2.79,
          261.73,
          1.57,
          29.22,
          217.5,
          143.4,
          33.58,
          108.96,
          46.3,
          62.66,
          0.86,
          46.73,
          13.22,
          32.3,
          0.86,
          25.22,
          0.86,
          1.29,
          6.93,
          3,
          3.93,
          6.5,
          2.22,
          15.3,
          2.22,
          13.08,
          49.66,
          1.21,
          44.44,
          3.86,
          3.07,
          10,
          1.29,
          32.37,
          18.43,
          13.93,
          14,
          13.79,
          3.57,
          5.14,
          85.39,
          58.23,
          13.29,
          12.29,
          0.79,
          44.94,
          6.72,
          6.57,
          1.29,
          29.08,
          1.21,
          19.01,
          9.43,
          9.57,
          3.1500000000000004,
          1.79,
          1.36,
          4.93,
          4.72,
          2.07,
          1895.6799999999998,
          3.08,
          2.02,
          26.02,
          4.43,
          1.35,
          5.78,
          589.94,
          14.65,
          25.35,
          17.35,
          6.75,
          2.6,
          5.01,
          12.43,
          65.15,
          34.7,
          51.76,
          19.08,
          18.5,
          13.59,
          21.88,
          5.69,
          18.79,
          15.03,
          41.83,
          13.4,
          10.22,
          52.91,
          174.44,
          12.91,
          3.47,
          79.8,
          5.4,
          5.3,
          16.38,
          27.28,
          564.7,
          3.76,
          72.57,
          455.88,
          292.03,
          67.18,
          222.83,
          124.81,
          98.02,
          2.02,
          118.55,
          46.36,
          1.16,
          69.97,
          1.06,
          36.53,
          2.51,
          6.26,
          15.329999999999998,
          7.52,
          7.81,
          17.16,
          2.79,
          26.509999999999998,
          3.76,
          22.75,
          143.7,
          1.16,
          136.76,
          5.78,
          8.96,
          29.49,
          1.93,
          33.06,
          12.63,
          20.43,
          2.02,
          37.59,
          37.2,
          2.22,
          7.71,
          181.29,
          54.37,
          11.28,
          9.54,
          1.54,
          43.089999999999996,
          17.93,
          9.73,
          2.22,
          12.05,
          1.16,
          13.01,
          4.72,
          8.29,
          2.6,
          1.73,
          1.73,
          1.64,
          5.2,
          0.96,
          4603.8099999999995,
          9.91,
          6.61,
          62.56,
          2.53,
          15.35,
          1069.78,
          25.65,
          38.47,
          21.76,
          15.54,
          2.14,
          3.89,
          36.72,
          127.46,
          56.73,
          130.37,
          48.77,
          51.29,
          28.76,
          60.43,
          12.43,
          34,
          19.04,
          83.74,
          18.46,
          13.6,
          83.35,
          286,
          37.11,
          7.58,
          136.39,
          20.21,
          20.21,
          96.76,
          230.43,
          1536.6799999999998,
          14.18,
          259.58,
          1177.03,
          703.54,
          166.51,
          532.75,
          391.89,
          140.86,
          4.27,
          372.07,
          165.54,
          202.84,
          2.33,
          76.16,
          6.8,
          18.46,
          35.37,
          17.49,
          17.88,
          50.52,
          4.86,
          75.97,
          7.58,
          68.39,
          361.77,
          344.68,
          15.54,
          25.06,
          82.38,
          4.66,
          30.509999999999998,
          4.47,
          26.04,
          5.83,
          103.17,
          101.81,
          3.3,
          18.46,
          507.69,
          123.19,
          22.93,
          20.98,
          100.26,
          68.59,
          24.09,
          2.33,
          3.69,
          19.63,
          4.86,
          14.77,
          8.74,
          3.3,
          14620.250000000002,
          28.62,
          16.42,
          154.83,
          28.15,
          1679.21,
          39.88,
          33.78,
          20.64,
          23.93,
          7.98,
          92.9,
          225.68,
          121.99,
          225.68,
          90.08,
          85.86,
          47.86,
          159.99,
          19.71,
          39.41,
          20.17,
          169.84,
          33.78,
          24.87,
          109.79,
          304.97,
          89.61,
          30.97,
          282.45,
          133.72,
          132.78,
          242.57,
          1386.91,
          6303.96,
          68.5,
          1166.39,
          4741.1,
          2362.34,
          433.53,
          1912.8600000000001,
          1515.93,
          396.93,
          15.95,
          1849.99,
          978.72,
          863.3,
          4.69,
          403.5,
          17.83,
          107.44,
          99.47,
          54.89,
          44.57,
          228.49,
          13.61,
          302.15000000000003,
          22.05,
          280.1,
          730.99,
          5.63,
          695.33,
          26.74,
          118.7,
          173.6,
          15.95,
          22.99,
          20.17,
          22.99,
          290.42,
          286.67,
          92.43,
          2041.89,
          392.24,
          23.46,
          21.58,
          368.78,
          290.89,
          68.5,
          16.89,
          13.14,
          7.04,
          10.79,
          6.57,
          147.07,
          0.76,
          0.76,
          7.62,
          0.91,
          2.52,
          0.91,
          1.07,
          1.91,
          11.97,
          1.07,
          10.06,
          2.52,
          0.99,
          1.45,
          0.76,
          5.49,
          4.8,
          1.75,
          1.6,
          1.14,
          1.37,
          1.22,
          2.67,
          2.13,
          1.3,
          1.3,
          0.91,
          2.97,
          14.79,
          57.03,
          14.49,
          14.18,
          42.54,
          2.97,
          37.74,
          0.91,
          19.22,
          9.38,
          9.84,
          15.71,
          2.9,
          12.81,
          6.48,
          6.33,
          211.29000000000002,
          1.2,
          0.86,
          26.67,
          2.49,
          0.86,
          3.34,
          5.83,
          2.4,
          1.29,
          1.2,
          2.57,
          1.63,
          2.14,
          5.23,
          36.36,
          3.34,
          30.87,
          13.469999999999999,
          4.46,
          9.01,
          4.12,
          4.89,
          9.52,
          1.97,
          6.77,
          7.37,
          1.03,
          0.86,
          1.11,
          1.11,
          2.4,
          2.06,
          1.54,
          1.29,
          9.690000000000001,
          6.69,
          3,
          2.74,
          2.66,
          1.03,
          1.03,
          1.03,
          3.09,
          23.75,
          60.37,
          12.26,
          11.58,
          48.11,
          2.74,
          43.05,
          1.11,
          18.61,
          10.46,
          8.15,
          8.06,
          1.37,
          6.69,
          6.26,
          6.26,
          18.37,
          2.19,
          2.4,
          4.81,
          6.78,
          3.06,
          3.06,
          3.72,
          2.19,
          12.78,
          1.75,
          0.84,
          1.09,
          0.84,
          1.25,
          1.75,
          3.8499999999999996,
          2.26,
          2.09,
          1.59,
          2.17,
          1.59,
          0.92,
          60.46999999999999,
          2.64,
          0.83,
          0.83,
          2.64,
          2.34,
          1.88,
          1.51,
          0.75,
          0.98,
          0.98,
          0.83,
          1.21,
          4.07,
          21.79,
          11.38,
          11.08,
          10.4,
          8.07,
          0.98,
          13.27,
          7.62,
          5.65,
          10.03,
          9.58,
          2.26,
          2.11,
          598.07,
          10.09,
          337.56,
          105.49,
          55.04,
          9.17,
          70.63,
          68.8,
          67.88,
          10.09,
          10.09
         ]
        }
       ],
       "layout": {
        "autosize": false,
        "height": 1050,
        "margin": {
         "b": 0,
         "l": 0,
         "pad": 0,
         "r": 0,
         "t": 0
        },
        "template": {
         "data": {
          "bar": [
           {
            "error_x": {
             "color": "#2a3f5f"
            },
            "error_y": {
             "color": "#2a3f5f"
            },
            "marker": {
             "line": {
              "color": "#E5ECF6",
              "width": 0.5
             },
             "pattern": {
              "fillmode": "overlay",
              "size": 10,
              "solidity": 0.2
             }
            },
            "type": "bar"
           }
          ],
          "barpolar": [
           {
            "marker": {
             "line": {
              "color": "#E5ECF6",
              "width": 0.5
             },
             "pattern": {
              "fillmode": "overlay",
              "size": 10,
              "solidity": 0.2
             }
            },
            "type": "barpolar"
           }
          ],
          "carpet": [
           {
            "aaxis": {
             "endlinecolor": "#2a3f5f",
             "gridcolor": "white",
             "linecolor": "white",
             "minorgridcolor": "white",
             "startlinecolor": "#2a3f5f"
            },
            "baxis": {
             "endlinecolor": "#2a3f5f",
             "gridcolor": "white",
             "linecolor": "white",
             "minorgridcolor": "white",
             "startlinecolor": "#2a3f5f"
            },
            "type": "carpet"
           }
          ],
          "choropleth": [
           {
            "colorbar": {
             "outlinewidth": 0,
             "ticks": ""
            },
            "type": "choropleth"
           }
          ],
          "contour": [
           {
            "colorbar": {
             "outlinewidth": 0,
             "ticks": ""
            },
            "colorscale": [
             [
              0,
              "#0d0887"
             ],
             [
              0.1111111111111111,
              "#46039f"
             ],
             [
              0.2222222222222222,
              "#7201a8"
             ],
             [
              0.3333333333333333,
              "#9c179e"
             ],
             [
              0.4444444444444444,
              "#bd3786"
             ],
             [
              0.5555555555555556,
              "#d8576b"
             ],
             [
              0.6666666666666666,
              "#ed7953"
             ],
             [
              0.7777777777777778,
              "#fb9f3a"
             ],
             [
              0.8888888888888888,
              "#fdca26"
             ],
             [
              1,
              "#f0f921"
             ]
            ],
            "type": "contour"
           }
          ],
          "contourcarpet": [
           {
            "colorbar": {
             "outlinewidth": 0,
             "ticks": ""
            },
            "type": "contourcarpet"
           }
          ],
          "heatmap": [
           {
            "colorbar": {
             "outlinewidth": 0,
             "ticks": ""
            },
            "colorscale": [
             [
              0,
              "#0d0887"
             ],
             [
              0.1111111111111111,
              "#46039f"
             ],
             [
              0.2222222222222222,
              "#7201a8"
             ],
             [
              0.3333333333333333,
              "#9c179e"
             ],
             [
              0.4444444444444444,
              "#bd3786"
             ],
             [
              0.5555555555555556,
              "#d8576b"
             ],
             [
              0.6666666666666666,
              "#ed7953"
             ],
             [
              0.7777777777777778,
              "#fb9f3a"
             ],
             [
              0.8888888888888888,
              "#fdca26"
             ],
             [
              1,
              "#f0f921"
             ]
            ],
            "type": "heatmap"
           }
          ],
          "heatmapgl": [
           {
            "colorbar": {
             "outlinewidth": 0,
             "ticks": ""
            },
            "colorscale": [
             [
              0,
              "#0d0887"
             ],
             [
              0.1111111111111111,
              "#46039f"
             ],
             [
              0.2222222222222222,
              "#7201a8"
             ],
             [
              0.3333333333333333,
              "#9c179e"
             ],
             [
              0.4444444444444444,
              "#bd3786"
             ],
             [
              0.5555555555555556,
              "#d8576b"
             ],
             [
              0.6666666666666666,
              "#ed7953"
             ],
             [
              0.7777777777777778,
              "#fb9f3a"
             ],
             [
              0.8888888888888888,
              "#fdca26"
             ],
             [
              1,
              "#f0f921"
             ]
            ],
            "type": "heatmapgl"
           }
          ],
          "histogram": [
           {
            "marker": {
             "pattern": {
              "fillmode": "overlay",
              "size": 10,
              "solidity": 0.2
             }
            },
            "type": "histogram"
           }
          ],
          "histogram2d": [
           {
            "colorbar": {
             "outlinewidth": 0,
             "ticks": ""
            },
            "colorscale": [
             [
              0,
              "#0d0887"
             ],
             [
              0.1111111111111111,
              "#46039f"
             ],
             [
              0.2222222222222222,
              "#7201a8"
             ],
             [
              0.3333333333333333,
              "#9c179e"
             ],
             [
              0.4444444444444444,
              "#bd3786"
             ],
             [
              0.5555555555555556,
              "#d8576b"
             ],
             [
              0.6666666666666666,
              "#ed7953"
             ],
             [
              0.7777777777777778,
              "#fb9f3a"
             ],
             [
              0.8888888888888888,
              "#fdca26"
             ],
             [
              1,
              "#f0f921"
             ]
            ],
            "type": "histogram2d"
           }
          ],
          "histogram2dcontour": [
           {
            "colorbar": {
             "outlinewidth": 0,
             "ticks": ""
            },
            "colorscale": [
             [
              0,
              "#0d0887"
             ],
             [
              0.1111111111111111,
              "#46039f"
             ],
             [
              0.2222222222222222,
              "#7201a8"
             ],
             [
              0.3333333333333333,
              "#9c179e"
             ],
             [
              0.4444444444444444,
              "#bd3786"
             ],
             [
              0.5555555555555556,
              "#d8576b"
             ],
             [
              0.6666666666666666,
              "#ed7953"
             ],
             [
              0.7777777777777778,
              "#fb9f3a"
             ],
             [
              0.8888888888888888,
              "#fdca26"
             ],
             [
              1,
              "#f0f921"
             ]
            ],
            "type": "histogram2dcontour"
           }
          ],
          "mesh3d": [
           {
            "colorbar": {
             "outlinewidth": 0,
             "ticks": ""
            },
            "type": "mesh3d"
           }
          ],
          "parcoords": [
           {
            "line": {
             "colorbar": {
              "outlinewidth": 0,
              "ticks": ""
             }
            },
            "type": "parcoords"
           }
          ],
          "pie": [
           {
            "automargin": true,
            "type": "pie"
           }
          ],
          "scatter": [
           {
            "marker": {
             "colorbar": {
              "outlinewidth": 0,
              "ticks": ""
             }
            },
            "type": "scatter"
           }
          ],
          "scatter3d": [
           {
            "line": {
             "colorbar": {
              "outlinewidth": 0,
              "ticks": ""
             }
            },
            "marker": {
             "colorbar": {
              "outlinewidth": 0,
              "ticks": ""
             }
            },
            "type": "scatter3d"
           }
          ],
          "scattercarpet": [
           {
            "marker": {
             "colorbar": {
              "outlinewidth": 0,
              "ticks": ""
             }
            },
            "type": "scattercarpet"
           }
          ],
          "scattergeo": [
           {
            "marker": {
             "colorbar": {
              "outlinewidth": 0,
              "ticks": ""
             }
            },
            "type": "scattergeo"
           }
          ],
          "scattergl": [
           {
            "marker": {
             "colorbar": {
              "outlinewidth": 0,
              "ticks": ""
             }
            },
            "type": "scattergl"
           }
          ],
          "scattermapbox": [
           {
            "marker": {
             "colorbar": {
              "outlinewidth": 0,
              "ticks": ""
             }
            },
            "type": "scattermapbox"
           }
          ],
          "scatterpolar": [
           {
            "marker": {
             "colorbar": {
              "outlinewidth": 0,
              "ticks": ""
             }
            },
            "type": "scatterpolar"
           }
          ],
          "scatterpolargl": [
           {
            "marker": {
             "colorbar": {
              "outlinewidth": 0,
              "ticks": ""
             }
            },
            "type": "scatterpolargl"
           }
          ],
          "scatterternary": [
           {
            "marker": {
             "colorbar": {
              "outlinewidth": 0,
              "ticks": ""
             }
            },
            "type": "scatterternary"
           }
          ],
          "surface": [
           {
            "colorbar": {
             "outlinewidth": 0,
             "ticks": ""
            },
            "colorscale": [
             [
              0,
              "#0d0887"
             ],
             [
              0.1111111111111111,
              "#46039f"
             ],
             [
              0.2222222222222222,
              "#7201a8"
             ],
             [
              0.3333333333333333,
              "#9c179e"
             ],
             [
              0.4444444444444444,
              "#bd3786"
             ],
             [
              0.5555555555555556,
              "#d8576b"
             ],
             [
              0.6666666666666666,
              "#ed7953"
             ],
             [
              0.7777777777777778,
              "#fb9f3a"
             ],
             [
              0.8888888888888888,
              "#fdca26"
             ],
             [
              1,
              "#f0f921"
             ]
            ],
            "type": "surface"
           }
          ],
          "table": [
           {
            "cells": {
             "fill": {
              "color": "#EBF0F8"
             },
             "line": {
              "color": "white"
             }
            },
            "header": {
             "fill": {
              "color": "#C8D4E3"
             },
             "line": {
              "color": "white"
             }
            },
            "type": "table"
           }
          ]
         },
         "layout": {
          "annotationdefaults": {
           "arrowcolor": "#2a3f5f",
           "arrowhead": 0,
           "arrowwidth": 1
          },
          "autotypenumbers": "strict",
          "coloraxis": {
           "colorbar": {
            "outlinewidth": 0,
            "ticks": ""
           }
          },
          "colorscale": {
           "diverging": [
            [
             0,
             "#8e0152"
            ],
            [
             0.1,
             "#c51b7d"
            ],
            [
             0.2,
             "#de77ae"
            ],
            [
             0.3,
             "#f1b6da"
            ],
            [
             0.4,
             "#fde0ef"
            ],
            [
             0.5,
             "#f7f7f7"
            ],
            [
             0.6,
             "#e6f5d0"
            ],
            [
             0.7,
             "#b8e186"
            ],
            [
             0.8,
             "#7fbc41"
            ],
            [
             0.9,
             "#4d9221"
            ],
            [
             1,
             "#276419"
            ]
           ],
           "sequential": [
            [
             0,
             "#0d0887"
            ],
            [
             0.1111111111111111,
             "#46039f"
            ],
            [
             0.2222222222222222,
             "#7201a8"
            ],
            [
             0.3333333333333333,
             "#9c179e"
            ],
            [
             0.4444444444444444,
             "#bd3786"
            ],
            [
             0.5555555555555556,
             "#d8576b"
            ],
            [
             0.6666666666666666,
             "#ed7953"
            ],
            [
             0.7777777777777778,
             "#fb9f3a"
            ],
            [
             0.8888888888888888,
             "#fdca26"
            ],
            [
             1,
             "#f0f921"
            ]
           ],
           "sequentialminus": [
            [
             0,
             "#0d0887"
            ],
            [
             0.1111111111111111,
             "#46039f"
            ],
            [
             0.2222222222222222,
             "#7201a8"
            ],
            [
             0.3333333333333333,
             "#9c179e"
            ],
            [
             0.4444444444444444,
             "#bd3786"
            ],
            [
             0.5555555555555556,
             "#d8576b"
            ],
            [
             0.6666666666666666,
             "#ed7953"
            ],
            [
             0.7777777777777778,
             "#fb9f3a"
            ],
            [
             0.8888888888888888,
             "#fdca26"
            ],
            [
             1,
             "#f0f921"
            ]
           ]
          },
          "colorway": [
           "#636efa",
           "#EF553B",
           "#00cc96",
           "#ab63fa",
           "#FFA15A",
           "#19d3f3",
           "#FF6692",
           "#B6E880",
           "#FF97FF",
           "#FECB52"
          ],
          "font": {
           "color": "#2a3f5f"
          },
          "geo": {
           "bgcolor": "white",
           "lakecolor": "white",
           "landcolor": "#E5ECF6",
           "showlakes": true,
           "showland": true,
           "subunitcolor": "white"
          },
          "hoverlabel": {
           "align": "left"
          },
          "hovermode": "closest",
          "mapbox": {
           "style": "light"
          },
          "paper_bgcolor": "white",
          "plot_bgcolor": "#E5ECF6",
          "polar": {
           "angularaxis": {
            "gridcolor": "white",
            "linecolor": "white",
            "ticks": ""
           },
           "bgcolor": "#E5ECF6",
           "radialaxis": {
            "gridcolor": "white",
            "linecolor": "white",
            "ticks": ""
           }
          },
          "scene": {
           "xaxis": {
            "backgroundcolor": "#E5ECF6",
            "gridcolor": "white",
            "gridwidth": 2,
            "linecolor": "white",
            "showbackground": true,
            "ticks": "",
            "zerolinecolor": "white"
           },
           "yaxis": {
            "backgroundcolor": "#E5ECF6",
            "gridcolor": "white",
            "gridwidth": 2,
            "linecolor": "white",
            "showbackground": true,
            "ticks": "",
            "zerolinecolor": "white"
           },
           "zaxis": {
            "backgroundcolor": "#E5ECF6",
            "gridcolor": "white",
            "gridwidth": 2,
            "linecolor": "white",
            "showbackground": true,
            "ticks": "",
            "zerolinecolor": "white"
           }
          },
          "shapedefaults": {
           "line": {
            "color": "#2a3f5f"
           }
          },
          "ternary": {
           "aaxis": {
            "gridcolor": "white",
            "linecolor": "white",
            "ticks": ""
           },
           "baxis": {
            "gridcolor": "white",
            "linecolor": "white",
            "ticks": ""
           },
           "bgcolor": "#E5ECF6",
           "caxis": {
            "gridcolor": "white",
            "linecolor": "white",
            "ticks": ""
           }
          },
          "title": {
           "x": 0.05
          },
          "xaxis": {
           "automargin": true,
           "gridcolor": "white",
           "linecolor": "white",
           "ticks": "",
           "title": {
            "standoff": 15
           },
           "zerolinecolor": "white",
           "zerolinewidth": 2
          },
          "yaxis": {
           "automargin": true,
           "gridcolor": "white",
           "linecolor": "white",
           "ticks": "",
           "title": {
            "standoff": 15
           },
           "zerolinecolor": "white",
           "zerolinewidth": 2
          }
         }
        },
        "width": 2100
       }
      }
     },
     "metadata": {},
     "output_type": "display_data"
    }
   ],
   "source": [
    "fig = go.Figure(go.Treemap(\n",
    "    branchvalues = \"total\",\n",
    "    labels = final_labels,\n",
    "    parents =  final_parents,\n",
    "    values=final_values,\n",
    "    textinfo = \"label+value+percent root\",\n",
    "    textposition = 'middle center',\n",
    "    textfont = dict(family=\"Arial\", size=16, color = '#FFFFFF')\n",
    "))\n",
    "\n",
    "fig.update_layout(margin = dict(t=50, l=25, r=25, b=25))\n",
    "\n",
    "\n",
    "fig.update_layout(\n",
    "    autosize=False,\n",
    "    width=2100,\n",
    "    height=1050,\n",
    "    margin=dict(\n",
    "        l=0,\n",
    "        r=0,\n",
    "        b=0,\n",
    "        t=0,\n",
    "        pad=0\n",
    "    ),\n",
    "    \n",
    ")\n",
    "\n",
    "fig.show()\n",
    "fig.write_html(\"CauseOfDeathTest.html\")"
   ]
  },
  {
   "cell_type": "code",
   "execution_count": 76,
   "metadata": {},
   "outputs": [
    {
     "data": {
      "application/vnd.plotly.v1+json": {
       "config": {
        "plotlyServerURL": "https://plot.ly"
       },
       "data": [
        {
         "branchvalues": "total",
         "labels": [
          "All Ages",
          "45-54",
          "Certain other intestinal infections : 45-54",
          "#Septicemia : 45-54",
          "#Viral hepatitis : 45-54",
          "#Human immunodeficiency virus : 45-54",
          "Other and unspecified infectious and parasitic diseases and their sequelae : 45-54",
          "#Malignant neoplasms : 45-54",
          "Malignant neoplasms of kidney and renal pelvis : 45-54",
          "Malignant neoplasms of liver and intrahepatic bile ducts : 45-54",
          "Malignant neoplasms of meninges, brain and other parts of central nervous system : 45-54",
          "Malignant neoplasm of stomach : 45-54",
          "Malignant neoplasm of cervix uteri : 45-54",
          "Malignant neoplasm of larynx : 45-54",
          "Malignant neoplasm of bladder : 45-54",
          "All other and unspecified malignant neoplasms : 45-54",
          "Malignant neoplasm of breast : 45-54",
          "Malignant neoplasms of lymphoid, hematopoietic and related tissue : 45-54",
          "Leukemia : 45-54",
          "Non-Hodgkin lymphoma : 45-54",
          "Multiple myeloma and immunoproliferative neoplasms : 45-54",
          "Malignant neoplasm of prostate : 45-54",
          "Malignant melanoma of skin : 45-54",
          "Malignant neoplasm of esophagus : 45-54",
          "Malignant neoplasms of corpus uteri and uterus, part unspecified : 45-54",
          "Malignant neoplasms of colon, rectum and anus : 45-54",
          "Malignant neoplasm of ovary : 45-54",
          "Malignant neoplasms of lip, oral cavity and pharynx : 45-54",
          "Malignant neoplasm of pancreas : 45-54",
          "Malignant neoplasms of trachea, bronchus and lung : 45-54",
          "#In situ neoplasms, benign neoplasms and neoplasms of uncertain or unknown behavior : 45-54",
          "#Diabetes mellitus : 45-54",
          "Major cardiovascular diseases : 45-54",
          "#Cerebrovascular diseases : 45-54",
          "#Diseases of heart : 45-54",
          "Ischemic heart diseases : 45-54",
          "Acute myocardial infarction : 45-54",
          "Other forms of chronic ischemic heart disease : 45-54",
          "All other forms of chronic ischemic heart disease : 45-54",
          "Atherosclerotic cardiovascular disease, so described : 45-54",
          "Other heart diseases : 45-54",
          "Heart failure : 45-54",
          "All other forms of heart disease : 45-54",
          "Hypertensive heart disease : 45-54",
          "Hypertensive heart and renal disease : 45-54",
          "Other diseases of circulatory system : 45-54",
          "Other diseases of arteries, arterioles and capillaries : 45-54",
          "#Aortic aneurysm and dissection : 45-54",
          "#Essential hypertension and hypertensive renal disease : 45-54",
          "Other disorders of circulatory system : 45-54",
          "#Influenza and pneumonia : 45-54",
          "Influenza : 45-54",
          "Pneumonia : 45-54",
          "#Chronic lower respiratory diseases : 45-54",
          "Asthma : 45-54",
          "Other chronic lower respiratory diseases : 45-54",
          "#Pneumonitis due to solids and liquids : 45-54",
          "Other diseases of respiratory system : 45-54",
          "#Chronic liver disease and cirrhosis : 45-54",
          "Alcoholic liver disease : 45-54",
          "Other chronic liver disease and cirrhosis : 45-54",
          "#Nephritis, nephrotic syndrome and nephrosis : 45-54",
          "Renal failure : 45-54",
          "#Congenital malformations, deformations and chromosomal abnormalities : 45-54",
          "Symptoms, signs and abnormal clinical and laboratory findings, not elsewhere classified : 45-54",
          "All other diseases : 45-54",
          "#Accidents : 45-54",
          "Transport accidents : 45-54",
          "Motor vehicle accidents : 45-54",
          "Water, air and space, and other and unspecified transport accidents and their sequelae : 45-54",
          "Nontransport accidents : 45-54",
          "Falls : 45-54",
          "Other and unspecified nontransport accidents and their sequelae : 45-54",
          "Accidental poisoning and exposure to noxious substances : 45-54",
          "#Intentional self-harm : 45-54",
          "Intentional self-harm : 45-54",
          "Intentional self-harm : 45-54",
          "#Assault : 45-54",
          "Assault : 45-54",
          "Assault : 45-54",
          "Events of undetermined intent : 45-54",
          "Other and unspecified events of undetermined intent and their sequelae : 45-54",
          "55-64",
          "Certain other intestinal infections : 55-64",
          "#Enterocolitis due to Clostridium difficile : 55-64",
          "#Septicemia : 55-64",
          "#Viral hepatitis : 55-64",
          "#Human immunodeficiency virus : 55-64",
          "Other and unspecified infectious and parasitic diseases and their sequelae : 55-64",
          "#Malignant neoplasms : 55-64",
          "Malignant neoplasms of kidney and renal pelvis : 55-64",
          "Malignant neoplasms of liver and intrahepatic bile ducts : 55-64",
          "Malignant neoplasms of meninges, brain and other parts of central nervous system : 55-64",
          "Malignant neoplasm of stomach : 55-64",
          "Malignant neoplasm of cervix uteri : 55-64",
          "Malignant neoplasm of larynx : 55-64",
          "Malignant neoplasm of bladder : 55-64",
          "All other and unspecified malignant neoplasms : 55-64",
          "Malignant neoplasm of breast : 55-64",
          "Malignant neoplasms of lymphoid, hematopoietic and related tissue : 55-64",
          "Leukemia : 55-64",
          "Non-Hodgkin lymphoma : 55-64",
          "Multiple myeloma and immunoproliferative neoplasms : 55-64",
          "Malignant neoplasm of prostate : 55-64",
          "Malignant melanoma of skin : 55-64",
          "Malignant neoplasm of esophagus : 55-64",
          "Malignant neoplasms of corpus uteri and uterus, part unspecified : 55-64",
          "Malignant neoplasms of colon, rectum and anus : 55-64",
          "Malignant neoplasm of ovary : 55-64",
          "Malignant neoplasms of lip, oral cavity and pharynx : 55-64",
          "Malignant neoplasm of pancreas : 55-64",
          "Malignant neoplasms of trachea, bronchus and lung : 55-64",
          "#In situ neoplasms, benign neoplasms and neoplasms of uncertain or unknown behavior : 55-64",
          "#Anemias : 55-64",
          "#Diabetes mellitus : 55-64",
          "#Nutritional deficiencies : 55-64",
          "Malnutrition : 55-64",
          "#Parkinson disease : 55-64",
          "#Alzheimer disease : 55-64",
          "Major cardiovascular diseases : 55-64",
          "#Atherosclerosis : 55-64",
          "#Cerebrovascular diseases : 55-64",
          "#Diseases of heart : 55-64",
          "Ischemic heart diseases : 55-64",
          "Acute myocardial infarction : 55-64",
          "Other forms of chronic ischemic heart disease : 55-64",
          "All other forms of chronic ischemic heart disease : 55-64",
          "Atherosclerotic cardiovascular disease, so described : 55-64",
          "Other acute ischemic heart diseases : 55-64",
          "Other heart diseases : 55-64",
          "Heart failure : 55-64",
          "All other forms of heart disease : 55-64",
          "Acute and subacute endocarditis : 55-64",
          "Hypertensive heart disease : 55-64",
          "Acute rheumatic fever and chronic rheumatic heart diseases : 55-64",
          "Hypertensive heart and renal disease : 55-64",
          "Other diseases of circulatory system : 55-64",
          "Other diseases of arteries, arterioles and capillaries : 55-64",
          "#Aortic aneurysm and dissection : 55-64",
          "#Essential hypertension and hypertensive renal disease : 55-64",
          "Other disorders of circulatory system : 55-64",
          "#Influenza and pneumonia : 55-64",
          "Influenza : 55-64",
          "Pneumonia : 55-64",
          "#Chronic lower respiratory diseases : 55-64",
          "Asthma : 55-64",
          "Other chronic lower respiratory diseases : 55-64",
          "Emphysema : 55-64",
          "#Pneumonitis due to solids and liquids : 55-64",
          "Other diseases of respiratory system : 55-64",
          "#Peptic ulcer : 55-64",
          "#Chronic liver disease and cirrhosis : 55-64",
          "Alcoholic liver disease : 55-64",
          "Other chronic liver disease and cirrhosis : 55-64",
          "#Nephritis, nephrotic syndrome and nephrosis : 55-64",
          "Renal failure : 55-64",
          "#Congenital malformations, deformations and chromosomal abnormalities : 55-64",
          "Symptoms, signs and abnormal clinical and laboratory findings, not elsewhere classified : 55-64",
          "All other diseases : 55-64",
          "#Accidents : 55-64",
          "Transport accidents : 55-64",
          "Motor vehicle accidents : 55-64",
          "Water, air and space, and other and unspecified transport accidents and their sequelae : 55-64",
          "Nontransport accidents : 55-64",
          "Falls : 55-64",
          "Other and unspecified nontransport accidents and their sequelae : 55-64",
          "Accidental exposure to smoke, fire and flames : 55-64",
          "Accidental poisoning and exposure to noxious substances : 55-64",
          "Accidental drowning and submersion : 55-64",
          "#Intentional self-harm : 55-64",
          "Intentional self-harm : 55-64",
          "Intentional self-harm : 55-64",
          "#Assault : 55-64",
          "Assault : 55-64",
          "Assault : 55-64",
          "Events of undetermined intent : 55-64",
          "Other and unspecified events of undetermined intent and their sequelae : 55-64",
          "#Complications of medical and surgical care : 55-64",
          "65-74",
          "Certain other intestinal infections : 65-74",
          "#Enterocolitis due to Clostridium difficile : 65-74",
          "#Septicemia : 65-74",
          "#Viral hepatitis : 65-74",
          "#Human immunodeficiency virus : 65-74",
          "Other and unspecified infectious and parasitic diseases and their sequelae : 65-74",
          "#Malignant neoplasms : 65-74",
          "Malignant neoplasms of kidney and renal pelvis : 65-74",
          "Malignant neoplasms of liver and intrahepatic bile ducts : 65-74",
          "Malignant neoplasms of meninges, brain and other parts of central nervous system : 65-74",
          "Malignant neoplasm of stomach : 65-74",
          "Malignant neoplasm of cervix uteri : 65-74",
          "Malignant neoplasm of larynx : 65-74",
          "Malignant neoplasm of bladder : 65-74",
          "All other and unspecified malignant neoplasms : 65-74",
          "Malignant neoplasm of breast : 65-74",
          "Malignant neoplasms of lymphoid, hematopoietic and related tissue : 65-74",
          "Leukemia : 65-74",
          "Non-Hodgkin lymphoma : 65-74",
          "Multiple myeloma and immunoproliferative neoplasms : 65-74",
          "Malignant neoplasm of prostate : 65-74",
          "Malignant melanoma of skin : 65-74",
          "Malignant neoplasm of esophagus : 65-74",
          "Malignant neoplasms of corpus uteri and uterus, part unspecified : 65-74",
          "Malignant neoplasms of colon, rectum and anus : 65-74",
          "Malignant neoplasm of ovary : 65-74",
          "Malignant neoplasms of lip, oral cavity and pharynx : 65-74",
          "Malignant neoplasm of pancreas : 65-74",
          "Malignant neoplasms of trachea, bronchus and lung : 65-74",
          "#In situ neoplasms, benign neoplasms and neoplasms of uncertain or unknown behavior : 65-74",
          "#Anemias : 65-74",
          "#Diabetes mellitus : 65-74",
          "#Nutritional deficiencies : 65-74",
          "Malnutrition : 65-74",
          "#Parkinson disease : 65-74",
          "#Alzheimer disease : 65-74",
          "Major cardiovascular diseases : 65-74",
          "#Atherosclerosis : 65-74",
          "#Cerebrovascular diseases : 65-74",
          "#Diseases of heart : 65-74",
          "Ischemic heart diseases : 65-74",
          "Acute myocardial infarction : 65-74",
          "Other forms of chronic ischemic heart disease : 65-74",
          "All other forms of chronic ischemic heart disease : 65-74",
          "Atherosclerotic cardiovascular disease, so described : 65-74",
          "Other acute ischemic heart diseases : 65-74",
          "Other heart diseases : 65-74",
          "Heart failure : 65-74",
          "Diseases of pericardium and acute myocarditis : 65-74",
          "All other forms of heart disease : 65-74",
          "Acute and subacute endocarditis : 65-74",
          "Hypertensive heart disease : 65-74",
          "Acute rheumatic fever and chronic rheumatic heart diseases : 65-74",
          "Hypertensive heart and renal disease : 65-74",
          "Other diseases of circulatory system : 65-74",
          "Other diseases of arteries, arterioles and capillaries : 65-74",
          "#Aortic aneurysm and dissection : 65-74",
          "#Essential hypertension and hypertensive renal disease : 65-74",
          "Other disorders of circulatory system : 65-74",
          "#Influenza and pneumonia : 65-74",
          "Influenza : 65-74",
          "Pneumonia : 65-74",
          "#Chronic lower respiratory diseases : 65-74",
          "Asthma : 65-74",
          "Other chronic lower respiratory diseases : 65-74",
          "Emphysema : 65-74",
          "#Pneumonitis due to solids and liquids : 65-74",
          "Other diseases of respiratory system : 65-74",
          "#Peptic ulcer : 65-74",
          "#Chronic liver disease and cirrhosis : 65-74",
          "Alcoholic liver disease : 65-74",
          "Other chronic liver disease and cirrhosis : 65-74",
          "#Cholelithiasis and other disorders of gallbladder : 65-74",
          "#Nephritis, nephrotic syndrome and nephrosis : 65-74",
          "Renal failure : 65-74",
          "#Congenital malformations, deformations and chromosomal abnormalities : 65-74",
          "Symptoms, signs and abnormal clinical and laboratory findings, not elsewhere classified : 65-74",
          "All other diseases : 65-74",
          "#Accidents : 65-74",
          "Transport accidents : 65-74",
          "Motor vehicle accidents : 65-74",
          "Water, air and space, and other and unspecified transport accidents and their sequelae : 65-74",
          "Nontransport accidents : 65-74",
          "Falls : 65-74",
          "Other and unspecified nontransport accidents and their sequelae : 65-74",
          "Accidental exposure to smoke, fire and flames : 65-74",
          "Accidental poisoning and exposure to noxious substances : 65-74",
          "Accidental drowning and submersion : 65-74",
          "#Intentional self-harm : 65-74",
          "Intentional self-harm : 65-74",
          "Intentional self-harm : 65-74",
          "#Assault : 65-74",
          "Assault : 65-74",
          "Events of undetermined intent : 65-74",
          "Other and unspecified events of undetermined intent and their sequelae : 65-74",
          "#Complications of medical and surgical care : 65-74",
          "#Hernia : 65-74",
          "75-84",
          "Certain other intestinal infections : 75-84",
          "#Enterocolitis due to Clostridium difficile : 75-84",
          "#Septicemia : 75-84",
          "#Viral hepatitis : 75-84",
          "Other and unspecified infectious and parasitic diseases and their sequelae : 75-84",
          "#Malignant neoplasms : 75-84",
          "Malignant neoplasms of kidney and renal pelvis : 75-84",
          "Malignant neoplasms of liver and intrahepatic bile ducts : 75-84",
          "Malignant neoplasms of meninges, brain and other parts of central nervous system : 75-84",
          "Malignant neoplasm of stomach : 75-84",
          "Malignant neoplasm of cervix uteri : 75-84",
          "Malignant neoplasm of larynx : 75-84",
          "Malignant neoplasm of bladder : 75-84",
          "All other and unspecified malignant neoplasms : 75-84",
          "Malignant neoplasm of breast : 75-84",
          "Malignant neoplasms of lymphoid, hematopoietic and related tissue : 75-84",
          "Leukemia : 75-84",
          "Non-Hodgkin lymphoma : 75-84",
          "Multiple myeloma and immunoproliferative neoplasms : 75-84",
          "Malignant neoplasm of prostate : 75-84",
          "Malignant melanoma of skin : 75-84",
          "Malignant neoplasm of esophagus : 75-84",
          "Malignant neoplasms of corpus uteri and uterus, part unspecified : 75-84",
          "Malignant neoplasms of colon, rectum and anus : 75-84",
          "Malignant neoplasm of ovary : 75-84",
          "Malignant neoplasms of lip, oral cavity and pharynx : 75-84",
          "Malignant neoplasm of pancreas : 75-84",
          "Malignant neoplasms of trachea, bronchus and lung : 75-84",
          "#In situ neoplasms, benign neoplasms and neoplasms of uncertain or unknown behavior : 75-84",
          "#Anemias : 75-84",
          "#Diabetes mellitus : 75-84",
          "#Nutritional deficiencies : 75-84",
          "Malnutrition : 75-84",
          "#Parkinson disease : 75-84",
          "#Alzheimer disease : 75-84",
          "Major cardiovascular diseases : 75-84",
          "#Atherosclerosis : 75-84",
          "#Cerebrovascular diseases : 75-84",
          "#Diseases of heart : 75-84",
          "Ischemic heart diseases : 75-84",
          "Acute myocardial infarction : 75-84",
          "Other forms of chronic ischemic heart disease : 75-84",
          "All other forms of chronic ischemic heart disease : 75-84",
          "Atherosclerotic cardiovascular disease, so described : 75-84",
          "Other acute ischemic heart diseases : 75-84",
          "Other heart diseases : 75-84",
          "Heart failure : 75-84",
          "All other forms of heart disease : 75-84",
          "Acute and subacute endocarditis : 75-84",
          "Hypertensive heart disease : 75-84",
          "Acute rheumatic fever and chronic rheumatic heart diseases : 75-84",
          "Hypertensive heart and renal disease : 75-84",
          "Other diseases of circulatory system : 75-84",
          "Other diseases of arteries, arterioles and capillaries : 75-84",
          "#Aortic aneurysm and dissection : 75-84",
          "#Essential hypertension and hypertensive renal disease : 75-84",
          "Other disorders of circulatory system : 75-84",
          "#Influenza and pneumonia : 75-84",
          "Influenza : 75-84",
          "Pneumonia : 75-84",
          "#Chronic lower respiratory diseases : 75-84",
          "Other chronic lower respiratory diseases : 75-84",
          "Emphysema : 75-84",
          "#Pneumonitis due to solids and liquids : 75-84",
          "Other diseases of respiratory system : 75-84",
          "#Peptic ulcer : 75-84",
          "#Chronic liver disease and cirrhosis : 75-84",
          "Alcoholic liver disease : 75-84",
          "Other chronic liver disease and cirrhosis : 75-84",
          "#Cholelithiasis and other disorders of gallbladder : 75-84",
          "#Nephritis, nephrotic syndrome and nephrosis : 75-84",
          "Renal failure : 75-84",
          "#Congenital malformations, deformations and chromosomal abnormalities : 75-84",
          "Symptoms, signs and abnormal clinical and laboratory findings, not elsewhere classified : 75-84",
          "All other diseases : 75-84",
          "#Accidents : 75-84",
          "Transport accidents : 75-84",
          "Motor vehicle accidents : 75-84",
          "Nontransport accidents : 75-84",
          "Falls : 75-84",
          "Other and unspecified nontransport accidents and their sequelae : 75-84",
          "Accidental exposure to smoke, fire and flames : 75-84",
          "Accidental poisoning and exposure to noxious substances : 75-84",
          "#Intentional self-harm : 75-84",
          "Intentional self-harm : 75-84",
          "Intentional self-harm : 75-84",
          "#Complications of medical and surgical care : 75-84",
          "#Hernia : 75-84",
          "85+",
          "Certain other intestinal infections : 85+",
          "#Enterocolitis due to Clostridium difficile : 85+",
          "#Septicemia : 85+",
          "Other and unspecified infectious and parasitic diseases and their sequelae : 85+",
          "#Malignant neoplasms : 85+",
          "Malignant neoplasms of kidney and renal pelvis : 85+",
          "Malignant neoplasms of liver and intrahepatic bile ducts : 85+",
          "Malignant neoplasms of meninges, brain and other parts of central nervous system : 85+",
          "Malignant neoplasm of stomach : 85+",
          "Malignant neoplasm of larynx : 85+",
          "Malignant neoplasm of bladder : 85+",
          "All other and unspecified malignant neoplasms : 85+",
          "Malignant neoplasm of breast : 85+",
          "Malignant neoplasms of lymphoid, hematopoietic and related tissue : 85+",
          "Leukemia : 85+",
          "Non-Hodgkin lymphoma : 85+",
          "Multiple myeloma and immunoproliferative neoplasms : 85+",
          "Malignant neoplasm of prostate : 85+",
          "Malignant melanoma of skin : 85+",
          "Malignant neoplasm of esophagus : 85+",
          "Malignant neoplasms of corpus uteri and uterus, part unspecified : 85+",
          "Malignant neoplasms of colon, rectum and anus : 85+",
          "Malignant neoplasm of ovary : 85+",
          "Malignant neoplasms of lip, oral cavity and pharynx : 85+",
          "Malignant neoplasm of pancreas : 85+",
          "Malignant neoplasms of trachea, bronchus and lung : 85+",
          "#In situ neoplasms, benign neoplasms and neoplasms of uncertain or unknown behavior : 85+",
          "#Anemias : 85+",
          "#Diabetes mellitus : 85+",
          "#Nutritional deficiencies : 85+",
          "Malnutrition : 85+",
          "#Parkinson disease : 85+",
          "#Alzheimer disease : 85+",
          "Major cardiovascular diseases : 85+",
          "#Atherosclerosis : 85+",
          "#Cerebrovascular diseases : 85+",
          "#Diseases of heart : 85+",
          "Ischemic heart diseases : 85+",
          "Acute myocardial infarction : 85+",
          "Other forms of chronic ischemic heart disease : 85+",
          "All other forms of chronic ischemic heart disease : 85+",
          "Atherosclerotic cardiovascular disease, so described : 85+",
          "Other acute ischemic heart diseases : 85+",
          "Other heart diseases : 85+",
          "Heart failure : 85+",
          "All other forms of heart disease : 85+",
          "Acute and subacute endocarditis : 85+",
          "Hypertensive heart disease : 85+",
          "Acute rheumatic fever and chronic rheumatic heart diseases : 85+",
          "Hypertensive heart and renal disease : 85+",
          "Other diseases of circulatory system : 85+",
          "Other diseases of arteries, arterioles and capillaries : 85+",
          "#Aortic aneurysm and dissection : 85+",
          "#Essential hypertension and hypertensive renal disease : 85+",
          "Other disorders of circulatory system : 85+",
          "#Influenza and pneumonia : 85+",
          "Influenza : 85+",
          "Pneumonia : 85+",
          "#Chronic lower respiratory diseases : 85+",
          "Asthma : 85+",
          "Other chronic lower respiratory diseases : 85+",
          "Emphysema : 85+",
          "#Pneumonitis due to solids and liquids : 85+",
          "Other diseases of respiratory system : 85+",
          "#Peptic ulcer : 85+",
          "#Chronic liver disease and cirrhosis : 85+",
          "Other chronic liver disease and cirrhosis : 85+",
          "#Cholelithiasis and other disorders of gallbladder : 85+",
          "#Nephritis, nephrotic syndrome and nephrosis : 85+",
          "Renal failure : 85+",
          "Symptoms, signs and abnormal clinical and laboratory findings, not elsewhere classified : 85+",
          "All other diseases : 85+",
          "#Accidents : 85+",
          "Transport accidents : 85+",
          "Motor vehicle accidents : 85+",
          "Nontransport accidents : 85+",
          "Falls : 85+",
          "Other and unspecified nontransport accidents and their sequelae : 85+",
          "#Intentional self-harm : 85+",
          "Intentional self-harm : 85+",
          "#Complications of medical and surgical care : 85+",
          "#Hernia : 85+",
          "#Hyperplasia of prostate : 85+",
          "25-34",
          "#Septicemia : 25-34",
          "#Human immunodeficiency virus : 25-34",
          "#Malignant neoplasms : 25-34",
          "Malignant neoplasms of meninges, brain and other parts of central nervous system : 25-34",
          "All other and unspecified malignant neoplasms : 25-34",
          "Malignant neoplasm of breast : 25-34",
          "Malignant neoplasms of lymphoid, hematopoietic and related tissue : 25-34",
          "#Diabetes mellitus : 25-34",
          "Major cardiovascular diseases : 25-34",
          "#Cerebrovascular diseases : 25-34",
          "#Diseases of heart : 25-34",
          "Ischemic heart diseases : 25-34",
          "Acute myocardial infarction : 25-34",
          "Other forms of chronic ischemic heart disease : 25-34",
          "Atherosclerotic cardiovascular disease, so described : 25-34",
          "Other heart diseases : 25-34",
          "All other forms of heart disease : 25-34",
          "Hypertensive heart disease : 25-34",
          "#Influenza and pneumonia : 25-34",
          "Pneumonia : 25-34",
          "#Chronic lower respiratory diseases : 25-34",
          "Asthma : 25-34",
          "#Chronic liver disease and cirrhosis : 25-34",
          "Alcoholic liver disease : 25-34",
          "#Pregnancy, childbirth and the puerperium : 25-34",
          "Other complications of pregnancy, childbirth and the puerperium : 25-34",
          "#Congenital malformations, deformations and chromosomal abnormalities : 25-34",
          "Symptoms, signs and abnormal clinical and laboratory findings, not elsewhere classified : 25-34",
          "All other diseases : 25-34",
          "#Accidents : 25-34",
          "Transport accidents : 25-34",
          "Motor vehicle accidents : 25-34",
          "Nontransport accidents : 25-34",
          "Other and unspecified nontransport accidents and their sequelae : 25-34",
          "Accidental poisoning and exposure to noxious substances : 25-34",
          "Accidental drowning and submersion : 25-34",
          "#Intentional self-harm : 25-34",
          "Intentional self-harm : 25-34",
          "Intentional self-harm : 25-34",
          "#Assault : 25-34",
          "Assault : 25-34",
          "Assault : 25-34",
          "Events of undetermined intent : 25-34",
          "Other and unspecified events of undetermined intent and their sequelae : 25-34",
          "35-44",
          "#Septicemia : 35-44",
          "Other and unspecified infectious and parasitic diseases and their sequelae : 35-44",
          "#Malignant neoplasms : 35-44",
          "Malignant neoplasms of meninges, brain and other parts of central nervous system : 35-44",
          "Malignant neoplasm of cervix uteri : 35-44",
          "All other and unspecified malignant neoplasms : 35-44",
          "Malignant neoplasm of breast : 35-44",
          "Malignant neoplasms of lymphoid, hematopoietic and related tissue : 35-44",
          "Leukemia : 35-44",
          "Malignant melanoma of skin : 35-44",
          "Malignant neoplasms of colon, rectum and anus : 35-44",
          "Malignant neoplasm of pancreas : 35-44",
          "Malignant neoplasms of trachea, bronchus and lung : 35-44",
          "#Diabetes mellitus : 35-44",
          "Major cardiovascular diseases : 35-44",
          "#Cerebrovascular diseases : 35-44",
          "#Diseases of heart : 35-44",
          "Ischemic heart diseases : 35-44",
          "Acute myocardial infarction : 35-44",
          "Other forms of chronic ischemic heart disease : 35-44",
          "All other forms of chronic ischemic heart disease : 35-44",
          "Atherosclerotic cardiovascular disease, so described : 35-44",
          "Other heart diseases : 35-44",
          "Heart failure : 35-44",
          "All other forms of heart disease : 35-44",
          "Hypertensive heart disease : 35-44",
          "Other diseases of circulatory system : 35-44",
          "#Aortic aneurysm and dissection : 35-44",
          "#Essential hypertension and hypertensive renal disease : 35-44",
          "Other disorders of circulatory system : 35-44",
          "#Influenza and pneumonia : 35-44",
          "Pneumonia : 35-44",
          "#Chronic lower respiratory diseases : 35-44",
          "Other diseases of respiratory system : 35-44",
          "#Chronic liver disease and cirrhosis : 35-44",
          "Alcoholic liver disease : 35-44",
          "Other chronic liver disease and cirrhosis : 35-44",
          "#Nephritis, nephrotic syndrome and nephrosis : 35-44",
          "Renal failure : 35-44",
          "#Pregnancy, childbirth and the puerperium : 35-44",
          "Other complications of pregnancy, childbirth and the puerperium : 35-44",
          "#Congenital malformations, deformations and chromosomal abnormalities : 35-44",
          "Symptoms, signs and abnormal clinical and laboratory findings, not elsewhere classified : 35-44",
          "All other diseases : 35-44",
          "#Accidents : 35-44",
          "Transport accidents : 35-44",
          "Motor vehicle accidents : 35-44",
          "Nontransport accidents : 35-44",
          "Other and unspecified nontransport accidents and their sequelae : 35-44",
          "Accidental poisoning and exposure to noxious substances : 35-44",
          "Accidental drowning and submersion : 35-44",
          "#Intentional self-harm : 35-44",
          "Intentional self-harm : 35-44",
          "Intentional self-harm : 35-44",
          "#Assault : 35-44",
          "Assault : 35-44",
          "Assault : 35-44",
          "Events of undetermined intent : 35-44",
          "Other and unspecified events of undetermined intent and their sequelae : 35-44",
          "1-4",
          "#Malignant neoplasms : 1-4",
          "#Congenital malformations, deformations and chromosomal abnormalities : 1-4",
          "All other diseases : 1-4",
          "#Accidents : 1-4",
          "Transport accidents : 1-4",
          "Motor vehicle accidents : 1-4",
          "Nontransport accidents : 1-4",
          "#Assault : 1-4",
          "5-14",
          "#Malignant neoplasms : 5-14",
          "Malignant neoplasms of meninges, brain and other parts of central nervous system : 5-14",
          "Major cardiovascular diseases : 5-14",
          "#Diseases of heart : 5-14",
          "#Congenital malformations, deformations and chromosomal abnormalities : 5-14",
          "All other diseases : 5-14",
          "#Accidents : 5-14",
          "Transport accidents : 5-14",
          "Motor vehicle accidents : 5-14",
          "Nontransport accidents : 5-14",
          "#Intentional self-harm : 5-14",
          "Intentional self-harm : 5-14",
          "#Assault : 5-14",
          "15-24",
          "#Malignant neoplasms : 15-24",
          "Malignant neoplasms of meninges, brain and other parts of central nervous system : 15-24",
          "All other and unspecified malignant neoplasms : 15-24",
          "Major cardiovascular diseases : 15-24",
          "#Diseases of heart : 15-24",
          "Other heart diseases : 15-24",
          "All other forms of heart disease : 15-24",
          "#Influenza and pneumonia : 15-24",
          "#Chronic lower respiratory diseases : 15-24",
          "Asthma : 15-24",
          "#Congenital malformations, deformations and chromosomal abnormalities : 15-24",
          "Symptoms, signs and abnormal clinical and laboratory findings, not elsewhere classified : 15-24",
          "All other diseases : 15-24",
          "#Accidents : 15-24",
          "Transport accidents : 15-24",
          "Motor vehicle accidents : 15-24",
          "Nontransport accidents : 15-24",
          "Accidental poisoning and exposure to noxious substances : 15-24",
          "Accidental drowning and submersion : 15-24",
          "#Intentional self-harm : 15-24",
          "Intentional self-harm : 15-24",
          "Intentional self-harm : 15-24",
          "#Assault : 15-24",
          "Assault : 15-24",
          "Events of undetermined intent : 15-24",
          "Other and unspecified events of undetermined intent and their sequelae : 15-24",
          "1",
          "Major cardiovascular diseases : 1",
          "#Certain conditions originating in the perinatal period : 1",
          "#Congenital malformations, deformations and chromosomal abnormalities : 1",
          "Symptoms, signs and abnormal clinical and laboratory findings, not elsewhere classified : 1",
          "All other diseases : 1",
          "#Accidents : 1",
          "Nontransport accidents : 1",
          "Other and unspecified nontransport accidents and their sequelae : 1",
          "#Assault : 1",
          "Assault : 1"
         ],
         "parents": [
          "",
          "All Ages",
          "45-54",
          "45-54",
          "45-54",
          "45-54",
          "45-54",
          "45-54",
          "#Malignant neoplasms : 45-54",
          "#Malignant neoplasms : 45-54",
          "#Malignant neoplasms : 45-54",
          "#Malignant neoplasms : 45-54",
          "#Malignant neoplasms : 45-54",
          "#Malignant neoplasms : 45-54",
          "#Malignant neoplasms : 45-54",
          "#Malignant neoplasms : 45-54",
          "#Malignant neoplasms : 45-54",
          "#Malignant neoplasms : 45-54",
          "Malignant neoplasms of lymphoid, hematopoietic and related tissue : 45-54",
          "Malignant neoplasms of lymphoid, hematopoietic and related tissue : 45-54",
          "Malignant neoplasms of lymphoid, hematopoietic and related tissue : 45-54",
          "#Malignant neoplasms : 45-54",
          "#Malignant neoplasms : 45-54",
          "#Malignant neoplasms : 45-54",
          "#Malignant neoplasms : 45-54",
          "#Malignant neoplasms : 45-54",
          "#Malignant neoplasms : 45-54",
          "#Malignant neoplasms : 45-54",
          "#Malignant neoplasms : 45-54",
          "#Malignant neoplasms : 45-54",
          "45-54",
          "45-54",
          "45-54",
          "Major cardiovascular diseases : 45-54",
          "Major cardiovascular diseases : 45-54",
          "#Diseases of heart : 45-54",
          "Ischemic heart diseases : 45-54",
          "Ischemic heart diseases : 45-54",
          "Other forms of chronic ischemic heart disease : 45-54",
          "Other forms of chronic ischemic heart disease : 45-54",
          "#Diseases of heart : 45-54",
          "Other heart diseases : 45-54",
          "Other heart diseases : 45-54",
          "#Diseases of heart : 45-54",
          "#Diseases of heart : 45-54",
          "Major cardiovascular diseases : 45-54",
          "Other diseases of circulatory system : 45-54",
          "Other diseases of circulatory system : 45-54",
          "Major cardiovascular diseases : 45-54",
          "45-54",
          "45-54",
          "#Influenza and pneumonia : 45-54",
          "#Influenza and pneumonia : 45-54",
          "45-54",
          "#Chronic lower respiratory diseases : 45-54",
          "#Chronic lower respiratory diseases : 45-54",
          "45-54",
          "45-54",
          "45-54",
          "#Chronic liver disease and cirrhosis : 45-54",
          "#Chronic liver disease and cirrhosis : 45-54",
          "45-54",
          "#Nephritis, nephrotic syndrome and nephrosis : 45-54",
          "45-54",
          "45-54",
          "45-54",
          "45-54",
          "#Accidents : 45-54",
          "Transport accidents : 45-54",
          "Transport accidents : 45-54",
          "#Accidents : 45-54",
          "Nontransport accidents : 45-54",
          "Nontransport accidents : 45-54",
          "Nontransport accidents : 45-54",
          "45-54",
          "#Intentional self-harm : 45-54",
          "#Intentional self-harm : 45-54",
          "45-54",
          "#Assault : 45-54",
          "#Assault : 45-54",
          "45-54",
          "Events of undetermined intent : 45-54",
          "All Ages",
          "55-64",
          "Certain other intestinal infections : 55-64",
          "55-64",
          "55-64",
          "55-64",
          "55-64",
          "55-64",
          "#Malignant neoplasms : 55-64",
          "#Malignant neoplasms : 55-64",
          "#Malignant neoplasms : 55-64",
          "#Malignant neoplasms : 55-64",
          "#Malignant neoplasms : 55-64",
          "#Malignant neoplasms : 55-64",
          "#Malignant neoplasms : 55-64",
          "#Malignant neoplasms : 55-64",
          "#Malignant neoplasms : 55-64",
          "#Malignant neoplasms : 55-64",
          "Malignant neoplasms of lymphoid, hematopoietic and related tissue : 55-64",
          "Malignant neoplasms of lymphoid, hematopoietic and related tissue : 55-64",
          "Malignant neoplasms of lymphoid, hematopoietic and related tissue : 55-64",
          "#Malignant neoplasms : 55-64",
          "#Malignant neoplasms : 55-64",
          "#Malignant neoplasms : 55-64",
          "#Malignant neoplasms : 55-64",
          "#Malignant neoplasms : 55-64",
          "#Malignant neoplasms : 55-64",
          "#Malignant neoplasms : 55-64",
          "#Malignant neoplasms : 55-64",
          "#Malignant neoplasms : 55-64",
          "55-64",
          "55-64",
          "55-64",
          "55-64",
          "#Nutritional deficiencies : 55-64",
          "55-64",
          "55-64",
          "55-64",
          "Major cardiovascular diseases : 55-64",
          "Major cardiovascular diseases : 55-64",
          "Major cardiovascular diseases : 55-64",
          "#Diseases of heart : 55-64",
          "Ischemic heart diseases : 55-64",
          "Ischemic heart diseases : 55-64",
          "Other forms of chronic ischemic heart disease : 55-64",
          "Other forms of chronic ischemic heart disease : 55-64",
          "Ischemic heart diseases : 55-64",
          "#Diseases of heart : 55-64",
          "Other heart diseases : 55-64",
          "Other heart diseases : 55-64",
          "Other heart diseases : 55-64",
          "#Diseases of heart : 55-64",
          "#Diseases of heart : 55-64",
          "#Diseases of heart : 55-64",
          "Major cardiovascular diseases : 55-64",
          "Other diseases of circulatory system : 55-64",
          "Other diseases of circulatory system : 55-64",
          "Major cardiovascular diseases : 55-64",
          "55-64",
          "55-64",
          "#Influenza and pneumonia : 55-64",
          "#Influenza and pneumonia : 55-64",
          "55-64",
          "#Chronic lower respiratory diseases : 55-64",
          "#Chronic lower respiratory diseases : 55-64",
          "#Chronic lower respiratory diseases : 55-64",
          "55-64",
          "55-64",
          "55-64",
          "55-64",
          "#Chronic liver disease and cirrhosis : 55-64",
          "#Chronic liver disease and cirrhosis : 55-64",
          "55-64",
          "#Nephritis, nephrotic syndrome and nephrosis : 55-64",
          "55-64",
          "55-64",
          "55-64",
          "55-64",
          "#Accidents : 55-64",
          "Transport accidents : 55-64",
          "Transport accidents : 55-64",
          "#Accidents : 55-64",
          "Nontransport accidents : 55-64",
          "Nontransport accidents : 55-64",
          "Nontransport accidents : 55-64",
          "Nontransport accidents : 55-64",
          "Nontransport accidents : 55-64",
          "55-64",
          "#Intentional self-harm : 55-64",
          "#Intentional self-harm : 55-64",
          "55-64",
          "#Assault : 55-64",
          "#Assault : 55-64",
          "55-64",
          "Events of undetermined intent : 55-64",
          "55-64",
          "All Ages",
          "65-74",
          "Certain other intestinal infections : 65-74",
          "65-74",
          "65-74",
          "65-74",
          "65-74",
          "65-74",
          "#Malignant neoplasms : 65-74",
          "#Malignant neoplasms : 65-74",
          "#Malignant neoplasms : 65-74",
          "#Malignant neoplasms : 65-74",
          "#Malignant neoplasms : 65-74",
          "#Malignant neoplasms : 65-74",
          "#Malignant neoplasms : 65-74",
          "#Malignant neoplasms : 65-74",
          "#Malignant neoplasms : 65-74",
          "#Malignant neoplasms : 65-74",
          "Malignant neoplasms of lymphoid, hematopoietic and related tissue : 65-74",
          "Malignant neoplasms of lymphoid, hematopoietic and related tissue : 65-74",
          "Malignant neoplasms of lymphoid, hematopoietic and related tissue : 65-74",
          "#Malignant neoplasms : 65-74",
          "#Malignant neoplasms : 65-74",
          "#Malignant neoplasms : 65-74",
          "#Malignant neoplasms : 65-74",
          "#Malignant neoplasms : 65-74",
          "#Malignant neoplasms : 65-74",
          "#Malignant neoplasms : 65-74",
          "#Malignant neoplasms : 65-74",
          "#Malignant neoplasms : 65-74",
          "65-74",
          "65-74",
          "65-74",
          "65-74",
          "#Nutritional deficiencies : 65-74",
          "65-74",
          "65-74",
          "65-74",
          "Major cardiovascular diseases : 65-74",
          "Major cardiovascular diseases : 65-74",
          "Major cardiovascular diseases : 65-74",
          "#Diseases of heart : 65-74",
          "Ischemic heart diseases : 65-74",
          "Ischemic heart diseases : 65-74",
          "Other forms of chronic ischemic heart disease : 65-74",
          "Other forms of chronic ischemic heart disease : 65-74",
          "Ischemic heart diseases : 65-74",
          "#Diseases of heart : 65-74",
          "Other heart diseases : 65-74",
          "Other heart diseases : 65-74",
          "Other heart diseases : 65-74",
          "Other heart diseases : 65-74",
          "#Diseases of heart : 65-74",
          "#Diseases of heart : 65-74",
          "#Diseases of heart : 65-74",
          "Major cardiovascular diseases : 65-74",
          "Other diseases of circulatory system : 65-74",
          "Other diseases of circulatory system : 65-74",
          "Major cardiovascular diseases : 65-74",
          "65-74",
          "65-74",
          "#Influenza and pneumonia : 65-74",
          "#Influenza and pneumonia : 65-74",
          "65-74",
          "#Chronic lower respiratory diseases : 65-74",
          "#Chronic lower respiratory diseases : 65-74",
          "#Chronic lower respiratory diseases : 65-74",
          "65-74",
          "65-74",
          "65-74",
          "65-74",
          "#Chronic liver disease and cirrhosis : 65-74",
          "#Chronic liver disease and cirrhosis : 65-74",
          "65-74",
          "65-74",
          "#Nephritis, nephrotic syndrome and nephrosis : 65-74",
          "65-74",
          "65-74",
          "65-74",
          "65-74",
          "#Accidents : 65-74",
          "Transport accidents : 65-74",
          "Transport accidents : 65-74",
          "#Accidents : 65-74",
          "Nontransport accidents : 65-74",
          "Nontransport accidents : 65-74",
          "Nontransport accidents : 65-74",
          "Nontransport accidents : 65-74",
          "Nontransport accidents : 65-74",
          "65-74",
          "#Intentional self-harm : 65-74",
          "#Intentional self-harm : 65-74",
          "65-74",
          "#Assault : 65-74",
          "65-74",
          "Events of undetermined intent : 65-74",
          "65-74",
          "65-74",
          "All Ages",
          "75-84",
          "Certain other intestinal infections : 75-84",
          "75-84",
          "75-84",
          "75-84",
          "75-84",
          "#Malignant neoplasms : 75-84",
          "#Malignant neoplasms : 75-84",
          "#Malignant neoplasms : 75-84",
          "#Malignant neoplasms : 75-84",
          "#Malignant neoplasms : 75-84",
          "#Malignant neoplasms : 75-84",
          "#Malignant neoplasms : 75-84",
          "#Malignant neoplasms : 75-84",
          "#Malignant neoplasms : 75-84",
          "#Malignant neoplasms : 75-84",
          "Malignant neoplasms of lymphoid, hematopoietic and related tissue : 75-84",
          "Malignant neoplasms of lymphoid, hematopoietic and related tissue : 75-84",
          "Malignant neoplasms of lymphoid, hematopoietic and related tissue : 75-84",
          "#Malignant neoplasms : 75-84",
          "#Malignant neoplasms : 75-84",
          "#Malignant neoplasms : 75-84",
          "#Malignant neoplasms : 75-84",
          "#Malignant neoplasms : 75-84",
          "#Malignant neoplasms : 75-84",
          "#Malignant neoplasms : 75-84",
          "#Malignant neoplasms : 75-84",
          "#Malignant neoplasms : 75-84",
          "75-84",
          "75-84",
          "75-84",
          "75-84",
          "#Nutritional deficiencies : 75-84",
          "75-84",
          "75-84",
          "75-84",
          "Major cardiovascular diseases : 75-84",
          "Major cardiovascular diseases : 75-84",
          "Major cardiovascular diseases : 75-84",
          "#Diseases of heart : 75-84",
          "Ischemic heart diseases : 75-84",
          "Ischemic heart diseases : 75-84",
          "Other forms of chronic ischemic heart disease : 75-84",
          "Other forms of chronic ischemic heart disease : 75-84",
          "Ischemic heart diseases : 75-84",
          "#Diseases of heart : 75-84",
          "Other heart diseases : 75-84",
          "Other heart diseases : 75-84",
          "Other heart diseases : 75-84",
          "#Diseases of heart : 75-84",
          "#Diseases of heart : 75-84",
          "#Diseases of heart : 75-84",
          "Major cardiovascular diseases : 75-84",
          "Other diseases of circulatory system : 75-84",
          "Other diseases of circulatory system : 75-84",
          "Major cardiovascular diseases : 75-84",
          "75-84",
          "75-84",
          "#Influenza and pneumonia : 75-84",
          "#Influenza and pneumonia : 75-84",
          "75-84",
          "#Chronic lower respiratory diseases : 75-84",
          "#Chronic lower respiratory diseases : 75-84",
          "75-84",
          "75-84",
          "75-84",
          "75-84",
          "#Chronic liver disease and cirrhosis : 75-84",
          "#Chronic liver disease and cirrhosis : 75-84",
          "75-84",
          "75-84",
          "#Nephritis, nephrotic syndrome and nephrosis : 75-84",
          "75-84",
          "75-84",
          "75-84",
          "75-84",
          "#Accidents : 75-84",
          "Transport accidents : 75-84",
          "#Accidents : 75-84",
          "Nontransport accidents : 75-84",
          "Nontransport accidents : 75-84",
          "Nontransport accidents : 75-84",
          "Nontransport accidents : 75-84",
          "75-84",
          "#Intentional self-harm : 75-84",
          "#Intentional self-harm : 75-84",
          "75-84",
          "75-84",
          "All Ages",
          "85+",
          "Certain other intestinal infections : 85+",
          "85+",
          "85+",
          "85+",
          "#Malignant neoplasms : 85+",
          "#Malignant neoplasms : 85+",
          "#Malignant neoplasms : 85+",
          "#Malignant neoplasms : 85+",
          "#Malignant neoplasms : 85+",
          "#Malignant neoplasms : 85+",
          "#Malignant neoplasms : 85+",
          "#Malignant neoplasms : 85+",
          "#Malignant neoplasms : 85+",
          "Malignant neoplasms of lymphoid, hematopoietic and related tissue : 85+",
          "Malignant neoplasms of lymphoid, hematopoietic and related tissue : 85+",
          "Malignant neoplasms of lymphoid, hematopoietic and related tissue : 85+",
          "#Malignant neoplasms : 85+",
          "#Malignant neoplasms : 85+",
          "#Malignant neoplasms : 85+",
          "#Malignant neoplasms : 85+",
          "#Malignant neoplasms : 85+",
          "#Malignant neoplasms : 85+",
          "#Malignant neoplasms : 85+",
          "#Malignant neoplasms : 85+",
          "#Malignant neoplasms : 85+",
          "85+",
          "85+",
          "85+",
          "85+",
          "#Nutritional deficiencies : 85+",
          "85+",
          "85+",
          "85+",
          "Major cardiovascular diseases : 85+",
          "Major cardiovascular diseases : 85+",
          "Major cardiovascular diseases : 85+",
          "#Diseases of heart : 85+",
          "Ischemic heart diseases : 85+",
          "Ischemic heart diseases : 85+",
          "Other forms of chronic ischemic heart disease : 85+",
          "Other forms of chronic ischemic heart disease : 85+",
          "Ischemic heart diseases : 85+",
          "#Diseases of heart : 85+",
          "Other heart diseases : 85+",
          "Other heart diseases : 85+",
          "Other heart diseases : 85+",
          "#Diseases of heart : 85+",
          "#Diseases of heart : 85+",
          "#Diseases of heart : 85+",
          "Major cardiovascular diseases : 85+",
          "Other diseases of circulatory system : 85+",
          "Other diseases of circulatory system : 85+",
          "Major cardiovascular diseases : 85+",
          "85+",
          "85+",
          "#Influenza and pneumonia : 85+",
          "#Influenza and pneumonia : 85+",
          "85+",
          "#Chronic lower respiratory diseases : 85+",
          "#Chronic lower respiratory diseases : 85+",
          "#Chronic lower respiratory diseases : 85+",
          "85+",
          "85+",
          "85+",
          "85+",
          "#Chronic liver disease and cirrhosis : 85+",
          "85+",
          "85+",
          "#Nephritis, nephrotic syndrome and nephrosis : 85+",
          "85+",
          "85+",
          "85+",
          "#Accidents : 85+",
          "Transport accidents : 85+",
          "#Accidents : 85+",
          "Nontransport accidents : 85+",
          "Nontransport accidents : 85+",
          "85+",
          "#Intentional self-harm : 85+",
          "85+",
          "85+",
          "85+",
          "All Ages",
          "25-34",
          "25-34",
          "25-34",
          "#Malignant neoplasms : 25-34",
          "#Malignant neoplasms : 25-34",
          "#Malignant neoplasms : 25-34",
          "#Malignant neoplasms : 25-34",
          "25-34",
          "25-34",
          "Major cardiovascular diseases : 25-34",
          "Major cardiovascular diseases : 25-34",
          "#Diseases of heart : 25-34",
          "Ischemic heart diseases : 25-34",
          "Ischemic heart diseases : 25-34",
          "Other forms of chronic ischemic heart disease : 25-34",
          "#Diseases of heart : 25-34",
          "Other heart diseases : 25-34",
          "#Diseases of heart : 25-34",
          "25-34",
          "#Influenza and pneumonia : 25-34",
          "25-34",
          "#Chronic lower respiratory diseases : 25-34",
          "25-34",
          "#Chronic liver disease and cirrhosis : 25-34",
          "25-34",
          "#Pregnancy, childbirth and the puerperium : 25-34",
          "25-34",
          "25-34",
          "25-34",
          "25-34",
          "#Accidents : 25-34",
          "Transport accidents : 25-34",
          "#Accidents : 25-34",
          "Nontransport accidents : 25-34",
          "Nontransport accidents : 25-34",
          "Nontransport accidents : 25-34",
          "25-34",
          "#Intentional self-harm : 25-34",
          "#Intentional self-harm : 25-34",
          "25-34",
          "#Assault : 25-34",
          "#Assault : 25-34",
          "25-34",
          "Events of undetermined intent : 25-34",
          "All Ages",
          "35-44",
          "35-44",
          "35-44",
          "#Malignant neoplasms : 35-44",
          "#Malignant neoplasms : 35-44",
          "#Malignant neoplasms : 35-44",
          "#Malignant neoplasms : 35-44",
          "#Malignant neoplasms : 35-44",
          "Malignant neoplasms of lymphoid, hematopoietic and related tissue : 35-44",
          "#Malignant neoplasms : 35-44",
          "#Malignant neoplasms : 35-44",
          "#Malignant neoplasms : 35-44",
          "#Malignant neoplasms : 35-44",
          "35-44",
          "35-44",
          "Major cardiovascular diseases : 35-44",
          "Major cardiovascular diseases : 35-44",
          "#Diseases of heart : 35-44",
          "Ischemic heart diseases : 35-44",
          "Ischemic heart diseases : 35-44",
          "Other forms of chronic ischemic heart disease : 35-44",
          "Other forms of chronic ischemic heart disease : 35-44",
          "#Diseases of heart : 35-44",
          "Other heart diseases : 35-44",
          "Other heart diseases : 35-44",
          "#Diseases of heart : 35-44",
          "Major cardiovascular diseases : 35-44",
          "Other diseases of circulatory system : 35-44",
          "Major cardiovascular diseases : 35-44",
          "35-44",
          "35-44",
          "#Influenza and pneumonia : 35-44",
          "35-44",
          "35-44",
          "35-44",
          "#Chronic liver disease and cirrhosis : 35-44",
          "#Chronic liver disease and cirrhosis : 35-44",
          "35-44",
          "#Nephritis, nephrotic syndrome and nephrosis : 35-44",
          "35-44",
          "#Pregnancy, childbirth and the puerperium : 35-44",
          "35-44",
          "35-44",
          "35-44",
          "35-44",
          "#Accidents : 35-44",
          "Transport accidents : 35-44",
          "#Accidents : 35-44",
          "Nontransport accidents : 35-44",
          "Nontransport accidents : 35-44",
          "Nontransport accidents : 35-44",
          "35-44",
          "#Intentional self-harm : 35-44",
          "#Intentional self-harm : 35-44",
          "35-44",
          "#Assault : 35-44",
          "#Assault : 35-44",
          "35-44",
          "Events of undetermined intent : 35-44",
          "All Ages",
          "1-4",
          "1-4",
          "1-4",
          "1-4",
          "#Accidents : 1-4",
          "Transport accidents : 1-4",
          "#Accidents : 1-4",
          "1-4",
          "All Ages",
          "5-14",
          "#Malignant neoplasms : 5-14",
          "5-14",
          "Major cardiovascular diseases : 5-14",
          "5-14",
          "5-14",
          "5-14",
          "#Accidents : 5-14",
          "Transport accidents : 5-14",
          "#Accidents : 5-14",
          "5-14",
          "#Intentional self-harm : 5-14",
          "5-14",
          "All Ages",
          "15-24",
          "#Malignant neoplasms : 15-24",
          "#Malignant neoplasms : 15-24",
          "15-24",
          "Major cardiovascular diseases : 15-24",
          "#Diseases of heart : 15-24",
          "Other heart diseases : 15-24",
          "15-24",
          "15-24",
          "#Chronic lower respiratory diseases : 15-24",
          "15-24",
          "15-24",
          "15-24",
          "15-24",
          "#Accidents : 15-24",
          "Transport accidents : 15-24",
          "#Accidents : 15-24",
          "Nontransport accidents : 15-24",
          "Nontransport accidents : 15-24",
          "15-24",
          "#Intentional self-harm : 15-24",
          "#Intentional self-harm : 15-24",
          "15-24",
          "#Assault : 15-24",
          "15-24",
          "Events of undetermined intent : 15-24",
          "All Ages",
          "1",
          "1",
          "1",
          "1",
          "1",
          "1",
          "#Accidents : 1",
          "Nontransport accidents : 1",
          "1",
          "#Assault : 1"
         ],
         "type": "sunburst",
         "values": [
          23501.63,
          404.97,
          0.8,
          5.1,
          0.88,
          0.96,
          1.28,
          93.73,
          1.83,
          2.95,
          5.58,
          1.75,
          1.59,
          0.8,
          0.8,
          11.24,
          9.88,
          6.38,
          2.71,
          2.71,
          0.8,
          0.8,
          2.07,
          4.06,
          2.23,
          12.43,
          2.87,
          1.51,
          6.54,
          18.41,
          1.35,
          15.94,
          101.7,
          10.44,
          85.12,
          48.54,
          12.67,
          35.63,
          14.9,
          20.72,
          18.17,
          3.03,
          14.59,
          17.3,
          0.8,
          3.03,
          0.96,
          2.07,
          2.71,
          1.35,
          5.02,
          0.88,
          4.14,
          10.04,
          1.04,
          8.53,
          1.04,
          4.3,
          22.87,
          15.3,
          7.57,
          5.66,
          5.58,
          2.87,
          3.03,
          40.73,
          54.04,
          12.11,
          11.08,
          0.88,
          41.92,
          2.63,
          4.14,
          33.95,
          20.96,
          12.03,
          8.93,
          5.34,
          1.75,
          3.59,
          5.98,
          5.9,
          928.87,
          1.5,
          1.07,
          11.5,
          3,
          1.86,
          2.64,
          290.38,
          5.86,
          14.79,
          9.65,
          4.64,
          1.5,
          2.43,
          4.57,
          31.08,
          21.08,
          19.15,
          7.43,
          6.29,
          5.14,
          6.79,
          4.72,
          12.86,
          7.79,
          22.72,
          8.5,
          6.29,
          24.58,
          81.38,
          3.57,
          1.21,
          35.08,
          2.14,
          2.07,
          2.07,
          2.79,
          261.73,
          1.57,
          29.22,
          217.5,
          143.4,
          33.58,
          108.96,
          46.3,
          62.66,
          0.86,
          46.73,
          13.22,
          32.3,
          0.86,
          25.22,
          0.86,
          1.29,
          6.93,
          3,
          3.93,
          6.5,
          2.22,
          15.3,
          2.22,
          13.08,
          49.66,
          1.21,
          44.44,
          3.86,
          3.07,
          10,
          1.29,
          32.37,
          18.43,
          13.93,
          14,
          13.79,
          3.57,
          5.14,
          85.39,
          58.23,
          13.29,
          12.29,
          0.79,
          44.94,
          6.72,
          6.57,
          1.29,
          29.08,
          1.21,
          19.01,
          9.43,
          9.57,
          3.1500000000000004,
          1.79,
          1.36,
          4.93,
          4.72,
          2.07,
          1895.6799999999998,
          3.08,
          2.02,
          26.02,
          4.43,
          1.35,
          5.78,
          589.94,
          14.65,
          25.35,
          17.35,
          6.75,
          2.6,
          5.01,
          12.43,
          65.15,
          34.7,
          51.76,
          19.08,
          18.5,
          13.59,
          21.88,
          5.69,
          18.79,
          15.03,
          41.83,
          13.4,
          10.22,
          52.91,
          174.44,
          12.91,
          3.47,
          79.8,
          5.4,
          5.3,
          16.38,
          27.28,
          564.7,
          3.76,
          72.57,
          455.88,
          292.03,
          67.18,
          222.83,
          124.81,
          98.02,
          2.02,
          118.55,
          46.36,
          1.16,
          69.97,
          1.06,
          36.53,
          2.51,
          6.26,
          15.329999999999998,
          7.52,
          7.81,
          17.16,
          2.79,
          26.509999999999998,
          3.76,
          22.75,
          143.7,
          1.16,
          136.76,
          5.78,
          8.96,
          29.49,
          1.93,
          33.06,
          12.63,
          20.43,
          2.02,
          37.59,
          37.2,
          2.22,
          7.71,
          181.29,
          54.37,
          11.28,
          9.54,
          1.54,
          43.089999999999996,
          17.93,
          9.73,
          2.22,
          12.05,
          1.16,
          13.01,
          4.72,
          8.29,
          2.6,
          1.73,
          1.73,
          1.64,
          5.2,
          0.96,
          4603.8099999999995,
          9.91,
          6.61,
          62.56,
          2.53,
          15.35,
          1069.78,
          25.65,
          38.47,
          21.76,
          15.54,
          2.14,
          3.89,
          36.72,
          127.46,
          56.73,
          130.37,
          48.77,
          51.29,
          28.76,
          60.43,
          12.43,
          34,
          19.04,
          83.74,
          18.46,
          13.6,
          83.35,
          286,
          37.11,
          7.58,
          136.39,
          20.21,
          20.21,
          96.76,
          230.43,
          1536.6799999999998,
          14.18,
          259.58,
          1177.03,
          703.54,
          166.51,
          532.75,
          391.89,
          140.86,
          4.27,
          372.07,
          165.54,
          202.84,
          2.33,
          76.16,
          6.8,
          18.46,
          35.37,
          17.49,
          17.88,
          50.52,
          4.86,
          75.97,
          7.58,
          68.39,
          361.77,
          344.68,
          15.54,
          25.06,
          82.38,
          4.66,
          30.509999999999998,
          4.47,
          26.04,
          5.83,
          103.17,
          101.81,
          3.3,
          18.46,
          507.69,
          123.19,
          22.93,
          20.98,
          100.26,
          68.59,
          24.09,
          2.33,
          3.69,
          19.63,
          4.86,
          14.77,
          8.74,
          3.3,
          14620.250000000002,
          28.62,
          16.42,
          154.83,
          28.15,
          1679.21,
          39.88,
          33.78,
          20.64,
          23.93,
          7.98,
          92.9,
          225.68,
          121.99,
          225.68,
          90.08,
          85.86,
          47.86,
          159.99,
          19.71,
          39.41,
          20.17,
          169.84,
          33.78,
          24.87,
          109.79,
          304.97,
          89.61,
          30.97,
          282.45,
          133.72,
          132.78,
          242.57,
          1386.91,
          6303.96,
          68.5,
          1166.39,
          4741.1,
          2362.34,
          433.53,
          1912.8600000000001,
          1515.93,
          396.93,
          15.95,
          1849.99,
          978.72,
          863.3,
          4.69,
          403.5,
          17.83,
          107.44,
          99.47,
          54.89,
          44.57,
          228.49,
          13.61,
          302.15000000000003,
          22.05,
          280.1,
          730.99,
          5.63,
          695.33,
          26.74,
          118.7,
          173.6,
          15.95,
          22.99,
          20.17,
          22.99,
          290.42,
          286.67,
          92.43,
          2041.89,
          392.24,
          23.46,
          21.58,
          368.78,
          290.89,
          68.5,
          16.89,
          13.14,
          7.04,
          10.79,
          6.57,
          147.07,
          0.76,
          0.76,
          7.62,
          0.91,
          2.52,
          0.91,
          1.07,
          1.91,
          11.97,
          1.07,
          10.06,
          2.52,
          0.99,
          1.45,
          0.76,
          5.49,
          4.8,
          1.75,
          1.6,
          1.14,
          1.37,
          1.22,
          2.67,
          2.13,
          1.3,
          1.3,
          0.91,
          2.97,
          14.79,
          57.03,
          14.49,
          14.18,
          42.54,
          2.97,
          37.74,
          0.91,
          19.22,
          9.38,
          9.84,
          15.71,
          2.9,
          12.81,
          6.48,
          6.33,
          211.29000000000002,
          1.2,
          0.86,
          26.67,
          2.49,
          0.86,
          3.34,
          5.83,
          2.4,
          1.29,
          1.2,
          2.57,
          1.63,
          2.14,
          5.23,
          36.36,
          3.34,
          30.87,
          13.469999999999999,
          4.46,
          9.01,
          4.12,
          4.89,
          9.52,
          1.97,
          6.77,
          7.37,
          1.03,
          0.86,
          1.11,
          1.11,
          2.4,
          2.06,
          1.54,
          1.29,
          9.690000000000001,
          6.69,
          3,
          2.74,
          2.66,
          1.03,
          1.03,
          1.03,
          3.09,
          23.75,
          60.37,
          12.26,
          11.58,
          48.11,
          2.74,
          43.05,
          1.11,
          18.61,
          10.46,
          8.15,
          8.06,
          1.37,
          6.69,
          6.26,
          6.26,
          18.37,
          2.19,
          2.4,
          4.81,
          6.78,
          3.06,
          3.06,
          3.72,
          2.19,
          12.78,
          1.75,
          0.84,
          1.09,
          0.84,
          1.25,
          1.75,
          3.8499999999999996,
          2.26,
          2.09,
          1.59,
          2.17,
          1.59,
          0.92,
          60.46999999999999,
          2.64,
          0.83,
          0.83,
          2.64,
          2.34,
          1.88,
          1.51,
          0.75,
          0.98,
          0.98,
          0.83,
          1.21,
          4.07,
          21.79,
          11.38,
          11.08,
          10.4,
          8.07,
          0.98,
          13.27,
          7.62,
          5.65,
          10.03,
          9.58,
          2.26,
          2.11,
          598.07,
          10.09,
          337.56,
          105.49,
          55.04,
          9.17,
          70.63,
          68.8,
          67.88,
          10.09,
          10.09
         ]
        }
       ],
       "layout": {
        "autosize": false,
        "height": 1050,
        "margin": {
         "b": 0,
         "l": 0,
         "pad": 0,
         "r": 0,
         "t": 0
        },
        "template": {
         "data": {
          "bar": [
           {
            "error_x": {
             "color": "#2a3f5f"
            },
            "error_y": {
             "color": "#2a3f5f"
            },
            "marker": {
             "line": {
              "color": "#E5ECF6",
              "width": 0.5
             },
             "pattern": {
              "fillmode": "overlay",
              "size": 10,
              "solidity": 0.2
             }
            },
            "type": "bar"
           }
          ],
          "barpolar": [
           {
            "marker": {
             "line": {
              "color": "#E5ECF6",
              "width": 0.5
             },
             "pattern": {
              "fillmode": "overlay",
              "size": 10,
              "solidity": 0.2
             }
            },
            "type": "barpolar"
           }
          ],
          "carpet": [
           {
            "aaxis": {
             "endlinecolor": "#2a3f5f",
             "gridcolor": "white",
             "linecolor": "white",
             "minorgridcolor": "white",
             "startlinecolor": "#2a3f5f"
            },
            "baxis": {
             "endlinecolor": "#2a3f5f",
             "gridcolor": "white",
             "linecolor": "white",
             "minorgridcolor": "white",
             "startlinecolor": "#2a3f5f"
            },
            "type": "carpet"
           }
          ],
          "choropleth": [
           {
            "colorbar": {
             "outlinewidth": 0,
             "ticks": ""
            },
            "type": "choropleth"
           }
          ],
          "contour": [
           {
            "colorbar": {
             "outlinewidth": 0,
             "ticks": ""
            },
            "colorscale": [
             [
              0,
              "#0d0887"
             ],
             [
              0.1111111111111111,
              "#46039f"
             ],
             [
              0.2222222222222222,
              "#7201a8"
             ],
             [
              0.3333333333333333,
              "#9c179e"
             ],
             [
              0.4444444444444444,
              "#bd3786"
             ],
             [
              0.5555555555555556,
              "#d8576b"
             ],
             [
              0.6666666666666666,
              "#ed7953"
             ],
             [
              0.7777777777777778,
              "#fb9f3a"
             ],
             [
              0.8888888888888888,
              "#fdca26"
             ],
             [
              1,
              "#f0f921"
             ]
            ],
            "type": "contour"
           }
          ],
          "contourcarpet": [
           {
            "colorbar": {
             "outlinewidth": 0,
             "ticks": ""
            },
            "type": "contourcarpet"
           }
          ],
          "heatmap": [
           {
            "colorbar": {
             "outlinewidth": 0,
             "ticks": ""
            },
            "colorscale": [
             [
              0,
              "#0d0887"
             ],
             [
              0.1111111111111111,
              "#46039f"
             ],
             [
              0.2222222222222222,
              "#7201a8"
             ],
             [
              0.3333333333333333,
              "#9c179e"
             ],
             [
              0.4444444444444444,
              "#bd3786"
             ],
             [
              0.5555555555555556,
              "#d8576b"
             ],
             [
              0.6666666666666666,
              "#ed7953"
             ],
             [
              0.7777777777777778,
              "#fb9f3a"
             ],
             [
              0.8888888888888888,
              "#fdca26"
             ],
             [
              1,
              "#f0f921"
             ]
            ],
            "type": "heatmap"
           }
          ],
          "heatmapgl": [
           {
            "colorbar": {
             "outlinewidth": 0,
             "ticks": ""
            },
            "colorscale": [
             [
              0,
              "#0d0887"
             ],
             [
              0.1111111111111111,
              "#46039f"
             ],
             [
              0.2222222222222222,
              "#7201a8"
             ],
             [
              0.3333333333333333,
              "#9c179e"
             ],
             [
              0.4444444444444444,
              "#bd3786"
             ],
             [
              0.5555555555555556,
              "#d8576b"
             ],
             [
              0.6666666666666666,
              "#ed7953"
             ],
             [
              0.7777777777777778,
              "#fb9f3a"
             ],
             [
              0.8888888888888888,
              "#fdca26"
             ],
             [
              1,
              "#f0f921"
             ]
            ],
            "type": "heatmapgl"
           }
          ],
          "histogram": [
           {
            "marker": {
             "pattern": {
              "fillmode": "overlay",
              "size": 10,
              "solidity": 0.2
             }
            },
            "type": "histogram"
           }
          ],
          "histogram2d": [
           {
            "colorbar": {
             "outlinewidth": 0,
             "ticks": ""
            },
            "colorscale": [
             [
              0,
              "#0d0887"
             ],
             [
              0.1111111111111111,
              "#46039f"
             ],
             [
              0.2222222222222222,
              "#7201a8"
             ],
             [
              0.3333333333333333,
              "#9c179e"
             ],
             [
              0.4444444444444444,
              "#bd3786"
             ],
             [
              0.5555555555555556,
              "#d8576b"
             ],
             [
              0.6666666666666666,
              "#ed7953"
             ],
             [
              0.7777777777777778,
              "#fb9f3a"
             ],
             [
              0.8888888888888888,
              "#fdca26"
             ],
             [
              1,
              "#f0f921"
             ]
            ],
            "type": "histogram2d"
           }
          ],
          "histogram2dcontour": [
           {
            "colorbar": {
             "outlinewidth": 0,
             "ticks": ""
            },
            "colorscale": [
             [
              0,
              "#0d0887"
             ],
             [
              0.1111111111111111,
              "#46039f"
             ],
             [
              0.2222222222222222,
              "#7201a8"
             ],
             [
              0.3333333333333333,
              "#9c179e"
             ],
             [
              0.4444444444444444,
              "#bd3786"
             ],
             [
              0.5555555555555556,
              "#d8576b"
             ],
             [
              0.6666666666666666,
              "#ed7953"
             ],
             [
              0.7777777777777778,
              "#fb9f3a"
             ],
             [
              0.8888888888888888,
              "#fdca26"
             ],
             [
              1,
              "#f0f921"
             ]
            ],
            "type": "histogram2dcontour"
           }
          ],
          "mesh3d": [
           {
            "colorbar": {
             "outlinewidth": 0,
             "ticks": ""
            },
            "type": "mesh3d"
           }
          ],
          "parcoords": [
           {
            "line": {
             "colorbar": {
              "outlinewidth": 0,
              "ticks": ""
             }
            },
            "type": "parcoords"
           }
          ],
          "pie": [
           {
            "automargin": true,
            "type": "pie"
           }
          ],
          "scatter": [
           {
            "marker": {
             "colorbar": {
              "outlinewidth": 0,
              "ticks": ""
             }
            },
            "type": "scatter"
           }
          ],
          "scatter3d": [
           {
            "line": {
             "colorbar": {
              "outlinewidth": 0,
              "ticks": ""
             }
            },
            "marker": {
             "colorbar": {
              "outlinewidth": 0,
              "ticks": ""
             }
            },
            "type": "scatter3d"
           }
          ],
          "scattercarpet": [
           {
            "marker": {
             "colorbar": {
              "outlinewidth": 0,
              "ticks": ""
             }
            },
            "type": "scattercarpet"
           }
          ],
          "scattergeo": [
           {
            "marker": {
             "colorbar": {
              "outlinewidth": 0,
              "ticks": ""
             }
            },
            "type": "scattergeo"
           }
          ],
          "scattergl": [
           {
            "marker": {
             "colorbar": {
              "outlinewidth": 0,
              "ticks": ""
             }
            },
            "type": "scattergl"
           }
          ],
          "scattermapbox": [
           {
            "marker": {
             "colorbar": {
              "outlinewidth": 0,
              "ticks": ""
             }
            },
            "type": "scattermapbox"
           }
          ],
          "scatterpolar": [
           {
            "marker": {
             "colorbar": {
              "outlinewidth": 0,
              "ticks": ""
             }
            },
            "type": "scatterpolar"
           }
          ],
          "scatterpolargl": [
           {
            "marker": {
             "colorbar": {
              "outlinewidth": 0,
              "ticks": ""
             }
            },
            "type": "scatterpolargl"
           }
          ],
          "scatterternary": [
           {
            "marker": {
             "colorbar": {
              "outlinewidth": 0,
              "ticks": ""
             }
            },
            "type": "scatterternary"
           }
          ],
          "surface": [
           {
            "colorbar": {
             "outlinewidth": 0,
             "ticks": ""
            },
            "colorscale": [
             [
              0,
              "#0d0887"
             ],
             [
              0.1111111111111111,
              "#46039f"
             ],
             [
              0.2222222222222222,
              "#7201a8"
             ],
             [
              0.3333333333333333,
              "#9c179e"
             ],
             [
              0.4444444444444444,
              "#bd3786"
             ],
             [
              0.5555555555555556,
              "#d8576b"
             ],
             [
              0.6666666666666666,
              "#ed7953"
             ],
             [
              0.7777777777777778,
              "#fb9f3a"
             ],
             [
              0.8888888888888888,
              "#fdca26"
             ],
             [
              1,
              "#f0f921"
             ]
            ],
            "type": "surface"
           }
          ],
          "table": [
           {
            "cells": {
             "fill": {
              "color": "#EBF0F8"
             },
             "line": {
              "color": "white"
             }
            },
            "header": {
             "fill": {
              "color": "#C8D4E3"
             },
             "line": {
              "color": "white"
             }
            },
            "type": "table"
           }
          ]
         },
         "layout": {
          "annotationdefaults": {
           "arrowcolor": "#2a3f5f",
           "arrowhead": 0,
           "arrowwidth": 1
          },
          "autotypenumbers": "strict",
          "coloraxis": {
           "colorbar": {
            "outlinewidth": 0,
            "ticks": ""
           }
          },
          "colorscale": {
           "diverging": [
            [
             0,
             "#8e0152"
            ],
            [
             0.1,
             "#c51b7d"
            ],
            [
             0.2,
             "#de77ae"
            ],
            [
             0.3,
             "#f1b6da"
            ],
            [
             0.4,
             "#fde0ef"
            ],
            [
             0.5,
             "#f7f7f7"
            ],
            [
             0.6,
             "#e6f5d0"
            ],
            [
             0.7,
             "#b8e186"
            ],
            [
             0.8,
             "#7fbc41"
            ],
            [
             0.9,
             "#4d9221"
            ],
            [
             1,
             "#276419"
            ]
           ],
           "sequential": [
            [
             0,
             "#0d0887"
            ],
            [
             0.1111111111111111,
             "#46039f"
            ],
            [
             0.2222222222222222,
             "#7201a8"
            ],
            [
             0.3333333333333333,
             "#9c179e"
            ],
            [
             0.4444444444444444,
             "#bd3786"
            ],
            [
             0.5555555555555556,
             "#d8576b"
            ],
            [
             0.6666666666666666,
             "#ed7953"
            ],
            [
             0.7777777777777778,
             "#fb9f3a"
            ],
            [
             0.8888888888888888,
             "#fdca26"
            ],
            [
             1,
             "#f0f921"
            ]
           ],
           "sequentialminus": [
            [
             0,
             "#0d0887"
            ],
            [
             0.1111111111111111,
             "#46039f"
            ],
            [
             0.2222222222222222,
             "#7201a8"
            ],
            [
             0.3333333333333333,
             "#9c179e"
            ],
            [
             0.4444444444444444,
             "#bd3786"
            ],
            [
             0.5555555555555556,
             "#d8576b"
            ],
            [
             0.6666666666666666,
             "#ed7953"
            ],
            [
             0.7777777777777778,
             "#fb9f3a"
            ],
            [
             0.8888888888888888,
             "#fdca26"
            ],
            [
             1,
             "#f0f921"
            ]
           ]
          },
          "colorway": [
           "#636efa",
           "#EF553B",
           "#00cc96",
           "#ab63fa",
           "#FFA15A",
           "#19d3f3",
           "#FF6692",
           "#B6E880",
           "#FF97FF",
           "#FECB52"
          ],
          "font": {
           "color": "#2a3f5f"
          },
          "geo": {
           "bgcolor": "white",
           "lakecolor": "white",
           "landcolor": "#E5ECF6",
           "showlakes": true,
           "showland": true,
           "subunitcolor": "white"
          },
          "hoverlabel": {
           "align": "left"
          },
          "hovermode": "closest",
          "mapbox": {
           "style": "light"
          },
          "paper_bgcolor": "white",
          "plot_bgcolor": "#E5ECF6",
          "polar": {
           "angularaxis": {
            "gridcolor": "white",
            "linecolor": "white",
            "ticks": ""
           },
           "bgcolor": "#E5ECF6",
           "radialaxis": {
            "gridcolor": "white",
            "linecolor": "white",
            "ticks": ""
           }
          },
          "scene": {
           "xaxis": {
            "backgroundcolor": "#E5ECF6",
            "gridcolor": "white",
            "gridwidth": 2,
            "linecolor": "white",
            "showbackground": true,
            "ticks": "",
            "zerolinecolor": "white"
           },
           "yaxis": {
            "backgroundcolor": "#E5ECF6",
            "gridcolor": "white",
            "gridwidth": 2,
            "linecolor": "white",
            "showbackground": true,
            "ticks": "",
            "zerolinecolor": "white"
           },
           "zaxis": {
            "backgroundcolor": "#E5ECF6",
            "gridcolor": "white",
            "gridwidth": 2,
            "linecolor": "white",
            "showbackground": true,
            "ticks": "",
            "zerolinecolor": "white"
           }
          },
          "shapedefaults": {
           "line": {
            "color": "#2a3f5f"
           }
          },
          "ternary": {
           "aaxis": {
            "gridcolor": "white",
            "linecolor": "white",
            "ticks": ""
           },
           "baxis": {
            "gridcolor": "white",
            "linecolor": "white",
            "ticks": ""
           },
           "bgcolor": "#E5ECF6",
           "caxis": {
            "gridcolor": "white",
            "linecolor": "white",
            "ticks": ""
           }
          },
          "title": {
           "x": 0.05
          },
          "xaxis": {
           "automargin": true,
           "gridcolor": "white",
           "linecolor": "white",
           "ticks": "",
           "title": {
            "standoff": 15
           },
           "zerolinecolor": "white",
           "zerolinewidth": 2
          },
          "yaxis": {
           "automargin": true,
           "gridcolor": "white",
           "linecolor": "white",
           "ticks": "",
           "title": {
            "standoff": 15
           },
           "zerolinecolor": "white",
           "zerolinewidth": 2
          }
         }
        },
        "width": 2100
       }
      }
     },
     "metadata": {},
     "output_type": "display_data"
    }
   ],
   "source": [
    "fig = go.Figure(go.Sunburst(\n",
    "    branchvalues = \"total\",\n",
    "    labels = final_labels,\n",
    "    parents =  final_parents,\n",
    "    values=final_values,\n",
    "))\n",
    "\n",
    "fig.update_layout(margin = dict(t=50, l=25, r=25, b=25))\n",
    "\n",
    "\n",
    "fig.update_layout(\n",
    "    autosize=False,\n",
    "    width=2100,\n",
    "    height=1050,\n",
    "    margin=dict(\n",
    "        l=0,\n",
    "        r=0,\n",
    "        b=0,\n",
    "        t=0,\n",
    "        pad=0\n",
    "    ),\n",
    ")\n",
    "\n",
    "fig.show()"
   ]
  },
  {
   "cell_type": "code",
   "execution_count": 77,
   "metadata": {},
   "outputs": [
    {
     "data": {
      "application/vnd.plotly.v1+json": {
       "config": {
        "plotlyServerURL": "https://plot.ly"
       },
       "data": [
        {
         "branchvalues": "total",
         "labels": [
          "All Ages",
          "45-54",
          "Certain other intestinal infections : 45-54",
          "#Septicemia : 45-54",
          "#Viral hepatitis : 45-54",
          "#Human immunodeficiency virus : 45-54",
          "Other and unspecified infectious and parasitic diseases and their sequelae : 45-54",
          "#Malignant neoplasms : 45-54",
          "Malignant neoplasms of kidney and renal pelvis : 45-54",
          "Malignant neoplasms of liver and intrahepatic bile ducts : 45-54",
          "Malignant neoplasms of meninges, brain and other parts of central nervous system : 45-54",
          "Malignant neoplasm of stomach : 45-54",
          "Malignant neoplasm of cervix uteri : 45-54",
          "Malignant neoplasm of larynx : 45-54",
          "Malignant neoplasm of bladder : 45-54",
          "All other and unspecified malignant neoplasms : 45-54",
          "Malignant neoplasm of breast : 45-54",
          "Malignant neoplasms of lymphoid, hematopoietic and related tissue : 45-54",
          "Leukemia : 45-54",
          "Non-Hodgkin lymphoma : 45-54",
          "Multiple myeloma and immunoproliferative neoplasms : 45-54",
          "Malignant neoplasm of prostate : 45-54",
          "Malignant melanoma of skin : 45-54",
          "Malignant neoplasm of esophagus : 45-54",
          "Malignant neoplasms of corpus uteri and uterus, part unspecified : 45-54",
          "Malignant neoplasms of colon, rectum and anus : 45-54",
          "Malignant neoplasm of ovary : 45-54",
          "Malignant neoplasms of lip, oral cavity and pharynx : 45-54",
          "Malignant neoplasm of pancreas : 45-54",
          "Malignant neoplasms of trachea, bronchus and lung : 45-54",
          "#In situ neoplasms, benign neoplasms and neoplasms of uncertain or unknown behavior : 45-54",
          "#Diabetes mellitus : 45-54",
          "Major cardiovascular diseases : 45-54",
          "#Cerebrovascular diseases : 45-54",
          "#Diseases of heart : 45-54",
          "Ischemic heart diseases : 45-54",
          "Acute myocardial infarction : 45-54",
          "Other forms of chronic ischemic heart disease : 45-54",
          "All other forms of chronic ischemic heart disease : 45-54",
          "Atherosclerotic cardiovascular disease, so described : 45-54",
          "Other heart diseases : 45-54",
          "Heart failure : 45-54",
          "All other forms of heart disease : 45-54",
          "Hypertensive heart disease : 45-54",
          "Hypertensive heart and renal disease : 45-54",
          "Other diseases of circulatory system : 45-54",
          "Other diseases of arteries, arterioles and capillaries : 45-54",
          "#Aortic aneurysm and dissection : 45-54",
          "#Essential hypertension and hypertensive renal disease : 45-54",
          "Other disorders of circulatory system : 45-54",
          "#Influenza and pneumonia : 45-54",
          "Influenza : 45-54",
          "Pneumonia : 45-54",
          "#Chronic lower respiratory diseases : 45-54",
          "Asthma : 45-54",
          "Other chronic lower respiratory diseases : 45-54",
          "#Pneumonitis due to solids and liquids : 45-54",
          "Other diseases of respiratory system : 45-54",
          "#Chronic liver disease and cirrhosis : 45-54",
          "Alcoholic liver disease : 45-54",
          "Other chronic liver disease and cirrhosis : 45-54",
          "#Nephritis, nephrotic syndrome and nephrosis : 45-54",
          "Renal failure : 45-54",
          "#Congenital malformations, deformations and chromosomal abnormalities : 45-54",
          "Symptoms, signs and abnormal clinical and laboratory findings, not elsewhere classified : 45-54",
          "All other diseases : 45-54",
          "#Accidents : 45-54",
          "Transport accidents : 45-54",
          "Motor vehicle accidents : 45-54",
          "Water, air and space, and other and unspecified transport accidents and their sequelae : 45-54",
          "Nontransport accidents : 45-54",
          "Falls : 45-54",
          "Other and unspecified nontransport accidents and their sequelae : 45-54",
          "Accidental poisoning and exposure to noxious substances : 45-54",
          "#Intentional self-harm : 45-54",
          "Intentional self-harm : 45-54",
          "Intentional self-harm : 45-54",
          "#Assault : 45-54",
          "Assault : 45-54",
          "Assault : 45-54",
          "Events of undetermined intent : 45-54",
          "Other and unspecified events of undetermined intent and their sequelae : 45-54",
          "55-64",
          "Certain other intestinal infections : 55-64",
          "#Enterocolitis due to Clostridium difficile : 55-64",
          "#Septicemia : 55-64",
          "#Viral hepatitis : 55-64",
          "#Human immunodeficiency virus : 55-64",
          "Other and unspecified infectious and parasitic diseases and their sequelae : 55-64",
          "#Malignant neoplasms : 55-64",
          "Malignant neoplasms of kidney and renal pelvis : 55-64",
          "Malignant neoplasms of liver and intrahepatic bile ducts : 55-64",
          "Malignant neoplasms of meninges, brain and other parts of central nervous system : 55-64",
          "Malignant neoplasm of stomach : 55-64",
          "Malignant neoplasm of cervix uteri : 55-64",
          "Malignant neoplasm of larynx : 55-64",
          "Malignant neoplasm of bladder : 55-64",
          "All other and unspecified malignant neoplasms : 55-64",
          "Malignant neoplasm of breast : 55-64",
          "Malignant neoplasms of lymphoid, hematopoietic and related tissue : 55-64",
          "Leukemia : 55-64",
          "Non-Hodgkin lymphoma : 55-64",
          "Multiple myeloma and immunoproliferative neoplasms : 55-64",
          "Malignant neoplasm of prostate : 55-64",
          "Malignant melanoma of skin : 55-64",
          "Malignant neoplasm of esophagus : 55-64",
          "Malignant neoplasms of corpus uteri and uterus, part unspecified : 55-64",
          "Malignant neoplasms of colon, rectum and anus : 55-64",
          "Malignant neoplasm of ovary : 55-64",
          "Malignant neoplasms of lip, oral cavity and pharynx : 55-64",
          "Malignant neoplasm of pancreas : 55-64",
          "Malignant neoplasms of trachea, bronchus and lung : 55-64",
          "#In situ neoplasms, benign neoplasms and neoplasms of uncertain or unknown behavior : 55-64",
          "#Anemias : 55-64",
          "#Diabetes mellitus : 55-64",
          "#Nutritional deficiencies : 55-64",
          "Malnutrition : 55-64",
          "#Parkinson disease : 55-64",
          "#Alzheimer disease : 55-64",
          "Major cardiovascular diseases : 55-64",
          "#Atherosclerosis : 55-64",
          "#Cerebrovascular diseases : 55-64",
          "#Diseases of heart : 55-64",
          "Ischemic heart diseases : 55-64",
          "Acute myocardial infarction : 55-64",
          "Other forms of chronic ischemic heart disease : 55-64",
          "All other forms of chronic ischemic heart disease : 55-64",
          "Atherosclerotic cardiovascular disease, so described : 55-64",
          "Other acute ischemic heart diseases : 55-64",
          "Other heart diseases : 55-64",
          "Heart failure : 55-64",
          "All other forms of heart disease : 55-64",
          "Acute and subacute endocarditis : 55-64",
          "Hypertensive heart disease : 55-64",
          "Acute rheumatic fever and chronic rheumatic heart diseases : 55-64",
          "Hypertensive heart and renal disease : 55-64",
          "Other diseases of circulatory system : 55-64",
          "Other diseases of arteries, arterioles and capillaries : 55-64",
          "#Aortic aneurysm and dissection : 55-64",
          "#Essential hypertension and hypertensive renal disease : 55-64",
          "Other disorders of circulatory system : 55-64",
          "#Influenza and pneumonia : 55-64",
          "Influenza : 55-64",
          "Pneumonia : 55-64",
          "#Chronic lower respiratory diseases : 55-64",
          "Asthma : 55-64",
          "Other chronic lower respiratory diseases : 55-64",
          "Emphysema : 55-64",
          "#Pneumonitis due to solids and liquids : 55-64",
          "Other diseases of respiratory system : 55-64",
          "#Peptic ulcer : 55-64",
          "#Chronic liver disease and cirrhosis : 55-64",
          "Alcoholic liver disease : 55-64",
          "Other chronic liver disease and cirrhosis : 55-64",
          "#Nephritis, nephrotic syndrome and nephrosis : 55-64",
          "Renal failure : 55-64",
          "#Congenital malformations, deformations and chromosomal abnormalities : 55-64",
          "Symptoms, signs and abnormal clinical and laboratory findings, not elsewhere classified : 55-64",
          "All other diseases : 55-64",
          "#Accidents : 55-64",
          "Transport accidents : 55-64",
          "Motor vehicle accidents : 55-64",
          "Water, air and space, and other and unspecified transport accidents and their sequelae : 55-64",
          "Nontransport accidents : 55-64",
          "Falls : 55-64",
          "Other and unspecified nontransport accidents and their sequelae : 55-64",
          "Accidental exposure to smoke, fire and flames : 55-64",
          "Accidental poisoning and exposure to noxious substances : 55-64",
          "Accidental drowning and submersion : 55-64",
          "#Intentional self-harm : 55-64",
          "Intentional self-harm : 55-64",
          "Intentional self-harm : 55-64",
          "#Assault : 55-64",
          "Assault : 55-64",
          "Assault : 55-64",
          "Events of undetermined intent : 55-64",
          "Other and unspecified events of undetermined intent and their sequelae : 55-64",
          "#Complications of medical and surgical care : 55-64",
          "65-74",
          "Certain other intestinal infections : 65-74",
          "#Enterocolitis due to Clostridium difficile : 65-74",
          "#Septicemia : 65-74",
          "#Viral hepatitis : 65-74",
          "#Human immunodeficiency virus : 65-74",
          "Other and unspecified infectious and parasitic diseases and their sequelae : 65-74",
          "#Malignant neoplasms : 65-74",
          "Malignant neoplasms of kidney and renal pelvis : 65-74",
          "Malignant neoplasms of liver and intrahepatic bile ducts : 65-74",
          "Malignant neoplasms of meninges, brain and other parts of central nervous system : 65-74",
          "Malignant neoplasm of stomach : 65-74",
          "Malignant neoplasm of cervix uteri : 65-74",
          "Malignant neoplasm of larynx : 65-74",
          "Malignant neoplasm of bladder : 65-74",
          "All other and unspecified malignant neoplasms : 65-74",
          "Malignant neoplasm of breast : 65-74",
          "Malignant neoplasms of lymphoid, hematopoietic and related tissue : 65-74",
          "Leukemia : 65-74",
          "Non-Hodgkin lymphoma : 65-74",
          "Multiple myeloma and immunoproliferative neoplasms : 65-74",
          "Malignant neoplasm of prostate : 65-74",
          "Malignant melanoma of skin : 65-74",
          "Malignant neoplasm of esophagus : 65-74",
          "Malignant neoplasms of corpus uteri and uterus, part unspecified : 65-74",
          "Malignant neoplasms of colon, rectum and anus : 65-74",
          "Malignant neoplasm of ovary : 65-74",
          "Malignant neoplasms of lip, oral cavity and pharynx : 65-74",
          "Malignant neoplasm of pancreas : 65-74",
          "Malignant neoplasms of trachea, bronchus and lung : 65-74",
          "#In situ neoplasms, benign neoplasms and neoplasms of uncertain or unknown behavior : 65-74",
          "#Anemias : 65-74",
          "#Diabetes mellitus : 65-74",
          "#Nutritional deficiencies : 65-74",
          "Malnutrition : 65-74",
          "#Parkinson disease : 65-74",
          "#Alzheimer disease : 65-74",
          "Major cardiovascular diseases : 65-74",
          "#Atherosclerosis : 65-74",
          "#Cerebrovascular diseases : 65-74",
          "#Diseases of heart : 65-74",
          "Ischemic heart diseases : 65-74",
          "Acute myocardial infarction : 65-74",
          "Other forms of chronic ischemic heart disease : 65-74",
          "All other forms of chronic ischemic heart disease : 65-74",
          "Atherosclerotic cardiovascular disease, so described : 65-74",
          "Other acute ischemic heart diseases : 65-74",
          "Other heart diseases : 65-74",
          "Heart failure : 65-74",
          "Diseases of pericardium and acute myocarditis : 65-74",
          "All other forms of heart disease : 65-74",
          "Acute and subacute endocarditis : 65-74",
          "Hypertensive heart disease : 65-74",
          "Acute rheumatic fever and chronic rheumatic heart diseases : 65-74",
          "Hypertensive heart and renal disease : 65-74",
          "Other diseases of circulatory system : 65-74",
          "Other diseases of arteries, arterioles and capillaries : 65-74",
          "#Aortic aneurysm and dissection : 65-74",
          "#Essential hypertension and hypertensive renal disease : 65-74",
          "Other disorders of circulatory system : 65-74",
          "#Influenza and pneumonia : 65-74",
          "Influenza : 65-74",
          "Pneumonia : 65-74",
          "#Chronic lower respiratory diseases : 65-74",
          "Asthma : 65-74",
          "Other chronic lower respiratory diseases : 65-74",
          "Emphysema : 65-74",
          "#Pneumonitis due to solids and liquids : 65-74",
          "Other diseases of respiratory system : 65-74",
          "#Peptic ulcer : 65-74",
          "#Chronic liver disease and cirrhosis : 65-74",
          "Alcoholic liver disease : 65-74",
          "Other chronic liver disease and cirrhosis : 65-74",
          "#Cholelithiasis and other disorders of gallbladder : 65-74",
          "#Nephritis, nephrotic syndrome and nephrosis : 65-74",
          "Renal failure : 65-74",
          "#Congenital malformations, deformations and chromosomal abnormalities : 65-74",
          "Symptoms, signs and abnormal clinical and laboratory findings, not elsewhere classified : 65-74",
          "All other diseases : 65-74",
          "#Accidents : 65-74",
          "Transport accidents : 65-74",
          "Motor vehicle accidents : 65-74",
          "Water, air and space, and other and unspecified transport accidents and their sequelae : 65-74",
          "Nontransport accidents : 65-74",
          "Falls : 65-74",
          "Other and unspecified nontransport accidents and their sequelae : 65-74",
          "Accidental exposure to smoke, fire and flames : 65-74",
          "Accidental poisoning and exposure to noxious substances : 65-74",
          "Accidental drowning and submersion : 65-74",
          "#Intentional self-harm : 65-74",
          "Intentional self-harm : 65-74",
          "Intentional self-harm : 65-74",
          "#Assault : 65-74",
          "Assault : 65-74",
          "Events of undetermined intent : 65-74",
          "Other and unspecified events of undetermined intent and their sequelae : 65-74",
          "#Complications of medical and surgical care : 65-74",
          "#Hernia : 65-74",
          "75-84",
          "Certain other intestinal infections : 75-84",
          "#Enterocolitis due to Clostridium difficile : 75-84",
          "#Septicemia : 75-84",
          "#Viral hepatitis : 75-84",
          "Other and unspecified infectious and parasitic diseases and their sequelae : 75-84",
          "#Malignant neoplasms : 75-84",
          "Malignant neoplasms of kidney and renal pelvis : 75-84",
          "Malignant neoplasms of liver and intrahepatic bile ducts : 75-84",
          "Malignant neoplasms of meninges, brain and other parts of central nervous system : 75-84",
          "Malignant neoplasm of stomach : 75-84",
          "Malignant neoplasm of cervix uteri : 75-84",
          "Malignant neoplasm of larynx : 75-84",
          "Malignant neoplasm of bladder : 75-84",
          "All other and unspecified malignant neoplasms : 75-84",
          "Malignant neoplasm of breast : 75-84",
          "Malignant neoplasms of lymphoid, hematopoietic and related tissue : 75-84",
          "Leukemia : 75-84",
          "Non-Hodgkin lymphoma : 75-84",
          "Multiple myeloma and immunoproliferative neoplasms : 75-84",
          "Malignant neoplasm of prostate : 75-84",
          "Malignant melanoma of skin : 75-84",
          "Malignant neoplasm of esophagus : 75-84",
          "Malignant neoplasms of corpus uteri and uterus, part unspecified : 75-84",
          "Malignant neoplasms of colon, rectum and anus : 75-84",
          "Malignant neoplasm of ovary : 75-84",
          "Malignant neoplasms of lip, oral cavity and pharynx : 75-84",
          "Malignant neoplasm of pancreas : 75-84",
          "Malignant neoplasms of trachea, bronchus and lung : 75-84",
          "#In situ neoplasms, benign neoplasms and neoplasms of uncertain or unknown behavior : 75-84",
          "#Anemias : 75-84",
          "#Diabetes mellitus : 75-84",
          "#Nutritional deficiencies : 75-84",
          "Malnutrition : 75-84",
          "#Parkinson disease : 75-84",
          "#Alzheimer disease : 75-84",
          "Major cardiovascular diseases : 75-84",
          "#Atherosclerosis : 75-84",
          "#Cerebrovascular diseases : 75-84",
          "#Diseases of heart : 75-84",
          "Ischemic heart diseases : 75-84",
          "Acute myocardial infarction : 75-84",
          "Other forms of chronic ischemic heart disease : 75-84",
          "All other forms of chronic ischemic heart disease : 75-84",
          "Atherosclerotic cardiovascular disease, so described : 75-84",
          "Other acute ischemic heart diseases : 75-84",
          "Other heart diseases : 75-84",
          "Heart failure : 75-84",
          "All other forms of heart disease : 75-84",
          "Acute and subacute endocarditis : 75-84",
          "Hypertensive heart disease : 75-84",
          "Acute rheumatic fever and chronic rheumatic heart diseases : 75-84",
          "Hypertensive heart and renal disease : 75-84",
          "Other diseases of circulatory system : 75-84",
          "Other diseases of arteries, arterioles and capillaries : 75-84",
          "#Aortic aneurysm and dissection : 75-84",
          "#Essential hypertension and hypertensive renal disease : 75-84",
          "Other disorders of circulatory system : 75-84",
          "#Influenza and pneumonia : 75-84",
          "Influenza : 75-84",
          "Pneumonia : 75-84",
          "#Chronic lower respiratory diseases : 75-84",
          "Other chronic lower respiratory diseases : 75-84",
          "Emphysema : 75-84",
          "#Pneumonitis due to solids and liquids : 75-84",
          "Other diseases of respiratory system : 75-84",
          "#Peptic ulcer : 75-84",
          "#Chronic liver disease and cirrhosis : 75-84",
          "Alcoholic liver disease : 75-84",
          "Other chronic liver disease and cirrhosis : 75-84",
          "#Cholelithiasis and other disorders of gallbladder : 75-84",
          "#Nephritis, nephrotic syndrome and nephrosis : 75-84",
          "Renal failure : 75-84",
          "#Congenital malformations, deformations and chromosomal abnormalities : 75-84",
          "Symptoms, signs and abnormal clinical and laboratory findings, not elsewhere classified : 75-84",
          "All other diseases : 75-84",
          "#Accidents : 75-84",
          "Transport accidents : 75-84",
          "Motor vehicle accidents : 75-84",
          "Nontransport accidents : 75-84",
          "Falls : 75-84",
          "Other and unspecified nontransport accidents and their sequelae : 75-84",
          "Accidental exposure to smoke, fire and flames : 75-84",
          "Accidental poisoning and exposure to noxious substances : 75-84",
          "#Intentional self-harm : 75-84",
          "Intentional self-harm : 75-84",
          "Intentional self-harm : 75-84",
          "#Complications of medical and surgical care : 75-84",
          "#Hernia : 75-84",
          "85+",
          "Certain other intestinal infections : 85+",
          "#Enterocolitis due to Clostridium difficile : 85+",
          "#Septicemia : 85+",
          "Other and unspecified infectious and parasitic diseases and their sequelae : 85+",
          "#Malignant neoplasms : 85+",
          "Malignant neoplasms of kidney and renal pelvis : 85+",
          "Malignant neoplasms of liver and intrahepatic bile ducts : 85+",
          "Malignant neoplasms of meninges, brain and other parts of central nervous system : 85+",
          "Malignant neoplasm of stomach : 85+",
          "Malignant neoplasm of larynx : 85+",
          "Malignant neoplasm of bladder : 85+",
          "All other and unspecified malignant neoplasms : 85+",
          "Malignant neoplasm of breast : 85+",
          "Malignant neoplasms of lymphoid, hematopoietic and related tissue : 85+",
          "Leukemia : 85+",
          "Non-Hodgkin lymphoma : 85+",
          "Multiple myeloma and immunoproliferative neoplasms : 85+",
          "Malignant neoplasm of prostate : 85+",
          "Malignant melanoma of skin : 85+",
          "Malignant neoplasm of esophagus : 85+",
          "Malignant neoplasms of corpus uteri and uterus, part unspecified : 85+",
          "Malignant neoplasms of colon, rectum and anus : 85+",
          "Malignant neoplasm of ovary : 85+",
          "Malignant neoplasms of lip, oral cavity and pharynx : 85+",
          "Malignant neoplasm of pancreas : 85+",
          "Malignant neoplasms of trachea, bronchus and lung : 85+",
          "#In situ neoplasms, benign neoplasms and neoplasms of uncertain or unknown behavior : 85+",
          "#Anemias : 85+",
          "#Diabetes mellitus : 85+",
          "#Nutritional deficiencies : 85+",
          "Malnutrition : 85+",
          "#Parkinson disease : 85+",
          "#Alzheimer disease : 85+",
          "Major cardiovascular diseases : 85+",
          "#Atherosclerosis : 85+",
          "#Cerebrovascular diseases : 85+",
          "#Diseases of heart : 85+",
          "Ischemic heart diseases : 85+",
          "Acute myocardial infarction : 85+",
          "Other forms of chronic ischemic heart disease : 85+",
          "All other forms of chronic ischemic heart disease : 85+",
          "Atherosclerotic cardiovascular disease, so described : 85+",
          "Other acute ischemic heart diseases : 85+",
          "Other heart diseases : 85+",
          "Heart failure : 85+",
          "All other forms of heart disease : 85+",
          "Acute and subacute endocarditis : 85+",
          "Hypertensive heart disease : 85+",
          "Acute rheumatic fever and chronic rheumatic heart diseases : 85+",
          "Hypertensive heart and renal disease : 85+",
          "Other diseases of circulatory system : 85+",
          "Other diseases of arteries, arterioles and capillaries : 85+",
          "#Aortic aneurysm and dissection : 85+",
          "#Essential hypertension and hypertensive renal disease : 85+",
          "Other disorders of circulatory system : 85+",
          "#Influenza and pneumonia : 85+",
          "Influenza : 85+",
          "Pneumonia : 85+",
          "#Chronic lower respiratory diseases : 85+",
          "Asthma : 85+",
          "Other chronic lower respiratory diseases : 85+",
          "Emphysema : 85+",
          "#Pneumonitis due to solids and liquids : 85+",
          "Other diseases of respiratory system : 85+",
          "#Peptic ulcer : 85+",
          "#Chronic liver disease and cirrhosis : 85+",
          "Other chronic liver disease and cirrhosis : 85+",
          "#Cholelithiasis and other disorders of gallbladder : 85+",
          "#Nephritis, nephrotic syndrome and nephrosis : 85+",
          "Renal failure : 85+",
          "Symptoms, signs and abnormal clinical and laboratory findings, not elsewhere classified : 85+",
          "All other diseases : 85+",
          "#Accidents : 85+",
          "Transport accidents : 85+",
          "Motor vehicle accidents : 85+",
          "Nontransport accidents : 85+",
          "Falls : 85+",
          "Other and unspecified nontransport accidents and their sequelae : 85+",
          "#Intentional self-harm : 85+",
          "Intentional self-harm : 85+",
          "#Complications of medical and surgical care : 85+",
          "#Hernia : 85+",
          "#Hyperplasia of prostate : 85+",
          "25-34",
          "#Septicemia : 25-34",
          "#Human immunodeficiency virus : 25-34",
          "#Malignant neoplasms : 25-34",
          "Malignant neoplasms of meninges, brain and other parts of central nervous system : 25-34",
          "All other and unspecified malignant neoplasms : 25-34",
          "Malignant neoplasm of breast : 25-34",
          "Malignant neoplasms of lymphoid, hematopoietic and related tissue : 25-34",
          "#Diabetes mellitus : 25-34",
          "Major cardiovascular diseases : 25-34",
          "#Cerebrovascular diseases : 25-34",
          "#Diseases of heart : 25-34",
          "Ischemic heart diseases : 25-34",
          "Acute myocardial infarction : 25-34",
          "Other forms of chronic ischemic heart disease : 25-34",
          "Atherosclerotic cardiovascular disease, so described : 25-34",
          "Other heart diseases : 25-34",
          "All other forms of heart disease : 25-34",
          "Hypertensive heart disease : 25-34",
          "#Influenza and pneumonia : 25-34",
          "Pneumonia : 25-34",
          "#Chronic lower respiratory diseases : 25-34",
          "Asthma : 25-34",
          "#Chronic liver disease and cirrhosis : 25-34",
          "Alcoholic liver disease : 25-34",
          "#Pregnancy, childbirth and the puerperium : 25-34",
          "Other complications of pregnancy, childbirth and the puerperium : 25-34",
          "#Congenital malformations, deformations and chromosomal abnormalities : 25-34",
          "Symptoms, signs and abnormal clinical and laboratory findings, not elsewhere classified : 25-34",
          "All other diseases : 25-34",
          "#Accidents : 25-34",
          "Transport accidents : 25-34",
          "Motor vehicle accidents : 25-34",
          "Nontransport accidents : 25-34",
          "Other and unspecified nontransport accidents and their sequelae : 25-34",
          "Accidental poisoning and exposure to noxious substances : 25-34",
          "Accidental drowning and submersion : 25-34",
          "#Intentional self-harm : 25-34",
          "Intentional self-harm : 25-34",
          "Intentional self-harm : 25-34",
          "#Assault : 25-34",
          "Assault : 25-34",
          "Assault : 25-34",
          "Events of undetermined intent : 25-34",
          "Other and unspecified events of undetermined intent and their sequelae : 25-34",
          "35-44",
          "#Septicemia : 35-44",
          "Other and unspecified infectious and parasitic diseases and their sequelae : 35-44",
          "#Malignant neoplasms : 35-44",
          "Malignant neoplasms of meninges, brain and other parts of central nervous system : 35-44",
          "Malignant neoplasm of cervix uteri : 35-44",
          "All other and unspecified malignant neoplasms : 35-44",
          "Malignant neoplasm of breast : 35-44",
          "Malignant neoplasms of lymphoid, hematopoietic and related tissue : 35-44",
          "Leukemia : 35-44",
          "Malignant melanoma of skin : 35-44",
          "Malignant neoplasms of colon, rectum and anus : 35-44",
          "Malignant neoplasm of pancreas : 35-44",
          "Malignant neoplasms of trachea, bronchus and lung : 35-44",
          "#Diabetes mellitus : 35-44",
          "Major cardiovascular diseases : 35-44",
          "#Cerebrovascular diseases : 35-44",
          "#Diseases of heart : 35-44",
          "Ischemic heart diseases : 35-44",
          "Acute myocardial infarction : 35-44",
          "Other forms of chronic ischemic heart disease : 35-44",
          "All other forms of chronic ischemic heart disease : 35-44",
          "Atherosclerotic cardiovascular disease, so described : 35-44",
          "Other heart diseases : 35-44",
          "Heart failure : 35-44",
          "All other forms of heart disease : 35-44",
          "Hypertensive heart disease : 35-44",
          "Other diseases of circulatory system : 35-44",
          "#Aortic aneurysm and dissection : 35-44",
          "#Essential hypertension and hypertensive renal disease : 35-44",
          "Other disorders of circulatory system : 35-44",
          "#Influenza and pneumonia : 35-44",
          "Pneumonia : 35-44",
          "#Chronic lower respiratory diseases : 35-44",
          "Other diseases of respiratory system : 35-44",
          "#Chronic liver disease and cirrhosis : 35-44",
          "Alcoholic liver disease : 35-44",
          "Other chronic liver disease and cirrhosis : 35-44",
          "#Nephritis, nephrotic syndrome and nephrosis : 35-44",
          "Renal failure : 35-44",
          "#Pregnancy, childbirth and the puerperium : 35-44",
          "Other complications of pregnancy, childbirth and the puerperium : 35-44",
          "#Congenital malformations, deformations and chromosomal abnormalities : 35-44",
          "Symptoms, signs and abnormal clinical and laboratory findings, not elsewhere classified : 35-44",
          "All other diseases : 35-44",
          "#Accidents : 35-44",
          "Transport accidents : 35-44",
          "Motor vehicle accidents : 35-44",
          "Nontransport accidents : 35-44",
          "Other and unspecified nontransport accidents and their sequelae : 35-44",
          "Accidental poisoning and exposure to noxious substances : 35-44",
          "Accidental drowning and submersion : 35-44",
          "#Intentional self-harm : 35-44",
          "Intentional self-harm : 35-44",
          "Intentional self-harm : 35-44",
          "#Assault : 35-44",
          "Assault : 35-44",
          "Assault : 35-44",
          "Events of undetermined intent : 35-44",
          "Other and unspecified events of undetermined intent and their sequelae : 35-44",
          "1-4",
          "#Malignant neoplasms : 1-4",
          "#Congenital malformations, deformations and chromosomal abnormalities : 1-4",
          "All other diseases : 1-4",
          "#Accidents : 1-4",
          "Transport accidents : 1-4",
          "Motor vehicle accidents : 1-4",
          "Nontransport accidents : 1-4",
          "#Assault : 1-4",
          "5-14",
          "#Malignant neoplasms : 5-14",
          "Malignant neoplasms of meninges, brain and other parts of central nervous system : 5-14",
          "Major cardiovascular diseases : 5-14",
          "#Diseases of heart : 5-14",
          "#Congenital malformations, deformations and chromosomal abnormalities : 5-14",
          "All other diseases : 5-14",
          "#Accidents : 5-14",
          "Transport accidents : 5-14",
          "Motor vehicle accidents : 5-14",
          "Nontransport accidents : 5-14",
          "#Intentional self-harm : 5-14",
          "Intentional self-harm : 5-14",
          "#Assault : 5-14",
          "15-24",
          "#Malignant neoplasms : 15-24",
          "Malignant neoplasms of meninges, brain and other parts of central nervous system : 15-24",
          "All other and unspecified malignant neoplasms : 15-24",
          "Major cardiovascular diseases : 15-24",
          "#Diseases of heart : 15-24",
          "Other heart diseases : 15-24",
          "All other forms of heart disease : 15-24",
          "#Influenza and pneumonia : 15-24",
          "#Chronic lower respiratory diseases : 15-24",
          "Asthma : 15-24",
          "#Congenital malformations, deformations and chromosomal abnormalities : 15-24",
          "Symptoms, signs and abnormal clinical and laboratory findings, not elsewhere classified : 15-24",
          "All other diseases : 15-24",
          "#Accidents : 15-24",
          "Transport accidents : 15-24",
          "Motor vehicle accidents : 15-24",
          "Nontransport accidents : 15-24",
          "Accidental poisoning and exposure to noxious substances : 15-24",
          "Accidental drowning and submersion : 15-24",
          "#Intentional self-harm : 15-24",
          "Intentional self-harm : 15-24",
          "Intentional self-harm : 15-24",
          "#Assault : 15-24",
          "Assault : 15-24",
          "Events of undetermined intent : 15-24",
          "Other and unspecified events of undetermined intent and their sequelae : 15-24",
          "1",
          "Major cardiovascular diseases : 1",
          "#Certain conditions originating in the perinatal period : 1",
          "#Congenital malformations, deformations and chromosomal abnormalities : 1",
          "Symptoms, signs and abnormal clinical and laboratory findings, not elsewhere classified : 1",
          "All other diseases : 1",
          "#Accidents : 1",
          "Nontransport accidents : 1",
          "Other and unspecified nontransport accidents and their sequelae : 1",
          "#Assault : 1",
          "Assault : 1"
         ],
         "parents": [
          "",
          "All Ages",
          "45-54",
          "45-54",
          "45-54",
          "45-54",
          "45-54",
          "45-54",
          "#Malignant neoplasms : 45-54",
          "#Malignant neoplasms : 45-54",
          "#Malignant neoplasms : 45-54",
          "#Malignant neoplasms : 45-54",
          "#Malignant neoplasms : 45-54",
          "#Malignant neoplasms : 45-54",
          "#Malignant neoplasms : 45-54",
          "#Malignant neoplasms : 45-54",
          "#Malignant neoplasms : 45-54",
          "#Malignant neoplasms : 45-54",
          "Malignant neoplasms of lymphoid, hematopoietic and related tissue : 45-54",
          "Malignant neoplasms of lymphoid, hematopoietic and related tissue : 45-54",
          "Malignant neoplasms of lymphoid, hematopoietic and related tissue : 45-54",
          "#Malignant neoplasms : 45-54",
          "#Malignant neoplasms : 45-54",
          "#Malignant neoplasms : 45-54",
          "#Malignant neoplasms : 45-54",
          "#Malignant neoplasms : 45-54",
          "#Malignant neoplasms : 45-54",
          "#Malignant neoplasms : 45-54",
          "#Malignant neoplasms : 45-54",
          "#Malignant neoplasms : 45-54",
          "45-54",
          "45-54",
          "45-54",
          "Major cardiovascular diseases : 45-54",
          "Major cardiovascular diseases : 45-54",
          "#Diseases of heart : 45-54",
          "Ischemic heart diseases : 45-54",
          "Ischemic heart diseases : 45-54",
          "Other forms of chronic ischemic heart disease : 45-54",
          "Other forms of chronic ischemic heart disease : 45-54",
          "#Diseases of heart : 45-54",
          "Other heart diseases : 45-54",
          "Other heart diseases : 45-54",
          "#Diseases of heart : 45-54",
          "#Diseases of heart : 45-54",
          "Major cardiovascular diseases : 45-54",
          "Other diseases of circulatory system : 45-54",
          "Other diseases of circulatory system : 45-54",
          "Major cardiovascular diseases : 45-54",
          "45-54",
          "45-54",
          "#Influenza and pneumonia : 45-54",
          "#Influenza and pneumonia : 45-54",
          "45-54",
          "#Chronic lower respiratory diseases : 45-54",
          "#Chronic lower respiratory diseases : 45-54",
          "45-54",
          "45-54",
          "45-54",
          "#Chronic liver disease and cirrhosis : 45-54",
          "#Chronic liver disease and cirrhosis : 45-54",
          "45-54",
          "#Nephritis, nephrotic syndrome and nephrosis : 45-54",
          "45-54",
          "45-54",
          "45-54",
          "45-54",
          "#Accidents : 45-54",
          "Transport accidents : 45-54",
          "Transport accidents : 45-54",
          "#Accidents : 45-54",
          "Nontransport accidents : 45-54",
          "Nontransport accidents : 45-54",
          "Nontransport accidents : 45-54",
          "45-54",
          "#Intentional self-harm : 45-54",
          "#Intentional self-harm : 45-54",
          "45-54",
          "#Assault : 45-54",
          "#Assault : 45-54",
          "45-54",
          "Events of undetermined intent : 45-54",
          "All Ages",
          "55-64",
          "Certain other intestinal infections : 55-64",
          "55-64",
          "55-64",
          "55-64",
          "55-64",
          "55-64",
          "#Malignant neoplasms : 55-64",
          "#Malignant neoplasms : 55-64",
          "#Malignant neoplasms : 55-64",
          "#Malignant neoplasms : 55-64",
          "#Malignant neoplasms : 55-64",
          "#Malignant neoplasms : 55-64",
          "#Malignant neoplasms : 55-64",
          "#Malignant neoplasms : 55-64",
          "#Malignant neoplasms : 55-64",
          "#Malignant neoplasms : 55-64",
          "Malignant neoplasms of lymphoid, hematopoietic and related tissue : 55-64",
          "Malignant neoplasms of lymphoid, hematopoietic and related tissue : 55-64",
          "Malignant neoplasms of lymphoid, hematopoietic and related tissue : 55-64",
          "#Malignant neoplasms : 55-64",
          "#Malignant neoplasms : 55-64",
          "#Malignant neoplasms : 55-64",
          "#Malignant neoplasms : 55-64",
          "#Malignant neoplasms : 55-64",
          "#Malignant neoplasms : 55-64",
          "#Malignant neoplasms : 55-64",
          "#Malignant neoplasms : 55-64",
          "#Malignant neoplasms : 55-64",
          "55-64",
          "55-64",
          "55-64",
          "55-64",
          "#Nutritional deficiencies : 55-64",
          "55-64",
          "55-64",
          "55-64",
          "Major cardiovascular diseases : 55-64",
          "Major cardiovascular diseases : 55-64",
          "Major cardiovascular diseases : 55-64",
          "#Diseases of heart : 55-64",
          "Ischemic heart diseases : 55-64",
          "Ischemic heart diseases : 55-64",
          "Other forms of chronic ischemic heart disease : 55-64",
          "Other forms of chronic ischemic heart disease : 55-64",
          "Ischemic heart diseases : 55-64",
          "#Diseases of heart : 55-64",
          "Other heart diseases : 55-64",
          "Other heart diseases : 55-64",
          "Other heart diseases : 55-64",
          "#Diseases of heart : 55-64",
          "#Diseases of heart : 55-64",
          "#Diseases of heart : 55-64",
          "Major cardiovascular diseases : 55-64",
          "Other diseases of circulatory system : 55-64",
          "Other diseases of circulatory system : 55-64",
          "Major cardiovascular diseases : 55-64",
          "55-64",
          "55-64",
          "#Influenza and pneumonia : 55-64",
          "#Influenza and pneumonia : 55-64",
          "55-64",
          "#Chronic lower respiratory diseases : 55-64",
          "#Chronic lower respiratory diseases : 55-64",
          "#Chronic lower respiratory diseases : 55-64",
          "55-64",
          "55-64",
          "55-64",
          "55-64",
          "#Chronic liver disease and cirrhosis : 55-64",
          "#Chronic liver disease and cirrhosis : 55-64",
          "55-64",
          "#Nephritis, nephrotic syndrome and nephrosis : 55-64",
          "55-64",
          "55-64",
          "55-64",
          "55-64",
          "#Accidents : 55-64",
          "Transport accidents : 55-64",
          "Transport accidents : 55-64",
          "#Accidents : 55-64",
          "Nontransport accidents : 55-64",
          "Nontransport accidents : 55-64",
          "Nontransport accidents : 55-64",
          "Nontransport accidents : 55-64",
          "Nontransport accidents : 55-64",
          "55-64",
          "#Intentional self-harm : 55-64",
          "#Intentional self-harm : 55-64",
          "55-64",
          "#Assault : 55-64",
          "#Assault : 55-64",
          "55-64",
          "Events of undetermined intent : 55-64",
          "55-64",
          "All Ages",
          "65-74",
          "Certain other intestinal infections : 65-74",
          "65-74",
          "65-74",
          "65-74",
          "65-74",
          "65-74",
          "#Malignant neoplasms : 65-74",
          "#Malignant neoplasms : 65-74",
          "#Malignant neoplasms : 65-74",
          "#Malignant neoplasms : 65-74",
          "#Malignant neoplasms : 65-74",
          "#Malignant neoplasms : 65-74",
          "#Malignant neoplasms : 65-74",
          "#Malignant neoplasms : 65-74",
          "#Malignant neoplasms : 65-74",
          "#Malignant neoplasms : 65-74",
          "Malignant neoplasms of lymphoid, hematopoietic and related tissue : 65-74",
          "Malignant neoplasms of lymphoid, hematopoietic and related tissue : 65-74",
          "Malignant neoplasms of lymphoid, hematopoietic and related tissue : 65-74",
          "#Malignant neoplasms : 65-74",
          "#Malignant neoplasms : 65-74",
          "#Malignant neoplasms : 65-74",
          "#Malignant neoplasms : 65-74",
          "#Malignant neoplasms : 65-74",
          "#Malignant neoplasms : 65-74",
          "#Malignant neoplasms : 65-74",
          "#Malignant neoplasms : 65-74",
          "#Malignant neoplasms : 65-74",
          "65-74",
          "65-74",
          "65-74",
          "65-74",
          "#Nutritional deficiencies : 65-74",
          "65-74",
          "65-74",
          "65-74",
          "Major cardiovascular diseases : 65-74",
          "Major cardiovascular diseases : 65-74",
          "Major cardiovascular diseases : 65-74",
          "#Diseases of heart : 65-74",
          "Ischemic heart diseases : 65-74",
          "Ischemic heart diseases : 65-74",
          "Other forms of chronic ischemic heart disease : 65-74",
          "Other forms of chronic ischemic heart disease : 65-74",
          "Ischemic heart diseases : 65-74",
          "#Diseases of heart : 65-74",
          "Other heart diseases : 65-74",
          "Other heart diseases : 65-74",
          "Other heart diseases : 65-74",
          "Other heart diseases : 65-74",
          "#Diseases of heart : 65-74",
          "#Diseases of heart : 65-74",
          "#Diseases of heart : 65-74",
          "Major cardiovascular diseases : 65-74",
          "Other diseases of circulatory system : 65-74",
          "Other diseases of circulatory system : 65-74",
          "Major cardiovascular diseases : 65-74",
          "65-74",
          "65-74",
          "#Influenza and pneumonia : 65-74",
          "#Influenza and pneumonia : 65-74",
          "65-74",
          "#Chronic lower respiratory diseases : 65-74",
          "#Chronic lower respiratory diseases : 65-74",
          "#Chronic lower respiratory diseases : 65-74",
          "65-74",
          "65-74",
          "65-74",
          "65-74",
          "#Chronic liver disease and cirrhosis : 65-74",
          "#Chronic liver disease and cirrhosis : 65-74",
          "65-74",
          "65-74",
          "#Nephritis, nephrotic syndrome and nephrosis : 65-74",
          "65-74",
          "65-74",
          "65-74",
          "65-74",
          "#Accidents : 65-74",
          "Transport accidents : 65-74",
          "Transport accidents : 65-74",
          "#Accidents : 65-74",
          "Nontransport accidents : 65-74",
          "Nontransport accidents : 65-74",
          "Nontransport accidents : 65-74",
          "Nontransport accidents : 65-74",
          "Nontransport accidents : 65-74",
          "65-74",
          "#Intentional self-harm : 65-74",
          "#Intentional self-harm : 65-74",
          "65-74",
          "#Assault : 65-74",
          "65-74",
          "Events of undetermined intent : 65-74",
          "65-74",
          "65-74",
          "All Ages",
          "75-84",
          "Certain other intestinal infections : 75-84",
          "75-84",
          "75-84",
          "75-84",
          "75-84",
          "#Malignant neoplasms : 75-84",
          "#Malignant neoplasms : 75-84",
          "#Malignant neoplasms : 75-84",
          "#Malignant neoplasms : 75-84",
          "#Malignant neoplasms : 75-84",
          "#Malignant neoplasms : 75-84",
          "#Malignant neoplasms : 75-84",
          "#Malignant neoplasms : 75-84",
          "#Malignant neoplasms : 75-84",
          "#Malignant neoplasms : 75-84",
          "Malignant neoplasms of lymphoid, hematopoietic and related tissue : 75-84",
          "Malignant neoplasms of lymphoid, hematopoietic and related tissue : 75-84",
          "Malignant neoplasms of lymphoid, hematopoietic and related tissue : 75-84",
          "#Malignant neoplasms : 75-84",
          "#Malignant neoplasms : 75-84",
          "#Malignant neoplasms : 75-84",
          "#Malignant neoplasms : 75-84",
          "#Malignant neoplasms : 75-84",
          "#Malignant neoplasms : 75-84",
          "#Malignant neoplasms : 75-84",
          "#Malignant neoplasms : 75-84",
          "#Malignant neoplasms : 75-84",
          "75-84",
          "75-84",
          "75-84",
          "75-84",
          "#Nutritional deficiencies : 75-84",
          "75-84",
          "75-84",
          "75-84",
          "Major cardiovascular diseases : 75-84",
          "Major cardiovascular diseases : 75-84",
          "Major cardiovascular diseases : 75-84",
          "#Diseases of heart : 75-84",
          "Ischemic heart diseases : 75-84",
          "Ischemic heart diseases : 75-84",
          "Other forms of chronic ischemic heart disease : 75-84",
          "Other forms of chronic ischemic heart disease : 75-84",
          "Ischemic heart diseases : 75-84",
          "#Diseases of heart : 75-84",
          "Other heart diseases : 75-84",
          "Other heart diseases : 75-84",
          "Other heart diseases : 75-84",
          "#Diseases of heart : 75-84",
          "#Diseases of heart : 75-84",
          "#Diseases of heart : 75-84",
          "Major cardiovascular diseases : 75-84",
          "Other diseases of circulatory system : 75-84",
          "Other diseases of circulatory system : 75-84",
          "Major cardiovascular diseases : 75-84",
          "75-84",
          "75-84",
          "#Influenza and pneumonia : 75-84",
          "#Influenza and pneumonia : 75-84",
          "75-84",
          "#Chronic lower respiratory diseases : 75-84",
          "#Chronic lower respiratory diseases : 75-84",
          "75-84",
          "75-84",
          "75-84",
          "75-84",
          "#Chronic liver disease and cirrhosis : 75-84",
          "#Chronic liver disease and cirrhosis : 75-84",
          "75-84",
          "75-84",
          "#Nephritis, nephrotic syndrome and nephrosis : 75-84",
          "75-84",
          "75-84",
          "75-84",
          "75-84",
          "#Accidents : 75-84",
          "Transport accidents : 75-84",
          "#Accidents : 75-84",
          "Nontransport accidents : 75-84",
          "Nontransport accidents : 75-84",
          "Nontransport accidents : 75-84",
          "Nontransport accidents : 75-84",
          "75-84",
          "#Intentional self-harm : 75-84",
          "#Intentional self-harm : 75-84",
          "75-84",
          "75-84",
          "All Ages",
          "85+",
          "Certain other intestinal infections : 85+",
          "85+",
          "85+",
          "85+",
          "#Malignant neoplasms : 85+",
          "#Malignant neoplasms : 85+",
          "#Malignant neoplasms : 85+",
          "#Malignant neoplasms : 85+",
          "#Malignant neoplasms : 85+",
          "#Malignant neoplasms : 85+",
          "#Malignant neoplasms : 85+",
          "#Malignant neoplasms : 85+",
          "#Malignant neoplasms : 85+",
          "Malignant neoplasms of lymphoid, hematopoietic and related tissue : 85+",
          "Malignant neoplasms of lymphoid, hematopoietic and related tissue : 85+",
          "Malignant neoplasms of lymphoid, hematopoietic and related tissue : 85+",
          "#Malignant neoplasms : 85+",
          "#Malignant neoplasms : 85+",
          "#Malignant neoplasms : 85+",
          "#Malignant neoplasms : 85+",
          "#Malignant neoplasms : 85+",
          "#Malignant neoplasms : 85+",
          "#Malignant neoplasms : 85+",
          "#Malignant neoplasms : 85+",
          "#Malignant neoplasms : 85+",
          "85+",
          "85+",
          "85+",
          "85+",
          "#Nutritional deficiencies : 85+",
          "85+",
          "85+",
          "85+",
          "Major cardiovascular diseases : 85+",
          "Major cardiovascular diseases : 85+",
          "Major cardiovascular diseases : 85+",
          "#Diseases of heart : 85+",
          "Ischemic heart diseases : 85+",
          "Ischemic heart diseases : 85+",
          "Other forms of chronic ischemic heart disease : 85+",
          "Other forms of chronic ischemic heart disease : 85+",
          "Ischemic heart diseases : 85+",
          "#Diseases of heart : 85+",
          "Other heart diseases : 85+",
          "Other heart diseases : 85+",
          "Other heart diseases : 85+",
          "#Diseases of heart : 85+",
          "#Diseases of heart : 85+",
          "#Diseases of heart : 85+",
          "Major cardiovascular diseases : 85+",
          "Other diseases of circulatory system : 85+",
          "Other diseases of circulatory system : 85+",
          "Major cardiovascular diseases : 85+",
          "85+",
          "85+",
          "#Influenza and pneumonia : 85+",
          "#Influenza and pneumonia : 85+",
          "85+",
          "#Chronic lower respiratory diseases : 85+",
          "#Chronic lower respiratory diseases : 85+",
          "#Chronic lower respiratory diseases : 85+",
          "85+",
          "85+",
          "85+",
          "85+",
          "#Chronic liver disease and cirrhosis : 85+",
          "85+",
          "85+",
          "#Nephritis, nephrotic syndrome and nephrosis : 85+",
          "85+",
          "85+",
          "85+",
          "#Accidents : 85+",
          "Transport accidents : 85+",
          "#Accidents : 85+",
          "Nontransport accidents : 85+",
          "Nontransport accidents : 85+",
          "85+",
          "#Intentional self-harm : 85+",
          "85+",
          "85+",
          "85+",
          "All Ages",
          "25-34",
          "25-34",
          "25-34",
          "#Malignant neoplasms : 25-34",
          "#Malignant neoplasms : 25-34",
          "#Malignant neoplasms : 25-34",
          "#Malignant neoplasms : 25-34",
          "25-34",
          "25-34",
          "Major cardiovascular diseases : 25-34",
          "Major cardiovascular diseases : 25-34",
          "#Diseases of heart : 25-34",
          "Ischemic heart diseases : 25-34",
          "Ischemic heart diseases : 25-34",
          "Other forms of chronic ischemic heart disease : 25-34",
          "#Diseases of heart : 25-34",
          "Other heart diseases : 25-34",
          "#Diseases of heart : 25-34",
          "25-34",
          "#Influenza and pneumonia : 25-34",
          "25-34",
          "#Chronic lower respiratory diseases : 25-34",
          "25-34",
          "#Chronic liver disease and cirrhosis : 25-34",
          "25-34",
          "#Pregnancy, childbirth and the puerperium : 25-34",
          "25-34",
          "25-34",
          "25-34",
          "25-34",
          "#Accidents : 25-34",
          "Transport accidents : 25-34",
          "#Accidents : 25-34",
          "Nontransport accidents : 25-34",
          "Nontransport accidents : 25-34",
          "Nontransport accidents : 25-34",
          "25-34",
          "#Intentional self-harm : 25-34",
          "#Intentional self-harm : 25-34",
          "25-34",
          "#Assault : 25-34",
          "#Assault : 25-34",
          "25-34",
          "Events of undetermined intent : 25-34",
          "All Ages",
          "35-44",
          "35-44",
          "35-44",
          "#Malignant neoplasms : 35-44",
          "#Malignant neoplasms : 35-44",
          "#Malignant neoplasms : 35-44",
          "#Malignant neoplasms : 35-44",
          "#Malignant neoplasms : 35-44",
          "Malignant neoplasms of lymphoid, hematopoietic and related tissue : 35-44",
          "#Malignant neoplasms : 35-44",
          "#Malignant neoplasms : 35-44",
          "#Malignant neoplasms : 35-44",
          "#Malignant neoplasms : 35-44",
          "35-44",
          "35-44",
          "Major cardiovascular diseases : 35-44",
          "Major cardiovascular diseases : 35-44",
          "#Diseases of heart : 35-44",
          "Ischemic heart diseases : 35-44",
          "Ischemic heart diseases : 35-44",
          "Other forms of chronic ischemic heart disease : 35-44",
          "Other forms of chronic ischemic heart disease : 35-44",
          "#Diseases of heart : 35-44",
          "Other heart diseases : 35-44",
          "Other heart diseases : 35-44",
          "#Diseases of heart : 35-44",
          "Major cardiovascular diseases : 35-44",
          "Other diseases of circulatory system : 35-44",
          "Major cardiovascular diseases : 35-44",
          "35-44",
          "35-44",
          "#Influenza and pneumonia : 35-44",
          "35-44",
          "35-44",
          "35-44",
          "#Chronic liver disease and cirrhosis : 35-44",
          "#Chronic liver disease and cirrhosis : 35-44",
          "35-44",
          "#Nephritis, nephrotic syndrome and nephrosis : 35-44",
          "35-44",
          "#Pregnancy, childbirth and the puerperium : 35-44",
          "35-44",
          "35-44",
          "35-44",
          "35-44",
          "#Accidents : 35-44",
          "Transport accidents : 35-44",
          "#Accidents : 35-44",
          "Nontransport accidents : 35-44",
          "Nontransport accidents : 35-44",
          "Nontransport accidents : 35-44",
          "35-44",
          "#Intentional self-harm : 35-44",
          "#Intentional self-harm : 35-44",
          "35-44",
          "#Assault : 35-44",
          "#Assault : 35-44",
          "35-44",
          "Events of undetermined intent : 35-44",
          "All Ages",
          "1-4",
          "1-4",
          "1-4",
          "1-4",
          "#Accidents : 1-4",
          "Transport accidents : 1-4",
          "#Accidents : 1-4",
          "1-4",
          "All Ages",
          "5-14",
          "#Malignant neoplasms : 5-14",
          "5-14",
          "Major cardiovascular diseases : 5-14",
          "5-14",
          "5-14",
          "5-14",
          "#Accidents : 5-14",
          "Transport accidents : 5-14",
          "#Accidents : 5-14",
          "5-14",
          "#Intentional self-harm : 5-14",
          "5-14",
          "All Ages",
          "15-24",
          "#Malignant neoplasms : 15-24",
          "#Malignant neoplasms : 15-24",
          "15-24",
          "Major cardiovascular diseases : 15-24",
          "#Diseases of heart : 15-24",
          "Other heart diseases : 15-24",
          "15-24",
          "15-24",
          "#Chronic lower respiratory diseases : 15-24",
          "15-24",
          "15-24",
          "15-24",
          "15-24",
          "#Accidents : 15-24",
          "Transport accidents : 15-24",
          "#Accidents : 15-24",
          "Nontransport accidents : 15-24",
          "Nontransport accidents : 15-24",
          "15-24",
          "#Intentional self-harm : 15-24",
          "#Intentional self-harm : 15-24",
          "15-24",
          "#Assault : 15-24",
          "15-24",
          "Events of undetermined intent : 15-24",
          "All Ages",
          "1",
          "1",
          "1",
          "1",
          "1",
          "1",
          "#Accidents : 1",
          "Nontransport accidents : 1",
          "1",
          "#Assault : 1"
         ],
         "textfont": {
          "color": "#FFFFFF",
          "family": "Arial",
          "size": 18
         },
         "textposition": "middle center",
         "tiling": {
          "orientation": "v"
         },
         "type": "icicle",
         "values": [
          23501.63,
          404.97,
          0.8,
          5.1,
          0.88,
          0.96,
          1.28,
          93.73,
          1.83,
          2.95,
          5.58,
          1.75,
          1.59,
          0.8,
          0.8,
          11.24,
          9.88,
          6.38,
          2.71,
          2.71,
          0.8,
          0.8,
          2.07,
          4.06,
          2.23,
          12.43,
          2.87,
          1.51,
          6.54,
          18.41,
          1.35,
          15.94,
          101.7,
          10.44,
          85.12,
          48.54,
          12.67,
          35.63,
          14.9,
          20.72,
          18.17,
          3.03,
          14.59,
          17.3,
          0.8,
          3.03,
          0.96,
          2.07,
          2.71,
          1.35,
          5.02,
          0.88,
          4.14,
          10.04,
          1.04,
          8.53,
          1.04,
          4.3,
          22.87,
          15.3,
          7.57,
          5.66,
          5.58,
          2.87,
          3.03,
          40.73,
          54.04,
          12.11,
          11.08,
          0.88,
          41.92,
          2.63,
          4.14,
          33.95,
          20.96,
          12.03,
          8.93,
          5.34,
          1.75,
          3.59,
          5.98,
          5.9,
          928.87,
          1.5,
          1.07,
          11.5,
          3,
          1.86,
          2.64,
          290.38,
          5.86,
          14.79,
          9.65,
          4.64,
          1.5,
          2.43,
          4.57,
          31.08,
          21.08,
          19.15,
          7.43,
          6.29,
          5.14,
          6.79,
          4.72,
          12.86,
          7.79,
          22.72,
          8.5,
          6.29,
          24.58,
          81.38,
          3.57,
          1.21,
          35.08,
          2.14,
          2.07,
          2.07,
          2.79,
          261.73,
          1.57,
          29.22,
          217.5,
          143.4,
          33.58,
          108.96,
          46.3,
          62.66,
          0.86,
          46.73,
          13.22,
          32.3,
          0.86,
          25.22,
          0.86,
          1.29,
          6.93,
          3,
          3.93,
          6.5,
          2.22,
          15.3,
          2.22,
          13.08,
          49.66,
          1.21,
          44.44,
          3.86,
          3.07,
          10,
          1.29,
          32.37,
          18.43,
          13.93,
          14,
          13.79,
          3.57,
          5.14,
          85.39,
          58.23,
          13.29,
          12.29,
          0.79,
          44.94,
          6.72,
          6.57,
          1.29,
          29.08,
          1.21,
          19.01,
          9.43,
          9.57,
          3.1500000000000004,
          1.79,
          1.36,
          4.93,
          4.72,
          2.07,
          1895.6799999999998,
          3.08,
          2.02,
          26.02,
          4.43,
          1.35,
          5.78,
          589.94,
          14.65,
          25.35,
          17.35,
          6.75,
          2.6,
          5.01,
          12.43,
          65.15,
          34.7,
          51.76,
          19.08,
          18.5,
          13.59,
          21.88,
          5.69,
          18.79,
          15.03,
          41.83,
          13.4,
          10.22,
          52.91,
          174.44,
          12.91,
          3.47,
          79.8,
          5.4,
          5.3,
          16.38,
          27.28,
          564.7,
          3.76,
          72.57,
          455.88,
          292.03,
          67.18,
          222.83,
          124.81,
          98.02,
          2.02,
          118.55,
          46.36,
          1.16,
          69.97,
          1.06,
          36.53,
          2.51,
          6.26,
          15.329999999999998,
          7.52,
          7.81,
          17.16,
          2.79,
          26.509999999999998,
          3.76,
          22.75,
          143.7,
          1.16,
          136.76,
          5.78,
          8.96,
          29.49,
          1.93,
          33.06,
          12.63,
          20.43,
          2.02,
          37.59,
          37.2,
          2.22,
          7.71,
          181.29,
          54.37,
          11.28,
          9.54,
          1.54,
          43.089999999999996,
          17.93,
          9.73,
          2.22,
          12.05,
          1.16,
          13.01,
          4.72,
          8.29,
          2.6,
          1.73,
          1.73,
          1.64,
          5.2,
          0.96,
          4603.8099999999995,
          9.91,
          6.61,
          62.56,
          2.53,
          15.35,
          1069.78,
          25.65,
          38.47,
          21.76,
          15.54,
          2.14,
          3.89,
          36.72,
          127.46,
          56.73,
          130.37,
          48.77,
          51.29,
          28.76,
          60.43,
          12.43,
          34,
          19.04,
          83.74,
          18.46,
          13.6,
          83.35,
          286,
          37.11,
          7.58,
          136.39,
          20.21,
          20.21,
          96.76,
          230.43,
          1536.6799999999998,
          14.18,
          259.58,
          1177.03,
          703.54,
          166.51,
          532.75,
          391.89,
          140.86,
          4.27,
          372.07,
          165.54,
          202.84,
          2.33,
          76.16,
          6.8,
          18.46,
          35.37,
          17.49,
          17.88,
          50.52,
          4.86,
          75.97,
          7.58,
          68.39,
          361.77,
          344.68,
          15.54,
          25.06,
          82.38,
          4.66,
          30.509999999999998,
          4.47,
          26.04,
          5.83,
          103.17,
          101.81,
          3.3,
          18.46,
          507.69,
          123.19,
          22.93,
          20.98,
          100.26,
          68.59,
          24.09,
          2.33,
          3.69,
          19.63,
          4.86,
          14.77,
          8.74,
          3.3,
          14620.250000000002,
          28.62,
          16.42,
          154.83,
          28.15,
          1679.21,
          39.88,
          33.78,
          20.64,
          23.93,
          7.98,
          92.9,
          225.68,
          121.99,
          225.68,
          90.08,
          85.86,
          47.86,
          159.99,
          19.71,
          39.41,
          20.17,
          169.84,
          33.78,
          24.87,
          109.79,
          304.97,
          89.61,
          30.97,
          282.45,
          133.72,
          132.78,
          242.57,
          1386.91,
          6303.96,
          68.5,
          1166.39,
          4741.1,
          2362.34,
          433.53,
          1912.8600000000001,
          1515.93,
          396.93,
          15.95,
          1849.99,
          978.72,
          863.3,
          4.69,
          403.5,
          17.83,
          107.44,
          99.47,
          54.89,
          44.57,
          228.49,
          13.61,
          302.15000000000003,
          22.05,
          280.1,
          730.99,
          5.63,
          695.33,
          26.74,
          118.7,
          173.6,
          15.95,
          22.99,
          20.17,
          22.99,
          290.42,
          286.67,
          92.43,
          2041.89,
          392.24,
          23.46,
          21.58,
          368.78,
          290.89,
          68.5,
          16.89,
          13.14,
          7.04,
          10.79,
          6.57,
          147.07,
          0.76,
          0.76,
          7.62,
          0.91,
          2.52,
          0.91,
          1.07,
          1.91,
          11.97,
          1.07,
          10.06,
          2.52,
          0.99,
          1.45,
          0.76,
          5.49,
          4.8,
          1.75,
          1.6,
          1.14,
          1.37,
          1.22,
          2.67,
          2.13,
          1.3,
          1.3,
          0.91,
          2.97,
          14.79,
          57.03,
          14.49,
          14.18,
          42.54,
          2.97,
          37.74,
          0.91,
          19.22,
          9.38,
          9.84,
          15.71,
          2.9,
          12.81,
          6.48,
          6.33,
          211.29000000000002,
          1.2,
          0.86,
          26.67,
          2.49,
          0.86,
          3.34,
          5.83,
          2.4,
          1.29,
          1.2,
          2.57,
          1.63,
          2.14,
          5.23,
          36.36,
          3.34,
          30.87,
          13.469999999999999,
          4.46,
          9.01,
          4.12,
          4.89,
          9.52,
          1.97,
          6.77,
          7.37,
          1.03,
          0.86,
          1.11,
          1.11,
          2.4,
          2.06,
          1.54,
          1.29,
          9.690000000000001,
          6.69,
          3,
          2.74,
          2.66,
          1.03,
          1.03,
          1.03,
          3.09,
          23.75,
          60.37,
          12.26,
          11.58,
          48.11,
          2.74,
          43.05,
          1.11,
          18.61,
          10.46,
          8.15,
          8.06,
          1.37,
          6.69,
          6.26,
          6.26,
          18.37,
          2.19,
          2.4,
          4.81,
          6.78,
          3.06,
          3.06,
          3.72,
          2.19,
          12.78,
          1.75,
          0.84,
          1.09,
          0.84,
          1.25,
          1.75,
          3.8499999999999996,
          2.26,
          2.09,
          1.59,
          2.17,
          1.59,
          0.92,
          60.46999999999999,
          2.64,
          0.83,
          0.83,
          2.64,
          2.34,
          1.88,
          1.51,
          0.75,
          0.98,
          0.98,
          0.83,
          1.21,
          4.07,
          21.79,
          11.38,
          11.08,
          10.4,
          8.07,
          0.98,
          13.27,
          7.62,
          5.65,
          10.03,
          9.58,
          2.26,
          2.11,
          598.07,
          10.09,
          337.56,
          105.49,
          55.04,
          9.17,
          70.63,
          68.8,
          67.88,
          10.09,
          10.09
         ]
        }
       ],
       "layout": {
        "autosize": false,
        "height": 1050,
        "margin": {
         "b": 0,
         "l": 0,
         "pad": 0,
         "r": 0,
         "t": 0
        },
        "template": {
         "data": {
          "bar": [
           {
            "error_x": {
             "color": "#2a3f5f"
            },
            "error_y": {
             "color": "#2a3f5f"
            },
            "marker": {
             "line": {
              "color": "#E5ECF6",
              "width": 0.5
             },
             "pattern": {
              "fillmode": "overlay",
              "size": 10,
              "solidity": 0.2
             }
            },
            "type": "bar"
           }
          ],
          "barpolar": [
           {
            "marker": {
             "line": {
              "color": "#E5ECF6",
              "width": 0.5
             },
             "pattern": {
              "fillmode": "overlay",
              "size": 10,
              "solidity": 0.2
             }
            },
            "type": "barpolar"
           }
          ],
          "carpet": [
           {
            "aaxis": {
             "endlinecolor": "#2a3f5f",
             "gridcolor": "white",
             "linecolor": "white",
             "minorgridcolor": "white",
             "startlinecolor": "#2a3f5f"
            },
            "baxis": {
             "endlinecolor": "#2a3f5f",
             "gridcolor": "white",
             "linecolor": "white",
             "minorgridcolor": "white",
             "startlinecolor": "#2a3f5f"
            },
            "type": "carpet"
           }
          ],
          "choropleth": [
           {
            "colorbar": {
             "outlinewidth": 0,
             "ticks": ""
            },
            "type": "choropleth"
           }
          ],
          "contour": [
           {
            "colorbar": {
             "outlinewidth": 0,
             "ticks": ""
            },
            "colorscale": [
             [
              0,
              "#0d0887"
             ],
             [
              0.1111111111111111,
              "#46039f"
             ],
             [
              0.2222222222222222,
              "#7201a8"
             ],
             [
              0.3333333333333333,
              "#9c179e"
             ],
             [
              0.4444444444444444,
              "#bd3786"
             ],
             [
              0.5555555555555556,
              "#d8576b"
             ],
             [
              0.6666666666666666,
              "#ed7953"
             ],
             [
              0.7777777777777778,
              "#fb9f3a"
             ],
             [
              0.8888888888888888,
              "#fdca26"
             ],
             [
              1,
              "#f0f921"
             ]
            ],
            "type": "contour"
           }
          ],
          "contourcarpet": [
           {
            "colorbar": {
             "outlinewidth": 0,
             "ticks": ""
            },
            "type": "contourcarpet"
           }
          ],
          "heatmap": [
           {
            "colorbar": {
             "outlinewidth": 0,
             "ticks": ""
            },
            "colorscale": [
             [
              0,
              "#0d0887"
             ],
             [
              0.1111111111111111,
              "#46039f"
             ],
             [
              0.2222222222222222,
              "#7201a8"
             ],
             [
              0.3333333333333333,
              "#9c179e"
             ],
             [
              0.4444444444444444,
              "#bd3786"
             ],
             [
              0.5555555555555556,
              "#d8576b"
             ],
             [
              0.6666666666666666,
              "#ed7953"
             ],
             [
              0.7777777777777778,
              "#fb9f3a"
             ],
             [
              0.8888888888888888,
              "#fdca26"
             ],
             [
              1,
              "#f0f921"
             ]
            ],
            "type": "heatmap"
           }
          ],
          "heatmapgl": [
           {
            "colorbar": {
             "outlinewidth": 0,
             "ticks": ""
            },
            "colorscale": [
             [
              0,
              "#0d0887"
             ],
             [
              0.1111111111111111,
              "#46039f"
             ],
             [
              0.2222222222222222,
              "#7201a8"
             ],
             [
              0.3333333333333333,
              "#9c179e"
             ],
             [
              0.4444444444444444,
              "#bd3786"
             ],
             [
              0.5555555555555556,
              "#d8576b"
             ],
             [
              0.6666666666666666,
              "#ed7953"
             ],
             [
              0.7777777777777778,
              "#fb9f3a"
             ],
             [
              0.8888888888888888,
              "#fdca26"
             ],
             [
              1,
              "#f0f921"
             ]
            ],
            "type": "heatmapgl"
           }
          ],
          "histogram": [
           {
            "marker": {
             "pattern": {
              "fillmode": "overlay",
              "size": 10,
              "solidity": 0.2
             }
            },
            "type": "histogram"
           }
          ],
          "histogram2d": [
           {
            "colorbar": {
             "outlinewidth": 0,
             "ticks": ""
            },
            "colorscale": [
             [
              0,
              "#0d0887"
             ],
             [
              0.1111111111111111,
              "#46039f"
             ],
             [
              0.2222222222222222,
              "#7201a8"
             ],
             [
              0.3333333333333333,
              "#9c179e"
             ],
             [
              0.4444444444444444,
              "#bd3786"
             ],
             [
              0.5555555555555556,
              "#d8576b"
             ],
             [
              0.6666666666666666,
              "#ed7953"
             ],
             [
              0.7777777777777778,
              "#fb9f3a"
             ],
             [
              0.8888888888888888,
              "#fdca26"
             ],
             [
              1,
              "#f0f921"
             ]
            ],
            "type": "histogram2d"
           }
          ],
          "histogram2dcontour": [
           {
            "colorbar": {
             "outlinewidth": 0,
             "ticks": ""
            },
            "colorscale": [
             [
              0,
              "#0d0887"
             ],
             [
              0.1111111111111111,
              "#46039f"
             ],
             [
              0.2222222222222222,
              "#7201a8"
             ],
             [
              0.3333333333333333,
              "#9c179e"
             ],
             [
              0.4444444444444444,
              "#bd3786"
             ],
             [
              0.5555555555555556,
              "#d8576b"
             ],
             [
              0.6666666666666666,
              "#ed7953"
             ],
             [
              0.7777777777777778,
              "#fb9f3a"
             ],
             [
              0.8888888888888888,
              "#fdca26"
             ],
             [
              1,
              "#f0f921"
             ]
            ],
            "type": "histogram2dcontour"
           }
          ],
          "mesh3d": [
           {
            "colorbar": {
             "outlinewidth": 0,
             "ticks": ""
            },
            "type": "mesh3d"
           }
          ],
          "parcoords": [
           {
            "line": {
             "colorbar": {
              "outlinewidth": 0,
              "ticks": ""
             }
            },
            "type": "parcoords"
           }
          ],
          "pie": [
           {
            "automargin": true,
            "type": "pie"
           }
          ],
          "scatter": [
           {
            "marker": {
             "colorbar": {
              "outlinewidth": 0,
              "ticks": ""
             }
            },
            "type": "scatter"
           }
          ],
          "scatter3d": [
           {
            "line": {
             "colorbar": {
              "outlinewidth": 0,
              "ticks": ""
             }
            },
            "marker": {
             "colorbar": {
              "outlinewidth": 0,
              "ticks": ""
             }
            },
            "type": "scatter3d"
           }
          ],
          "scattercarpet": [
           {
            "marker": {
             "colorbar": {
              "outlinewidth": 0,
              "ticks": ""
             }
            },
            "type": "scattercarpet"
           }
          ],
          "scattergeo": [
           {
            "marker": {
             "colorbar": {
              "outlinewidth": 0,
              "ticks": ""
             }
            },
            "type": "scattergeo"
           }
          ],
          "scattergl": [
           {
            "marker": {
             "colorbar": {
              "outlinewidth": 0,
              "ticks": ""
             }
            },
            "type": "scattergl"
           }
          ],
          "scattermapbox": [
           {
            "marker": {
             "colorbar": {
              "outlinewidth": 0,
              "ticks": ""
             }
            },
            "type": "scattermapbox"
           }
          ],
          "scatterpolar": [
           {
            "marker": {
             "colorbar": {
              "outlinewidth": 0,
              "ticks": ""
             }
            },
            "type": "scatterpolar"
           }
          ],
          "scatterpolargl": [
           {
            "marker": {
             "colorbar": {
              "outlinewidth": 0,
              "ticks": ""
             }
            },
            "type": "scatterpolargl"
           }
          ],
          "scatterternary": [
           {
            "marker": {
             "colorbar": {
              "outlinewidth": 0,
              "ticks": ""
             }
            },
            "type": "scatterternary"
           }
          ],
          "surface": [
           {
            "colorbar": {
             "outlinewidth": 0,
             "ticks": ""
            },
            "colorscale": [
             [
              0,
              "#0d0887"
             ],
             [
              0.1111111111111111,
              "#46039f"
             ],
             [
              0.2222222222222222,
              "#7201a8"
             ],
             [
              0.3333333333333333,
              "#9c179e"
             ],
             [
              0.4444444444444444,
              "#bd3786"
             ],
             [
              0.5555555555555556,
              "#d8576b"
             ],
             [
              0.6666666666666666,
              "#ed7953"
             ],
             [
              0.7777777777777778,
              "#fb9f3a"
             ],
             [
              0.8888888888888888,
              "#fdca26"
             ],
             [
              1,
              "#f0f921"
             ]
            ],
            "type": "surface"
           }
          ],
          "table": [
           {
            "cells": {
             "fill": {
              "color": "#EBF0F8"
             },
             "line": {
              "color": "white"
             }
            },
            "header": {
             "fill": {
              "color": "#C8D4E3"
             },
             "line": {
              "color": "white"
             }
            },
            "type": "table"
           }
          ]
         },
         "layout": {
          "annotationdefaults": {
           "arrowcolor": "#2a3f5f",
           "arrowhead": 0,
           "arrowwidth": 1
          },
          "autotypenumbers": "strict",
          "coloraxis": {
           "colorbar": {
            "outlinewidth": 0,
            "ticks": ""
           }
          },
          "colorscale": {
           "diverging": [
            [
             0,
             "#8e0152"
            ],
            [
             0.1,
             "#c51b7d"
            ],
            [
             0.2,
             "#de77ae"
            ],
            [
             0.3,
             "#f1b6da"
            ],
            [
             0.4,
             "#fde0ef"
            ],
            [
             0.5,
             "#f7f7f7"
            ],
            [
             0.6,
             "#e6f5d0"
            ],
            [
             0.7,
             "#b8e186"
            ],
            [
             0.8,
             "#7fbc41"
            ],
            [
             0.9,
             "#4d9221"
            ],
            [
             1,
             "#276419"
            ]
           ],
           "sequential": [
            [
             0,
             "#0d0887"
            ],
            [
             0.1111111111111111,
             "#46039f"
            ],
            [
             0.2222222222222222,
             "#7201a8"
            ],
            [
             0.3333333333333333,
             "#9c179e"
            ],
            [
             0.4444444444444444,
             "#bd3786"
            ],
            [
             0.5555555555555556,
             "#d8576b"
            ],
            [
             0.6666666666666666,
             "#ed7953"
            ],
            [
             0.7777777777777778,
             "#fb9f3a"
            ],
            [
             0.8888888888888888,
             "#fdca26"
            ],
            [
             1,
             "#f0f921"
            ]
           ],
           "sequentialminus": [
            [
             0,
             "#0d0887"
            ],
            [
             0.1111111111111111,
             "#46039f"
            ],
            [
             0.2222222222222222,
             "#7201a8"
            ],
            [
             0.3333333333333333,
             "#9c179e"
            ],
            [
             0.4444444444444444,
             "#bd3786"
            ],
            [
             0.5555555555555556,
             "#d8576b"
            ],
            [
             0.6666666666666666,
             "#ed7953"
            ],
            [
             0.7777777777777778,
             "#fb9f3a"
            ],
            [
             0.8888888888888888,
             "#fdca26"
            ],
            [
             1,
             "#f0f921"
            ]
           ]
          },
          "colorway": [
           "#636efa",
           "#EF553B",
           "#00cc96",
           "#ab63fa",
           "#FFA15A",
           "#19d3f3",
           "#FF6692",
           "#B6E880",
           "#FF97FF",
           "#FECB52"
          ],
          "font": {
           "color": "#2a3f5f"
          },
          "geo": {
           "bgcolor": "white",
           "lakecolor": "white",
           "landcolor": "#E5ECF6",
           "showlakes": true,
           "showland": true,
           "subunitcolor": "white"
          },
          "hoverlabel": {
           "align": "left"
          },
          "hovermode": "closest",
          "mapbox": {
           "style": "light"
          },
          "paper_bgcolor": "white",
          "plot_bgcolor": "#E5ECF6",
          "polar": {
           "angularaxis": {
            "gridcolor": "white",
            "linecolor": "white",
            "ticks": ""
           },
           "bgcolor": "#E5ECF6",
           "radialaxis": {
            "gridcolor": "white",
            "linecolor": "white",
            "ticks": ""
           }
          },
          "scene": {
           "xaxis": {
            "backgroundcolor": "#E5ECF6",
            "gridcolor": "white",
            "gridwidth": 2,
            "linecolor": "white",
            "showbackground": true,
            "ticks": "",
            "zerolinecolor": "white"
           },
           "yaxis": {
            "backgroundcolor": "#E5ECF6",
            "gridcolor": "white",
            "gridwidth": 2,
            "linecolor": "white",
            "showbackground": true,
            "ticks": "",
            "zerolinecolor": "white"
           },
           "zaxis": {
            "backgroundcolor": "#E5ECF6",
            "gridcolor": "white",
            "gridwidth": 2,
            "linecolor": "white",
            "showbackground": true,
            "ticks": "",
            "zerolinecolor": "white"
           }
          },
          "shapedefaults": {
           "line": {
            "color": "#2a3f5f"
           }
          },
          "ternary": {
           "aaxis": {
            "gridcolor": "white",
            "linecolor": "white",
            "ticks": ""
           },
           "baxis": {
            "gridcolor": "white",
            "linecolor": "white",
            "ticks": ""
           },
           "bgcolor": "#E5ECF6",
           "caxis": {
            "gridcolor": "white",
            "linecolor": "white",
            "ticks": ""
           }
          },
          "title": {
           "x": 0.05
          },
          "xaxis": {
           "automargin": true,
           "gridcolor": "white",
           "linecolor": "white",
           "ticks": "",
           "title": {
            "standoff": 15
           },
           "zerolinecolor": "white",
           "zerolinewidth": 2
          },
          "yaxis": {
           "automargin": true,
           "gridcolor": "white",
           "linecolor": "white",
           "ticks": "",
           "title": {
            "standoff": 15
           },
           "zerolinecolor": "white",
           "zerolinewidth": 2
          }
         }
        },
        "width": 2100
       }
      }
     },
     "metadata": {},
     "output_type": "display_data"
    }
   ],
   "source": [
    "fig = go.Figure(go.Icicle(\n",
    "    branchvalues = \"total\",\n",
    "    labels = final_labels,\n",
    "    parents =  final_parents,\n",
    "    values=final_values,\n",
    "    tiling = dict(\n",
    "            orientation='v',\n",
    "        ),\n",
    "    textposition = 'middle center',\n",
    "    textfont = dict(family=\"Arial\", size=18, color = '#FFFFFF')\n",
    "))\n",
    "\n",
    "fig.update_layout(margin = dict(t=50, l=25, r=25, b=25))\n",
    "\n",
    "\n",
    "fig.update_layout(\n",
    "    #uniformtext=dict(minsize=8, mode='hide'),\n",
    "    autosize=False,\n",
    "    width=2100,\n",
    "    height=1050,\n",
    "    margin=dict(\n",
    "        l=0,\n",
    "        r=0,\n",
    "        b=0,\n",
    "        t=0,\n",
    "        pad=0\n",
    "    ),\n",
    ")\n",
    "\n",
    "fig.show()\n",
    "fig.write_html(\"CauseOfDeathIcicle.html\")"
   ]
  },
  {
   "cell_type": "markdown",
   "metadata": {},
   "source": [
    "#here"
   ]
  },
  {
   "cell_type": "code",
   "execution_count": 78,
   "metadata": {},
   "outputs": [],
   "source": [
    "def load_state_cod_old(state, age_group = '75-84'):\n",
    "    df = pd.read_csv(r\"data/Life/Deaths/StateDeathsAge.txt\", delimiter=\"\t\", na_values = ['Not Applicable'])\n",
    "    df = df.dropna(subset=[\"State\",\"ICD-10 113 Cause List Code\", \"Population\"]) \n",
    "    state_df= df[df[\"State\"] == state]\n",
    "    state_df = state_df[state_df[\"Ten-Year Age Groups Code\"] =='75-84']\n",
    "    state_df[\"Rate\"] = (state_df[\"Deaths\"] / state_df[\"Population\"])*100000\n",
    "    state_df[\"Rate\"] = np.round(state_df[\"Rate\"], 2)\n",
    "    state_df[\"Child_Adj_Rate\"] = state_df[\"Rate\"]\n",
    "    \n",
    "    state_df[\"Parent\"] = \"\"\n",
    "    state_df[\"Children\"] = \"\"\n",
    "    state_df[\"Common Name\"] = \"\"\n",
    "    \n",
    "    \n",
    "    f = open(\"icd-10-flat-Structure.json\")\n",
    "    flat_heirarchy = json.load(f)\n",
    "\n",
    "    targets =[]\n",
    "    sources = []\n",
    "    values = []\n",
    "\n",
    "    sources.append(\"\")\n",
    "    targets.append(\"All\")\n",
    "    values.append(0)\n",
    "    values.extend(list(state_df.Rate))\n",
    "    \n",
    "\n",
    "\n",
    "    for i, row in state_df.iterrows():\n",
    "        try:\n",
    "            structure = flat_heirarchy[row[\"ICD-10 113 Cause List\"]]\n",
    "            state_df.at[i, \"Common Name\"] = structure[\"common_name\"]\n",
    "            targets.append(structure[\"common_name\"])\n",
    "            structure[\"Rate\"] = row[\"Rate\"]\n",
    "            \n",
    "            if len(structure[\"parents\"])  == 1:\n",
    "                parent = flat_heirarchy[structure[\"parents\"][0]][\"common_name\"]\n",
    "                state_df.loc[i, \"Parent\"] = parent\n",
    "                sources.append(parent)\n",
    "            else:\n",
    "                state_df.loc[i, \"Parent\"] = \"All\"\n",
    "                sources.append(\"All\")\n",
    "        except Exception as e:\n",
    "            print(e)\n",
    "        if len(structure[\"children\"]) > 0:\n",
    "            state_df.at[i, \"Children\"] = structure[\"children\"]\n",
    "             \n",
    "    for i, source in enumerate(sources):\n",
    "        if source == \"\":\n",
    "            None\n",
    "        else:\n",
    "            try:\n",
    "                parent_index = targets.index(source)\n",
    "                values[parent_index] = max( values[parent_index] - values[i],0)\n",
    "                state_df.loc[state_df['Common Name'] == targets[parent_index], 'Child_Adj_Rate'] = values[parent_index]\n",
    "                \n",
    "            except:\n",
    "                values[i] = max(values[i],0)\n",
    "                state_df.loc[state_df['Common Name'] == targets[parent_index], 'Child_Adj_Rate'] = values[i]\n",
    "                \n",
    "    values[0] = 5000\n",
    "    size = 50\n",
    "    plot_dict = {\"values\":values[:size], \"targets\":targets[:size], \"parents\":sources[:size]}\n",
    "    return state_df, plot_dict"
   ]
  },
  {
   "cell_type": "code",
   "execution_count": null,
   "metadata": {},
   "outputs": [],
   "source": []
  },
  {
   "cell_type": "code",
   "execution_count": null,
   "metadata": {},
   "outputs": [],
   "source": []
  },
  {
   "cell_type": "code",
   "execution_count": null,
   "metadata": {},
   "outputs": [],
   "source": []
  },
  {
   "cell_type": "code",
   "execution_count": null,
   "metadata": {},
   "outputs": [],
   "source": []
  },
  {
   "cell_type": "code",
   "execution_count": 55,
   "metadata": {},
   "outputs": [],
   "source": [
    "df_final = load_state_cod(state=\"All\")\n",
    "state_pop = pd.read_csv(r\"../data/Life/Deaths/State_Pop.txt\", delimiter=\"\t\", na_values = ['Not Applicable'])\n",
    "state_pop = clean_state_data(state_pop)[[\"State\",\"Population\",\"Deaths\",\"State_Abv\"]]\n",
    "state_pop.rename(columns={\"Deaths\":\"Total Deaths\"}, inplace=True)"
   ]
  },
  {
   "cell_type": "code",
   "execution_count": 56,
   "metadata": {},
   "outputs": [
    {
     "data": {
      "text/html": [
       "<div>\n",
       "<style scoped>\n",
       "    .dataframe tbody tr th:only-of-type {\n",
       "        vertical-align: middle;\n",
       "    }\n",
       "\n",
       "    .dataframe tbody tr th {\n",
       "        vertical-align: top;\n",
       "    }\n",
       "\n",
       "    .dataframe thead th {\n",
       "        text-align: right;\n",
       "    }\n",
       "</style>\n",
       "<table border=\"1\" class=\"dataframe\">\n",
       "  <thead>\n",
       "    <tr style=\"text-align: right;\">\n",
       "      <th></th>\n",
       "      <th>State</th>\n",
       "      <th>Deaths</th>\n",
       "      <th>Population</th>\n",
       "      <th>Total Deaths</th>\n",
       "      <th>State_Abv</th>\n",
       "      <th>Rate</th>\n",
       "    </tr>\n",
       "  </thead>\n",
       "  <tbody>\n",
       "    <tr>\n",
       "      <th>48</th>\n",
       "      <td>West Virginia</td>\n",
       "      <td>6670.0</td>\n",
       "      <td>1792147.0</td>\n",
       "      <td>23404.0</td>\n",
       "      <td>WV</td>\n",
       "      <td>372.179291</td>\n",
       "    </tr>\n",
       "    <tr>\n",
       "      <th>3</th>\n",
       "      <td>Arkansas</td>\n",
       "      <td>10813.0</td>\n",
       "      <td>3017804.0</td>\n",
       "      <td>32888.0</td>\n",
       "      <td>AR</td>\n",
       "      <td>358.306901</td>\n",
       "    </tr>\n",
       "    <tr>\n",
       "      <th>0</th>\n",
       "      <td>Alabama</td>\n",
       "      <td>17559.0</td>\n",
       "      <td>4903185.0</td>\n",
       "      <td>54108.0</td>\n",
       "      <td>AL</td>\n",
       "      <td>358.114165</td>\n",
       "    </tr>\n",
       "    <tr>\n",
       "      <th>24</th>\n",
       "      <td>Mississippi</td>\n",
       "      <td>10511.0</td>\n",
       "      <td>2976149.0</td>\n",
       "      <td>32964.0</td>\n",
       "      <td>MS</td>\n",
       "      <td>353.174522</td>\n",
       "    </tr>\n",
       "    <tr>\n",
       "      <th>36</th>\n",
       "      <td>Oklahoma</td>\n",
       "      <td>13432.0</td>\n",
       "      <td>3956971.0</td>\n",
       "      <td>40930.0</td>\n",
       "      <td>OK</td>\n",
       "      <td>339.451565</td>\n",
       "    </tr>\n",
       "    <tr>\n",
       "      <th>22</th>\n",
       "      <td>Michigan</td>\n",
       "      <td>32783.0</td>\n",
       "      <td>9986857.0</td>\n",
       "      <td>99084.0</td>\n",
       "      <td>MI</td>\n",
       "      <td>328.261434</td>\n",
       "    </tr>\n",
       "    <tr>\n",
       "      <th>35</th>\n",
       "      <td>Ohio</td>\n",
       "      <td>38109.0</td>\n",
       "      <td>11689100.0</td>\n",
       "      <td>123717.0</td>\n",
       "      <td>OH</td>\n",
       "      <td>326.021678</td>\n",
       "    </tr>\n",
       "    <tr>\n",
       "      <th>38</th>\n",
       "      <td>Pennsylvania</td>\n",
       "      <td>41270.0</td>\n",
       "      <td>12801989.0</td>\n",
       "      <td>133983.0</td>\n",
       "      <td>PA</td>\n",
       "      <td>322.371781</td>\n",
       "    </tr>\n",
       "    <tr>\n",
       "      <th>42</th>\n",
       "      <td>Tennessee</td>\n",
       "      <td>21570.0</td>\n",
       "      <td>6829174.0</td>\n",
       "      <td>71935.0</td>\n",
       "      <td>TN</td>\n",
       "      <td>315.850790</td>\n",
       "    </tr>\n",
       "    <tr>\n",
       "      <th>25</th>\n",
       "      <td>Missouri</td>\n",
       "      <td>19026.0</td>\n",
       "      <td>6137428.0</td>\n",
       "      <td>62401.0</td>\n",
       "      <td>MO</td>\n",
       "      <td>309.999563</td>\n",
       "    </tr>\n",
       "    <tr>\n",
       "      <th>17</th>\n",
       "      <td>Kentucky</td>\n",
       "      <td>13782.0</td>\n",
       "      <td>4467673.0</td>\n",
       "      <td>48990.0</td>\n",
       "      <td>KY</td>\n",
       "      <td>308.482738</td>\n",
       "    </tr>\n",
       "    <tr>\n",
       "      <th>18</th>\n",
       "      <td>Louisiana</td>\n",
       "      <td>14270.0</td>\n",
       "      <td>4648794.0</td>\n",
       "      <td>45938.0</td>\n",
       "      <td>LA</td>\n",
       "      <td>306.961332</td>\n",
       "    </tr>\n",
       "    <tr>\n",
       "      <th>9</th>\n",
       "      <td>Florida</td>\n",
       "      <td>65601.0</td>\n",
       "      <td>21477737.0</td>\n",
       "      <td>207002.0</td>\n",
       "      <td>FL</td>\n",
       "      <td>305.437207</td>\n",
       "    </tr>\n",
       "    <tr>\n",
       "      <th>15</th>\n",
       "      <td>Iowa</td>\n",
       "      <td>9598.0</td>\n",
       "      <td>3155070.0</td>\n",
       "      <td>30867.0</td>\n",
       "      <td>IA</td>\n",
       "      <td>304.208781</td>\n",
       "    </tr>\n",
       "    <tr>\n",
       "      <th>7</th>\n",
       "      <td>Delaware</td>\n",
       "      <td>2813.0</td>\n",
       "      <td>973764.0</td>\n",
       "      <td>9302.0</td>\n",
       "      <td>DE</td>\n",
       "      <td>288.879030</td>\n",
       "    </tr>\n",
       "    <tr>\n",
       "      <th>14</th>\n",
       "      <td>Indiana</td>\n",
       "      <td>19319.0</td>\n",
       "      <td>6732219.0</td>\n",
       "      <td>66001.0</td>\n",
       "      <td>IN</td>\n",
       "      <td>286.963333</td>\n",
       "    </tr>\n",
       "    <tr>\n",
       "      <th>45</th>\n",
       "      <td>Vermont</td>\n",
       "      <td>1787.0</td>\n",
       "      <td>623989.0</td>\n",
       "      <td>5956.0</td>\n",
       "      <td>VT</td>\n",
       "      <td>286.383254</td>\n",
       "    </tr>\n",
       "    <tr>\n",
       "      <th>19</th>\n",
       "      <td>Maine</td>\n",
       "      <td>3849.0</td>\n",
       "      <td>1344212.0</td>\n",
       "      <td>15065.0</td>\n",
       "      <td>ME</td>\n",
       "      <td>286.338762</td>\n",
       "    </tr>\n",
       "    <tr>\n",
       "      <th>39</th>\n",
       "      <td>Rhode Island</td>\n",
       "      <td>3017.0</td>\n",
       "      <td>1059361.0</td>\n",
       "      <td>10256.0</td>\n",
       "      <td>RI</td>\n",
       "      <td>284.794324</td>\n",
       "    </tr>\n",
       "    <tr>\n",
       "      <th>28</th>\n",
       "      <td>Nevada</td>\n",
       "      <td>8662.0</td>\n",
       "      <td>3080156.0</td>\n",
       "      <td>25586.0</td>\n",
       "      <td>NV</td>\n",
       "      <td>281.219523</td>\n",
       "    </tr>\n",
       "    <tr>\n",
       "      <th>32</th>\n",
       "      <td>New York</td>\n",
       "      <td>54204.0</td>\n",
       "      <td>19453561.0</td>\n",
       "      <td>156375.0</td>\n",
       "      <td>NY</td>\n",
       "      <td>278.632791</td>\n",
       "    </tr>\n",
       "    <tr>\n",
       "      <th>40</th>\n",
       "      <td>South Carolina</td>\n",
       "      <td>14282.0</td>\n",
       "      <td>5148714.0</td>\n",
       "      <td>50962.0</td>\n",
       "      <td>SC</td>\n",
       "      <td>277.389655</td>\n",
       "    </tr>\n",
       "    <tr>\n",
       "      <th>16</th>\n",
       "      <td>Kansas</td>\n",
       "      <td>7977.0</td>\n",
       "      <td>2913314.0</td>\n",
       "      <td>27682.0</td>\n",
       "      <td>KS</td>\n",
       "      <td>273.811886</td>\n",
       "    </tr>\n",
       "    <tr>\n",
       "      <th>49</th>\n",
       "      <td>Wisconsin</td>\n",
       "      <td>15883.0</td>\n",
       "      <td>5822434.0</td>\n",
       "      <td>54189.0</td>\n",
       "      <td>WI</td>\n",
       "      <td>272.789696</td>\n",
       "    </tr>\n",
       "    <tr>\n",
       "      <th>41</th>\n",
       "      <td>South Dakota</td>\n",
       "      <td>2386.0</td>\n",
       "      <td>884659.0</td>\n",
       "      <td>8270.0</td>\n",
       "      <td>SD</td>\n",
       "      <td>269.708441</td>\n",
       "    </tr>\n",
       "    <tr>\n",
       "      <th>13</th>\n",
       "      <td>Illinois</td>\n",
       "      <td>34123.0</td>\n",
       "      <td>12671821.0</td>\n",
       "      <td>109096.0</td>\n",
       "      <td>IL</td>\n",
       "      <td>269.282529</td>\n",
       "    </tr>\n",
       "    <tr>\n",
       "      <th>26</th>\n",
       "      <td>Montana</td>\n",
       "      <td>2875.0</td>\n",
       "      <td>1068778.0</td>\n",
       "      <td>10402.0</td>\n",
       "      <td>MT</td>\n",
       "      <td>268.998800</td>\n",
       "    </tr>\n",
       "    <tr>\n",
       "      <th>30</th>\n",
       "      <td>New Jersey</td>\n",
       "      <td>23806.0</td>\n",
       "      <td>8882190.0</td>\n",
       "      <td>75010.0</td>\n",
       "      <td>NJ</td>\n",
       "      <td>268.019486</td>\n",
       "    </tr>\n",
       "    <tr>\n",
       "      <th>20</th>\n",
       "      <td>Maryland</td>\n",
       "      <td>15941.0</td>\n",
       "      <td>6045680.0</td>\n",
       "      <td>50800.0</td>\n",
       "      <td>MD</td>\n",
       "      <td>263.675881</td>\n",
       "    </tr>\n",
       "    <tr>\n",
       "      <th>6</th>\n",
       "      <td>Connecticut</td>\n",
       "      <td>9324.0</td>\n",
       "      <td>3565287.0</td>\n",
       "      <td>31745.0</td>\n",
       "      <td>CT</td>\n",
       "      <td>261.521723</td>\n",
       "    </tr>\n",
       "    <tr>\n",
       "      <th>31</th>\n",
       "      <td>New Mexico</td>\n",
       "      <td>5410.0</td>\n",
       "      <td>2096829.0</td>\n",
       "      <td>19512.0</td>\n",
       "      <td>NM</td>\n",
       "      <td>258.008641</td>\n",
       "    </tr>\n",
       "    <tr>\n",
       "      <th>33</th>\n",
       "      <td>North Carolina</td>\n",
       "      <td>26660.0</td>\n",
       "      <td>10488084.0</td>\n",
       "      <td>95881.0</td>\n",
       "      <td>NC</td>\n",
       "      <td>254.193235</td>\n",
       "    </tr>\n",
       "    <tr>\n",
       "      <th>29</th>\n",
       "      <td>New Hampshire</td>\n",
       "      <td>3448.0</td>\n",
       "      <td>1359711.0</td>\n",
       "      <td>12744.0</td>\n",
       "      <td>NH</td>\n",
       "      <td>253.583298</td>\n",
       "    </tr>\n",
       "    <tr>\n",
       "      <th>34</th>\n",
       "      <td>North Dakota</td>\n",
       "      <td>1918.0</td>\n",
       "      <td>762062.0</td>\n",
       "      <td>6702.0</td>\n",
       "      <td>ND</td>\n",
       "      <td>251.685558</td>\n",
       "    </tr>\n",
       "    <tr>\n",
       "      <th>11</th>\n",
       "      <td>Hawaii</td>\n",
       "      <td>3557.0</td>\n",
       "      <td>1415872.0</td>\n",
       "      <td>11559.0</td>\n",
       "      <td>HI</td>\n",
       "      <td>251.223274</td>\n",
       "    </tr>\n",
       "    <tr>\n",
       "      <th>27</th>\n",
       "      <td>Nebraska</td>\n",
       "      <td>4709.0</td>\n",
       "      <td>1934408.0</td>\n",
       "      <td>16970.0</td>\n",
       "      <td>NE</td>\n",
       "      <td>243.433650</td>\n",
       "    </tr>\n",
       "    <tr>\n",
       "      <th>10</th>\n",
       "      <td>Georgia</td>\n",
       "      <td>25829.0</td>\n",
       "      <td>10617423.0</td>\n",
       "      <td>85814.0</td>\n",
       "      <td>GA</td>\n",
       "      <td>243.269954</td>\n",
       "    </tr>\n",
       "    <tr>\n",
       "      <th>37</th>\n",
       "      <td>Oregon</td>\n",
       "      <td>10219.0</td>\n",
       "      <td>4217737.0</td>\n",
       "      <td>37370.0</td>\n",
       "      <td>OR</td>\n",
       "      <td>242.286326</td>\n",
       "    </tr>\n",
       "    <tr>\n",
       "      <th>46</th>\n",
       "      <td>Virginia</td>\n",
       "      <td>20311.0</td>\n",
       "      <td>8535519.0</td>\n",
       "      <td>70325.0</td>\n",
       "      <td>VA</td>\n",
       "      <td>237.958582</td>\n",
       "    </tr>\n",
       "    <tr>\n",
       "      <th>50</th>\n",
       "      <td>Wyoming</td>\n",
       "      <td>1364.0</td>\n",
       "      <td>578759.0</td>\n",
       "      <td>5121.0</td>\n",
       "      <td>WY</td>\n",
       "      <td>235.676681</td>\n",
       "    </tr>\n",
       "    <tr>\n",
       "      <th>2</th>\n",
       "      <td>Arizona</td>\n",
       "      <td>16956.0</td>\n",
       "      <td>7278717.0</td>\n",
       "      <td>60236.0</td>\n",
       "      <td>AZ</td>\n",
       "      <td>232.953143</td>\n",
       "    </tr>\n",
       "    <tr>\n",
       "      <th>8</th>\n",
       "      <td>District of Columbia</td>\n",
       "      <td>1602.0</td>\n",
       "      <td>705749.0</td>\n",
       "      <td>4927.0</td>\n",
       "      <td>DC</td>\n",
       "      <td>226.992883</td>\n",
       "    </tr>\n",
       "    <tr>\n",
       "      <th>21</th>\n",
       "      <td>Massachusetts</td>\n",
       "      <td>15440.0</td>\n",
       "      <td>6892503.0</td>\n",
       "      <td>58630.0</td>\n",
       "      <td>MA</td>\n",
       "      <td>224.011509</td>\n",
       "    </tr>\n",
       "    <tr>\n",
       "      <th>12</th>\n",
       "      <td>Idaho</td>\n",
       "      <td>3955.0</td>\n",
       "      <td>1787065.0</td>\n",
       "      <td>14430.0</td>\n",
       "      <td>ID</td>\n",
       "      <td>221.312599</td>\n",
       "    </tr>\n",
       "    <tr>\n",
       "      <th>4</th>\n",
       "      <td>California</td>\n",
       "      <td>87123.0</td>\n",
       "      <td>39512223.0</td>\n",
       "      <td>269831.0</td>\n",
       "      <td>CA</td>\n",
       "      <td>220.496326</td>\n",
       "    </tr>\n",
       "    <tr>\n",
       "      <th>47</th>\n",
       "      <td>Washington</td>\n",
       "      <td>16202.0</td>\n",
       "      <td>7614893.0</td>\n",
       "      <td>58263.0</td>\n",
       "      <td>WA</td>\n",
       "      <td>212.767271</td>\n",
       "    </tr>\n",
       "    <tr>\n",
       "      <th>23</th>\n",
       "      <td>Minnesota</td>\n",
       "      <td>11885.0</td>\n",
       "      <td>5639632.0</td>\n",
       "      <td>45514.0</td>\n",
       "      <td>MN</td>\n",
       "      <td>210.740701</td>\n",
       "    </tr>\n",
       "    <tr>\n",
       "      <th>43</th>\n",
       "      <td>Texas</td>\n",
       "      <td>60814.0</td>\n",
       "      <td>28995881.0</td>\n",
       "      <td>203362.0</td>\n",
       "      <td>TX</td>\n",
       "      <td>209.733238</td>\n",
       "    </tr>\n",
       "    <tr>\n",
       "      <th>5</th>\n",
       "      <td>Colorado</td>\n",
       "      <td>10492.0</td>\n",
       "      <td>5758736.0</td>\n",
       "      <td>39390.0</td>\n",
       "      <td>CO</td>\n",
       "      <td>182.192759</td>\n",
       "    </tr>\n",
       "    <tr>\n",
       "      <th>44</th>\n",
       "      <td>Utah</td>\n",
       "      <td>5060.0</td>\n",
       "      <td>3205958.0</td>\n",
       "      <td>18736.0</td>\n",
       "      <td>UT</td>\n",
       "      <td>157.831138</td>\n",
       "    </tr>\n",
       "    <tr>\n",
       "      <th>1</th>\n",
       "      <td>Alaska</td>\n",
       "      <td>1133.0</td>\n",
       "      <td>731545.0</td>\n",
       "      <td>4613.0</td>\n",
       "      <td>AK</td>\n",
       "      <td>154.877690</td>\n",
       "    </tr>\n",
       "  </tbody>\n",
       "</table>\n",
       "</div>"
      ],
      "text/plain": [
       "                   State   Deaths  Population  Total Deaths State_Abv  \\\n",
       "48         West Virginia   6670.0   1792147.0       23404.0        WV   \n",
       "3               Arkansas  10813.0   3017804.0       32888.0        AR   \n",
       "0                Alabama  17559.0   4903185.0       54108.0        AL   \n",
       "24           Mississippi  10511.0   2976149.0       32964.0        MS   \n",
       "36              Oklahoma  13432.0   3956971.0       40930.0        OK   \n",
       "22              Michigan  32783.0   9986857.0       99084.0        MI   \n",
       "35                  Ohio  38109.0  11689100.0      123717.0        OH   \n",
       "38          Pennsylvania  41270.0  12801989.0      133983.0        PA   \n",
       "42             Tennessee  21570.0   6829174.0       71935.0        TN   \n",
       "25              Missouri  19026.0   6137428.0       62401.0        MO   \n",
       "17              Kentucky  13782.0   4467673.0       48990.0        KY   \n",
       "18             Louisiana  14270.0   4648794.0       45938.0        LA   \n",
       "9                Florida  65601.0  21477737.0      207002.0        FL   \n",
       "15                  Iowa   9598.0   3155070.0       30867.0        IA   \n",
       "7               Delaware   2813.0    973764.0        9302.0        DE   \n",
       "14               Indiana  19319.0   6732219.0       66001.0        IN   \n",
       "45               Vermont   1787.0    623989.0        5956.0        VT   \n",
       "19                 Maine   3849.0   1344212.0       15065.0        ME   \n",
       "39          Rhode Island   3017.0   1059361.0       10256.0        RI   \n",
       "28                Nevada   8662.0   3080156.0       25586.0        NV   \n",
       "32              New York  54204.0  19453561.0      156375.0        NY   \n",
       "40        South Carolina  14282.0   5148714.0       50962.0        SC   \n",
       "16                Kansas   7977.0   2913314.0       27682.0        KS   \n",
       "49             Wisconsin  15883.0   5822434.0       54189.0        WI   \n",
       "41          South Dakota   2386.0    884659.0        8270.0        SD   \n",
       "13              Illinois  34123.0  12671821.0      109096.0        IL   \n",
       "26               Montana   2875.0   1068778.0       10402.0        MT   \n",
       "30            New Jersey  23806.0   8882190.0       75010.0        NJ   \n",
       "20              Maryland  15941.0   6045680.0       50800.0        MD   \n",
       "6            Connecticut   9324.0   3565287.0       31745.0        CT   \n",
       "31            New Mexico   5410.0   2096829.0       19512.0        NM   \n",
       "33        North Carolina  26660.0  10488084.0       95881.0        NC   \n",
       "29         New Hampshire   3448.0   1359711.0       12744.0        NH   \n",
       "34          North Dakota   1918.0    762062.0        6702.0        ND   \n",
       "11                Hawaii   3557.0   1415872.0       11559.0        HI   \n",
       "27              Nebraska   4709.0   1934408.0       16970.0        NE   \n",
       "10               Georgia  25829.0  10617423.0       85814.0        GA   \n",
       "37                Oregon  10219.0   4217737.0       37370.0        OR   \n",
       "46              Virginia  20311.0   8535519.0       70325.0        VA   \n",
       "50               Wyoming   1364.0    578759.0        5121.0        WY   \n",
       "2                Arizona  16956.0   7278717.0       60236.0        AZ   \n",
       "8   District of Columbia   1602.0    705749.0        4927.0        DC   \n",
       "21         Massachusetts  15440.0   6892503.0       58630.0        MA   \n",
       "12                 Idaho   3955.0   1787065.0       14430.0        ID   \n",
       "4             California  87123.0  39512223.0      269831.0        CA   \n",
       "47            Washington  16202.0   7614893.0       58263.0        WA   \n",
       "23             Minnesota  11885.0   5639632.0       45514.0        MN   \n",
       "43                 Texas  60814.0  28995881.0      203362.0        TX   \n",
       "5               Colorado  10492.0   5758736.0       39390.0        CO   \n",
       "44                  Utah   5060.0   3205958.0       18736.0        UT   \n",
       "1                 Alaska   1133.0    731545.0        4613.0        AK   \n",
       "\n",
       "          Rate  \n",
       "48  372.179291  \n",
       "3   358.306901  \n",
       "0   358.114165  \n",
       "24  353.174522  \n",
       "36  339.451565  \n",
       "22  328.261434  \n",
       "35  326.021678  \n",
       "38  322.371781  \n",
       "42  315.850790  \n",
       "25  309.999563  \n",
       "17  308.482738  \n",
       "18  306.961332  \n",
       "9   305.437207  \n",
       "15  304.208781  \n",
       "7   288.879030  \n",
       "14  286.963333  \n",
       "45  286.383254  \n",
       "19  286.338762  \n",
       "39  284.794324  \n",
       "28  281.219523  \n",
       "32  278.632791  \n",
       "40  277.389655  \n",
       "16  273.811886  \n",
       "49  272.789696  \n",
       "41  269.708441  \n",
       "13  269.282529  \n",
       "26  268.998800  \n",
       "30  268.019486  \n",
       "20  263.675881  \n",
       "6   261.521723  \n",
       "31  258.008641  \n",
       "33  254.193235  \n",
       "29  253.583298  \n",
       "34  251.685558  \n",
       "11  251.223274  \n",
       "27  243.433650  \n",
       "10  243.269954  \n",
       "37  242.286326  \n",
       "46  237.958582  \n",
       "50  235.676681  \n",
       "2   232.953143  \n",
       "8   226.992883  \n",
       "21  224.011509  \n",
       "12  221.312599  \n",
       "4   220.496326  \n",
       "47  212.767271  \n",
       "23  210.740701  \n",
       "43  209.733238  \n",
       "5   182.192759  \n",
       "44  157.831138  \n",
       "1   154.877690  "
      ]
     },
     "execution_count": 56,
     "metadata": {},
     "output_type": "execute_result"
    }
   ],
   "source": [
    "cardio = df_final[df_final[\"ICD-10 113 Cause List\"] == \"Major cardiovascular diseases (I00-I78)\"].groupby(\"State\").agg({\"Deaths\":\"sum\"}).reset_index()\n",
    "cardio = pd.merge(cardio, state_pop, left_on=\"State\", right_on=\"State\")\n",
    "cardio[\"Rate\"] = cardio[\"Deaths\"]/cardio[\"Population\"]*100000\n",
    "cardio = cardio.sort_values(\"Rate\", ascending=False)\n",
    "cardio"
   ]
  },
  {
   "cell_type": "code",
   "execution_count": 80,
   "metadata": {},
   "outputs": [],
   "source": [
    "def nation_single_cod(cod = \"Major cardiovascular diseases (I00-I78)\", state = \"Michigan\"):\n",
    "    # Load Data\n",
    "    df = pd.read_csv(r\"..\\data\\Life\\Deaths\\2019CuaseOfDeath.txt\", delimiter=\"\t\", na_values = ['Not Applicable'])\n",
    "    df = clean_state_data(df)\n",
    "    # Filter by COD\n",
    "    cod = cod.split(\":\")[0].strip()\n",
    "    df = df[df[\"ICD-10 113 Cause List\"].str.contains(cod)].sort_values(\"Rate\", ascending=False)\n",
    "    \n",
    "    \n",
    "    fig = go.Figure()\n",
    "    fig.add_trace(go.Box(\n",
    "        x=df[\"Rate\"], \n",
    "        name=cod.split(\"(\")[0],\n",
    "        boxpoints='all', # can also be outliers, or suspectedoutliers, or False\n",
    "        jitter=0.3, # add some jitter for a better separation between points\n",
    "        pointpos=-1.8, # relative position of points wrt box\n",
    "        hovertext=df[\"State_Abv\"]\n",
    "\n",
    "    ))\n",
    "    fig.add_vline(x=df[df[\"State\"]==state][\"Rate\"].values[0], line_width=3, line_dash=\"dash\", line_color=\"green\")\n",
    "    fig.show()\n",
    "    return df\n"
   ]
  },
  {
   "cell_type": "code",
   "execution_count": null,
   "metadata": {},
   "outputs": [],
   "source": []
  },
  {
   "cell_type": "code",
   "execution_count": null,
   "metadata": {},
   "outputs": [],
   "source": []
  },
  {
   "cell_type": "code",
   "execution_count": 81,
   "metadata": {},
   "outputs": [
    {
     "data": {
      "application/vnd.plotly.v1+json": {
       "config": {
        "plotlyServerURL": "https://plot.ly"
       },
       "data": [
        {
         "boxpoints": "all",
         "hovertext": [
          "WV",
          "ME",
          "KY",
          "MS",
          "VT",
          "PA",
          "OH",
          "AR",
          "DE",
          "FL",
          "TN",
          "OK",
          "MO",
          "MI",
          "AL",
          "RI",
          "NH",
          "LA",
          "SC",
          "IA",
          "IN",
          "WI",
          "MT",
          "SD",
          "KS",
          "OR",
          "NC",
          "IL",
          "MA",
          "CT",
          "NE",
          "MN",
          "MD",
          "NJ",
          "HI",
          "NV",
          "VA",
          "WY",
          "NY",
          "ND",
          "NM",
          "AZ",
          "WA",
          "GA",
          "ID",
          "CA",
          "DC",
          "TX",
          "AK",
          "CO",
          "UT"
         ],
         "jitter": 0.3,
         "name": "#Malignant neoplasms",
         "pointpos": -1.8,
         "type": "box",
         "x": [
          256.9,
          253.9,
          223.27,
          221.33,
          220.84,
          216.73,
          215.33,
          214.79,
          212.99,
          212.23,
          210.6,
          209.98,
          209.75,
          209.51,
          209.37,
          208.62,
          207.32,
          204.03,
          203.68,
          200.79,
          200.75,
          197.6,
          196.39,
          196.35,
          192.87,
          191.57,
          190.23,
          188.62,
          182.55,
          182.2,
          180,
          178.06,
          177.7,
          176.74,
          176.57,
          176.42,
          176.26,
          175.55,
          173,
          172.69,
          172.36,
          171.77,
          170.19,
          167.23,
          163.84,
          150.62,
          145.24,
          143.09,
          139.57,
          138.68,
          102.59
         ]
        }
       ],
       "layout": {
        "shapes": [
         {
          "line": {
           "color": "green",
           "dash": "dash",
           "width": 3
          },
          "type": "line",
          "x0": 143.09,
          "x1": 143.09,
          "xref": "x",
          "y0": 0,
          "y1": 1,
          "yref": "y domain"
         }
        ],
        "template": {
         "data": {
          "bar": [
           {
            "error_x": {
             "color": "#2a3f5f"
            },
            "error_y": {
             "color": "#2a3f5f"
            },
            "marker": {
             "line": {
              "color": "#E5ECF6",
              "width": 0.5
             },
             "pattern": {
              "fillmode": "overlay",
              "size": 10,
              "solidity": 0.2
             }
            },
            "type": "bar"
           }
          ],
          "barpolar": [
           {
            "marker": {
             "line": {
              "color": "#E5ECF6",
              "width": 0.5
             },
             "pattern": {
              "fillmode": "overlay",
              "size": 10,
              "solidity": 0.2
             }
            },
            "type": "barpolar"
           }
          ],
          "carpet": [
           {
            "aaxis": {
             "endlinecolor": "#2a3f5f",
             "gridcolor": "white",
             "linecolor": "white",
             "minorgridcolor": "white",
             "startlinecolor": "#2a3f5f"
            },
            "baxis": {
             "endlinecolor": "#2a3f5f",
             "gridcolor": "white",
             "linecolor": "white",
             "minorgridcolor": "white",
             "startlinecolor": "#2a3f5f"
            },
            "type": "carpet"
           }
          ],
          "choropleth": [
           {
            "colorbar": {
             "outlinewidth": 0,
             "ticks": ""
            },
            "type": "choropleth"
           }
          ],
          "contour": [
           {
            "colorbar": {
             "outlinewidth": 0,
             "ticks": ""
            },
            "colorscale": [
             [
              0,
              "#0d0887"
             ],
             [
              0.1111111111111111,
              "#46039f"
             ],
             [
              0.2222222222222222,
              "#7201a8"
             ],
             [
              0.3333333333333333,
              "#9c179e"
             ],
             [
              0.4444444444444444,
              "#bd3786"
             ],
             [
              0.5555555555555556,
              "#d8576b"
             ],
             [
              0.6666666666666666,
              "#ed7953"
             ],
             [
              0.7777777777777778,
              "#fb9f3a"
             ],
             [
              0.8888888888888888,
              "#fdca26"
             ],
             [
              1,
              "#f0f921"
             ]
            ],
            "type": "contour"
           }
          ],
          "contourcarpet": [
           {
            "colorbar": {
             "outlinewidth": 0,
             "ticks": ""
            },
            "type": "contourcarpet"
           }
          ],
          "heatmap": [
           {
            "colorbar": {
             "outlinewidth": 0,
             "ticks": ""
            },
            "colorscale": [
             [
              0,
              "#0d0887"
             ],
             [
              0.1111111111111111,
              "#46039f"
             ],
             [
              0.2222222222222222,
              "#7201a8"
             ],
             [
              0.3333333333333333,
              "#9c179e"
             ],
             [
              0.4444444444444444,
              "#bd3786"
             ],
             [
              0.5555555555555556,
              "#d8576b"
             ],
             [
              0.6666666666666666,
              "#ed7953"
             ],
             [
              0.7777777777777778,
              "#fb9f3a"
             ],
             [
              0.8888888888888888,
              "#fdca26"
             ],
             [
              1,
              "#f0f921"
             ]
            ],
            "type": "heatmap"
           }
          ],
          "heatmapgl": [
           {
            "colorbar": {
             "outlinewidth": 0,
             "ticks": ""
            },
            "colorscale": [
             [
              0,
              "#0d0887"
             ],
             [
              0.1111111111111111,
              "#46039f"
             ],
             [
              0.2222222222222222,
              "#7201a8"
             ],
             [
              0.3333333333333333,
              "#9c179e"
             ],
             [
              0.4444444444444444,
              "#bd3786"
             ],
             [
              0.5555555555555556,
              "#d8576b"
             ],
             [
              0.6666666666666666,
              "#ed7953"
             ],
             [
              0.7777777777777778,
              "#fb9f3a"
             ],
             [
              0.8888888888888888,
              "#fdca26"
             ],
             [
              1,
              "#f0f921"
             ]
            ],
            "type": "heatmapgl"
           }
          ],
          "histogram": [
           {
            "marker": {
             "pattern": {
              "fillmode": "overlay",
              "size": 10,
              "solidity": 0.2
             }
            },
            "type": "histogram"
           }
          ],
          "histogram2d": [
           {
            "colorbar": {
             "outlinewidth": 0,
             "ticks": ""
            },
            "colorscale": [
             [
              0,
              "#0d0887"
             ],
             [
              0.1111111111111111,
              "#46039f"
             ],
             [
              0.2222222222222222,
              "#7201a8"
             ],
             [
              0.3333333333333333,
              "#9c179e"
             ],
             [
              0.4444444444444444,
              "#bd3786"
             ],
             [
              0.5555555555555556,
              "#d8576b"
             ],
             [
              0.6666666666666666,
              "#ed7953"
             ],
             [
              0.7777777777777778,
              "#fb9f3a"
             ],
             [
              0.8888888888888888,
              "#fdca26"
             ],
             [
              1,
              "#f0f921"
             ]
            ],
            "type": "histogram2d"
           }
          ],
          "histogram2dcontour": [
           {
            "colorbar": {
             "outlinewidth": 0,
             "ticks": ""
            },
            "colorscale": [
             [
              0,
              "#0d0887"
             ],
             [
              0.1111111111111111,
              "#46039f"
             ],
             [
              0.2222222222222222,
              "#7201a8"
             ],
             [
              0.3333333333333333,
              "#9c179e"
             ],
             [
              0.4444444444444444,
              "#bd3786"
             ],
             [
              0.5555555555555556,
              "#d8576b"
             ],
             [
              0.6666666666666666,
              "#ed7953"
             ],
             [
              0.7777777777777778,
              "#fb9f3a"
             ],
             [
              0.8888888888888888,
              "#fdca26"
             ],
             [
              1,
              "#f0f921"
             ]
            ],
            "type": "histogram2dcontour"
           }
          ],
          "mesh3d": [
           {
            "colorbar": {
             "outlinewidth": 0,
             "ticks": ""
            },
            "type": "mesh3d"
           }
          ],
          "parcoords": [
           {
            "line": {
             "colorbar": {
              "outlinewidth": 0,
              "ticks": ""
             }
            },
            "type": "parcoords"
           }
          ],
          "pie": [
           {
            "automargin": true,
            "type": "pie"
           }
          ],
          "scatter": [
           {
            "marker": {
             "colorbar": {
              "outlinewidth": 0,
              "ticks": ""
             }
            },
            "type": "scatter"
           }
          ],
          "scatter3d": [
           {
            "line": {
             "colorbar": {
              "outlinewidth": 0,
              "ticks": ""
             }
            },
            "marker": {
             "colorbar": {
              "outlinewidth": 0,
              "ticks": ""
             }
            },
            "type": "scatter3d"
           }
          ],
          "scattercarpet": [
           {
            "marker": {
             "colorbar": {
              "outlinewidth": 0,
              "ticks": ""
             }
            },
            "type": "scattercarpet"
           }
          ],
          "scattergeo": [
           {
            "marker": {
             "colorbar": {
              "outlinewidth": 0,
              "ticks": ""
             }
            },
            "type": "scattergeo"
           }
          ],
          "scattergl": [
           {
            "marker": {
             "colorbar": {
              "outlinewidth": 0,
              "ticks": ""
             }
            },
            "type": "scattergl"
           }
          ],
          "scattermapbox": [
           {
            "marker": {
             "colorbar": {
              "outlinewidth": 0,
              "ticks": ""
             }
            },
            "type": "scattermapbox"
           }
          ],
          "scatterpolar": [
           {
            "marker": {
             "colorbar": {
              "outlinewidth": 0,
              "ticks": ""
             }
            },
            "type": "scatterpolar"
           }
          ],
          "scatterpolargl": [
           {
            "marker": {
             "colorbar": {
              "outlinewidth": 0,
              "ticks": ""
             }
            },
            "type": "scatterpolargl"
           }
          ],
          "scatterternary": [
           {
            "marker": {
             "colorbar": {
              "outlinewidth": 0,
              "ticks": ""
             }
            },
            "type": "scatterternary"
           }
          ],
          "surface": [
           {
            "colorbar": {
             "outlinewidth": 0,
             "ticks": ""
            },
            "colorscale": [
             [
              0,
              "#0d0887"
             ],
             [
              0.1111111111111111,
              "#46039f"
             ],
             [
              0.2222222222222222,
              "#7201a8"
             ],
             [
              0.3333333333333333,
              "#9c179e"
             ],
             [
              0.4444444444444444,
              "#bd3786"
             ],
             [
              0.5555555555555556,
              "#d8576b"
             ],
             [
              0.6666666666666666,
              "#ed7953"
             ],
             [
              0.7777777777777778,
              "#fb9f3a"
             ],
             [
              0.8888888888888888,
              "#fdca26"
             ],
             [
              1,
              "#f0f921"
             ]
            ],
            "type": "surface"
           }
          ],
          "table": [
           {
            "cells": {
             "fill": {
              "color": "#EBF0F8"
             },
             "line": {
              "color": "white"
             }
            },
            "header": {
             "fill": {
              "color": "#C8D4E3"
             },
             "line": {
              "color": "white"
             }
            },
            "type": "table"
           }
          ]
         },
         "layout": {
          "annotationdefaults": {
           "arrowcolor": "#2a3f5f",
           "arrowhead": 0,
           "arrowwidth": 1
          },
          "autotypenumbers": "strict",
          "coloraxis": {
           "colorbar": {
            "outlinewidth": 0,
            "ticks": ""
           }
          },
          "colorscale": {
           "diverging": [
            [
             0,
             "#8e0152"
            ],
            [
             0.1,
             "#c51b7d"
            ],
            [
             0.2,
             "#de77ae"
            ],
            [
             0.3,
             "#f1b6da"
            ],
            [
             0.4,
             "#fde0ef"
            ],
            [
             0.5,
             "#f7f7f7"
            ],
            [
             0.6,
             "#e6f5d0"
            ],
            [
             0.7,
             "#b8e186"
            ],
            [
             0.8,
             "#7fbc41"
            ],
            [
             0.9,
             "#4d9221"
            ],
            [
             1,
             "#276419"
            ]
           ],
           "sequential": [
            [
             0,
             "#0d0887"
            ],
            [
             0.1111111111111111,
             "#46039f"
            ],
            [
             0.2222222222222222,
             "#7201a8"
            ],
            [
             0.3333333333333333,
             "#9c179e"
            ],
            [
             0.4444444444444444,
             "#bd3786"
            ],
            [
             0.5555555555555556,
             "#d8576b"
            ],
            [
             0.6666666666666666,
             "#ed7953"
            ],
            [
             0.7777777777777778,
             "#fb9f3a"
            ],
            [
             0.8888888888888888,
             "#fdca26"
            ],
            [
             1,
             "#f0f921"
            ]
           ],
           "sequentialminus": [
            [
             0,
             "#0d0887"
            ],
            [
             0.1111111111111111,
             "#46039f"
            ],
            [
             0.2222222222222222,
             "#7201a8"
            ],
            [
             0.3333333333333333,
             "#9c179e"
            ],
            [
             0.4444444444444444,
             "#bd3786"
            ],
            [
             0.5555555555555556,
             "#d8576b"
            ],
            [
             0.6666666666666666,
             "#ed7953"
            ],
            [
             0.7777777777777778,
             "#fb9f3a"
            ],
            [
             0.8888888888888888,
             "#fdca26"
            ],
            [
             1,
             "#f0f921"
            ]
           ]
          },
          "colorway": [
           "#636efa",
           "#EF553B",
           "#00cc96",
           "#ab63fa",
           "#FFA15A",
           "#19d3f3",
           "#FF6692",
           "#B6E880",
           "#FF97FF",
           "#FECB52"
          ],
          "font": {
           "color": "#2a3f5f"
          },
          "geo": {
           "bgcolor": "white",
           "lakecolor": "white",
           "landcolor": "#E5ECF6",
           "showlakes": true,
           "showland": true,
           "subunitcolor": "white"
          },
          "hoverlabel": {
           "align": "left"
          },
          "hovermode": "closest",
          "mapbox": {
           "style": "light"
          },
          "paper_bgcolor": "white",
          "plot_bgcolor": "#E5ECF6",
          "polar": {
           "angularaxis": {
            "gridcolor": "white",
            "linecolor": "white",
            "ticks": ""
           },
           "bgcolor": "#E5ECF6",
           "radialaxis": {
            "gridcolor": "white",
            "linecolor": "white",
            "ticks": ""
           }
          },
          "scene": {
           "xaxis": {
            "backgroundcolor": "#E5ECF6",
            "gridcolor": "white",
            "gridwidth": 2,
            "linecolor": "white",
            "showbackground": true,
            "ticks": "",
            "zerolinecolor": "white"
           },
           "yaxis": {
            "backgroundcolor": "#E5ECF6",
            "gridcolor": "white",
            "gridwidth": 2,
            "linecolor": "white",
            "showbackground": true,
            "ticks": "",
            "zerolinecolor": "white"
           },
           "zaxis": {
            "backgroundcolor": "#E5ECF6",
            "gridcolor": "white",
            "gridwidth": 2,
            "linecolor": "white",
            "showbackground": true,
            "ticks": "",
            "zerolinecolor": "white"
           }
          },
          "shapedefaults": {
           "line": {
            "color": "#2a3f5f"
           }
          },
          "ternary": {
           "aaxis": {
            "gridcolor": "white",
            "linecolor": "white",
            "ticks": ""
           },
           "baxis": {
            "gridcolor": "white",
            "linecolor": "white",
            "ticks": ""
           },
           "bgcolor": "#E5ECF6",
           "caxis": {
            "gridcolor": "white",
            "linecolor": "white",
            "ticks": ""
           }
          },
          "title": {
           "x": 0.05
          },
          "xaxis": {
           "automargin": true,
           "gridcolor": "white",
           "linecolor": "white",
           "ticks": "",
           "title": {
            "standoff": 15
           },
           "zerolinecolor": "white",
           "zerolinewidth": 2
          },
          "yaxis": {
           "automargin": true,
           "gridcolor": "white",
           "linecolor": "white",
           "ticks": "",
           "title": {
            "standoff": 15
           },
           "zerolinecolor": "white",
           "zerolinewidth": 2
          }
         }
        }
       }
      }
     },
     "metadata": {},
     "output_type": "display_data"
    }
   ],
   "source": [
    "cancer = nation_single_cod(cod = \"#Malignant neoplasms : 85+\", state=\"Texas\")"
   ]
  },
  {
   "cell_type": "code",
   "execution_count": 87,
   "metadata": {},
   "outputs": [
    {
     "data": {
      "application/vnd.plotly.v1+json": {
       "config": {
        "plotlyServerURL": "https://plot.ly"
       },
       "data": [
        {
         "boxpoints": "all",
         "hovertext": [
          "WV",
          "ME",
          "KY",
          "MS",
          "VT",
          "PA",
          "OH",
          "AR",
          "DE",
          "FL",
          "TN",
          "OK",
          "MO",
          "MI",
          "AL",
          "RI",
          "NH",
          "LA",
          "SC",
          "IA",
          "IN",
          "WI",
          "MT",
          "SD",
          "KS",
          "OR",
          "NC",
          "IL",
          "MA",
          "CT",
          "NE",
          "MN",
          "MD",
          "NJ",
          "HI",
          "NV",
          "VA",
          "WY",
          "NY",
          "ND",
          "NM",
          "AZ",
          "WA",
          "GA",
          "ID",
          "CA",
          "DC",
          "TX",
          "AK",
          "CO",
          "UT"
         ],
         "jitter": 0.3,
         "name": "Cancer",
         "pointpos": -1.8,
         "type": "box",
         "x": [
          256.9,
          253.9,
          223.27,
          221.33,
          220.84,
          216.73,
          215.33,
          214.79,
          212.99,
          212.23,
          210.6,
          209.98,
          209.75,
          209.51,
          209.37,
          208.62,
          207.32,
          204.03,
          203.68,
          200.79,
          200.75,
          197.6,
          196.39,
          196.35,
          192.87,
          191.57,
          190.23,
          188.62,
          182.55,
          182.2,
          180,
          178.06,
          177.7,
          176.74,
          176.57,
          176.42,
          176.26,
          175.55,
          173,
          172.69,
          172.36,
          171.77,
          170.19,
          167.23,
          163.84,
          150.62,
          145.24,
          143.09,
          139.57,
          138.68,
          102.59
         ]
        }
       ],
       "layout": {
        "shapes": [
         {
          "line": {
           "color": "green",
           "dash": "dash",
           "width": 3
          },
          "type": "line",
          "x0": 226.99,
          "x1": 226.99,
          "xref": "x",
          "y0": 0,
          "y1": 1,
          "yref": "y domain"
         }
        ],
        "template": {
         "data": {
          "bar": [
           {
            "error_x": {
             "color": "#2a3f5f"
            },
            "error_y": {
             "color": "#2a3f5f"
            },
            "marker": {
             "line": {
              "color": "#E5ECF6",
              "width": 0.5
             },
             "pattern": {
              "fillmode": "overlay",
              "size": 10,
              "solidity": 0.2
             }
            },
            "type": "bar"
           }
          ],
          "barpolar": [
           {
            "marker": {
             "line": {
              "color": "#E5ECF6",
              "width": 0.5
             },
             "pattern": {
              "fillmode": "overlay",
              "size": 10,
              "solidity": 0.2
             }
            },
            "type": "barpolar"
           }
          ],
          "carpet": [
           {
            "aaxis": {
             "endlinecolor": "#2a3f5f",
             "gridcolor": "white",
             "linecolor": "white",
             "minorgridcolor": "white",
             "startlinecolor": "#2a3f5f"
            },
            "baxis": {
             "endlinecolor": "#2a3f5f",
             "gridcolor": "white",
             "linecolor": "white",
             "minorgridcolor": "white",
             "startlinecolor": "#2a3f5f"
            },
            "type": "carpet"
           }
          ],
          "choropleth": [
           {
            "colorbar": {
             "outlinewidth": 0,
             "ticks": ""
            },
            "type": "choropleth"
           }
          ],
          "contour": [
           {
            "colorbar": {
             "outlinewidth": 0,
             "ticks": ""
            },
            "colorscale": [
             [
              0,
              "#0d0887"
             ],
             [
              0.1111111111111111,
              "#46039f"
             ],
             [
              0.2222222222222222,
              "#7201a8"
             ],
             [
              0.3333333333333333,
              "#9c179e"
             ],
             [
              0.4444444444444444,
              "#bd3786"
             ],
             [
              0.5555555555555556,
              "#d8576b"
             ],
             [
              0.6666666666666666,
              "#ed7953"
             ],
             [
              0.7777777777777778,
              "#fb9f3a"
             ],
             [
              0.8888888888888888,
              "#fdca26"
             ],
             [
              1,
              "#f0f921"
             ]
            ],
            "type": "contour"
           }
          ],
          "contourcarpet": [
           {
            "colorbar": {
             "outlinewidth": 0,
             "ticks": ""
            },
            "type": "contourcarpet"
           }
          ],
          "heatmap": [
           {
            "colorbar": {
             "outlinewidth": 0,
             "ticks": ""
            },
            "colorscale": [
             [
              0,
              "#0d0887"
             ],
             [
              0.1111111111111111,
              "#46039f"
             ],
             [
              0.2222222222222222,
              "#7201a8"
             ],
             [
              0.3333333333333333,
              "#9c179e"
             ],
             [
              0.4444444444444444,
              "#bd3786"
             ],
             [
              0.5555555555555556,
              "#d8576b"
             ],
             [
              0.6666666666666666,
              "#ed7953"
             ],
             [
              0.7777777777777778,
              "#fb9f3a"
             ],
             [
              0.8888888888888888,
              "#fdca26"
             ],
             [
              1,
              "#f0f921"
             ]
            ],
            "type": "heatmap"
           }
          ],
          "heatmapgl": [
           {
            "colorbar": {
             "outlinewidth": 0,
             "ticks": ""
            },
            "colorscale": [
             [
              0,
              "#0d0887"
             ],
             [
              0.1111111111111111,
              "#46039f"
             ],
             [
              0.2222222222222222,
              "#7201a8"
             ],
             [
              0.3333333333333333,
              "#9c179e"
             ],
             [
              0.4444444444444444,
              "#bd3786"
             ],
             [
              0.5555555555555556,
              "#d8576b"
             ],
             [
              0.6666666666666666,
              "#ed7953"
             ],
             [
              0.7777777777777778,
              "#fb9f3a"
             ],
             [
              0.8888888888888888,
              "#fdca26"
             ],
             [
              1,
              "#f0f921"
             ]
            ],
            "type": "heatmapgl"
           }
          ],
          "histogram": [
           {
            "marker": {
             "pattern": {
              "fillmode": "overlay",
              "size": 10,
              "solidity": 0.2
             }
            },
            "type": "histogram"
           }
          ],
          "histogram2d": [
           {
            "colorbar": {
             "outlinewidth": 0,
             "ticks": ""
            },
            "colorscale": [
             [
              0,
              "#0d0887"
             ],
             [
              0.1111111111111111,
              "#46039f"
             ],
             [
              0.2222222222222222,
              "#7201a8"
             ],
             [
              0.3333333333333333,
              "#9c179e"
             ],
             [
              0.4444444444444444,
              "#bd3786"
             ],
             [
              0.5555555555555556,
              "#d8576b"
             ],
             [
              0.6666666666666666,
              "#ed7953"
             ],
             [
              0.7777777777777778,
              "#fb9f3a"
             ],
             [
              0.8888888888888888,
              "#fdca26"
             ],
             [
              1,
              "#f0f921"
             ]
            ],
            "type": "histogram2d"
           }
          ],
          "histogram2dcontour": [
           {
            "colorbar": {
             "outlinewidth": 0,
             "ticks": ""
            },
            "colorscale": [
             [
              0,
              "#0d0887"
             ],
             [
              0.1111111111111111,
              "#46039f"
             ],
             [
              0.2222222222222222,
              "#7201a8"
             ],
             [
              0.3333333333333333,
              "#9c179e"
             ],
             [
              0.4444444444444444,
              "#bd3786"
             ],
             [
              0.5555555555555556,
              "#d8576b"
             ],
             [
              0.6666666666666666,
              "#ed7953"
             ],
             [
              0.7777777777777778,
              "#fb9f3a"
             ],
             [
              0.8888888888888888,
              "#fdca26"
             ],
             [
              1,
              "#f0f921"
             ]
            ],
            "type": "histogram2dcontour"
           }
          ],
          "mesh3d": [
           {
            "colorbar": {
             "outlinewidth": 0,
             "ticks": ""
            },
            "type": "mesh3d"
           }
          ],
          "parcoords": [
           {
            "line": {
             "colorbar": {
              "outlinewidth": 0,
              "ticks": ""
             }
            },
            "type": "parcoords"
           }
          ],
          "pie": [
           {
            "automargin": true,
            "type": "pie"
           }
          ],
          "scatter": [
           {
            "marker": {
             "colorbar": {
              "outlinewidth": 0,
              "ticks": ""
             }
            },
            "type": "scatter"
           }
          ],
          "scatter3d": [
           {
            "line": {
             "colorbar": {
              "outlinewidth": 0,
              "ticks": ""
             }
            },
            "marker": {
             "colorbar": {
              "outlinewidth": 0,
              "ticks": ""
             }
            },
            "type": "scatter3d"
           }
          ],
          "scattercarpet": [
           {
            "marker": {
             "colorbar": {
              "outlinewidth": 0,
              "ticks": ""
             }
            },
            "type": "scattercarpet"
           }
          ],
          "scattergeo": [
           {
            "marker": {
             "colorbar": {
              "outlinewidth": 0,
              "ticks": ""
             }
            },
            "type": "scattergeo"
           }
          ],
          "scattergl": [
           {
            "marker": {
             "colorbar": {
              "outlinewidth": 0,
              "ticks": ""
             }
            },
            "type": "scattergl"
           }
          ],
          "scattermapbox": [
           {
            "marker": {
             "colorbar": {
              "outlinewidth": 0,
              "ticks": ""
             }
            },
            "type": "scattermapbox"
           }
          ],
          "scatterpolar": [
           {
            "marker": {
             "colorbar": {
              "outlinewidth": 0,
              "ticks": ""
             }
            },
            "type": "scatterpolar"
           }
          ],
          "scatterpolargl": [
           {
            "marker": {
             "colorbar": {
              "outlinewidth": 0,
              "ticks": ""
             }
            },
            "type": "scatterpolargl"
           }
          ],
          "scatterternary": [
           {
            "marker": {
             "colorbar": {
              "outlinewidth": 0,
              "ticks": ""
             }
            },
            "type": "scatterternary"
           }
          ],
          "surface": [
           {
            "colorbar": {
             "outlinewidth": 0,
             "ticks": ""
            },
            "colorscale": [
             [
              0,
              "#0d0887"
             ],
             [
              0.1111111111111111,
              "#46039f"
             ],
             [
              0.2222222222222222,
              "#7201a8"
             ],
             [
              0.3333333333333333,
              "#9c179e"
             ],
             [
              0.4444444444444444,
              "#bd3786"
             ],
             [
              0.5555555555555556,
              "#d8576b"
             ],
             [
              0.6666666666666666,
              "#ed7953"
             ],
             [
              0.7777777777777778,
              "#fb9f3a"
             ],
             [
              0.8888888888888888,
              "#fdca26"
             ],
             [
              1,
              "#f0f921"
             ]
            ],
            "type": "surface"
           }
          ],
          "table": [
           {
            "cells": {
             "fill": {
              "color": "#EBF0F8"
             },
             "line": {
              "color": "white"
             }
            },
            "header": {
             "fill": {
              "color": "#C8D4E3"
             },
             "line": {
              "color": "white"
             }
            },
            "type": "table"
           }
          ]
         },
         "layout": {
          "annotationdefaults": {
           "arrowcolor": "#2a3f5f",
           "arrowhead": 0,
           "arrowwidth": 1
          },
          "autotypenumbers": "strict",
          "coloraxis": {
           "colorbar": {
            "outlinewidth": 0,
            "ticks": ""
           }
          },
          "colorscale": {
           "diverging": [
            [
             0,
             "#8e0152"
            ],
            [
             0.1,
             "#c51b7d"
            ],
            [
             0.2,
             "#de77ae"
            ],
            [
             0.3,
             "#f1b6da"
            ],
            [
             0.4,
             "#fde0ef"
            ],
            [
             0.5,
             "#f7f7f7"
            ],
            [
             0.6,
             "#e6f5d0"
            ],
            [
             0.7,
             "#b8e186"
            ],
            [
             0.8,
             "#7fbc41"
            ],
            [
             0.9,
             "#4d9221"
            ],
            [
             1,
             "#276419"
            ]
           ],
           "sequential": [
            [
             0,
             "#0d0887"
            ],
            [
             0.1111111111111111,
             "#46039f"
            ],
            [
             0.2222222222222222,
             "#7201a8"
            ],
            [
             0.3333333333333333,
             "#9c179e"
            ],
            [
             0.4444444444444444,
             "#bd3786"
            ],
            [
             0.5555555555555556,
             "#d8576b"
            ],
            [
             0.6666666666666666,
             "#ed7953"
            ],
            [
             0.7777777777777778,
             "#fb9f3a"
            ],
            [
             0.8888888888888888,
             "#fdca26"
            ],
            [
             1,
             "#f0f921"
            ]
           ],
           "sequentialminus": [
            [
             0,
             "#0d0887"
            ],
            [
             0.1111111111111111,
             "#46039f"
            ],
            [
             0.2222222222222222,
             "#7201a8"
            ],
            [
             0.3333333333333333,
             "#9c179e"
            ],
            [
             0.4444444444444444,
             "#bd3786"
            ],
            [
             0.5555555555555556,
             "#d8576b"
            ],
            [
             0.6666666666666666,
             "#ed7953"
            ],
            [
             0.7777777777777778,
             "#fb9f3a"
            ],
            [
             0.8888888888888888,
             "#fdca26"
            ],
            [
             1,
             "#f0f921"
            ]
           ]
          },
          "colorway": [
           "#636efa",
           "#EF553B",
           "#00cc96",
           "#ab63fa",
           "#FFA15A",
           "#19d3f3",
           "#FF6692",
           "#B6E880",
           "#FF97FF",
           "#FECB52"
          ],
          "font": {
           "color": "#2a3f5f"
          },
          "geo": {
           "bgcolor": "white",
           "lakecolor": "white",
           "landcolor": "#E5ECF6",
           "showlakes": true,
           "showland": true,
           "subunitcolor": "white"
          },
          "hoverlabel": {
           "align": "left"
          },
          "hovermode": "closest",
          "mapbox": {
           "style": "light"
          },
          "paper_bgcolor": "white",
          "plot_bgcolor": "#E5ECF6",
          "polar": {
           "angularaxis": {
            "gridcolor": "white",
            "linecolor": "white",
            "ticks": ""
           },
           "bgcolor": "#E5ECF6",
           "radialaxis": {
            "gridcolor": "white",
            "linecolor": "white",
            "ticks": ""
           }
          },
          "scene": {
           "xaxis": {
            "backgroundcolor": "#E5ECF6",
            "gridcolor": "white",
            "gridwidth": 2,
            "linecolor": "white",
            "showbackground": true,
            "ticks": "",
            "zerolinecolor": "white"
           },
           "yaxis": {
            "backgroundcolor": "#E5ECF6",
            "gridcolor": "white",
            "gridwidth": 2,
            "linecolor": "white",
            "showbackground": true,
            "ticks": "",
            "zerolinecolor": "white"
           },
           "zaxis": {
            "backgroundcolor": "#E5ECF6",
            "gridcolor": "white",
            "gridwidth": 2,
            "linecolor": "white",
            "showbackground": true,
            "ticks": "",
            "zerolinecolor": "white"
           }
          },
          "shapedefaults": {
           "line": {
            "color": "#2a3f5f"
           }
          },
          "ternary": {
           "aaxis": {
            "gridcolor": "white",
            "linecolor": "white",
            "ticks": ""
           },
           "baxis": {
            "gridcolor": "white",
            "linecolor": "white",
            "ticks": ""
           },
           "bgcolor": "#E5ECF6",
           "caxis": {
            "gridcolor": "white",
            "linecolor": "white",
            "ticks": ""
           }
          },
          "title": {
           "x": 0.05
          },
          "xaxis": {
           "automargin": true,
           "gridcolor": "white",
           "linecolor": "white",
           "ticks": "",
           "title": {
            "standoff": 15
           },
           "zerolinecolor": "white",
           "zerolinewidth": 2
          },
          "yaxis": {
           "automargin": true,
           "gridcolor": "white",
           "linecolor": "white",
           "ticks": "",
           "title": {
            "standoff": 15
           },
           "zerolinecolor": "white",
           "zerolinewidth": 2
          }
         }
        }
       }
      }
     },
     "metadata": {},
     "output_type": "display_data"
    }
   ],
   "source": [
    "fig = go.Figure()\n",
    "fig.add_trace(go.Box(\n",
    "    x=cancer[\"Rate\"], \n",
    "    name=\"Cancer\",\n",
    "    boxpoints='all', # can also be outliers, or suspectedoutliers, or False\n",
    "    jitter=0.3, # add some jitter for a better separation between points\n",
    "    pointpos=-1.8, # relative position of points wrt box\n",
    "    hovertext=cancer[\"State_Abv\"]\n",
    "            \n",
    "))\n",
    "fig.add_vline(x=226.99, line_width=3, line_dash=\"dash\", line_color=\"green\")\n",
    "\n",
    "\n",
    "fig.show()"
   ]
  },
  {
   "cell_type": "code",
   "execution_count": 88,
   "metadata": {},
   "outputs": [
    {
     "data": {
      "application/vnd.plotly.v1+json": {
       "config": {
        "plotlyServerURL": "https://plot.ly"
       },
       "data": [
        {
         "hovertext": [
          "WV",
          "ME",
          "KY",
          "MS",
          "VT",
          "PA",
          "OH",
          "AR",
          "DE",
          "FL",
          "TN",
          "OK",
          "MO",
          "MI",
          "AL",
          "RI",
          "NH",
          "LA",
          "SC",
          "IA",
          "IN",
          "WI",
          "MT",
          "SD",
          "KS",
          "OR",
          "NC",
          "IL",
          "MA",
          "CT",
          "NE",
          "MN",
          "MD",
          "NJ",
          "HI",
          "NV",
          "VA",
          "WY",
          "NY",
          "ND",
          "NM",
          "AZ",
          "WA",
          "GA",
          "ID",
          "CA",
          "DC",
          "TX",
          "AK",
          "CO",
          "UT"
         ],
         "jitter": 0.3,
         "name": "Cancer",
         "pointpos": -1.8,
         "points": "all",
         "side": "positive",
         "type": "violin",
         "x": [
          256.9,
          253.9,
          223.27,
          221.33,
          220.84,
          216.73,
          215.33,
          214.79,
          212.99,
          212.23,
          210.6,
          209.98,
          209.75,
          209.51,
          209.37,
          208.62,
          207.32,
          204.03,
          203.68,
          200.79,
          200.75,
          197.6,
          196.39,
          196.35,
          192.87,
          191.57,
          190.23,
          188.62,
          182.55,
          182.2,
          180,
          178.06,
          177.7,
          176.74,
          176.57,
          176.42,
          176.26,
          175.55,
          173,
          172.69,
          172.36,
          171.77,
          170.19,
          167.23,
          163.84,
          150.62,
          145.24,
          143.09,
          139.57,
          138.68,
          102.59
         ]
        }
       ],
       "layout": {
        "shapes": [
         {
          "line": {
           "color": "green",
           "dash": "dash",
           "width": 3
          },
          "type": "line",
          "x0": 226.99,
          "x1": 226.99,
          "xref": "x",
          "y0": 0,
          "y1": 1,
          "yref": "y domain"
         }
        ],
        "template": {
         "data": {
          "bar": [
           {
            "error_x": {
             "color": "#2a3f5f"
            },
            "error_y": {
             "color": "#2a3f5f"
            },
            "marker": {
             "line": {
              "color": "#E5ECF6",
              "width": 0.5
             },
             "pattern": {
              "fillmode": "overlay",
              "size": 10,
              "solidity": 0.2
             }
            },
            "type": "bar"
           }
          ],
          "barpolar": [
           {
            "marker": {
             "line": {
              "color": "#E5ECF6",
              "width": 0.5
             },
             "pattern": {
              "fillmode": "overlay",
              "size": 10,
              "solidity": 0.2
             }
            },
            "type": "barpolar"
           }
          ],
          "carpet": [
           {
            "aaxis": {
             "endlinecolor": "#2a3f5f",
             "gridcolor": "white",
             "linecolor": "white",
             "minorgridcolor": "white",
             "startlinecolor": "#2a3f5f"
            },
            "baxis": {
             "endlinecolor": "#2a3f5f",
             "gridcolor": "white",
             "linecolor": "white",
             "minorgridcolor": "white",
             "startlinecolor": "#2a3f5f"
            },
            "type": "carpet"
           }
          ],
          "choropleth": [
           {
            "colorbar": {
             "outlinewidth": 0,
             "ticks": ""
            },
            "type": "choropleth"
           }
          ],
          "contour": [
           {
            "colorbar": {
             "outlinewidth": 0,
             "ticks": ""
            },
            "colorscale": [
             [
              0,
              "#0d0887"
             ],
             [
              0.1111111111111111,
              "#46039f"
             ],
             [
              0.2222222222222222,
              "#7201a8"
             ],
             [
              0.3333333333333333,
              "#9c179e"
             ],
             [
              0.4444444444444444,
              "#bd3786"
             ],
             [
              0.5555555555555556,
              "#d8576b"
             ],
             [
              0.6666666666666666,
              "#ed7953"
             ],
             [
              0.7777777777777778,
              "#fb9f3a"
             ],
             [
              0.8888888888888888,
              "#fdca26"
             ],
             [
              1,
              "#f0f921"
             ]
            ],
            "type": "contour"
           }
          ],
          "contourcarpet": [
           {
            "colorbar": {
             "outlinewidth": 0,
             "ticks": ""
            },
            "type": "contourcarpet"
           }
          ],
          "heatmap": [
           {
            "colorbar": {
             "outlinewidth": 0,
             "ticks": ""
            },
            "colorscale": [
             [
              0,
              "#0d0887"
             ],
             [
              0.1111111111111111,
              "#46039f"
             ],
             [
              0.2222222222222222,
              "#7201a8"
             ],
             [
              0.3333333333333333,
              "#9c179e"
             ],
             [
              0.4444444444444444,
              "#bd3786"
             ],
             [
              0.5555555555555556,
              "#d8576b"
             ],
             [
              0.6666666666666666,
              "#ed7953"
             ],
             [
              0.7777777777777778,
              "#fb9f3a"
             ],
             [
              0.8888888888888888,
              "#fdca26"
             ],
             [
              1,
              "#f0f921"
             ]
            ],
            "type": "heatmap"
           }
          ],
          "heatmapgl": [
           {
            "colorbar": {
             "outlinewidth": 0,
             "ticks": ""
            },
            "colorscale": [
             [
              0,
              "#0d0887"
             ],
             [
              0.1111111111111111,
              "#46039f"
             ],
             [
              0.2222222222222222,
              "#7201a8"
             ],
             [
              0.3333333333333333,
              "#9c179e"
             ],
             [
              0.4444444444444444,
              "#bd3786"
             ],
             [
              0.5555555555555556,
              "#d8576b"
             ],
             [
              0.6666666666666666,
              "#ed7953"
             ],
             [
              0.7777777777777778,
              "#fb9f3a"
             ],
             [
              0.8888888888888888,
              "#fdca26"
             ],
             [
              1,
              "#f0f921"
             ]
            ],
            "type": "heatmapgl"
           }
          ],
          "histogram": [
           {
            "marker": {
             "pattern": {
              "fillmode": "overlay",
              "size": 10,
              "solidity": 0.2
             }
            },
            "type": "histogram"
           }
          ],
          "histogram2d": [
           {
            "colorbar": {
             "outlinewidth": 0,
             "ticks": ""
            },
            "colorscale": [
             [
              0,
              "#0d0887"
             ],
             [
              0.1111111111111111,
              "#46039f"
             ],
             [
              0.2222222222222222,
              "#7201a8"
             ],
             [
              0.3333333333333333,
              "#9c179e"
             ],
             [
              0.4444444444444444,
              "#bd3786"
             ],
             [
              0.5555555555555556,
              "#d8576b"
             ],
             [
              0.6666666666666666,
              "#ed7953"
             ],
             [
              0.7777777777777778,
              "#fb9f3a"
             ],
             [
              0.8888888888888888,
              "#fdca26"
             ],
             [
              1,
              "#f0f921"
             ]
            ],
            "type": "histogram2d"
           }
          ],
          "histogram2dcontour": [
           {
            "colorbar": {
             "outlinewidth": 0,
             "ticks": ""
            },
            "colorscale": [
             [
              0,
              "#0d0887"
             ],
             [
              0.1111111111111111,
              "#46039f"
             ],
             [
              0.2222222222222222,
              "#7201a8"
             ],
             [
              0.3333333333333333,
              "#9c179e"
             ],
             [
              0.4444444444444444,
              "#bd3786"
             ],
             [
              0.5555555555555556,
              "#d8576b"
             ],
             [
              0.6666666666666666,
              "#ed7953"
             ],
             [
              0.7777777777777778,
              "#fb9f3a"
             ],
             [
              0.8888888888888888,
              "#fdca26"
             ],
             [
              1,
              "#f0f921"
             ]
            ],
            "type": "histogram2dcontour"
           }
          ],
          "mesh3d": [
           {
            "colorbar": {
             "outlinewidth": 0,
             "ticks": ""
            },
            "type": "mesh3d"
           }
          ],
          "parcoords": [
           {
            "line": {
             "colorbar": {
              "outlinewidth": 0,
              "ticks": ""
             }
            },
            "type": "parcoords"
           }
          ],
          "pie": [
           {
            "automargin": true,
            "type": "pie"
           }
          ],
          "scatter": [
           {
            "marker": {
             "colorbar": {
              "outlinewidth": 0,
              "ticks": ""
             }
            },
            "type": "scatter"
           }
          ],
          "scatter3d": [
           {
            "line": {
             "colorbar": {
              "outlinewidth": 0,
              "ticks": ""
             }
            },
            "marker": {
             "colorbar": {
              "outlinewidth": 0,
              "ticks": ""
             }
            },
            "type": "scatter3d"
           }
          ],
          "scattercarpet": [
           {
            "marker": {
             "colorbar": {
              "outlinewidth": 0,
              "ticks": ""
             }
            },
            "type": "scattercarpet"
           }
          ],
          "scattergeo": [
           {
            "marker": {
             "colorbar": {
              "outlinewidth": 0,
              "ticks": ""
             }
            },
            "type": "scattergeo"
           }
          ],
          "scattergl": [
           {
            "marker": {
             "colorbar": {
              "outlinewidth": 0,
              "ticks": ""
             }
            },
            "type": "scattergl"
           }
          ],
          "scattermapbox": [
           {
            "marker": {
             "colorbar": {
              "outlinewidth": 0,
              "ticks": ""
             }
            },
            "type": "scattermapbox"
           }
          ],
          "scatterpolar": [
           {
            "marker": {
             "colorbar": {
              "outlinewidth": 0,
              "ticks": ""
             }
            },
            "type": "scatterpolar"
           }
          ],
          "scatterpolargl": [
           {
            "marker": {
             "colorbar": {
              "outlinewidth": 0,
              "ticks": ""
             }
            },
            "type": "scatterpolargl"
           }
          ],
          "scatterternary": [
           {
            "marker": {
             "colorbar": {
              "outlinewidth": 0,
              "ticks": ""
             }
            },
            "type": "scatterternary"
           }
          ],
          "surface": [
           {
            "colorbar": {
             "outlinewidth": 0,
             "ticks": ""
            },
            "colorscale": [
             [
              0,
              "#0d0887"
             ],
             [
              0.1111111111111111,
              "#46039f"
             ],
             [
              0.2222222222222222,
              "#7201a8"
             ],
             [
              0.3333333333333333,
              "#9c179e"
             ],
             [
              0.4444444444444444,
              "#bd3786"
             ],
             [
              0.5555555555555556,
              "#d8576b"
             ],
             [
              0.6666666666666666,
              "#ed7953"
             ],
             [
              0.7777777777777778,
              "#fb9f3a"
             ],
             [
              0.8888888888888888,
              "#fdca26"
             ],
             [
              1,
              "#f0f921"
             ]
            ],
            "type": "surface"
           }
          ],
          "table": [
           {
            "cells": {
             "fill": {
              "color": "#EBF0F8"
             },
             "line": {
              "color": "white"
             }
            },
            "header": {
             "fill": {
              "color": "#C8D4E3"
             },
             "line": {
              "color": "white"
             }
            },
            "type": "table"
           }
          ]
         },
         "layout": {
          "annotationdefaults": {
           "arrowcolor": "#2a3f5f",
           "arrowhead": 0,
           "arrowwidth": 1
          },
          "autotypenumbers": "strict",
          "coloraxis": {
           "colorbar": {
            "outlinewidth": 0,
            "ticks": ""
           }
          },
          "colorscale": {
           "diverging": [
            [
             0,
             "#8e0152"
            ],
            [
             0.1,
             "#c51b7d"
            ],
            [
             0.2,
             "#de77ae"
            ],
            [
             0.3,
             "#f1b6da"
            ],
            [
             0.4,
             "#fde0ef"
            ],
            [
             0.5,
             "#f7f7f7"
            ],
            [
             0.6,
             "#e6f5d0"
            ],
            [
             0.7,
             "#b8e186"
            ],
            [
             0.8,
             "#7fbc41"
            ],
            [
             0.9,
             "#4d9221"
            ],
            [
             1,
             "#276419"
            ]
           ],
           "sequential": [
            [
             0,
             "#0d0887"
            ],
            [
             0.1111111111111111,
             "#46039f"
            ],
            [
             0.2222222222222222,
             "#7201a8"
            ],
            [
             0.3333333333333333,
             "#9c179e"
            ],
            [
             0.4444444444444444,
             "#bd3786"
            ],
            [
             0.5555555555555556,
             "#d8576b"
            ],
            [
             0.6666666666666666,
             "#ed7953"
            ],
            [
             0.7777777777777778,
             "#fb9f3a"
            ],
            [
             0.8888888888888888,
             "#fdca26"
            ],
            [
             1,
             "#f0f921"
            ]
           ],
           "sequentialminus": [
            [
             0,
             "#0d0887"
            ],
            [
             0.1111111111111111,
             "#46039f"
            ],
            [
             0.2222222222222222,
             "#7201a8"
            ],
            [
             0.3333333333333333,
             "#9c179e"
            ],
            [
             0.4444444444444444,
             "#bd3786"
            ],
            [
             0.5555555555555556,
             "#d8576b"
            ],
            [
             0.6666666666666666,
             "#ed7953"
            ],
            [
             0.7777777777777778,
             "#fb9f3a"
            ],
            [
             0.8888888888888888,
             "#fdca26"
            ],
            [
             1,
             "#f0f921"
            ]
           ]
          },
          "colorway": [
           "#636efa",
           "#EF553B",
           "#00cc96",
           "#ab63fa",
           "#FFA15A",
           "#19d3f3",
           "#FF6692",
           "#B6E880",
           "#FF97FF",
           "#FECB52"
          ],
          "font": {
           "color": "#2a3f5f"
          },
          "geo": {
           "bgcolor": "white",
           "lakecolor": "white",
           "landcolor": "#E5ECF6",
           "showlakes": true,
           "showland": true,
           "subunitcolor": "white"
          },
          "hoverlabel": {
           "align": "left"
          },
          "hovermode": "closest",
          "mapbox": {
           "style": "light"
          },
          "paper_bgcolor": "white",
          "plot_bgcolor": "#E5ECF6",
          "polar": {
           "angularaxis": {
            "gridcolor": "white",
            "linecolor": "white",
            "ticks": ""
           },
           "bgcolor": "#E5ECF6",
           "radialaxis": {
            "gridcolor": "white",
            "linecolor": "white",
            "ticks": ""
           }
          },
          "scene": {
           "xaxis": {
            "backgroundcolor": "#E5ECF6",
            "gridcolor": "white",
            "gridwidth": 2,
            "linecolor": "white",
            "showbackground": true,
            "ticks": "",
            "zerolinecolor": "white"
           },
           "yaxis": {
            "backgroundcolor": "#E5ECF6",
            "gridcolor": "white",
            "gridwidth": 2,
            "linecolor": "white",
            "showbackground": true,
            "ticks": "",
            "zerolinecolor": "white"
           },
           "zaxis": {
            "backgroundcolor": "#E5ECF6",
            "gridcolor": "white",
            "gridwidth": 2,
            "linecolor": "white",
            "showbackground": true,
            "ticks": "",
            "zerolinecolor": "white"
           }
          },
          "shapedefaults": {
           "line": {
            "color": "#2a3f5f"
           }
          },
          "ternary": {
           "aaxis": {
            "gridcolor": "white",
            "linecolor": "white",
            "ticks": ""
           },
           "baxis": {
            "gridcolor": "white",
            "linecolor": "white",
            "ticks": ""
           },
           "bgcolor": "#E5ECF6",
           "caxis": {
            "gridcolor": "white",
            "linecolor": "white",
            "ticks": ""
           }
          },
          "title": {
           "x": 0.05
          },
          "xaxis": {
           "automargin": true,
           "gridcolor": "white",
           "linecolor": "white",
           "ticks": "",
           "title": {
            "standoff": 15
           },
           "zerolinecolor": "white",
           "zerolinewidth": 2
          },
          "yaxis": {
           "automargin": true,
           "gridcolor": "white",
           "linecolor": "white",
           "ticks": "",
           "title": {
            "standoff": 15
           },
           "zerolinecolor": "white",
           "zerolinewidth": 2
          }
         }
        }
       }
      }
     },
     "metadata": {},
     "output_type": "display_data"
    }
   ],
   "source": [
    "fig = go.Figure()\n",
    "fig.add_trace(go.Violin(\n",
    "    x=cancer[\"Rate\"], \n",
    "    name=\"Cancer\",\n",
    "    points='all', # can also be outliers, or suspectedoutliers, or False\n",
    "    jitter=0.3, # add some jitter for a better separation between points\n",
    "    pointpos=-1.8, # relative position of points wrt box\n",
    "    hovertext=cancer[\"State_Abv\"],\n",
    "    side=\"positive\"\n",
    "            \n",
    "))\n",
    "fig.add_vline(x=226.99, line_width=3, line_dash=\"dash\", line_color=\"green\")\n",
    "\n",
    "\n",
    "fig.show()"
   ]
  },
  {
   "cell_type": "code",
   "execution_count": 89,
   "metadata": {},
   "outputs": [
    {
     "data": {
      "text/html": [
       "<div>\n",
       "<style scoped>\n",
       "    .dataframe tbody tr th:only-of-type {\n",
       "        vertical-align: middle;\n",
       "    }\n",
       "\n",
       "    .dataframe tbody tr th {\n",
       "        vertical-align: top;\n",
       "    }\n",
       "\n",
       "    .dataframe thead th {\n",
       "        text-align: right;\n",
       "    }\n",
       "</style>\n",
       "<table border=\"1\" class=\"dataframe\">\n",
       "  <thead>\n",
       "    <tr style=\"text-align: right;\">\n",
       "      <th></th>\n",
       "      <th>State</th>\n",
       "      <th>Year</th>\n",
       "      <th>Year Code</th>\n",
       "      <th>ICD-10 113 Cause List</th>\n",
       "      <th>ICD-10 113 Cause List Code</th>\n",
       "      <th>Deaths</th>\n",
       "      <th>Population</th>\n",
       "      <th>Crude Rate</th>\n",
       "      <th>Crude Rate Lower 95% Confidence Interval</th>\n",
       "      <th>Crude Rate Upper 95% Confidence Interval</th>\n",
       "      <th>Rate</th>\n",
       "      <th>fips</th>\n",
       "      <th>State_Abv</th>\n",
       "    </tr>\n",
       "  </thead>\n",
       "  <tbody>\n",
       "    <tr>\n",
       "      <th>5013</th>\n",
       "      <td>West Virginia</td>\n",
       "      <td>2019</td>\n",
       "      <td>2019.0</td>\n",
       "      <td>#Malignant neoplasms (C00-C97)</td>\n",
       "      <td>GR113-019</td>\n",
       "      <td>4604.0</td>\n",
       "      <td>1792147.0</td>\n",
       "      <td>256.9</td>\n",
       "      <td>249.5</td>\n",
       "      <td>264.3</td>\n",
       "      <td>256.90</td>\n",
       "      <td>54</td>\n",
       "      <td>WV</td>\n",
       "    </tr>\n",
       "    <tr>\n",
       "      <th>1983</th>\n",
       "      <td>Maine</td>\n",
       "      <td>2019</td>\n",
       "      <td>2019.0</td>\n",
       "      <td>#Malignant neoplasms (C00-C97)</td>\n",
       "      <td>GR113-019</td>\n",
       "      <td>3413.0</td>\n",
       "      <td>1344212.0</td>\n",
       "      <td>253.9</td>\n",
       "      <td>245.4</td>\n",
       "      <td>262.4</td>\n",
       "      <td>253.90</td>\n",
       "      <td>23</td>\n",
       "      <td>ME</td>\n",
       "    </tr>\n",
       "    <tr>\n",
       "      <th>1769</th>\n",
       "      <td>Kentucky</td>\n",
       "      <td>2019</td>\n",
       "      <td>2019.0</td>\n",
       "      <td>#Malignant neoplasms (C00-C97)</td>\n",
       "      <td>GR113-019</td>\n",
       "      <td>9975.0</td>\n",
       "      <td>4467673.0</td>\n",
       "      <td>223.3</td>\n",
       "      <td>218.9</td>\n",
       "      <td>227.7</td>\n",
       "      <td>223.27</td>\n",
       "      <td>21</td>\n",
       "      <td>KY</td>\n",
       "    </tr>\n",
       "    <tr>\n",
       "      <th>2512</th>\n",
       "      <td>Mississippi</td>\n",
       "      <td>2019</td>\n",
       "      <td>2019.0</td>\n",
       "      <td>#Malignant neoplasms (C00-C97)</td>\n",
       "      <td>GR113-019</td>\n",
       "      <td>6587.0</td>\n",
       "      <td>2976149.0</td>\n",
       "      <td>221.3</td>\n",
       "      <td>216.0</td>\n",
       "      <td>226.7</td>\n",
       "      <td>221.33</td>\n",
       "      <td>28</td>\n",
       "      <td>MS</td>\n",
       "    </tr>\n",
       "    <tr>\n",
       "      <th>4702</th>\n",
       "      <td>Vermont</td>\n",
       "      <td>2019</td>\n",
       "      <td>2019.0</td>\n",
       "      <td>#Malignant neoplasms (C00-C97)</td>\n",
       "      <td>GR113-019</td>\n",
       "      <td>1378.0</td>\n",
       "      <td>623989.0</td>\n",
       "      <td>220.8</td>\n",
       "      <td>209.2</td>\n",
       "      <td>232.5</td>\n",
       "      <td>220.84</td>\n",
       "      <td>50</td>\n",
       "      <td>VT</td>\n",
       "    </tr>\n",
       "    <tr>\n",
       "      <th>3970</th>\n",
       "      <td>Pennsylvania</td>\n",
       "      <td>2019</td>\n",
       "      <td>2019.0</td>\n",
       "      <td>#Malignant neoplasms (C00-C97)</td>\n",
       "      <td>GR113-019</td>\n",
       "      <td>27746.0</td>\n",
       "      <td>12801989.0</td>\n",
       "      <td>216.7</td>\n",
       "      <td>214.2</td>\n",
       "      <td>219.3</td>\n",
       "      <td>216.73</td>\n",
       "      <td>42</td>\n",
       "      <td>PA</td>\n",
       "    </tr>\n",
       "    <tr>\n",
       "      <th>3643</th>\n",
       "      <td>Ohio</td>\n",
       "      <td>2019</td>\n",
       "      <td>2019.0</td>\n",
       "      <td>#Malignant neoplasms (C00-C97)</td>\n",
       "      <td>GR113-019</td>\n",
       "      <td>25170.0</td>\n",
       "      <td>11689100.0</td>\n",
       "      <td>215.3</td>\n",
       "      <td>212.7</td>\n",
       "      <td>218.0</td>\n",
       "      <td>215.33</td>\n",
       "      <td>39</td>\n",
       "      <td>OH</td>\n",
       "    </tr>\n",
       "    <tr>\n",
       "      <th>309</th>\n",
       "      <td>Arkansas</td>\n",
       "      <td>2019</td>\n",
       "      <td>2019.0</td>\n",
       "      <td>#Malignant neoplasms (C00-C97)</td>\n",
       "      <td>GR113-019</td>\n",
       "      <td>6482.0</td>\n",
       "      <td>3017804.0</td>\n",
       "      <td>214.8</td>\n",
       "      <td>209.6</td>\n",
       "      <td>220.0</td>\n",
       "      <td>214.79</td>\n",
       "      <td>05</td>\n",
       "      <td>AR</td>\n",
       "    </tr>\n",
       "    <tr>\n",
       "      <th>746</th>\n",
       "      <td>Delaware</td>\n",
       "      <td>2019</td>\n",
       "      <td>2019.0</td>\n",
       "      <td>#Malignant neoplasms (C00-C97)</td>\n",
       "      <td>GR113-019</td>\n",
       "      <td>2074.0</td>\n",
       "      <td>973764.0</td>\n",
       "      <td>213.0</td>\n",
       "      <td>203.8</td>\n",
       "      <td>222.2</td>\n",
       "      <td>212.99</td>\n",
       "      <td>10</td>\n",
       "      <td>DE</td>\n",
       "    </tr>\n",
       "    <tr>\n",
       "      <th>916</th>\n",
       "      <td>Florida</td>\n",
       "      <td>2019</td>\n",
       "      <td>2019.0</td>\n",
       "      <td>#Malignant neoplasms (C00-C97)</td>\n",
       "      <td>GR113-019</td>\n",
       "      <td>45583.0</td>\n",
       "      <td>21477737.0</td>\n",
       "      <td>212.2</td>\n",
       "      <td>210.3</td>\n",
       "      <td>214.2</td>\n",
       "      <td>212.23</td>\n",
       "      <td>12</td>\n",
       "      <td>FL</td>\n",
       "    </tr>\n",
       "    <tr>\n",
       "      <th>4372</th>\n",
       "      <td>Tennessee</td>\n",
       "      <td>2019</td>\n",
       "      <td>2019.0</td>\n",
       "      <td>#Malignant neoplasms (C00-C97)</td>\n",
       "      <td>GR113-019</td>\n",
       "      <td>14382.0</td>\n",
       "      <td>6829174.0</td>\n",
       "      <td>210.6</td>\n",
       "      <td>207.2</td>\n",
       "      <td>214.0</td>\n",
       "      <td>210.60</td>\n",
       "      <td>47</td>\n",
       "      <td>TN</td>\n",
       "    </tr>\n",
       "    <tr>\n",
       "      <th>3759</th>\n",
       "      <td>Oklahoma</td>\n",
       "      <td>2019</td>\n",
       "      <td>2019.0</td>\n",
       "      <td>#Malignant neoplasms (C00-C97)</td>\n",
       "      <td>GR113-019</td>\n",
       "      <td>8309.0</td>\n",
       "      <td>3956971.0</td>\n",
       "      <td>210.0</td>\n",
       "      <td>205.5</td>\n",
       "      <td>214.5</td>\n",
       "      <td>209.98</td>\n",
       "      <td>40</td>\n",
       "      <td>OK</td>\n",
       "    </tr>\n",
       "    <tr>\n",
       "      <th>2618</th>\n",
       "      <td>Missouri</td>\n",
       "      <td>2019</td>\n",
       "      <td>2019.0</td>\n",
       "      <td>#Malignant neoplasms (C00-C97)</td>\n",
       "      <td>GR113-019</td>\n",
       "      <td>12873.0</td>\n",
       "      <td>6137428.0</td>\n",
       "      <td>209.7</td>\n",
       "      <td>206.1</td>\n",
       "      <td>213.4</td>\n",
       "      <td>209.75</td>\n",
       "      <td>29</td>\n",
       "      <td>MO</td>\n",
       "    </tr>\n",
       "    <tr>\n",
       "      <th>2293</th>\n",
       "      <td>Michigan</td>\n",
       "      <td>2019</td>\n",
       "      <td>2019.0</td>\n",
       "      <td>#Malignant neoplasms (C00-C97)</td>\n",
       "      <td>GR113-019</td>\n",
       "      <td>20923.0</td>\n",
       "      <td>9986857.0</td>\n",
       "      <td>209.5</td>\n",
       "      <td>206.7</td>\n",
       "      <td>212.3</td>\n",
       "      <td>209.51</td>\n",
       "      <td>26</td>\n",
       "      <td>MI</td>\n",
       "    </tr>\n",
       "    <tr>\n",
       "      <th>6</th>\n",
       "      <td>Alabama</td>\n",
       "      <td>2019</td>\n",
       "      <td>2019.0</td>\n",
       "      <td>#Malignant neoplasms (C00-C97)</td>\n",
       "      <td>GR113-019</td>\n",
       "      <td>10266.0</td>\n",
       "      <td>4903185.0</td>\n",
       "      <td>209.4</td>\n",
       "      <td>205.3</td>\n",
       "      <td>213.4</td>\n",
       "      <td>209.37</td>\n",
       "      <td>01</td>\n",
       "      <td>AL</td>\n",
       "    </tr>\n",
       "    <tr>\n",
       "      <th>4084</th>\n",
       "      <td>Rhode Island</td>\n",
       "      <td>2019</td>\n",
       "      <td>2019.0</td>\n",
       "      <td>#Malignant neoplasms (C00-C97)</td>\n",
       "      <td>GR113-019</td>\n",
       "      <td>2210.0</td>\n",
       "      <td>1059361.0</td>\n",
       "      <td>208.6</td>\n",
       "      <td>199.9</td>\n",
       "      <td>217.3</td>\n",
       "      <td>208.62</td>\n",
       "      <td>44</td>\n",
       "      <td>RI</td>\n",
       "    </tr>\n",
       "    <tr>\n",
       "      <th>3018</th>\n",
       "      <td>New Hampshire</td>\n",
       "      <td>2019</td>\n",
       "      <td>2019.0</td>\n",
       "      <td>#Malignant neoplasms (C00-C97)</td>\n",
       "      <td>GR113-019</td>\n",
       "      <td>2819.0</td>\n",
       "      <td>1359711.0</td>\n",
       "      <td>207.3</td>\n",
       "      <td>199.7</td>\n",
       "      <td>215.0</td>\n",
       "      <td>207.32</td>\n",
       "      <td>33</td>\n",
       "      <td>NH</td>\n",
       "    </tr>\n",
       "    <tr>\n",
       "      <th>1877</th>\n",
       "      <td>Louisiana</td>\n",
       "      <td>2019</td>\n",
       "      <td>2019.0</td>\n",
       "      <td>#Malignant neoplasms (C00-C97)</td>\n",
       "      <td>GR113-019</td>\n",
       "      <td>9485.0</td>\n",
       "      <td>4648794.0</td>\n",
       "      <td>204.0</td>\n",
       "      <td>199.9</td>\n",
       "      <td>208.1</td>\n",
       "      <td>204.03</td>\n",
       "      <td>22</td>\n",
       "      <td>LA</td>\n",
       "    </tr>\n",
       "    <tr>\n",
       "      <th>4176</th>\n",
       "      <td>South Carolina</td>\n",
       "      <td>2019</td>\n",
       "      <td>2019.0</td>\n",
       "      <td>#Malignant neoplasms (C00-C97)</td>\n",
       "      <td>GR113-019</td>\n",
       "      <td>10487.0</td>\n",
       "      <td>5148714.0</td>\n",
       "      <td>203.7</td>\n",
       "      <td>199.8</td>\n",
       "      <td>207.6</td>\n",
       "      <td>203.68</td>\n",
       "      <td>45</td>\n",
       "      <td>SC</td>\n",
       "    </tr>\n",
       "    <tr>\n",
       "      <th>1564</th>\n",
       "      <td>Iowa</td>\n",
       "      <td>2019</td>\n",
       "      <td>2019.0</td>\n",
       "      <td>#Malignant neoplasms (C00-C97)</td>\n",
       "      <td>GR113-019</td>\n",
       "      <td>6335.0</td>\n",
       "      <td>3155070.0</td>\n",
       "      <td>200.8</td>\n",
       "      <td>195.8</td>\n",
       "      <td>205.7</td>\n",
       "      <td>200.79</td>\n",
       "      <td>19</td>\n",
       "      <td>IA</td>\n",
       "    </tr>\n",
       "    <tr>\n",
       "      <th>1452</th>\n",
       "      <td>Indiana</td>\n",
       "      <td>2019</td>\n",
       "      <td>2019.0</td>\n",
       "      <td>#Malignant neoplasms (C00-C97)</td>\n",
       "      <td>GR113-019</td>\n",
       "      <td>13515.0</td>\n",
       "      <td>6732219.0</td>\n",
       "      <td>200.8</td>\n",
       "      <td>197.4</td>\n",
       "      <td>204.1</td>\n",
       "      <td>200.75</td>\n",
       "      <td>18</td>\n",
       "      <td>IN</td>\n",
       "    </tr>\n",
       "    <tr>\n",
       "      <th>5113</th>\n",
       "      <td>Wisconsin</td>\n",
       "      <td>2019</td>\n",
       "      <td>2019.0</td>\n",
       "      <td>#Malignant neoplasms (C00-C97)</td>\n",
       "      <td>GR113-019</td>\n",
       "      <td>11505.0</td>\n",
       "      <td>5822434.0</td>\n",
       "      <td>197.6</td>\n",
       "      <td>194.0</td>\n",
       "      <td>201.2</td>\n",
       "      <td>197.60</td>\n",
       "      <td>55</td>\n",
       "      <td>WI</td>\n",
       "    </tr>\n",
       "    <tr>\n",
       "      <th>2727</th>\n",
       "      <td>Montana</td>\n",
       "      <td>2019</td>\n",
       "      <td>2019.0</td>\n",
       "      <td>#Malignant neoplasms (C00-C97)</td>\n",
       "      <td>GR113-019</td>\n",
       "      <td>2099.0</td>\n",
       "      <td>1068778.0</td>\n",
       "      <td>196.4</td>\n",
       "      <td>188.0</td>\n",
       "      <td>204.8</td>\n",
       "      <td>196.39</td>\n",
       "      <td>30</td>\n",
       "      <td>MT</td>\n",
       "    </tr>\n",
       "    <tr>\n",
       "      <th>4280</th>\n",
       "      <td>South Dakota</td>\n",
       "      <td>2019</td>\n",
       "      <td>2019.0</td>\n",
       "      <td>#Malignant neoplasms (C00-C97)</td>\n",
       "      <td>GR113-019</td>\n",
       "      <td>1737.0</td>\n",
       "      <td>884659.0</td>\n",
       "      <td>196.3</td>\n",
       "      <td>187.1</td>\n",
       "      <td>205.6</td>\n",
       "      <td>196.35</td>\n",
       "      <td>46</td>\n",
       "      <td>SD</td>\n",
       "    </tr>\n",
       "    <tr>\n",
       "      <th>1665</th>\n",
       "      <td>Kansas</td>\n",
       "      <td>2019</td>\n",
       "      <td>2019.0</td>\n",
       "      <td>#Malignant neoplasms (C00-C97)</td>\n",
       "      <td>GR113-019</td>\n",
       "      <td>5619.0</td>\n",
       "      <td>2913314.0</td>\n",
       "      <td>192.9</td>\n",
       "      <td>187.8</td>\n",
       "      <td>197.9</td>\n",
       "      <td>192.87</td>\n",
       "      <td>20</td>\n",
       "      <td>KS</td>\n",
       "    </tr>\n",
       "    <tr>\n",
       "      <th>3863</th>\n",
       "      <td>Oregon</td>\n",
       "      <td>2019</td>\n",
       "      <td>2019.0</td>\n",
       "      <td>#Malignant neoplasms (C00-C97)</td>\n",
       "      <td>GR113-019</td>\n",
       "      <td>8080.0</td>\n",
       "      <td>4217737.0</td>\n",
       "      <td>191.6</td>\n",
       "      <td>187.4</td>\n",
       "      <td>195.7</td>\n",
       "      <td>191.57</td>\n",
       "      <td>41</td>\n",
       "      <td>OR</td>\n",
       "    </tr>\n",
       "    <tr>\n",
       "      <th>3443</th>\n",
       "      <td>North Carolina</td>\n",
       "      <td>2019</td>\n",
       "      <td>2019.0</td>\n",
       "      <td>#Malignant neoplasms (C00-C97)</td>\n",
       "      <td>GR113-019</td>\n",
       "      <td>19951.0</td>\n",
       "      <td>10488084.0</td>\n",
       "      <td>190.2</td>\n",
       "      <td>187.6</td>\n",
       "      <td>192.9</td>\n",
       "      <td>190.23</td>\n",
       "      <td>37</td>\n",
       "      <td>NC</td>\n",
       "    </tr>\n",
       "    <tr>\n",
       "      <th>1338</th>\n",
       "      <td>Illinois</td>\n",
       "      <td>2019</td>\n",
       "      <td>2019.0</td>\n",
       "      <td>#Malignant neoplasms (C00-C97)</td>\n",
       "      <td>GR113-019</td>\n",
       "      <td>23902.0</td>\n",
       "      <td>12671821.0</td>\n",
       "      <td>188.6</td>\n",
       "      <td>186.2</td>\n",
       "      <td>191.0</td>\n",
       "      <td>188.62</td>\n",
       "      <td>17</td>\n",
       "      <td>IL</td>\n",
       "    </tr>\n",
       "    <tr>\n",
       "      <th>2187</th>\n",
       "      <td>Massachusetts</td>\n",
       "      <td>2019</td>\n",
       "      <td>2019.0</td>\n",
       "      <td>#Malignant neoplasms (C00-C97)</td>\n",
       "      <td>GR113-019</td>\n",
       "      <td>12582.0</td>\n",
       "      <td>6892503.0</td>\n",
       "      <td>182.5</td>\n",
       "      <td>179.4</td>\n",
       "      <td>185.7</td>\n",
       "      <td>182.55</td>\n",
       "      <td>25</td>\n",
       "      <td>MA</td>\n",
       "    </tr>\n",
       "    <tr>\n",
       "      <th>645</th>\n",
       "      <td>Connecticut</td>\n",
       "      <td>2019</td>\n",
       "      <td>2019.0</td>\n",
       "      <td>#Malignant neoplasms (C00-C97)</td>\n",
       "      <td>GR113-019</td>\n",
       "      <td>6496.0</td>\n",
       "      <td>3565287.0</td>\n",
       "      <td>182.2</td>\n",
       "      <td>177.8</td>\n",
       "      <td>186.6</td>\n",
       "      <td>182.20</td>\n",
       "      <td>09</td>\n",
       "      <td>CT</td>\n",
       "    </tr>\n",
       "    <tr>\n",
       "      <th>2821</th>\n",
       "      <td>Nebraska</td>\n",
       "      <td>2019</td>\n",
       "      <td>2019.0</td>\n",
       "      <td>#Malignant neoplasms (C00-C97)</td>\n",
       "      <td>GR113-019</td>\n",
       "      <td>3482.0</td>\n",
       "      <td>1934408.0</td>\n",
       "      <td>180.0</td>\n",
       "      <td>174.0</td>\n",
       "      <td>186.0</td>\n",
       "      <td>180.00</td>\n",
       "      <td>31</td>\n",
       "      <td>NE</td>\n",
       "    </tr>\n",
       "    <tr>\n",
       "      <th>2403</th>\n",
       "      <td>Minnesota</td>\n",
       "      <td>2019</td>\n",
       "      <td>2019.0</td>\n",
       "      <td>#Malignant neoplasms (C00-C97)</td>\n",
       "      <td>GR113-019</td>\n",
       "      <td>10042.0</td>\n",
       "      <td>5639632.0</td>\n",
       "      <td>178.1</td>\n",
       "      <td>174.6</td>\n",
       "      <td>181.5</td>\n",
       "      <td>178.06</td>\n",
       "      <td>27</td>\n",
       "      <td>MN</td>\n",
       "    </tr>\n",
       "    <tr>\n",
       "      <th>2078</th>\n",
       "      <td>Maryland</td>\n",
       "      <td>2019</td>\n",
       "      <td>2019.0</td>\n",
       "      <td>#Malignant neoplasms (C00-C97)</td>\n",
       "      <td>GR113-019</td>\n",
       "      <td>10743.0</td>\n",
       "      <td>6045680.0</td>\n",
       "      <td>177.7</td>\n",
       "      <td>174.3</td>\n",
       "      <td>181.1</td>\n",
       "      <td>177.70</td>\n",
       "      <td>24</td>\n",
       "      <td>MD</td>\n",
       "    </tr>\n",
       "    <tr>\n",
       "      <th>3115</th>\n",
       "      <td>New Jersey</td>\n",
       "      <td>2019</td>\n",
       "      <td>2019.0</td>\n",
       "      <td>#Malignant neoplasms (C00-C97)</td>\n",
       "      <td>GR113-019</td>\n",
       "      <td>15698.0</td>\n",
       "      <td>8882190.0</td>\n",
       "      <td>176.7</td>\n",
       "      <td>174.0</td>\n",
       "      <td>179.5</td>\n",
       "      <td>176.74</td>\n",
       "      <td>34</td>\n",
       "      <td>NJ</td>\n",
       "    </tr>\n",
       "    <tr>\n",
       "      <th>1146</th>\n",
       "      <td>Hawaii</td>\n",
       "      <td>2019</td>\n",
       "      <td>2019.0</td>\n",
       "      <td>#Malignant neoplasms (C00-C97)</td>\n",
       "      <td>GR113-019</td>\n",
       "      <td>2500.0</td>\n",
       "      <td>1415872.0</td>\n",
       "      <td>176.6</td>\n",
       "      <td>169.6</td>\n",
       "      <td>183.5</td>\n",
       "      <td>176.57</td>\n",
       "      <td>15</td>\n",
       "      <td>HI</td>\n",
       "    </tr>\n",
       "    <tr>\n",
       "      <th>2918</th>\n",
       "      <td>Nevada</td>\n",
       "      <td>2019</td>\n",
       "      <td>2019.0</td>\n",
       "      <td>#Malignant neoplasms (C00-C97)</td>\n",
       "      <td>GR113-019</td>\n",
       "      <td>5434.0</td>\n",
       "      <td>3080156.0</td>\n",
       "      <td>176.4</td>\n",
       "      <td>171.7</td>\n",
       "      <td>181.1</td>\n",
       "      <td>176.42</td>\n",
       "      <td>32</td>\n",
       "      <td>NV</td>\n",
       "    </tr>\n",
       "    <tr>\n",
       "      <th>4788</th>\n",
       "      <td>Virginia</td>\n",
       "      <td>2019</td>\n",
       "      <td>2019.0</td>\n",
       "      <td>#Malignant neoplasms (C00-C97)</td>\n",
       "      <td>GR113-019</td>\n",
       "      <td>15045.0</td>\n",
       "      <td>8535519.0</td>\n",
       "      <td>176.3</td>\n",
       "      <td>173.4</td>\n",
       "      <td>179.1</td>\n",
       "      <td>176.26</td>\n",
       "      <td>51</td>\n",
       "      <td>VA</td>\n",
       "    </tr>\n",
       "    <tr>\n",
       "      <th>5222</th>\n",
       "      <td>Wyoming</td>\n",
       "      <td>2019</td>\n",
       "      <td>2019.0</td>\n",
       "      <td>#Malignant neoplasms (C00-C97)</td>\n",
       "      <td>GR113-019</td>\n",
       "      <td>1016.0</td>\n",
       "      <td>578759.0</td>\n",
       "      <td>175.5</td>\n",
       "      <td>164.8</td>\n",
       "      <td>186.3</td>\n",
       "      <td>175.55</td>\n",
       "      <td>56</td>\n",
       "      <td>WY</td>\n",
       "    </tr>\n",
       "    <tr>\n",
       "      <th>3326</th>\n",
       "      <td>New York</td>\n",
       "      <td>2019</td>\n",
       "      <td>2019.0</td>\n",
       "      <td>#Malignant neoplasms (C00-C97)</td>\n",
       "      <td>GR113-019</td>\n",
       "      <td>33655.0</td>\n",
       "      <td>19453561.0</td>\n",
       "      <td>173.0</td>\n",
       "      <td>171.2</td>\n",
       "      <td>174.9</td>\n",
       "      <td>173.00</td>\n",
       "      <td>36</td>\n",
       "      <td>NY</td>\n",
       "    </tr>\n",
       "    <tr>\n",
       "      <th>3555</th>\n",
       "      <td>North Dakota</td>\n",
       "      <td>2019</td>\n",
       "      <td>2019.0</td>\n",
       "      <td>#Malignant neoplasms (C00-C97)</td>\n",
       "      <td>GR113-019</td>\n",
       "      <td>1316.0</td>\n",
       "      <td>762062.0</td>\n",
       "      <td>172.7</td>\n",
       "      <td>163.4</td>\n",
       "      <td>182.0</td>\n",
       "      <td>172.69</td>\n",
       "      <td>38</td>\n",
       "      <td>ND</td>\n",
       "    </tr>\n",
       "    <tr>\n",
       "      <th>3223</th>\n",
       "      <td>New Mexico</td>\n",
       "      <td>2019</td>\n",
       "      <td>2019.0</td>\n",
       "      <td>#Malignant neoplasms (C00-C97)</td>\n",
       "      <td>GR113-019</td>\n",
       "      <td>3614.0</td>\n",
       "      <td>2096829.0</td>\n",
       "      <td>172.4</td>\n",
       "      <td>166.7</td>\n",
       "      <td>178.0</td>\n",
       "      <td>172.36</td>\n",
       "      <td>35</td>\n",
       "      <td>NM</td>\n",
       "    </tr>\n",
       "    <tr>\n",
       "      <th>198</th>\n",
       "      <td>Arizona</td>\n",
       "      <td>2019</td>\n",
       "      <td>2019.0</td>\n",
       "      <td>#Malignant neoplasms (C00-C97)</td>\n",
       "      <td>GR113-019</td>\n",
       "      <td>12503.0</td>\n",
       "      <td>7278717.0</td>\n",
       "      <td>171.8</td>\n",
       "      <td>168.8</td>\n",
       "      <td>174.8</td>\n",
       "      <td>171.77</td>\n",
       "      <td>04</td>\n",
       "      <td>AZ</td>\n",
       "    </tr>\n",
       "    <tr>\n",
       "      <th>4901</th>\n",
       "      <td>Washington</td>\n",
       "      <td>2019</td>\n",
       "      <td>2019.0</td>\n",
       "      <td>#Malignant neoplasms (C00-C97)</td>\n",
       "      <td>GR113-019</td>\n",
       "      <td>12960.0</td>\n",
       "      <td>7614893.0</td>\n",
       "      <td>170.2</td>\n",
       "      <td>167.3</td>\n",
       "      <td>173.1</td>\n",
       "      <td>170.19</td>\n",
       "      <td>53</td>\n",
       "      <td>WA</td>\n",
       "    </tr>\n",
       "    <tr>\n",
       "      <th>1035</th>\n",
       "      <td>Georgia</td>\n",
       "      <td>2019</td>\n",
       "      <td>2019.0</td>\n",
       "      <td>#Malignant neoplasms (C00-C97)</td>\n",
       "      <td>GR113-019</td>\n",
       "      <td>17756.0</td>\n",
       "      <td>10617423.0</td>\n",
       "      <td>167.2</td>\n",
       "      <td>164.8</td>\n",
       "      <td>169.7</td>\n",
       "      <td>167.23</td>\n",
       "      <td>13</td>\n",
       "      <td>GA</td>\n",
       "    </tr>\n",
       "    <tr>\n",
       "      <th>1239</th>\n",
       "      <td>Idaho</td>\n",
       "      <td>2019</td>\n",
       "      <td>2019.0</td>\n",
       "      <td>#Malignant neoplasms (C00-C97)</td>\n",
       "      <td>GR113-019</td>\n",
       "      <td>2928.0</td>\n",
       "      <td>1787065.0</td>\n",
       "      <td>163.8</td>\n",
       "      <td>157.9</td>\n",
       "      <td>169.8</td>\n",
       "      <td>163.84</td>\n",
       "      <td>16</td>\n",
       "      <td>ID</td>\n",
       "    </tr>\n",
       "    <tr>\n",
       "      <th>418</th>\n",
       "      <td>California</td>\n",
       "      <td>2019</td>\n",
       "      <td>2019.0</td>\n",
       "      <td>#Malignant neoplasms (C00-C97)</td>\n",
       "      <td>GR113-019</td>\n",
       "      <td>59512.0</td>\n",
       "      <td>39512223.0</td>\n",
       "      <td>150.6</td>\n",
       "      <td>149.4</td>\n",
       "      <td>151.8</td>\n",
       "      <td>150.62</td>\n",
       "      <td>06</td>\n",
       "      <td>CA</td>\n",
       "    </tr>\n",
       "    <tr>\n",
       "      <th>833</th>\n",
       "      <td>District of Columbia</td>\n",
       "      <td>2019</td>\n",
       "      <td>2019.0</td>\n",
       "      <td>#Malignant neoplasms (C00-C97)</td>\n",
       "      <td>GR113-019</td>\n",
       "      <td>1025.0</td>\n",
       "      <td>705749.0</td>\n",
       "      <td>145.2</td>\n",
       "      <td>136.3</td>\n",
       "      <td>154.1</td>\n",
       "      <td>145.24</td>\n",
       "      <td>11</td>\n",
       "      <td>DC</td>\n",
       "    </tr>\n",
       "    <tr>\n",
       "      <th>4488</th>\n",
       "      <td>Texas</td>\n",
       "      <td>2019</td>\n",
       "      <td>2019.0</td>\n",
       "      <td>#Malignant neoplasms (C00-C97)</td>\n",
       "      <td>GR113-019</td>\n",
       "      <td>41489.0</td>\n",
       "      <td>28995881.0</td>\n",
       "      <td>143.1</td>\n",
       "      <td>141.7</td>\n",
       "      <td>144.5</td>\n",
       "      <td>143.09</td>\n",
       "      <td>48</td>\n",
       "      <td>TX</td>\n",
       "    </tr>\n",
       "    <tr>\n",
       "      <th>114</th>\n",
       "      <td>Alaska</td>\n",
       "      <td>2019</td>\n",
       "      <td>2019.0</td>\n",
       "      <td>#Malignant neoplasms (C00-C97)</td>\n",
       "      <td>GR113-019</td>\n",
       "      <td>1021.0</td>\n",
       "      <td>731545.0</td>\n",
       "      <td>139.6</td>\n",
       "      <td>131.0</td>\n",
       "      <td>148.1</td>\n",
       "      <td>139.57</td>\n",
       "      <td>02</td>\n",
       "      <td>AK</td>\n",
       "    </tr>\n",
       "    <tr>\n",
       "      <th>537</th>\n",
       "      <td>Colorado</td>\n",
       "      <td>2019</td>\n",
       "      <td>2019.0</td>\n",
       "      <td>#Malignant neoplasms (C00-C97)</td>\n",
       "      <td>GR113-019</td>\n",
       "      <td>7986.0</td>\n",
       "      <td>5758736.0</td>\n",
       "      <td>138.7</td>\n",
       "      <td>135.6</td>\n",
       "      <td>141.7</td>\n",
       "      <td>138.68</td>\n",
       "      <td>08</td>\n",
       "      <td>CO</td>\n",
       "    </tr>\n",
       "    <tr>\n",
       "      <th>4605</th>\n",
       "      <td>Utah</td>\n",
       "      <td>2019</td>\n",
       "      <td>2019.0</td>\n",
       "      <td>#Malignant neoplasms (C00-C97)</td>\n",
       "      <td>GR113-019</td>\n",
       "      <td>3289.0</td>\n",
       "      <td>3205958.0</td>\n",
       "      <td>102.6</td>\n",
       "      <td>99.1</td>\n",
       "      <td>106.1</td>\n",
       "      <td>102.59</td>\n",
       "      <td>49</td>\n",
       "      <td>UT</td>\n",
       "    </tr>\n",
       "  </tbody>\n",
       "</table>\n",
       "</div>"
      ],
      "text/plain": [
       "                     State  Year  Year Code           ICD-10 113 Cause List  \\\n",
       "5013         West Virginia  2019     2019.0  #Malignant neoplasms (C00-C97)   \n",
       "1983                 Maine  2019     2019.0  #Malignant neoplasms (C00-C97)   \n",
       "1769              Kentucky  2019     2019.0  #Malignant neoplasms (C00-C97)   \n",
       "2512           Mississippi  2019     2019.0  #Malignant neoplasms (C00-C97)   \n",
       "4702               Vermont  2019     2019.0  #Malignant neoplasms (C00-C97)   \n",
       "3970          Pennsylvania  2019     2019.0  #Malignant neoplasms (C00-C97)   \n",
       "3643                  Ohio  2019     2019.0  #Malignant neoplasms (C00-C97)   \n",
       "309               Arkansas  2019     2019.0  #Malignant neoplasms (C00-C97)   \n",
       "746               Delaware  2019     2019.0  #Malignant neoplasms (C00-C97)   \n",
       "916                Florida  2019     2019.0  #Malignant neoplasms (C00-C97)   \n",
       "4372             Tennessee  2019     2019.0  #Malignant neoplasms (C00-C97)   \n",
       "3759              Oklahoma  2019     2019.0  #Malignant neoplasms (C00-C97)   \n",
       "2618              Missouri  2019     2019.0  #Malignant neoplasms (C00-C97)   \n",
       "2293              Michigan  2019     2019.0  #Malignant neoplasms (C00-C97)   \n",
       "6                  Alabama  2019     2019.0  #Malignant neoplasms (C00-C97)   \n",
       "4084          Rhode Island  2019     2019.0  #Malignant neoplasms (C00-C97)   \n",
       "3018         New Hampshire  2019     2019.0  #Malignant neoplasms (C00-C97)   \n",
       "1877             Louisiana  2019     2019.0  #Malignant neoplasms (C00-C97)   \n",
       "4176        South Carolina  2019     2019.0  #Malignant neoplasms (C00-C97)   \n",
       "1564                  Iowa  2019     2019.0  #Malignant neoplasms (C00-C97)   \n",
       "1452               Indiana  2019     2019.0  #Malignant neoplasms (C00-C97)   \n",
       "5113             Wisconsin  2019     2019.0  #Malignant neoplasms (C00-C97)   \n",
       "2727               Montana  2019     2019.0  #Malignant neoplasms (C00-C97)   \n",
       "4280          South Dakota  2019     2019.0  #Malignant neoplasms (C00-C97)   \n",
       "1665                Kansas  2019     2019.0  #Malignant neoplasms (C00-C97)   \n",
       "3863                Oregon  2019     2019.0  #Malignant neoplasms (C00-C97)   \n",
       "3443        North Carolina  2019     2019.0  #Malignant neoplasms (C00-C97)   \n",
       "1338              Illinois  2019     2019.0  #Malignant neoplasms (C00-C97)   \n",
       "2187         Massachusetts  2019     2019.0  #Malignant neoplasms (C00-C97)   \n",
       "645            Connecticut  2019     2019.0  #Malignant neoplasms (C00-C97)   \n",
       "2821              Nebraska  2019     2019.0  #Malignant neoplasms (C00-C97)   \n",
       "2403             Minnesota  2019     2019.0  #Malignant neoplasms (C00-C97)   \n",
       "2078              Maryland  2019     2019.0  #Malignant neoplasms (C00-C97)   \n",
       "3115            New Jersey  2019     2019.0  #Malignant neoplasms (C00-C97)   \n",
       "1146                Hawaii  2019     2019.0  #Malignant neoplasms (C00-C97)   \n",
       "2918                Nevada  2019     2019.0  #Malignant neoplasms (C00-C97)   \n",
       "4788              Virginia  2019     2019.0  #Malignant neoplasms (C00-C97)   \n",
       "5222               Wyoming  2019     2019.0  #Malignant neoplasms (C00-C97)   \n",
       "3326              New York  2019     2019.0  #Malignant neoplasms (C00-C97)   \n",
       "3555          North Dakota  2019     2019.0  #Malignant neoplasms (C00-C97)   \n",
       "3223            New Mexico  2019     2019.0  #Malignant neoplasms (C00-C97)   \n",
       "198                Arizona  2019     2019.0  #Malignant neoplasms (C00-C97)   \n",
       "4901            Washington  2019     2019.0  #Malignant neoplasms (C00-C97)   \n",
       "1035               Georgia  2019     2019.0  #Malignant neoplasms (C00-C97)   \n",
       "1239                 Idaho  2019     2019.0  #Malignant neoplasms (C00-C97)   \n",
       "418             California  2019     2019.0  #Malignant neoplasms (C00-C97)   \n",
       "833   District of Columbia  2019     2019.0  #Malignant neoplasms (C00-C97)   \n",
       "4488                 Texas  2019     2019.0  #Malignant neoplasms (C00-C97)   \n",
       "114                 Alaska  2019     2019.0  #Malignant neoplasms (C00-C97)   \n",
       "537               Colorado  2019     2019.0  #Malignant neoplasms (C00-C97)   \n",
       "4605                  Utah  2019     2019.0  #Malignant neoplasms (C00-C97)   \n",
       "\n",
       "     ICD-10 113 Cause List Code   Deaths  Population Crude Rate  \\\n",
       "5013                  GR113-019   4604.0   1792147.0      256.9   \n",
       "1983                  GR113-019   3413.0   1344212.0      253.9   \n",
       "1769                  GR113-019   9975.0   4467673.0      223.3   \n",
       "2512                  GR113-019   6587.0   2976149.0      221.3   \n",
       "4702                  GR113-019   1378.0    623989.0      220.8   \n",
       "3970                  GR113-019  27746.0  12801989.0      216.7   \n",
       "3643                  GR113-019  25170.0  11689100.0      215.3   \n",
       "309                   GR113-019   6482.0   3017804.0      214.8   \n",
       "746                   GR113-019   2074.0    973764.0      213.0   \n",
       "916                   GR113-019  45583.0  21477737.0      212.2   \n",
       "4372                  GR113-019  14382.0   6829174.0      210.6   \n",
       "3759                  GR113-019   8309.0   3956971.0      210.0   \n",
       "2618                  GR113-019  12873.0   6137428.0      209.7   \n",
       "2293                  GR113-019  20923.0   9986857.0      209.5   \n",
       "6                     GR113-019  10266.0   4903185.0      209.4   \n",
       "4084                  GR113-019   2210.0   1059361.0      208.6   \n",
       "3018                  GR113-019   2819.0   1359711.0      207.3   \n",
       "1877                  GR113-019   9485.0   4648794.0      204.0   \n",
       "4176                  GR113-019  10487.0   5148714.0      203.7   \n",
       "1564                  GR113-019   6335.0   3155070.0      200.8   \n",
       "1452                  GR113-019  13515.0   6732219.0      200.8   \n",
       "5113                  GR113-019  11505.0   5822434.0      197.6   \n",
       "2727                  GR113-019   2099.0   1068778.0      196.4   \n",
       "4280                  GR113-019   1737.0    884659.0      196.3   \n",
       "1665                  GR113-019   5619.0   2913314.0      192.9   \n",
       "3863                  GR113-019   8080.0   4217737.0      191.6   \n",
       "3443                  GR113-019  19951.0  10488084.0      190.2   \n",
       "1338                  GR113-019  23902.0  12671821.0      188.6   \n",
       "2187                  GR113-019  12582.0   6892503.0      182.5   \n",
       "645                   GR113-019   6496.0   3565287.0      182.2   \n",
       "2821                  GR113-019   3482.0   1934408.0      180.0   \n",
       "2403                  GR113-019  10042.0   5639632.0      178.1   \n",
       "2078                  GR113-019  10743.0   6045680.0      177.7   \n",
       "3115                  GR113-019  15698.0   8882190.0      176.7   \n",
       "1146                  GR113-019   2500.0   1415872.0      176.6   \n",
       "2918                  GR113-019   5434.0   3080156.0      176.4   \n",
       "4788                  GR113-019  15045.0   8535519.0      176.3   \n",
       "5222                  GR113-019   1016.0    578759.0      175.5   \n",
       "3326                  GR113-019  33655.0  19453561.0      173.0   \n",
       "3555                  GR113-019   1316.0    762062.0      172.7   \n",
       "3223                  GR113-019   3614.0   2096829.0      172.4   \n",
       "198                   GR113-019  12503.0   7278717.0      171.8   \n",
       "4901                  GR113-019  12960.0   7614893.0      170.2   \n",
       "1035                  GR113-019  17756.0  10617423.0      167.2   \n",
       "1239                  GR113-019   2928.0   1787065.0      163.8   \n",
       "418                   GR113-019  59512.0  39512223.0      150.6   \n",
       "833                   GR113-019   1025.0    705749.0      145.2   \n",
       "4488                  GR113-019  41489.0  28995881.0      143.1   \n",
       "114                   GR113-019   1021.0    731545.0      139.6   \n",
       "537                   GR113-019   7986.0   5758736.0      138.7   \n",
       "4605                  GR113-019   3289.0   3205958.0      102.6   \n",
       "\n",
       "      Crude Rate Lower 95% Confidence Interval  \\\n",
       "5013                                     249.5   \n",
       "1983                                     245.4   \n",
       "1769                                     218.9   \n",
       "2512                                     216.0   \n",
       "4702                                     209.2   \n",
       "3970                                     214.2   \n",
       "3643                                     212.7   \n",
       "309                                      209.6   \n",
       "746                                      203.8   \n",
       "916                                      210.3   \n",
       "4372                                     207.2   \n",
       "3759                                     205.5   \n",
       "2618                                     206.1   \n",
       "2293                                     206.7   \n",
       "6                                        205.3   \n",
       "4084                                     199.9   \n",
       "3018                                     199.7   \n",
       "1877                                     199.9   \n",
       "4176                                     199.8   \n",
       "1564                                     195.8   \n",
       "1452                                     197.4   \n",
       "5113                                     194.0   \n",
       "2727                                     188.0   \n",
       "4280                                     187.1   \n",
       "1665                                     187.8   \n",
       "3863                                     187.4   \n",
       "3443                                     187.6   \n",
       "1338                                     186.2   \n",
       "2187                                     179.4   \n",
       "645                                      177.8   \n",
       "2821                                     174.0   \n",
       "2403                                     174.6   \n",
       "2078                                     174.3   \n",
       "3115                                     174.0   \n",
       "1146                                     169.6   \n",
       "2918                                     171.7   \n",
       "4788                                     173.4   \n",
       "5222                                     164.8   \n",
       "3326                                     171.2   \n",
       "3555                                     163.4   \n",
       "3223                                     166.7   \n",
       "198                                      168.8   \n",
       "4901                                     167.3   \n",
       "1035                                     164.8   \n",
       "1239                                     157.9   \n",
       "418                                      149.4   \n",
       "833                                      136.3   \n",
       "4488                                     141.7   \n",
       "114                                      131.0   \n",
       "537                                      135.6   \n",
       "4605                                      99.1   \n",
       "\n",
       "      Crude Rate Upper 95% Confidence Interval    Rate fips State_Abv  \n",
       "5013                                     264.3  256.90   54        WV  \n",
       "1983                                     262.4  253.90   23        ME  \n",
       "1769                                     227.7  223.27   21        KY  \n",
       "2512                                     226.7  221.33   28        MS  \n",
       "4702                                     232.5  220.84   50        VT  \n",
       "3970                                     219.3  216.73   42        PA  \n",
       "3643                                     218.0  215.33   39        OH  \n",
       "309                                      220.0  214.79   05        AR  \n",
       "746                                      222.2  212.99   10        DE  \n",
       "916                                      214.2  212.23   12        FL  \n",
       "4372                                     214.0  210.60   47        TN  \n",
       "3759                                     214.5  209.98   40        OK  \n",
       "2618                                     213.4  209.75   29        MO  \n",
       "2293                                     212.3  209.51   26        MI  \n",
       "6                                        213.4  209.37   01        AL  \n",
       "4084                                     217.3  208.62   44        RI  \n",
       "3018                                     215.0  207.32   33        NH  \n",
       "1877                                     208.1  204.03   22        LA  \n",
       "4176                                     207.6  203.68   45        SC  \n",
       "1564                                     205.7  200.79   19        IA  \n",
       "1452                                     204.1  200.75   18        IN  \n",
       "5113                                     201.2  197.60   55        WI  \n",
       "2727                                     204.8  196.39   30        MT  \n",
       "4280                                     205.6  196.35   46        SD  \n",
       "1665                                     197.9  192.87   20        KS  \n",
       "3863                                     195.7  191.57   41        OR  \n",
       "3443                                     192.9  190.23   37        NC  \n",
       "1338                                     191.0  188.62   17        IL  \n",
       "2187                                     185.7  182.55   25        MA  \n",
       "645                                      186.6  182.20   09        CT  \n",
       "2821                                     186.0  180.00   31        NE  \n",
       "2403                                     181.5  178.06   27        MN  \n",
       "2078                                     181.1  177.70   24        MD  \n",
       "3115                                     179.5  176.74   34        NJ  \n",
       "1146                                     183.5  176.57   15        HI  \n",
       "2918                                     181.1  176.42   32        NV  \n",
       "4788                                     179.1  176.26   51        VA  \n",
       "5222                                     186.3  175.55   56        WY  \n",
       "3326                                     174.9  173.00   36        NY  \n",
       "3555                                     182.0  172.69   38        ND  \n",
       "3223                                     178.0  172.36   35        NM  \n",
       "198                                      174.8  171.77   04        AZ  \n",
       "4901                                     173.1  170.19   53        WA  \n",
       "1035                                     169.7  167.23   13        GA  \n",
       "1239                                     169.8  163.84   16        ID  \n",
       "418                                      151.8  150.62   06        CA  \n",
       "833                                      154.1  145.24   11        DC  \n",
       "4488                                     144.5  143.09   48        TX  \n",
       "114                                      148.1  139.57   02        AK  \n",
       "537                                      141.7  138.68   08        CO  \n",
       "4605                                     106.1  102.59   49        UT  "
      ]
     },
     "execution_count": 89,
     "metadata": {},
     "output_type": "execute_result"
    }
   ],
   "source": [
    "cancer"
   ]
  },
  {
   "cell_type": "code",
   "execution_count": null,
   "metadata": {},
   "outputs": [],
   "source": []
  },
  {
   "cell_type": "code",
   "execution_count": null,
   "metadata": {},
   "outputs": [],
   "source": []
  },
  {
   "cell_type": "code",
   "execution_count": null,
   "metadata": {},
   "outputs": [],
   "source": []
  }
 ],
 "metadata": {
  "kernelspec": {
   "display_name": "real-fast",
   "language": "python",
   "name": "python3"
  },
  "language_info": {
   "codemirror_mode": {
    "name": "ipython",
    "version": 3
   },
   "file_extension": ".py",
   "mimetype": "text/x-python",
   "name": "python",
   "nbconvert_exporter": "python",
   "pygments_lexer": "ipython3",
   "version": "3.8.4"
  },
  "orig_nbformat": 4
 },
 "nbformat": 4,
 "nbformat_minor": 2
}
