{
 "cells": [
  {
   "cell_type": "code",
   "execution_count": 1,
   "metadata": {},
   "outputs": [],
   "source": [
    "import sys\n",
    "sys.path.append(\"D:/StateOfStates/\")\n",
    "\n",
    "import pandas as pd\n",
    "import addfips\n",
    "import Partisian as Partisian\n",
    "import CauseOfDeathData\n",
    "from LifeData import LifeData\n",
    "import numpy as np\n",
    "import json\n",
    "import psycopg2\n",
    "import json\n",
    "import CauseOfDeathData\n",
    "import plotly.graph_objects as go\n",
    "import plotly.express as px\n",
    "import sqlalchemy\n",
    "from sqlalchemy import create_engine, text\n",
    "import GraphGenerator\n",
    "import CleanData"
   ]
  },
  {
   "cell_type": "code",
   "execution_count": 2,
   "metadata": {},
   "outputs": [
    {
     "data": {
      "application/vnd.plotly.v1+json": {
       "config": {
        "plotlyServerURL": "https://plot.ly"
       },
       "data": [
        {
         "boxpoints": "all",
         "hovertext": [
          "WV",
          "AR",
          "AL",
          "MS",
          "OK",
          "MI",
          "OH",
          "PA",
          "TN",
          "MO",
          "KY",
          "LA",
          "FL",
          "IA",
          "DE",
          "VT",
          "IN",
          "ME",
          "RI",
          "NV",
          "NY",
          "SC",
          "KS",
          "WI",
          "SD",
          "MT",
          "IL",
          "NJ",
          "MD",
          "CT",
          "NM",
          "NC",
          "ND",
          "NH",
          "HI",
          "NE",
          "GA",
          "OR",
          "VA",
          "WY",
          "AZ",
          "DC",
          "MA",
          "ID",
          "CA",
          "WA",
          "MN",
          "TX",
          "CO",
          "UT",
          "AK"
         ],
         "jitter": 0.3,
         "name": "Major cardiovascular diseases ",
         "pointpos": -1.8,
         "type": "box",
         "x": [
          372.29,
          358.64,
          358.26,
          353.75,
          339.78,
          328.31,
          326.14,
          322.53,
          316.13,
          310.26,
          308.64,
          307.15,
          305.46,
          304.59,
          289.8,
          287.51,
          287.22,
          286.64,
          285.83,
          281.74,
          278.71,
          277.56,
          274.26,
          273.06,
          270.84,
          270.5,
          269.3,
          268.08,
          263.79,
          261.89,
          258.53,
          254.36,
          254.18,
          254.17,
          251.93,
          244,
          243.27,
          242.71,
          238.15,
          237.23,
          233.09,
          228.41,
          224.23,
          222.1,
          220.52,
          212.86,
          211.02,
          209.73,
          182.38,
          158.3,
          155.42
         ]
        }
       ],
       "layout": {
        "autosize": false,
        "height": 200,
        "margin": {
         "b": 0,
         "l": 0,
         "pad": 0,
         "r": 0,
         "t": 0
        },
        "shapes": [
         {
          "line": {
           "color": "green",
           "dash": "dash",
           "width": 3
          },
          "type": "line",
          "x0": 358.26,
          "x1": 358.26,
          "xref": "x",
          "y0": 0,
          "y1": 1,
          "yref": "y domain"
         }
        ],
        "template": {
         "data": {
          "bar": [
           {
            "error_x": {
             "color": "#2a3f5f"
            },
            "error_y": {
             "color": "#2a3f5f"
            },
            "marker": {
             "line": {
              "color": "#E5ECF6",
              "width": 0.5
             },
             "pattern": {
              "fillmode": "overlay",
              "size": 10,
              "solidity": 0.2
             }
            },
            "type": "bar"
           }
          ],
          "barpolar": [
           {
            "marker": {
             "line": {
              "color": "#E5ECF6",
              "width": 0.5
             },
             "pattern": {
              "fillmode": "overlay",
              "size": 10,
              "solidity": 0.2
             }
            },
            "type": "barpolar"
           }
          ],
          "carpet": [
           {
            "aaxis": {
             "endlinecolor": "#2a3f5f",
             "gridcolor": "white",
             "linecolor": "white",
             "minorgridcolor": "white",
             "startlinecolor": "#2a3f5f"
            },
            "baxis": {
             "endlinecolor": "#2a3f5f",
             "gridcolor": "white",
             "linecolor": "white",
             "minorgridcolor": "white",
             "startlinecolor": "#2a3f5f"
            },
            "type": "carpet"
           }
          ],
          "choropleth": [
           {
            "colorbar": {
             "outlinewidth": 0,
             "ticks": ""
            },
            "type": "choropleth"
           }
          ],
          "contour": [
           {
            "colorbar": {
             "outlinewidth": 0,
             "ticks": ""
            },
            "colorscale": [
             [
              0,
              "#0d0887"
             ],
             [
              0.1111111111111111,
              "#46039f"
             ],
             [
              0.2222222222222222,
              "#7201a8"
             ],
             [
              0.3333333333333333,
              "#9c179e"
             ],
             [
              0.4444444444444444,
              "#bd3786"
             ],
             [
              0.5555555555555556,
              "#d8576b"
             ],
             [
              0.6666666666666666,
              "#ed7953"
             ],
             [
              0.7777777777777778,
              "#fb9f3a"
             ],
             [
              0.8888888888888888,
              "#fdca26"
             ],
             [
              1,
              "#f0f921"
             ]
            ],
            "type": "contour"
           }
          ],
          "contourcarpet": [
           {
            "colorbar": {
             "outlinewidth": 0,
             "ticks": ""
            },
            "type": "contourcarpet"
           }
          ],
          "heatmap": [
           {
            "colorbar": {
             "outlinewidth": 0,
             "ticks": ""
            },
            "colorscale": [
             [
              0,
              "#0d0887"
             ],
             [
              0.1111111111111111,
              "#46039f"
             ],
             [
              0.2222222222222222,
              "#7201a8"
             ],
             [
              0.3333333333333333,
              "#9c179e"
             ],
             [
              0.4444444444444444,
              "#bd3786"
             ],
             [
              0.5555555555555556,
              "#d8576b"
             ],
             [
              0.6666666666666666,
              "#ed7953"
             ],
             [
              0.7777777777777778,
              "#fb9f3a"
             ],
             [
              0.8888888888888888,
              "#fdca26"
             ],
             [
              1,
              "#f0f921"
             ]
            ],
            "type": "heatmap"
           }
          ],
          "heatmapgl": [
           {
            "colorbar": {
             "outlinewidth": 0,
             "ticks": ""
            },
            "colorscale": [
             [
              0,
              "#0d0887"
             ],
             [
              0.1111111111111111,
              "#46039f"
             ],
             [
              0.2222222222222222,
              "#7201a8"
             ],
             [
              0.3333333333333333,
              "#9c179e"
             ],
             [
              0.4444444444444444,
              "#bd3786"
             ],
             [
              0.5555555555555556,
              "#d8576b"
             ],
             [
              0.6666666666666666,
              "#ed7953"
             ],
             [
              0.7777777777777778,
              "#fb9f3a"
             ],
             [
              0.8888888888888888,
              "#fdca26"
             ],
             [
              1,
              "#f0f921"
             ]
            ],
            "type": "heatmapgl"
           }
          ],
          "histogram": [
           {
            "marker": {
             "pattern": {
              "fillmode": "overlay",
              "size": 10,
              "solidity": 0.2
             }
            },
            "type": "histogram"
           }
          ],
          "histogram2d": [
           {
            "colorbar": {
             "outlinewidth": 0,
             "ticks": ""
            },
            "colorscale": [
             [
              0,
              "#0d0887"
             ],
             [
              0.1111111111111111,
              "#46039f"
             ],
             [
              0.2222222222222222,
              "#7201a8"
             ],
             [
              0.3333333333333333,
              "#9c179e"
             ],
             [
              0.4444444444444444,
              "#bd3786"
             ],
             [
              0.5555555555555556,
              "#d8576b"
             ],
             [
              0.6666666666666666,
              "#ed7953"
             ],
             [
              0.7777777777777778,
              "#fb9f3a"
             ],
             [
              0.8888888888888888,
              "#fdca26"
             ],
             [
              1,
              "#f0f921"
             ]
            ],
            "type": "histogram2d"
           }
          ],
          "histogram2dcontour": [
           {
            "colorbar": {
             "outlinewidth": 0,
             "ticks": ""
            },
            "colorscale": [
             [
              0,
              "#0d0887"
             ],
             [
              0.1111111111111111,
              "#46039f"
             ],
             [
              0.2222222222222222,
              "#7201a8"
             ],
             [
              0.3333333333333333,
              "#9c179e"
             ],
             [
              0.4444444444444444,
              "#bd3786"
             ],
             [
              0.5555555555555556,
              "#d8576b"
             ],
             [
              0.6666666666666666,
              "#ed7953"
             ],
             [
              0.7777777777777778,
              "#fb9f3a"
             ],
             [
              0.8888888888888888,
              "#fdca26"
             ],
             [
              1,
              "#f0f921"
             ]
            ],
            "type": "histogram2dcontour"
           }
          ],
          "mesh3d": [
           {
            "colorbar": {
             "outlinewidth": 0,
             "ticks": ""
            },
            "type": "mesh3d"
           }
          ],
          "parcoords": [
           {
            "line": {
             "colorbar": {
              "outlinewidth": 0,
              "ticks": ""
             }
            },
            "type": "parcoords"
           }
          ],
          "pie": [
           {
            "automargin": true,
            "type": "pie"
           }
          ],
          "scatter": [
           {
            "marker": {
             "colorbar": {
              "outlinewidth": 0,
              "ticks": ""
             }
            },
            "type": "scatter"
           }
          ],
          "scatter3d": [
           {
            "line": {
             "colorbar": {
              "outlinewidth": 0,
              "ticks": ""
             }
            },
            "marker": {
             "colorbar": {
              "outlinewidth": 0,
              "ticks": ""
             }
            },
            "type": "scatter3d"
           }
          ],
          "scattercarpet": [
           {
            "marker": {
             "colorbar": {
              "outlinewidth": 0,
              "ticks": ""
             }
            },
            "type": "scattercarpet"
           }
          ],
          "scattergeo": [
           {
            "marker": {
             "colorbar": {
              "outlinewidth": 0,
              "ticks": ""
             }
            },
            "type": "scattergeo"
           }
          ],
          "scattergl": [
           {
            "marker": {
             "colorbar": {
              "outlinewidth": 0,
              "ticks": ""
             }
            },
            "type": "scattergl"
           }
          ],
          "scattermapbox": [
           {
            "marker": {
             "colorbar": {
              "outlinewidth": 0,
              "ticks": ""
             }
            },
            "type": "scattermapbox"
           }
          ],
          "scatterpolar": [
           {
            "marker": {
             "colorbar": {
              "outlinewidth": 0,
              "ticks": ""
             }
            },
            "type": "scatterpolar"
           }
          ],
          "scatterpolargl": [
           {
            "marker": {
             "colorbar": {
              "outlinewidth": 0,
              "ticks": ""
             }
            },
            "type": "scatterpolargl"
           }
          ],
          "scatterternary": [
           {
            "marker": {
             "colorbar": {
              "outlinewidth": 0,
              "ticks": ""
             }
            },
            "type": "scatterternary"
           }
          ],
          "surface": [
           {
            "colorbar": {
             "outlinewidth": 0,
             "ticks": ""
            },
            "colorscale": [
             [
              0,
              "#0d0887"
             ],
             [
              0.1111111111111111,
              "#46039f"
             ],
             [
              0.2222222222222222,
              "#7201a8"
             ],
             [
              0.3333333333333333,
              "#9c179e"
             ],
             [
              0.4444444444444444,
              "#bd3786"
             ],
             [
              0.5555555555555556,
              "#d8576b"
             ],
             [
              0.6666666666666666,
              "#ed7953"
             ],
             [
              0.7777777777777778,
              "#fb9f3a"
             ],
             [
              0.8888888888888888,
              "#fdca26"
             ],
             [
              1,
              "#f0f921"
             ]
            ],
            "type": "surface"
           }
          ],
          "table": [
           {
            "cells": {
             "fill": {
              "color": "#EBF0F8"
             },
             "line": {
              "color": "white"
             }
            },
            "header": {
             "fill": {
              "color": "#C8D4E3"
             },
             "line": {
              "color": "white"
             }
            },
            "type": "table"
           }
          ]
         },
         "layout": {
          "annotationdefaults": {
           "arrowcolor": "#2a3f5f",
           "arrowhead": 0,
           "arrowwidth": 1
          },
          "autotypenumbers": "strict",
          "coloraxis": {
           "colorbar": {
            "outlinewidth": 0,
            "ticks": ""
           }
          },
          "colorscale": {
           "diverging": [
            [
             0,
             "#8e0152"
            ],
            [
             0.1,
             "#c51b7d"
            ],
            [
             0.2,
             "#de77ae"
            ],
            [
             0.3,
             "#f1b6da"
            ],
            [
             0.4,
             "#fde0ef"
            ],
            [
             0.5,
             "#f7f7f7"
            ],
            [
             0.6,
             "#e6f5d0"
            ],
            [
             0.7,
             "#b8e186"
            ],
            [
             0.8,
             "#7fbc41"
            ],
            [
             0.9,
             "#4d9221"
            ],
            [
             1,
             "#276419"
            ]
           ],
           "sequential": [
            [
             0,
             "#0d0887"
            ],
            [
             0.1111111111111111,
             "#46039f"
            ],
            [
             0.2222222222222222,
             "#7201a8"
            ],
            [
             0.3333333333333333,
             "#9c179e"
            ],
            [
             0.4444444444444444,
             "#bd3786"
            ],
            [
             0.5555555555555556,
             "#d8576b"
            ],
            [
             0.6666666666666666,
             "#ed7953"
            ],
            [
             0.7777777777777778,
             "#fb9f3a"
            ],
            [
             0.8888888888888888,
             "#fdca26"
            ],
            [
             1,
             "#f0f921"
            ]
           ],
           "sequentialminus": [
            [
             0,
             "#0d0887"
            ],
            [
             0.1111111111111111,
             "#46039f"
            ],
            [
             0.2222222222222222,
             "#7201a8"
            ],
            [
             0.3333333333333333,
             "#9c179e"
            ],
            [
             0.4444444444444444,
             "#bd3786"
            ],
            [
             0.5555555555555556,
             "#d8576b"
            ],
            [
             0.6666666666666666,
             "#ed7953"
            ],
            [
             0.7777777777777778,
             "#fb9f3a"
            ],
            [
             0.8888888888888888,
             "#fdca26"
            ],
            [
             1,
             "#f0f921"
            ]
           ]
          },
          "colorway": [
           "#636efa",
           "#EF553B",
           "#00cc96",
           "#ab63fa",
           "#FFA15A",
           "#19d3f3",
           "#FF6692",
           "#B6E880",
           "#FF97FF",
           "#FECB52"
          ],
          "font": {
           "color": "#2a3f5f"
          },
          "geo": {
           "bgcolor": "white",
           "lakecolor": "white",
           "landcolor": "#E5ECF6",
           "showlakes": true,
           "showland": true,
           "subunitcolor": "white"
          },
          "hoverlabel": {
           "align": "left"
          },
          "hovermode": "closest",
          "mapbox": {
           "style": "light"
          },
          "paper_bgcolor": "white",
          "plot_bgcolor": "#E5ECF6",
          "polar": {
           "angularaxis": {
            "gridcolor": "white",
            "linecolor": "white",
            "ticks": ""
           },
           "bgcolor": "#E5ECF6",
           "radialaxis": {
            "gridcolor": "white",
            "linecolor": "white",
            "ticks": ""
           }
          },
          "scene": {
           "xaxis": {
            "backgroundcolor": "#E5ECF6",
            "gridcolor": "white",
            "gridwidth": 2,
            "linecolor": "white",
            "showbackground": true,
            "ticks": "",
            "zerolinecolor": "white"
           },
           "yaxis": {
            "backgroundcolor": "#E5ECF6",
            "gridcolor": "white",
            "gridwidth": 2,
            "linecolor": "white",
            "showbackground": true,
            "ticks": "",
            "zerolinecolor": "white"
           },
           "zaxis": {
            "backgroundcolor": "#E5ECF6",
            "gridcolor": "white",
            "gridwidth": 2,
            "linecolor": "white",
            "showbackground": true,
            "ticks": "",
            "zerolinecolor": "white"
           }
          },
          "shapedefaults": {
           "line": {
            "color": "#2a3f5f"
           }
          },
          "ternary": {
           "aaxis": {
            "gridcolor": "white",
            "linecolor": "white",
            "ticks": ""
           },
           "baxis": {
            "gridcolor": "white",
            "linecolor": "white",
            "ticks": ""
           },
           "bgcolor": "#E5ECF6",
           "caxis": {
            "gridcolor": "white",
            "linecolor": "white",
            "ticks": ""
           }
          },
          "title": {
           "x": 0.05
          },
          "xaxis": {
           "automargin": true,
           "gridcolor": "white",
           "linecolor": "white",
           "ticks": "",
           "title": {
            "standoff": 15
           },
           "zerolinecolor": "white",
           "zerolinewidth": 2
          },
          "yaxis": {
           "automargin": true,
           "gridcolor": "white",
           "linecolor": "white",
           "ticks": "",
           "title": {
            "standoff": 15
           },
           "zerolinecolor": "white",
           "zerolinewidth": 2
          }
         }
        },
        "width": 800
       }
      }
     },
     "metadata": {},
     "output_type": "display_data"
    }
   ],
   "source": [
    "GraphGenerator.nation_single_cod(state=\"Alabama\")"
   ]
  },
  {
   "cell_type": "code",
   "execution_count": null,
   "metadata": {},
   "outputs": [],
   "source": []
  },
  {
   "cell_type": "code",
   "execution_count": null,
   "metadata": {},
   "outputs": [],
   "source": []
  },
  {
   "cell_type": "code",
   "execution_count": null,
   "metadata": {},
   "outputs": [],
   "source": []
  },
  {
   "cell_type": "markdown",
   "metadata": {},
   "source": [
    "### Setup DB connection"
   ]
  },
  {
   "cell_type": "code",
   "execution_count": null,
   "metadata": {},
   "outputs": [],
   "source": [
    "def get_db_properties():\n",
    "    props = {}\n",
    "    separator = \"=\"\n",
    "            \n",
    "    with open(r\"C:\\Users\\zeusg\\OneDrive\\Documents\\Github\\habit_final\\database.properties\") as file:\n",
    "        for line in file: \n",
    "            if separator in line:\n",
    "                name, value = line.split(separator, 1)\n",
    "                props[name.strip()] = value.strip()\n",
    "    return props\n",
    "db_prop = get_db_properties()\n",
    "connection = psycopg2.connect(\n",
    "    host=db_prop[\"host\"],\n",
    "    user=db_prop[\"username\"],\n",
    "    password=db_prop[\"password\"],\n",
    "    database=\"StateOfStates\",\n",
    ")"
   ]
  },
  {
   "cell_type": "markdown",
   "metadata": {},
   "source": [
    "### Helper Dicts to convert states->abv->fips"
   ]
  },
  {
   "cell_type": "code",
   "execution_count": null,
   "metadata": {},
   "outputs": [],
   "source": [
    "states =  {'Alaska': 'AK','Alabama': 'AL','Arkansas': 'AR','American Samoa': 'AS','Arizona': 'AZ','California': 'CA','Colorado': 'CO','Connecticut': 'CT','District of Columbia': 'DC','Delaware': 'DE','Florida': 'FL','Georgia': 'GA','Guam': 'GU','Hawaii': 'HI','Iowa': 'IA','Idaho': 'ID','Illinois': 'IL','Indiana': 'IN','Kansas': 'KS','Kentucky': 'KY','Louisiana': 'LA','Massachusetts': 'MA','Maryland': 'MD','Maine': 'ME','Michigan': 'MI','Minnesota': 'MN','Missouri': 'MO','Northern Mariana Islands': 'MP','Mississippi': 'MS','Montana': 'MT','National': 'NA','North Carolina': 'NC','North Dakota': 'ND','Nebraska': 'NE','New Hampshire': 'NH','New Jersey': 'NJ','New Mexico': 'NM','Nevada': 'NV','New York': 'NY','Ohio': 'OH','Oklahoma': 'OK','Oregon': 'OR','Pennsylvania': 'PA','Puerto Rico': 'PR','Rhode Island': 'RI','South Carolina': 'SC','South Dakota': 'SD','Tennessee': 'TN','Texas': 'TX','Utah': 'UT','Virginia': 'VA','Virgin Islands': 'VI','Vermont': 'VT','Washington': 'WA','Wisconsin': 'WI','West Virginia': 'WV','Wyoming': 'WY'}\n",
    "states_abv = {v: k for k, v in states.items()}\n",
    "af = addfips.AddFIPS()\n"
   ]
  },
  {
   "cell_type": "markdown",
   "metadata": {},
   "source": [
    "### Load Partisian DF"
   ]
  },
  {
   "cell_type": "code",
   "execution_count": null,
   "metadata": {},
   "outputs": [],
   "source": [
    "#State Control\n",
    "partisian_df = Partisian.get_state_part_score_all()\n",
    "partisian_df = partisian_df.rename(columns={\"State\": \"State_Code\"})\n",
    "#State Names\n",
    "states_df = partisian_df[[\"STATE\", \"State_Code\", \"fips\"]].drop_duplicates().copy()\n",
    "states_df[\"level\"] = \"State\"\n",
    "states_df = states_df.rename(columns={\"STATE\": \"name\", \"State_Code\": \"acronym\"})\n",
    "states_df[\"parent\"] = 1\n",
    "states_df = states_df[[\"level\", \"name\", \"parent\", \"fips\", \"acronym\"]]\n",
    "#County Votes\n",
    "county_votes_df = Partisian.get_county_votes()\n",
    "## TODO - Clean up county votes\n",
    "\n",
    "\n"
   ]
  },
  {
   "cell_type": "code",
   "execution_count": null,
   "metadata": {},
   "outputs": [],
   "source": [
    "def insert_states(df):\n",
    "    cursor = connection.cursor()\n",
    "    for index, row in df.iterrows():\n",
    "        cursor.execute(\"INSERT INTO public.locations (level, name, parent, fips, acronym) \\\n",
    "                       VALUES (%s, %s, %s, %s, %s);\", \n",
    "                       (row[\"level\"], row[\"name\"], row[\"parent\"], row[\"fips\"], row[\"acronym\"]))\n",
    "    connection.commit()\n",
    "    cursor.close()\n",
    "    return \"success\"\n",
    "#insert_states(states_df)\n"
   ]
  },
  {
   "cell_type": "code",
   "execution_count": null,
   "metadata": {},
   "outputs": [],
   "source": [
    "def insert_partisian_control(df):\n",
    "    cursor = connection.cursor()\n",
    "    for index, row in df.iterrows():\n",
    "        cursor.execute(\"SELECT id FROM public.locations WHERE acronym = %s;\", (row[\"State_Code\"],))\n",
    "        locations_fk = cursor.fetchone()[0]\n",
    "        cursor.execute(\"INSERT INTO public.partisans (year, control_score, locations_id_fkey) \\\n",
    "            VALUES (%s, %s, %s);\", \n",
    "            (row[\"Year\"], row[\"Part_Score\"], locations_fk))\n",
    "    connection.commit()\n",
    "    cursor.close()\n",
    "    return \"success\"\n",
    "#insert_partisian_control(partisian_df)"
   ]
  },
  {
   "cell_type": "markdown",
   "metadata": {},
   "source": [
    "### Load ICD10 codes"
   ]
  },
  {
   "cell_type": "code",
   "execution_count": null,
   "metadata": {},
   "outputs": [],
   "source": [
    "icd10 = CauseOfDeathData.get_heirarchy_df().T.reset_index()\n",
    "icd10 = icd10.rename({\"index\": \"name\"}, axis=1)"
   ]
  },
  {
   "cell_type": "markdown",
   "metadata": {},
   "source": [
    "### Insert ICD10 and Hierarchy structure"
   ]
  },
  {
   "cell_type": "code",
   "execution_count": null,
   "metadata": {},
   "outputs": [],
   "source": [
    "def insert_inital_icd10(df):\n",
    "    cursor = connection.cursor()\n",
    "    for index, row in df.iterrows():\n",
    "        cursor.execute(\"INSERT INTO public.icd_10_codes (name, common_name) \\\n",
    "            VALUES (%s, %s);\", \n",
    "            (row[\"name\"], row[\"common_name\"]))\n",
    "    connection.commit()\n",
    "    cursor.close()\n",
    "    return \"success\"\n",
    "def add_icd10_hierarchy(df):\n",
    "    cursor = connection.cursor()\n",
    "    for index, row in df.iterrows():\n",
    "        if len(row[\"parents\"]) > 0:\n",
    "            cursor.execute(\"SELECT id FROM public.icd_10_codes WHERE name = %s;\", (row[\"parents\"][0],))\n",
    "            icd10_fk = cursor.fetchone()[0]\n",
    "            cursor.execute(\"UPDATE public.icd_10_codes SET parent = %s WHERE name = %s;\", \n",
    "                (icd10_fk, row[\"name\"]))\n",
    "    connection.commit()\n",
    "    cursor.close()\n",
    "    return \"success\"\n",
    "\n",
    "def add_icd10_codes(df):\n",
    "    cursor = connection.cursor()\n",
    "    for index, row in df.iterrows():\n",
    "        codes_json = json.dumps(row[\"ranges\"])\n",
    "        cursor.execute(\"UPDATE public.icd_10_codes SET codes = %s WHERE name = %s;\", \n",
    "            (codes_json, row[\"name\"]))\n",
    "    connection.commit()\n",
    "    cursor.close()\n",
    "    ## TODO - Cleaning needed when code spans chapters IE: A00-B99\n",
    "    return \"success\"\n",
    "    \n",
    "#insert_inital_icd10(icd10)\n",
    "#add_icd10_hierarchy(icd10)\n",
    "#add_icd10_codes(icd10)"
   ]
  },
  {
   "cell_type": "markdown",
   "metadata": {},
   "source": [
    "### Load Cause Of Death for all states"
   ]
  },
  {
   "cell_type": "code",
   "execution_count": null,
   "metadata": {},
   "outputs": [],
   "source": []
  },
  {
   "cell_type": "code",
   "execution_count": null,
   "metadata": {},
   "outputs": [],
   "source": [
    "def add_cod(df):\n",
    "    try:\n",
    "        cursor = connection.cursor()\n",
    "        for index, row in df.iterrows():\n",
    "            cursor.execute(\"SELECT id FROM public.locations WHERE name = %s;\", (row[\"State\"],))\n",
    "            state_id = cursor.fetchone()[0]\n",
    "            cursor.execute(\"SELECT id FROM public.icd_10_codes WHERE name = %s;\", (row[\"ICD-10 113 Cause List\"],))\n",
    "            icd10_id = cursor.fetchone()[0]\n",
    "            if row[\"Ten-Year Age Groups Code\"] == \"1\":\n",
    "                start_age = 0\n",
    "                end_age = 1\n",
    "            elif row[\"Ten-Year Age Groups Code\"] == \"85+\":\n",
    "                start_age = 85\n",
    "                end_age = 200\n",
    "            else:\n",
    "                start_age = int(row[\"Ten-Year Age Groups Code\"].split(\"-\")[0])\n",
    "                end_age = int(row[\"Ten-Year Age Groups Code\"].split(\"-\")[1])\n",
    "            unreliable = False\n",
    "            if row[\"Crude Rate\"] == \"Unreliable\":\n",
    "                unreliable = True\n",
    "            cursor.execute(\"INSERT INTO public.causes_of_death (rate, deaths, population, year, locations_id_fkey, icd_10_codes_id_fkey, start_age, end_age, unreliable) \\\n",
    "                VALUES (%s, %s, %s, %s, %s, %s, %s, %s, %s);\", \n",
    "                (row[\"Rate\"], row[\"Deaths\"], row[\"Population\"], row[\"year\"], state_id, icd10_id, start_age, end_age, unreliable))\n",
    "\n",
    "        connection.commit()\n",
    "    except Exception as e:\n",
    "        print(row[\"State\"])\n",
    "        print(e)\n",
    "    finally:\n",
    "        cursor.close()\n",
    "    return \"success\"\n"
   ]
  },
  {
   "cell_type": "code",
   "execution_count": null,
   "metadata": {},
   "outputs": [],
   "source": [
    "def add_all_cod():\n",
    "    years = range(1999, 2019)\n",
    "    for year in years:\n",
    "        df = CleanData.clean_state_cod(year)\n",
    "        df[\"year\"] = year\n",
    "        df = df[[\"Rate\", \"Deaths\", \"Population\",\"year\",\"ICD-10 113 Cause List\",\"State\",\"Ten-Year Age Groups Code\", \"Crude Rate\"]]\n",
    "        df = df[df[\"State\"] != \"District of Columbia\"]\n",
    "        add_cod(df)\n",
    "\n",
    "#add_all_cod()\n"
   ]
  },
  {
   "cell_type": "code",
   "execution_count": null,
   "metadata": {},
   "outputs": [],
   "source": []
  },
  {
   "cell_type": "code",
   "execution_count": null,
   "metadata": {},
   "outputs": [],
   "source": []
  },
  {
   "cell_type": "code",
   "execution_count": null,
   "metadata": {},
   "outputs": [],
   "source": []
  }
 ],
 "metadata": {
  "kernelspec": {
   "display_name": "real-fast",
   "language": "python",
   "name": "python3"
  },
  "language_info": {
   "codemirror_mode": {
    "name": "ipython",
    "version": 3
   },
   "file_extension": ".py",
   "mimetype": "text/x-python",
   "name": "python",
   "nbconvert_exporter": "python",
   "pygments_lexer": "ipython3",
   "version": "3.8.4"
  },
  "orig_nbformat": 4
 },
 "nbformat": 4,
 "nbformat_minor": 2
}
