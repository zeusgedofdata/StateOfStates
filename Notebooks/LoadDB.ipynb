{
 "cells": [
  {
   "cell_type": "code",
   "execution_count": 1,
   "metadata": {},
   "outputs": [],
   "source": [
    "import sys\n",
    "sys.path.append(\"D:/StateOfStates/\")\n",
    "\n",
    "import pandas as pd\n",
    "import addfips\n",
    "import Partisian as Partisian\n",
    "import CauseOfDeathData\n",
    "from LifeData import LifeData\n",
    "import numpy as np\n",
    "import json\n",
    "import psycopg2\n",
    "import json\n",
    "import CauseOfDeathData\n",
    "import plotly.graph_objects as go\n",
    "import plotly.express as px\n",
    "import sqlalchemy\n",
    "from sqlalchemy import create_engine, text\n",
    "import GraphGenerator\n",
    "import CleanData"
   ]
  },
  {
   "cell_type": "code",
   "execution_count": 2,
   "metadata": {},
   "outputs": [
    {
     "data": {
      "text/plain": [
       "Div(children=Graph(id='CauseOfDeathBoxPlot', figure=Figure({\n",
       "    'data': [{'boxpoints': 'all',\n",
       "              'hovertext': array(['WV', 'AR', 'AL', 'MS', 'OK', 'MI', 'OH', 'PA', 'TN', 'MO', 'KY', 'LA',\n",
       "                                  'FL', 'IA', 'DE', 'VT', 'IN', 'ME', 'RI', 'NV', 'NY', 'SC', 'KS', 'WI',\n",
       "                                  'SD', 'MT', 'IL', 'NJ', 'MD', 'CT', 'NM', 'NC', 'ND', 'NH', 'HI', 'NE',\n",
       "                                  'GA', 'OR', 'VA', 'WY', 'AZ', 'DC', 'MA', 'ID', 'CA', 'WA', 'MN', 'TX',\n",
       "                                  'CO', 'UT', 'AK'], dtype=object),\n",
       "              'jitter': 0.3,\n",
       "              'name': 'Major cardiovascular diseases ',\n",
       "              'pointpos': -1.8,\n",
       "              'type': 'box',\n",
       "              'x': array([372.29, 358.64, 358.26, 353.75, 339.78, 328.31, 326.14, 322.53, 316.13,\n",
       "                          310.26, 308.64, 307.15, 305.46, 304.59, 289.8 , 287.51, 287.22, 286.64,\n",
       "                          285.83, 281.74, 278.71, 277.56, 274.26, 273.06, 270.84, 270.5 , 269.3 ,\n",
       "                          268.08, 263.79, 261.89, 258.53, 254.36, 254.18, 254.17, 251.93, 244.  ,\n",
       "                          243.27, 242.71, 238.15, 237.23, 233.09, 228.41, 224.23, 222.1 , 220.52,\n",
       "                          212.86, 211.02, 209.73, 182.38, 158.3 , 155.42])}],\n",
       "    'layout': {'autosize': False,\n",
       "               'height': 200,\n",
       "               'margin': {'b': 0, 'l': 0, 'pad': 0, 'r': 0, 't': 0},\n",
       "               'shapes': [{'line': {'color': 'green', 'dash': 'dash', 'width': 3},\n",
       "                           'type': 'line',\n",
       "                           'x0': 328.31,\n",
       "                           'x1': 328.31,\n",
       "                           'xref': 'x',\n",
       "                           'y0': 0,\n",
       "                           'y1': 1,\n",
       "                           'yref': 'y domain'}],\n",
       "               'template': '...',\n",
       "               'width': 800}\n",
       "})), id='CauseOfDeathBoxPlot_parent', className='span6')"
      ]
     },
     "execution_count": 2,
     "metadata": {},
     "output_type": "execute_result"
    }
   ],
   "source": [
    "GraphGenerator.state_cod_tree_plot()"
   ]
  },
  {
   "cell_type": "code",
   "execution_count": null,
   "metadata": {},
   "outputs": [],
   "source": []
  },
  {
   "cell_type": "code",
   "execution_count": null,
   "metadata": {},
   "outputs": [],
   "source": []
  },
  {
   "cell_type": "code",
   "execution_count": null,
   "metadata": {},
   "outputs": [],
   "source": []
  },
  {
   "cell_type": "markdown",
   "metadata": {},
   "source": [
    "### Setup DB connection"
   ]
  },
  {
   "cell_type": "code",
   "execution_count": null,
   "metadata": {},
   "outputs": [],
   "source": [
    "def get_db_properties():\n",
    "    props = {}\n",
    "    separator = \"=\"\n",
    "            \n",
    "    with open(r\"C:\\Users\\zeusg\\OneDrive\\Documents\\Github\\habit_final\\database.properties\") as file:\n",
    "        for line in file: \n",
    "            if separator in line:\n",
    "                name, value = line.split(separator, 1)\n",
    "                props[name.strip()] = value.strip()\n",
    "    return props\n",
    "db_prop = get_db_properties()\n",
    "connection = psycopg2.connect(\n",
    "    host=db_prop[\"host\"],\n",
    "    user=db_prop[\"username\"],\n",
    "    password=db_prop[\"password\"],\n",
    "    database=\"StateOfStates\",\n",
    ")"
   ]
  },
  {
   "cell_type": "markdown",
   "metadata": {},
   "source": [
    "### Helper Dicts to convert states->abv->fips"
   ]
  },
  {
   "cell_type": "code",
   "execution_count": null,
   "metadata": {},
   "outputs": [],
   "source": [
    "states =  {'Alaska': 'AK','Alabama': 'AL','Arkansas': 'AR','American Samoa': 'AS','Arizona': 'AZ','California': 'CA','Colorado': 'CO','Connecticut': 'CT','District of Columbia': 'DC','Delaware': 'DE','Florida': 'FL','Georgia': 'GA','Guam': 'GU','Hawaii': 'HI','Iowa': 'IA','Idaho': 'ID','Illinois': 'IL','Indiana': 'IN','Kansas': 'KS','Kentucky': 'KY','Louisiana': 'LA','Massachusetts': 'MA','Maryland': 'MD','Maine': 'ME','Michigan': 'MI','Minnesota': 'MN','Missouri': 'MO','Northern Mariana Islands': 'MP','Mississippi': 'MS','Montana': 'MT','National': 'NA','North Carolina': 'NC','North Dakota': 'ND','Nebraska': 'NE','New Hampshire': 'NH','New Jersey': 'NJ','New Mexico': 'NM','Nevada': 'NV','New York': 'NY','Ohio': 'OH','Oklahoma': 'OK','Oregon': 'OR','Pennsylvania': 'PA','Puerto Rico': 'PR','Rhode Island': 'RI','South Carolina': 'SC','South Dakota': 'SD','Tennessee': 'TN','Texas': 'TX','Utah': 'UT','Virginia': 'VA','Virgin Islands': 'VI','Vermont': 'VT','Washington': 'WA','Wisconsin': 'WI','West Virginia': 'WV','Wyoming': 'WY'}\n",
    "states_abv = {v: k for k, v in states.items()}\n",
    "af = addfips.AddFIPS()\n"
   ]
  },
  {
   "cell_type": "markdown",
   "metadata": {},
   "source": [
    "### Load Partisian DF"
   ]
  },
  {
   "cell_type": "code",
   "execution_count": null,
   "metadata": {},
   "outputs": [],
   "source": [
    "#State Control\n",
    "partisian_df = Partisian.get_state_part_score_all()\n",
    "partisian_df = partisian_df.rename(columns={\"State\": \"State_Code\"})\n",
    "#State Names\n",
    "states_df = partisian_df[[\"STATE\", \"State_Code\", \"fips\"]].drop_duplicates().copy()\n",
    "states_df[\"level\"] = \"State\"\n",
    "states_df = states_df.rename(columns={\"STATE\": \"name\", \"State_Code\": \"acronym\"})\n",
    "states_df[\"parent\"] = 1\n",
    "states_df = states_df[[\"level\", \"name\", \"parent\", \"fips\", \"acronym\"]]\n",
    "#County Votes\n",
    "county_votes_df = Partisian.get_county_votes()\n",
    "## TODO - Clean up county votes\n",
    "\n",
    "\n"
   ]
  },
  {
   "cell_type": "code",
   "execution_count": null,
   "metadata": {},
   "outputs": [],
   "source": [
    "def insert_states(df):\n",
    "    cursor = connection.cursor()\n",
    "    for index, row in df.iterrows():\n",
    "        cursor.execute(\"INSERT INTO public.locations (level, name, parent, fips, acronym) \\\n",
    "                       VALUES (%s, %s, %s, %s, %s);\", \n",
    "                       (row[\"level\"], row[\"name\"], row[\"parent\"], row[\"fips\"], row[\"acronym\"]))\n",
    "    connection.commit()\n",
    "    cursor.close()\n",
    "    return \"success\"\n",
    "#insert_states(states_df)\n"
   ]
  },
  {
   "cell_type": "code",
   "execution_count": null,
   "metadata": {},
   "outputs": [],
   "source": [
    "def insert_partisian_control(df):\n",
    "    cursor = connection.cursor()\n",
    "    for index, row in df.iterrows():\n",
    "        cursor.execute(\"SELECT id FROM public.locations WHERE acronym = %s;\", (row[\"State_Code\"],))\n",
    "        locations_fk = cursor.fetchone()[0]\n",
    "        cursor.execute(\"INSERT INTO public.partisans (year, control_score, locations_id_fkey) \\\n",
    "            VALUES (%s, %s, %s);\", \n",
    "            (row[\"Year\"], row[\"Part_Score\"], locations_fk))\n",
    "    connection.commit()\n",
    "    cursor.close()\n",
    "    return \"success\"\n",
    "#insert_partisian_control(partisian_df)"
   ]
  },
  {
   "cell_type": "markdown",
   "metadata": {},
   "source": [
    "### Load ICD10 codes"
   ]
  },
  {
   "cell_type": "code",
   "execution_count": null,
   "metadata": {},
   "outputs": [],
   "source": [
    "icd10 = CauseOfDeathData.get_heirarchy_df().T.reset_index()\n",
    "icd10 = icd10.rename({\"index\": \"name\"}, axis=1)"
   ]
  },
  {
   "cell_type": "markdown",
   "metadata": {},
   "source": [
    "### Insert ICD10 and Hierarchy structure"
   ]
  },
  {
   "cell_type": "code",
   "execution_count": null,
   "metadata": {},
   "outputs": [],
   "source": [
    "def insert_inital_icd10(df):\n",
    "    cursor = connection.cursor()\n",
    "    for index, row in df.iterrows():\n",
    "        cursor.execute(\"INSERT INTO public.icd_10_codes (name, common_name) \\\n",
    "            VALUES (%s, %s);\", \n",
    "            (row[\"name\"], row[\"common_name\"]))\n",
    "    connection.commit()\n",
    "    cursor.close()\n",
    "    return \"success\"\n",
    "def add_icd10_hierarchy(df):\n",
    "    cursor = connection.cursor()\n",
    "    for index, row in df.iterrows():\n",
    "        if len(row[\"parents\"]) > 0:\n",
    "            cursor.execute(\"SELECT id FROM public.icd_10_codes WHERE name = %s;\", (row[\"parents\"][0],))\n",
    "            icd10_fk = cursor.fetchone()[0]\n",
    "            cursor.execute(\"UPDATE public.icd_10_codes SET parent = %s WHERE name = %s;\", \n",
    "                (icd10_fk, row[\"name\"]))\n",
    "    connection.commit()\n",
    "    cursor.close()\n",
    "    return \"success\"\n",
    "\n",
    "def add_icd10_codes(df):\n",
    "    cursor = connection.cursor()\n",
    "    for index, row in df.iterrows():\n",
    "        codes_json = json.dumps(row[\"ranges\"])\n",
    "        cursor.execute(\"UPDATE public.icd_10_codes SET codes = %s WHERE name = %s;\", \n",
    "            (codes_json, row[\"name\"]))\n",
    "    connection.commit()\n",
    "    cursor.close()\n",
    "    ## TODO - Cleaning needed when code spans chapters IE: A00-B99\n",
    "    return \"success\"\n",
    "    \n",
    "#insert_inital_icd10(icd10)\n",
    "#add_icd10_hierarchy(icd10)\n",
    "#add_icd10_codes(icd10)"
   ]
  },
  {
   "cell_type": "markdown",
   "metadata": {},
   "source": [
    "### Load Cause Of Death for all states"
   ]
  },
  {
   "cell_type": "code",
   "execution_count": null,
   "metadata": {},
   "outputs": [],
   "source": []
  },
  {
   "cell_type": "code",
   "execution_count": null,
   "metadata": {},
   "outputs": [],
   "source": [
    "def add_cod(df):\n",
    "    try:\n",
    "        cursor = connection.cursor()\n",
    "        for index, row in df.iterrows():\n",
    "            cursor.execute(\"SELECT id FROM public.locations WHERE name = %s;\", (row[\"State\"],))\n",
    "            state_id = cursor.fetchone()[0]\n",
    "            cursor.execute(\"SELECT id FROM public.icd_10_codes WHERE name = %s;\", (row[\"ICD-10 113 Cause List\"],))\n",
    "            icd10_id = cursor.fetchone()[0]\n",
    "            if row[\"Ten-Year Age Groups Code\"] == \"1\":\n",
    "                start_age = 0\n",
    "                end_age = 1\n",
    "            elif row[\"Ten-Year Age Groups Code\"] == \"85+\":\n",
    "                start_age = 85\n",
    "                end_age = 200\n",
    "            else:\n",
    "                start_age = int(row[\"Ten-Year Age Groups Code\"].split(\"-\")[0])\n",
    "                end_age = int(row[\"Ten-Year Age Groups Code\"].split(\"-\")[1])\n",
    "            unreliable = False\n",
    "            if row[\"Crude Rate\"] == \"Unreliable\":\n",
    "                unreliable = True\n",
    "            cursor.execute(\"INSERT INTO public.causes_of_death (rate, deaths, population, year, locations_id_fkey, icd_10_codes_id_fkey, start_age, end_age, unreliable) \\\n",
    "                VALUES (%s, %s, %s, %s, %s, %s, %s, %s, %s);\", \n",
    "                (row[\"Rate\"], row[\"Deaths\"], row[\"Population\"], row[\"year\"], state_id, icd10_id, start_age, end_age, unreliable))\n",
    "\n",
    "        connection.commit()\n",
    "    except Exception as e:\n",
    "        print(row[\"State\"])\n",
    "        print(e)\n",
    "    finally:\n",
    "        cursor.close()\n",
    "    return \"success\"\n"
   ]
  },
  {
   "cell_type": "code",
   "execution_count": null,
   "metadata": {},
   "outputs": [],
   "source": [
    "def add_all_cod():\n",
    "    years = range(1999, 2019)\n",
    "    for year in years:\n",
    "        df = CleanData.clean_state_cod(year)\n",
    "        df[\"year\"] = year\n",
    "        df = df[[\"Rate\", \"Deaths\", \"Population\",\"year\",\"ICD-10 113 Cause List\",\"State\",\"Ten-Year Age Groups Code\", \"Crude Rate\"]]\n",
    "        df = df[df[\"State\"] != \"District of Columbia\"]\n",
    "        add_cod(df)\n",
    "\n",
    "#add_all_cod()\n"
   ]
  },
  {
   "cell_type": "code",
   "execution_count": null,
   "metadata": {},
   "outputs": [],
   "source": []
  },
  {
   "cell_type": "code",
   "execution_count": null,
   "metadata": {},
   "outputs": [],
   "source": []
  },
  {
   "cell_type": "code",
   "execution_count": null,
   "metadata": {},
   "outputs": [],
   "source": []
  }
 ],
 "metadata": {
  "kernelspec": {
   "display_name": "real-fast",
   "language": "python",
   "name": "python3"
  },
  "language_info": {
   "codemirror_mode": {
    "name": "ipython",
    "version": 3
   },
   "file_extension": ".py",
   "mimetype": "text/x-python",
   "name": "python",
   "nbconvert_exporter": "python",
   "pygments_lexer": "ipython3",
   "version": "3.8.4"
  },
  "orig_nbformat": 4
 },
 "nbformat": 4,
 "nbformat_minor": 2
}
