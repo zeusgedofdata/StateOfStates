{
 "cells": [
  {
   "cell_type": "code",
   "execution_count": 1,
   "metadata": {},
   "outputs": [],
   "source": [
    "import pandas as pd\n",
    "from dash import Dash, html, dcc, callback, Output, Input\n",
    "import censusgeocode as cg\n",
    "import plotly.figure_factory as ff\n",
    "from urllib.request import urlopen\n",
    "import json\n",
    "import plotly.express as px\n",
    "import plotly.graph_objects as go\n",
    "import pdfreader\n",
    "from pdfreader import PDFDocument, SimplePDFViewer\n",
    "import numpy as np\n",
    "import GraphGenerator"
   ]
  },
  {
   "cell_type": "code",
   "execution_count": null,
   "metadata": {},
   "outputs": [],
   "source": []
  },
  {
   "cell_type": "code",
   "execution_count": 4,
   "metadata": {},
   "outputs": [
    {
     "data": {
      "application/vnd.plotly.v1+json": {
       "config": {
        "plotlyServerURL": "https://plot.ly"
       },
       "data": [
        {
         "colorbar": {
          "x": 0
         },
         "colorscale": [
          [
           0,
           "rgb(247,251,255)"
          ],
          [
           0.125,
           "rgb(222,235,247)"
          ],
          [
           0.25,
           "rgb(198,219,239)"
          ],
          [
           0.375,
           "rgb(158,202,225)"
          ],
          [
           0.5,
           "rgb(107,174,214)"
          ],
          [
           0.625,
           "rgb(66,146,198)"
          ],
          [
           0.75,
           "rgb(33,113,181)"
          ],
          [
           0.875,
           "rgb(8,81,156)"
          ],
          [
           1,
           "rgb(8,48,107)"
          ]
         ],
         "geo": "geo",
         "hovertext": [
          "Life Exp",
          "Life Exp",
          "Life Exp",
          "Life Exp",
          "Life Exp",
          "Life Exp",
          "Life Exp",
          "Life Exp",
          "Life Exp",
          "Life Exp",
          "Life Exp",
          "Life Exp",
          "Life Exp",
          "Life Exp",
          "Life Exp",
          "Life Exp",
          "Life Exp",
          "Life Exp",
          "Life Exp",
          "Life Exp",
          "Life Exp",
          "Life Exp",
          "Life Exp",
          "Life Exp",
          "Life Exp",
          "Life Exp",
          "Life Exp",
          "Life Exp",
          "Life Exp",
          "Life Exp",
          "Life Exp",
          "Life Exp",
          "Life Exp",
          "Life Exp",
          "Life Exp",
          "Life Exp",
          "Life Exp",
          "Life Exp",
          "Life Exp",
          "Life Exp",
          "Life Exp",
          "Life Exp",
          "Life Exp",
          "Life Exp",
          "Life Exp",
          "Life Exp",
          "Life Exp",
          "Life Exp",
          "Life Exp",
          "Life Exp"
         ],
         "locationmode": "USA-states",
         "locations": [
          "AL",
          "AK",
          "AZ",
          "AR",
          "CA",
          "CO",
          "CT",
          "DE",
          "FL",
          "GA",
          "HI",
          "ID",
          "IL",
          "IN",
          "IA",
          "KS",
          "KY",
          "LA",
          "ME",
          "MD",
          "MA",
          "MI",
          "MN",
          "MS",
          "MO",
          "MT",
          "NE",
          "NV",
          "NH",
          "NJ",
          "NM",
          "NY",
          "NC",
          "ND",
          "OH",
          "OK",
          "OR",
          "PA",
          "RI",
          "SC",
          "SD",
          "TN",
          "TX",
          "UT",
          "VT",
          "VA",
          "WA",
          "WV",
          "WI",
          "WY"
         ],
         "marker": {
          "line": {
           "color": "white"
          }
         },
         "type": "choropleth",
         "z": [
          73.19999694824219,
          76.5999984741211,
          76.30000305175781,
          73.80000305175781,
          79,
          78.30000305175781,
          78.4000015258789,
          76.69999694824219,
          77.5,
          75.5999984741211,
          80.69999694824219,
          78.4000015258789,
          76.80000305175781,
          75,
          77.5,
          76.4000015258789,
          73.5,
          73.0999984741211,
          77.80000305175781,
          76.80000305175781,
          79,
          76,
          79.0999984741211,
          71.9000015258789,
          75.0999984741211,
          76.80000305175781,
          77.69999694824219,
          76.30000305175781,
          79,
          77.5,
          74.5,
          77.69999694824219,
          76.0999984741211,
          76.9000015258789,
          75.30000305175781,
          74.0999984741211,
          78.80000305175781,
          76.80000305175781,
          78.19999694824219,
          74.80000305175781,
          76.69999694824219,
          73.80000305175781,
          76.5,
          78.5999984741211,
          78.80000305175781,
          77.5999984741211,
          79.19999694824219,
          72.80000305175781,
          77.69999694824219,
          76.30000305175781
         ]
        },
        {
         "colorbar": {
          "x": 0
         },
         "colorscale": [
          [
           0,
           "#440154"
          ],
          [
           0.1111111111111111,
           "#482878"
          ],
          [
           0.2222222222222222,
           "#3e4989"
          ],
          [
           0.3333333333333333,
           "#31688e"
          ],
          [
           0.4444444444444444,
           "#26828e"
          ],
          [
           0.5555555555555556,
           "#1f9e89"
          ],
          [
           0.6666666666666666,
           "#35b779"
          ],
          [
           0.7777777777777778,
           "#6ece58"
          ],
          [
           0.8888888888888888,
           "#b5de2b"
          ],
          [
           1,
           "#fde725"
          ]
         ],
         "geo": "geo",
         "locationmode": "USA-states",
         "locations": [
          "CA"
         ],
         "marker": {
          "line": {
           "color": "red"
          }
         },
         "type": "choropleth",
         "z": [
          1
         ]
        }
       ],
       "layout": {
        "geo": {
         "domain": {
          "x": [
           0,
           1
          ],
          "y": [
           0,
           1
          ]
         },
         "scope": "usa"
        },
        "height": 520,
        "template": {
         "data": {
          "bar": [
           {
            "error_x": {
             "color": "#2a3f5f"
            },
            "error_y": {
             "color": "#2a3f5f"
            },
            "marker": {
             "line": {
              "color": "#E5ECF6",
              "width": 0.5
             },
             "pattern": {
              "fillmode": "overlay",
              "size": 10,
              "solidity": 0.2
             }
            },
            "type": "bar"
           }
          ],
          "barpolar": [
           {
            "marker": {
             "line": {
              "color": "#E5ECF6",
              "width": 0.5
             },
             "pattern": {
              "fillmode": "overlay",
              "size": 10,
              "solidity": 0.2
             }
            },
            "type": "barpolar"
           }
          ],
          "carpet": [
           {
            "aaxis": {
             "endlinecolor": "#2a3f5f",
             "gridcolor": "white",
             "linecolor": "white",
             "minorgridcolor": "white",
             "startlinecolor": "#2a3f5f"
            },
            "baxis": {
             "endlinecolor": "#2a3f5f",
             "gridcolor": "white",
             "linecolor": "white",
             "minorgridcolor": "white",
             "startlinecolor": "#2a3f5f"
            },
            "type": "carpet"
           }
          ],
          "choropleth": [
           {
            "colorbar": {
             "outlinewidth": 0,
             "ticks": ""
            },
            "type": "choropleth"
           }
          ],
          "contour": [
           {
            "colorbar": {
             "outlinewidth": 0,
             "ticks": ""
            },
            "colorscale": [
             [
              0,
              "#0d0887"
             ],
             [
              0.1111111111111111,
              "#46039f"
             ],
             [
              0.2222222222222222,
              "#7201a8"
             ],
             [
              0.3333333333333333,
              "#9c179e"
             ],
             [
              0.4444444444444444,
              "#bd3786"
             ],
             [
              0.5555555555555556,
              "#d8576b"
             ],
             [
              0.6666666666666666,
              "#ed7953"
             ],
             [
              0.7777777777777778,
              "#fb9f3a"
             ],
             [
              0.8888888888888888,
              "#fdca26"
             ],
             [
              1,
              "#f0f921"
             ]
            ],
            "type": "contour"
           }
          ],
          "contourcarpet": [
           {
            "colorbar": {
             "outlinewidth": 0,
             "ticks": ""
            },
            "type": "contourcarpet"
           }
          ],
          "heatmap": [
           {
            "colorbar": {
             "outlinewidth": 0,
             "ticks": ""
            },
            "colorscale": [
             [
              0,
              "#0d0887"
             ],
             [
              0.1111111111111111,
              "#46039f"
             ],
             [
              0.2222222222222222,
              "#7201a8"
             ],
             [
              0.3333333333333333,
              "#9c179e"
             ],
             [
              0.4444444444444444,
              "#bd3786"
             ],
             [
              0.5555555555555556,
              "#d8576b"
             ],
             [
              0.6666666666666666,
              "#ed7953"
             ],
             [
              0.7777777777777778,
              "#fb9f3a"
             ],
             [
              0.8888888888888888,
              "#fdca26"
             ],
             [
              1,
              "#f0f921"
             ]
            ],
            "type": "heatmap"
           }
          ],
          "heatmapgl": [
           {
            "colorbar": {
             "outlinewidth": 0,
             "ticks": ""
            },
            "colorscale": [
             [
              0,
              "#0d0887"
             ],
             [
              0.1111111111111111,
              "#46039f"
             ],
             [
              0.2222222222222222,
              "#7201a8"
             ],
             [
              0.3333333333333333,
              "#9c179e"
             ],
             [
              0.4444444444444444,
              "#bd3786"
             ],
             [
              0.5555555555555556,
              "#d8576b"
             ],
             [
              0.6666666666666666,
              "#ed7953"
             ],
             [
              0.7777777777777778,
              "#fb9f3a"
             ],
             [
              0.8888888888888888,
              "#fdca26"
             ],
             [
              1,
              "#f0f921"
             ]
            ],
            "type": "heatmapgl"
           }
          ],
          "histogram": [
           {
            "marker": {
             "pattern": {
              "fillmode": "overlay",
              "size": 10,
              "solidity": 0.2
             }
            },
            "type": "histogram"
           }
          ],
          "histogram2d": [
           {
            "colorbar": {
             "outlinewidth": 0,
             "ticks": ""
            },
            "colorscale": [
             [
              0,
              "#0d0887"
             ],
             [
              0.1111111111111111,
              "#46039f"
             ],
             [
              0.2222222222222222,
              "#7201a8"
             ],
             [
              0.3333333333333333,
              "#9c179e"
             ],
             [
              0.4444444444444444,
              "#bd3786"
             ],
             [
              0.5555555555555556,
              "#d8576b"
             ],
             [
              0.6666666666666666,
              "#ed7953"
             ],
             [
              0.7777777777777778,
              "#fb9f3a"
             ],
             [
              0.8888888888888888,
              "#fdca26"
             ],
             [
              1,
              "#f0f921"
             ]
            ],
            "type": "histogram2d"
           }
          ],
          "histogram2dcontour": [
           {
            "colorbar": {
             "outlinewidth": 0,
             "ticks": ""
            },
            "colorscale": [
             [
              0,
              "#0d0887"
             ],
             [
              0.1111111111111111,
              "#46039f"
             ],
             [
              0.2222222222222222,
              "#7201a8"
             ],
             [
              0.3333333333333333,
              "#9c179e"
             ],
             [
              0.4444444444444444,
              "#bd3786"
             ],
             [
              0.5555555555555556,
              "#d8576b"
             ],
             [
              0.6666666666666666,
              "#ed7953"
             ],
             [
              0.7777777777777778,
              "#fb9f3a"
             ],
             [
              0.8888888888888888,
              "#fdca26"
             ],
             [
              1,
              "#f0f921"
             ]
            ],
            "type": "histogram2dcontour"
           }
          ],
          "mesh3d": [
           {
            "colorbar": {
             "outlinewidth": 0,
             "ticks": ""
            },
            "type": "mesh3d"
           }
          ],
          "parcoords": [
           {
            "line": {
             "colorbar": {
              "outlinewidth": 0,
              "ticks": ""
             }
            },
            "type": "parcoords"
           }
          ],
          "pie": [
           {
            "automargin": true,
            "type": "pie"
           }
          ],
          "scatter": [
           {
            "marker": {
             "colorbar": {
              "outlinewidth": 0,
              "ticks": ""
             }
            },
            "type": "scatter"
           }
          ],
          "scatter3d": [
           {
            "line": {
             "colorbar": {
              "outlinewidth": 0,
              "ticks": ""
             }
            },
            "marker": {
             "colorbar": {
              "outlinewidth": 0,
              "ticks": ""
             }
            },
            "type": "scatter3d"
           }
          ],
          "scattercarpet": [
           {
            "marker": {
             "colorbar": {
              "outlinewidth": 0,
              "ticks": ""
             }
            },
            "type": "scattercarpet"
           }
          ],
          "scattergeo": [
           {
            "marker": {
             "colorbar": {
              "outlinewidth": 0,
              "ticks": ""
             }
            },
            "type": "scattergeo"
           }
          ],
          "scattergl": [
           {
            "marker": {
             "colorbar": {
              "outlinewidth": 0,
              "ticks": ""
             }
            },
            "type": "scattergl"
           }
          ],
          "scattermapbox": [
           {
            "marker": {
             "colorbar": {
              "outlinewidth": 0,
              "ticks": ""
             }
            },
            "type": "scattermapbox"
           }
          ],
          "scatterpolar": [
           {
            "marker": {
             "colorbar": {
              "outlinewidth": 0,
              "ticks": ""
             }
            },
            "type": "scatterpolar"
           }
          ],
          "scatterpolargl": [
           {
            "marker": {
             "colorbar": {
              "outlinewidth": 0,
              "ticks": ""
             }
            },
            "type": "scatterpolargl"
           }
          ],
          "scatterternary": [
           {
            "marker": {
             "colorbar": {
              "outlinewidth": 0,
              "ticks": ""
             }
            },
            "type": "scatterternary"
           }
          ],
          "surface": [
           {
            "colorbar": {
             "outlinewidth": 0,
             "ticks": ""
            },
            "colorscale": [
             [
              0,
              "#0d0887"
             ],
             [
              0.1111111111111111,
              "#46039f"
             ],
             [
              0.2222222222222222,
              "#7201a8"
             ],
             [
              0.3333333333333333,
              "#9c179e"
             ],
             [
              0.4444444444444444,
              "#bd3786"
             ],
             [
              0.5555555555555556,
              "#d8576b"
             ],
             [
              0.6666666666666666,
              "#ed7953"
             ],
             [
              0.7777777777777778,
              "#fb9f3a"
             ],
             [
              0.8888888888888888,
              "#fdca26"
             ],
             [
              1,
              "#f0f921"
             ]
            ],
            "type": "surface"
           }
          ],
          "table": [
           {
            "cells": {
             "fill": {
              "color": "#EBF0F8"
             },
             "line": {
              "color": "white"
             }
            },
            "header": {
             "fill": {
              "color": "#C8D4E3"
             },
             "line": {
              "color": "white"
             }
            },
            "type": "table"
           }
          ]
         },
         "layout": {
          "annotationdefaults": {
           "arrowcolor": "#2a3f5f",
           "arrowhead": 0,
           "arrowwidth": 1
          },
          "autotypenumbers": "strict",
          "coloraxis": {
           "colorbar": {
            "outlinewidth": 0,
            "ticks": ""
           }
          },
          "colorscale": {
           "diverging": [
            [
             0,
             "#8e0152"
            ],
            [
             0.1,
             "#c51b7d"
            ],
            [
             0.2,
             "#de77ae"
            ],
            [
             0.3,
             "#f1b6da"
            ],
            [
             0.4,
             "#fde0ef"
            ],
            [
             0.5,
             "#f7f7f7"
            ],
            [
             0.6,
             "#e6f5d0"
            ],
            [
             0.7,
             "#b8e186"
            ],
            [
             0.8,
             "#7fbc41"
            ],
            [
             0.9,
             "#4d9221"
            ],
            [
             1,
             "#276419"
            ]
           ],
           "sequential": [
            [
             0,
             "#0d0887"
            ],
            [
             0.1111111111111111,
             "#46039f"
            ],
            [
             0.2222222222222222,
             "#7201a8"
            ],
            [
             0.3333333333333333,
             "#9c179e"
            ],
            [
             0.4444444444444444,
             "#bd3786"
            ],
            [
             0.5555555555555556,
             "#d8576b"
            ],
            [
             0.6666666666666666,
             "#ed7953"
            ],
            [
             0.7777777777777778,
             "#fb9f3a"
            ],
            [
             0.8888888888888888,
             "#fdca26"
            ],
            [
             1,
             "#f0f921"
            ]
           ],
           "sequentialminus": [
            [
             0,
             "#0d0887"
            ],
            [
             0.1111111111111111,
             "#46039f"
            ],
            [
             0.2222222222222222,
             "#7201a8"
            ],
            [
             0.3333333333333333,
             "#9c179e"
            ],
            [
             0.4444444444444444,
             "#bd3786"
            ],
            [
             0.5555555555555556,
             "#d8576b"
            ],
            [
             0.6666666666666666,
             "#ed7953"
            ],
            [
             0.7777777777777778,
             "#fb9f3a"
            ],
            [
             0.8888888888888888,
             "#fdca26"
            ],
            [
             1,
             "#f0f921"
            ]
           ]
          },
          "colorway": [
           "#636efa",
           "#EF553B",
           "#00cc96",
           "#ab63fa",
           "#FFA15A",
           "#19d3f3",
           "#FF6692",
           "#B6E880",
           "#FF97FF",
           "#FECB52"
          ],
          "font": {
           "color": "#2a3f5f"
          },
          "geo": {
           "bgcolor": "white",
           "lakecolor": "white",
           "landcolor": "#E5ECF6",
           "showlakes": true,
           "showland": true,
           "subunitcolor": "white"
          },
          "hoverlabel": {
           "align": "left"
          },
          "hovermode": "closest",
          "mapbox": {
           "style": "light"
          },
          "paper_bgcolor": "white",
          "plot_bgcolor": "#E5ECF6",
          "polar": {
           "angularaxis": {
            "gridcolor": "white",
            "linecolor": "white",
            "ticks": ""
           },
           "bgcolor": "#E5ECF6",
           "radialaxis": {
            "gridcolor": "white",
            "linecolor": "white",
            "ticks": ""
           }
          },
          "scene": {
           "xaxis": {
            "backgroundcolor": "#E5ECF6",
            "gridcolor": "white",
            "gridwidth": 2,
            "linecolor": "white",
            "showbackground": true,
            "ticks": "",
            "zerolinecolor": "white"
           },
           "yaxis": {
            "backgroundcolor": "#E5ECF6",
            "gridcolor": "white",
            "gridwidth": 2,
            "linecolor": "white",
            "showbackground": true,
            "ticks": "",
            "zerolinecolor": "white"
           },
           "zaxis": {
            "backgroundcolor": "#E5ECF6",
            "gridcolor": "white",
            "gridwidth": 2,
            "linecolor": "white",
            "showbackground": true,
            "ticks": "",
            "zerolinecolor": "white"
           }
          },
          "shapedefaults": {
           "line": {
            "color": "#2a3f5f"
           }
          },
          "ternary": {
           "aaxis": {
            "gridcolor": "white",
            "linecolor": "white",
            "ticks": ""
           },
           "baxis": {
            "gridcolor": "white",
            "linecolor": "white",
            "ticks": ""
           },
           "bgcolor": "#E5ECF6",
           "caxis": {
            "gridcolor": "white",
            "linecolor": "white",
            "ticks": ""
           }
          },
          "title": {
           "x": 0.05
          },
          "xaxis": {
           "automargin": true,
           "gridcolor": "white",
           "linecolor": "white",
           "ticks": "",
           "title": {
            "standoff": 15
           },
           "zerolinecolor": "white",
           "zerolinewidth": 2
          },
          "yaxis": {
           "automargin": true,
           "gridcolor": "white",
           "linecolor": "white",
           "ticks": "",
           "title": {
            "standoff": 15
           },
           "zerolinecolor": "white",
           "zerolinewidth": 2
          }
         }
        },
        "title": {
         "text": "2020 Life Exp - CA"
        },
        "width": 900,
        "xaxis": {
         "fixedrange": true
        },
        "yaxis": {
         "fixedrange": true
        }
       }
      }
     },
     "metadata": {},
     "output_type": "display_data"
    }
   ],
   "source": [
    "GraphGenerator.life_us_map(\"Life Exp\", \"CA\")"
   ]
  },
  {
   "cell_type": "code",
   "execution_count": null,
   "metadata": {},
   "outputs": [],
   "source": []
  },
  {
   "cell_type": "code",
   "execution_count": null,
   "metadata": {},
   "outputs": [],
   "source": []
  },
  {
   "cell_type": "code",
   "execution_count": 24,
   "metadata": {},
   "outputs": [],
   "source": [
    "#election_results = pd.read_csv(r\"data\\Partisian\\reduced_data_1972_to_2010.csv\")\n",
    "#election_results = pd.read_csv(r\"data\\Partisian\\assembly_cleaned_data_1972_2010.csv\")\n",
    "#election_results = election_results.groupby([\"Year\",\"Party\",\"State\"]).size().reset_index(name=\"Rep Count\")\n",
    "#total_reps = election_results.groupby(by=[\"Year\",\"State\"]).sum([\"Rep Count\"]).reset_index().rename({\"Rep Count\": \"Total Rep Count\"}, axis=1)\n",
    "#election_results = election_results.merge(total_reps, on=[\"Year\",\"State\"])\n",
    "#election_results[\"Rep Share\"] = election_results[\"Rep Count\"]/election_results[\"Total Rep Count\"]"
   ]
  },
  {
   "cell_type": "code",
   "execution_count": 25,
   "metadata": {},
   "outputs": [
    {
     "data": {
      "text/html": [
       "<div>\n",
       "<style scoped>\n",
       "    .dataframe tbody tr th:only-of-type {\n",
       "        vertical-align: middle;\n",
       "    }\n",
       "\n",
       "    .dataframe tbody tr th {\n",
       "        vertical-align: top;\n",
       "    }\n",
       "\n",
       "    .dataframe thead th {\n",
       "        text-align: right;\n",
       "    }\n",
       "</style>\n",
       "<table border=\"1\" class=\"dataframe\">\n",
       "  <thead>\n",
       "    <tr style=\"text-align: right;\">\n",
       "      <th></th>\n",
       "      <th>year</th>\n",
       "      <th>state</th>\n",
       "      <th>state_po</th>\n",
       "      <th>county_name</th>\n",
       "      <th>county_fips</th>\n",
       "      <th>office</th>\n",
       "      <th>candidate</th>\n",
       "      <th>party</th>\n",
       "      <th>candidatevotes</th>\n",
       "      <th>totalvotes</th>\n",
       "      <th>version</th>\n",
       "      <th>mode</th>\n",
       "      <th>percent</th>\n",
       "    </tr>\n",
       "  </thead>\n",
       "  <tbody>\n",
       "    <tr>\n",
       "      <th>0</th>\n",
       "      <td>2000</td>\n",
       "      <td>ALABAMA</td>\n",
       "      <td>AL</td>\n",
       "      <td>AUTAUGA</td>\n",
       "      <td>1001.0</td>\n",
       "      <td>US PRESIDENT</td>\n",
       "      <td>AL GORE</td>\n",
       "      <td>DEMOCRAT</td>\n",
       "      <td>4942</td>\n",
       "      <td>17208</td>\n",
       "      <td>20220315</td>\n",
       "      <td>TOTAL</td>\n",
       "      <td>0.287192</td>\n",
       "    </tr>\n",
       "    <tr>\n",
       "      <th>1</th>\n",
       "      <td>2000</td>\n",
       "      <td>ALABAMA</td>\n",
       "      <td>AL</td>\n",
       "      <td>AUTAUGA</td>\n",
       "      <td>1001.0</td>\n",
       "      <td>US PRESIDENT</td>\n",
       "      <td>GEORGE W. BUSH</td>\n",
       "      <td>REPUBLICAN</td>\n",
       "      <td>11993</td>\n",
       "      <td>17208</td>\n",
       "      <td>20220315</td>\n",
       "      <td>TOTAL</td>\n",
       "      <td>0.696943</td>\n",
       "    </tr>\n",
       "    <tr>\n",
       "      <th>2</th>\n",
       "      <td>2000</td>\n",
       "      <td>ALABAMA</td>\n",
       "      <td>AL</td>\n",
       "      <td>AUTAUGA</td>\n",
       "      <td>1001.0</td>\n",
       "      <td>US PRESIDENT</td>\n",
       "      <td>RALPH NADER</td>\n",
       "      <td>GREEN</td>\n",
       "      <td>160</td>\n",
       "      <td>17208</td>\n",
       "      <td>20220315</td>\n",
       "      <td>TOTAL</td>\n",
       "      <td>0.009298</td>\n",
       "    </tr>\n",
       "    <tr>\n",
       "      <th>3</th>\n",
       "      <td>2000</td>\n",
       "      <td>ALABAMA</td>\n",
       "      <td>AL</td>\n",
       "      <td>AUTAUGA</td>\n",
       "      <td>1001.0</td>\n",
       "      <td>US PRESIDENT</td>\n",
       "      <td>OTHER</td>\n",
       "      <td>OTHER</td>\n",
       "      <td>113</td>\n",
       "      <td>17208</td>\n",
       "      <td>20220315</td>\n",
       "      <td>TOTAL</td>\n",
       "      <td>0.006567</td>\n",
       "    </tr>\n",
       "    <tr>\n",
       "      <th>4</th>\n",
       "      <td>2000</td>\n",
       "      <td>ALABAMA</td>\n",
       "      <td>AL</td>\n",
       "      <td>BALDWIN</td>\n",
       "      <td>1003.0</td>\n",
       "      <td>US PRESIDENT</td>\n",
       "      <td>AL GORE</td>\n",
       "      <td>DEMOCRAT</td>\n",
       "      <td>13997</td>\n",
       "      <td>56480</td>\n",
       "      <td>20220315</td>\n",
       "      <td>TOTAL</td>\n",
       "      <td>0.247822</td>\n",
       "    </tr>\n",
       "    <tr>\n",
       "      <th>...</th>\n",
       "      <td>...</td>\n",
       "      <td>...</td>\n",
       "      <td>...</td>\n",
       "      <td>...</td>\n",
       "      <td>...</td>\n",
       "      <td>...</td>\n",
       "      <td>...</td>\n",
       "      <td>...</td>\n",
       "      <td>...</td>\n",
       "      <td>...</td>\n",
       "      <td>...</td>\n",
       "      <td>...</td>\n",
       "      <td>...</td>\n",
       "    </tr>\n",
       "    <tr>\n",
       "      <th>72612</th>\n",
       "      <td>2020</td>\n",
       "      <td>WYOMING</td>\n",
       "      <td>WY</td>\n",
       "      <td>WASHAKIE</td>\n",
       "      <td>56043.0</td>\n",
       "      <td>US PRESIDENT</td>\n",
       "      <td>DONALD J TRUMP</td>\n",
       "      <td>REPUBLICAN</td>\n",
       "      <td>3245</td>\n",
       "      <td>4032</td>\n",
       "      <td>20220315</td>\n",
       "      <td>TOTAL</td>\n",
       "      <td>0.804812</td>\n",
       "    </tr>\n",
       "    <tr>\n",
       "      <th>72613</th>\n",
       "      <td>2020</td>\n",
       "      <td>WYOMING</td>\n",
       "      <td>WY</td>\n",
       "      <td>WESTON</td>\n",
       "      <td>56045.0</td>\n",
       "      <td>US PRESIDENT</td>\n",
       "      <td>JOSEPH R BIDEN JR</td>\n",
       "      <td>DEMOCRAT</td>\n",
       "      <td>360</td>\n",
       "      <td>3560</td>\n",
       "      <td>20220315</td>\n",
       "      <td>TOTAL</td>\n",
       "      <td>0.101124</td>\n",
       "    </tr>\n",
       "    <tr>\n",
       "      <th>72614</th>\n",
       "      <td>2020</td>\n",
       "      <td>WYOMING</td>\n",
       "      <td>WY</td>\n",
       "      <td>WESTON</td>\n",
       "      <td>56045.0</td>\n",
       "      <td>US PRESIDENT</td>\n",
       "      <td>JO JORGENSEN</td>\n",
       "      <td>LIBERTARIAN</td>\n",
       "      <td>46</td>\n",
       "      <td>3560</td>\n",
       "      <td>20220315</td>\n",
       "      <td>TOTAL</td>\n",
       "      <td>0.012921</td>\n",
       "    </tr>\n",
       "    <tr>\n",
       "      <th>72615</th>\n",
       "      <td>2020</td>\n",
       "      <td>WYOMING</td>\n",
       "      <td>WY</td>\n",
       "      <td>WESTON</td>\n",
       "      <td>56045.0</td>\n",
       "      <td>US PRESIDENT</td>\n",
       "      <td>OTHER</td>\n",
       "      <td>OTHER</td>\n",
       "      <td>47</td>\n",
       "      <td>3560</td>\n",
       "      <td>20220315</td>\n",
       "      <td>TOTAL</td>\n",
       "      <td>0.013202</td>\n",
       "    </tr>\n",
       "    <tr>\n",
       "      <th>72616</th>\n",
       "      <td>2020</td>\n",
       "      <td>WYOMING</td>\n",
       "      <td>WY</td>\n",
       "      <td>WESTON</td>\n",
       "      <td>56045.0</td>\n",
       "      <td>US PRESIDENT</td>\n",
       "      <td>DONALD J TRUMP</td>\n",
       "      <td>REPUBLICAN</td>\n",
       "      <td>3107</td>\n",
       "      <td>3560</td>\n",
       "      <td>20220315</td>\n",
       "      <td>TOTAL</td>\n",
       "      <td>0.872753</td>\n",
       "    </tr>\n",
       "  </tbody>\n",
       "</table>\n",
       "<p>72617 rows × 13 columns</p>\n",
       "</div>"
      ],
      "text/plain": [
       "       year    state state_po county_name  county_fips        office  \\\n",
       "0      2000  ALABAMA       AL     AUTAUGA       1001.0  US PRESIDENT   \n",
       "1      2000  ALABAMA       AL     AUTAUGA       1001.0  US PRESIDENT   \n",
       "2      2000  ALABAMA       AL     AUTAUGA       1001.0  US PRESIDENT   \n",
       "3      2000  ALABAMA       AL     AUTAUGA       1001.0  US PRESIDENT   \n",
       "4      2000  ALABAMA       AL     BALDWIN       1003.0  US PRESIDENT   \n",
       "...     ...      ...      ...         ...          ...           ...   \n",
       "72612  2020  WYOMING       WY    WASHAKIE      56043.0  US PRESIDENT   \n",
       "72613  2020  WYOMING       WY      WESTON      56045.0  US PRESIDENT   \n",
       "72614  2020  WYOMING       WY      WESTON      56045.0  US PRESIDENT   \n",
       "72615  2020  WYOMING       WY      WESTON      56045.0  US PRESIDENT   \n",
       "72616  2020  WYOMING       WY      WESTON      56045.0  US PRESIDENT   \n",
       "\n",
       "               candidate        party  candidatevotes  totalvotes   version  \\\n",
       "0                AL GORE     DEMOCRAT            4942       17208  20220315   \n",
       "1         GEORGE W. BUSH   REPUBLICAN           11993       17208  20220315   \n",
       "2            RALPH NADER        GREEN             160       17208  20220315   \n",
       "3                  OTHER        OTHER             113       17208  20220315   \n",
       "4                AL GORE     DEMOCRAT           13997       56480  20220315   \n",
       "...                  ...          ...             ...         ...       ...   \n",
       "72612     DONALD J TRUMP   REPUBLICAN            3245        4032  20220315   \n",
       "72613  JOSEPH R BIDEN JR     DEMOCRAT             360        3560  20220315   \n",
       "72614       JO JORGENSEN  LIBERTARIAN              46        3560  20220315   \n",
       "72615              OTHER        OTHER              47        3560  20220315   \n",
       "72616     DONALD J TRUMP   REPUBLICAN            3107        3560  20220315   \n",
       "\n",
       "        mode   percent  \n",
       "0      TOTAL  0.287192  \n",
       "1      TOTAL  0.696943  \n",
       "2      TOTAL  0.009298  \n",
       "3      TOTAL  0.006567  \n",
       "4      TOTAL  0.247822  \n",
       "...      ...       ...  \n",
       "72612  TOTAL  0.804812  \n",
       "72613  TOTAL  0.101124  \n",
       "72614  TOTAL  0.012921  \n",
       "72615  TOTAL  0.013202  \n",
       "72616  TOTAL  0.872753  \n",
       "\n",
       "[72617 rows x 13 columns]"
      ]
     },
     "execution_count": 25,
     "metadata": {},
     "output_type": "execute_result"
    }
   ],
   "source": [
    "df = pd.read_csv(\"data\\Partisian\\countypres_2000-2020.csv\")\n",
    "df[\"percent\"] = df[\"candidatevotes\"]/df[\"totalvotes\"]\n",
    "df"
   ]
  },
  {
   "cell_type": "code",
   "execution_count": 32,
   "metadata": {},
   "outputs": [
    {
     "data": {
      "text/html": [
       "<div>\n",
       "<style scoped>\n",
       "    .dataframe tbody tr th:only-of-type {\n",
       "        vertical-align: middle;\n",
       "    }\n",
       "\n",
       "    .dataframe tbody tr th {\n",
       "        vertical-align: top;\n",
       "    }\n",
       "\n",
       "    .dataframe thead th {\n",
       "        text-align: right;\n",
       "    }\n",
       "</style>\n",
       "<table border=\"1\" class=\"dataframe\">\n",
       "  <thead>\n",
       "    <tr style=\"text-align: right;\">\n",
       "      <th></th>\n",
       "      <th>year</th>\n",
       "      <th>state</th>\n",
       "      <th>state_po</th>\n",
       "      <th>county_name</th>\n",
       "      <th>county_fips</th>\n",
       "      <th>office</th>\n",
       "      <th>candidate</th>\n",
       "      <th>party</th>\n",
       "      <th>candidatevotes</th>\n",
       "      <th>totalvotes</th>\n",
       "      <th>version</th>\n",
       "      <th>mode</th>\n",
       "      <th>percent</th>\n",
       "    </tr>\n",
       "  </thead>\n",
       "  <tbody>\n",
       "    <tr>\n",
       "      <th>268</th>\n",
       "      <td>2000</td>\n",
       "      <td>ARIZONA</td>\n",
       "      <td>AZ</td>\n",
       "      <td>APACHE</td>\n",
       "      <td>4001.0</td>\n",
       "      <td>US PRESIDENT</td>\n",
       "      <td>AL GORE</td>\n",
       "      <td>DEMOCRAT</td>\n",
       "      <td>13025</td>\n",
       "      <td>19456</td>\n",
       "      <td>20220315</td>\n",
       "      <td>TOTAL</td>\n",
       "      <td>0.669459</td>\n",
       "    </tr>\n",
       "    <tr>\n",
       "      <th>269</th>\n",
       "      <td>2000</td>\n",
       "      <td>ARIZONA</td>\n",
       "      <td>AZ</td>\n",
       "      <td>APACHE</td>\n",
       "      <td>4001.0</td>\n",
       "      <td>US PRESIDENT</td>\n",
       "      <td>GEORGE W. BUSH</td>\n",
       "      <td>REPUBLICAN</td>\n",
       "      <td>5947</td>\n",
       "      <td>19456</td>\n",
       "      <td>20220315</td>\n",
       "      <td>TOTAL</td>\n",
       "      <td>0.305664</td>\n",
       "    </tr>\n",
       "    <tr>\n",
       "      <th>270</th>\n",
       "      <td>2000</td>\n",
       "      <td>ARIZONA</td>\n",
       "      <td>AZ</td>\n",
       "      <td>APACHE</td>\n",
       "      <td>4001.0</td>\n",
       "      <td>US PRESIDENT</td>\n",
       "      <td>RALPH NADER</td>\n",
       "      <td>GREEN</td>\n",
       "      <td>245</td>\n",
       "      <td>19456</td>\n",
       "      <td>20220315</td>\n",
       "      <td>TOTAL</td>\n",
       "      <td>0.012593</td>\n",
       "    </tr>\n",
       "    <tr>\n",
       "      <th>271</th>\n",
       "      <td>2000</td>\n",
       "      <td>ARIZONA</td>\n",
       "      <td>AZ</td>\n",
       "      <td>APACHE</td>\n",
       "      <td>4001.0</td>\n",
       "      <td>US PRESIDENT</td>\n",
       "      <td>OTHER</td>\n",
       "      <td>OTHER</td>\n",
       "      <td>239</td>\n",
       "      <td>19456</td>\n",
       "      <td>20220315</td>\n",
       "      <td>TOTAL</td>\n",
       "      <td>0.012284</td>\n",
       "    </tr>\n",
       "    <tr>\n",
       "      <th>272</th>\n",
       "      <td>2000</td>\n",
       "      <td>ARIZONA</td>\n",
       "      <td>AZ</td>\n",
       "      <td>COCHISE</td>\n",
       "      <td>4003.0</td>\n",
       "      <td>US PRESIDENT</td>\n",
       "      <td>AL GORE</td>\n",
       "      <td>DEMOCRAT</td>\n",
       "      <td>13360</td>\n",
       "      <td>33241</td>\n",
       "      <td>20220315</td>\n",
       "      <td>TOTAL</td>\n",
       "      <td>0.401913</td>\n",
       "    </tr>\n",
       "    <tr>\n",
       "      <th>...</th>\n",
       "      <td>...</td>\n",
       "      <td>...</td>\n",
       "      <td>...</td>\n",
       "      <td>...</td>\n",
       "      <td>...</td>\n",
       "      <td>...</td>\n",
       "      <td>...</td>\n",
       "      <td>...</td>\n",
       "      <td>...</td>\n",
       "      <td>...</td>\n",
       "      <td>...</td>\n",
       "      <td>...</td>\n",
       "      <td>...</td>\n",
       "    </tr>\n",
       "    <tr>\n",
       "      <th>51150</th>\n",
       "      <td>2020</td>\n",
       "      <td>ARIZONA</td>\n",
       "      <td>AZ</td>\n",
       "      <td>YUMA</td>\n",
       "      <td>4027.0</td>\n",
       "      <td>US PRESIDENT</td>\n",
       "      <td>OTHER</td>\n",
       "      <td>OTHER</td>\n",
       "      <td>0</td>\n",
       "      <td>69881</td>\n",
       "      <td>20220315</td>\n",
       "      <td>ELECTION DAY</td>\n",
       "      <td>0.000000</td>\n",
       "    </tr>\n",
       "    <tr>\n",
       "      <th>51151</th>\n",
       "      <td>2020</td>\n",
       "      <td>ARIZONA</td>\n",
       "      <td>AZ</td>\n",
       "      <td>YUMA</td>\n",
       "      <td>4027.0</td>\n",
       "      <td>US PRESIDENT</td>\n",
       "      <td>OTHER</td>\n",
       "      <td>OTHER</td>\n",
       "      <td>0</td>\n",
       "      <td>69881</td>\n",
       "      <td>20220315</td>\n",
       "      <td>PROVISIONAL</td>\n",
       "      <td>0.000000</td>\n",
       "    </tr>\n",
       "    <tr>\n",
       "      <th>51152</th>\n",
       "      <td>2020</td>\n",
       "      <td>ARIZONA</td>\n",
       "      <td>AZ</td>\n",
       "      <td>YUMA</td>\n",
       "      <td>4027.0</td>\n",
       "      <td>US PRESIDENT</td>\n",
       "      <td>DONALD J TRUMP</td>\n",
       "      <td>REPUBLICAN</td>\n",
       "      <td>30226</td>\n",
       "      <td>69881</td>\n",
       "      <td>20220315</td>\n",
       "      <td>EARLY VOTE</td>\n",
       "      <td>0.432535</td>\n",
       "    </tr>\n",
       "    <tr>\n",
       "      <th>51153</th>\n",
       "      <td>2020</td>\n",
       "      <td>ARIZONA</td>\n",
       "      <td>AZ</td>\n",
       "      <td>YUMA</td>\n",
       "      <td>4027.0</td>\n",
       "      <td>US PRESIDENT</td>\n",
       "      <td>DONALD J TRUMP</td>\n",
       "      <td>REPUBLICAN</td>\n",
       "      <td>5651</td>\n",
       "      <td>69881</td>\n",
       "      <td>20220315</td>\n",
       "      <td>ELECTION DAY</td>\n",
       "      <td>0.080866</td>\n",
       "    </tr>\n",
       "    <tr>\n",
       "      <th>51154</th>\n",
       "      <td>2020</td>\n",
       "      <td>ARIZONA</td>\n",
       "      <td>AZ</td>\n",
       "      <td>YUMA</td>\n",
       "      <td>4027.0</td>\n",
       "      <td>US PRESIDENT</td>\n",
       "      <td>DONALD J TRUMP</td>\n",
       "      <td>REPUBLICAN</td>\n",
       "      <td>657</td>\n",
       "      <td>69881</td>\n",
       "      <td>20220315</td>\n",
       "      <td>PROVISIONAL</td>\n",
       "      <td>0.009402</td>\n",
       "    </tr>\n",
       "  </tbody>\n",
       "</table>\n",
       "<p>465 rows × 13 columns</p>\n",
       "</div>"
      ],
      "text/plain": [
       "       year    state state_po county_name  county_fips        office  \\\n",
       "268    2000  ARIZONA       AZ      APACHE       4001.0  US PRESIDENT   \n",
       "269    2000  ARIZONA       AZ      APACHE       4001.0  US PRESIDENT   \n",
       "270    2000  ARIZONA       AZ      APACHE       4001.0  US PRESIDENT   \n",
       "271    2000  ARIZONA       AZ      APACHE       4001.0  US PRESIDENT   \n",
       "272    2000  ARIZONA       AZ     COCHISE       4003.0  US PRESIDENT   \n",
       "...     ...      ...      ...         ...          ...           ...   \n",
       "51150  2020  ARIZONA       AZ        YUMA       4027.0  US PRESIDENT   \n",
       "51151  2020  ARIZONA       AZ        YUMA       4027.0  US PRESIDENT   \n",
       "51152  2020  ARIZONA       AZ        YUMA       4027.0  US PRESIDENT   \n",
       "51153  2020  ARIZONA       AZ        YUMA       4027.0  US PRESIDENT   \n",
       "51154  2020  ARIZONA       AZ        YUMA       4027.0  US PRESIDENT   \n",
       "\n",
       "            candidate       party  candidatevotes  totalvotes   version  \\\n",
       "268           AL GORE    DEMOCRAT           13025       19456  20220315   \n",
       "269    GEORGE W. BUSH  REPUBLICAN            5947       19456  20220315   \n",
       "270       RALPH NADER       GREEN             245       19456  20220315   \n",
       "271             OTHER       OTHER             239       19456  20220315   \n",
       "272           AL GORE    DEMOCRAT           13360       33241  20220315   \n",
       "...               ...         ...             ...         ...       ...   \n",
       "51150           OTHER       OTHER               0       69881  20220315   \n",
       "51151           OTHER       OTHER               0       69881  20220315   \n",
       "51152  DONALD J TRUMP  REPUBLICAN           30226       69881  20220315   \n",
       "51153  DONALD J TRUMP  REPUBLICAN            5651       69881  20220315   \n",
       "51154  DONALD J TRUMP  REPUBLICAN             657       69881  20220315   \n",
       "\n",
       "               mode   percent  \n",
       "268           TOTAL  0.669459  \n",
       "269           TOTAL  0.305664  \n",
       "270           TOTAL  0.012593  \n",
       "271           TOTAL  0.012284  \n",
       "272           TOTAL  0.401913  \n",
       "...             ...       ...  \n",
       "51150  ELECTION DAY  0.000000  \n",
       "51151   PROVISIONAL  0.000000  \n",
       "51152    EARLY VOTE  0.432535  \n",
       "51153  ELECTION DAY  0.080866  \n",
       "51154   PROVISIONAL  0.009402  \n",
       "\n",
       "[465 rows x 13 columns]"
      ]
     },
     "execution_count": 32,
     "metadata": {},
     "output_type": "execute_result"
    }
   ],
   "source": [
    "df[df[\"state_po\"]==\"AZ\"]"
   ]
  },
  {
   "cell_type": "code",
   "execution_count": 31,
   "metadata": {},
   "outputs": [
    {
     "data": {
      "text/plain": [
       "'06001.0'"
      ]
     },
     "execution_count": 31,
     "metadata": {},
     "output_type": "execute_result"
    }
   ],
   "source": [
    "\"6001.0\".zfill(7)"
   ]
  },
  {
   "cell_type": "code",
   "execution_count": 22,
   "metadata": {},
   "outputs": [],
   "source": [
    "df = df[df[\"mode\"]==\"TOTAL\"]"
   ]
  },
  {
   "cell_type": "code",
   "execution_count": 12,
   "metadata": {},
   "outputs": [
    {
     "name": "stderr",
     "output_type": "stream",
     "text": [
      "C:\\Users\\zeusg\\AppData\\Local\\Temp/ipykernel_53968/2595234158.py:1: FutureWarning: The default value of numeric_only in DataFrameGroupBy.mean is deprecated. In a future version, numeric_only will default to False. Either specify numeric_only or select only columns which should be valid for the function.\n",
      "  avg = df.groupby(by=[\"state\", \"county_name\", \"county_fips\"]).mean().reset_index()\n"
     ]
    },
    {
     "data": {
      "text/html": [
       "<div>\n",
       "<style scoped>\n",
       "    .dataframe tbody tr th:only-of-type {\n",
       "        vertical-align: middle;\n",
       "    }\n",
       "\n",
       "    .dataframe tbody tr th {\n",
       "        vertical-align: top;\n",
       "    }\n",
       "\n",
       "    .dataframe thead th {\n",
       "        text-align: right;\n",
       "    }\n",
       "</style>\n",
       "<table border=\"1\" class=\"dataframe\">\n",
       "  <thead>\n",
       "    <tr style=\"text-align: right;\">\n",
       "      <th></th>\n",
       "      <th>state</th>\n",
       "      <th>county_name</th>\n",
       "      <th>county_fips</th>\n",
       "      <th>year</th>\n",
       "      <th>candidatevotes</th>\n",
       "      <th>totalvotes</th>\n",
       "      <th>version</th>\n",
       "      <th>percent</th>\n",
       "    </tr>\n",
       "  </thead>\n",
       "  <tbody>\n",
       "    <tr>\n",
       "      <th>0</th>\n",
       "      <td>ALABAMA</td>\n",
       "      <td>AUTAUGA</td>\n",
       "      <td>1001.0</td>\n",
       "      <td>2009.473684</td>\n",
       "      <td>7242.368421</td>\n",
       "      <td>22632.789474</td>\n",
       "      <td>20220315.0</td>\n",
       "      <td>0.319995</td>\n",
       "    </tr>\n",
       "    <tr>\n",
       "      <th>1</th>\n",
       "      <td>ALABAMA</td>\n",
       "      <td>BALDWIN</td>\n",
       "      <td>1003.0</td>\n",
       "      <td>2009.473684</td>\n",
       "      <td>26181.315789</td>\n",
       "      <td>81516.578947</td>\n",
       "      <td>20220315.0</td>\n",
       "      <td>0.321178</td>\n",
       "    </tr>\n",
       "    <tr>\n",
       "      <th>2</th>\n",
       "      <td>ALABAMA</td>\n",
       "      <td>BARBOUR</td>\n",
       "      <td>1005.0</td>\n",
       "      <td>2009.473684</td>\n",
       "      <td>3436.736842</td>\n",
       "      <td>10857.315789</td>\n",
       "      <td>20220315.0</td>\n",
       "      <td>0.316537</td>\n",
       "    </tr>\n",
       "    <tr>\n",
       "      <th>3</th>\n",
       "      <td>ALABAMA</td>\n",
       "      <td>BIBB</td>\n",
       "      <td>1007.0</td>\n",
       "      <td>2009.473684</td>\n",
       "      <td>2641.000000</td>\n",
       "      <td>8296.736842</td>\n",
       "      <td>20220315.0</td>\n",
       "      <td>0.318318</td>\n",
       "    </tr>\n",
       "    <tr>\n",
       "      <th>4</th>\n",
       "      <td>ALABAMA</td>\n",
       "      <td>BLOUNT</td>\n",
       "      <td>1009.0</td>\n",
       "      <td>2009.473684</td>\n",
       "      <td>7417.157895</td>\n",
       "      <td>23197.421053</td>\n",
       "      <td>20220315.0</td>\n",
       "      <td>0.319741</td>\n",
       "    </tr>\n",
       "    <tr>\n",
       "      <th>...</th>\n",
       "      <td>...</td>\n",
       "      <td>...</td>\n",
       "      <td>...</td>\n",
       "      <td>...</td>\n",
       "      <td>...</td>\n",
       "      <td>...</td>\n",
       "      <td>...</td>\n",
       "      <td>...</td>\n",
       "    </tr>\n",
       "    <tr>\n",
       "      <th>3190</th>\n",
       "      <td>WYOMING</td>\n",
       "      <td>SWEETWATER</td>\n",
       "      <td>56037.0</td>\n",
       "      <td>2010.000000</td>\n",
       "      <td>4975.950000</td>\n",
       "      <td>16547.300000</td>\n",
       "      <td>20220315.0</td>\n",
       "      <td>0.300711</td>\n",
       "    </tr>\n",
       "    <tr>\n",
       "      <th>3191</th>\n",
       "      <td>WYOMING</td>\n",
       "      <td>TETON</td>\n",
       "      <td>56039.0</td>\n",
       "      <td>2010.000000</td>\n",
       "      <td>3651.350000</td>\n",
       "      <td>12214.950000</td>\n",
       "      <td>20220315.0</td>\n",
       "      <td>0.298925</td>\n",
       "    </tr>\n",
       "    <tr>\n",
       "      <th>3192</th>\n",
       "      <td>WYOMING</td>\n",
       "      <td>UINTA</td>\n",
       "      <td>56041.0</td>\n",
       "      <td>2010.000000</td>\n",
       "      <td>2519.250000</td>\n",
       "      <td>8401.600000</td>\n",
       "      <td>20220315.0</td>\n",
       "      <td>0.299854</td>\n",
       "    </tr>\n",
       "    <tr>\n",
       "      <th>3193</th>\n",
       "      <td>WYOMING</td>\n",
       "      <td>WASHAKIE</td>\n",
       "      <td>56043.0</td>\n",
       "      <td>2010.000000</td>\n",
       "      <td>1202.750000</td>\n",
       "      <td>4012.400000</td>\n",
       "      <td>20220315.0</td>\n",
       "      <td>0.299758</td>\n",
       "    </tr>\n",
       "    <tr>\n",
       "      <th>3194</th>\n",
       "      <td>WYOMING</td>\n",
       "      <td>WESTON</td>\n",
       "      <td>56045.0</td>\n",
       "      <td>2010.000000</td>\n",
       "      <td>1015.550000</td>\n",
       "      <td>3377.650000</td>\n",
       "      <td>20220315.0</td>\n",
       "      <td>0.300668</td>\n",
       "    </tr>\n",
       "  </tbody>\n",
       "</table>\n",
       "<p>3195 rows × 8 columns</p>\n",
       "</div>"
      ],
      "text/plain": [
       "        state county_name  county_fips         year  candidatevotes  \\\n",
       "0     ALABAMA     AUTAUGA       1001.0  2009.473684     7242.368421   \n",
       "1     ALABAMA     BALDWIN       1003.0  2009.473684    26181.315789   \n",
       "2     ALABAMA     BARBOUR       1005.0  2009.473684     3436.736842   \n",
       "3     ALABAMA        BIBB       1007.0  2009.473684     2641.000000   \n",
       "4     ALABAMA      BLOUNT       1009.0  2009.473684     7417.157895   \n",
       "...       ...         ...          ...          ...             ...   \n",
       "3190  WYOMING  SWEETWATER      56037.0  2010.000000     4975.950000   \n",
       "3191  WYOMING       TETON      56039.0  2010.000000     3651.350000   \n",
       "3192  WYOMING       UINTA      56041.0  2010.000000     2519.250000   \n",
       "3193  WYOMING    WASHAKIE      56043.0  2010.000000     1202.750000   \n",
       "3194  WYOMING      WESTON      56045.0  2010.000000     1015.550000   \n",
       "\n",
       "        totalvotes     version   percent  \n",
       "0     22632.789474  20220315.0  0.319995  \n",
       "1     81516.578947  20220315.0  0.321178  \n",
       "2     10857.315789  20220315.0  0.316537  \n",
       "3      8296.736842  20220315.0  0.318318  \n",
       "4     23197.421053  20220315.0  0.319741  \n",
       "...            ...         ...       ...  \n",
       "3190  16547.300000  20220315.0  0.300711  \n",
       "3191  12214.950000  20220315.0  0.298925  \n",
       "3192   8401.600000  20220315.0  0.299854  \n",
       "3193   4012.400000  20220315.0  0.299758  \n",
       "3194   3377.650000  20220315.0  0.300668  \n",
       "\n",
       "[3195 rows x 8 columns]"
      ]
     },
     "execution_count": 12,
     "metadata": {},
     "output_type": "execute_result"
    }
   ],
   "source": [
    "avg = df.groupby(by=[\"state\", \"county_name\", \"county_fips\"]).mean().reset_index()\n",
    "avg[\"percent\"] = avg[\"candidatevotes\"]/avg[\"totalvotes\"]\n",
    "avg"
   ]
  },
  {
   "cell_type": "code",
   "execution_count": 54,
   "metadata": {},
   "outputs": [],
   "source": [
    "def get_county_votes(year = 2020, avg = False):\n",
    "    df = pd.read_csv(\"data\\Partisian\\countypres_2000-2020.csv\")\n",
    "    df[\"percent\"] = df[\"candidatevotes\"]/df[\"totalvotes\"]\n",
    "    df[\"fips\"] = df.county_fips.apply(lambda x: str(x).split(\".\")[0].zfill(5))\n",
    "    df = df[df[\"mode\"]==\"TOTAL\"]\n",
    "    \n",
    "    if avg: \n",
    "        df = df[df.year <= year]\n",
    "        df = df.groupby(by=[\"state\", \"county_name\", \"county_fips\"]).mean().reset_index()\n",
    "    \n",
    "    return df"
   ]
  },
  {
   "cell_type": "code",
   "execution_count": 60,
   "metadata": {},
   "outputs": [
    {
     "data": {
      "text/html": [
       "<div>\n",
       "<style scoped>\n",
       "    .dataframe tbody tr th:only-of-type {\n",
       "        vertical-align: middle;\n",
       "    }\n",
       "\n",
       "    .dataframe tbody tr th {\n",
       "        vertical-align: top;\n",
       "    }\n",
       "\n",
       "    .dataframe thead th {\n",
       "        text-align: right;\n",
       "    }\n",
       "</style>\n",
       "<table border=\"1\" class=\"dataframe\">\n",
       "  <thead>\n",
       "    <tr style=\"text-align: right;\">\n",
       "      <th></th>\n",
       "      <th>year</th>\n",
       "      <th>state</th>\n",
       "      <th>state_po</th>\n",
       "      <th>county_name</th>\n",
       "      <th>county_fips</th>\n",
       "      <th>office</th>\n",
       "      <th>candidate</th>\n",
       "      <th>party</th>\n",
       "      <th>candidatevotes</th>\n",
       "      <th>totalvotes</th>\n",
       "      <th>version</th>\n",
       "      <th>mode</th>\n",
       "      <th>percent</th>\n",
       "      <th>fips</th>\n",
       "    </tr>\n",
       "  </thead>\n",
       "  <tbody>\n",
       "    <tr>\n",
       "      <th>268</th>\n",
       "      <td>2000</td>\n",
       "      <td>ARIZONA</td>\n",
       "      <td>AZ</td>\n",
       "      <td>APACHE</td>\n",
       "      <td>4001.0</td>\n",
       "      <td>US PRESIDENT</td>\n",
       "      <td>AL GORE</td>\n",
       "      <td>DEMOCRAT</td>\n",
       "      <td>13025</td>\n",
       "      <td>19456</td>\n",
       "      <td>20220315</td>\n",
       "      <td>TOTAL</td>\n",
       "      <td>0.669459</td>\n",
       "      <td>04001</td>\n",
       "    </tr>\n",
       "    <tr>\n",
       "      <th>269</th>\n",
       "      <td>2000</td>\n",
       "      <td>ARIZONA</td>\n",
       "      <td>AZ</td>\n",
       "      <td>APACHE</td>\n",
       "      <td>4001.0</td>\n",
       "      <td>US PRESIDENT</td>\n",
       "      <td>GEORGE W. BUSH</td>\n",
       "      <td>REPUBLICAN</td>\n",
       "      <td>5947</td>\n",
       "      <td>19456</td>\n",
       "      <td>20220315</td>\n",
       "      <td>TOTAL</td>\n",
       "      <td>0.305664</td>\n",
       "      <td>04001</td>\n",
       "    </tr>\n",
       "    <tr>\n",
       "      <th>270</th>\n",
       "      <td>2000</td>\n",
       "      <td>ARIZONA</td>\n",
       "      <td>AZ</td>\n",
       "      <td>APACHE</td>\n",
       "      <td>4001.0</td>\n",
       "      <td>US PRESIDENT</td>\n",
       "      <td>RALPH NADER</td>\n",
       "      <td>GREEN</td>\n",
       "      <td>245</td>\n",
       "      <td>19456</td>\n",
       "      <td>20220315</td>\n",
       "      <td>TOTAL</td>\n",
       "      <td>0.012593</td>\n",
       "      <td>04001</td>\n",
       "    </tr>\n",
       "    <tr>\n",
       "      <th>271</th>\n",
       "      <td>2000</td>\n",
       "      <td>ARIZONA</td>\n",
       "      <td>AZ</td>\n",
       "      <td>APACHE</td>\n",
       "      <td>4001.0</td>\n",
       "      <td>US PRESIDENT</td>\n",
       "      <td>OTHER</td>\n",
       "      <td>OTHER</td>\n",
       "      <td>239</td>\n",
       "      <td>19456</td>\n",
       "      <td>20220315</td>\n",
       "      <td>TOTAL</td>\n",
       "      <td>0.012284</td>\n",
       "      <td>04001</td>\n",
       "    </tr>\n",
       "    <tr>\n",
       "      <th>272</th>\n",
       "      <td>2000</td>\n",
       "      <td>ARIZONA</td>\n",
       "      <td>AZ</td>\n",
       "      <td>COCHISE</td>\n",
       "      <td>4003.0</td>\n",
       "      <td>US PRESIDENT</td>\n",
       "      <td>AL GORE</td>\n",
       "      <td>DEMOCRAT</td>\n",
       "      <td>13360</td>\n",
       "      <td>33241</td>\n",
       "      <td>20220315</td>\n",
       "      <td>TOTAL</td>\n",
       "      <td>0.401913</td>\n",
       "      <td>04003</td>\n",
       "    </tr>\n",
       "    <tr>\n",
       "      <th>...</th>\n",
       "      <td>...</td>\n",
       "      <td>...</td>\n",
       "      <td>...</td>\n",
       "      <td>...</td>\n",
       "      <td>...</td>\n",
       "      <td>...</td>\n",
       "      <td>...</td>\n",
       "      <td>...</td>\n",
       "      <td>...</td>\n",
       "      <td>...</td>\n",
       "      <td>...</td>\n",
       "      <td>...</td>\n",
       "      <td>...</td>\n",
       "      <td>...</td>\n",
       "    </tr>\n",
       "    <tr>\n",
       "      <th>40758</th>\n",
       "      <td>2016</td>\n",
       "      <td>ARIZONA</td>\n",
       "      <td>AZ</td>\n",
       "      <td>YAVAPAI</td>\n",
       "      <td>4025.0</td>\n",
       "      <td>US PRESIDENT</td>\n",
       "      <td>DONALD TRUMP</td>\n",
       "      <td>REPUBLICAN</td>\n",
       "      <td>71330</td>\n",
       "      <td>114450</td>\n",
       "      <td>20220315</td>\n",
       "      <td>TOTAL</td>\n",
       "      <td>0.623242</td>\n",
       "      <td>04025</td>\n",
       "    </tr>\n",
       "    <tr>\n",
       "      <th>40759</th>\n",
       "      <td>2016</td>\n",
       "      <td>ARIZONA</td>\n",
       "      <td>AZ</td>\n",
       "      <td>YAVAPAI</td>\n",
       "      <td>4025.0</td>\n",
       "      <td>US PRESIDENT</td>\n",
       "      <td>OTHER</td>\n",
       "      <td>OTHER</td>\n",
       "      <td>7530</td>\n",
       "      <td>114450</td>\n",
       "      <td>20220315</td>\n",
       "      <td>TOTAL</td>\n",
       "      <td>0.065793</td>\n",
       "      <td>04025</td>\n",
       "    </tr>\n",
       "    <tr>\n",
       "      <th>40760</th>\n",
       "      <td>2016</td>\n",
       "      <td>ARIZONA</td>\n",
       "      <td>AZ</td>\n",
       "      <td>YUMA</td>\n",
       "      <td>4027.0</td>\n",
       "      <td>US PRESIDENT</td>\n",
       "      <td>HILLARY CLINTON</td>\n",
       "      <td>DEMOCRAT</td>\n",
       "      <td>24605</td>\n",
       "      <td>53010</td>\n",
       "      <td>20220315</td>\n",
       "      <td>TOTAL</td>\n",
       "      <td>0.464158</td>\n",
       "      <td>04027</td>\n",
       "    </tr>\n",
       "    <tr>\n",
       "      <th>40761</th>\n",
       "      <td>2016</td>\n",
       "      <td>ARIZONA</td>\n",
       "      <td>AZ</td>\n",
       "      <td>YUMA</td>\n",
       "      <td>4027.0</td>\n",
       "      <td>US PRESIDENT</td>\n",
       "      <td>DONALD TRUMP</td>\n",
       "      <td>REPUBLICAN</td>\n",
       "      <td>25165</td>\n",
       "      <td>53010</td>\n",
       "      <td>20220315</td>\n",
       "      <td>TOTAL</td>\n",
       "      <td>0.474722</td>\n",
       "      <td>04027</td>\n",
       "    </tr>\n",
       "    <tr>\n",
       "      <th>40762</th>\n",
       "      <td>2016</td>\n",
       "      <td>ARIZONA</td>\n",
       "      <td>AZ</td>\n",
       "      <td>YUMA</td>\n",
       "      <td>4027.0</td>\n",
       "      <td>US PRESIDENT</td>\n",
       "      <td>OTHER</td>\n",
       "      <td>OTHER</td>\n",
       "      <td>3240</td>\n",
       "      <td>53010</td>\n",
       "      <td>20220315</td>\n",
       "      <td>TOTAL</td>\n",
       "      <td>0.061121</td>\n",
       "      <td>04027</td>\n",
       "    </tr>\n",
       "  </tbody>\n",
       "</table>\n",
       "<p>240 rows × 14 columns</p>\n",
       "</div>"
      ],
      "text/plain": [
       "       year    state state_po county_name  county_fips        office  \\\n",
       "268    2000  ARIZONA       AZ      APACHE       4001.0  US PRESIDENT   \n",
       "269    2000  ARIZONA       AZ      APACHE       4001.0  US PRESIDENT   \n",
       "270    2000  ARIZONA       AZ      APACHE       4001.0  US PRESIDENT   \n",
       "271    2000  ARIZONA       AZ      APACHE       4001.0  US PRESIDENT   \n",
       "272    2000  ARIZONA       AZ     COCHISE       4003.0  US PRESIDENT   \n",
       "...     ...      ...      ...         ...          ...           ...   \n",
       "40758  2016  ARIZONA       AZ     YAVAPAI       4025.0  US PRESIDENT   \n",
       "40759  2016  ARIZONA       AZ     YAVAPAI       4025.0  US PRESIDENT   \n",
       "40760  2016  ARIZONA       AZ        YUMA       4027.0  US PRESIDENT   \n",
       "40761  2016  ARIZONA       AZ        YUMA       4027.0  US PRESIDENT   \n",
       "40762  2016  ARIZONA       AZ        YUMA       4027.0  US PRESIDENT   \n",
       "\n",
       "             candidate       party  candidatevotes  totalvotes   version  \\\n",
       "268            AL GORE    DEMOCRAT           13025       19456  20220315   \n",
       "269     GEORGE W. BUSH  REPUBLICAN            5947       19456  20220315   \n",
       "270        RALPH NADER       GREEN             245       19456  20220315   \n",
       "271              OTHER       OTHER             239       19456  20220315   \n",
       "272            AL GORE    DEMOCRAT           13360       33241  20220315   \n",
       "...                ...         ...             ...         ...       ...   \n",
       "40758     DONALD TRUMP  REPUBLICAN           71330      114450  20220315   \n",
       "40759            OTHER       OTHER            7530      114450  20220315   \n",
       "40760  HILLARY CLINTON    DEMOCRAT           24605       53010  20220315   \n",
       "40761     DONALD TRUMP  REPUBLICAN           25165       53010  20220315   \n",
       "40762            OTHER       OTHER            3240       53010  20220315   \n",
       "\n",
       "        mode   percent   fips  \n",
       "268    TOTAL  0.669459  04001  \n",
       "269    TOTAL  0.305664  04001  \n",
       "270    TOTAL  0.012593  04001  \n",
       "271    TOTAL  0.012284  04001  \n",
       "272    TOTAL  0.401913  04003  \n",
       "...      ...       ...    ...  \n",
       "40758  TOTAL  0.623242  04025  \n",
       "40759  TOTAL  0.065793  04025  \n",
       "40760  TOTAL  0.464158  04027  \n",
       "40761  TOTAL  0.474722  04027  \n",
       "40762  TOTAL  0.061121  04027  \n",
       "\n",
       "[240 rows x 14 columns]"
      ]
     },
     "execution_count": 60,
     "metadata": {},
     "output_type": "execute_result"
    }
   ],
   "source": [
    "test = get_county_votes()\n",
    "test[test[\"state_po\"]==\"AZ\"]"
   ]
  },
  {
   "cell_type": "code",
   "execution_count": 56,
   "metadata": {},
   "outputs": [],
   "source": [
    "df = pd.read_csv(\"data\\Partisian\\countypres_2000-2020.csv\")\n",
    "df[\"percent\"] = df[\"candidatevotes\"]/df[\"totalvotes\"]\n",
    "df[\"fips\"] = df.county_fips.apply(lambda x: str(x).split(\".\")[0].zfill(5))\n",
    "df = df[df[\"mode\"]==\"TOTAL\"]"
   ]
  },
  {
   "cell_type": "code",
   "execution_count": 59,
   "metadata": {},
   "outputs": [
    {
     "data": {
      "text/html": [
       "<div>\n",
       "<style scoped>\n",
       "    .dataframe tbody tr th:only-of-type {\n",
       "        vertical-align: middle;\n",
       "    }\n",
       "\n",
       "    .dataframe tbody tr th {\n",
       "        vertical-align: top;\n",
       "    }\n",
       "\n",
       "    .dataframe thead th {\n",
       "        text-align: right;\n",
       "    }\n",
       "</style>\n",
       "<table border=\"1\" class=\"dataframe\">\n",
       "  <thead>\n",
       "    <tr style=\"text-align: right;\">\n",
       "      <th></th>\n",
       "      <th>year</th>\n",
       "      <th>state</th>\n",
       "      <th>state_po</th>\n",
       "      <th>county_name</th>\n",
       "      <th>county_fips</th>\n",
       "      <th>office</th>\n",
       "      <th>candidate</th>\n",
       "      <th>party</th>\n",
       "      <th>candidatevotes</th>\n",
       "      <th>totalvotes</th>\n",
       "      <th>version</th>\n",
       "      <th>mode</th>\n",
       "      <th>percent</th>\n",
       "      <th>fips</th>\n",
       "    </tr>\n",
       "  </thead>\n",
       "  <tbody>\n",
       "    <tr>\n",
       "      <th>268</th>\n",
       "      <td>2000</td>\n",
       "      <td>ARIZONA</td>\n",
       "      <td>AZ</td>\n",
       "      <td>APACHE</td>\n",
       "      <td>4001.0</td>\n",
       "      <td>US PRESIDENT</td>\n",
       "      <td>AL GORE</td>\n",
       "      <td>DEMOCRAT</td>\n",
       "      <td>13025</td>\n",
       "      <td>19456</td>\n",
       "      <td>20220315</td>\n",
       "      <td>TOTAL</td>\n",
       "      <td>0.669459</td>\n",
       "      <td>04001</td>\n",
       "    </tr>\n",
       "    <tr>\n",
       "      <th>269</th>\n",
       "      <td>2000</td>\n",
       "      <td>ARIZONA</td>\n",
       "      <td>AZ</td>\n",
       "      <td>APACHE</td>\n",
       "      <td>4001.0</td>\n",
       "      <td>US PRESIDENT</td>\n",
       "      <td>GEORGE W. BUSH</td>\n",
       "      <td>REPUBLICAN</td>\n",
       "      <td>5947</td>\n",
       "      <td>19456</td>\n",
       "      <td>20220315</td>\n",
       "      <td>TOTAL</td>\n",
       "      <td>0.305664</td>\n",
       "      <td>04001</td>\n",
       "    </tr>\n",
       "    <tr>\n",
       "      <th>270</th>\n",
       "      <td>2000</td>\n",
       "      <td>ARIZONA</td>\n",
       "      <td>AZ</td>\n",
       "      <td>APACHE</td>\n",
       "      <td>4001.0</td>\n",
       "      <td>US PRESIDENT</td>\n",
       "      <td>RALPH NADER</td>\n",
       "      <td>GREEN</td>\n",
       "      <td>245</td>\n",
       "      <td>19456</td>\n",
       "      <td>20220315</td>\n",
       "      <td>TOTAL</td>\n",
       "      <td>0.012593</td>\n",
       "      <td>04001</td>\n",
       "    </tr>\n",
       "    <tr>\n",
       "      <th>271</th>\n",
       "      <td>2000</td>\n",
       "      <td>ARIZONA</td>\n",
       "      <td>AZ</td>\n",
       "      <td>APACHE</td>\n",
       "      <td>4001.0</td>\n",
       "      <td>US PRESIDENT</td>\n",
       "      <td>OTHER</td>\n",
       "      <td>OTHER</td>\n",
       "      <td>239</td>\n",
       "      <td>19456</td>\n",
       "      <td>20220315</td>\n",
       "      <td>TOTAL</td>\n",
       "      <td>0.012284</td>\n",
       "      <td>04001</td>\n",
       "    </tr>\n",
       "    <tr>\n",
       "      <th>272</th>\n",
       "      <td>2000</td>\n",
       "      <td>ARIZONA</td>\n",
       "      <td>AZ</td>\n",
       "      <td>COCHISE</td>\n",
       "      <td>4003.0</td>\n",
       "      <td>US PRESIDENT</td>\n",
       "      <td>AL GORE</td>\n",
       "      <td>DEMOCRAT</td>\n",
       "      <td>13360</td>\n",
       "      <td>33241</td>\n",
       "      <td>20220315</td>\n",
       "      <td>TOTAL</td>\n",
       "      <td>0.401913</td>\n",
       "      <td>04003</td>\n",
       "    </tr>\n",
       "    <tr>\n",
       "      <th>...</th>\n",
       "      <td>...</td>\n",
       "      <td>...</td>\n",
       "      <td>...</td>\n",
       "      <td>...</td>\n",
       "      <td>...</td>\n",
       "      <td>...</td>\n",
       "      <td>...</td>\n",
       "      <td>...</td>\n",
       "      <td>...</td>\n",
       "      <td>...</td>\n",
       "      <td>...</td>\n",
       "      <td>...</td>\n",
       "      <td>...</td>\n",
       "      <td>...</td>\n",
       "    </tr>\n",
       "    <tr>\n",
       "      <th>40758</th>\n",
       "      <td>2016</td>\n",
       "      <td>ARIZONA</td>\n",
       "      <td>AZ</td>\n",
       "      <td>YAVAPAI</td>\n",
       "      <td>4025.0</td>\n",
       "      <td>US PRESIDENT</td>\n",
       "      <td>DONALD TRUMP</td>\n",
       "      <td>REPUBLICAN</td>\n",
       "      <td>71330</td>\n",
       "      <td>114450</td>\n",
       "      <td>20220315</td>\n",
       "      <td>TOTAL</td>\n",
       "      <td>0.623242</td>\n",
       "      <td>04025</td>\n",
       "    </tr>\n",
       "    <tr>\n",
       "      <th>40759</th>\n",
       "      <td>2016</td>\n",
       "      <td>ARIZONA</td>\n",
       "      <td>AZ</td>\n",
       "      <td>YAVAPAI</td>\n",
       "      <td>4025.0</td>\n",
       "      <td>US PRESIDENT</td>\n",
       "      <td>OTHER</td>\n",
       "      <td>OTHER</td>\n",
       "      <td>7530</td>\n",
       "      <td>114450</td>\n",
       "      <td>20220315</td>\n",
       "      <td>TOTAL</td>\n",
       "      <td>0.065793</td>\n",
       "      <td>04025</td>\n",
       "    </tr>\n",
       "    <tr>\n",
       "      <th>40760</th>\n",
       "      <td>2016</td>\n",
       "      <td>ARIZONA</td>\n",
       "      <td>AZ</td>\n",
       "      <td>YUMA</td>\n",
       "      <td>4027.0</td>\n",
       "      <td>US PRESIDENT</td>\n",
       "      <td>HILLARY CLINTON</td>\n",
       "      <td>DEMOCRAT</td>\n",
       "      <td>24605</td>\n",
       "      <td>53010</td>\n",
       "      <td>20220315</td>\n",
       "      <td>TOTAL</td>\n",
       "      <td>0.464158</td>\n",
       "      <td>04027</td>\n",
       "    </tr>\n",
       "    <tr>\n",
       "      <th>40761</th>\n",
       "      <td>2016</td>\n",
       "      <td>ARIZONA</td>\n",
       "      <td>AZ</td>\n",
       "      <td>YUMA</td>\n",
       "      <td>4027.0</td>\n",
       "      <td>US PRESIDENT</td>\n",
       "      <td>DONALD TRUMP</td>\n",
       "      <td>REPUBLICAN</td>\n",
       "      <td>25165</td>\n",
       "      <td>53010</td>\n",
       "      <td>20220315</td>\n",
       "      <td>TOTAL</td>\n",
       "      <td>0.474722</td>\n",
       "      <td>04027</td>\n",
       "    </tr>\n",
       "    <tr>\n",
       "      <th>40762</th>\n",
       "      <td>2016</td>\n",
       "      <td>ARIZONA</td>\n",
       "      <td>AZ</td>\n",
       "      <td>YUMA</td>\n",
       "      <td>4027.0</td>\n",
       "      <td>US PRESIDENT</td>\n",
       "      <td>OTHER</td>\n",
       "      <td>OTHER</td>\n",
       "      <td>3240</td>\n",
       "      <td>53010</td>\n",
       "      <td>20220315</td>\n",
       "      <td>TOTAL</td>\n",
       "      <td>0.061121</td>\n",
       "      <td>04027</td>\n",
       "    </tr>\n",
       "  </tbody>\n",
       "</table>\n",
       "<p>240 rows × 14 columns</p>\n",
       "</div>"
      ],
      "text/plain": [
       "       year    state state_po county_name  county_fips        office  \\\n",
       "268    2000  ARIZONA       AZ      APACHE       4001.0  US PRESIDENT   \n",
       "269    2000  ARIZONA       AZ      APACHE       4001.0  US PRESIDENT   \n",
       "270    2000  ARIZONA       AZ      APACHE       4001.0  US PRESIDENT   \n",
       "271    2000  ARIZONA       AZ      APACHE       4001.0  US PRESIDENT   \n",
       "272    2000  ARIZONA       AZ     COCHISE       4003.0  US PRESIDENT   \n",
       "...     ...      ...      ...         ...          ...           ...   \n",
       "40758  2016  ARIZONA       AZ     YAVAPAI       4025.0  US PRESIDENT   \n",
       "40759  2016  ARIZONA       AZ     YAVAPAI       4025.0  US PRESIDENT   \n",
       "40760  2016  ARIZONA       AZ        YUMA       4027.0  US PRESIDENT   \n",
       "40761  2016  ARIZONA       AZ        YUMA       4027.0  US PRESIDENT   \n",
       "40762  2016  ARIZONA       AZ        YUMA       4027.0  US PRESIDENT   \n",
       "\n",
       "             candidate       party  candidatevotes  totalvotes   version  \\\n",
       "268            AL GORE    DEMOCRAT           13025       19456  20220315   \n",
       "269     GEORGE W. BUSH  REPUBLICAN            5947       19456  20220315   \n",
       "270        RALPH NADER       GREEN             245       19456  20220315   \n",
       "271              OTHER       OTHER             239       19456  20220315   \n",
       "272            AL GORE    DEMOCRAT           13360       33241  20220315   \n",
       "...                ...         ...             ...         ...       ...   \n",
       "40758     DONALD TRUMP  REPUBLICAN           71330      114450  20220315   \n",
       "40759            OTHER       OTHER            7530      114450  20220315   \n",
       "40760  HILLARY CLINTON    DEMOCRAT           24605       53010  20220315   \n",
       "40761     DONALD TRUMP  REPUBLICAN           25165       53010  20220315   \n",
       "40762            OTHER       OTHER            3240       53010  20220315   \n",
       "\n",
       "        mode   percent   fips  \n",
       "268    TOTAL  0.669459  04001  \n",
       "269    TOTAL  0.305664  04001  \n",
       "270    TOTAL  0.012593  04001  \n",
       "271    TOTAL  0.012284  04001  \n",
       "272    TOTAL  0.401913  04003  \n",
       "...      ...       ...    ...  \n",
       "40758  TOTAL  0.623242  04025  \n",
       "40759  TOTAL  0.065793  04025  \n",
       "40760  TOTAL  0.464158  04027  \n",
       "40761  TOTAL  0.474722  04027  \n",
       "40762  TOTAL  0.061121  04027  \n",
       "\n",
       "[240 rows x 14 columns]"
      ]
     },
     "execution_count": 59,
     "metadata": {},
     "output_type": "execute_result"
    }
   ],
   "source": [
    "\n",
    "df[df[\"state_po\"]==\"AZ\"]"
   ]
  },
  {
   "cell_type": "code",
   "execution_count": null,
   "metadata": {},
   "outputs": [],
   "source": []
  },
  {
   "cell_type": "code",
   "execution_count": null,
   "metadata": {},
   "outputs": [],
   "source": []
  },
  {
   "cell_type": "code",
   "execution_count": 5,
   "metadata": {},
   "outputs": [],
   "source": [
    "def get_state_part_score(year=2024):\n",
    "    us_state_to_abbrev = {\"Alabama\": \"AL\",\"Alaska\": \"AK\",\"Arizona\": \"AZ\",\"Arkansas\": \"AR\",\"California\": \"CA\",\"Colorado\": \"CO\",\"Connecticut\": \"CT\",\"Delaware\": \"DE\",\"Florida\": \"FL\",\"Georgia\": \"GA\",\"Hawaii\": \"HI\",\"Idaho\": \"ID\",\"Illinois\": \"IL\",\"Indiana\": \"IN\",\"Iowa\": \"IA\",\"Kansas\": \"KS\",\"Kentucky\": \"KY\",\"Louisiana\": \"LA\",\"Maine\": \"ME\",\"Maryland\": \"MD\",\"Massachusetts\": \"MA\",\"Michigan\": \"MI\",\"Minnesota\": \"MN\",\"Mississippi\": \"MS\",\"Missouri\": \"MO\",\"Montana\": \"MT\",\"Nebraska\": \"NE\",\"Nevada\": \"NV\",\"NewHampshire\": \"NH\",\"NewJersey\": \"NJ\",\"NewMexico\": \"NM\",\"NewYork\": \"NY\",\"NorthCarolina\": \"NC\",\"NorthDakota\": \"ND\",\"Ohio\": \"OH\",\"Oklahoma\": \"OK\",\"Oregon\": \"OR\",\"Pennsylvania\": \"PA\",\"RhodeIsland\": \"RI\",\"SouthCarolina\": \"SC\",\"SouthDakota\": \"SD\",\"Tennessee\": \"TN\",\"Texas\": \"TX\",\"Utah\": \"UT\",\"Vermont\": \"VT\",\"Virginia\": \"VA\",\"Washington\": \"WA\",\"WestVirginia\": \"WV\",\"Wisconsin\": \"WI\",\"Wyoming\": \"WY\",\"District of Columbia\": \"DC\",\"American Samoa\": \"AS\",\"Guam\": \"GU\",\"Northern Mariana Islands\": \"MP\",\"Puerto Rico\": \"PR\",\"United States Minor Outlying Islands\": \"UM\",\"U.S. Virgin Islands\": \"VI\"}\n",
    "    df = pd.read_csv(r\"data\\Partisian\\StateControl.txt\", delimiter=\" \")\n",
    "    df[\"Part_Score\"]  = df.StateControl.map({\"Rep\":1,\"Divided\":0,\"Dem\":-1, np.nan:np.nan})\n",
    "    df[\"State\"] = df.STATE.map(us_state_to_abbrev)\n",
    "    df = df[df.Year < year]\n",
    "    state_score = df.groupby(by=[\"State\"]).Part_Score.mean().sort_values().reset_index()\n",
    "    state_score[\"Year\"] = year\n",
    "    \n",
    "    return state_score"
   ]
  },
  {
   "cell_type": "code",
   "execution_count": 6,
   "metadata": {},
   "outputs": [],
   "source": [
    "state_scores = []\n",
    "for year in range(2010, 2024):\n",
    "    state_scores.append(get_state_part_score(year))\n",
    "state_scores = pd.concat(state_scores)\n"
   ]
  },
  {
   "cell_type": "code",
   "execution_count": null,
   "metadata": {},
   "outputs": [],
   "source": []
  },
  {
   "cell_type": "code",
   "execution_count": 7,
   "metadata": {},
   "outputs": [
    {
     "data": {
      "application/vnd.plotly.v1+json": {
       "config": {
        "plotlyServerURL": "https://plot.ly"
       },
       "data": [
        {
         "alignmentgroup": "True",
         "hovertemplate": "Year=2010<br>State=%{x}<br>Part_Score=%{marker.color}<extra></extra>",
         "legendgroup": "",
         "marker": {
          "color": [
           -1,
           -1,
           -1,
           -1,
           -1,
           -1,
           -1,
           -1,
           -1,
           -1,
           -1,
           -1,
           -1,
           -1,
           -1,
           -1,
           -1,
           0,
           0,
           0,
           0,
           0,
           0,
           0,
           0,
           0,
           0,
           0,
           0,
           0,
           0,
           0,
           0,
           0,
           0,
           0,
           0,
           0,
           0,
           0,
           1,
           1,
           1,
           1,
           1,
           1,
           1,
           1,
           1,
           null
          ],
          "coloraxis": "coloraxis",
          "pattern": {
           "shape": ""
          }
         },
         "name": "",
         "offsetgroup": "",
         "orientation": "v",
         "showlegend": false,
         "textposition": "auto",
         "type": "bar",
         "x": [
          "OR",
          "NH",
          "NJ",
          "NM",
          "ME",
          "MD",
          "MA",
          "NY",
          "IL",
          "WV",
          "IA",
          "NC",
          "DE",
          "CO",
          "WA",
          "AR",
          "WI",
          "RI",
          "TN",
          "OK",
          "OH",
          "NV",
          "VA",
          "VT",
          "PA",
          "AK",
          "MS",
          "WY",
          "MO",
          "MN",
          "MI",
          "LA",
          "KY",
          "KS",
          "IN",
          "AL",
          "HI",
          "MT",
          "CA",
          "CT",
          "AZ",
          "UT",
          "ND",
          "FL",
          "SD",
          "SC",
          "ID",
          "TX",
          "GA",
          "NE"
         ],
         "xaxis": "x",
         "y": [
          -1,
          -1,
          -1,
          -1,
          -1,
          -1,
          -1,
          -1,
          -1,
          -1,
          -1,
          -1,
          -1,
          -1,
          -1,
          -1,
          -1,
          0,
          0,
          0,
          0,
          0,
          0,
          0,
          0,
          0,
          0,
          0,
          0,
          0,
          0,
          0,
          0,
          0,
          0,
          0,
          0,
          0,
          0,
          0,
          1,
          1,
          1,
          1,
          1,
          1,
          1,
          1,
          1,
          null
         ],
         "yaxis": "y"
        }
       ],
       "frames": [
        {
         "data": [
          {
           "alignmentgroup": "True",
           "hovertemplate": "Year=2010<br>State=%{x}<br>Part_Score=%{marker.color}<extra></extra>",
           "legendgroup": "",
           "marker": {
            "color": [
             -1,
             -1,
             -1,
             -1,
             -1,
             -1,
             -1,
             -1,
             -1,
             -1,
             -1,
             -1,
             -1,
             -1,
             -1,
             -1,
             -1,
             0,
             0,
             0,
             0,
             0,
             0,
             0,
             0,
             0,
             0,
             0,
             0,
             0,
             0,
             0,
             0,
             0,
             0,
             0,
             0,
             0,
             0,
             0,
             1,
             1,
             1,
             1,
             1,
             1,
             1,
             1,
             1,
             null
            ],
            "coloraxis": "coloraxis",
            "pattern": {
             "shape": ""
            }
           },
           "name": "",
           "offsetgroup": "",
           "orientation": "v",
           "showlegend": false,
           "textposition": "auto",
           "type": "bar",
           "x": [
            "OR",
            "NH",
            "NJ",
            "NM",
            "ME",
            "MD",
            "MA",
            "NY",
            "IL",
            "WV",
            "IA",
            "NC",
            "DE",
            "CO",
            "WA",
            "AR",
            "WI",
            "RI",
            "TN",
            "OK",
            "OH",
            "NV",
            "VA",
            "VT",
            "PA",
            "AK",
            "MS",
            "WY",
            "MO",
            "MN",
            "MI",
            "LA",
            "KY",
            "KS",
            "IN",
            "AL",
            "HI",
            "MT",
            "CA",
            "CT",
            "AZ",
            "UT",
            "ND",
            "FL",
            "SD",
            "SC",
            "ID",
            "TX",
            "GA",
            "NE"
           ],
           "xaxis": "x",
           "y": [
            -1,
            -1,
            -1,
            -1,
            -1,
            -1,
            -1,
            -1,
            -1,
            -1,
            -1,
            -1,
            -1,
            -1,
            -1,
            -1,
            -1,
            0,
            0,
            0,
            0,
            0,
            0,
            0,
            0,
            0,
            0,
            0,
            0,
            0,
            0,
            0,
            0,
            0,
            0,
            0,
            0,
            0,
            0,
            0,
            1,
            1,
            1,
            1,
            1,
            1,
            1,
            1,
            1,
            null
           ],
           "yaxis": "y"
          }
         ],
         "name": "2010"
        },
        {
         "data": [
          {
           "alignmentgroup": "True",
           "hovertemplate": "Year=2011<br>State=%{x}<br>Part_Score=%{marker.color}<extra></extra>",
           "legendgroup": "",
           "marker": {
            "color": [
             -1,
             -1,
             -1,
             -1,
             -1,
             -1,
             -1,
             -1,
             -1,
             -1,
             -1,
             -1,
             -1,
             -1,
             -1,
             -1,
             -0.5,
             0,
             0,
             0,
             0,
             0,
             0,
             0,
             0,
             0,
             0,
             0,
             0,
             0,
             0,
             0,
             0,
             0,
             0,
             0,
             0,
             0,
             0,
             0,
             1,
             1,
             1,
             1,
             1,
             1,
             1,
             1,
             1,
             null
            ],
            "coloraxis": "coloraxis",
            "pattern": {
             "shape": ""
            }
           },
           "name": "",
           "offsetgroup": "",
           "orientation": "v",
           "showlegend": false,
           "textposition": "auto",
           "type": "bar",
           "x": [
            "OR",
            "NH",
            "NM",
            "ME",
            "MD",
            "MA",
            "NY",
            "IL",
            "WV",
            "IA",
            "NC",
            "DE",
            "CO",
            "WA",
            "AR",
            "WI",
            "NJ",
            "RI",
            "TN",
            "OK",
            "OH",
            "VA",
            "NV",
            "VT",
            "PA",
            "AK",
            "MS",
            "WY",
            "MO",
            "MN",
            "MI",
            "LA",
            "KY",
            "KS",
            "IN",
            "AL",
            "HI",
            "MT",
            "CA",
            "CT",
            "AZ",
            "UT",
            "ND",
            "FL",
            "SD",
            "SC",
            "ID",
            "TX",
            "GA",
            "NE"
           ],
           "xaxis": "x",
           "y": [
            -1,
            -1,
            -1,
            -1,
            -1,
            -1,
            -1,
            -1,
            -1,
            -1,
            -1,
            -1,
            -1,
            -1,
            -1,
            -1,
            -0.5,
            0,
            0,
            0,
            0,
            0,
            0,
            0,
            0,
            0,
            0,
            0,
            0,
            0,
            0,
            0,
            0,
            0,
            0,
            0,
            0,
            0,
            0,
            0,
            1,
            1,
            1,
            1,
            1,
            1,
            1,
            1,
            1,
            null
           ],
           "yaxis": "y"
          }
         ],
         "name": "2011"
        },
        {
         "data": [
          {
           "alignmentgroup": "True",
           "hovertemplate": "Year=2012<br>State=%{x}<br>Part_Score=%{marker.color}<extra></extra>",
           "legendgroup": "",
           "marker": {
            "color": [
             -1,
             -1,
             -1,
             -1,
             -1,
             -1,
             -1,
             -0.6666666666666666,
             -0.6666666666666666,
             -0.6666666666666666,
             -0.6666666666666666,
             -0.6666666666666666,
             -0.6666666666666666,
             -0.6666666666666666,
             -0.3333333333333333,
             -0.3333333333333333,
             -0.3333333333333333,
             -0.3333333333333333,
             -0.3333333333333333,
             -0.3333333333333333,
             -0.3333333333333333,
             0,
             0,
             0,
             0,
             0,
             0,
             0,
             0,
             0,
             0,
             0.3333333333333333,
             0.3333333333333333,
             0.3333333333333333,
             0.3333333333333333,
             0.3333333333333333,
             0.3333333333333333,
             0.3333333333333333,
             0.3333333333333333,
             0.3333333333333333,
             1,
             1,
             1,
             1,
             1,
             1,
             1,
             1,
             1,
             null
            ],
            "coloraxis": "coloraxis",
            "pattern": {
             "shape": ""
            }
           },
           "name": "",
           "offsetgroup": "",
           "orientation": "v",
           "showlegend": false,
           "textposition": "auto",
           "type": "bar",
           "x": [
            "WV",
            "MA",
            "AR",
            "WA",
            "DE",
            "MD",
            "IL",
            "NM",
            "CO",
            "NY",
            "NH",
            "IA",
            "NC",
            "OR",
            "NJ",
            "HI",
            "CT",
            "CA",
            "WI",
            "VT",
            "ME",
            "AK",
            "VA",
            "NV",
            "RI",
            "MS",
            "MO",
            "MN",
            "LA",
            "KY",
            "MT",
            "AL",
            "TN",
            "PA",
            "IN",
            "WY",
            "OH",
            "KS",
            "MI",
            "OK",
            "SC",
            "SD",
            "TX",
            "UT",
            "GA",
            "FL",
            "AZ",
            "ND",
            "ID",
            "NE"
           ],
           "xaxis": "x",
           "y": [
            -1,
            -1,
            -1,
            -1,
            -1,
            -1,
            -1,
            -0.6666666666666666,
            -0.6666666666666666,
            -0.6666666666666666,
            -0.6666666666666666,
            -0.6666666666666666,
            -0.6666666666666666,
            -0.6666666666666666,
            -0.3333333333333333,
            -0.3333333333333333,
            -0.3333333333333333,
            -0.3333333333333333,
            -0.3333333333333333,
            -0.3333333333333333,
            -0.3333333333333333,
            0,
            0,
            0,
            0,
            0,
            0,
            0,
            0,
            0,
            0,
            0.3333333333333333,
            0.3333333333333333,
            0.3333333333333333,
            0.3333333333333333,
            0.3333333333333333,
            0.3333333333333333,
            0.3333333333333333,
            0.3333333333333333,
            0.3333333333333333,
            1,
            1,
            1,
            1,
            1,
            1,
            1,
            1,
            1,
            null
           ],
           "yaxis": "y"
          }
         ],
         "name": "2012"
        },
        {
         "data": [
          {
           "alignmentgroup": "True",
           "hovertemplate": "Year=2013<br>State=%{x}<br>Part_Score=%{marker.color}<extra></extra>",
           "legendgroup": "",
           "marker": {
            "color": [
             -1,
             -1,
             -1,
             -1,
             -1,
             -1,
             -1,
             -0.5,
             -0.5,
             -0.5,
             -0.5,
             -0.5,
             -0.5,
             -0.5,
             -0.5,
             -0.5,
             -0.5,
             -0.5,
             -0.25,
             0,
             0,
             0,
             0,
             0,
             0,
             0,
             0,
             0,
             0,
             0.25,
             0.25,
             0.5,
             0.5,
             0.5,
             0.5,
             0.5,
             0.5,
             0.5,
             0.5,
             0.5,
             1,
             1,
             1,
             1,
             1,
             1,
             1,
             1,
             1,
             null
            ],
            "coloraxis": "coloraxis",
            "pattern": {
             "shape": ""
            }
           },
           "name": "",
           "offsetgroup": "",
           "orientation": "v",
           "showlegend": false,
           "textposition": "auto",
           "type": "bar",
           "x": [
            "AR",
            "WA",
            "WV",
            "MD",
            "DE",
            "MA",
            "IL",
            "OR",
            "NC",
            "NM",
            "NY",
            "NH",
            "HI",
            "CA",
            "VT",
            "CT",
            "IA",
            "CO",
            "NJ",
            "RI",
            "WI",
            "MT",
            "MO",
            "ME",
            "NV",
            "KY",
            "VA",
            "MN",
            "AK",
            "MS",
            "LA",
            "MI",
            "AL",
            "TN",
            "PA",
            "WY",
            "OK",
            "OH",
            "KS",
            "IN",
            "ID",
            "SC",
            "ND",
            "TX",
            "UT",
            "GA",
            "FL",
            "AZ",
            "SD",
            "NE"
           ],
           "xaxis": "x",
           "y": [
            -1,
            -1,
            -1,
            -1,
            -1,
            -1,
            -1,
            -0.5,
            -0.5,
            -0.5,
            -0.5,
            -0.5,
            -0.5,
            -0.5,
            -0.5,
            -0.5,
            -0.5,
            -0.5,
            -0.25,
            0,
            0,
            0,
            0,
            0,
            0,
            0,
            0,
            0,
            0,
            0.25,
            0.25,
            0.5,
            0.5,
            0.5,
            0.5,
            0.5,
            0.5,
            0.5,
            0.5,
            0.5,
            1,
            1,
            1,
            1,
            1,
            1,
            1,
            1,
            1,
            null
           ],
           "yaxis": "y"
          }
         ],
         "name": "2013"
        },
        {
         "data": [
          {
           "alignmentgroup": "True",
           "hovertemplate": "Year=2014<br>State=%{x}<br>Part_Score=%{marker.color}<extra></extra>",
           "legendgroup": "",
           "marker": {
            "color": [
             -1,
             -1,
             -1,
             -1,
             -1,
             -1,
             -0.8,
             -0.6,
             -0.6,
             -0.6,
             -0.6,
             -0.6,
             -0.6,
             -0.6,
             -0.4,
             -0.4,
             -0.4,
             -0.2,
             -0.2,
             -0.2,
             0,
             0,
             0,
             0,
             0,
             0,
             0,
             0.2,
             0.2,
             0.4,
             0.4,
             0.6,
             0.6,
             0.6,
             0.6,
             0.6,
             0.6,
             0.6,
             0.6,
             0.6,
             1,
             1,
             1,
             1,
             1,
             1,
             1,
             1,
             1,
             null
            ],
            "coloraxis": "coloraxis",
            "pattern": {
             "shape": ""
            }
           },
           "name": "",
           "offsetgroup": "",
           "orientation": "v",
           "showlegend": false,
           "textposition": "auto",
           "type": "bar",
           "x": [
            "WV",
            "WA",
            "DE",
            "MD",
            "MA",
            "IL",
            "AR",
            "OR",
            "CA",
            "CO",
            "CT",
            "VT",
            "HI",
            "NY",
            "NM",
            "NH",
            "IA",
            "MN",
            "NC",
            "NJ",
            "KY",
            "NV",
            "RI",
            "ME",
            "VA",
            "MO",
            "MT",
            "WI",
            "AK",
            "MS",
            "LA",
            "MI",
            "AL",
            "TN",
            "PA",
            "WY",
            "OK",
            "OH",
            "KS",
            "IN",
            "ID",
            "SC",
            "ND",
            "TX",
            "UT",
            "GA",
            "FL",
            "AZ",
            "SD",
            "NE"
           ],
           "xaxis": "x",
           "y": [
            -1,
            -1,
            -1,
            -1,
            -1,
            -1,
            -0.8,
            -0.6,
            -0.6,
            -0.6,
            -0.6,
            -0.6,
            -0.6,
            -0.6,
            -0.4,
            -0.4,
            -0.4,
            -0.2,
            -0.2,
            -0.2,
            0,
            0,
            0,
            0,
            0,
            0,
            0,
            0.2,
            0.2,
            0.4,
            0.4,
            0.6,
            0.6,
            0.6,
            0.6,
            0.6,
            0.6,
            0.6,
            0.6,
            0.6,
            1,
            1,
            1,
            1,
            1,
            1,
            1,
            1,
            1,
            null
           ],
           "yaxis": "y"
          }
         ],
         "name": "2014"
        },
        {
         "data": [
          {
           "alignmentgroup": "True",
           "hovertemplate": "Year=2015<br>State=%{x}<br>Part_Score=%{marker.color}<extra></extra>",
           "legendgroup": "",
           "marker": {
            "color": [
             -1,
             -1,
             -1,
             -1,
             -1,
             -1,
             -0.6666666666666666,
             -0.6666666666666666,
             -0.6666666666666666,
             -0.6666666666666666,
             -0.6666666666666666,
             -0.6666666666666666,
             -0.6666666666666666,
             -0.6666666666666666,
             -0.3333333333333333,
             -0.3333333333333333,
             -0.3333333333333333,
             -0.3333333333333333,
             -0.16666666666666666,
             -0.16666666666666666,
             0,
             0,
             0,
             0,
             0,
             0,
             0,
             0.3333333333333333,
             0.3333333333333333,
             0.5,
             0.5,
             0.6666666666666666,
             0.6666666666666666,
             0.6666666666666666,
             0.6666666666666666,
             0.6666666666666666,
             0.6666666666666666,
             0.6666666666666666,
             0.6666666666666666,
             0.6666666666666666,
             1,
             1,
             1,
             1,
             1,
             1,
             1,
             1,
             1,
             null
            ],
            "coloraxis": "coloraxis",
            "pattern": {
             "shape": ""
            }
           },
           "name": "",
           "offsetgroup": "",
           "orientation": "v",
           "showlegend": false,
           "textposition": "auto",
           "type": "bar",
           "x": [
            "WV",
            "WA",
            "DE",
            "MD",
            "IL",
            "MA",
            "OR",
            "AR",
            "CA",
            "CO",
            "CT",
            "VT",
            "HI",
            "NY",
            "MN",
            "NM",
            "NH",
            "IA",
            "NJ",
            "RI",
            "NV",
            "ME",
            "VA",
            "MO",
            "MT",
            "NC",
            "KY",
            "WI",
            "AK",
            "MS",
            "LA",
            "MI",
            "AL",
            "TN",
            "PA",
            "WY",
            "OK",
            "OH",
            "KS",
            "IN",
            "ID",
            "SC",
            "ND",
            "TX",
            "UT",
            "GA",
            "FL",
            "AZ",
            "SD",
            "NE"
           ],
           "xaxis": "x",
           "y": [
            -1,
            -1,
            -1,
            -1,
            -1,
            -1,
            -0.6666666666666666,
            -0.6666666666666666,
            -0.6666666666666666,
            -0.6666666666666666,
            -0.6666666666666666,
            -0.6666666666666666,
            -0.6666666666666666,
            -0.6666666666666666,
            -0.3333333333333333,
            -0.3333333333333333,
            -0.3333333333333333,
            -0.3333333333333333,
            -0.16666666666666666,
            -0.16666666666666666,
            0,
            0,
            0,
            0,
            0,
            0,
            0,
            0.3333333333333333,
            0.3333333333333333,
            0.5,
            0.5,
            0.6666666666666666,
            0.6666666666666666,
            0.6666666666666666,
            0.6666666666666666,
            0.6666666666666666,
            0.6666666666666666,
            0.6666666666666666,
            0.6666666666666666,
            0.6666666666666666,
            1,
            1,
            1,
            1,
            1,
            1,
            1,
            1,
            1,
            null
           ],
           "yaxis": "y"
          }
         ],
         "name": "2015"
        },
        {
         "data": [
          {
           "alignmentgroup": "True",
           "hovertemplate": "Year=2016<br>State=%{x}<br>Part_Score=%{marker.color}<extra></extra>",
           "legendgroup": "",
           "marker": {
            "color": [
             -1,
             -0.8571428571428571,
             -0.8571428571428571,
             -0.8571428571428571,
             -0.8571428571428571,
             -0.8571428571428571,
             -0.7142857142857143,
             -0.7142857142857143,
             -0.7142857142857143,
             -0.7142857142857143,
             -0.7142857142857143,
             -0.5714285714285714,
             -0.5714285714285714,
             -0.42857142857142855,
             -0.2857142857142857,
             -0.2857142857142857,
             -0.2857142857142857,
             -0.2857142857142857,
             -0.2857142857142857,
             -0.14285714285714285,
             0,
             0,
             0,
             0,
             0,
             0.14285714285714285,
             0.14285714285714285,
             0.2857142857142857,
             0.42857142857142855,
             0.5714285714285714,
             0.5714285714285714,
             0.5714285714285714,
             0.7142857142857143,
             0.7142857142857143,
             0.7142857142857143,
             0.7142857142857143,
             0.7142857142857143,
             0.7142857142857143,
             0.7142857142857143,
             0.7142857142857143,
             1,
             1,
             1,
             1,
             1,
             1,
             1,
             1,
             1,
             null
            ],
            "coloraxis": "coloraxis",
            "pattern": {
             "shape": ""
            }
           },
           "name": "",
           "offsetgroup": "",
           "orientation": "v",
           "showlegend": false,
           "textposition": "auto",
           "type": "bar",
           "x": [
            "DE",
            "IL",
            "MD",
            "WV",
            "WA",
            "MA",
            "CA",
            "CT",
            "VT",
            "HI",
            "OR",
            "CO",
            "NY",
            "AR",
            "IA",
            "RI",
            "MN",
            "NH",
            "NM",
            "NJ",
            "ME",
            "MT",
            "MO",
            "VA",
            "KY",
            "NV",
            "NC",
            "AK",
            "WI",
            "PA",
            "MS",
            "LA",
            "MI",
            "AL",
            "TN",
            "IN",
            "WY",
            "OK",
            "OH",
            "KS",
            "ID",
            "SC",
            "ND",
            "TX",
            "UT",
            "GA",
            "FL",
            "AZ",
            "SD",
            "NE"
           ],
           "xaxis": "x",
           "y": [
            -1,
            -0.8571428571428571,
            -0.8571428571428571,
            -0.8571428571428571,
            -0.8571428571428571,
            -0.8571428571428571,
            -0.7142857142857143,
            -0.7142857142857143,
            -0.7142857142857143,
            -0.7142857142857143,
            -0.7142857142857143,
            -0.5714285714285714,
            -0.5714285714285714,
            -0.42857142857142855,
            -0.2857142857142857,
            -0.2857142857142857,
            -0.2857142857142857,
            -0.2857142857142857,
            -0.2857142857142857,
            -0.14285714285714285,
            0,
            0,
            0,
            0,
            0,
            0.14285714285714285,
            0.14285714285714285,
            0.2857142857142857,
            0.42857142857142855,
            0.5714285714285714,
            0.5714285714285714,
            0.5714285714285714,
            0.7142857142857143,
            0.7142857142857143,
            0.7142857142857143,
            0.7142857142857143,
            0.7142857142857143,
            0.7142857142857143,
            0.7142857142857143,
            0.7142857142857143,
            1,
            1,
            1,
            1,
            1,
            1,
            1,
            1,
            1,
            null
           ],
           "yaxis": "y"
          }
         ],
         "name": "2016"
        },
        {
         "data": [
          {
           "alignmentgroup": "True",
           "hovertemplate": "Year=2017<br>State=%{x}<br>Part_Score=%{marker.color}<extra></extra>",
           "legendgroup": "",
           "marker": {
            "color": [
             -1,
             -0.75,
             -0.75,
             -0.75,
             -0.75,
             -0.75,
             -0.75,
             -0.75,
             -0.75,
             -0.75,
             -0.75,
             -0.5,
             -0.5,
             -0.375,
             -0.25,
             -0.25,
             -0.25,
             -0.25,
             -0.25,
             -0.125,
             0,
             0,
             0,
             0,
             0,
             0.25,
             0.25,
             0.25,
             0.5,
             0.5,
             0.625,
             0.625,
             0.75,
             0.75,
             0.75,
             0.75,
             0.75,
             0.75,
             0.75,
             0.75,
             1,
             1,
             1,
             1,
             1,
             1,
             1,
             1,
             1,
             null
            ],
            "coloraxis": "coloraxis",
            "pattern": {
             "shape": ""
            }
           },
           "name": "",
           "offsetgroup": "",
           "orientation": "v",
           "showlegend": false,
           "textposition": "auto",
           "type": "bar",
           "x": [
            "DE",
            "MA",
            "MD",
            "OR",
            "WA",
            "CA",
            "CT",
            "VT",
            "HI",
            "IL",
            "WV",
            "CO",
            "NY",
            "RI",
            "NH",
            "AR",
            "NM",
            "IA",
            "MN",
            "NJ",
            "ME",
            "VA",
            "MO",
            "KY",
            "MT",
            "NC",
            "AK",
            "NV",
            "WI",
            "PA",
            "MS",
            "LA",
            "MI",
            "AL",
            "TN",
            "IN",
            "WY",
            "OK",
            "OH",
            "KS",
            "ID",
            "SC",
            "ND",
            "TX",
            "UT",
            "GA",
            "FL",
            "AZ",
            "SD",
            "NE"
           ],
           "xaxis": "x",
           "y": [
            -1,
            -0.75,
            -0.75,
            -0.75,
            -0.75,
            -0.75,
            -0.75,
            -0.75,
            -0.75,
            -0.75,
            -0.75,
            -0.5,
            -0.5,
            -0.375,
            -0.25,
            -0.25,
            -0.25,
            -0.25,
            -0.25,
            -0.125,
            0,
            0,
            0,
            0,
            0,
            0.25,
            0.25,
            0.25,
            0.5,
            0.5,
            0.625,
            0.625,
            0.75,
            0.75,
            0.75,
            0.75,
            0.75,
            0.75,
            0.75,
            0.75,
            1,
            1,
            1,
            1,
            1,
            1,
            1,
            1,
            1,
            null
           ],
           "yaxis": "y"
          }
         ],
         "name": "2017"
        },
        {
         "data": [
          {
           "alignmentgroup": "True",
           "hovertemplate": "Year=2018<br>State=%{x}<br>Part_Score=%{marker.color}<extra></extra>",
           "legendgroup": "",
           "marker": {
            "color": [
             -1,
             -0.7777777777777778,
             -0.7777777777777778,
             -0.7777777777777778,
             -0.7777777777777778,
             -0.6666666666666666,
             -0.6666666666666666,
             -0.6666666666666666,
             -0.6666666666666666,
             -0.6666666666666666,
             -0.6666666666666666,
             -0.5555555555555556,
             -0.4444444444444444,
             -0.4444444444444444,
             -0.2222222222222222,
             -0.2222222222222222,
             -0.1111111111111111,
             -0.1111111111111111,
             -0.1111111111111111,
             -0.1111111111111111,
             0,
             0,
             0,
             0.1111111111111111,
             0.1111111111111111,
             0.2222222222222222,
             0.2222222222222222,
             0.25,
             0.4444444444444444,
             0.5555555555555556,
             0.5555555555555556,
             0.6666666666666666,
             0.7777777777777778,
             0.7777777777777778,
             0.7777777777777778,
             0.7777777777777778,
             0.7777777777777778,
             0.7777777777777778,
             0.7777777777777778,
             0.7777777777777778,
             1,
             1,
             1,
             1,
             1,
             1,
             1,
             1,
             1,
             null
            ],
            "coloraxis": "coloraxis",
            "pattern": {
             "shape": ""
            }
           },
           "name": "",
           "offsetgroup": "",
           "orientation": "v",
           "showlegend": false,
           "textposition": "auto",
           "type": "bar",
           "x": [
            "DE",
            "OR",
            "WA",
            "CA",
            "HI",
            "WV",
            "CT",
            "VT",
            "MD",
            "IL",
            "MA",
            "NY",
            "CO",
            "RI",
            "MN",
            "NM",
            "IA",
            "AR",
            "NH",
            "NJ",
            "ME",
            "VA",
            "MT",
            "KY",
            "MO",
            "NC",
            "AK",
            "NV",
            "PA",
            "LA",
            "WI",
            "MS",
            "MI",
            "AL",
            "IN",
            "TN",
            "OK",
            "OH",
            "KS",
            "WY",
            "ID",
            "SC",
            "SD",
            "ND",
            "TX",
            "UT",
            "GA",
            "FL",
            "AZ",
            "NE"
           ],
           "xaxis": "x",
           "y": [
            -1,
            -0.7777777777777778,
            -0.7777777777777778,
            -0.7777777777777778,
            -0.7777777777777778,
            -0.6666666666666666,
            -0.6666666666666666,
            -0.6666666666666666,
            -0.6666666666666666,
            -0.6666666666666666,
            -0.6666666666666666,
            -0.5555555555555556,
            -0.4444444444444444,
            -0.4444444444444444,
            -0.2222222222222222,
            -0.2222222222222222,
            -0.1111111111111111,
            -0.1111111111111111,
            -0.1111111111111111,
            -0.1111111111111111,
            0,
            0,
            0,
            0.1111111111111111,
            0.1111111111111111,
            0.2222222222222222,
            0.2222222222222222,
            0.25,
            0.4444444444444444,
            0.5555555555555556,
            0.5555555555555556,
            0.6666666666666666,
            0.7777777777777778,
            0.7777777777777778,
            0.7777777777777778,
            0.7777777777777778,
            0.7777777777777778,
            0.7777777777777778,
            0.7777777777777778,
            0.7777777777777778,
            1,
            1,
            1,
            1,
            1,
            1,
            1,
            1,
            1,
            null
           ],
           "yaxis": "y"
          }
         ],
         "name": "2018"
        },
        {
         "data": [
          {
           "alignmentgroup": "True",
           "hovertemplate": "Year=2019<br>State=%{x}<br>Part_Score=%{marker.color}<extra></extra>",
           "legendgroup": "",
           "marker": {
            "color": [
             -1,
             -0.8,
             -0.8,
             -0.8,
             -0.8,
             -0.6,
             -0.6,
             -0.6,
             -0.6,
             -0.6,
             -0.5,
             -0.5,
             -0.5,
             -0.4,
             -0.2,
             -0.2,
             -0.2,
             0,
             0,
             0,
             0,
             0,
             0,
             0.2,
             0.2,
             0.2,
             0.2,
             0.2222222222222222,
             0.4,
             0.5,
             0.6,
             0.7,
             0.8,
             0.8,
             0.8,
             0.8,
             0.8,
             0.8,
             0.8,
             0.8,
             1,
             1,
             1,
             1,
             1,
             1,
             1,
             1,
             1,
             null
            ],
            "coloraxis": "coloraxis",
            "pattern": {
             "shape": ""
            }
           },
           "name": "",
           "offsetgroup": "",
           "orientation": "v",
           "showlegend": false,
           "textposition": "auto",
           "type": "bar",
           "x": [
            "DE",
            "OR",
            "WA",
            "CA",
            "HI",
            "CT",
            "VT",
            "MD",
            "IL",
            "MA",
            "WV",
            "NY",
            "RI",
            "CO",
            "MN",
            "NM",
            "NJ",
            "IA",
            "ME",
            "VA",
            "AR",
            "MT",
            "NH",
            "KY",
            "MO",
            "NC",
            "AK",
            "NV",
            "PA",
            "LA",
            "WI",
            "MS",
            "MI",
            "AL",
            "IN",
            "TN",
            "OK",
            "OH",
            "KS",
            "WY",
            "ID",
            "SC",
            "SD",
            "ND",
            "TX",
            "UT",
            "GA",
            "FL",
            "AZ",
            "NE"
           ],
           "xaxis": "x",
           "y": [
            -1,
            -0.8,
            -0.8,
            -0.8,
            -0.8,
            -0.6,
            -0.6,
            -0.6,
            -0.6,
            -0.6,
            -0.5,
            -0.5,
            -0.5,
            -0.4,
            -0.2,
            -0.2,
            -0.2,
            0,
            0,
            0,
            0,
            0,
            0,
            0.2,
            0.2,
            0.2,
            0.2,
            0.2222222222222222,
            0.4,
            0.5,
            0.6,
            0.7,
            0.8,
            0.8,
            0.8,
            0.8,
            0.8,
            0.8,
            0.8,
            0.8,
            1,
            1,
            1,
            1,
            1,
            1,
            1,
            1,
            1,
            null
           ],
           "yaxis": "y"
          }
         ],
         "name": "2019"
        },
        {
         "data": [
          {
           "alignmentgroup": "True",
           "hovertemplate": "Year=2020<br>State=%{x}<br>Part_Score=%{marker.color}<extra></extra>",
           "legendgroup": "",
           "marker": {
            "color": [
             -1,
             -0.8181818181818182,
             -0.8181818181818182,
             -0.8181818181818182,
             -0.8181818181818182,
             -0.6363636363636364,
             -0.6363636363636364,
             -0.5454545454545454,
             -0.5454545454545454,
             -0.5454545454545454,
             -0.5454545454545454,
             -0.5454545454545454,
             -0.45454545454545453,
             -0.36363636363636365,
             -0.2727272727272727,
             -0.2727272727272727,
             -0.18181818181818182,
             -0.09090909090909091,
             0,
             0,
             0,
             0.09090909090909091,
             0.09090909090909091,
             0.1,
             0.18181818181818182,
             0.2727272727272727,
             0.2727272727272727,
             0.2727272727272727,
             0.36363636363636365,
             0.45454545454545453,
             0.5454545454545454,
             0.7272727272727273,
             0.7272727272727273,
             0.7272727272727273,
             0.8181818181818182,
             0.8181818181818182,
             0.8181818181818182,
             0.8181818181818182,
             0.8181818181818182,
             0.8181818181818182,
             1,
             1,
             1,
             1,
             1,
             1,
             1,
             1,
             1,
             null
            ],
            "coloraxis": "coloraxis",
            "pattern": {
             "shape": ""
            }
           },
           "name": "",
           "offsetgroup": "",
           "orientation": "v",
           "showlegend": false,
           "textposition": "auto",
           "type": "bar",
           "x": [
            "DE",
            "OR",
            "WA",
            "CA",
            "HI",
            "CT",
            "IL",
            "NY",
            "VT",
            "MD",
            "MA",
            "RI",
            "CO",
            "WV",
            "NJ",
            "NM",
            "MN",
            "ME",
            "VA",
            "MT",
            "NH",
            "IA",
            "AR",
            "NV",
            "NC",
            "KY",
            "MO",
            "AK",
            "PA",
            "LA",
            "WI",
            "MS",
            "MI",
            "KS",
            "AL",
            "IN",
            "TN",
            "OH",
            "OK",
            "WY",
            "ID",
            "SC",
            "SD",
            "ND",
            "TX",
            "UT",
            "GA",
            "FL",
            "AZ",
            "NE"
           ],
           "xaxis": "x",
           "y": [
            -1,
            -0.8181818181818182,
            -0.8181818181818182,
            -0.8181818181818182,
            -0.8181818181818182,
            -0.6363636363636364,
            -0.6363636363636364,
            -0.5454545454545454,
            -0.5454545454545454,
            -0.5454545454545454,
            -0.5454545454545454,
            -0.5454545454545454,
            -0.45454545454545453,
            -0.36363636363636365,
            -0.2727272727272727,
            -0.2727272727272727,
            -0.18181818181818182,
            -0.09090909090909091,
            0,
            0,
            0,
            0.09090909090909091,
            0.09090909090909091,
            0.1,
            0.18181818181818182,
            0.2727272727272727,
            0.2727272727272727,
            0.2727272727272727,
            0.36363636363636365,
            0.45454545454545453,
            0.5454545454545454,
            0.7272727272727273,
            0.7272727272727273,
            0.7272727272727273,
            0.8181818181818182,
            0.8181818181818182,
            0.8181818181818182,
            0.8181818181818182,
            0.8181818181818182,
            0.8181818181818182,
            1,
            1,
            1,
            1,
            1,
            1,
            1,
            1,
            1,
            null
           ],
           "yaxis": "y"
          }
         ],
         "name": "2020"
        },
        {
         "data": [
          {
           "alignmentgroup": "True",
           "hovertemplate": "Year=2021<br>State=%{x}<br>Part_Score=%{marker.color}<extra></extra>",
           "legendgroup": "",
           "marker": {
            "color": [
             -1,
             -0.8333333333333334,
             -0.8333333333333334,
             -0.8333333333333334,
             -0.8333333333333334,
             -0.6666666666666666,
             -0.6666666666666666,
             -0.5833333333333334,
             -0.5833333333333334,
             -0.5,
             -0.5,
             -0.5,
             -0.5,
             -0.3333333333333333,
             -0.3333333333333333,
             -0.25,
             -0.16666666666666666,
             -0.16666666666666666,
             -0.08333333333333333,
             0,
             0,
             0,
             0.16666666666666666,
             0.16666666666666666,
             0.16666666666666666,
             0.25,
             0.3333333333333333,
             0.3333333333333333,
             0.3333333333333333,
             0.4166666666666667,
             0.5,
             0.6666666666666666,
             0.6666666666666666,
             0.75,
             0.8333333333333334,
             0.8333333333333334,
             0.8333333333333334,
             0.8333333333333334,
             0.8333333333333334,
             0.8333333333333334,
             1,
             1,
             1,
             1,
             1,
             1,
             1,
             1,
             1,
             null
            ],
            "coloraxis": "coloraxis",
            "pattern": {
             "shape": ""
            }
           },
           "name": "",
           "offsetgroup": "",
           "orientation": "v",
           "showlegend": false,
           "textposition": "auto",
           "type": "bar",
           "x": [
            "DE",
            "OR",
            "WA",
            "CA",
            "HI",
            "IL",
            "CT",
            "NY",
            "RI",
            "CO",
            "MA",
            "MD",
            "VT",
            "NJ",
            "NM",
            "WV",
            "ME",
            "MN",
            "VA",
            "MT",
            "NH",
            "NV",
            "IA",
            "AR",
            "NC",
            "KY",
            "PA",
            "MO",
            "AK",
            "LA",
            "WI",
            "MI",
            "KS",
            "MS",
            "OK",
            "IN",
            "TN",
            "AL",
            "OH",
            "WY",
            "ND",
            "ID",
            "SC",
            "SD",
            "TX",
            "UT",
            "GA",
            "FL",
            "AZ",
            "NE"
           ],
           "xaxis": "x",
           "y": [
            -1,
            -0.8333333333333334,
            -0.8333333333333334,
            -0.8333333333333334,
            -0.8333333333333334,
            -0.6666666666666666,
            -0.6666666666666666,
            -0.5833333333333334,
            -0.5833333333333334,
            -0.5,
            -0.5,
            -0.5,
            -0.5,
            -0.3333333333333333,
            -0.3333333333333333,
            -0.25,
            -0.16666666666666666,
            -0.16666666666666666,
            -0.08333333333333333,
            0,
            0,
            0,
            0.16666666666666666,
            0.16666666666666666,
            0.16666666666666666,
            0.25,
            0.3333333333333333,
            0.3333333333333333,
            0.3333333333333333,
            0.4166666666666667,
            0.5,
            0.6666666666666666,
            0.6666666666666666,
            0.75,
            0.8333333333333334,
            0.8333333333333334,
            0.8333333333333334,
            0.8333333333333334,
            0.8333333333333334,
            0.8333333333333334,
            1,
            1,
            1,
            1,
            1,
            1,
            1,
            1,
            1,
            null
           ],
           "yaxis": "y"
          }
         ],
         "name": "2021"
        },
        {
         "data": [
          {
           "alignmentgroup": "True",
           "hovertemplate": "Year=2022<br>State=%{x}<br>Part_Score=%{marker.color}<extra></extra>",
           "legendgroup": "",
           "marker": {
            "color": [
             -1,
             -0.8461538461538461,
             -0.8461538461538461,
             -0.8461538461538461,
             -0.8461538461538461,
             -0.6923076923076923,
             -0.6923076923076923,
             -0.6153846153846154,
             -0.6153846153846154,
             -0.5384615384615384,
             -0.46153846153846156,
             -0.46153846153846156,
             -0.46153846153846156,
             -0.38461538461538464,
             -0.38461538461538464,
             -0.23076923076923078,
             -0.15384615384615385,
             -0.15384615384615385,
             -0.15384615384615385,
             -0.08333333333333333,
             0.07692307692307693,
             0.07692307692307693,
             0.15384615384615385,
             0.23076923076923078,
             0.23076923076923078,
             0.23076923076923078,
             0.3076923076923077,
             0.38461538461538464,
             0.38461538461538464,
             0.38461538461538464,
             0.46153846153846156,
             0.6153846153846154,
             0.6153846153846154,
             0.7692307692307693,
             0.8461538461538461,
             0.8461538461538461,
             0.8461538461538461,
             0.8461538461538461,
             0.8461538461538461,
             0.8461538461538461,
             1,
             1,
             1,
             1,
             1,
             1,
             1,
             1,
             1,
             null
            ],
            "coloraxis": "coloraxis",
            "pattern": {
             "shape": ""
            }
           },
           "name": "",
           "offsetgroup": "",
           "orientation": "v",
           "showlegend": false,
           "textposition": "auto",
           "type": "bar",
           "x": [
            "DE",
            "WA",
            "CA",
            "HI",
            "OR",
            "CT",
            "IL",
            "NY",
            "RI",
            "CO",
            "VT",
            "MD",
            "MA",
            "NM",
            "NJ",
            "ME",
            "MN",
            "WV",
            "VA",
            "NV",
            "MT",
            "NH",
            "NC",
            "KY",
            "IA",
            "AR",
            "PA",
            "LA",
            "MO",
            "AK",
            "WI",
            "MI",
            "KS",
            "MS",
            "OK",
            "IN",
            "TN",
            "AL",
            "OH",
            "WY",
            "ND",
            "ID",
            "SC",
            "SD",
            "TX",
            "UT",
            "GA",
            "FL",
            "AZ",
            "NE"
           ],
           "xaxis": "x",
           "y": [
            -1,
            -0.8461538461538461,
            -0.8461538461538461,
            -0.8461538461538461,
            -0.8461538461538461,
            -0.6923076923076923,
            -0.6923076923076923,
            -0.6153846153846154,
            -0.6153846153846154,
            -0.5384615384615384,
            -0.46153846153846156,
            -0.46153846153846156,
            -0.46153846153846156,
            -0.38461538461538464,
            -0.38461538461538464,
            -0.23076923076923078,
            -0.15384615384615385,
            -0.15384615384615385,
            -0.15384615384615385,
            -0.08333333333333333,
            0.07692307692307693,
            0.07692307692307693,
            0.15384615384615385,
            0.23076923076923078,
            0.23076923076923078,
            0.23076923076923078,
            0.3076923076923077,
            0.38461538461538464,
            0.38461538461538464,
            0.38461538461538464,
            0.46153846153846156,
            0.6153846153846154,
            0.6153846153846154,
            0.7692307692307693,
            0.8461538461538461,
            0.8461538461538461,
            0.8461538461538461,
            0.8461538461538461,
            0.8461538461538461,
            0.8461538461538461,
            1,
            1,
            1,
            1,
            1,
            1,
            1,
            1,
            1,
            null
           ],
           "yaxis": "y"
          }
         ],
         "name": "2022"
        },
        {
         "data": [
          {
           "alignmentgroup": "True",
           "hovertemplate": "Year=2023<br>State=%{x}<br>Part_Score=%{marker.color}<extra></extra>",
           "legendgroup": "",
           "marker": {
            "color": [
             -1,
             -0.8571428571428571,
             -0.8571428571428571,
             -0.8571428571428571,
             -0.8571428571428571,
             -0.7142857142857143,
             -0.7142857142857143,
             -0.6428571428571429,
             -0.6428571428571429,
             -0.5714285714285714,
             -0.5,
             -0.5,
             -0.42857142857142855,
             -0.42857142857142855,
             -0.42857142857142855,
             -0.2857142857142857,
             -0.21428571428571427,
             -0.14285714285714285,
             -0.07692307692307693,
             -0.07142857142857142,
             0.14285714285714285,
             0.14285714285714285,
             0.14285714285714285,
             0.21428571428571427,
             0.2857142857142857,
             0.2857142857142857,
             0.2857142857142857,
             0.35714285714285715,
             0.42857142857142855,
             0.42857142857142855,
             0.42857142857142855,
             0.5,
             0.5714285714285714,
             0.7857142857142857,
             0.8571428571428571,
             0.8571428571428571,
             0.8571428571428571,
             0.8571428571428571,
             0.8571428571428571,
             0.8571428571428571,
             0.9285714285714286,
             1,
             1,
             1,
             1,
             1,
             1,
             1,
             1,
             null
            ],
            "coloraxis": "coloraxis",
            "pattern": {
             "shape": ""
            }
           },
           "name": "",
           "offsetgroup": "",
           "orientation": "v",
           "showlegend": false,
           "textposition": "auto",
           "type": "bar",
           "x": [
            "DE",
            "WA",
            "CA",
            "HI",
            "OR",
            "CT",
            "IL",
            "NY",
            "RI",
            "CO",
            "MD",
            "MA",
            "NM",
            "NJ",
            "VT",
            "ME",
            "MN",
            "VA",
            "NV",
            "WV",
            "MT",
            "NC",
            "NH",
            "KY",
            "PA",
            "IA",
            "AR",
            "LA",
            "WI",
            "MO",
            "AK",
            "MI",
            "KS",
            "MS",
            "OK",
            "IN",
            "TN",
            "AL",
            "OH",
            "WY",
            "AZ",
            "ND",
            "ID",
            "SC",
            "SD",
            "TX",
            "UT",
            "GA",
            "FL",
            "NE"
           ],
           "xaxis": "x",
           "y": [
            -1,
            -0.8571428571428571,
            -0.8571428571428571,
            -0.8571428571428571,
            -0.8571428571428571,
            -0.7142857142857143,
            -0.7142857142857143,
            -0.6428571428571429,
            -0.6428571428571429,
            -0.5714285714285714,
            -0.5,
            -0.5,
            -0.42857142857142855,
            -0.42857142857142855,
            -0.42857142857142855,
            -0.2857142857142857,
            -0.21428571428571427,
            -0.14285714285714285,
            -0.07692307692307693,
            -0.07142857142857142,
            0.14285714285714285,
            0.14285714285714285,
            0.14285714285714285,
            0.21428571428571427,
            0.2857142857142857,
            0.2857142857142857,
            0.2857142857142857,
            0.35714285714285715,
            0.42857142857142855,
            0.42857142857142855,
            0.42857142857142855,
            0.5,
            0.5714285714285714,
            0.7857142857142857,
            0.8571428571428571,
            0.8571428571428571,
            0.8571428571428571,
            0.8571428571428571,
            0.8571428571428571,
            0.8571428571428571,
            0.9285714285714286,
            1,
            1,
            1,
            1,
            1,
            1,
            1,
            1,
            null
           ],
           "yaxis": "y"
          }
         ],
         "name": "2023"
        }
       ],
       "layout": {
        "barmode": "relative",
        "coloraxis": {
         "colorbar": {
          "title": {
           "text": "Part_Score"
          }
         },
         "colorscale": [
          [
           0,
           "rgb(0,0,255)"
          ],
          [
           1,
           "rgb(255,0,0)"
          ]
         ]
        },
        "legend": {
         "tracegroupgap": 0
        },
        "margin": {
         "t": 60
        },
        "sliders": [
         {
          "active": 0,
          "currentvalue": {
           "prefix": "Year="
          },
          "len": 0.9,
          "pad": {
           "b": 10,
           "t": 60
          },
          "steps": [
           {
            "args": [
             [
              "2010"
             ],
             {
              "frame": {
               "duration": 0,
               "redraw": true
              },
              "fromcurrent": true,
              "mode": "immediate",
              "transition": {
               "duration": 0,
               "easing": "linear"
              }
             }
            ],
            "label": "2010",
            "method": "animate"
           },
           {
            "args": [
             [
              "2011"
             ],
             {
              "frame": {
               "duration": 0,
               "redraw": true
              },
              "fromcurrent": true,
              "mode": "immediate",
              "transition": {
               "duration": 0,
               "easing": "linear"
              }
             }
            ],
            "label": "2011",
            "method": "animate"
           },
           {
            "args": [
             [
              "2012"
             ],
             {
              "frame": {
               "duration": 0,
               "redraw": true
              },
              "fromcurrent": true,
              "mode": "immediate",
              "transition": {
               "duration": 0,
               "easing": "linear"
              }
             }
            ],
            "label": "2012",
            "method": "animate"
           },
           {
            "args": [
             [
              "2013"
             ],
             {
              "frame": {
               "duration": 0,
               "redraw": true
              },
              "fromcurrent": true,
              "mode": "immediate",
              "transition": {
               "duration": 0,
               "easing": "linear"
              }
             }
            ],
            "label": "2013",
            "method": "animate"
           },
           {
            "args": [
             [
              "2014"
             ],
             {
              "frame": {
               "duration": 0,
               "redraw": true
              },
              "fromcurrent": true,
              "mode": "immediate",
              "transition": {
               "duration": 0,
               "easing": "linear"
              }
             }
            ],
            "label": "2014",
            "method": "animate"
           },
           {
            "args": [
             [
              "2015"
             ],
             {
              "frame": {
               "duration": 0,
               "redraw": true
              },
              "fromcurrent": true,
              "mode": "immediate",
              "transition": {
               "duration": 0,
               "easing": "linear"
              }
             }
            ],
            "label": "2015",
            "method": "animate"
           },
           {
            "args": [
             [
              "2016"
             ],
             {
              "frame": {
               "duration": 0,
               "redraw": true
              },
              "fromcurrent": true,
              "mode": "immediate",
              "transition": {
               "duration": 0,
               "easing": "linear"
              }
             }
            ],
            "label": "2016",
            "method": "animate"
           },
           {
            "args": [
             [
              "2017"
             ],
             {
              "frame": {
               "duration": 0,
               "redraw": true
              },
              "fromcurrent": true,
              "mode": "immediate",
              "transition": {
               "duration": 0,
               "easing": "linear"
              }
             }
            ],
            "label": "2017",
            "method": "animate"
           },
           {
            "args": [
             [
              "2018"
             ],
             {
              "frame": {
               "duration": 0,
               "redraw": true
              },
              "fromcurrent": true,
              "mode": "immediate",
              "transition": {
               "duration": 0,
               "easing": "linear"
              }
             }
            ],
            "label": "2018",
            "method": "animate"
           },
           {
            "args": [
             [
              "2019"
             ],
             {
              "frame": {
               "duration": 0,
               "redraw": true
              },
              "fromcurrent": true,
              "mode": "immediate",
              "transition": {
               "duration": 0,
               "easing": "linear"
              }
             }
            ],
            "label": "2019",
            "method": "animate"
           },
           {
            "args": [
             [
              "2020"
             ],
             {
              "frame": {
               "duration": 0,
               "redraw": true
              },
              "fromcurrent": true,
              "mode": "immediate",
              "transition": {
               "duration": 0,
               "easing": "linear"
              }
             }
            ],
            "label": "2020",
            "method": "animate"
           },
           {
            "args": [
             [
              "2021"
             ],
             {
              "frame": {
               "duration": 0,
               "redraw": true
              },
              "fromcurrent": true,
              "mode": "immediate",
              "transition": {
               "duration": 0,
               "easing": "linear"
              }
             }
            ],
            "label": "2021",
            "method": "animate"
           },
           {
            "args": [
             [
              "2022"
             ],
             {
              "frame": {
               "duration": 0,
               "redraw": true
              },
              "fromcurrent": true,
              "mode": "immediate",
              "transition": {
               "duration": 0,
               "easing": "linear"
              }
             }
            ],
            "label": "2022",
            "method": "animate"
           },
           {
            "args": [
             [
              "2023"
             ],
             {
              "frame": {
               "duration": 0,
               "redraw": true
              },
              "fromcurrent": true,
              "mode": "immediate",
              "transition": {
               "duration": 0,
               "easing": "linear"
              }
             }
            ],
            "label": "2023",
            "method": "animate"
           }
          ],
          "x": 0.1,
          "xanchor": "left",
          "y": 0,
          "yanchor": "top"
         }
        ],
        "template": {
         "data": {
          "bar": [
           {
            "error_x": {
             "color": "#2a3f5f"
            },
            "error_y": {
             "color": "#2a3f5f"
            },
            "marker": {
             "line": {
              "color": "#E5ECF6",
              "width": 0.5
             },
             "pattern": {
              "fillmode": "overlay",
              "size": 10,
              "solidity": 0.2
             }
            },
            "type": "bar"
           }
          ],
          "barpolar": [
           {
            "marker": {
             "line": {
              "color": "#E5ECF6",
              "width": 0.5
             },
             "pattern": {
              "fillmode": "overlay",
              "size": 10,
              "solidity": 0.2
             }
            },
            "type": "barpolar"
           }
          ],
          "carpet": [
           {
            "aaxis": {
             "endlinecolor": "#2a3f5f",
             "gridcolor": "white",
             "linecolor": "white",
             "minorgridcolor": "white",
             "startlinecolor": "#2a3f5f"
            },
            "baxis": {
             "endlinecolor": "#2a3f5f",
             "gridcolor": "white",
             "linecolor": "white",
             "minorgridcolor": "white",
             "startlinecolor": "#2a3f5f"
            },
            "type": "carpet"
           }
          ],
          "choropleth": [
           {
            "colorbar": {
             "outlinewidth": 0,
             "ticks": ""
            },
            "type": "choropleth"
           }
          ],
          "contour": [
           {
            "colorbar": {
             "outlinewidth": 0,
             "ticks": ""
            },
            "colorscale": [
             [
              0,
              "#0d0887"
             ],
             [
              0.1111111111111111,
              "#46039f"
             ],
             [
              0.2222222222222222,
              "#7201a8"
             ],
             [
              0.3333333333333333,
              "#9c179e"
             ],
             [
              0.4444444444444444,
              "#bd3786"
             ],
             [
              0.5555555555555556,
              "#d8576b"
             ],
             [
              0.6666666666666666,
              "#ed7953"
             ],
             [
              0.7777777777777778,
              "#fb9f3a"
             ],
             [
              0.8888888888888888,
              "#fdca26"
             ],
             [
              1,
              "#f0f921"
             ]
            ],
            "type": "contour"
           }
          ],
          "contourcarpet": [
           {
            "colorbar": {
             "outlinewidth": 0,
             "ticks": ""
            },
            "type": "contourcarpet"
           }
          ],
          "heatmap": [
           {
            "colorbar": {
             "outlinewidth": 0,
             "ticks": ""
            },
            "colorscale": [
             [
              0,
              "#0d0887"
             ],
             [
              0.1111111111111111,
              "#46039f"
             ],
             [
              0.2222222222222222,
              "#7201a8"
             ],
             [
              0.3333333333333333,
              "#9c179e"
             ],
             [
              0.4444444444444444,
              "#bd3786"
             ],
             [
              0.5555555555555556,
              "#d8576b"
             ],
             [
              0.6666666666666666,
              "#ed7953"
             ],
             [
              0.7777777777777778,
              "#fb9f3a"
             ],
             [
              0.8888888888888888,
              "#fdca26"
             ],
             [
              1,
              "#f0f921"
             ]
            ],
            "type": "heatmap"
           }
          ],
          "heatmapgl": [
           {
            "colorbar": {
             "outlinewidth": 0,
             "ticks": ""
            },
            "colorscale": [
             [
              0,
              "#0d0887"
             ],
             [
              0.1111111111111111,
              "#46039f"
             ],
             [
              0.2222222222222222,
              "#7201a8"
             ],
             [
              0.3333333333333333,
              "#9c179e"
             ],
             [
              0.4444444444444444,
              "#bd3786"
             ],
             [
              0.5555555555555556,
              "#d8576b"
             ],
             [
              0.6666666666666666,
              "#ed7953"
             ],
             [
              0.7777777777777778,
              "#fb9f3a"
             ],
             [
              0.8888888888888888,
              "#fdca26"
             ],
             [
              1,
              "#f0f921"
             ]
            ],
            "type": "heatmapgl"
           }
          ],
          "histogram": [
           {
            "marker": {
             "pattern": {
              "fillmode": "overlay",
              "size": 10,
              "solidity": 0.2
             }
            },
            "type": "histogram"
           }
          ],
          "histogram2d": [
           {
            "colorbar": {
             "outlinewidth": 0,
             "ticks": ""
            },
            "colorscale": [
             [
              0,
              "#0d0887"
             ],
             [
              0.1111111111111111,
              "#46039f"
             ],
             [
              0.2222222222222222,
              "#7201a8"
             ],
             [
              0.3333333333333333,
              "#9c179e"
             ],
             [
              0.4444444444444444,
              "#bd3786"
             ],
             [
              0.5555555555555556,
              "#d8576b"
             ],
             [
              0.6666666666666666,
              "#ed7953"
             ],
             [
              0.7777777777777778,
              "#fb9f3a"
             ],
             [
              0.8888888888888888,
              "#fdca26"
             ],
             [
              1,
              "#f0f921"
             ]
            ],
            "type": "histogram2d"
           }
          ],
          "histogram2dcontour": [
           {
            "colorbar": {
             "outlinewidth": 0,
             "ticks": ""
            },
            "colorscale": [
             [
              0,
              "#0d0887"
             ],
             [
              0.1111111111111111,
              "#46039f"
             ],
             [
              0.2222222222222222,
              "#7201a8"
             ],
             [
              0.3333333333333333,
              "#9c179e"
             ],
             [
              0.4444444444444444,
              "#bd3786"
             ],
             [
              0.5555555555555556,
              "#d8576b"
             ],
             [
              0.6666666666666666,
              "#ed7953"
             ],
             [
              0.7777777777777778,
              "#fb9f3a"
             ],
             [
              0.8888888888888888,
              "#fdca26"
             ],
             [
              1,
              "#f0f921"
             ]
            ],
            "type": "histogram2dcontour"
           }
          ],
          "mesh3d": [
           {
            "colorbar": {
             "outlinewidth": 0,
             "ticks": ""
            },
            "type": "mesh3d"
           }
          ],
          "parcoords": [
           {
            "line": {
             "colorbar": {
              "outlinewidth": 0,
              "ticks": ""
             }
            },
            "type": "parcoords"
           }
          ],
          "pie": [
           {
            "automargin": true,
            "type": "pie"
           }
          ],
          "scatter": [
           {
            "marker": {
             "colorbar": {
              "outlinewidth": 0,
              "ticks": ""
             }
            },
            "type": "scatter"
           }
          ],
          "scatter3d": [
           {
            "line": {
             "colorbar": {
              "outlinewidth": 0,
              "ticks": ""
             }
            },
            "marker": {
             "colorbar": {
              "outlinewidth": 0,
              "ticks": ""
             }
            },
            "type": "scatter3d"
           }
          ],
          "scattercarpet": [
           {
            "marker": {
             "colorbar": {
              "outlinewidth": 0,
              "ticks": ""
             }
            },
            "type": "scattercarpet"
           }
          ],
          "scattergeo": [
           {
            "marker": {
             "colorbar": {
              "outlinewidth": 0,
              "ticks": ""
             }
            },
            "type": "scattergeo"
           }
          ],
          "scattergl": [
           {
            "marker": {
             "colorbar": {
              "outlinewidth": 0,
              "ticks": ""
             }
            },
            "type": "scattergl"
           }
          ],
          "scattermapbox": [
           {
            "marker": {
             "colorbar": {
              "outlinewidth": 0,
              "ticks": ""
             }
            },
            "type": "scattermapbox"
           }
          ],
          "scatterpolar": [
           {
            "marker": {
             "colorbar": {
              "outlinewidth": 0,
              "ticks": ""
             }
            },
            "type": "scatterpolar"
           }
          ],
          "scatterpolargl": [
           {
            "marker": {
             "colorbar": {
              "outlinewidth": 0,
              "ticks": ""
             }
            },
            "type": "scatterpolargl"
           }
          ],
          "scatterternary": [
           {
            "marker": {
             "colorbar": {
              "outlinewidth": 0,
              "ticks": ""
             }
            },
            "type": "scatterternary"
           }
          ],
          "surface": [
           {
            "colorbar": {
             "outlinewidth": 0,
             "ticks": ""
            },
            "colorscale": [
             [
              0,
              "#0d0887"
             ],
             [
              0.1111111111111111,
              "#46039f"
             ],
             [
              0.2222222222222222,
              "#7201a8"
             ],
             [
              0.3333333333333333,
              "#9c179e"
             ],
             [
              0.4444444444444444,
              "#bd3786"
             ],
             [
              0.5555555555555556,
              "#d8576b"
             ],
             [
              0.6666666666666666,
              "#ed7953"
             ],
             [
              0.7777777777777778,
              "#fb9f3a"
             ],
             [
              0.8888888888888888,
              "#fdca26"
             ],
             [
              1,
              "#f0f921"
             ]
            ],
            "type": "surface"
           }
          ],
          "table": [
           {
            "cells": {
             "fill": {
              "color": "#EBF0F8"
             },
             "line": {
              "color": "white"
             }
            },
            "header": {
             "fill": {
              "color": "#C8D4E3"
             },
             "line": {
              "color": "white"
             }
            },
            "type": "table"
           }
          ]
         },
         "layout": {
          "annotationdefaults": {
           "arrowcolor": "#2a3f5f",
           "arrowhead": 0,
           "arrowwidth": 1
          },
          "autotypenumbers": "strict",
          "coloraxis": {
           "colorbar": {
            "outlinewidth": 0,
            "ticks": ""
           }
          },
          "colorscale": {
           "diverging": [
            [
             0,
             "#8e0152"
            ],
            [
             0.1,
             "#c51b7d"
            ],
            [
             0.2,
             "#de77ae"
            ],
            [
             0.3,
             "#f1b6da"
            ],
            [
             0.4,
             "#fde0ef"
            ],
            [
             0.5,
             "#f7f7f7"
            ],
            [
             0.6,
             "#e6f5d0"
            ],
            [
             0.7,
             "#b8e186"
            ],
            [
             0.8,
             "#7fbc41"
            ],
            [
             0.9,
             "#4d9221"
            ],
            [
             1,
             "#276419"
            ]
           ],
           "sequential": [
            [
             0,
             "#0d0887"
            ],
            [
             0.1111111111111111,
             "#46039f"
            ],
            [
             0.2222222222222222,
             "#7201a8"
            ],
            [
             0.3333333333333333,
             "#9c179e"
            ],
            [
             0.4444444444444444,
             "#bd3786"
            ],
            [
             0.5555555555555556,
             "#d8576b"
            ],
            [
             0.6666666666666666,
             "#ed7953"
            ],
            [
             0.7777777777777778,
             "#fb9f3a"
            ],
            [
             0.8888888888888888,
             "#fdca26"
            ],
            [
             1,
             "#f0f921"
            ]
           ],
           "sequentialminus": [
            [
             0,
             "#0d0887"
            ],
            [
             0.1111111111111111,
             "#46039f"
            ],
            [
             0.2222222222222222,
             "#7201a8"
            ],
            [
             0.3333333333333333,
             "#9c179e"
            ],
            [
             0.4444444444444444,
             "#bd3786"
            ],
            [
             0.5555555555555556,
             "#d8576b"
            ],
            [
             0.6666666666666666,
             "#ed7953"
            ],
            [
             0.7777777777777778,
             "#fb9f3a"
            ],
            [
             0.8888888888888888,
             "#fdca26"
            ],
            [
             1,
             "#f0f921"
            ]
           ]
          },
          "colorway": [
           "#636efa",
           "#EF553B",
           "#00cc96",
           "#ab63fa",
           "#FFA15A",
           "#19d3f3",
           "#FF6692",
           "#B6E880",
           "#FF97FF",
           "#FECB52"
          ],
          "font": {
           "color": "#2a3f5f"
          },
          "geo": {
           "bgcolor": "white",
           "lakecolor": "white",
           "landcolor": "#E5ECF6",
           "showlakes": true,
           "showland": true,
           "subunitcolor": "white"
          },
          "hoverlabel": {
           "align": "left"
          },
          "hovermode": "closest",
          "mapbox": {
           "style": "light"
          },
          "paper_bgcolor": "white",
          "plot_bgcolor": "#E5ECF6",
          "polar": {
           "angularaxis": {
            "gridcolor": "white",
            "linecolor": "white",
            "ticks": ""
           },
           "bgcolor": "#E5ECF6",
           "radialaxis": {
            "gridcolor": "white",
            "linecolor": "white",
            "ticks": ""
           }
          },
          "scene": {
           "xaxis": {
            "backgroundcolor": "#E5ECF6",
            "gridcolor": "white",
            "gridwidth": 2,
            "linecolor": "white",
            "showbackground": true,
            "ticks": "",
            "zerolinecolor": "white"
           },
           "yaxis": {
            "backgroundcolor": "#E5ECF6",
            "gridcolor": "white",
            "gridwidth": 2,
            "linecolor": "white",
            "showbackground": true,
            "ticks": "",
            "zerolinecolor": "white"
           },
           "zaxis": {
            "backgroundcolor": "#E5ECF6",
            "gridcolor": "white",
            "gridwidth": 2,
            "linecolor": "white",
            "showbackground": true,
            "ticks": "",
            "zerolinecolor": "white"
           }
          },
          "shapedefaults": {
           "line": {
            "color": "#2a3f5f"
           }
          },
          "ternary": {
           "aaxis": {
            "gridcolor": "white",
            "linecolor": "white",
            "ticks": ""
           },
           "baxis": {
            "gridcolor": "white",
            "linecolor": "white",
            "ticks": ""
           },
           "bgcolor": "#E5ECF6",
           "caxis": {
            "gridcolor": "white",
            "linecolor": "white",
            "ticks": ""
           }
          },
          "title": {
           "x": 0.05
          },
          "xaxis": {
           "automargin": true,
           "gridcolor": "white",
           "linecolor": "white",
           "ticks": "",
           "title": {
            "standoff": 15
           },
           "zerolinecolor": "white",
           "zerolinewidth": 2
          },
          "yaxis": {
           "automargin": true,
           "gridcolor": "white",
           "linecolor": "white",
           "ticks": "",
           "title": {
            "standoff": 15
           },
           "zerolinecolor": "white",
           "zerolinewidth": 2
          }
         }
        },
        "updatemenus": [
         {
          "buttons": [
           {
            "args": [
             null,
             {
              "frame": {
               "duration": 500,
               "redraw": true
              },
              "fromcurrent": true,
              "mode": "immediate",
              "transition": {
               "duration": 500,
               "easing": "linear"
              }
             }
            ],
            "label": "&#9654;",
            "method": "animate"
           },
           {
            "args": [
             [
              null
             ],
             {
              "frame": {
               "duration": 0,
               "redraw": true
              },
              "fromcurrent": true,
              "mode": "immediate",
              "transition": {
               "duration": 0,
               "easing": "linear"
              }
             }
            ],
            "label": "&#9724;",
            "method": "animate"
           }
          ],
          "direction": "left",
          "pad": {
           "r": 10,
           "t": 70
          },
          "showactive": false,
          "type": "buttons",
          "x": 0.1,
          "xanchor": "right",
          "y": 0,
          "yanchor": "top"
         }
        ],
        "xaxis": {
         "anchor": "y",
         "domain": [
          0,
          1
         ],
         "title": {
          "text": "State"
         }
        },
        "yaxis": {
         "anchor": "x",
         "domain": [
          0,
          1
         ],
         "title": {
          "text": "Part_Score"
         }
        }
       }
      }
     },
     "metadata": {},
     "output_type": "display_data"
    }
   ],
   "source": [
    "fig = px.bar(state_scores, x=\"State\",y=\"Part_Score\", animation_frame=\"Year\", color=\"Part_Score\", color_continuous_scale=px.colors.sequential.Bluered)\n",
    "fig.show()"
   ]
  },
  {
   "cell_type": "code",
   "execution_count": 10,
   "metadata": {},
   "outputs": [
    {
     "data": {
      "application/vnd.plotly.v1+json": {
       "config": {
        "plotlyServerURL": "https://plot.ly"
       },
       "data": [
        {
         "coloraxis": "coloraxis",
         "geo": "geo",
         "hovertemplate": "State=%{location}<br>Part_Score=%{z}<extra></extra>",
         "locationmode": "USA-states",
         "locations": [
          "OR",
          "NH",
          "NJ",
          "NM",
          "ME",
          "MD",
          "MA",
          "NY",
          "IL",
          "WV",
          "IA",
          "NC",
          "DE",
          "CO",
          "WA",
          "AR",
          "WI",
          "RI",
          "TN",
          "OK",
          "OH",
          "NV",
          "VA",
          "VT",
          "PA",
          "AK",
          "MS",
          "WY",
          "MO",
          "MN",
          "MI",
          "LA",
          "KY",
          "KS",
          "IN",
          "AL",
          "HI",
          "MT",
          "CA",
          "CT",
          "AZ",
          "UT",
          "ND",
          "FL",
          "SD",
          "SC",
          "ID",
          "TX",
          "GA",
          "NE",
          "OR",
          "NH",
          "NM",
          "ME",
          "MD",
          "MA",
          "NY",
          "IL",
          "WV",
          "IA",
          "NC",
          "DE",
          "CO",
          "WA",
          "AR",
          "WI",
          "NJ",
          "RI",
          "TN",
          "OK",
          "OH",
          "VA",
          "NV",
          "VT",
          "PA",
          "AK",
          "MS",
          "WY",
          "MO",
          "MN",
          "MI",
          "LA",
          "KY",
          "KS",
          "IN",
          "AL",
          "HI",
          "MT",
          "CA",
          "CT",
          "AZ",
          "UT",
          "ND",
          "FL",
          "SD",
          "SC",
          "ID",
          "TX",
          "GA",
          "NE",
          "WV",
          "MA",
          "AR",
          "WA",
          "DE",
          "MD",
          "IL",
          "NM",
          "CO",
          "NY",
          "NH",
          "IA",
          "NC",
          "OR",
          "NJ",
          "HI",
          "CT",
          "CA",
          "WI",
          "VT",
          "ME",
          "AK",
          "VA",
          "NV",
          "RI",
          "MS",
          "MO",
          "MN",
          "LA",
          "KY",
          "MT",
          "AL",
          "TN",
          "PA",
          "IN",
          "WY",
          "OH",
          "KS",
          "MI",
          "OK",
          "SC",
          "SD",
          "TX",
          "UT",
          "GA",
          "FL",
          "AZ",
          "ND",
          "ID",
          "NE",
          "AR",
          "WA",
          "WV",
          "MD",
          "DE",
          "MA",
          "IL",
          "OR",
          "NC",
          "NM",
          "NY",
          "NH",
          "HI",
          "CA",
          "VT",
          "CT",
          "IA",
          "CO",
          "NJ",
          "RI",
          "WI",
          "MT",
          "MO",
          "ME",
          "NV",
          "KY",
          "VA",
          "MN",
          "AK",
          "MS",
          "LA",
          "MI",
          "AL",
          "TN",
          "PA",
          "WY",
          "OK",
          "OH",
          "KS",
          "IN",
          "ID",
          "SC",
          "ND",
          "TX",
          "UT",
          "GA",
          "FL",
          "AZ",
          "SD",
          "NE",
          "WV",
          "WA",
          "DE",
          "MD",
          "MA",
          "IL",
          "AR",
          "OR",
          "CA",
          "CO",
          "CT",
          "VT",
          "HI",
          "NY",
          "NM",
          "NH",
          "IA",
          "MN",
          "NC",
          "NJ",
          "KY",
          "NV",
          "RI",
          "ME",
          "VA",
          "MO",
          "MT",
          "WI",
          "AK",
          "MS",
          "LA",
          "MI",
          "AL",
          "TN",
          "PA",
          "WY",
          "OK",
          "OH",
          "KS",
          "IN",
          "ID",
          "SC",
          "ND",
          "TX",
          "UT",
          "GA",
          "FL",
          "AZ",
          "SD",
          "NE",
          "WV",
          "WA",
          "DE",
          "MD",
          "IL",
          "MA",
          "OR",
          "AR",
          "CA",
          "CO",
          "CT",
          "VT",
          "HI",
          "NY",
          "MN",
          "NM",
          "NH",
          "IA",
          "NJ",
          "RI",
          "NV",
          "ME",
          "VA",
          "MO",
          "MT",
          "NC",
          "KY",
          "WI",
          "AK",
          "MS",
          "LA",
          "MI",
          "AL",
          "TN",
          "PA",
          "WY",
          "OK",
          "OH",
          "KS",
          "IN",
          "ID",
          "SC",
          "ND",
          "TX",
          "UT",
          "GA",
          "FL",
          "AZ",
          "SD",
          "NE",
          "DE",
          "IL",
          "MD",
          "WV",
          "WA",
          "MA",
          "CA",
          "CT",
          "VT",
          "HI",
          "OR",
          "CO",
          "NY",
          "AR",
          "IA",
          "RI",
          "MN",
          "NH",
          "NM",
          "NJ",
          "ME",
          "MT",
          "MO",
          "VA",
          "KY",
          "NV",
          "NC",
          "AK",
          "WI",
          "PA",
          "MS",
          "LA",
          "MI",
          "AL",
          "TN",
          "IN",
          "WY",
          "OK",
          "OH",
          "KS",
          "ID",
          "SC",
          "ND",
          "TX",
          "UT",
          "GA",
          "FL",
          "AZ",
          "SD",
          "NE",
          "DE",
          "MA",
          "MD",
          "OR",
          "WA",
          "CA",
          "CT",
          "VT",
          "HI",
          "IL",
          "WV",
          "CO",
          "NY",
          "RI",
          "NH",
          "AR",
          "NM",
          "IA",
          "MN",
          "NJ",
          "ME",
          "VA",
          "MO",
          "KY",
          "MT",
          "NC",
          "AK",
          "NV",
          "WI",
          "PA",
          "MS",
          "LA",
          "MI",
          "AL",
          "TN",
          "IN",
          "WY",
          "OK",
          "OH",
          "KS",
          "ID",
          "SC",
          "ND",
          "TX",
          "UT",
          "GA",
          "FL",
          "AZ",
          "SD",
          "NE",
          "DE",
          "OR",
          "WA",
          "CA",
          "HI",
          "WV",
          "CT",
          "VT",
          "MD",
          "IL",
          "MA",
          "NY",
          "CO",
          "RI",
          "MN",
          "NM",
          "IA",
          "AR",
          "NH",
          "NJ",
          "ME",
          "VA",
          "MT",
          "KY",
          "MO",
          "NC",
          "AK",
          "NV",
          "PA",
          "LA",
          "WI",
          "MS",
          "MI",
          "AL",
          "IN",
          "TN",
          "OK",
          "OH",
          "KS",
          "WY",
          "ID",
          "SC",
          "SD",
          "ND",
          "TX",
          "UT",
          "GA",
          "FL",
          "AZ",
          "NE",
          "DE",
          "OR",
          "WA",
          "CA",
          "HI",
          "CT",
          "VT",
          "MD",
          "IL",
          "MA",
          "WV",
          "NY",
          "RI",
          "CO",
          "MN",
          "NM",
          "NJ",
          "IA",
          "ME",
          "VA",
          "AR",
          "MT",
          "NH",
          "KY",
          "MO",
          "NC",
          "AK",
          "NV",
          "PA",
          "LA",
          "WI",
          "MS",
          "MI",
          "AL",
          "IN",
          "TN",
          "OK",
          "OH",
          "KS",
          "WY",
          "ID",
          "SC",
          "SD",
          "ND",
          "TX",
          "UT",
          "GA",
          "FL",
          "AZ",
          "NE",
          "DE",
          "OR",
          "WA",
          "CA",
          "HI",
          "CT",
          "IL",
          "NY",
          "VT",
          "MD",
          "MA",
          "RI",
          "CO",
          "WV",
          "NJ",
          "NM",
          "MN",
          "ME",
          "VA",
          "MT",
          "NH",
          "IA",
          "AR",
          "NV",
          "NC",
          "KY",
          "MO",
          "AK",
          "PA",
          "LA",
          "WI",
          "MS",
          "MI",
          "KS",
          "AL",
          "IN",
          "TN",
          "OH",
          "OK",
          "WY",
          "ID",
          "SC",
          "SD",
          "ND",
          "TX",
          "UT",
          "GA",
          "FL",
          "AZ",
          "NE",
          "DE",
          "OR",
          "WA",
          "CA",
          "HI",
          "IL",
          "CT",
          "NY",
          "RI",
          "CO",
          "MA",
          "MD",
          "VT",
          "NJ",
          "NM",
          "WV",
          "ME",
          "MN",
          "VA",
          "MT",
          "NH",
          "NV",
          "IA",
          "AR",
          "NC",
          "KY",
          "PA",
          "MO",
          "AK",
          "LA",
          "WI",
          "MI",
          "KS",
          "MS",
          "OK",
          "IN",
          "TN",
          "AL",
          "OH",
          "WY",
          "ND",
          "ID",
          "SC",
          "SD",
          "TX",
          "UT",
          "GA",
          "FL",
          "AZ",
          "NE",
          "DE",
          "WA",
          "CA",
          "HI",
          "OR",
          "CT",
          "IL",
          "NY",
          "RI",
          "CO",
          "VT",
          "MD",
          "MA",
          "NM",
          "NJ",
          "ME",
          "MN",
          "WV",
          "VA",
          "NV",
          "MT",
          "NH",
          "NC",
          "KY",
          "IA",
          "AR",
          "PA",
          "LA",
          "MO",
          "AK",
          "WI",
          "MI",
          "KS",
          "MS",
          "OK",
          "IN",
          "TN",
          "AL",
          "OH",
          "WY",
          "ND",
          "ID",
          "SC",
          "SD",
          "TX",
          "UT",
          "GA",
          "FL",
          "AZ",
          "NE",
          "DE",
          "WA",
          "CA",
          "HI",
          "OR",
          "CT",
          "IL",
          "NY",
          "RI",
          "CO",
          "MD",
          "MA",
          "NM",
          "NJ",
          "VT",
          "ME",
          "MN",
          "VA",
          "NV",
          "WV",
          "MT",
          "NC",
          "NH",
          "KY",
          "PA",
          "IA",
          "AR",
          "LA",
          "WI",
          "MO",
          "AK",
          "MI",
          "KS",
          "MS",
          "OK",
          "IN",
          "TN",
          "AL",
          "OH",
          "WY",
          "AZ",
          "ND",
          "ID",
          "SC",
          "SD",
          "TX",
          "UT",
          "GA",
          "FL",
          "NE"
         ],
         "name": "",
         "type": "choropleth",
         "z": [
          -1,
          -1,
          -1,
          -1,
          -1,
          -1,
          -1,
          -1,
          -1,
          -1,
          -1,
          -1,
          -1,
          -1,
          -1,
          -1,
          -1,
          0,
          0,
          0,
          0,
          0,
          0,
          0,
          0,
          0,
          0,
          0,
          0,
          0,
          0,
          0,
          0,
          0,
          0,
          0,
          0,
          0,
          0,
          0,
          1,
          1,
          1,
          1,
          1,
          1,
          1,
          1,
          1,
          null,
          -1,
          -1,
          -1,
          -1,
          -1,
          -1,
          -1,
          -1,
          -1,
          -1,
          -1,
          -1,
          -1,
          -1,
          -1,
          -1,
          -0.5,
          0,
          0,
          0,
          0,
          0,
          0,
          0,
          0,
          0,
          0,
          0,
          0,
          0,
          0,
          0,
          0,
          0,
          0,
          0,
          0,
          0,
          0,
          0,
          1,
          1,
          1,
          1,
          1,
          1,
          1,
          1,
          1,
          null,
          -1,
          -1,
          -1,
          -1,
          -1,
          -1,
          -1,
          -0.6666666666666666,
          -0.6666666666666666,
          -0.6666666666666666,
          -0.6666666666666666,
          -0.6666666666666666,
          -0.6666666666666666,
          -0.6666666666666666,
          -0.3333333333333333,
          -0.3333333333333333,
          -0.3333333333333333,
          -0.3333333333333333,
          -0.3333333333333333,
          -0.3333333333333333,
          -0.3333333333333333,
          0,
          0,
          0,
          0,
          0,
          0,
          0,
          0,
          0,
          0,
          0.3333333333333333,
          0.3333333333333333,
          0.3333333333333333,
          0.3333333333333333,
          0.3333333333333333,
          0.3333333333333333,
          0.3333333333333333,
          0.3333333333333333,
          0.3333333333333333,
          1,
          1,
          1,
          1,
          1,
          1,
          1,
          1,
          1,
          null,
          -1,
          -1,
          -1,
          -1,
          -1,
          -1,
          -1,
          -0.5,
          -0.5,
          -0.5,
          -0.5,
          -0.5,
          -0.5,
          -0.5,
          -0.5,
          -0.5,
          -0.5,
          -0.5,
          -0.25,
          0,
          0,
          0,
          0,
          0,
          0,
          0,
          0,
          0,
          0,
          0.25,
          0.25,
          0.5,
          0.5,
          0.5,
          0.5,
          0.5,
          0.5,
          0.5,
          0.5,
          0.5,
          1,
          1,
          1,
          1,
          1,
          1,
          1,
          1,
          1,
          null,
          -1,
          -1,
          -1,
          -1,
          -1,
          -1,
          -0.8,
          -0.6,
          -0.6,
          -0.6,
          -0.6,
          -0.6,
          -0.6,
          -0.6,
          -0.4,
          -0.4,
          -0.4,
          -0.2,
          -0.2,
          -0.2,
          0,
          0,
          0,
          0,
          0,
          0,
          0,
          0.2,
          0.2,
          0.4,
          0.4,
          0.6,
          0.6,
          0.6,
          0.6,
          0.6,
          0.6,
          0.6,
          0.6,
          0.6,
          1,
          1,
          1,
          1,
          1,
          1,
          1,
          1,
          1,
          null,
          -1,
          -1,
          -1,
          -1,
          -1,
          -1,
          -0.6666666666666666,
          -0.6666666666666666,
          -0.6666666666666666,
          -0.6666666666666666,
          -0.6666666666666666,
          -0.6666666666666666,
          -0.6666666666666666,
          -0.6666666666666666,
          -0.3333333333333333,
          -0.3333333333333333,
          -0.3333333333333333,
          -0.3333333333333333,
          -0.16666666666666666,
          -0.16666666666666666,
          0,
          0,
          0,
          0,
          0,
          0,
          0,
          0.3333333333333333,
          0.3333333333333333,
          0.5,
          0.5,
          0.6666666666666666,
          0.6666666666666666,
          0.6666666666666666,
          0.6666666666666666,
          0.6666666666666666,
          0.6666666666666666,
          0.6666666666666666,
          0.6666666666666666,
          0.6666666666666666,
          1,
          1,
          1,
          1,
          1,
          1,
          1,
          1,
          1,
          null,
          -1,
          -0.8571428571428571,
          -0.8571428571428571,
          -0.8571428571428571,
          -0.8571428571428571,
          -0.8571428571428571,
          -0.7142857142857143,
          -0.7142857142857143,
          -0.7142857142857143,
          -0.7142857142857143,
          -0.7142857142857143,
          -0.5714285714285714,
          -0.5714285714285714,
          -0.42857142857142855,
          -0.2857142857142857,
          -0.2857142857142857,
          -0.2857142857142857,
          -0.2857142857142857,
          -0.2857142857142857,
          -0.14285714285714285,
          0,
          0,
          0,
          0,
          0,
          0.14285714285714285,
          0.14285714285714285,
          0.2857142857142857,
          0.42857142857142855,
          0.5714285714285714,
          0.5714285714285714,
          0.5714285714285714,
          0.7142857142857143,
          0.7142857142857143,
          0.7142857142857143,
          0.7142857142857143,
          0.7142857142857143,
          0.7142857142857143,
          0.7142857142857143,
          0.7142857142857143,
          1,
          1,
          1,
          1,
          1,
          1,
          1,
          1,
          1,
          null,
          -1,
          -0.75,
          -0.75,
          -0.75,
          -0.75,
          -0.75,
          -0.75,
          -0.75,
          -0.75,
          -0.75,
          -0.75,
          -0.5,
          -0.5,
          -0.375,
          -0.25,
          -0.25,
          -0.25,
          -0.25,
          -0.25,
          -0.125,
          0,
          0,
          0,
          0,
          0,
          0.25,
          0.25,
          0.25,
          0.5,
          0.5,
          0.625,
          0.625,
          0.75,
          0.75,
          0.75,
          0.75,
          0.75,
          0.75,
          0.75,
          0.75,
          1,
          1,
          1,
          1,
          1,
          1,
          1,
          1,
          1,
          null,
          -1,
          -0.7777777777777778,
          -0.7777777777777778,
          -0.7777777777777778,
          -0.7777777777777778,
          -0.6666666666666666,
          -0.6666666666666666,
          -0.6666666666666666,
          -0.6666666666666666,
          -0.6666666666666666,
          -0.6666666666666666,
          -0.5555555555555556,
          -0.4444444444444444,
          -0.4444444444444444,
          -0.2222222222222222,
          -0.2222222222222222,
          -0.1111111111111111,
          -0.1111111111111111,
          -0.1111111111111111,
          -0.1111111111111111,
          0,
          0,
          0,
          0.1111111111111111,
          0.1111111111111111,
          0.2222222222222222,
          0.2222222222222222,
          0.25,
          0.4444444444444444,
          0.5555555555555556,
          0.5555555555555556,
          0.6666666666666666,
          0.7777777777777778,
          0.7777777777777778,
          0.7777777777777778,
          0.7777777777777778,
          0.7777777777777778,
          0.7777777777777778,
          0.7777777777777778,
          0.7777777777777778,
          1,
          1,
          1,
          1,
          1,
          1,
          1,
          1,
          1,
          null,
          -1,
          -0.8,
          -0.8,
          -0.8,
          -0.8,
          -0.6,
          -0.6,
          -0.6,
          -0.6,
          -0.6,
          -0.5,
          -0.5,
          -0.5,
          -0.4,
          -0.2,
          -0.2,
          -0.2,
          0,
          0,
          0,
          0,
          0,
          0,
          0.2,
          0.2,
          0.2,
          0.2,
          0.2222222222222222,
          0.4,
          0.5,
          0.6,
          0.7,
          0.8,
          0.8,
          0.8,
          0.8,
          0.8,
          0.8,
          0.8,
          0.8,
          1,
          1,
          1,
          1,
          1,
          1,
          1,
          1,
          1,
          null,
          -1,
          -0.8181818181818182,
          -0.8181818181818182,
          -0.8181818181818182,
          -0.8181818181818182,
          -0.6363636363636364,
          -0.6363636363636364,
          -0.5454545454545454,
          -0.5454545454545454,
          -0.5454545454545454,
          -0.5454545454545454,
          -0.5454545454545454,
          -0.45454545454545453,
          -0.36363636363636365,
          -0.2727272727272727,
          -0.2727272727272727,
          -0.18181818181818182,
          -0.09090909090909091,
          0,
          0,
          0,
          0.09090909090909091,
          0.09090909090909091,
          0.1,
          0.18181818181818182,
          0.2727272727272727,
          0.2727272727272727,
          0.2727272727272727,
          0.36363636363636365,
          0.45454545454545453,
          0.5454545454545454,
          0.7272727272727273,
          0.7272727272727273,
          0.7272727272727273,
          0.8181818181818182,
          0.8181818181818182,
          0.8181818181818182,
          0.8181818181818182,
          0.8181818181818182,
          0.8181818181818182,
          1,
          1,
          1,
          1,
          1,
          1,
          1,
          1,
          1,
          null,
          -1,
          -0.8333333333333334,
          -0.8333333333333334,
          -0.8333333333333334,
          -0.8333333333333334,
          -0.6666666666666666,
          -0.6666666666666666,
          -0.5833333333333334,
          -0.5833333333333334,
          -0.5,
          -0.5,
          -0.5,
          -0.5,
          -0.3333333333333333,
          -0.3333333333333333,
          -0.25,
          -0.16666666666666666,
          -0.16666666666666666,
          -0.08333333333333333,
          0,
          0,
          0,
          0.16666666666666666,
          0.16666666666666666,
          0.16666666666666666,
          0.25,
          0.3333333333333333,
          0.3333333333333333,
          0.3333333333333333,
          0.4166666666666667,
          0.5,
          0.6666666666666666,
          0.6666666666666666,
          0.75,
          0.8333333333333334,
          0.8333333333333334,
          0.8333333333333334,
          0.8333333333333334,
          0.8333333333333334,
          0.8333333333333334,
          1,
          1,
          1,
          1,
          1,
          1,
          1,
          1,
          1,
          null,
          -1,
          -0.8461538461538461,
          -0.8461538461538461,
          -0.8461538461538461,
          -0.8461538461538461,
          -0.6923076923076923,
          -0.6923076923076923,
          -0.6153846153846154,
          -0.6153846153846154,
          -0.5384615384615384,
          -0.46153846153846156,
          -0.46153846153846156,
          -0.46153846153846156,
          -0.38461538461538464,
          -0.38461538461538464,
          -0.23076923076923078,
          -0.15384615384615385,
          -0.15384615384615385,
          -0.15384615384615385,
          -0.08333333333333333,
          0.07692307692307693,
          0.07692307692307693,
          0.15384615384615385,
          0.23076923076923078,
          0.23076923076923078,
          0.23076923076923078,
          0.3076923076923077,
          0.38461538461538464,
          0.38461538461538464,
          0.38461538461538464,
          0.46153846153846156,
          0.6153846153846154,
          0.6153846153846154,
          0.7692307692307693,
          0.8461538461538461,
          0.8461538461538461,
          0.8461538461538461,
          0.8461538461538461,
          0.8461538461538461,
          0.8461538461538461,
          1,
          1,
          1,
          1,
          1,
          1,
          1,
          1,
          1,
          null,
          -1,
          -0.8571428571428571,
          -0.8571428571428571,
          -0.8571428571428571,
          -0.8571428571428571,
          -0.7142857142857143,
          -0.7142857142857143,
          -0.6428571428571429,
          -0.6428571428571429,
          -0.5714285714285714,
          -0.5,
          -0.5,
          -0.42857142857142855,
          -0.42857142857142855,
          -0.42857142857142855,
          -0.2857142857142857,
          -0.21428571428571427,
          -0.14285714285714285,
          -0.07692307692307693,
          -0.07142857142857142,
          0.14285714285714285,
          0.14285714285714285,
          0.14285714285714285,
          0.21428571428571427,
          0.2857142857142857,
          0.2857142857142857,
          0.2857142857142857,
          0.35714285714285715,
          0.42857142857142855,
          0.42857142857142855,
          0.42857142857142855,
          0.5,
          0.5714285714285714,
          0.7857142857142857,
          0.8571428571428571,
          0.8571428571428571,
          0.8571428571428571,
          0.8571428571428571,
          0.8571428571428571,
          0.8571428571428571,
          0.9285714285714286,
          1,
          1,
          1,
          1,
          1,
          1,
          1,
          1,
          null
         ]
        }
       ],
       "layout": {
        "coloraxis": {
         "colorbar": {
          "title": {
           "text": "Part_Score"
          }
         },
         "colorscale": [
          [
           0,
           "rgb(0,0,255)"
          ],
          [
           1,
           "rgb(255,0,0)"
          ]
         ]
        },
        "geo": {
         "center": {},
         "domain": {
          "x": [
           0,
           1
          ],
          "y": [
           0,
           1
          ]
         },
         "scope": "usa"
        },
        "legend": {
         "tracegroupgap": 0
        },
        "margin": {
         "t": 60
        },
        "template": {
         "data": {
          "bar": [
           {
            "error_x": {
             "color": "#2a3f5f"
            },
            "error_y": {
             "color": "#2a3f5f"
            },
            "marker": {
             "line": {
              "color": "#E5ECF6",
              "width": 0.5
             },
             "pattern": {
              "fillmode": "overlay",
              "size": 10,
              "solidity": 0.2
             }
            },
            "type": "bar"
           }
          ],
          "barpolar": [
           {
            "marker": {
             "line": {
              "color": "#E5ECF6",
              "width": 0.5
             },
             "pattern": {
              "fillmode": "overlay",
              "size": 10,
              "solidity": 0.2
             }
            },
            "type": "barpolar"
           }
          ],
          "carpet": [
           {
            "aaxis": {
             "endlinecolor": "#2a3f5f",
             "gridcolor": "white",
             "linecolor": "white",
             "minorgridcolor": "white",
             "startlinecolor": "#2a3f5f"
            },
            "baxis": {
             "endlinecolor": "#2a3f5f",
             "gridcolor": "white",
             "linecolor": "white",
             "minorgridcolor": "white",
             "startlinecolor": "#2a3f5f"
            },
            "type": "carpet"
           }
          ],
          "choropleth": [
           {
            "colorbar": {
             "outlinewidth": 0,
             "ticks": ""
            },
            "type": "choropleth"
           }
          ],
          "contour": [
           {
            "colorbar": {
             "outlinewidth": 0,
             "ticks": ""
            },
            "colorscale": [
             [
              0,
              "#0d0887"
             ],
             [
              0.1111111111111111,
              "#46039f"
             ],
             [
              0.2222222222222222,
              "#7201a8"
             ],
             [
              0.3333333333333333,
              "#9c179e"
             ],
             [
              0.4444444444444444,
              "#bd3786"
             ],
             [
              0.5555555555555556,
              "#d8576b"
             ],
             [
              0.6666666666666666,
              "#ed7953"
             ],
             [
              0.7777777777777778,
              "#fb9f3a"
             ],
             [
              0.8888888888888888,
              "#fdca26"
             ],
             [
              1,
              "#f0f921"
             ]
            ],
            "type": "contour"
           }
          ],
          "contourcarpet": [
           {
            "colorbar": {
             "outlinewidth": 0,
             "ticks": ""
            },
            "type": "contourcarpet"
           }
          ],
          "heatmap": [
           {
            "colorbar": {
             "outlinewidth": 0,
             "ticks": ""
            },
            "colorscale": [
             [
              0,
              "#0d0887"
             ],
             [
              0.1111111111111111,
              "#46039f"
             ],
             [
              0.2222222222222222,
              "#7201a8"
             ],
             [
              0.3333333333333333,
              "#9c179e"
             ],
             [
              0.4444444444444444,
              "#bd3786"
             ],
             [
              0.5555555555555556,
              "#d8576b"
             ],
             [
              0.6666666666666666,
              "#ed7953"
             ],
             [
              0.7777777777777778,
              "#fb9f3a"
             ],
             [
              0.8888888888888888,
              "#fdca26"
             ],
             [
              1,
              "#f0f921"
             ]
            ],
            "type": "heatmap"
           }
          ],
          "heatmapgl": [
           {
            "colorbar": {
             "outlinewidth": 0,
             "ticks": ""
            },
            "colorscale": [
             [
              0,
              "#0d0887"
             ],
             [
              0.1111111111111111,
              "#46039f"
             ],
             [
              0.2222222222222222,
              "#7201a8"
             ],
             [
              0.3333333333333333,
              "#9c179e"
             ],
             [
              0.4444444444444444,
              "#bd3786"
             ],
             [
              0.5555555555555556,
              "#d8576b"
             ],
             [
              0.6666666666666666,
              "#ed7953"
             ],
             [
              0.7777777777777778,
              "#fb9f3a"
             ],
             [
              0.8888888888888888,
              "#fdca26"
             ],
             [
              1,
              "#f0f921"
             ]
            ],
            "type": "heatmapgl"
           }
          ],
          "histogram": [
           {
            "marker": {
             "pattern": {
              "fillmode": "overlay",
              "size": 10,
              "solidity": 0.2
             }
            },
            "type": "histogram"
           }
          ],
          "histogram2d": [
           {
            "colorbar": {
             "outlinewidth": 0,
             "ticks": ""
            },
            "colorscale": [
             [
              0,
              "#0d0887"
             ],
             [
              0.1111111111111111,
              "#46039f"
             ],
             [
              0.2222222222222222,
              "#7201a8"
             ],
             [
              0.3333333333333333,
              "#9c179e"
             ],
             [
              0.4444444444444444,
              "#bd3786"
             ],
             [
              0.5555555555555556,
              "#d8576b"
             ],
             [
              0.6666666666666666,
              "#ed7953"
             ],
             [
              0.7777777777777778,
              "#fb9f3a"
             ],
             [
              0.8888888888888888,
              "#fdca26"
             ],
             [
              1,
              "#f0f921"
             ]
            ],
            "type": "histogram2d"
           }
          ],
          "histogram2dcontour": [
           {
            "colorbar": {
             "outlinewidth": 0,
             "ticks": ""
            },
            "colorscale": [
             [
              0,
              "#0d0887"
             ],
             [
              0.1111111111111111,
              "#46039f"
             ],
             [
              0.2222222222222222,
              "#7201a8"
             ],
             [
              0.3333333333333333,
              "#9c179e"
             ],
             [
              0.4444444444444444,
              "#bd3786"
             ],
             [
              0.5555555555555556,
              "#d8576b"
             ],
             [
              0.6666666666666666,
              "#ed7953"
             ],
             [
              0.7777777777777778,
              "#fb9f3a"
             ],
             [
              0.8888888888888888,
              "#fdca26"
             ],
             [
              1,
              "#f0f921"
             ]
            ],
            "type": "histogram2dcontour"
           }
          ],
          "mesh3d": [
           {
            "colorbar": {
             "outlinewidth": 0,
             "ticks": ""
            },
            "type": "mesh3d"
           }
          ],
          "parcoords": [
           {
            "line": {
             "colorbar": {
              "outlinewidth": 0,
              "ticks": ""
             }
            },
            "type": "parcoords"
           }
          ],
          "pie": [
           {
            "automargin": true,
            "type": "pie"
           }
          ],
          "scatter": [
           {
            "marker": {
             "colorbar": {
              "outlinewidth": 0,
              "ticks": ""
             }
            },
            "type": "scatter"
           }
          ],
          "scatter3d": [
           {
            "line": {
             "colorbar": {
              "outlinewidth": 0,
              "ticks": ""
             }
            },
            "marker": {
             "colorbar": {
              "outlinewidth": 0,
              "ticks": ""
             }
            },
            "type": "scatter3d"
           }
          ],
          "scattercarpet": [
           {
            "marker": {
             "colorbar": {
              "outlinewidth": 0,
              "ticks": ""
             }
            },
            "type": "scattercarpet"
           }
          ],
          "scattergeo": [
           {
            "marker": {
             "colorbar": {
              "outlinewidth": 0,
              "ticks": ""
             }
            },
            "type": "scattergeo"
           }
          ],
          "scattergl": [
           {
            "marker": {
             "colorbar": {
              "outlinewidth": 0,
              "ticks": ""
             }
            },
            "type": "scattergl"
           }
          ],
          "scattermapbox": [
           {
            "marker": {
             "colorbar": {
              "outlinewidth": 0,
              "ticks": ""
             }
            },
            "type": "scattermapbox"
           }
          ],
          "scatterpolar": [
           {
            "marker": {
             "colorbar": {
              "outlinewidth": 0,
              "ticks": ""
             }
            },
            "type": "scatterpolar"
           }
          ],
          "scatterpolargl": [
           {
            "marker": {
             "colorbar": {
              "outlinewidth": 0,
              "ticks": ""
             }
            },
            "type": "scatterpolargl"
           }
          ],
          "scatterternary": [
           {
            "marker": {
             "colorbar": {
              "outlinewidth": 0,
              "ticks": ""
             }
            },
            "type": "scatterternary"
           }
          ],
          "surface": [
           {
            "colorbar": {
             "outlinewidth": 0,
             "ticks": ""
            },
            "colorscale": [
             [
              0,
              "#0d0887"
             ],
             [
              0.1111111111111111,
              "#46039f"
             ],
             [
              0.2222222222222222,
              "#7201a8"
             ],
             [
              0.3333333333333333,
              "#9c179e"
             ],
             [
              0.4444444444444444,
              "#bd3786"
             ],
             [
              0.5555555555555556,
              "#d8576b"
             ],
             [
              0.6666666666666666,
              "#ed7953"
             ],
             [
              0.7777777777777778,
              "#fb9f3a"
             ],
             [
              0.8888888888888888,
              "#fdca26"
             ],
             [
              1,
              "#f0f921"
             ]
            ],
            "type": "surface"
           }
          ],
          "table": [
           {
            "cells": {
             "fill": {
              "color": "#EBF0F8"
             },
             "line": {
              "color": "white"
             }
            },
            "header": {
             "fill": {
              "color": "#C8D4E3"
             },
             "line": {
              "color": "white"
             }
            },
            "type": "table"
           }
          ]
         },
         "layout": {
          "annotationdefaults": {
           "arrowcolor": "#2a3f5f",
           "arrowhead": 0,
           "arrowwidth": 1
          },
          "autotypenumbers": "strict",
          "coloraxis": {
           "colorbar": {
            "outlinewidth": 0,
            "ticks": ""
           }
          },
          "colorscale": {
           "diverging": [
            [
             0,
             "#8e0152"
            ],
            [
             0.1,
             "#c51b7d"
            ],
            [
             0.2,
             "#de77ae"
            ],
            [
             0.3,
             "#f1b6da"
            ],
            [
             0.4,
             "#fde0ef"
            ],
            [
             0.5,
             "#f7f7f7"
            ],
            [
             0.6,
             "#e6f5d0"
            ],
            [
             0.7,
             "#b8e186"
            ],
            [
             0.8,
             "#7fbc41"
            ],
            [
             0.9,
             "#4d9221"
            ],
            [
             1,
             "#276419"
            ]
           ],
           "sequential": [
            [
             0,
             "#0d0887"
            ],
            [
             0.1111111111111111,
             "#46039f"
            ],
            [
             0.2222222222222222,
             "#7201a8"
            ],
            [
             0.3333333333333333,
             "#9c179e"
            ],
            [
             0.4444444444444444,
             "#bd3786"
            ],
            [
             0.5555555555555556,
             "#d8576b"
            ],
            [
             0.6666666666666666,
             "#ed7953"
            ],
            [
             0.7777777777777778,
             "#fb9f3a"
            ],
            [
             0.8888888888888888,
             "#fdca26"
            ],
            [
             1,
             "#f0f921"
            ]
           ],
           "sequentialminus": [
            [
             0,
             "#0d0887"
            ],
            [
             0.1111111111111111,
             "#46039f"
            ],
            [
             0.2222222222222222,
             "#7201a8"
            ],
            [
             0.3333333333333333,
             "#9c179e"
            ],
            [
             0.4444444444444444,
             "#bd3786"
            ],
            [
             0.5555555555555556,
             "#d8576b"
            ],
            [
             0.6666666666666666,
             "#ed7953"
            ],
            [
             0.7777777777777778,
             "#fb9f3a"
            ],
            [
             0.8888888888888888,
             "#fdca26"
            ],
            [
             1,
             "#f0f921"
            ]
           ]
          },
          "colorway": [
           "#636efa",
           "#EF553B",
           "#00cc96",
           "#ab63fa",
           "#FFA15A",
           "#19d3f3",
           "#FF6692",
           "#B6E880",
           "#FF97FF",
           "#FECB52"
          ],
          "font": {
           "color": "#2a3f5f"
          },
          "geo": {
           "bgcolor": "white",
           "lakecolor": "white",
           "landcolor": "#E5ECF6",
           "showlakes": true,
           "showland": true,
           "subunitcolor": "white"
          },
          "hoverlabel": {
           "align": "left"
          },
          "hovermode": "closest",
          "mapbox": {
           "style": "light"
          },
          "paper_bgcolor": "white",
          "plot_bgcolor": "#E5ECF6",
          "polar": {
           "angularaxis": {
            "gridcolor": "white",
            "linecolor": "white",
            "ticks": ""
           },
           "bgcolor": "#E5ECF6",
           "radialaxis": {
            "gridcolor": "white",
            "linecolor": "white",
            "ticks": ""
           }
          },
          "scene": {
           "xaxis": {
            "backgroundcolor": "#E5ECF6",
            "gridcolor": "white",
            "gridwidth": 2,
            "linecolor": "white",
            "showbackground": true,
            "ticks": "",
            "zerolinecolor": "white"
           },
           "yaxis": {
            "backgroundcolor": "#E5ECF6",
            "gridcolor": "white",
            "gridwidth": 2,
            "linecolor": "white",
            "showbackground": true,
            "ticks": "",
            "zerolinecolor": "white"
           },
           "zaxis": {
            "backgroundcolor": "#E5ECF6",
            "gridcolor": "white",
            "gridwidth": 2,
            "linecolor": "white",
            "showbackground": true,
            "ticks": "",
            "zerolinecolor": "white"
           }
          },
          "shapedefaults": {
           "line": {
            "color": "#2a3f5f"
           }
          },
          "ternary": {
           "aaxis": {
            "gridcolor": "white",
            "linecolor": "white",
            "ticks": ""
           },
           "baxis": {
            "gridcolor": "white",
            "linecolor": "white",
            "ticks": ""
           },
           "bgcolor": "#E5ECF6",
           "caxis": {
            "gridcolor": "white",
            "linecolor": "white",
            "ticks": ""
           }
          },
          "title": {
           "x": 0.05
          },
          "xaxis": {
           "automargin": true,
           "gridcolor": "white",
           "linecolor": "white",
           "ticks": "",
           "title": {
            "standoff": 15
           },
           "zerolinecolor": "white",
           "zerolinewidth": 2
          },
          "yaxis": {
           "automargin": true,
           "gridcolor": "white",
           "linecolor": "white",
           "ticks": "",
           "title": {
            "standoff": 15
           },
           "zerolinecolor": "white",
           "zerolinewidth": 2
          }
         }
        }
       }
      }
     },
     "metadata": {},
     "output_type": "display_data"
    }
   ],
   "source": [
    "fig = px.choropleth(state_scores, locations=\"State\", locationmode=\"USA-states\", color=\"Part_Score\", scope=\"usa\", color_continuous_scale=px.colors.sequential.Bluered)\n",
    "fig.show()"
   ]
  },
  {
   "cell_type": "code",
   "execution_count": null,
   "metadata": {},
   "outputs": [],
   "source": []
  }
 ],
 "metadata": {
  "kernelspec": {
   "display_name": "real-fast",
   "language": "python",
   "name": "python3"
  },
  "language_info": {
   "codemirror_mode": {
    "name": "ipython",
    "version": 3
   },
   "file_extension": ".py",
   "mimetype": "text/x-python",
   "name": "python",
   "nbconvert_exporter": "python",
   "pygments_lexer": "ipython3",
   "version": "3.8.4"
  },
  "orig_nbformat": 4
 },
 "nbformat": 4,
 "nbformat_minor": 2
}
