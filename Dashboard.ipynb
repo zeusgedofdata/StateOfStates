{
 "cells": [
  {
   "cell_type": "code",
   "execution_count": null,
   "metadata": {},
   "outputs": [],
   "source": [
    "import pandas as pd\n",
    "from dash import Dash, html, dcc, callback, Output, Input, State, dash_table\n",
    "from jupyter_dash import JupyterDash\n",
    "import censusgeocode as cg\n",
    "import plotly.figure_factory as ff\n",
    "from urllib.request import urlopen\n",
    "import json\n",
    "import plotly.express as px\n",
    "import plotly.graph_objects as go\n",
    "import numpy as np\n",
    "from sklearn.linear_model import LinearRegression\n",
    "from Partisian import get_state_part_score\n",
    "from Life import get_age_life_fig\n",
    "from sklearn.neighbors import KNeighborsClassifier\n",
    "from plotly.subplots import make_subplots"
   ]
  },
  {
   "cell_type": "code",
   "execution_count": null,
   "metadata": {},
   "outputs": [],
   "source": [
    "'''\n",
    "app = JupyterDash(__name__)\n",
    "app.layout = html.Div([\n",
    "    html.H1(children='Life', style={'textAlign':'center'}),\n",
    "    dcc.Dropdown([\"qx\", \"lx\"], 'qx', id='dropdown-selection'),\n",
    "    dcc.Graph(id='graph-content', figure=get_age_life_fig(\"qx\"))\n",
    "])\n",
    "@callback(\n",
    "    Output('graph-content', 'figure'),\n",
    "    Input('dropdown-selection', 'value')\n",
    ")\n",
    "def update_graph(value):\n",
    "    return get_age_life_fig(value)\n",
    "app.run_server(debug=True)\n",
    "'''"
   ]
  },
  {
   "cell_type": "code",
   "execution_count": null,
   "metadata": {},
   "outputs": [],
   "source": []
  },
  {
   "cell_type": "code",
   "execution_count": null,
   "metadata": {},
   "outputs": [],
   "source": []
  },
  {
   "cell_type": "code",
   "execution_count": null,
   "metadata": {},
   "outputs": [],
   "source": [
    "income_life_exp = pd.read_csv(r\"data\\Life\\health_ineq_online_table_2.csv\")"
   ]
  },
  {
   "cell_type": "code",
   "execution_count": null,
   "metadata": {},
   "outputs": [],
   "source": [
    "income_life_exp.head(3)"
   ]
  },
  {
   "cell_type": "code",
   "execution_count": null,
   "metadata": {},
   "outputs": [],
   "source": [
    "#https://community.plotly.com/t/slider-with-play-button-for-animations-independent-of-plotly/53188/7"
   ]
  },
  {
   "cell_type": "code",
   "execution_count": null,
   "metadata": {},
   "outputs": [],
   "source": [
    "def usa_map():\n",
    "    df = pd.read_csv('https://raw.githubusercontent.com/plotly/datasets/master/2011_us_ag_exports.csv')\n",
    "\n",
    "    for col in df.columns:\n",
    "        df[col] = df[col].astype(str)\n",
    "\n",
    "    df['text'] = df['state'] + '<br>' + \\\n",
    "        'Beef ' + df['beef'] + ' Dairy ' + df['dairy'] + '<br>' + \\\n",
    "        'Fruits ' + df['total fruits'] + ' Veggies ' + df['total veggies'] + '<br>' + \\\n",
    "        'Wheat ' + df['wheat'] + ' Corn ' + df['corn']\n",
    "\n",
    "    fig = go.Figure(data=go.Choropleth(\n",
    "        locations=df['code'],\n",
    "        z=df['total exports'].astype(float),\n",
    "        locationmode='USA-states',\n",
    "        colorscale='Reds',\n",
    "        autocolorscale=False,\n",
    "        text=df['text'], # hover text\n",
    "        marker_line_color='white', # line markers between states\n",
    "        colorbar_title=\"Millions USD\"\n",
    "    ))\n",
    "\n",
    "    fig.update_layout(\n",
    "        title_text='2011 US Agriculture Exports by State<br>(Hover for breakdown)',\n",
    "        geo = dict(\n",
    "            scope='usa',\n",
    "            projection=go.layout.geo.Projection(type = 'albers usa'),\n",
    "            showlakes=True, # lakes\n",
    "            lakecolor='rgb(255, 255, 255)'),\n",
    "    )\n",
    "    return fig"
   ]
  },
  {
   "cell_type": "code",
   "execution_count": null,
   "metadata": {},
   "outputs": [],
   "source": [
    "def life_exp_map():\n",
    "    df = pd.read_csv(r'./data/Life/LifeExp/StateLifeExp2020CDC.csv')\n",
    "    fig = go.Figure(data=go.Choropleth(\n",
    "        locations = df[\"STATE\"],\n",
    "        z = df[\"RATE\"],\n",
    "        locationmode = 'USA-states',\n",
    "        colorscale='Inferno',\n",
    "        colorbar_title=\"Life Expectancy\"    \n",
    "    ))\n",
    "    fig.update_layout(\n",
    "        title_text =\"2020 Life Expectancy - State Wide\",\n",
    "        geo_scope='usa',\n",
    "    )\n",
    "    return fig"
   ]
  },
  {
   "cell_type": "code",
   "execution_count": null,
   "metadata": {},
   "outputs": [],
   "source": [
    "app = JupyterDash(__name__)\n",
    "\n",
    "income_life_exp = pd.read_csv(r\"data\\Life\\health_ineq_online_table_2.csv\")\n",
    "\n",
    "\n",
    "\n",
    "app.layout = html.Div(className=\"row-fluid\", children=[\n",
    "    html.H1(children='USA', style={'textAlign':'center'}),\n",
    "    html.Div(className=\"container-fluid\", children=[\n",
    "        html.Div(className = \"row\", children=[\n",
    "            html.Div(dcc.Dropdown(['Life', 'Health', 'Substance', 'Wealth', 'Inequality', 'Enviroment', \n",
    "                                   'Peace', 'Safety', 'Terrorism', 'Democracy', 'Equality', 'Knowledge', \n",
    "                                   'Quality of Life', 'Happiness']),className = \"span8 offset2\"),\n",
    "             \n",
    "        ]),\n",
    "        html.Div(className = \"row\", children=[\n",
    "            html.Div(dcc.RadioItems([\"State\", \"County \"], 'State', inline=True), className=\"span4 offset5\")\n",
    "        ])\n",
    "        ]),\n",
    "   \n",
    "    html.Div(className = \"container-fluid\", children=[\n",
    "        html.Div(children=[\n",
    "            html.Div(dcc.Graph(id='graph-content', figure=life_exp_map()), className = \"span7\"),\n",
    "            html.Div(dash_table.DataTable(id='click-data', page_size=10), className = \"span5\")])\n",
    "    ])  \n",
    "])\n",
    "\n",
    "@callback(\n",
    "    Output('click-data', 'data'),\n",
    "    Input('graph-content', 'clickData'),\n",
    "    )\n",
    "def update_click(clickData):\n",
    "    df = pd.read_csv(r'./data/Life/LifeExp/StateLifeExp2020CDC.csv')\n",
    "    #df = df[df[\"code\"] == \"AZ\"]\n",
    "    try:\n",
    "        df = df[df[\"STATE\"] == clickData[\"points\"][0][\"location\"]]\n",
    "    except:\n",
    "        print(clickData)\n",
    "    return df[[\"RATE\",\"YEAR\"]].to_dict('records')\n",
    "\n",
    "\n",
    "if __name__ == '__main__':\n",
    "    app.run_server(debug=True)"
   ]
  },
  {
   "cell_type": "code",
   "execution_count": null,
   "metadata": {},
   "outputs": [],
   "source": [
    "a = {'points': [{'curveNumber': 0, 'pointNumber': 26, 'pointIndex': 26, 'location': 'NE', 'z': 7114.13, 'text': 'Nebraska<br>Beef 762.2 Dairy 30.07<br>Fruits 2.16 Veggies 53.5<br>Wheat 292.3 Corn 1735.9', 'bbox': {'x0': 894.0050665160245, 'x1': 894.0050665160245, 'y0': 286.1820161686125, 'y1': 286.1820161686125}}]}"
   ]
  },
  {
   "cell_type": "code",
   "execution_count": null,
   "metadata": {},
   "outputs": [],
   "source": [
    "a"
   ]
  },
  {
   "cell_type": "code",
   "execution_count": null,
   "metadata": {},
   "outputs": [],
   "source": [
    "df = pd.read_csv('https://raw.githubusercontent.com/plotly/datasets/master/2011_us_ag_exports.csv')\n",
    "df.to_dict('records')"
   ]
  },
  {
   "cell_type": "code",
   "execution_count": null,
   "metadata": {},
   "outputs": [],
   "source": [
    "income_life_exp\n"
   ]
  },
  {
   "cell_type": "code",
   "execution_count": null,
   "metadata": {},
   "outputs": [],
   "source": [
    "years = list(income_life_exp.year.unique())\n",
    "index = years.index(2001)\n",
    "index = (index + 1) % len(years)\n",
    "year = years[index]"
   ]
  },
  {
   "cell_type": "code",
   "execution_count": null,
   "metadata": {},
   "outputs": [],
   "source": [
    "year"
   ]
  },
  {
   "cell_type": "code",
   "execution_count": null,
   "metadata": {},
   "outputs": [],
   "source": []
  },
  {
   "cell_type": "code",
   "execution_count": null,
   "metadata": {},
   "outputs": [],
   "source": []
  },
  {
   "cell_type": "code",
   "execution_count": null,
   "metadata": {},
   "outputs": [],
   "source": []
  },
  {
   "cell_type": "code",
   "execution_count": null,
   "metadata": {},
   "outputs": [],
   "source": []
  },
  {
   "cell_type": "code",
   "execution_count": null,
   "metadata": {},
   "outputs": [],
   "source": []
  },
  {
   "cell_type": "code",
   "execution_count": null,
   "metadata": {},
   "outputs": [],
   "source": [
    "https://dash.plotly.com/interactive-graphing"
   ]
  }
 ],
 "metadata": {
  "kernelspec": {
   "display_name": "real-fast",
   "language": "python",
   "name": "python3"
  },
  "language_info": {
   "codemirror_mode": {
    "name": "ipython",
    "version": 3
   },
   "file_extension": ".py",
   "mimetype": "text/x-python",
   "name": "python",
   "nbconvert_exporter": "python",
   "pygments_lexer": "ipython3",
   "version": "3.8.4"
  },
  "orig_nbformat": 4
 },
 "nbformat": 4,
 "nbformat_minor": 2
}
